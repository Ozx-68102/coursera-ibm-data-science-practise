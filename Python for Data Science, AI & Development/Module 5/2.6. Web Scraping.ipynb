{
 "cells": [
  {
   "metadata": {},
   "cell_type": "markdown",
   "source": "# Web Scraping",
   "id": "efc5b629c931c977"
  },
  {
   "metadata": {},
   "cell_type": "markdown",
   "source": "<p>For this lab, we are going to be using Python and several Python libraries. Some of these libraries might be installed in your lab environment or in SN Labs. Others may need to be installed by you. The cells below will install these libraries when executed.</p>",
   "id": "1845b9fad3144e46"
  },
  {
   "metadata": {
    "ExecuteTime": {
     "end_time": "2025-06-21T15:30:03.968297Z",
     "start_time": "2025-06-21T15:30:01.443647Z"
    }
   },
   "cell_type": "code",
   "source": [
    "# %pip install requests\n",
    "%pip install html5lib\n",
    "%pip install bs4\n",
    "# or\n",
    "# !pip install requests\n",
    "# !pip install html5lib\n",
    "# !pip install bs4"
   ],
   "id": "180473c1045925c5",
   "outputs": [
    {
     "name": "stdout",
     "output_type": "stream",
     "text": [
      "Collecting html5lib\n",
      "  Using cached html5lib-1.1-py2.py3-none-any.whl.metadata (16 kB)\n",
      "Requirement already satisfied: six>=1.9 in d:\\python\\python313\\lib\\site-packages (from html5lib) (1.17.0)\n",
      "Requirement already satisfied: webencodings in d:\\python\\python313\\lib\\site-packages (from html5lib) (0.5.1)\n",
      "Using cached html5lib-1.1-py2.py3-none-any.whl (112 kB)\n",
      "Installing collected packages: html5lib\n",
      "Successfully installed html5lib-1.1\n",
      "Note: you may need to restart the kernel to use updated packages.\n",
      "Collecting bs4\n",
      "  Using cached bs4-0.0.2-py2.py3-none-any.whl.metadata (411 bytes)\n",
      "Requirement already satisfied: beautifulsoup4 in d:\\python\\python313\\lib\\site-packages (from bs4) (4.13.4)\n",
      "Collecting soupsieve>1.2 (from beautifulsoup4->bs4)\n",
      "  Using cached soupsieve-2.7-py3-none-any.whl.metadata (4.6 kB)\n",
      "Collecting typing-extensions>=4.0.0 (from beautifulsoup4->bs4)\n",
      "  Using cached typing_extensions-4.14.0-py3-none-any.whl.metadata (3.0 kB)\n",
      "Using cached bs4-0.0.2-py2.py3-none-any.whl (1.2 kB)\n",
      "Using cached soupsieve-2.7-py3-none-any.whl (36 kB)\n",
      "Using cached typing_extensions-4.14.0-py3-none-any.whl (43 kB)\n",
      "Installing collected packages: typing-extensions, soupsieve, bs4\n",
      "\n",
      "   ---------------------------------------- 3/3 [bs4]\n",
      "\n",
      "Successfully installed bs4-0.0.2 soupsieve-2.7 typing-extensions-4.14.0\n",
      "Note: you may need to restart the kernel to use updated packages.\n"
     ]
    }
   ],
   "execution_count": 1
  },
  {
   "metadata": {},
   "cell_type": "markdown",
   "source": "<p><b>Note: After running the above code cell, restart the kernel and don't run the above code cell after restarting the kernel.</b></p>",
   "id": "60a8a67e8d575bbc"
  },
  {
   "metadata": {},
   "cell_type": "markdown",
   "source": "<p>Import the required modules and functions.</p>",
   "id": "ac48ac64f0232216"
  },
  {
   "metadata": {
    "ExecuteTime": {
     "end_time": "2025-06-21T15:30:04.043596Z",
     "start_time": "2025-06-21T15:30:03.974158Z"
    }
   },
   "cell_type": "code",
   "source": "from bs4 import BeautifulSoup",
   "id": "57b4a56e001dd9ae",
   "outputs": [],
   "execution_count": 2
  },
  {
   "metadata": {},
   "cell_type": "markdown",
   "source": "## BeautifulSoup Object",
   "id": "57ce79e52f2c1079"
  },
  {
   "metadata": {},
   "cell_type": "markdown",
   "source": "<p>Beautiful Soup is a Python library for pulling data out of HTML and XML files, we will focus on HTML files. This is accomplished by representing the HTML as a set of objects with methods used to parse the HTML. We can navigate the HTML as a tree, and/or filter out what we are looking for.</p>",
   "id": "b846a69ea478c615"
  },
  {
   "metadata": {},
   "cell_type": "markdown",
   "source": "<p>Consider the following HTML:</p>",
   "id": "50007f519039f3c"
  },
  {
   "metadata": {
    "ExecuteTime": {
     "end_time": "2025-06-21T15:30:04.135163Z",
     "start_time": "2025-06-21T15:30:04.130692Z"
    }
   },
   "cell_type": "code",
   "source": [
    "%%html\n",
    "<!DOCTYPE html>\n",
    "<html>\n",
    "<head>\n",
    "<title>Page Title</title>\n",
    "</head>\n",
    "<body>\n",
    "<h3><b id=\"boldest\">Lebron James</b></h3>\n",
    "<p> Salary: $ 92,000,000 </p>\n",
    "<h3> Stephen Curry</h3>\n",
    "<p> Salary: $85,000, 000 </p>\n",
    "<h3> Kevin Durant </h3>\n",
    "<p> Salary: $73,200, 000</p>\n",
    "</body>\n",
    "</html>"
   ],
   "id": "4d3214574a387c23",
   "outputs": [
    {
     "data": {
      "text/plain": [
       "<IPython.core.display.HTML object>"
      ],
      "text/html": [
       "<!DOCTYPE html>\n",
       "<html>\n",
       "<head>\n",
       "<title>Page Title</title>\n",
       "</head>\n",
       "<body>\n",
       "<h3><b id=\"boldest\">Lebron James</b></h3>\n",
       "<p> Salary: $ 92,000,000 </p>\n",
       "<h3> Stephen Curry</h3>\n",
       "<p> Salary: $85,000, 000 </p>\n",
       "<h3> Kevin Durant </h3>\n",
       "<p> Salary: $73,200, 000</p>\n",
       "</body>\n",
       "</html>\n"
      ]
     },
     "metadata": {},
     "output_type": "display_data"
    }
   ],
   "execution_count": 3
  },
  {
   "metadata": {},
   "cell_type": "markdown",
   "source": "<p>We can store it as a string in the variable HTML:</p>",
   "id": "3c210543a203f230"
  },
  {
   "metadata": {
    "ExecuteTime": {
     "end_time": "2025-06-21T15:30:04.147112Z",
     "start_time": "2025-06-21T15:30:04.144448Z"
    }
   },
   "cell_type": "code",
   "source": "html = \"<!DOCTYPE html><html><head><title>Page Title</title></head><body><h3><b id=\\\"boldest\\\">Lebron James</b></h3><p>Salary: $ 92,000,000 </p><h3>Stephen Curry</h3><p> Salary: $85,000,000</p><h3>Kevin Durant</h3><p> Salary: $73,200,000</p></body></html>\"",
   "id": "cafd103f6be8ea8d",
   "outputs": [],
   "execution_count": 4
  },
  {
   "metadata": {},
   "cell_type": "markdown",
   "source": "<p>To parse a document, pass it into the <code>BeautifulSoup</code> constructor. The <code>BeautifulSoup</code> object represents the document as a nested data structure:</p>",
   "id": "8f0daeea77dd78db"
  },
  {
   "metadata": {
    "ExecuteTime": {
     "end_time": "2025-06-21T15:30:04.174125Z",
     "start_time": "2025-06-21T15:30:04.170219Z"
    }
   },
   "cell_type": "code",
   "source": "bs = BeautifulSoup(html, \"html5lib\")",
   "id": "5fa9b38636d8f68b",
   "outputs": [],
   "execution_count": 5
  },
  {
   "metadata": {},
   "cell_type": "markdown",
   "source": "<p>First, the document is converted to Unicode (similar to ASCII) and HTML entities are converted to Unicode characters. Beautiful Soup transforms a complex HTML document into a complex tree of Python objects. The <code>BeautifulSoup</code> object can create other types of objects. In this lab, we will cover <code>BeautifulSoup</code> and <code>Tag</code> objects, that for the purposes of this lab are identical. Finally, we will look at <code>NavigableString</code> objects.</p>",
   "id": "bcfc17fbd2b39ac1"
  },
  {
   "metadata": {},
   "cell_type": "markdown",
   "source": "<p>We can use the method <code>prettify()</code> to display the HTML in the nested structure:</p>",
   "id": "d615f8b8601c6846"
  },
  {
   "metadata": {
    "ExecuteTime": {
     "end_time": "2025-06-21T15:30:04.187148Z",
     "start_time": "2025-06-21T15:30:04.183679Z"
    }
   },
   "cell_type": "code",
   "source": "bs.prettify()",
   "id": "9b673b11e9072a8a",
   "outputs": [
    {
     "data": {
      "text/plain": [
       "'<!DOCTYPE html>\\n<html>\\n <head>\\n  <title>\\n   Page Title\\n  </title>\\n </head>\\n <body>\\n  <h3>\\n   <b id=\"boldest\">\\n    Lebron James\\n   </b>\\n  </h3>\\n  <p>\\n   Salary: $ 92,000,000\\n  </p>\\n  <h3>\\n   Stephen Curry\\n  </h3>\\n  <p>\\n   Salary: $85,000,000\\n  </p>\\n  <h3>\\n   Kevin Durant\\n  </h3>\\n  <p>\\n   Salary: $73,200,000\\n  </p>\\n </body>\\n</html>\\n'"
      ]
     },
     "execution_count": 6,
     "metadata": {},
     "output_type": "execute_result"
    }
   ],
   "execution_count": 6
  },
  {
   "metadata": {},
   "cell_type": "markdown",
   "source": "### Tags",
   "id": "e2671e0f86329bbb"
  },
  {
   "metadata": {},
   "cell_type": "markdown",
   "source": "<p>Let's say we want the  title of the page and the name of the top paid player. We can use the <code>Tag</code>. The <code>Tag</code> object corresponds to an HTML tag in the original document, for example, the tag title.</p>",
   "id": "21a83828748d1e1a"
  },
  {
   "metadata": {
    "ExecuteTime": {
     "end_time": "2025-06-21T15:30:04.219246Z",
     "start_time": "2025-06-21T15:30:04.215759Z"
    }
   },
   "cell_type": "code",
   "source": [
    "tags = bs.title\n",
    "tags"
   ],
   "id": "4ef33773ce5f96b7",
   "outputs": [
    {
     "data": {
      "text/plain": [
       "<title>Page Title</title>"
      ]
     },
     "execution_count": 7,
     "metadata": {},
     "output_type": "execute_result"
    }
   ],
   "execution_count": 7
  },
  {
   "metadata": {},
   "cell_type": "markdown",
   "source": "<p>we can see the tag type <code>bs4.element.Tag</code>.</p>",
   "id": "f01b84119361b59a"
  },
  {
   "metadata": {
    "ExecuteTime": {
     "end_time": "2025-06-21T15:30:04.233519Z",
     "start_time": "2025-06-21T15:30:04.230456Z"
    }
   },
   "cell_type": "code",
   "source": "type(tags)",
   "id": "59cfac2b2a89bb0e",
   "outputs": [
    {
     "data": {
      "text/plain": [
       "bs4.element.Tag"
      ]
     },
     "execution_count": 8,
     "metadata": {},
     "output_type": "execute_result"
    }
   ],
   "execution_count": 8
  },
  {
   "metadata": {},
   "cell_type": "markdown",
   "source": "<p>If there is more than one <code>Tag</code> with the same name, the first element with that <code>Tag</code> name is called. This corresponds to the most paid player:</p>",
   "id": "fe9eb39138fee47a"
  },
  {
   "metadata": {
    "ExecuteTime": {
     "end_time": "2025-06-21T15:30:04.270096Z",
     "start_time": "2025-06-21T15:30:04.266383Z"
    }
   },
   "cell_type": "code",
   "source": [
    "tags = bs.h3\n",
    "tags"
   ],
   "id": "b31b1fce66f43e7f",
   "outputs": [
    {
     "data": {
      "text/plain": [
       "<h3><b id=\"boldest\">Lebron James</b></h3>"
      ]
     },
     "execution_count": 9,
     "metadata": {},
     "output_type": "execute_result"
    }
   ],
   "execution_count": 9
  },
  {
   "metadata": {},
   "cell_type": "markdown",
   "source": "<p>Enclosed in the bold attribute <code>b</code>, it helps to use the tree representation. We can navigate down the tree using the child attribute to get the name.</p>",
   "id": "5845b7a2faaca42e"
  },
  {
   "metadata": {},
   "cell_type": "markdown",
   "source": "### Children, Parents, and Siblings",
   "id": "25838c02b4efc6f6"
  },
  {
   "metadata": {},
   "cell_type": "markdown",
   "source": "<p>As stated above, the <code>Tag</code> object is a tree of objects. We can access the child of the tag or navigate down the branch as follows:</p>",
   "id": "53b86127b1746857"
  },
  {
   "metadata": {
    "ExecuteTime": {
     "end_time": "2025-06-21T15:30:04.301017Z",
     "start_time": "2025-06-21T15:30:04.297409Z"
    }
   },
   "cell_type": "code",
   "source": [
    "tags_child = tags.b\n",
    "tags_child"
   ],
   "id": "60b5300c13406242",
   "outputs": [
    {
     "data": {
      "text/plain": [
       "<b id=\"boldest\">Lebron James</b>"
      ]
     },
     "execution_count": 10,
     "metadata": {},
     "output_type": "execute_result"
    }
   ],
   "execution_count": 10
  },
  {
   "metadata": {},
   "cell_type": "markdown",
   "source": "<p>You can access the parent with the <code>parent</code>.</p>",
   "id": "fae3d728a7aee01b"
  },
  {
   "metadata": {
    "ExecuteTime": {
     "end_time": "2025-06-21T15:30:04.322222Z",
     "start_time": "2025-06-21T15:30:04.319028Z"
    }
   },
   "cell_type": "code",
   "source": [
    "tags_parent = tags_child.parent\n",
    "tags_parent"
   ],
   "id": "45b76f85980df815",
   "outputs": [
    {
     "data": {
      "text/plain": [
       "<h3><b id=\"boldest\">Lebron James</b></h3>"
      ]
     },
     "execution_count": 11,
     "metadata": {},
     "output_type": "execute_result"
    }
   ],
   "execution_count": 11
  },
  {
   "metadata": {},
   "cell_type": "markdown",
   "source": "<p>this is identical to:</p>",
   "id": "12728fcd5d14a54e"
  },
  {
   "metadata": {
    "ExecuteTime": {
     "end_time": "2025-06-21T15:30:04.342627Z",
     "start_time": "2025-06-21T15:30:04.339262Z"
    }
   },
   "cell_type": "code",
   "source": "tags",
   "id": "722f86cfeaeee417",
   "outputs": [
    {
     "data": {
      "text/plain": [
       "<h3><b id=\"boldest\">Lebron James</b></h3>"
      ]
     },
     "execution_count": 12,
     "metadata": {},
     "output_type": "execute_result"
    }
   ],
   "execution_count": 12
  },
  {
   "metadata": {},
   "cell_type": "markdown",
   "source": "<p><code>tags</code> parent is the <code>body</code> element.</p>",
   "id": "8c8c598caa9393f8"
  },
  {
   "metadata": {
    "ExecuteTime": {
     "end_time": "2025-06-21T15:30:04.378623Z",
     "start_time": "2025-06-21T15:30:04.374556Z"
    }
   },
   "cell_type": "code",
   "source": "tags.parent",
   "id": "c889e71370d428ec",
   "outputs": [
    {
     "data": {
      "text/plain": [
       "<body><h3><b id=\"boldest\">Lebron James</b></h3><p>Salary: $ 92,000,000 </p><h3>Stephen Curry</h3><p> Salary: $85,000,000</p><h3>Kevin Durant</h3><p> Salary: $73,200,000</p></body>"
      ]
     },
     "execution_count": 13,
     "metadata": {},
     "output_type": "execute_result"
    }
   ],
   "execution_count": 13
  },
  {
   "metadata": {},
   "cell_type": "markdown",
   "source": "<p><code>tags</code> sibling is the <code>paragraph</code> element.</p>",
   "id": "576519b1a9b772f7"
  },
  {
   "metadata": {
    "ExecuteTime": {
     "end_time": "2025-06-21T15:30:04.411325Z",
     "start_time": "2025-06-21T15:30:04.408059Z"
    }
   },
   "cell_type": "code",
   "source": [
    "sibling1 = tags.next_sibling\n",
    "sibling1"
   ],
   "id": "befa46dd04470277",
   "outputs": [
    {
     "data": {
      "text/plain": [
       "<p>Salary: $ 92,000,000 </p>"
      ]
     },
     "execution_count": 14,
     "metadata": {},
     "output_type": "execute_result"
    }
   ],
   "execution_count": 14
  },
  {
   "metadata": {},
   "cell_type": "markdown",
   "source": "<p><code>sibling2</code> is the <code>header</code> element, which is also a sibling of both <code>sibling1</code> and <code>tags</code>.</p>",
   "id": "f7bf7f8c3ae76d6b"
  },
  {
   "metadata": {
    "ExecuteTime": {
     "end_time": "2025-06-21T15:30:04.455979Z",
     "start_time": "2025-06-21T15:30:04.452148Z"
    }
   },
   "cell_type": "code",
   "source": [
    "sibling2 = sibling1.next_sibling\n",
    "sibling2"
   ],
   "id": "8a96d206342ff1f1",
   "outputs": [
    {
     "data": {
      "text/plain": [
       "<h3>Stephen Curry</h3>"
      ]
     },
     "execution_count": 15,
     "metadata": {},
     "output_type": "execute_result"
    }
   ],
   "execution_count": 15
  },
  {
   "metadata": {},
   "cell_type": "markdown",
   "source": "### Exercise: `next_sibling`",
   "id": "9f55f8cfcf9a4bac"
  },
  {
   "metadata": {},
   "cell_type": "markdown",
   "source": "<p>Use the object <code>sibling2</code> and the method <code>next_sibling</code> to find the salary of Stephen Curry:</p>",
   "id": "b5bcca5cd862024c"
  },
  {
   "metadata": {
    "ExecuteTime": {
     "end_time": "2025-06-21T15:30:04.475112Z",
     "start_time": "2025-06-21T15:30:04.471991Z"
    }
   },
   "cell_type": "code",
   "source": "sibling2.next_sibling",
   "id": "3a973b6588aa01b4",
   "outputs": [
    {
     "data": {
      "text/plain": [
       "<p> Salary: $85,000,000</p>"
      ]
     },
     "execution_count": 16,
     "metadata": {},
     "output_type": "execute_result"
    }
   ],
   "execution_count": 16
  },
  {
   "metadata": {},
   "cell_type": "markdown",
   "source": "### HTML Attributes",
   "id": "ca453fd0055daafd"
  },
  {
   "metadata": {},
   "cell_type": "markdown",
   "source": "<p>If the tag has attributes, the tag <code>id=\"boldest\"</code> has an attribute <code>id</code> whose value is <code>boldest</code>. You can access a tag's attributes by treating the tag like a dictionary:</p>",
   "id": "d3eab5b75df8b246"
  },
  {
   "metadata": {
    "ExecuteTime": {
     "end_time": "2025-06-21T15:30:04.494802Z",
     "start_time": "2025-06-21T15:30:04.491121Z"
    }
   },
   "cell_type": "code",
   "source": "tags_child[\"id\"]",
   "id": "a5195061e106832c",
   "outputs": [
    {
     "data": {
      "text/plain": [
       "'boldest'"
      ]
     },
     "execution_count": 17,
     "metadata": {},
     "output_type": "execute_result"
    }
   ],
   "execution_count": 17
  },
  {
   "metadata": {},
   "cell_type": "markdown",
   "source": "<p>You can access that dictionary directly as <code>attrs</code>:</p>",
   "id": "b6e660573bf0288"
  },
  {
   "metadata": {
    "ExecuteTime": {
     "end_time": "2025-06-21T15:30:04.513547Z",
     "start_time": "2025-06-21T15:30:04.510291Z"
    }
   },
   "cell_type": "code",
   "source": "tags_child.attrs",
   "id": "551635c0c67125ba",
   "outputs": [
    {
     "data": {
      "text/plain": [
       "{'id': 'boldest'}"
      ]
     },
     "execution_count": 18,
     "metadata": {},
     "output_type": "execute_result"
    }
   ],
   "execution_count": 18
  },
  {
   "metadata": {},
   "cell_type": "markdown",
   "source": "<p>You can also work with Multi-valued attributes. Check out <a href=\"https://www.crummy.com/software/BeautifulSoup/bs4/doc/\">Beautiful Soup Documentation</a> for more.</p>",
   "id": "ece93016c9fbcd92"
  },
  {
   "metadata": {},
   "cell_type": "markdown",
   "source": "<p>We can also obtain the content of the attribute of the <code>tag</code> using the Python <code>get()</code> method.</p>",
   "id": "16e8b6c894658af3"
  },
  {
   "metadata": {
    "ExecuteTime": {
     "end_time": "2025-06-21T15:30:04.535176Z",
     "start_time": "2025-06-21T15:30:04.531762Z"
    }
   },
   "cell_type": "code",
   "source": "tags_child.get(\"id\")",
   "id": "b8eb59afe26981dd",
   "outputs": [
    {
     "data": {
      "text/plain": [
       "'boldest'"
      ]
     },
     "execution_count": 19,
     "metadata": {},
     "output_type": "execute_result"
    }
   ],
   "execution_count": 19
  },
  {
   "metadata": {},
   "cell_type": "markdown",
   "source": "### Navigable String",
   "id": "40f7d340159ae666"
  },
  {
   "metadata": {},
   "cell_type": "markdown",
   "source": "<p>A string corresponds to a bit of text or content within a tag. Beautiful Soup uses the <code>NavigableString</code> class to contain this text. In our HTML we can obtain the name of the first player by extracting the string of the <code>Tag</code> object <code>tag_child</code> as follows:</p>",
   "id": "ac2a1c632083c7d9"
  },
  {
   "metadata": {
    "ExecuteTime": {
     "end_time": "2025-06-21T15:30:04.557061Z",
     "start_time": "2025-06-21T15:30:04.553467Z"
    }
   },
   "cell_type": "code",
   "source": [
    "tags_string = tags_child.string\n",
    "tags_string"
   ],
   "id": "40a3cfc4717e7a4d",
   "outputs": [
    {
     "data": {
      "text/plain": [
       "'Lebron James'"
      ]
     },
     "execution_count": 20,
     "metadata": {},
     "output_type": "execute_result"
    }
   ],
   "execution_count": 20
  },
  {
   "metadata": {},
   "cell_type": "markdown",
   "source": "<p>we can verify the type is Navigable String.</p>",
   "id": "21fa233ba44b916a"
  },
  {
   "metadata": {
    "ExecuteTime": {
     "end_time": "2025-06-21T15:30:04.574228Z",
     "start_time": "2025-06-21T15:30:04.570916Z"
    }
   },
   "cell_type": "code",
   "source": "type(tags_string)",
   "id": "db2d9fd95090563",
   "outputs": [
    {
     "data": {
      "text/plain": [
       "bs4.element.NavigableString"
      ]
     },
     "execution_count": 21,
     "metadata": {},
     "output_type": "execute_result"
    }
   ],
   "execution_count": 21
  },
  {
   "metadata": {},
   "cell_type": "markdown",
   "source": "<p>A NavigableString is similar to a Python string or Unicode string. To be more precise, the main difference is that it also supports some <code>BeautifulSoup</code> features. We can convert it to string object in Python:</p>",
   "id": "8e62bb325c9477ac"
  },
  {
   "metadata": {
    "ExecuteTime": {
     "end_time": "2025-06-21T15:30:04.593354Z",
     "start_time": "2025-06-21T15:30:04.590256Z"
    }
   },
   "cell_type": "code",
   "source": [
    "unicode_string = str(tags_string)\n",
    "unicode_string"
   ],
   "id": "47db869004828ca6",
   "outputs": [
    {
     "data": {
      "text/plain": [
       "'Lebron James'"
      ]
     },
     "execution_count": 22,
     "metadata": {},
     "output_type": "execute_result"
    }
   ],
   "execution_count": 22
  },
  {
   "metadata": {},
   "cell_type": "markdown",
   "source": "### Filter",
   "id": "cf58b5ad3822d913"
  },
  {
   "metadata": {},
   "cell_type": "markdown",
   "source": "<p>Filters allow you to find complex patterns, the simplest filter is a string. In this section we will pass a string to a different filter method and Beautiful Soup will perform a match against that exact string. Consider the following HTML of rocket launches:</p>",
   "id": "20344d2bc0953d70"
  },
  {
   "metadata": {
    "ExecuteTime": {
     "end_time": "2025-06-21T15:30:04.623497Z",
     "start_time": "2025-06-21T15:30:04.618622Z"
    }
   },
   "cell_type": "code",
   "source": [
    "%%html\n",
    "<table>\n",
    "  <tr>\n",
    "    <td id=\"flight\" >Flight No</td>\n",
    "    <td>Launch site</td>\n",
    "    <td>Payload mass</td>\n",
    "   </tr>\n",
    "  <tr>\n",
    "    <td>1</td>\n",
    "    <td><a href=\"https://en.wikipedia.org/wiki/Florida\">Florida</a></td>\n",
    "    <td>300 kg</td>\n",
    "  </tr>\n",
    "  <tr>\n",
    "    <td>2</td>\n",
    "    <td><a href=\"https://en.wikipedia.org/wiki/Texas\">Texas</a></td>\n",
    "    <td>94 kg</td>\n",
    "  </tr>\n",
    "  <tr>\n",
    "    <td>3</td>\n",
    "    <td><a href=\"https://en.wikipedia.org/wiki/Florida\">Florida<a> </td>\n",
    "    <td>80 kg</td>\n",
    "  </tr>\n",
    "</table>"
   ],
   "id": "d60f92d87269b1e6",
   "outputs": [
    {
     "data": {
      "text/plain": [
       "<IPython.core.display.HTML object>"
      ],
      "text/html": [
       "<table>\n",
       "  <tr>\n",
       "    <td id=\"flight\" >Flight No</td>\n",
       "    <td>Launch site</td>\n",
       "    <td>Payload mass</td>\n",
       "   </tr>\n",
       "  <tr>\n",
       "    <td>1</td>\n",
       "    <td><a href=\"https://en.wikipedia.org/wiki/Florida\">Florida</a></td>\n",
       "    <td>300 kg</td>\n",
       "  </tr>\n",
       "  <tr>\n",
       "    <td>2</td>\n",
       "    <td><a href=\"https://en.wikipedia.org/wiki/Texas\">Texas</a></td>\n",
       "    <td>94 kg</td>\n",
       "  </tr>\n",
       "  <tr>\n",
       "    <td>3</td>\n",
       "    <td><a href=\"https://en.wikipedia.org/wiki/Florida\">Florida<a> </td>\n",
       "    <td>80 kg</td>\n",
       "  </tr>\n",
       "</table>\n"
      ]
     },
     "metadata": {},
     "output_type": "display_data"
    }
   ],
   "execution_count": 23
  },
  {
   "metadata": {},
   "cell_type": "markdown",
   "source": "<p>We can store it as a string in the variable <code>table</code>:</p>",
   "id": "4b43bc9dd0eb18b8"
  },
  {
   "metadata": {
    "ExecuteTime": {
     "end_time": "2025-06-21T15:30:04.648553Z",
     "start_time": "2025-06-21T15:30:04.645076Z"
    }
   },
   "cell_type": "code",
   "source": [
    "table = \"<table><tr><td id=\\\"flight\\\" >Flight No</td><td>Launch site</td> <td>Payload mass</td></tr><tr><td>1</td><td><a href=\\\"https://en.wikipedia.org/wiki/Florida\\\">Florida</a></td><td>300 kg</td></tr><tr><td>2</td><td><a href=\\\"https://en.wikipedia.org/wiki/Texas\\\">Texas</a></td><td>94 kg</td></tr><tr><td>3</td><td><a href=\\\"https://en.wikipedia.org/wiki/Florida\\\">Florida<a> </td><td>80 kg</td></tr></table>\"\n",
    "\n",
    "bs_table = BeautifulSoup(table, \"html5lib\")"
   ],
   "id": "b0e0cd94ac22311",
   "outputs": [],
   "execution_count": 24
  },
  {
   "metadata": {},
   "cell_type": "markdown",
   "source": "### `Find_all()`",
   "id": "5c190e75f99320b2"
  },
  {
   "metadata": {},
   "cell_type": "markdown",
   "source": "<p>The <code>find_all()</code> method looks through a tag's descendants and retrieves all descendants that match your filters.</p>",
   "id": "27cc8027246c9e1e"
  },
  {
   "metadata": {},
   "cell_type": "markdown",
   "source": "<p>The Method signature for <code>find_all(name, attrs, recursive, string, limit, **kwargs)</code>.</p>",
   "id": "c593dbaa8055df99"
  },
  {
   "metadata": {},
   "cell_type": "markdown",
   "source": "#### Name",
   "id": "58aa6ccb0ee4ec40"
  },
  {
   "metadata": {},
   "cell_type": "markdown",
   "source": "<p>When we set the <code>name</code> parameter to a tag name, the method will extract all the tags with that name and its children.</p>",
   "id": "2375fc86768608b2"
  },
  {
   "metadata": {
    "ExecuteTime": {
     "end_time": "2025-06-21T15:30:04.664541Z",
     "start_time": "2025-06-21T15:30:04.660615Z"
    }
   },
   "cell_type": "code",
   "source": [
    "table_rows = bs_table.find_all(\"tr\")\n",
    "table_rows"
   ],
   "id": "64fdac53b910b5c2",
   "outputs": [
    {
     "data": {
      "text/plain": [
       "[<tr><td id=\"flight\">Flight No</td><td>Launch site</td> <td>Payload mass</td></tr>,\n",
       " <tr><td>1</td><td><a href=\"https://en.wikipedia.org/wiki/Florida\">Florida</a></td><td>300 kg</td></tr>,\n",
       " <tr><td>2</td><td><a href=\"https://en.wikipedia.org/wiki/Texas\">Texas</a></td><td>94 kg</td></tr>,\n",
       " <tr><td>3</td><td><a href=\"https://en.wikipedia.org/wiki/Florida\">Florida</a><a> </a></td><td>80 kg</td></tr>]"
      ]
     },
     "execution_count": 25,
     "metadata": {},
     "output_type": "execute_result"
    }
   ],
   "execution_count": 25
  },
  {
   "metadata": {},
   "cell_type": "markdown",
   "source": "<p>The result is a Python iterable just like a list, each element is a <code>tag</code> object:</p>",
   "id": "1b6b78ff197aa843"
  },
  {
   "metadata": {
    "ExecuteTime": {
     "end_time": "2025-06-21T15:30:04.687885Z",
     "start_time": "2025-06-21T15:30:04.684640Z"
    }
   },
   "cell_type": "code",
   "source": [
    "table_rows_first = table_rows[0]\n",
    "table_rows_first"
   ],
   "id": "5e1635b29c44c3e4",
   "outputs": [
    {
     "data": {
      "text/plain": [
       "<tr><td id=\"flight\">Flight No</td><td>Launch site</td> <td>Payload mass</td></tr>"
      ]
     },
     "execution_count": 26,
     "metadata": {},
     "output_type": "execute_result"
    }
   ],
   "execution_count": 26
  },
  {
   "metadata": {},
   "cell_type": "markdown",
   "source": "<p>The type is <code>tag</code>.</p>",
   "id": "b6a8dd782e878413"
  },
  {
   "metadata": {
    "ExecuteTime": {
     "end_time": "2025-06-21T15:30:04.714352Z",
     "start_time": "2025-06-21T15:30:04.710435Z"
    }
   },
   "cell_type": "code",
   "source": "type(table_rows_first)",
   "id": "2670faaf8bbedc24",
   "outputs": [
    {
     "data": {
      "text/plain": [
       "bs4.element.Tag"
      ]
     },
     "execution_count": 27,
     "metadata": {},
     "output_type": "execute_result"
    }
   ],
   "execution_count": 27
  },
  {
   "metadata": {},
   "cell_type": "markdown",
   "source": "<p>We can obtain the child.</p>",
   "id": "270b0363c44a5efc"
  },
  {
   "metadata": {
    "ExecuteTime": {
     "end_time": "2025-06-21T15:30:04.746046Z",
     "start_time": "2025-06-21T15:30:04.742769Z"
    }
   },
   "cell_type": "code",
   "source": "table_rows_first.td",
   "id": "4b95eac0019a42a2",
   "outputs": [
    {
     "data": {
      "text/plain": [
       "<td id=\"flight\">Flight No</td>"
      ]
     },
     "execution_count": 28,
     "metadata": {},
     "output_type": "execute_result"
    }
   ],
   "execution_count": 28
  },
  {
   "metadata": {},
   "cell_type": "markdown",
   "source": "<p>If we iterate through the list, each element corresponds to a row in the table:</p>",
   "id": "7f48f9789b892bac"
  },
  {
   "metadata": {
    "ExecuteTime": {
     "end_time": "2025-06-21T15:30:04.780124Z",
     "start_time": "2025-06-21T15:30:04.777431Z"
    }
   },
   "cell_type": "code",
   "source": [
    "for i, row in enumerate(table_rows):\n",
    "    print(f\"Row {i} is {row}.\")"
   ],
   "id": "632f22257ecf7143",
   "outputs": [
    {
     "name": "stdout",
     "output_type": "stream",
     "text": [
      "Row 0 is <tr><td id=\"flight\">Flight No</td><td>Launch site</td> <td>Payload mass</td></tr>.\n",
      "Row 1 is <tr><td>1</td><td><a href=\"https://en.wikipedia.org/wiki/Florida\">Florida</a></td><td>300 kg</td></tr>.\n",
      "Row 2 is <tr><td>2</td><td><a href=\"https://en.wikipedia.org/wiki/Texas\">Texas</a></td><td>94 kg</td></tr>.\n",
      "Row 3 is <tr><td>3</td><td><a href=\"https://en.wikipedia.org/wiki/Florida\">Florida</a><a> </a></td><td>80 kg</td></tr>.\n"
     ]
    }
   ],
   "execution_count": 29
  },
  {
   "metadata": {},
   "cell_type": "markdown",
   "source": "<p>As <code>row</code> is a <code>cell</code> object, we can apply the method <code>find_all</code> to it and extract table cells in the object <code>cells</code> using the tag <code>td</code>, this is all the children with the name <code>td</code>. The result is a list, each element corresponds to a cell and is a <code>Tag</code> object, we can iterate through this list as well. We can extract the content using the <code>string</code> attribute.</p>",
   "id": "6c7eb0cb4e11f489"
  },
  {
   "metadata": {
    "ExecuteTime": {
     "end_time": "2025-06-21T15:30:04.806513Z",
     "start_time": "2025-06-21T15:30:04.803548Z"
    }
   },
   "cell_type": "code",
   "source": [
    "for i, row in enumerate(table_rows):\n",
    "    print(f\"row: {i}\")\n",
    "    cells = row.find_all(\"td\")\n",
    "    for j, cell in enumerate(cells):\n",
    "        print(f\"Column {j} is {cell}.\")"
   ],
   "id": "6b152e42daec99f2",
   "outputs": [
    {
     "name": "stdout",
     "output_type": "stream",
     "text": [
      "row: 0\n",
      "Column 0 is <td id=\"flight\">Flight No</td>.\n",
      "Column 1 is <td>Launch site</td>.\n",
      "Column 2 is <td>Payload mass</td>.\n",
      "row: 1\n",
      "Column 0 is <td>1</td>.\n",
      "Column 1 is <td><a href=\"https://en.wikipedia.org/wiki/Florida\">Florida</a></td>.\n",
      "Column 2 is <td>300 kg</td>.\n",
      "row: 2\n",
      "Column 0 is <td>2</td>.\n",
      "Column 1 is <td><a href=\"https://en.wikipedia.org/wiki/Texas\">Texas</a></td>.\n",
      "Column 2 is <td>94 kg</td>.\n",
      "row: 3\n",
      "Column 0 is <td>3</td>.\n",
      "Column 1 is <td><a href=\"https://en.wikipedia.org/wiki/Florida\">Florida</a><a> </a></td>.\n",
      "Column 2 is <td>80 kg</td>.\n"
     ]
    }
   ],
   "execution_count": 30
  },
  {
   "metadata": {},
   "cell_type": "markdown",
   "source": "<p>If we use a list we can match against any item in that list.</p>",
   "id": "c746260b02cd7a01"
  },
  {
   "metadata": {
    "ExecuteTime": {
     "end_time": "2025-06-21T15:30:04.844120Z",
     "start_time": "2025-06-21T15:30:04.839939Z"
    }
   },
   "cell_type": "code",
   "source": [
    "list_input = bs_table.find_all(name=[\"tr\", \"td\"])\n",
    "list_input"
   ],
   "id": "fbc9fdf0db2069b",
   "outputs": [
    {
     "data": {
      "text/plain": [
       "[<tr><td id=\"flight\">Flight No</td><td>Launch site</td> <td>Payload mass</td></tr>,\n",
       " <td id=\"flight\">Flight No</td>,\n",
       " <td>Launch site</td>,\n",
       " <td>Payload mass</td>,\n",
       " <tr><td>1</td><td><a href=\"https://en.wikipedia.org/wiki/Florida\">Florida</a></td><td>300 kg</td></tr>,\n",
       " <td>1</td>,\n",
       " <td><a href=\"https://en.wikipedia.org/wiki/Florida\">Florida</a></td>,\n",
       " <td>300 kg</td>,\n",
       " <tr><td>2</td><td><a href=\"https://en.wikipedia.org/wiki/Texas\">Texas</a></td><td>94 kg</td></tr>,\n",
       " <td>2</td>,\n",
       " <td><a href=\"https://en.wikipedia.org/wiki/Texas\">Texas</a></td>,\n",
       " <td>94 kg</td>,\n",
       " <tr><td>3</td><td><a href=\"https://en.wikipedia.org/wiki/Florida\">Florida</a><a> </a></td><td>80 kg</td></tr>,\n",
       " <td>3</td>,\n",
       " <td><a href=\"https://en.wikipedia.org/wiki/Florida\">Florida</a><a> </a></td>,\n",
       " <td>80 kg</td>]"
      ]
     },
     "execution_count": 31,
     "metadata": {},
     "output_type": "execute_result"
    }
   ],
   "execution_count": 31
  },
  {
   "metadata": {},
   "cell_type": "markdown",
   "source": "#### Attributes",
   "id": "5591097e33ea2c4e"
  },
  {
   "metadata": {},
   "cell_type": "markdown",
   "source": "<p>If the argument is not recognized it will be turned into a filter on the tag's attributes. For example with the <code>id</code> argument, Beautiful Soup will filter against each tag's <code>id</code> attribute. For example, the first <code>td</code> elements have a value of <code>id</code> of <code>flight</code>, therefore we can filter based on that <code>id</code> value.</p>",
   "id": "15f4c4234d952461"
  },
  {
   "metadata": {
    "ExecuteTime": {
     "end_time": "2025-06-21T15:30:04.858072Z",
     "start_time": "2025-06-21T15:30:04.854638Z"
    }
   },
   "cell_type": "code",
   "source": "bs_table.find_all(name=\"flight\")",
   "id": "60976c0c28f381b0",
   "outputs": [
    {
     "data": {
      "text/plain": [
       "[]"
      ]
     },
     "execution_count": 32,
     "metadata": {},
     "output_type": "execute_result"
    }
   ],
   "execution_count": 32
  },
  {
   "metadata": {},
   "cell_type": "markdown",
   "source": "<p>We can find all the elements that have links to the Florida Wikipedia page:</p>",
   "id": "77467283ff22a23a"
  },
  {
   "metadata": {
    "ExecuteTime": {
     "end_time": "2025-06-21T15:30:04.883932Z",
     "start_time": "2025-06-21T15:30:04.880619Z"
    }
   },
   "cell_type": "code",
   "source": "bs_table.find_all(href=\"https://en.wikipedia.org/wiki/Florida\")",
   "id": "9fa46b07435e8e2f",
   "outputs": [
    {
     "data": {
      "text/plain": [
       "[<a href=\"https://en.wikipedia.org/wiki/Florida\">Florida</a>,\n",
       " <a href=\"https://en.wikipedia.org/wiki/Florida\">Florida</a>]"
      ]
     },
     "execution_count": 33,
     "metadata": {},
     "output_type": "execute_result"
    }
   ],
   "execution_count": 33
  },
  {
   "metadata": {},
   "cell_type": "markdown",
   "source": "<p>If we set the <code>href</code> attribute to True, regardless of what the value is, the code finds all anchor tags with <code>href</code> value:</p>",
   "id": "98d898bbc8491d43"
  },
  {
   "metadata": {
    "ExecuteTime": {
     "end_time": "2025-06-21T15:30:04.904533Z",
     "start_time": "2025-06-21T15:30:04.901002Z"
    }
   },
   "cell_type": "code",
   "source": "bs_table.find_all(\"a\", href=True)",
   "id": "925c5743eabf8575",
   "outputs": [
    {
     "data": {
      "text/plain": [
       "[<a href=\"https://en.wikipedia.org/wiki/Florida\">Florida</a>,\n",
       " <a href=\"https://en.wikipedia.org/wiki/Texas\">Texas</a>,\n",
       " <a href=\"https://en.wikipedia.org/wiki/Florida\">Florida</a>]"
      ]
     },
     "execution_count": 34,
     "metadata": {},
     "output_type": "execute_result"
    }
   ],
   "execution_count": 34
  },
  {
   "metadata": {},
   "cell_type": "markdown",
   "source": "<p>There are other methods for dealing with attributes and other related methods. Check out the following <a href=\"https://www.crummy.com/software/BeautifulSoup/bs4/doc/\">link</a>.</p>",
   "id": "c2f5cb58c6f21d78"
  },
  {
   "metadata": {},
   "cell_type": "markdown",
   "source": "#### Exercise: `find_all()`",
   "id": "31eba630f6655d5e"
  },
  {
   "metadata": {},
   "cell_type": "markdown",
   "source": "<p>Using the logic above, find all the anchor tags without <code>href</code> value.</p>",
   "id": "86b5387e5ebb105a"
  },
  {
   "metadata": {
    "ExecuteTime": {
     "end_time": "2025-06-21T15:30:04.924737Z",
     "start_time": "2025-06-21T15:30:04.921343Z"
    }
   },
   "cell_type": "code",
   "source": "bs_table.find_all(\"a\", href=False)",
   "id": "64771e257c75b016",
   "outputs": [
    {
     "data": {
      "text/plain": [
       "[<a> </a>]"
      ]
     },
     "execution_count": 35,
     "metadata": {},
     "output_type": "execute_result"
    }
   ],
   "execution_count": 35
  },
  {
   "metadata": {},
   "cell_type": "markdown",
   "source": "<p>Using the soup object <code>bs</code>, find the element with the <code>id</code> attribute content set to <code>\"boldest\"</code>.</p>",
   "id": "cacc01d5bd16760b"
  },
  {
   "metadata": {
    "ExecuteTime": {
     "end_time": "2025-06-21T15:30:04.945650Z",
     "start_time": "2025-06-21T15:30:04.941688Z"
    }
   },
   "cell_type": "code",
   "source": "bs.find_all(id=\"boldest\")",
   "id": "f21081648ddd8066",
   "outputs": [
    {
     "data": {
      "text/plain": [
       "[<b id=\"boldest\">Lebron James</b>]"
      ]
     },
     "execution_count": 36,
     "metadata": {},
     "output_type": "execute_result"
    }
   ],
   "execution_count": 36
  },
  {
   "metadata": {},
   "cell_type": "markdown",
   "source": "#### String",
   "id": "d85b993952fe4996"
  },
  {
   "metadata": {},
   "cell_type": "markdown",
   "source": "<p>With string you can search for strings instead of tags, where we find all the elements with Florida:</p>",
   "id": "9543dd7f79fe4637"
  },
  {
   "metadata": {
    "ExecuteTime": {
     "end_time": "2025-06-21T15:30:04.982432Z",
     "start_time": "2025-06-21T15:30:04.978781Z"
    }
   },
   "cell_type": "code",
   "source": "bs_table.find_all(string=\"Florida\")",
   "id": "1d510367cfbe645c",
   "outputs": [
    {
     "data": {
      "text/plain": [
       "['Florida', 'Florida']"
      ]
     },
     "execution_count": 37,
     "metadata": {},
     "output_type": "execute_result"
    }
   ],
   "execution_count": 37
  },
  {
   "metadata": {},
   "cell_type": "markdown",
   "source": "### `find()`",
   "id": "6048aeb45e837c0e"
  },
  {
   "metadata": {},
   "cell_type": "markdown",
   "source": "<p>The <code>find_all()</code> method scans the entire document looking for results. It’s useful if you are looking for one element, as you can use the <code>find()</code> method to find the first element in the document. Consider the following two tables:</p>",
   "id": "39411a16bff7030a"
  },
  {
   "metadata": {
    "ExecuteTime": {
     "end_time": "2025-06-21T15:30:05.013191Z",
     "start_time": "2025-06-21T15:30:05.009406Z"
    }
   },
   "cell_type": "code",
   "source": [
    "%%html\n",
    "<h3>Rocket Launch </h3>\n",
    "\n",
    "<p>\n",
    "<table class=\"rocket\">\n",
    "  <tr>\n",
    "    <td>Flight No</td>\n",
    "    <td>Launch site</td>\n",
    "    <td>Payload mass</td>\n",
    "  </tr>\n",
    "  <tr>\n",
    "    <td>1</td>\n",
    "    <td>Florida</td>\n",
    "    <td>300 kg</td>\n",
    "  </tr>\n",
    "  <tr>\n",
    "    <td>2</td>\n",
    "    <td>Texas</td>\n",
    "    <td>94 kg</td>\n",
    "  </tr>\n",
    "  <tr>\n",
    "    <td>3</td>\n",
    "    <td>Florida </td>\n",
    "    <td>80 kg</td>\n",
    "  </tr>\n",
    "</table>\n",
    "</p>\n",
    "<p>\n",
    "\n",
    "<h3>Pizza Party</h3>\n",
    "\n",
    "\n",
    "<table class=\"pizza\">\n",
    "  <tr>\n",
    "    <td>Pizza Place</td>\n",
    "    <td>Orders</td>\n",
    "    <td>Slices </td>\n",
    "   </tr>\n",
    "  <tr>\n",
    "    <td>Domino's Pizza</td>\n",
    "    <td>10</td>\n",
    "    <td>100</td>\n",
    "  </tr>\n",
    "  <tr>\n",
    "    <td>Little Caesars</td>\n",
    "    <td>12</td>\n",
    "    <td >144 </td>\n",
    "  </tr>\n",
    "  <tr>\n",
    "    <td>Papa John's </td>\n",
    "    <td>15 </td>\n",
    "    <td>165</td>\n",
    "  </tr>"
   ],
   "id": "5a397ca63f6e1be",
   "outputs": [
    {
     "data": {
      "text/plain": [
       "<IPython.core.display.HTML object>"
      ],
      "text/html": [
       "<h3>Rocket Launch </h3>\n",
       "\n",
       "<p>\n",
       "<table class=\"rocket\">\n",
       "  <tr>\n",
       "    <td>Flight No</td>\n",
       "    <td>Launch site</td>\n",
       "    <td>Payload mass</td>\n",
       "  </tr>\n",
       "  <tr>\n",
       "    <td>1</td>\n",
       "    <td>Florida</td>\n",
       "    <td>300 kg</td>\n",
       "  </tr>\n",
       "  <tr>\n",
       "    <td>2</td>\n",
       "    <td>Texas</td>\n",
       "    <td>94 kg</td>\n",
       "  </tr>\n",
       "  <tr>\n",
       "    <td>3</td>\n",
       "    <td>Florida </td>\n",
       "    <td>80 kg</td>\n",
       "  </tr>\n",
       "</table>\n",
       "</p>\n",
       "<p>\n",
       "\n",
       "<h3>Pizza Party</h3>\n",
       "\n",
       "\n",
       "<table class=\"pizza\">\n",
       "  <tr>\n",
       "    <td>Pizza Place</td>\n",
       "    <td>Orders</td>\n",
       "    <td>Slices </td>\n",
       "   </tr>\n",
       "  <tr>\n",
       "    <td>Domino's Pizza</td>\n",
       "    <td>10</td>\n",
       "    <td>100</td>\n",
       "  </tr>\n",
       "  <tr>\n",
       "    <td>Little Caesars</td>\n",
       "    <td>12</td>\n",
       "    <td >144 </td>\n",
       "  </tr>\n",
       "  <tr>\n",
       "    <td>Papa John's </td>\n",
       "    <td>15 </td>\n",
       "    <td>165</td>\n",
       "  </tr>\n"
      ]
     },
     "metadata": {},
     "output_type": "display_data"
    }
   ],
   "execution_count": 38
  },
  {
   "metadata": {},
   "cell_type": "markdown",
   "source": "<p>We store the HTML as a Python string and assign <code>table2</code>:</p>",
   "id": "8db241036e1fb0a5"
  },
  {
   "metadata": {
    "ExecuteTime": {
     "end_time": "2025-06-21T15:30:05.030740Z",
     "start_time": "2025-06-21T15:30:05.028425Z"
    }
   },
   "cell_type": "code",
   "source": "table2 = \"<h3>Rocket Launch </h3><p><table class=\\\"rocket\\\"><tr><td>Flight No</td><td>Launch site</td><td>Payload mass</td></tr><tr><td>1</td><td>Florida</td><td>300 kg</td></tr><tr><td>2</td><td>Texas</td><td>94 kg</td></tr><tr><td>3</td><td>Florida </td><td>80 kg</td></tr></table></p><p><h3>Pizza Party</h3><table class=\\\"pizza\\\"><tr><td>Pizza Place</td><td>Orders</td><td>Slices </td></tr><tr><td>Domino's Pizza</td><td>10</td><td>100</td></tr><tr><td>Little Caesars</td><td>12</td><td >144 </td></tr><tr><td>Papa John's</td><td>15 </td><td>165</td></tr>\"",
   "id": "fd445e027ebc4fd6",
   "outputs": [],
   "execution_count": 39
  },
  {
   "metadata": {},
   "cell_type": "markdown",
   "source": "<p>We create a <code>BeautifulSoup</code> object <code>bs_table2</code>.</p>",
   "id": "df21a46ad8e4c217"
  },
  {
   "metadata": {
    "ExecuteTime": {
     "end_time": "2025-06-21T15:30:05.046848Z",
     "start_time": "2025-06-21T15:30:05.043840Z"
    }
   },
   "cell_type": "code",
   "source": "bs_table2 = BeautifulSoup(table2, \"html.parser\")",
   "id": "88a12eb21f49d02a",
   "outputs": [],
   "execution_count": 40
  },
  {
   "metadata": {},
   "cell_type": "markdown",
   "source": "<p>We can find the first table using the tag name \"table\".</p>",
   "id": "b3404579c1512564"
  },
  {
   "metadata": {
    "ExecuteTime": {
     "end_time": "2025-06-21T15:30:05.061625Z",
     "start_time": "2025-06-21T15:30:05.058390Z"
    }
   },
   "cell_type": "code",
   "source": "bs_table2.find(\"table\")",
   "id": "fc0f54374a5c7981",
   "outputs": [
    {
     "data": {
      "text/plain": [
       "<table class=\"rocket\"><tr><td>Flight No</td><td>Launch site</td><td>Payload mass</td></tr><tr><td>1</td><td>Florida</td><td>300 kg</td></tr><tr><td>2</td><td>Texas</td><td>94 kg</td></tr><tr><td>3</td><td>Florida </td><td>80 kg</td></tr></table>"
      ]
     },
     "execution_count": 41,
     "metadata": {},
     "output_type": "execute_result"
    }
   ],
   "execution_count": 41
  },
  {
   "metadata": {},
   "cell_type": "markdown",
   "source": "<p>We can filter on the class attribute to find the second table, but because class is a keyword in Python, we add an underscore to differentiate them.</p>",
   "id": "85fd2347ca321080"
  },
  {
   "metadata": {
    "ExecuteTime": {
     "end_time": "2025-06-21T15:30:05.079807Z",
     "start_time": "2025-06-21T15:30:05.076334Z"
    }
   },
   "cell_type": "code",
   "source": "bs_table2.find(\"table\", class_=\"pizza\")",
   "id": "2f0538db1f1f2e3a",
   "outputs": [
    {
     "data": {
      "text/plain": [
       "<table class=\"pizza\"><tr><td>Pizza Place</td><td>Orders</td><td>Slices </td></tr><tr><td>Domino's Pizza</td><td>10</td><td>100</td></tr><tr><td>Little Caesars</td><td>12</td><td>144 </td></tr><tr><td>Papa John's</td><td>15 </td><td>165</td></tr></table>"
      ]
     },
     "execution_count": 42,
     "metadata": {},
     "output_type": "execute_result"
    }
   ],
   "execution_count": 42
  },
  {
   "metadata": {},
   "cell_type": "markdown",
   "source": "### Downloading And Scraping The Contents Of A Web Page",
   "id": "bb8294e9b120ff3f"
  },
  {
   "metadata": {},
   "cell_type": "markdown",
   "source": "<p>We Download the contents of the web page:</p>",
   "id": "9cd24ee643690f7e"
  },
  {
   "metadata": {
    "ExecuteTime": {
     "end_time": "2025-06-21T15:30:05.101422Z",
     "start_time": "2025-06-21T15:30:05.099358Z"
    }
   },
   "cell_type": "code",
   "source": "url = \"https://www.ibm.com\"",
   "id": "d06db1c6f0ade686",
   "outputs": [],
   "execution_count": 43
  },
  {
   "metadata": {},
   "cell_type": "markdown",
   "source": "<p>We use <code>get</code> to download the contents of the webpage in text format and store in a variable called <code>data</code>:</p>",
   "id": "3517c21d46d6338b"
  },
  {
   "metadata": {
    "ExecuteTime": {
     "end_time": "2025-06-21T15:30:05.722514Z",
     "start_time": "2025-06-21T15:30:05.125228Z"
    }
   },
   "cell_type": "code",
   "source": [
    "import requests\n",
    "\n",
    "data = requests.get(url).text\n",
    "data"
   ],
   "id": "37e334cd758babce",
   "outputs": [
    {
     "data": {
      "text/plain": [
       "'\\n<!DOCTYPE HTML>\\n<html lang=\"en\">\\n<head>\\r\\n    \\r\\n    \\r\\n    \\r\\n    \\r\\n    \\r\\n    \\r\\n    \\r\\n      \\r\\n    \\r\\n    \\r\\n    \\r\\n    \\r\\n    <meta charset=\"UTF-8\"/>\\r\\n    <meta name=\"languageCode\" content=\"en\"/>\\r\\n    <meta name=\"countryCode\" content=\"us\"/>\\r\\n    <meta name=\"searchTitle\" content=\"IBM - United States\"/>\\r\\n    <meta name=\"focusArea\" content=\"Cross IBM SDRs\"/>\\r\\n    <title>IBM - United States</title>\\r\\n      <script defer=\"defer\" type=\"text/javascript\" src=\"https://rum.hlx.page/.rum/@adobe/helix-rum-js@%5E2/dist/rum-standalone.js\" data-routing=\"program=131558,environment=1281329,tier=publish\"></script>\\n<link rel=\"icon\" sizes=\"16x16\" href=\"/content/dam/adobe-cms/default-images/icon-16x16.png\"/>\\r\\n      <link rel=\"icon\" sizes=\"32x32\" href=\"/content/dam/adobe-cms/default-images/icon-32x32.png\"/>\\r\\n      <link rel=\"icon\" sizes=\"150x150\" href=\"/content/dam/adobe-cms/default-images/icon-150x150.png\"/>\\r\\n      <link rel=\"icon\" sizes=\"192x192\" href=\"/content/dam/adobe-cms/default-images/icon-192x192.png\"/>\\r\\n      <link rel=\"icon\" sizes=\"512x512\" href=\"/content/dam/adobe-cms/default-images/icon-512x512.png\"/>\\r\\n      <link rel=\"apple-touch-icon\" sizes=\"57x57\" href=\"/content/dam/adobe-cms/default-images/apple-touch-icon-57x57.png\"/>\\r\\n      <link rel=\"apple-touch-icon\" sizes=\"76x76\" href=\"/content/dam/adobe-cms/default-images/apple-touch-icon-76x76.png\"/>\\r\\n      <link rel=\"apple-touch-icon\" sizes=\"120x120\" href=\"/content/dam/adobe-cms/default-images/apple-touch-icon-120x120.png\"/>\\r\\n      <link rel=\"apple-touch-icon\" sizes=\"152x152\" href=\"/content/dam/adobe-cms/default-images/apple-touch-icon-152x152.png\"/>\\r\\n      <link rel=\"apple-touch-icon\" sizes=\"180x180\" href=\"/content/dam/adobe-cms/default-images/apple-touch-icon-180x180.png\"/>\\r\\n\\r\\n    \\r\\n    <meta name=\"description\" content=\"For more than a century, IBM has been a global technology innovator, leading advances in AI, automation and hybrid cloud solutions that help businesses grow.\"/>\\r\\n    <meta name=\"template\" content=\"full-width-layout\"/>\\r\\n    <meta name=\"viewport\" content=\"width=device-width, initial-scale=1\"/>\\r\\n    <meta name=\"robots\" content=\"index, follow, max-image-preview:large\"/>\\r\\n    \\r\\n    \\r\\n      \\r\\n      \\r\\n      \\r\\n      \\r\\n      \\r\\n    <link rel=\"canonical\" href=\"https://www.ibm.com/\"/>\\r\\n\\r\\n    \\n    <link rel=\"preload\" href=\"/etc.clientlibs/adobe-cms/clientlibs/clientlib-masthead-container.lc-dec6d078b2b738a9e35d579d8a6bf507-lc.min.js\" as=\"script\">\\n\\n\\r\\n\\r\\n      \\r\\n\\r\\n      \\r\\n      <script type=\"text/javascript\">\\r\\n          !function(e, a, n, t) {\\r\\n              var i = e.head;\\r\\n              if (i) {\\r\\n                  if (a) return;\\r\\n                  var o = e.createElement(\"style\");\\r\\n                  o.id = \"alloy-prehiding\", o.innerText = n, i.appendChild(o),\\r\\n                      setTimeout(function() {\\r\\n                          o.parentNode && o.parentNode.removeChild(o)\\r\\n                      }, t)\\r\\n              }\\r\\n          }\\r\\n          (document, document.location.href.indexOf(\"adobe_authoring_enabled\") !== -1, \"body { opacity: 0 !important }\", 900);\\r\\n      </script>\\r\\n      \\r\\n    <style id=\"prevent-layout-shift-style\">\\n    c4d-masthead-container:not(:defined) {\\n        min-height: 114px; /* Reserve space before it loads */\\n        display: block !important; \\n        opacity: 0; /* Hide visually but keep space */\\n        transition: opacity 0.3s ease-in-out;\\n    }\\n\\n    c4d-masthead-container:defined {\\n        transition: opacity 0.3s ease-in-out;\\n        opacity: 1;\\n    }\\n\\n    c4d-leadspace:not(:defined) {\\n        display:none;\\n    }\\n\\n    c4d-table-of-contents:not(:defined) {\\n        display:none;\\n    }\\n\\n    c4d-link-list:not(:defined) {\\n        display:none;\\n    }\\n</style>\\r\\n\\r\\n      <script src=\"https://assets.adobedtm.com/0f2de1d5b89a/565c2aeb0d39/launch-560e54b3e83c.min.js\" type=\"text/javascript\" async=\"async\"></script>\\r\\n     <script type=\"text/javascript\" async=\"async\">\\r\\n\\tvar adobeDataLayer = window.adobeDataLayer || [];\\r\\n\\t</script>\\r\\n\\r\\n    <script type=\"text/javascript\">\\r\\n        window.searchKey = {\\r\\n            templateName: \\'full\\\\u002Dwidth\\\\u002Dlayout\\',\\r\\n            taxonomylist: \\'taxonomy : Brands \\\\/ IBM\\',\\r\\n            L0Tag: \\'Topics,Brands,Industries,Geography,Compliance Entities,Products,Events,Computer Languages,Content Format,Series,Content Type,CMaaS Focus Areas,brands,Deployment Types,Product Types,Search Index,Unified Taxonomy,topics_v2\\',\\r\\n        }\\r\\n    </script>\\r\\n\\r\\n    \\r\\n        <link rel=\"alternate\" hreflang=\"ar-sa\" href=\"https://www.ibm.com/sa-ar\"/>\\r\\n    \\r\\n        <link rel=\"alternate\" hreflang=\"de-de\" href=\"https://www.ibm.com/de-de\"/>\\r\\n    \\r\\n        <link rel=\"alternate\" hreflang=\"en-us\" href=\"https://www.ibm.com/us-en\"/>\\r\\n    \\r\\n        <link rel=\"alternate\" hreflang=\"en-ca\" href=\"https://www.ibm.com/ca-en\"/>\\r\\n    \\r\\n        <link rel=\"alternate\" hreflang=\"ko-kr\" href=\"https://www.ibm.com/kr-ko\"/>\\r\\n    \\r\\n        <link rel=\"alternate\" hreflang=\"pt-br\" href=\"https://www.ibm.com/br-pt\"/>\\r\\n    \\r\\n        <link rel=\"alternate\" hreflang=\"ar-qa\" href=\"https://www.ibm.com/qa-ar\"/>\\r\\n    \\r\\n        <link rel=\"alternate\" hreflang=\"en-in\" href=\"https://www.ibm.com/in-en\"/>\\r\\n    \\r\\n        <link rel=\"alternate\" hreflang=\"es-es\" href=\"https://www.ibm.com/es-es\"/>\\r\\n    \\r\\n        <link rel=\"alternate\" hreflang=\"ar-ae\" href=\"https://www.ibm.com/ae-ar\"/>\\r\\n    \\r\\n        <link rel=\"alternate\" hreflang=\"zh-cn\" href=\"https://www.ibm.com/cn-zh\"/>\\r\\n    \\r\\n        <link rel=\"alternate\" hreflang=\"es-mx\" href=\"https://www.ibm.com/mx-es\"/>\\r\\n    \\r\\n        <link rel=\"alternate\" hreflang=\"fr-ca\" href=\"https://www.ibm.com/ca-fr\"/>\\r\\n    \\r\\n        <link rel=\"alternate\" hreflang=\"it-it\" href=\"https://www.ibm.com/it-it\"/>\\r\\n    \\r\\n        <link rel=\"alternate\" hreflang=\"x-default\" href=\"https://www.ibm.com/\"/>\\r\\n    \\r\\n        <link rel=\"alternate\" hreflang=\"id-id\" href=\"https://www.ibm.com/id-id\"/>\\r\\n    \\r\\n        <link rel=\"alternate\" hreflang=\"en-au\" href=\"https://www.ibm.com/au-en\"/>\\r\\n    \\r\\n        <link rel=\"alternate\" hreflang=\"en-uk\" href=\"https://www.ibm.com/uk-en\"/>\\r\\n    \\r\\n        <link rel=\"alternate\" hreflang=\"fr-fr\" href=\"https://www.ibm.com/fr-fr\"/>\\r\\n    \\r\\n        <link rel=\"alternate\" hreflang=\"ja-jp\" href=\"https://www.ibm.com/jp-ja\"/>\\r\\n    \\r\\n\\r\\n    <script type=\"text/javascript\">\\r\\n        var languageCode = document.getElementsByName(\\'languageCode\\')[0].content;\\r\\n        var countryCode = document.getElementsByName(\\'countryCode\\')[0].content;\\r\\n        var focusArea = document.getElementsByName(\\'focusArea\\')[0].content;\\r\\n        /* Define digital data object based on _appInfo object */\\r\\n          window._ibmAnalytics = {\\r\\n              settings: {\\r\\n                 name: \"AEM Sites\",\\r\\n                 tealiumProfileName: \"adobe-launch\"\\r\\n              },\\r\\n           };\\r\\n        window.digitalData = {\\r\\n            page: {\\r\\n                category: {\\r\\n                    primaryCategory: \\'\\',\\r\\n                },\\r\\n                pageInfo: {\\r\\n                    language: languageCode + \\'-\\' + countryCode,\\r\\n                    ibm: {\\r\\n                        siteID: \\'MarketingAEM\\',\\r\\n                        country: countryCode,\\r\\n                        messaging: {\\r\\n                            routing: {\\r\\n                                focusArea: focusArea,\\r\\n                                languageCode: languageCode,\\r\\n                                regionCode: countryCode\\r\\n                            },\\r\\n                            translation: {\\r\\n                                languageCode: languageCode,\\r\\n                                regionCode: countryCode\\r\\n                            }\\r\\n                        },\\r\\n                        sections: 0,\\r\\n                        patterns: 0,\\r\\n                    },\\r\\n                    carbon: {\\r\\n                        \\'@carbon/web-components\\': \\'\\',\\r\\n                        \\'@carbon/ibmdotcom-web-components\\': \\'\\',\\r\\n                        \\'carbon-for-aem\\': \\'\\',\\r\\n                    },\\r\\n                },\\r\\n            },\\r\\n        };\\r\\n    </script>\\r\\n    \\r\\n\\r\\n      <!-- Instana script specific to Dev environment start -->\\r\\n<!--      <script>\\r\\n          (function(s,t,a,n){s[t]||(s[t]=a,n=s[a]=function(){n.q.push(arguments)},\\r\\n          n.q=[],n.v=2,n.l=1*new Date)})(window,\"InstanaEumObject\",\"ineum\");\\r\\n\\r\\n          ineum(\\'reportingUrl\\', \\'https://eum-orange-saas.instana.io\\');\\r\\n          ineum(\\'key\\', \\'mFJnYtpBSiCKl9zenWHXtg\\');\\r\\n          ineum(\\'trackSessions\\');\\r\\n      </script>\\r\\n      <script defer crossorigin=\"anonymous\" src=https://eum.instana.io/1.7.2/eum.min.js\\r\\n              integrity=\"sha384-cgeSlevgebehPauohUhsnAeBrpjXzaj94mSv3L2EXjCQH0RRb9xSQ2ErGOWkthIJ\"></script>-->\\r\\n      <!-- Instana script specific to Dev environment end -->\\r\\n\\r\\n    \\n    \\n        <meta property=\"og:url\" content=\"https://www.ibm.com/\"/>\\n    \\n        <meta property=\"og:type\" content=\"website\"/>\\n    \\n        <meta property=\"og:title\" content=\"IBM - United States\"/>\\n    \\n        <meta property=\"og:description\" content=\"For more than a century, IBM has been a global technology innovator, leading advances in AI, automation and hybrid cloud solutions that help businesses grow.\"/>\\n    \\n        <meta property=\"og:image\" content=\"https://www.ibm.com/content/dam/connectedassets-adobe-cms/worldwide-content/creative-assets/s-migr/ul/g/18/f9/ibm_logo_pos_blue60_rgb.png/_jcr_content/renditions/cq5dam.thumbnail.1280.1280.png\"/>\\n    \\n        \\n    \\n\\r\\n    <script src=\"https://1.www.s81c.com/common/stats/ibm-common.js\" type=\"text/javascript\" fetchpriority=\"high\" async=\"async\"></script>\\r\\n\\r\\n    <link rel=\"preload\" href=\"https://hybrid-cloud-widgets-production.s3.us.cloud-object-storage.appdomain.cloud/loader.js\" as=\"script\"/>\\r\\n    <script src=\"https://hybrid-cloud-widgets-production.s3.us.cloud-object-storage.appdomain.cloud/loader.js\" type=\"application/javascript\"></script>\\r\\n\\r\\n    \\n    \\n    \\n<link rel=\"stylesheet\" href=\"/etc.clientlibs/adobe-cms/clientlibs/clientlib-base.lc-30313e00669f877069f15dd099f23454-lc.min.css\" type=\"text/css\">\\n<link rel=\"stylesheet\" href=\"/etc.clientlibs/adobe-cms/clientlibs/clientlib-idlStylesCarbon.lc-264526af3240f196cc0fba97bbd45cae-lc.min.css\" type=\"text/css\">\\n<link rel=\"stylesheet\" href=\"/etc.clientlibs/adobe-cms/clientlibs/clientlib-idlStyles.lc-a00fea3fb15ccee8b0207bdf0f0ab458-lc.min.css\" type=\"text/css\">\\n\\n\\n\\n    \\n    <link rel=\"stylesheet\" href=\"https://1.www.s81c.com/common/carbon-for-ibm-dotcom/tag/v1/latest/plex.css\"/>\\n    <link rel=\"stylesheet\" href=\"https://1.www.s81c.com/common/carbon/plex/sans.css\"/>\\n    \\n    \\n\\n\\r\\n    \\n    \\n    \\n\\n    \\n\\n    \\n\\n\\n\\n    \\n    \\n    \\n\\n\\n\\n    \\n\\r\\n    \\r\\n\\r\\n</head>\\n<body class=\"content-page page basicpage publish\" id=\"content-page-c8104b3589\" data-cmp-data-layer-enabled data-fullwidthtemplate=\"true\">\\n<script>\\n    window.adobeDataLayer = window.adobeDataLayer || [];\\n    adobeDataLayer.push({\\n        page: JSON.parse(\"{\\\\x22content\\\\u002Dpage\\\\u002Dc8104b3589\\\\x22:{\\\\x22@type\\\\x22:\\\\x22adobe\\\\u002Dcms\\\\/components\\\\/structure\\\\/content\\\\u002Dpage\\\\x22,\\\\x22repo:modifyDate\\\\x22:\\\\x222025\\\\u002D06\\\\u002D19T16:50:33Z\\\\x22,\\\\x22dc:title\\\\x22:\\\\x22Homepage\\\\x22,\\\\x22xdm:template\\\\x22:\\\\x22\\\\/conf\\\\/adobe\\\\u002Dcms\\\\u002Deditable\\\\/settings\\\\/wcm\\\\/templates\\\\/full\\\\u002Dwidth\\\\u002Dlayout\\\\x22,\\\\x22xdm:language\\\\x22:\\\\x22en\\\\x22,\\\\x22xdm:tags\\\\x22:[],\\\\x22repo:path\\\\x22:\\\\x22\\\\/content\\\\/adobe\\\\u002Dcms\\\\/us\\\\/en\\\\/homepage.html\\\\x22}}\"),\\n        event: \\'cmp:show\\',\\n        eventInfo: {\\n            path: \\'page.content\\\\u002Dpage\\\\u002Dc8104b3589\\'\\n        }\\n    });\\n</script>\\n\\n\\n    \\n\\n\\n\\n\\n    \\n\\n\\n\\n    \\n<c4d-video-cta-container>\\n     <div class=\"root container responsivegrid\">\\n\\n    \\n    \\n    \\n    <div id=\"container-9225520bd9\" class=\"cmp-container\">\\n        \\n        <div class=\"masthead\">\\r\\n\\r\\n\\r\\n\\r\\n\\r\\n\\r\\n\\r\\n<c4d-masthead-container data-endpoint=\"#\" auth-method=\"profile-api\" has-contact=\"true\" has-global=\"true\" has-profile has-search has-cart current-region-text=\"Your current region is\" different-region-text=\"Select a different region\" no-other-region-text=\"This page is not available in any other regions\"></c4d-masthead-container>\\r\\n\\r\\n\\r\\n\\n    <script defer src=\"/etc.clientlibs/adobe-cms/clientlibs/clientlib-masthead-container.lc-dec6d078b2b738a9e35d579d8a6bf507-lc.min.js\"></script>\\n\\n\\r\\n\\n    \\n<script src=\"/etc.clientlibs/clientlibs/granite/jquery.lc-f9e8e8c279baf6a1a278042afe4f395a-lc.min.js\"></script>\\n<script src=\"/etc.clientlibs/adobe-cms/components/structure/navigation/masthead/clientlibs/site.lc-8a8ea68e1c6ecd34c0a9316b31362c5b-lc.min.js\"></script>\\n\\n\\n\\r\\n\\r\\n\\r\\n    \\n    \\n<script src=\"/etc.clientlibs/adobe-cms/components/structure/navigation/masthead/clientlibs/country-restoration.lc-c5b15c8454f3327b958e14ccf4e41d92-lc.min.js\"></script>\\n\\n\\n\\r\\n\\r\\n\\r\\n<script>\\r\\n    let l0Json = \"{\\\\x22profileMenu\\\\x22:{\\\\x22signedout\\\\x22:[{\\\\x22title\\\\x22:\\\\x22My IBM\\\\x22,\\\\x22url\\\\x22:\\\\x22https:\\\\/\\\\/myibm.ibm.com\\\\/?lnk=mmi\\\\x22},{\\\\x22title\\\\x22:\\\\x22Log in\\\\x22,\\\\x22url\\\\x22:\\\\x22https:\\\\/\\\\/login.ibm.com\\\\/oidc\\\\/endpoint\\\\/default\\\\/authorize?redirect_uri=https%3A%2F%2Fmyibm.ibm.com%2FOIDCHandler.html\\\\x26response_type=token\\\\x26client_id=v18LoginProdCI\\\\x26scope=openid\\\\x26state=https%3A%2F%2Fwww.ibm.com\\\\x26nonce=8675309\\\\x22}],\\\\x22signedin\\\\x22:[{\\\\x22title\\\\x22:\\\\x22My IBM\\\\x22,\\\\x22url\\\\x22:\\\\x22https:\\\\/\\\\/myibm.ibm.com\\\\/?lnk=mmi\\\\x22},{\\\\x22title\\\\x22:\\\\x22Profile\\\\x22,\\\\x22url\\\\x22:\\\\x22https:\\\\/\\\\/myibm.ibm.com\\\\/profile\\\\/?lnk=mmi\\\\x22},{\\\\x22title\\\\x22:\\\\x22Billing\\\\x22,\\\\x22url\\\\x22:\\\\x22https:\\\\/\\\\/myibm.ibm.com\\\\/billing\\\\/?lnk=mmi\\\\x22},{\\\\x22title\\\\x22:\\\\x22Log out\\\\x22,\\\\x22url\\\\x22:\\\\x22https:\\\\/\\\\/myibm.ibm.com\\\\/pkmslogout?filename=accountRedir.html\\\\x22}]},\\\\x22mastheadNav\\\\x22:{\\\\x22links\\\\x22:[{\\\\x22title\\\\x22:\\\\x22AI\\\\x22,\\\\x22url\\\\x22:\\\\x22\\\\x22,\\\\x22submenu\\\\x22:{\\\\x22sections\\\\x22:[{\\\\x22heading\\\\x22:{\\\\x22title\\\\x22:\\\\x22\\\\x22,\\\\x22description\\\\x22:\\\\x22\\\\x22},\\\\x22groups\\\\x22:[{\\\\x22heading\\\\x22:{\\\\x22title\\\\x22:\\\\x22Overview\\\\x22,\\\\x22url\\\\x22:\\\\x22https:\\\\/\\\\/www.ibm.com\\\\/artificial\\\\u002Dintelligence\\\\x22,\\\\x22description\\\\x22:\\\\x22\\\\x22},\\\\x22links\\\\x22:[]},{\\\\x22heading\\\\x22:{\\\\x22title\\\\x22:\\\\x22Consulting\\\\x22,\\\\x22url\\\\x22:\\\\x22https:\\\\/\\\\/www.ibm.com\\\\/consulting\\\\/artificial\\\\u002Dintelligence\\\\x22,\\\\x22description\\\\x22:\\\\x22\\\\x22},\\\\x22links\\\\x22:[]},{\\\\x22heading\\\\x22:{\\\\x22title\\\\x22:\\\\x22watsonx\\\\x22,\\\\x22url\\\\x22:\\\\x22https:\\\\/\\\\/www.ibm.com\\\\/products\\\\/watsonx\\\\x22,\\\\x22description\\\\x22:\\\\x22\\\\x22},\\\\x22links\\\\x22:[]},{\\\\x22heading\\\\x22:{\\\\x22title\\\\x22:\\\\x22Research\\\\x22,\\\\x22url\\\\x22:\\\\x22https:\\\\/\\\\/research.ibm.com\\\\/artificial\\\\u002Dintelligence\\\\x22,\\\\x22description\\\\x22:\\\\x22\\\\x22},\\\\x22links\\\\x22:[]},{\\\\x22heading\\\\x22:{\\\\x22title\\\\x22:\\\\x22Agents\\\\x22,\\\\x22url\\\\x22:\\\\x22https:\\\\/\\\\/www.ibm.com\\\\/ai\\\\u002Dagents\\\\x22,\\\\x22description\\\\x22:\\\\x22\\\\x22},\\\\x22links\\\\x22:[]},{\\\\x22heading\\\\x22:{\\\\x22title\\\\x22:\\\\x22Ethics and governance\\\\x22,\\\\x22url\\\\x22:\\\\x22https:\\\\/\\\\/www.ibm.com\\\\/artificial\\\\u002Dintelligence\\\\/ai\\\\u002Dethics\\\\x22,\\\\x22description\\\\x22:\\\\x22\\\\x22},\\\\x22links\\\\x22:[]},{\\\\x22heading\\\\x22:{\\\\x22title\\\\x22:\\\\x22Granite models\\\\x22,\\\\x22url\\\\x22:\\\\x22https:\\\\/\\\\/www.ibm.com\\\\/granite\\\\x22,\\\\x22description\\\\x22:\\\\x22\\\\x22},\\\\x22links\\\\x22:[]}]}],\\\\x22viewAll\\\\x22:{\\\\x22title\\\\x22:\\\\x22\\\\x22,\\\\x22url\\\\x22:\\\\x22\\\\x22}}},{\\\\x22title\\\\x22:\\\\x22Hybrid Cloud\\\\x22,\\\\x22url\\\\x22:\\\\x22\\\\x22,\\\\x22submenu\\\\x22:{\\\\x22sections\\\\x22:[{\\\\x22heading\\\\x22:{\\\\x22title\\\\x22:\\\\x22\\\\x22,\\\\x22description\\\\x22:\\\\x22\\\\x22},\\\\x22groups\\\\x22:[{\\\\x22heading\\\\x22:{\\\\x22title\\\\x22:\\\\x22Overview\\\\x22,\\\\x22url\\\\x22:\\\\x22https:\\\\/\\\\/www.ibm.com\\\\/solutions\\\\/hybrid\\\\u002Dcloud\\\\x22,\\\\x22description\\\\x22:\\\\x22\\\\x22},\\\\x22links\\\\x22:[]},{\\\\x22heading\\\\x22:{\\\\x22title\\\\x22:\\\\x22IT infrastructure\\\\x22,\\\\x22url\\\\x22:\\\\x22https:\\\\/\\\\/www.ibm.com\\\\/solutions\\\\/it\\\\u002Dinfrastructure\\\\x22,\\\\x22description\\\\x22:\\\\x22\\\\x22},\\\\x22links\\\\x22:[]},{\\\\x22heading\\\\x22:{\\\\x22title\\\\x22:\\\\x22Consulting\\\\x22,\\\\x22url\\\\x22:\\\\x22https:\\\\/\\\\/www.ibm.com\\\\/cloud\\\\/transformation\\\\x22,\\\\x22description\\\\x22:\\\\x22\\\\x22},\\\\x22links\\\\x22:[]},{\\\\x22heading\\\\x22:{\\\\x22title\\\\x22:\\\\x22Quantum computing\\\\x22,\\\\x22url\\\\x22:\\\\x22https:\\\\/\\\\/www.ibm.com\\\\/quantum\\\\x22,\\\\x22description\\\\x22:\\\\x22\\\\x22},\\\\x22links\\\\x22:[]},{\\\\x22heading\\\\x22:{\\\\x22title\\\\x22:\\\\x22Cloud platform\\\\x22,\\\\x22url\\\\x22:\\\\x22https:\\\\/\\\\/www.ibm.com\\\\/cloud\\\\x22,\\\\x22description\\\\x22:\\\\x22\\\\x22},\\\\x22links\\\\x22:[]},{\\\\x22heading\\\\x22:{\\\\x22title\\\\x22:\\\\x22Research\\\\x22,\\\\x22url\\\\x22:\\\\x22https:\\\\/\\\\/research.ibm.com\\\\/hybrid\\\\u002Dcloud\\\\x22,\\\\x22description\\\\x22:\\\\x22\\\\x22},\\\\x22links\\\\x22:[]},{\\\\x22heading\\\\x22:{\\\\x22title\\\\x22:\\\\x22\\\\x22,\\\\x22description\\\\x22:\\\\x22\\\\x22},\\\\x22links\\\\x22:[]}]}],\\\\x22viewAll\\\\x22:{\\\\x22title\\\\x22:\\\\x22\\\\x22,\\\\x22url\\\\x22:\\\\x22\\\\x22}}},{\\\\x22title\\\\x22:\\\\x22Products\\\\x22,\\\\x22url\\\\x22:\\\\x22\\\\x22,\\\\x22submenu\\\\x22:{\\\\x22sections\\\\x22:[{\\\\x22heading\\\\x22:{\\\\x22title\\\\x22:\\\\x22Featured\\\\x22,\\\\x22description\\\\x22:\\\\x22\\\\x22},\\\\x22groups\\\\x22:[{\\\\x22heading\\\\x22:{\\\\x22title\\\\x22:\\\\x22\\\\x22,\\\\x22description\\\\x22:\\\\x22\\\\x22},\\\\x22links\\\\x22:[{\\\\x22title\\\\x22:\\\\x22Concert\\\\x22,\\\\x22url\\\\x22:\\\\x22https:\\\\/\\\\/www.ibm.com\\\\/products\\\\/concert?lnk=flatitem\\\\x22,\\\\x22description\\\\x22:\\\\x22Software to manage applications, mitigate risks and enhance resilience\\\\x22},{\\\\x22title\\\\x22:\\\\x22FlashSystem\\\\x22,\\\\x22url\\\\x22:\\\\x22https:\\\\/\\\\/www.ibm.com\\\\/flashsystem?lnk=flatitem\\\\x22,\\\\x22description\\\\x22:\\\\x22Primary storage for performance and latency sensitive workloads\\\\x22},{\\\\x22title\\\\x22:\\\\x22HashiCorp\\\\x22,\\\\x22url\\\\x22:\\\\x22https:\\\\/\\\\/www.ibm.com\\\\/products\\\\/hashicorp?lnk=flatitem\\\\x22,\\\\x22description\\\\x22:\\\\x22Manage cloud infrastructure and security\\\\x22},{\\\\x22title\\\\x22:\\\\x22IBM Cloud\\\\x22,\\\\x22url\\\\x22:\\\\x22https:\\\\/\\\\/www.ibm.com\\\\/cloud?lnk=flatitem\\\\x22,\\\\x22description\\\\x22:\\\\x22On\\\\u002Ddemand cloud computing platform and APIs\\\\x22},{\\\\x22title\\\\x22:\\\\x22IBM Z\\\\x22,\\\\x22url\\\\x22:\\\\x22https:\\\\/\\\\/www.ibm.com\\\\/z?lnk=flatitem\\\\x22,\\\\x22description\\\\x22:\\\\x22Flagship mainframe with on\\\\u002Dchip AI and quantum\\\\u002Dsafe cryptography\\\\x22},{\\\\x22title\\\\x22:\\\\x22IBM webMethods Hybrid Integration\\\\x22,\\\\x22url\\\\x22:\\\\x22https:\\\\/\\\\/www.ibm.com\\\\/products\\\\/webmethods\\\\u002Dhybrid\\\\u002Dintegration?lnk=flatitem\\\\x22,\\\\x22description\\\\x22:\\\\x22AI powered automation software to unify integration workflows\\\\x22},{\\\\x22title\\\\x22:\\\\x22Instana\\\\x22,\\\\x22url\\\\x22:\\\\x22https:\\\\/\\\\/www.ibm.com\\\\/products\\\\/instana?lnk=flatitem\\\\x22,\\\\x22description\\\\x22:\\\\x22Software for application performance monitoring and automation\\\\x22},{\\\\x22title\\\\x22:\\\\x22MaaS360\\\\x22,\\\\x22url\\\\x22:\\\\x22https:\\\\/\\\\/www.ibm.com\\\\/products\\\\/maas360?lnk=flatitem\\\\x22,\\\\x22description\\\\x22:\\\\x22Unified endpoint management software for many device types\\\\x22},{\\\\x22title\\\\x22:\\\\x22Maximo\\\\x22,\\\\x22url\\\\x22:\\\\x22https:\\\\/\\\\/www.ibm.com\\\\/products\\\\/maximo?lnk=flatitem\\\\x22,\\\\x22description\\\\x22:\\\\x22Software for asset management and related workflows\\\\x22},{\\\\x22title\\\\x22:\\\\x22Planning Analytics\\\\x22,\\\\x22url\\\\x22:\\\\x22https:\\\\/\\\\/www.ibm.com\\\\/products\\\\/planning\\\\u002Danalytics?lnk=flatitem\\\\x22,\\\\x22description\\\\x22:\\\\x22Software to automate financial and operational planning\\\\x22},{\\\\x22title\\\\x22:\\\\x22Robotic Process Automation (RPA)\\\\x22,\\\\x22url\\\\x22:\\\\x22https:\\\\/\\\\/www.ibm.com\\\\/products\\\\/robotic\\\\u002Dprocess\\\\u002Dautomation?lnk=flatitem\\\\x22,\\\\x22description\\\\x22:\\\\x22Software to automate workflows and business processes\\\\x22},{\\\\x22title\\\\x22:\\\\x22Storage Defender\\\\x22,\\\\x22url\\\\x22:\\\\x22https:\\\\/\\\\/www.ibm.com\\\\/products\\\\/storage\\\\u002Ddefender?lnk=flatitem\\\\x22,\\\\x22description\\\\x22:\\\\x22Data resiliency software for threat detection and data recovery\\\\x22},{\\\\x22title\\\\x22:\\\\x22Turbonomic\\\\x22,\\\\x22url\\\\x22:\\\\x22https:\\\\/\\\\/www.ibm.com\\\\/products\\\\/turbonomic?lnk=flatitem\\\\x22,\\\\x22description\\\\x22:\\\\x22Software to manage and optimize IT resource usage\\\\x22},{\\\\x22title\\\\x22:\\\\x22Verify\\\\x22,\\\\x22url\\\\x22:\\\\x22https:\\\\/\\\\/www.ibm.com\\\\/verify?lnk=flatitem\\\\x22,\\\\x22description\\\\x22:\\\\x22Identity, authentication, and access control software\\\\x22},{\\\\x22title\\\\x22:\\\\x22watsonx\\\\x22,\\\\x22url\\\\x22:\\\\x22https:\\\\/\\\\/www.ibm.com\\\\/watsonx?lnk=flatitem\\\\x22,\\\\x22description\\\\x22:\\\\x22AI and data platform\\\\x22},{\\\\x22title\\\\x22:\\\\x22watsonx Assistant\\\\x22,\\\\x22url\\\\x22:\\\\x22https:\\\\/\\\\/www.ibm.com\\\\/products\\\\/watsonx\\\\u002Dassistant?lnk=flatitem\\\\x22,\\\\x22description\\\\x22:\\\\x22Virtual agents customizable to any domain\\\\x22},{\\\\x22title\\\\x22:\\\\x22watsonx Orchestrate\\\\x22,\\\\x22url\\\\x22:\\\\x22https:\\\\/\\\\/www.ibm.com\\\\/products\\\\/watsonx\\\\u002Dorchestrate?lnk=flatitem\\\\x22,\\\\x22description\\\\x22:\\\\x22Personal\\\\u002Dassistant software that automates repetitive tasks\\\\x22}]}]},{\\\\x22heading\\\\x22:{\\\\x22title\\\\x22:\\\\x22AI \\\\x26 machine learning\\\\x22,\\\\x22url\\\\x22:\\\\x22https:\\\\/\\\\/www.ibm.com\\\\/artificial\\\\u002Dintelligence?lnk=flathl\\\\x22,\\\\x22description\\\\x22:\\\\x22Use IBM Watson’s AI or build your own machine learning models\\\\x22},\\\\x22groups\\\\x22:[{\\\\x22heading\\\\x22:{\\\\x22title\\\\x22:\\\\x22\\\\x22,\\\\x22description\\\\x22:\\\\x22\\\\x22},\\\\x22links\\\\x22:[{\\\\x22title\\\\x22:\\\\x22Cloud Pak for Data\\\\x22,\\\\x22url\\\\x22:\\\\x22https:\\\\/\\\\/www.ibm.com\\\\/products\\\\/cloud\\\\u002Dpak\\\\u002Dfor\\\\u002Ddata?lnk=flatitem\\\\x22,\\\\x22description\\\\x22:\\\\x22Tools for data analysis, organization and management\\\\x22},{\\\\x22title\\\\x22:\\\\x22Knowledge Catalog\\\\x22,\\\\x22url\\\\x22:\\\\x22https:\\\\/\\\\/www.ibm.com\\\\/products\\\\/knowledge\\\\u002Dcatalog?lnk=flatitem\\\\x22,\\\\x22description\\\\x22:\\\\x22SaaS to catalog data, AI models, metadata, policies and more\\\\x22},{\\\\x22title\\\\x22:\\\\x22Watson Discovery\\\\x22,\\\\x22url\\\\x22:\\\\x22https:\\\\/\\\\/www.ibm.com\\\\/products\\\\/watson\\\\u002Ddiscovery?lnk=flatitem\\\\x22,\\\\x22description\\\\x22:\\\\x22AI to search in and answer questions about business documents\\\\x22},{\\\\x22title\\\\x22:\\\\x22Watson Natural Language Understanding\\\\x22,\\\\x22url\\\\x22:\\\\x22https:\\\\/\\\\/www.ibm.com\\\\/products\\\\/natural\\\\u002Dlanguage\\\\u002Dunderstanding?lnk=flatitem\\\\x22,\\\\x22description\\\\x22:\\\\x22API for text analysis and metadata extraction\\\\x22},{\\\\x22title\\\\x22:\\\\x22Watson Speech to Text\\\\x22,\\\\x22url\\\\x22:\\\\x22https:\\\\/\\\\/www.ibm.com\\\\/products\\\\/speech\\\\u002Dto\\\\u002Dtext?lnk=flatitem\\\\x22,\\\\x22description\\\\x22:\\\\x22API for real\\\\u002Dtime speech recognition and transcription\\\\x22},{\\\\x22title\\\\x22:\\\\x22Watson Studio\\\\x22,\\\\x22url\\\\x22:\\\\x22https:\\\\/\\\\/www.ibm.com\\\\/products\\\\/watson\\\\u002Dstudio?lnk=flatitem\\\\x22,\\\\x22description\\\\x22:\\\\x22IDE to build, run and manage AI models\\\\x22},{\\\\x22title\\\\x22:\\\\x22Watson Text to Speech\\\\x22,\\\\x22url\\\\x22:\\\\x22https:\\\\/\\\\/www.ibm.com\\\\/products\\\\/text\\\\u002Dto\\\\u002Dspeech?lnk=flatitem\\\\x22,\\\\x22description\\\\x22:\\\\x22API for real\\\\u002Dtime text to speech conversion\\\\x22},{\\\\x22title\\\\x22:\\\\x22Z Anomaly Analytics\\\\x22,\\\\x22url\\\\x22:\\\\x22https:\\\\/\\\\/www.ibm.com\\\\/products\\\\/z\\\\u002Danomaly\\\\u002Danalytics?lnk=flatitem\\\\x22,\\\\x22description\\\\x22:\\\\x22Operational anomaly detection software for mainframes\\\\x22},{\\\\x22title\\\\x22:\\\\x22watsonx\\\\x22,\\\\x22url\\\\x22:\\\\x22https:\\\\/\\\\/www.ibm.com\\\\/watsonx?lnk=flatitem\\\\x22,\\\\x22description\\\\x22:\\\\x22AI and data platform\\\\x22},{\\\\x22title\\\\x22:\\\\x22watsonx Assistant\\\\x22,\\\\x22url\\\\x22:\\\\x22https:\\\\/\\\\/www.ibm.com\\\\/products\\\\/watsonx\\\\u002Dassistant?lnk=flatitem\\\\x22,\\\\x22description\\\\x22:\\\\x22Virtual agents customizable to any domain\\\\x22},{\\\\x22title\\\\x22:\\\\x22watsonx Code Assistant\\\\x22,\\\\x22url\\\\x22:\\\\x22https:\\\\/\\\\/www.ibm.com\\\\/products\\\\/watsonx\\\\u002Dcode\\\\u002Dassistant?lnk=flatitem\\\\x22,\\\\x22description\\\\x22:\\\\x22AI tool to generate code\\\\x22},{\\\\x22title\\\\x22:\\\\x22watsonx Orders\\\\x22,\\\\x22url\\\\x22:\\\\x22https:\\\\/\\\\/www.ibm.com\\\\/products\\\\/watsonx\\\\u002Dorders?lnk=flatitem\\\\x22,\\\\x22description\\\\x22:\\\\x22AI voice agent for taking restaurant orders\\\\x22}]}]},{\\\\x22heading\\\\x22:{\\\\x22title\\\\x22:\\\\x22Analytics\\\\x22,\\\\x22url\\\\x22:\\\\x22https:\\\\/\\\\/www.ibm.com\\\\/solutions\\\\/analytics?lnk=flathl\\\\x22,\\\\x22description\\\\x22:\\\\x22Aggregate and analyze large datasets\\\\x22},\\\\x22groups\\\\x22:[{\\\\x22heading\\\\x22:{\\\\x22title\\\\x22:\\\\x22\\\\x22,\\\\x22description\\\\x22:\\\\x22\\\\x22},\\\\x22links\\\\x22:[{\\\\x22title\\\\x22:\\\\x22Business Analytics Enterprise\\\\x22,\\\\x22url\\\\x22:\\\\x22https:\\\\/\\\\/www.ibm.com\\\\/products\\\\/business\\\\u002Danalytics\\\\u002Denterprise?lnk=flatitem\\\\x22,\\\\x22description\\\\x22:\\\\x22Software for business planning and analysis\\\\x22},{\\\\x22title\\\\x22:\\\\x22CPLEX\\\\x22,\\\\x22url\\\\x22:\\\\x22https:\\\\/\\\\/www.ibm.com\\\\/products\\\\/ilog\\\\u002Dcplex\\\\u002Doptimization\\\\u002Dstudio?lnk=flatitem\\\\x22,\\\\x22description\\\\x22:\\\\x22Software to build and solve complex optimization models\\\\x22},{\\\\x22title\\\\x22:\\\\x22Cloud Pak for Data\\\\x22,\\\\x22url\\\\x22:\\\\x22https:\\\\/\\\\/www.ibm.com\\\\/products\\\\/cloud\\\\u002Dpak\\\\u002Dfor\\\\u002Ddata?lnk=flatitem\\\\x22,\\\\x22description\\\\x22:\\\\x22Tools for data analysis, organization and management\\\\x22},{\\\\x22title\\\\x22:\\\\x22Cognos Analytics\\\\x22,\\\\x22url\\\\x22:\\\\x22https:\\\\/\\\\/www.ibm.com\\\\/products\\\\/cognos\\\\u002Danalytics?lnk=flatitem\\\\x22,\\\\x22description\\\\x22:\\\\x22Software for business intelligence and performance management\\\\x22},{\\\\x22title\\\\x22:\\\\x22Databand\\\\x22,\\\\x22url\\\\x22:\\\\x22https:\\\\/\\\\/www.ibm.com\\\\/products\\\\/databand?lnk=flatitem\\\\x22,\\\\x22description\\\\x22:\\\\x22Data observability software for data engineers and DataOps teams\\\\x22},{\\\\x22title\\\\x22:\\\\x22InfoSphere Information Server\\\\x22,\\\\x22url\\\\x22:\\\\x22https:\\\\/\\\\/www.ibm.com\\\\/information\\\\u002Dserver?lnk=flatitem\\\\x22,\\\\x22description\\\\x22:\\\\x22Data integration suite for ETL, governance and analysis\\\\x22},{\\\\x22title\\\\x22:\\\\x22Manta Data Lineage\\\\x22,\\\\x22url\\\\x22:\\\\x22https:\\\\/\\\\/www.ibm.com\\\\/products\\\\/manta\\\\u002Ddata\\\\u002Dlineage?lnk=flatitem\\\\x22,\\\\x22description\\\\x22:\\\\x22Software to visualize the flow of data from origin to consumption\\\\x22},{\\\\x22title\\\\x22:\\\\x22Netezza\\\\x22,\\\\x22url\\\\x22:\\\\x22https:\\\\/\\\\/www.ibm.com\\\\/products\\\\/netezza?lnk=flatitem\\\\x22,\\\\x22description\\\\x22:\\\\x22Data warehousing and analytics system on custom hardware\\\\x22},{\\\\x22title\\\\x22:\\\\x22Optim\\\\x22,\\\\x22url\\\\x22:\\\\x22https:\\\\/\\\\/www.ibm.com\\\\/infosphere\\\\u002Doptim?lnk=flatitem\\\\x22,\\\\x22description\\\\x22:\\\\x22Software to manage test, production, and archived data\\\\x22},{\\\\x22title\\\\x22:\\\\x22Planning Analytics\\\\x22,\\\\x22url\\\\x22:\\\\x22https:\\\\/\\\\/www.ibm.com\\\\/products\\\\/planning\\\\u002Danalytics?lnk=flatitem\\\\x22,\\\\x22description\\\\x22:\\\\x22Software to automate financial and operational planning\\\\x22},{\\\\x22title\\\\x22:\\\\x22SPSS\\\\x22,\\\\x22url\\\\x22:\\\\x22https:\\\\/\\\\/www.ibm.com\\\\/spss?lnk=flatitem\\\\x22,\\\\x22description\\\\x22:\\\\x22Software for statistical analysis and business intelligence\\\\x22},{\\\\x22title\\\\x22:\\\\x22Spectrum Computing\\\\x22,\\\\x22url\\\\x22:\\\\x22https:\\\\/\\\\/www.ibm.com\\\\/high\\\\u002Dperformance\\\\u002Dcomputing?lnk=flatitem\\\\x22,\\\\x22description\\\\x22:\\\\x22Software to optimize resources in complex computing clusters\\\\x22},{\\\\x22title\\\\x22:\\\\x22StreamSets\\\\x22,\\\\x22url\\\\x22:\\\\x22https:\\\\/\\\\/www.ibm.com\\\\/products\\\\/streamsets?lnk=flatitem\\\\x22,\\\\x22description\\\\x22:\\\\x22Graphical interface to build and manage streaming data pipelines\\\\x22},{\\\\x22title\\\\x22:\\\\x22Watson Discovery\\\\x22,\\\\x22url\\\\x22:\\\\x22https:\\\\/\\\\/www.ibm.com\\\\/products\\\\/watson\\\\u002Ddiscovery?lnk=flatitem\\\\x22,\\\\x22description\\\\x22:\\\\x22AI to search in and answer questions about business documents\\\\x22},{\\\\x22title\\\\x22:\\\\x22Watson Studio\\\\x22,\\\\x22url\\\\x22:\\\\x22https:\\\\/\\\\/www.ibm.com\\\\/products\\\\/watson\\\\u002Dstudio?lnk=flatitem\\\\x22,\\\\x22description\\\\x22:\\\\x22IDE to build, run and manage AI models\\\\x22}]}]},{\\\\x22heading\\\\x22:{\\\\x22title\\\\x22:\\\\x22Asset lifecycle management\\\\x22,\\\\x22url\\\\x22:\\\\x22https:\\\\/\\\\/www.ibm.com\\\\/solutions\\\\/asset\\\\u002Dlifecycle\\\\u002Dmanagement\\\\x22,\\\\x22description\\\\x22:\\\\x22Manage and maintain physical assets\\\\x22},\\\\x22groups\\\\x22:[{\\\\x22heading\\\\x22:{\\\\x22title\\\\x22:\\\\x22\\\\x22,\\\\x22description\\\\x22:\\\\x22\\\\x22},\\\\x22links\\\\x22:[{\\\\x22title\\\\x22:\\\\x22Environmental Intelligence\\\\x22,\\\\x22url\\\\x22:\\\\x22https:\\\\/\\\\/www.ibm.com\\\\/products\\\\/environmental\\\\u002Dintelligence?lnk=flatitem\\\\x22,\\\\x22description\\\\x22:\\\\x22SaaS for predicting and responding to weather and climate events\\\\x22},{\\\\x22title\\\\x22:\\\\x22Envizi\\\\x22,\\\\x22url\\\\x22:\\\\x22https:\\\\/\\\\/www.ibm.com\\\\/products\\\\/envizi?lnk=flatitem\\\\x22,\\\\x22description\\\\x22:\\\\x22ESG data management, reporting and analysis SaaS\\\\x22},{\\\\x22title\\\\x22:\\\\x22Maximo\\\\x22,\\\\x22url\\\\x22:\\\\x22https:\\\\/\\\\/www.ibm.com\\\\/products\\\\/maximo?lnk=flatitem\\\\x22,\\\\x22description\\\\x22:\\\\x22Software for asset management and related workflows\\\\x22},{\\\\x22title\\\\x22:\\\\x22TRIRIGA\\\\x22,\\\\x22url\\\\x22:\\\\x22https:\\\\/\\\\/www.ibm.com\\\\/products\\\\/tririga?lnk=flatitem\\\\x22,\\\\x22description\\\\x22:\\\\x22Software for real estate and workplace management\\\\x22}]}]},{\\\\x22heading\\\\x22:{\\\\x22title\\\\x22:\\\\x22Business automation\\\\x22,\\\\x22description\\\\x22:\\\\x22Automate workflows and business processes\\\\x22},\\\\x22groups\\\\x22:[{\\\\x22heading\\\\x22:{\\\\x22title\\\\x22:\\\\x22\\\\x22,\\\\x22description\\\\x22:\\\\x22\\\\x22},\\\\x22links\\\\x22:[{\\\\x22title\\\\x22:\\\\x22Blueworks Live\\\\x22,\\\\x22url\\\\x22:\\\\x22https:\\\\/\\\\/www.ibm.com\\\\/products\\\\/blueworkslive?lnk=flatitem\\\\x22,\\\\x22description\\\\x22:\\\\x22SaaS for collaboratively modeling business processes\\\\x22},{\\\\x22title\\\\x22:\\\\x22Business Automation Manager Open Editions\\\\x22,\\\\x22url\\\\x22:\\\\x22https:\\\\/\\\\/www.ibm.com\\\\/products\\\\/business\\\\u002Dautomation\\\\u002Dmanager\\\\u002Dopen\\\\u002Deditions?lnk=flatitem\\\\x22,\\\\x22description\\\\x22:\\\\x22Workflow automation and decision management software\\\\x22},{\\\\x22title\\\\x22:\\\\x22Business Automation Workflow\\\\x22,\\\\x22url\\\\x22:\\\\x22https:\\\\/\\\\/www.ibm.com\\\\/products\\\\/business\\\\u002Dautomation\\\\u002Dworkflow?lnk=flatitem\\\\x22,\\\\x22description\\\\x22:\\\\x22Cloud Pak for Business Automation add\\\\u002Don to automate workflows\\\\x22},{\\\\x22title\\\\x22:\\\\x22Cloud Pak for Business Automation\\\\x22,\\\\x22url\\\\x22:\\\\x22https:\\\\/\\\\/www.ibm.com\\\\/products\\\\/cloud\\\\u002Dpak\\\\u002Dfor\\\\u002Dbusiness\\\\u002Dautomation?lnk=flatitem\\\\x22,\\\\x22description\\\\x22:\\\\x22Operations management software with AI insights\\\\x22},{\\\\x22title\\\\x22:\\\\x22Datacap\\\\x22,\\\\x22url\\\\x22:\\\\x22https:\\\\/\\\\/www.ibm.com\\\\/products\\\\/data\\\\u002Dcapture\\\\u002Dand\\\\u002Dimaging?lnk=flatitem\\\\x22,\\\\x22description\\\\x22:\\\\x22Document management for IBM Cloud Pak for Business Automation\\\\x22},{\\\\x22title\\\\x22:\\\\x22FileNet Content Manager\\\\x22,\\\\x22url\\\\x22:\\\\x22https:\\\\/\\\\/www.ibm.com\\\\/products\\\\/filenet\\\\u002Dcontent\\\\u002Dmanager?lnk=flatitem\\\\x22,\\\\x22description\\\\x22:\\\\x22Content management solution for Cloud Pak for Business Automation\\\\x22},{\\\\x22title\\\\x22:\\\\x22Operational Decision Manager\\\\x22,\\\\x22url\\\\x22:\\\\x22https:\\\\/\\\\/www.ibm.com\\\\/products\\\\/operational\\\\u002Ddecision\\\\u002Dmanager?lnk=flatitem\\\\x22,\\\\x22description\\\\x22:\\\\x22Cloud Pak for Business Automation addon for rule\\\\u002Dbased decisions\\\\x22},{\\\\x22title\\\\x22:\\\\x22Process Mining\\\\x22,\\\\x22url\\\\x22:\\\\x22https:\\\\/\\\\/www.ibm.com\\\\/products\\\\/process\\\\u002Dmining?lnk=flatitem\\\\x22,\\\\x22description\\\\x22:\\\\x22Software to extract process data from business applications\\\\x22},{\\\\x22title\\\\x22:\\\\x22Robotic Process Automation (RPA)\\\\x22,\\\\x22url\\\\x22:\\\\x22https:\\\\/\\\\/www.ibm.com\\\\/products\\\\/robotic\\\\u002Dprocess\\\\u002Dautomation?lnk=flatitem\\\\x22,\\\\x22description\\\\x22:\\\\x22Software to automate workflows and business processes\\\\x22},{\\\\x22title\\\\x22:\\\\x22watsonx Orchestrate\\\\x22,\\\\x22url\\\\x22:\\\\x22https:\\\\/\\\\/www.ibm.com\\\\/products\\\\/watsonx\\\\u002Dorchestrate?lnk=flatitem\\\\x22,\\\\x22description\\\\x22:\\\\x22Personal\\\\u002Dassistant software that automates repetitive tasks\\\\x22}]}]},{\\\\x22heading\\\\x22:{\\\\x22title\\\\x22:\\\\x22Containers\\\\x22,\\\\x22url\\\\x22:\\\\x22https:\\\\/\\\\/www.ibm.com\\\\/solutions\\\\/containers?lnk=flathl\\\\x22,\\\\x22description\\\\x22:\\\\x22Allocate compute infrastructure on demand\\\\x22},\\\\x22groups\\\\x22:[{\\\\x22heading\\\\x22:{\\\\x22title\\\\x22:\\\\x22\\\\x22,\\\\x22description\\\\x22:\\\\x22\\\\x22},\\\\x22links\\\\x22:[{\\\\x22title\\\\x22:\\\\x22Cloud Satellite\\\\x22,\\\\x22url\\\\x22:\\\\x22https:\\\\/\\\\/www.ibm.com\\\\/products\\\\/satellite?lnk=flatitem\\\\x22,\\\\x22description\\\\x22:\\\\x22Platform for running managed cloud services on any infrastructure\\\\x22},{\\\\x22title\\\\x22:\\\\x22Code Engine\\\\x22,\\\\x22url\\\\x22:\\\\x22https:\\\\/\\\\/www.ibm.com\\\\/products\\\\/code\\\\u002Dengine?lnk=flatitem\\\\x22,\\\\x22description\\\\x22:\\\\x22Managed serverless runtime for containers, batch jobs, or code\\\\x22},{\\\\x22title\\\\x22:\\\\x22Container Registry\\\\x22,\\\\x22url\\\\x22:\\\\x22https:\\\\/\\\\/www.ibm.com\\\\/products\\\\/container\\\\u002Dregistry?lnk=flatitem\\\\x22,\\\\x22description\\\\x22:\\\\x22Private SaaS registry for container storage and management\\\\x22},{\\\\x22title\\\\x22:\\\\x22Kubernetes Service\\\\x22,\\\\x22url\\\\x22:\\\\x22https:\\\\/\\\\/www.ibm.com\\\\/products\\\\/kubernetes\\\\u002Dservice?lnk=flatitem\\\\x22,\\\\x22description\\\\x22:\\\\x22Managed Kubernetes for high availability container deployments\\\\x22},{\\\\x22title\\\\x22:\\\\x22Red Hat OpenShift on IBM Cloud\\\\x22,\\\\x22url\\\\x22:\\\\x22https:\\\\/\\\\/www.ibm.com\\\\/products\\\\/openshift?lnk=flatitem\\\\x22,\\\\x22description\\\\x22:\\\\x22Managed service with tools for security, management and monitoring\\\\x22}]}]},{\\\\x22heading\\\\x22:{\\\\x22title\\\\x22:\\\\x22Databases\\\\x22,\\\\x22url\\\\x22:\\\\x22https:\\\\/\\\\/www.ibm.com\\\\/solutions\\\\/database\\\\x22,\\\\x22description\\\\x22:\\\\x22Store, query and analyze structured data\\\\x22},\\\\x22groups\\\\x22:[{\\\\x22heading\\\\x22:{\\\\x22title\\\\x22:\\\\x22\\\\x22,\\\\x22description\\\\x22:\\\\x22\\\\x22},\\\\x22links\\\\x22:[{\\\\x22title\\\\x22:\\\\x22Cloudant\\\\x22,\\\\x22url\\\\x22:\\\\x22https:\\\\/\\\\/www.ibm.com\\\\/products\\\\/cloudant?lnk=flatitem\\\\x22,\\\\x22description\\\\x22:\\\\x22Managed PCI\\\\u002Dcompliant JSON document store on Apache CouchDB\\\\x22},{\\\\x22title\\\\x22:\\\\x22Db2\\\\x22,\\\\x22url\\\\x22:\\\\x22https:\\\\/\\\\/www.ibm.com\\\\/products\\\\/db2\\\\u002Ddatabase?lnk=flatitem\\\\x22,\\\\x22description\\\\x22:\\\\x22Data management software including IBM Db2 Database\\\\x22},{\\\\x22title\\\\x22:\\\\x22Db2 for z\\\\/OS\\\\x22,\\\\x22url\\\\x22:\\\\x22https:\\\\/\\\\/www.ibm.com\\\\/products\\\\/db2\\\\u002Dfor\\\\u002Dzos?lnk=flatitem\\\\x22,\\\\x22description\\\\x22:\\\\x22IBM Db2 Database for IBM Z mainframes\\\\x22},{\\\\x22title\\\\x22:\\\\x22IBM Cloud Databases for Elastic Search\\\\x22,\\\\x22url\\\\x22:\\\\x22https:\\\\/\\\\/www.ibm.com\\\\/products\\\\/databases\\\\u002Dfor\\\\u002Delasticsearch?lnk=flatitem\\\\x22,\\\\x22description\\\\x22:\\\\x22JSON document store for full\\\\u002Dtext search\\\\x22},{\\\\x22title\\\\x22:\\\\x22IBM Cloud Databases for EnterpriseDB\\\\x22,\\\\x22url\\\\x22:\\\\x22https:\\\\/\\\\/www.ibm.com\\\\/products\\\\/databases\\\\u002Dfor\\\\u002Denterprisedb?lnk=flatitem\\\\x22,\\\\x22description\\\\x22:\\\\x22PostgreSQL with added performance, security and management features\\\\x22},{\\\\x22title\\\\x22:\\\\x22IBM Cloud Databases for MongoDB\\\\x22,\\\\x22url\\\\x22:\\\\x22https:\\\\/\\\\/www.ibm.com\\\\/products\\\\/databases\\\\u002Dfor\\\\u002Dmongodb?lnk=flatitem\\\\x22,\\\\x22description\\\\x22:\\\\x22Managed NoSQL JSON document store\\\\x22},{\\\\x22title\\\\x22:\\\\x22IBM Cloud Databases for MySQL\\\\x22,\\\\x22url\\\\x22:\\\\x22https:\\\\/\\\\/www.ibm.com\\\\/products\\\\/databases\\\\u002Dfor\\\\u002Dmysql?lnk=flatitem\\\\x22,\\\\x22description\\\\x22:\\\\x22Managed SQL database\\\\x22},{\\\\x22title\\\\x22:\\\\x22IBM Cloud Databases for PostgreSQL\\\\x22,\\\\x22url\\\\x22:\\\\x22https:\\\\/\\\\/www.ibm.com\\\\/products\\\\/databases\\\\u002Dfor\\\\u002Dpostgresql?lnk=flatitem\\\\x22,\\\\x22description\\\\x22:\\\\x22Managed SQL database with advanced features\\\\x22},{\\\\x22title\\\\x22:\\\\x22IBM Cloud Databases for etcd\\\\x22,\\\\x22url\\\\x22:\\\\x22https:\\\\/\\\\/www.ibm.com\\\\/products\\\\/databases\\\\u002Dfor\\\\u002Detcd?lnk=flatitem\\\\x22,\\\\x22description\\\\x22:\\\\x22Distributed key\\\\u002Dvalue store\\\\x22},{\\\\x22title\\\\x22:\\\\x22Information Management System (IMS)\\\\x22,\\\\x22url\\\\x22:\\\\x22https:\\\\/\\\\/www.ibm.com\\\\/products\\\\/ims?lnk=flatitem\\\\x22,\\\\x22description\\\\x22:\\\\x22Database and management system for high\\\\u002Dvolume transactions\\\\x22},{\\\\x22title\\\\x22:\\\\x22Informix\\\\x22,\\\\x22url\\\\x22:\\\\x22https:\\\\/\\\\/www.ibm.com\\\\/products\\\\/informix?lnk=flatitem\\\\x22,\\\\x22description\\\\x22:\\\\x22Embeddable database for SQL, NoSQL, time\\\\u002Dseries and spatial data\\\\x22}]}]},{\\\\x22heading\\\\x22:{\\\\x22title\\\\x22:\\\\x22DevOps \\\\x26 Engineering\\\\x22,\\\\x22url\\\\x22:\\\\x22https:\\\\/\\\\/www.ibm.com\\\\/solutions\\\\/devops\\\\x22,\\\\x22description\\\\x22:\\\\x22Manage infrastructure, environments and deployments\\\\x22},\\\\x22groups\\\\x22:[{\\\\x22heading\\\\x22:{\\\\x22title\\\\x22:\\\\x22\\\\x22,\\\\x22description\\\\x22:\\\\x22\\\\x22},\\\\x22links\\\\x22:[{\\\\x22title\\\\x22:\\\\x22Application Delivery Foundation for z\\\\/OS\\\\x22,\\\\x22url\\\\x22:\\\\x22https:\\\\/\\\\/www.ibm.com\\\\/products\\\\/app\\\\u002Ddelivery\\\\u002Dfoundation\\\\u002Dfor\\\\u002Dzos?lnk=flatitem\\\\x22,\\\\x22description\\\\x22:\\\\x22Application development and DevOps tools for z\\\\/OS\\\\x22},{\\\\x22title\\\\x22:\\\\x22Application Discovery and Delivery Intelligence\\\\x22,\\\\x22url\\\\x22:\\\\x22https:\\\\/\\\\/www.ibm.com\\\\/products\\\\/app\\\\u002Ddiscovery\\\\u002Dand\\\\u002Ddelivery\\\\u002Dintelligence?lnk=flatitem\\\\x22,\\\\x22description\\\\x22:\\\\x22Analysis tool for visualizing applications, data and jobs on z\\\\/OS\\\\x22},{\\\\x22title\\\\x22:\\\\x22Cloud Continuous Delivery\\\\x22,\\\\x22url\\\\x22:\\\\x22https:\\\\/\\\\/www.ibm.com\\\\/products\\\\/continuous\\\\u002Ddelivery?lnk=flatitem\\\\x22,\\\\x22description\\\\x22:\\\\x22Toolchains to automate building and deploying applications\\\\x22},{\\\\x22title\\\\x22:\\\\x22Cloud Pak for AIOps\\\\x22,\\\\x22url\\\\x22:\\\\x22https:\\\\/\\\\/www.ibm.com\\\\/products\\\\/cloud\\\\u002Dpak\\\\u002Dfor\\\\u002Daiops?lnk=flatitem\\\\x22,\\\\x22description\\\\x22:\\\\x22DevOps management tool with AI analysis and recommendations\\\\x22},{\\\\x22title\\\\x22:\\\\x22DevOps Build\\\\x22,\\\\x22url\\\\x22:\\\\x22https:\\\\/\\\\/www.ibm.com\\\\/products\\\\/devops\\\\u002Dbuild?lnk=flatitem\\\\x22,\\\\x22description\\\\x22:\\\\x22Management tool for configuring and running software builds\\\\x22},{\\\\x22title\\\\x22:\\\\x22DevOps Code ClearCase\\\\x22,\\\\x22url\\\\x22:\\\\x22https:\\\\/\\\\/www.ibm.com\\\\/products\\\\/devops\\\\u002Dcode\\\\u002Dclearcase?lnk=flatitem\\\\x22,\\\\x22description\\\\x22:\\\\x22Configuration management system for software asset access control\\\\x22},{\\\\x22title\\\\x22:\\\\x22DevOps Deploy\\\\x22,\\\\x22url\\\\x22:\\\\x22https:\\\\/\\\\/www.ibm.com\\\\/products\\\\/devops\\\\u002Ddeploy?lnk=flatitem\\\\x22,\\\\x22description\\\\x22:\\\\x22Automation software for continuous delivery and deployment\\\\x22},{\\\\x22title\\\\x22:\\\\x22DevOps Plan\\\\x22,\\\\x22url\\\\x22:\\\\x22https:\\\\/\\\\/www.ibm.com\\\\/products\\\\/devops\\\\u002Dplan?lnk=flatitem\\\\x22,\\\\x22description\\\\x22:\\\\x22Streamline delivery with low\\\\u002Dcode workflow management\\\\x22},{\\\\x22title\\\\x22:\\\\x22DevOps Test\\\\x22,\\\\x22url\\\\x22:\\\\x22https:\\\\/\\\\/www.ibm.com\\\\/products\\\\/devops\\\\u002Dtest?lnk=flatitem\\\\x22,\\\\x22description\\\\x22:\\\\x22Continuous testing and virtualization platform\\\\x22},{\\\\x22title\\\\x22:\\\\x22DevOps Velocity\\\\x22,\\\\x22url\\\\x22:\\\\x22https:\\\\/\\\\/www.ibm.com\\\\/products\\\\/devops\\\\u002Dvelocity?lnk=flatitem\\\\x22,\\\\x22description\\\\x22:\\\\x22Release management software for pipeline orchestration and analytics\\\\x22},{\\\\x22title\\\\x22:\\\\x22Engineering Lifecycle Management\\\\x22,\\\\x22url\\\\x22:\\\\x22https:\\\\/\\\\/www.ibm.com\\\\/products\\\\/engineering\\\\u002Dlifecycle\\\\u002Dmanagement?lnk=flatitem\\\\x22,\\\\x22description\\\\x22:\\\\x22Software for product and application lifecycle management\\\\x22},{\\\\x22title\\\\x22:\\\\x22IBM DevOps Automation\\\\x22,\\\\x22url\\\\x22:\\\\x22https:\\\\/\\\\/www.ibm.com\\\\/devops\\\\u002Dautomation?lnk=flatitem\\\\x22,\\\\x22description\\\\x22:\\\\x22Automate software delivery processes\\\\x22},{\\\\x22title\\\\x22:\\\\x22IBM i Modernization Engine\\\\x22,\\\\x22url\\\\x22:\\\\x22https:\\\\/\\\\/www.ibm.com\\\\/products\\\\/ibm\\\\u002Di\\\\u002Dmerlin?lnk=flatitem\\\\x22,\\\\x22description\\\\x22:\\\\x22Development and modernization tools for IBM i applications\\\\x22},{\\\\x22title\\\\x22:\\\\x22Test Accelerator for Z\\\\x22,\\\\x22url\\\\x22:\\\\x22https:\\\\/\\\\/www.ibm.com\\\\/products\\\\/test\\\\u002Daccelerator\\\\u002Dz?lnk=flatitem\\\\x22,\\\\x22description\\\\x22:\\\\x22Test automation and test generation framework for z\\\\/OS\\\\x22}]}]},{\\\\x22heading\\\\x22:{\\\\x22title\\\\x22:\\\\x22IT automation\\\\x22,\\\\x22url\\\\x22:\\\\x22https:\\\\/\\\\/www.ibm.com\\\\/solutions\\\\/automation\\\\x22,\\\\x22description\\\\x22:\\\\x22Automate IT applications and infrastructure management\\\\x22},\\\\x22groups\\\\x22:[{\\\\x22heading\\\\x22:{\\\\x22title\\\\x22:\\\\x22\\\\x22,\\\\x22description\\\\x22:\\\\x22\\\\x22},\\\\x22links\\\\x22:[{\\\\x22title\\\\x22:\\\\x22Apptio\\\\x22,\\\\x22url\\\\x22:\\\\x22https:\\\\/\\\\/www.ibm.com\\\\/products\\\\/apptio?lnk=flatitem\\\\x22,\\\\x22description\\\\x22:\\\\x22Hybrid cloud financial management and planning software\\\\x22},{\\\\x22title\\\\x22:\\\\x22Cloud App Configuration\\\\x22,\\\\x22url\\\\x22:\\\\x22https:\\\\/\\\\/www.ibm.com\\\\/products\\\\/app\\\\u002Dconfiguration?lnk=flatitem\\\\x22,\\\\x22description\\\\x22:\\\\x22Feature management and configuration service for web and mobile apps\\\\x22},{\\\\x22title\\\\x22:\\\\x22Cloud Event Notifications\\\\x22,\\\\x22url\\\\x22:\\\\x22https:\\\\/\\\\/www.ibm.com\\\\/products\\\\/event\\\\u002Dnotifications?lnk=flatitem\\\\x22,\\\\x22description\\\\x22:\\\\x22Notification and workflow automation service for IBM Cloud events\\\\x22},{\\\\x22title\\\\x22:\\\\x22Cloud Monitoring\\\\x22,\\\\x22url\\\\x22:\\\\x22https:\\\\/\\\\/www.ibm.com\\\\/products\\\\/cloud\\\\u002Dmonitoring?lnk=flatitem\\\\x22,\\\\x22description\\\\x22:\\\\x22Hosted monitoring tool for organization\\\\u002Dwide system performance\\\\x22},{\\\\x22title\\\\x22:\\\\x22Cloud Pak for AIOps\\\\x22,\\\\x22url\\\\x22:\\\\x22https:\\\\/\\\\/www.ibm.com\\\\/products\\\\/cloud\\\\u002Dpak\\\\u002Dfor\\\\u002Daiops?lnk=flatitem\\\\x22,\\\\x22description\\\\x22:\\\\x22DevOps management tool with AI analysis and recommendations\\\\x22},{\\\\x22title\\\\x22:\\\\x22Cloud Schematics\\\\x22,\\\\x22url\\\\x22:\\\\x22https:\\\\/\\\\/www.ibm.com\\\\/products\\\\/schematics?lnk=flatitem\\\\x22,\\\\x22description\\\\x22:\\\\x22Management and provisionining of cloud infrastructure with code\\\\x22},{\\\\x22title\\\\x22:\\\\x22Concert\\\\x22,\\\\x22url\\\\x22:\\\\x22https:\\\\/\\\\/www.ibm.com\\\\/products\\\\/concert?lnk=flatitem\\\\x22,\\\\x22description\\\\x22:\\\\x22Software to manage applications, mitigate risks and enhance resilience\\\\x22},{\\\\x22title\\\\x22:\\\\x22Flexera One\\\\x22,\\\\x22url\\\\x22:\\\\x22https:\\\\/\\\\/www.ibm.com\\\\/products\\\\/flexera\\\\u002Done?lnk=flatitem\\\\x22,\\\\x22description\\\\x22:\\\\x22IT asset management software\\\\x22},{\\\\x22title\\\\x22:\\\\x22HashiCorp\\\\x22,\\\\x22url\\\\x22:\\\\x22https:\\\\/\\\\/www.ibm.com\\\\/products\\\\/hashicorp?lnk=flatitem\\\\x22,\\\\x22description\\\\x22:\\\\x22Manage cloud infrastructure and security\\\\x22},{\\\\x22title\\\\x22:\\\\x22IBM Cloud Logs\\\\x22,\\\\x22url\\\\x22:\\\\x22https:\\\\/\\\\/www.ibm.com\\\\/products\\\\/cloud\\\\u002Dlogs?lnk=flatitem\\\\x22,\\\\x22description\\\\x22:\\\\x22Logging and observability service for applications and infrastructure\\\\x22},{\\\\x22title\\\\x22:\\\\x22Instana\\\\x22,\\\\x22url\\\\x22:\\\\x22https:\\\\/\\\\/www.ibm.com\\\\/products\\\\/instana?lnk=flatitem\\\\x22,\\\\x22description\\\\x22:\\\\x22Software for application performance monitoring and automation\\\\x22},{\\\\x22title\\\\x22:\\\\x22Turbonomic\\\\x22,\\\\x22url\\\\x22:\\\\x22https:\\\\/\\\\/www.ibm.com\\\\/products\\\\/turbonomic?lnk=flatitem\\\\x22,\\\\x22description\\\\x22:\\\\x22Software to manage and optimize IT resource usage\\\\x22},{\\\\x22title\\\\x22:\\\\x22Z IntelliMagic Vision for z\\\\/OS\\\\x22,\\\\x22url\\\\x22:\\\\x22https:\\\\/\\\\/www.ibm.com\\\\/products\\\\/z\\\\u002Dintellimagic\\\\u002Dvision\\\\u002Dfor\\\\u002Dzos?lnk=flatitem\\\\x22,\\\\x22description\\\\x22:\\\\x22Infrastructure performance management and monitoring software\\\\x22},{\\\\x22title\\\\x22:\\\\x22Z Service Management Suite\\\\x22,\\\\x22url\\\\x22:\\\\x22https:\\\\/\\\\/www.ibm.com\\\\/products\\\\/z\\\\u002Dservice\\\\u002Dmanagement\\\\u002Dsuite?lnk=flatitem\\\\x22,\\\\x22description\\\\x22:\\\\x22Monitoring, control, and automation suite for Z\\\\x22}]}]},{\\\\x22heading\\\\x22:{\\\\x22title\\\\x22:\\\\x22Middleware\\\\x22,\\\\x22url\\\\x22:\\\\x22https:\\\\/\\\\/www.ibm.com\\\\/solutions\\\\/automation\\\\x22,\\\\x22description\\\\x22:\\\\x22Connect your applications, data and events\\\\x22},\\\\x22groups\\\\x22:[{\\\\x22heading\\\\x22:{\\\\x22title\\\\x22:\\\\x22\\\\x22,\\\\x22description\\\\x22:\\\\x22\\\\x22},\\\\x22links\\\\x22:[{\\\\x22title\\\\x22:\\\\x22API Connect\\\\x22,\\\\x22url\\\\x22:\\\\x22https:\\\\/\\\\/www.ibm.com\\\\/products\\\\/api\\\\u002Dconnect?lnk=flatitem\\\\x22,\\\\x22description\\\\x22:\\\\x22Software to rapidly create, protect, socialize and manage APIs\\\\x22},{\\\\x22title\\\\x22:\\\\x22App Connect\\\\x22,\\\\x22url\\\\x22:\\\\x22https:\\\\/\\\\/www.ibm.com\\\\/products\\\\/app\\\\u002Dconnect?lnk=flatitem\\\\x22,\\\\x22description\\\\x22:\\\\x22Codeless connectors for your data, apps and APIs\\\\x22},{\\\\x22title\\\\x22:\\\\x22Aspera\\\\x22,\\\\x22url\\\\x22:\\\\x22https:\\\\/\\\\/www.ibm.com\\\\/products\\\\/aspera?lnk=flatitem\\\\x22,\\\\x22description\\\\x22:\\\\x22System to transfer, sync or stream huge data globally\\\\x22},{\\\\x22title\\\\x22:\\\\x22CICS Transaction Server for z\\\\/OS\\\\x22,\\\\x22url\\\\x22:\\\\x22https:\\\\/\\\\/www.ibm.com\\\\/products\\\\/cics\\\\u002Dtransaction\\\\u002Dserver?lnk=flatitem\\\\x22,\\\\x22description\\\\x22:\\\\x22Application server for online transaction processing\\\\x22},{\\\\x22title\\\\x22:\\\\x22Cloud Pak for Applications\\\\x22,\\\\x22url\\\\x22:\\\\x22https:\\\\/\\\\/www.ibm.com\\\\/products\\\\/cloud\\\\u002Dpak\\\\u002Dfor\\\\u002Dapplications?lnk=flatitem\\\\x22,\\\\x22description\\\\x22:\\\\x22Kubernetes\\\\u002Dbased platform for hybrid cloud applications\\\\x22},{\\\\x22title\\\\x22:\\\\x22Cloud Pak for Integration\\\\x22,\\\\x22url\\\\x22:\\\\x22https:\\\\/\\\\/www.ibm.com\\\\/products\\\\/cloud\\\\u002Dpak\\\\u002Dfor\\\\u002Dintegration?lnk=flatitem\\\\x22,\\\\x22description\\\\x22:\\\\x22Tools to connect all of your apps, data and events\\\\x22},{\\\\x22title\\\\x22:\\\\x22DataPower\\\\x22,\\\\x22url\\\\x22:\\\\x22https:\\\\/\\\\/www.ibm.com\\\\/products\\\\/datapower\\\\u002Dgateway?lnk=flatitem\\\\x22,\\\\x22description\\\\x22:\\\\x22Physical or virtual multi\\\\u002Dprotocol network gateway\\\\x22},{\\\\x22title\\\\x22:\\\\x22Event Automation\\\\x22,\\\\x22url\\\\x22:\\\\x22https:\\\\/\\\\/www.ibm.com\\\\/products\\\\/event\\\\u002Dautomation?lnk=flatitem\\\\x22,\\\\x22description\\\\x22:\\\\x22No\\\\u002Dcode tool for building automated event driven workflows\\\\x22},{\\\\x22title\\\\x22:\\\\x22Event Streams\\\\x22,\\\\x22url\\\\x22:\\\\x22https:\\\\/\\\\/www.ibm.com\\\\/products\\\\/event\\\\u002Dstreams?lnk=flatitem\\\\x22,\\\\x22description\\\\x22:\\\\x22PaaS stream processing based on Apache Kafka\\\\x22},{\\\\x22title\\\\x22:\\\\x22IBM Cloud Messages for RabbitMQ\\\\x22,\\\\x22url\\\\x22:\\\\x22https:\\\\/\\\\/www.ibm.com\\\\/products\\\\/messages\\\\u002Dfor\\\\u002Drabbitmq?lnk=flatitem\\\\x22,\\\\x22description\\\\x22:\\\\x22Managed open\\\\u002Dsource message broker\\\\x22},{\\\\x22title\\\\x22:\\\\x22IBM Sterling \\\\u002D Data Exchange\\\\x22,\\\\x22url\\\\x22:\\\\x22https:\\\\/\\\\/www.ibm.com\\\\/sterling\\\\x22,\\\\x22description\\\\x22:\\\\x22B2B Integration\\\\/EDI and managed file transfer software and SaaS\\\\x22},{\\\\x22title\\\\x22:\\\\x22IBM webMethods Hybrid Integration\\\\x22,\\\\x22url\\\\x22:\\\\x22https:\\\\/\\\\/www.ibm.com\\\\/products\\\\/webmethods\\\\u002Dhybrid\\\\u002Dintegration?lnk=flatitem\\\\x22,\\\\x22description\\\\x22:\\\\x22AI powered automation software to unify integration workflows\\\\x22},{\\\\x22title\\\\x22:\\\\x22Information Management System\\\\x22,\\\\x22url\\\\x22:\\\\x22https:\\\\/\\\\/www.ibm.com\\\\/products\\\\/ims?lnk=flatitem\\\\x22,\\\\x22description\\\\x22:\\\\x22Hierarchical database and transaction processor for Z\\\\x22},{\\\\x22title\\\\x22:\\\\x22MQ\\\\x22,\\\\x22url\\\\x22:\\\\x22https:\\\\/\\\\/www.ibm.com\\\\/products\\\\/mq?lnk=flatitem\\\\x22,\\\\x22description\\\\x22:\\\\x22Software and hardware for messaging between distributed systems\\\\x22},{\\\\x22title\\\\x22:\\\\x22z\\\\/OS Connect\\\\x22,\\\\x22url\\\\x22:\\\\x22https:\\\\/\\\\/www.ibm.com\\\\/products\\\\/zos\\\\u002Dconnect?lnk=flatitem\\\\x22,\\\\x22description\\\\x22:\\\\x22Software to build and serve RESTful APIs to z\\\\/OS applications\\\\x22}]}]},{\\\\x22heading\\\\x22:{\\\\x22title\\\\x22:\\\\x22Network\\\\x22,\\\\x22url\\\\x22:\\\\x22https:\\\\/\\\\/www.ibm.com\\\\/network\\\\u002Dmanagement?lnk=flathl\\\\x22,\\\\x22description\\\\x22:\\\\x22Run and manage public, private and virtual networks\\\\x22},\\\\x22groups\\\\x22:[{\\\\x22heading\\\\x22:{\\\\x22title\\\\x22:\\\\x22\\\\x22,\\\\x22description\\\\x22:\\\\x22\\\\x22},\\\\x22links\\\\x22:[{\\\\x22title\\\\x22:\\\\x22Hybrid Cloud Mesh\\\\x22,\\\\x22url\\\\x22:\\\\x22https:\\\\/\\\\/www.ibm.com\\\\/products\\\\/hybrid\\\\u002Dcloud\\\\u002Dmesh?lnk=flatitem\\\\x22,\\\\x22description\\\\x22:\\\\x22Accelerate hybrid cloud application connectivity\\\\x22},{\\\\x22title\\\\x22:\\\\x22NS1 Connect\\\\x22,\\\\x22url\\\\x22:\\\\x22https:\\\\/\\\\/www.ibm.com\\\\/products\\\\/ns1\\\\u002Dconnect?lnk=flatitem\\\\x22,\\\\x22description\\\\x22:\\\\x22Managed authoritative DNS for traffic steering\\\\x22},{\\\\x22title\\\\x22:\\\\x22Rapid Infrastructure Automation\\\\x22,\\\\x22url\\\\x22:\\\\x22https:\\\\/\\\\/www.ibm.com\\\\/products\\\\/rapid\\\\u002Dnetwork\\\\u002Dautomation?lnk=flatitem\\\\x22,\\\\x22description\\\\x22:\\\\x22Low\\\\u002Dcode tool to build automation workflows apps and APIs\\\\x22},{\\\\x22title\\\\x22:\\\\x22SevOne\\\\x22,\\\\x22url\\\\x22:\\\\x22https:\\\\/\\\\/www.ibm.com\\\\/products\\\\/sevone\\\\u002Dnetwork\\\\u002Dperformance\\\\u002Dmanagement?lnk=flatitem\\\\x22,\\\\x22description\\\\x22:\\\\x22Drive application\\\\u002Dcentric network observability\\\\x22}]}]},{\\\\x22heading\\\\x22:{\\\\x22title\\\\x22:\\\\x22Operating systems\\\\x22,\\\\x22description\\\\x22:\\\\x22Run critical workloads on specialized operating systems\\\\x22},\\\\x22groups\\\\x22:[{\\\\x22heading\\\\x22:{\\\\x22title\\\\x22:\\\\x22\\\\x22,\\\\x22description\\\\x22:\\\\x22\\\\x22},\\\\x22links\\\\x22:[{\\\\x22title\\\\x22:\\\\x22AIX\\\\x22,\\\\x22url\\\\x22:\\\\x22https:\\\\/\\\\/www.ibm.com\\\\/products\\\\/aix?lnk=flatitem\\\\x22,\\\\x22description\\\\x22:\\\\x22UNIX operating system for Power servers\\\\x22},{\\\\x22title\\\\x22:\\\\x22IBM i\\\\x22,\\\\x22url\\\\x22:\\\\x22https:\\\\/\\\\/www.ibm.com\\\\/products\\\\/ibm\\\\u002Di?lnk=flatitem\\\\x22,\\\\x22description\\\\x22:\\\\x22Integrated operating system for Power servers\\\\x22},{\\\\x22title\\\\x22:\\\\x22Linux\\\\x22,\\\\x22url\\\\x22:\\\\x22https:\\\\/\\\\/www.ibm.com\\\\/linux?lnk=flatitem\\\\x22,\\\\x22description\\\\x22:\\\\x22Run Linux workloads on IBM servers\\\\x22},{\\\\x22title\\\\x22:\\\\x22z\\\\/OS\\\\x22,\\\\x22url\\\\x22:\\\\x22https:\\\\/\\\\/www.ibm.com\\\\/products\\\\/zos?lnk=flatitem\\\\x22,\\\\x22description\\\\x22:\\\\x22Flagship OS for continuous, high\\\\u002Dvolume mainframe operation\\\\x22},{\\\\x22title\\\\x22:\\\\x22z\\\\/TPF\\\\x22,\\\\x22url\\\\x22:\\\\x22https:\\\\/\\\\/www.ibm.com\\\\/products\\\\/z\\\\u002Dtransaction\\\\u002Dprocessing\\\\u002Dfacility?lnk=flatitem\\\\x22,\\\\x22description\\\\x22:\\\\x22Real\\\\u002Dtime operating system for mainframes\\\\x22},{\\\\x22title\\\\x22:\\\\x22z\\\\/VM\\\\x22,\\\\x22url\\\\x22:\\\\x22https:\\\\/\\\\/www.ibm.com\\\\/products\\\\/zvm?lnk=flatitem\\\\x22,\\\\x22description\\\\x22:\\\\x22Hypervisor and virtualization software for IBM Z and LinuxONE\\\\x22}]}]},{\\\\x22heading\\\\x22:{\\\\x22title\\\\x22:\\\\x22Quantum\\\\x22,\\\\x22url\\\\x22:\\\\x22https:\\\\/\\\\/www.ibm.com\\\\/quantum?lnk=flathl\\\\x22,\\\\x22description\\\\x22:\\\\x22Run code on real quantum systems using a full\\\\u002Dstack SDK\\\\x22},\\\\x22groups\\\\x22:[{\\\\x22heading\\\\x22:{\\\\x22title\\\\x22:\\\\x22\\\\x22,\\\\x22description\\\\x22:\\\\x22\\\\x22},\\\\x22links\\\\x22:[{\\\\x22title\\\\x22:\\\\x22Qiskit Runtime\\\\x22,\\\\x22url\\\\x22:\\\\x22https:\\\\/\\\\/www.ibm.com\\\\/quantum\\\\/qiskit?lnk=flatitem\\\\x22,\\\\x22description\\\\x22:\\\\x22Cloud service for executing quantum workloads at scale\\\\x22},{\\\\x22title\\\\x22:\\\\x22Quantum Safe\\\\x22,\\\\x22url\\\\x22:\\\\x22https:\\\\/\\\\/www.ibm.com\\\\/quantum\\\\/quantum\\\\u002Dsafe?lnk=flatitem\\\\x22,\\\\x22description\\\\x22:\\\\x22Technology and consulting services for quantum\\\\u002Dsafe cryptography\\\\x22},{\\\\x22title\\\\x22:\\\\x22Quantum Systems\\\\x22,\\\\x22url\\\\x22:\\\\x22https:\\\\/\\\\/www.ibm.com\\\\/quantum\\\\/technology?lnk=flatitem\\\\x22,\\\\x22description\\\\x22:\\\\x22Quantum computing systems accessible on the cloud\\\\x22}]}]},{\\\\x22heading\\\\x22:{\\\\x22title\\\\x22:\\\\x22Security \\\\x26 identity\\\\x22,\\\\x22url\\\\x22:\\\\x22https:\\\\/\\\\/www.ibm.com\\\\/solutions\\\\/security?lnk=flathl\\\\x22,\\\\x22description\\\\x22:\\\\x22Cloud\\\\u002Dnative software to secure resources and simplify compliance\\\\x22},\\\\x22groups\\\\x22:[{\\\\x22heading\\\\x22:{\\\\x22title\\\\x22:\\\\x22\\\\x22,\\\\x22description\\\\x22:\\\\x22\\\\x22},\\\\x22links\\\\x22:[{\\\\x22title\\\\x22:\\\\x22Cloud AppID\\\\x22,\\\\x22url\\\\x22:\\\\x22https:\\\\/\\\\/www.ibm.com\\\\/products\\\\/app\\\\u002Did?lnk=flatitem\\\\x22,\\\\x22description\\\\x22:\\\\x22Authentication and user profiles as a service for mobile and web apps\\\\x22},{\\\\x22title\\\\x22:\\\\x22Cloud Security and Compliance Center\\\\x22,\\\\x22url\\\\x22:\\\\x22https:\\\\/\\\\/www.ibm.com\\\\/products\\\\/security\\\\u002Dand\\\\u002Dcompliance\\\\u002Dcenter?lnk=flatitem\\\\x22,\\\\x22description\\\\x22:\\\\x22SaaS to define and audit the compliance posture of your cloud\\\\x22},{\\\\x22title\\\\x22:\\\\x22Guardium\\\\x22,\\\\x22url\\\\x22:\\\\x22https:\\\\/\\\\/www.ibm.com\\\\/guardium?lnk=flatitem\\\\x22,\\\\x22description\\\\x22:\\\\x22Suite for data encryption, management and simplified compliance\\\\x22},{\\\\x22title\\\\x22:\\\\x22Key Protect for IBM Cloud\\\\x22,\\\\x22url\\\\x22:\\\\x22https:\\\\/\\\\/www.ibm.com\\\\/products\\\\/key\\\\u002Dprotect?lnk=flatitem\\\\x22,\\\\x22description\\\\x22:\\\\x22Tool to provision and store keys for apps across IBM Cloud services\\\\x22},{\\\\x22title\\\\x22:\\\\x22MaaS360\\\\x22,\\\\x22url\\\\x22:\\\\x22https:\\\\/\\\\/www.ibm.com\\\\/products\\\\/maas360?lnk=flatitem\\\\x22,\\\\x22description\\\\x22:\\\\x22Unified endpoint management for mobile workforces\\\\x22},{\\\\x22title\\\\x22:\\\\x22QRadar EDR\\\\x22,\\\\x22url\\\\x22:\\\\x22https:\\\\/\\\\/www.ibm.com\\\\/products\\\\/qradar\\\\u002Dedr?lnk=flatitem\\\\x22,\\\\x22description\\\\x22:\\\\x22Advanced AI threat detection and response for endpoints\\\\x22},{\\\\x22title\\\\x22:\\\\x22QRadar SIEM\\\\x22,\\\\x22url\\\\x22:\\\\x22https:\\\\/\\\\/www.ibm.com\\\\/products\\\\/qradar\\\\u002Dsiem?lnk=flatitem\\\\x22,\\\\x22description\\\\x22:\\\\x22Threat detection and prioritization for real\\\\u002Dtime visibility\\\\x22},{\\\\x22title\\\\x22:\\\\x22QRadar SOAR\\\\x22,\\\\x22url\\\\x22:\\\\x22https:\\\\/\\\\/www.ibm.com\\\\/products\\\\/qradar\\\\u002Dsoar?lnk=flatitem\\\\x22,\\\\x22description\\\\x22:\\\\x22Automation and workflow management for security operations\\\\x22},{\\\\x22title\\\\x22:\\\\x22Secrets Manager\\\\x22,\\\\x22url\\\\x22:\\\\x22https:\\\\/\\\\/www.ibm.com\\\\/products\\\\/secrets\\\\u002Dmanager\\\\x22,\\\\x22description\\\\x22:\\\\x22Centrally manage your secrets in a single\\\\u002Dtenant, dedicated instance\\\\x22},{\\\\x22title\\\\x22:\\\\x22Trusteer\\\\x22,\\\\x22url\\\\x22:\\\\x22https:\\\\/\\\\/www.ibm.com\\\\/trusteer?lnk=flatitem\\\\x22,\\\\x22description\\\\x22:\\\\x22Software to authenticate customers, detect fraud and assess risk\\\\x22},{\\\\x22title\\\\x22:\\\\x22Verify\\\\x22,\\\\x22url\\\\x22:\\\\x22https:\\\\/\\\\/www.ibm.com\\\\/verify?lnk=flatitem\\\\x22,\\\\x22description\\\\x22:\\\\x22Identity, authentication, and access control software\\\\x22},{\\\\x22title\\\\x22:\\\\x22zSecure\\\\x22,\\\\x22url\\\\x22:\\\\x22https:\\\\/\\\\/www.ibm.com\\\\/zsecure?lnk=flatitem\\\\x22,\\\\x22description\\\\x22:\\\\x22Security, risk management and compliance tools for Z hardware\\\\x22}]}]},{\\\\x22heading\\\\x22:{\\\\x22title\\\\x22:\\\\x22Servers\\\\x22,\\\\x22url\\\\x22:\\\\x22https:\\\\/\\\\/www.ibm.com\\\\/solutions\\\\/servers?lnk=flathl\\\\x22,\\\\x22description\\\\x22:\\\\x22Run workloads on hybrid cloud infrastructure\\\\x22},\\\\x22groups\\\\x22:[{\\\\x22heading\\\\x22:{\\\\x22title\\\\x22:\\\\x22\\\\x22,\\\\x22description\\\\x22:\\\\x22\\\\x22},\\\\x22links\\\\x22:[{\\\\x22title\\\\x22:\\\\x22GPUs and AI Accelerators\\\\x22,\\\\x22url\\\\x22:\\\\x22https:\\\\/\\\\/www.ibm.com\\\\/cloud\\\\/gpu\\\\u002Dai\\\\u002Daccelerator\\\\x22,\\\\x22description\\\\x22:\\\\x22Access GPUs and AI Accelerators from NVIDIA, Intel Gaudi 3 and AMD\\\\x22},{\\\\x22title\\\\x22:\\\\x22IBM Cloud Bare Metal Servers\\\\x22,\\\\x22url\\\\x22:\\\\x22https:\\\\/\\\\/www.ibm.com\\\\/products\\\\/bare\\\\u002Dmetal\\\\u002Dservers?lnk=flatitem\\\\x22,\\\\x22description\\\\x22:\\\\x22Dedicated hardware for maximum performance\\\\x22},{\\\\x22title\\\\x22:\\\\x22IBM Cloud Virtual Servers for VPC\\\\x22,\\\\x22url\\\\x22:\\\\x22https:\\\\/\\\\/www.ibm.com\\\\/products\\\\/virtual\\\\u002Dservers?lnk=flatitem\\\\x22,\\\\x22description\\\\x22:\\\\x22Virtual servers with Intel Xeon or IBM Z CPUs\\\\x22},{\\\\x22title\\\\x22:\\\\x22LinuxONE 5\\\\x22,\\\\x22url\\\\x22:\\\\x22https:\\\\/\\\\/www.ibm.com\\\\/products\\\\/linuxone\\\\u002D5?lnk=flatitem\\\\x22,\\\\x22description\\\\x22:\\\\x22Physical and virtual servers for running Linux\\\\x22},{\\\\x22title\\\\x22:\\\\x22Power\\\\x22,\\\\x22url\\\\x22:\\\\x22https:\\\\/\\\\/www.ibm.com\\\\/power?lnk=flatitem\\\\x22,\\\\x22description\\\\x22:\\\\x22Physical and virtual servers with IBM Power CPUs\\\\x22},{\\\\x22title\\\\x22:\\\\x22z17\\\\x22,\\\\x22url\\\\x22:\\\\x22https:\\\\/\\\\/www.ibm.com\\\\/products\\\\/z17?lnk=flatitem\\\\x22,\\\\x22description\\\\x22:\\\\x22Flagship mainframe with on\\\\u002Dchip AI and quantum\\\\u002Dsafe cryptography\\\\x22}]}]},{\\\\x22heading\\\\x22:{\\\\x22title\\\\x22:\\\\x22Storage\\\\x22,\\\\x22url\\\\x22:\\\\x22https:\\\\/\\\\/www.ibm.com\\\\/solutions\\\\/storage?lnk=flathl\\\\x22,\\\\x22description\\\\x22:\\\\x22Software, hardware and services for critical and operational workloads and data\\\\x22},\\\\x22groups\\\\x22:[{\\\\x22heading\\\\x22:{\\\\x22title\\\\x22:\\\\x22\\\\x22,\\\\x22description\\\\x22:\\\\x22\\\\x22},\\\\x22links\\\\x22:[{\\\\x22title\\\\x22:\\\\x22Ceph\\\\x22,\\\\x22url\\\\x22:\\\\x22https:\\\\/\\\\/www.ibm.com\\\\/products\\\\/storage\\\\u002Dceph?lnk=flatitem\\\\x22,\\\\x22description\\\\x22:\\\\x22Multi\\\\u002Dprotocol software\\\\u002Ddefined enterprise storage platform\\\\x22},{\\\\x22title\\\\x22:\\\\x22Cloud Block Storage\\\\x22,\\\\x22url\\\\x22:\\\\x22https:\\\\/\\\\/www.ibm.com\\\\/products\\\\/block\\\\u002Dstorage?lnk=flatitem\\\\x22,\\\\x22description\\\\x22:\\\\x22Managed service optimized for low latency and high transfer rates\\\\x22},{\\\\x22title\\\\x22:\\\\x22Cloud File Storage\\\\x22,\\\\x22url\\\\x22:\\\\x22https:\\\\/\\\\/www.ibm.com\\\\/products\\\\/file\\\\u002Dstorage?lnk=flatitem\\\\x22,\\\\x22description\\\\x22:\\\\x22Managed service for flash\\\\u002Dbacked, durable, NFS\\\\u002Dbased file storage\\\\x22},{\\\\x22title\\\\x22:\\\\x22Cloud Object Storage\\\\x22,\\\\x22url\\\\x22:\\\\x22https:\\\\/\\\\/www.ibm.com\\\\/products\\\\/cloud\\\\u002Dobject\\\\u002Dstorage?lnk=flatitem\\\\x22,\\\\x22description\\\\x22:\\\\x22Unstructured data storage accessible via cloud APIs\\\\x22},{\\\\x22title\\\\x22:\\\\x22DS8000\\\\x22,\\\\x22url\\\\x22:\\\\x22https:\\\\/\\\\/www.ibm.com\\\\/products\\\\/ds8000?lnk=flatitem\\\\x22,\\\\x22description\\\\x22:\\\\x22High\\\\u002Dcapacity, high\\\\u002Davailability mainframe storage system\\\\x22},{\\\\x22title\\\\x22:\\\\x22Defender\\\\x22,\\\\x22url\\\\x22:\\\\x22https:\\\\/\\\\/www.ibm.com\\\\/products\\\\/storage\\\\u002Ddefender?lnk=flatitem\\\\x22,\\\\x22description\\\\x22:\\\\x22Data resiliency software for threat detection and data recovery\\\\x22},{\\\\x22title\\\\x22:\\\\x22FlashSystem\\\\x22,\\\\x22url\\\\x22:\\\\x22https:\\\\/\\\\/www.ibm.com\\\\/flashsystem?lnk=flatitem\\\\x22,\\\\x22description\\\\x22:\\\\x22All\\\\u002Dflash array with performance and capacity for any workload\\\\x22},{\\\\x22title\\\\x22:\\\\x22Fusion\\\\x22,\\\\x22url\\\\x22:\\\\x22https:\\\\/\\\\/www.ibm.com\\\\/products\\\\/storage\\\\u002Dfusion?lnk=flatitem\\\\x22,\\\\x22description\\\\x22:\\\\x22Container\\\\u002Dnative storage and data orchestration for OpenShift\\\\x22},{\\\\x22title\\\\x22:\\\\x22Insights\\\\x22,\\\\x22url\\\\x22:\\\\x22https:\\\\/\\\\/www.ibm.com\\\\/products\\\\/storage\\\\u002Dinsights?lnk=flatitem\\\\x22,\\\\x22description\\\\x22:\\\\x22Storage AIOps for metrics\\\\u002Dpowered analysis and decisions\\\\x22},{\\\\x22title\\\\x22:\\\\x22Protect\\\\x22,\\\\x22url\\\\x22:\\\\x22https:\\\\/\\\\/www.ibm.com\\\\/products\\\\/storage\\\\u002Dprotect?lnk=flatitem\\\\x22,\\\\x22description\\\\x22:\\\\x22Data resiliency, backup and recovery delivered via SaaS\\\\x22},{\\\\x22title\\\\x22:\\\\x22Protect for Cloud\\\\x22,\\\\x22url\\\\x22:\\\\x22https:\\\\/\\\\/www.ibm.com\\\\/products\\\\/storage\\\\u002Dprotect\\\\u002Dfor\\\\u002Dcloud?lnk=flatitem\\\\x22,\\\\x22description\\\\x22:\\\\x22Backup and recovery SaaS for data in public cloud services\\\\x22},{\\\\x22title\\\\x22:\\\\x22SAN Switches\\\\x22,\\\\x22url\\\\x22:\\\\x22https:\\\\/\\\\/www.ibm.com\\\\/storage\\\\u002Darea\\\\u002Dnetwork?lnk=flatitem\\\\x22,\\\\x22description\\\\x22:\\\\x22Scalable and highly available storage area network solutions\\\\x22},{\\\\x22title\\\\x22:\\\\x22Scale\\\\x22,\\\\x22url\\\\x22:\\\\x22https:\\\\/\\\\/www.ibm.com\\\\/products\\\\/storage\\\\u002Dscale?lnk=flatitem\\\\x22,\\\\x22description\\\\x22:\\\\x22Software defined storage for AI and high performance workloads\\\\x22},{\\\\x22title\\\\x22:\\\\x22Scale System\\\\x22,\\\\x22url\\\\x22:\\\\x22https:\\\\/\\\\/www.ibm.com\\\\/products\\\\/storage\\\\u002Dscale\\\\u002Dsystem?lnk=flatitem\\\\x22,\\\\x22description\\\\x22:\\\\x22All\\\\u002Dflash or hybrid performant storage for cloud scale use\\\\u002Dcases\\\\x22},{\\\\x22title\\\\x22:\\\\x22Tape Systems\\\\x22,\\\\x22url\\\\x22:\\\\x22https:\\\\/\\\\/www.ibm.com\\\\/tape\\\\u002Dstorage?lnk=flatitem\\\\x22,\\\\x22description\\\\x22:\\\\x22Software and hardware for encrypted and air\\\\u002Dgapped archives\\\\x22}]}]}],\\\\x22viewAll\\\\x22:{\\\\x22title\\\\x22:\\\\x22View all products\\\\x22,\\\\x22url\\\\x22:\\\\x22https:\\\\/\\\\/www.ibm.com\\\\/products\\\\x22}}},{\\\\x22title\\\\x22:\\\\x22Consulting\\\\x22,\\\\x22url\\\\x22:\\\\x22https:\\\\/\\\\/www.ibm.com\\\\/consulting?lnk=L0G\\\\x22},{\\\\x22title\\\\x22:\\\\x22Support\\\\x22,\\\\x22url\\\\x22:\\\\x22\\\\x22,\\\\x22submenu\\\\x22:{\\\\x22sections\\\\x22:[{\\\\x22heading\\\\x22:{\\\\x22title\\\\x22:\\\\x22\\\\x22,\\\\x22description\\\\x22:\\\\x22\\\\x22},\\\\x22groups\\\\x22:[{\\\\x22heading\\\\x22:{\\\\x22title\\\\x22:\\\\x22What\\\\x27s New\\\\x22,\\\\x22url\\\\x22:\\\\x22https:\\\\/\\\\/www.ibm.com\\\\/new?lnk=flathl\\\\x22,\\\\x22description\\\\x22:\\\\x22\\\\x22},\\\\x22links\\\\x22:[]},{\\\\x22heading\\\\x22:{\\\\x22title\\\\x22:\\\\x22Community\\\\x22,\\\\x22url\\\\x22:\\\\x22https:\\\\/\\\\/community.ibm.com\\\\/community\\\\/user\\\\/community?lnk=flathl\\\\x22,\\\\x22description\\\\x22:\\\\x22\\\\x22},\\\\x22links\\\\x22:[]},{\\\\x22heading\\\\x22:{\\\\x22title\\\\x22:\\\\x22Developer\\\\x22,\\\\x22url\\\\x22:\\\\x22https:\\\\/\\\\/developer.ibm.com\\\\/?lnk=flathl\\\\x22,\\\\x22description\\\\x22:\\\\x22\\\\x22},\\\\x22links\\\\x22:[{\\\\x22title\\\\x22:\\\\x22Call for Code\\\\x22,\\\\x22url\\\\x22:\\\\x22https:\\\\/\\\\/developer.ibm.com\\\\/callforcode\\\\/?lnk=flatitem\\\\x22},{\\\\x22title\\\\x22:\\\\x22Generative AI\\\\x22,\\\\x22url\\\\x22:\\\\x22https:\\\\/\\\\/developer.ibm.com\\\\/get\\\\u002Dstarted\\\\/generative\\\\u002Dai\\\\/\\\\x22},{\\\\x22title\\\\x22:\\\\x22Hackathons\\\\x22,\\\\x22url\\\\x22:\\\\x22https:\\\\/\\\\/developer.ibm.com\\\\/hackathons\\\\/\\\\x22},{\\\\x22title\\\\x22:\\\\x22Open Source @ IBM\\\\x22,\\\\x22url\\\\x22:\\\\x22https:\\\\/\\\\/www.ibm.com\\\\/opensource\\\\/?lnk=flatitem\\\\x22},{\\\\x22title\\\\x22:\\\\x22Technologies\\\\x22,\\\\x22url\\\\x22:\\\\x22https:\\\\/\\\\/developer.ibm.com\\\\/technologies\\\\/?lnk=flatitem\\\\x22}]},{\\\\x22heading\\\\x22:{\\\\x22title\\\\x22:\\\\x22Documentation\\\\x22,\\\\x22url\\\\x22:\\\\x22https:\\\\/\\\\/www.ibm.com\\\\/docs\\\\/en?lnk=flathl\\\\x22,\\\\x22description\\\\x22:\\\\x22\\\\x22},\\\\x22links\\\\x22:[{\\\\x22title\\\\x22:\\\\x22All product documentation\\\\x22,\\\\x22url\\\\x22:\\\\x22https:\\\\/\\\\/www.ibm.com\\\\/docs\\\\/en?lnk=flatitem\\\\x22},{\\\\x22title\\\\x22:\\\\x22IBM Cloud documentation\\\\x22,\\\\x22url\\\\x22:\\\\x22https:\\\\/\\\\/cloud.ibm.com\\\\/docs?lnk=flatitem\\\\x22},{\\\\x22title\\\\x22:\\\\x22IBM Redbooks\\\\x22,\\\\x22url\\\\x22:\\\\x22https:\\\\/\\\\/www.redbooks.ibm.com\\\\/?lnk=flatitem\\\\x22}]},{\\\\x22heading\\\\x22:{\\\\x22title\\\\x22:\\\\x22IBM Cloud platform support\\\\x22,\\\\x22url\\\\x22:\\\\x22https:\\\\/\\\\/www.ibm.com\\\\/cloud\\\\/support?lnk=flathl\\\\x22,\\\\x22description\\\\x22:\\\\x22\\\\x22},\\\\x22links\\\\x22:[]},{\\\\x22heading\\\\x22:{\\\\x22title\\\\x22:\\\\x22Implementation\\\\x22,\\\\x22description\\\\x22:\\\\x22\\\\x22},\\\\x22links\\\\x22:[{\\\\x22title\\\\x22:\\\\x22Expert Labs\\\\x22,\\\\x22url\\\\x22:\\\\x22https:\\\\/\\\\/www.ibm.com\\\\/products\\\\/expertlabs?lnk=flatitem\\\\x22}]},{\\\\x22heading\\\\x22:{\\\\x22title\\\\x22:\\\\x22Support\\\\x22,\\\\x22url\\\\x22:\\\\x22https:\\\\/\\\\/www.ibm.com\\\\/mysupport\\\\/s\\\\/?language=en_US\\\\x26lnk=flathl\\\\x22,\\\\x22description\\\\x22:\\\\x22\\\\x22},\\\\x22links\\\\x22:[{\\\\x22title\\\\x22:\\\\x22Download fixes, updates \\\\x26 drivers\\\\x22,\\\\x22url\\\\x22:\\\\x22https:\\\\/\\\\/www.ibm.com\\\\/support\\\\/fixcentral?lnk=flatitem\\\\x22},{\\\\x22title\\\\x22:\\\\x22Download licensed software \\\\u002D Passport Advantage\\\\x22,\\\\x22url\\\\x22:\\\\x22https:\\\\/\\\\/www.ibm.com\\\\/software\\\\/passportadvantage\\\\/pao_customer.html?lnk=flatitem\\\\x22},{\\\\x22title\\\\x22:\\\\x22IBM Software Licensing\\\\x22,\\\\x22url\\\\x22:\\\\x22https:\\\\/\\\\/www.ibm.com\\\\/about\\\\/software\\\\u002Dlicensing\\\\/?lnk=flatitem\\\\x22},{\\\\x22title\\\\x22:\\\\x22Open a case\\\\x22,\\\\x22url\\\\x22:\\\\x22https:\\\\/\\\\/www.ibm.com\\\\/mysupport\\\\/s\\\\/redirecttoopencasepage?lnk=flatitem\\\\x22},{\\\\x22title\\\\x22:\\\\x22View more\\\\x22,\\\\x22url\\\\x22:\\\\x22https:\\\\/\\\\/www.ibm.com\\\\/mysupport\\\\/s\\\\/?language=en_US\\\\x26lnk=flatitem\\\\x22},{\\\\x22title\\\\x22:\\\\x22View support plans\\\\x22,\\\\x22url\\\\x22:\\\\x22https:\\\\/\\\\/www.ibm.com\\\\/support\\\\/pages\\\\/ibm\\\\u002Dsupport\\\\u002Dofferings?lnk=flatitem\\\\x22},{\\\\x22title\\\\x22:\\\\x22View your cases\\\\x22,\\\\x22url\\\\x22:\\\\x22https:\\\\/\\\\/www.ibm.com\\\\/mysupport\\\\/s\\\\/my\\\\u002Dcases?lnk=flatitem\\\\x22}]},{\\\\x22heading\\\\x22:{\\\\x22title\\\\x22:\\\\x22Technology Lifecycle Services\\\\x22,\\\\x22url\\\\x22:\\\\x22https:\\\\/\\\\/www.ibm.com\\\\/services\\\\/technology\\\\u002Dlifecycle\\\\u002Dservices?lnk=flathl\\\\x22,\\\\x22description\\\\x22:\\\\x22\\\\x22},\\\\x22links\\\\x22:[{\\\\x22title\\\\x22:\\\\x22Enterprise networking and security\\\\x22,\\\\x22url\\\\x22:\\\\x22https:\\\\/\\\\/www.ibm.com\\\\/services\\\\/networking\\\\u002Dsupport?lnk=flatitem\\\\x22},{\\\\x22title\\\\x22:\\\\x22Servers and storage\\\\x22,\\\\x22url\\\\x22:\\\\x22https:\\\\/\\\\/www.ibm.com\\\\/services\\\\/systems\\\\u002Dsupport?lnk=flatitem\\\\x22},{\\\\x22title\\\\x22:\\\\x22Software\\\\x22,\\\\x22url\\\\x22:\\\\x22https:\\\\/\\\\/www.ibm.com\\\\/services\\\\/software\\\\u002Dsupport?lnk=flatitem\\\\x22}]},{\\\\x22heading\\\\x22:{\\\\x22title\\\\x22:\\\\x22Training\\\\x22,\\\\x22url\\\\x22:\\\\x22https:\\\\/\\\\/www.ibm.com\\\\/training\\\\/?lnk=flathl\\\\x22,\\\\x22description\\\\x22:\\\\x22\\\\x22},\\\\x22links\\\\x22:[{\\\\x22title\\\\x22:\\\\x22Courses\\\\x22,\\\\x22url\\\\x22:\\\\x22https:\\\\/\\\\/www.ibm.com\\\\/training\\\\/search?q=course\\\\x26lnk=flatitem\\\\x22},{\\\\x22title\\\\x22:\\\\x22Digital learning subscriptions\\\\x22,\\\\x22url\\\\x22:\\\\x22https:\\\\/\\\\/www.ibm.com\\\\/training\\\\/subscriptions?lnk=flatitem\\\\x22},{\\\\x22title\\\\x22:\\\\x22Learning paths \\\\x26 collections\\\\x22,\\\\x22url\\\\x22:\\\\x22https:\\\\/\\\\/www.ibm.com\\\\/training\\\\/learning\\\\u002Dpaths\\\\u002Dand\\\\u002Dcollections?lnk=flatitem\\\\x22},{\\\\x22title\\\\x22:\\\\x22Professional certifications\\\\x22,\\\\x22url\\\\x22:\\\\x22https:\\\\/\\\\/www.ibm.com\\\\/training\\\\/credentials?lnk=flatitem\\\\x22}]}]}],\\\\x22viewAll\\\\x22:{\\\\x22title\\\\x22:\\\\x22\\\\x22,\\\\x22url\\\\x22:\\\\x22\\\\x22}}},{\\\\x22title\\\\x22:\\\\x22Think\\\\x22,\\\\x22url\\\\x22:\\\\x22https:\\\\/\\\\/www.ibm.com\\\\/think\\\\x22}]}}\";\\r\\n    const searchPlaceholderText = \"Search all of IBM\";\\r\\n    const links = JSON.parse(l0Json).mastheadNav.links;\\r\\n    const unAuthenticated = JSON.parse(l0Json).profileMenu.signedout;\\r\\n    const authenticated = JSON.parse(l0Json).profileMenu.signedin;\\r\\n\\r\\n    const mastheadContainerEl = document.querySelector(\\'c4d-masthead-container\\');\\r\\n\\r\\n    mastheadContainerEl.navLinks = links;\\r\\n    mastheadContainerEl.unauthenticatedProfileItems = unAuthenticated;\\r\\n    mastheadContainerEl.authenticatedProfileItems = authenticated;\\r\\n\\r\\n    const appendSearchPlaceholderText = () => {\\r\\n        const typeheadEl = mastheadContainerEl.querySelector(\\'c4d-search-with-typeahead\\');\\r\\n        if (typeheadEl) {\\r\\n            typeheadEl.searchPlaceholder = searchPlaceholderText;\\r\\n            observer.disconnect();\\r\\n        }\\r\\n    }\\r\\n    let observer = new MutationObserver(appendSearchPlaceholderText);\\r\\n    observer.observe(mastheadContainerEl, {subtree: true, childList: true});\\r\\n</script>\\r\\n\\r\\n    \\r\\n\\r\\n    \\r\\n\\r\\n    \\r\\n\\r\\n    \\r\\n\\r\\n    \\r\\n\\r\\n    \\r\\n\\r\\n\\r\\n\\r\\n\\r\\n\\r\\n<script type=\"text/javascript\">\\r\\n    if(window.location.href.includes(\"/careers\")){\\r\\n       document.querySelector(\\'c4d-masthead-container\\').setAttribute(\"has-search\",\"false\");\\r\\n       document.querySelector(\\'c4d-masthead-container\\').setAttribute(\"has-profile\",\"false\");\\r\\n    }\\r\\n     document.addEventListener(\"DOMContentLoaded\", function() {\\r\\n        const mastheadContainer = document.querySelector(\"c4d-masthead-container\");\\r\\n        if (mastheadContainer && mastheadContainer.getAttribute(\"has-global\") === \"false\") {\\r\\n            document.querySelector(\\'.earth-language-icon\\').style.display = \\'none\\';\\r\\n        }\\r\\n    });\\r\\n</script>\\r\\n</div>\\n<div class=\"container responsivegrid\">\\n\\n    \\n    \\n    \\n    <div id=\"container-35bfd5ef7a\" class=\"cmp-container\">\\n        \\n        \\n        \\n    </div>\\n\\n</div>\\n<div class=\"leadspace-container container responsivegrid\" id=\"mbox-leadspace\">\\n\\n    \\n    \\n    \\n    <div id=\"leadspace-container-1e918979ca\" class=\"cmp-container\">\\n        \\n        <div class=\"leadspace-expanded leadspace\">\\r\\n\\r\\n\\r\\n\\r\\n\\r\\n\\r\\n    \\r\\n\\r\\n\\r\\n\\r\\n    \\r\\n        \\r\\n        \\r\\n    \\r\\n\\r\\n\\r\\n<section class=\"cds--grid theme-white leadspace-expanded__container leadspace-expanded__container--tall leadspace-expanded__container--aside\">\\r\\n    <div class=\"cds--row leadspace-expanded__row\">\\r\\n        <div class=\"cds--col-lg-6 leadspace-expanded__column leadspace-expanded__column--content\">\\r\\n            <div>\\r\\n                \\r\\n                    \\r\\n                <div class=\"leadspace-expanded__navigation leadspace-expanded__navigation--tags\">\\r\\n                    \\r\\n                </div>\\r\\n\\r\\n                <div id=\"mbox-heading\">\\r\\n                    <h1 class=\"leadspace-expanded__heading expressive-heading-05\" id=\"leadspaceSimpleTitle\">\\r\\n                        \\n\\n\\n    \\n\\n  \\n\\n<span class=\"enhanced-title text-color-gradient-90-blue-to-purple\">Gain confidence with a consolidated view of your AI risk</span>\\n\\n\\n\\n    \\n\\n\\n\\n\\n\\n\\n\\n    \\n\\n\\r\\n                    </h1>\\r\\n                </div>\\r\\n            </div>\\r\\n            <div>\\r\\n                <span class=\"lead-in\">\\r\\n                    <div id=\"mbox-subheading\">\\r\\n                        <div class=\"cms-richtext \" id=\"rich-text-96264db101\" data-dynamic-inner-content=\"description\">\\n    <p>Introducing IBM’s industry-first software to secure and scale AI across your enterprise</p>\\r\\n\\n    \\n    \\n    \\n    \\n\\n</div>\\r\\n                    \\r\\n                    </div>\\r\\n                </span>\\r\\n\\r\\n                \\r\\n\\r\\n                \\r\\n\\r\\n                \\r\\n\\r\\n                \\r\\n                    <div id=\"mbox-leadspace_cta\">\\r\\n                        <c4d-button-group class=\"leadspace-expanded__action leadspace-expanded__action--button-group\">\\r\\n                            \\r\\n                                \\r\\n                                \\n\\n\\n\\n\\n\\n\\n    \\n    \\n    \\n    \\n    \\n    <a href=\"https://www.ibm.com/products/guardium-ai-security?lnk=hpls1us\" target=\"_self\">\\n        <c4d-button-group-item href=\"https://www.ibm.com/products/guardium-ai-security?lnk=hpls1us\" target=\"_self\" kind=\"primary\" cta-type=\"local\" data-aem-autoid=\"aem--leadspace_cta-0\" data-video-modal-type=\"media-center\">\\n            <span>Learn about Guardium AI Security</span>\\n            \\n            \\n        </c4d-button-group-item>\\n    </a>\\n    \\n    \\n    \\n    <script defer src=\"/etc.clientlibs/adobe-cms/clientlibs/clientlib-button.lc-35865f6028fe135d212921386fa724e9-lc.min.js\"></script>\\n\\n\\n    \\n\\n     \\n\\n    \\n    \\n    \\n    \\n    \\n    <a href=\"https://newsroom.ibm.com/2025-06-18-ibm-introduces-industry-first-software-to-unify-agentic-governance-and-security?lnk=hpls2us\" target=\"_self\">\\n        <c4d-button-group-item href=\"https://newsroom.ibm.com/2025-06-18-ibm-introduces-industry-first-software-to-unify-agentic-governance-and-security?lnk=hpls2us\" target=\"_self\" kind=\"tertiary\" cta-type=\"local\" data-aem-autoid=\"aem--leadspace_cta-1\" data-video-modal-type=\"media-center\">\\n            <span>Read the announcement</span>\\n            \\n            \\n        </c4d-button-group-item>\\n    </a>\\n    \\n    \\n    \\n    \\n\\n    \\n\\n     \\n\\n\\r\\n                            \\r\\n                        </c4d-button-group>\\r\\n                    </div>\\r\\n                \\r\\n            </div>\\r\\n        </div>\\r\\n        <div class=\"cds--col-lg-8 leadspace-expanded__column leadspace-expanded__column--media\">\\r\\n            <div class=\"leadspace-expanded__column-inner\">\\r\\n                <div id=\"mbox-leadspace_visual\">\\r\\n                    \\r\\n\\r\\n                    \\r\\n                            \\r\\n                            <caem-video-player-container class=\"leadspace-expanded__media\" aspect-ratio=\"4x3\" video-id=\"1_5rpwnbl9\" caption-alignment=\"left\" background-mode=\"true\" button-position=\"bottom-right\" intersection-mode=\"\" hide-caption=\"true\" playing-mode=\"inline\"></caem-video-player-container>\\r\\n                        \\n    <script defer src=\"/etc.clientlibs/adobe-cms/clientlibs/clientlib-caem-video-player.lc-a258c5ae6f7f687838aa2c076ddf821a-lc.min.js\"></script>\\n\\n\\r\\n                        \\r\\n                    \\r\\n\\r\\n                    \\r\\n                </div>\\r\\n            </div>\\r\\n        </div>\\r\\n        <div class=\"cds--col-lg-2 leadspace-expanded__column leadspace-expanded__column--aside\">\\r\\n            <div class=\"leadspace-expanded__column-inner\" id=\"mbox-leadspace-side\">\\r\\n                \\r\\n                    \\r\\n                \\r\\n\\r\\n                \\r\\n                    \\r\\n                        \\r\\n                            <c4d-link-list class=\"newsfeed \">\\r\\n                                <c4d-link-list-heading role=\"heading\" aria-level=\"4\" slot=\"heading\">\\r\\n                                    \\n\\n\\n  \\n  \\n      Latest news\\n  \\n\\n\\n\\n\\n    \\n\\n\\r\\n                                </c4d-link-list-heading>\\r\\n                                \\r\\n                                \\r\\n                                    \\r\\n                                    \\r\\n                                        \\n\\n\\r\\n                                    \\r\\n                                \\r\\n                                    \\r\\n                                    \\r\\n                                        \\n\\n\\r\\n                                    \\r\\n                                \\r\\n                                    \\r\\n                                    \\r\\n                                        \\n\\n\\r\\n                                    \\r\\n                                \\r\\n                                    \\r\\n                                    \\r\\n                                        \\n\\n\\r\\n                                    \\r\\n                                \\r\\n                                \\r\\n                                    \\r\\n                                        \\n    <c4d-link-list-item cta-type=\"local\" href=\"https://newsroom.ibm.com/2025-06-18-ibm-introduces-industry-first-software-to-unify-agentic-governance-and-security\" aria-label=\"IBM Introduces Industry-First Software to Unify Agentic Governance and Security\" class=\"newsfeed__item\">\\n        <p>IBM Introduces Industry-First Software to Unify Agentic Governance and Security</p>\\n        <c4d-card-footer href=\"https://newsroom.ibm.com/2025-06-18-ibm-introduces-industry-first-software-to-unify-agentic-governance-and-security\" cta-type=\"local\" target=\"_self\">\\n            <span slot=\"icon\" class=\"ibm_icon_arrowright_local cds--card__cta c4d-ce--cta__icon\"></span>\\n        </c4d-card-footer>\\n        <span slot=\"icon\" class=\"ibm_icon_arrowright_local cds--card__cta c4d-ce--cta__icon\"></span>\\n    </c4d-link-list-item>\\n    \\n    \\n    <script defer src=\"/etc.clientlibs/adobe-cms/clientlibs/clientlib-link-list.lc-6597c81cf1445426e3d8039424467727-lc.min.js\"></script>\\n<script defer src=\"/etc.clientlibs/adobe-cms/clientlibs/clientlib-card.lc-e447c70dc32c6783287dbe2662a4b1f9-lc.min.js\"></script>\\n\\n\\n    \\n   \\r\\n                                    \\r\\n                                \\r\\n                                    \\r\\n                                        \\n    <c4d-link-list-item cta-type=\"local\" href=\"https://newsroom.ibm.com/2025-06-17-ibm-study-profit-driven-cmos-see-ai-as-growth-driver,-but-operational-hurdles-slow-them-down\" aria-label=\"IBM Study: Profit-Driven CMOs See AI as Growth Driver, but Operational Hurdles Slow Them Down\" class=\"newsfeed__item\">\\n        <p>IBM Study: Profit-Driven CMOs See AI as Growth Driver, but Operational Hurdles Slow Them Down</p>\\n        <c4d-card-footer href=\"https://newsroom.ibm.com/2025-06-17-ibm-study-profit-driven-cmos-see-ai-as-growth-driver,-but-operational-hurdles-slow-them-down\" cta-type=\"local\" target=\"_self\">\\n            <span slot=\"icon\" class=\"ibm_icon_arrowright_local cds--card__cta c4d-ce--cta__icon\"></span>\\n        </c4d-card-footer>\\n        <span slot=\"icon\" class=\"ibm_icon_arrowright_local cds--card__cta c4d-ce--cta__icon\"></span>\\n    </c4d-link-list-item>\\n    \\n    \\n    \\n\\n    \\n   \\r\\n                                    \\r\\n                                \\r\\n                                    \\r\\n                                        \\n    <c4d-link-list-item cta-type=\"local\" href=\"https://newsroom.ibm.com/2025-06-17-the-all-england-lawn-tennis-club-and-ibm-launch-new-ai-features-for-real-time-wimbledon-fan-engagement\" aria-label=\"The All England Lawn Tennis Club and IBM Launch New AI Features for Real-Time Wimbledon Fan Engagement\" class=\"newsfeed__item\">\\n        <p>The All England Lawn Tennis Club and IBM Launch New AI Features for Real-Time Wimbledon Fan Engagement</p>\\n        <c4d-card-footer href=\"https://newsroom.ibm.com/2025-06-17-the-all-england-lawn-tennis-club-and-ibm-launch-new-ai-features-for-real-time-wimbledon-fan-engagement\" cta-type=\"local\" target=\"_self\">\\n            <span slot=\"icon\" class=\"ibm_icon_arrowright_local cds--card__cta c4d-ce--cta__icon\"></span>\\n        </c4d-card-footer>\\n        <span slot=\"icon\" class=\"ibm_icon_arrowright_local cds--card__cta c4d-ce--cta__icon\"></span>\\n    </c4d-link-list-item>\\n    \\n    \\n    \\n\\n    \\n   \\r\\n                                    \\r\\n                                \\r\\n                                    \\r\\n                                        \\n    <c4d-link-list-item cta-type=\"local\" href=\"https://newsroom.ibm.com/2025-06-10-IBM-Study-Businesses-View-AI-Agents-as-Essential,-Not-Just-Experimental\" aria-label=\"IBM Study: Businesses View AI Agents as Essential, Not Just Experimental\" class=\"newsfeed__item\">\\n        <p>IBM Study: Businesses View AI Agents as Essential, Not Just Experimental</p>\\n        <c4d-card-footer href=\"https://newsroom.ibm.com/2025-06-10-IBM-Study-Businesses-View-AI-Agents-as-Essential,-Not-Just-Experimental\" cta-type=\"local\" target=\"_self\">\\n            <span slot=\"icon\" class=\"ibm_icon_arrowright_local cds--card__cta c4d-ce--cta__icon\"></span>\\n        </c4d-card-footer>\\n        <span slot=\"icon\" class=\"ibm_icon_arrowright_local cds--card__cta c4d-ce--cta__icon\"></span>\\n    </c4d-link-list-item>\\n    \\n    \\n    \\n\\n    \\n   \\r\\n                                    \\r\\n                                \\r\\n                                    \\r\\n                                        \\n    <c4d-link-list-item cta-type=\"local\" href=\"https://newsroom.ibm.com/2025-06-10-IBM-Sets-the-Course-to-Build-Worlds-First-Large-Scale,-Fault-Tolerant-Quantum-Computer-at-New-IBM-Quantum-Data-Center\" aria-label=\"IBM Sets the Course to Build World&#39;s First Large-Scale, Fault-Tolerant Quantum Computer at New IBM Quantum Data Center\" class=\"newsfeed__item\">\\n        <p>IBM Sets the Course to Build World&#39;s First Large-Scale, Fault-Tolerant Quantum Computer at New IBM Quantum Data Center</p>\\n        <c4d-card-footer href=\"https://newsroom.ibm.com/2025-06-10-IBM-Sets-the-Course-to-Build-Worlds-First-Large-Scale,-Fault-Tolerant-Quantum-Computer-at-New-IBM-Quantum-Data-Center\" cta-type=\"local\" target=\"_self\">\\n            <span slot=\"icon\" class=\"ibm_icon_arrowright_local cds--card__cta c4d-ce--cta__icon\"></span>\\n        </c4d-card-footer>\\n        <span slot=\"icon\" class=\"ibm_icon_arrowright_local cds--card__cta c4d-ce--cta__icon\"></span>\\n    </c4d-link-list-item>\\n    \\n    \\n    \\n\\n    \\n   \\r\\n                                    \\r\\n                                \\r\\n                                    \\r\\n                                        \\n    <c4d-link-list-item cta-type=\"local\" href=\"https://newsroom.ibm.com/2025-06-03-ibm-and-inclusive-brains-bring-together-ai,-quantum-and-neurotechnologies-to-improve-the-understanding-of-brain-machine-interfaces\" aria-label=\"IBM and Inclusive Brains Bring Together AI, Quantum and Neurotechnologies to Improve the Understanding of Brain-Machine Interfaces\" class=\"newsfeed__item\">\\n        <p>IBM and Inclusive Brains Bring Together AI, Quantum and Neurotechnologies to Improve the Understanding of Brain-Machine Interfaces</p>\\n        <c4d-card-footer href=\"https://newsroom.ibm.com/2025-06-03-ibm-and-inclusive-brains-bring-together-ai,-quantum-and-neurotechnologies-to-improve-the-understanding-of-brain-machine-interfaces\" cta-type=\"local\" target=\"_self\">\\n            <span slot=\"icon\" class=\"ibm_icon_arrowright_local cds--card__cta c4d-ce--cta__icon\"></span>\\n        </c4d-card-footer>\\n        <span slot=\"icon\" class=\"ibm_icon_arrowright_local cds--card__cta c4d-ce--cta__icon\"></span>\\n    </c4d-link-list-item>\\n    \\n    \\n    \\n\\n    \\n   \\r\\n                                    \\r\\n                                \\r\\n                                    \\r\\n                                        \\n    <c4d-link-list-item cta-type=\"local\" href=\"https://newsroom.ibm.com/2025-06-02-ibm-unveils-watsonx-ai-labs-the-ultimate-accelerator-for-ai-builders,-startups-and-enterprises-in-new-york-city\" aria-label=\"IBM Unveils watsonx AI Labs: The Ultimate Accelerator for AI Builders, Startups and Enterprises in New York City\" class=\"newsfeed__item\">\\n        <p>IBM Unveils watsonx AI Labs: The Ultimate Accelerator for AI Builders, Startups and Enterprises in New York City</p>\\n        <c4d-card-footer href=\"https://newsroom.ibm.com/2025-06-02-ibm-unveils-watsonx-ai-labs-the-ultimate-accelerator-for-ai-builders,-startups-and-enterprises-in-new-york-city\" cta-type=\"local\" target=\"_self\">\\n            <span slot=\"icon\" class=\"ibm_icon_arrowright_local cds--card__cta c4d-ce--cta__icon\"></span>\\n        </c4d-card-footer>\\n        <span slot=\"icon\" class=\"ibm_icon_arrowright_local cds--card__cta c4d-ce--cta__icon\"></span>\\n    </c4d-link-list-item>\\n    \\n    \\n    \\n\\n    \\n   \\r\\n                                    \\r\\n                                \\r\\n                                    \\r\\n                                        \\n    <c4d-link-list-item cta-type=\"local\" href=\"https://newsroom.ibm.com/2025-06-02-ibm-and-roche-co-created-an-innovative-solution-to-support-people-with-diabetes-in-their-daily-lives-with-ai-enabled-glucose-predictions\" aria-label=\"IBM and Roche Co-Created an Innovative Solution to Support People with Diabetes in their Daily Lives with AI-Enabled Glucose Predictions \" class=\"newsfeed__item\">\\n        <p>IBM and Roche Co-Created an Innovative Solution to Support People with Diabetes in their Daily Lives with AI-Enabled Glucose Predictions </p>\\n        <c4d-card-footer href=\"https://newsroom.ibm.com/2025-06-02-ibm-and-roche-co-created-an-innovative-solution-to-support-people-with-diabetes-in-their-daily-lives-with-ai-enabled-glucose-predictions\" cta-type=\"local\" target=\"_self\">\\n            <span slot=\"icon\" class=\"ibm_icon_arrowright_local cds--card__cta c4d-ce--cta__icon\"></span>\\n        </c4d-card-footer>\\n        <span slot=\"icon\" class=\"ibm_icon_arrowright_local cds--card__cta c4d-ce--cta__icon\"></span>\\n    </c4d-link-list-item>\\n    \\n    \\n    \\n\\n    \\n   \\r\\n                                    \\r\\n                                \\r\\n                                \\n    <script defer src=\"/etc.clientlibs/adobe-cms/clientlibs/clientlib-cweb-search.lc-0d13f1ad2fc4b43337ad1dee1aff2470-lc.min.js\"></script>\\n\\n\\r\\n                            </c4d-link-list>\\r\\n                        \\r\\n                    \\r\\n                \\r\\n            </div>\\r\\n        </div>\\r\\n    </div>\\r\\n</section></div>\\n\\n        \\n    </div>\\n\\n</div>\\n<div class=\"table-of-contents container responsivegrid\">\\n<c4d-table-of-contents data-cmp-is=\"table-of-contents\" data-autoid=\"c4d--tableofcontents\" class=\"cmp-table-of-contents \" stickyoffset=\"48\" toc-layout=\"horizontal\" toc-hide=\"hidden\">\\n    \\n    \\n    <div id=\"table-of-contents-b422012d4b\" class=\"cmp-table-of-contents\">\\n        \\n        <div class=\"modular-container container responsivegrid\">\\n\\n    \\n    \\n    \\n    <div id=\"modular-container-5d1eac4ca1\" class=\"cmp-container\">\\n        \\n        <div class=\"standalone-title enhanced-title text\">\\r\\n\\r\\n\\r\\n\\r\\n\\r\\n\\r\\n\\r\\n\\r\\n    <h5 class=\"expressive-heading-02 col-8 \">Recommended for you</h5>\\r\\n\\r\\n\\n    \\n\\r\\n</div>\\n<div class=\"image simple-image\">\\n    \\n    \\n    \\n    \\n\\n    \\n    \\n    \\n    <script defer src=\"/etc.clientlibs/adobe-cms/clientlibs/clientlib-image.lc-dd1bfab0cbf0cf7f1651905f7cfa1ba0-lc.min.js\"></script>\\n\\n\\n    \\n\\n\\n</div>\\n\\n        \\n    </div>\\n\\n</div>\\n<div class=\"tile-group-container container responsivegrid\">\\n  <div class=\"cds--col\">\\n    \\r\\n\\r\\n\\r\\n\\r\\n\\r\\n\\r\\n\\r\\n\\r\\n    <h5 class=\"expressive-heading-02  \"></h5>\\r\\n\\r\\n\\n    \\n\\r\\n\\n      <caem-tile-group>\\n        \\n\\n    \\r\\n    \\n    <caem-tile label=\"News\" cta-type=\"local\" href=\"https://www.ibm.com/new/announcements/agentic-ai-governance-evaluation-and-lifecycle?lnk=hprc1us\" target=\"_self\" data-video-modal-type=\"media-center\">\\n\\n        \\n        \\n            \\n\\n\\n\\n\\n\\n    \\n    \\n    \\n        \\n        \\n        \\n        \\n        \\n        <c4d-image id=\"image-912249432\" alt=\"Illustration of a person tracking the lifecycle of work by AI agents\" slot=\"image\" default-src=\"/content/dam/connectedassets-adobe-cms/worldwide-content/creative-assets/s-migr/ul/g/45/a0/watsonx-bi-assist-illo.component.tile-card-xl.ts=1750351821446.png/content/adobe-cms/us/en/homepage/jcr:content/root/table_of_contents/tile_group_container/container/tile_card_2026675993_446952913/image\" class=\"\">\\n            \\n            \\n                \\n                    \\n    <c4d-image-item media=\"(min-width: 1312px) and (min-resolution: 192dpi)\" srcset=\"/content/dam/connectedassets-adobe-cms/worldwide-content/creative-assets/s-migr/ul/g/45/a0/watsonx-bi-assist-illo.component.tile-card-xl-retina.ts=1750351821446.png/content/adobe-cms/us/en/homepage/jcr:content/root/table_of_contents/tile_group_container/container/tile_card_2026675993_446952913/image\"></c4d-image-item>\\n    <c4d-image-item media=\"(min-width: 1312px)\" srcset=\"/content/dam/connectedassets-adobe-cms/worldwide-content/creative-assets/s-migr/ul/g/45/a0/watsonx-bi-assist-illo.component.tile-card-xl.ts=1750351821446.png/content/adobe-cms/us/en/homepage/jcr:content/root/table_of_contents/tile_group_container/container/tile_card_2026675993_446952913/image\"></c4d-image-item>\\n    <c4d-image-item media=\"(min-width: 1056px) and (min-resolution: 192dpi)\" srcset=\"/content/dam/connectedassets-adobe-cms/worldwide-content/creative-assets/s-migr/ul/g/45/a0/watsonx-bi-assist-illo.component.tile-card-l-retina.ts=1750351821446.png/content/adobe-cms/us/en/homepage/jcr:content/root/table_of_contents/tile_group_container/container/tile_card_2026675993_446952913/image\"></c4d-image-item>\\n    <c4d-image-item media=\"(min-width: 1056px)\" srcset=\"/content/dam/connectedassets-adobe-cms/worldwide-content/creative-assets/s-migr/ul/g/45/a0/watsonx-bi-assist-illo.component.tile-card-l.ts=1750351821446.png/content/adobe-cms/us/en/homepage/jcr:content/root/table_of_contents/tile_group_container/container/tile_card_2026675993_446952913/image\"></c4d-image-item>\\n    <c4d-image-item media=\"(min-width: 672px) and (min-resolution: 192dpi)\" srcset=\"/content/dam/connectedassets-adobe-cms/worldwide-content/creative-assets/s-migr/ul/g/45/a0/watsonx-bi-assist-illo.component.tile-card-m-retina.ts=1750351821446.png/content/adobe-cms/us/en/homepage/jcr:content/root/table_of_contents/tile_group_container/container/tile_card_2026675993_446952913/image\"></c4d-image-item>\\n    <c4d-image-item media=\"(min-width: 672px)\" srcset=\"/content/dam/connectedassets-adobe-cms/worldwide-content/creative-assets/s-migr/ul/g/45/a0/watsonx-bi-assist-illo.component.tile-card-m.ts=1750351821446.png/content/adobe-cms/us/en/homepage/jcr:content/root/table_of_contents/tile_group_container/container/tile_card_2026675993_446952913/image\"></c4d-image-item>\\n    <c4d-image-item media=\"(min-width: 481px) and (min-resolution: 192dpi)\" srcset=\"/content/dam/connectedassets-adobe-cms/worldwide-content/creative-assets/s-migr/ul/g/45/a0/watsonx-bi-assist-illo.component.tile-card-s-retina.ts=1750351821446.png/content/adobe-cms/us/en/homepage/jcr:content/root/table_of_contents/tile_group_container/container/tile_card_2026675993_446952913/image\"></c4d-image-item>\\n    <c4d-image-item media=\"(min-width: 481px)\" srcset=\"/content/dam/connectedassets-adobe-cms/worldwide-content/creative-assets/s-migr/ul/g/45/a0/watsonx-bi-assist-illo.component.tile-card-s.ts=1750351821446.png/content/adobe-cms/us/en/homepage/jcr:content/root/table_of_contents/tile_group_container/container/tile_card_2026675993_446952913/image\"></c4d-image-item>\\n    <c4d-image-item media=\"(max-width: 480px) and (min-resolution: 192dpi)\" srcset=\"/content/dam/connectedassets-adobe-cms/worldwide-content/creative-assets/s-migr/ul/g/45/a0/watsonx-bi-assist-illo.component.tile-card-xs-retina.ts=1750351821446.png/content/adobe-cms/us/en/homepage/jcr:content/root/table_of_contents/tile_group_container/container/tile_card_2026675993_446952913/image\"></c4d-image-item>\\n    <c4d-image-item media=\"(max-width: 480px)\" srcset=\"/content/dam/connectedassets-adobe-cms/worldwide-content/creative-assets/s-migr/ul/g/45/a0/watsonx-bi-assist-illo.component.tile-card-xs.ts=1750351821446.png/content/adobe-cms/us/en/homepage/jcr:content/root/table_of_contents/tile_group_container/container/tile_card_2026675993_446952913/image\"></c4d-image-item>\\n    \\n    \\n    \\n\\n    \\n\\n                    \\n                \\n            \\n        </c4d-image>\\n    \\n\\n    \\n    \\n    \\n    \\n\\n    \\n\\n\\n\\n    \\n    \\n\\n\\n        \\n        \\n    \\n\\n        <div class=\"caem-tile__text\">\\n            Unlock the power of agentic AI with new watsonx.governance capabilities\\n        </div>\\n        \\n    \\n    \\n\\n\\n\\n    \\n\\n        <p slot=\"cta\" class=\"caem-tile__link\">\\n            \\n        </p>\\n\\n    </caem-tile>\\n\\n    <div class=\"caem-card-svg-source\" hidden>\\n        <svg xmlns=\"http://www.w3.org/2000/svg\" id=\"accelerated-computing\" viewBox=\"0 0 32 32\"><path d=\"M19,29.36c-3.401,0-6.596-1.506-8.764-4.131l0.556-0.459c2.03,2.459,5.022,3.869,8.208,3.869 c5.867,0,10.64-4.772,10.64-10.64c0-5.867-4.772-10.64-10.64-10.64c-3.186,0-6.177,1.411-8.208,3.87l-0.555-0.459 c2.091-2.532,5.137-4.022,8.403-4.125V5.36H16c-0.199,0-0.36-0.161-0.36-0.36V3c0-0.199,0.161-0.36,0.36-0.36h6 c0.199,0,0.36,0.161,0.36,0.36v2c0,0.199-0.161,0.36-0.36,0.36h-2.64v1.286c6.098,0.191,11,5.211,11,11.354 C30.36,24.264,25.264,29.36,19,29.36z M16.36,4.64h5.28V3.36h-5.28V4.64z M14,23.36H4v-0.72h10V23.36z M12,18.36H2v-0.72h10V18.36z M19.179,18.312l-0.357-0.625l7-4l0.357,0.625L19.179,18.312z M14,13.36H4v-0.72h10V13.36z\"/></svg>\\n    </div>\\n    \\n    \\n\\n\\r\\n\\r\\n\\r\\n    \\n    <script defer src=\"/etc.clientlibs/adobe-cms/clientlibs/clientlib-caem-tile.lc-770a7c904405903a28fdbee586c46bed-lc.min.js\"></script>\\n\\n\\r\\n\\r\\n\\n\\n    \\r\\n    \\n    <caem-tile label=\"Webinar\" cta-type=\"local\" href=\"https://www.ibm.com/account/reg/signup?formid=urx-53710&lnk=hprc2us\" target=\"_blank\" data-video-modal-type=\"media-center\">\\n\\n        \\n        \\n            \\n\\n\\n\\n\\n\\n    \\n    \\n    \\n        \\n        \\n        \\n        \\n        \\n        <c4d-image id=\"image--487600389\" alt=\"Illustration of transferring data being scanned for vulnerabilities\" slot=\"image\" default-src=\"/content/dam/connectedassets-adobe-cms/worldwide-content/creative-assets/s-migr/ul/g/e8/6a/guardium-data-protection-decorative-illustration.component.tile-card-xl.ts=1750351821928.png/content/adobe-cms/us/en/homepage/jcr:content/root/table_of_contents/tile_group_container/container/tile_card_copy_15295/image\" class=\"\">\\n            \\n            \\n                \\n                    \\n    <c4d-image-item media=\"(min-width: 1312px) and (min-resolution: 192dpi)\" srcset=\"/content/dam/connectedassets-adobe-cms/worldwide-content/creative-assets/s-migr/ul/g/e8/6a/guardium-data-protection-decorative-illustration.component.tile-card-xl-retina.ts=1750351821928.png/content/adobe-cms/us/en/homepage/jcr:content/root/table_of_contents/tile_group_container/container/tile_card_copy_15295/image\"></c4d-image-item>\\n    <c4d-image-item media=\"(min-width: 1312px)\" srcset=\"/content/dam/connectedassets-adobe-cms/worldwide-content/creative-assets/s-migr/ul/g/e8/6a/guardium-data-protection-decorative-illustration.component.tile-card-xl.ts=1750351821928.png/content/adobe-cms/us/en/homepage/jcr:content/root/table_of_contents/tile_group_container/container/tile_card_copy_15295/image\"></c4d-image-item>\\n    <c4d-image-item media=\"(min-width: 1056px) and (min-resolution: 192dpi)\" srcset=\"/content/dam/connectedassets-adobe-cms/worldwide-content/creative-assets/s-migr/ul/g/e8/6a/guardium-data-protection-decorative-illustration.component.tile-card-l-retina.ts=1750351821928.png/content/adobe-cms/us/en/homepage/jcr:content/root/table_of_contents/tile_group_container/container/tile_card_copy_15295/image\"></c4d-image-item>\\n    <c4d-image-item media=\"(min-width: 1056px)\" srcset=\"/content/dam/connectedassets-adobe-cms/worldwide-content/creative-assets/s-migr/ul/g/e8/6a/guardium-data-protection-decorative-illustration.component.tile-card-l.ts=1750351821928.png/content/adobe-cms/us/en/homepage/jcr:content/root/table_of_contents/tile_group_container/container/tile_card_copy_15295/image\"></c4d-image-item>\\n    <c4d-image-item media=\"(min-width: 672px) and (min-resolution: 192dpi)\" srcset=\"/content/dam/connectedassets-adobe-cms/worldwide-content/creative-assets/s-migr/ul/g/e8/6a/guardium-data-protection-decorative-illustration.component.tile-card-m-retina.ts=1750351821928.png/content/adobe-cms/us/en/homepage/jcr:content/root/table_of_contents/tile_group_container/container/tile_card_copy_15295/image\"></c4d-image-item>\\n    <c4d-image-item media=\"(min-width: 672px)\" srcset=\"/content/dam/connectedassets-adobe-cms/worldwide-content/creative-assets/s-migr/ul/g/e8/6a/guardium-data-protection-decorative-illustration.component.tile-card-m.ts=1750351821928.png/content/adobe-cms/us/en/homepage/jcr:content/root/table_of_contents/tile_group_container/container/tile_card_copy_15295/image\"></c4d-image-item>\\n    <c4d-image-item media=\"(min-width: 481px) and (min-resolution: 192dpi)\" srcset=\"/content/dam/connectedassets-adobe-cms/worldwide-content/creative-assets/s-migr/ul/g/e8/6a/guardium-data-protection-decorative-illustration.component.tile-card-s-retina.ts=1750351821928.png/content/adobe-cms/us/en/homepage/jcr:content/root/table_of_contents/tile_group_container/container/tile_card_copy_15295/image\"></c4d-image-item>\\n    <c4d-image-item media=\"(min-width: 481px)\" srcset=\"/content/dam/connectedassets-adobe-cms/worldwide-content/creative-assets/s-migr/ul/g/e8/6a/guardium-data-protection-decorative-illustration.component.tile-card-s.ts=1750351821928.png/content/adobe-cms/us/en/homepage/jcr:content/root/table_of_contents/tile_group_container/container/tile_card_copy_15295/image\"></c4d-image-item>\\n    <c4d-image-item media=\"(max-width: 480px) and (min-resolution: 192dpi)\" srcset=\"/content/dam/connectedassets-adobe-cms/worldwide-content/creative-assets/s-migr/ul/g/e8/6a/guardium-data-protection-decorative-illustration.component.tile-card-xs-retina.ts=1750351821928.png/content/adobe-cms/us/en/homepage/jcr:content/root/table_of_contents/tile_group_container/container/tile_card_copy_15295/image\"></c4d-image-item>\\n    <c4d-image-item media=\"(max-width: 480px)\" srcset=\"/content/dam/connectedassets-adobe-cms/worldwide-content/creative-assets/s-migr/ul/g/e8/6a/guardium-data-protection-decorative-illustration.component.tile-card-xs.ts=1750351821928.png/content/adobe-cms/us/en/homepage/jcr:content/root/table_of_contents/tile_group_container/container/tile_card_copy_15295/image\"></c4d-image-item>\\n    \\n    \\n    \\n\\n    \\n\\n                    \\n                \\n            \\n        </c4d-image>\\n    \\n\\n    \\n    \\n    \\n    \\n\\n    \\n\\n\\n\\n    \\n    \\n\\n\\n        \\n        \\n    \\n\\n        <div class=\"caem-tile__text\">\\n            Unlock trustworthy AI with integrated governance and security\\n        </div>\\n        \\n    \\n    \\n\\n\\n\\n    \\n\\n        <p slot=\"cta\" class=\"caem-tile__link\">\\n            \\n        </p>\\n\\n    </caem-tile>\\n\\n    <div class=\"caem-card-svg-source\" hidden>\\n        <svg xmlns=\"http://www.w3.org/2000/svg\" id=\"accelerated-computing\" viewBox=\"0 0 32 32\"><path d=\"M19,29.36c-3.401,0-6.596-1.506-8.764-4.131l0.556-0.459c2.03,2.459,5.022,3.869,8.208,3.869 c5.867,0,10.64-4.772,10.64-10.64c0-5.867-4.772-10.64-10.64-10.64c-3.186,0-6.177,1.411-8.208,3.87l-0.555-0.459 c2.091-2.532,5.137-4.022,8.403-4.125V5.36H16c-0.199,0-0.36-0.161-0.36-0.36V3c0-0.199,0.161-0.36,0.36-0.36h6 c0.199,0,0.36,0.161,0.36,0.36v2c0,0.199-0.161,0.36-0.36,0.36h-2.64v1.286c6.098,0.191,11,5.211,11,11.354 C30.36,24.264,25.264,29.36,19,29.36z M16.36,4.64h5.28V3.36h-5.28V4.64z M14,23.36H4v-0.72h10V23.36z M12,18.36H2v-0.72h10V18.36z M19.179,18.312l-0.357-0.625l7-4l0.357,0.625L19.179,18.312z M14,13.36H4v-0.72h10V13.36z\"/></svg>\\n    </div>\\n    \\n    \\n\\n\\r\\n\\r\\n\\r\\n    \\n    \\n\\r\\n\\r\\n\\n\\n    \\r\\n    \\n    <caem-tile label=\"Report\" cta-type=\"local\" href=\"https://www.ibm.com/thought-leadership/institute-business-value/report/cybersecurity-ai-workforce?lnk=hprc3us\" target=\"_self\" data-video-modal-type=\"media-center\">\\n\\n        \\n        \\n            \\n\\n\\n\\n\\n\\n    \\n    \\n    \\n        \\n        \\n        \\n        \\n        \\n        <c4d-image id=\"image-1103004940\" alt=\"3D render of multiple concentric circles with colored data dots\" slot=\"image\" default-src=\"/content/dam/connectedassets-adobe-cms/worldwide-content/creative-assets/ibv/ul/g/27/37/1460-thumbnail-768x768.component.tile-card-xl.ts=1750351822439.jpg/content/adobe-cms/us/en/homepage/jcr:content/root/table_of_contents/tile_group_container/container/tile_card_copy_15295_1739452896/image\" class=\"\">\\n            \\n            \\n                \\n                    \\n    <c4d-image-item media=\"(min-width: 1312px) and (min-resolution: 192dpi)\" srcset=\"/content/dam/connectedassets-adobe-cms/worldwide-content/creative-assets/ibv/ul/g/27/37/1460-thumbnail-768x768.component.tile-card-xl-retina.ts=1750351822439.jpg/content/adobe-cms/us/en/homepage/jcr:content/root/table_of_contents/tile_group_container/container/tile_card_copy_15295_1739452896/image\"></c4d-image-item>\\n    <c4d-image-item media=\"(min-width: 1312px)\" srcset=\"/content/dam/connectedassets-adobe-cms/worldwide-content/creative-assets/ibv/ul/g/27/37/1460-thumbnail-768x768.component.tile-card-xl.ts=1750351822439.jpg/content/adobe-cms/us/en/homepage/jcr:content/root/table_of_contents/tile_group_container/container/tile_card_copy_15295_1739452896/image\"></c4d-image-item>\\n    <c4d-image-item media=\"(min-width: 1056px) and (min-resolution: 192dpi)\" srcset=\"/content/dam/connectedassets-adobe-cms/worldwide-content/creative-assets/ibv/ul/g/27/37/1460-thumbnail-768x768.component.tile-card-l-retina.ts=1750351822439.jpg/content/adobe-cms/us/en/homepage/jcr:content/root/table_of_contents/tile_group_container/container/tile_card_copy_15295_1739452896/image\"></c4d-image-item>\\n    <c4d-image-item media=\"(min-width: 1056px)\" srcset=\"/content/dam/connectedassets-adobe-cms/worldwide-content/creative-assets/ibv/ul/g/27/37/1460-thumbnail-768x768.component.tile-card-l.ts=1750351822439.jpg/content/adobe-cms/us/en/homepage/jcr:content/root/table_of_contents/tile_group_container/container/tile_card_copy_15295_1739452896/image\"></c4d-image-item>\\n    <c4d-image-item media=\"(min-width: 672px) and (min-resolution: 192dpi)\" srcset=\"/content/dam/connectedassets-adobe-cms/worldwide-content/creative-assets/ibv/ul/g/27/37/1460-thumbnail-768x768.component.tile-card-m-retina.ts=1750351822439.jpg/content/adobe-cms/us/en/homepage/jcr:content/root/table_of_contents/tile_group_container/container/tile_card_copy_15295_1739452896/image\"></c4d-image-item>\\n    <c4d-image-item media=\"(min-width: 672px)\" srcset=\"/content/dam/connectedassets-adobe-cms/worldwide-content/creative-assets/ibv/ul/g/27/37/1460-thumbnail-768x768.component.tile-card-m.ts=1750351822439.jpg/content/adobe-cms/us/en/homepage/jcr:content/root/table_of_contents/tile_group_container/container/tile_card_copy_15295_1739452896/image\"></c4d-image-item>\\n    <c4d-image-item media=\"(min-width: 481px) and (min-resolution: 192dpi)\" srcset=\"/content/dam/connectedassets-adobe-cms/worldwide-content/creative-assets/ibv/ul/g/27/37/1460-thumbnail-768x768.component.tile-card-s-retina.ts=1750351822439.jpg/content/adobe-cms/us/en/homepage/jcr:content/root/table_of_contents/tile_group_container/container/tile_card_copy_15295_1739452896/image\"></c4d-image-item>\\n    <c4d-image-item media=\"(min-width: 481px)\" srcset=\"/content/dam/connectedassets-adobe-cms/worldwide-content/creative-assets/ibv/ul/g/27/37/1460-thumbnail-768x768.component.tile-card-s.ts=1750351822439.jpg/content/adobe-cms/us/en/homepage/jcr:content/root/table_of_contents/tile_group_container/container/tile_card_copy_15295_1739452896/image\"></c4d-image-item>\\n    <c4d-image-item media=\"(max-width: 480px) and (min-resolution: 192dpi)\" srcset=\"/content/dam/connectedassets-adobe-cms/worldwide-content/creative-assets/ibv/ul/g/27/37/1460-thumbnail-768x768.component.tile-card-xs-retina.ts=1750351822439.jpg/content/adobe-cms/us/en/homepage/jcr:content/root/table_of_contents/tile_group_container/container/tile_card_copy_15295_1739452896/image\"></c4d-image-item>\\n    <c4d-image-item media=\"(max-width: 480px)\" srcset=\"/content/dam/connectedassets-adobe-cms/worldwide-content/creative-assets/ibv/ul/g/27/37/1460-thumbnail-768x768.component.tile-card-xs.ts=1750351822439.jpg/content/adobe-cms/us/en/homepage/jcr:content/root/table_of_contents/tile_group_container/container/tile_card_copy_15295_1739452896/image\"></c4d-image-item>\\n    \\n    \\n    \\n\\n    \\n\\n                    \\n                \\n            \\n        </c4d-image>\\n    \\n\\n    \\n    \\n    \\n    \\n\\n    \\n\\n\\n\\n    \\n    \\n\\n\\n        \\n        \\n    \\n\\n        <div class=\"caem-tile__text\">\\n            Cybersecurity 2028: Your workforce, built for the AI frontier\\n        </div>\\n        \\n    \\n    \\n\\n\\n\\n    \\n\\n        <p slot=\"cta\" class=\"caem-tile__link\">\\n            \\n        </p>\\n\\n    </caem-tile>\\n\\n    <div class=\"caem-card-svg-source\" hidden>\\n        <svg xmlns=\"http://www.w3.org/2000/svg\" id=\"accelerated-computing\" viewBox=\"0 0 32 32\"><path d=\"M19,29.36c-3.401,0-6.596-1.506-8.764-4.131l0.556-0.459c2.03,2.459,5.022,3.869,8.208,3.869 c5.867,0,10.64-4.772,10.64-10.64c0-5.867-4.772-10.64-10.64-10.64c-3.186,0-6.177,1.411-8.208,3.87l-0.555-0.459 c2.091-2.532,5.137-4.022,8.403-4.125V5.36H16c-0.199,0-0.36-0.161-0.36-0.36V3c0-0.199,0.161-0.36,0.36-0.36h6 c0.199,0,0.36,0.161,0.36,0.36v2c0,0.199-0.161,0.36-0.36,0.36h-2.64v1.286c6.098,0.191,11,5.211,11,11.354 C30.36,24.264,25.264,29.36,19,29.36z M16.36,4.64h5.28V3.36h-5.28V4.64z M14,23.36H4v-0.72h10V23.36z M12,18.36H2v-0.72h10V18.36z M19.179,18.312l-0.357-0.625l7-4l0.357,0.625L19.179,18.312z M14,13.36H4v-0.72h10V13.36z\"/></svg>\\n    </div>\\n    \\n    \\n\\n\\r\\n\\r\\n\\r\\n    \\n    \\n\\r\\n\\r\\n\\n\\n    \\r\\n    \\n    <caem-tile label=\"Solutions\" cta-type=\"local\" href=\"https://www.ibm.com/solutions/data-and-ai?lnk=hprc4us\" target=\"_self\" data-video-modal-type=\"media-center\">\\n\\n        \\n        \\n            \\n\\n\\n\\n\\n\\n    \\n    \\n    \\n        \\n        \\n        \\n        \\n        \\n        <c4d-image id=\"image--555602853\" alt=\"3D render of multiple forms of data being delivered\" slot=\"image\" default-src=\"/content/dam/connectedassets-adobe-cms/worldwide-content/creative-assets/ibs/ul/cci/67/7e/ibm_think_projectkavya_twist_still_4k.component.tile-card-xl.ts=1750351822952.png/content/adobe-cms/us/en/homepage/jcr:content/root/table_of_contents/tile_group_container/container/tile_card_copy_copy_/image\" class=\"\">\\n            \\n            \\n                \\n                    \\n    <c4d-image-item media=\"(min-width: 1312px) and (min-resolution: 192dpi)\" srcset=\"/content/dam/connectedassets-adobe-cms/worldwide-content/creative-assets/ibs/ul/cci/67/7e/ibm_think_projectkavya_twist_still_4k.component.tile-card-xl-retina.ts=1750351822952.png/content/adobe-cms/us/en/homepage/jcr:content/root/table_of_contents/tile_group_container/container/tile_card_copy_copy_/image\"></c4d-image-item>\\n    <c4d-image-item media=\"(min-width: 1312px)\" srcset=\"/content/dam/connectedassets-adobe-cms/worldwide-content/creative-assets/ibs/ul/cci/67/7e/ibm_think_projectkavya_twist_still_4k.component.tile-card-xl.ts=1750351822952.png/content/adobe-cms/us/en/homepage/jcr:content/root/table_of_contents/tile_group_container/container/tile_card_copy_copy_/image\"></c4d-image-item>\\n    <c4d-image-item media=\"(min-width: 1056px) and (min-resolution: 192dpi)\" srcset=\"/content/dam/connectedassets-adobe-cms/worldwide-content/creative-assets/ibs/ul/cci/67/7e/ibm_think_projectkavya_twist_still_4k.component.tile-card-l-retina.ts=1750351822952.png/content/adobe-cms/us/en/homepage/jcr:content/root/table_of_contents/tile_group_container/container/tile_card_copy_copy_/image\"></c4d-image-item>\\n    <c4d-image-item media=\"(min-width: 1056px)\" srcset=\"/content/dam/connectedassets-adobe-cms/worldwide-content/creative-assets/ibs/ul/cci/67/7e/ibm_think_projectkavya_twist_still_4k.component.tile-card-l.ts=1750351822952.png/content/adobe-cms/us/en/homepage/jcr:content/root/table_of_contents/tile_group_container/container/tile_card_copy_copy_/image\"></c4d-image-item>\\n    <c4d-image-item media=\"(min-width: 672px) and (min-resolution: 192dpi)\" srcset=\"/content/dam/connectedassets-adobe-cms/worldwide-content/creative-assets/ibs/ul/cci/67/7e/ibm_think_projectkavya_twist_still_4k.component.tile-card-m-retina.ts=1750351822952.png/content/adobe-cms/us/en/homepage/jcr:content/root/table_of_contents/tile_group_container/container/tile_card_copy_copy_/image\"></c4d-image-item>\\n    <c4d-image-item media=\"(min-width: 672px)\" srcset=\"/content/dam/connectedassets-adobe-cms/worldwide-content/creative-assets/ibs/ul/cci/67/7e/ibm_think_projectkavya_twist_still_4k.component.tile-card-m.ts=1750351822952.png/content/adobe-cms/us/en/homepage/jcr:content/root/table_of_contents/tile_group_container/container/tile_card_copy_copy_/image\"></c4d-image-item>\\n    <c4d-image-item media=\"(min-width: 481px) and (min-resolution: 192dpi)\" srcset=\"/content/dam/connectedassets-adobe-cms/worldwide-content/creative-assets/ibs/ul/cci/67/7e/ibm_think_projectkavya_twist_still_4k.component.tile-card-s-retina.ts=1750351822952.png/content/adobe-cms/us/en/homepage/jcr:content/root/table_of_contents/tile_group_container/container/tile_card_copy_copy_/image\"></c4d-image-item>\\n    <c4d-image-item media=\"(min-width: 481px)\" srcset=\"/content/dam/connectedassets-adobe-cms/worldwide-content/creative-assets/ibs/ul/cci/67/7e/ibm_think_projectkavya_twist_still_4k.component.tile-card-s.ts=1750351822952.png/content/adobe-cms/us/en/homepage/jcr:content/root/table_of_contents/tile_group_container/container/tile_card_copy_copy_/image\"></c4d-image-item>\\n    <c4d-image-item media=\"(max-width: 480px) and (min-resolution: 192dpi)\" srcset=\"/content/dam/connectedassets-adobe-cms/worldwide-content/creative-assets/ibs/ul/cci/67/7e/ibm_think_projectkavya_twist_still_4k.component.tile-card-xs-retina.ts=1750351822952.png/content/adobe-cms/us/en/homepage/jcr:content/root/table_of_contents/tile_group_container/container/tile_card_copy_copy_/image\"></c4d-image-item>\\n    <c4d-image-item media=\"(max-width: 480px)\" srcset=\"/content/dam/connectedassets-adobe-cms/worldwide-content/creative-assets/ibs/ul/cci/67/7e/ibm_think_projectkavya_twist_still_4k.component.tile-card-xs.ts=1750351822952.png/content/adobe-cms/us/en/homepage/jcr:content/root/table_of_contents/tile_group_container/container/tile_card_copy_copy_/image\"></c4d-image-item>\\n    \\n    \\n    \\n\\n    \\n\\n                    \\n                \\n            \\n        </c4d-image>\\n    \\n\\n    \\n    \\n    \\n    \\n\\n    \\n\\n\\n\\n    \\n    \\n\\n\\n        \\n        \\n    \\n\\n        <div class=\"caem-tile__text\">\\n            Access, integrate, govern and secure all your enterprise data from one place—wherever it resides\\n        </div>\\n        \\n    \\n    \\n\\n\\n\\n    \\n\\n        <p slot=\"cta\" class=\"caem-tile__link\">\\n            \\n        </p>\\n\\n    </caem-tile>\\n\\n    <div class=\"caem-card-svg-source\" hidden>\\n        <svg xmlns=\"http://www.w3.org/2000/svg\" id=\"accelerated-computing\" viewBox=\"0 0 32 32\"><path d=\"M19,29.36c-3.401,0-6.596-1.506-8.764-4.131l0.556-0.459c2.03,2.459,5.022,3.869,8.208,3.869 c5.867,0,10.64-4.772,10.64-10.64c0-5.867-4.772-10.64-10.64-10.64c-3.186,0-6.177,1.411-8.208,3.87l-0.555-0.459 c2.091-2.532,5.137-4.022,8.403-4.125V5.36H16c-0.199,0-0.36-0.161-0.36-0.36V3c0-0.199,0.161-0.36,0.36-0.36h6 c0.199,0,0.36,0.161,0.36,0.36v2c0,0.199-0.161,0.36-0.36,0.36h-2.64v1.286c6.098,0.191,11,5.211,11,11.354 C30.36,24.264,25.264,29.36,19,29.36z M16.36,4.64h5.28V3.36h-5.28V4.64z M14,23.36H4v-0.72h10V23.36z M12,18.36H2v-0.72h10V18.36z M19.179,18.312l-0.357-0.625l7-4l0.357,0.625L19.179,18.312z M14,13.36H4v-0.72h10V13.36z\"/></svg>\\n    </div>\\n    \\n    \\n\\n\\r\\n\\r\\n\\r\\n    \\n    \\n\\r\\n\\r\\n\\n\\n\\n\\n\\n      </caem-tile-group>\\n  </div>\\n\\n\\n\\n  \\n    <script defer src=\"/etc.clientlibs/adobe-cms/components/content/organisms/tile-group/tile-group-container/clientlibs.lc-92a38a0479519d42cd16961ae5a4bd09-lc.min.js\"></script>\\n\\n\\n\\n</div>\\n<div class=\"50-50-content-block hideHorizontalRule\"><div class=\"cds--50-50-content-block\">\\n  <div class=\"cds--row\">\\n    \\n      <h2 class=\"cds--50-50-content-block__heading cds--col-lg-8 expressive-heading-05\">\\n        \\n\\n\\n\\n  \\n    Developer toolkit\\n\\n\\n\\n\\n\\n\\n    \\n\\n\\n      </h2>\\n    \\n  </div>\\n\\n  <div class=\"cds--row\">\\n    <div class=\"cds--50-50-content-block__item cds--col-lg-8\">\\n      \\n<div class=\"cds--content-block-50-50-card \">\\n    \\n    <div class=\"cds--no-gutter cds--content-block-50-50-card__media\">\\n        \\n\\n    \\n    \\n    \\n\\n\\n\\n\\n    <script defer src=\"/etc.clientlibs/adobe-cms/clientlibs/clientlib-lightbox-media-viewer.lc-483b6d81ae4111ddc6f62328c4a48732-lc.min.js\"></script>\\n\\n\\n\\n    </div>\\n    <div class=\"cds--content-block-50-50-card__heading\">\\n        <h4 class=\"expressive-heading-04\">\\n            \\n\\n\\n    \\n\\n  \\n\\n<span class=\"enhanced-title text-color-gradient-90-blue-to-purple\">Build, learn, deploy</span>\\n\\n\\n\\n    \\n\\n\\n\\n\\n\\n\\n\\n    \\n\\n\\n        </h4>\\n    </div>\\n    <div>\\n        <div class=\"cds--content-block-50-50-card__body\">\\n\\n    \\n    \\n    \\n    <div id=\"content-block-container-741f569af4\" class=\"cmp-container\">\\n        \\n        <div class=\"standalone-text rich-text text\">\\r\\n    <span class=\"  normal cms-richtext\">\\r\\n        <p>Build smart, learn fast, win big and stay in control of your AI with governance.</p>\\r\\n\\r\\n    </span>\\r\\n    \\n    \\n\\r\\n\\r\\n</div>\\n<div class=\"link button\">\\n    \\n    \\n        \\n        \\n        \\n        \\n        \\n        \\n        \\n            <a cta-type=\"local\" href=\"https://www.ibm.com/granite?lnk=hpdev1us\" icon-placement=\"right\" target=\"_self\" data-link-type=\"local\" data-dynamic-properties=\"{&quot;ctaUrl&quot;:&quot;href&quot;}\" data-video-modal-type=\"media-center\">\\n                \\n                <span class=\"cds--link-text\" data-link-text data-dynamic-inner-content=\"ctaLabel\">Start building with IBM Granite® models</span>\\n                \\n    <!-- LTR - Left to Right version -->\\n    \\n    <svg xmlns=\"http://www.w3.org/2000/svg\" slot=\"icon\" width=\"20\" height=\"20\" focusable=\"false\" fill=\"currentColor\" viewBox=\"0 0 20 20\" aria-hidden=\"true\">\\n        <path d=\"M11.8 2.8L10.8 3.8 16.2 9.3 1 9.3 1 10.7 16.2 10.7 10.8 16.2 11.8 17.2 19 10z\"></path>\\n    </svg>\\n\\n    <!-- RTL - Right to Left version -->\\n    \\n    \\n    \\n    \\n    \\n    \\n    \\n    \\n\\n            </a>\\n        \\n    \\n    \\n    \\n\\n\\n</div>\\n<div class=\"link button\">\\n    \\n    \\n        \\n        \\n        \\n        \\n        \\n        \\n        \\n            <a cta-type=\"external\" href=\"https://ibmtechxchange.bemyapp.com/#/event?lnk=hpdev2us\" icon-placement=\"right\" target=\"_blank\" data-link-type=\"external\" data-dynamic-properties=\"{&quot;ctaUrl&quot;:&quot;href&quot;}\" data-video-modal-type=\"media-center\">\\n                \\n                <span class=\"cds--link-text\" data-link-text data-dynamic-inner-content=\"ctaLabel\">Compete for USD 10,000 and level up your AI skills</span>\\n                \\n    <!-- LTR - Left to Right version -->\\n    \\n    <!-- RTL - Right to Left version -->\\n    \\n    \\n    \\n    <svg xmlns=\"http://www.w3.org/2000/svg\" slot=\"icon\" width=\"20\" height=\"20\" focusable=\"false\" fill=\"currentColor\" viewBox=\"0 0 32 32\" aria-hidden=\"true\">\\n        <path d=\"M26,28H6a2.0027,2.0027,0,0,1-2-2V6A2.0027,2.0027,0,0,1,6,4H16V6H6V26H26V16h2V26A2.0027,2.0027,0,0,1,26,28Z\"></path>\\n        <path d=\"M20 2L20 4 26.586 4 18 12.586 19.414 14 28 5.414 28 12 30 12 30 2 20 2z\"></path>\\n    </svg>\\n\\n    \\n    \\n    \\n    \\n    \\n\\n            </a>\\n        \\n    \\n    \\n    \\n\\n\\n</div>\\n<div class=\"link button\">\\n    \\n    \\n        \\n        \\n        \\n        \\n        \\n        \\n        \\n            <a cta-type=\"external\" href=\"https://skillsbuild.org/?lnk=hpdev3us\" icon-placement=\"right\" target=\"_blank\" data-link-type=\"external\" data-dynamic-properties=\"{&quot;ctaUrl&quot;:&quot;href&quot;}\" data-video-modal-type=\"media-center\">\\n                \\n                <span class=\"cds--link-text\" data-link-text data-dynamic-inner-content=\"ctaLabel\">Power your future, build your dev skills</span>\\n                \\n    <!-- LTR - Left to Right version -->\\n    \\n    <!-- RTL - Right to Left version -->\\n    \\n    \\n    \\n    <svg xmlns=\"http://www.w3.org/2000/svg\" slot=\"icon\" width=\"20\" height=\"20\" focusable=\"false\" fill=\"currentColor\" viewBox=\"0 0 32 32\" aria-hidden=\"true\">\\n        <path d=\"M26,28H6a2.0027,2.0027,0,0,1-2-2V6A2.0027,2.0027,0,0,1,6,4H16V6H6V26H26V16h2V26A2.0027,2.0027,0,0,1,26,28Z\"></path>\\n        <path d=\"M20 2L20 4 26.586 4 18 12.586 19.414 14 28 5.414 28 12 30 12 30 2 20 2z\"></path>\\n    </svg>\\n\\n    \\n    \\n    \\n    \\n    \\n\\n            </a>\\n        \\n    \\n    \\n    \\n\\n\\n</div>\\n<div class=\"link button\">\\n    \\n    \\n        \\n        \\n        \\n        \\n        \\n        \\n        \\n            <a cta-type=\"local\" href=\"https://www.ibm.com/new/announcements/agentic-ai-governance-evaluation-and-lifecycle?lnk=hpdev4us\" icon-placement=\"right\" target=\"_self\" data-link-type=\"local\" data-dynamic-properties=\"{&quot;ctaUrl&quot;:&quot;href&quot;}\" data-video-modal-type=\"media-center\">\\n                \\n                <span class=\"cds--link-text\" data-link-text data-dynamic-inner-content=\"ctaLabel\">Monitor agentic AI performance with watsonx.governance</span>\\n                \\n    <!-- LTR - Left to Right version -->\\n    \\n    <svg xmlns=\"http://www.w3.org/2000/svg\" slot=\"icon\" width=\"20\" height=\"20\" focusable=\"false\" fill=\"currentColor\" viewBox=\"0 0 20 20\" aria-hidden=\"true\">\\n        <path d=\"M11.8 2.8L10.8 3.8 16.2 9.3 1 9.3 1 10.7 16.2 10.7 10.8 16.2 11.8 17.2 19 10z\"></path>\\n    </svg>\\n\\n    <!-- RTL - Right to Left version -->\\n    \\n    \\n    \\n    \\n    \\n    \\n    \\n    \\n\\n            </a>\\n        \\n    \\n    \\n    \\n\\n\\n</div>\\n\\n        \\n    </div>\\n\\n</div>\\n    </div>\\n</div>\\n\\n    \\n    \\n\\n\\n    </div>\\n    <div class=\"cds--50-50-content-block__item cds--col-lg-8\">\\n      \\n<div class=\"cds--content-block-50-50-card \">\\n    \\n    <div class=\"cds--no-gutter cds--content-block-50-50-card__media\">\\n        \\n\\n    \\n    \\n    \\n\\n\\n\\n\\n    \\n\\n\\n    </div>\\n    <div class=\"cds--content-block-50-50-card__heading\">\\n        <h4 class=\"expressive-heading-04\">\\n            \\n\\n\\n    \\n\\n  \\n\\n<span class=\"enhanced-title text-color-gradient-90-blue-to-purple\">Why IBM?</span>\\n\\n\\n\\n    \\n\\n\\n\\n\\n\\n\\n\\n    \\n\\n\\n        </h4>\\n    </div>\\n    <div>\\n        <div class=\"cds--content-block-50-50-card__body\">\\n\\n    \\n    \\n    \\n    <div id=\"content-block-container-1e80863b61\" class=\"cmp-container\">\\n        \\n        <div class=\"standalone-text rich-text text\">\\r\\n    <span class=\"  normal cms-richtext\">\\r\\n        <p>See what the analysts have to say and start your hands-on journey.</p>\\r\\n\\r\\n    </span>\\r\\n    \\n    \\n\\r\\n\\r\\n</div>\\n<div class=\"link button\">\\n    \\n    \\n        \\n        \\n        \\n        \\n        \\n        \\n        \\n            <a cta-type=\"local\" href=\"https://www.ibm.com/new/announcements/ibm-named-a-leader-in-the-2025-gartner-magic-quadrant-for-data-science-and-machine-learning-platforms?lnk=hpdev5us\" icon-placement=\"right\" target=\"_self\" data-link-type=\"local\" data-dynamic-properties=\"{&quot;ctaUrl&quot;:&quot;href&quot;}\" data-video-modal-type=\"media-center\">\\n                \\n                <span class=\"cds--link-text\" data-link-text data-dynamic-inner-content=\"ctaLabel\">Read why Gartner named IBM a Leader in Data Science and ML </span>\\n                \\n    <!-- LTR - Left to Right version -->\\n    \\n    <svg xmlns=\"http://www.w3.org/2000/svg\" slot=\"icon\" width=\"20\" height=\"20\" focusable=\"false\" fill=\"currentColor\" viewBox=\"0 0 20 20\" aria-hidden=\"true\">\\n        <path d=\"M11.8 2.8L10.8 3.8 16.2 9.3 1 9.3 1 10.7 16.2 10.7 10.8 16.2 11.8 17.2 19 10z\"></path>\\n    </svg>\\n\\n    <!-- RTL - Right to Left version -->\\n    \\n    \\n    \\n    \\n    \\n    \\n    \\n    \\n\\n            </a>\\n        \\n    \\n    \\n    \\n\\n\\n</div>\\n<div class=\"link button\">\\n    \\n    \\n        \\n        \\n        \\n        \\n        \\n        \\n        \\n            <a cta-type=\"local\" href=\"https://www.ibm.com/new/announcements/ibm-leader-2025-omdia-universe-on-no-low-pro-ide-assistants-report?lnk=hpdev6us\" icon-placement=\"right\" target=\"_self\" data-link-type=\"local\" data-dynamic-properties=\"{&quot;ctaUrl&quot;:&quot;href&quot;}\" data-video-modal-type=\"media-center\">\\n                \\n                <span class=\"cds--link-text\" data-link-text data-dynamic-inner-content=\"ctaLabel\">Discover why Omdia ranked IBM a Leader in IDE Assistants </span>\\n                \\n    <!-- LTR - Left to Right version -->\\n    \\n    <svg xmlns=\"http://www.w3.org/2000/svg\" slot=\"icon\" width=\"20\" height=\"20\" focusable=\"false\" fill=\"currentColor\" viewBox=\"0 0 20 20\" aria-hidden=\"true\">\\n        <path d=\"M11.8 2.8L10.8 3.8 16.2 9.3 1 9.3 1 10.7 16.2 10.7 10.8 16.2 11.8 17.2 19 10z\"></path>\\n    </svg>\\n\\n    <!-- RTL - Right to Left version -->\\n    \\n    \\n    \\n    \\n    \\n    \\n    \\n    \\n\\n            </a>\\n        \\n    \\n    \\n    \\n\\n\\n</div>\\n<div class=\"link button\">\\n    \\n    \\n        \\n        \\n        \\n        \\n        \\n        \\n        \\n            <a cta-type=\"local\" href=\"https://www.ibm.com/products/watsonx-code-assistant/pricing?lnk=hpdev7us\" icon-placement=\"right\" target=\"_blank\" data-link-type=\"local\" data-dynamic-properties=\"{&quot;ctaUrl&quot;:&quot;href&quot;}\" data-video-modal-type=\"media-center\">\\n                \\n                <span class=\"cds--link-text\" data-link-text data-dynamic-inner-content=\"ctaLabel\">Get 25% off watsonx Code Assistant™ Essentials</span>\\n                \\n    <!-- LTR - Left to Right version -->\\n    \\n    <svg xmlns=\"http://www.w3.org/2000/svg\" slot=\"icon\" width=\"20\" height=\"20\" focusable=\"false\" fill=\"currentColor\" viewBox=\"0 0 20 20\" aria-hidden=\"true\">\\n        <path d=\"M11.8 2.8L10.8 3.8 16.2 9.3 1 9.3 1 10.7 16.2 10.7 10.8 16.2 11.8 17.2 19 10z\"></path>\\n    </svg>\\n\\n    <!-- RTL - Right to Left version -->\\n    \\n    \\n    \\n    \\n    \\n    \\n    \\n    \\n\\n            </a>\\n        \\n    \\n    \\n    \\n\\n\\n</div>\\n<div class=\"link button\">\\n    \\n    \\n        \\n        \\n        \\n        \\n        \\n        \\n        \\n            <a cta-type=\"local\" href=\"https://www.ibm.com/products/watsonx-ai?lnk=hpdev8us\" icon-placement=\"right\" target=\"_self\" data-link-type=\"local\" data-dynamic-properties=\"{&quot;ctaUrl&quot;:&quot;href&quot;}\" data-video-modal-type=\"media-center\">\\n                \\n                <span class=\"cds--link-text\" data-link-text data-dynamic-inner-content=\"ctaLabel\">Pick your open-source model and start building with watsonx.ai®</span>\\n                \\n    <!-- LTR - Left to Right version -->\\n    \\n    <svg xmlns=\"http://www.w3.org/2000/svg\" slot=\"icon\" width=\"20\" height=\"20\" focusable=\"false\" fill=\"currentColor\" viewBox=\"0 0 20 20\" aria-hidden=\"true\">\\n        <path d=\"M11.8 2.8L10.8 3.8 16.2 9.3 1 9.3 1 10.7 16.2 10.7 10.8 16.2 11.8 17.2 19 10z\"></path>\\n    </svg>\\n\\n    <!-- RTL - Right to Left version -->\\n    \\n    \\n    \\n    \\n    \\n    \\n    \\n    \\n\\n            </a>\\n        \\n    \\n    \\n    \\n\\n\\n</div>\\n\\n        \\n    </div>\\n\\n</div>\\n    </div>\\n</div>\\n\\n    \\n    \\n\\n\\n    </div>\\n  </div>\\n\\n  <div>\\n    \\n    \\n    \\n    \\n        <c4d-hr></c4d-hr>\\n        \\n    \\n\\n    \\n    \\n    \\n    <script defer src=\"/etc.clientlibs/adobe-cms/clientlibs/clientlib-horizontal-rule.lc-ddb66babecdb8a6683bd4a31487f1ba0-lc.min.js\"></script>\\n\\n\\n    \\n\\n\\n  </div>\\n\\n</div>\\n</div>\\n<div class=\"promotional-banner\">\\n\\n    \\n\\n<div class=\"promotionalBanner\" data-node=\"/content/adobe-cms/us/en/homepage/jcr:content/root/table_of_contents/promotional_banner_c_40902868\" isapicall=\"NonApi\">\\n    <c4d-promo-banner class=\"promotional-banner__container theme-p20 \">\\n        \\n\\t        \\n    \\n    \\n    \\n        \\n        \\n        \\n        \\n        \\n        <c4d-image id=\"image-728352573\" alt=\"Stylized screenshot from SPSS Statistics formatted for 568x320 email banner.\" slot=\"image\" default-src=\"/content/dam/connectedassets-adobe-cms/worldwide-content/creative-assets/s-migr/ul/g/d2/3f/spss-screenshot-2.component.xl.ts=1750351826504.jpg/content/adobe-cms/us/en/homepage/jcr:content/root/table_of_contents/promotional_banner_c_40902868\" class=\"\">\\n            \\n            \\n                \\n                    \\n    <c4d-image-item media=\"(min-width: 1312px) and (min-resolution: 192dpi)\" srcset=\"/content/dam/connectedassets-adobe-cms/worldwide-content/creative-assets/s-migr/ul/g/d2/3f/spss-screenshot-2.component.xl-retina.ts=1750351826504.jpg/content/adobe-cms/us/en/homepage/jcr:content/root/table_of_contents/promotional_banner_c_40902868\"></c4d-image-item>\\n    <c4d-image-item media=\"(min-width: 1312px)\" srcset=\"/content/dam/connectedassets-adobe-cms/worldwide-content/creative-assets/s-migr/ul/g/d2/3f/spss-screenshot-2.component.xl.ts=1750351826504.jpg/content/adobe-cms/us/en/homepage/jcr:content/root/table_of_contents/promotional_banner_c_40902868\"></c4d-image-item>\\n    <c4d-image-item media=\"(min-width: 1056px) and (min-resolution: 192dpi)\" srcset=\"/content/dam/connectedassets-adobe-cms/worldwide-content/creative-assets/s-migr/ul/g/d2/3f/spss-screenshot-2.component.l-retina.ts=1750351826504.jpg/content/adobe-cms/us/en/homepage/jcr:content/root/table_of_contents/promotional_banner_c_40902868\"></c4d-image-item>\\n    <c4d-image-item media=\"(min-width: 1056px)\" srcset=\"/content/dam/connectedassets-adobe-cms/worldwide-content/creative-assets/s-migr/ul/g/d2/3f/spss-screenshot-2.component.l.ts=1750351826504.jpg/content/adobe-cms/us/en/homepage/jcr:content/root/table_of_contents/promotional_banner_c_40902868\"></c4d-image-item>\\n    <c4d-image-item media=\"(min-width: 672px) and (min-resolution: 192dpi)\" srcset=\"/content/dam/connectedassets-adobe-cms/worldwide-content/creative-assets/s-migr/ul/g/d2/3f/spss-screenshot-2.component.m-retina.ts=1750351826504.jpg/content/adobe-cms/us/en/homepage/jcr:content/root/table_of_contents/promotional_banner_c_40902868\"></c4d-image-item>\\n    <c4d-image-item media=\"(min-width: 672px)\" srcset=\"/content/dam/connectedassets-adobe-cms/worldwide-content/creative-assets/s-migr/ul/g/d2/3f/spss-screenshot-2.component.m.ts=1750351826504.jpg/content/adobe-cms/us/en/homepage/jcr:content/root/table_of_contents/promotional_banner_c_40902868\"></c4d-image-item>\\n    <c4d-image-item media=\"(min-width: 481px) and (min-resolution: 192dpi)\" srcset=\"/content/dam/connectedassets-adobe-cms/worldwide-content/creative-assets/s-migr/ul/g/d2/3f/spss-screenshot-2.component.s-retina.ts=1750351826504.jpg/content/adobe-cms/us/en/homepage/jcr:content/root/table_of_contents/promotional_banner_c_40902868\"></c4d-image-item>\\n    <c4d-image-item media=\"(min-width: 481px)\" srcset=\"/content/dam/connectedassets-adobe-cms/worldwide-content/creative-assets/s-migr/ul/g/d2/3f/spss-screenshot-2.component.s.ts=1750351826504.jpg/content/adobe-cms/us/en/homepage/jcr:content/root/table_of_contents/promotional_banner_c_40902868\"></c4d-image-item>\\n    <c4d-image-item media=\"(max-width: 480px) and (min-resolution: 192dpi)\" srcset=\"/content/dam/connectedassets-adobe-cms/worldwide-content/creative-assets/s-migr/ul/g/d2/3f/spss-screenshot-2.component.xs-retina.ts=1750351826504.jpg/content/adobe-cms/us/en/homepage/jcr:content/root/table_of_contents/promotional_banner_c_40902868\"></c4d-image-item>\\n    <c4d-image-item media=\"(max-width: 480px)\" srcset=\"/content/dam/connectedassets-adobe-cms/worldwide-content/creative-assets/s-migr/ul/g/d2/3f/spss-screenshot-2.component.xs.ts=1750351826504.jpg/content/adobe-cms/us/en/homepage/jcr:content/root/table_of_contents/promotional_banner_c_40902868\"></c4d-image-item>\\n    \\n    \\n    \\n\\n    \\n\\n                    \\n                \\n            \\n        </c4d-image>\\n    \\n\\n    \\n    \\n    \\n    \\n\\n    \\n\\n\\n        \\n        \\n\\n        \\n            <span class=\"heading-compact-02\"><p>Your favorite statistics tool just got an upgrade!</p>\\r\\n</span>\\n        \\n        <div class=\" \"><p>Discover what&#39;s new in the next evolution of IBM SPSS Statistics</p>\\r\\n</div>\\n        \\n            \\n    \\n    \\n    \\n    \\n    <a href=\"https://www.ibm.com/products/spss-statistics/whats-new?lnk=hppr1us\" target=\"_self\" slot=\"cta\">\\n        <c4d-button href=\"https://www.ibm.com/products/spss-statistics/whats-new?lnk=hppr1us\" target=\"_self\" kind=\"tertiary\" cta-type=\"local\">\\n            <span>Explore SPSS Statistics v31</span>\\n            \\n            \\n        </c4d-button>\\n    </a>\\n    \\n    \\n    \\n    \\n\\n    \\n\\n\\n        \\n        \\n    <svg xmlns=\"http://www.w3.org/2000/svg\" class=\"promotional-banner__icon\" slot=\"icon\" width=\"20\" height=\"20\" focusable=\"false\" fill=\"currentColor\" viewBox=\"0 0 20 20\" aria-hidden=\"true\">\\n        <path d=\"M11.8 2.8L10.8 3.8 16.2 9.3 1 9.3 1 10.7 16.2 10.7 10.8 16.2 11.8 17.2 19 10z\"></path>\\n    </svg>\\n\\n    \\n    </c4d-promo-banner>\\n</div>\\n\\n    \\n    <script defer src=\"/etc.clientlibs/adobe-cms/clientlibs/clientlib-countdown.lc-3a35a776f6863149b4b32e94f67c96b9-lc.min.js\"></script>\\n<script defer src=\"/etc.clientlibs/adobe-cms/clientlibs/clientlib-promo-banner.lc-d6f6b6a5638d4897178d8641a09273ee-lc.min.js\"></script>\\n\\n\\n</div>\\n<div class=\"card-group-pictogram-full-width card-group-pictogram themed-block theme-white\">\\n    <div class=\"cds--content-block\">\\n        <div class=\"cds--full-width-intro-container\">\\n            \\n\\n<div class=\"intro-section--flex fullwidth-intro-section\">\\n    <div class=\"intro-section--heading-wrapper\">\\n        <h2 class=\"expressive-heading-05 \">\\n            \\n\\n\\n\\n  \\n    Technology and consulting\\n\\n\\n\\n\\n\\n\\n    \\n\\n\\n        </h2>\\n    </div>\\n    <div class=\"intro-section--content-wrapper\">\\n        <span class=\"expressive-heading-03\">\\n            <div class=\"cms-richtext \" id=\"rich-text-06b35d63d7\" data-dynamic-inner-content=\"description\">\\n    <p>From <a href=\"https://www.ibm.com/artificial-intelligence?lnk&#61;hpfp1us\" target=\"_self\" rel=\"noopener noreferrer\">next-generation AI</a> to cutting edge <a href=\"https://www.ibm.com/solutions/hybrid-cloud\" target=\"_self\" rel=\"noopener noreferrer\">hybrid cloud solutions</a> to the deep expertise of <a href=\"https://www.ibm.com/consulting?lnk&#61;hpfp3us\">IBM Consulting®</a>, IBM has what it takes to help you reinvent how your business works in the age of AI.</p>\\r\\n\\n    \\n    \\n    \\n    \\n\\n</div>\\n        </span>\\n\\n        \\n            <c4d-link-list type=\"vertical\">\\n                \\n                    \\n    \\n    \\n    \\n    \\n\\n    \\n    \\n    <script defer src=\"/etc.clientlibs/adobe-cms/clientlibs/clientlib-cibm-cta.lc-0d018a29dcb5c8c9d607348e2398c84d-lc.min.js\"></script>\\n\\n\\n    \\n   \\n\\n                \\n                \\n                    \\n    \\n    \\n    \\n    \\n\\n    \\n    \\n    \\n\\n    \\n   \\n\\n                \\n            </c4d-link-list>\\n        \\n\\n        \\n    </div>\\n</div>\\n\\n\\n    \\n    \\n\\n\\n        </div>\\n        \\n            \\n                <c4d-card-group grid-mode=\"border\" cards-per-row=\"4\" data-autoid=\"c4d--card-group\" style=\"--c4d--card-group--cards-in-row:4\" class=\"themed-pictogram themed-pictogram--dark-blue-light-gradient\">\\n                    \\n\\n    \\n    \\n    \\n    \\n    \\n        \\n        \\n            \\n            \\n            <c4d-card-group-item color-scheme grid-mode=\"condensed\" data-video-modal-type=\"media-center\" cta-type=\"local\" data-autoid=\"c4d--card-group-item\" href=\"https://www.ibm.com/artificial-intelligence?lnk=hpfp4us\" target=\"_self\" pictogram-placement=\"bottom\" size>\\n                <c4d-card-heading aria-level=\"3\" data-autoid=\"c4d--card-heading\" role=\"heading\" slot=\"heading\">\\n                    \\n                    AI solutions</c4d-card-heading>\\n                <svg slot=\"pictogram\" class=\"cds--card__pictogram\" style=\"--colorized-background:url(\\'#g2\\'); fill: var(--colorized-background)\" focusable=\"false\" height=\"48\" width=\"48\" role=\"img\">\\n                    <svg xmlns=\"http://www.w3.org/2000/svg\" id=\"ai\" viewBox=\"0 0 32 32\"><path d=\"M16.195,31.36c-6.421,0-12.169-4.007-14.399-10.002 C1.051,21.408,0.373,20.771,0.372,20c0-0.75,0.61-1.36,1.36-1.36s1.36,0.61,1.36,1.36c0,0.474-0.243,0.892-0.611,1.135 c2.133,5.698,7.604,9.505,13.714,9.505c6.446,0,11.919-4.301,13.773-10.22c-1.448,2.06-3.877,3.44-6.565,3.44 c-3.822,0-7.066-2.785-7.664-6.525C15.113,17.212,14.64,16.661,14.64,16c0-0.584,0.37-1.083,0.888-1.275 c-0.608-3.421-3.615-5.962-7.125-5.962c-3.947,0-7.04,3.176-7.042,7.231c0,0.002,0,0.004,0,0.006H0.64c0-0.002,0-0.004,0-0.007 C0.644,7.526,7.445,0.64,15.805,0.64c6.42,0,12.168,4.006,14.399,10.001c0.777-0.034,1.425,0.587,1.425,1.358 c0,0.75-0.61,1.36-1.36,1.36s-1.36-0.61-1.36-1.36c0-0.473,0.243-0.891,0.611-1.135C27.387,5.166,21.916,1.36,15.805,1.36 c-6.319,0-11.704,4.134-13.659,9.873c1.402-1.949,3.662-3.19,6.256-3.19c3.881,0,7.204,2.826,7.846,6.62 C16.88,14.779,17.36,15.335,17.36,16c0,0.589-0.376,1.092-0.901,1.28c0.567,3.363,3.496,5.859,6.943,5.859 c3.857,0,7.127-3.118,7.235-6.851c0.001-0.096,0.002-0.192,0.002-0.289h0.721c0,0.033,0,0.065-0.001,0.098h0.001 c0,0.069-0.001,0.138-0.003,0.207C31.196,24.634,24.456,31.36,16.195,31.36z M1.732,19.36c-0.353,0-0.64,0.287-0.64,0.64 s0.287,0.64,0.64,0.64s0.64-0.287,0.64-0.64S2.085,19.36,1.732,19.36z M16,15.36c-0.353,0-0.64,0.287-0.64,0.64 s0.287,0.64,0.64,0.64s0.64-0.287,0.64-0.64S16.353,15.36,16,15.36z M30.269,11.36c-0.353,0-0.64,0.287-0.64,0.64 s0.287,0.64,0.64,0.64s0.64-0.287,0.64-0.64S30.621,11.36,30.269,11.36z\"/></svg>\\n                </svg>\\n                <p>Go from AI pilots to production with AI technologies built for business</p>\\n                <c4d-card-footer color-scheme target=\"_self\" cta-type=\"local\" data-autoid=\"c4d--card-footer\" href=\"https://www.ibm.com/artificial-intelligence?lnk=hpfp4us\" icon-placement=\"right\" parent-href=\"https://www.ibm.com/artificial-intelligence?lnk=hpfp4us\" slot=\"footer\">\\n                    \\n                </c4d-card-footer>\\n            </c4d-card-group-item>\\n        \\n    \\n    \\n    \\n\\n    \\n    \\n    \\n\\n    \\n   \\n    \\n        \\n        \\n            \\n            \\n            <c4d-card-group-item color-scheme grid-mode=\"condensed\" data-video-modal-type=\"media-center\" cta-type=\"local\" data-autoid=\"c4d--card-group-item\" href=\"https://www.ibm.com/granite?lnk=hpfp5us\" target=\"_self\" pictogram-placement=\"bottom\" size>\\n                <c4d-card-heading aria-level=\"3\" data-autoid=\"c4d--card-heading\" role=\"heading\" slot=\"heading\">\\n                    \\n                    AI models</c4d-card-heading>\\n                <svg slot=\"pictogram\" class=\"cds--card__pictogram\" style=\"--colorized-background:url(\\'#g2\\'); fill: var(--colorized-background)\" focusable=\"false\" height=\"48\" width=\"48\" role=\"img\">\\n                    <svg xmlns=\"http://www.w3.org/2000/svg\" id=\"app--developer\" viewBox=\"0 0 32 32\"><path d=\"M3.254,9.254L2.746,8.746L3.991,7.5L2.746,6.254l0.509-0.509L5.009,7.5L3.254,9.254z M3,2 C2.724,2,2.5,2.224,2.5,2.5S2.724,3,3,3s0.5-0.224,0.5-0.5S3.276,2,3,2z M5.5,2.5C5.5,2.776,5.276,3,5,3S4.5,2.776,4.5,2.5 S4.724,2,5,2S5.5,2.224,5.5,2.5z M7.5,2.5C7.5,2.776,7.276,3,7,3S6.5,2.776,6.5,2.5S6.724,2,7,2S7.5,2.224,7.5,2.5z M18.5,6.5 C18.5,6.776,18.276,7,18,7s-0.5-0.224-0.5-0.5S17.724,6,18,6S18.5,6.224,18.5,6.5z M20.5,6.5C20.5,6.776,20.276,7,20,7 s-0.5-0.224-0.5-0.5S19.724,6,20,6S20.5,6.224,20.5,6.5z M22.5,6.5C22.5,6.776,22.276,7,22,7s-0.5-0.224-0.5-0.5S21.724,6,22,6 S22.5,6.224,22.5,6.5z M5.5,24.5C5.5,24.776,5.276,25,5,25s-0.5-0.224-0.5-0.5S4.724,24,5,24S5.5,24.224,5.5,24.5z M13,14.36H1 c-0.199,0-0.36-0.161-0.36-0.36V1c0-0.199,0.161-0.36,0.36-0.36h12c0.199,0,0.36,0.161,0.36,0.36v13 C13.36,14.199,13.199,14.36,13,14.36z M12.64,4.36H1.36v9.28h11.28C12.64,13.64,12.64,4.36,12.64,4.36z M12.64,1.36H1.36v2.281 h11.28C12.64,3.641,12.64,1.36,12.64,1.36z M31.36,5v17c0,0.199-0.161,0.36-0.36,0.36H19.691c-0.301,0.471-0.69,0.885-1.152,1.215 c2.875,1.05,4.819,3.778,4.819,6.902l0.002,0.521L22.639,31l-0.002-0.522c0-3.078-2.09-5.729-5.083-6.45 c-0.15-0.035-0.26-0.163-0.274-0.316s0.07-0.299,0.211-0.361c1.315-0.592,2.165-1.9,2.165-3.334c0-2.017-1.64-3.657-3.656-3.657 c-2.018,0-3.66,1.64-3.66,3.657c0,1.434,0.85,2.742,2.166,3.334c0.141,0.062,0.225,0.208,0.211,0.361s-0.125,0.281-0.274,0.316 c-2.993,0.721-5.084,3.372-5.084,6.449l0.001,0.521L8.64,31l-0.001-0.522c0-3.125,1.943-5.854,4.819-6.903 c-1.138-0.812-1.838-2.134-1.838-3.559c0-2.292,1.772-4.178,4.02-4.362V5c0-0.199,0.161-0.36,0.36-0.36h15 C31.199,4.64,31.36,4.801,31.36,5z M30.64,8.36H16.36v7.295c2.246,0.184,4.017,2.07,4.017,4.362c0,0.566-0.11,1.115-0.315,1.623 H30.64V8.36z M30.64,5.36H16.36v2.28h14.28V5.36z M22,11.64h-4v0.72h4V11.64z M23.64,17.5c0-1.577,1.283-2.86,2.86-2.86 s2.86,1.283,2.86,2.86s-1.283,2.86-2.86,2.86S23.64,19.077,23.64,17.5z M28.242,16.266l-1.383,1.383l-0.004,1.955 c1.01-0.171,1.784-1.046,1.784-2.104C28.64,17.04,28.49,16.615,28.242,16.266z M24.36,17.5c0,1.055,0.769,1.928,1.774,2.103 l0.006-2.253l1.592-1.593c-0.349-0.248-0.773-0.397-1.233-0.397C25.32,15.36,24.36,16.32,24.36,17.5z M8,9.64H5v0.72h3V9.64z M3.5,21.36h3v-0.72h-3V21.36z M3.5,19.36h3v-0.72h-3V19.36z M22,13.64h-4v0.72h4V13.64z M29,11.64h-4v0.72h4V11.64z M29,9.64h-4 v0.72h4V9.64z M22,9.64h-4v0.72h4V9.64z M8.36,17.584v7.832c0,0.521-0.423,0.944-0.944,0.944H2.584 c-0.521,0-0.944-0.424-0.944-0.944v-7.832c0-0.521,0.423-0.944,0.944-0.944h4.832C7.937,16.64,8.36,17.063,8.36,17.584z M7.64,23.36 H2.36v2.056c0,0.123,0.101,0.224,0.224,0.224h4.832c0.124,0,0.224-0.101,0.224-0.224C7.64,25.416,7.64,23.36,7.64,23.36z M7.64,17.584c0-0.123-0.101-0.224-0.224-0.224H2.584c-0.124,0-0.224,0.101-0.224,0.224v5.056h5.28 C7.64,22.64,7.64,17.584,7.64,17.584z\"/></svg>\\n                </svg>\\n                <p>Get started with cost-efficient AI models, tailored for business and optimized for scale</p>\\n                <c4d-card-footer color-scheme target=\"_self\" cta-type=\"local\" data-autoid=\"c4d--card-footer\" href=\"https://www.ibm.com/granite?lnk=hpfp5us\" icon-placement=\"right\" parent-href=\"https://www.ibm.com/granite?lnk=hpfp5us\" slot=\"footer\">\\n                    \\n                </c4d-card-footer>\\n            </c4d-card-group-item>\\n        \\n    \\n    \\n    \\n\\n    \\n    \\n    \\n\\n    \\n   \\n    \\n        \\n        \\n            \\n            \\n            <c4d-card-group-item color-scheme grid-mode=\"condensed\" data-video-modal-type=\"media-center\" cta-type=\"local\" data-autoid=\"c4d--card-group-item\" href=\"https://www.ibm.com/consulting?lnk=hpfp6us\" target=\"_self\" pictogram-placement=\"bottom\" size>\\n                <c4d-card-heading aria-level=\"3\" data-autoid=\"c4d--card-heading\" role=\"heading\" slot=\"heading\">\\n                    \\n                    Consulting</c4d-card-heading>\\n                <svg slot=\"pictogram\" class=\"cds--card__pictogram\" style=\"--colorized-background:url(\\'#g2\\'); fill: var(--colorized-background)\" focusable=\"false\" height=\"48\" width=\"48\" role=\"img\">\\n                    <svg xmlns=\"http://www.w3.org/2000/svg\" id=\"group\" viewBox=\"0 0 32 32\"><path d=\"M24.36,31h-0.72v-7.5c0-3.552-2.414-6.604-5.872-7.424c-0.15-0.036-0.261-0.163-0.275-0.316 c-0.015-0.154,0.071-0.3,0.212-0.363c1.517-0.675,2.496-2.181,2.496-3.836c0-2.316-1.884-4.201-4.2-4.201S11.8,9.244,11.8,11.561 c0,1.655,0.98,3.162,2.496,3.836c0.141,0.063,0.227,0.209,0.212,0.363c-0.014,0.153-0.125,0.281-0.275,0.316 c-3.458,0.82-5.872,3.872-5.872,7.424V31H7.64v-7.5c0-3.592,2.257-6.718,5.585-7.879c-1.326-0.907-2.146-2.421-2.146-4.061 c0-1.964,1.157-3.664,2.826-4.452C14.101,6.617,14.2,6.097,14.2,5.561c0-2.316-1.884-4.201-4.2-4.201S5.799,3.244,5.799,5.561 c0,1.656,0.98,3.162,2.496,3.836C8.437,9.46,8.521,9.606,8.507,9.76c-0.014,0.153-0.125,0.281-0.275,0.316 C4.774,10.896,2.36,13.948,2.36,17.5V25H1.64v-7.5c0-3.592,2.257-6.718,5.585-7.879C5.899,8.714,5.08,7.2,5.08,5.561 c0-2.713,2.207-4.92,4.92-4.92s4.92,2.207,4.92,4.92c0,0.422-0.052,0.836-0.157,1.237c0.791-0.205,1.683-0.205,2.473,0 c-0.104-0.401-0.157-0.815-0.157-1.237c0-2.713,2.208-4.92,4.921-4.92s4.921,2.207,4.921,4.92c0,1.64-0.82,3.154-2.146,4.061 c3.329,1.161,5.586,4.287,5.586,7.879V25H29.64v-7.5c0-3.552-2.414-6.604-5.872-7.424c-0.15-0.036-0.261-0.163-0.275-0.316 c-0.015-0.154,0.071-0.3,0.212-0.363C25.221,8.722,26.2,7.216,26.2,5.561c0-2.316-1.884-4.201-4.2-4.201s-4.2,1.884-4.2,4.201 c0,0.536,0.099,1.056,0.295,1.548c1.669,0.789,2.826,2.488,2.826,4.452c0,1.64-0.82,3.154-2.146,4.061 c3.329,1.161,5.586,4.287,5.586,7.879L24.36,31L24.36,31z\"/></svg>\\n                </svg>\\n                <p>Engage with IBM Consulting to design, build and operate high-performing businesses</p>\\n                <c4d-card-footer color-scheme target=\"_self\" cta-type=\"local\" data-autoid=\"c4d--card-footer\" href=\"https://www.ibm.com/consulting?lnk=hpfp6us\" icon-placement=\"right\" parent-href=\"https://www.ibm.com/consulting?lnk=hpfp6us\" slot=\"footer\">\\n                    \\n                </c4d-card-footer>\\n            </c4d-card-group-item>\\n        \\n    \\n    \\n    \\n\\n    \\n    \\n    \\n\\n    \\n   \\n    \\n        \\n        \\n            \\n            \\n            <c4d-card-group-item color-scheme grid-mode=\"condensed\" data-video-modal-type=\"media-center\" cta-type=\"local\" data-autoid=\"c4d--card-group-item\" href=\"https://www.ibm.com/solutions/analytics?lnk=hpfp7us\" target=\"_self\" pictogram-placement=\"bottom\" size>\\n                <c4d-card-heading aria-level=\"3\" data-autoid=\"c4d--card-heading\" role=\"heading\" slot=\"heading\">\\n                    \\n                    Analytics</c4d-card-heading>\\n                <svg slot=\"pictogram\" class=\"cds--card__pictogram\" style=\"--colorized-background:url(\\'#g2\\'); fill: var(--colorized-background)\" focusable=\"false\" height=\"48\" width=\"48\" role=\"img\">\\n                    <svg xmlns=\"http://www.w3.org/2000/svg\" id=\"predictive-analytics\" viewBox=\"0 0 32 32\"><path d=\"M31,31.36H1c-0.199,0-0.36-0.161-0.36-0.36 V1h0.72v29.64h4.28v-7.328c-0.576-0.158-1-0.687-1-1.312c0-0.75,0.61-1.36,1.36-1.36c0.364,0,0.694,0.144,0.938,0.377l3.702-2.221 v-8.484c-0.576-0.158-1-0.686-1-1.312c0-0.75,0.61-1.36,1.36-1.36S12.36,8.25,12.36,9c0,0.625-0.424,1.153-1,1.312v8.053l3.33-1.998 c-0.032-0.116-0.05-0.239-0.05-0.366c0-0.75,0.61-1.36,1.36-1.36c0.364,0,0.695,0.144,0.939,0.377l3.701-2.221V6.312 c-0.575-0.158-1-0.686-1-1.312c0-0.75,0.61-1.36,1.36-1.36S22.36,4.25,22.36,5c0,0.625-0.425,1.153-1,1.312v6.053l3.33-1.998 c-0.033-0.117-0.05-0.24-0.05-0.367c0-0.75,0.61-1.36,1.36-1.36s1.36,0.61,1.36,1.36c0,0.625-0.425,1.153-1,1.312V30.64H31V31.36z M21.36,30.64h4.279V11.312c-0.22-0.061-0.418-0.175-0.578-0.328l-3.701,2.221V30.64z M16.36,30.64h4.28V13.636l-3.33,1.998 c0.033,0.116,0.05,0.239,0.05,0.366c0,0.625-0.425,1.153-1,1.312V30.64z M11.36,30.64h4.28V17.312 c-0.22-0.061-0.418-0.175-0.579-0.328l-3.702,2.221V30.64H11.36z M6.36,30.64h4.28V19.636l-3.33,1.998 C7.343,21.75,7.36,21.873,7.36,22c0,0.625-0.424,1.153-1,1.312V30.64z M6,21.36c-0.353,0-0.64,0.287-0.64,0.64S5.647,22.64,6,22.64 S6.64,22.353,6.64,22S6.353,21.36,6,21.36z M16,15.36c-0.353,0-0.64,0.287-0.64,0.64s0.287,0.64,0.64,0.64s0.64-0.287,0.64-0.64 S16.353,15.36,16,15.36z M26,9.36c-0.353,0-0.64,0.287-0.64,0.64s0.287,0.64,0.64,0.64s0.64-0.287,0.64-0.64S26.353,9.36,26,9.36z M11,8.36c-0.353,0-0.64,0.287-0.64,0.64S10.647,9.64,11,9.64S11.64,9.353,11.64,9S11.353,8.36,11,8.36z M21,4.36 c-0.353,0-0.64,0.287-0.64,0.64S20.647,5.64,21,5.64S21.64,5.353,21.64,5S21.353,4.36,21,4.36z\"/></svg>\\n                </svg>\\n                <p>Support data-driven decisions for your business</p>\\n                <c4d-card-footer color-scheme target=\"_self\" cta-type=\"local\" data-autoid=\"c4d--card-footer\" href=\"https://www.ibm.com/solutions/analytics?lnk=hpfp7us\" icon-placement=\"right\" parent-href=\"https://www.ibm.com/solutions/analytics?lnk=hpfp7us\" slot=\"footer\">\\n                    \\n                </c4d-card-footer>\\n            </c4d-card-group-item>\\n        \\n    \\n    \\n    \\n\\n    \\n    \\n    \\n\\n    \\n   \\n    \\n        \\n        \\n            \\n            \\n            <c4d-card-group-item color-scheme grid-mode=\"condensed\" data-video-modal-type=\"media-center\" cta-type=\"local\" data-autoid=\"c4d--card-group-item\" href=\"https://www.ibm.com/solutions/automation?lnk=hpfp8us\" target=\"_self\" pictogram-placement=\"bottom\" size>\\n                <c4d-card-heading aria-level=\"3\" data-autoid=\"c4d--card-heading\" role=\"heading\" slot=\"heading\">\\n                    \\n                    IT automation</c4d-card-heading>\\n                <svg slot=\"pictogram\" class=\"cds--card__pictogram\" style=\"--colorized-background:url(\\'#g2\\'); fill: var(--colorized-background)\" focusable=\"false\" height=\"48\" width=\"48\" role=\"img\">\\n                    <svg xmlns=\"http://www.w3.org/2000/svg\" id=\"automation--decision\" viewBox=\"0 0 32 32\"><path d=\"M27.255,19.255L30.509,16l-3.254-3.254l-0.51,0.509l2.386,2.386H16.149L9.36,8.85V5.36h19.771 l-2.386,2.386l0.51,0.509L30.509,5l-3.254-3.254l-0.51,0.509l2.386,2.386H9C8.801,4.64,8.64,4.801,8.64,5v3.85l-6.895,6.896 c-0.141,0.141-0.141,0.368,0,0.509L8.64,23.15V27c0,0.199,0.161,0.36,0.36,0.36h20.131l-2.386,2.385l0.51,0.51L30.509,27 l-3.254-3.255l-0.51,0.51l2.386,2.385H9.36v-3.49l6.789-6.79h12.982l-2.386,2.385L27.255,19.255z M9,22.491L2.509,16L9,9.508 L15.491,16L9,22.491z\"/></svg>\\n                </svg>\\n                <p>Discover how automation solutions increase productivity while managing costs\\r\\n</p>\\n                <c4d-card-footer color-scheme target=\"_self\" cta-type=\"local\" data-autoid=\"c4d--card-footer\" href=\"https://www.ibm.com/solutions/automation?lnk=hpfp8us\" icon-placement=\"right\" parent-href=\"https://www.ibm.com/solutions/automation?lnk=hpfp8us\" slot=\"footer\">\\n                    \\n                </c4d-card-footer>\\n            </c4d-card-group-item>\\n        \\n    \\n    \\n    \\n\\n    \\n    \\n    \\n\\n    \\n   \\n    \\n        \\n        \\n            \\n            \\n            <c4d-card-group-item color-scheme grid-mode=\"condensed\" data-video-modal-type=\"media-center\" cta-type=\"local\" data-autoid=\"c4d--card-group-item\" href=\"https://www.ibm.com/solutions/servers\" target=\"_self\" pictogram-placement=\"bottom\" size>\\n                <c4d-card-heading aria-level=\"3\" data-autoid=\"c4d--card-heading\" role=\"heading\" slot=\"heading\">\\n                    \\n                    Compute and servers</c4d-card-heading>\\n                <svg slot=\"pictogram\" class=\"cds--card__pictogram\" style=\"--colorized-background:url(\\'#g2\\'); fill: var(--colorized-background)\" focusable=\"false\" height=\"48\" width=\"48\" role=\"img\">\\n                    <svg xmlns=\"http://www.w3.org/2000/svg\" id=\"storage--product\" viewBox=\"0 0 32 32\"><path d=\"M30,31.36H8c-0.199,0-0.36-0.161-0.36-0.36v-5c0-0.199,0.161-0.36,0.36-0.36h22 c0.199,0,0.36,0.161,0.36,0.36v5C30.36,31.199,30.199,31.36,30,31.36z M8.36,30.64h21.28v-4.28H8.36V30.64z M6,31.36H2 c-0.199,0-0.36-0.161-0.36-0.36V1c0-0.199,0.161-0.36,0.36-0.36h11c0.199,0,0.36,0.161,0.36,0.36v9h-0.72V1.36H2.36v29.28H6V31.36z M28.36,30h-0.72v-2h0.721L28.36,30L28.36,30z M26.36,30h-0.72v-2h0.721L26.36,30L26.36,30z M24.36,30h-0.72v-2h0.721L24.36,30 L24.36,30z M22.36,30h-0.72v-2h0.721L22.36,30L22.36,30z M30,24.36H8c-0.199,0-0.36-0.161-0.36-0.36v-5 c0-0.199,0.161-0.36,0.36-0.36h22c0.199,0,0.36,0.161,0.36,0.36v5C30.36,24.199,30.199,24.36,30,24.36z M8.36,23.64h21.28v-4.28 H8.36V23.64z M28.36,23h-0.72v-2h0.721L28.36,23L28.36,23z M26.36,23h-0.72v-2h0.721L26.36,23L26.36,23z M24.36,23h-0.72v-2h0.721 L24.36,23L24.36,23z M22.36,23h-0.72v-2h0.721L22.36,23L22.36,23z M30,17.36H8c-0.199,0-0.36-0.161-0.36-0.36v-5 c0-0.199,0.161-0.36,0.36-0.36h22c0.199,0,0.36,0.161,0.36,0.36v5C30.36,17.199,30.199,17.36,30,17.36z M8.36,16.64h21.28v-4.28 H8.36V16.64z M28.36,16h-0.72v-2h0.721L28.36,16L28.36,16z M26.36,16h-0.72v-2h0.721L26.36,16L26.36,16z M24.36,16h-0.72v-2h0.721 L24.36,16L24.36,16z M22.36,16h-0.72v-2h0.721L22.36,16L22.36,16z M6,4.36H4V3.64h2V4.36z\"/></svg>\\n                </svg>\\n                <p>Handle mission-critical workloads while maintaining security, reliability and control of your entire IT infrastructure</p>\\n                <c4d-card-footer color-scheme target=\"_self\" cta-type=\"local\" data-autoid=\"c4d--card-footer\" href=\"https://www.ibm.com/solutions/servers\" icon-placement=\"right\" parent-href=\"https://www.ibm.com/solutions/servers\" slot=\"footer\">\\n                    \\n                </c4d-card-footer>\\n            </c4d-card-group-item>\\n        \\n    \\n    \\n    \\n\\n    \\n    \\n    \\n\\n    \\n   \\n    \\n        \\n        \\n            \\n            \\n            <c4d-card-group-item color-scheme grid-mode=\"condensed\" data-video-modal-type=\"media-center\" cta-type=\"local\" data-autoid=\"c4d--card-group-item\" href=\"https://www.ibm.com/solutions/database\" target=\"_self\" pictogram-placement=\"bottom\" size>\\n                <c4d-card-heading aria-level=\"3\" data-autoid=\"c4d--card-heading\" role=\"heading\" slot=\"heading\">\\n                    \\n                    Databases</c4d-card-heading>\\n                <svg slot=\"pictogram\" class=\"cds--card__pictogram\" style=\"--colorized-background:url(\\'#g2\\'); fill: var(--colorized-background)\" focusable=\"false\" height=\"48\" width=\"48\" role=\"img\">\\n                    <svg xmlns=\"http://www.w3.org/2000/svg\" id=\"hard--drive--network\" viewBox=\"0 0 32 32\"><path d=\"M20,6c-0.552,0-1-0.448-1-1s0.448-1,1-1s1,0.448,1,1S20.552,6,20,6z M21,16 c0-0.552-0.448-1-1-1s-1,0.448-1,1s0.448,1,1,1S21,16.552,21,16z M21,27c0-0.552-0.448-1-1-1s-1,0.448-1,1s0.448,1,1,1 S21,27.552,21,27z M24,31.36H1c-0.199,0-0.36-0.161-0.36-0.36v-8c0-0.199,0.161-0.36,0.36-0.36h23c0.199,0,0.36,0.161,0.36,0.36v8 C24.36,31.199,24.199,31.36,24,31.36z M1.36,30.64h22.28v-7.28H1.36V30.64z M31,27.36h-5v-0.72h4.64V16.36H26v-0.72h4.64V5.36H26 V4.64h5c0.199,0,0.36,0.161,0.36,0.36v22C31.36,27.199,31.199,27.36,31,27.36z M24,20.36H1c-0.199,0-0.36-0.161-0.36-0.36v-8 c0-0.199,0.161-0.36,0.36-0.36h23c0.199,0,0.36,0.161,0.36,0.36v8C24.36,20.199,24.199,20.36,24,20.36z M1.36,19.64h22.28v-7.28 H1.36V19.64z M24,9.36H1C0.801,9.36,0.64,9.199,0.64,9V1c0-0.199,0.161-0.36,0.36-0.36h23c0.199,0,0.36,0.161,0.36,0.36v8 C24.36,9.199,24.199,9.36,24,9.36z M1.36,8.64h22.28V1.36H1.36V8.64z\"/></svg>\\n                </svg>\\n                <p>Run your applications, analytics and generative AI with databases on any cloud</p>\\n                <c4d-card-footer color-scheme target=\"_self\" cta-type=\"local\" data-autoid=\"c4d--card-footer\" href=\"https://www.ibm.com/solutions/database\" icon-placement=\"right\" parent-href=\"https://www.ibm.com/solutions/database\" slot=\"footer\">\\n                    \\n                </c4d-card-footer>\\n            </c4d-card-group-item>\\n        \\n    \\n    \\n    \\n\\n    \\n    \\n    \\n\\n    \\n   \\n    \\n        \\n        \\n            \\n            \\n            <c4d-card-group-item color-scheme grid-mode=\"condensed\" data-video-modal-type=\"media-center\" cta-type=\"local\" data-autoid=\"c4d--card-group-item\" href=\"https://www.ibm.com/solutions/security?lnk=hpfp11us\" target=\"_self\" pictogram-placement=\"bottom\" size>\\n                <c4d-card-heading aria-level=\"3\" data-autoid=\"c4d--card-heading\" role=\"heading\" slot=\"heading\">\\n                    \\n                    Security and identity</c4d-card-heading>\\n                <svg slot=\"pictogram\" class=\"cds--card__pictogram\" style=\"--colorized-background:url(\\'#g2\\'); fill: var(--colorized-background)\" focusable=\"false\" height=\"48\" width=\"48\" role=\"img\">\\n                    <svg xmlns=\"http://www.w3.org/2000/svg\" id=\"secure--profile\" viewBox=\"0 0 32 32\"><path d=\"M23.14,25.415v-1.988c-0.373-0.145-0.64-0.503-0.64-0.927c0-0.552,0.448-1,1-1s1,0.448,1,1 c0,0.424-0.266,0.782-0.64,0.927v1.988c0,0.199-0.161,0.36-0.36,0.36S23.14,25.614,23.14,25.415z M31.36,16v15 c0,0.199-0.161,0.36-0.36,0.36H16c-0.199,0-0.36-0.161-0.36-0.36V19h0.72v11.64h14.28V16.36H1c-0.199,0-0.36-0.161-0.36-0.36V1 c0-0.199,0.161-0.36,0.36-0.36h15c0.199,0,0.36,0.161,0.36,0.36v12h-0.72V1.36H1.36v14.28h2.28v-2.639 c0-1.926,1.166-3.659,2.908-4.427C5.978,8.04,5.643,7.293,5.643,6.5c0-1.577,1.283-2.86,2.86-2.86s2.86,1.283,2.86,2.86 c0,0.794-0.335,1.542-0.907,2.075c1.74,0.77,2.904,2.502,2.904,4.426v2.639h6.28V11.5c0-2.128,1.731-3.86,3.859-3.86 c2.129,0,3.861,1.731,3.861,3.86l-0.001,4.14H31C31.199,15.64,31.36,15.801,31.36,16z M12.64,13.001c0-1.837-1.25-3.47-3.041-3.97 c-0.141-0.04-0.244-0.16-0.261-0.306C9.321,8.58,9.395,8.439,9.523,8.369c0.69-0.379,1.12-1.095,1.12-1.869 c0-1.18-0.96-2.14-2.14-2.14s-2.14,0.96-2.14,2.14c0,0.773,0.429,1.489,1.119,1.868c0.128,0.07,0.201,0.211,0.184,0.357 C7.648,8.87,7.545,8.991,7.404,9.03C5.612,9.529,4.36,11.162,4.36,13.001v2.639h8.28C12.64,15.64,12.64,13.001,12.64,13.001z M26.64,11.5c0-1.731-1.408-3.14-3.14-3.14s-3.14,1.409-3.14,3.14v4.14h6.278L26.64,11.5z\"/></svg>\\n                </svg>\\n                <p>Secure hybrid cloud and AI with data and identity-centric cybersecurity solutions</p>\\n                <c4d-card-footer color-scheme target=\"_self\" cta-type=\"local\" data-autoid=\"c4d--card-footer\" href=\"https://www.ibm.com/solutions/security?lnk=hpfp11us\" icon-placement=\"right\" parent-href=\"https://www.ibm.com/solutions/security?lnk=hpfp11us\" slot=\"footer\">\\n                    \\n                </c4d-card-footer>\\n            </c4d-card-group-item>\\n        \\n    \\n    \\n    \\n\\n    \\n    \\n    \\n\\n    \\n   \\n    \\n\\n\\n                </c4d-card-group>\\n            \\n        \\n        \\n    </div>\\n\\n    \\n    \\n    \\n    <script defer src=\"/etc.clientlibs/adobe-cms/clientlibs/clientlib-card-group.lc-1d5eefa5badd13aae38e9d875a8b04e8-lc.min.js\"></script>\\n\\n\\n    \\n \\n<svg class=\"cds--visually-hidden\">\\n    <defs>\\n        <linearGradient id=\"g1\" x1=\"0%\" y1=\"0%\" x2=\"0%\" y2=\"100%\">\\n            <stop offset=\"0%\" stop-color=\"#0F62FE\"></stop>\\n            <stop offset=\"100%\" stop-color=\"#8A3FFC\"></stop>\\n        </linearGradient>\\n        <linearGradient id=\"g1-dark\" x1=\"0%\" y1=\"0%\" x2=\"0%\" y2=\"100%\">\\n            <stop offset=\"0%\" stop-color=\"#4589FF\"></stop>\\n            <stop offset=\"100%\" stop-color=\"#A56EFF\"></stop>\\n        </linearGradient>\\n        <linearGradient id=\"g2\" x1=\"0%\" y1=\"0%\" x2=\"0%\" y2=\"100%\">\\n            <stop offset=\"0%\" stop-color=\"#0F62FE\"></stop>\\n            <stop offset=\"100%\" stop-color=\"#78A9FF\"></stop>\\n        </linearGradient>\\n        <linearGradient id=\"g2-dark\" x1=\"0%\" y1=\"0%\" x2=\"0%\" y2=\"100%\">\\n            <stop offset=\"0%\" stop-color=\"#0F62FE\"></stop>\\n            <stop offset=\"100%\" stop-color=\"#78A9FF\"></stop>\\n        </linearGradient>\\n        <linearGradient id=\"g3\" x1=\"0%\" y1=\"0%\" x2=\"0%\" y2=\"100%\">\\n            <stop offset=\"0%\" stop-color=\"#0F62FE\"></stop>\\n            <stop offset=\"100%\" stop-color=\"#08BDBA\"></stop>\\n        </linearGradient>\\n        <linearGradient id=\"g3-dark\" x1=\"0%\" y1=\"0%\" x2=\"0%\" y2=\"100%\">\\n            <stop offset=\"0%\" stop-color=\"#4589FF\"></stop>\\n            <stop offset=\"100%\" stop-color=\"#08BDBA\"></stop>\\n        </linearGradient>\\n        <linearGradient id=\"g4\" x1=\"0%\" y1=\"0%\" x2=\"0%\" y2=\"100%\">\\n            <stop offset=\"0%\" stop-color=\"#0F62FE\"></stop>\\n            <stop offset=\"100%\" stop-color=\"#FF7EB6\"></stop>\\n        </linearGradient>\\n        <linearGradient id=\"g4-dark\" x1=\"0%\" y1=\"0%\" x2=\"0%\" y2=\"100%\">\\n            <stop offset=\"0%\" stop-color=\"#4589FF\"></stop>\\n            <stop offset=\"100%\" stop-color=\"#EE5396\"></stop>\\n        </linearGradient>\\n        <linearGradient id=\"g5\" x1=\"0%\" y1=\"0%\" x2=\"0%\" y2=\"100%\">\\n            <stop offset=\"0%\" stop-color=\"#FA4D56\"></stop>\\n            <stop offset=\"100%\" stop-color=\"#A56EFF\"></stop>\\n        </linearGradient>\\n        <linearGradient id=\"g5-dark\" x1=\"0%\" y1=\"0%\" x2=\"0%\" y2=\"100%\">\\n            <stop offset=\"0%\" stop-color=\"#FA4D56\"></stop>\\n            <stop offset=\"100%\" stop-color=\"#A56EFF\"></stop>\\n        </linearGradient>\\n    </defs>\\n</svg></div>\\n<div class=\"cta-section themed-block theme-white thick-stat thin-stat\">\\n\\n\\n\\n\\n  \\n\\n\\n<c4d-cta-block class=\"   title-plus-3-items-layout\" no-border>\\n    <c4d-content-block-heading class=\"\">\\n        \\n        \\n\\n     \\n    Inside IBM\\n\\n\\n\\n\\n    \\n\\n\\n    </c4d-content-block-heading>\\n    \\n    \\n    \\n\\n\\n\\n    <c4d-cta-block-item-row no-border>\\n        \\n\\n    \\n    \\n    \\n    \\n\\n<c4d-cta-block-item>\\n    \\n    \\n    \\n\\n    \\n    <c4d-content-item-heading>\\n        \\n\\n\\n\\n  \\n    Our company\\n\\n\\n\\n\\n\\n\\n    \\n\\n\\n    </c4d-content-item-heading>\\n    <c4d-content-item-copy>\\n        <c4d-content-item-paragraph>\\n            <div class=\"cms-richtext \" id=\"rich-text-fa074a9752\" data-dynamic-inner-content=\"description\">\\n    <p>Explore IBM history and culture of putting technology to work in the real world.</p>\\r\\n\\n    \\n    \\n    \\n    \\n\\n</div>\\n        </c4d-content-item-paragraph>\\n    </c4d-content-item-copy>\\n    \\n    \\n    \\n        \\n        \\n        <a slot=\"footer\" href=\"https://www.ibm.com/about?lnk=hpii1us\" target=\"_self\" style=\"display: contents\">\\n            <c4d-text-cta cta-type=\"local\" icon-placement=\"right\" href=\"https://www.ibm.com/about?lnk=hpii1us\" target=\"_self\" data-dynamic-properties=\"{&quot;ctaUrl&quot;:&quot;href&quot;}\" data-dynamic-inner-content=\"ctaLabel\" data-video-modal-type=\"media-center\">About IBM\\n                \\n            </c4d-text-cta>\\n        </a>\\n    \\n    \\n    \\n\\n   \\n\\n    \\n    \\n    \\n        \\n        \\n        <a slot=\"footer\" href=\"https://www.ibm.com/history?lnk=hpii1us\" target=\"_self\" style=\"display: contents\">\\n            <c4d-text-cta cta-type=\"local\" icon-placement=\"right\" href=\"https://www.ibm.com/history?lnk=hpii1us\" target=\"_self\" data-dynamic-properties=\"{&quot;ctaUrl&quot;:&quot;href&quot;}\" data-dynamic-inner-content=\"ctaLabel\" data-video-modal-type=\"media-center\">Our history\\n                \\n            </c4d-text-cta>\\n        </a>\\n    \\n    \\n    \\n\\n   \\n\\n</c4d-cta-block-item>\\n\\n    \\n    <script defer src=\"/etc.clientlibs/adobe-cms/clientlibs/clientlib-cta-block.lc-0771864c713f3c66bd41e7452122bf3f-lc.min.js\"></script>\\n\\n\\n    \\n    <script defer src=\"/etc.clientlibs/adobe-cms/components/content/molecules/cta-section-item/clientlibs.lc-3c9a70fa8db7f9369f881f527379e624-lc.min.js\"></script>\\n\\n\\n\\n\\n<c4d-cta-block-item>\\n    \\n    \\n    \\n\\n    \\n    <c4d-content-item-heading>\\n        \\n\\n\\n\\n  \\n    Our innovations\\n\\n\\n\\n\\n\\n\\n    \\n\\n\\n    </c4d-content-item-heading>\\n    <c4d-content-item-copy>\\n        <c4d-content-item-paragraph>\\n            <div class=\"cms-richtext \" id=\"rich-text-77395c58ee\" data-dynamic-inner-content=\"description\">\\n    <p>Visit the IBM lab, and see what&#39;s in store for the future of\\xa0computing.</p>\\r\\n\\n    \\n    \\n    \\n    \\n\\n</div>\\n        </c4d-content-item-paragraph>\\n    </c4d-content-item-copy>\\n    \\n    \\n    \\n        \\n        \\n        <a slot=\"footer\" href=\"https://research.ibm.com?lnk=hpii1us\" target=\"_blank\" style=\"display: contents\">\\n            <c4d-text-cta cta-type=\"external\" icon-placement=\"right\" href=\"https://research.ibm.com?lnk=hpii1us\" target=\"_blank\" data-dynamic-properties=\"{&quot;ctaUrl&quot;:&quot;href&quot;}\" data-dynamic-inner-content=\"ctaLabel\" data-video-modal-type=\"media-center\">IBM Research\\n                \\n            </c4d-text-cta>\\n        </a>\\n    \\n    \\n    \\n\\n   \\n\\n    \\n    \\n    \\n        \\n        \\n        <a slot=\"footer\" href=\"https://www.ibm.com/quantum?lnk=hpii1us\" target=\"_self\" style=\"display: contents\">\\n            <c4d-text-cta cta-type=\"local\" icon-placement=\"right\" href=\"https://www.ibm.com/quantum?lnk=hpii1us\" target=\"_self\" data-dynamic-properties=\"{&quot;ctaUrl&quot;:&quot;href&quot;}\" data-dynamic-inner-content=\"ctaLabel\" data-video-modal-type=\"media-center\">Quantum computing\\n                \\n            </c4d-text-cta>\\n        </a>\\n    \\n    \\n    \\n\\n   \\n\\n</c4d-cta-block-item>\\n\\n    \\n    \\n\\n    \\n    \\n\\n\\n\\n<c4d-cta-block-item>\\n    \\n    \\n    \\n\\n    \\n    <c4d-content-item-heading>\\n        \\n\\n\\n\\n  \\n    Our people\\n\\n\\n\\n\\n\\n\\n    \\n\\n\\n    </c4d-content-item-heading>\\n    <c4d-content-item-copy>\\n        <c4d-content-item-paragraph>\\n            <div class=\"cms-richtext \" id=\"rich-text-4b244d2cb1\" data-dynamic-inner-content=\"description\">\\n    <p>See what it takes to become an IBMer, or build your skills with our educational courses.</p>\\r\\n\\n    \\n    \\n    \\n    \\n\\n</div>\\n        </c4d-content-item-paragraph>\\n    </c4d-content-item-copy>\\n    \\n    \\n    \\n        \\n        \\n        <a slot=\"footer\" href=\"https://www.ibm.com/careers?lnk=hpii1us\" target=\"_self\" style=\"display: contents\">\\n            <c4d-text-cta cta-type=\"local\" icon-placement=\"right\" href=\"https://www.ibm.com/careers?lnk=hpii1us\" target=\"_self\" data-dynamic-properties=\"{&quot;ctaUrl&quot;:&quot;href&quot;}\" data-dynamic-inner-content=\"ctaLabel\" data-video-modal-type=\"media-center\">Become an IBMer\\n                \\n            </c4d-text-cta>\\n        </a>\\n    \\n    \\n    \\n\\n   \\n\\n    \\n    \\n    \\n        \\n        \\n        <a slot=\"footer\" href=\"https://skillsbuild.org?lnk=hpii1us\" target=\"_blank\" style=\"display: contents\">\\n            <c4d-text-cta cta-type=\"external\" icon-placement=\"right\" href=\"https://skillsbuild.org?lnk=hpii1us\" target=\"_blank\" data-dynamic-properties=\"{&quot;ctaUrl&quot;:&quot;href&quot;}\" data-dynamic-inner-content=\"ctaLabel\" data-video-modal-type=\"media-center\">Start learning\\n                \\n            </c4d-text-cta>\\n        </a>\\n    \\n    \\n    \\n\\n   \\n\\n</c4d-cta-block-item>\\n\\n    \\n    \\n\\n    \\n    \\n\\n\\n    \\n\\n\\n    </c4d-cta-block-item-row>\\n\\n\\n    \\n    \\n\\n\\n\\n</c4d-cta-block>\\n\\n    \\n    \\n\\n\\n</div>\\n<div class=\"modular-container container responsivegrid\">\\n\\n    \\n    \\n    \\n    <div id=\"modular-container-a52a8f8e58\" class=\"cmp-container\">\\n        \\n        <div class=\"standalone-text rich-text text\">\\r\\n</div>\\n\\n        \\n    </div>\\n\\n</div>\\n\\n        \\n    </div>\\n\\n</c4d-table-of-contents>\\n\\n    \\n    <script defer src=\"/etc.clientlibs/adobe-cms/clientlibs/clientlib-table-of-contents.lc-5979ab6afdadd4a2fe4106accdc32ce4-lc.min.js\"></script>\\n\\n</div>\\n<div class=\"footer\">\\r\\n\\r\\n\\r\\n    <div>\\r\\n\\r\\n\\r\\n\\r\\n    <c4d-footer-container selected-language=\"\" size=\"regular\" data-footer-json=\"{&#34;footerMenu&#34;:[{&#34;title&#34;:&#34;Discover&#34;,&#34;links&#34;:[{&#34;title&#34;:&#34;Products&#34;,&#34;url&#34;:&#34;https://www.ibm.com/products?lnk=flatitem&#34;},{&#34;title&#34;:&#34;Consulting services&#34;,&#34;url&#34;:&#34;https://www.ibm.com/consulting?lnk=flatitem&#34;},{&#34;title&#34;:&#34;Industries&#34;,&#34;url&#34;:&#34;https://www.ibm.com/industries?lnk=flatitem&#34;},{&#34;title&#34;:&#34;Case studies&#34;,&#34;url&#34;:&#34;https://www.ibm.com/case-studies?lnk=flatitem&#34;},{&#34;title&#34;:&#34;Financing&#34;,&#34;url&#34;:&#34;https://www.ibm.com/financing?lnk=flatitem&#34;},{&#34;title&#34;:&#34;Research&#34;,&#34;url&#34;:&#34;https://research.ibm.com/?lnk=flatitem&#34;}]},{&#34;title&#34;:&#34;Follow&#34;,&#34;links&#34;:[{&#34;title&#34;:&#34;LinkedIn&#34;,&#34;url&#34;:&#34;https://www.linkedin.com/company/ibm&#34;},{&#34;title&#34;:&#34;X&#34;,&#34;url&#34;:&#34;https://www.twitter.com/ibm&#34;},{&#34;title&#34;:&#34;Instagram&#34;,&#34;url&#34;:&#34;https://www.instagram.com/ibm&#34;},{&#34;title&#34;:&#34;YouTube&#34;,&#34;url&#34;:&#34;https://www.youtube.com/@IBM&#34;},{&#34;title&#34;:&#34;Podcasts&#34;,&#34;url&#34;:&#34;https://www.ibm.com/think/podcasts&#34;}]},{&#34;title&#34;:&#34;Connect&#34;,&#34;links&#34;:[{&#34;title&#34;:&#34;Business partners&#34;,&#34;url&#34;:&#34;https://www.ibm.com/partnerplus/directory/companies&#34;},{&#34;title&#34;:&#34;Documentation&#34;,&#34;url&#34;:&#34;https://www.ibm.com/docs/en?lnk=flathl&#34;},{&#34;title&#34;:&#34;Events&#34;,&#34;url&#34;:&#34;https://www.ibm.com/events/&#34;},{&#34;title&#34;:&#34;Subscription center&#34;,&#34;url&#34;:&#34;https://www.ibm.com/subscribe/&#34;},{&#34;title&#34;:&#34;Support&#34;,&#34;url&#34;:&#34;https://www.ibm.com/mysupport/s/?language=en_US&amp;lnk=flathl&#34;},{&#34;title&#34;:&#34;TechXchange community&#34;,&#34;url&#34;:&#34;https://community.ibm.com/community/user/home?lnk=fpo&#34;}]},{&#34;title&#34;:&#34;About&#34;,&#34;links&#34;:[{&#34;title&#34;:&#34;Overview&#34;,&#34;url&#34;:&#34;https://www.ibm.com/about/?lnk=flatitem&#34;},{&#34;title&#34;:&#34;Careers&#34;,&#34;url&#34;:&#34;https://www.ibm.com/careers/us-en?lnk=flathl&#34;},{&#34;title&#34;:&#34;Investor relations&#34;,&#34;url&#34;:&#34;https://www.ibm.com/investor?lnk=flatitem&#34;},{&#34;title&#34;:&#34;Leadership&#34;,&#34;url&#34;:&#34;https://newsroom.ibm.com/executive-bios&#34;},{&#34;title&#34;:&#34;Newsroom&#34;,&#34;url&#34;:&#34;https://newsroom.ibm.com/?lnk=flatitem&#34;},{&#34;title&#34;:&#34;Security, privacy and trust&#34;,&#34;url&#34;:&#34;https://www.ibm.com/trust?lnk=flatitem&#34;}]},{&#34;title&#34;:&#34;&#34;,&#34;links&#34;:[]}],&#34;footerThin&#34;:[{&#34;title&#34;:&#34;Contact IBM&#34;,&#34;url&#34;:&#34;https://www.ibm.com/contact/global&#34;},{&#34;title&#34;:&#34;Privacy&#34;,&#34;url&#34;:&#34;https://www.ibm.com/us-en/privacy&#34;},{&#34;title&#34;:&#34;Terms of use&#34;,&#34;url&#34;:&#34;https://www.ibm.com/legal?lnk=flg-tous-usen&#34;},{&#34;title&#34;:&#34;Accessibility&#34;,&#34;url&#34;:&#34;https://www.ibm.com/able/?lnk=flg-acce-usen&#34;}]}\"></c4d-footer-container>\\r\\n\\r\\n\\r\\n    \\n    <script defer src=\"/etc.clientlibs/adobe-cms/clientlibs/clientlib-footer.lc-37c74602337a2e20eb5436ebb9921793-lc.min.js\"></script>\\n\\n\\r\\n\\r\\n<script type=\"text/javascript\">\\r\\n    document.addEventListener(\"DOMContentLoaded\", function () {\\r\\n        const localeButton = document.querySelector(\"c4d-locale-button\");\\r\\n        if (localeButton) {\\r\\n            localeButton.style.display = \"none\";\\r\\n        }\\r\\n    });\\r\\n</script>\\r\\n</div>\\r\\n\\r\\n\\r\\n\\r\\n\\r\\n    \\n    \\n</div>\\n\\n        \\n    </div>\\n\\n</div>\\n\\n</c4d-video-cta-container>\\n<div class=\"video-modal-overlay\" aria-hidden=\"true\">\\n    <div class=\"video-modal-overlay__dialog\">\\n        <div class=\"video-modal-overlay__dialog--body\">\\n            <div class=\"video-modal-overlay__dialog--body__close-btn\">\\n                <svg width=\"24\" height=\"24\" viewBox=\"0 0 24 24\" fill=\"none\" xmlns=\"http://www.w3.org/2000/svg\">\\n                    <rect width=\"24\" height=\"24\" fill=\"white\" fill-opacity=\"0.01\" style=\"mix-blend-mode:multiply\"/>\\n                    <path id=\"Vector\" d=\"M13.0606 12L19.5 5.56058L18.4394 4.5L12 10.9394L5.56072 4.5L4.5 5.56058L10.9394 12L4.5 18.4394L5.56072 19.5L12 13.0606L18.4394 19.5L19.5 18.4394L13.0606 12Z\" fill=\"#161616\"/>\\n                </svg>\\n            </div>\\n            <div class=\"video-modal-overlay__dialog--body-content\">\\n\\n                <div class=\"video-modal-overlay__loading-container\">\\n                    <cds-loading></cds-loading>\\n                </div>\\n\\n                <div class=\"video-wms hide\">\\n                    <iframe class=\"video-modal-content\" data-original-src=\"https://video.ibm.com/embed/$[wmsChanneId]?volume=0&autoplay=true&controls=true\" src=\"\" webkitallowfullscreen allowfullscreen frameborder=\"no\" referrerpolicy=\"no-referrer-when-downgrade\"></iframe>\\n\\n                </div>\\n\\n                <div class=\"video-media-center hide\">\\n                    <c4d-video-player-container video-id=\"\" aspect-ratio=\"16x9\" auto-play muted playing-mode=\"inline\"></c4d-video-player-container>\\n                </div>\\n            </div>\\n        </div>\\n    </div>\\n</div>\\n\\n\\n    \\n    <script defer src=\"/etc.clientlibs/adobe-cms/clientlibs/clientlib-video-player.lc-0071e9949f9545a2c972a5c941a66e79-lc.min.js\"></script>\\n<script defer src=\"/etc.clientlibs/adobe-cms/clientlibs/clientlib-cweb-loading.lc-ca618eb7785b83e9cfb87f1d1683e7cd-lc.min.js\"></script>\\n\\n\\n\\n\\n<c4d-lightbox-video-player-container></c4d-lightbox-video-player-container>\\n\\n    \\n    \\n\\n\\n    \\n    \\n    \\n<script src=\"/etc.clientlibs/adobe-cms/clientlibs/clientlib-idlBundle.lc-f6e56fb79df3212866086786bd84703d-lc.min.js\"></script>\\n\\n\\n\\n    \\n\\n\\n    \\n    <script src=\"/etc.clientlibs/adobe-cms/clientlibs/clientlib-base.lc-af096d2ee96db104c83e042c4f605e19-lc.min.js\"></script>\\n<script src=\"/etc.clientlibs/adobe-cms/clientlibs/clientlib-idlStyles.lc-57a9a3cf38768abb6de56ff76e1ddb90-lc.min.js\"></script>\\n<script src=\"/etc.clientlibs/adobe-cms/components/content/atoms/image-dm/site.lc-1d85730633c81a473925a621a0f232ac-lc.min.js\"></script>\\n\\n\\n\\n\\n\\n<script src=\"https://www.ibm.com/common/digitaladvisor/cm-app/latest/cm-app.min.js\" defer async></script>\\n\\n\\n\\n    \\n    <script defer src=\"/etc.clientlibs/adobe-cms/clientlibs/clientlib-cweb-code-snippet.lc-d1f19e3766d5ef4bb40f94c6a51b5bbf-lc.min.js\"></script>\\n\\n\\n\\n    \\n    \\n    <script defer src=\"/etc.clientlibs/adobe-cms/clientlibs/clientlib-pdfviewer.lc-5ce3caa19f9ba8fd42f9f97caabf9d34-lc.min.js\"></script>\\n\\n\\n    \\n\\n\\n    \\n    <script async defer src=\"/etc.clientlibs/adobe-cms/clientlibs/clientlib-adobe-data-layer.lc-a27dd47fa802878abcfd8cfc0ead27f8-lc.min.js\"></script>\\n\\n\\n\\n    \\n\\n    \\n\\n    \\n\\n\\n\\n    \\n    \\n<script src=\"/etc.clientlibs/core/wcm/components/commons/datalayer/v1/clientlibs/core.wcm.components.commons.datalayer.v1.lc-70264651675213ed7f7cc5a02a00f621-lc.min.js\"></script>\\n\\n\\n\\n\\n    \\n\\n\\n\\n\\n<!-- Added for Adobe analytics implementation ADCMS-5834\\n<script type=\"text/javascript\">\\n\\n    adobeDataLayer.push({\\n        \"event\": \"linkClick\",\\n        \"web\": {\\n            \"webPageDetails\": {\\n                \"URL\": document.URL,\\n                \"name\": \"home\"\\n            },\\n            \"webInteraction\": {\\n                \"linkClick\":\"event\",\\n                \"value\":\"1\",\\n                \"type\": \"other\",\\n                \"URL\": document.URL,\\n                \"name\": \"linkClick: \" +  document.URL\\n            }\\n        },\\n    })\\n</script>  !-->\\n\\n<!-- Added for Adobe analytics implementation ADCMS-5834 & ADCMS-6152 !-->\\n<script type=\"text/javascript\">\\n    document.addEventListener(\"DOMContentLoaded\", function() {\\n        var templatePath = \"\\\\/conf\\\\/adobe\\\\u002Dcms\\\\u002Deditable\\\\/settings\\\\/wcm\\\\/templates\\\\/full\\\\u002Dwidth\\\\u002Dlayout\";\\n        var templateName = templatePath.split(\\'/\\').pop();\\n        const currentUrl = document.URL;\\n        const [baseUrl, queryString] = currentUrl.split(\\'?\\');\\n        const urlWithoutProtocolAndDomain = baseUrl.replace(/^https?:\\\\/\\\\/[^\\\\/]+\\\\//, \\'\\');\\n        const segments = urlWithoutProtocolAndDomain.split(\\'/\\').filter(segment => segment);\\n        const localePattern = /^[a-z]{2}-[a-z]{2}$/;\\n        const cleanedSegments = segments.filter(segment => !localePattern.test(segment));\\n        const firstSegment = cleanedSegments[0] || \"\";\\n        const secondSegment = cleanedSegments[1] || \"\";\\n        const thirdSegment = cleanedSegments[2] || \"\";\\n        const lastModified = \"Thu Jun 19 16:50:33 UTC 2025\";\\n        var isoDate=\"\";\\n        if (lastModified.includes(\"UTC\")) {\\n               const date = new Date(lastModified);\\n               isoDate = date.toISOString();\\n        } else {\\n                 isoDate = lastModified;\\n        }\\n\\n        if (currentUrl.includes(\"/products\")) {\\n            callProductPageLoadEvent();\\n        }\\n\\n        function callProductPageLoadEvent(){\\n            adobeDataLayer.push({\\n                \"event\": \"productPageLoad\",\\n                \"commerce\": {\\n                    \"productViews\": {\\n                        \"value\": 1\\n                     }\\n                },\\n                \"productListItems\": {\\n                    \"name\": secondSegment,\\n                    \"productCategories\": {\\n                        \"categoryName\": thirdSegment\\n                    }\\n                },\\n                \"web\": {\\n                    \"webPageDetails\": {\\n                        \"URL\": document.URL,\\n                        \"name\": cleanUrl(window.location.host) + \" | \" + templateName + \" | Homepage\",\\n                        \"siteSection\": firstSegment\\n                    },\\n                    \"webReferrer\": {\\n                        \"URL\": document.referrer\\n                    }\\n                }\\n            });\\n        }\\n\\n        function getCookieByName(name) {\\n            const cookieArr = document.cookie.split(\\';\\');\\n            for (let i = 0; i < cookieArr.length; i++) {\\n                const cookie = cookieArr[i].trim();\\n                if (cookie.startsWith(name + \"=\")) {\\n                    return cookie.substring(name.length + 1);\\n                }\\n            }\\n            return null;\\n        }\\n\\n        function getContextCookie(name) {\\n  \\t\\t    const cookieArr = document.cookie.split(\\';\\');\\n            for (let i = 0; i < cookieArr.length; i++) {\\n              const cookie = cookieArr[i].trim();\\n              if (cookie.startsWith(name + \"=\")) {\\n                  const value = cookie.substring(name.length + 1);\\n                  if (value.includes(\"0:\")) return \"false\";\\n                  return (value.includes(\"2:\") || value.includes(\"1:\")) ? \"true\" : \"false\";\\n              }\\n            }\\n            return \"false\";\\n        }\\n\\n        function cleanUrl(url) {\\n            let modifiedUrl = url;\\n            if (modifiedUrl.startsWith(\"www\")) {\\n                modifiedUrl = modifiedUrl.replace(/^www\\\\.?/, \"\");\\n            }\\n            return modifiedUrl;\\n        }\\n\\n        /* */\\n\\n        window.addEventListener(\\'load\\', function () {\\n            setTimeout(initializeDDSTracking, 1000);\\n        });\\n\\n        if (!window.ddsVideoTrackingInitialized) {\\n            window.ddsVideoTrackingInitialized = false;\\n        }\\n\\n        function initializeDDSTracking() {\\n            if (window.ddsVideoTrackingInitialized) return;\\n            window.ddsVideoTrackingInitialized = true;\\n            var videoPlayers = document.querySelectorAll(\\'caem-video-player, c4d-video-player\\');\\n            //console.log(\\'Found \\' + videoPlayers.length + \\' video players.\\');\\n            for (var i = 0; i < videoPlayers.length; i++) {\\n                (function (videoPlayer, index) {\\n                    var videoName = videoPlayer.getAttribute(\\'name\\') || \"Video \" + (index + 1);\\n                    var playingMode = videoPlayer.getAttribute(\\'playing-mode\\') || \"\";\\n                    //console.log(\\'Processing video player: \\' + videoName);\\n                    function pushVideoEvent(eventType) {\\n                        //console.log(\\'Pushing event: \\' + eventType + \\' for \\' + videoName);\\n                            adobeDataLayer.push({\\n                                \"event\": eventType,\\n                                    \"_ibm\": {\\n                                        \"video\": {\\n                                            \"videoName\": videoName,\\n                                            \"videoType\": \"mp4\",\\n                                            \"videoPublishDate\": isoDate,\\n                                            \"videoEditDate\": isoDate,\\n                                            \"videoPlaylistName\": \"\",\\n                                            \"videoPlayType\": playingMode,\\n                                            \"videoTagKeywords\": \"video-container\",\\n                                            [eventType]: {\\n                                                  \"value\": 1\\n                                            }\\n                                        },\\n                                        \"user\": {\\n                                            \"userAgent\": navigator.userAgent,\\n                                            \"loginStatus\": digitalData.user.segment.isAuthenticated ? \"logged in\" : \"logged out\"\\n                                        }\\n                                    },\\n                                    \"web\": {\\n                                        \"webPageDetails\": {\\n                                             \"URL\": document.URL,\\n                                             \"name\": cleanUrl(window.location.host) + \" | \" + templateName + \" | \" + \"Homepage\" ,\\n                                             \"siteSection\": firstSegment\\n                                        },\\n                                        \"webReferrer\": {\\n                                            \"URL\": document.referrer\\n                                        }\\n                                    }\\n                            });\\n                    }\\n\\n                function checkForVideo(container) {\\n                    var iframe = container.querySelector(\\'iframe\\');\\n                    if (!iframe) return null;\\n\\n                    try {\\n                            return iframe.contentDocument ? iframe.contentDocument.querySelector(\\'video\\') : null;\\n                        } catch (e) {\\n                            console.error(\\'Unable to access iframe content for \\' + videoName + \\':\\', e);\\n                            return null;\\n                        }\\n                }\\n\\n                function trackVideoProgress(video) {\\n                    if (video.hasTracking) return;\\n                    video.hasTracking = true;\\n\\n                    var milestones = {\\n                        reachedStart: false,\\n                        reached25: false,\\n                        reached50: false,\\n                        reached75: false,\\n                        completed: false\\n                    };\\n\\n                    var handleFirstPlay = function () {\\n                            if (!milestones.reachedStart) {\\n                                milestones.reachedStart = true;\\n                                pushVideoEvent(\"videoStart\");\\n                            }\\n                    };\\n\\n                    video.addEventListener(\"playing\", handleFirstPlay, {\\n                        once: true\\n                    });\\n\\n                    if (!video.paused) {\\n                        handleFirstPlay();\\n                    }\\n\\n                    video.addEventListener(\"timeupdate\", function () {\\n                        var percentageWatched = (video.currentTime / video.duration) * 100;\\n\\n                        if (percentageWatched >= 25 && !milestones.reached25) {\\n                            milestones.reached25 = true;\\n                            pushVideoEvent(\"video25\");\\n                        }\\n\\n                        if (percentageWatched >= 50 && !milestones.reached50) {\\n                            milestones.reached50 = true;\\n                            pushVideoEvent(\"video50\");\\n                        }\\n\\n                        if (percentageWatched >= 75 && !milestones.reached75) {\\n                            milestones.reached75 = true;\\n                            pushVideoEvent(\"video75\");\\n                        }\\n\\n                        if (percentageWatched >= 100 && !milestones.completed) {\\n                            milestones.completed = true;\\n                            video.removeEventListener(\"timeupdate\", arguments.callee);\\n                            pushVideoEvent(\"videoComplete\");\\n                        }\\n                    });\\n                }\\n\\n                function setupVideoTracking() {\\n                    setTimeout(function () {\\n                        var container = videoPlayer.querySelector(\\'.kWidgetIframeContainer\\');\\n                        if (!container) {\\n                            console.log(\\'No video container found inside \\' + videoName);\\n                            return;\\n                        }\\n\\n                        var video = checkForVideo(container);\\n                        if (video) {\\n                            if (videoPlayer.hasAttribute(\\'background-mode\\')) {\\n                                    //console.log(\\'Skipping tracking for background-mode video: \\' + videoName);\\n                                    return;\\n                            }\\n                            trackVideoProgress(video);\\n                        } else {\\n                            console.log(\\'No video found inside \\' + videoName);\\n                        }\\n                    }, 3000);\\n                }\\n\\n                var container = videoPlayer.querySelector(\\'.kWidgetIframeContainer\\');\\n                if (container && checkForVideo(container)) {\\n                    setupVideoTracking();\\n                } else {\\n                         videoPlayer.addEventListener(\\'click\\', function () {\\n                            if (!videoPlayer.videoTrackingStarted) {\\n                                   videoPlayer.videoTrackingStarted = true;\\n                                    setupVideoTracking();\\n                            }\\n                        }, { once: true });\\n                }\\n\\n              })(videoPlayers[i], i);\\n            }\\n        }\\n        /*  */\\n\\n        function getVisitDepth() {\\n            let pageVisitCount = sessionStorage.getItem(\\'pageVisitCount\\');\\n            pageVisitCount = pageVisitCount ? parseInt(pageVisitCount, 10) : 0;\\n            pageVisitCount++;\\n            sessionStorage.setItem(\\'pageVisitCount\\', pageVisitCount);\\n            return pageVisitCount;\\n        }\\n\\n        function getAmPm() {\\n            const date = new Date();\\n            const hours = date.getHours();\\n            return hours >= 12 ? \"PM\" : \"AM\";\\n        }\\n\\n        function getCurrentDay() {\\n            const date = new Date();\\n            return new Intl.DateTimeFormat(\\'en-US\\', { weekday: \\'long\\' }).format(date);\\n        }\\n\\n        function getDayOfMonth() {\\n            const date = new Date();\\n            return date.getDate();\\n        }\\n\\n        function getDayOfWeekAsInteger() {\\n            const date = new Date();\\n            return date.getDay();\\n        }\\n\\n        function getDayOfYear() {\\n            const date = new Date();\\n            const startOfYear = new Date(date.getFullYear(), 0, 1);\\n            const diffInMillis = date - startOfYear;\\n            const dayOfYear = Math.floor(diffInMillis / (1000 * 60 * 60 * 24)) + 1;\\n            return dayOfYear;\\n        }\\n\\n        function getCurrentHour() {\\n            var currentHour = new Date().getHours();\\n            var formattedHour = (currentHour === 0 ? 24 : currentHour);\\n            return formattedHour + \":00\";\\n        }\\n\\n        function getCurrentHourInADay() {\\n            const date = new Date();\\n            let hours = date.getHours();\\n            const period = hours >= 12 ? \"PM\" : \"AM\";\\n            hours = hours % 12 || 12;\\n            return hours +\":00\" +\" \" + period;\\n        }\\n\\n        function getCurrentMinute() {\\n            const date = new Date();\\n            return date.getMinutes();\\n        }\\n\\n        function getCurrentMonth() {\\n            const date = new Date();\\n            return date.getMonth() + 1;\\n        }\\n\\n        function printCurrentMonthName() {\\n            const months = [\"January\", \"February\", \"March\", \"April\", \"May\", \"June\",\\n                    \"July\", \"August\", \"September\", \"October\", \"November\", \"December\"];\\n            const date = new Date();\\n            const monthName = months[date.getMonth()];\\n            return monthName;\\n        }\\n\\n        function getQuarter(date = new Date()) {\\n            var year = date.getFullYear();\\n            var quarters = [\\n                            { start: \"Jan\", end: \"Mar\" },\\n                            { start: \"Apr\", end: \"Jun\" },\\n                            { start: \"Jul\", end: \"Sep\" },\\n                            { start: \"Oct\", end: \"Dec\" }\\n                           ];\\n\\n            var quarterIndex = Math.floor(date.getMonth() / 3);\\n            var start = quarters[quarterIndex].start;\\n            var end = quarters[quarterIndex].end;\\n            return start + \" \" + year + \" - \" + end + \" \" + year;\\n        }\\n\\n        function getCurrentQuarter() {\\n            const date = new Date();\\n            const month = date.getMonth();\\n            const quarter = Math.floor(month / 3) + 1;\\n            return quarter;\\n        }\\n\\n        function getCurrentWeek() {\\n            const date = new Date();\\n            const startOfYear = new Date(date.getFullYear(), 0, 1);\\n            const diff = date - startOfYear;\\n            const oneWeekInMillis = 1000 * 60 * 60 * 24 * 7;\\n            const weekNumber = Math.ceil(diff / oneWeekInMillis);\\n            return weekNumber;\\n        }\\n\\n        function getDayType() {\\n            const date = new Date();\\n            const dayOfWeek = date.getDay();\\n             if (dayOfWeek === 0 || dayOfWeek === 6) {\\n                return \"Weekend\";\\n             } else {\\n                        return \"Weekday\";\\n                    }\\n        }\\n\\n        function getCurrentYear() {\\n            const date = new Date();\\n            return date.getFullYear();\\n        }\\n\\n        function generateUtCodesObject() {\\n            const utCodesMeta = document.querySelector(\\'meta[name=\"ut-codes\"]\\');\\n            const utCodesIdMeta = document.querySelector(\\'meta[name=\"ut-codes-id\"]\\');\\n            if (utCodesMeta && utCodesIdMeta) {\\n                const utCodesContent = utCodesMeta.getAttribute(\\'content\\');\\n                const utCodesIdContent = utCodesIdMeta.getAttribute(\\'content\\');\\n                const utCodesArray = utCodesContent.split(\" > \");\\n                const utCodesIdArray = utCodesIdContent.split(\" > \");\\n                let utCodes = {};\\n                utCodesArray.forEach((code, index) => {\\n                    const firstTwoLetters = code.substring(0, 2);\\n                    let prefix = \\'\\';\\n                    switch (firstTwoLetters) {\\n                        case \\'10\\':\\n                        prefix = \\'BusinessUnit\\';\\n                        break;\\n                        case \\'15\\':\\n                        prefix = \\'LineOfBusiness\\';\\n                        break;\\n                        case \\'17\\':\\n                        prefix = \\'Market\\';\\n                        break;\\n                        case \\'20\\':\\n                        prefix = \\'OfferingPortfolio\\';\\n                        break;\\n                        case \\'30\\':\\n                        prefix = \\'Offering\\';\\n                        break;\\n                        default:\\n                        prefix = \\'Unknown\\';\\n                    }\\n\\n                    const codeKey = \\'ut\\' + firstTwoLetters + prefix;\\n                    const codeName = code + \\':\\' + (utCodesIdArray[index] || \"\");\\n                    utCodes[codeKey] = codeName;\\n                });\\n\\n                return utCodes;\\n            }\\n\\n            return {};\\n        }\\n\\n        function isFirstPageVisited() {\\n            const domainKey = \\'firstPageVisited_\\' + window.location.hostname;\\n            if (!localStorage.getItem(domainKey)) {\\n                localStorage.setItem(domainKey, \\'true\\');\\n                return true;\\n            }\\n            return false;\\n        }\\n\\n        function getQueryParamWithKey(paramName) {\\n            const urlObj = new URL(window.location.href);\\n            const value = urlObj.searchParams.get(paramName);\\n            if (urlObj.searchParams.has(paramName)) {\\n                return paramName + \\'=\\' + value;\\n            }\\n            return \\'\\';\\n        }\\n\\n        function getQueryParam(name) {\\n            const queryString = window.location.search.substring(1);\\n            if (name === \\'?\\') {\\n                return queryString;\\n            }\\n\\n            const urlParams = new URLSearchParams(queryString);\\n            return urlParams.get(name);\\n        }\\n\\n        const utCodes = generateUtCodesObject();\\n        const pmpDataScript = \"{\\\\x22platforms\\\\x22:[]}\";\\n        let pmpItems = [];\\n        if (pmpDataScript) {\\n               try {\\n                   pmpItems = JSON.parse(pmpDataScript);\\n               } catch (e) {\\n                      console.error(\"error: \" + e);\\n               }\\n        }\\n\\n        adobeDataLayer.push({\\n            \"event\": \"pageLoad\",\\n            \"_ibm\": {\\n                \"page\": {\\n                    utCodes: utCodes,\\n                    \"pageQueryString\":{\\n                            \"pageQueryString\": getQueryParam(\\'?\\') || \"\" ,\\n                            \"utm_content\": getQueryParam(\\'utm_content\\') || \"\",\\n                            \"utm_term\": getQueryParam(\\'utm_term\\') || \"\",\\n                            \"utm_medium\": getQueryParam(\\'utm_medium\\') || \"\",\\n                            \"utm_source\": getQueryParam(\\'utm_source\\') || \"\",\\n                            \"utm_campaign\": getQueryParam(\\'utm_campaign\\') || \"\",\\n                            \"utm_id\": getQueryParam(\\'utm_id\\') || \"\",\\n                            \"p1\": getQueryParam(\\'p1\\') || \"\",\\n                            \"p2\": getQueryParam(\\'p2\\') || \"\",\\n                            \"p3\": getQueryParam(\\'p3\\') || \"\",\\n                            \"p4\": getQueryParam(\\'p4\\') || \"\",\\n                            \"p5\": getQueryParam(\\'p5\\') || \"\",\\n                            \"p6\": getQueryParam(\\'p6\\') || \"\",\\n                            \"p7\": getQueryParam(\\'p7\\') || \"\",\\n                            \"p8\": getQueryParam(\\'p8\\') || \"\",\\n                            \"p9\": getQueryParam(\\'p9\\') || \"\",\\n                    },\\n                    \"firstPageFlag\": isFirstPageVisited(),\\n                    \"internalCampaign\": getQueryParamWithKey(\"intcmp\"),\\n                    \"siteSection2\": secondSegment,\\n                    \"siteSection3\": thirdSegment,\\n                    \"pageType\": templateName,\\n                    \"domain\": cleanUrl(window.location.host),\\n                    \"siteLanguage\": \"en\",\\n                    \"pageName\": \"Homepage\",\\n                    \"siteCountry\": \"us\"\\n                },\\n\\n                \"siteActivity\": {\\n                    \"visitDepth\": getVisitDepth()\\n        \\t    },\\n                \"timeParting\": {\\n                    \"t_AmPM\": getAmPm(),\\n                    \"t_Day\": getCurrentDay(),\\n                    \"t_DayOfMonth\": getDayOfMonth(),\\n                    \"t_DayOfWeek\": getDayOfWeekAsInteger(),\\n                    \"t_DayOfYear\": getDayOfYear(),\\n                    \"t_Hour\": getCurrentHour(),\\n \\t\\t            \"t_HourOfDay\": getCurrentHourInADay(),\\n                    \"t_Minute\": getCurrentMinute(),\\n                    \"t_Month\": getCurrentMonth(),\\n                    \"t_MonthOfYear\": printCurrentMonthName(),\\n                    \"t_Quarter\": getQuarter(date = new Date()),\\n                    \"t_QuarterOfYear\": getCurrentQuarter(),\\n                    \"t_Week\": getCurrentWeek(),\\n                    \"t_Weekday_Weekend\": getDayType(),\\n                    \"t_Year\": getCurrentYear()\\n        \\t    }\\n\\n            },\\n            paidMediaPlatforms: pmpItems.platforms || [],\\n            \"web\": {\\n                \"webPageDetails\": {\\n                    \"pageViews\": { \"value\": 1 },\\n                    \"URL\": document.URL,\\n                    \"name\": cleanUrl(window.location.host) + \" | \" + templateName + \" | Homepage\",\\n                    \"siteSection\": firstSegment\\n                },\\n                \"webReferrer\": {\\n                    \"URL\": document.referrer\\n                }\\n            }\\n        });\\n\\n        document.addEventListener(\\'click\\', function(event) {\\n            if (event.target.closest(\\'.WACLauncher__ButtonContainer\\')) {\\n                handleClick(event);\\n            }\\n        });\\n\\n        function handleClick(event) {\\n            adobeDataLayer.push({\\n                \"event\": \"contactLoad\",\\n                \"_ibm\": {\\n                    \"contact\": {\\n                        \"contactBotClick\": { \"value\": 1 },\\n                        \"contactExperienceType\": \"Support or Sales\",\\n                        \"contactLanguage\": \"en\",\\n                        \"contactCountry\": \"us\"\\n                    },\\n                    \"click\": {\\n                        \"linkTileNumber\": 1\\n                    }\\n                },\\n                \"web\": {\\n                    \"webPageDetails\": {\\n                        \"URL\": document.URL,\\n                        \"name\": cleanUrl(window.location.host) + \" | \" + templateName + \" | Homepage\",\\n                    },\\n                    \"webInteraction\": {\\n                        \"name\": \"contactLoad\",\\n                        \"URL\": document.URL,\\n                        \"type\": \"other\"\\n                    }\\n                }\\n            });\\n        }\\n\\n        const legalNavItems = document.getElementsByTagName(\\'c4d-legal-nav-item\\');\\n        for (let item of legalNavItems) {\\n            const hrefValue = item.getAttribute(\\'href\\');\\n            if (hrefValue && hrefValue.includes(\\'/contact\\')) {\\n                item.addEventListener(\\'click\\', function(event) {\\n                     handleClick(event);\\n                });\\n            }\\n        }\\n\\n        const mastheadItems = document.getElementsByTagName(\\'c4d-masthead-contact\\');\\n        for (let item of mastheadItems) {\\n            if (item.getAttribute(\\'data-ibm-contact\\') === \\'contact-link\\') {\\n                item.addEventListener(\\'click\\', function(event) {\\n                    handleClick(event);\\n\\n                });\\n            }\\n        }\\n    });\\n</script>\\n\\n<script type=\"text/javascript\"  src=\"/_6C8aQ/CTV_/v/k/2VkZTiWG8MsD/J7c5rXbcNhrwD3iV/Fg8HLDlFNw/CiczeX/NldnQ\"></script><link rel=\"stylesheet\" type=\"text/css\"  href=\"/_6C8aQ/CTV_/v/k/2VkZTiWG8MsD/wJc5uY/UjJ6KzlFNw/dRQqDQ/11Y0ZY\"><script  src=\"/_6C8aQ/CTV_/v/k/2VkZTiWG8MsD/wJc5uY/UjJ6KzlFNw/KldCGi/40LEAq\" async defer></script><div id=\"sec-overlay\" style=\"display:none;\"><div id=\"sec-container\"></div></div></body>\\n</html>'"
      ]
     },
     "execution_count": 44,
     "metadata": {},
     "output_type": "execute_result"
    }
   ],
   "execution_count": 44
  },
  {
   "metadata": {},
   "cell_type": "markdown",
   "source": "<p>We create a <code>BeautifulSoup</code> object using the <code>BeautifulSoup</code> constructor.</p>",
   "id": "fecdca78f1af1bdf"
  },
  {
   "metadata": {
    "ExecuteTime": {
     "end_time": "2025-06-21T15:30:05.772806Z",
     "start_time": "2025-06-21T15:30:05.739938Z"
    }
   },
   "cell_type": "code",
   "source": "bsd = BeautifulSoup(data, \"html5lib\")",
   "id": "c509350961f846bc",
   "outputs": [],
   "execution_count": 45
  },
  {
   "metadata": {},
   "cell_type": "markdown",
   "source": "<p>Scrape all links:</p>",
   "id": "24e0dbc105a8db64"
  },
  {
   "metadata": {
    "ExecuteTime": {
     "end_time": "2025-06-21T15:30:05.793158Z",
     "start_time": "2025-06-21T15:30:05.789328Z"
    }
   },
   "cell_type": "code",
   "source": [
    "for link in bsd.find_all(\"a\", href=True):\n",
    "    print(link.get(\"href\"))"
   ],
   "id": "366563c7b86d0446",
   "outputs": [
    {
     "name": "stdout",
     "output_type": "stream",
     "text": [
      "https://www.ibm.com/products/guardium-ai-security?lnk=hpls1us\n",
      "https://newsroom.ibm.com/2025-06-18-ibm-introduces-industry-first-software-to-unify-agentic-governance-and-security?lnk=hpls2us\n",
      "https://www.ibm.com/granite?lnk=hpdev1us\n",
      "https://ibmtechxchange.bemyapp.com/#/event?lnk=hpdev2us\n",
      "https://skillsbuild.org/?lnk=hpdev3us\n",
      "https://www.ibm.com/new/announcements/agentic-ai-governance-evaluation-and-lifecycle?lnk=hpdev4us\n",
      "https://www.ibm.com/new/announcements/ibm-named-a-leader-in-the-2025-gartner-magic-quadrant-for-data-science-and-machine-learning-platforms?lnk=hpdev5us\n",
      "https://www.ibm.com/new/announcements/ibm-leader-2025-omdia-universe-on-no-low-pro-ide-assistants-report?lnk=hpdev6us\n",
      "https://www.ibm.com/products/watsonx-code-assistant/pricing?lnk=hpdev7us\n",
      "https://www.ibm.com/products/watsonx-ai?lnk=hpdev8us\n",
      "https://www.ibm.com/products/spss-statistics/whats-new?lnk=hppr1us\n",
      "https://www.ibm.com/artificial-intelligence?lnk=hpfp1us\n",
      "https://www.ibm.com/solutions/hybrid-cloud\n",
      "https://www.ibm.com/consulting?lnk=hpfp3us\n",
      "https://www.ibm.com/about?lnk=hpii1us\n",
      "https://www.ibm.com/history?lnk=hpii1us\n",
      "https://research.ibm.com?lnk=hpii1us\n",
      "https://www.ibm.com/quantum?lnk=hpii1us\n",
      "https://www.ibm.com/careers?lnk=hpii1us\n",
      "https://skillsbuild.org?lnk=hpii1us\n"
     ]
    }
   ],
   "execution_count": 46
  },
  {
   "metadata": {},
   "cell_type": "markdown",
   "source": "### Scrape all images Tags",
   "id": "b9c1a6c3fdea04ba"
  },
  {
   "metadata": {
    "ExecuteTime": {
     "end_time": "2025-06-21T15:30:05.802460Z",
     "start_time": "2025-06-21T15:30:05.798342Z"
    }
   },
   "cell_type": "code",
   "source": [
    "for link in bsd.find_all(\"img\"):\n",
    "    print(link)\n",
    "    print(link.get(\"src\"))"
   ],
   "id": "1985228bbbb89e31",
   "outputs": [],
   "execution_count": 47
  },
  {
   "metadata": {},
   "cell_type": "markdown",
   "source": "### Scrape data from HTML tables",
   "id": "3ad2a084b9adad28"
  },
  {
   "metadata": {
    "ExecuteTime": {
     "end_time": "2025-06-21T15:30:05.828459Z",
     "start_time": "2025-06-21T15:30:05.825724Z"
    }
   },
   "cell_type": "code",
   "source": "url = \"https://cf-courses-data.s3.us.cloud-object-storage.appdomain.cloud/IBM-DA0321EN-SkillsNetwork/labs/datasets/HTMLColorCodes.html\"",
   "id": "2dcb1173c04c0ab4",
   "outputs": [],
   "execution_count": 48
  },
  {
   "metadata": {},
   "cell_type": "markdown",
   "source": "<p>Before proceeding to scrape a website, you need to examine the contents and the way data is organized on the website. Open the above url in your browser and check how many rows and columns there are in the color table.</p>",
   "id": "f2dfcaf985fe0cf8"
  },
  {
   "metadata": {
    "ExecuteTime": {
     "end_time": "2025-06-21T15:30:06.860148Z",
     "start_time": "2025-06-21T15:30:05.842877Z"
    }
   },
   "cell_type": "code",
   "source": [
    "data = requests.get(url).text\n",
    "bsd = BeautifulSoup(data, \"html5lib\")\n",
    "table = bsd.find(\"table\")\n",
    "for row in table.find_all(\"tr\"):\n",
    "    cols = row.find_all(\"td\")\n",
    "    color_name = cols[2].string\n",
    "    color_code = cols[3].text\n",
    "    print(f\"{color_name}--->{color_code}\")"
   ],
   "id": "38d1bf4223b0168",
   "outputs": [
    {
     "name": "stdout",
     "output_type": "stream",
     "text": [
      "Color Name--->Hex Code#RRGGBB\n",
      "lightsalmon--->#FFA07A\n",
      "salmon--->#FA8072\n",
      "darksalmon--->#E9967A\n",
      "lightcoral--->#F08080\n",
      "coral--->#FF7F50\n",
      "tomato--->#FF6347\n",
      "orangered--->#FF4500\n",
      "gold--->#FFD700\n",
      "orange--->#FFA500\n",
      "darkorange--->#FF8C00\n",
      "lightyellow--->#FFFFE0\n",
      "lemonchiffon--->#FFFACD\n",
      "papayawhip--->#FFEFD5\n",
      "moccasin--->#FFE4B5\n",
      "peachpuff--->#FFDAB9\n",
      "palegoldenrod--->#EEE8AA\n",
      "khaki--->#F0E68C\n",
      "darkkhaki--->#BDB76B\n",
      "yellow--->#FFFF00\n",
      "lawngreen--->#7CFC00\n",
      "chartreuse--->#7FFF00\n",
      "limegreen--->#32CD32\n",
      "lime--->#00FF00\n",
      "forestgreen--->#228B22\n",
      "green--->#008000\n",
      "powderblue--->#B0E0E6\n",
      "lightblue--->#ADD8E6\n",
      "lightskyblue--->#87CEFA\n",
      "skyblue--->#87CEEB\n",
      "deepskyblue--->#00BFFF\n",
      "lightsteelblue--->#B0C4DE\n",
      "dodgerblue--->#1E90FF\n"
     ]
    }
   ],
   "execution_count": 49
  },
  {
   "metadata": {},
   "cell_type": "markdown",
   "source": "### Scraping tables from a Webpage using `pandas`",
   "id": "807bc15371767c90"
  },
  {
   "metadata": {},
   "cell_type": "markdown",
   "source": "<p>Particularly for extracting tabular data from a web page, you may also use the <code>read_html()</code> method of the <code>pandas</code> library. You may extract all the tables from the given webpage simply by using the following commands.</p>",
   "id": "d7f484da4a388f36"
  },
  {
   "metadata": {
    "ExecuteTime": {
     "end_time": "2025-06-21T15:30:08.219099Z",
     "start_time": "2025-06-21T15:30:06.877501Z"
    }
   },
   "cell_type": "code",
   "source": [
    "import pandas as pd\n",
    "\n",
    "tables = pd.read_html(url)\n",
    "tables"
   ],
   "id": "6ae3a206c1166df1",
   "outputs": [
    {
     "data": {
      "text/plain": [
       "[         0      1               2                 3                     4\n",
       " 0   Number  Color      Color Name  Hex Code #RRGGBB  Decimal Code (R,G,B)\n",
       " 1        1    NaN     lightsalmon           #FFA07A      rgb(255,160,122)\n",
       " 2        2    NaN          salmon           #FA8072      rgb(250,128,114)\n",
       " 3        3    NaN      darksalmon           #E9967A      rgb(233,150,122)\n",
       " 4        4    NaN      lightcoral           #F08080      rgb(240,128,128)\n",
       " 5        5    NaN           coral           #FF7F50       rgb(255,127,80)\n",
       " 6        6    NaN          tomato           #FF6347        rgb(255,99,71)\n",
       " 7        7    NaN       orangered           #FF4500         rgb(255,69,0)\n",
       " 8        8    NaN            gold           #FFD700        rgb(255,215,0)\n",
       " 9        9    NaN          orange           #FFA500        rgb(255,165,0)\n",
       " 10      10    NaN      darkorange           #FF8C00        rgb(255,140,0)\n",
       " 11      11    NaN     lightyellow           #FFFFE0      rgb(255,255,224)\n",
       " 12      12    NaN    lemonchiffon           #FFFACD      rgb(255,250,205)\n",
       " 13      13    NaN      papayawhip           #FFEFD5      rgb(255,239,213)\n",
       " 14      14    NaN        moccasin           #FFE4B5      rgb(255,228,181)\n",
       " 15      15    NaN       peachpuff           #FFDAB9      rgb(255,218,185)\n",
       " 16      16    NaN   palegoldenrod           #EEE8AA      rgb(238,232,170)\n",
       " 17      17    NaN           khaki           #F0E68C      rgb(240,230,140)\n",
       " 18      18    NaN       darkkhaki           #BDB76B      rgb(189,183,107)\n",
       " 19      19    NaN          yellow           #FFFF00        rgb(255,255,0)\n",
       " 20      20    NaN       lawngreen           #7CFC00        rgb(124,252,0)\n",
       " 21      21    NaN      chartreuse           #7FFF00        rgb(127,255,0)\n",
       " 22      22    NaN       limegreen           #32CD32        rgb(50,205,50)\n",
       " 23      23    NaN            lime           #00FF00          rgb(0.255.0)\n",
       " 24      24    NaN     forestgreen           #228B22        rgb(34,139,34)\n",
       " 25      25    NaN           green           #008000          rgb(0,128,0)\n",
       " 26      26    NaN      powderblue           #B0E0E6      rgb(176,224,230)\n",
       " 27      27    NaN       lightblue           #ADD8E6      rgb(173,216,230)\n",
       " 28      28    NaN    lightskyblue           #87CEFA      rgb(135,206,250)\n",
       " 29      29    NaN         skyblue           #87CEEB      rgb(135,206,235)\n",
       " 30      30    NaN     deepskyblue           #00BFFF        rgb(0,191,255)\n",
       " 31      31    NaN  lightsteelblue           #B0C4DE      rgb(176,196,222)\n",
       " 32      32    NaN      dodgerblue           #1E90FF       rgb(30,144,255)]"
      ]
     },
     "execution_count": 50,
     "metadata": {},
     "output_type": "execute_result"
    }
   ],
   "execution_count": 50
  },
  {
   "metadata": {},
   "cell_type": "markdown",
   "source": "<p><code>tables</code> is now a list of dataframes representing the tables from the web page, in the sequence of their appearance. In the current URL, there is only a single table, so the same can be accessed as shown below.</p>",
   "id": "b2c6c509fd15cc6f"
  },
  {
   "metadata": {
    "ExecuteTime": {
     "end_time": "2025-06-21T15:30:08.246656Z",
     "start_time": "2025-06-21T15:30:08.237003Z"
    }
   },
   "cell_type": "code",
   "source": "tables[0]",
   "id": "f4578a6de5d40ff6",
   "outputs": [
    {
     "data": {
      "text/plain": [
       "         0      1               2                 3                     4\n",
       "0   Number  Color      Color Name  Hex Code #RRGGBB  Decimal Code (R,G,B)\n",
       "1        1    NaN     lightsalmon           #FFA07A      rgb(255,160,122)\n",
       "2        2    NaN          salmon           #FA8072      rgb(250,128,114)\n",
       "3        3    NaN      darksalmon           #E9967A      rgb(233,150,122)\n",
       "4        4    NaN      lightcoral           #F08080      rgb(240,128,128)\n",
       "5        5    NaN           coral           #FF7F50       rgb(255,127,80)\n",
       "6        6    NaN          tomato           #FF6347        rgb(255,99,71)\n",
       "7        7    NaN       orangered           #FF4500         rgb(255,69,0)\n",
       "8        8    NaN            gold           #FFD700        rgb(255,215,0)\n",
       "9        9    NaN          orange           #FFA500        rgb(255,165,0)\n",
       "10      10    NaN      darkorange           #FF8C00        rgb(255,140,0)\n",
       "11      11    NaN     lightyellow           #FFFFE0      rgb(255,255,224)\n",
       "12      12    NaN    lemonchiffon           #FFFACD      rgb(255,250,205)\n",
       "13      13    NaN      papayawhip           #FFEFD5      rgb(255,239,213)\n",
       "14      14    NaN        moccasin           #FFE4B5      rgb(255,228,181)\n",
       "15      15    NaN       peachpuff           #FFDAB9      rgb(255,218,185)\n",
       "16      16    NaN   palegoldenrod           #EEE8AA      rgb(238,232,170)\n",
       "17      17    NaN           khaki           #F0E68C      rgb(240,230,140)\n",
       "18      18    NaN       darkkhaki           #BDB76B      rgb(189,183,107)\n",
       "19      19    NaN          yellow           #FFFF00        rgb(255,255,0)\n",
       "20      20    NaN       lawngreen           #7CFC00        rgb(124,252,0)\n",
       "21      21    NaN      chartreuse           #7FFF00        rgb(127,255,0)\n",
       "22      22    NaN       limegreen           #32CD32        rgb(50,205,50)\n",
       "23      23    NaN            lime           #00FF00          rgb(0.255.0)\n",
       "24      24    NaN     forestgreen           #228B22        rgb(34,139,34)\n",
       "25      25    NaN           green           #008000          rgb(0,128,0)\n",
       "26      26    NaN      powderblue           #B0E0E6      rgb(176,224,230)\n",
       "27      27    NaN       lightblue           #ADD8E6      rgb(173,216,230)\n",
       "28      28    NaN    lightskyblue           #87CEFA      rgb(135,206,250)\n",
       "29      29    NaN         skyblue           #87CEEB      rgb(135,206,235)\n",
       "30      30    NaN     deepskyblue           #00BFFF        rgb(0,191,255)\n",
       "31      31    NaN  lightsteelblue           #B0C4DE      rgb(176,196,222)\n",
       "32      32    NaN      dodgerblue           #1E90FF       rgb(30,144,255)"
      ],
      "text/html": [
       "<div>\n",
       "<style scoped>\n",
       "    .dataframe tbody tr th:only-of-type {\n",
       "        vertical-align: middle;\n",
       "    }\n",
       "\n",
       "    .dataframe tbody tr th {\n",
       "        vertical-align: top;\n",
       "    }\n",
       "\n",
       "    .dataframe thead th {\n",
       "        text-align: right;\n",
       "    }\n",
       "</style>\n",
       "<table border=\"1\" class=\"dataframe\">\n",
       "  <thead>\n",
       "    <tr style=\"text-align: right;\">\n",
       "      <th></th>\n",
       "      <th>0</th>\n",
       "      <th>1</th>\n",
       "      <th>2</th>\n",
       "      <th>3</th>\n",
       "      <th>4</th>\n",
       "    </tr>\n",
       "  </thead>\n",
       "  <tbody>\n",
       "    <tr>\n",
       "      <th>0</th>\n",
       "      <td>Number</td>\n",
       "      <td>Color</td>\n",
       "      <td>Color Name</td>\n",
       "      <td>Hex Code #RRGGBB</td>\n",
       "      <td>Decimal Code (R,G,B)</td>\n",
       "    </tr>\n",
       "    <tr>\n",
       "      <th>1</th>\n",
       "      <td>1</td>\n",
       "      <td>NaN</td>\n",
       "      <td>lightsalmon</td>\n",
       "      <td>#FFA07A</td>\n",
       "      <td>rgb(255,160,122)</td>\n",
       "    </tr>\n",
       "    <tr>\n",
       "      <th>2</th>\n",
       "      <td>2</td>\n",
       "      <td>NaN</td>\n",
       "      <td>salmon</td>\n",
       "      <td>#FA8072</td>\n",
       "      <td>rgb(250,128,114)</td>\n",
       "    </tr>\n",
       "    <tr>\n",
       "      <th>3</th>\n",
       "      <td>3</td>\n",
       "      <td>NaN</td>\n",
       "      <td>darksalmon</td>\n",
       "      <td>#E9967A</td>\n",
       "      <td>rgb(233,150,122)</td>\n",
       "    </tr>\n",
       "    <tr>\n",
       "      <th>4</th>\n",
       "      <td>4</td>\n",
       "      <td>NaN</td>\n",
       "      <td>lightcoral</td>\n",
       "      <td>#F08080</td>\n",
       "      <td>rgb(240,128,128)</td>\n",
       "    </tr>\n",
       "    <tr>\n",
       "      <th>5</th>\n",
       "      <td>5</td>\n",
       "      <td>NaN</td>\n",
       "      <td>coral</td>\n",
       "      <td>#FF7F50</td>\n",
       "      <td>rgb(255,127,80)</td>\n",
       "    </tr>\n",
       "    <tr>\n",
       "      <th>6</th>\n",
       "      <td>6</td>\n",
       "      <td>NaN</td>\n",
       "      <td>tomato</td>\n",
       "      <td>#FF6347</td>\n",
       "      <td>rgb(255,99,71)</td>\n",
       "    </tr>\n",
       "    <tr>\n",
       "      <th>7</th>\n",
       "      <td>7</td>\n",
       "      <td>NaN</td>\n",
       "      <td>orangered</td>\n",
       "      <td>#FF4500</td>\n",
       "      <td>rgb(255,69,0)</td>\n",
       "    </tr>\n",
       "    <tr>\n",
       "      <th>8</th>\n",
       "      <td>8</td>\n",
       "      <td>NaN</td>\n",
       "      <td>gold</td>\n",
       "      <td>#FFD700</td>\n",
       "      <td>rgb(255,215,0)</td>\n",
       "    </tr>\n",
       "    <tr>\n",
       "      <th>9</th>\n",
       "      <td>9</td>\n",
       "      <td>NaN</td>\n",
       "      <td>orange</td>\n",
       "      <td>#FFA500</td>\n",
       "      <td>rgb(255,165,0)</td>\n",
       "    </tr>\n",
       "    <tr>\n",
       "      <th>10</th>\n",
       "      <td>10</td>\n",
       "      <td>NaN</td>\n",
       "      <td>darkorange</td>\n",
       "      <td>#FF8C00</td>\n",
       "      <td>rgb(255,140,0)</td>\n",
       "    </tr>\n",
       "    <tr>\n",
       "      <th>11</th>\n",
       "      <td>11</td>\n",
       "      <td>NaN</td>\n",
       "      <td>lightyellow</td>\n",
       "      <td>#FFFFE0</td>\n",
       "      <td>rgb(255,255,224)</td>\n",
       "    </tr>\n",
       "    <tr>\n",
       "      <th>12</th>\n",
       "      <td>12</td>\n",
       "      <td>NaN</td>\n",
       "      <td>lemonchiffon</td>\n",
       "      <td>#FFFACD</td>\n",
       "      <td>rgb(255,250,205)</td>\n",
       "    </tr>\n",
       "    <tr>\n",
       "      <th>13</th>\n",
       "      <td>13</td>\n",
       "      <td>NaN</td>\n",
       "      <td>papayawhip</td>\n",
       "      <td>#FFEFD5</td>\n",
       "      <td>rgb(255,239,213)</td>\n",
       "    </tr>\n",
       "    <tr>\n",
       "      <th>14</th>\n",
       "      <td>14</td>\n",
       "      <td>NaN</td>\n",
       "      <td>moccasin</td>\n",
       "      <td>#FFE4B5</td>\n",
       "      <td>rgb(255,228,181)</td>\n",
       "    </tr>\n",
       "    <tr>\n",
       "      <th>15</th>\n",
       "      <td>15</td>\n",
       "      <td>NaN</td>\n",
       "      <td>peachpuff</td>\n",
       "      <td>#FFDAB9</td>\n",
       "      <td>rgb(255,218,185)</td>\n",
       "    </tr>\n",
       "    <tr>\n",
       "      <th>16</th>\n",
       "      <td>16</td>\n",
       "      <td>NaN</td>\n",
       "      <td>palegoldenrod</td>\n",
       "      <td>#EEE8AA</td>\n",
       "      <td>rgb(238,232,170)</td>\n",
       "    </tr>\n",
       "    <tr>\n",
       "      <th>17</th>\n",
       "      <td>17</td>\n",
       "      <td>NaN</td>\n",
       "      <td>khaki</td>\n",
       "      <td>#F0E68C</td>\n",
       "      <td>rgb(240,230,140)</td>\n",
       "    </tr>\n",
       "    <tr>\n",
       "      <th>18</th>\n",
       "      <td>18</td>\n",
       "      <td>NaN</td>\n",
       "      <td>darkkhaki</td>\n",
       "      <td>#BDB76B</td>\n",
       "      <td>rgb(189,183,107)</td>\n",
       "    </tr>\n",
       "    <tr>\n",
       "      <th>19</th>\n",
       "      <td>19</td>\n",
       "      <td>NaN</td>\n",
       "      <td>yellow</td>\n",
       "      <td>#FFFF00</td>\n",
       "      <td>rgb(255,255,0)</td>\n",
       "    </tr>\n",
       "    <tr>\n",
       "      <th>20</th>\n",
       "      <td>20</td>\n",
       "      <td>NaN</td>\n",
       "      <td>lawngreen</td>\n",
       "      <td>#7CFC00</td>\n",
       "      <td>rgb(124,252,0)</td>\n",
       "    </tr>\n",
       "    <tr>\n",
       "      <th>21</th>\n",
       "      <td>21</td>\n",
       "      <td>NaN</td>\n",
       "      <td>chartreuse</td>\n",
       "      <td>#7FFF00</td>\n",
       "      <td>rgb(127,255,0)</td>\n",
       "    </tr>\n",
       "    <tr>\n",
       "      <th>22</th>\n",
       "      <td>22</td>\n",
       "      <td>NaN</td>\n",
       "      <td>limegreen</td>\n",
       "      <td>#32CD32</td>\n",
       "      <td>rgb(50,205,50)</td>\n",
       "    </tr>\n",
       "    <tr>\n",
       "      <th>23</th>\n",
       "      <td>23</td>\n",
       "      <td>NaN</td>\n",
       "      <td>lime</td>\n",
       "      <td>#00FF00</td>\n",
       "      <td>rgb(0.255.0)</td>\n",
       "    </tr>\n",
       "    <tr>\n",
       "      <th>24</th>\n",
       "      <td>24</td>\n",
       "      <td>NaN</td>\n",
       "      <td>forestgreen</td>\n",
       "      <td>#228B22</td>\n",
       "      <td>rgb(34,139,34)</td>\n",
       "    </tr>\n",
       "    <tr>\n",
       "      <th>25</th>\n",
       "      <td>25</td>\n",
       "      <td>NaN</td>\n",
       "      <td>green</td>\n",
       "      <td>#008000</td>\n",
       "      <td>rgb(0,128,0)</td>\n",
       "    </tr>\n",
       "    <tr>\n",
       "      <th>26</th>\n",
       "      <td>26</td>\n",
       "      <td>NaN</td>\n",
       "      <td>powderblue</td>\n",
       "      <td>#B0E0E6</td>\n",
       "      <td>rgb(176,224,230)</td>\n",
       "    </tr>\n",
       "    <tr>\n",
       "      <th>27</th>\n",
       "      <td>27</td>\n",
       "      <td>NaN</td>\n",
       "      <td>lightblue</td>\n",
       "      <td>#ADD8E6</td>\n",
       "      <td>rgb(173,216,230)</td>\n",
       "    </tr>\n",
       "    <tr>\n",
       "      <th>28</th>\n",
       "      <td>28</td>\n",
       "      <td>NaN</td>\n",
       "      <td>lightskyblue</td>\n",
       "      <td>#87CEFA</td>\n",
       "      <td>rgb(135,206,250)</td>\n",
       "    </tr>\n",
       "    <tr>\n",
       "      <th>29</th>\n",
       "      <td>29</td>\n",
       "      <td>NaN</td>\n",
       "      <td>skyblue</td>\n",
       "      <td>#87CEEB</td>\n",
       "      <td>rgb(135,206,235)</td>\n",
       "    </tr>\n",
       "    <tr>\n",
       "      <th>30</th>\n",
       "      <td>30</td>\n",
       "      <td>NaN</td>\n",
       "      <td>deepskyblue</td>\n",
       "      <td>#00BFFF</td>\n",
       "      <td>rgb(0,191,255)</td>\n",
       "    </tr>\n",
       "    <tr>\n",
       "      <th>31</th>\n",
       "      <td>31</td>\n",
       "      <td>NaN</td>\n",
       "      <td>lightsteelblue</td>\n",
       "      <td>#B0C4DE</td>\n",
       "      <td>rgb(176,196,222)</td>\n",
       "    </tr>\n",
       "    <tr>\n",
       "      <th>32</th>\n",
       "      <td>32</td>\n",
       "      <td>NaN</td>\n",
       "      <td>dodgerblue</td>\n",
       "      <td>#1E90FF</td>\n",
       "      <td>rgb(30,144,255)</td>\n",
       "    </tr>\n",
       "  </tbody>\n",
       "</table>\n",
       "</div>"
      ]
     },
     "execution_count": 51,
     "metadata": {},
     "output_type": "execute_result"
    }
   ],
   "execution_count": 51
  },
  {
   "metadata": {},
   "cell_type": "markdown",
   "source": [
    "****\n",
    "This is the end of the file.\n",
    "****"
   ],
   "id": "e5f261f633ad470c"
  }
 ],
 "metadata": {
  "kernelspec": {
   "display_name": "Python 3",
   "language": "python",
   "name": "python3"
  },
  "language_info": {
   "codemirror_mode": {
    "name": "ipython",
    "version": 2
   },
   "file_extension": ".py",
   "mimetype": "text/x-python",
   "name": "python",
   "nbconvert_exporter": "python",
   "pygments_lexer": "ipython2",
   "version": "2.7.6"
  }
 },
 "nbformat": 4,
 "nbformat_minor": 5
}
