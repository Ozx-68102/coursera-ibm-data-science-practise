{
 "cells": [
  {
   "metadata": {},
   "cell_type": "markdown",
   "source": "# Cheat Sheet: Working with Data in Python",
   "id": "83f9aa36a28fa54e"
  },
  {
   "metadata": {},
   "cell_type": "markdown",
   "source": "## Reading and writing files",
   "id": "41b2484bdf1cfde6"
  },
  {
   "metadata": {},
   "cell_type": "markdown",
   "source": "### 1. File opening modes",
   "id": "40c4a50c718a3187"
  },
  {
   "metadata": {},
   "cell_type": "markdown",
   "source": "<p>Different modes to open files for specific operations.</p>",
   "id": "d8c402f2f9fa6229"
  },
  {
   "metadata": {},
   "cell_type": "markdown",
   "source": [
    "**Syntax**:\n",
    "- r (reading) w (writing) a (appending) + (updating: read/write) b (binary, otherwise text)\n",
    "```Python\n",
    "with open(\"test1.txt\", \"r\") as file:\n",
    "    content = file.read()\n",
    "    print(content)\n",
    "\n",
    "with open(\"test1.txt\", \"w\") as file:\n",
    "    file.write(\"Hello!\")\n",
    "\n",
    "with open(\"test1.txt\", \"a\") as file:\n",
    "    file.write(\"Something\")\n",
    "\n",
    "with open(\"test1.txt\", \"r+\") as file:\n",
    "    content = file.read()\n",
    "    file.write(\"Something\")\n",
    "```"
   ],
   "id": "a9fbdc95ed2d34dd"
  },
  {
   "metadata": {},
   "cell_type": "markdown",
   "source": "### 2. File reading methods",
   "id": "d49f3cb7d3cf8360"
  },
  {
   "metadata": {},
   "cell_type": "markdown",
   "source": "<p>Different methods to read file content in various ways.</p>",
   "id": "f77ffd4e2b726720"
  },
  {
   "metadata": {},
   "cell_type": "markdown",
   "source": [
    "**Syntax**:\n",
    "\n",
    "```Python\n",
    "with open(\"test2.txt\", \"r\") as file:\n",
    "    file.readlines()    # reads all lines as a list\n",
    "    file.readline()     # reads the next line as a string\n",
    "    file.read()     # reads the entire file content as a string\n",
    "```"
   ],
   "id": "46562e9708abc492"
  },
  {
   "metadata": {
    "ExecuteTime": {
     "end_time": "2025-06-11T09:07:45.355216Z",
     "start_time": "2025-06-11T09:07:45.351395Z"
    }
   },
   "cell_type": "code",
   "source": [
    "import os\n",
    "\n",
    "dir_name = os.path.join(\".\", \"data\")\n",
    "file1 = os.path.join(dir_name, \"example2.txt\")\n",
    "\n",
    "with open(file1, \"r\") as file:\n",
    "    lines = file.readlines()\n",
    "    next_line = file.readline()\n",
    "    content = file.read()\n",
    "\n",
    "print(f\"lines: {lines}\")\n",
    "print(f\"next line: {next_line}\")\n",
    "print(f\"content: {content}\")"
   ],
   "id": "8206292870f24a3a",
   "outputs": [
    {
     "name": "stdout",
     "output_type": "stream",
     "text": [
      "lines: ['Line 1. \\n', 'Line 2. \\n', 'Line 3. \\n', 'Finished. \\n']\n",
      "next line: \n",
      "content: \n"
     ]
    }
   ],
   "execution_count": 1
  },
  {
   "metadata": {},
   "cell_type": "markdown",
   "source": "### 3. File writing methods",
   "id": "45605751dc3af88b"
  },
  {
   "metadata": {},
   "cell_type": "markdown",
   "source": "<p>Different write methods to write content to a file.</p>",
   "id": "449e51cf0c268c02"
  },
  {
   "metadata": {},
   "cell_type": "markdown",
   "source": [
    "**Syntax**:\n",
    "\n",
    "```Python\n",
    "with open(\"test3.txt\", \"w\") as file:\n",
    "    file.write(content)  # writes a string to the file\n",
    "    file.writelines(lines)  # writes a list of strings to the file\n",
    "```"
   ],
   "id": "1a1f70a2626a9672"
  },
  {
   "metadata": {
    "ExecuteTime": {
     "end_time": "2025-06-11T09:07:45.443495Z",
     "start_time": "2025-06-11T09:07:45.440593Z"
    }
   },
   "cell_type": "code",
   "source": [
    "file2 = os.path.join(dir_name, \"example4.txt\")\n",
    "\n",
    "lines = [\"Hello\\n\", \"World!\\n\"]\n",
    "with open(file2, \"w\") as file:\n",
    "    file.writelines(lines)"
   ],
   "id": "792a9e8d8f614ec4",
   "outputs": [],
   "execution_count": 2
  },
  {
   "metadata": {},
   "cell_type": "markdown",
   "source": "### 4. Iterating over lines",
   "id": "8dd01fdb33e1d85a"
  },
  {
   "metadata": {},
   "cell_type": "markdown",
   "source": "<p>Iterates through each line in the file using a <code>loop</code>.</p>",
   "id": "dd95f1df7c8fa9de"
  },
  {
   "metadata": {},
   "cell_type": "markdown",
   "source": [
    "**Syntax**:\n",
    "\n",
    "```Python\n",
    "with open(filename, mode) as file:\n",
    "    for line in file:\n",
    "        print(line)\n",
    "```"
   ],
   "id": "a5612c4b2929736c"
  },
  {
   "metadata": {
    "ExecuteTime": {
     "end_time": "2025-06-11T09:07:45.454638Z",
     "start_time": "2025-06-11T09:07:45.452243Z"
    }
   },
   "cell_type": "code",
   "source": [
    "with open(file1, \"r\") as file:\n",
    "    for line in file:\n",
    "        print(line)"
   ],
   "id": "9e5d9a05287e92d5",
   "outputs": [
    {
     "name": "stdout",
     "output_type": "stream",
     "text": [
      "Line 1. \n",
      "\n",
      "Line 2. \n",
      "\n",
      "Line 3. \n",
      "\n",
      "Finished. \n",
      "\n"
     ]
    }
   ],
   "execution_count": 3
  },
  {
   "metadata": {},
   "cell_type": "markdown",
   "source": "### 5. `open()` and `close()`",
   "id": "fcda302cb3fefc64"
  },
  {
   "metadata": {},
   "cell_type": "markdown",
   "source": "<p>Opens a file, performs operations, and explicitly closes the file using the <code>close()</code> method.</p>",
   "id": "de400340aafdbb0b"
  },
  {
   "metadata": {},
   "cell_type": "markdown",
   "source": [
    "**Syntax**:\n",
    "\n",
    "```Python\n",
    "file = open(filename, mode)\n",
    "file.close()\n",
    "```"
   ],
   "id": "540f1c4facd93524"
  },
  {
   "metadata": {
    "ExecuteTime": {
     "end_time": "2025-06-11T09:07:45.480476Z",
     "start_time": "2025-06-11T09:07:45.475377Z"
    }
   },
   "cell_type": "code",
   "source": [
    "file = open(file1, \"r\")\n",
    "content = file.read()\n",
    "file.close()\n",
    "content"
   ],
   "id": "719b229821c36f45",
   "outputs": [
    {
     "data": {
      "text/plain": [
       "'Line 1. \\nLine 2. \\nLine 3. \\nFinished. \\n'"
      ]
     },
     "execution_count": 4,
     "metadata": {},
     "output_type": "execute_result"
    }
   ],
   "execution_count": 4
  },
  {
   "metadata": {},
   "cell_type": "markdown",
   "source": "### 6. `with open()`",
   "id": "215fa27f0b191482"
  },
  {
   "metadata": {},
   "cell_type": "markdown",
   "source": "<p>Opens a file using a with block, ensuring automatic file closure after usage.</p>",
   "id": "2ae3ee75e55f12fb"
  },
  {
   "metadata": {},
   "cell_type": "markdown",
   "source": [
    "**Syntax**:\n",
    "\n",
    "```Python\n",
    "with open(filename, mode) as file:\n",
    "    pass\n",
    "```"
   ],
   "id": "e7d366a2a329bdc5"
  },
  {
   "metadata": {
    "ExecuteTime": {
     "end_time": "2025-06-11T09:07:45.527435Z",
     "start_time": "2025-06-11T09:07:45.523990Z"
    }
   },
   "cell_type": "code",
   "source": [
    "with open(file1, \"r\") as file:\n",
    "    content = file.read()\n",
    "\n",
    "content"
   ],
   "id": "b9b82308ff3a2105",
   "outputs": [
    {
     "data": {
      "text/plain": [
       "'Line 1. \\nLine 2. \\nLine 3. \\nFinished. \\n'"
      ]
     },
     "execution_count": 5,
     "metadata": {},
     "output_type": "execute_result"
    }
   ],
   "execution_count": 5
  },
  {
   "metadata": {},
   "cell_type": "markdown",
   "source": "## Pandas",
   "id": "9b5b5de23d8f5c13"
  },
  {
   "metadata": {},
   "cell_type": "markdown",
   "source": "### 1. import `pandas`",
   "id": "7e873639ebfcc6f9"
  },
  {
   "metadata": {},
   "cell_type": "markdown",
   "source": "<p>Imports the <code>pandas</code> library with the alias pd.</p>",
   "id": "63b8cdfb5fb91d73"
  },
  {
   "metadata": {
    "ExecuteTime": {
     "end_time": "2025-06-11T09:07:45.852381Z",
     "start_time": "2025-06-11T09:07:45.583841Z"
    }
   },
   "cell_type": "code",
   "source": "import pandas as pd",
   "id": "71e454e1f2d9c138",
   "outputs": [],
   "execution_count": 6
  },
  {
   "metadata": {},
   "cell_type": "markdown",
   "source": "### 2. `read_csv()`",
   "id": "f49a5abcf8e53ecb"
  },
  {
   "metadata": {},
   "cell_type": "markdown",
   "source": "<p>Reads data from a <code>csv</code> file and creates a DataFrame.</p>",
   "id": "711f4f54fd54a572"
  },
  {
   "metadata": {},
   "cell_type": "markdown",
   "source": [
    "**Syntax**:\n",
    "\n",
    "```Python\n",
    "df = pd.read_csv(filename_csv)\n",
    "```"
   ],
   "id": "35cd11c727b99ace"
  },
  {
   "metadata": {
    "ExecuteTime": {
     "end_time": "2025-06-11T09:07:45.878831Z",
     "start_time": "2025-06-11T09:07:45.867731Z"
    }
   },
   "cell_type": "code",
   "source": [
    "file3 = os.path.join(dir_name, \"TopSellingAlbums.csv\")\n",
    "df = pd.read_csv(file3)\n",
    "df"
   ],
   "id": "ad40fc05fba5f1f7",
   "outputs": [
    {
     "data": {
      "text/plain": [
       "            Artist                            Album  Released   Length  \\\n",
       "0  Michael Jackson                         Thriller      1982  0:42:19   \n",
       "1            AC/DC                    Back in Black      1980  0:42:11   \n",
       "2       Pink Floyd        The Dark Side of the Moon      1973  0:42:49   \n",
       "3  Whitney Houston                    The Bodyguard      1992  0:57:44   \n",
       "4        Meat Loaf                  Bat Out of Hell      1977  0:46:33   \n",
       "5           Eagles  Their Greatest Hits (1971-1975)      1976  0:43:08   \n",
       "6         Bee Gees             Saturday Night Fever      1977  1:15:54   \n",
       "7    Fleetwood Mac                          Rumours      1977  0:40:01   \n",
       "\n",
       "                         Genre  Music Recording Sales (millions)  \\\n",
       "0               pop, rock, R&B                              46.0   \n",
       "1                    hard rock                              26.1   \n",
       "2             progressive rock                              24.2   \n",
       "3               R&B, soul, pop                              27.4   \n",
       "4  hard rock, progressive rock                              20.6   \n",
       "5   rock, soft rock, folk rock                              32.2   \n",
       "6                        disco                              20.6   \n",
       "7                    soft rock                              27.9   \n",
       "\n",
       "   Claimed Sales (millions) Released.1 Soundtrack  Rating  \n",
       "0                        65  30-Nov-82        NaN    10.0  \n",
       "1                        50  25-Jul-80        NaN     9.5  \n",
       "2                        45  01-Mar-73        NaN     9.0  \n",
       "3                        44  17-Nov-92          Y     8.5  \n",
       "4                        43  21-Oct-77        NaN     8.0  \n",
       "5                        42  17-Feb-76        NaN     7.5  \n",
       "6                        40  15-Nov-77          Y     7.0  \n",
       "7                        40  04-Feb-77        NaN     6.5  "
      ],
      "text/html": [
       "<div>\n",
       "<style scoped>\n",
       "    .dataframe tbody tr th:only-of-type {\n",
       "        vertical-align: middle;\n",
       "    }\n",
       "\n",
       "    .dataframe tbody tr th {\n",
       "        vertical-align: top;\n",
       "    }\n",
       "\n",
       "    .dataframe thead th {\n",
       "        text-align: right;\n",
       "    }\n",
       "</style>\n",
       "<table border=\"1\" class=\"dataframe\">\n",
       "  <thead>\n",
       "    <tr style=\"text-align: right;\">\n",
       "      <th></th>\n",
       "      <th>Artist</th>\n",
       "      <th>Album</th>\n",
       "      <th>Released</th>\n",
       "      <th>Length</th>\n",
       "      <th>Genre</th>\n",
       "      <th>Music Recording Sales (millions)</th>\n",
       "      <th>Claimed Sales (millions)</th>\n",
       "      <th>Released.1</th>\n",
       "      <th>Soundtrack</th>\n",
       "      <th>Rating</th>\n",
       "    </tr>\n",
       "  </thead>\n",
       "  <tbody>\n",
       "    <tr>\n",
       "      <th>0</th>\n",
       "      <td>Michael Jackson</td>\n",
       "      <td>Thriller</td>\n",
       "      <td>1982</td>\n",
       "      <td>0:42:19</td>\n",
       "      <td>pop, rock, R&amp;B</td>\n",
       "      <td>46.0</td>\n",
       "      <td>65</td>\n",
       "      <td>30-Nov-82</td>\n",
       "      <td>NaN</td>\n",
       "      <td>10.0</td>\n",
       "    </tr>\n",
       "    <tr>\n",
       "      <th>1</th>\n",
       "      <td>AC/DC</td>\n",
       "      <td>Back in Black</td>\n",
       "      <td>1980</td>\n",
       "      <td>0:42:11</td>\n",
       "      <td>hard rock</td>\n",
       "      <td>26.1</td>\n",
       "      <td>50</td>\n",
       "      <td>25-Jul-80</td>\n",
       "      <td>NaN</td>\n",
       "      <td>9.5</td>\n",
       "    </tr>\n",
       "    <tr>\n",
       "      <th>2</th>\n",
       "      <td>Pink Floyd</td>\n",
       "      <td>The Dark Side of the Moon</td>\n",
       "      <td>1973</td>\n",
       "      <td>0:42:49</td>\n",
       "      <td>progressive rock</td>\n",
       "      <td>24.2</td>\n",
       "      <td>45</td>\n",
       "      <td>01-Mar-73</td>\n",
       "      <td>NaN</td>\n",
       "      <td>9.0</td>\n",
       "    </tr>\n",
       "    <tr>\n",
       "      <th>3</th>\n",
       "      <td>Whitney Houston</td>\n",
       "      <td>The Bodyguard</td>\n",
       "      <td>1992</td>\n",
       "      <td>0:57:44</td>\n",
       "      <td>R&amp;B, soul, pop</td>\n",
       "      <td>27.4</td>\n",
       "      <td>44</td>\n",
       "      <td>17-Nov-92</td>\n",
       "      <td>Y</td>\n",
       "      <td>8.5</td>\n",
       "    </tr>\n",
       "    <tr>\n",
       "      <th>4</th>\n",
       "      <td>Meat Loaf</td>\n",
       "      <td>Bat Out of Hell</td>\n",
       "      <td>1977</td>\n",
       "      <td>0:46:33</td>\n",
       "      <td>hard rock, progressive rock</td>\n",
       "      <td>20.6</td>\n",
       "      <td>43</td>\n",
       "      <td>21-Oct-77</td>\n",
       "      <td>NaN</td>\n",
       "      <td>8.0</td>\n",
       "    </tr>\n",
       "    <tr>\n",
       "      <th>5</th>\n",
       "      <td>Eagles</td>\n",
       "      <td>Their Greatest Hits (1971-1975)</td>\n",
       "      <td>1976</td>\n",
       "      <td>0:43:08</td>\n",
       "      <td>rock, soft rock, folk rock</td>\n",
       "      <td>32.2</td>\n",
       "      <td>42</td>\n",
       "      <td>17-Feb-76</td>\n",
       "      <td>NaN</td>\n",
       "      <td>7.5</td>\n",
       "    </tr>\n",
       "    <tr>\n",
       "      <th>6</th>\n",
       "      <td>Bee Gees</td>\n",
       "      <td>Saturday Night Fever</td>\n",
       "      <td>1977</td>\n",
       "      <td>1:15:54</td>\n",
       "      <td>disco</td>\n",
       "      <td>20.6</td>\n",
       "      <td>40</td>\n",
       "      <td>15-Nov-77</td>\n",
       "      <td>Y</td>\n",
       "      <td>7.0</td>\n",
       "    </tr>\n",
       "    <tr>\n",
       "      <th>7</th>\n",
       "      <td>Fleetwood Mac</td>\n",
       "      <td>Rumours</td>\n",
       "      <td>1977</td>\n",
       "      <td>0:40:01</td>\n",
       "      <td>soft rock</td>\n",
       "      <td>27.9</td>\n",
       "      <td>40</td>\n",
       "      <td>04-Feb-77</td>\n",
       "      <td>NaN</td>\n",
       "      <td>6.5</td>\n",
       "    </tr>\n",
       "  </tbody>\n",
       "</table>\n",
       "</div>"
      ]
     },
     "execution_count": 7,
     "metadata": {},
     "output_type": "execute_result"
    }
   ],
   "execution_count": 7
  },
  {
   "metadata": {},
   "cell_type": "markdown",
   "source": "### 3. `read_excel()`",
   "id": "95a88b34d977af00"
  },
  {
   "metadata": {},
   "cell_type": "markdown",
   "source": "<p>Reads data from an Excel file and creates a DataFrame.</p>",
   "id": "fcc92fd9628a523b"
  },
  {
   "metadata": {},
   "cell_type": "markdown",
   "source": [
    "**Syntax**:\n",
    "\n",
    "```Python\n",
    "df = pd.read_excel(filename_excel)\n",
    "```"
   ],
   "id": "4579e341aeeb3e8f"
  },
  {
   "metadata": {
    "ExecuteTime": {
     "end_time": "2025-06-11T09:07:46.039748Z",
     "start_time": "2025-06-11T09:07:45.923182Z"
    }
   },
   "cell_type": "code",
   "source": [
    "file4 = os.path.join(dir_name, \"TopSellingAlbums.xlsx\")\n",
    "df = pd.read_excel(file4)\n",
    "df"
   ],
   "id": "ccbd4a931ee66ae2",
   "outputs": [
    {
     "data": {
      "text/plain": [
       "            Artist                            Album  Released    Length  \\\n",
       "0  Michael Jackson                         Thriller      1982  00:42:19   \n",
       "1            AC/DC                    Back in Black      1980   0:42:11   \n",
       "2       Pink Floyd        The Dark Side of the Moon      1973   0:42:49   \n",
       "3  Whitney Houston                    The Bodyguard      1992   0:57:44   \n",
       "4        Meat Loaf                  Bat Out of Hell      1977   0:46:33   \n",
       "5           Eagles  Their Greatest Hits (1971-1975)      1976   0:43:08   \n",
       "6         Bee Gees             Saturday Night Fever      1977  01:15:54   \n",
       "7    Fleetwood Mac                          Rumours      1977   0:40:01   \n",
       "\n",
       "                         Genre  Music Recording Sales (millions)  \\\n",
       "0               pop, rock, R&B                              46.0   \n",
       "1                    hard rock                              26.1   \n",
       "2             progressive rock                              24.2   \n",
       "3               R&B, soul, pop                              27.4   \n",
       "4  hard rock, progressive rock                              20.6   \n",
       "5   rock, soft rock, folk rock                              32.2   \n",
       "6                        disco                              20.6   \n",
       "7                    soft rock                              27.9   \n",
       "\n",
       "   Claimed Sales (millions) Released.1 Soundtrack  Rating  \n",
       "0                        65 1982-11-30        NaN    10.0  \n",
       "1                        50 1980-07-25        NaN     9.5  \n",
       "2                        45 1973-03-01        NaN     9.0  \n",
       "3                        44 1992-11-17          Y     8.5  \n",
       "4                        43 1977-10-21        NaN     8.0  \n",
       "5                        42 1976-02-17        NaN     7.5  \n",
       "6                        40 1977-11-15          Y     7.0  \n",
       "7                        40 1977-02-04        NaN     6.5  "
      ],
      "text/html": [
       "<div>\n",
       "<style scoped>\n",
       "    .dataframe tbody tr th:only-of-type {\n",
       "        vertical-align: middle;\n",
       "    }\n",
       "\n",
       "    .dataframe tbody tr th {\n",
       "        vertical-align: top;\n",
       "    }\n",
       "\n",
       "    .dataframe thead th {\n",
       "        text-align: right;\n",
       "    }\n",
       "</style>\n",
       "<table border=\"1\" class=\"dataframe\">\n",
       "  <thead>\n",
       "    <tr style=\"text-align: right;\">\n",
       "      <th></th>\n",
       "      <th>Artist</th>\n",
       "      <th>Album</th>\n",
       "      <th>Released</th>\n",
       "      <th>Length</th>\n",
       "      <th>Genre</th>\n",
       "      <th>Music Recording Sales (millions)</th>\n",
       "      <th>Claimed Sales (millions)</th>\n",
       "      <th>Released.1</th>\n",
       "      <th>Soundtrack</th>\n",
       "      <th>Rating</th>\n",
       "    </tr>\n",
       "  </thead>\n",
       "  <tbody>\n",
       "    <tr>\n",
       "      <th>0</th>\n",
       "      <td>Michael Jackson</td>\n",
       "      <td>Thriller</td>\n",
       "      <td>1982</td>\n",
       "      <td>00:42:19</td>\n",
       "      <td>pop, rock, R&amp;B</td>\n",
       "      <td>46.0</td>\n",
       "      <td>65</td>\n",
       "      <td>1982-11-30</td>\n",
       "      <td>NaN</td>\n",
       "      <td>10.0</td>\n",
       "    </tr>\n",
       "    <tr>\n",
       "      <th>1</th>\n",
       "      <td>AC/DC</td>\n",
       "      <td>Back in Black</td>\n",
       "      <td>1980</td>\n",
       "      <td>0:42:11</td>\n",
       "      <td>hard rock</td>\n",
       "      <td>26.1</td>\n",
       "      <td>50</td>\n",
       "      <td>1980-07-25</td>\n",
       "      <td>NaN</td>\n",
       "      <td>9.5</td>\n",
       "    </tr>\n",
       "    <tr>\n",
       "      <th>2</th>\n",
       "      <td>Pink Floyd</td>\n",
       "      <td>The Dark Side of the Moon</td>\n",
       "      <td>1973</td>\n",
       "      <td>0:42:49</td>\n",
       "      <td>progressive rock</td>\n",
       "      <td>24.2</td>\n",
       "      <td>45</td>\n",
       "      <td>1973-03-01</td>\n",
       "      <td>NaN</td>\n",
       "      <td>9.0</td>\n",
       "    </tr>\n",
       "    <tr>\n",
       "      <th>3</th>\n",
       "      <td>Whitney Houston</td>\n",
       "      <td>The Bodyguard</td>\n",
       "      <td>1992</td>\n",
       "      <td>0:57:44</td>\n",
       "      <td>R&amp;B, soul, pop</td>\n",
       "      <td>27.4</td>\n",
       "      <td>44</td>\n",
       "      <td>1992-11-17</td>\n",
       "      <td>Y</td>\n",
       "      <td>8.5</td>\n",
       "    </tr>\n",
       "    <tr>\n",
       "      <th>4</th>\n",
       "      <td>Meat Loaf</td>\n",
       "      <td>Bat Out of Hell</td>\n",
       "      <td>1977</td>\n",
       "      <td>0:46:33</td>\n",
       "      <td>hard rock, progressive rock</td>\n",
       "      <td>20.6</td>\n",
       "      <td>43</td>\n",
       "      <td>1977-10-21</td>\n",
       "      <td>NaN</td>\n",
       "      <td>8.0</td>\n",
       "    </tr>\n",
       "    <tr>\n",
       "      <th>5</th>\n",
       "      <td>Eagles</td>\n",
       "      <td>Their Greatest Hits (1971-1975)</td>\n",
       "      <td>1976</td>\n",
       "      <td>0:43:08</td>\n",
       "      <td>rock, soft rock, folk rock</td>\n",
       "      <td>32.2</td>\n",
       "      <td>42</td>\n",
       "      <td>1976-02-17</td>\n",
       "      <td>NaN</td>\n",
       "      <td>7.5</td>\n",
       "    </tr>\n",
       "    <tr>\n",
       "      <th>6</th>\n",
       "      <td>Bee Gees</td>\n",
       "      <td>Saturday Night Fever</td>\n",
       "      <td>1977</td>\n",
       "      <td>01:15:54</td>\n",
       "      <td>disco</td>\n",
       "      <td>20.6</td>\n",
       "      <td>40</td>\n",
       "      <td>1977-11-15</td>\n",
       "      <td>Y</td>\n",
       "      <td>7.0</td>\n",
       "    </tr>\n",
       "    <tr>\n",
       "      <th>7</th>\n",
       "      <td>Fleetwood Mac</td>\n",
       "      <td>Rumours</td>\n",
       "      <td>1977</td>\n",
       "      <td>0:40:01</td>\n",
       "      <td>soft rock</td>\n",
       "      <td>27.9</td>\n",
       "      <td>40</td>\n",
       "      <td>1977-02-04</td>\n",
       "      <td>NaN</td>\n",
       "      <td>6.5</td>\n",
       "    </tr>\n",
       "  </tbody>\n",
       "</table>\n",
       "</div>"
      ]
     },
     "execution_count": 8,
     "metadata": {},
     "output_type": "execute_result"
    }
   ],
   "execution_count": 8
  },
  {
   "metadata": {},
   "cell_type": "markdown",
   "source": "### 4. `to_csv()`",
   "id": "234ffede17f610a4"
  },
  {
   "metadata": {},
   "cell_type": "markdown",
   "source": "<p>Writes DataFrame to a <code>csv</code> file.</p>",
   "id": "86a27fc04e836c1c"
  },
  {
   "metadata": {},
   "cell_type": "markdown",
   "source": [
    "**Syntax**:\n",
    "\n",
    "```Python\n",
    "df.to_csv(filename, index=False)\n",
    "```"
   ],
   "id": "c1d1a5f5ac486d2d"
  },
  {
   "metadata": {},
   "cell_type": "markdown",
   "source": "### 5. Access Columns",
   "id": "a3b0f6bfb6007db3"
  },
  {
   "metadata": {},
   "cell_type": "markdown",
   "source": "<p>Accesses a specific column using <code>[[]]</code> in the DataFrame.</p>",
   "id": "8fe9337bc34a50ba"
  },
  {
   "metadata": {},
   "cell_type": "markdown",
   "source": [
    "**Syntax**:\n",
    "\n",
    "```Python\n",
    "df[[\"col\"]]  # Accesses single column\n",
    "df[[\"col1\", \"col2\"]]    # Accesses multiple column\n",
    "```"
   ],
   "id": "ca5dfae03d2b7c20"
  },
  {
   "metadata": {
    "ExecuteTime": {
     "end_time": "2025-06-11T09:07:46.150847Z",
     "start_time": "2025-06-11T09:07:46.145089Z"
    }
   },
   "cell_type": "code",
   "source": "df[[\"Artist\"]]",
   "id": "dcdabb19755ef82",
   "outputs": [
    {
     "data": {
      "text/plain": [
       "            Artist\n",
       "0  Michael Jackson\n",
       "1            AC/DC\n",
       "2       Pink Floyd\n",
       "3  Whitney Houston\n",
       "4        Meat Loaf\n",
       "5           Eagles\n",
       "6         Bee Gees\n",
       "7    Fleetwood Mac"
      ],
      "text/html": [
       "<div>\n",
       "<style scoped>\n",
       "    .dataframe tbody tr th:only-of-type {\n",
       "        vertical-align: middle;\n",
       "    }\n",
       "\n",
       "    .dataframe tbody tr th {\n",
       "        vertical-align: top;\n",
       "    }\n",
       "\n",
       "    .dataframe thead th {\n",
       "        text-align: right;\n",
       "    }\n",
       "</style>\n",
       "<table border=\"1\" class=\"dataframe\">\n",
       "  <thead>\n",
       "    <tr style=\"text-align: right;\">\n",
       "      <th></th>\n",
       "      <th>Artist</th>\n",
       "    </tr>\n",
       "  </thead>\n",
       "  <tbody>\n",
       "    <tr>\n",
       "      <th>0</th>\n",
       "      <td>Michael Jackson</td>\n",
       "    </tr>\n",
       "    <tr>\n",
       "      <th>1</th>\n",
       "      <td>AC/DC</td>\n",
       "    </tr>\n",
       "    <tr>\n",
       "      <th>2</th>\n",
       "      <td>Pink Floyd</td>\n",
       "    </tr>\n",
       "    <tr>\n",
       "      <th>3</th>\n",
       "      <td>Whitney Houston</td>\n",
       "    </tr>\n",
       "    <tr>\n",
       "      <th>4</th>\n",
       "      <td>Meat Loaf</td>\n",
       "    </tr>\n",
       "    <tr>\n",
       "      <th>5</th>\n",
       "      <td>Eagles</td>\n",
       "    </tr>\n",
       "    <tr>\n",
       "      <th>6</th>\n",
       "      <td>Bee Gees</td>\n",
       "    </tr>\n",
       "    <tr>\n",
       "      <th>7</th>\n",
       "      <td>Fleetwood Mac</td>\n",
       "    </tr>\n",
       "  </tbody>\n",
       "</table>\n",
       "</div>"
      ]
     },
     "execution_count": 9,
     "metadata": {},
     "output_type": "execute_result"
    }
   ],
   "execution_count": 9
  },
  {
   "metadata": {
    "ExecuteTime": {
     "end_time": "2025-06-11T09:07:46.284361Z",
     "start_time": "2025-06-11T09:07:46.279547Z"
    }
   },
   "cell_type": "code",
   "source": "df[[\"Artist\", \"Album\"]]",
   "id": "2601a89032002848",
   "outputs": [
    {
     "data": {
      "text/plain": [
       "            Artist                            Album\n",
       "0  Michael Jackson                         Thriller\n",
       "1            AC/DC                    Back in Black\n",
       "2       Pink Floyd        The Dark Side of the Moon\n",
       "3  Whitney Houston                    The Bodyguard\n",
       "4        Meat Loaf                  Bat Out of Hell\n",
       "5           Eagles  Their Greatest Hits (1971-1975)\n",
       "6         Bee Gees             Saturday Night Fever\n",
       "7    Fleetwood Mac                          Rumours"
      ],
      "text/html": [
       "<div>\n",
       "<style scoped>\n",
       "    .dataframe tbody tr th:only-of-type {\n",
       "        vertical-align: middle;\n",
       "    }\n",
       "\n",
       "    .dataframe tbody tr th {\n",
       "        vertical-align: top;\n",
       "    }\n",
       "\n",
       "    .dataframe thead th {\n",
       "        text-align: right;\n",
       "    }\n",
       "</style>\n",
       "<table border=\"1\" class=\"dataframe\">\n",
       "  <thead>\n",
       "    <tr style=\"text-align: right;\">\n",
       "      <th></th>\n",
       "      <th>Artist</th>\n",
       "      <th>Album</th>\n",
       "    </tr>\n",
       "  </thead>\n",
       "  <tbody>\n",
       "    <tr>\n",
       "      <th>0</th>\n",
       "      <td>Michael Jackson</td>\n",
       "      <td>Thriller</td>\n",
       "    </tr>\n",
       "    <tr>\n",
       "      <th>1</th>\n",
       "      <td>AC/DC</td>\n",
       "      <td>Back in Black</td>\n",
       "    </tr>\n",
       "    <tr>\n",
       "      <th>2</th>\n",
       "      <td>Pink Floyd</td>\n",
       "      <td>The Dark Side of the Moon</td>\n",
       "    </tr>\n",
       "    <tr>\n",
       "      <th>3</th>\n",
       "      <td>Whitney Houston</td>\n",
       "      <td>The Bodyguard</td>\n",
       "    </tr>\n",
       "    <tr>\n",
       "      <th>4</th>\n",
       "      <td>Meat Loaf</td>\n",
       "      <td>Bat Out of Hell</td>\n",
       "    </tr>\n",
       "    <tr>\n",
       "      <th>5</th>\n",
       "      <td>Eagles</td>\n",
       "      <td>Their Greatest Hits (1971-1975)</td>\n",
       "    </tr>\n",
       "    <tr>\n",
       "      <th>6</th>\n",
       "      <td>Bee Gees</td>\n",
       "      <td>Saturday Night Fever</td>\n",
       "    </tr>\n",
       "    <tr>\n",
       "      <th>7</th>\n",
       "      <td>Fleetwood Mac</td>\n",
       "      <td>Rumours</td>\n",
       "    </tr>\n",
       "  </tbody>\n",
       "</table>\n",
       "</div>"
      ]
     },
     "execution_count": 10,
     "metadata": {},
     "output_type": "execute_result"
    }
   ],
   "execution_count": 10
  },
  {
   "metadata": {},
   "cell_type": "markdown",
   "source": "### 6. `describe()`",
   "id": "61c3619d0cdae61f"
  },
  {
   "metadata": {},
   "cell_type": "markdown",
   "source": "<p>Generates statistics summary of numeric columns in the DataFrame.</p>",
   "id": "46dfffd7448f50b7"
  },
  {
   "metadata": {},
   "cell_type": "markdown",
   "source": [
    "**Syntax**:\n",
    "\n",
    "```Python\n",
    "df.describe()\n",
    "```"
   ],
   "id": "2b546d8549cc9e78"
  },
  {
   "metadata": {
    "ExecuteTime": {
     "end_time": "2025-06-11T09:07:46.447724Z",
     "start_time": "2025-06-11T09:07:46.436238Z"
    }
   },
   "cell_type": "code",
   "source": "df.describe()",
   "id": "d2c4d77ba313940a",
   "outputs": [
    {
     "data": {
      "text/plain": [
       "          Released  Music Recording Sales (millions)  \\\n",
       "count     8.000000                          8.000000   \n",
       "mean   1979.250000                         28.125000   \n",
       "min    1973.000000                         20.600000   \n",
       "25%    1976.750000                         23.300000   \n",
       "50%    1977.000000                         26.750000   \n",
       "75%    1980.500000                         28.975000   \n",
       "max    1992.000000                         46.000000   \n",
       "std       5.800246                          8.189322   \n",
       "\n",
       "       Claimed Sales (millions)           Released.1     Rating  \n",
       "count                  8.000000                    8   8.000000  \n",
       "mean                  46.125000  1979-10-20 21:00:00   8.250000  \n",
       "min                   40.000000  1973-03-01 00:00:00   6.500000  \n",
       "25%                   41.500000  1976-11-07 18:00:00   7.375000  \n",
       "50%                   43.500000  1977-11-02 12:00:00   8.250000  \n",
       "75%                   46.250000  1981-02-24 12:00:00   9.125000  \n",
       "max                   65.000000  1992-11-17 00:00:00  10.000000  \n",
       "std                    8.271077                  NaN   1.224745  "
      ],
      "text/html": [
       "<div>\n",
       "<style scoped>\n",
       "    .dataframe tbody tr th:only-of-type {\n",
       "        vertical-align: middle;\n",
       "    }\n",
       "\n",
       "    .dataframe tbody tr th {\n",
       "        vertical-align: top;\n",
       "    }\n",
       "\n",
       "    .dataframe thead th {\n",
       "        text-align: right;\n",
       "    }\n",
       "</style>\n",
       "<table border=\"1\" class=\"dataframe\">\n",
       "  <thead>\n",
       "    <tr style=\"text-align: right;\">\n",
       "      <th></th>\n",
       "      <th>Released</th>\n",
       "      <th>Music Recording Sales (millions)</th>\n",
       "      <th>Claimed Sales (millions)</th>\n",
       "      <th>Released.1</th>\n",
       "      <th>Rating</th>\n",
       "    </tr>\n",
       "  </thead>\n",
       "  <tbody>\n",
       "    <tr>\n",
       "      <th>count</th>\n",
       "      <td>8.000000</td>\n",
       "      <td>8.000000</td>\n",
       "      <td>8.000000</td>\n",
       "      <td>8</td>\n",
       "      <td>8.000000</td>\n",
       "    </tr>\n",
       "    <tr>\n",
       "      <th>mean</th>\n",
       "      <td>1979.250000</td>\n",
       "      <td>28.125000</td>\n",
       "      <td>46.125000</td>\n",
       "      <td>1979-10-20 21:00:00</td>\n",
       "      <td>8.250000</td>\n",
       "    </tr>\n",
       "    <tr>\n",
       "      <th>min</th>\n",
       "      <td>1973.000000</td>\n",
       "      <td>20.600000</td>\n",
       "      <td>40.000000</td>\n",
       "      <td>1973-03-01 00:00:00</td>\n",
       "      <td>6.500000</td>\n",
       "    </tr>\n",
       "    <tr>\n",
       "      <th>25%</th>\n",
       "      <td>1976.750000</td>\n",
       "      <td>23.300000</td>\n",
       "      <td>41.500000</td>\n",
       "      <td>1976-11-07 18:00:00</td>\n",
       "      <td>7.375000</td>\n",
       "    </tr>\n",
       "    <tr>\n",
       "      <th>50%</th>\n",
       "      <td>1977.000000</td>\n",
       "      <td>26.750000</td>\n",
       "      <td>43.500000</td>\n",
       "      <td>1977-11-02 12:00:00</td>\n",
       "      <td>8.250000</td>\n",
       "    </tr>\n",
       "    <tr>\n",
       "      <th>75%</th>\n",
       "      <td>1980.500000</td>\n",
       "      <td>28.975000</td>\n",
       "      <td>46.250000</td>\n",
       "      <td>1981-02-24 12:00:00</td>\n",
       "      <td>9.125000</td>\n",
       "    </tr>\n",
       "    <tr>\n",
       "      <th>max</th>\n",
       "      <td>1992.000000</td>\n",
       "      <td>46.000000</td>\n",
       "      <td>65.000000</td>\n",
       "      <td>1992-11-17 00:00:00</td>\n",
       "      <td>10.000000</td>\n",
       "    </tr>\n",
       "    <tr>\n",
       "      <th>std</th>\n",
       "      <td>5.800246</td>\n",
       "      <td>8.189322</td>\n",
       "      <td>8.271077</td>\n",
       "      <td>NaN</td>\n",
       "      <td>1.224745</td>\n",
       "    </tr>\n",
       "  </tbody>\n",
       "</table>\n",
       "</div>"
      ]
     },
     "execution_count": 11,
     "metadata": {},
     "output_type": "execute_result"
    }
   ],
   "execution_count": 11
  },
  {
   "metadata": {},
   "cell_type": "markdown",
   "source": "### 7. `drop()`",
   "id": "f08fcaeeef59da3b"
  },
  {
   "metadata": {},
   "cell_type": "markdown",
   "source": "<p>Removes specified rows or columns from the DataFrame. <code>axis=1</code> indicates columns. <code>axis=0</code> indicates rows.</p>",
   "id": "fb6e6b242b4bd261"
  },
  {
   "metadata": {},
   "cell_type": "markdown",
   "source": [
    "**Syntax**:\n",
    "\n",
    "```Python\n",
    "df.drop([\"column1\", \"column2\"], axis=1, inplace=True)\n",
    "df.drop(index=[\"ro1\", \"row2\"], axis=0, inplace=True)\n",
    "```"
   ],
   "id": "48e0adcc4825a7e"
  },
  {
   "metadata": {
    "ExecuteTime": {
     "end_time": "2025-06-11T09:07:46.600219Z",
     "start_time": "2025-06-11T09:07:46.592962Z"
    }
   },
   "cell_type": "code",
   "source": [
    "df.drop([\"Soundtrack\"], axis=1, inplace=True)\n",
    "df"
   ],
   "id": "890959f269dd6b12",
   "outputs": [
    {
     "data": {
      "text/plain": [
       "            Artist                            Album  Released    Length  \\\n",
       "0  Michael Jackson                         Thriller      1982  00:42:19   \n",
       "1            AC/DC                    Back in Black      1980   0:42:11   \n",
       "2       Pink Floyd        The Dark Side of the Moon      1973   0:42:49   \n",
       "3  Whitney Houston                    The Bodyguard      1992   0:57:44   \n",
       "4        Meat Loaf                  Bat Out of Hell      1977   0:46:33   \n",
       "5           Eagles  Their Greatest Hits (1971-1975)      1976   0:43:08   \n",
       "6         Bee Gees             Saturday Night Fever      1977  01:15:54   \n",
       "7    Fleetwood Mac                          Rumours      1977   0:40:01   \n",
       "\n",
       "                         Genre  Music Recording Sales (millions)  \\\n",
       "0               pop, rock, R&B                              46.0   \n",
       "1                    hard rock                              26.1   \n",
       "2             progressive rock                              24.2   \n",
       "3               R&B, soul, pop                              27.4   \n",
       "4  hard rock, progressive rock                              20.6   \n",
       "5   rock, soft rock, folk rock                              32.2   \n",
       "6                        disco                              20.6   \n",
       "7                    soft rock                              27.9   \n",
       "\n",
       "   Claimed Sales (millions) Released.1  Rating  \n",
       "0                        65 1982-11-30    10.0  \n",
       "1                        50 1980-07-25     9.5  \n",
       "2                        45 1973-03-01     9.0  \n",
       "3                        44 1992-11-17     8.5  \n",
       "4                        43 1977-10-21     8.0  \n",
       "5                        42 1976-02-17     7.5  \n",
       "6                        40 1977-11-15     7.0  \n",
       "7                        40 1977-02-04     6.5  "
      ],
      "text/html": [
       "<div>\n",
       "<style scoped>\n",
       "    .dataframe tbody tr th:only-of-type {\n",
       "        vertical-align: middle;\n",
       "    }\n",
       "\n",
       "    .dataframe tbody tr th {\n",
       "        vertical-align: top;\n",
       "    }\n",
       "\n",
       "    .dataframe thead th {\n",
       "        text-align: right;\n",
       "    }\n",
       "</style>\n",
       "<table border=\"1\" class=\"dataframe\">\n",
       "  <thead>\n",
       "    <tr style=\"text-align: right;\">\n",
       "      <th></th>\n",
       "      <th>Artist</th>\n",
       "      <th>Album</th>\n",
       "      <th>Released</th>\n",
       "      <th>Length</th>\n",
       "      <th>Genre</th>\n",
       "      <th>Music Recording Sales (millions)</th>\n",
       "      <th>Claimed Sales (millions)</th>\n",
       "      <th>Released.1</th>\n",
       "      <th>Rating</th>\n",
       "    </tr>\n",
       "  </thead>\n",
       "  <tbody>\n",
       "    <tr>\n",
       "      <th>0</th>\n",
       "      <td>Michael Jackson</td>\n",
       "      <td>Thriller</td>\n",
       "      <td>1982</td>\n",
       "      <td>00:42:19</td>\n",
       "      <td>pop, rock, R&amp;B</td>\n",
       "      <td>46.0</td>\n",
       "      <td>65</td>\n",
       "      <td>1982-11-30</td>\n",
       "      <td>10.0</td>\n",
       "    </tr>\n",
       "    <tr>\n",
       "      <th>1</th>\n",
       "      <td>AC/DC</td>\n",
       "      <td>Back in Black</td>\n",
       "      <td>1980</td>\n",
       "      <td>0:42:11</td>\n",
       "      <td>hard rock</td>\n",
       "      <td>26.1</td>\n",
       "      <td>50</td>\n",
       "      <td>1980-07-25</td>\n",
       "      <td>9.5</td>\n",
       "    </tr>\n",
       "    <tr>\n",
       "      <th>2</th>\n",
       "      <td>Pink Floyd</td>\n",
       "      <td>The Dark Side of the Moon</td>\n",
       "      <td>1973</td>\n",
       "      <td>0:42:49</td>\n",
       "      <td>progressive rock</td>\n",
       "      <td>24.2</td>\n",
       "      <td>45</td>\n",
       "      <td>1973-03-01</td>\n",
       "      <td>9.0</td>\n",
       "    </tr>\n",
       "    <tr>\n",
       "      <th>3</th>\n",
       "      <td>Whitney Houston</td>\n",
       "      <td>The Bodyguard</td>\n",
       "      <td>1992</td>\n",
       "      <td>0:57:44</td>\n",
       "      <td>R&amp;B, soul, pop</td>\n",
       "      <td>27.4</td>\n",
       "      <td>44</td>\n",
       "      <td>1992-11-17</td>\n",
       "      <td>8.5</td>\n",
       "    </tr>\n",
       "    <tr>\n",
       "      <th>4</th>\n",
       "      <td>Meat Loaf</td>\n",
       "      <td>Bat Out of Hell</td>\n",
       "      <td>1977</td>\n",
       "      <td>0:46:33</td>\n",
       "      <td>hard rock, progressive rock</td>\n",
       "      <td>20.6</td>\n",
       "      <td>43</td>\n",
       "      <td>1977-10-21</td>\n",
       "      <td>8.0</td>\n",
       "    </tr>\n",
       "    <tr>\n",
       "      <th>5</th>\n",
       "      <td>Eagles</td>\n",
       "      <td>Their Greatest Hits (1971-1975)</td>\n",
       "      <td>1976</td>\n",
       "      <td>0:43:08</td>\n",
       "      <td>rock, soft rock, folk rock</td>\n",
       "      <td>32.2</td>\n",
       "      <td>42</td>\n",
       "      <td>1976-02-17</td>\n",
       "      <td>7.5</td>\n",
       "    </tr>\n",
       "    <tr>\n",
       "      <th>6</th>\n",
       "      <td>Bee Gees</td>\n",
       "      <td>Saturday Night Fever</td>\n",
       "      <td>1977</td>\n",
       "      <td>01:15:54</td>\n",
       "      <td>disco</td>\n",
       "      <td>20.6</td>\n",
       "      <td>40</td>\n",
       "      <td>1977-11-15</td>\n",
       "      <td>7.0</td>\n",
       "    </tr>\n",
       "    <tr>\n",
       "      <th>7</th>\n",
       "      <td>Fleetwood Mac</td>\n",
       "      <td>Rumours</td>\n",
       "      <td>1977</td>\n",
       "      <td>0:40:01</td>\n",
       "      <td>soft rock</td>\n",
       "      <td>27.9</td>\n",
       "      <td>40</td>\n",
       "      <td>1977-02-04</td>\n",
       "      <td>6.5</td>\n",
       "    </tr>\n",
       "  </tbody>\n",
       "</table>\n",
       "</div>"
      ]
     },
     "execution_count": 12,
     "metadata": {},
     "output_type": "execute_result"
    }
   ],
   "execution_count": 12
  },
  {
   "metadata": {
    "ExecuteTime": {
     "end_time": "2025-06-11T09:07:46.746282Z",
     "start_time": "2025-06-11T09:07:46.740030Z"
    }
   },
   "cell_type": "code",
   "source": [
    "df.drop(index=[6, 7], axis=0, inplace=True)\n",
    "df"
   ],
   "id": "6f5f0fd72d05e2e9",
   "outputs": [
    {
     "data": {
      "text/plain": [
       "            Artist                            Album  Released    Length  \\\n",
       "0  Michael Jackson                         Thriller      1982  00:42:19   \n",
       "1            AC/DC                    Back in Black      1980   0:42:11   \n",
       "2       Pink Floyd        The Dark Side of the Moon      1973   0:42:49   \n",
       "3  Whitney Houston                    The Bodyguard      1992   0:57:44   \n",
       "4        Meat Loaf                  Bat Out of Hell      1977   0:46:33   \n",
       "5           Eagles  Their Greatest Hits (1971-1975)      1976   0:43:08   \n",
       "\n",
       "                         Genre  Music Recording Sales (millions)  \\\n",
       "0               pop, rock, R&B                              46.0   \n",
       "1                    hard rock                              26.1   \n",
       "2             progressive rock                              24.2   \n",
       "3               R&B, soul, pop                              27.4   \n",
       "4  hard rock, progressive rock                              20.6   \n",
       "5   rock, soft rock, folk rock                              32.2   \n",
       "\n",
       "   Claimed Sales (millions) Released.1  Rating  \n",
       "0                        65 1982-11-30    10.0  \n",
       "1                        50 1980-07-25     9.5  \n",
       "2                        45 1973-03-01     9.0  \n",
       "3                        44 1992-11-17     8.5  \n",
       "4                        43 1977-10-21     8.0  \n",
       "5                        42 1976-02-17     7.5  "
      ],
      "text/html": [
       "<div>\n",
       "<style scoped>\n",
       "    .dataframe tbody tr th:only-of-type {\n",
       "        vertical-align: middle;\n",
       "    }\n",
       "\n",
       "    .dataframe tbody tr th {\n",
       "        vertical-align: top;\n",
       "    }\n",
       "\n",
       "    .dataframe thead th {\n",
       "        text-align: right;\n",
       "    }\n",
       "</style>\n",
       "<table border=\"1\" class=\"dataframe\">\n",
       "  <thead>\n",
       "    <tr style=\"text-align: right;\">\n",
       "      <th></th>\n",
       "      <th>Artist</th>\n",
       "      <th>Album</th>\n",
       "      <th>Released</th>\n",
       "      <th>Length</th>\n",
       "      <th>Genre</th>\n",
       "      <th>Music Recording Sales (millions)</th>\n",
       "      <th>Claimed Sales (millions)</th>\n",
       "      <th>Released.1</th>\n",
       "      <th>Rating</th>\n",
       "    </tr>\n",
       "  </thead>\n",
       "  <tbody>\n",
       "    <tr>\n",
       "      <th>0</th>\n",
       "      <td>Michael Jackson</td>\n",
       "      <td>Thriller</td>\n",
       "      <td>1982</td>\n",
       "      <td>00:42:19</td>\n",
       "      <td>pop, rock, R&amp;B</td>\n",
       "      <td>46.0</td>\n",
       "      <td>65</td>\n",
       "      <td>1982-11-30</td>\n",
       "      <td>10.0</td>\n",
       "    </tr>\n",
       "    <tr>\n",
       "      <th>1</th>\n",
       "      <td>AC/DC</td>\n",
       "      <td>Back in Black</td>\n",
       "      <td>1980</td>\n",
       "      <td>0:42:11</td>\n",
       "      <td>hard rock</td>\n",
       "      <td>26.1</td>\n",
       "      <td>50</td>\n",
       "      <td>1980-07-25</td>\n",
       "      <td>9.5</td>\n",
       "    </tr>\n",
       "    <tr>\n",
       "      <th>2</th>\n",
       "      <td>Pink Floyd</td>\n",
       "      <td>The Dark Side of the Moon</td>\n",
       "      <td>1973</td>\n",
       "      <td>0:42:49</td>\n",
       "      <td>progressive rock</td>\n",
       "      <td>24.2</td>\n",
       "      <td>45</td>\n",
       "      <td>1973-03-01</td>\n",
       "      <td>9.0</td>\n",
       "    </tr>\n",
       "    <tr>\n",
       "      <th>3</th>\n",
       "      <td>Whitney Houston</td>\n",
       "      <td>The Bodyguard</td>\n",
       "      <td>1992</td>\n",
       "      <td>0:57:44</td>\n",
       "      <td>R&amp;B, soul, pop</td>\n",
       "      <td>27.4</td>\n",
       "      <td>44</td>\n",
       "      <td>1992-11-17</td>\n",
       "      <td>8.5</td>\n",
       "    </tr>\n",
       "    <tr>\n",
       "      <th>4</th>\n",
       "      <td>Meat Loaf</td>\n",
       "      <td>Bat Out of Hell</td>\n",
       "      <td>1977</td>\n",
       "      <td>0:46:33</td>\n",
       "      <td>hard rock, progressive rock</td>\n",
       "      <td>20.6</td>\n",
       "      <td>43</td>\n",
       "      <td>1977-10-21</td>\n",
       "      <td>8.0</td>\n",
       "    </tr>\n",
       "    <tr>\n",
       "      <th>5</th>\n",
       "      <td>Eagles</td>\n",
       "      <td>Their Greatest Hits (1971-1975)</td>\n",
       "      <td>1976</td>\n",
       "      <td>0:43:08</td>\n",
       "      <td>rock, soft rock, folk rock</td>\n",
       "      <td>32.2</td>\n",
       "      <td>42</td>\n",
       "      <td>1976-02-17</td>\n",
       "      <td>7.5</td>\n",
       "    </tr>\n",
       "  </tbody>\n",
       "</table>\n",
       "</div>"
      ]
     },
     "execution_count": 13,
     "metadata": {},
     "output_type": "execute_result"
    }
   ],
   "execution_count": 13
  },
  {
   "metadata": {},
   "cell_type": "markdown",
   "source": "### 8. `dropna()`",
   "id": "b0641229352d84a0"
  },
  {
   "metadata": {},
   "cell_type": "markdown",
   "source": "<p>Removes rows with missing <b>NaN</b> values from the DataFrame. <code>axis=0</code> indicates rows.</p>",
   "id": "b7b79ea847bf53c7"
  },
  {
   "metadata": {},
   "cell_type": "markdown",
   "source": [
    "**Syntax**:\n",
    "\n",
    "```Python\n",
    "df.dropna(axis=0, inplace=True)\n",
    "```"
   ],
   "id": "e551fb2799d79b77"
  },
  {
   "metadata": {
    "ExecuteTime": {
     "end_time": "2025-06-11T09:07:46.916704Z",
     "start_time": "2025-06-11T09:07:46.908075Z"
    }
   },
   "cell_type": "code",
   "source": [
    "df.dropna(axis=0, inplace=True)\n",
    "df"
   ],
   "id": "94ab470863956db8",
   "outputs": [
    {
     "data": {
      "text/plain": [
       "            Artist                            Album  Released    Length  \\\n",
       "0  Michael Jackson                         Thriller      1982  00:42:19   \n",
       "1            AC/DC                    Back in Black      1980   0:42:11   \n",
       "2       Pink Floyd        The Dark Side of the Moon      1973   0:42:49   \n",
       "3  Whitney Houston                    The Bodyguard      1992   0:57:44   \n",
       "4        Meat Loaf                  Bat Out of Hell      1977   0:46:33   \n",
       "5           Eagles  Their Greatest Hits (1971-1975)      1976   0:43:08   \n",
       "\n",
       "                         Genre  Music Recording Sales (millions)  \\\n",
       "0               pop, rock, R&B                              46.0   \n",
       "1                    hard rock                              26.1   \n",
       "2             progressive rock                              24.2   \n",
       "3               R&B, soul, pop                              27.4   \n",
       "4  hard rock, progressive rock                              20.6   \n",
       "5   rock, soft rock, folk rock                              32.2   \n",
       "\n",
       "   Claimed Sales (millions) Released.1  Rating  \n",
       "0                        65 1982-11-30    10.0  \n",
       "1                        50 1980-07-25     9.5  \n",
       "2                        45 1973-03-01     9.0  \n",
       "3                        44 1992-11-17     8.5  \n",
       "4                        43 1977-10-21     8.0  \n",
       "5                        42 1976-02-17     7.5  "
      ],
      "text/html": [
       "<div>\n",
       "<style scoped>\n",
       "    .dataframe tbody tr th:only-of-type {\n",
       "        vertical-align: middle;\n",
       "    }\n",
       "\n",
       "    .dataframe tbody tr th {\n",
       "        vertical-align: top;\n",
       "    }\n",
       "\n",
       "    .dataframe thead th {\n",
       "        text-align: right;\n",
       "    }\n",
       "</style>\n",
       "<table border=\"1\" class=\"dataframe\">\n",
       "  <thead>\n",
       "    <tr style=\"text-align: right;\">\n",
       "      <th></th>\n",
       "      <th>Artist</th>\n",
       "      <th>Album</th>\n",
       "      <th>Released</th>\n",
       "      <th>Length</th>\n",
       "      <th>Genre</th>\n",
       "      <th>Music Recording Sales (millions)</th>\n",
       "      <th>Claimed Sales (millions)</th>\n",
       "      <th>Released.1</th>\n",
       "      <th>Rating</th>\n",
       "    </tr>\n",
       "  </thead>\n",
       "  <tbody>\n",
       "    <tr>\n",
       "      <th>0</th>\n",
       "      <td>Michael Jackson</td>\n",
       "      <td>Thriller</td>\n",
       "      <td>1982</td>\n",
       "      <td>00:42:19</td>\n",
       "      <td>pop, rock, R&amp;B</td>\n",
       "      <td>46.0</td>\n",
       "      <td>65</td>\n",
       "      <td>1982-11-30</td>\n",
       "      <td>10.0</td>\n",
       "    </tr>\n",
       "    <tr>\n",
       "      <th>1</th>\n",
       "      <td>AC/DC</td>\n",
       "      <td>Back in Black</td>\n",
       "      <td>1980</td>\n",
       "      <td>0:42:11</td>\n",
       "      <td>hard rock</td>\n",
       "      <td>26.1</td>\n",
       "      <td>50</td>\n",
       "      <td>1980-07-25</td>\n",
       "      <td>9.5</td>\n",
       "    </tr>\n",
       "    <tr>\n",
       "      <th>2</th>\n",
       "      <td>Pink Floyd</td>\n",
       "      <td>The Dark Side of the Moon</td>\n",
       "      <td>1973</td>\n",
       "      <td>0:42:49</td>\n",
       "      <td>progressive rock</td>\n",
       "      <td>24.2</td>\n",
       "      <td>45</td>\n",
       "      <td>1973-03-01</td>\n",
       "      <td>9.0</td>\n",
       "    </tr>\n",
       "    <tr>\n",
       "      <th>3</th>\n",
       "      <td>Whitney Houston</td>\n",
       "      <td>The Bodyguard</td>\n",
       "      <td>1992</td>\n",
       "      <td>0:57:44</td>\n",
       "      <td>R&amp;B, soul, pop</td>\n",
       "      <td>27.4</td>\n",
       "      <td>44</td>\n",
       "      <td>1992-11-17</td>\n",
       "      <td>8.5</td>\n",
       "    </tr>\n",
       "    <tr>\n",
       "      <th>4</th>\n",
       "      <td>Meat Loaf</td>\n",
       "      <td>Bat Out of Hell</td>\n",
       "      <td>1977</td>\n",
       "      <td>0:46:33</td>\n",
       "      <td>hard rock, progressive rock</td>\n",
       "      <td>20.6</td>\n",
       "      <td>43</td>\n",
       "      <td>1977-10-21</td>\n",
       "      <td>8.0</td>\n",
       "    </tr>\n",
       "    <tr>\n",
       "      <th>5</th>\n",
       "      <td>Eagles</td>\n",
       "      <td>Their Greatest Hits (1971-1975)</td>\n",
       "      <td>1976</td>\n",
       "      <td>0:43:08</td>\n",
       "      <td>rock, soft rock, folk rock</td>\n",
       "      <td>32.2</td>\n",
       "      <td>42</td>\n",
       "      <td>1976-02-17</td>\n",
       "      <td>7.5</td>\n",
       "    </tr>\n",
       "  </tbody>\n",
       "</table>\n",
       "</div>"
      ]
     },
     "execution_count": 14,
     "metadata": {},
     "output_type": "execute_result"
    }
   ],
   "execution_count": 14
  },
  {
   "metadata": {},
   "cell_type": "markdown",
   "source": "### 9. `duplicated()`",
   "id": "1d80b96d63249a35"
  },
  {
   "metadata": {},
   "cell_type": "markdown",
   "source": "<p>Duplicate or repetitive values or records within a data set.</p>",
   "id": "94bd1a5d2bd2d3ce"
  },
  {
   "metadata": {},
   "cell_type": "markdown",
   "source": [
    "**Syntax**:\n",
    "\n",
    "```Python\n",
    "df.duplicated()\n",
    "```"
   ],
   "id": "1415cd268c2c293c"
  },
  {
   "metadata": {
    "ExecuteTime": {
     "end_time": "2025-06-11T09:07:47.080346Z",
     "start_time": "2025-06-11T09:07:47.074852Z"
    }
   },
   "cell_type": "code",
   "source": [
    "dr = df[df.duplicated()]\n",
    "dr"
   ],
   "id": "4b7cdf49d2369ee2",
   "outputs": [
    {
     "data": {
      "text/plain": [
       "Empty DataFrame\n",
       "Columns: [Artist, Album, Released, Length, Genre, Music Recording Sales (millions), Claimed Sales (millions), Released.1, Rating]\n",
       "Index: []"
      ],
      "text/html": [
       "<div>\n",
       "<style scoped>\n",
       "    .dataframe tbody tr th:only-of-type {\n",
       "        vertical-align: middle;\n",
       "    }\n",
       "\n",
       "    .dataframe tbody tr th {\n",
       "        vertical-align: top;\n",
       "    }\n",
       "\n",
       "    .dataframe thead th {\n",
       "        text-align: right;\n",
       "    }\n",
       "</style>\n",
       "<table border=\"1\" class=\"dataframe\">\n",
       "  <thead>\n",
       "    <tr style=\"text-align: right;\">\n",
       "      <th></th>\n",
       "      <th>Artist</th>\n",
       "      <th>Album</th>\n",
       "      <th>Released</th>\n",
       "      <th>Length</th>\n",
       "      <th>Genre</th>\n",
       "      <th>Music Recording Sales (millions)</th>\n",
       "      <th>Claimed Sales (millions)</th>\n",
       "      <th>Released.1</th>\n",
       "      <th>Rating</th>\n",
       "    </tr>\n",
       "  </thead>\n",
       "  <tbody>\n",
       "  </tbody>\n",
       "</table>\n",
       "</div>"
      ]
     },
     "execution_count": 15,
     "metadata": {},
     "output_type": "execute_result"
    }
   ],
   "execution_count": 15
  },
  {
   "metadata": {},
   "cell_type": "markdown",
   "source": "### 10. Filter Rows",
   "id": "99b896671aced914"
  },
  {
   "metadata": {},
   "cell_type": "markdown",
   "source": "<p>Creates a new DataFrame with rows that meet specified conditions.</p>",
   "id": "69e5c702c7e2016"
  },
  {
   "metadata": {},
   "cell_type": "markdown",
   "source": [
    "**Syntax**:\n",
    "\n",
    "```Python\n",
    "filtered_df = df[(conditional_statements)]\n",
    "```"
   ],
   "id": "80ae32d5ffab8f5"
  },
  {
   "metadata": {
    "ExecuteTime": {
     "end_time": "2025-06-11T09:07:47.240952Z",
     "start_time": "2025-06-11T09:07:47.235236Z"
    }
   },
   "cell_type": "code",
   "source": [
    "filtered_df = df[df[\"Released\"] > 1979]\n",
    "filtered_df"
   ],
   "id": "116920865df975ef",
   "outputs": [
    {
     "data": {
      "text/plain": [
       "            Artist          Album  Released    Length           Genre  \\\n",
       "0  Michael Jackson       Thriller      1982  00:42:19  pop, rock, R&B   \n",
       "1            AC/DC  Back in Black      1980   0:42:11       hard rock   \n",
       "3  Whitney Houston  The Bodyguard      1992   0:57:44  R&B, soul, pop   \n",
       "\n",
       "   Music Recording Sales (millions)  Claimed Sales (millions) Released.1  \\\n",
       "0                              46.0                        65 1982-11-30   \n",
       "1                              26.1                        50 1980-07-25   \n",
       "3                              27.4                        44 1992-11-17   \n",
       "\n",
       "   Rating  \n",
       "0    10.0  \n",
       "1     9.5  \n",
       "3     8.5  "
      ],
      "text/html": [
       "<div>\n",
       "<style scoped>\n",
       "    .dataframe tbody tr th:only-of-type {\n",
       "        vertical-align: middle;\n",
       "    }\n",
       "\n",
       "    .dataframe tbody tr th {\n",
       "        vertical-align: top;\n",
       "    }\n",
       "\n",
       "    .dataframe thead th {\n",
       "        text-align: right;\n",
       "    }\n",
       "</style>\n",
       "<table border=\"1\" class=\"dataframe\">\n",
       "  <thead>\n",
       "    <tr style=\"text-align: right;\">\n",
       "      <th></th>\n",
       "      <th>Artist</th>\n",
       "      <th>Album</th>\n",
       "      <th>Released</th>\n",
       "      <th>Length</th>\n",
       "      <th>Genre</th>\n",
       "      <th>Music Recording Sales (millions)</th>\n",
       "      <th>Claimed Sales (millions)</th>\n",
       "      <th>Released.1</th>\n",
       "      <th>Rating</th>\n",
       "    </tr>\n",
       "  </thead>\n",
       "  <tbody>\n",
       "    <tr>\n",
       "      <th>0</th>\n",
       "      <td>Michael Jackson</td>\n",
       "      <td>Thriller</td>\n",
       "      <td>1982</td>\n",
       "      <td>00:42:19</td>\n",
       "      <td>pop, rock, R&amp;B</td>\n",
       "      <td>46.0</td>\n",
       "      <td>65</td>\n",
       "      <td>1982-11-30</td>\n",
       "      <td>10.0</td>\n",
       "    </tr>\n",
       "    <tr>\n",
       "      <th>1</th>\n",
       "      <td>AC/DC</td>\n",
       "      <td>Back in Black</td>\n",
       "      <td>1980</td>\n",
       "      <td>0:42:11</td>\n",
       "      <td>hard rock</td>\n",
       "      <td>26.1</td>\n",
       "      <td>50</td>\n",
       "      <td>1980-07-25</td>\n",
       "      <td>9.5</td>\n",
       "    </tr>\n",
       "    <tr>\n",
       "      <th>3</th>\n",
       "      <td>Whitney Houston</td>\n",
       "      <td>The Bodyguard</td>\n",
       "      <td>1992</td>\n",
       "      <td>0:57:44</td>\n",
       "      <td>R&amp;B, soul, pop</td>\n",
       "      <td>27.4</td>\n",
       "      <td>44</td>\n",
       "      <td>1992-11-17</td>\n",
       "      <td>8.5</td>\n",
       "    </tr>\n",
       "  </tbody>\n",
       "</table>\n",
       "</div>"
      ]
     },
     "execution_count": 16,
     "metadata": {},
     "output_type": "execute_result"
    }
   ],
   "execution_count": 16
  },
  {
   "metadata": {},
   "cell_type": "markdown",
   "source": "### 11. `groupby()`",
   "id": "126c926ca984a20b"
  },
  {
   "metadata": {},
   "cell_type": "markdown",
   "source": "<p>Splits a DataFrame into groups based on specified criteria, enabling subsequent aggregation, transformation, or analysis within each group.</p>",
   "id": "b9f96f9f78c1c02b"
  },
  {
   "metadata": {},
   "cell_type": "markdown",
   "source": [
    "**Syntax**:\n",
    "\n",
    "```Python\n",
    "grouped = df.groupby(by, axis=0, level=None, as_index=True,\n",
    "sort=True, group_keys=True, squeeze=False, observed=False, dropna=True)\n",
    "```"
   ],
   "id": "6f3664b4591f7903"
  },
  {
   "metadata": {
    "ExecuteTime": {
     "end_time": "2025-06-11T09:07:47.413984Z",
     "start_time": "2025-06-11T09:07:47.409464Z"
    }
   },
   "cell_type": "code",
   "source": [
    "grouped = df.groupby([\"Released\"])\n",
    "grouped"
   ],
   "id": "41d51863bd215ac5",
   "outputs": [
    {
     "data": {
      "text/plain": [
       "<pandas.core.groupby.generic.DataFrameGroupBy object at 0x000001C73D1EE660>"
      ]
     },
     "execution_count": 17,
     "metadata": {},
     "output_type": "execute_result"
    }
   ],
   "execution_count": 17
  },
  {
   "metadata": {},
   "cell_type": "markdown",
   "source": "### 12. `head()`",
   "id": "c05430759809bec8"
  },
  {
   "metadata": {},
   "cell_type": "markdown",
   "source": "<p>Displays the first n rows of the DataFrame.</p>",
   "id": "33371ced2b82b4e8"
  },
  {
   "metadata": {},
   "cell_type": "markdown",
   "source": [
    "**Syntax**:\n",
    "\n",
    "```Python\n",
    "df.head(n)\n",
    "```"
   ],
   "id": "b39c0b2cd05d6031"
  },
  {
   "metadata": {
    "ExecuteTime": {
     "end_time": "2025-06-11T09:07:47.626410Z",
     "start_time": "2025-06-11T09:07:47.620489Z"
    }
   },
   "cell_type": "code",
   "source": "df.head(2)",
   "id": "170b0b7b2914bc8e",
   "outputs": [
    {
     "data": {
      "text/plain": [
       "            Artist          Album  Released    Length           Genre  \\\n",
       "0  Michael Jackson       Thriller      1982  00:42:19  pop, rock, R&B   \n",
       "1            AC/DC  Back in Black      1980   0:42:11       hard rock   \n",
       "\n",
       "   Music Recording Sales (millions)  Claimed Sales (millions) Released.1  \\\n",
       "0                              46.0                        65 1982-11-30   \n",
       "1                              26.1                        50 1980-07-25   \n",
       "\n",
       "   Rating  \n",
       "0    10.0  \n",
       "1     9.5  "
      ],
      "text/html": [
       "<div>\n",
       "<style scoped>\n",
       "    .dataframe tbody tr th:only-of-type {\n",
       "        vertical-align: middle;\n",
       "    }\n",
       "\n",
       "    .dataframe tbody tr th {\n",
       "        vertical-align: top;\n",
       "    }\n",
       "\n",
       "    .dataframe thead th {\n",
       "        text-align: right;\n",
       "    }\n",
       "</style>\n",
       "<table border=\"1\" class=\"dataframe\">\n",
       "  <thead>\n",
       "    <tr style=\"text-align: right;\">\n",
       "      <th></th>\n",
       "      <th>Artist</th>\n",
       "      <th>Album</th>\n",
       "      <th>Released</th>\n",
       "      <th>Length</th>\n",
       "      <th>Genre</th>\n",
       "      <th>Music Recording Sales (millions)</th>\n",
       "      <th>Claimed Sales (millions)</th>\n",
       "      <th>Released.1</th>\n",
       "      <th>Rating</th>\n",
       "    </tr>\n",
       "  </thead>\n",
       "  <tbody>\n",
       "    <tr>\n",
       "      <th>0</th>\n",
       "      <td>Michael Jackson</td>\n",
       "      <td>Thriller</td>\n",
       "      <td>1982</td>\n",
       "      <td>00:42:19</td>\n",
       "      <td>pop, rock, R&amp;B</td>\n",
       "      <td>46.0</td>\n",
       "      <td>65</td>\n",
       "      <td>1982-11-30</td>\n",
       "      <td>10.0</td>\n",
       "    </tr>\n",
       "    <tr>\n",
       "      <th>1</th>\n",
       "      <td>AC/DC</td>\n",
       "      <td>Back in Black</td>\n",
       "      <td>1980</td>\n",
       "      <td>0:42:11</td>\n",
       "      <td>hard rock</td>\n",
       "      <td>26.1</td>\n",
       "      <td>50</td>\n",
       "      <td>1980-07-25</td>\n",
       "      <td>9.5</td>\n",
       "    </tr>\n",
       "  </tbody>\n",
       "</table>\n",
       "</div>"
      ]
     },
     "execution_count": 18,
     "metadata": {},
     "output_type": "execute_result"
    }
   ],
   "execution_count": 18
  },
  {
   "metadata": {},
   "cell_type": "markdown",
   "source": "### 13. `info()`",
   "id": "5b25c17c9a1b8f7c"
  },
  {
   "metadata": {},
   "cell_type": "markdown",
   "source": "<p>Provides information about the DataFrame, including data types and memory usage.</p>",
   "id": "50ed9b69d088a49d"
  },
  {
   "metadata": {},
   "cell_type": "markdown",
   "source": [
    "**Syntax**:\n",
    "\n",
    "```Python\n",
    "df.info()\n",
    "```"
   ],
   "id": "721e2fa089c0574"
  },
  {
   "metadata": {
    "ExecuteTime": {
     "end_time": "2025-06-11T09:07:47.727598Z",
     "start_time": "2025-06-11T09:07:47.722491Z"
    }
   },
   "cell_type": "code",
   "source": "df.info()",
   "id": "9a2c61fb8eedd03c",
   "outputs": [
    {
     "name": "stdout",
     "output_type": "stream",
     "text": [
      "<class 'pandas.core.frame.DataFrame'>\n",
      "RangeIndex: 6 entries, 0 to 5\n",
      "Data columns (total 9 columns):\n",
      " #   Column                            Non-Null Count  Dtype         \n",
      "---  ------                            --------------  -----         \n",
      " 0   Artist                            6 non-null      object        \n",
      " 1   Album                             6 non-null      object        \n",
      " 2   Released                          6 non-null      int64         \n",
      " 3   Length                            6 non-null      object        \n",
      " 4   Genre                             6 non-null      object        \n",
      " 5   Music Recording Sales (millions)  6 non-null      float64       \n",
      " 6   Claimed Sales (millions)          6 non-null      int64         \n",
      " 7   Released.1                        6 non-null      datetime64[ns]\n",
      " 8   Rating                            6 non-null      float64       \n",
      "dtypes: datetime64[ns](1), float64(2), int64(2), object(4)\n",
      "memory usage: 564.0+ bytes\n"
     ]
    }
   ],
   "execution_count": 19
  },
  {
   "metadata": {},
   "cell_type": "markdown",
   "source": "### 14. `merge()`",
   "id": "b7f37996d919315c"
  },
  {
   "metadata": {},
   "cell_type": "markdown",
   "source": "<p>Merges two DataFrames based on multiple common columns.</p>",
   "id": "3b778d9d3edefb3d"
  },
  {
   "metadata": {},
   "cell_type": "markdown",
   "source": [
    "**Syntax**:\n",
    "\n",
    "```Python\n",
    "merged_df = pd.merge(df1, df2, on=[\"column1\", \"column2\"])\n",
    "```"
   ],
   "id": "2c791f1c1fb9a6c1"
  },
  {
   "metadata": {},
   "cell_type": "markdown",
   "source": "### 15. print DataFrame",
   "id": "4c496365305e08f8"
  },
  {
   "metadata": {},
   "cell_type": "markdown",
   "source": "<p>Displays the content of the DataFrame.</p>",
   "id": "b26d4af23318a50"
  },
  {
   "metadata": {},
   "cell_type": "markdown",
   "source": [
    "**Syntax**:\n",
    "\n",
    "```Python\n",
    "print(df)   # in Jupyter you can just type df\n",
    "```"
   ],
   "id": "1174f65939484501"
  },
  {
   "metadata": {
    "ExecuteTime": {
     "end_time": "2025-06-11T09:07:47.841943Z",
     "start_time": "2025-06-11T09:07:47.838104Z"
    }
   },
   "cell_type": "code",
   "source": "print(df)",
   "id": "ca656a5965bef71d",
   "outputs": [
    {
     "name": "stdout",
     "output_type": "stream",
     "text": [
      "            Artist                            Album  Released    Length  \\\n",
      "0  Michael Jackson                         Thriller      1982  00:42:19   \n",
      "1            AC/DC                    Back in Black      1980   0:42:11   \n",
      "2       Pink Floyd        The Dark Side of the Moon      1973   0:42:49   \n",
      "3  Whitney Houston                    The Bodyguard      1992   0:57:44   \n",
      "4        Meat Loaf                  Bat Out of Hell      1977   0:46:33   \n",
      "5           Eagles  Their Greatest Hits (1971-1975)      1976   0:43:08   \n",
      "\n",
      "                         Genre  Music Recording Sales (millions)  \\\n",
      "0               pop, rock, R&B                              46.0   \n",
      "1                    hard rock                              26.1   \n",
      "2             progressive rock                              24.2   \n",
      "3               R&B, soul, pop                              27.4   \n",
      "4  hard rock, progressive rock                              20.6   \n",
      "5   rock, soft rock, folk rock                              32.2   \n",
      "\n",
      "   Claimed Sales (millions) Released.1  Rating  \n",
      "0                        65 1982-11-30    10.0  \n",
      "1                        50 1980-07-25     9.5  \n",
      "2                        45 1973-03-01     9.0  \n",
      "3                        44 1992-11-17     8.5  \n",
      "4                        43 1977-10-21     8.0  \n",
      "5                        42 1976-02-17     7.5  \n"
     ]
    }
   ],
   "execution_count": 20
  },
  {
   "metadata": {
    "ExecuteTime": {
     "end_time": "2025-06-11T09:07:47.962573Z",
     "start_time": "2025-06-11T09:07:47.956097Z"
    }
   },
   "cell_type": "code",
   "source": "df",
   "id": "656be0fdfea30aca",
   "outputs": [
    {
     "data": {
      "text/plain": [
       "            Artist                            Album  Released    Length  \\\n",
       "0  Michael Jackson                         Thriller      1982  00:42:19   \n",
       "1            AC/DC                    Back in Black      1980   0:42:11   \n",
       "2       Pink Floyd        The Dark Side of the Moon      1973   0:42:49   \n",
       "3  Whitney Houston                    The Bodyguard      1992   0:57:44   \n",
       "4        Meat Loaf                  Bat Out of Hell      1977   0:46:33   \n",
       "5           Eagles  Their Greatest Hits (1971-1975)      1976   0:43:08   \n",
       "\n",
       "                         Genre  Music Recording Sales (millions)  \\\n",
       "0               pop, rock, R&B                              46.0   \n",
       "1                    hard rock                              26.1   \n",
       "2             progressive rock                              24.2   \n",
       "3               R&B, soul, pop                              27.4   \n",
       "4  hard rock, progressive rock                              20.6   \n",
       "5   rock, soft rock, folk rock                              32.2   \n",
       "\n",
       "   Claimed Sales (millions) Released.1  Rating  \n",
       "0                        65 1982-11-30    10.0  \n",
       "1                        50 1980-07-25     9.5  \n",
       "2                        45 1973-03-01     9.0  \n",
       "3                        44 1992-11-17     8.5  \n",
       "4                        43 1977-10-21     8.0  \n",
       "5                        42 1976-02-17     7.5  "
      ],
      "text/html": [
       "<div>\n",
       "<style scoped>\n",
       "    .dataframe tbody tr th:only-of-type {\n",
       "        vertical-align: middle;\n",
       "    }\n",
       "\n",
       "    .dataframe tbody tr th {\n",
       "        vertical-align: top;\n",
       "    }\n",
       "\n",
       "    .dataframe thead th {\n",
       "        text-align: right;\n",
       "    }\n",
       "</style>\n",
       "<table border=\"1\" class=\"dataframe\">\n",
       "  <thead>\n",
       "    <tr style=\"text-align: right;\">\n",
       "      <th></th>\n",
       "      <th>Artist</th>\n",
       "      <th>Album</th>\n",
       "      <th>Released</th>\n",
       "      <th>Length</th>\n",
       "      <th>Genre</th>\n",
       "      <th>Music Recording Sales (millions)</th>\n",
       "      <th>Claimed Sales (millions)</th>\n",
       "      <th>Released.1</th>\n",
       "      <th>Rating</th>\n",
       "    </tr>\n",
       "  </thead>\n",
       "  <tbody>\n",
       "    <tr>\n",
       "      <th>0</th>\n",
       "      <td>Michael Jackson</td>\n",
       "      <td>Thriller</td>\n",
       "      <td>1982</td>\n",
       "      <td>00:42:19</td>\n",
       "      <td>pop, rock, R&amp;B</td>\n",
       "      <td>46.0</td>\n",
       "      <td>65</td>\n",
       "      <td>1982-11-30</td>\n",
       "      <td>10.0</td>\n",
       "    </tr>\n",
       "    <tr>\n",
       "      <th>1</th>\n",
       "      <td>AC/DC</td>\n",
       "      <td>Back in Black</td>\n",
       "      <td>1980</td>\n",
       "      <td>0:42:11</td>\n",
       "      <td>hard rock</td>\n",
       "      <td>26.1</td>\n",
       "      <td>50</td>\n",
       "      <td>1980-07-25</td>\n",
       "      <td>9.5</td>\n",
       "    </tr>\n",
       "    <tr>\n",
       "      <th>2</th>\n",
       "      <td>Pink Floyd</td>\n",
       "      <td>The Dark Side of the Moon</td>\n",
       "      <td>1973</td>\n",
       "      <td>0:42:49</td>\n",
       "      <td>progressive rock</td>\n",
       "      <td>24.2</td>\n",
       "      <td>45</td>\n",
       "      <td>1973-03-01</td>\n",
       "      <td>9.0</td>\n",
       "    </tr>\n",
       "    <tr>\n",
       "      <th>3</th>\n",
       "      <td>Whitney Houston</td>\n",
       "      <td>The Bodyguard</td>\n",
       "      <td>1992</td>\n",
       "      <td>0:57:44</td>\n",
       "      <td>R&amp;B, soul, pop</td>\n",
       "      <td>27.4</td>\n",
       "      <td>44</td>\n",
       "      <td>1992-11-17</td>\n",
       "      <td>8.5</td>\n",
       "    </tr>\n",
       "    <tr>\n",
       "      <th>4</th>\n",
       "      <td>Meat Loaf</td>\n",
       "      <td>Bat Out of Hell</td>\n",
       "      <td>1977</td>\n",
       "      <td>0:46:33</td>\n",
       "      <td>hard rock, progressive rock</td>\n",
       "      <td>20.6</td>\n",
       "      <td>43</td>\n",
       "      <td>1977-10-21</td>\n",
       "      <td>8.0</td>\n",
       "    </tr>\n",
       "    <tr>\n",
       "      <th>5</th>\n",
       "      <td>Eagles</td>\n",
       "      <td>Their Greatest Hits (1971-1975)</td>\n",
       "      <td>1976</td>\n",
       "      <td>0:43:08</td>\n",
       "      <td>rock, soft rock, folk rock</td>\n",
       "      <td>32.2</td>\n",
       "      <td>42</td>\n",
       "      <td>1976-02-17</td>\n",
       "      <td>7.5</td>\n",
       "    </tr>\n",
       "  </tbody>\n",
       "</table>\n",
       "</div>"
      ]
     },
     "execution_count": 21,
     "metadata": {},
     "output_type": "execute_result"
    }
   ],
   "execution_count": 21
  },
  {
   "metadata": {},
   "cell_type": "markdown",
   "source": "### 16. `replace()`",
   "id": "b6306f09f9fa259"
  },
  {
   "metadata": {},
   "cell_type": "markdown",
   "source": "<p>Replaces specific values in a column with new values.</p>",
   "id": "db1738f7ff614593"
  },
  {
   "metadata": {},
   "cell_type": "markdown",
   "source": [
    "**Syntax**:\n",
    "\n",
    "```Python\n",
    "df[\"column\"].replace(old_value, new_value)\n",
    "```"
   ],
   "id": "231be34cbf0a1c0"
  },
  {
   "metadata": {
    "ExecuteTime": {
     "end_time": "2025-06-11T09:07:48.056507Z",
     "start_time": "2025-06-11T09:07:48.050400Z"
    }
   },
   "cell_type": "code",
   "source": [
    "df[\"Rating\"].replace(7.0, 9.0)\n",
    "df"
   ],
   "id": "b3c110ab95359a17",
   "outputs": [
    {
     "data": {
      "text/plain": [
       "            Artist                            Album  Released    Length  \\\n",
       "0  Michael Jackson                         Thriller      1982  00:42:19   \n",
       "1            AC/DC                    Back in Black      1980   0:42:11   \n",
       "2       Pink Floyd        The Dark Side of the Moon      1973   0:42:49   \n",
       "3  Whitney Houston                    The Bodyguard      1992   0:57:44   \n",
       "4        Meat Loaf                  Bat Out of Hell      1977   0:46:33   \n",
       "5           Eagles  Their Greatest Hits (1971-1975)      1976   0:43:08   \n",
       "\n",
       "                         Genre  Music Recording Sales (millions)  \\\n",
       "0               pop, rock, R&B                              46.0   \n",
       "1                    hard rock                              26.1   \n",
       "2             progressive rock                              24.2   \n",
       "3               R&B, soul, pop                              27.4   \n",
       "4  hard rock, progressive rock                              20.6   \n",
       "5   rock, soft rock, folk rock                              32.2   \n",
       "\n",
       "   Claimed Sales (millions) Released.1  Rating  \n",
       "0                        65 1982-11-30    10.0  \n",
       "1                        50 1980-07-25     9.5  \n",
       "2                        45 1973-03-01     9.0  \n",
       "3                        44 1992-11-17     8.5  \n",
       "4                        43 1977-10-21     8.0  \n",
       "5                        42 1976-02-17     7.5  "
      ],
      "text/html": [
       "<div>\n",
       "<style scoped>\n",
       "    .dataframe tbody tr th:only-of-type {\n",
       "        vertical-align: middle;\n",
       "    }\n",
       "\n",
       "    .dataframe tbody tr th {\n",
       "        vertical-align: top;\n",
       "    }\n",
       "\n",
       "    .dataframe thead th {\n",
       "        text-align: right;\n",
       "    }\n",
       "</style>\n",
       "<table border=\"1\" class=\"dataframe\">\n",
       "  <thead>\n",
       "    <tr style=\"text-align: right;\">\n",
       "      <th></th>\n",
       "      <th>Artist</th>\n",
       "      <th>Album</th>\n",
       "      <th>Released</th>\n",
       "      <th>Length</th>\n",
       "      <th>Genre</th>\n",
       "      <th>Music Recording Sales (millions)</th>\n",
       "      <th>Claimed Sales (millions)</th>\n",
       "      <th>Released.1</th>\n",
       "      <th>Rating</th>\n",
       "    </tr>\n",
       "  </thead>\n",
       "  <tbody>\n",
       "    <tr>\n",
       "      <th>0</th>\n",
       "      <td>Michael Jackson</td>\n",
       "      <td>Thriller</td>\n",
       "      <td>1982</td>\n",
       "      <td>00:42:19</td>\n",
       "      <td>pop, rock, R&amp;B</td>\n",
       "      <td>46.0</td>\n",
       "      <td>65</td>\n",
       "      <td>1982-11-30</td>\n",
       "      <td>10.0</td>\n",
       "    </tr>\n",
       "    <tr>\n",
       "      <th>1</th>\n",
       "      <td>AC/DC</td>\n",
       "      <td>Back in Black</td>\n",
       "      <td>1980</td>\n",
       "      <td>0:42:11</td>\n",
       "      <td>hard rock</td>\n",
       "      <td>26.1</td>\n",
       "      <td>50</td>\n",
       "      <td>1980-07-25</td>\n",
       "      <td>9.5</td>\n",
       "    </tr>\n",
       "    <tr>\n",
       "      <th>2</th>\n",
       "      <td>Pink Floyd</td>\n",
       "      <td>The Dark Side of the Moon</td>\n",
       "      <td>1973</td>\n",
       "      <td>0:42:49</td>\n",
       "      <td>progressive rock</td>\n",
       "      <td>24.2</td>\n",
       "      <td>45</td>\n",
       "      <td>1973-03-01</td>\n",
       "      <td>9.0</td>\n",
       "    </tr>\n",
       "    <tr>\n",
       "      <th>3</th>\n",
       "      <td>Whitney Houston</td>\n",
       "      <td>The Bodyguard</td>\n",
       "      <td>1992</td>\n",
       "      <td>0:57:44</td>\n",
       "      <td>R&amp;B, soul, pop</td>\n",
       "      <td>27.4</td>\n",
       "      <td>44</td>\n",
       "      <td>1992-11-17</td>\n",
       "      <td>8.5</td>\n",
       "    </tr>\n",
       "    <tr>\n",
       "      <th>4</th>\n",
       "      <td>Meat Loaf</td>\n",
       "      <td>Bat Out of Hell</td>\n",
       "      <td>1977</td>\n",
       "      <td>0:46:33</td>\n",
       "      <td>hard rock, progressive rock</td>\n",
       "      <td>20.6</td>\n",
       "      <td>43</td>\n",
       "      <td>1977-10-21</td>\n",
       "      <td>8.0</td>\n",
       "    </tr>\n",
       "    <tr>\n",
       "      <th>5</th>\n",
       "      <td>Eagles</td>\n",
       "      <td>Their Greatest Hits (1971-1975)</td>\n",
       "      <td>1976</td>\n",
       "      <td>0:43:08</td>\n",
       "      <td>rock, soft rock, folk rock</td>\n",
       "      <td>32.2</td>\n",
       "      <td>42</td>\n",
       "      <td>1976-02-17</td>\n",
       "      <td>7.5</td>\n",
       "    </tr>\n",
       "  </tbody>\n",
       "</table>\n",
       "</div>"
      ]
     },
     "execution_count": 22,
     "metadata": {},
     "output_type": "execute_result"
    }
   ],
   "execution_count": 22
  },
  {
   "metadata": {},
   "cell_type": "markdown",
   "source": "### 17. `tail()`",
   "id": "1583c9b7e58911c9"
  },
  {
   "metadata": {},
   "cell_type": "markdown",
   "source": "<p>Displays the last n rows of the DataFrame.</p>",
   "id": "e92160e3b22b9099"
  },
  {
   "metadata": {},
   "cell_type": "markdown",
   "source": [
    "**Syntax**:\n",
    "\n",
    "```Python\n",
    "df.tail(n)\n",
    "```"
   ],
   "id": "fcb9a8efe7fba347"
  },
  {
   "metadata": {
    "ExecuteTime": {
     "end_time": "2025-06-11T09:07:48.201558Z",
     "start_time": "2025-06-11T09:07:48.195501Z"
    }
   },
   "cell_type": "code",
   "source": "df.tail(3)",
   "id": "831b90a554436424",
   "outputs": [
    {
     "data": {
      "text/plain": [
       "            Artist                            Album  Released   Length  \\\n",
       "3  Whitney Houston                    The Bodyguard      1992  0:57:44   \n",
       "4        Meat Loaf                  Bat Out of Hell      1977  0:46:33   \n",
       "5           Eagles  Their Greatest Hits (1971-1975)      1976  0:43:08   \n",
       "\n",
       "                         Genre  Music Recording Sales (millions)  \\\n",
       "3               R&B, soul, pop                              27.4   \n",
       "4  hard rock, progressive rock                              20.6   \n",
       "5   rock, soft rock, folk rock                              32.2   \n",
       "\n",
       "   Claimed Sales (millions) Released.1  Rating  \n",
       "3                        44 1992-11-17     8.5  \n",
       "4                        43 1977-10-21     8.0  \n",
       "5                        42 1976-02-17     7.5  "
      ],
      "text/html": [
       "<div>\n",
       "<style scoped>\n",
       "    .dataframe tbody tr th:only-of-type {\n",
       "        vertical-align: middle;\n",
       "    }\n",
       "\n",
       "    .dataframe tbody tr th {\n",
       "        vertical-align: top;\n",
       "    }\n",
       "\n",
       "    .dataframe thead th {\n",
       "        text-align: right;\n",
       "    }\n",
       "</style>\n",
       "<table border=\"1\" class=\"dataframe\">\n",
       "  <thead>\n",
       "    <tr style=\"text-align: right;\">\n",
       "      <th></th>\n",
       "      <th>Artist</th>\n",
       "      <th>Album</th>\n",
       "      <th>Released</th>\n",
       "      <th>Length</th>\n",
       "      <th>Genre</th>\n",
       "      <th>Music Recording Sales (millions)</th>\n",
       "      <th>Claimed Sales (millions)</th>\n",
       "      <th>Released.1</th>\n",
       "      <th>Rating</th>\n",
       "    </tr>\n",
       "  </thead>\n",
       "  <tbody>\n",
       "    <tr>\n",
       "      <th>3</th>\n",
       "      <td>Whitney Houston</td>\n",
       "      <td>The Bodyguard</td>\n",
       "      <td>1992</td>\n",
       "      <td>0:57:44</td>\n",
       "      <td>R&amp;B, soul, pop</td>\n",
       "      <td>27.4</td>\n",
       "      <td>44</td>\n",
       "      <td>1992-11-17</td>\n",
       "      <td>8.5</td>\n",
       "    </tr>\n",
       "    <tr>\n",
       "      <th>4</th>\n",
       "      <td>Meat Loaf</td>\n",
       "      <td>Bat Out of Hell</td>\n",
       "      <td>1977</td>\n",
       "      <td>0:46:33</td>\n",
       "      <td>hard rock, progressive rock</td>\n",
       "      <td>20.6</td>\n",
       "      <td>43</td>\n",
       "      <td>1977-10-21</td>\n",
       "      <td>8.0</td>\n",
       "    </tr>\n",
       "    <tr>\n",
       "      <th>5</th>\n",
       "      <td>Eagles</td>\n",
       "      <td>Their Greatest Hits (1971-1975)</td>\n",
       "      <td>1976</td>\n",
       "      <td>0:43:08</td>\n",
       "      <td>rock, soft rock, folk rock</td>\n",
       "      <td>32.2</td>\n",
       "      <td>42</td>\n",
       "      <td>1976-02-17</td>\n",
       "      <td>7.5</td>\n",
       "    </tr>\n",
       "  </tbody>\n",
       "</table>\n",
       "</div>"
      ]
     },
     "execution_count": 23,
     "metadata": {},
     "output_type": "execute_result"
    }
   ],
   "execution_count": 23
  },
  {
   "metadata": {},
   "cell_type": "markdown",
   "source": "## Numpy",
   "id": "e30f3a41669ff86b"
  },
  {
   "metadata": {},
   "cell_type": "markdown",
   "source": "### 1. Import `NumPy`",
   "id": "981b65614e87a75"
  },
  {
   "metadata": {},
   "cell_type": "markdown",
   "source": "<p>Imports the <code>NumPy</code> library.</p>",
   "id": "b29dd7b2921ac16"
  },
  {
   "metadata": {
    "ExecuteTime": {
     "end_time": "2025-06-11T09:07:48.343366Z",
     "start_time": "2025-06-11T09:07:48.340945Z"
    }
   },
   "cell_type": "code",
   "source": "import numpy as np",
   "id": "56309799953be587",
   "outputs": [],
   "execution_count": 24
  },
  {
   "metadata": {},
   "cell_type": "markdown",
   "source": "### 2. `np.array()`",
   "id": "29caa96fbb2db7ec"
  },
  {
   "metadata": {},
   "cell_type": "markdown",
   "source": "<p>Creates a one or multi-dimensional array.</p>",
   "id": "ef6b9336ff93aaca"
  },
  {
   "metadata": {},
   "cell_type": "markdown",
   "source": [
    "**Syntax**:\n",
    "\n",
    "```Python\n",
    "array_1d = np.array([list_elements])\n",
    "array_2d = np.array([[list1_elements], [list2_elements]])\n",
    "```"
   ],
   "id": "f8dc78e0bceedaa2"
  },
  {
   "metadata": {
    "ExecuteTime": {
     "end_time": "2025-06-11T09:07:48.495215Z",
     "start_time": "2025-06-11T09:07:48.492129Z"
    }
   },
   "cell_type": "code",
   "source": [
    "array_1d = np.array([1, 2, 3])\n",
    "array_1d"
   ],
   "id": "2e81e80c422d587a",
   "outputs": [
    {
     "data": {
      "text/plain": [
       "array([1, 2, 3])"
      ]
     },
     "execution_count": 25,
     "metadata": {},
     "output_type": "execute_result"
    }
   ],
   "execution_count": 25
  },
  {
   "metadata": {
    "ExecuteTime": {
     "end_time": "2025-06-11T09:07:48.607896Z",
     "start_time": "2025-06-11T09:07:48.604849Z"
    }
   },
   "cell_type": "code",
   "source": [
    "array_2d = np.array([[1, 2], [3, 4], [5, 6]])\n",
    "array_2d"
   ],
   "id": "7d91ff3a8479f860",
   "outputs": [
    {
     "data": {
      "text/plain": [
       "array([[1, 2],\n",
       "       [3, 4],\n",
       "       [5, 6]])"
      ]
     },
     "execution_count": 26,
     "metadata": {},
     "output_type": "execute_result"
    }
   ],
   "execution_count": 26
  },
  {
   "metadata": {},
   "cell_type": "markdown",
   "source": "### 3. Array Attributes",
   "id": "e3c59e5a7a765eec"
  },
  {
   "metadata": {},
   "cell_type": "markdown",
   "source": [
    "- Calculates the mean of array elements\n",
    "- Calculates the sum of array elements\n",
    "- Finds the minimum value in the array\n",
    "- Finds the maximum value in the array\n",
    "- Computes dot product of two arrays"
   ],
   "id": "f2ff180b88753625"
  },
  {
   "metadata": {
    "ExecuteTime": {
     "end_time": "2025-06-11T09:07:48.690263Z",
     "start_time": "2025-06-11T09:07:48.687063Z"
    }
   },
   "cell_type": "code",
   "source": "np.mean(array_1d)",
   "id": "508f713ce23e8288",
   "outputs": [
    {
     "data": {
      "text/plain": [
       "np.float64(2.0)"
      ]
     },
     "execution_count": 27,
     "metadata": {},
     "output_type": "execute_result"
    }
   ],
   "execution_count": 27
  },
  {
   "metadata": {
    "ExecuteTime": {
     "end_time": "2025-06-11T09:07:48.816420Z",
     "start_time": "2025-06-11T09:07:48.813452Z"
    }
   },
   "cell_type": "code",
   "source": "np.sum(array_1d)",
   "id": "2ebfbae59c17d20c",
   "outputs": [
    {
     "data": {
      "text/plain": [
       "np.int64(6)"
      ]
     },
     "execution_count": 28,
     "metadata": {},
     "output_type": "execute_result"
    }
   ],
   "execution_count": 28
  },
  {
   "metadata": {
    "ExecuteTime": {
     "end_time": "2025-06-11T09:07:48.936590Z",
     "start_time": "2025-06-11T09:07:48.931371Z"
    }
   },
   "cell_type": "code",
   "source": "np.min(array_1d)",
   "id": "e131ffac4f1aebaf",
   "outputs": [
    {
     "data": {
      "text/plain": [
       "np.int64(1)"
      ]
     },
     "execution_count": 29,
     "metadata": {},
     "output_type": "execute_result"
    }
   ],
   "execution_count": 29
  },
  {
   "metadata": {
    "ExecuteTime": {
     "end_time": "2025-06-11T09:07:49.037189Z",
     "start_time": "2025-06-11T09:07:49.033944Z"
    }
   },
   "cell_type": "code",
   "source": "np.max(array_1d)",
   "id": "78b7d0cfc50ea2bf",
   "outputs": [
    {
     "data": {
      "text/plain": [
       "np.int64(3)"
      ]
     },
     "execution_count": 30,
     "metadata": {},
     "output_type": "execute_result"
    }
   ],
   "execution_count": 30
  },
  {
   "metadata": {
    "ExecuteTime": {
     "end_time": "2025-06-11T09:07:49.113298Z",
     "start_time": "2025-06-11T09:07:49.109441Z"
    }
   },
   "cell_type": "code",
   "source": "np.dot(array_1d, array_2d)",
   "id": "8d373d001c774eee",
   "outputs": [
    {
     "data": {
      "text/plain": [
       "array([22, 28])"
      ]
     },
     "execution_count": 31,
     "metadata": {},
     "output_type": "execute_result"
    }
   ],
   "execution_count": 31
  },
  {
   "metadata": {},
   "cell_type": "markdown",
   "source": [
    "****\n",
    "This is the end of the file.\n",
    "****"
   ],
   "id": "3cf19cf5fa49395f"
  }
 ],
 "metadata": {
  "kernelspec": {
   "display_name": "Python 3",
   "language": "python",
   "name": "python3"
  },
  "language_info": {
   "codemirror_mode": {
    "name": "ipython",
    "version": 2
   },
   "file_extension": ".py",
   "mimetype": "text/x-python",
   "name": "python",
   "nbconvert_exporter": "python",
   "pygments_lexer": "ipython2",
   "version": "2.7.6"
  }
 },
 "nbformat": 4,
 "nbformat_minor": 5
}
