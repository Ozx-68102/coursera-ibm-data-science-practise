{
 "cells": [
  {
   "metadata": {},
   "cell_type": "markdown",
   "source": "### About the Dataset",
   "id": "fb03fd99960a7a92"
  },
  {
   "metadata": {},
   "cell_type": "markdown",
   "source": [
    "<p>The table has one row for each album and several columns.</p>\n",
    "\n",
    "<ul>\n",
    "    <li><b>artist</b>: Name of the artist</li>\n",
    "    <li><b>album</b>: Name of the album</li>\n",
    "    <li><b>released_year</b>: Year the album was released</li>\n",
    "    <li><b>length_min_sec</b>: Length of the album (hours,minutes,seconds)</li>\n",
    "    <li><b>genre</b>: Genre of the album</li>\n",
    "    <li><b>music_recording_sales_millions</b>: Music recording sales (millions in USD) on <a href=\"http://www.song-database.com/?utm_medium=Exinfluencer&utm_source=Exinfluencer&utm_content=000026UJ&utm_term=10006555&utm_id=NA-SkillsNetwork-Channel-SkillsNetworkCoursesIBMDeveloperSkillsNetworkPY0101ENSkillsNetwork19487395-2021-01-01?utm_medium=Exinfluencer&utm_source=Exinfluencer&utm_content=000026UJ&utm_term=10006555&utm_id=NA-SkillsNetwork-Channel-SkillsNetworkCoursesIBMDeveloperSkillsNetworkPY0101ENSkillsNetwork19487395-2021-01-01\">[SONG://DATABASE]</a></li>\n",
    "    <li><b>claimed_sales_millions</b>: Album's claimed sales (millions in USD) on <a href=\"http://www.song-database.com/\">[SONG://DATABASE]</a></li>\n",
    "    <li><b>date_released</b>: Date on which the album was released</li>\n",
    "    <li><b>soundtrack</b>: Indicates if the album is the movie soundtrack (Y) or (N)</li>\n",
    "    <li><b>rating_of_friends</b>: Indicates the rating from your friends from 1 to 10</li>\n",
    "</ul>\n",
    "\n",
    "<p>You can see the dataset here:</p>\n",
    "\n",
    "<table style=\"border: 1px solid\">\n",
    "<thead>\n",
    "<tr>\n",
    "    <th style=\"border: 1px solid; text-align: center\">Artist</th>\n",
    "    <th style=\"border: 1px solid; text-align: center\">Album</th>\n",
    "    <th style=\"border: 1px solid; text-align: center\">Released</th>\n",
    "    <th style=\"border: 1px solid; text-align: center\">Length</th>\n",
    "    <th style=\"border: 1px solid; text-align: center\">Genre</th>\n",
    "    <th style=\"border: 1px solid; text-align: center\">Music recording sales (millions)</th>\n",
    "    <th style=\"border: 1px solid; text-align: center\">Claimed sales (millions)</th>\n",
    "    <th style=\"border: 1px solid; text-align: center\">Released</th>\n",
    "    <th style=\"border: 1px solid; text-align: center\">Soundtrack</th>\n",
    "    <th style=\"border: 1px solid; text-align: center\">Rating (friends)</th>\n",
    "</tr>\n",
    "</thead>\n",
    "<tbody>\n",
    "<tr>\n",
    "    <td style=\"border: 1px solid; text-align: center\">Michael Jackson</td>\n",
    "    <td style=\"border: 1px solid; text-align: center\">Thriller</td>\n",
    "    <td style=\"border: 1px solid; text-align: center\">1982</td>\n",
    "    <td style=\"border: 1px solid; text-align: center\">00:42:19</td>\n",
    "    <td style=\"border: 1px solid; text-align: center\">Pop, rock, R&B</td>\n",
    "    <td style=\"border: 1px solid; text-align: center\">46</td>\n",
    "    <td style=\"border: 1px solid; text-align: center\">65</td>\n",
    "    <td style=\"border: 1px solid; text-align: center\">30-Nov-82</td>\n",
    "    <td style=\"border: 1px solid; text-align: center\"></td>\n",
    "    <td style=\"border: 1px solid; text-align: center\">10.0</td>\n",
    "</tr>\n",
    "<tr>\n",
    "    <td style=\"border: 1px solid; text-align: center\">AC/DC</td>\n",
    "    <td style=\"border: 1px solid; text-align: center\">Back in Black</td>\n",
    "    <td style=\"border: 1px solid; text-align: center\">1980</td>\n",
    "    <td style=\"border: 1px solid; text-align: center\">00:42:11</td>\n",
    "    <td style=\"border: 1px solid; text-align: center\">Hard rock</td>\n",
    "    <td style=\"border: 1px solid; text-align: center\">26.1</td>\n",
    "    <td style=\"border: 1px solid; text-align: center\">50</td>\n",
    "    <td style=\"border: 1px solid; text-align: center\">25-Jul-80</td>\n",
    "    <td style=\"border: 1px solid; text-align: center\"></td>\n",
    "    <td style=\"border: 1px solid; text-align: center\">8.5</td>\n",
    "</tr>\n",
    "<tr>\n",
    "    <td style=\"border: 1px solid; text-align: center\">Pink Floyd</td>\n",
    "    <td style=\"border: 1px solid; text-align: center\">The Dark Side of the Moon</td>\n",
    "    <td style=\"border: 1px solid; text-align: center\">1973</td>\n",
    "    <td style=\"border: 1px solid; text-align: center\">00:42:49</td>\n",
    "    <td style=\"border: 1px solid; text-align: center\">Progressive rock</td>\n",
    "    <td style=\"border: 1px solid; text-align: center\">24.2</td>\n",
    "    <td style=\"border: 1px solid; text-align: center\">45</td>\n",
    "    <td style=\"border: 1px solid; text-align: center\">01-Mar-73</td>\n",
    "    <td style=\"border: 1px solid; text-align: center\"></td>\n",
    "    <td style=\"border: 1px solid; text-align: center\">9.5</td>\n",
    "</tr>\n",
    "<tr>\n",
    "    <td style=\"border: 1px solid; text-align: center\">Whitney Houston</td>\n",
    "    <td style=\"border: 1px solid; text-align: center\">The Bodyguard</td>\n",
    "    <td style=\"border: 1px solid; text-align: center\">1992</td>\n",
    "    <td style=\"border: 1px solid; text-align: center\">00:57:44</td>\n",
    "    <td style=\"border: 1px solid; text-align: center\">Soundtrack/R&B, soul, pop</td>\n",
    "    <td style=\"border: 1px solid; text-align: center\">26.1</td>\n",
    "    <td style=\"border: 1px solid; text-align: center\">50</td>\n",
    "    <td style=\"border: 1px solid; text-align: center\">25-Jul-80</td>\n",
    "    <td style=\"border: 1px solid; text-align: center\">Y</td>\n",
    "    <td style=\"border: 1px solid; text-align: center\">7.0</td>\n",
    "</tr>\n",
    "<tr>\n",
    "    <td style=\"border: 1px solid; text-align: center\">Meat Loaf</td>\n",
    "    <td style=\"border: 1px solid; text-align: center\">Bat Out of Hell</td>\n",
    "    <td style=\"border: 1px solid; text-align: center\">1977</td>\n",
    "    <td style=\"border: 1px solid; text-align: center\">00:46:33</td>\n",
    "    <td style=\"border: 1px solid; text-align: center\">Hard rock, progressive rock</td>\n",
    "    <td style=\"border: 1px solid; text-align: center\">20.6</td>\n",
    "    <td style=\"border: 1px solid; text-align: center\">43</td>\n",
    "    <td style=\"border: 1px solid; text-align: center\">21-Oct-77</td>\n",
    "    <td style=\"border: 1px solid; text-align: center\"></td>\n",
    "    <td style=\"border: 1px solid; text-align: center\">7.0</td>\n",
    "</tr>\n",
    "<tr>\n",
    "    <td style=\"border: 1px solid; text-align: center\">Eagles</td>\n",
    "    <td style=\"border: 1px solid; text-align: center\">Their Greatest Hits (1971-1975)</td>\n",
    "    <td style=\"border: 1px solid; text-align: center\">1976</td>\n",
    "    <td style=\"border: 1px solid; text-align: center\">00:43:08</td>\n",
    "    <td style=\"border: 1px solid; text-align: center\">Rock, soft rock, folk rock</td>\n",
    "    <td style=\"border: 1px solid; text-align: center\">32.2</td>\n",
    "    <td style=\"border: 1px solid; text-align: center\">42</td>\n",
    "    <td style=\"border: 1px solid; text-align: center\">17-Feb-76</td>\n",
    "    <td style=\"border: 1px solid; text-align: center\"></td>\n",
    "    <td style=\"border: 1px solid; text-align: center\">9.5</td>\n",
    "</tr>\n",
    "<tr>\n",
    "    <td style=\"border: 1px solid; text-align: center\">Bee Gees</td>\n",
    "    <td style=\"border: 1px solid; text-align: center\">Saturday Night Fever</td>\n",
    "    <td style=\"border: 1px solid; text-align: center\">1977</td>\n",
    "    <td style=\"border: 1px solid; text-align: center\">1:15:54</td>\n",
    "    <td style=\"border: 1px solid; text-align: center\">Disco</td>\n",
    "    <td style=\"border: 1px solid; text-align: center\">20.6</td>\n",
    "    <td style=\"border: 1px solid; text-align: center\">40</td>\n",
    "    <td style=\"border: 1px solid; text-align: center\">15-Nov-77</td>\n",
    "    <td style=\"border: 1px solid; text-align: center\">Y</td>\n",
    "    <td style=\"border: 1px solid; text-align: center\">9.0</td>\n",
    "</tr>\n",
    "<tr>\n",
    "    <td style=\"border: 1px solid; text-align: center\">Fleetwood Mac</td>\n",
    "    <td style=\"border: 1px solid; text-align: center\">Rumours</td>\n",
    "    <td style=\"border: 1px solid; text-align: center\">1977</td>\n",
    "    <td style=\"border: 1px solid; text-align: center\">00:40:01</td>\n",
    "    <td style=\"border: 1px solid; text-align: center\">Soft rock</td>\n",
    "    <td style=\"border: 1px solid; text-align: center\">27.9</td>\n",
    "    <td style=\"border: 1px solid; text-align: center\">40</td>\n",
    "    <td style=\"border: 1px solid; text-align: center\">04-Feb-77</td>\n",
    "    <td style=\"border: 1px solid; text-align: center\"></td>\n",
    "    <td style=\"border: 1px solid; text-align: center\">9.5</td>\n",
    "</tr>\n",
    "</tbody>\n",
    "</table>\n"
   ],
   "id": "3a642953da4ee20"
  },
  {
   "metadata": {},
   "cell_type": "markdown",
   "source": "### Introduction of `Pandas`",
   "id": "53eaf6fff85c8830"
  },
  {
   "metadata": {
    "ExecuteTime": {
     "end_time": "2025-06-09T05:31:24.195850Z",
     "start_time": "2025-06-09T05:31:24.022275Z"
    }
   },
   "cell_type": "code",
   "source": "import pandas as pd",
   "id": "596aff4fd134155f",
   "outputs": [],
   "execution_count": 1
  },
  {
   "metadata": {},
   "cell_type": "markdown",
   "source": "<p>After the import command, we now have access to a large number of pre-built classes and functions. This assumes the library is installed; in our lab environment all the necessary libraries are installed. One way pandas allows you to work with data is a dataframe. Let's go through the process to go from a comma separated values (<b>.csv</b>) file to a dataframe. This variable <code>csv_path</code> stores the path of the <b>.csv</b>, that is  used as an argument to the <code>read_csv</code> function. The result is stored in the object <code>df</code>, this is a common short form used for a variable referring to a Pandas dataframe.</p>",
   "id": "a99120b97ce9afcd"
  },
  {
   "metadata": {
    "ExecuteTime": {
     "end_time": "2025-06-09T05:31:24.277790Z",
     "start_time": "2025-06-09T05:31:24.274059Z"
    }
   },
   "cell_type": "code",
   "source": [
    "import subprocess\n",
    "import sys\n",
    "\n",
    "def install_packages(packages: list[str]) -> None:\n",
    "    \"\"\"\n",
    "    Check and install the specified packages.\n",
    "    :param packages: packages to install\n",
    "    :return:\n",
    "    \"\"\"\n",
    "    count = 0\n",
    "    for package in packages:\n",
    "        try:\n",
    "            __import__(package)\n",
    "            print(f\"{count + 1}. {package} is already installed.\")\n",
    "            count += 1\n",
    "        except ImportError:\n",
    "            try:\n",
    "                result = subprocess.run(args=[sys.executable, \"-m\", \"pip\", \"show\", package], stdout=subprocess.DEVNULL,\n",
    "                                        stderr=subprocess.DEVNULL)\n",
    "                if result.returncode == 0:\n",
    "                    print(f\"{count + 1}. {package} is already installed.\")\n",
    "                    count += 1\n",
    "                else:\n",
    "                    raise subprocess.CalledProcessError(result.returncode, result.args)\n",
    "            except subprocess.CalledProcessError:\n",
    "                try:\n",
    "                    print(f\"{count + 1}. {package} is not installed. So installation will begin soon...\")\n",
    "                    subprocess.check_call([sys.executable, \"-m\", \"pip\", \"install\", package])\n",
    "                    print(f\"{count + 1}. {package} installed successfully.\")\n",
    "                except subprocess.CalledProcessError:\n",
    "                    print(f\"Failed to install {package}. Please check your internet connection or Python environment.\")\n"
   ],
   "id": "ff2e3fa54c43ad43",
   "outputs": [],
   "execution_count": 2
  },
  {
   "metadata": {
    "ExecuteTime": {
     "end_time": "2025-06-09T05:31:26.547515Z",
     "start_time": "2025-06-09T05:31:24.302282Z"
    }
   },
   "cell_type": "code",
   "source": [
    "# Download the needed library\n",
    "install_packages([\"openpyxl\"])"
   ],
   "id": "7633afd5d381ad47",
   "outputs": [
    {
     "name": "stdout",
     "output_type": "stream",
     "text": [
      "1. openpyxl is not installed. So installation will begin soon...\n",
      "1. openpyxl installed successfully.\n"
     ]
    }
   ],
   "execution_count": 3
  },
  {
   "metadata": {
    "ExecuteTime": {
     "end_time": "2025-06-09T05:31:28.032652Z",
     "start_time": "2025-06-09T05:31:26.567633Z"
    }
   },
   "cell_type": "code",
   "source": [
    "# Download the needed file\n",
    "import requests\n",
    "\n",
    "def download_files(url: str) -> str:\n",
    "    \"\"\"\n",
    "    use `requests` library to download file from a specified url\n",
    "    :param url: completely url\n",
    "    :return: filename\n",
    "    \"\"\"\n",
    "    response = requests.get(url, stream=True)\n",
    "    fn = url.split(\"/\")[-1]\n",
    "\n",
    "    if response.status_code == 200:\n",
    "        total_size = int(response.headers.get(\"content-length\", 0))\n",
    "        downloaded = 0\n",
    "\n",
    "        with open(fn, \"wb\") as file:\n",
    "            for chunk in response.iter_content(chunk_size=1024 ** 2):\n",
    "                if not chunk:\n",
    "                    continue\n",
    "\n",
    "                file.write(chunk)\n",
    "                downloaded += len(chunk)\n",
    "                percentage = downloaded / total_size * 100\n",
    "                print(f\"Downloading: {percentage}%\")\n",
    "\n",
    "        print(\"Done.\")\n",
    "        return fn\n",
    "\n",
    "    print(f\"Error. HTTP code: {response.status_code}.\")\n",
    "    return fn\n",
    "\n",
    "\n",
    "csv_path = \"https://cf-courses-data.s3.us.cloud-object-storage.appdomain.cloud/IBMDeveloperSkillsNetwork-PY0101EN-SkillsNetwork/labs/Module%204/data/TopSellingAlbums.csv\"\n",
    "\n",
    "\n",
    "filename1 = download_files(url=csv_path)\n",
    "print(f\"Filename: {filename1}\")"
   ],
   "id": "7b5a6b58448d16fe",
   "outputs": [
    {
     "name": "stdout",
     "output_type": "stream",
     "text": [
      "Downloading: 100.0%\n",
      "Done.\n",
      "Filename: TopSellingAlbums.csv\n"
     ]
    }
   ],
   "execution_count": 4
  },
  {
   "metadata": {
    "ExecuteTime": {
     "end_time": "2025-06-09T05:31:28.233835Z",
     "start_time": "2025-06-09T05:31:28.219624Z"
    }
   },
   "cell_type": "code",
   "source": [
    "df = pd.read_csv(filename1)\n",
    "df"
   ],
   "id": "f45fd7aad94507ee",
   "outputs": [
    {
     "data": {
      "text/plain": [
       "            Artist                            Album  Released   Length  \\\n",
       "0  Michael Jackson                         Thriller      1982  0:42:19   \n",
       "1            AC/DC                    Back in Black      1980  0:42:11   \n",
       "2       Pink Floyd        The Dark Side of the Moon      1973  0:42:49   \n",
       "3  Whitney Houston                    The Bodyguard      1992  0:57:44   \n",
       "4        Meat Loaf                  Bat Out of Hell      1977  0:46:33   \n",
       "5           Eagles  Their Greatest Hits (1971-1975)      1976  0:43:08   \n",
       "6         Bee Gees             Saturday Night Fever      1977  1:15:54   \n",
       "7    Fleetwood Mac                          Rumours      1977  0:40:01   \n",
       "\n",
       "                         Genre  Music Recording Sales (millions)  \\\n",
       "0               pop, rock, R&B                              46.0   \n",
       "1                    hard rock                              26.1   \n",
       "2             progressive rock                              24.2   \n",
       "3               R&B, soul, pop                              27.4   \n",
       "4  hard rock, progressive rock                              20.6   \n",
       "5   rock, soft rock, folk rock                              32.2   \n",
       "6                        disco                              20.6   \n",
       "7                    soft rock                              27.9   \n",
       "\n",
       "   Claimed Sales (millions) Released.1 Soundtrack  Rating  \n",
       "0                        65  30-Nov-82        NaN    10.0  \n",
       "1                        50  25-Jul-80        NaN     9.5  \n",
       "2                        45  01-Mar-73        NaN     9.0  \n",
       "3                        44  17-Nov-92          Y     8.5  \n",
       "4                        43  21-Oct-77        NaN     8.0  \n",
       "5                        42  17-Feb-76        NaN     7.5  \n",
       "6                        40  15-Nov-77          Y     7.0  \n",
       "7                        40  04-Feb-77        NaN     6.5  "
      ],
      "text/html": [
       "<div>\n",
       "<style scoped>\n",
       "    .dataframe tbody tr th:only-of-type {\n",
       "        vertical-align: middle;\n",
       "    }\n",
       "\n",
       "    .dataframe tbody tr th {\n",
       "        vertical-align: top;\n",
       "    }\n",
       "\n",
       "    .dataframe thead th {\n",
       "        text-align: right;\n",
       "    }\n",
       "</style>\n",
       "<table border=\"1\" class=\"dataframe\">\n",
       "  <thead>\n",
       "    <tr style=\"text-align: right;\">\n",
       "      <th></th>\n",
       "      <th>Artist</th>\n",
       "      <th>Album</th>\n",
       "      <th>Released</th>\n",
       "      <th>Length</th>\n",
       "      <th>Genre</th>\n",
       "      <th>Music Recording Sales (millions)</th>\n",
       "      <th>Claimed Sales (millions)</th>\n",
       "      <th>Released.1</th>\n",
       "      <th>Soundtrack</th>\n",
       "      <th>Rating</th>\n",
       "    </tr>\n",
       "  </thead>\n",
       "  <tbody>\n",
       "    <tr>\n",
       "      <th>0</th>\n",
       "      <td>Michael Jackson</td>\n",
       "      <td>Thriller</td>\n",
       "      <td>1982</td>\n",
       "      <td>0:42:19</td>\n",
       "      <td>pop, rock, R&amp;B</td>\n",
       "      <td>46.0</td>\n",
       "      <td>65</td>\n",
       "      <td>30-Nov-82</td>\n",
       "      <td>NaN</td>\n",
       "      <td>10.0</td>\n",
       "    </tr>\n",
       "    <tr>\n",
       "      <th>1</th>\n",
       "      <td>AC/DC</td>\n",
       "      <td>Back in Black</td>\n",
       "      <td>1980</td>\n",
       "      <td>0:42:11</td>\n",
       "      <td>hard rock</td>\n",
       "      <td>26.1</td>\n",
       "      <td>50</td>\n",
       "      <td>25-Jul-80</td>\n",
       "      <td>NaN</td>\n",
       "      <td>9.5</td>\n",
       "    </tr>\n",
       "    <tr>\n",
       "      <th>2</th>\n",
       "      <td>Pink Floyd</td>\n",
       "      <td>The Dark Side of the Moon</td>\n",
       "      <td>1973</td>\n",
       "      <td>0:42:49</td>\n",
       "      <td>progressive rock</td>\n",
       "      <td>24.2</td>\n",
       "      <td>45</td>\n",
       "      <td>01-Mar-73</td>\n",
       "      <td>NaN</td>\n",
       "      <td>9.0</td>\n",
       "    </tr>\n",
       "    <tr>\n",
       "      <th>3</th>\n",
       "      <td>Whitney Houston</td>\n",
       "      <td>The Bodyguard</td>\n",
       "      <td>1992</td>\n",
       "      <td>0:57:44</td>\n",
       "      <td>R&amp;B, soul, pop</td>\n",
       "      <td>27.4</td>\n",
       "      <td>44</td>\n",
       "      <td>17-Nov-92</td>\n",
       "      <td>Y</td>\n",
       "      <td>8.5</td>\n",
       "    </tr>\n",
       "    <tr>\n",
       "      <th>4</th>\n",
       "      <td>Meat Loaf</td>\n",
       "      <td>Bat Out of Hell</td>\n",
       "      <td>1977</td>\n",
       "      <td>0:46:33</td>\n",
       "      <td>hard rock, progressive rock</td>\n",
       "      <td>20.6</td>\n",
       "      <td>43</td>\n",
       "      <td>21-Oct-77</td>\n",
       "      <td>NaN</td>\n",
       "      <td>8.0</td>\n",
       "    </tr>\n",
       "    <tr>\n",
       "      <th>5</th>\n",
       "      <td>Eagles</td>\n",
       "      <td>Their Greatest Hits (1971-1975)</td>\n",
       "      <td>1976</td>\n",
       "      <td>0:43:08</td>\n",
       "      <td>rock, soft rock, folk rock</td>\n",
       "      <td>32.2</td>\n",
       "      <td>42</td>\n",
       "      <td>17-Feb-76</td>\n",
       "      <td>NaN</td>\n",
       "      <td>7.5</td>\n",
       "    </tr>\n",
       "    <tr>\n",
       "      <th>6</th>\n",
       "      <td>Bee Gees</td>\n",
       "      <td>Saturday Night Fever</td>\n",
       "      <td>1977</td>\n",
       "      <td>1:15:54</td>\n",
       "      <td>disco</td>\n",
       "      <td>20.6</td>\n",
       "      <td>40</td>\n",
       "      <td>15-Nov-77</td>\n",
       "      <td>Y</td>\n",
       "      <td>7.0</td>\n",
       "    </tr>\n",
       "    <tr>\n",
       "      <th>7</th>\n",
       "      <td>Fleetwood Mac</td>\n",
       "      <td>Rumours</td>\n",
       "      <td>1977</td>\n",
       "      <td>0:40:01</td>\n",
       "      <td>soft rock</td>\n",
       "      <td>27.9</td>\n",
       "      <td>40</td>\n",
       "      <td>04-Feb-77</td>\n",
       "      <td>NaN</td>\n",
       "      <td>6.5</td>\n",
       "    </tr>\n",
       "  </tbody>\n",
       "</table>\n",
       "</div>"
      ]
     },
     "execution_count": 5,
     "metadata": {},
     "output_type": "execute_result"
    }
   ],
   "execution_count": 5
  },
  {
   "metadata": {},
   "cell_type": "markdown",
   "source": "<p>We can use the method <code>head()</code> to examine the first five rows of a dataframe:</p>",
   "id": "cda50def18f1229c"
  },
  {
   "metadata": {
    "ExecuteTime": {
     "end_time": "2025-06-09T05:31:28.306346Z",
     "start_time": "2025-06-09T05:31:28.297685Z"
    }
   },
   "cell_type": "code",
   "source": "df.head()",
   "id": "ce256e4879dcdd84",
   "outputs": [
    {
     "data": {
      "text/plain": [
       "            Artist                      Album  Released   Length  \\\n",
       "0  Michael Jackson                   Thriller      1982  0:42:19   \n",
       "1            AC/DC              Back in Black      1980  0:42:11   \n",
       "2       Pink Floyd  The Dark Side of the Moon      1973  0:42:49   \n",
       "3  Whitney Houston              The Bodyguard      1992  0:57:44   \n",
       "4        Meat Loaf            Bat Out of Hell      1977  0:46:33   \n",
       "\n",
       "                         Genre  Music Recording Sales (millions)  \\\n",
       "0               pop, rock, R&B                              46.0   \n",
       "1                    hard rock                              26.1   \n",
       "2             progressive rock                              24.2   \n",
       "3               R&B, soul, pop                              27.4   \n",
       "4  hard rock, progressive rock                              20.6   \n",
       "\n",
       "   Claimed Sales (millions) Released.1 Soundtrack  Rating  \n",
       "0                        65  30-Nov-82        NaN    10.0  \n",
       "1                        50  25-Jul-80        NaN     9.5  \n",
       "2                        45  01-Mar-73        NaN     9.0  \n",
       "3                        44  17-Nov-92          Y     8.5  \n",
       "4                        43  21-Oct-77        NaN     8.0  "
      ],
      "text/html": [
       "<div>\n",
       "<style scoped>\n",
       "    .dataframe tbody tr th:only-of-type {\n",
       "        vertical-align: middle;\n",
       "    }\n",
       "\n",
       "    .dataframe tbody tr th {\n",
       "        vertical-align: top;\n",
       "    }\n",
       "\n",
       "    .dataframe thead th {\n",
       "        text-align: right;\n",
       "    }\n",
       "</style>\n",
       "<table border=\"1\" class=\"dataframe\">\n",
       "  <thead>\n",
       "    <tr style=\"text-align: right;\">\n",
       "      <th></th>\n",
       "      <th>Artist</th>\n",
       "      <th>Album</th>\n",
       "      <th>Released</th>\n",
       "      <th>Length</th>\n",
       "      <th>Genre</th>\n",
       "      <th>Music Recording Sales (millions)</th>\n",
       "      <th>Claimed Sales (millions)</th>\n",
       "      <th>Released.1</th>\n",
       "      <th>Soundtrack</th>\n",
       "      <th>Rating</th>\n",
       "    </tr>\n",
       "  </thead>\n",
       "  <tbody>\n",
       "    <tr>\n",
       "      <th>0</th>\n",
       "      <td>Michael Jackson</td>\n",
       "      <td>Thriller</td>\n",
       "      <td>1982</td>\n",
       "      <td>0:42:19</td>\n",
       "      <td>pop, rock, R&amp;B</td>\n",
       "      <td>46.0</td>\n",
       "      <td>65</td>\n",
       "      <td>30-Nov-82</td>\n",
       "      <td>NaN</td>\n",
       "      <td>10.0</td>\n",
       "    </tr>\n",
       "    <tr>\n",
       "      <th>1</th>\n",
       "      <td>AC/DC</td>\n",
       "      <td>Back in Black</td>\n",
       "      <td>1980</td>\n",
       "      <td>0:42:11</td>\n",
       "      <td>hard rock</td>\n",
       "      <td>26.1</td>\n",
       "      <td>50</td>\n",
       "      <td>25-Jul-80</td>\n",
       "      <td>NaN</td>\n",
       "      <td>9.5</td>\n",
       "    </tr>\n",
       "    <tr>\n",
       "      <th>2</th>\n",
       "      <td>Pink Floyd</td>\n",
       "      <td>The Dark Side of the Moon</td>\n",
       "      <td>1973</td>\n",
       "      <td>0:42:49</td>\n",
       "      <td>progressive rock</td>\n",
       "      <td>24.2</td>\n",
       "      <td>45</td>\n",
       "      <td>01-Mar-73</td>\n",
       "      <td>NaN</td>\n",
       "      <td>9.0</td>\n",
       "    </tr>\n",
       "    <tr>\n",
       "      <th>3</th>\n",
       "      <td>Whitney Houston</td>\n",
       "      <td>The Bodyguard</td>\n",
       "      <td>1992</td>\n",
       "      <td>0:57:44</td>\n",
       "      <td>R&amp;B, soul, pop</td>\n",
       "      <td>27.4</td>\n",
       "      <td>44</td>\n",
       "      <td>17-Nov-92</td>\n",
       "      <td>Y</td>\n",
       "      <td>8.5</td>\n",
       "    </tr>\n",
       "    <tr>\n",
       "      <th>4</th>\n",
       "      <td>Meat Loaf</td>\n",
       "      <td>Bat Out of Hell</td>\n",
       "      <td>1977</td>\n",
       "      <td>0:46:33</td>\n",
       "      <td>hard rock, progressive rock</td>\n",
       "      <td>20.6</td>\n",
       "      <td>43</td>\n",
       "      <td>21-Oct-77</td>\n",
       "      <td>NaN</td>\n",
       "      <td>8.0</td>\n",
       "    </tr>\n",
       "  </tbody>\n",
       "</table>\n",
       "</div>"
      ]
     },
     "execution_count": 6,
     "metadata": {},
     "output_type": "execute_result"
    }
   ],
   "execution_count": 6
  },
  {
   "metadata": {},
   "cell_type": "markdown",
   "source": "<p>We use the path of the Excel file and the function <code>read_excel</code>. The result is a DataFrame as before:</p>",
   "id": "764b47604e0adad8"
  },
  {
   "metadata": {
    "ExecuteTime": {
     "end_time": "2025-06-09T05:31:29.630110Z",
     "start_time": "2025-06-09T05:31:28.446957Z"
    }
   },
   "cell_type": "code",
   "source": [
    "xlsx_path = \"https://cf-courses-data.s3.us.cloud-object-storage.appdomain.cloud/IBMDeveloperSkillsNetwork-PY0101EN-SkillsNetwork/jupyterlite/files/Module%205/data/TopSellingAlbums.xlsx\"\n",
    "filename2 = download_files(url=xlsx_path)"
   ],
   "id": "547595fd203ae2e8",
   "outputs": [
    {
     "name": "stdout",
     "output_type": "stream",
     "text": [
      "Downloading: 100.0%\n",
      "Done.\n"
     ]
    }
   ],
   "execution_count": 7
  },
  {
   "metadata": {
    "ExecuteTime": {
     "end_time": "2025-06-09T05:31:31.987496Z",
     "start_time": "2025-06-09T05:31:29.704102Z"
    }
   },
   "cell_type": "code",
   "source": [
    "df = pd.read_excel(xlsx_path)\n",
    "df"
   ],
   "id": "ee30f6658fd0513b",
   "outputs": [
    {
     "data": {
      "text/plain": [
       "            Artist                            Album  Released    Length  \\\n",
       "0  Michael Jackson                         Thriller      1982  00:42:19   \n",
       "1            AC/DC                    Back in Black      1980   0:42:11   \n",
       "2       Pink Floyd        The Dark Side of the Moon      1973   0:42:49   \n",
       "3  Whitney Houston                    The Bodyguard      1992   0:57:44   \n",
       "4        Meat Loaf                  Bat Out of Hell      1977   0:46:33   \n",
       "5           Eagles  Their Greatest Hits (1971-1975)      1976   0:43:08   \n",
       "6         Bee Gees             Saturday Night Fever      1977  01:15:54   \n",
       "7    Fleetwood Mac                          Rumours      1977   0:40:01   \n",
       "\n",
       "                         Genre  Music Recording Sales (millions)  \\\n",
       "0               pop, rock, R&B                              46.0   \n",
       "1                    hard rock                              26.1   \n",
       "2             progressive rock                              24.2   \n",
       "3               R&B, soul, pop                              27.4   \n",
       "4  hard rock, progressive rock                              20.6   \n",
       "5   rock, soft rock, folk rock                              32.2   \n",
       "6                        disco                              20.6   \n",
       "7                    soft rock                              27.9   \n",
       "\n",
       "   Claimed Sales (millions) Released.1 Soundtrack  Rating  \n",
       "0                        65 1982-11-30        NaN    10.0  \n",
       "1                        50 1980-07-25        NaN     9.5  \n",
       "2                        45 1973-03-01        NaN     9.0  \n",
       "3                        44 1992-11-17          Y     8.5  \n",
       "4                        43 1977-10-21        NaN     8.0  \n",
       "5                        42 1976-02-17        NaN     7.5  \n",
       "6                        40 1977-11-15          Y     7.0  \n",
       "7                        40 1977-02-04        NaN     6.5  "
      ],
      "text/html": [
       "<div>\n",
       "<style scoped>\n",
       "    .dataframe tbody tr th:only-of-type {\n",
       "        vertical-align: middle;\n",
       "    }\n",
       "\n",
       "    .dataframe tbody tr th {\n",
       "        vertical-align: top;\n",
       "    }\n",
       "\n",
       "    .dataframe thead th {\n",
       "        text-align: right;\n",
       "    }\n",
       "</style>\n",
       "<table border=\"1\" class=\"dataframe\">\n",
       "  <thead>\n",
       "    <tr style=\"text-align: right;\">\n",
       "      <th></th>\n",
       "      <th>Artist</th>\n",
       "      <th>Album</th>\n",
       "      <th>Released</th>\n",
       "      <th>Length</th>\n",
       "      <th>Genre</th>\n",
       "      <th>Music Recording Sales (millions)</th>\n",
       "      <th>Claimed Sales (millions)</th>\n",
       "      <th>Released.1</th>\n",
       "      <th>Soundtrack</th>\n",
       "      <th>Rating</th>\n",
       "    </tr>\n",
       "  </thead>\n",
       "  <tbody>\n",
       "    <tr>\n",
       "      <th>0</th>\n",
       "      <td>Michael Jackson</td>\n",
       "      <td>Thriller</td>\n",
       "      <td>1982</td>\n",
       "      <td>00:42:19</td>\n",
       "      <td>pop, rock, R&amp;B</td>\n",
       "      <td>46.0</td>\n",
       "      <td>65</td>\n",
       "      <td>1982-11-30</td>\n",
       "      <td>NaN</td>\n",
       "      <td>10.0</td>\n",
       "    </tr>\n",
       "    <tr>\n",
       "      <th>1</th>\n",
       "      <td>AC/DC</td>\n",
       "      <td>Back in Black</td>\n",
       "      <td>1980</td>\n",
       "      <td>0:42:11</td>\n",
       "      <td>hard rock</td>\n",
       "      <td>26.1</td>\n",
       "      <td>50</td>\n",
       "      <td>1980-07-25</td>\n",
       "      <td>NaN</td>\n",
       "      <td>9.5</td>\n",
       "    </tr>\n",
       "    <tr>\n",
       "      <th>2</th>\n",
       "      <td>Pink Floyd</td>\n",
       "      <td>The Dark Side of the Moon</td>\n",
       "      <td>1973</td>\n",
       "      <td>0:42:49</td>\n",
       "      <td>progressive rock</td>\n",
       "      <td>24.2</td>\n",
       "      <td>45</td>\n",
       "      <td>1973-03-01</td>\n",
       "      <td>NaN</td>\n",
       "      <td>9.0</td>\n",
       "    </tr>\n",
       "    <tr>\n",
       "      <th>3</th>\n",
       "      <td>Whitney Houston</td>\n",
       "      <td>The Bodyguard</td>\n",
       "      <td>1992</td>\n",
       "      <td>0:57:44</td>\n",
       "      <td>R&amp;B, soul, pop</td>\n",
       "      <td>27.4</td>\n",
       "      <td>44</td>\n",
       "      <td>1992-11-17</td>\n",
       "      <td>Y</td>\n",
       "      <td>8.5</td>\n",
       "    </tr>\n",
       "    <tr>\n",
       "      <th>4</th>\n",
       "      <td>Meat Loaf</td>\n",
       "      <td>Bat Out of Hell</td>\n",
       "      <td>1977</td>\n",
       "      <td>0:46:33</td>\n",
       "      <td>hard rock, progressive rock</td>\n",
       "      <td>20.6</td>\n",
       "      <td>43</td>\n",
       "      <td>1977-10-21</td>\n",
       "      <td>NaN</td>\n",
       "      <td>8.0</td>\n",
       "    </tr>\n",
       "    <tr>\n",
       "      <th>5</th>\n",
       "      <td>Eagles</td>\n",
       "      <td>Their Greatest Hits (1971-1975)</td>\n",
       "      <td>1976</td>\n",
       "      <td>0:43:08</td>\n",
       "      <td>rock, soft rock, folk rock</td>\n",
       "      <td>32.2</td>\n",
       "      <td>42</td>\n",
       "      <td>1976-02-17</td>\n",
       "      <td>NaN</td>\n",
       "      <td>7.5</td>\n",
       "    </tr>\n",
       "    <tr>\n",
       "      <th>6</th>\n",
       "      <td>Bee Gees</td>\n",
       "      <td>Saturday Night Fever</td>\n",
       "      <td>1977</td>\n",
       "      <td>01:15:54</td>\n",
       "      <td>disco</td>\n",
       "      <td>20.6</td>\n",
       "      <td>40</td>\n",
       "      <td>1977-11-15</td>\n",
       "      <td>Y</td>\n",
       "      <td>7.0</td>\n",
       "    </tr>\n",
       "    <tr>\n",
       "      <th>7</th>\n",
       "      <td>Fleetwood Mac</td>\n",
       "      <td>Rumours</td>\n",
       "      <td>1977</td>\n",
       "      <td>0:40:01</td>\n",
       "      <td>soft rock</td>\n",
       "      <td>27.9</td>\n",
       "      <td>40</td>\n",
       "      <td>1977-02-04</td>\n",
       "      <td>NaN</td>\n",
       "      <td>6.5</td>\n",
       "    </tr>\n",
       "  </tbody>\n",
       "</table>\n",
       "</div>"
      ]
     },
     "execution_count": 8,
     "metadata": {},
     "output_type": "execute_result"
    }
   ],
   "execution_count": 8
  },
  {
   "metadata": {
    "ExecuteTime": {
     "end_time": "2025-06-09T05:31:32.050495Z",
     "start_time": "2025-06-09T05:31:32.041939Z"
    }
   },
   "cell_type": "code",
   "source": "df.head()",
   "id": "dfa0eb058006aa3f",
   "outputs": [
    {
     "data": {
      "text/plain": [
       "            Artist                      Album  Released    Length  \\\n",
       "0  Michael Jackson                   Thriller      1982  00:42:19   \n",
       "1            AC/DC              Back in Black      1980   0:42:11   \n",
       "2       Pink Floyd  The Dark Side of the Moon      1973   0:42:49   \n",
       "3  Whitney Houston              The Bodyguard      1992   0:57:44   \n",
       "4        Meat Loaf            Bat Out of Hell      1977   0:46:33   \n",
       "\n",
       "                         Genre  Music Recording Sales (millions)  \\\n",
       "0               pop, rock, R&B                              46.0   \n",
       "1                    hard rock                              26.1   \n",
       "2             progressive rock                              24.2   \n",
       "3               R&B, soul, pop                              27.4   \n",
       "4  hard rock, progressive rock                              20.6   \n",
       "\n",
       "   Claimed Sales (millions) Released.1 Soundtrack  Rating  \n",
       "0                        65 1982-11-30        NaN    10.0  \n",
       "1                        50 1980-07-25        NaN     9.5  \n",
       "2                        45 1973-03-01        NaN     9.0  \n",
       "3                        44 1992-11-17          Y     8.5  \n",
       "4                        43 1977-10-21        NaN     8.0  "
      ],
      "text/html": [
       "<div>\n",
       "<style scoped>\n",
       "    .dataframe tbody tr th:only-of-type {\n",
       "        vertical-align: middle;\n",
       "    }\n",
       "\n",
       "    .dataframe tbody tr th {\n",
       "        vertical-align: top;\n",
       "    }\n",
       "\n",
       "    .dataframe thead th {\n",
       "        text-align: right;\n",
       "    }\n",
       "</style>\n",
       "<table border=\"1\" class=\"dataframe\">\n",
       "  <thead>\n",
       "    <tr style=\"text-align: right;\">\n",
       "      <th></th>\n",
       "      <th>Artist</th>\n",
       "      <th>Album</th>\n",
       "      <th>Released</th>\n",
       "      <th>Length</th>\n",
       "      <th>Genre</th>\n",
       "      <th>Music Recording Sales (millions)</th>\n",
       "      <th>Claimed Sales (millions)</th>\n",
       "      <th>Released.1</th>\n",
       "      <th>Soundtrack</th>\n",
       "      <th>Rating</th>\n",
       "    </tr>\n",
       "  </thead>\n",
       "  <tbody>\n",
       "    <tr>\n",
       "      <th>0</th>\n",
       "      <td>Michael Jackson</td>\n",
       "      <td>Thriller</td>\n",
       "      <td>1982</td>\n",
       "      <td>00:42:19</td>\n",
       "      <td>pop, rock, R&amp;B</td>\n",
       "      <td>46.0</td>\n",
       "      <td>65</td>\n",
       "      <td>1982-11-30</td>\n",
       "      <td>NaN</td>\n",
       "      <td>10.0</td>\n",
       "    </tr>\n",
       "    <tr>\n",
       "      <th>1</th>\n",
       "      <td>AC/DC</td>\n",
       "      <td>Back in Black</td>\n",
       "      <td>1980</td>\n",
       "      <td>0:42:11</td>\n",
       "      <td>hard rock</td>\n",
       "      <td>26.1</td>\n",
       "      <td>50</td>\n",
       "      <td>1980-07-25</td>\n",
       "      <td>NaN</td>\n",
       "      <td>9.5</td>\n",
       "    </tr>\n",
       "    <tr>\n",
       "      <th>2</th>\n",
       "      <td>Pink Floyd</td>\n",
       "      <td>The Dark Side of the Moon</td>\n",
       "      <td>1973</td>\n",
       "      <td>0:42:49</td>\n",
       "      <td>progressive rock</td>\n",
       "      <td>24.2</td>\n",
       "      <td>45</td>\n",
       "      <td>1973-03-01</td>\n",
       "      <td>NaN</td>\n",
       "      <td>9.0</td>\n",
       "    </tr>\n",
       "    <tr>\n",
       "      <th>3</th>\n",
       "      <td>Whitney Houston</td>\n",
       "      <td>The Bodyguard</td>\n",
       "      <td>1992</td>\n",
       "      <td>0:57:44</td>\n",
       "      <td>R&amp;B, soul, pop</td>\n",
       "      <td>27.4</td>\n",
       "      <td>44</td>\n",
       "      <td>1992-11-17</td>\n",
       "      <td>Y</td>\n",
       "      <td>8.5</td>\n",
       "    </tr>\n",
       "    <tr>\n",
       "      <th>4</th>\n",
       "      <td>Meat Loaf</td>\n",
       "      <td>Bat Out of Hell</td>\n",
       "      <td>1977</td>\n",
       "      <td>0:46:33</td>\n",
       "      <td>hard rock, progressive rock</td>\n",
       "      <td>20.6</td>\n",
       "      <td>43</td>\n",
       "      <td>1977-10-21</td>\n",
       "      <td>NaN</td>\n",
       "      <td>8.0</td>\n",
       "    </tr>\n",
       "  </tbody>\n",
       "</table>\n",
       "</div>"
      ]
     },
     "execution_count": 9,
     "metadata": {},
     "output_type": "execute_result"
    }
   ],
   "execution_count": 9
  },
  {
   "metadata": {},
   "cell_type": "markdown",
   "source": "<p>We can access the column <b>Length</b> and assign it a new dataframe <b>x</b>:</p>",
   "id": "5b4224a1c40f4c2a"
  },
  {
   "metadata": {
    "ExecuteTime": {
     "end_time": "2025-06-09T05:31:32.166470Z",
     "start_time": "2025-06-09T05:31:32.160537Z"
    }
   },
   "cell_type": "code",
   "source": [
    "x = df[[\"Length\"]]\n",
    "x"
   ],
   "id": "7f8697321f44c57d",
   "outputs": [
    {
     "data": {
      "text/plain": [
       "     Length\n",
       "0  00:42:19\n",
       "1   0:42:11\n",
       "2   0:42:49\n",
       "3   0:57:44\n",
       "4   0:46:33\n",
       "5   0:43:08\n",
       "6  01:15:54\n",
       "7   0:40:01"
      ],
      "text/html": [
       "<div>\n",
       "<style scoped>\n",
       "    .dataframe tbody tr th:only-of-type {\n",
       "        vertical-align: middle;\n",
       "    }\n",
       "\n",
       "    .dataframe tbody tr th {\n",
       "        vertical-align: top;\n",
       "    }\n",
       "\n",
       "    .dataframe thead th {\n",
       "        text-align: right;\n",
       "    }\n",
       "</style>\n",
       "<table border=\"1\" class=\"dataframe\">\n",
       "  <thead>\n",
       "    <tr style=\"text-align: right;\">\n",
       "      <th></th>\n",
       "      <th>Length</th>\n",
       "    </tr>\n",
       "  </thead>\n",
       "  <tbody>\n",
       "    <tr>\n",
       "      <th>0</th>\n",
       "      <td>00:42:19</td>\n",
       "    </tr>\n",
       "    <tr>\n",
       "      <th>1</th>\n",
       "      <td>0:42:11</td>\n",
       "    </tr>\n",
       "    <tr>\n",
       "      <th>2</th>\n",
       "      <td>0:42:49</td>\n",
       "    </tr>\n",
       "    <tr>\n",
       "      <th>3</th>\n",
       "      <td>0:57:44</td>\n",
       "    </tr>\n",
       "    <tr>\n",
       "      <th>4</th>\n",
       "      <td>0:46:33</td>\n",
       "    </tr>\n",
       "    <tr>\n",
       "      <th>5</th>\n",
       "      <td>0:43:08</td>\n",
       "    </tr>\n",
       "    <tr>\n",
       "      <th>6</th>\n",
       "      <td>01:15:54</td>\n",
       "    </tr>\n",
       "    <tr>\n",
       "      <th>7</th>\n",
       "      <td>0:40:01</td>\n",
       "    </tr>\n",
       "  </tbody>\n",
       "</table>\n",
       "</div>"
      ]
     },
     "execution_count": 10,
     "metadata": {},
     "output_type": "execute_result"
    }
   ],
   "execution_count": 10
  },
  {
   "metadata": {},
   "cell_type": "markdown",
   "source": "### Viewing Data and Accessing Data",
   "id": "a22f478e77839c6e"
  },
  {
   "metadata": {},
   "cell_type": "markdown",
   "source": "<p>You can also get a column as a series. You can think of a Pandas series as a 1-D dataframe. Just use one bracket:</p>",
   "id": "7f8b253d01e0203e"
  },
  {
   "metadata": {
    "ExecuteTime": {
     "end_time": "2025-06-09T05:31:32.384696Z",
     "start_time": "2025-06-09T05:31:32.379527Z"
    }
   },
   "cell_type": "code",
   "source": [
    "x = df[\"Length\"]\n",
    "x"
   ],
   "id": "d9c28acc702ffd08",
   "outputs": [
    {
     "data": {
      "text/plain": [
       "0    00:42:19\n",
       "1     0:42:11\n",
       "2     0:42:49\n",
       "3     0:57:44\n",
       "4     0:46:33\n",
       "5     0:43:08\n",
       "6    01:15:54\n",
       "7     0:40:01\n",
       "Name: Length, dtype: object"
      ]
     },
     "execution_count": 11,
     "metadata": {},
     "output_type": "execute_result"
    }
   ],
   "execution_count": 11
  },
  {
   "metadata": {},
   "cell_type": "markdown",
   "source": "<p>You can also get a column as a dataframe. For example, we can assign the column <b>Artist</b>:</p>",
   "id": "65e036442fc096e3"
  },
  {
   "metadata": {
    "ExecuteTime": {
     "end_time": "2025-06-09T05:31:32.542006Z",
     "start_time": "2025-06-09T05:31:32.535969Z"
    }
   },
   "cell_type": "code",
   "source": [
    "x = df[[\"Artist\"]]\n",
    "x"
   ],
   "id": "8f2c649399e88f92",
   "outputs": [
    {
     "data": {
      "text/plain": [
       "            Artist\n",
       "0  Michael Jackson\n",
       "1            AC/DC\n",
       "2       Pink Floyd\n",
       "3  Whitney Houston\n",
       "4        Meat Loaf\n",
       "5           Eagles\n",
       "6         Bee Gees\n",
       "7    Fleetwood Mac"
      ],
      "text/html": [
       "<div>\n",
       "<style scoped>\n",
       "    .dataframe tbody tr th:only-of-type {\n",
       "        vertical-align: middle;\n",
       "    }\n",
       "\n",
       "    .dataframe tbody tr th {\n",
       "        vertical-align: top;\n",
       "    }\n",
       "\n",
       "    .dataframe thead th {\n",
       "        text-align: right;\n",
       "    }\n",
       "</style>\n",
       "<table border=\"1\" class=\"dataframe\">\n",
       "  <thead>\n",
       "    <tr style=\"text-align: right;\">\n",
       "      <th></th>\n",
       "      <th>Artist</th>\n",
       "    </tr>\n",
       "  </thead>\n",
       "  <tbody>\n",
       "    <tr>\n",
       "      <th>0</th>\n",
       "      <td>Michael Jackson</td>\n",
       "    </tr>\n",
       "    <tr>\n",
       "      <th>1</th>\n",
       "      <td>AC/DC</td>\n",
       "    </tr>\n",
       "    <tr>\n",
       "      <th>2</th>\n",
       "      <td>Pink Floyd</td>\n",
       "    </tr>\n",
       "    <tr>\n",
       "      <th>3</th>\n",
       "      <td>Whitney Houston</td>\n",
       "    </tr>\n",
       "    <tr>\n",
       "      <th>4</th>\n",
       "      <td>Meat Loaf</td>\n",
       "    </tr>\n",
       "    <tr>\n",
       "      <th>5</th>\n",
       "      <td>Eagles</td>\n",
       "    </tr>\n",
       "    <tr>\n",
       "      <th>6</th>\n",
       "      <td>Bee Gees</td>\n",
       "    </tr>\n",
       "    <tr>\n",
       "      <th>7</th>\n",
       "      <td>Fleetwood Mac</td>\n",
       "    </tr>\n",
       "  </tbody>\n",
       "</table>\n",
       "</div>"
      ]
     },
     "execution_count": 12,
     "metadata": {},
     "output_type": "execute_result"
    }
   ],
   "execution_count": 12
  },
  {
   "metadata": {
    "ExecuteTime": {
     "end_time": "2025-06-09T05:31:32.699809Z",
     "start_time": "2025-06-09T05:31:32.695059Z"
    }
   },
   "cell_type": "code",
   "source": "type(x)",
   "id": "818f3c05e0c50148",
   "outputs": [
    {
     "data": {
      "text/plain": [
       "pandas.core.frame.DataFrame"
      ]
     },
     "execution_count": 13,
     "metadata": {},
     "output_type": "execute_result"
    }
   ],
   "execution_count": 13
  },
  {
   "metadata": {},
   "cell_type": "markdown",
   "source": "<p>You can do the same thing for multiple columns; we just put the dataframe name, in this case, <code>df</code>, and the name of the multiple column headers enclosed in double brackets. The result is a new dataframe comprised of the specified columns:</p>",
   "id": "b99752fcd02c48b0"
  },
  {
   "metadata": {
    "ExecuteTime": {
     "end_time": "2025-06-09T05:31:32.861168Z",
     "start_time": "2025-06-09T05:31:32.855011Z"
    }
   },
   "cell_type": "code",
   "source": [
    "y = df[[\"Artist\", \"Length\", \"Genre\"]]\n",
    "y"
   ],
   "id": "af89d27c3cc99451",
   "outputs": [
    {
     "data": {
      "text/plain": [
       "            Artist    Length                        Genre\n",
       "0  Michael Jackson  00:42:19               pop, rock, R&B\n",
       "1            AC/DC   0:42:11                    hard rock\n",
       "2       Pink Floyd   0:42:49             progressive rock\n",
       "3  Whitney Houston   0:57:44               R&B, soul, pop\n",
       "4        Meat Loaf   0:46:33  hard rock, progressive rock\n",
       "5           Eagles   0:43:08   rock, soft rock, folk rock\n",
       "6         Bee Gees  01:15:54                        disco\n",
       "7    Fleetwood Mac   0:40:01                    soft rock"
      ],
      "text/html": [
       "<div>\n",
       "<style scoped>\n",
       "    .dataframe tbody tr th:only-of-type {\n",
       "        vertical-align: middle;\n",
       "    }\n",
       "\n",
       "    .dataframe tbody tr th {\n",
       "        vertical-align: top;\n",
       "    }\n",
       "\n",
       "    .dataframe thead th {\n",
       "        text-align: right;\n",
       "    }\n",
       "</style>\n",
       "<table border=\"1\" class=\"dataframe\">\n",
       "  <thead>\n",
       "    <tr style=\"text-align: right;\">\n",
       "      <th></th>\n",
       "      <th>Artist</th>\n",
       "      <th>Length</th>\n",
       "      <th>Genre</th>\n",
       "    </tr>\n",
       "  </thead>\n",
       "  <tbody>\n",
       "    <tr>\n",
       "      <th>0</th>\n",
       "      <td>Michael Jackson</td>\n",
       "      <td>00:42:19</td>\n",
       "      <td>pop, rock, R&amp;B</td>\n",
       "    </tr>\n",
       "    <tr>\n",
       "      <th>1</th>\n",
       "      <td>AC/DC</td>\n",
       "      <td>0:42:11</td>\n",
       "      <td>hard rock</td>\n",
       "    </tr>\n",
       "    <tr>\n",
       "      <th>2</th>\n",
       "      <td>Pink Floyd</td>\n",
       "      <td>0:42:49</td>\n",
       "      <td>progressive rock</td>\n",
       "    </tr>\n",
       "    <tr>\n",
       "      <th>3</th>\n",
       "      <td>Whitney Houston</td>\n",
       "      <td>0:57:44</td>\n",
       "      <td>R&amp;B, soul, pop</td>\n",
       "    </tr>\n",
       "    <tr>\n",
       "      <th>4</th>\n",
       "      <td>Meat Loaf</td>\n",
       "      <td>0:46:33</td>\n",
       "      <td>hard rock, progressive rock</td>\n",
       "    </tr>\n",
       "    <tr>\n",
       "      <th>5</th>\n",
       "      <td>Eagles</td>\n",
       "      <td>0:43:08</td>\n",
       "      <td>rock, soft rock, folk rock</td>\n",
       "    </tr>\n",
       "    <tr>\n",
       "      <th>6</th>\n",
       "      <td>Bee Gees</td>\n",
       "      <td>01:15:54</td>\n",
       "      <td>disco</td>\n",
       "    </tr>\n",
       "    <tr>\n",
       "      <th>7</th>\n",
       "      <td>Fleetwood Mac</td>\n",
       "      <td>0:40:01</td>\n",
       "      <td>soft rock</td>\n",
       "    </tr>\n",
       "  </tbody>\n",
       "</table>\n",
       "</div>"
      ]
     },
     "execution_count": 14,
     "metadata": {},
     "output_type": "execute_result"
    }
   ],
   "execution_count": 14
  },
  {
   "metadata": {},
   "cell_type": "markdown",
   "source": "<p>One way to access unique elements is the <code>iloc</code> method, where you can access the 1st row and the 1st column as follows:</p>",
   "id": "252089670c619d66"
  },
  {
   "metadata": {
    "ExecuteTime": {
     "end_time": "2025-06-09T05:31:32.955620Z",
     "start_time": "2025-06-09T05:31:32.951118Z"
    }
   },
   "cell_type": "code",
   "source": "df.iloc[0, 0]",
   "id": "c43e33f4a98a87e0",
   "outputs": [
    {
     "data": {
      "text/plain": [
       "'Michael Jackson'"
      ]
     },
     "execution_count": 15,
     "metadata": {},
     "output_type": "execute_result"
    }
   ],
   "execution_count": 15
  },
  {
   "metadata": {},
   "cell_type": "markdown",
   "source": "<p>You can access the 2nd row and the 1st column as follows:</p>",
   "id": "c737acd77986a21d"
  },
  {
   "metadata": {
    "ExecuteTime": {
     "end_time": "2025-06-09T05:31:33.094061Z",
     "start_time": "2025-06-09T05:31:33.089420Z"
    }
   },
   "cell_type": "code",
   "source": "df.iloc[1, 0]",
   "id": "21ab3e3cce4bf552",
   "outputs": [
    {
     "data": {
      "text/plain": [
       "'AC/DC'"
      ]
     },
     "execution_count": 16,
     "metadata": {},
     "output_type": "execute_result"
    }
   ],
   "execution_count": 16
  },
  {
   "metadata": {},
   "cell_type": "markdown",
   "source": "<p>You can access the 1st row and the 3rd column as follows:</p>",
   "id": "1ad47fd68a41e8fc"
  },
  {
   "metadata": {
    "ExecuteTime": {
     "end_time": "2025-06-09T05:31:33.177216Z",
     "start_time": "2025-06-09T05:31:33.172968Z"
    }
   },
   "cell_type": "code",
   "source": [
    "# Access the value on the 1st row and the 3rd column\n",
    "df.iloc[0, 2]"
   ],
   "id": "8d2a2e511024a395",
   "outputs": [
    {
     "data": {
      "text/plain": [
       "np.int64(1982)"
      ]
     },
     "execution_count": 17,
     "metadata": {},
     "output_type": "execute_result"
    }
   ],
   "execution_count": 17
  },
  {
   "metadata": {
    "ExecuteTime": {
     "end_time": "2025-06-09T05:31:33.243926Z",
     "start_time": "2025-06-09T05:31:33.240822Z"
    }
   },
   "cell_type": "code",
   "source": [
    "# Access the value on the 2nd row and the 3rd column\n",
    "df.iloc[1, 2]"
   ],
   "id": "28ac3175e892b798",
   "outputs": [
    {
     "data": {
      "text/plain": [
       "np.int64(1980)"
      ]
     },
     "execution_count": 18,
     "metadata": {},
     "output_type": "execute_result"
    }
   ],
   "execution_count": 18
  },
  {
   "metadata": {},
   "cell_type": "markdown",
   "source": "<p>You can access the column using the name as well, the following are the same as above:</p>",
   "id": "e4d480da37ab3e92"
  },
  {
   "metadata": {
    "ExecuteTime": {
     "end_time": "2025-06-09T05:31:33.307601Z",
     "start_time": "2025-06-09T05:31:33.303533Z"
    }
   },
   "cell_type": "code",
   "source": "df.loc[0, \"Artist\"]",
   "id": "7b56e1a46a345e3f",
   "outputs": [
    {
     "data": {
      "text/plain": [
       "'Michael Jackson'"
      ]
     },
     "execution_count": 19,
     "metadata": {},
     "output_type": "execute_result"
    }
   ],
   "execution_count": 19
  },
  {
   "metadata": {
    "ExecuteTime": {
     "end_time": "2025-06-09T05:31:33.353836Z",
     "start_time": "2025-06-09T05:31:33.348643Z"
    }
   },
   "cell_type": "code",
   "source": "df.loc[1, \"Artist\"]",
   "id": "19b1597e7d008feb",
   "outputs": [
    {
     "data": {
      "text/plain": [
       "'AC/DC'"
      ]
     },
     "execution_count": 20,
     "metadata": {},
     "output_type": "execute_result"
    }
   ],
   "execution_count": 20
  },
  {
   "metadata": {
    "ExecuteTime": {
     "end_time": "2025-06-09T05:31:33.392893Z",
     "start_time": "2025-06-09T05:31:33.388523Z"
    }
   },
   "cell_type": "code",
   "source": "df.loc[0, \"Released\"]",
   "id": "fdd9efba7c7a579",
   "outputs": [
    {
     "data": {
      "text/plain": [
       "np.int64(1982)"
      ]
     },
     "execution_count": 21,
     "metadata": {},
     "output_type": "execute_result"
    }
   ],
   "execution_count": 21
  },
  {
   "metadata": {
    "ExecuteTime": {
     "end_time": "2025-06-09T05:31:33.429918Z",
     "start_time": "2025-06-09T05:31:33.426414Z"
    }
   },
   "cell_type": "code",
   "source": "df.loc[1, \"Released\"]",
   "id": "7541586158cf4bef",
   "outputs": [
    {
     "data": {
      "text/plain": [
       "np.int64(1980)"
      ]
     },
     "execution_count": 22,
     "metadata": {},
     "output_type": "execute_result"
    }
   ],
   "execution_count": 22
  },
  {
   "metadata": {},
   "cell_type": "markdown",
   "source": "<p>You can perform slicing using both the index and the name of the column:</p>",
   "id": "d54ed1395f5be246"
  },
  {
   "metadata": {
    "ExecuteTime": {
     "end_time": "2025-06-09T05:31:33.464702Z",
     "start_time": "2025-06-09T05:31:33.459959Z"
    }
   },
   "cell_type": "code",
   "source": "df.iloc[0: 2, 0: 3]",
   "id": "1976f412b1ffd1c6",
   "outputs": [
    {
     "data": {
      "text/plain": [
       "            Artist          Album  Released\n",
       "0  Michael Jackson       Thriller      1982\n",
       "1            AC/DC  Back in Black      1980"
      ],
      "text/html": [
       "<div>\n",
       "<style scoped>\n",
       "    .dataframe tbody tr th:only-of-type {\n",
       "        vertical-align: middle;\n",
       "    }\n",
       "\n",
       "    .dataframe tbody tr th {\n",
       "        vertical-align: top;\n",
       "    }\n",
       "\n",
       "    .dataframe thead th {\n",
       "        text-align: right;\n",
       "    }\n",
       "</style>\n",
       "<table border=\"1\" class=\"dataframe\">\n",
       "  <thead>\n",
       "    <tr style=\"text-align: right;\">\n",
       "      <th></th>\n",
       "      <th>Artist</th>\n",
       "      <th>Album</th>\n",
       "      <th>Released</th>\n",
       "    </tr>\n",
       "  </thead>\n",
       "  <tbody>\n",
       "    <tr>\n",
       "      <th>0</th>\n",
       "      <td>Michael Jackson</td>\n",
       "      <td>Thriller</td>\n",
       "      <td>1982</td>\n",
       "    </tr>\n",
       "    <tr>\n",
       "      <th>1</th>\n",
       "      <td>AC/DC</td>\n",
       "      <td>Back in Black</td>\n",
       "      <td>1980</td>\n",
       "    </tr>\n",
       "  </tbody>\n",
       "</table>\n",
       "</div>"
      ]
     },
     "execution_count": 23,
     "metadata": {},
     "output_type": "execute_result"
    }
   ],
   "execution_count": 23
  },
  {
   "metadata": {
    "ExecuteTime": {
     "end_time": "2025-06-09T05:31:33.525755Z",
     "start_time": "2025-06-09T05:31:33.518903Z"
    }
   },
   "cell_type": "code",
   "source": "df.loc[0: 2, \"Artist\": \"Released\"]",
   "id": "34503f63f73e29d",
   "outputs": [
    {
     "data": {
      "text/plain": [
       "            Artist                      Album  Released\n",
       "0  Michael Jackson                   Thriller      1982\n",
       "1            AC/DC              Back in Black      1980\n",
       "2       Pink Floyd  The Dark Side of the Moon      1973"
      ],
      "text/html": [
       "<div>\n",
       "<style scoped>\n",
       "    .dataframe tbody tr th:only-of-type {\n",
       "        vertical-align: middle;\n",
       "    }\n",
       "\n",
       "    .dataframe tbody tr th {\n",
       "        vertical-align: top;\n",
       "    }\n",
       "\n",
       "    .dataframe thead th {\n",
       "        text-align: right;\n",
       "    }\n",
       "</style>\n",
       "<table border=\"1\" class=\"dataframe\">\n",
       "  <thead>\n",
       "    <tr style=\"text-align: right;\">\n",
       "      <th></th>\n",
       "      <th>Artist</th>\n",
       "      <th>Album</th>\n",
       "      <th>Released</th>\n",
       "    </tr>\n",
       "  </thead>\n",
       "  <tbody>\n",
       "    <tr>\n",
       "      <th>0</th>\n",
       "      <td>Michael Jackson</td>\n",
       "      <td>Thriller</td>\n",
       "      <td>1982</td>\n",
       "    </tr>\n",
       "    <tr>\n",
       "      <th>1</th>\n",
       "      <td>AC/DC</td>\n",
       "      <td>Back in Black</td>\n",
       "      <td>1980</td>\n",
       "    </tr>\n",
       "    <tr>\n",
       "      <th>2</th>\n",
       "      <td>Pink Floyd</td>\n",
       "      <td>The Dark Side of the Moon</td>\n",
       "      <td>1973</td>\n",
       "    </tr>\n",
       "  </tbody>\n",
       "</table>\n",
       "</div>"
      ]
     },
     "execution_count": 24,
     "metadata": {},
     "output_type": "execute_result"
    }
   ],
   "execution_count": 24
  },
  {
   "metadata": {},
   "cell_type": "markdown",
   "source": "### Quiz on DataFrame",
   "id": "19a57e351bfdcd2b"
  },
  {
   "metadata": {},
   "cell_type": "markdown",
   "source": "<p>Use a variable <code>q</code> to store the column <b>Rating</b> as a dataframe</p>",
   "id": "d97362afc66355f9"
  },
  {
   "metadata": {
    "ExecuteTime": {
     "end_time": "2025-06-09T05:31:33.652761Z",
     "start_time": "2025-06-09T05:31:33.645485Z"
    }
   },
   "cell_type": "code",
   "source": [
    "q = df[[\"Rating\"]]\n",
    "q"
   ],
   "id": "bc24d9d4ed9f8fbb",
   "outputs": [
    {
     "data": {
      "text/plain": [
       "   Rating\n",
       "0    10.0\n",
       "1     9.5\n",
       "2     9.0\n",
       "3     8.5\n",
       "4     8.0\n",
       "5     7.5\n",
       "6     7.0\n",
       "7     6.5"
      ],
      "text/html": [
       "<div>\n",
       "<style scoped>\n",
       "    .dataframe tbody tr th:only-of-type {\n",
       "        vertical-align: middle;\n",
       "    }\n",
       "\n",
       "    .dataframe tbody tr th {\n",
       "        vertical-align: top;\n",
       "    }\n",
       "\n",
       "    .dataframe thead th {\n",
       "        text-align: right;\n",
       "    }\n",
       "</style>\n",
       "<table border=\"1\" class=\"dataframe\">\n",
       "  <thead>\n",
       "    <tr style=\"text-align: right;\">\n",
       "      <th></th>\n",
       "      <th>Rating</th>\n",
       "    </tr>\n",
       "  </thead>\n",
       "  <tbody>\n",
       "    <tr>\n",
       "      <th>0</th>\n",
       "      <td>10.0</td>\n",
       "    </tr>\n",
       "    <tr>\n",
       "      <th>1</th>\n",
       "      <td>9.5</td>\n",
       "    </tr>\n",
       "    <tr>\n",
       "      <th>2</th>\n",
       "      <td>9.0</td>\n",
       "    </tr>\n",
       "    <tr>\n",
       "      <th>3</th>\n",
       "      <td>8.5</td>\n",
       "    </tr>\n",
       "    <tr>\n",
       "      <th>4</th>\n",
       "      <td>8.0</td>\n",
       "    </tr>\n",
       "    <tr>\n",
       "      <th>5</th>\n",
       "      <td>7.5</td>\n",
       "    </tr>\n",
       "    <tr>\n",
       "      <th>6</th>\n",
       "      <td>7.0</td>\n",
       "    </tr>\n",
       "    <tr>\n",
       "      <th>7</th>\n",
       "      <td>6.5</td>\n",
       "    </tr>\n",
       "  </tbody>\n",
       "</table>\n",
       "</div>"
      ]
     },
     "execution_count": 25,
     "metadata": {},
     "output_type": "execute_result"
    }
   ],
   "execution_count": 25
  },
  {
   "metadata": {},
   "cell_type": "markdown",
   "source": "<p>Assign the variable <code>q</code> to the dataframe that is made up of the column <b>Released</b> and <b>Artist</b>:</p>",
   "id": "e355a2df39ae681"
  },
  {
   "metadata": {
    "ExecuteTime": {
     "end_time": "2025-06-09T05:31:33.846402Z",
     "start_time": "2025-06-09T05:31:33.841143Z"
    }
   },
   "cell_type": "code",
   "source": [
    "q = df[[\"Released\", \"Artist\"]]\n",
    "q"
   ],
   "id": "8f9088ceb80e8e91",
   "outputs": [
    {
     "data": {
      "text/plain": [
       "   Released           Artist\n",
       "0      1982  Michael Jackson\n",
       "1      1980            AC/DC\n",
       "2      1973       Pink Floyd\n",
       "3      1992  Whitney Houston\n",
       "4      1977        Meat Loaf\n",
       "5      1976           Eagles\n",
       "6      1977         Bee Gees\n",
       "7      1977    Fleetwood Mac"
      ],
      "text/html": [
       "<div>\n",
       "<style scoped>\n",
       "    .dataframe tbody tr th:only-of-type {\n",
       "        vertical-align: middle;\n",
       "    }\n",
       "\n",
       "    .dataframe tbody tr th {\n",
       "        vertical-align: top;\n",
       "    }\n",
       "\n",
       "    .dataframe thead th {\n",
       "        text-align: right;\n",
       "    }\n",
       "</style>\n",
       "<table border=\"1\" class=\"dataframe\">\n",
       "  <thead>\n",
       "    <tr style=\"text-align: right;\">\n",
       "      <th></th>\n",
       "      <th>Released</th>\n",
       "      <th>Artist</th>\n",
       "    </tr>\n",
       "  </thead>\n",
       "  <tbody>\n",
       "    <tr>\n",
       "      <th>0</th>\n",
       "      <td>1982</td>\n",
       "      <td>Michael Jackson</td>\n",
       "    </tr>\n",
       "    <tr>\n",
       "      <th>1</th>\n",
       "      <td>1980</td>\n",
       "      <td>AC/DC</td>\n",
       "    </tr>\n",
       "    <tr>\n",
       "      <th>2</th>\n",
       "      <td>1973</td>\n",
       "      <td>Pink Floyd</td>\n",
       "    </tr>\n",
       "    <tr>\n",
       "      <th>3</th>\n",
       "      <td>1992</td>\n",
       "      <td>Whitney Houston</td>\n",
       "    </tr>\n",
       "    <tr>\n",
       "      <th>4</th>\n",
       "      <td>1977</td>\n",
       "      <td>Meat Loaf</td>\n",
       "    </tr>\n",
       "    <tr>\n",
       "      <th>5</th>\n",
       "      <td>1976</td>\n",
       "      <td>Eagles</td>\n",
       "    </tr>\n",
       "    <tr>\n",
       "      <th>6</th>\n",
       "      <td>1977</td>\n",
       "      <td>Bee Gees</td>\n",
       "    </tr>\n",
       "    <tr>\n",
       "      <th>7</th>\n",
       "      <td>1977</td>\n",
       "      <td>Fleetwood Mac</td>\n",
       "    </tr>\n",
       "  </tbody>\n",
       "</table>\n",
       "</div>"
      ]
     },
     "execution_count": 26,
     "metadata": {},
     "output_type": "execute_result"
    }
   ],
   "execution_count": 26
  },
  {
   "metadata": {},
   "cell_type": "markdown",
   "source": "<p>Access the 2nd row and the 3rd column of <code>df</code>:</p>",
   "id": "a9c0a674bcd18968"
  },
  {
   "metadata": {
    "ExecuteTime": {
     "end_time": "2025-06-09T05:31:34.011594Z",
     "start_time": "2025-06-09T05:31:34.007750Z"
    }
   },
   "cell_type": "code",
   "source": "df.iloc[1, 2]",
   "id": "f364872534a548b",
   "outputs": [
    {
     "data": {
      "text/plain": [
       "np.int64(1980)"
      ]
     },
     "execution_count": 27,
     "metadata": {},
     "output_type": "execute_result"
    }
   ],
   "execution_count": 27
  },
  {
   "metadata": {},
   "cell_type": "markdown",
   "source": "<p>Use the following list to convert the dataframe index <code>df</code> to characters and assign it to <code>df_new</code>; find the element corresponding to the row index <code>a</code> and column <code>\"Artist\"</code>. Then select the rows <code>a</code> through <code>d</code> for the column <code>\"Artist\"</code>.</p>",
   "id": "8e2342b6da2e9bc9"
  },
  {
   "metadata": {
    "ExecuteTime": {
     "end_time": "2025-06-09T05:31:34.221711Z",
     "start_time": "2025-06-09T05:31:34.207677Z"
    }
   },
   "cell_type": "code",
   "source": [
    "new_index = [\"a\", \"b\", \"c\", \"d\", \"e\", \"f\", \"g\", \"h\"]\n",
    "df_new = df\n",
    "df_new.index = new_index\n",
    "df_new"
   ],
   "id": "5ba13240b3b33ad9",
   "outputs": [
    {
     "data": {
      "text/plain": [
       "            Artist                            Album  Released    Length  \\\n",
       "a  Michael Jackson                         Thriller      1982  00:42:19   \n",
       "b            AC/DC                    Back in Black      1980   0:42:11   \n",
       "c       Pink Floyd        The Dark Side of the Moon      1973   0:42:49   \n",
       "d  Whitney Houston                    The Bodyguard      1992   0:57:44   \n",
       "e        Meat Loaf                  Bat Out of Hell      1977   0:46:33   \n",
       "f           Eagles  Their Greatest Hits (1971-1975)      1976   0:43:08   \n",
       "g         Bee Gees             Saturday Night Fever      1977  01:15:54   \n",
       "h    Fleetwood Mac                          Rumours      1977   0:40:01   \n",
       "\n",
       "                         Genre  Music Recording Sales (millions)  \\\n",
       "a               pop, rock, R&B                              46.0   \n",
       "b                    hard rock                              26.1   \n",
       "c             progressive rock                              24.2   \n",
       "d               R&B, soul, pop                              27.4   \n",
       "e  hard rock, progressive rock                              20.6   \n",
       "f   rock, soft rock, folk rock                              32.2   \n",
       "g                        disco                              20.6   \n",
       "h                    soft rock                              27.9   \n",
       "\n",
       "   Claimed Sales (millions) Released.1 Soundtrack  Rating  \n",
       "a                        65 1982-11-30        NaN    10.0  \n",
       "b                        50 1980-07-25        NaN     9.5  \n",
       "c                        45 1973-03-01        NaN     9.0  \n",
       "d                        44 1992-11-17          Y     8.5  \n",
       "e                        43 1977-10-21        NaN     8.0  \n",
       "f                        42 1976-02-17        NaN     7.5  \n",
       "g                        40 1977-11-15          Y     7.0  \n",
       "h                        40 1977-02-04        NaN     6.5  "
      ],
      "text/html": [
       "<div>\n",
       "<style scoped>\n",
       "    .dataframe tbody tr th:only-of-type {\n",
       "        vertical-align: middle;\n",
       "    }\n",
       "\n",
       "    .dataframe tbody tr th {\n",
       "        vertical-align: top;\n",
       "    }\n",
       "\n",
       "    .dataframe thead th {\n",
       "        text-align: right;\n",
       "    }\n",
       "</style>\n",
       "<table border=\"1\" class=\"dataframe\">\n",
       "  <thead>\n",
       "    <tr style=\"text-align: right;\">\n",
       "      <th></th>\n",
       "      <th>Artist</th>\n",
       "      <th>Album</th>\n",
       "      <th>Released</th>\n",
       "      <th>Length</th>\n",
       "      <th>Genre</th>\n",
       "      <th>Music Recording Sales (millions)</th>\n",
       "      <th>Claimed Sales (millions)</th>\n",
       "      <th>Released.1</th>\n",
       "      <th>Soundtrack</th>\n",
       "      <th>Rating</th>\n",
       "    </tr>\n",
       "  </thead>\n",
       "  <tbody>\n",
       "    <tr>\n",
       "      <th>a</th>\n",
       "      <td>Michael Jackson</td>\n",
       "      <td>Thriller</td>\n",
       "      <td>1982</td>\n",
       "      <td>00:42:19</td>\n",
       "      <td>pop, rock, R&amp;B</td>\n",
       "      <td>46.0</td>\n",
       "      <td>65</td>\n",
       "      <td>1982-11-30</td>\n",
       "      <td>NaN</td>\n",
       "      <td>10.0</td>\n",
       "    </tr>\n",
       "    <tr>\n",
       "      <th>b</th>\n",
       "      <td>AC/DC</td>\n",
       "      <td>Back in Black</td>\n",
       "      <td>1980</td>\n",
       "      <td>0:42:11</td>\n",
       "      <td>hard rock</td>\n",
       "      <td>26.1</td>\n",
       "      <td>50</td>\n",
       "      <td>1980-07-25</td>\n",
       "      <td>NaN</td>\n",
       "      <td>9.5</td>\n",
       "    </tr>\n",
       "    <tr>\n",
       "      <th>c</th>\n",
       "      <td>Pink Floyd</td>\n",
       "      <td>The Dark Side of the Moon</td>\n",
       "      <td>1973</td>\n",
       "      <td>0:42:49</td>\n",
       "      <td>progressive rock</td>\n",
       "      <td>24.2</td>\n",
       "      <td>45</td>\n",
       "      <td>1973-03-01</td>\n",
       "      <td>NaN</td>\n",
       "      <td>9.0</td>\n",
       "    </tr>\n",
       "    <tr>\n",
       "      <th>d</th>\n",
       "      <td>Whitney Houston</td>\n",
       "      <td>The Bodyguard</td>\n",
       "      <td>1992</td>\n",
       "      <td>0:57:44</td>\n",
       "      <td>R&amp;B, soul, pop</td>\n",
       "      <td>27.4</td>\n",
       "      <td>44</td>\n",
       "      <td>1992-11-17</td>\n",
       "      <td>Y</td>\n",
       "      <td>8.5</td>\n",
       "    </tr>\n",
       "    <tr>\n",
       "      <th>e</th>\n",
       "      <td>Meat Loaf</td>\n",
       "      <td>Bat Out of Hell</td>\n",
       "      <td>1977</td>\n",
       "      <td>0:46:33</td>\n",
       "      <td>hard rock, progressive rock</td>\n",
       "      <td>20.6</td>\n",
       "      <td>43</td>\n",
       "      <td>1977-10-21</td>\n",
       "      <td>NaN</td>\n",
       "      <td>8.0</td>\n",
       "    </tr>\n",
       "    <tr>\n",
       "      <th>f</th>\n",
       "      <td>Eagles</td>\n",
       "      <td>Their Greatest Hits (1971-1975)</td>\n",
       "      <td>1976</td>\n",
       "      <td>0:43:08</td>\n",
       "      <td>rock, soft rock, folk rock</td>\n",
       "      <td>32.2</td>\n",
       "      <td>42</td>\n",
       "      <td>1976-02-17</td>\n",
       "      <td>NaN</td>\n",
       "      <td>7.5</td>\n",
       "    </tr>\n",
       "    <tr>\n",
       "      <th>g</th>\n",
       "      <td>Bee Gees</td>\n",
       "      <td>Saturday Night Fever</td>\n",
       "      <td>1977</td>\n",
       "      <td>01:15:54</td>\n",
       "      <td>disco</td>\n",
       "      <td>20.6</td>\n",
       "      <td>40</td>\n",
       "      <td>1977-11-15</td>\n",
       "      <td>Y</td>\n",
       "      <td>7.0</td>\n",
       "    </tr>\n",
       "    <tr>\n",
       "      <th>h</th>\n",
       "      <td>Fleetwood Mac</td>\n",
       "      <td>Rumours</td>\n",
       "      <td>1977</td>\n",
       "      <td>0:40:01</td>\n",
       "      <td>soft rock</td>\n",
       "      <td>27.9</td>\n",
       "      <td>40</td>\n",
       "      <td>1977-02-04</td>\n",
       "      <td>NaN</td>\n",
       "      <td>6.5</td>\n",
       "    </tr>\n",
       "  </tbody>\n",
       "</table>\n",
       "</div>"
      ]
     },
     "execution_count": 28,
     "metadata": {},
     "output_type": "execute_result"
    }
   ],
   "execution_count": 28
  },
  {
   "metadata": {
    "ExecuteTime": {
     "end_time": "2025-06-09T05:31:34.409425Z",
     "start_time": "2025-06-09T05:31:34.403495Z"
    }
   },
   "cell_type": "code",
   "source": "df_new.loc[\"a\", \"Artist\"]",
   "id": "a2062499c88f9b84",
   "outputs": [
    {
     "data": {
      "text/plain": [
       "'Michael Jackson'"
      ]
     },
     "execution_count": 29,
     "metadata": {},
     "output_type": "execute_result"
    }
   ],
   "execution_count": 29
  },
  {
   "metadata": {
    "ExecuteTime": {
     "end_time": "2025-06-09T05:31:34.559843Z",
     "start_time": "2025-06-09T05:31:34.555789Z"
    }
   },
   "cell_type": "code",
   "source": "df_new.loc[\"a\": \"d\", \"Artist\"]",
   "id": "3ec562f00d3a5074",
   "outputs": [
    {
     "data": {
      "text/plain": [
       "a    Michael Jackson\n",
       "b              AC/DC\n",
       "c         Pink Floyd\n",
       "d    Whitney Houston\n",
       "Name: Artist, dtype: object"
      ]
     },
     "execution_count": 30,
     "metadata": {},
     "output_type": "execute_result"
    }
   ],
   "execution_count": 30
  },
  {
   "metadata": {},
   "cell_type": "markdown",
   "source": [
    "****\n",
    "This is the end of the file.\n",
    "****"
   ],
   "id": "d8409ee4980110ab"
  }
 ],
 "metadata": {
  "kernelspec": {
   "display_name": "Python 3",
   "language": "python",
   "name": "python3"
  },
  "language_info": {
   "codemirror_mode": {
    "name": "ipython",
    "version": 2
   },
   "file_extension": ".py",
   "mimetype": "text/x-python",
   "name": "python",
   "nbconvert_exporter": "python",
   "pygments_lexer": "ipython2",
   "version": "2.7.6"
  }
 },
 "nbformat": 4,
 "nbformat_minor": 5
}
