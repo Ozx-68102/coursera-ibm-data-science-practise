{
 "cells": [
  {
   "metadata": {},
   "cell_type": "markdown",
   "source": "### Create a 2D `NumPy` Array",
   "id": "569733b10a20ce48"
  },
  {
   "metadata": {
    "ExecuteTime": {
     "end_time": "2025-06-11T03:36:27.641543Z",
     "start_time": "2025-06-11T03:36:27.533595Z"
    }
   },
   "cell_type": "code",
   "source": "import numpy as np",
   "id": "eb7c52498b5efa36",
   "outputs": [],
   "execution_count": 1
  },
  {
   "metadata": {},
   "cell_type": "markdown",
   "source": "<p>Consider the list <code>a</code>, which contains three nested lists <b>each of equal size</b>.</p>",
   "id": "7e942baf97b8dad5"
  },
  {
   "metadata": {
    "ExecuteTime": {
     "end_time": "2025-06-11T03:36:27.849119Z",
     "start_time": "2025-06-11T03:36:27.833210Z"
    }
   },
   "cell_type": "code",
   "source": [
    "a = [[10, 11, 12], [20, 21, 22], [30, 31, 32]]\n",
    "a"
   ],
   "id": "73fa2fd28f213795",
   "outputs": [
    {
     "data": {
      "text/plain": [
       "[[10, 11, 12], [20, 21, 22], [30, 31, 32]]"
      ]
     },
     "execution_count": 2,
     "metadata": {},
     "output_type": "execute_result"
    }
   ],
   "execution_count": 2
  },
  {
   "metadata": {},
   "cell_type": "markdown",
   "source": "<p>We can cast the list to a Numpy Array as follows:</p>",
   "id": "941077d97dc0ac9c"
  },
  {
   "metadata": {
    "ExecuteTime": {
     "end_time": "2025-06-11T03:36:27.970200Z",
     "start_time": "2025-06-11T03:36:27.960352Z"
    }
   },
   "cell_type": "code",
   "source": [
    "npa = np.array(a)\n",
    "npa"
   ],
   "id": "7fa95a78fa3c1377",
   "outputs": [
    {
     "data": {
      "text/plain": [
       "array([[10, 11, 12],\n",
       "       [20, 21, 22],\n",
       "       [30, 31, 32]])"
      ]
     },
     "execution_count": 3,
     "metadata": {},
     "output_type": "execute_result"
    }
   ],
   "execution_count": 3
  },
  {
   "metadata": {},
   "cell_type": "markdown",
   "source": "<p>We can use the attribute <code>ndim</code> to obtain the number of axes or dimensions, referred to as the rank.</p>",
   "id": "d49a59979cf284de"
  },
  {
   "metadata": {
    "ExecuteTime": {
     "end_time": "2025-06-11T03:36:28.549502Z",
     "start_time": "2025-06-11T03:36:28.538499Z"
    }
   },
   "cell_type": "code",
   "source": "npa.ndim",
   "id": "9ee5abd99c733517",
   "outputs": [
    {
     "data": {
      "text/plain": [
       "2"
      ]
     },
     "execution_count": 4,
     "metadata": {},
     "output_type": "execute_result"
    }
   ],
   "execution_count": 4
  },
  {
   "metadata": {},
   "cell_type": "markdown",
   "source": "<p>Attribute <code>shape</code> returns a tuple corresponding to the size or number of each dimension.</p>",
   "id": "fbb6e4c7e062dbae"
  },
  {
   "metadata": {
    "ExecuteTime": {
     "end_time": "2025-06-11T03:36:28.876503Z",
     "start_time": "2025-06-11T03:36:28.869801Z"
    }
   },
   "cell_type": "code",
   "source": "npa.shape",
   "id": "ec314ac3e2745821",
   "outputs": [
    {
     "data": {
      "text/plain": [
       "(3, 3)"
      ]
     },
     "execution_count": 5,
     "metadata": {},
     "output_type": "execute_result"
    }
   ],
   "execution_count": 5
  },
  {
   "metadata": {},
   "cell_type": "markdown",
   "source": "<p>The total number of elements in the array is given by the attribute <code>size</code>.</p>",
   "id": "fef79eedb40dc6a6"
  },
  {
   "metadata": {
    "ExecuteTime": {
     "end_time": "2025-06-11T03:36:29.101805Z",
     "start_time": "2025-06-11T03:36:29.093954Z"
    }
   },
   "cell_type": "code",
   "source": "npa.size",
   "id": "9d61a0ec88b91861",
   "outputs": [
    {
     "data": {
      "text/plain": [
       "9"
      ]
     },
     "execution_count": 6,
     "metadata": {},
     "output_type": "execute_result"
    }
   ],
   "execution_count": 6
  },
  {
   "metadata": {},
   "cell_type": "markdown",
   "source": "### Accessing different elements of a `NumPy` Array",
   "id": "43e9db41d584ad49"
  },
  {
   "metadata": {},
   "cell_type": "markdown",
   "source": "<p>We simply use the square brackets and the indices corresponding to the element we would like:</p>",
   "id": "653e3b38aede6607"
  },
  {
   "metadata": {
    "ExecuteTime": {
     "end_time": "2025-06-11T03:36:29.227224Z",
     "start_time": "2025-06-11T03:36:29.220536Z"
    }
   },
   "cell_type": "code",
   "source": "npa[1, 2]",
   "id": "c87ad894cb3dd37c",
   "outputs": [
    {
     "data": {
      "text/plain": [
       "np.int64(22)"
      ]
     },
     "execution_count": 7,
     "metadata": {},
     "output_type": "execute_result"
    }
   ],
   "execution_count": 7
  },
  {
   "metadata": {},
   "cell_type": "markdown",
   "source": "<p>We can also use the following notation to obtain the elements:</p>",
   "id": "b343907d0ef23f29"
  },
  {
   "metadata": {
    "ExecuteTime": {
     "end_time": "2025-06-11T03:36:29.381963Z",
     "start_time": "2025-06-11T03:36:29.374664Z"
    }
   },
   "cell_type": "code",
   "source": "npa[1][2]",
   "id": "dc9f4e9d34f48492",
   "outputs": [
    {
     "data": {
      "text/plain": [
       "np.int64(22)"
      ]
     },
     "execution_count": 8,
     "metadata": {},
     "output_type": "execute_result"
    }
   ],
   "execution_count": 8
  },
  {
   "metadata": {},
   "cell_type": "markdown",
   "source": "<p>We can also use slicing in numpy arrays.</p>",
   "id": "1efefbaf941c7b40"
  },
  {
   "metadata": {},
   "cell_type": "markdown",
   "source": "<p>We would like to obtain the first two columns in the first row. This can be done with the following syntax.</p>",
   "id": "41e1b7b6160dd165"
  },
  {
   "metadata": {
    "ExecuteTime": {
     "end_time": "2025-06-11T03:36:29.531065Z",
     "start_time": "2025-06-11T03:36:29.523336Z"
    }
   },
   "cell_type": "code",
   "source": [
    "# Access the element on the first row and first and second columns\n",
    "npa[0][0: 2]"
   ],
   "id": "b8ab07f2e142f11b",
   "outputs": [
    {
     "data": {
      "text/plain": [
       "array([10, 11])"
      ]
     },
     "execution_count": 9,
     "metadata": {},
     "output_type": "execute_result"
    }
   ],
   "execution_count": 9
  },
  {
   "metadata": {},
   "cell_type": "markdown",
   "source": "<p>Similarly, we can obtain the first two rows of the 3rd column as follows:</p>",
   "id": "af9535668d36744d"
  },
  {
   "metadata": {
    "ExecuteTime": {
     "end_time": "2025-06-11T03:36:29.753831Z",
     "start_time": "2025-06-11T03:36:29.743992Z"
    }
   },
   "cell_type": "code",
   "source": "npa[0: 2, 2]",
   "id": "a1a73cc0048e6dd7",
   "outputs": [
    {
     "data": {
      "text/plain": [
       "array([12, 22])"
      ]
     },
     "execution_count": 10,
     "metadata": {},
     "output_type": "execute_result"
    }
   ],
   "execution_count": 10
  },
  {
   "metadata": {},
   "cell_type": "markdown",
   "source": "### Basic Operations",
   "id": "549285e90da54b34"
  },
  {
   "metadata": {},
   "cell_type": "markdown",
   "source": "<p>We can also add arrays. The process is identical to matrix addition. Matrix addition of <code>x</code> and <code>y</code> is shown in the following figure:</p>",
   "id": "8907cab91fe286df"
  },
  {
   "metadata": {},
   "cell_type": "markdown",
   "source": [
    "<div style=\"display: flex; align-items: flex-end; gap: 20px; margin: 20px 0;\">\n",
    "    <div style=\"display: flex; flex-direction: column; align-items: center; gap: 8px;\">\n",
    "        <span style=\"font-size: 16px; font-weight: bold; \">x</span>\n",
    "        <table style=\"border-collapse: collapse;\">\n",
    "            <tr>\n",
    "                <td style=\"padding: 8px 12px; border: 1px solid;\">1</td>\n",
    "                <td style=\"padding: 8px 12px; border: 1px solid;\">0</td>\n",
    "            </tr>\n",
    "            <tr>\n",
    "                <td style=\"padding: 8px 12px; border: 1px solid;\">0</td>\n",
    "                <td style=\"padding: 8px 12px; border: 1px solid;\">1</td>\n",
    "            </tr>\n",
    "        </table>\n",
    "    </div>\n",
    "    <span style=\"font-size: 24px;  margin-bottom: 24px;\">+</span>\n",
    "    <div style=\"display: flex; flex-direction: column; align-items: center; gap: 8px;\">\n",
    "        <span style=\"font-size: 16px; font-weight: bold;\">y</span>\n",
    "        <table style=\"border-collapse: collapse;\">\n",
    "            <tr>\n",
    "                <td style=\"padding: 8px 12px; border: 1px solid;\">2</td>\n",
    "                <td style=\"padding: 8px 12px; border: 1px solid;\">1</td>\n",
    "            </tr>\n",
    "            <tr>\n",
    "                <td style=\"padding: 8px 12px; border: 1px solid;\">1</td>\n",
    "                <td style=\"padding: 8px 12px; border: 1px solid;\">2</td>\n",
    "            </tr>\n",
    "        </table>\n",
    "    </div>\n",
    "    <span style=\"font-size: 24px;  margin-bottom: 24px;\">=</span>\n",
    "    <div style=\"display: flex; flex-direction: column; align-items: center; gap: 8px;\">\n",
    "        <span style=\"font-size: 16px; font-weight: bold;\">x+y (Process)</span>\n",
    "        <table style=\"border-collapse: collapse;\">\n",
    "            <tr>\n",
    "                <td style=\"padding: 8px 12px; border: 1px solid;\">1+2</td>\n",
    "                <td style=\"padding: 8px 12px; border: 1px solid;\">0+1</td>\n",
    "            </tr>\n",
    "            <tr>\n",
    "                <td style=\"padding: 8px 12px; border: 1px solid;\">0+1</td>\n",
    "                <td style=\"padding: 8px 12px; border: 1px solid;\">1+2</td>\n",
    "            </tr>\n",
    "        </table>\n",
    "    </div>\n",
    "    <span style=\"font-size: 24px;  margin-bottom: 24px;\">=</span>\n",
    "    <div style=\"display: flex; flex-direction: column; align-items: center; gap: 8px;\">\n",
    "        <span style=\"font-size: 16px; font-weight: bold;\">x+y (Result)</span>\n",
    "        <table style=\"border-collapse: collapse;\">\n",
    "            <tr>\n",
    "                <td style=\"padding: 8px 12px; font-weight: bold; border: 1px solid;\">3</td>\n",
    "                <td style=\"padding: 8px 12px; font-weight: bold; border: 1px solid;\">1</td>\n",
    "            </tr>\n",
    "            <tr>\n",
    "                <td style=\"padding: 8px 12px; font-weight: bold; border: 1px solid;\">1</td>\n",
    "                <td style=\"padding: 8px 12px; font-weight: bold; border: 1px solid;\">3</td>\n",
    "            </tr>\n",
    "        </table>\n",
    "    </div>\n",
    "</div>"
   ],
   "id": "db813cde9b3ad81f"
  },
  {
   "metadata": {},
   "cell_type": "markdown",
   "source": "<p>The numpy array is given by <code>x</code> and <code>y</code>.</p>",
   "id": "979380b7220bd5b7"
  },
  {
   "metadata": {
    "ExecuteTime": {
     "end_time": "2025-06-11T03:36:29.918593Z",
     "start_time": "2025-06-11T03:36:29.912041Z"
    }
   },
   "cell_type": "code",
   "source": [
    "x = np.array([[1, 0], [0, 1]])\n",
    "x"
   ],
   "id": "5d0149dc9dbb9b26",
   "outputs": [
    {
     "data": {
      "text/plain": [
       "array([[1, 0],\n",
       "       [0, 1]])"
      ]
     },
     "execution_count": 11,
     "metadata": {},
     "output_type": "execute_result"
    }
   ],
   "execution_count": 11
  },
  {
   "metadata": {
    "ExecuteTime": {
     "end_time": "2025-06-11T03:36:30.077172Z",
     "start_time": "2025-06-11T03:36:30.070810Z"
    }
   },
   "cell_type": "code",
   "source": [
    "y = np.array([[2, 1], [1, 2]])\n",
    "y"
   ],
   "id": "55d383747179af42",
   "outputs": [
    {
     "data": {
      "text/plain": [
       "array([[2, 1],\n",
       "       [1, 2]])"
      ]
     },
     "execution_count": 12,
     "metadata": {},
     "output_type": "execute_result"
    }
   ],
   "execution_count": 12
  },
  {
   "metadata": {},
   "cell_type": "markdown",
   "source": "<p>We can add the numpy arrays as follows.</p>",
   "id": "1baf82f1d3ec6c8a"
  },
  {
   "metadata": {
    "ExecuteTime": {
     "end_time": "2025-06-11T03:36:30.436225Z",
     "start_time": "2025-06-11T03:36:30.429432Z"
    }
   },
   "cell_type": "code",
   "source": "x + y",
   "id": "48fa9edb5112114f",
   "outputs": [
    {
     "data": {
      "text/plain": [
       "array([[3, 1],\n",
       "       [1, 3]])"
      ]
     },
     "execution_count": 13,
     "metadata": {},
     "output_type": "execute_result"
    }
   ],
   "execution_count": 13
  },
  {
   "metadata": {},
   "cell_type": "markdown",
   "source": "<p>Multiplying a numpy array by a scaler is identical to multiplying a matrix by a scaler. If we multiply the matrix <code>y</code> by the scaler 2, we simply multiply every element in the matrix by 2, as shown in the figure.</p>",
   "id": "f0fac05258122ab5"
  },
  {
   "metadata": {},
   "cell_type": "markdown",
   "source": [
    "<div style=\"display: flex; flex-direction: column; gap: 30px; margin: 20px 0;\">\n",
    "    <div style=\"display: flex; flex-direction: column; align-items: center; gap: 8px;\">\n",
    "        <span style=\"font-size: 16px; font-weight: bold;\">y</span>\n",
    "        <table style=\"border-collapse: collapse;\">\n",
    "            <tr>\n",
    "                <td style=\"padding: 8px 12px; border: 1px solid;\">2</td>\n",
    "                <td style=\"padding: 8px 12px; border: 1px solid;\">1</td>\n",
    "            </tr>\n",
    "            <tr>\n",
    "                <td style=\"padding: 8px 12px; border: 1px solid;\">1</td>\n",
    "                <td style=\"padding: 8px 12px; border: 1px solid;\">2</td>\n",
    "            </tr>\n",
    "        </table>\n",
    "    </div>\n",
    "    <div style=\"display: flex; align-items: center; gap: 20px; justify-content: center;\">\n",
    "        <div style=\"display: flex; flex-direction: column; align-items: center; gap: 8px;\">\n",
    "            <span style=\"font-size: 16px; font-weight: bold;\">2y</span>\n",
    "            <table style=\"border-collapse: collapse;\">\n",
    "                <tr>\n",
    "                    <td style=\"padding: 8px 12px; border: 1px solid;\">2×2</td>\n",
    "                    <td style=\"padding: 8px 12px; border: 1px solid;\">2×1</td>\n",
    "                </tr>\n",
    "                <tr>\n",
    "                    <td style=\"padding: 8px 12px; border: 1px solid;\">2×1</td>\n",
    "                    <td style=\"padding: 8px 12px; border: 1px solid;\">2×2</td>\n",
    "                </tr>\n",
    "            </table>\n",
    "        </div>\n",
    "        <span style=\"font-size: 24px;\">=</span>\n",
    "        <div style=\"display: flex; flex-direction: column; align-items: center; gap: 8px;\">\n",
    "            <span style=\"font-size: 16px; font-weight: bold;\">Result</span>\n",
    "            <table style=\"border-collapse: collapse;\">\n",
    "                <tr>\n",
    "                    <td style=\"padding: 8px 12px; font-weight: bold; border: 1px solid;\">4</td>\n",
    "                    <td style=\"padding: 8px 12px; font-weight: bold; border: 1px solid;\">2</td>\n",
    "                </tr>\n",
    "                <tr>\n",
    "                    <td style=\"padding: 8px 12px; font-weight: bold; border: 1px solid;\">2</td>\n",
    "                    <td style=\"padding: 8px 12px; font-weight: bold; border: 1px solid;\">4</td>\n",
    "                </tr>\n",
    "            </table>\n",
    "        </div>\n",
    "    </div>\n",
    "</div>\n"
   ],
   "id": "44861bf913a86002"
  },
  {
   "metadata": {},
   "cell_type": "markdown",
   "source": "<p>We can perform the same operation in numpy as follows.</p>",
   "id": "b6c387da7a0c5311"
  },
  {
   "metadata": {
    "ExecuteTime": {
     "end_time": "2025-06-11T03:36:30.973072Z",
     "start_time": "2025-06-11T03:36:30.966228Z"
    }
   },
   "cell_type": "code",
   "source": "2 * y",
   "id": "e661f756ea4630ac",
   "outputs": [
    {
     "data": {
      "text/plain": [
       "array([[4, 2],\n",
       "       [2, 4]])"
      ]
     },
     "execution_count": 14,
     "metadata": {},
     "output_type": "execute_result"
    }
   ],
   "execution_count": 14
  },
  {
   "metadata": {},
   "cell_type": "markdown",
   "source": "<p>Multiplication of two arrays corresponds to an element-wise product or <em>Hadamard product</em>. Consider matrix <code>X</code> and <code>Y</code>. The Hadamard product corresponds to multiplying each of the elements in the same position, i.e. multiplying elements contained in the same color boxes together. The result is a new matrix that is the same size as matrix <code>Y</code> or <code>X</code>, as shown in the following figure.</p>",
   "id": "a528d33a0aab1ecc"
  },
  {
   "metadata": {},
   "cell_type": "markdown",
   "source": [
    "<div style=\"display: flex; align-items: flex-end; gap: 20px; margin: 20px 0;\">\n",
    "    <div style=\"display: flex; flex-direction: column; align-items: center; gap: 8px;\">\n",
    "        <span style=\"font-size: 16px; font-weight: bold; \">x</span>\n",
    "        <table style=\"border-collapse: collapse;\">\n",
    "            <tr>\n",
    "                <td style=\"padding: 8px 12px; border: 1px solid;\">1</td>\n",
    "                <td style=\"padding: 8px 12px; border: 1px solid;\">0</td>\n",
    "            </tr>\n",
    "            <tr>\n",
    "                <td style=\"padding: 8px 12px; border: 1px solid;\">0</td>\n",
    "                <td style=\"padding: 8px 12px; border: 1px solid;\">1</td>\n",
    "            </tr>\n",
    "        </table>\n",
    "    </div>\n",
    "    <span style=\"font-size: 24px; margin-bottom: 24px;\">×</span>\n",
    "    <div style=\"display: flex; flex-direction: column; align-items: center; gap: 8px;\">\n",
    "        <span style=\"font-size: 16px; font-weight: bold;\">y</span>\n",
    "        <table style=\"border-collapse: collapse;\">\n",
    "            <tr>\n",
    "                <td style=\"padding: 8px 12px; border: 1px solid;\">2</td>\n",
    "                <td style=\"padding: 8px 12px; border: 1px solid;\">1</td>\n",
    "            </tr>\n",
    "            <tr>\n",
    "                <td style=\"padding: 8px 12px; border: 1px solid;\">1</td>\n",
    "                <td style=\"padding: 8px 12px; border: 1px solid;\">2</td>\n",
    "            </tr>\n",
    "        </table>\n",
    "    </div>\n",
    "    <span style=\"font-size: 24px; margin-bottom: 24px;\">=</span>\n",
    "    <div style=\"display: flex; flex-direction: column; align-items: center; gap: 8px;\">\n",
    "        <span style=\"font-size: 16px; font-weight: bold;\">x×y (Process)</span>\n",
    "        <table style=\"border-collapse: collapse;\">\n",
    "            <tr>\n",
    "                <td style=\"padding: 8px 12px; border: 1px solid;\">1×2</td>\n",
    "                <td style=\"padding: 8px 12px; border: 1px solid;\">0×1</td>\n",
    "            </tr>\n",
    "            <tr>\n",
    "                <td style=\"padding: 8px 12px; border: 1px solid;\">0×1</td>\n",
    "                <td style=\"padding: 8px 12px; border: 1px solid;\">1×2</td>\n",
    "            </tr>\n",
    "        </table>\n",
    "    </div>\n",
    "    <span style=\"font-size: 24px; margin-bottom: 24px;\">=</span>\n",
    "    <div style=\"display: flex; flex-direction: column; align-items: center; gap: 8px;\">\n",
    "        <span style=\"font-size: 16px; font-weight: bold;\">x×y (Result)</span>\n",
    "        <table style=\"border-collapse: collapse;\">\n",
    "            <tr>\n",
    "                <td style=\"padding: 8px 12px; font-weight: bold; border: 1px solid;\">2</td>\n",
    "                <td style=\"padding: 8px 12px; font-weight: bold; border: 1px solid;\">0</td>\n",
    "            </tr>\n",
    "            <tr>\n",
    "                <td style=\"padding: 8px 12px; font-weight: bold; border: 1px solid;\">0</td>\n",
    "                <td style=\"padding: 8px 12px; font-weight: bold; border: 1px solid;\">2</td>\n",
    "            </tr>\n",
    "        </table>\n",
    "    </div>\n",
    "</div>"
   ],
   "id": "ecebb5e14da9eeb7"
  },
  {
   "metadata": {},
   "cell_type": "markdown",
   "source": "<p>We can perform element-wise product of the array <code>x</code> and <code>y</code> as follows:</p>",
   "id": "b81b34791eccffcd"
  },
  {
   "metadata": {
    "ExecuteTime": {
     "end_time": "2025-06-11T03:36:31.331404Z",
     "start_time": "2025-06-11T03:36:31.325438Z"
    }
   },
   "cell_type": "code",
   "source": "x * y",
   "id": "f0740660743ec956",
   "outputs": [
    {
     "data": {
      "text/plain": [
       "array([[2, 0],\n",
       "       [0, 2]])"
      ]
     },
     "execution_count": 15,
     "metadata": {},
     "output_type": "execute_result"
    }
   ],
   "execution_count": 15
  },
  {
   "metadata": {},
   "cell_type": "markdown",
   "source": "<p>We can also perform matrix multiplication with the numpy arrays <code>a</code> and <code>b</code> as follows:</p>",
   "id": "f7af857d1bf52a0c"
  },
  {
   "metadata": {},
   "cell_type": "markdown",
   "source": "<p>First, we define matrix <code>a</code> and <code>b</code>:</p>",
   "id": "dcf420f497d0e24e"
  },
  {
   "metadata": {
    "ExecuteTime": {
     "end_time": "2025-06-11T03:36:31.673076Z",
     "start_time": "2025-06-11T03:36:31.665469Z"
    }
   },
   "cell_type": "code",
   "source": [
    "a = np.array([[0, 1, 3], [2, 0, 3]])\n",
    "a"
   ],
   "id": "2ecdf31f2570d7c6",
   "outputs": [
    {
     "data": {
      "text/plain": [
       "array([[0, 1, 3],\n",
       "       [2, 0, 3]])"
      ]
     },
     "execution_count": 16,
     "metadata": {},
     "output_type": "execute_result"
    }
   ],
   "execution_count": 16
  },
  {
   "metadata": {
    "ExecuteTime": {
     "end_time": "2025-06-11T03:36:31.910394Z",
     "start_time": "2025-06-11T03:36:31.901308Z"
    }
   },
   "cell_type": "code",
   "source": [
    "b = np.array([[0, 2], [9, 9], [-1, 2]])\n",
    "b"
   ],
   "id": "7a0d64b7257b3b8",
   "outputs": [
    {
     "data": {
      "text/plain": [
       "array([[ 0,  2],\n",
       "       [ 9,  9],\n",
       "       [-1,  2]])"
      ]
     },
     "execution_count": 17,
     "metadata": {},
     "output_type": "execute_result"
    }
   ],
   "execution_count": 17
  },
  {
   "metadata": {},
   "cell_type": "markdown",
   "source": "<p>We use the numpy function <code>dot</code> to multiply the arrays together.</p>",
   "id": "35f945142415e1a8"
  },
  {
   "metadata": {
    "ExecuteTime": {
     "end_time": "2025-06-11T03:36:32.155329Z",
     "start_time": "2025-06-11T03:36:32.149501Z"
    }
   },
   "cell_type": "code",
   "source": [
    "c = np.dot(a, b)\n",
    "c"
   ],
   "id": "95d2778037da38a3",
   "outputs": [
    {
     "data": {
      "text/plain": [
       "array([[ 6, 15],\n",
       "       [-3, 10]])"
      ]
     },
     "execution_count": 18,
     "metadata": {},
     "output_type": "execute_result"
    }
   ],
   "execution_count": 18
  },
  {
   "metadata": {
    "ExecuteTime": {
     "end_time": "2025-06-11T03:36:32.428363Z",
     "start_time": "2025-06-11T03:36:32.422803Z"
    }
   },
   "cell_type": "code",
   "source": "np.sin(c)",
   "id": "347a7db9920c8b93",
   "outputs": [
    {
     "data": {
      "text/plain": [
       "array([[-0.2794155 ,  0.65028784],\n",
       "       [-0.14112001, -0.54402111]])"
      ]
     },
     "execution_count": 19,
     "metadata": {},
     "output_type": "execute_result"
    }
   ],
   "execution_count": 19
  },
  {
   "metadata": {},
   "cell_type": "markdown",
   "source": "<p>We use the numpy attribute <code>T</code> to calculate the transposed matrix.</p>",
   "id": "bc07883791adda6c"
  },
  {
   "metadata": {
    "ExecuteTime": {
     "end_time": "2025-06-11T03:36:32.765056Z",
     "start_time": "2025-06-11T03:36:32.753376Z"
    }
   },
   "cell_type": "code",
   "source": [
    "c = np.array([[1, 2], [3, 4], [5, 6]])\n",
    "c"
   ],
   "id": "c05d1e1c25701963",
   "outputs": [
    {
     "data": {
      "text/plain": [
       "array([[1, 2],\n",
       "       [3, 4],\n",
       "       [5, 6]])"
      ]
     },
     "execution_count": 20,
     "metadata": {},
     "output_type": "execute_result"
    }
   ],
   "execution_count": 20
  },
  {
   "metadata": {
    "ExecuteTime": {
     "end_time": "2025-06-11T03:36:33.092598Z",
     "start_time": "2025-06-11T03:36:33.087180Z"
    }
   },
   "cell_type": "code",
   "source": "c.T",
   "id": "c5297ba65010ab68",
   "outputs": [
    {
     "data": {
      "text/plain": [
       "array([[1, 3, 5],\n",
       "       [2, 4, 6]])"
      ]
     },
     "execution_count": 21,
     "metadata": {},
     "output_type": "execute_result"
    }
   ],
   "execution_count": 21
  },
  {
   "metadata": {},
   "cell_type": "markdown",
   "source": "### Quiz on 2D `NumPy` Array",
   "id": "42440c73a0af1d4a"
  },
  {
   "metadata": {},
   "cell_type": "markdown",
   "source": "<p>Consider the following list <code>a</code>, convert it to Numpy Array.</p>",
   "id": "cfb8add98f79b3a9"
  },
  {
   "metadata": {
    "ExecuteTime": {
     "end_time": "2025-06-11T03:36:33.479840Z",
     "start_time": "2025-06-11T03:36:33.473062Z"
    }
   },
   "cell_type": "code",
   "source": [
    "a = [[1, 2, 3, 4], [5, 6, 7, 8], [9, 10, 11, 12]]\n",
    "npa = np.array(a)\n",
    "npa"
   ],
   "id": "93ad107cf448d57e",
   "outputs": [
    {
     "data": {
      "text/plain": [
       "array([[ 1,  2,  3,  4],\n",
       "       [ 5,  6,  7,  8],\n",
       "       [ 9, 10, 11, 12]])"
      ]
     },
     "execution_count": 22,
     "metadata": {},
     "output_type": "execute_result"
    }
   ],
   "execution_count": 22
  },
  {
   "metadata": {},
   "cell_type": "markdown",
   "source": "<p>Calculate the numpy array size.</p>",
   "id": "6236f9dec92beefa"
  },
  {
   "metadata": {
    "ExecuteTime": {
     "end_time": "2025-06-11T03:36:33.848792Z",
     "start_time": "2025-06-11T03:36:33.839604Z"
    }
   },
   "cell_type": "code",
   "source": "npa.size",
   "id": "f7a4ff003ddc79dd",
   "outputs": [
    {
     "data": {
      "text/plain": [
       "12"
      ]
     },
     "execution_count": 23,
     "metadata": {},
     "output_type": "execute_result"
    }
   ],
   "execution_count": 23
  },
  {
   "metadata": {},
   "cell_type": "markdown",
   "source": "<p>Access the element on the first row and first and second columns.</p>",
   "id": "3daf8577522da245"
  },
  {
   "metadata": {
    "ExecuteTime": {
     "end_time": "2025-06-11T03:36:34.180472Z",
     "start_time": "2025-06-11T03:36:34.174238Z"
    }
   },
   "cell_type": "code",
   "source": "npa[0, 0: 2]",
   "id": "c1261de146508d68",
   "outputs": [
    {
     "data": {
      "text/plain": [
       "array([1, 2])"
      ]
     },
     "execution_count": 24,
     "metadata": {},
     "output_type": "execute_result"
    }
   ],
   "execution_count": 24
  },
  {
   "metadata": {},
   "cell_type": "markdown",
   "source": "<p>Perform matrix multiplication with the numpy arrays <code>npa</code> and <code>npb</code>.</p>",
   "id": "bc5bbe4734ed9982"
  },
  {
   "metadata": {
    "ExecuteTime": {
     "end_time": "2025-06-11T03:36:34.442313Z",
     "start_time": "2025-06-11T03:36:34.434560Z"
    }
   },
   "cell_type": "code",
   "source": [
    "npb = np.array([[0, 1], [2, 3], [-2, 0], [1, 1]])\n",
    "npb"
   ],
   "id": "87841b64b6738a00",
   "outputs": [
    {
     "data": {
      "text/plain": [
       "array([[ 0,  1],\n",
       "       [ 2,  3],\n",
       "       [-2,  0],\n",
       "       [ 1,  1]])"
      ]
     },
     "execution_count": 25,
     "metadata": {},
     "output_type": "execute_result"
    }
   ],
   "execution_count": 25
  },
  {
   "metadata": {
    "ExecuteTime": {
     "end_time": "2025-06-11T03:36:34.593767Z",
     "start_time": "2025-06-11T03:36:34.587656Z"
    }
   },
   "cell_type": "code",
   "source": "np.dot(npa, npb)",
   "id": "f67143719316acd2",
   "outputs": [
    {
     "data": {
      "text/plain": [
       "array([[ 2, 11],\n",
       "       [ 6, 31],\n",
       "       [10, 51]])"
      ]
     },
     "execution_count": 26,
     "metadata": {},
     "output_type": "execute_result"
    }
   ],
   "execution_count": 26
  },
  {
   "metadata": {},
   "cell_type": "markdown",
   "source": [
    "****\n",
    "This is the end of the file.\n",
    "****"
   ],
   "id": "99fe54173cdf8341"
  }
 ],
 "metadata": {
  "kernelspec": {
   "display_name": "Python 3",
   "language": "python",
   "name": "python3"
  },
  "language_info": {
   "codemirror_mode": {
    "name": "ipython",
    "version": 2
   },
   "file_extension": ".py",
   "mimetype": "text/x-python",
   "name": "python",
   "nbconvert_exporter": "python",
   "pygments_lexer": "ipython2",
   "version": "2.7.6"
  }
 },
 "nbformat": 4,
 "nbformat_minor": 5
}
