{
 "cells": [
  {
   "metadata": {},
   "cell_type": "markdown",
   "source": "## Download Data",
   "id": "6fa7a0d36058becf"
  },
  {
   "metadata": {
    "ExecuteTime": {
     "end_time": "2025-06-06T03:44:39.239729Z",
     "start_time": "2025-06-06T03:44:37.612726Z"
    }
   },
   "cell_type": "code",
   "source": [
    "import requests\n",
    "\n",
    "url = \"https://cf-courses-data.s3.us.cloud-object-storage.appdomain.cloud/IBMDeveloperSkillsNetwork-PY0101EN-SkillsNetwork/labs/Module%204/data/example1.txt\"\n",
    "\n",
    "response = requests.get(url, stream=True)\n",
    "filename = \"example1.txt\"\n",
    "\n",
    "if response.status_code == 200:\n",
    "    total_size = int(response.headers.get(\"Content-Length\", 0))\n",
    "    downloaded_size = 0\n",
    "    with open(filename, \"wb\") as file:\n",
    "        for chunk in response.iter_content(chunk_size=1024 ** 2):\n",
    "            if chunk:\n",
    "                file.write(chunk)\n",
    "                downloaded_size += len(chunk)\n",
    "                percentage = downloaded_size / total_size * 100\n",
    "                print(f\"Downloading: {percentage}%\")\n",
    "    print(\"Done.\")\n",
    "else:\n",
    "    print(f\"Error. HTTP code:{response.status_code}.\")"
   ],
   "id": "7c0ffc5e8bae5bd2",
   "outputs": [
    {
     "name": "stdout",
     "output_type": "stream",
     "text": [
      "Downloading: 100.0%\n",
      "Done.\n"
     ]
    }
   ],
   "execution_count": 1
  },
  {
   "metadata": {},
   "cell_type": "markdown",
   "source": "### Reading text files",
   "id": "bb652b3fd7641445"
  },
  {
   "metadata": {},
   "cell_type": "markdown",
   "source": "<p>One way to read or write a file in Python is to use the built-in <code>open</code> function. The <code>open</code> function provides a <b>File object</b> that contains the methods and attributes you need in order to read, save, and manipulate the file. In this notebook, we will only cover <b>.txt</b> files. The first parameter you need is the file path and the file name.</p>",
   "id": "60b0fa010fd94926"
  },
  {
   "metadata": {},
   "cell_type": "markdown",
   "source": [
    "<p>The mode argument is optional and the default value is <code>r</code>. In this notebook we only cover two modes:</p>\n",
    "\n",
    "<ul>\n",
    "    <li><b>r</b>: Read mode for reading files </li>\n",
    "    <li><b>w</b>: Write mode(including overwrite) for writing files</li>\n",
    "</ul>"
   ],
   "id": "51712cfdab03c994"
  },
  {
   "metadata": {},
   "cell_type": "markdown",
   "source": "<p>For the next example, we will use the text file <b>Example1.txt</b>. We read the file:</p>",
   "id": "a684c2e1d8ad72a8"
  },
  {
   "metadata": {
    "ExecuteTime": {
     "end_time": "2025-06-06T03:44:39.487527Z",
     "start_time": "2025-06-06T03:44:39.481110Z"
    }
   },
   "cell_type": "code",
   "source": "file1 = open(filename, \"r\")",
   "id": "bd6ae5bc4cc1e40a",
   "outputs": [],
   "execution_count": 2
  },
  {
   "metadata": {},
   "cell_type": "markdown",
   "source": "<p>The name of the file:</p>",
   "id": "cb4388ff31783ef5"
  },
  {
   "metadata": {
    "ExecuteTime": {
     "end_time": "2025-06-06T03:44:39.546820Z",
     "start_time": "2025-06-06T03:44:39.537525Z"
    }
   },
   "cell_type": "code",
   "source": "file1.name",
   "id": "c49aabfaa4076c38",
   "outputs": [
    {
     "data": {
      "text/plain": [
       "'example1.txt'"
      ]
     },
     "execution_count": 3,
     "metadata": {},
     "output_type": "execute_result"
    }
   ],
   "execution_count": 3
  },
  {
   "metadata": {},
   "cell_type": "markdown",
   "source": "<p>The mode the file object is in:</p>",
   "id": "6effaf4195c4bc58"
  },
  {
   "metadata": {
    "ExecuteTime": {
     "end_time": "2025-06-06T03:44:39.649707Z",
     "start_time": "2025-06-06T03:44:39.641916Z"
    }
   },
   "cell_type": "code",
   "source": "file1.mode",
   "id": "fcbb95b14565846b",
   "outputs": [
    {
     "data": {
      "text/plain": [
       "'r'"
      ]
     },
     "execution_count": 4,
     "metadata": {},
     "output_type": "execute_result"
    }
   ],
   "execution_count": 4
  },
  {
   "metadata": {},
   "cell_type": "markdown",
   "source": "<p>We can read the file and assign it to a variable:</p>",
   "id": "e8040e0cde47db11"
  },
  {
   "metadata": {
    "ExecuteTime": {
     "end_time": "2025-06-06T03:44:39.762677Z",
     "start_time": "2025-06-06T03:44:39.756029Z"
    }
   },
   "cell_type": "code",
   "source": [
    "file_content = file1.read()\n",
    "file_content"
   ],
   "id": "c762d02021020f9a",
   "outputs": [
    {
     "data": {
      "text/plain": [
       "'This is line 1 \\nThis is line 2\\nThis is line 3'"
      ]
     },
     "execution_count": 5,
     "metadata": {},
     "output_type": "execute_result"
    }
   ],
   "execution_count": 5
  },
  {
   "metadata": {},
   "cell_type": "markdown",
   "source": "<p>The <b>/n</b> means that there is a new line.",
   "id": "b45fe195737186be"
  },
  {
   "metadata": {},
   "cell_type": "markdown",
   "source": "<p>We can print the file:</p>",
   "id": "10e13c668abe616a"
  },
  {
   "metadata": {
    "ExecuteTime": {
     "end_time": "2025-06-06T03:44:39.862821Z",
     "start_time": "2025-06-06T03:44:39.858405Z"
    }
   },
   "cell_type": "code",
   "source": "print(file_content)",
   "id": "2e3f9e49cd71ecef",
   "outputs": [
    {
     "name": "stdout",
     "output_type": "stream",
     "text": [
      "This is line 1 \n",
      "This is line 2\n",
      "This is line 3\n"
     ]
    }
   ],
   "execution_count": 6
  },
  {
   "metadata": {},
   "cell_type": "markdown",
   "source": "<p>The file is of type string.</p>",
   "id": "1794579c29b02c9e"
  },
  {
   "metadata": {
    "ExecuteTime": {
     "end_time": "2025-06-06T03:44:39.956Z",
     "start_time": "2025-06-06T03:44:39.950234Z"
    }
   },
   "cell_type": "code",
   "source": "type(file_content)",
   "id": "e9ab9930618ba903",
   "outputs": [
    {
     "data": {
      "text/plain": [
       "str"
      ]
     },
     "execution_count": 7,
     "metadata": {},
     "output_type": "execute_result"
    }
   ],
   "execution_count": 7
  },
  {
   "metadata": {},
   "cell_type": "markdown",
   "source": "<p>It is very important that the file is closed in the end. This frees up resources and ensures consistency across different python versions.</p>",
   "id": "94ab559b0c4a541c"
  },
  {
   "metadata": {
    "ExecuteTime": {
     "end_time": "2025-06-06T03:44:40.053415Z",
     "start_time": "2025-06-06T03:44:40.049404Z"
    }
   },
   "cell_type": "code",
   "source": "file1.close()",
   "id": "aa55d53a9578cfa4",
   "outputs": [],
   "execution_count": 8
  },
  {
   "metadata": {},
   "cell_type": "markdown",
   "source": "### A better way to open a file",
   "id": "740b780b02d6f452"
  },
  {
   "metadata": {},
   "cell_type": "markdown",
   "source": "<p>Using the <code>with</code> statement is better practice, it automatically closes the file even if the code encounters an exception. The code will run everything in the indent block then close the file object.</p>",
   "id": "d84f08d1f06b48f3"
  },
  {
   "metadata": {
    "ExecuteTime": {
     "end_time": "2025-06-06T03:44:40.095046Z",
     "start_time": "2025-06-06T03:44:40.089926Z"
    }
   },
   "cell_type": "code",
   "source": [
    "with open(filename, \"r\") as file:\n",
    "    file_content = file.read()\n",
    "print(file_content)"
   ],
   "id": "db6e59979e4ea41d",
   "outputs": [
    {
     "name": "stdout",
     "output_type": "stream",
     "text": [
      "This is line 1 \n",
      "This is line 2\n",
      "This is line 3\n"
     ]
    }
   ],
   "execution_count": 9
  },
  {
   "metadata": {},
   "cell_type": "markdown",
   "source": "<p>The file object is closed, you can verify it by running the following cell:</p>",
   "id": "7e5d281feca7b4e3"
  },
  {
   "metadata": {
    "ExecuteTime": {
     "end_time": "2025-06-06T03:44:40.163845Z",
     "start_time": "2025-06-06T03:44:40.157876Z"
    }
   },
   "cell_type": "code",
   "source": "file.closed",
   "id": "11edf339291db899",
   "outputs": [
    {
     "data": {
      "text/plain": [
       "True"
      ]
     },
     "execution_count": 10,
     "metadata": {},
     "output_type": "execute_result"
    }
   ],
   "execution_count": 10
  },
  {
   "metadata": {},
   "cell_type": "markdown",
   "source": "<p>The syntax is a little confusing as the file object is after the <code>as</code> statement.</p>",
   "id": "636fb011095e9bcf"
  },
  {
   "metadata": {},
   "cell_type": "markdown",
   "source": "<p>We don't have to read the entire file, for example, we can read the first 4 characters by entering three as a parameter to the method <code>.read()</code>:</p>",
   "id": "c983fbec7c1615b2"
  },
  {
   "metadata": {
    "ExecuteTime": {
     "end_time": "2025-06-06T03:44:40.261310Z",
     "start_time": "2025-06-06T03:44:40.255507Z"
    }
   },
   "cell_type": "code",
   "source": [
    "with open(filename, \"r\") as file:\n",
    "    print(file.read(4))"
   ],
   "id": "3e5128bfc734898d",
   "outputs": [
    {
     "name": "stdout",
     "output_type": "stream",
     "text": [
      "This\n"
     ]
    }
   ],
   "execution_count": 11
  },
  {
   "metadata": {},
   "cell_type": "markdown",
   "source": "<p>Once the method <code>.read(4)</code> is called the first 4 characters are called. If we call the method again, the next 4 characters are called. The output for the following cell will demonstrate the process for different inputs to the method <code>read()</code>:</p>",
   "id": "265007ddd0c37186"
  },
  {
   "metadata": {
    "ExecuteTime": {
     "end_time": "2025-06-06T03:44:40.354520Z",
     "start_time": "2025-06-06T03:44:40.349662Z"
    }
   },
   "cell_type": "code",
   "source": [
    "with open(filename, \"r\") as file:\n",
    "    print(file.read(4))\n",
    "    print(file.read(5))\n",
    "    print(file.read(10))\n",
    "    print(file.read(15))"
   ],
   "id": "dda63e9070bb8b4e",
   "outputs": [
    {
     "name": "stdout",
     "output_type": "stream",
     "text": [
      "This\n",
      " is l\n",
      "ine 1 \n",
      "Thi\n",
      "s is line 2\n",
      "Thi\n"
     ]
    }
   ],
   "execution_count": 12
  },
  {
   "metadata": {},
   "cell_type": "markdown",
   "source": "<p>Here is an example using the same file, but instead we read 16, 5, and then 9 characters at a time:</p>",
   "id": "1590b49fa45070be"
  },
  {
   "metadata": {
    "ExecuteTime": {
     "end_time": "2025-06-06T03:44:40.431165Z",
     "start_time": "2025-06-06T03:44:40.426150Z"
    }
   },
   "cell_type": "code",
   "source": [
    "with open(filename, \"r\") as file:\n",
    "    print(file.read(16))\n",
    "    print(file.read(5))\n",
    "    print(file.read(9))"
   ],
   "id": "3b45909380ed11f9",
   "outputs": [
    {
     "name": "stdout",
     "output_type": "stream",
     "text": [
      "This is line 1 \n",
      "\n",
      "This \n",
      "is line 2\n"
     ]
    }
   ],
   "execution_count": 13
  },
  {
   "metadata": {},
   "cell_type": "markdown",
   "source": "<p>We can also read one line of the file at a time using the method <code>readline()</code>:</p>",
   "id": "31bc43c3afe6f722"
  },
  {
   "metadata": {
    "ExecuteTime": {
     "end_time": "2025-06-06T03:44:40.526843Z",
     "start_time": "2025-06-06T03:44:40.520798Z"
    }
   },
   "cell_type": "code",
   "source": [
    "with open(filename, \"r\") as file:\n",
    "    print(f\"first line: {file.readline()}\")"
   ],
   "id": "cdbad8557630f518",
   "outputs": [
    {
     "name": "stdout",
     "output_type": "stream",
     "text": [
      "first line: This is line 1 \n",
      "\n"
     ]
    }
   ],
   "execution_count": 14
  },
  {
   "metadata": {},
   "cell_type": "markdown",
   "source": "<p>We can also pass an argument to <code>readline()</code> to specify the number of characters we want to read. However, unlike <code>read()</code>, <code>readline()</code> can only read one line at most.</p>",
   "id": "1fe658fc848aae3"
  },
  {
   "metadata": {
    "ExecuteTime": {
     "end_time": "2025-06-06T03:44:40.611250Z",
     "start_time": "2025-06-06T03:44:40.603084Z"
    }
   },
   "cell_type": "code",
   "source": [
    "with open(filename, \"r\") as file:\n",
    "    print(file.readline(20))    # does not read past the end of line\n",
    "    print(file.read(20))   # Returns the next 20 chars"
   ],
   "id": "94d3a353ad98bb50",
   "outputs": [
    {
     "name": "stdout",
     "output_type": "stream",
     "text": [
      "This is line 1 \n",
      "\n",
      "This is line 2\n",
      "This \n"
     ]
    }
   ],
   "execution_count": 15
  },
  {
   "metadata": {},
   "cell_type": "markdown",
   "source": "<p>We can use a loop to iterate through each line:</p>",
   "id": "bb526e74a735a6c7"
  },
  {
   "metadata": {
    "ExecuteTime": {
     "end_time": "2025-06-06T03:44:40.727024Z",
     "start_time": "2025-06-06T03:44:40.721395Z"
    }
   },
   "cell_type": "code",
   "source": [
    "with open(filename, \"r\") as file:\n",
    "    i = 0\n",
    "    for line in file:\n",
    "        print(f\"Iteration {str(i)}: {line}\")\n",
    "        i = i + 1"
   ],
   "id": "2973e641f3a245ce",
   "outputs": [
    {
     "name": "stdout",
     "output_type": "stream",
     "text": [
      "Iteration 0: This is line 1 \n",
      "\n",
      "Iteration 1: This is line 2\n",
      "\n",
      "Iteration 2: This is line 3\n"
     ]
    }
   ],
   "execution_count": 16
  },
  {
   "metadata": {},
   "cell_type": "markdown",
   "source": "<p>We can use the method <code>readlines()</code> to save the text file to a list:</p>",
   "id": "bc6e9bd25de6d5f5"
  },
  {
   "metadata": {
    "ExecuteTime": {
     "end_time": "2025-06-06T03:44:40.801966Z",
     "start_time": "2025-06-06T03:44:40.796616Z"
    }
   },
   "cell_type": "code",
   "source": [
    "with open(filename, \"r\") as file:\n",
    "    file_as_a_list = file.readlines()"
   ],
   "id": "46d11886ae6b1ed0",
   "outputs": [],
   "execution_count": 17
  },
  {
   "metadata": {},
   "cell_type": "markdown",
   "source": "<p>Each element of the list corresponds to a line of text:</p>",
   "id": "b1f085d65c4a1f53"
  },
  {
   "metadata": {
    "ExecuteTime": {
     "end_time": "2025-06-06T03:44:40.864649Z",
     "start_time": "2025-06-06T03:44:40.858819Z"
    }
   },
   "cell_type": "code",
   "source": "file_as_a_list[0]",
   "id": "2d42d3e7d0ec02d8",
   "outputs": [
    {
     "data": {
      "text/plain": [
       "'This is line 1 \\n'"
      ]
     },
     "execution_count": 18,
     "metadata": {},
     "output_type": "execute_result"
    }
   ],
   "execution_count": 18
  },
  {
   "metadata": {
    "ExecuteTime": {
     "end_time": "2025-06-06T03:44:40.989626Z",
     "start_time": "2025-06-06T03:44:40.982967Z"
    }
   },
   "cell_type": "code",
   "source": "file_as_a_list[1]",
   "id": "32353bbfd832a008",
   "outputs": [
    {
     "data": {
      "text/plain": [
       "'This is line 2\\n'"
      ]
     },
     "execution_count": 19,
     "metadata": {},
     "output_type": "execute_result"
    }
   ],
   "execution_count": 19
  },
  {
   "metadata": {
    "ExecuteTime": {
     "end_time": "2025-06-06T03:44:41.078233Z",
     "start_time": "2025-06-06T03:44:41.073434Z"
    }
   },
   "cell_type": "code",
   "source": "file_as_a_list[2]",
   "id": "736bc069bf52266c",
   "outputs": [
    {
     "data": {
      "text/plain": [
       "'This is line 3'"
      ]
     },
     "execution_count": 20,
     "metadata": {},
     "output_type": "execute_result"
    }
   ],
   "execution_count": 20
  },
  {
   "metadata": {},
   "cell_type": "markdown",
   "source": [
    "****\n",
    "This is the end of the file.\n",
    "****"
   ],
   "id": "7e8efe880d7d80e2"
  }
 ],
 "metadata": {
  "kernelspec": {
   "display_name": "Python 3",
   "language": "python",
   "name": "python3"
  },
  "language_info": {
   "codemirror_mode": {
    "name": "ipython",
    "version": 2
   },
   "file_extension": ".py",
   "mimetype": "text/x-python",
   "name": "python",
   "nbconvert_exporter": "python",
   "pygments_lexer": "ipython2",
   "version": "2.7.6"
  }
 },
 "nbformat": 4,
 "nbformat_minor": 5
}
