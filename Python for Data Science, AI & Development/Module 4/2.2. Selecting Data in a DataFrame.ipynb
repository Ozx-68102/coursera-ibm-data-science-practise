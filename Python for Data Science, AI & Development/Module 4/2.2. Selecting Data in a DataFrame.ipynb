{
 "cells": [
  {
   "metadata": {},
   "cell_type": "markdown",
   "source": "## Exercise 1 - Pandas: DataFrame and Series",
   "id": "55ebab70ed4402fc"
  },
  {
   "metadata": {},
   "cell_type": "markdown",
   "source": [
    "<p><b>Pandas</b> is a popular library for data analysis built on top of the Python programming language. Pandas generally provide two data structures for manipulating data, They are:</p>\n",
    "\n",
    "<ul>\n",
    "    <li>DataFrame</li>\n",
    "    <li>Series</li>\n",
    "</ul>\n",
    "\n",
    "<p>A <code>DataFrame</code> is a two-dimensional data structure, i.e., data is aligned in a tabular fashion in rows and columns.</p>\n",
    "\n",
    "<ul>\n",
    "    <li>A Pandas DataFrame will be created by loading the datasets from existing storage.</li>\n",
    "    <li>Storage can be SQL Database, CSV file, Excel file, etc.</li>\n",
    "    <li>It can also be created from the lists, dictionaries, and from a list of dictionaries.</li>\n",
    "</ul>\n",
    "\n",
    "<p><code>Series</code> represents a one-dimensional array of indexed data.\n",
    "It has two main components:</p>\n",
    "\n",
    "<ol>\n",
    "    <li>An array of actual data.</li>\n",
    "    <li>An associated array of indexes or data labels.</li>\n",
    "</ol>\n",
    "\n",
    "<p>The index is used to access individual data values. You can also get a column of a dataframe as a <b>Series</b>. You can think of a Pandas series as a 1-D dataframe. </p>"
   ],
   "id": "f020acc5661436ca"
  },
  {
   "metadata": {
    "ExecuteTime": {
     "end_time": "2025-06-08T18:20:49.953616Z",
     "start_time": "2025-06-08T18:20:49.424677Z"
    }
   },
   "cell_type": "code",
   "source": "import pandas as pd",
   "id": "c1c6462ac5dfa149",
   "outputs": [],
   "execution_count": 1
  },
  {
   "metadata": {},
   "cell_type": "markdown",
   "source": "<p>Once you’ve imported pandas, you can then use the functions built in it to create and analyze data.</p>",
   "id": "ada372a77df7b3c"
  },
  {
   "metadata": {},
   "cell_type": "markdown",
   "source": "<p><b>In this practice lab, we will learn how to create a DataFrame out of a dictionary.</b></p>",
   "id": "a82dcd2f6dd0c4ff"
  },
  {
   "metadata": {},
   "cell_type": "markdown",
   "source": [
    "<p>Let us consider a dictionary \"x\" with keys and values as shown below.</p>\n",
    "<p>We then create a dataframe from the dictionary using the function <code>pd.DataFrame</code>(dict).</p>"
   ],
   "id": "4cd3e8a125944381"
  },
  {
   "metadata": {
    "ExecuteTime": {
     "end_time": "2025-06-08T18:20:50.174079Z",
     "start_time": "2025-06-08T18:20:50.160323Z"
    }
   },
   "cell_type": "code",
   "source": [
    "x = {\n",
    "    \"Name\": [\"Rose\", \"John\", \"Jane\", \"Mary\"],\n",
    "    \"ID\": [1, 2, 3, 4],\n",
    "    \"Department\": [\"Architect Group\", \"Software Group\", \"Design Team\", \"Infrastructure\"],\n",
    "    \"Salary\": [100000, 80000, 50000, 60000]\n",
    "}\n",
    "x"
   ],
   "id": "4d1b4962af0b1a11",
   "outputs": [
    {
     "data": {
      "text/plain": [
       "{'Name': ['Rose', 'John', 'Jane', 'Mary'],\n",
       " 'ID': [1, 2, 3, 4],\n",
       " 'Department': ['Architect Group',\n",
       "  'Software Group',\n",
       "  'Design Team',\n",
       "  'Infrastructure'],\n",
       " 'Salary': [100000, 80000, 50000, 60000]}"
      ]
     },
     "execution_count": 2,
     "metadata": {},
     "output_type": "execute_result"
    }
   ],
   "execution_count": 2
  },
  {
   "metadata": {
    "ExecuteTime": {
     "end_time": "2025-06-08T18:20:50.272393Z",
     "start_time": "2025-06-08T18:20:50.250677Z"
    }
   },
   "cell_type": "code",
   "source": [
    "df = pd.DataFrame(x)\n",
    "df"
   ],
   "id": "818e3b5c482238fc",
   "outputs": [
    {
     "data": {
      "text/plain": [
       "   Name  ID       Department  Salary\n",
       "0  Rose   1  Architect Group  100000\n",
       "1  John   2   Software Group   80000\n",
       "2  Jane   3      Design Team   50000\n",
       "3  Mary   4   Infrastructure   60000"
      ],
      "text/html": [
       "<div>\n",
       "<style scoped>\n",
       "    .dataframe tbody tr th:only-of-type {\n",
       "        vertical-align: middle;\n",
       "    }\n",
       "\n",
       "    .dataframe tbody tr th {\n",
       "        vertical-align: top;\n",
       "    }\n",
       "\n",
       "    .dataframe thead th {\n",
       "        text-align: right;\n",
       "    }\n",
       "</style>\n",
       "<table border=\"1\" class=\"dataframe\">\n",
       "  <thead>\n",
       "    <tr style=\"text-align: right;\">\n",
       "      <th></th>\n",
       "      <th>Name</th>\n",
       "      <th>ID</th>\n",
       "      <th>Department</th>\n",
       "      <th>Salary</th>\n",
       "    </tr>\n",
       "  </thead>\n",
       "  <tbody>\n",
       "    <tr>\n",
       "      <th>0</th>\n",
       "      <td>Rose</td>\n",
       "      <td>1</td>\n",
       "      <td>Architect Group</td>\n",
       "      <td>100000</td>\n",
       "    </tr>\n",
       "    <tr>\n",
       "      <th>1</th>\n",
       "      <td>John</td>\n",
       "      <td>2</td>\n",
       "      <td>Software Group</td>\n",
       "      <td>80000</td>\n",
       "    </tr>\n",
       "    <tr>\n",
       "      <th>2</th>\n",
       "      <td>Jane</td>\n",
       "      <td>3</td>\n",
       "      <td>Design Team</td>\n",
       "      <td>50000</td>\n",
       "    </tr>\n",
       "    <tr>\n",
       "      <th>3</th>\n",
       "      <td>Mary</td>\n",
       "      <td>4</td>\n",
       "      <td>Infrastructure</td>\n",
       "      <td>60000</td>\n",
       "    </tr>\n",
       "  </tbody>\n",
       "</table>\n",
       "</div>"
      ]
     },
     "execution_count": 3,
     "metadata": {},
     "output_type": "execute_result"
    }
   ],
   "execution_count": 3
  },
  {
   "metadata": {},
   "cell_type": "markdown",
   "source": "<p>We can see the direct correspondence between the table. The keys correspond to the column labels and the values or lists correspond to the rows.</p>",
   "id": "d5e3a6a0741be287"
  },
  {
   "metadata": {},
   "cell_type": "markdown",
   "source": "### Column Selection",
   "id": "acf4377b909cc17a"
  },
  {
   "metadata": {},
   "cell_type": "markdown",
   "source": [
    "<p>To select a column in Pandas DataFrame, we can either access the columns by calling them by their columns name. </p>\n",
    "<p>Let's retrive the data present in the <code>ID</code> column.</p>"
   ],
   "id": "a27e3b4a010cd944"
  },
  {
   "metadata": {
    "ExecuteTime": {
     "end_time": "2025-06-08T18:20:50.396314Z",
     "start_time": "2025-06-08T18:20:50.386801Z"
    }
   },
   "cell_type": "code",
   "source": [
    "col_id = df[[\"ID\"]]\n",
    "col_id"
   ],
   "id": "24334882c2852eaa",
   "outputs": [
    {
     "data": {
      "text/plain": [
       "   ID\n",
       "0   1\n",
       "1   2\n",
       "2   3\n",
       "3   4"
      ],
      "text/html": [
       "<div>\n",
       "<style scoped>\n",
       "    .dataframe tbody tr th:only-of-type {\n",
       "        vertical-align: middle;\n",
       "    }\n",
       "\n",
       "    .dataframe tbody tr th {\n",
       "        vertical-align: top;\n",
       "    }\n",
       "\n",
       "    .dataframe thead th {\n",
       "        text-align: right;\n",
       "    }\n",
       "</style>\n",
       "<table border=\"1\" class=\"dataframe\">\n",
       "  <thead>\n",
       "    <tr style=\"text-align: right;\">\n",
       "      <th></th>\n",
       "      <th>ID</th>\n",
       "    </tr>\n",
       "  </thead>\n",
       "  <tbody>\n",
       "    <tr>\n",
       "      <th>0</th>\n",
       "      <td>1</td>\n",
       "    </tr>\n",
       "    <tr>\n",
       "      <th>1</th>\n",
       "      <td>2</td>\n",
       "    </tr>\n",
       "    <tr>\n",
       "      <th>2</th>\n",
       "      <td>3</td>\n",
       "    </tr>\n",
       "    <tr>\n",
       "      <th>3</th>\n",
       "      <td>4</td>\n",
       "    </tr>\n",
       "  </tbody>\n",
       "</table>\n",
       "</div>"
      ]
     },
     "execution_count": 4,
     "metadata": {},
     "output_type": "execute_result"
    }
   ],
   "execution_count": 4
  },
  {
   "metadata": {},
   "cell_type": "markdown",
   "source": "<p>Let's use the <code>type()</code> function and check the type of the variable.</p>",
   "id": "13968c31fe186cf2"
  },
  {
   "metadata": {
    "ExecuteTime": {
     "end_time": "2025-06-08T18:20:50.713800Z",
     "start_time": "2025-06-08T18:20:50.707498Z"
    }
   },
   "cell_type": "code",
   "source": "type(col_id)",
   "id": "a367bce43363e4a7",
   "outputs": [
    {
     "data": {
      "text/plain": [
       "pandas.core.frame.DataFrame"
      ]
     },
     "execution_count": 5,
     "metadata": {},
     "output_type": "execute_result"
    }
   ],
   "execution_count": 5
  },
  {
   "metadata": {},
   "cell_type": "markdown",
   "source": "<p>The output shows us that the type of the variable is a DataFrame object.</p>",
   "id": "c526d8747ff5fe6b"
  },
  {
   "metadata": {},
   "cell_type": "markdown",
   "source": "### Access to multiple columns",
   "id": "c77a04924d3b7847"
  },
  {
   "metadata": {},
   "cell_type": "markdown",
   "source": "<p>Now let us retrieve the data for <code>Department</code>, <code>Salary</code> and <code>ID</code> columns.</p>",
   "id": "1ff6384af4651dfc"
  },
  {
   "metadata": {
    "ExecuteTime": {
     "end_time": "2025-06-08T18:20:50.941526Z",
     "start_time": "2025-06-08T18:20:50.928149Z"
    }
   },
   "cell_type": "code",
   "source": [
    "col_3 = df[[\"Department\", \"Salary\", \"ID\"]]\n",
    "col_3"
   ],
   "id": "437291b04e64c07",
   "outputs": [
    {
     "data": {
      "text/plain": [
       "        Department  Salary  ID\n",
       "0  Architect Group  100000   1\n",
       "1   Software Group   80000   2\n",
       "2      Design Team   50000   3\n",
       "3   Infrastructure   60000   4"
      ],
      "text/html": [
       "<div>\n",
       "<style scoped>\n",
       "    .dataframe tbody tr th:only-of-type {\n",
       "        vertical-align: middle;\n",
       "    }\n",
       "\n",
       "    .dataframe tbody tr th {\n",
       "        vertical-align: top;\n",
       "    }\n",
       "\n",
       "    .dataframe thead th {\n",
       "        text-align: right;\n",
       "    }\n",
       "</style>\n",
       "<table border=\"1\" class=\"dataframe\">\n",
       "  <thead>\n",
       "    <tr style=\"text-align: right;\">\n",
       "      <th></th>\n",
       "      <th>Department</th>\n",
       "      <th>Salary</th>\n",
       "      <th>ID</th>\n",
       "    </tr>\n",
       "  </thead>\n",
       "  <tbody>\n",
       "    <tr>\n",
       "      <th>0</th>\n",
       "      <td>Architect Group</td>\n",
       "      <td>100000</td>\n",
       "      <td>1</td>\n",
       "    </tr>\n",
       "    <tr>\n",
       "      <th>1</th>\n",
       "      <td>Software Group</td>\n",
       "      <td>80000</td>\n",
       "      <td>2</td>\n",
       "    </tr>\n",
       "    <tr>\n",
       "      <th>2</th>\n",
       "      <td>Design Team</td>\n",
       "      <td>50000</td>\n",
       "      <td>3</td>\n",
       "    </tr>\n",
       "    <tr>\n",
       "      <th>3</th>\n",
       "      <td>Infrastructure</td>\n",
       "      <td>60000</td>\n",
       "      <td>4</td>\n",
       "    </tr>\n",
       "  </tbody>\n",
       "</table>\n",
       "</div>"
      ]
     },
     "execution_count": 6,
     "metadata": {},
     "output_type": "execute_result"
    }
   ],
   "execution_count": 6
  },
  {
   "metadata": {},
   "cell_type": "markdown",
   "source": "### Try it yourself",
   "id": "5fbdaba3132c04a4"
  },
  {
   "metadata": {},
   "cell_type": "markdown",
   "source": "<p>Problem 1: Create a dataframe to display the result as below:</p>",
   "id": "75280caf4cef6134"
  },
  {
   "metadata": {},
   "cell_type": "markdown",
   "source": [
    "<table>\n",
    "    <thead>\n",
    "    <tr>\n",
    "        <th style=\"border: 1px solid; text-align: center\">No.</th>\n",
    "        <th style=\"border: 1px solid; text-align: center\">Student</th>\n",
    "        <th style=\"border: 1px solid; text-align: center\">Age</th>\n",
    "        <th style=\"border: 1px solid; text-align: center\">Country</th>\n",
    "        <th style=\"border: 1px solid; text-align: center\">Course</th>\n",
    "        <th style=\"border: 1px solid; text-align: center\">Marks</th>\n",
    "    </tr>\n",
    "    </thead>\n",
    "    <tbody>\n",
    "    <tr>\n",
    "        <td style=\"border: 1px solid; text-align: center\">0</td>\n",
    "        <td style=\"border: 1px solid; text-align: center\">David</td>\n",
    "        <td style=\"border: 1px solid; text-align: center\">27</td>\n",
    "        <td style=\"border: 1px solid; text-align: center\">UK</td>\n",
    "        <td style=\"border: 1px solid; text-align: center\">Python</td>\n",
    "        <td style=\"border: 1px solid; text-align: center\">85</td>\n",
    "    </tr>\n",
    "    <tr>\n",
    "        <td style=\"border: 1px solid; text-align: center\">1</td>\n",
    "        <td style=\"border: 1px solid; text-align: center\">Samuel</td>\n",
    "        <td style=\"border: 1px solid; text-align: center\">24</td>\n",
    "        <td style=\"border: 1px solid; text-align: center\">Canada</td>\n",
    "        <td style=\"border: 1px solid; text-align: center\">Data Structures</td>\n",
    "        <td style=\"border: 1px solid; text-align: center\">72</td>\n",
    "    </tr>\n",
    "    <tr>\n",
    "        <td style=\"border: 1px solid; text-align: center\">2</td>\n",
    "        <td style=\"border: 1px solid; text-align: center\">Terry</td>\n",
    "        <td style=\"border: 1px solid; text-align: center\">22</td>\n",
    "        <td style=\"border: 1px solid; text-align: center\">China</td>\n",
    "        <td style=\"border: 1px solid; text-align: center\">Machine Learning</td>\n",
    "        <td style=\"border: 1px solid; text-align: center\">89</td>\n",
    "    </tr>\n",
    "    <tr>\n",
    "        <td style=\"border: 1px solid; text-align: center\">3</td>\n",
    "        <td style=\"border: 1px solid; text-align: center\">Evan</td>\n",
    "        <td style=\"border: 1px solid; text-align: center\">32</td>\n",
    "        <td style=\"border: 1px solid; text-align: center\">USA</td>\n",
    "        <td style=\"border: 1px solid; text-align: center\">Web Development</td>\n",
    "        <td style=\"border: 1px solid; text-align: center\">76</td>\n",
    "    </tr>\n",
    "    </tbody>\n",
    "</table>"
   ],
   "id": "d5783706053a0059"
  },
  {
   "metadata": {
    "ExecuteTime": {
     "end_time": "2025-06-08T18:20:51.125929Z",
     "start_time": "2025-06-08T18:20:51.118075Z"
    }
   },
   "cell_type": "code",
   "source": [
    "members = {\n",
    "    \"Student\": [\"David\", \"Samuel\", \"Terry\", \"Evan\"],\n",
    "    \"Age\": [27, 24, 22, 32],\n",
    "    \"Country\": [\"UK\", \"Canada\", \"China\", \"USA\"],\n",
    "    \"Course\": [\"Python\", \"Data Structures\", \"Machine Learning\", \"Web Development\"],\n",
    "    \"Marks\": [85, 72, 89, 76]\n",
    "}\n",
    "members"
   ],
   "id": "f29d25f0e4a91638",
   "outputs": [
    {
     "data": {
      "text/plain": [
       "{'Student': ['David', 'Samuel', 'Terry', 'Evan'],\n",
       " 'Age': [27, 24, 22, 32],\n",
       " 'Country': ['UK', 'Canada', 'China', 'USA'],\n",
       " 'Course': ['Python',\n",
       "  'Data Structures',\n",
       "  'Machine Learning',\n",
       "  'Web Development'],\n",
       " 'Marks': [85, 72, 89, 76]}"
      ]
     },
     "execution_count": 7,
     "metadata": {},
     "output_type": "execute_result"
    }
   ],
   "execution_count": 7
  },
  {
   "metadata": {
    "ExecuteTime": {
     "end_time": "2025-06-08T18:20:51.291046Z",
     "start_time": "2025-06-08T18:20:51.282665Z"
    }
   },
   "cell_type": "code",
   "source": [
    "mb_df = pd.DataFrame(members)\n",
    "mb_df"
   ],
   "id": "45f6414001520c89",
   "outputs": [
    {
     "data": {
      "text/plain": [
       "  Student  Age Country            Course  Marks\n",
       "0   David   27      UK            Python     85\n",
       "1  Samuel   24  Canada   Data Structures     72\n",
       "2   Terry   22   China  Machine Learning     89\n",
       "3    Evan   32     USA   Web Development     76"
      ],
      "text/html": [
       "<div>\n",
       "<style scoped>\n",
       "    .dataframe tbody tr th:only-of-type {\n",
       "        vertical-align: middle;\n",
       "    }\n",
       "\n",
       "    .dataframe tbody tr th {\n",
       "        vertical-align: top;\n",
       "    }\n",
       "\n",
       "    .dataframe thead th {\n",
       "        text-align: right;\n",
       "    }\n",
       "</style>\n",
       "<table border=\"1\" class=\"dataframe\">\n",
       "  <thead>\n",
       "    <tr style=\"text-align: right;\">\n",
       "      <th></th>\n",
       "      <th>Student</th>\n",
       "      <th>Age</th>\n",
       "      <th>Country</th>\n",
       "      <th>Course</th>\n",
       "      <th>Marks</th>\n",
       "    </tr>\n",
       "  </thead>\n",
       "  <tbody>\n",
       "    <tr>\n",
       "      <th>0</th>\n",
       "      <td>David</td>\n",
       "      <td>27</td>\n",
       "      <td>UK</td>\n",
       "      <td>Python</td>\n",
       "      <td>85</td>\n",
       "    </tr>\n",
       "    <tr>\n",
       "      <th>1</th>\n",
       "      <td>Samuel</td>\n",
       "      <td>24</td>\n",
       "      <td>Canada</td>\n",
       "      <td>Data Structures</td>\n",
       "      <td>72</td>\n",
       "    </tr>\n",
       "    <tr>\n",
       "      <th>2</th>\n",
       "      <td>Terry</td>\n",
       "      <td>22</td>\n",
       "      <td>China</td>\n",
       "      <td>Machine Learning</td>\n",
       "      <td>89</td>\n",
       "    </tr>\n",
       "    <tr>\n",
       "      <th>3</th>\n",
       "      <td>Evan</td>\n",
       "      <td>32</td>\n",
       "      <td>USA</td>\n",
       "      <td>Web Development</td>\n",
       "      <td>76</td>\n",
       "    </tr>\n",
       "  </tbody>\n",
       "</table>\n",
       "</div>"
      ]
     },
     "execution_count": 8,
     "metadata": {},
     "output_type": "execute_result"
    }
   ],
   "execution_count": 8
  },
  {
   "metadata": {},
   "cell_type": "markdown",
   "source": "<p>Problem 2: Retrieve the Marks column and assign it to a variable b</p>",
   "id": "6186622effcf82"
  },
  {
   "metadata": {
    "ExecuteTime": {
     "end_time": "2025-06-08T18:20:51.480972Z",
     "start_time": "2025-06-08T18:20:51.471044Z"
    }
   },
   "cell_type": "code",
   "source": [
    "b = mb_df[[\"Marks\"]]\n",
    "b"
   ],
   "id": "e2ea6485fb330756",
   "outputs": [
    {
     "data": {
      "text/plain": [
       "   Marks\n",
       "0     85\n",
       "1     72\n",
       "2     89\n",
       "3     76"
      ],
      "text/html": [
       "<div>\n",
       "<style scoped>\n",
       "    .dataframe tbody tr th:only-of-type {\n",
       "        vertical-align: middle;\n",
       "    }\n",
       "\n",
       "    .dataframe tbody tr th {\n",
       "        vertical-align: top;\n",
       "    }\n",
       "\n",
       "    .dataframe thead th {\n",
       "        text-align: right;\n",
       "    }\n",
       "</style>\n",
       "<table border=\"1\" class=\"dataframe\">\n",
       "  <thead>\n",
       "    <tr style=\"text-align: right;\">\n",
       "      <th></th>\n",
       "      <th>Marks</th>\n",
       "    </tr>\n",
       "  </thead>\n",
       "  <tbody>\n",
       "    <tr>\n",
       "      <th>0</th>\n",
       "      <td>85</td>\n",
       "    </tr>\n",
       "    <tr>\n",
       "      <th>1</th>\n",
       "      <td>72</td>\n",
       "    </tr>\n",
       "    <tr>\n",
       "      <th>2</th>\n",
       "      <td>89</td>\n",
       "    </tr>\n",
       "    <tr>\n",
       "      <th>3</th>\n",
       "      <td>76</td>\n",
       "    </tr>\n",
       "  </tbody>\n",
       "</table>\n",
       "</div>"
      ]
     },
     "execution_count": 9,
     "metadata": {},
     "output_type": "execute_result"
    }
   ],
   "execution_count": 9
  },
  {
   "metadata": {},
   "cell_type": "markdown",
   "source": "<p>Problem 3: Retrieve the Country and Course columns and assign it to a variable c</p>",
   "id": "ef4fee3ed966b627"
  },
  {
   "metadata": {
    "ExecuteTime": {
     "end_time": "2025-06-08T18:20:51.755651Z",
     "start_time": "2025-06-08T18:20:51.744925Z"
    }
   },
   "cell_type": "code",
   "source": [
    "c = mb_df[[\"Country\", \"Course\"]]\n",
    "c"
   ],
   "id": "aefec7c37aee708b",
   "outputs": [
    {
     "data": {
      "text/plain": [
       "  Country            Course\n",
       "0      UK            Python\n",
       "1  Canada   Data Structures\n",
       "2   China  Machine Learning\n",
       "3     USA   Web Development"
      ],
      "text/html": [
       "<div>\n",
       "<style scoped>\n",
       "    .dataframe tbody tr th:only-of-type {\n",
       "        vertical-align: middle;\n",
       "    }\n",
       "\n",
       "    .dataframe tbody tr th {\n",
       "        vertical-align: top;\n",
       "    }\n",
       "\n",
       "    .dataframe thead th {\n",
       "        text-align: right;\n",
       "    }\n",
       "</style>\n",
       "<table border=\"1\" class=\"dataframe\">\n",
       "  <thead>\n",
       "    <tr style=\"text-align: right;\">\n",
       "      <th></th>\n",
       "      <th>Country</th>\n",
       "      <th>Course</th>\n",
       "    </tr>\n",
       "  </thead>\n",
       "  <tbody>\n",
       "    <tr>\n",
       "      <th>0</th>\n",
       "      <td>UK</td>\n",
       "      <td>Python</td>\n",
       "    </tr>\n",
       "    <tr>\n",
       "      <th>1</th>\n",
       "      <td>Canada</td>\n",
       "      <td>Data Structures</td>\n",
       "    </tr>\n",
       "    <tr>\n",
       "      <th>2</th>\n",
       "      <td>China</td>\n",
       "      <td>Machine Learning</td>\n",
       "    </tr>\n",
       "    <tr>\n",
       "      <th>3</th>\n",
       "      <td>USA</td>\n",
       "      <td>Web Development</td>\n",
       "    </tr>\n",
       "  </tbody>\n",
       "</table>\n",
       "</div>"
      ]
     },
     "execution_count": 10,
     "metadata": {},
     "output_type": "execute_result"
    }
   ],
   "execution_count": 10
  },
  {
   "metadata": {},
   "cell_type": "markdown",
   "source": "<p>To view the column as a series, just use one bracket:</p>",
   "id": "c6fe06d18dbb467c"
  },
  {
   "metadata": {
    "ExecuteTime": {
     "end_time": "2025-06-08T18:20:51.987237Z",
     "start_time": "2025-06-08T18:20:51.979071Z"
    }
   },
   "cell_type": "code",
   "source": [
    "a = mb_df[\"Student\"]\n",
    "a"
   ],
   "id": "2bc1d4a5b4add973",
   "outputs": [
    {
     "data": {
      "text/plain": [
       "0     David\n",
       "1    Samuel\n",
       "2     Terry\n",
       "3      Evan\n",
       "Name: Student, dtype: object"
      ]
     },
     "execution_count": 11,
     "metadata": {},
     "output_type": "execute_result"
    }
   ],
   "execution_count": 11
  },
  {
   "metadata": {
    "ExecuteTime": {
     "end_time": "2025-06-08T18:20:52.205233Z",
     "start_time": "2025-06-08T18:20:52.200829Z"
    }
   },
   "cell_type": "code",
   "source": "type(a)",
   "id": "eab2d1003df6d892",
   "outputs": [
    {
     "data": {
      "text/plain": [
       "pandas.core.series.Series"
      ]
     },
     "execution_count": 12,
     "metadata": {},
     "output_type": "execute_result"
    }
   ],
   "execution_count": 12
  },
  {
   "metadata": {},
   "cell_type": "markdown",
   "source": "<p>The output shows us that the type of the variable is a Series object.</p>",
   "id": "64f41501c1933cbc"
  },
  {
   "metadata": {},
   "cell_type": "markdown",
   "source": "## Exercise 2 - `loc()` and `iloc()` functions",
   "id": "a55c00d6e023c7ca"
  },
  {
   "metadata": {},
   "cell_type": "markdown",
   "source": [
    "<p><code>loc()</code> is a label-based data selecting method which means that we have to pass the name of the row or column that we want to select. This method includes the last element of the range passed in it.</p>\n",
    "\n",
    "<p>Simple syntax for your understanding:</p>\n",
    "\n",
    "<ul><li>loc[row_label, column_label]</li></ul>\n",
    "\n",
    "<p><code>iloc()</code> is an indexed-based selecting method which means that we have to pass an integer index in the method to select a specific row/column. This method does not include the last element of the range passed in it.</p>\n",
    "\n",
    "<p>Simple syntax for your understanding:</p>\n",
    "\n",
    "<ul><li>iloc[row_index, column_index]</li></ul>"
   ],
   "id": "11b132c302467977"
  },
  {
   "metadata": {},
   "cell_type": "markdown",
   "source": "<p>Let us see some examples on the same.</p>",
   "id": "14861f66dec87c94"
  },
  {
   "metadata": {
    "ExecuteTime": {
     "end_time": "2025-06-08T18:20:52.425945Z",
     "start_time": "2025-06-08T18:20:52.419793Z"
    }
   },
   "cell_type": "code",
   "source": [
    "# Access the value on the first row and the first column\n",
    "mb_df.iloc[0, 0]"
   ],
   "id": "e32155b0ead6e36e",
   "outputs": [
    {
     "data": {
      "text/plain": [
       "'David'"
      ]
     },
     "execution_count": 13,
     "metadata": {},
     "output_type": "execute_result"
    }
   ],
   "execution_count": 13
  },
  {
   "metadata": {
    "ExecuteTime": {
     "end_time": "2025-06-08T18:20:52.584196Z",
     "start_time": "2025-06-08T18:20:52.578691Z"
    }
   },
   "cell_type": "code",
   "source": [
    "# Access the value on the first row and the third column\n",
    "mb_df.iloc[0, 2]"
   ],
   "id": "4bd4ab7ef2271c98",
   "outputs": [
    {
     "data": {
      "text/plain": [
       "'UK'"
      ]
     },
     "execution_count": 14,
     "metadata": {},
     "output_type": "execute_result"
    }
   ],
   "execution_count": 14
  },
  {
   "metadata": {
    "ExecuteTime": {
     "end_time": "2025-06-08T18:20:52.712565Z",
     "start_time": "2025-06-08T18:20:52.706309Z"
    }
   },
   "cell_type": "code",
   "source": [
    "# Access the column using the name\n",
    "mb_df.loc[0, \"Marks\"]"
   ],
   "id": "7f3b8415f3ca4ec6",
   "outputs": [
    {
     "data": {
      "text/plain": [
       "np.int64(85)"
      ]
     },
     "execution_count": 15,
     "metadata": {},
     "output_type": "execute_result"
    }
   ],
   "execution_count": 15
  },
  {
   "metadata": {},
   "cell_type": "markdown",
   "source": "<p>Let us create a new dataframe called \"df2\" and assign \"df\" to it. Now, let us set the \"Name\" column as an index column using the method <code>set_index()</code>.</p>",
   "id": "385c80b4085a4173"
  },
  {
   "metadata": {
    "ExecuteTime": {
     "end_time": "2025-06-08T18:20:52.797075Z",
     "start_time": "2025-06-08T18:20:52.792527Z"
    }
   },
   "cell_type": "code",
   "source": [
    "df2 = df\n",
    "df2 = df2.set_index(\"Name\")"
   ],
   "id": "ca8a4afd2d9da9da",
   "outputs": [],
   "execution_count": 16
  },
  {
   "metadata": {},
   "cell_type": "markdown",
   "source": "### Try it yourself",
   "id": "5b958a0bbeb44b44"
  },
  {
   "metadata": {},
   "cell_type": "markdown",
   "source": "<p>Use the <code>loc()</code> function, to get the Department of Jane in the newly created dataframe df2.</p>",
   "id": "cf3c18f8fc4d5df3"
  },
  {
   "metadata": {
    "ExecuteTime": {
     "end_time": "2025-06-08T18:20:52.862126Z",
     "start_time": "2025-06-08T18:20:52.855337Z"
    }
   },
   "cell_type": "code",
   "source": "df2.loc[\"Jane\", \"Department\"]",
   "id": "6a3937ae460f8082",
   "outputs": [
    {
     "data": {
      "text/plain": [
       "'Design Team'"
      ]
     },
     "execution_count": 17,
     "metadata": {},
     "output_type": "execute_result"
    }
   ],
   "execution_count": 17
  },
  {
   "metadata": {},
   "cell_type": "markdown",
   "source": "<p>Use the <code>iloc()</code> function to get the Salary of Mary in the newly created dataframe df2.</p>",
   "id": "6ffb77d2f4045510"
  },
  {
   "metadata": {
    "ExecuteTime": {
     "end_time": "2025-06-08T18:20:52.898873Z",
     "start_time": "2025-06-08T18:20:52.892704Z"
    }
   },
   "cell_type": "code",
   "source": "df2.iloc[3, 2]",
   "id": "55592076a6c24d31",
   "outputs": [
    {
     "data": {
      "text/plain": [
       "np.int64(60000)"
      ]
     },
     "execution_count": 18,
     "metadata": {},
     "output_type": "execute_result"
    }
   ],
   "execution_count": 18
  },
  {
   "metadata": {},
   "cell_type": "markdown",
   "source": "## Exercise 3 - Slicing",
   "id": "7ceb30940b41b1c8"
  },
  {
   "metadata": {},
   "cell_type": "markdown",
   "source": [
    "<p>Slicing uses the <code>[]</code> operator to select a set of rows and/or columns from a DataFrame.</p>\n",
    "\n",
    "<p>To slice out a set of rows, you use this syntax: <code>data[start:stop]</code>, here the start represents the index from where to consider, and stop represents the index one step BEYOND the row you want to select. You can perform slicing using both the index and the name of the column.</p>\n",
    "\n",
    "> NOTE: When slicing in pandas, the start bound is included in the output.\n",
    "\n",
    "<p>So if you want to select rows 0, 1, and 2 your code would look like this: <code>df.iloc[0:3]</code>.</p>\n",
    "\n",
    "<p>It means you are telling Python to start at index 0 and select rows 0, 1, 2 up to but not including 3.</p>\n",
    "\n",
    "> NOTE: Labels must be found in the DataFrame or you will get a KeyError.\n",
    "\n",
    "<p>Indexing by labels(i.e. using <code>loc()</code>) differs from indexing by integers (i.e. using <code>iloc()</code>). With <code>loc()</code>, both the start bound and the stop bound are inclusive. When using <code>loc()</code>, integers can be used, but the integers refer to the index label and not the position.</p>\n",
    "\n",
    "<p>For example, using <code>loc()</code> and select 1:4 will get a different result than using <code>iloc()</code> to select rows 1:4.</p>"
   ],
   "id": "b7d9c4a5570c991b"
  },
  {
   "metadata": {},
   "cell_type": "markdown",
   "source": "<p>We can also select a specific data value using a row and column location within the DataFrame and <code>iloc</code> indexing.</p>",
   "id": "ede766a8f891e635"
  },
  {
   "metadata": {
    "ExecuteTime": {
     "end_time": "2025-06-08T18:20:52.955950Z",
     "start_time": "2025-06-08T18:20:52.947381Z"
    }
   },
   "cell_type": "code",
   "source": [
    "# let us do the slicing using old dataframe df\n",
    "df.iloc[0: 2, 0: 3]"
   ],
   "id": "4e0f5a8ef18d7bc4",
   "outputs": [
    {
     "data": {
      "text/plain": [
       "   Name  ID       Department\n",
       "0  Rose   1  Architect Group\n",
       "1  John   2   Software Group"
      ],
      "text/html": [
       "<div>\n",
       "<style scoped>\n",
       "    .dataframe tbody tr th:only-of-type {\n",
       "        vertical-align: middle;\n",
       "    }\n",
       "\n",
       "    .dataframe tbody tr th {\n",
       "        vertical-align: top;\n",
       "    }\n",
       "\n",
       "    .dataframe thead th {\n",
       "        text-align: right;\n",
       "    }\n",
       "</style>\n",
       "<table border=\"1\" class=\"dataframe\">\n",
       "  <thead>\n",
       "    <tr style=\"text-align: right;\">\n",
       "      <th></th>\n",
       "      <th>Name</th>\n",
       "      <th>ID</th>\n",
       "      <th>Department</th>\n",
       "    </tr>\n",
       "  </thead>\n",
       "  <tbody>\n",
       "    <tr>\n",
       "      <th>0</th>\n",
       "      <td>Rose</td>\n",
       "      <td>1</td>\n",
       "      <td>Architect Group</td>\n",
       "    </tr>\n",
       "    <tr>\n",
       "      <th>1</th>\n",
       "      <td>John</td>\n",
       "      <td>2</td>\n",
       "      <td>Software Group</td>\n",
       "    </tr>\n",
       "  </tbody>\n",
       "</table>\n",
       "</div>"
      ]
     },
     "execution_count": 19,
     "metadata": {},
     "output_type": "execute_result"
    }
   ],
   "execution_count": 19
  },
  {
   "metadata": {
    "ExecuteTime": {
     "end_time": "2025-06-08T18:20:53.043779Z",
     "start_time": "2025-06-08T18:20:53.033799Z"
    }
   },
   "cell_type": "code",
   "source": [
    "# let us do the slicing using loc() function on old dataframe df where index column is having labels as 0,1,2\n",
    "df.loc[0: 2, \"ID\": \"Department\"]"
   ],
   "id": "2fe4a15166d7d87d",
   "outputs": [
    {
     "data": {
      "text/plain": [
       "   ID       Department\n",
       "0   1  Architect Group\n",
       "1   2   Software Group\n",
       "2   3      Design Team"
      ],
      "text/html": [
       "<div>\n",
       "<style scoped>\n",
       "    .dataframe tbody tr th:only-of-type {\n",
       "        vertical-align: middle;\n",
       "    }\n",
       "\n",
       "    .dataframe tbody tr th {\n",
       "        vertical-align: top;\n",
       "    }\n",
       "\n",
       "    .dataframe thead th {\n",
       "        text-align: right;\n",
       "    }\n",
       "</style>\n",
       "<table border=\"1\" class=\"dataframe\">\n",
       "  <thead>\n",
       "    <tr style=\"text-align: right;\">\n",
       "      <th></th>\n",
       "      <th>ID</th>\n",
       "      <th>Department</th>\n",
       "    </tr>\n",
       "  </thead>\n",
       "  <tbody>\n",
       "    <tr>\n",
       "      <th>0</th>\n",
       "      <td>1</td>\n",
       "      <td>Architect Group</td>\n",
       "    </tr>\n",
       "    <tr>\n",
       "      <th>1</th>\n",
       "      <td>2</td>\n",
       "      <td>Software Group</td>\n",
       "    </tr>\n",
       "    <tr>\n",
       "      <th>2</th>\n",
       "      <td>3</td>\n",
       "      <td>Design Team</td>\n",
       "    </tr>\n",
       "  </tbody>\n",
       "</table>\n",
       "</div>"
      ]
     },
     "execution_count": 20,
     "metadata": {},
     "output_type": "execute_result"
    }
   ],
   "execution_count": 20
  },
  {
   "metadata": {
    "ExecuteTime": {
     "end_time": "2025-06-08T18:20:53.160813Z",
     "start_time": "2025-06-08T18:20:53.151352Z"
    }
   },
   "cell_type": "code",
   "source": [
    "# let us do the slicing using loc() function on new dataframe df2 where index column is Name having labels: Rose, John and Jane\n",
    "df2.loc[\"Rose\": \"Jane\", \"ID\": \"Department\"]"
   ],
   "id": "2cbb6d159e15741f",
   "outputs": [
    {
     "data": {
      "text/plain": [
       "      ID       Department\n",
       "Name                     \n",
       "Rose   1  Architect Group\n",
       "John   2   Software Group\n",
       "Jane   3      Design Team"
      ],
      "text/html": [
       "<div>\n",
       "<style scoped>\n",
       "    .dataframe tbody tr th:only-of-type {\n",
       "        vertical-align: middle;\n",
       "    }\n",
       "\n",
       "    .dataframe tbody tr th {\n",
       "        vertical-align: top;\n",
       "    }\n",
       "\n",
       "    .dataframe thead th {\n",
       "        text-align: right;\n",
       "    }\n",
       "</style>\n",
       "<table border=\"1\" class=\"dataframe\">\n",
       "  <thead>\n",
       "    <tr style=\"text-align: right;\">\n",
       "      <th></th>\n",
       "      <th>ID</th>\n",
       "      <th>Department</th>\n",
       "    </tr>\n",
       "    <tr>\n",
       "      <th>Name</th>\n",
       "      <th></th>\n",
       "      <th></th>\n",
       "    </tr>\n",
       "  </thead>\n",
       "  <tbody>\n",
       "    <tr>\n",
       "      <th>Rose</th>\n",
       "      <td>1</td>\n",
       "      <td>Architect Group</td>\n",
       "    </tr>\n",
       "    <tr>\n",
       "      <th>John</th>\n",
       "      <td>2</td>\n",
       "      <td>Software Group</td>\n",
       "    </tr>\n",
       "    <tr>\n",
       "      <th>Jane</th>\n",
       "      <td>3</td>\n",
       "      <td>Design Team</td>\n",
       "    </tr>\n",
       "  </tbody>\n",
       "</table>\n",
       "</div>"
      ]
     },
     "execution_count": 21,
     "metadata": {},
     "output_type": "execute_result"
    }
   ],
   "execution_count": 21
  },
  {
   "metadata": {},
   "cell_type": "markdown",
   "source": "### Try it yourself",
   "id": "f86c48e321881768"
  },
  {
   "metadata": {},
   "cell_type": "markdown",
   "source": "<p>using <code>loc()</code> function, do slicing on old dataframe df to retrieve the Name, ID and department of index column having labels as 2,3.</p>",
   "id": "5f38697de8672694"
  },
  {
   "metadata": {
    "ExecuteTime": {
     "end_time": "2025-06-08T18:20:53.342530Z",
     "start_time": "2025-06-08T18:20:53.333344Z"
    }
   },
   "cell_type": "code",
   "source": "df.loc[2: 3, \"Name\": \"Department\"]",
   "id": "340ddf5c7b7a5047",
   "outputs": [
    {
     "data": {
      "text/plain": [
       "   Name  ID      Department\n",
       "2  Jane   3     Design Team\n",
       "3  Mary   4  Infrastructure"
      ],
      "text/html": [
       "<div>\n",
       "<style scoped>\n",
       "    .dataframe tbody tr th:only-of-type {\n",
       "        vertical-align: middle;\n",
       "    }\n",
       "\n",
       "    .dataframe tbody tr th {\n",
       "        vertical-align: top;\n",
       "    }\n",
       "\n",
       "    .dataframe thead th {\n",
       "        text-align: right;\n",
       "    }\n",
       "</style>\n",
       "<table border=\"1\" class=\"dataframe\">\n",
       "  <thead>\n",
       "    <tr style=\"text-align: right;\">\n",
       "      <th></th>\n",
       "      <th>Name</th>\n",
       "      <th>ID</th>\n",
       "      <th>Department</th>\n",
       "    </tr>\n",
       "  </thead>\n",
       "  <tbody>\n",
       "    <tr>\n",
       "      <th>2</th>\n",
       "      <td>Jane</td>\n",
       "      <td>3</td>\n",
       "      <td>Design Team</td>\n",
       "    </tr>\n",
       "    <tr>\n",
       "      <th>3</th>\n",
       "      <td>Mary</td>\n",
       "      <td>4</td>\n",
       "      <td>Infrastructure</td>\n",
       "    </tr>\n",
       "  </tbody>\n",
       "</table>\n",
       "</div>"
      ]
     },
     "execution_count": 22,
     "metadata": {},
     "output_type": "execute_result"
    }
   ],
   "execution_count": 22
  },
  {
   "metadata": {},
   "cell_type": "markdown",
   "source": [
    "****\n",
    "This is the end of the file.\n",
    "****"
   ],
   "id": "7a83c943f747defb"
  }
 ],
 "metadata": {
  "kernelspec": {
   "display_name": "Python 3",
   "language": "python",
   "name": "python3"
  },
  "language_info": {
   "codemirror_mode": {
    "name": "ipython",
    "version": 2
   },
   "file_extension": ".py",
   "mimetype": "text/x-python",
   "name": "python",
   "nbconvert_exporter": "python",
   "pygments_lexer": "ipython2",
   "version": "2.7.6"
  }
 },
 "nbformat": 4,
 "nbformat_minor": 5
}
