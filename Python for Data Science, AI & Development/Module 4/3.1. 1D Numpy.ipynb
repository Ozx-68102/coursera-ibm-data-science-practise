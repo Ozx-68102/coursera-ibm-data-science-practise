{
 "cells": [
  {
   "metadata": {},
   "cell_type": "markdown",
   "source": "## What is `NumPy`?",
   "id": "82c615310087ff48"
  },
  {
   "metadata": {},
   "cell_type": "markdown",
   "source": "<p>NumPy is a Python library used for working with arrays, linear algebra, fourier transform, and matrices. NumPy stands for Numerical Python and it is an open source project. The array object in NumPy is called <b>ndarray</b>, it provides a lot of supporting functions that make working with ndarray very easy.</p>",
   "id": "991c18326c0d1a3"
  },
  {
   "metadata": {},
   "cell_type": "markdown",
   "source": [
    "<p>Arrays are very frequently used in data science, where speed and resources are very important.</p>\n",
    "<p>NumPy is usually imported under the np alias.</p>\n",
    "<p>It's usually fixed in size and each element is of the same type. We can cast a list to a numpy array by first importing <code>numpy</code>:"
   ],
   "id": "40ceb96cc8085f43"
  },
  {
   "metadata": {
    "ExecuteTime": {
     "end_time": "2025-06-10T06:09:58.030177Z",
     "start_time": "2025-06-10T06:09:57.991741Z"
    }
   },
   "cell_type": "code",
   "source": [
    "import numpy as np\n",
    "from numpy import ndarray, dtype"
   ],
   "id": "8e974af1dcd926e9",
   "outputs": [],
   "execution_count": 1
  },
  {
   "metadata": {},
   "cell_type": "markdown",
   "source": "<p>We then cast the list as follows:</p>",
   "id": "1503dc974ae92db1"
  },
  {
   "metadata": {
    "ExecuteTime": {
     "end_time": "2025-06-10T06:09:58.117042Z",
     "start_time": "2025-06-10T06:09:58.112465Z"
    }
   },
   "cell_type": "code",
   "source": [
    "a = np.array([0, 1, 2, 3, 4])\n",
    "a"
   ],
   "id": "b8d2af01864436f1",
   "outputs": [
    {
     "data": {
      "text/plain": [
       "array([0, 1, 2, 3, 4])"
      ]
     },
     "execution_count": 2,
     "metadata": {},
     "output_type": "execute_result"
    }
   ],
   "execution_count": 2
  },
  {
   "metadata": {},
   "cell_type": "markdown",
   "source": "<p>Each element is of the same type. As with lists, we can access each element via a square bracket:</p>",
   "id": "a1a1fa070c5c86fb"
  },
  {
   "metadata": {
    "ExecuteTime": {
     "end_time": "2025-06-10T06:09:58.132148Z",
     "start_time": "2025-06-10T06:09:58.129635Z"
    }
   },
   "cell_type": "code",
   "source": [
    "print(f\"a[0]: {a[0]}\")\n",
    "print(f\"a[1]: {a[1]}\")\n",
    "print(f\"a[2]: {a[2]}\")\n",
    "print(f\"a[3]: {a[3]}\")\n",
    "print(f\"a[4]: {a[4]}\")"
   ],
   "id": "1c33f2ba27d2453e",
   "outputs": [
    {
     "name": "stdout",
     "output_type": "stream",
     "text": [
      "a[0]: 0\n",
      "a[1]: 1\n",
      "a[2]: 2\n",
      "a[3]: 3\n",
      "a[4]: 4\n"
     ]
    }
   ],
   "execution_count": 3
  },
  {
   "metadata": {},
   "cell_type": "markdown",
   "source": "### Checking `NumPy` Version",
   "id": "965c8c48d6323bc3"
  },
  {
   "metadata": {},
   "cell_type": "markdown",
   "source": "<p>The version string is stored under <b>version</b> attribute.</p>",
   "id": "ba664dc0d951f297"
  },
  {
   "metadata": {
    "ExecuteTime": {
     "end_time": "2025-06-10T06:09:58.192034Z",
     "start_time": "2025-06-10T06:09:58.188836Z"
    }
   },
   "cell_type": "code",
   "source": "np.__version__",
   "id": "dbcb0e3244215659",
   "outputs": [
    {
     "data": {
      "text/plain": [
       "'2.2.3'"
      ]
     },
     "execution_count": 4,
     "metadata": {},
     "output_type": "execute_result"
    }
   ],
   "execution_count": 4
  },
  {
   "metadata": {},
   "cell_type": "markdown",
   "source": "### Type",
   "id": "942dccac8f7dc50f"
  },
  {
   "metadata": {},
   "cell_type": "markdown",
   "source": "<p>If we check the type of the array we get <b>numpy.ndarray</b>:</p>",
   "id": "4690970bd3a6d86d"
  },
  {
   "metadata": {
    "ExecuteTime": {
     "end_time": "2025-06-10T06:09:58.267312Z",
     "start_time": "2025-06-10T06:09:58.264323Z"
    }
   },
   "cell_type": "code",
   "source": "type(a)",
   "id": "564bdb1ba6d45932",
   "outputs": [
    {
     "data": {
      "text/plain": [
       "numpy.ndarray"
      ]
     },
     "execution_count": 5,
     "metadata": {},
     "output_type": "execute_result"
    }
   ],
   "execution_count": 5
  },
  {
   "metadata": {},
   "cell_type": "markdown",
   "source": "<p>As numpy arrays contain data of the same type, we can use the attribute \"dtype\" to obtain the data type of the array’s elements. In this case, it's a 64-bit integer:</p>",
   "id": "5ce753803dff29a3"
  },
  {
   "metadata": {
    "ExecuteTime": {
     "end_time": "2025-06-10T06:09:58.329251Z",
     "start_time": "2025-06-10T06:09:58.326514Z"
    }
   },
   "cell_type": "code",
   "source": "a.dtype",
   "id": "b3d093767b768ead",
   "outputs": [
    {
     "data": {
      "text/plain": [
       "dtype('int64')"
      ]
     },
     "execution_count": 6,
     "metadata": {},
     "output_type": "execute_result"
    }
   ],
   "execution_count": 6
  },
  {
   "metadata": {},
   "cell_type": "markdown",
   "source": "### Try it yourself",
   "id": "65f9c4d0eec1e7a"
  },
  {
   "metadata": {},
   "cell_type": "markdown",
   "source": "<p>Check the type of the array and Value type for the given array <b>b</b>.</p>",
   "id": "1339cb40ad75364d"
  },
  {
   "metadata": {
    "ExecuteTime": {
     "end_time": "2025-06-10T06:09:58.358563Z",
     "start_time": "2025-06-10T06:09:58.354946Z"
    }
   },
   "cell_type": "code",
   "source": [
    "b = np.array([3, 3.2, 11.02, 222.3, 9.3, 0.2])\n",
    "b"
   ],
   "id": "58ce038a1a6f2b8c",
   "outputs": [
    {
     "data": {
      "text/plain": [
       "array([3.000e+00, 3.200e+00, 1.102e+01, 2.223e+02, 9.300e+00, 2.000e-01])"
      ]
     },
     "execution_count": 7,
     "metadata": {},
     "output_type": "execute_result"
    }
   ],
   "execution_count": 7
  },
  {
   "metadata": {
    "ExecuteTime": {
     "end_time": "2025-06-10T06:09:58.420929Z",
     "start_time": "2025-06-10T06:09:58.418016Z"
    }
   },
   "cell_type": "code",
   "source": "type(b)",
   "id": "26dbdbf5046cb0f3",
   "outputs": [
    {
     "data": {
      "text/plain": [
       "numpy.ndarray"
      ]
     },
     "execution_count": 8,
     "metadata": {},
     "output_type": "execute_result"
    }
   ],
   "execution_count": 8
  },
  {
   "metadata": {
    "ExecuteTime": {
     "end_time": "2025-06-10T06:09:58.498939Z",
     "start_time": "2025-06-10T06:09:58.495618Z"
    }
   },
   "cell_type": "code",
   "source": "b.dtype",
   "id": "bbfd24671641eb49",
   "outputs": [
    {
     "data": {
      "text/plain": [
       "dtype('float64')"
      ]
     },
     "execution_count": 9,
     "metadata": {},
     "output_type": "execute_result"
    }
   ],
   "execution_count": 9
  },
  {
   "metadata": {},
   "cell_type": "markdown",
   "source": "### Assign value",
   "id": "ac1a7bc01c1afa89"
  },
  {
   "metadata": {},
   "cell_type": "markdown",
   "source": "<p>We can change the value of the array. Consider the array <code>c</code>:</p>",
   "id": "93a6195261c4c663"
  },
  {
   "metadata": {
    "ExecuteTime": {
     "end_time": "2025-06-10T06:09:58.564102Z",
     "start_time": "2025-06-10T06:09:58.561023Z"
    }
   },
   "cell_type": "code",
   "source": [
    "c = np.array([20, 12, 3, 6, 10])\n",
    "c"
   ],
   "id": "7834e7905a398994",
   "outputs": [
    {
     "data": {
      "text/plain": [
       "array([20, 12,  3,  6, 10])"
      ]
     },
     "execution_count": 10,
     "metadata": {},
     "output_type": "execute_result"
    }
   ],
   "execution_count": 10
  },
  {
   "metadata": {},
   "cell_type": "markdown",
   "source": "<p>We can change the first element of the array to 30 as follows:</p>",
   "id": "896e0638960cbefd"
  },
  {
   "metadata": {
    "ExecuteTime": {
     "end_time": "2025-06-10T06:09:58.632950Z",
     "start_time": "2025-06-10T06:09:58.630351Z"
    }
   },
   "cell_type": "code",
   "source": [
    "c[0] = 30\n",
    "c"
   ],
   "id": "788f82864dfb9c05",
   "outputs": [
    {
     "data": {
      "text/plain": [
       "array([30, 12,  3,  6, 10])"
      ]
     },
     "execution_count": 11,
     "metadata": {},
     "output_type": "execute_result"
    }
   ],
   "execution_count": 11
  },
  {
   "metadata": {},
   "cell_type": "markdown",
   "source": "<p>We can change the 5th element of the array to 0 as follows:</p>",
   "id": "281f0719e682a032"
  },
  {
   "metadata": {
    "ExecuteTime": {
     "end_time": "2025-06-10T06:09:58.700080Z",
     "start_time": "2025-06-10T06:09:58.697308Z"
    }
   },
   "cell_type": "code",
   "source": [
    "c[4] = 0\n",
    "c"
   ],
   "id": "915e8b73dc8ac1ef",
   "outputs": [
    {
     "data": {
      "text/plain": [
       "array([30, 12,  3,  6,  0])"
      ]
     },
     "execution_count": 12,
     "metadata": {},
     "output_type": "execute_result"
    }
   ],
   "execution_count": 12
  },
  {
   "metadata": {},
   "cell_type": "markdown",
   "source": "### Try it yourself - 1",
   "id": "f537e87a9bb13428"
  },
  {
   "metadata": {},
   "cell_type": "markdown",
   "source": "<p>Assign the value 20 for the second element in the given array.</p>",
   "id": "4ad25b6e4fee2845"
  },
  {
   "metadata": {
    "ExecuteTime": {
     "end_time": "2025-06-10T06:09:58.759656Z",
     "start_time": "2025-06-10T06:09:58.756388Z"
    }
   },
   "cell_type": "code",
   "source": [
    "a = np.array([30, 20, 50, 6, 100])\n",
    "a"
   ],
   "id": "f7bf304b2e07e045",
   "outputs": [
    {
     "data": {
      "text/plain": [
       "array([ 30,  20,  50,   6, 100])"
      ]
     },
     "execution_count": 13,
     "metadata": {},
     "output_type": "execute_result"
    }
   ],
   "execution_count": 13
  },
  {
   "metadata": {
    "ExecuteTime": {
     "end_time": "2025-06-10T06:09:58.848204Z",
     "start_time": "2025-06-10T06:09:58.844664Z"
    }
   },
   "cell_type": "code",
   "source": [
    "a[1] = 20\n",
    "a"
   ],
   "id": "9a10ea93791ef4eb",
   "outputs": [
    {
     "data": {
      "text/plain": [
       "array([ 30,  20,  50,   6, 100])"
      ]
     },
     "execution_count": 14,
     "metadata": {},
     "output_type": "execute_result"
    }
   ],
   "execution_count": 14
  },
  {
   "metadata": {},
   "cell_type": "markdown",
   "source": "### Slicing",
   "id": "97e8fc24d23aeef2"
  },
  {
   "metadata": {},
   "cell_type": "markdown",
   "source": [
    "<p>Like lists, we can slice the numpy array. Slicing in python means taking the elements from the given index to another given index.</p>\n",
    "<p>We pass slice like this: <code>[start:end]</code>.The element at end index is not being included in the output.</p>"
   ],
   "id": "f4fe476da5901994"
  },
  {
   "metadata": {},
   "cell_type": "markdown",
   "source": "<p>We can select the elements from 1 to 3 and assign it to a new numpy array <code>d</code> as follows:</p>",
   "id": "5bc2b30ee1047d57"
  },
  {
   "metadata": {
    "ExecuteTime": {
     "end_time": "2025-06-10T06:09:58.922617Z",
     "start_time": "2025-06-10T06:09:58.919356Z"
    }
   },
   "cell_type": "code",
   "source": [
    "d = c[1: 4]\n",
    "d"
   ],
   "id": "5bf2450b62231c0e",
   "outputs": [
    {
     "data": {
      "text/plain": [
       "array([12,  3,  6])"
      ]
     },
     "execution_count": 15,
     "metadata": {},
     "output_type": "execute_result"
    }
   ],
   "execution_count": 15
  },
  {
   "metadata": {},
   "cell_type": "markdown",
   "source": "<p>We can assign the corresponding indexes to new values as follows:</p>",
   "id": "1eba06506fafa7a4"
  },
  {
   "metadata": {
    "ExecuteTime": {
     "end_time": "2025-06-10T06:09:58.981676Z",
     "start_time": "2025-06-10T06:09:58.978606Z"
    }
   },
   "cell_type": "code",
   "source": [
    "c[3: 5] = 302, 404\n",
    "c"
   ],
   "id": "aa9448b13626ba5b",
   "outputs": [
    {
     "data": {
      "text/plain": [
       "array([ 30,  12,   3, 302, 404])"
      ]
     },
     "execution_count": 16,
     "metadata": {},
     "output_type": "execute_result"
    }
   ],
   "execution_count": 16
  },
  {
   "metadata": {},
   "cell_type": "markdown",
   "source": "<p>We can also define the steps in slicing, like this: <code>[start:end:step]</code>.</p>",
   "id": "64fc67f82794db12"
  },
  {
   "metadata": {
    "ExecuteTime": {
     "end_time": "2025-06-10T06:09:59.033784Z",
     "start_time": "2025-06-10T06:09:59.031638Z"
    }
   },
   "cell_type": "code",
   "source": "arr = np.array([1, 2, 3, 4, 5, 6, 7, 8, 9])",
   "id": "5f6787e8406a8720",
   "outputs": [],
   "execution_count": 17
  },
  {
   "metadata": {
    "ExecuteTime": {
     "end_time": "2025-06-10T06:09:59.092893Z",
     "start_time": "2025-06-10T06:09:59.089955Z"
    }
   },
   "cell_type": "code",
   "source": "arr[1: 5: 2]",
   "id": "8b5f27a22c2c330e",
   "outputs": [
    {
     "data": {
      "text/plain": [
       "array([2, 4])"
      ]
     },
     "execution_count": 18,
     "metadata": {},
     "output_type": "execute_result"
    }
   ],
   "execution_count": 18
  },
  {
   "metadata": {},
   "cell_type": "markdown",
   "source": "<p>If we don't pass start its considered 0.</p>",
   "id": "3393acf482d15007"
  },
  {
   "metadata": {
    "ExecuteTime": {
     "end_time": "2025-06-10T06:09:59.178775Z",
     "start_time": "2025-06-10T06:09:59.175333Z"
    }
   },
   "cell_type": "code",
   "source": "arr[: 4]",
   "id": "8ea0774d0ff9afbd",
   "outputs": [
    {
     "data": {
      "text/plain": [
       "array([1, 2, 3, 4])"
      ]
     },
     "execution_count": 19,
     "metadata": {},
     "output_type": "execute_result"
    }
   ],
   "execution_count": 19
  },
  {
   "metadata": {},
   "cell_type": "markdown",
   "source": "<p>If we don't pass end it considers till the length of array.</p>",
   "id": "331234296f009fb2"
  },
  {
   "metadata": {
    "ExecuteTime": {
     "end_time": "2025-06-10T06:09:59.255315Z",
     "start_time": "2025-06-10T06:09:59.251563Z"
    }
   },
   "cell_type": "code",
   "source": "arr[4: ]",
   "id": "1c1c7e3caa21a8b2",
   "outputs": [
    {
     "data": {
      "text/plain": [
       "array([5, 6, 7, 8, 9])"
      ]
     },
     "execution_count": 20,
     "metadata": {},
     "output_type": "execute_result"
    }
   ],
   "execution_count": 20
  },
  {
   "metadata": {},
   "cell_type": "markdown",
   "source": "<p>If we don't pass step its considered 1.</p>",
   "id": "3f432c25b944e11f"
  },
  {
   "metadata": {
    "ExecuteTime": {
     "end_time": "2025-06-10T06:09:59.328785Z",
     "start_time": "2025-06-10T06:09:59.325845Z"
    }
   },
   "cell_type": "code",
   "source": "arr[3: 6: ]",
   "id": "7484f0064f14e2f3",
   "outputs": [
    {
     "data": {
      "text/plain": [
       "array([4, 5, 6])"
      ]
     },
     "execution_count": 21,
     "metadata": {},
     "output_type": "execute_result"
    }
   ],
   "execution_count": 21
  },
  {
   "metadata": {},
   "cell_type": "markdown",
   "source": "### Try it yourself - 2",
   "id": "1fa436a863b8032b"
  },
  {
   "metadata": {},
   "cell_type": "markdown",
   "source": "<p>Print the even elements in the given array.</p>",
   "id": "b4d072cc3d9fd095"
  },
  {
   "metadata": {
    "ExecuteTime": {
     "end_time": "2025-06-10T06:09:59.385517Z",
     "start_time": "2025-06-10T06:09:59.381953Z"
    }
   },
   "cell_type": "code",
   "source": [
    "arr = np.array([1, 2, 3, 4, 5, 6, 7, 8, 9])\n",
    "arr[1: 9: 2]"
   ],
   "id": "239399a71a11b0a4",
   "outputs": [
    {
     "data": {
      "text/plain": [
       "array([2, 4, 6, 8])"
      ]
     },
     "execution_count": 22,
     "metadata": {},
     "output_type": "execute_result"
    }
   ],
   "execution_count": 22
  },
  {
   "metadata": {},
   "cell_type": "markdown",
   "source": "### Assign Value with List",
   "id": "1df17a0f1203103f"
  },
  {
   "metadata": {},
   "cell_type": "markdown",
   "source": [
    "<p>Similarly, we can use a list to select more than one specific index.\n",
    "The list <code>select</code> contains several values:</p>"
   ],
   "id": "89c4ca0fa1db099a"
  },
  {
   "metadata": {
    "ExecuteTime": {
     "end_time": "2025-06-10T06:09:59.459721Z",
     "start_time": "2025-06-10T06:09:59.456385Z"
    }
   },
   "cell_type": "code",
   "source": [
    "select = [0, 2, 3, 4]\n",
    "select"
   ],
   "id": "2f369830a132e76c",
   "outputs": [
    {
     "data": {
      "text/plain": [
       "[0, 2, 3, 4]"
      ]
     },
     "execution_count": 23,
     "metadata": {},
     "output_type": "execute_result"
    }
   ],
   "execution_count": 23
  },
  {
   "metadata": {},
   "cell_type": "markdown",
   "source": "<p>We can use the list as an argument in the brackets. The output is the elements corresponding to the particular indexes:</p>",
   "id": "c88c09f2f2a7d3d6"
  },
  {
   "metadata": {
    "ExecuteTime": {
     "end_time": "2025-06-10T06:09:59.535452Z",
     "start_time": "2025-06-10T06:09:59.532424Z"
    }
   },
   "cell_type": "code",
   "source": [
    "d = c[select]\n",
    "d"
   ],
   "id": "b08329cfd96de11",
   "outputs": [
    {
     "data": {
      "text/plain": [
       "array([ 30,   3, 302, 404])"
      ]
     },
     "execution_count": 24,
     "metadata": {},
     "output_type": "execute_result"
    }
   ],
   "execution_count": 24
  },
  {
   "metadata": {},
   "cell_type": "markdown",
   "source": "<p>We can assign the specified elements to a new value. For example, we can assign the values to 100,000 as follows:</p>",
   "id": "e6a2db38cea54180"
  },
  {
   "metadata": {
    "ExecuteTime": {
     "end_time": "2025-06-10T06:09:59.619593Z",
     "start_time": "2025-06-10T06:09:59.616220Z"
    }
   },
   "cell_type": "code",
   "source": [
    "c[select] = 100000\n",
    "c"
   ],
   "id": "ffdae6b36e7e175f",
   "outputs": [
    {
     "data": {
      "text/plain": [
       "array([100000,     12, 100000, 100000, 100000])"
      ]
     },
     "execution_count": 25,
     "metadata": {},
     "output_type": "execute_result"
    }
   ],
   "execution_count": 25
  },
  {
   "metadata": {},
   "cell_type": "markdown",
   "source": "### Other Attributes",
   "id": "fd561bd4caaaccba"
  },
  {
   "metadata": {},
   "cell_type": "markdown",
   "source": "<p>Let's review some basic array attributes using the array <code>a</code>:</p>",
   "id": "8ef1d6b0c8e1bee9"
  },
  {
   "metadata": {
    "ExecuteTime": {
     "end_time": "2025-06-10T06:09:59.698564Z",
     "start_time": "2025-06-10T06:09:59.695515Z"
    }
   },
   "cell_type": "code",
   "source": [
    "a = np.array([0, 1, 2, 3, 4])\n",
    "a"
   ],
   "id": "5c1688ea493dc4ad",
   "outputs": [
    {
     "data": {
      "text/plain": [
       "array([0, 1, 2, 3, 4])"
      ]
     },
     "execution_count": 26,
     "metadata": {},
     "output_type": "execute_result"
    }
   ],
   "execution_count": 26
  },
  {
   "metadata": {},
   "cell_type": "markdown",
   "source": "<p>The attribute <code>size</code> is the number of elements in the array:</p>",
   "id": "b5b1fcb991700eac"
  },
  {
   "metadata": {
    "ExecuteTime": {
     "end_time": "2025-06-10T06:09:59.768352Z",
     "start_time": "2025-06-10T06:09:59.765061Z"
    }
   },
   "cell_type": "code",
   "source": "a.size",
   "id": "683e8f5cf2fabc4a",
   "outputs": [
    {
     "data": {
      "text/plain": [
       "5"
      ]
     },
     "execution_count": 27,
     "metadata": {},
     "output_type": "execute_result"
    }
   ],
   "execution_count": 27
  },
  {
   "metadata": {},
   "cell_type": "markdown",
   "source": "<p>The next two attributes will make more sense when we get to higher dimensions but let's review them. The attribute <code>ndim</code> represents the number of array dimensions, or the rank of the array. In this case, one:</p>",
   "id": "4c31a6422a72ff83"
  },
  {
   "metadata": {
    "ExecuteTime": {
     "end_time": "2025-06-10T06:09:59.822180Z",
     "start_time": "2025-06-10T06:09:59.819284Z"
    }
   },
   "cell_type": "code",
   "source": "a.ndim",
   "id": "2bd84d9a1e1ae87a",
   "outputs": [
    {
     "data": {
      "text/plain": [
       "1"
      ]
     },
     "execution_count": 28,
     "metadata": {},
     "output_type": "execute_result"
    }
   ],
   "execution_count": 28
  },
  {
   "metadata": {},
   "cell_type": "markdown",
   "source": "<p>The attribute <code>shape</code> is a tuple of integers indicating the size of the array in each dimension:</p>",
   "id": "c77e5a970da5af52"
  },
  {
   "metadata": {
    "ExecuteTime": {
     "end_time": "2025-06-10T06:09:59.866325Z",
     "start_time": "2025-06-10T06:09:59.863558Z"
    }
   },
   "cell_type": "code",
   "source": "a.shape",
   "id": "24948cd599bad29e",
   "outputs": [
    {
     "data": {
      "text/plain": [
       "(5,)"
      ]
     },
     "execution_count": 29,
     "metadata": {},
     "output_type": "execute_result"
    }
   ],
   "execution_count": 29
  },
  {
   "metadata": {},
   "cell_type": "markdown",
   "source": "### Try it yourself - 3",
   "id": "a5f124e8e78a4156"
  },
  {
   "metadata": {},
   "cell_type": "markdown",
   "source": "<p>Find the size, dimension and shape for the given array <b>b</b>.</p>",
   "id": "9e81523789857640"
  },
  {
   "metadata": {
    "ExecuteTime": {
     "end_time": "2025-06-10T06:09:59.909086Z",
     "start_time": "2025-06-10T06:09:59.907038Z"
    }
   },
   "cell_type": "code",
   "source": "b = np.array([10, 20, 30, 40, 50, 60, 70])",
   "id": "51c127d5f2f08251",
   "outputs": [],
   "execution_count": 30
  },
  {
   "metadata": {
    "ExecuteTime": {
     "end_time": "2025-06-10T06:09:59.962637Z",
     "start_time": "2025-06-10T06:09:59.959731Z"
    }
   },
   "cell_type": "code",
   "source": "b.size",
   "id": "5e77d5f034e53f18",
   "outputs": [
    {
     "data": {
      "text/plain": [
       "7"
      ]
     },
     "execution_count": 31,
     "metadata": {},
     "output_type": "execute_result"
    }
   ],
   "execution_count": 31
  },
  {
   "metadata": {
    "ExecuteTime": {
     "end_time": "2025-06-10T06:10:00.032665Z",
     "start_time": "2025-06-10T06:10:00.029379Z"
    }
   },
   "cell_type": "code",
   "source": "b.ndim",
   "id": "7db16cc253558177",
   "outputs": [
    {
     "data": {
      "text/plain": [
       "1"
      ]
     },
     "execution_count": 32,
     "metadata": {},
     "output_type": "execute_result"
    }
   ],
   "execution_count": 32
  },
  {
   "metadata": {
    "ExecuteTime": {
     "end_time": "2025-06-10T06:10:00.104628Z",
     "start_time": "2025-06-10T06:10:00.101771Z"
    }
   },
   "cell_type": "code",
   "source": "b.shape",
   "id": "10e6e69936f8f184",
   "outputs": [
    {
     "data": {
      "text/plain": [
       "(7,)"
      ]
     },
     "execution_count": 33,
     "metadata": {},
     "output_type": "execute_result"
    }
   ],
   "execution_count": 33
  },
  {
   "metadata": {},
   "cell_type": "markdown",
   "source": "### `NumPy` Statistical Functions",
   "id": "b15e5230beb767b9"
  },
  {
   "metadata": {
    "ExecuteTime": {
     "end_time": "2025-06-10T06:10:00.224483Z",
     "start_time": "2025-06-10T06:10:00.220128Z"
    }
   },
   "cell_type": "code",
   "source": [
    "a = np.array([1, -1, 1, -1])\n",
    "a"
   ],
   "id": "ca6287cc4ea9d150",
   "outputs": [
    {
     "data": {
      "text/plain": [
       "array([ 1, -1,  1, -1])"
      ]
     },
     "execution_count": 34,
     "metadata": {},
     "output_type": "execute_result"
    }
   ],
   "execution_count": 34
  },
  {
   "metadata": {
    "ExecuteTime": {
     "end_time": "2025-06-10T06:10:00.324562Z",
     "start_time": "2025-06-10T06:10:00.319668Z"
    }
   },
   "cell_type": "code",
   "source": [
    "# Get the mean of numpy array\n",
    "a_mean = a.mean()\n",
    "a_mean"
   ],
   "id": "29b05677622d36a",
   "outputs": [
    {
     "data": {
      "text/plain": [
       "np.float64(0.0)"
      ]
     },
     "execution_count": 35,
     "metadata": {},
     "output_type": "execute_result"
    }
   ],
   "execution_count": 35
  },
  {
   "metadata": {
    "ExecuteTime": {
     "end_time": "2025-06-10T06:10:00.405354Z",
     "start_time": "2025-06-10T06:10:00.401203Z"
    }
   },
   "cell_type": "code",
   "source": [
    "# Get the standard deviation of numpy array\n",
    "standard_deviation  = a.std()\n",
    "standard_deviation"
   ],
   "id": "c9f8af2954528629",
   "outputs": [
    {
     "data": {
      "text/plain": [
       "np.float64(1.0)"
      ]
     },
     "execution_count": 36,
     "metadata": {},
     "output_type": "execute_result"
    }
   ],
   "execution_count": 36
  },
  {
   "metadata": {
    "ExecuteTime": {
     "end_time": "2025-06-10T06:10:00.458672Z",
     "start_time": "2025-06-10T06:10:00.455879Z"
    }
   },
   "cell_type": "code",
   "source": [
    "b = np.array([-1, 2, 3, 4, 5])\n",
    "b"
   ],
   "id": "51ffa2a870ab9e65",
   "outputs": [
    {
     "data": {
      "text/plain": [
       "array([-1,  2,  3,  4,  5])"
      ]
     },
     "execution_count": 37,
     "metadata": {},
     "output_type": "execute_result"
    }
   ],
   "execution_count": 37
  },
  {
   "metadata": {
    "ExecuteTime": {
     "end_time": "2025-06-10T06:10:00.502399Z",
     "start_time": "2025-06-10T06:10:00.499699Z"
    }
   },
   "cell_type": "code",
   "source": [
    "# Get the biggest value in the numpy array\n",
    "b_max = b.max()\n",
    "b_max"
   ],
   "id": "5638a61e5b87ce92",
   "outputs": [
    {
     "data": {
      "text/plain": [
       "np.int64(5)"
      ]
     },
     "execution_count": 38,
     "metadata": {},
     "output_type": "execute_result"
    }
   ],
   "execution_count": 38
  },
  {
   "metadata": {
    "ExecuteTime": {
     "end_time": "2025-06-10T06:10:00.546464Z",
     "start_time": "2025-06-10T06:10:00.543767Z"
    }
   },
   "cell_type": "code",
   "source": [
    "# Get the smallest value in the numpy array\n",
    "b_min = b.min()\n",
    "b_min"
   ],
   "id": "3b310f4853a224c",
   "outputs": [
    {
     "data": {
      "text/plain": [
       "np.int64(-1)"
      ]
     },
     "execution_count": 39,
     "metadata": {},
     "output_type": "execute_result"
    }
   ],
   "execution_count": 39
  },
  {
   "metadata": {},
   "cell_type": "markdown",
   "source": "### Try it yourself - 4",
   "id": "cb15c8d409814f9e"
  },
  {
   "metadata": {},
   "cell_type": "markdown",
   "source": "<p>Find the sum of maximum and minimum value in the given numpy array.</p>",
   "id": "1c0f6ef34571f8cf"
  },
  {
   "metadata": {
    "ExecuteTime": {
     "end_time": "2025-06-10T06:10:00.597989Z",
     "start_time": "2025-06-10T06:10:00.596Z"
    }
   },
   "cell_type": "code",
   "source": "c = np.array([-10, 202, 45, 99, 502])",
   "id": "d2608e5dfd112375",
   "outputs": [],
   "execution_count": 40
  },
  {
   "metadata": {
    "ExecuteTime": {
     "end_time": "2025-06-10T06:10:00.641882Z",
     "start_time": "2025-06-10T06:10:00.639025Z"
    }
   },
   "cell_type": "code",
   "source": [
    "c_max = c.max()\n",
    "c_max"
   ],
   "id": "61bbd245c858e602",
   "outputs": [
    {
     "data": {
      "text/plain": [
       "np.int64(502)"
      ]
     },
     "execution_count": 41,
     "metadata": {},
     "output_type": "execute_result"
    }
   ],
   "execution_count": 41
  },
  {
   "metadata": {
    "ExecuteTime": {
     "end_time": "2025-06-10T06:10:00.692028Z",
     "start_time": "2025-06-10T06:10:00.688677Z"
    }
   },
   "cell_type": "code",
   "source": [
    "c_min = c.min()\n",
    "c_min"
   ],
   "id": "bd1ba2319ff046c4",
   "outputs": [
    {
     "data": {
      "text/plain": [
       "np.int64(-10)"
      ]
     },
     "execution_count": 42,
     "metadata": {},
     "output_type": "execute_result"
    }
   ],
   "execution_count": 42
  },
  {
   "metadata": {
    "ExecuteTime": {
     "end_time": "2025-06-10T06:10:00.767714Z",
     "start_time": "2025-06-10T06:10:00.764656Z"
    }
   },
   "cell_type": "code",
   "source": [
    "c_sum = c_max + c_min\n",
    "c_sum"
   ],
   "id": "9ac59e73e7888e78",
   "outputs": [
    {
     "data": {
      "text/plain": [
       "np.int64(492)"
      ]
     },
     "execution_count": 43,
     "metadata": {},
     "output_type": "execute_result"
    }
   ],
   "execution_count": 43
  },
  {
   "metadata": {},
   "cell_type": "markdown",
   "source": "## `NumPy` Array Operations",
   "id": "3d9c3a23c49cc6fa"
  },
  {
   "metadata": {},
   "cell_type": "markdown",
   "source": "<p>You could use arithmetic operators directly between <code>NumPy</code> arrays.</p>",
   "id": "11eda845f3407cef"
  },
  {
   "metadata": {},
   "cell_type": "markdown",
   "source": "### Array Addition",
   "id": "4f66f61adf2250a7"
  },
  {
   "metadata": {},
   "cell_type": "markdown",
   "source": "<p>Consider the numpy array <code>u</code>:</p>",
   "id": "3ae99063ba1735f8"
  },
  {
   "metadata": {
    "ExecuteTime": {
     "end_time": "2025-06-10T06:10:00.837297Z",
     "start_time": "2025-06-10T06:10:00.833645Z"
    }
   },
   "cell_type": "code",
   "source": [
    "u = np.array([1, 0])\n",
    "u"
   ],
   "id": "cd9cdda10d342703",
   "outputs": [
    {
     "data": {
      "text/plain": [
       "array([1, 0])"
      ]
     },
     "execution_count": 44,
     "metadata": {},
     "output_type": "execute_result"
    }
   ],
   "execution_count": 44
  },
  {
   "metadata": {},
   "cell_type": "markdown",
   "source": "<p>Consider the numpy array <code>v</code>:</p>",
   "id": "8f29c75816b48fe8"
  },
  {
   "metadata": {
    "ExecuteTime": {
     "end_time": "2025-06-10T06:10:00.897557Z",
     "start_time": "2025-06-10T06:10:00.895374Z"
    }
   },
   "cell_type": "code",
   "source": "v = np.array([0, 1])",
   "id": "19000204715f1087",
   "outputs": [],
   "execution_count": 45
  },
  {
   "metadata": {},
   "cell_type": "markdown",
   "source": "<p>We can add the two arrays and assign it to <code>z</code>:</p>",
   "id": "115ad186bb749674"
  },
  {
   "metadata": {
    "ExecuteTime": {
     "end_time": "2025-06-10T06:10:00.947503Z",
     "start_time": "2025-06-10T06:10:00.944821Z"
    }
   },
   "cell_type": "code",
   "source": [
    "z = np.add(u, v)\n",
    "z"
   ],
   "id": "c99ada32394ddb92",
   "outputs": [
    {
     "data": {
      "text/plain": [
       "array([1, 1])"
      ]
     },
     "execution_count": 46,
     "metadata": {},
     "output_type": "execute_result"
    }
   ],
   "execution_count": 46
  },
  {
   "metadata": {},
   "cell_type": "markdown",
   "source": "<p>The operation is equivalent to vector addition:</p>",
   "id": "290affdaa714f290"
  },
  {
   "metadata": {
    "ExecuteTime": {
     "end_time": "2025-06-10T06:10:01.190042Z",
     "start_time": "2025-06-10T06:10:00.979236Z"
    }
   },
   "cell_type": "code",
   "source": [
    "import matplotlib.pyplot as plt\n",
    "\n",
    "def plotvec1(np1: ndarray[tuple[int], dtype], np2: ndarray[tuple[int], dtype], np3: ndarray[tuple[int], dtype]) -> None:\n",
    "    ax = plt.axes()\n",
    "    ax.arrow(0, 0, *np1, head_width=0.05, color=\"r\", head_length=0.1)\n",
    "    plt.text(*(np1 + 0.1), s=\"u\")\n",
    "\n",
    "    ax.arrow(0, 0, *np2, head_width=0.05, color=\"b\", head_length=0.1)\n",
    "    plt.text(*(np2 + 0.1), s=\"v\")\n",
    "\n",
    "    ax.arrow(0, 0, *np3, head_width=0.05, head_length=0.1)\n",
    "    plt.text(*(np3 + 0.1), s=\"z\")\n",
    "\n",
    "    plt.ylim(-2, 2)\n",
    "    plt.xlim(-2, 2)"
   ],
   "id": "de563819978d64c0",
   "outputs": [],
   "execution_count": 47
  },
  {
   "metadata": {
    "ExecuteTime": {
     "end_time": "2025-06-10T06:10:01.272843Z",
     "start_time": "2025-06-10T06:10:01.199655Z"
    }
   },
   "cell_type": "code",
   "source": "plotvec1(u, z, v)",
   "id": "affa888792c44b26",
   "outputs": [
    {
     "data": {
      "text/plain": [
       "<Figure size 640x480 with 1 Axes>"
      ],
      "image/png": "[encoded data removed]"
     },
     "metadata": {},
     "output_type": "display_data"
    }
   ],
   "execution_count": 48
  },
  {
   "metadata": {},
   "cell_type": "markdown",
   "source": "### Try it yourself - 5",
   "id": "a9455116b3e22ac2"
  },
  {
   "metadata": {},
   "cell_type": "markdown",
   "source": "<p>Perform addition operation on the given numpy array <code>arr1</code> and <code>arr2</code>:</p>",
   "id": "a3dd6e35c02f8b1"
  },
  {
   "metadata": {
    "ExecuteTime": {
     "end_time": "2025-06-10T06:10:01.316598Z",
     "start_time": "2025-06-10T06:10:01.312880Z"
    }
   },
   "cell_type": "code",
   "source": [
    "arr1 = np.array([10, 11, 12, 13, 14, 15])\n",
    "arr2 = np.array([20, 21, 22, 23, 24, 25])\n",
    "\n",
    "np.add(arr1, arr2)"
   ],
   "id": "b07c413e87840ed8",
   "outputs": [
    {
     "data": {
      "text/plain": [
       "array([30, 32, 34, 36, 38, 40])"
      ]
     },
     "execution_count": 49,
     "metadata": {},
     "output_type": "execute_result"
    }
   ],
   "execution_count": 49
  },
  {
   "metadata": {},
   "cell_type": "markdown",
   "source": "### Array Subtraction",
   "id": "f1b845c561542e7f"
  },
  {
   "metadata": {},
   "cell_type": "markdown",
   "source": "<p>Consider the numpy array <code>a</code>:</p>",
   "id": "f46492622afc7ac2"
  },
  {
   "metadata": {
    "ExecuteTime": {
     "end_time": "2025-06-10T06:10:01.387522Z",
     "start_time": "2025-06-10T06:10:01.383577Z"
    }
   },
   "cell_type": "code",
   "source": [
    "a = np.array([10, 20, 30])\n",
    "a"
   ],
   "id": "816a3d41c368af0",
   "outputs": [
    {
     "data": {
      "text/plain": [
       "array([10, 20, 30])"
      ]
     },
     "execution_count": 50,
     "metadata": {},
     "output_type": "execute_result"
    }
   ],
   "execution_count": 50
  },
  {
   "metadata": {},
   "cell_type": "markdown",
   "source": "<p>Consider the numpy array <code>b</code>:</p>",
   "id": "51eb2fb484b653e0"
  },
  {
   "metadata": {
    "ExecuteTime": {
     "end_time": "2025-06-10T06:10:01.462166Z",
     "start_time": "2025-06-10T06:10:01.458182Z"
    }
   },
   "cell_type": "code",
   "source": [
    "b = np.array([10, 15, 20])\n",
    "b"
   ],
   "id": "e318fcfe8cdc0584",
   "outputs": [
    {
     "data": {
      "text/plain": [
       "array([10, 15, 20])"
      ]
     },
     "execution_count": 51,
     "metadata": {},
     "output_type": "execute_result"
    }
   ],
   "execution_count": 51
  },
  {
   "metadata": {},
   "cell_type": "markdown",
   "source": "<p>We can subtract the two arrays and assign it to <code>c</code>:</p>",
   "id": "68af57d930c39091"
  },
  {
   "metadata": {
    "ExecuteTime": {
     "end_time": "2025-06-10T06:10:01.534408Z",
     "start_time": "2025-06-10T06:10:01.531497Z"
    }
   },
   "cell_type": "code",
   "source": [
    "c = np.subtract(a, b)\n",
    "c"
   ],
   "id": "2b9f2745cf313aa6",
   "outputs": [
    {
     "data": {
      "text/plain": [
       "array([ 0,  5, 10])"
      ]
     },
     "execution_count": 52,
     "metadata": {},
     "output_type": "execute_result"
    }
   ],
   "execution_count": 52
  },
  {
   "metadata": {},
   "cell_type": "markdown",
   "source": "### Try it yourself - 6",
   "id": "5dfa3af695179704"
  },
  {
   "metadata": {},
   "cell_type": "markdown",
   "source": "<p>Perform subtraction operation on the given numpy array <code>arr1</code> and <code>arr2</code>:</p>",
   "id": "ed163e304c82aa48"
  },
  {
   "metadata": {
    "ExecuteTime": {
     "end_time": "2025-06-10T06:10:01.627657Z",
     "start_time": "2025-06-10T06:10:01.624439Z"
    }
   },
   "cell_type": "code",
   "source": [
    "arr1 = np.array([10, 20, 30, 400, 500, 60])\n",
    "arr2 = np.array([40, 50, 80, 4, 20, 33])\n",
    "\n",
    "np.subtract(arr1, arr2)"
   ],
   "id": "f0f27463eab80dcc",
   "outputs": [
    {
     "data": {
      "text/plain": [
       "array([-30, -30, -50, 396, 480,  27])"
      ]
     },
     "execution_count": 53,
     "metadata": {},
     "output_type": "execute_result"
    }
   ],
   "execution_count": 53
  },
  {
   "metadata": {},
   "cell_type": "markdown",
   "source": "### Array Multiplication",
   "id": "3c2a55118d72e652"
  },
  {
   "metadata": {},
   "cell_type": "markdown",
   "source": "<p>Consider the vector numpy array <code>x</code>:</p>",
   "id": "506ff4e7d0d627b7"
  },
  {
   "metadata": {
    "ExecuteTime": {
     "end_time": "2025-06-10T06:10:01.668188Z",
     "start_time": "2025-06-10T06:10:01.665009Z"
    }
   },
   "cell_type": "code",
   "source": [
    "x = np.array([1, 2])\n",
    "x"
   ],
   "id": "927a169b0e2f078a",
   "outputs": [
    {
     "data": {
      "text/plain": [
       "array([1, 2])"
      ]
     },
     "execution_count": 54,
     "metadata": {},
     "output_type": "execute_result"
    }
   ],
   "execution_count": 54
  },
  {
   "metadata": {},
   "cell_type": "markdown",
   "source": "<p>Consider the vector numpy array <code>y</code>:</p>",
   "id": "216379ae790a6f16"
  },
  {
   "metadata": {
    "ExecuteTime": {
     "end_time": "2025-06-10T06:10:01.735950Z",
     "start_time": "2025-06-10T06:10:01.732547Z"
    }
   },
   "cell_type": "code",
   "source": [
    "y = np.array([2, 1])\n",
    "y"
   ],
   "id": "c8acfca3693d28df",
   "outputs": [
    {
     "data": {
      "text/plain": [
       "array([2, 1])"
      ]
     },
     "execution_count": 55,
     "metadata": {},
     "output_type": "execute_result"
    }
   ],
   "execution_count": 55
  },
  {
   "metadata": {},
   "cell_type": "markdown",
   "source": "<p>We can multiply every element in the array by 2:</p>",
   "id": "be8379a6b4ca91b8"
  },
  {
   "metadata": {
    "ExecuteTime": {
     "end_time": "2025-06-10T06:10:01.796408Z",
     "start_time": "2025-06-10T06:10:01.793295Z"
    }
   },
   "cell_type": "code",
   "source": [
    "z = np.multiply(x, y)\n",
    "z"
   ],
   "id": "a8f371487c3e4c6b",
   "outputs": [
    {
     "data": {
      "text/plain": [
       "array([2, 2])"
      ]
     },
     "execution_count": 56,
     "metadata": {},
     "output_type": "execute_result"
    }
   ],
   "execution_count": 56
  },
  {
   "metadata": {},
   "cell_type": "markdown",
   "source": "### Try it yourself - 7",
   "id": "7483cde2783d49a2"
  },
  {
   "metadata": {},
   "cell_type": "markdown",
   "source": "<p>Perform multiply operation on the given numpy array <code>arr1</code> and <code>arr2</code>:</p>",
   "id": "627099399fc6967e"
  },
  {
   "metadata": {
    "ExecuteTime": {
     "end_time": "2025-06-10T06:10:01.870557Z",
     "start_time": "2025-06-10T06:10:01.867044Z"
    }
   },
   "cell_type": "code",
   "source": [
    "arr1 = np.array([10, 20, 30, 44, 55, 66])\n",
    "arr2 = np.array([3, 5, 4, 6, 2, 1])\n",
    "\n",
    "np.multiply(arr1, arr2)"
   ],
   "id": "72a4b2b68d98a87e",
   "outputs": [
    {
     "data": {
      "text/plain": [
       "array([ 30, 100, 120, 264, 110,  66])"
      ]
     },
     "execution_count": 57,
     "metadata": {},
     "output_type": "execute_result"
    }
   ],
   "execution_count": 57
  },
  {
   "metadata": {},
   "cell_type": "markdown",
   "source": "### Array Division",
   "id": "2e4af3b538dce5f8"
  },
  {
   "metadata": {},
   "cell_type": "markdown",
   "source": "<p>Consider the vector numpy array <code>a</code>:</p>",
   "id": "3b3d7a12ab87e0d1"
  },
  {
   "metadata": {
    "ExecuteTime": {
     "end_time": "2025-06-10T06:10:01.940482Z",
     "start_time": "2025-06-10T06:10:01.937439Z"
    }
   },
   "cell_type": "code",
   "source": [
    "a = np.array([10, 20, 30])\n",
    "a"
   ],
   "id": "e5e209150756ff3d",
   "outputs": [
    {
     "data": {
      "text/plain": [
       "array([10, 20, 30])"
      ]
     },
     "execution_count": 58,
     "metadata": {},
     "output_type": "execute_result"
    }
   ],
   "execution_count": 58
  },
  {
   "metadata": {},
   "cell_type": "markdown",
   "source": "<p>Consider the vector numpy array <code>b</code>:</p>",
   "id": "7ebf3c19443ba3ab"
  },
  {
   "metadata": {
    "ExecuteTime": {
     "end_time": "2025-06-10T06:10:02.014585Z",
     "start_time": "2025-06-10T06:10:02.011205Z"
    }
   },
   "cell_type": "code",
   "source": [
    "b = np.array([3, 2, 5])\n",
    "b"
   ],
   "id": "18e75ff494585ce1",
   "outputs": [
    {
     "data": {
      "text/plain": [
       "array([3, 2, 5])"
      ]
     },
     "execution_count": 59,
     "metadata": {},
     "output_type": "execute_result"
    }
   ],
   "execution_count": 59
  },
  {
   "metadata": {},
   "cell_type": "markdown",
   "source": "<p>We can divide the two arrays and assign it to <code>c</code>:</p>",
   "id": "8dd4cf398da96a17"
  },
  {
   "metadata": {
    "ExecuteTime": {
     "end_time": "2025-06-10T06:10:02.084554Z",
     "start_time": "2025-06-10T06:10:02.081042Z"
    }
   },
   "cell_type": "code",
   "source": [
    "c = np.divide(a, b)\n",
    "c"
   ],
   "id": "5dc118ba262db179",
   "outputs": [
    {
     "data": {
      "text/plain": [
       "array([ 3.33333333, 10.        ,  6.        ])"
      ]
     },
     "execution_count": 60,
     "metadata": {},
     "output_type": "execute_result"
    }
   ],
   "execution_count": 60
  },
  {
   "metadata": {},
   "cell_type": "markdown",
   "source": "### Try it yourself - 8",
   "id": "e26c50e4b3bc7331"
  },
  {
   "metadata": {},
   "cell_type": "markdown",
   "source": "<p>Perform division operation on the given numpy array <code>arr1</code> and <code>arr2</code>:</p>",
   "id": "c8495478ab326c83"
  },
  {
   "metadata": {
    "ExecuteTime": {
     "end_time": "2025-06-10T06:10:02.157334Z",
     "start_time": "2025-06-10T06:10:02.154130Z"
    }
   },
   "cell_type": "code",
   "source": [
    "arr1 = np.array([11, 22, 33, 44, 55, 66])\n",
    "arr2 = np.array([2, 4, 6, 8, 11, 33])\n",
    "\n",
    "np.divide(arr1, arr2)"
   ],
   "id": "eddc4834fc44d7fa",
   "outputs": [
    {
     "data": {
      "text/plain": [
       "array([5.5, 5.5, 5.5, 5.5, 5. , 2. ])"
      ]
     },
     "execution_count": 61,
     "metadata": {},
     "output_type": "execute_result"
    }
   ],
   "execution_count": 61
  },
  {
   "metadata": {},
   "cell_type": "markdown",
   "source": "### Dot Prodict",
   "id": "3b4481009520eb86"
  },
  {
   "metadata": {},
   "cell_type": "markdown",
   "source": "<p>The dot product of the two numpy arrays <code>u</code> and <code>v</code> is given by:</p>",
   "id": "94311bdf094b39e1"
  },
  {
   "metadata": {
    "ExecuteTime": {
     "end_time": "2025-06-10T06:10:02.229128Z",
     "start_time": "2025-06-10T06:10:02.226063Z"
    }
   },
   "cell_type": "code",
   "source": [
    "u = np.array([1, 2])\n",
    "u"
   ],
   "id": "a935f809f9055f66",
   "outputs": [
    {
     "data": {
      "text/plain": [
       "array([1, 2])"
      ]
     },
     "execution_count": 62,
     "metadata": {},
     "output_type": "execute_result"
    }
   ],
   "execution_count": 62
  },
  {
   "metadata": {
    "ExecuteTime": {
     "end_time": "2025-06-10T06:10:02.280797Z",
     "start_time": "2025-06-10T06:10:02.277729Z"
    }
   },
   "cell_type": "code",
   "source": [
    "v = np.array([3, 2])\n",
    "v"
   ],
   "id": "5b5e5bf03adf64aa",
   "outputs": [
    {
     "data": {
      "text/plain": [
       "array([3, 2])"
      ]
     },
     "execution_count": 63,
     "metadata": {},
     "output_type": "execute_result"
    }
   ],
   "execution_count": 63
  },
  {
   "metadata": {
    "ExecuteTime": {
     "end_time": "2025-06-10T06:10:02.355595Z",
     "start_time": "2025-06-10T06:10:02.352110Z"
    }
   },
   "cell_type": "code",
   "source": [
    "# Calculate the dot product\n",
    "np.dot(u, v)"
   ],
   "id": "89869cd9d4979a01",
   "outputs": [
    {
     "data": {
      "text/plain": [
       "np.int64(7)"
      ]
     },
     "execution_count": 64,
     "metadata": {},
     "output_type": "execute_result"
    }
   ],
   "execution_count": 64
  },
  {
   "metadata": {
    "ExecuteTime": {
     "end_time": "2025-06-10T06:10:02.430187Z",
     "start_time": "2025-06-10T06:10:02.426611Z"
    }
   },
   "cell_type": "code",
   "source": "u[0]",
   "id": "b3f5792c9af984e6",
   "outputs": [
    {
     "data": {
      "text/plain": [
       "np.int64(1)"
      ]
     },
     "execution_count": 65,
     "metadata": {},
     "output_type": "execute_result"
    }
   ],
   "execution_count": 65
  },
  {
   "metadata": {
    "ExecuteTime": {
     "end_time": "2025-06-10T06:10:02.534796Z",
     "start_time": "2025-06-10T06:10:02.531465Z"
    }
   },
   "cell_type": "code",
   "source": "u[1]",
   "id": "946d6c9ff056680e",
   "outputs": [
    {
     "data": {
      "text/plain": [
       "np.int64(2)"
      ]
     },
     "execution_count": 66,
     "metadata": {},
     "output_type": "execute_result"
    }
   ],
   "execution_count": 66
  },
  {
   "metadata": {
    "ExecuteTime": {
     "end_time": "2025-06-10T06:10:02.604212Z",
     "start_time": "2025-06-10T06:10:02.601093Z"
    }
   },
   "cell_type": "code",
   "source": "v[0]",
   "id": "23e4611da89b9a3a",
   "outputs": [
    {
     "data": {
      "text/plain": [
       "np.int64(3)"
      ]
     },
     "execution_count": 67,
     "metadata": {},
     "output_type": "execute_result"
    }
   ],
   "execution_count": 67
  },
  {
   "metadata": {
    "ExecuteTime": {
     "end_time": "2025-06-10T06:10:02.658419Z",
     "start_time": "2025-06-10T06:10:02.655799Z"
    }
   },
   "cell_type": "code",
   "source": "v[1]",
   "id": "e94709ef4635a668",
   "outputs": [
    {
     "data": {
      "text/plain": [
       "np.int64(2)"
      ]
     },
     "execution_count": 68,
     "metadata": {},
     "output_type": "execute_result"
    }
   ],
   "execution_count": 68
  },
  {
   "metadata": {},
   "cell_type": "markdown",
   "source": "Dot product = u.v = u[0] * v[0] + u[1] * v[1]",
   "id": "2cc2696a8b29eebd"
  },
  {
   "metadata": {},
   "cell_type": "markdown",
   "source": "### Try it yourself - 9",
   "id": "3d72c93d039a9b3a"
  },
  {
   "metadata": {},
   "cell_type": "markdown",
   "source": "<p>Perform dot operation on the given numpy array <code>arr1</code> and <code>arr2</code>:</p>",
   "id": "e80b0ac0b67f034f"
  },
  {
   "metadata": {
    "ExecuteTime": {
     "end_time": "2025-06-10T06:10:02.721524Z",
     "start_time": "2025-06-10T06:10:02.717649Z"
    }
   },
   "cell_type": "code",
   "source": [
    "arr1 = np.array([4, 6])\n",
    "arr2 = np.array([5, 7])\n",
    "\n",
    "np.dot(arr1, arr2)"
   ],
   "id": "e3192e3dc852b0cc",
   "outputs": [
    {
     "data": {
      "text/plain": [
       "np.int64(62)"
      ]
     },
     "execution_count": 69,
     "metadata": {},
     "output_type": "execute_result"
    }
   ],
   "execution_count": 69
  },
  {
   "metadata": {},
   "cell_type": "markdown",
   "source": "### Adding Constant to a `NumPy` Array",
   "id": "fb4d7124643fa58a"
  },
  {
   "metadata": {},
   "cell_type": "markdown",
   "source": "<p>Consider the following array:</p>",
   "id": "f61d43cf08bda62d"
  },
  {
   "metadata": {
    "ExecuteTime": {
     "end_time": "2025-06-10T06:10:02.809728Z",
     "start_time": "2025-06-10T06:10:02.806041Z"
    }
   },
   "cell_type": "code",
   "source": [
    "u = np.array([1, 2, 3, -1])\n",
    "u"
   ],
   "id": "8c53a716ff715dee",
   "outputs": [
    {
     "data": {
      "text/plain": [
       "array([ 1,  2,  3, -1])"
      ]
     },
     "execution_count": 70,
     "metadata": {},
     "output_type": "execute_result"
    }
   ],
   "execution_count": 70
  },
  {
   "metadata": {},
   "cell_type": "markdown",
   "source": "<p>Adding the constant 1 to each element in the array:</p>",
   "id": "53fce5adbdf6054"
  },
  {
   "metadata": {
    "ExecuteTime": {
     "end_time": "2025-06-10T06:10:02.872872Z",
     "start_time": "2025-06-10T06:10:02.869274Z"
    }
   },
   "cell_type": "code",
   "source": "u + 1",
   "id": "6ef33009fdcced7c",
   "outputs": [
    {
     "data": {
      "text/plain": [
       "array([2, 3, 4, 0])"
      ]
     },
     "execution_count": 71,
     "metadata": {},
     "output_type": "execute_result"
    }
   ],
   "execution_count": 71
  },
  {
   "metadata": {},
   "cell_type": "markdown",
   "source": "### Try it yourself - 10",
   "id": "afc28bf51a3d473a"
  },
  {
   "metadata": {},
   "cell_type": "markdown",
   "source": "<p>Add Constant 5 to the given numpy array <code>arr</code>:</p>",
   "id": "b3a749c19482e1e5"
  },
  {
   "metadata": {
    "ExecuteTime": {
     "end_time": "2025-06-10T06:10:02.941829Z",
     "start_time": "2025-06-10T06:10:02.938402Z"
    }
   },
   "cell_type": "code",
   "source": [
    "arr = np.array([1, 2, 3, -2, -4])\n",
    "\n",
    "arr + 5"
   ],
   "id": "ff00b3a30f01f777",
   "outputs": [
    {
     "data": {
      "text/plain": [
       "array([6, 7, 8, 3, 1])"
      ]
     },
     "execution_count": 72,
     "metadata": {},
     "output_type": "execute_result"
    }
   ],
   "execution_count": 72
  },
  {
   "metadata": {},
   "cell_type": "markdown",
   "source": "### Mathematical Functions",
   "id": "3d9ac2125b3a5eae"
  },
  {
   "metadata": {},
   "cell_type": "markdown",
   "source": "<p>We can access the value of <code>pi</code> in numpy as follows:</p>",
   "id": "6b504742a9b32699"
  },
  {
   "metadata": {
    "ExecuteTime": {
     "end_time": "2025-06-10T06:10:03.013044Z",
     "start_time": "2025-06-10T06:10:03.010050Z"
    }
   },
   "cell_type": "code",
   "source": "np.pi",
   "id": "3183312c8fb121b5",
   "outputs": [
    {
     "data": {
      "text/plain": [
       "3.141592653589793"
      ]
     },
     "execution_count": 73,
     "metadata": {},
     "output_type": "execute_result"
    }
   ],
   "execution_count": 73
  },
  {
   "metadata": {},
   "cell_type": "markdown",
   "source": "<p>We can create the following numpy array in Radians:</p>",
   "id": "dc5b8a20284f3fe3"
  },
  {
   "metadata": {
    "ExecuteTime": {
     "end_time": "2025-06-10T06:10:03.117821Z",
     "start_time": "2025-06-10T06:10:03.114380Z"
    }
   },
   "cell_type": "code",
   "source": [
    "x = np.array([0, np.pi / 2, np.pi])\n",
    "x"
   ],
   "id": "cfb0c053971e03a1",
   "outputs": [
    {
     "data": {
      "text/plain": [
       "array([0.        , 1.57079633, 3.14159265])"
      ]
     },
     "execution_count": 74,
     "metadata": {},
     "output_type": "execute_result"
    }
   ],
   "execution_count": 74
  },
  {
   "metadata": {},
   "cell_type": "markdown",
   "source": "<p>We can apply the function <code>sin</code> to the array <code>x</code> and assign the values to the array <code>y</code>. This applies the sine function to each element in the array:</p>",
   "id": "eb9508077b10b06d"
  },
  {
   "metadata": {
    "ExecuteTime": {
     "end_time": "2025-06-10T06:10:03.173585Z",
     "start_time": "2025-06-10T06:10:03.170440Z"
    }
   },
   "cell_type": "code",
   "source": [
    "y = np.sin(x)\n",
    "y"
   ],
   "id": "91e450c290a8e96f",
   "outputs": [
    {
     "data": {
      "text/plain": [
       "array([0.0000000e+00, 1.0000000e+00, 1.2246468e-16])"
      ]
     },
     "execution_count": 75,
     "metadata": {},
     "output_type": "execute_result"
    }
   ],
   "execution_count": 75
  },
  {
   "metadata": {},
   "cell_type": "markdown",
   "source": "### Linspace",
   "id": "9088418df3da1a1e"
  },
  {
   "metadata": {},
   "cell_type": "markdown",
   "source": "<p>A useful function for plotting mathematical functions is <code>linspace</code>. Linspace returns evenly spaced numbers over a specified interval.</p>",
   "id": "c2bfa01e8b41b3d3"
  },
  {
   "metadata": {},
   "cell_type": "markdown",
   "source": [
    "**Syntax**:\n",
    "\n",
    "<p><code>numpy.linspace(start, stop, num=int value)</code></p>"
   ],
   "id": "ce54163a0205e7e7"
  },
  {
   "metadata": {
    "ExecuteTime": {
     "end_time": "2025-06-10T06:10:03.227639Z",
     "start_time": "2025-06-10T06:10:03.224692Z"
    }
   },
   "cell_type": "code",
   "source": [
    "# makeup a numpy array within [-2, 2] and 5 elements\n",
    "np.linspace(-2, 2, num=5)"
   ],
   "id": "559ba41b123622b2",
   "outputs": [
    {
     "data": {
      "text/plain": [
       "array([-2., -1.,  0.,  1.,  2.])"
      ]
     },
     "execution_count": 76,
     "metadata": {},
     "output_type": "execute_result"
    }
   ],
   "execution_count": 76
  },
  {
   "metadata": {},
   "cell_type": "markdown",
   "source": "<p>If we change the parameter <code>num</code> to 9, we get 9 evenly spaced numbers over the interval from -2 to 2:</p>",
   "id": "676422ec02990476"
  },
  {
   "metadata": {
    "ExecuteTime": {
     "end_time": "2025-06-10T06:10:03.303339Z",
     "start_time": "2025-06-10T06:10:03.299863Z"
    }
   },
   "cell_type": "code",
   "source": "np.linspace(-2, 2, num=9)",
   "id": "6a54b2c4fe81daaa",
   "outputs": [
    {
     "data": {
      "text/plain": [
       "array([-2. , -1.5, -1. , -0.5,  0. ,  0.5,  1. ,  1.5,  2. ])"
      ]
     },
     "execution_count": 77,
     "metadata": {},
     "output_type": "execute_result"
    }
   ],
   "execution_count": 77
  },
  {
   "metadata": {},
   "cell_type": "markdown",
   "source": "<p>We can use the function <code>linspace</code> to generate 100 evenly spaced samples from the interval 0 to 2π:</p>",
   "id": "ae7cc5bfe6bf96e7"
  },
  {
   "metadata": {
    "ExecuteTime": {
     "end_time": "2025-06-10T06:10:03.371202Z",
     "start_time": "2025-06-10T06:10:03.366658Z"
    }
   },
   "cell_type": "code",
   "source": [
    "x = np.linspace(0, 2 * np.pi, num=100)\n",
    "x"
   ],
   "id": "c7067c3f5082773f",
   "outputs": [
    {
     "data": {
      "text/plain": [
       "array([0.        , 0.06346652, 0.12693304, 0.19039955, 0.25386607,\n",
       "       0.31733259, 0.38079911, 0.44426563, 0.50773215, 0.57119866,\n",
       "       0.63466518, 0.6981317 , 0.76159822, 0.82506474, 0.88853126,\n",
       "       0.95199777, 1.01546429, 1.07893081, 1.14239733, 1.20586385,\n",
       "       1.26933037, 1.33279688, 1.3962634 , 1.45972992, 1.52319644,\n",
       "       1.58666296, 1.65012947, 1.71359599, 1.77706251, 1.84052903,\n",
       "       1.90399555, 1.96746207, 2.03092858, 2.0943951 , 2.15786162,\n",
       "       2.22132814, 2.28479466, 2.34826118, 2.41172769, 2.47519421,\n",
       "       2.53866073, 2.60212725, 2.66559377, 2.72906028, 2.7925268 ,\n",
       "       2.85599332, 2.91945984, 2.98292636, 3.04639288, 3.10985939,\n",
       "       3.17332591, 3.23679243, 3.30025895, 3.36372547, 3.42719199,\n",
       "       3.4906585 , 3.55412502, 3.61759154, 3.68105806, 3.74452458,\n",
       "       3.8079911 , 3.87145761, 3.93492413, 3.99839065, 4.06185717,\n",
       "       4.12532369, 4.1887902 , 4.25225672, 4.31572324, 4.37918976,\n",
       "       4.44265628, 4.5061228 , 4.56958931, 4.63305583, 4.69652235,\n",
       "       4.75998887, 4.82345539, 4.88692191, 4.95038842, 5.01385494,\n",
       "       5.07732146, 5.14078798, 5.2042545 , 5.26772102, 5.33118753,\n",
       "       5.39465405, 5.45812057, 5.52158709, 5.58505361, 5.64852012,\n",
       "       5.71198664, 5.77545316, 5.83891968, 5.9023862 , 5.96585272,\n",
       "       6.02931923, 6.09278575, 6.15625227, 6.21971879, 6.28318531])"
      ]
     },
     "execution_count": 78,
     "metadata": {},
     "output_type": "execute_result"
    }
   ],
   "execution_count": 78
  },
  {
   "metadata": {},
   "cell_type": "markdown",
   "source": "<p>We can apply the sine function to each element in the array <code>x</code> and assign it to the array <code>y</code>:</p>",
   "id": "3c02938b43b47dd5"
  },
  {
   "metadata": {
    "ExecuteTime": {
     "end_time": "2025-06-10T06:10:03.422269Z",
     "start_time": "2025-06-10T06:10:03.420310Z"
    }
   },
   "cell_type": "code",
   "source": "y = np.sin(x)",
   "id": "2e75372291dd8e8e",
   "outputs": [],
   "execution_count": 79
  },
  {
   "metadata": {
    "ExecuteTime": {
     "end_time": "2025-06-10T06:10:03.523103Z",
     "start_time": "2025-06-10T06:10:03.462567Z"
    }
   },
   "cell_type": "code",
   "source": "plt.plot(x, y)",
   "id": "2a5c6ce45418dac4",
   "outputs": [
    {
     "data": {
      "text/plain": [
       "[<matplotlib.lines.Line2D at 0x21b4d193110>]"
      ]
     },
     "execution_count": 80,
     "metadata": {},
     "output_type": "execute_result"
    },
    {
     "data": {
      "text/plain": [
       "<Figure size 640x480 with 1 Axes>"
      ],
      "image/png": "[encoded data removed]"
     },
     "metadata": {},
     "output_type": "display_data"
    }
   ],
   "execution_count": 80
  },
  {
   "metadata": {},
   "cell_type": "markdown",
   "source": "### Try it yourself - 11",
   "id": "a18ad24957cab3ec"
  },
  {
   "metadata": {},
   "cell_type": "markdown",
   "source": "<p>Make a numpy array within [5, 4] and 6 elements.</p>",
   "id": "7342e24e52b8effe"
  },
  {
   "metadata": {
    "ExecuteTime": {
     "end_time": "2025-06-10T06:10:03.539104Z",
     "start_time": "2025-06-10T06:10:03.534938Z"
    }
   },
   "cell_type": "code",
   "source": "np.linspace(5, 4, num=6)",
   "id": "bf2f9a86985f336b",
   "outputs": [
    {
     "data": {
      "text/plain": [
       "array([5. , 4.8, 4.6, 4.4, 4.2, 4. ])"
      ]
     },
     "execution_count": 81,
     "metadata": {},
     "output_type": "execute_result"
    }
   ],
   "execution_count": 81
  },
  {
   "metadata": {},
   "cell_type": "markdown",
   "source": "### Iterating 1-D Arrays",
   "id": "e09f9a3b2a16a563"
  },
  {
   "metadata": {},
   "cell_type": "markdown",
   "source": [
    "<p>Iterating means going through elements one by one.</p>\n",
    "<p>If we iterate on a 1-D array it will go through each element one by one.</p>"
   ],
   "id": "ed40f7d6ab3f91d7"
  },
  {
   "metadata": {},
   "cell_type": "markdown",
   "source": "<p>If we execute the numpy array, we get in the array format.</p>",
   "id": "eae68104d0809676"
  },
  {
   "metadata": {
    "ExecuteTime": {
     "end_time": "2025-06-10T06:10:03.609142Z",
     "start_time": "2025-06-10T06:10:03.606554Z"
    }
   },
   "cell_type": "code",
   "source": [
    "arr1 = np.array([1, 2, 3, 4, 5])\n",
    "arr1"
   ],
   "id": "7d0e4e2ee3822550",
   "outputs": [
    {
     "data": {
      "text/plain": [
       "array([1, 2, 3, 4, 5])"
      ]
     },
     "execution_count": 82,
     "metadata": {},
     "output_type": "execute_result"
    }
   ],
   "execution_count": 82
  },
  {
   "metadata": {},
   "cell_type": "markdown",
   "source": "<p>But if you want to result in the form of the list, then you can use for loop:</p>",
   "id": "6fe93281dc0d0edf"
  },
  {
   "metadata": {
    "ExecuteTime": {
     "end_time": "2025-06-10T06:10:03.660339Z",
     "start_time": "2025-06-10T06:10:03.657858Z"
    }
   },
   "cell_type": "code",
   "source": [
    "for element in arr1:\n",
    "    print(element)"
   ],
   "id": "26b14f844c9316d3",
   "outputs": [
    {
     "name": "stdout",
     "output_type": "stream",
     "text": [
      "1\n",
      "2\n",
      "3\n",
      "4\n",
      "5\n"
     ]
    }
   ],
   "execution_count": 83
  },
  {
   "metadata": {},
   "cell_type": "markdown",
   "source": "### Quiz on 1D `NumPy` Array",
   "id": "4f4149364a3be70e"
  },
  {
   "metadata": {},
   "cell_type": "markdown",
   "source": "<p>Implement the following vector subtraction in numpy: u-v</p>",
   "id": "48676a8e3458b3eb"
  },
  {
   "metadata": {
    "ExecuteTime": {
     "end_time": "2025-06-10T06:10:03.740763Z",
     "start_time": "2025-06-10T06:10:03.737365Z"
    }
   },
   "cell_type": "code",
   "source": [
    "u = np.array([1, 0])\n",
    "v = np.array([0, 1])\n",
    "\n",
    "np.subtract(u, v)"
   ],
   "id": "c33f4700cbe1503d",
   "outputs": [
    {
     "data": {
      "text/plain": [
       "array([ 1, -1])"
      ]
     },
     "execution_count": 84,
     "metadata": {},
     "output_type": "execute_result"
    }
   ],
   "execution_count": 84
  },
  {
   "metadata": {},
   "cell_type": "markdown",
   "source": "<p>Multiply the numpy array z with -2:</p>",
   "id": "eba867cb9f942d65"
  },
  {
   "metadata": {
    "ExecuteTime": {
     "end_time": "2025-06-10T06:10:03.811887Z",
     "start_time": "2025-06-10T06:10:03.809003Z"
    }
   },
   "cell_type": "code",
   "source": [
    "z = np.array([2, 4])\n",
    "z * -2"
   ],
   "id": "870a32573e0973f7",
   "outputs": [
    {
     "data": {
      "text/plain": [
       "array([-4, -8])"
      ]
     },
     "execution_count": 85,
     "metadata": {},
     "output_type": "execute_result"
    }
   ],
   "execution_count": 85
  },
  {
   "metadata": {},
   "cell_type": "markdown",
   "source": "<p>Consider the list <code>[1, 2, 3, 4, 5]</code> and <code>[1, 0, 1, 0, 1]</code>. Cast both lists to a numpy array then multiply them together:</p>",
   "id": "dd8399d6476d4015"
  },
  {
   "metadata": {
    "ExecuteTime": {
     "end_time": "2025-06-10T06:10:03.863700Z",
     "start_time": "2025-06-10T06:10:03.858925Z"
    }
   },
   "cell_type": "code",
   "source": [
    "a = np.array([1, 2, 3, 4, 5])\n",
    "b = np.array([1, 0, 1, 0, 1])\n",
    "\n",
    "np.multiply(a, b)"
   ],
   "id": "fc1428ba1545c6c1",
   "outputs": [
    {
     "data": {
      "text/plain": [
       "array([1, 0, 3, 0, 5])"
      ]
     },
     "execution_count": 86,
     "metadata": {},
     "output_type": "execute_result"
    }
   ],
   "execution_count": 86
  },
  {
   "metadata": {
    "ExecuteTime": {
     "end_time": "2025-06-10T06:10:03.929154Z",
     "start_time": "2025-06-10T06:10:03.926300Z"
    }
   },
   "cell_type": "code",
   "source": [
    "def plotvec2(np1: ndarray[tuple[int], dtype], np2: ndarray[tuple[int], dtype]) -> None:\n",
    "    ax = plt.axes()\n",
    "    ax.arrow(0, 0, *np1, head_width=0.05, color=\"r\", head_length=0.1)\n",
    "    plt.text(*(np1 + 0.1), s=\"a\")\n",
    "\n",
    "    ax.arrow(0, 0, *np2, head_width=0.05, color=\"b\", head_length=0.1)\n",
    "    plt.text(*(np2 + 0.1), s=\"b\")\n",
    "\n",
    "    plt.ylim(-2, 2)\n",
    "    plt.xlim(-2, 2)"
   ],
   "id": "f0997348c83cfacb",
   "outputs": [],
   "execution_count": 87
  },
  {
   "metadata": {},
   "cell_type": "markdown",
   "source": "<p>Convert the list <code>[-1, 1]</code> and <code>[1, 1]</code> to numpy arrays <code>a</code> and <code>b</code>. Then, plot the arrays as vectors using the fuction <code>plotvec2</code> and find their dot product:</p>",
   "id": "c85aa03c77789fac"
  },
  {
   "metadata": {
    "ExecuteTime": {
     "end_time": "2025-06-10T06:10:03.974668Z",
     "start_time": "2025-06-10T06:10:03.972242Z"
    }
   },
   "cell_type": "code",
   "source": [
    "a = np.array([-1, 1])\n",
    "b = np.array([1, 1])"
   ],
   "id": "425cadaf670c6f7a",
   "outputs": [],
   "execution_count": 88
  },
  {
   "metadata": {
    "ExecuteTime": {
     "end_time": "2025-06-10T06:10:04.067455Z",
     "start_time": "2025-06-10T06:10:04.004308Z"
    }
   },
   "cell_type": "code",
   "source": "plotvec2(a, b)",
   "id": "ccaa5f8492888997",
   "outputs": [
    {
     "data": {
      "text/plain": [
       "<Figure size 640x480 with 1 Axes>"
      ],
      "image/png": "[encoded data removed]"
     },
     "metadata": {},
     "output_type": "display_data"
    }
   ],
   "execution_count": 89
  },
  {
   "metadata": {
    "ExecuteTime": {
     "end_time": "2025-06-10T06:10:04.092712Z",
     "start_time": "2025-06-10T06:10:04.089118Z"
    }
   },
   "cell_type": "code",
   "source": "np.dot(a, b)",
   "id": "c8657c49d4e6acef",
   "outputs": [
    {
     "data": {
      "text/plain": [
       "np.int64(0)"
      ]
     },
     "execution_count": 90,
     "metadata": {},
     "output_type": "execute_result"
    }
   ],
   "execution_count": 90
  },
  {
   "metadata": {},
   "cell_type": "markdown",
   "source": "<p>Convert the list <code>[1, 0]</code> and <code>[0, 1]</code> to numpy arrays <code>a</code> and <code>b</code>. Then, plot the arrays as vectors using the fuction <code>plotvec2</code> and find their dot product:</p>",
   "id": "34ecb039e991fc1d"
  },
  {
   "metadata": {
    "ExecuteTime": {
     "end_time": "2025-06-10T06:10:04.142475Z",
     "start_time": "2025-06-10T06:10:04.139616Z"
    }
   },
   "cell_type": "code",
   "source": [
    "a = np.array([1, 0])\n",
    "b = np.array([0, 1])"
   ],
   "id": "57b0a31cb2bc6e83",
   "outputs": [],
   "execution_count": 91
  },
  {
   "metadata": {
    "ExecuteTime": {
     "end_time": "2025-06-10T06:10:04.243382Z",
     "start_time": "2025-06-10T06:10:04.185134Z"
    }
   },
   "cell_type": "code",
   "source": "plotvec2(a, b)",
   "id": "dc9c722e49b618da",
   "outputs": [
    {
     "data": {
      "text/plain": [
       "<Figure size 640x480 with 1 Axes>"
      ],
      "image/png": "[encoded data removed]"
     },
     "metadata": {},
     "output_type": "display_data"
    }
   ],
   "execution_count": 92
  },
  {
   "metadata": {
    "ExecuteTime": {
     "end_time": "2025-06-10T06:10:04.277129Z",
     "start_time": "2025-06-10T06:10:04.273431Z"
    }
   },
   "cell_type": "code",
   "source": "np.dot(a, b)",
   "id": "a05bd8cc375367f3",
   "outputs": [
    {
     "data": {
      "text/plain": [
       "np.int64(0)"
      ]
     },
     "execution_count": 93,
     "metadata": {},
     "output_type": "execute_result"
    }
   ],
   "execution_count": 93
  },
  {
   "metadata": {},
   "cell_type": "markdown",
   "source": "<p>Convert the list <code>[1, 1]</code> and <code>[0, 1]</code> to numpy arrays <code>a</code> and <code>b</code>. Then, plot the arrays as vectors using the fuction <code>plotvec2</code> and find their dot product:</p>",
   "id": "8a6e1a4fa65fc32a"
  },
  {
   "metadata": {
    "ExecuteTime": {
     "end_time": "2025-06-10T06:10:04.345739Z",
     "start_time": "2025-06-10T06:10:04.343159Z"
    }
   },
   "cell_type": "code",
   "source": [
    "a = np.array([1, 1])\n",
    "b = np.array([0, 1])"
   ],
   "id": "bb22cd6dc69c5549",
   "outputs": [],
   "execution_count": 94
  },
  {
   "metadata": {
    "ExecuteTime": {
     "end_time": "2025-06-10T06:10:04.444792Z",
     "start_time": "2025-06-10T06:10:04.383277Z"
    }
   },
   "cell_type": "code",
   "source": "plotvec2(a, b)",
   "id": "9cd8b8285d1c1fdc",
   "outputs": [
    {
     "data": {
      "text/plain": [
       "<Figure size 640x480 with 1 Axes>"
      ],
      "image/png": "[encoded data removed]"
     },
     "metadata": {},
     "output_type": "display_data"
    }
   ],
   "execution_count": 95
  },
  {
   "metadata": {
    "ExecuteTime": {
     "end_time": "2025-06-10T06:10:04.471261Z",
     "start_time": "2025-06-10T06:10:04.467754Z"
    }
   },
   "cell_type": "code",
   "source": "np.dot(a, b)",
   "id": "729db7157a496d00",
   "outputs": [
    {
     "data": {
      "text/plain": [
       "np.int64(1)"
      ]
     },
     "execution_count": 96,
     "metadata": {},
     "output_type": "execute_result"
    }
   ],
   "execution_count": 96
  },
  {
   "metadata": {},
   "cell_type": "markdown",
   "source": "<p>Convert the list <code>[1, 2, 3]</code> and <code>[8, 9, 10]</code> to numpy arrays <code>arr1</code> and <code>arr2</code>. Then perform <code>Addition</code> , <code>Subtraction</code> , <code>Multiplication</code> , <code>Division</code> and <code>Dot Operation</code> on the <code>arr1</code> and <code>arr2</code>.</p>",
   "id": "abed7f297e3a6673"
  },
  {
   "metadata": {
    "ExecuteTime": {
     "end_time": "2025-06-10T06:10:04.519901Z",
     "start_time": "2025-06-10T06:10:04.516750Z"
    }
   },
   "cell_type": "code",
   "source": [
    "arr1 = np.array([1, 2, 3])\n",
    "arr1"
   ],
   "id": "75609848579f30f9",
   "outputs": [
    {
     "data": {
      "text/plain": [
       "array([1, 2, 3])"
      ]
     },
     "execution_count": 97,
     "metadata": {},
     "output_type": "execute_result"
    }
   ],
   "execution_count": 97
  },
  {
   "metadata": {
    "ExecuteTime": {
     "end_time": "2025-06-10T06:10:04.545645Z",
     "start_time": "2025-06-10T06:10:04.542835Z"
    }
   },
   "cell_type": "code",
   "source": [
    "arr2 = np.array([8, 9, 10])\n",
    "arr2"
   ],
   "id": "371c745ed6b4c903",
   "outputs": [
    {
     "data": {
      "text/plain": [
       "array([ 8,  9, 10])"
      ]
     },
     "execution_count": 98,
     "metadata": {},
     "output_type": "execute_result"
    }
   ],
   "execution_count": 98
  },
  {
   "metadata": {
    "ExecuteTime": {
     "end_time": "2025-06-10T06:10:04.591174Z",
     "start_time": "2025-06-10T06:10:04.586444Z"
    }
   },
   "cell_type": "code",
   "source": "np.add(arr1, arr2)",
   "id": "e8a2e9ebfe88e29f",
   "outputs": [
    {
     "data": {
      "text/plain": [
       "array([ 9, 11, 13])"
      ]
     },
     "execution_count": 99,
     "metadata": {},
     "output_type": "execute_result"
    }
   ],
   "execution_count": 99
  },
  {
   "metadata": {
    "ExecuteTime": {
     "end_time": "2025-06-10T06:10:04.631354Z",
     "start_time": "2025-06-10T06:10:04.628288Z"
    }
   },
   "cell_type": "code",
   "source": "np.subtract(arr1, arr2)",
   "id": "3a60a0e85b2af5ae",
   "outputs": [
    {
     "data": {
      "text/plain": [
       "array([-7, -7, -7])"
      ]
     },
     "execution_count": 100,
     "metadata": {},
     "output_type": "execute_result"
    }
   ],
   "execution_count": 100
  },
  {
   "metadata": {
    "ExecuteTime": {
     "end_time": "2025-06-10T06:10:04.702638Z",
     "start_time": "2025-06-10T06:10:04.699038Z"
    }
   },
   "cell_type": "code",
   "source": "np.multiply(arr1, arr2)",
   "id": "dc52abf8f790a8c6",
   "outputs": [
    {
     "data": {
      "text/plain": [
       "array([ 8, 18, 30])"
      ]
     },
     "execution_count": 101,
     "metadata": {},
     "output_type": "execute_result"
    }
   ],
   "execution_count": 101
  },
  {
   "metadata": {
    "ExecuteTime": {
     "end_time": "2025-06-10T06:10:04.733502Z",
     "start_time": "2025-06-10T06:10:04.730069Z"
    }
   },
   "cell_type": "code",
   "source": "np.divide(arr1, arr2)",
   "id": "89e03cf1d0ec1fc4",
   "outputs": [
    {
     "data": {
      "text/plain": [
       "array([0.125     , 0.22222222, 0.3       ])"
      ]
     },
     "execution_count": 102,
     "metadata": {},
     "output_type": "execute_result"
    }
   ],
   "execution_count": 102
  },
  {
   "metadata": {
    "ExecuteTime": {
     "end_time": "2025-06-10T06:10:04.780129Z",
     "start_time": "2025-06-10T06:10:04.776756Z"
    }
   },
   "cell_type": "code",
   "source": "np.dot(arr1, arr2)",
   "id": "45e6f0ad513b52a0",
   "outputs": [
    {
     "data": {
      "text/plain": [
       "np.int64(56)"
      ]
     },
     "execution_count": 103,
     "metadata": {},
     "output_type": "execute_result"
    }
   ],
   "execution_count": 103
  },
  {
   "metadata": {},
   "cell_type": "markdown",
   "source": "<p>Convert the list <code>[1, 2, 3, 4, 5]</code> and <code>[6, 7, 8, 9, 10]</code> to numpy arrays <code>arr1</code> and <code>arr2</code>. Then find the even and odd numbers from <code>arr1</code> and <code>arr2</code>.</p>",
   "id": "62b78eb89a323604"
  },
  {
   "metadata": {
    "ExecuteTime": {
     "end_time": "2025-06-10T06:10:04.838298Z",
     "start_time": "2025-06-10T06:10:04.834342Z"
    }
   },
   "cell_type": "code",
   "source": [
    "arr1 = np.array([1, 2, 3, 4, 5])\n",
    "arr1"
   ],
   "id": "a6df8e7f3bbceba5",
   "outputs": [
    {
     "data": {
      "text/plain": [
       "array([1, 2, 3, 4, 5])"
      ]
     },
     "execution_count": 104,
     "metadata": {},
     "output_type": "execute_result"
    }
   ],
   "execution_count": 104
  },
  {
   "metadata": {
    "ExecuteTime": {
     "end_time": "2025-06-10T06:10:04.888540Z",
     "start_time": "2025-06-10T06:10:04.885044Z"
    }
   },
   "cell_type": "code",
   "source": [
    "arr2 = np.array([6, 7, 8, 9, 10])\n",
    "arr2"
   ],
   "id": "6a29201af2c1cbd4",
   "outputs": [
    {
     "data": {
      "text/plain": [
       "array([ 6,  7,  8,  9, 10])"
      ]
     },
     "execution_count": 105,
     "metadata": {},
     "output_type": "execute_result"
    }
   ],
   "execution_count": 105
  },
  {
   "metadata": {
    "ExecuteTime": {
     "end_time": "2025-06-10T06:10:04.948233Z",
     "start_time": "2025-06-10T06:10:04.944297Z"
    }
   },
   "cell_type": "code",
   "source": "arr1[1: 5: 2]   # even",
   "id": "29af076423b4360e",
   "outputs": [
    {
     "data": {
      "text/plain": [
       "array([2, 4])"
      ]
     },
     "execution_count": 106,
     "metadata": {},
     "output_type": "execute_result"
    }
   ],
   "execution_count": 106
  },
  {
   "metadata": {
    "ExecuteTime": {
     "end_time": "2025-06-10T06:10:05.013003Z",
     "start_time": "2025-06-10T06:10:05.009964Z"
    }
   },
   "cell_type": "code",
   "source": "arr1[0: 5: 2]   # odd",
   "id": "4369f57ad35839ca",
   "outputs": [
    {
     "data": {
      "text/plain": [
       "array([1, 3, 5])"
      ]
     },
     "execution_count": 107,
     "metadata": {},
     "output_type": "execute_result"
    }
   ],
   "execution_count": 107
  },
  {
   "metadata": {
    "ExecuteTime": {
     "end_time": "2025-06-10T06:10:05.060906Z",
     "start_time": "2025-06-10T06:10:05.057828Z"
    }
   },
   "cell_type": "code",
   "source": "arr2[1: 5: 2]   # even",
   "id": "7221603761c1b7a3",
   "outputs": [
    {
     "data": {
      "text/plain": [
       "array([7, 9])"
      ]
     },
     "execution_count": 108,
     "metadata": {},
     "output_type": "execute_result"
    }
   ],
   "execution_count": 108
  },
  {
   "metadata": {
    "ExecuteTime": {
     "end_time": "2025-06-10T06:10:05.118006Z",
     "start_time": "2025-06-10T06:10:05.114432Z"
    }
   },
   "cell_type": "code",
   "source": "arr2[0: 5: 2]   # odd",
   "id": "112fbeb4c4acb6e3",
   "outputs": [
    {
     "data": {
      "text/plain": [
       "array([ 6,  8, 10])"
      ]
     },
     "execution_count": 109,
     "metadata": {},
     "output_type": "execute_result"
    }
   ],
   "execution_count": 109
  },
  {
   "metadata": {},
   "cell_type": "markdown",
   "source": [
    "****\n",
    "This is the end of the file.\n",
    "****"
   ],
   "id": "16711b8bea7caa56"
  }
 ],
 "metadata": {
  "kernelspec": {
   "display_name": "Python 3",
   "language": "python",
   "name": "python3"
  },
  "language_info": {
   "codemirror_mode": {
    "name": "ipython",
    "version": 2
   },
   "file_extension": ".py",
   "mimetype": "text/x-python",
   "name": "python",
   "nbconvert_exporter": "python",
   "pygments_lexer": "ipython2",
   "version": "2.7.6"
  }
 },
 "nbformat": 4,
 "nbformat_minor": 5
}
