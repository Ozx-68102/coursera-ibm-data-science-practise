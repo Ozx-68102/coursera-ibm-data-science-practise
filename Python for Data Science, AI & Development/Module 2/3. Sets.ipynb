{
 "cells": [
  {
   "metadata": {},
   "cell_type": "markdown",
   "source": "### Set Content",
   "id": "852c2590afcfae96"
  },
  {
   "metadata": {},
   "cell_type": "markdown",
   "source": "<p>A set is a unique collection of objects in Python. You can denote a set with a pair of curly brackets <b>{}</b>. Python will automatically remove duplicate items:</p>",
   "id": "d09bc29f129c6ebf"
  },
  {
   "metadata": {
    "ExecuteTime": {
     "end_time": "2025-05-28T10:19:45.303543Z",
     "start_time": "2025-05-28T10:19:45.298147Z"
    }
   },
   "cell_type": "code",
   "source": [
    "set1 = {\n",
    "    \"pop\", \"rock\", \"soul\", \"R&B\", \"rock\", \"disco\", \"hard rock\"\n",
    "}\n",
    "set1"
   ],
   "id": "eb71d20387711df6",
   "outputs": [
    {
     "data": {
      "text/plain": [
       "{'R&B', 'disco', 'hard rock', 'pop', 'rock', 'soul'}"
      ]
     },
     "execution_count": 1,
     "metadata": {},
     "output_type": "execute_result"
    }
   ],
   "execution_count": 1
  },
  {
   "metadata": {},
   "cell_type": "markdown",
   "source": [
    "<p>You can also create a set from a list as follows:</p>\n",
    "<small>(I suggest that this type of converting is no longer recommended.)</small>"
   ],
   "id": "67b527aa4d2e312d"
  },
  {
   "metadata": {
    "ExecuteTime": {
     "end_time": "2025-05-28T10:19:45.388359Z",
     "start_time": "2025-05-28T10:19:45.385198Z"
    }
   },
   "cell_type": "code",
   "source": [
    "album_list = [\n",
    "    \"Michael Jackson\", \"Thriller\", 1982, \"00:42:19\", \"Pop, Rock, R&B\", 46.0, 65, \"30-Nov-82\", None, 10.0\n",
    "]\n",
    "print(album_list)\n",
    "album_list = set(album_list)\n",
    "print(album_list)"
   ],
   "id": "b3e4732f653c42a3",
   "outputs": [
    {
     "name": "stdout",
     "output_type": "stream",
     "text": [
      "['Michael Jackson', 'Thriller', 1982, '00:42:19', 'Pop, Rock, R&B', 46.0, 65, '30-Nov-82', None, 10.0]\n",
      "{None, 65, 'Thriller', 'Pop, Rock, R&B', 'Michael Jackson', '00:42:19', 10.0, 46.0, '30-Nov-82', 1982}\n"
     ]
    }
   ],
   "execution_count": 2
  },
  {
   "metadata": {},
   "cell_type": "markdown",
   "source": "<p>Now let us create a set of genres:</p>",
   "id": "e7c98b3edb0c6fef"
  },
  {
   "metadata": {
    "ExecuteTime": {
     "end_time": "2025-05-28T10:19:45.398372Z",
     "start_time": "2025-05-28T10:19:45.393527Z"
    }
   },
   "cell_type": "code",
   "source": [
    "music_genres = {\"pop\", \"pop\", \"rock\", \"folk rock\", \"hard rock\", \"soul\", \"progressive rock\", \"soft rock\", \"R&B\", \"disco\"}\n",
    "music_genres"
   ],
   "id": "8c4099fbb58541bc",
   "outputs": [
    {
     "data": {
      "text/plain": [
       "{'R&B',\n",
       " 'disco',\n",
       " 'folk rock',\n",
       " 'hard rock',\n",
       " 'pop',\n",
       " 'progressive rock',\n",
       " 'rock',\n",
       " 'soft rock',\n",
       " 'soul'}"
      ]
     },
     "execution_count": 3,
     "metadata": {},
     "output_type": "execute_result"
    }
   ],
   "execution_count": 3
  },
  {
   "metadata": {},
   "cell_type": "markdown",
   "source": "### Set Operations",
   "id": "d5459e125693a50c"
  },
  {
   "metadata": {},
   "cell_type": "markdown",
   "source": "<p>Let us go over set operations, as these can be used to change the set. Consider the set <b>A</b>:</p>",
   "id": "ab88aa68b329f2ac"
  },
  {
   "metadata": {
    "ExecuteTime": {
     "end_time": "2025-05-28T10:19:45.421794Z",
     "start_time": "2025-05-28T10:19:45.418590Z"
    }
   },
   "cell_type": "code",
   "source": [
    "A = {\"Thriller\", \"Back in Black\", \"AC/DC\"}\n",
    "A"
   ],
   "id": "89c59186302c5486",
   "outputs": [
    {
     "data": {
      "text/plain": [
       "{'AC/DC', 'Back in Black', 'Thriller'}"
      ]
     },
     "execution_count": 4,
     "metadata": {},
     "output_type": "execute_result"
    }
   ],
   "execution_count": 4
  },
  {
   "metadata": {},
   "cell_type": "markdown",
   "source": "<p>We can add an element to a set using the <code>add()</code> method:</p>",
   "id": "d807977cce368b22"
  },
  {
   "metadata": {
    "ExecuteTime": {
     "end_time": "2025-05-28T10:19:45.433248Z",
     "start_time": "2025-05-28T10:19:45.429081Z"
    }
   },
   "cell_type": "code",
   "source": [
    "A.add(\"NSYNC\")\n",
    "A"
   ],
   "id": "fc945f3c5ff02423",
   "outputs": [
    {
     "data": {
      "text/plain": [
       "{'AC/DC', 'Back in Black', 'NSYNC', 'Thriller'}"
      ]
     },
     "execution_count": 5,
     "metadata": {},
     "output_type": "execute_result"
    }
   ],
   "execution_count": 5
  },
  {
   "metadata": {},
   "cell_type": "markdown",
   "source": "<p>If we add the same element twice, nothing will happen as there can be no duplicates in a set:</p>",
   "id": "9f85dbe504a91c18"
  },
  {
   "metadata": {
    "ExecuteTime": {
     "end_time": "2025-05-28T10:19:45.443271Z",
     "start_time": "2025-05-28T10:19:45.438427Z"
    }
   },
   "cell_type": "code",
   "source": [
    "A.add(\"NSYNC\")\n",
    "A"
   ],
   "id": "1d80f222b98d9437",
   "outputs": [
    {
     "data": {
      "text/plain": [
       "{'AC/DC', 'Back in Black', 'NSYNC', 'Thriller'}"
      ]
     },
     "execution_count": 6,
     "metadata": {},
     "output_type": "execute_result"
    }
   ],
   "execution_count": 6
  },
  {
   "metadata": {},
   "cell_type": "markdown",
   "source": "<p>We can remove an item from a set using the <code>remove</code> method:</p>",
   "id": "1910e3b1b419482e"
  },
  {
   "metadata": {
    "ExecuteTime": {
     "end_time": "2025-05-28T10:19:45.452626Z",
     "start_time": "2025-05-28T10:19:45.449641Z"
    }
   },
   "cell_type": "code",
   "source": [
    "A.remove(\"NSYNC\")\n",
    "A"
   ],
   "id": "27568396d4353c93",
   "outputs": [
    {
     "data": {
      "text/plain": [
       "{'AC/DC', 'Back in Black', 'Thriller'}"
      ]
     },
     "execution_count": 7,
     "metadata": {},
     "output_type": "execute_result"
    }
   ],
   "execution_count": 7
  },
  {
   "metadata": {},
   "cell_type": "markdown",
   "source": "<p>We can verify if an element is in the set using the <code>in</code> command:</p>",
   "id": "e2f6814df9729bc3"
  },
  {
   "metadata": {
    "ExecuteTime": {
     "end_time": "2025-05-28T10:19:45.475364Z",
     "start_time": "2025-05-28T10:19:45.472097Z"
    }
   },
   "cell_type": "code",
   "source": "\"AC/DC\" in A",
   "id": "89e4f7d070c0d60c",
   "outputs": [
    {
     "data": {
      "text/plain": [
       "True"
      ]
     },
     "execution_count": 8,
     "metadata": {},
     "output_type": "execute_result"
    }
   ],
   "execution_count": 8
  },
  {
   "metadata": {},
   "cell_type": "markdown",
   "source": "### Sets Logic Operations",
   "id": "4ba80160c8cc0a67"
  },
  {
   "metadata": {},
   "cell_type": "markdown",
   "source": "<p>Remember that with sets you can check the difference between sets, as well as the symmetric difference, intersection, and union:</p>",
   "id": "6c2dbe2503d6104a"
  },
  {
   "metadata": {},
   "cell_type": "markdown",
   "source": "<p>Consider the following two sets:</p>",
   "id": "a694ac1ddc685a7c"
  },
  {
   "metadata": {
    "ExecuteTime": {
     "end_time": "2025-05-28T10:19:45.502559Z",
     "start_time": "2025-05-28T10:19:45.499099Z"
    }
   },
   "cell_type": "code",
   "source": [
    "album_set1 = {\"Thriller\", 'AC/DC', 'Back in Black'}\n",
    "album_set2 = {\"AC/DC\", \"Back in Black\", \"The Dark Side of the Moon\"}\n",
    "\n",
    "album_set1"
   ],
   "id": "b92ee922f77d370",
   "outputs": [
    {
     "data": {
      "text/plain": [
       "{'AC/DC', 'Back in Black', 'Thriller'}"
      ]
     },
     "execution_count": 9,
     "metadata": {},
     "output_type": "execute_result"
    }
   ],
   "execution_count": 9
  },
  {
   "metadata": {
    "ExecuteTime": {
     "end_time": "2025-05-28T10:19:45.515159Z",
     "start_time": "2025-05-28T10:19:45.511070Z"
    }
   },
   "cell_type": "code",
   "source": "album_set2",
   "id": "9e2f63ad60553bd6",
   "outputs": [
    {
     "data": {
      "text/plain": [
       "{'AC/DC', 'Back in Black', 'The Dark Side of the Moon'}"
      ]
     },
     "execution_count": 10,
     "metadata": {},
     "output_type": "execute_result"
    }
   ],
   "execution_count": 10
  },
  {
   "metadata": {},
   "cell_type": "markdown",
   "source": "<p>As both sets contain <b>AC/DC</b> and <b>Back in Black</b> we represent these common elements with the intersection of two circles.</p>",
   "id": "5269e09f901a2a36"
  },
  {
   "metadata": {},
   "cell_type": "markdown",
   "source": "<p>You can find the intersect of two sets as follow using <code>&</code>:</p>",
   "id": "2ce4d39a78710cc8"
  },
  {
   "metadata": {
    "ExecuteTime": {
     "end_time": "2025-05-28T10:19:45.530855Z",
     "start_time": "2025-05-28T10:19:45.527879Z"
    }
   },
   "cell_type": "code",
   "source": [
    "intersection = album_set1 & album_set2\n",
    "intersection"
   ],
   "id": "7a37ea94946095e5",
   "outputs": [
    {
     "data": {
      "text/plain": [
       "{'AC/DC', 'Back in Black'}"
      ]
     },
     "execution_count": 11,
     "metadata": {},
     "output_type": "execute_result"
    }
   ],
   "execution_count": 11
  },
  {
   "metadata": {},
   "cell_type": "markdown",
   "source": "or",
   "id": "8d14e910fd9c5f84"
  },
  {
   "metadata": {
    "ExecuteTime": {
     "end_time": "2025-05-28T10:19:45.559381Z",
     "start_time": "2025-05-28T10:19:45.555834Z"
    }
   },
   "cell_type": "code",
   "source": [
    "intersection = album_set1.intersection(album_set2)\n",
    "intersection"
   ],
   "id": "91a35e40afc32d66",
   "outputs": [
    {
     "data": {
      "text/plain": [
       "{'AC/DC', 'Back in Black'}"
      ]
     },
     "execution_count": 12,
     "metadata": {},
     "output_type": "execute_result"
    }
   ],
   "execution_count": 12
  },
  {
   "metadata": {},
   "cell_type": "markdown",
   "source": "<p>You can find the intersect of two sets as follow using <code>&</code>:</p>",
   "id": "ef3b55a492d92019"
  },
  {
   "metadata": {
    "ExecuteTime": {
     "end_time": "2025-05-28T10:19:45.569395Z",
     "start_time": "2025-05-28T10:19:45.564715Z"
    }
   },
   "cell_type": "code",
   "source": "album_set1.difference(album_set2)",
   "id": "f478ff60708042a4",
   "outputs": [
    {
     "data": {
      "text/plain": [
       "{'Thriller'}"
      ]
     },
     "execution_count": 13,
     "metadata": {},
     "output_type": "execute_result"
    }
   ],
   "execution_count": 13
  },
  {
   "metadata": {},
   "cell_type": "markdown",
   "source": "<p>You only need to consider elements in <code>album_set1</code>; all the elements in <code>album_set2</code>, including the intersection, are not included.</p>",
   "id": "6a893b09d5b1f024"
  },
  {
   "metadata": {},
   "cell_type": "markdown",
   "source": "<p>The elements in <code>album_set2</code> but not in <code>album_set1</code> is given by:</p>",
   "id": "947757ca965a23bc"
  },
  {
   "metadata": {
    "ExecuteTime": {
     "end_time": "2025-05-28T10:19:45.584611Z",
     "start_time": "2025-05-28T10:19:45.581579Z"
    }
   },
   "cell_type": "code",
   "source": "album_set2.difference(album_set1)",
   "id": "266f5791fe262a44",
   "outputs": [
    {
     "data": {
      "text/plain": [
       "{'The Dark Side of the Moon'}"
      ]
     },
     "execution_count": 14,
     "metadata": {},
     "output_type": "execute_result"
    }
   ],
   "execution_count": 14
  },
  {
   "metadata": {},
   "cell_type": "markdown",
   "source": "<p>The union corresponds to all the elements in both sets is given by:</p>",
   "id": "fff92142ed3ad889"
  },
  {
   "metadata": {
    "ExecuteTime": {
     "end_time": "2025-05-28T10:19:45.603503Z",
     "start_time": "2025-05-28T10:19:45.600162Z"
    }
   },
   "cell_type": "code",
   "source": "album_set1.union(album_set2)",
   "id": "b9104e0a0d691e65",
   "outputs": [
    {
     "data": {
      "text/plain": [
       "{'AC/DC', 'Back in Black', 'The Dark Side of the Moon', 'Thriller'}"
      ]
     },
     "execution_count": 15,
     "metadata": {},
     "output_type": "execute_result"
    }
   ],
   "execution_count": 15
  },
  {
   "metadata": {},
   "cell_type": "markdown",
   "source": "<p>And you can check if a set is a superset or subset of another set, respectively, like this:</p>",
   "id": "c9865c7cc245023a"
  },
  {
   "metadata": {
    "ExecuteTime": {
     "end_time": "2025-05-28T10:19:45.621347Z",
     "start_time": "2025-05-28T10:19:45.618432Z"
    }
   },
   "cell_type": "code",
   "source": [
    "# Check if superset\n",
    "album_set1.issuperset(album_set2)"
   ],
   "id": "a6e909ae56bbe05c",
   "outputs": [
    {
     "data": {
      "text/plain": [
       "False"
      ]
     },
     "execution_count": 16,
     "metadata": {},
     "output_type": "execute_result"
    }
   ],
   "execution_count": 16
  },
  {
   "metadata": {
    "ExecuteTime": {
     "end_time": "2025-05-28T10:19:45.638400Z",
     "start_time": "2025-05-28T10:19:45.635690Z"
    }
   },
   "cell_type": "code",
   "source": [
    "# Check if subset\n",
    "album_set2.issuperset(album_set1)"
   ],
   "id": "da4132a3cd2f1fc2",
   "outputs": [
    {
     "data": {
      "text/plain": [
       "False"
      ]
     },
     "execution_count": 17,
     "metadata": {},
     "output_type": "execute_result"
    }
   ],
   "execution_count": 17
  },
  {
   "metadata": {},
   "cell_type": "markdown",
   "source": "<p>Here is an example where <code>issubset()</code> and <code>issuperset()</code> return true:</p>",
   "id": "492540e587a06e2a"
  },
  {
   "metadata": {
    "ExecuteTime": {
     "end_time": "2025-05-28T10:19:45.655575Z",
     "start_time": "2025-05-28T10:19:45.652718Z"
    }
   },
   "cell_type": "code",
   "source": [
    "# Check if subset\n",
    "{\"Back in Black\", \"AC/DC\"}.issubset(album_set1)"
   ],
   "id": "bfdb8b9b40995187",
   "outputs": [
    {
     "data": {
      "text/plain": [
       "True"
      ]
     },
     "execution_count": 18,
     "metadata": {},
     "output_type": "execute_result"
    }
   ],
   "execution_count": 18
  },
  {
   "metadata": {
    "ExecuteTime": {
     "end_time": "2025-05-28T10:19:45.673054Z",
     "start_time": "2025-05-28T10:19:45.670138Z"
    }
   },
   "cell_type": "code",
   "source": [
    "# Check if superset\n",
    "album_set1.issuperset({\"Back in Black\", \"AC/DC\"})"
   ],
   "id": "fac07ff8fcc5e12a",
   "outputs": [
    {
     "data": {
      "text/plain": [
       "True"
      ]
     },
     "execution_count": 19,
     "metadata": {},
     "output_type": "execute_result"
    }
   ],
   "execution_count": 19
  },
  {
   "metadata": {},
   "cell_type": "markdown",
   "source": "### Quiz on Sets",
   "id": "3d3ad865589ceeeb"
  },
  {
   "metadata": {},
   "cell_type": "markdown",
   "source": "<p>Convert the list <code>[\"rap\", \"house\", \"electronic music\", \"rap\"]</code> to a set:</p>",
   "id": "c1de4cc5f940d79a"
  },
  {
   "metadata": {
    "ExecuteTime": {
     "end_time": "2025-05-28T10:19:45.690458Z",
     "start_time": "2025-05-28T10:19:45.687989Z"
    }
   },
   "cell_type": "code",
   "source": [
    "a = [\"rap\", \"house\", \"electronic music\", \"rap\"]\n",
    "print(a)\n",
    "b = set(a)\n",
    "print(b)"
   ],
   "id": "3344cd80fb060a3f",
   "outputs": [
    {
     "name": "stdout",
     "output_type": "stream",
     "text": [
      "['rap', 'house', 'electronic music', 'rap']\n",
      "{'electronic music', 'house', 'rap'}\n"
     ]
    }
   ],
   "execution_count": 20
  },
  {
   "metadata": {},
   "cell_type": "markdown",
   "source": "<p>Consider the list <code>A = [1, 2, 2, 1]</code> and set <code>B = {1, 2, 2, 1}</code>, does <code>sum(A) == sum(B)</code>?</p>",
   "id": "288175a75f7dec48"
  },
  {
   "metadata": {
    "ExecuteTime": {
     "end_time": "2025-05-28T10:19:45.711167Z",
     "start_time": "2025-05-28T10:19:45.706820Z"
    }
   },
   "cell_type": "code",
   "source": [
    "A = [1, 2, 2, 1]\n",
    "B = {1, 2, 2, 1}\n",
    "print(f\"Sum A is {sum(A)}.\")\n",
    "print(f\"Sum B is {sum(B)}.\")\n",
    "sum(A) == sum(B)"
   ],
   "id": "1fc84a1432ac570f",
   "outputs": [
    {
     "name": "stdout",
     "output_type": "stream",
     "text": [
      "Sum A is 6.\n",
      "Sum B is 3.\n"
     ]
    },
    {
     "data": {
      "text/plain": [
       "False"
      ]
     },
     "execution_count": 21,
     "metadata": {},
     "output_type": "execute_result"
    }
   ],
   "execution_count": 21
  },
  {
   "metadata": {},
   "cell_type": "markdown",
   "source": "<p>Create a new set <code>album_set3</code> that is the union of <code>album_set1</code> and <code>album_set2</code>:</p>",
   "id": "b0a0a248eb9d70da"
  },
  {
   "metadata": {
    "ExecuteTime": {
     "end_time": "2025-05-28T10:19:45.730246Z",
     "start_time": "2025-05-28T10:19:45.726582Z"
    }
   },
   "cell_type": "code",
   "source": [
    "album_set1 = {\"Thriller\", \"AC/DC\", \"Back in Black\"}\n",
    "album_set2 = {\"AC/DC\", \"Back in Black\", \"The Dark Side of the Moon\"}\n",
    "\n",
    "album_set3 = album_set1 & album_set2\n",
    "album_set3"
   ],
   "id": "3dfbff5059a5028",
   "outputs": [
    {
     "data": {
      "text/plain": [
       "{'AC/DC', 'Back in Black'}"
      ]
     },
     "execution_count": 22,
     "metadata": {},
     "output_type": "execute_result"
    }
   ],
   "execution_count": 22
  },
  {
   "metadata": {},
   "cell_type": "markdown",
   "source": "<p>Find out if <code>album_set1</code> is a subset of <code>album_set3</code>:</p>",
   "id": "ce8b31c57507a613"
  },
  {
   "metadata": {
    "ExecuteTime": {
     "end_time": "2025-05-28T10:19:45.748344Z",
     "start_time": "2025-05-28T10:19:45.745020Z"
    }
   },
   "cell_type": "code",
   "source": "album_set1.issubset(album_set3)",
   "id": "d7ba1bd2335e0be1",
   "outputs": [
    {
     "data": {
      "text/plain": [
       "False"
      ]
     },
     "execution_count": 23,
     "metadata": {},
     "output_type": "execute_result"
    }
   ],
   "execution_count": 23
  },
  {
   "metadata": {},
   "cell_type": "markdown",
   "source": [
    "****\n",
    "This is the end of the file.\n",
    "****"
   ],
   "id": "a9e74e172e16b823"
  }
 ],
 "metadata": {
  "kernelspec": {
   "display_name": "Python 3",
   "language": "python",
   "name": "python3"
  },
  "language_info": {
   "codemirror_mode": {
    "name": "ipython",
    "version": 2
   },
   "file_extension": ".py",
   "mimetype": "text/x-python",
   "name": "python",
   "nbconvert_exporter": "python",
   "pygments_lexer": "ipython2",
   "version": "2.7.6"
  }
 },
 "nbformat": 4,
 "nbformat_minor": 5
}
