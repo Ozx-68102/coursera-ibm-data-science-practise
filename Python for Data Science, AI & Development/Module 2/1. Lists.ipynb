{
 "cells": [
  {
   "metadata": {},
   "cell_type": "markdown",
   "source": "## About the Dataset",
   "id": "1e73bfc667b228b8"
  },
  {
   "metadata": {},
   "cell_type": "markdown",
   "source": [
    "Imagine you received album recommendations from your friends and compiled all of the recommandations into a table, with specific information about each album.\n",
    "\n",
    "The table has one row for each movie and several columns:\n",
    "\n",
    "*   **Artist** - Name of the artist\n",
    "*   **Album** - Name of the album\n",
    "*   **Released_year** - Year the album was released\n",
    "*   **Length_min_sec** - Length of the album (hours,minutes,seconds)\n",
    "*   **Genre** - Genre of the album\n",
    "*   **Music_recording_sales_millions** - Music recording sales (millions in USD) on [SONG://DATABASE](http://www.song-database.com/?utm_medium=Exinfluencer&utm_source=Exinfluencer&utm_content=000026UJ&utm_term=10006555&utm_id=NA-SkillsNetwork-Channel-SkillsNetworkCoursesIBMDeveloperSkillsNetworkPY0101ENSkillsNetwork19487395-2021-01-01)\n",
    "*   **Claimed_sales_millions** - Album's claimed sales (millions in USD) on [SONG://DATABASE](http://www.song-database.com/?utm_medium=Exinfluencer&utm_source=Exinfluencer&utm_content=000026UJ&utm_term=10006555&utm_id=NA-SkillsNetwork-Channel-SkillsNetworkCoursesIBMDeveloperSkillsNetworkPY0101ENSkillsNetwork19487395-2021-01-01)\n",
    "*   **Released** - Date on which the album was released\n",
    "*   **Soundtrack** - Indicates if the album is the movie soundtrack (Y) or (N)\n",
    "*   **Rating_of_friends** - Indicates the rating from your friends from 1 to 10\n",
    "\n",
    "<br>\n",
    "<br>\n",
    "\n",
    "The Dataset can be seen below:\n",
    "\n",
    "<font size=\"1\">\n",
    "    <table font-size:xx-small>\n",
    "        <thead>\n",
    "        <tr>\n",
    "            <th style=\"border: 1px solid; text-align: center\">Artist</th>\n",
    "            <th style=\"border: 1px solid; text-align: center\">Album</th>\n",
    "            <th style=\"border: 1px solid; text-align: center\">Released</th>\n",
    "            <th style=\"border: 1px solid; text-align: center\">Length</th>\n",
    "            <th style=\"border: 1px solid; text-align: center\">Genre</th>\n",
    "            <th style=\"border: 1px solid; text-align: center\">Music recording sales (millions)</th>\n",
    "            <th style=\"border: 1px solid; text-align: center\">Claimed sales (millions)</th>\n",
    "            <th style=\"border: 1px solid; text-align: center\">Released</th>\n",
    "            <th style=\"border: 1px solid; text-align: center\">Soundtrack</th>\n",
    "            <th style=\"border: 1px solid; text-align: center\">Rating (friends)</th>\n",
    "        </tr>\n",
    "        </thead>\n",
    "        <tbody>\n",
    "        <tr>\n",
    "            <td style=\"border: 1px solid; text-align: center\">Michael Jackson</td>\n",
    "            <td style=\"border: 1px solid; text-align: center\">Thriller</td>\n",
    "            <td style=\"border: 1px solid; text-align: center\">1982</td>\n",
    "            <td style=\"border: 1px solid; text-align: center\">00:42:19</td>\n",
    "            <td style=\"border: 1px solid; text-align: center\">Pop, rock, R&B</td>\n",
    "            <td style=\"border: 1px solid; text-align: center\">46</td>\n",
    "            <td style=\"border: 1px solid; text-align: center\">65</td>\n",
    "            <td style=\"border: 1px solid; text-align: center\">30-Nov-82</td>\n",
    "            <td style=\"border: 1px solid; text-align: center\"></td>\n",
    "            <td style=\"border: 1px solid; text-align: center\">10.0</td>\n",
    "        </tr>\n",
    "        <tr>\n",
    "            <td style=\"border: 1px solid; text-align: center\">AC/DC</td>\n",
    "            <td style=\"border: 1px solid; text-align: center\">Back in Black</td>\n",
    "            <td style=\"border: 1px solid; text-align: center\">1980</td>\n",
    "            <td style=\"border: 1px solid; text-align: center\">00:42:11</td>\n",
    "            <td style=\"border: 1px solid; text-align: center\">Hard rock</td>\n",
    "            <td style=\"border: 1px solid; text-align: center\">26.1</td>\n",
    "            <td style=\"border: 1px solid; text-align: center\">50</td>\n",
    "            <td style=\"border: 1px solid; text-align: center\">25-Jul-80</td>\n",
    "            <td style=\"border: 1px solid; text-align: center\"></td>\n",
    "            <td style=\"border: 1px solid; text-align: center\">8.5</td>\n",
    "        </tr>\n",
    "        <tr>\n",
    "            <td style=\"border: 1px solid; text-align: center\">Pink Floyd</td>\n",
    "            <td style=\"border: 1px solid; text-align: center\">The Dark Side of the Moon</td>\n",
    "            <td style=\"border: 1px solid; text-align: center\">1973</td>\n",
    "            <td style=\"border: 1px solid; text-align: center\">00:42:49</td>\n",
    "            <td style=\"border: 1px solid; text-align: center\">Progressive rock</td>\n",
    "            <td style=\"border: 1px solid; text-align: center\">24.2</td>\n",
    "            <td style=\"border: 1px solid; text-align: center\">45</td>\n",
    "            <td style=\"border: 1px solid; text-align: center\">01-Mar-73</td>\n",
    "            <td style=\"border: 1px solid; text-align: center\"></td>\n",
    "            <td style=\"border: 1px solid; text-align: center\">9.5</td>\n",
    "        </tr>\n",
    "        <tr>\n",
    "            <td style=\"border: 1px solid; text-align: center\">Whitney Houston</td>\n",
    "            <td style=\"border: 1px solid; text-align: center\">The Bodyguard</td>\n",
    "            <td style=\"border: 1px solid; text-align: center\">1992</td>\n",
    "            <td style=\"border: 1px solid; text-align: center\">00:57:44</td>\n",
    "            <td style=\"border: 1px solid; text-align: center\">Soundtrack/R&B, soul, pop</td>\n",
    "            <td style=\"border: 1px solid; text-align: center\">26.1</td>\n",
    "            <td style=\"border: 1px solid; text-align: center\">50</td>\n",
    "            <td style=\"border: 1px solid; text-align: center\">25-Jul-80</td>\n",
    "            <td style=\"border: 1px solid; text-align: center\">Y</td>\n",
    "            <td style=\"border: 1px solid; text-align: center\">7.0</td>\n",
    "        </tr>\n",
    "        <tr>\n",
    "            <td style=\"border: 1px solid; text-align: center\">Meat Loaf</td>\n",
    "            <td style=\"border: 1px solid; text-align: center\">Bat Out of Hell</td>\n",
    "            <td style=\"border: 1px solid; text-align: center\">1977</td>\n",
    "            <td style=\"border: 1px solid; text-align: center\">00:46:33</td>\n",
    "            <td style=\"border: 1px solid; text-align: center\">Hard rock, progressive rock</td>\n",
    "            <td style=\"border: 1px solid; text-align: center\">20.6</td>\n",
    "            <td style=\"border: 1px solid; text-align: center\">43</td>\n",
    "            <td style=\"border: 1px solid; text-align: center\">21-Oct-77</td>\n",
    "            <td style=\"border: 1px solid; text-align: center\"></td>\n",
    "            <td style=\"border: 1px solid; text-align: center\">7.0</td>\n",
    "        </tr>\n",
    "        <tr>\n",
    "            <td style=\"border: 1px solid; text-align: center\">Eagles</td>\n",
    "            <td style=\"border: 1px solid; text-align: center\">Their Greatest Hits (1971-1975)</td>\n",
    "            <td style=\"border: 1px solid; text-align: center\">1976</td>\n",
    "            <td style=\"border: 1px solid; text-align: center\">00:43:08</td>\n",
    "            <td style=\"border: 1px solid; text-align: center\">Rock, soft rock, folk rock</td>\n",
    "            <td style=\"border: 1px solid; text-align: center\">32.2</td>\n",
    "            <td style=\"border: 1px solid; text-align: center\">42</td>\n",
    "            <td style=\"border: 1px solid; text-align: center\">17-Feb-76</td>\n",
    "            <td style=\"border: 1px solid; text-align: center\"></td>\n",
    "            <td style=\"border: 1px solid; text-align: center\">9.5</td>\n",
    "        </tr>\n",
    "        <tr>\n",
    "            <td style=\"border: 1px solid; text-align: center\">Bee Gees</td>\n",
    "            <td style=\"border: 1px solid; text-align: center\">Saturday Night Fever</td>\n",
    "            <td style=\"border: 1px solid; text-align: center\">1977</td>\n",
    "            <td style=\"border: 1px solid; text-align: center\">1:15:54</td>\n",
    "            <td style=\"border: 1px solid; text-align: center\">Disco</td>\n",
    "            <td style=\"border: 1px solid; text-align: center\">20.6</td>\n",
    "            <td style=\"border: 1px solid; text-align: center\">40</td>\n",
    "            <td style=\"border: 1px solid; text-align: center\">15-Nov-77</td>\n",
    "            <td style=\"border: 1px solid; text-align: center\">Y</td>\n",
    "            <td style=\"border: 1px solid; text-align: center\">9.0</td>\n",
    "        </tr>\n",
    "        <tr>\n",
    "            <td style=\"border: 1px solid; text-align: center\">Fleet wood Mac</td>\n",
    "            <td style=\"border: 1px solid; text-align: center\"> Rumours </td>\n",
    "            <td style=\"border: 1px solid; text-align: center\">1977</td>\n",
    "            <td style=\"border: 1px solid; text-align: center\">00:40:01</td>\n",
    "            <td style=\"border: 1px solid; text-align: center\">Soft rock</td>\n",
    "            <td style=\"border: 1px solid; text-align: center\">27.9</td>\n",
    "            <td style=\"border: 1px solid; text-align: center\">40</td>\n",
    "            <td style=\"border: 1px solid; text-align: center\">04-Feb-77</td>\n",
    "            <td style=\"border: 1px solid; text-align: center\"></td>\n",
    "            <td style=\"border: 1px solid; text-align: center\">9.5</td>\n",
    "        </tr>\n",
    "        </tbody>\n",
    "    </table>\n",
    "</font>\n"
   ],
   "id": "1f7d190f9d8efb0b"
  },
  {
   "metadata": {},
   "cell_type": "markdown",
   "source": "## Lists",
   "id": "c173864024c34cd3"
  },
  {
   "metadata": {},
   "cell_type": "markdown",
   "source": "### Indexing",
   "id": "cb9dbc30111a029d"
  },
  {
   "metadata": {},
   "cell_type": "markdown",
   "source": "<p>We are going to take a look at lists in Python. A list is a sequenced collection of different objects such as integers, strings, and even other lists as well. The address of each element within a list is called an <b>index</b>. An index is used to access and refer to items within a list.</p>",
   "id": "967c87542cae3eb1"
  },
  {
   "metadata": {},
   "cell_type": "markdown",
   "source": [
    "<table>\n",
    "    <thead>\n",
    "    <tr>\n",
    "        <th style=\"border: 1px solid; text-align: center\">Index</th>\n",
    "        <th style=\"border: 1px solid; text-align: center\">Element</th>\n",
    "    </tr>\n",
    "    </thead>\n",
    "    <tbody>\n",
    "    <tr>\n",
    "        <td style=\"border: 1px solid; text-align: center\">0</td>\n",
    "        <td style=\"border: 1px solid; text-align: center\">Element 1</td>\n",
    "    </tr>\n",
    "    <tr>\n",
    "        <td style=\"border: 1px solid; text-align: center\">1</td>\n",
    "        <td style=\"border: 1px solid; text-align: center\">Element 2</td>\n",
    "    </tr>\n",
    "    <tr>\n",
    "        <td style=\"border: 1px solid; text-align: center\">2</td>\n",
    "        <td style=\"border: 1px solid; text-align: center\">Element 3</td>\n",
    "    </tr>\n",
    "    <tr>\n",
    "        <td style=\"border: 1px solid; text-align: center\">3</td>\n",
    "        <td style=\"border: 1px solid; text-align: center\">Element 4</td>\n",
    "    </tr>\n",
    "    </tbody>\n",
    "</table>"
   ],
   "id": "c2cf8806c3c05e4c"
  },
  {
   "metadata": {},
   "cell_type": "markdown",
   "source": "<p>To create a list, type the list within square brackets <b>[ ]</b>, with your content inside the parenthesis and separated by commas. Let us try it!</p>",
   "id": "72ad438227f650b1"
  },
  {
   "metadata": {
    "ExecuteTime": {
     "end_time": "2025-05-27T16:04:56.012091Z",
     "start_time": "2025-05-27T16:04:56.006269Z"
    }
   },
   "cell_type": "code",
   "source": [
    "# initial a random list\n",
    "\n",
    "L = [\"A\", 1.0, 2025]\n",
    "L"
   ],
   "id": "8be6915f505ba062",
   "outputs": [
    {
     "data": {
      "text/plain": [
       "['A', 1.0, 2025]"
      ]
     },
     "execution_count": 1,
     "metadata": {},
     "output_type": "execute_result"
    }
   ],
   "execution_count": 1
  },
  {
   "metadata": {
    "ExecuteTime": {
     "end_time": "2025-05-27T16:04:56.120697Z",
     "start_time": "2025-05-27T16:04:56.116334Z"
    }
   },
   "cell_type": "code",
   "source": [
    "# Print the elements on each index\n",
    "\n",
    "print(\"the same element using negative and positive indexing:\\n Positive:\", L[0], \"\\n Negative:\", L[-3])\n",
    "print(\"the same element using negative and positive indexing:\\n Positive:\", L[1], \"\\n Negative:\", L[-2])\n",
    "print(\"the same element using negative and positive indexing:\\n Positive:\",L[2], \"\\n Negative:\", L[-1])"
   ],
   "id": "11abd4edbd05eee0",
   "outputs": [
    {
     "name": "stdout",
     "output_type": "stream",
     "text": [
      "the same element using negative and positive indexing:\n",
      " Positive: A \n",
      " Negative: A\n",
      "the same element using negative and positive indexing:\n",
      " Positive: 1.0 \n",
      " Negative: 1.0\n",
      "the same element using negative and positive indexing:\n",
      " Positive: 2025 \n",
      " Negative: 2025\n"
     ]
    }
   ],
   "execution_count": 2
  },
  {
   "metadata": {},
   "cell_type": "markdown",
   "source": "### List Content",
   "id": "e505f25796aec236"
  },
  {
   "metadata": {},
   "cell_type": "markdown",
   "source": [
    "<p>Lists can contain strings, floats, and integers. We can nest other lists, and we can also nest tuples and other data structures. The same indexing conventions apply for nesting:\n",
    "</p>"
   ],
   "id": "b5cf151fb56ecdbf"
  },
  {
   "metadata": {
    "ExecuteTime": {
     "end_time": "2025-05-27T16:04:56.131702Z",
     "start_time": "2025-05-27T16:04:56.127840Z"
    }
   },
   "cell_type": "code",
   "source": "[\"A\", 2.0, 2030, [1, 2], (\"B\", 2)]",
   "id": "100408f85a09240",
   "outputs": [
    {
     "data": {
      "text/plain": [
       "['A', 2.0, 2030, [1, 2], ('B', 2)]"
      ]
     },
     "execution_count": 3,
     "metadata": {},
     "output_type": "execute_result"
    }
   ],
   "execution_count": 3
  },
  {
   "metadata": {},
   "cell_type": "markdown",
   "source": "### List Operations",
   "id": "1fc90e8253b1ecbb"
  },
  {
   "metadata": {},
   "cell_type": "markdown",
   "source": "<p>We can also perform slicing in lists. For example, if we want the last two elements, we use the following command:</p>",
   "id": "88a465585ce5a94"
  },
  {
   "metadata": {
    "ExecuteTime": {
     "end_time": "2025-05-27T16:04:56.174686Z",
     "start_time": "2025-05-27T16:04:56.171375Z"
    }
   },
   "cell_type": "code",
   "source": [
    "L = [\"A\", 2.0, 2030, \"C\", 8]\n",
    "L[3: 5]"
   ],
   "id": "2eb81cc96f61f0ca",
   "outputs": [
    {
     "data": {
      "text/plain": [
       "['C', 8]"
      ]
     },
     "execution_count": 4,
     "metadata": {},
     "output_type": "execute_result"
    }
   ],
   "execution_count": 4
  },
  {
   "metadata": {},
   "cell_type": "markdown",
   "source": "<p>We can use the method <code>extend</code> to add new elements to the list:</p>",
   "id": "12eb88b520878919"
  },
  {
   "metadata": {
    "ExecuteTime": {
     "end_time": "2025-05-27T16:04:56.200316Z",
     "start_time": "2025-05-27T16:04:56.197312Z"
    }
   },
   "cell_type": "code",
   "source": [
    "print(L)\n",
    "L.extend([\"pop\", 10])\n",
    "print(L)"
   ],
   "id": "cce82791175d2ead",
   "outputs": [
    {
     "name": "stdout",
     "output_type": "stream",
     "text": [
      "['A', 2.0, 2030, 'C', 8]\n",
      "['A', 2.0, 2030, 'C', 8, 'pop', 10]\n"
     ]
    }
   ],
   "execution_count": 5
  },
  {
   "metadata": {},
   "cell_type": "markdown",
   "source": "<p>Another similar method is <code>append</code>. If we apply <code>append</code> instead of <code>extend</code>, we add one element to the list:</p>",
   "id": "a942eaab8ed717b7"
  },
  {
   "metadata": {
    "ExecuteTime": {
     "end_time": "2025-05-27T16:04:56.236164Z",
     "start_time": "2025-05-27T16:04:56.233375Z"
    }
   },
   "cell_type": "code",
   "source": [
    "print(L)\n",
    "L.append([\"pop\", 10])\n",
    "print(L)"
   ],
   "id": "211fb0313d575adf",
   "outputs": [
    {
     "name": "stdout",
     "output_type": "stream",
     "text": [
      "['A', 2.0, 2030, 'C', 8, 'pop', 10]\n",
      "['A', 2.0, 2030, 'C', 8, 'pop', 10, ['pop', 10]]\n"
     ]
    }
   ],
   "execution_count": 6
  },
  {
   "metadata": {},
   "cell_type": "markdown",
   "source": "<p>Each time we apply a method, the list changes. If we apply <code>extend</code> we add two new elements to the list. The list <code>L</code> is then modified by adding two new elements:</p>",
   "id": "e6e5a250c6fde116"
  },
  {
   "metadata": {
    "ExecuteTime": {
     "end_time": "2025-05-27T16:04:56.267987Z",
     "start_time": "2025-05-27T16:04:56.264480Z"
    }
   },
   "cell_type": "code",
   "source": [
    "# Use extend to add elements to list\n",
    "\n",
    "L = [\"The Bodyguard\", 7.0]\n",
    "L.extend([\"pop\", 10])\n",
    "L"
   ],
   "id": "55adbb9cfac0f282",
   "outputs": [
    {
     "data": {
      "text/plain": [
       "['The Bodyguard', 7.0, 'pop', 10]"
      ]
     },
     "execution_count": 7,
     "metadata": {},
     "output_type": "execute_result"
    }
   ],
   "execution_count": 7
  },
  {
   "metadata": {},
   "cell_type": "markdown",
   "source": "<p>If we append the list  <code>[\"a\", \"b\"]</code> we have one new element consisting of a nested list:</p>",
   "id": "2a1d66d715d9a04"
  },
  {
   "metadata": {
    "ExecuteTime": {
     "end_time": "2025-05-27T16:04:56.314476Z",
     "start_time": "2025-05-27T16:04:56.308946Z"
    }
   },
   "cell_type": "code",
   "source": [
    "L.append([\"a\", \"b\"])\n",
    "L"
   ],
   "id": "91c2b940ac6856b6",
   "outputs": [
    {
     "data": {
      "text/plain": [
       "['The Bodyguard', 7.0, 'pop', 10, ['a', 'b']]"
      ]
     },
     "execution_count": 8,
     "metadata": {},
     "output_type": "execute_result"
    }
   ],
   "execution_count": 8
  },
  {
   "metadata": {},
   "cell_type": "markdown",
   "source": "<p>As lists are mutable, we can change them. For example, we can change the first element as follows:</p>",
   "id": "3c1db6fa1422e04f"
  },
  {
   "metadata": {
    "ExecuteTime": {
     "end_time": "2025-05-27T16:04:56.349342Z",
     "start_time": "2025-05-27T16:04:56.345981Z"
    }
   },
   "cell_type": "code",
   "source": [
    "A = [\"disco\", 10, 1.2]\n",
    "print(\"Before change:\", A)\n",
    "A[0] = \"hard rock\"\n",
    "print(\"After change:\", A)"
   ],
   "id": "8d717f9cc97cfbec",
   "outputs": [
    {
     "name": "stdout",
     "output_type": "stream",
     "text": [
      "Before change: ['disco', 10, 1.2]\n",
      "After change: ['hard rock', 10, 1.2]\n"
     ]
    }
   ],
   "execution_count": 9
  },
  {
   "metadata": {},
   "cell_type": "markdown",
   "source": "<p>We can also delete an element of a list using the <code>del</code> command:</p>",
   "id": "2411f280ed3e5717"
  },
  {
   "metadata": {
    "ExecuteTime": {
     "end_time": "2025-05-27T16:04:56.373654Z",
     "start_time": "2025-05-27T16:04:56.369815Z"
    }
   },
   "cell_type": "code",
   "source": [
    "print(\"Before change: \", A)\n",
    "del(A[0])\n",
    "print(\"After change: \", A)"
   ],
   "id": "9f7a7ad105bd21da",
   "outputs": [
    {
     "name": "stdout",
     "output_type": "stream",
     "text": [
      "Before change:  ['hard rock', 10, 1.2]\n",
      "After change:  [10, 1.2]\n"
     ]
    }
   ],
   "execution_count": 10
  },
  {
   "metadata": {},
   "cell_type": "markdown",
   "source": "<p>We can convert a string to a list using <code>split</code>.  For example, the method <code>split</code> translates every group of characters separated by a space into an element in a list:</p>",
   "id": "9ea98e593e9d64c1"
  },
  {
   "metadata": {
    "ExecuteTime": {
     "end_time": "2025-05-27T16:04:56.406646Z",
     "start_time": "2025-05-27T16:04:56.402001Z"
    }
   },
   "cell_type": "code",
   "source": "\"Hi, my friend!\".split()",
   "id": "7cdb5d7c1856871d",
   "outputs": [
    {
     "data": {
      "text/plain": [
       "['Hi,', 'my', 'friend!']"
      ]
     },
     "execution_count": 11,
     "metadata": {},
     "output_type": "execute_result"
    }
   ],
   "execution_count": 11
  },
  {
   "metadata": {},
   "cell_type": "markdown",
   "source": "<p>We can use the split function to separate strings on a specific character which we call a **delimiter**. We pass the character we would like to split on into the argument, which in this case is a comma.  The result is a list, and each element corresponds to a set of characters that have been separated by a comma:</p>",
   "id": "35b2c81d727309cc"
  },
  {
   "metadata": {
    "ExecuteTime": {
     "end_time": "2025-05-27T16:04:56.456352Z",
     "start_time": "2025-05-27T16:04:56.452004Z"
    }
   },
   "cell_type": "code",
   "source": "\"A, B, C, D\".split(\", \")",
   "id": "34db8652c7248bf1",
   "outputs": [
    {
     "data": {
      "text/plain": [
       "['A', 'B', 'C', 'D']"
      ]
     },
     "execution_count": 12,
     "metadata": {},
     "output_type": "execute_result"
    }
   ],
   "execution_count": 12
  },
  {
   "metadata": {},
   "cell_type": "markdown",
   "source": "### Copy and Clone List",
   "id": "13449cb04aa48ae2"
  },
  {
   "metadata": {},
   "cell_type": "markdown",
   "source": "<p>When we set one variable <b>B</b> equal to <b>A</b>, both <b>A</b> and <b>B</b> are referencing the same list in memory:</p>",
   "id": "9b54a5aea77d4e8a"
  },
  {
   "metadata": {
    "ExecuteTime": {
     "end_time": "2025-05-27T16:04:56.494886Z",
     "start_time": "2025-05-27T16:04:56.491369Z"
    }
   },
   "cell_type": "code",
   "source": [
    "A = [\"hard rock\", 100, 3.8]\n",
    "B = A\n",
    "print(\"A: \", A)\n",
    "print(\"B: \", B)"
   ],
   "id": "bc8acfa51397493e",
   "outputs": [
    {
     "name": "stdout",
     "output_type": "stream",
     "text": [
      "A:  ['hard rock', 100, 3.8]\n",
      "B:  ['hard rock', 100, 3.8]\n"
     ]
    }
   ],
   "execution_count": 13
  },
  {
   "metadata": {},
   "cell_type": "markdown",
   "source": "<p>Initially, the value of the first element in <b>B</b> is set as \"hard rock\". If we change the first element in <b>A</b> to <b>\"banana\"</b>, we get an unexpected side effect.  As <b>A</b> and <b>B</b> are referencing the same list, if we change list <b>A</b>, then list <b>B</b> also changes. If we check the first element of <b>B</b> we get \"banana\" instead of \"hard rock\":</p>",
   "id": "6f458616d2930081"
  },
  {
   "metadata": {
    "ExecuteTime": {
     "end_time": "2025-05-27T16:04:56.525412Z",
     "start_time": "2025-05-27T16:04:56.522136Z"
    }
   },
   "cell_type": "code",
   "source": [
    "print(\"B[0]: \", B[0])\n",
    "A[0] = \"apple\"\n",
    "print(\"B[0]: \", B[0])"
   ],
   "id": "2d08b920b71d2553",
   "outputs": [
    {
     "name": "stdout",
     "output_type": "stream",
     "text": [
      "B[0]:  hard rock\n",
      "B[0]:  apple\n"
     ]
    }
   ],
   "execution_count": 14
  },
  {
   "metadata": {},
   "cell_type": "markdown",
   "source": "<p>However, you can clone list <b>A</b> by using the following syntax:</p>",
   "id": "7227b6aebdec4c8"
  },
  {
   "metadata": {
    "ExecuteTime": {
     "end_time": "2025-05-27T16:04:56.563083Z",
     "start_time": "2025-05-27T16:04:56.558823Z"
    }
   },
   "cell_type": "code",
   "source": [
    "B = A[:]\n",
    "B"
   ],
   "id": "fe74379facf83ed8",
   "outputs": [
    {
     "data": {
      "text/plain": [
       "['apple', 100, 3.8]"
      ]
     },
     "execution_count": 15,
     "metadata": {},
     "output_type": "execute_result"
    }
   ],
   "execution_count": 15
  },
  {
   "metadata": {},
   "cell_type": "markdown",
   "source": "<p>Variable <b>B</b> references a new copy or clone of the original list. Now if you change <b>A</b>, <b>B</b> will not change:</p>",
   "id": "9a600f791d087d4d"
  },
  {
   "metadata": {
    "ExecuteTime": {
     "end_time": "2025-05-27T16:04:56.604240Z",
     "start_time": "2025-05-27T16:04:56.599784Z"
    }
   },
   "cell_type": "code",
   "source": [
    "print(\"B[0]: \", B[0])\n",
    "A[0] = \"hard rock\"\n",
    "print(\"B[0]: \", B[0])"
   ],
   "id": "4abbbe522a13662c",
   "outputs": [
    {
     "name": "stdout",
     "output_type": "stream",
     "text": [
      "B[0]:  apple\n",
      "B[0]:  apple\n"
     ]
    }
   ],
   "execution_count": 16
  },
  {
   "metadata": {},
   "cell_type": "markdown",
   "source": "### Quiz on List",
   "id": "ea4fa7dbc16cacf8"
  },
  {
   "metadata": {},
   "cell_type": "markdown",
   "source": "<p>Create a list <code>a_list</code>, with the following elements <code>1</code>, <code>hello</code>, <code>[1, 2, 3]</code> and <code>True</code>.</p>",
   "id": "569c57132ea689cb"
  },
  {
   "metadata": {
    "ExecuteTime": {
     "end_time": "2025-05-27T16:04:56.640519Z",
     "start_time": "2025-05-27T16:04:56.636227Z"
    }
   },
   "cell_type": "code",
   "source": [
    "a_list = [1, \"hello\", [1, 2, 3], True]\n",
    "a_list"
   ],
   "id": "56fb411578683dba",
   "outputs": [
    {
     "data": {
      "text/plain": [
       "[1, 'hello', [1, 2, 3], True]"
      ]
     },
     "execution_count": 17,
     "metadata": {},
     "output_type": "execute_result"
    }
   ],
   "execution_count": 17
  },
  {
   "metadata": {},
   "cell_type": "markdown",
   "source": "<p>Find the value stored at index 1 of <code>a_list</code>.</p>",
   "id": "17569eff7429e85d"
  },
  {
   "metadata": {
    "ExecuteTime": {
     "end_time": "2025-05-27T16:04:56.685961Z",
     "start_time": "2025-05-27T16:04:56.681987Z"
    }
   },
   "cell_type": "code",
   "source": "a_list[1]",
   "id": "ade23025f1dfb9b4",
   "outputs": [
    {
     "data": {
      "text/plain": [
       "'hello'"
      ]
     },
     "execution_count": 18,
     "metadata": {},
     "output_type": "execute_result"
    }
   ],
   "execution_count": 18
  },
  {
   "metadata": {},
   "cell_type": "markdown",
   "source": "<p>Retrieve the elements stored at index 1, 2 and 3 of <code>a_list</code>.</p>",
   "id": "7251ea450ccb45"
  },
  {
   "metadata": {
    "ExecuteTime": {
     "end_time": "2025-05-27T16:04:56.711942Z",
     "start_time": "2025-05-27T16:04:56.707775Z"
    }
   },
   "cell_type": "code",
   "source": "a_list[1:4]",
   "id": "6830bf609bb436af",
   "outputs": [
    {
     "data": {
      "text/plain": [
       "['hello', [1, 2, 3], True]"
      ]
     },
     "execution_count": 19,
     "metadata": {},
     "output_type": "execute_result"
    }
   ],
   "execution_count": 19
  },
  {
   "metadata": {},
   "cell_type": "markdown",
   "source": "<p>Concatenate the following lists <code>A = [1, \"a\"]</code> and <code>B = [2, 1, \"d\"]</code>:</p>",
   "id": "a7b124ac0a727413"
  },
  {
   "metadata": {
    "ExecuteTime": {
     "end_time": "2025-05-27T16:04:56.748846Z",
     "start_time": "2025-05-27T16:04:56.744237Z"
    }
   },
   "cell_type": "code",
   "source": [
    "A = [1, \"a\"]\n",
    "B = [2, 1, \"d\"]\n",
    "A + B"
   ],
   "id": "b5b6b5c25c267ea6",
   "outputs": [
    {
     "data": {
      "text/plain": [
       "[1, 'a', 2, 1, 'd']"
      ]
     },
     "execution_count": 20,
     "metadata": {},
     "output_type": "execute_result"
    }
   ],
   "execution_count": 20
  },
  {
   "metadata": {},
   "cell_type": "markdown",
   "source": "### Scenario: Shopping List",
   "id": "e662f745cfab3818"
  },
  {
   "metadata": {},
   "cell_type": "markdown",
   "source": "#### Task 1 - Create an empty list",
   "id": "88e0231060723d23"
  },
  {
   "metadata": {},
   "cell_type": "markdown",
   "source": "<p>At first we need to create a empty list for storing the items to buy in Shopping list.</p>",
   "id": "60fe21b87c51120e"
  },
  {
   "metadata": {
    "ExecuteTime": {
     "end_time": "2025-05-27T16:04:56.775842Z",
     "start_time": "2025-05-27T16:04:56.772147Z"
    }
   },
   "cell_type": "code",
   "source": [
    "shopping_list = []\n",
    "shopping_list"
   ],
   "id": "6d5adbb9f7e903db",
   "outputs": [
    {
     "data": {
      "text/plain": [
       "[]"
      ]
     },
     "execution_count": 21,
     "metadata": {},
     "output_type": "execute_result"
    }
   ],
   "execution_count": 21
  },
  {
   "metadata": {},
   "cell_type": "markdown",
   "source": "#### Task 2 - Now store the number of items to the shopping_list",
   "id": "860a72a05e7a0d1e"
  },
  {
   "metadata": {},
   "cell_type": "markdown",
   "source": [
    "* Watch\n",
    "* Laptop\n",
    "* Shoes\n",
    "* Pen\n",
    "* Clothes"
   ],
   "id": "7cd8ec8c970593d6"
  },
  {
   "metadata": {
    "ExecuteTime": {
     "end_time": "2025-05-27T16:04:56.795906Z",
     "start_time": "2025-05-27T16:04:56.791608Z"
    }
   },
   "cell_type": "code",
   "source": [
    "shopping_list.extend([\"Watch\", \"Laptop\", \"Shoes\", \"Pen\", \"Clothes\"])\n",
    "shopping_list"
   ],
   "id": "760f9491839c3d68",
   "outputs": [
    {
     "data": {
      "text/plain": [
       "['Watch', 'Laptop', 'Shoes', 'Pen', 'Clothes']"
      ]
     },
     "execution_count": 22,
     "metadata": {},
     "output_type": "execute_result"
    }
   ],
   "execution_count": 22
  },
  {
   "metadata": {},
   "cell_type": "markdown",
   "source": "#### Task 3 - Add a new item to the shopping_list",
   "id": "b17504dbfc33231b"
  },
  {
   "metadata": {},
   "cell_type": "markdown",
   "source": "<p>Seems like I missed one item \"Football\" to add in the shopping list.</p>",
   "id": "2c98a33e33601e17"
  },
  {
   "metadata": {
    "ExecuteTime": {
     "end_time": "2025-05-27T16:04:56.824185Z",
     "start_time": "2025-05-27T16:04:56.820345Z"
    }
   },
   "cell_type": "code",
   "source": [
    "shopping_list.append(\"Football\")\n",
    "shopping_list"
   ],
   "id": "e9c50afaf6e043ca",
   "outputs": [
    {
     "data": {
      "text/plain": [
       "['Watch', 'Laptop', 'Shoes', 'Pen', 'Clothes', 'Football']"
      ]
     },
     "execution_count": 23,
     "metadata": {},
     "output_type": "execute_result"
    }
   ],
   "execution_count": 23
  },
  {
   "metadata": {},
   "cell_type": "markdown",
   "source": "#### Task 4 - Print First item from the shopping_list",
   "id": "524f3544308d73a4"
  },
  {
   "metadata": {
    "ExecuteTime": {
     "end_time": "2025-05-27T16:04:56.865047Z",
     "start_time": "2025-05-27T16:04:56.862002Z"
    }
   },
   "cell_type": "code",
   "source": "print(shopping_list[0])",
   "id": "fe51e61d9701965",
   "outputs": [
    {
     "name": "stdout",
     "output_type": "stream",
     "text": [
      "Watch\n"
     ]
    }
   ],
   "execution_count": 24
  },
  {
   "metadata": {},
   "cell_type": "markdown",
   "source": "#### Task 5 - Print Last item from the shopping_list",
   "id": "9b2016a88002351"
  },
  {
   "metadata": {
    "ExecuteTime": {
     "end_time": "2025-05-27T16:04:56.897423Z",
     "start_time": "2025-05-27T16:04:56.894574Z"
    }
   },
   "cell_type": "code",
   "source": "print(shopping_list[-1])",
   "id": "f1c8330ee97527ce",
   "outputs": [
    {
     "name": "stdout",
     "output_type": "stream",
     "text": [
      "Football\n"
     ]
    }
   ],
   "execution_count": 25
  },
  {
   "metadata": {},
   "cell_type": "markdown",
   "source": "#### Task 6 - Print the entire Shopping List",
   "id": "4bd3a4be728fa2db"
  },
  {
   "metadata": {
    "ExecuteTime": {
     "end_time": "2025-05-27T16:04:56.933859Z",
     "start_time": "2025-05-27T16:04:56.930413Z"
    }
   },
   "cell_type": "code",
   "source": "print(shopping_list)",
   "id": "a7e52b071cb9c143",
   "outputs": [
    {
     "name": "stdout",
     "output_type": "stream",
     "text": [
      "['Watch', 'Laptop', 'Shoes', 'Pen', 'Clothes', 'Football']\n"
     ]
    }
   ],
   "execution_count": 26
  },
  {
   "metadata": {},
   "cell_type": "markdown",
   "source": "#### Task 7 - Print the item that are important to buy from the Shopping List",
   "id": "bf6555b6862f277e"
  },
  {
   "metadata": {},
   "cell_type": "markdown",
   "source": "<p>Print \"Laptop\" and \"Shoes\".</p>",
   "id": "71da40d14da2edc7"
  },
  {
   "metadata": {
    "ExecuteTime": {
     "end_time": "2025-05-27T16:04:56.979479Z",
     "start_time": "2025-05-27T16:04:56.974948Z"
    }
   },
   "cell_type": "code",
   "source": "shopping_list[1: 3]",
   "id": "4824027d7b6ac853",
   "outputs": [
    {
     "data": {
      "text/plain": [
       "['Laptop', 'Shoes']"
      ]
     },
     "execution_count": 27,
     "metadata": {},
     "output_type": "execute_result"
    }
   ],
   "execution_count": 27
  },
  {
   "metadata": {},
   "cell_type": "markdown",
   "source": "#### Task 8 - Change the item from the shopping_list",
   "id": "f98fc58fe58e7fba"
  },
  {
   "metadata": {},
   "cell_type": "markdown",
   "source": "<p>Instead of <u>\"Pen\"</u> because I want to buy <u>\"Notebook\"</u>. Let's change the item stored in the list.</p>",
   "id": "5b4d3233fc421545"
  },
  {
   "metadata": {
    "ExecuteTime": {
     "end_time": "2025-05-27T16:04:57.022035Z",
     "start_time": "2025-05-27T16:04:57.017212Z"
    }
   },
   "cell_type": "code",
   "source": [
    "shopping_list[3] = \"Notebook\"\n",
    "shopping_list"
   ],
   "id": "a6a2e0fb689a49c5",
   "outputs": [
    {
     "data": {
      "text/plain": [
       "['Watch', 'Laptop', 'Shoes', 'Notebook', 'Clothes', 'Football']"
      ]
     },
     "execution_count": 28,
     "metadata": {},
     "output_type": "execute_result"
    }
   ],
   "execution_count": 28
  },
  {
   "metadata": {},
   "cell_type": "markdown",
   "source": "#### Task 9 - Delete the item from the shopping_list that is not required now",
   "id": "7e3a67eadac686c2"
  },
  {
   "metadata": {},
   "cell_type": "markdown",
   "source": "<p>Let's delete items that are unimportant, such as; I don't want to buy <u>Clothes</u>, let's delete it.</p>",
   "id": "bbf108f20b0c08ef"
  },
  {
   "metadata": {
    "ExecuteTime": {
     "end_time": "2025-05-27T16:04:57.057639Z",
     "start_time": "2025-05-27T16:04:57.052851Z"
    }
   },
   "cell_type": "code",
   "source": [
    "del shopping_list[4]\n",
    "shopping_list"
   ],
   "id": "9aa7ab3c2532b7da",
   "outputs": [
    {
     "data": {
      "text/plain": [
       "['Watch', 'Laptop', 'Shoes', 'Notebook', 'Football']"
      ]
     },
     "execution_count": 29,
     "metadata": {},
     "output_type": "execute_result"
    }
   ],
   "execution_count": 29
  },
  {
   "metadata": {},
   "cell_type": "markdown",
   "source": "#### Task 10 - Print the Shopping List",
   "id": "ec5acd43ce4ee562"
  },
  {
   "metadata": {},
   "cell_type": "markdown",
   "source": "<p>We are ready with our shopping list.</p>",
   "id": "4567f189cc93d05e"
  },
  {
   "metadata": {
    "ExecuteTime": {
     "end_time": "2025-05-27T16:04:57.095936Z",
     "start_time": "2025-05-27T16:04:57.091873Z"
    }
   },
   "cell_type": "code",
   "source": "print(shopping_list)",
   "id": "45f20da681ec4429",
   "outputs": [
    {
     "name": "stdout",
     "output_type": "stream",
     "text": [
      "['Watch', 'Laptop', 'Shoes', 'Notebook', 'Football']\n"
     ]
    }
   ],
   "execution_count": 30
  },
  {
   "metadata": {},
   "cell_type": "markdown",
   "source": [
    "****\n",
    "This is the end of the file.\n",
    "****"
   ],
   "id": "a42129250fccc6a9"
  }
 ],
 "metadata": {
  "kernelspec": {
   "display_name": "Python 3",
   "language": "python",
   "name": "python3"
  },
  "language_info": {
   "codemirror_mode": {
    "name": "ipython",
    "version": 2
   },
   "file_extension": ".py",
   "mimetype": "text/x-python",
   "name": "python",
   "nbconvert_exporter": "python",
   "pygments_lexer": "ipython2",
   "version": "2.7.6"
  }
 },
 "nbformat": 4,
 "nbformat_minor": 5
}
