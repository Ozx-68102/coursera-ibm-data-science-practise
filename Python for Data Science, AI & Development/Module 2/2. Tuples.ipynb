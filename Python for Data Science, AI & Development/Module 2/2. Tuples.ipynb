{
 "cells": [
  {
   "metadata": {},
   "cell_type": "markdown",
   "source": "## About the Dataset",
   "id": "b5f8c926834f1ae5"
  },
  {
   "metadata": {},
   "cell_type": "markdown",
   "source": [
    "Imagine you received album recommendations from your friends and compiled all the recommendations into a table, with specific information about each album.\n",
    "\n",
    "The table has one row for each movie and several columns:\n",
    "\n",
    "*   **Artist** - Name of the artist\n",
    "*   **Album** - Name of the album\n",
    "*   **Released_year** - Year the album was released\n",
    "*   **Length_min_sec** - Length of the album (hours,minutes,seconds)\n",
    "*   **Genre** - Genre of the album\n",
    "*   **Music_recording_sales_millions** - Music recording sales (millions in USD) on [SONG://DATABASE](http://www.song-database.com/?utm_medium=Exinfluencer&utm_source=Exinfluencer&utm_content=000026UJ&utm_term=10006555&utm_id=NA-SkillsNetwork-Channel-SkillsNetworkCoursesIBMDeveloperSkillsNetworkPY0101ENSkillsNetwork19487395-2021-01-01)\n",
    "*   **Claimed_sales_millions** - Album's claimed sales (millions in USD) on [SONG://DATABASE](http://www.song-database.com/?utm_medium=Exinfluencer&utm_source=Exinfluencer&utm_content=000026UJ&utm_term=10006555&utm_id=NA-SkillsNetwork-Channel-SkillsNetworkCoursesIBMDeveloperSkillsNetworkPY0101ENSkillsNetwork19487395-2021-01-01)\n",
    "*   **Released** - Date on which the album was released\n",
    "*   **Soundtrack** - Indicates if the album is the movie soundtrack (Y) or (N)\n",
    "*   **Rating_of_friends** - Indicates the rating from your friends from 1 to 10\n",
    "\n",
    "<br>\n",
    "<br>\n",
    "\n",
    "The Dataset can be seen below:\n",
    "\n",
    "<font size=\"1\">\n",
    "    <table font-size:xx-small>\n",
    "        <thead>\n",
    "        <tr>\n",
    "            <th style=\"border: 1px solid; text-align: center\">Artist</th>\n",
    "            <th style=\"border: 1px solid; text-align: center\">Album</th>\n",
    "            <th style=\"border: 1px solid; text-align: center\">Released</th>\n",
    "            <th style=\"border: 1px solid; text-align: center\">Length</th>\n",
    "            <th style=\"border: 1px solid; text-align: center\">Genre</th>\n",
    "            <th style=\"border: 1px solid; text-align: center\">Music recording sales (millions)</th>\n",
    "            <th style=\"border: 1px solid; text-align: center\">Claimed sales (millions)</th>\n",
    "            <th style=\"border: 1px solid; text-align: center\">Released</th>\n",
    "            <th style=\"border: 1px solid; text-align: center\">Soundtrack</th>\n",
    "            <th style=\"border: 1px solid; text-align: center\">Rating (friends)</th>\n",
    "        </tr>\n",
    "        </thead>\n",
    "        <tbody>\n",
    "        <tr>\n",
    "            <td style=\"border: 1px solid; text-align: center\">Michael Jackson</td>\n",
    "            <td style=\"border: 1px solid; text-align: center\">Thriller</td>\n",
    "            <td style=\"border: 1px solid; text-align: center\">1982</td>\n",
    "            <td style=\"border: 1px solid; text-align: center\">00:42:19</td>\n",
    "            <td style=\"border: 1px solid; text-align: center\">Pop, rock, R&B</td>\n",
    "            <td style=\"border: 1px solid; text-align: center\">46</td>\n",
    "            <td style=\"border: 1px solid; text-align: center\">65</td>\n",
    "            <td style=\"border: 1px solid; text-align: center\">30-Nov-82</td>\n",
    "            <td style=\"border: 1px solid; text-align: center\"></td>\n",
    "            <td style=\"border: 1px solid; text-align: center\">10.0</td>\n",
    "        </tr>\n",
    "        <tr>\n",
    "            <td style=\"border: 1px solid; text-align: center\">AC/DC</td>\n",
    "            <td style=\"border: 1px solid; text-align: center\">Back in Black</td>\n",
    "            <td style=\"border: 1px solid; text-align: center\">1980</td>\n",
    "            <td style=\"border: 1px solid; text-align: center\">00:42:11</td>\n",
    "            <td style=\"border: 1px solid; text-align: center\">Hard rock</td>\n",
    "            <td style=\"border: 1px solid; text-align: center\">26.1</td>\n",
    "            <td style=\"border: 1px solid; text-align: center\">50</td>\n",
    "            <td style=\"border: 1px solid; text-align: center\">25-Jul-80</td>\n",
    "            <td style=\"border: 1px solid; text-align: center\"></td>\n",
    "            <td style=\"border: 1px solid; text-align: center\">8.5</td>\n",
    "        </tr>\n",
    "        <tr>\n",
    "            <td style=\"border: 1px solid; text-align: center\">Pink Floyd</td>\n",
    "            <td style=\"border: 1px solid; text-align: center\">The Dark Side of the Moon</td>\n",
    "            <td style=\"border: 1px solid; text-align: center\">1973</td>\n",
    "            <td style=\"border: 1px solid; text-align: center\">00:42:49</td>\n",
    "            <td style=\"border: 1px solid; text-align: center\">Progressive rock</td>\n",
    "            <td style=\"border: 1px solid; text-align: center\">24.2</td>\n",
    "            <td style=\"border: 1px solid; text-align: center\">45</td>\n",
    "            <td style=\"border: 1px solid; text-align: center\">01-Mar-73</td>\n",
    "            <td style=\"border: 1px solid; text-align: center\"></td>\n",
    "            <td style=\"border: 1px solid; text-align: center\">9.5</td>\n",
    "        </tr>\n",
    "        <tr>\n",
    "            <td style=\"border: 1px solid; text-align: center\">Whitney Houston</td>\n",
    "            <td style=\"border: 1px solid; text-align: center\">The Bodyguard</td>\n",
    "            <td style=\"border: 1px solid; text-align: center\">1992</td>\n",
    "            <td style=\"border: 1px solid; text-align: center\">00:57:44</td>\n",
    "            <td style=\"border: 1px solid; text-align: center\">Soundtrack/R&B, soul, pop</td>\n",
    "            <td style=\"border: 1px solid; text-align: center\">26.1</td>\n",
    "            <td style=\"border: 1px solid; text-align: center\">50</td>\n",
    "            <td style=\"border: 1px solid; text-align: center\">25-Jul-80</td>\n",
    "            <td style=\"border: 1px solid; text-align: center\">Y</td>\n",
    "            <td style=\"border: 1px solid; text-align: center\">7.0</td>\n",
    "        </tr>\n",
    "        <tr>\n",
    "            <td style=\"border: 1px solid; text-align: center\">Meat Loaf</td>\n",
    "            <td style=\"border: 1px solid; text-align: center\">Bat Out of Hell</td>\n",
    "            <td style=\"border: 1px solid; text-align: center\">1977</td>\n",
    "            <td style=\"border: 1px solid; text-align: center\">00:46:33</td>\n",
    "            <td style=\"border: 1px solid; text-align: center\">Hard rock, progressive rock</td>\n",
    "            <td style=\"border: 1px solid; text-align: center\">20.6</td>\n",
    "            <td style=\"border: 1px solid; text-align: center\">43</td>\n",
    "            <td style=\"border: 1px solid; text-align: center\">21-Oct-77</td>\n",
    "            <td style=\"border: 1px solid; text-align: center\"></td>\n",
    "            <td style=\"border: 1px solid; text-align: center\">7.0</td>\n",
    "        </tr>\n",
    "        <tr>\n",
    "            <td style=\"border: 1px solid; text-align: center\">Eagles</td>\n",
    "            <td style=\"border: 1px solid; text-align: center\">Their Greatest Hits (1971-1975)</td>\n",
    "            <td style=\"border: 1px solid; text-align: center\">1976</td>\n",
    "            <td style=\"border: 1px solid; text-align: center\">00:43:08</td>\n",
    "            <td style=\"border: 1px solid; text-align: center\">Rock, soft rock, folk rock</td>\n",
    "            <td style=\"border: 1px solid; text-align: center\">32.2</td>\n",
    "            <td style=\"border: 1px solid; text-align: center\">42</td>\n",
    "            <td style=\"border: 1px solid; text-align: center\">17-Feb-76</td>\n",
    "            <td style=\"border: 1px solid; text-align: center\"></td>\n",
    "            <td style=\"border: 1px solid; text-align: center\">9.5</td>\n",
    "        </tr>\n",
    "        <tr>\n",
    "            <td style=\"border: 1px solid; text-align: center\">Bee Gees</td>\n",
    "            <td style=\"border: 1px solid; text-align: center\">Saturday Night Fever</td>\n",
    "            <td style=\"border: 1px solid; text-align: center\">1977</td>\n",
    "            <td style=\"border: 1px solid; text-align: center\">1:15:54</td>\n",
    "            <td style=\"border: 1px solid; text-align: center\">Disco</td>\n",
    "            <td style=\"border: 1px solid; text-align: center\">20.6</td>\n",
    "            <td style=\"border: 1px solid; text-align: center\">40</td>\n",
    "            <td style=\"border: 1px solid; text-align: center\">15-Nov-77</td>\n",
    "            <td style=\"border: 1px solid; text-align: center\">Y</td>\n",
    "            <td style=\"border: 1px solid; text-align: center\">9.0</td>\n",
    "        </tr>\n",
    "        <tr>\n",
    "            <td style=\"border: 1px solid; text-align: center\">Fleet wood Mac</td>\n",
    "            <td style=\"border: 1px solid; text-align: center\"> Rumours </td>\n",
    "            <td style=\"border: 1px solid; text-align: center\">1977</td>\n",
    "            <td style=\"border: 1px solid; text-align: center\">00:40:01</td>\n",
    "            <td style=\"border: 1px solid; text-align: center\">Soft rock</td>\n",
    "            <td style=\"border: 1px solid; text-align: center\">27.9</td>\n",
    "            <td style=\"border: 1px solid; text-align: center\">40</td>\n",
    "            <td style=\"border: 1px solid; text-align: center\">04-Feb-77</td>\n",
    "            <td style=\"border: 1px solid; text-align: center\"></td>\n",
    "            <td style=\"border: 1px solid; text-align: center\">9.5</td>\n",
    "        </tr>\n",
    "        </tbody>\n",
    "    </table>\n",
    "</font>"
   ],
   "id": "40cdbe6bd9eabd98"
  },
  {
   "metadata": {},
   "cell_type": "markdown",
   "source": "### Tuples",
   "id": "643e223bb362b2bd"
  },
  {
   "metadata": {},
   "cell_type": "markdown",
   "source": "<p>In Python, there are different data types: String, Integer, and Float. These data types can all be contained in a tuple as follows:</p>",
   "id": "12e6125de3238366"
  },
  {
   "metadata": {
    "ExecuteTime": {
     "end_time": "2025-05-28T03:11:46.823920Z",
     "start_time": "2025-05-28T03:11:46.816272Z"
    }
   },
   "cell_type": "code",
   "source": [
    "print(type(\"disco\"))\n",
    "print(type(5))\n",
    "print(type(1.9))"
   ],
   "id": "c3633b0b1d901711",
   "outputs": [
    {
     "name": "stdout",
     "output_type": "stream",
     "text": [
      "<class 'str'>\n",
      "<class 'int'>\n",
      "<class 'float'>\n"
     ]
    }
   ],
   "execution_count": 1
  },
  {
   "metadata": {},
   "cell_type": "markdown",
   "source": "<p>Now, let us create your first tuple with string, integer and float.</p>",
   "id": "ea0766a9445925ac"
  },
  {
   "metadata": {
    "ExecuteTime": {
     "end_time": "2025-05-28T03:11:47.034098Z",
     "start_time": "2025-05-28T03:11:47.013711Z"
    }
   },
   "cell_type": "code",
   "source": [
    "tuple1 = (\"disco\", 5, 1.9)\n",
    "tuple1"
   ],
   "id": "dd148b14bea407a1",
   "outputs": [
    {
     "data": {
      "text/plain": [
       "('disco', 5, 1.9)"
      ]
     },
     "execution_count": 2,
     "metadata": {},
     "output_type": "execute_result"
    }
   ],
   "execution_count": 2
  },
  {
   "metadata": {},
   "cell_type": "markdown",
   "source": "<p>The type of variable is a <b>tuple</b>.</p>",
   "id": "c5da453949402bb5"
  },
  {
   "metadata": {
    "ExecuteTime": {
     "end_time": "2025-05-28T03:11:47.094380Z",
     "start_time": "2025-05-28T03:11:47.087219Z"
    }
   },
   "cell_type": "code",
   "source": "type(tuple1)",
   "id": "4202855778fb5b8e",
   "outputs": [
    {
     "data": {
      "text/plain": [
       "tuple"
      ]
     },
     "execution_count": 3,
     "metadata": {},
     "output_type": "execute_result"
    }
   ],
   "execution_count": 3
  },
  {
   "metadata": {},
   "cell_type": "markdown",
   "source": "### Indexing",
   "id": "6a3e5b3aa14e2413"
  },
  {
   "metadata": {},
   "cell_type": "markdown",
   "source": "<p>Each element of a tuple can be accessed via an index. The following table represents the relationship between the index and the items in the tuple. Each element can be obtained by the name of the tuple followed by a square bracket with the index number:</p>",
   "id": "879b96656cd98e9a"
  },
  {
   "metadata": {},
   "cell_type": "markdown",
   "source": [
    "<table style=\"border: 1px solid\">\n",
    "<thead>\n",
    "<tr>\n",
    "    <th style=\"border: 1px solid; text-align: center\">Index</th>\n",
    "    <th style=\"border: 1px solid; text-align: center\">Element</th>\n",
    "</tr>\n",
    "</thead>\n",
    "<tbody>\n",
    "<tr>\n",
    "    <td style=\"border: 1px solid; text-align: center\">0</td>\n",
    "    <td style=\"border: 1px solid; text-align: center\">\"disco\"</td>\n",
    "</tr>\n",
    "<tr>\n",
    "    <td style=\"border: 1px solid; text-align: center\">1</td>\n",
    "    <td style=\"border: 1px solid; text-align: center\">5</td>\n",
    "</tr>\n",
    "<tr>\n",
    "    <td style=\"border: 1px solid; text-align: center\">2</td>\n",
    "    <td style=\"border: 1px solid; text-align: center\">1.9</td>\n",
    "</tr>\n",
    "</tbody>\n",
    "</table>"
   ],
   "id": "5fbe6f6e67a1538a"
  },
  {
   "metadata": {},
   "cell_type": "markdown",
   "source": "<p>We can print out each value in the tuple:</p>",
   "id": "828c03d75bd490bb"
  },
  {
   "metadata": {
    "ExecuteTime": {
     "end_time": "2025-05-28T03:11:47.147657Z",
     "start_time": "2025-05-28T03:11:47.143200Z"
    }
   },
   "cell_type": "code",
   "source": [
    "print(tuple1[0])\n",
    "print(tuple1[1])\n",
    "print(tuple1[2])"
   ],
   "id": "c81c0449507307fb",
   "outputs": [
    {
     "name": "stdout",
     "output_type": "stream",
     "text": [
      "disco\n",
      "5\n",
      "1.9\n"
     ]
    }
   ],
   "execution_count": 4
  },
  {
   "metadata": {},
   "cell_type": "markdown",
   "source": "<p>We can print out the <b>type</b> of each value in the tuple:</p>",
   "id": "c54b12bbc233ee01"
  },
  {
   "metadata": {
    "ExecuteTime": {
     "end_time": "2025-05-28T03:11:47.190625Z",
     "start_time": "2025-05-28T03:11:47.184730Z"
    }
   },
   "cell_type": "code",
   "source": [
    "print(type(tuple1[0]))\n",
    "print(type(tuple1[1]))\n",
    "print(type(tuple1[2]))"
   ],
   "id": "515ad94a5412aca9",
   "outputs": [
    {
     "name": "stdout",
     "output_type": "stream",
     "text": [
      "<class 'str'>\n",
      "<class 'int'>\n",
      "<class 'float'>\n"
     ]
    }
   ],
   "execution_count": 5
  },
  {
   "metadata": {},
   "cell_type": "markdown",
   "source": "<p>We can also use negative indexing. We use the same table above with corresponding negative values:</p>",
   "id": "17b4b3c1442eb4fb"
  },
  {
   "metadata": {},
   "cell_type": "markdown",
   "source": [
    "<table style=\"border: 1px solid\">\n",
    "<thead>\n",
    "<tr>\n",
    "    <th style=\"border: 1px solid; text-align: center\">Positive Index</th>\n",
    "    <th style=\"border: 1px solid; text-align: center\">Negative Index</th>\n",
    "    <th style=\"border: 1px solid; text-align: center\">Element</th>\n",
    "</tr>\n",
    "</thead>\n",
    "<tbody>\n",
    "<tr>\n",
    "    <td style=\"border: 1px solid; text-align: center\">0</td>\n",
    "    <td style=\"border: 1px solid; text-align: center\">-3</td>\n",
    "    <td style=\"border: 1px solid; text-align: center\">\"disco\"</td>\n",
    "</tr>\n",
    "<tr>\n",
    "    <td style=\"border: 1px solid; text-align: center\">1</td>\n",
    "    <td style=\"border: 1px solid; text-align: center\">-2</td>\n",
    "    <td style=\"border: 1px solid; text-align: center\">5</td>\n",
    "</tr>\n",
    "<tr>\n",
    "    <td style=\"border: 1px solid; text-align: center\">2</td>\n",
    "    <td style=\"border: 1px solid; text-align: center\">-1</td>\n",
    "    <td style=\"border: 1px solid; text-align: center\">1.9</td>\n",
    "</tr>\n",
    "</tbody>\n",
    "</table>"
   ],
   "id": "ffb3f64f974d52af"
  },
  {
   "metadata": {},
   "cell_type": "markdown",
   "source": "<p>We can obtain the last element as follows (this time we will not use the print statement to display the values):</p>",
   "id": "315e4be11405fa06"
  },
  {
   "metadata": {
    "ExecuteTime": {
     "end_time": "2025-05-28T03:11:47.230185Z",
     "start_time": "2025-05-28T03:11:47.225206Z"
    }
   },
   "cell_type": "code",
   "source": [
    "print(tuple1[-1])\n",
    "print(tuple1[-2])\n",
    "print(tuple1[-3])"
   ],
   "id": "53253acfe9c70a64",
   "outputs": [
    {
     "name": "stdout",
     "output_type": "stream",
     "text": [
      "1.9\n",
      "5\n",
      "disco\n"
     ]
    }
   ],
   "execution_count": 6
  },
  {
   "metadata": {},
   "cell_type": "markdown",
   "source": "### Concatenate Tuples",
   "id": "b7f6165afae1642f"
  },
  {
   "metadata": {},
   "cell_type": "markdown",
   "source": "<p>We can concatenate or combine tuples by using the <code>+</code> sign.</p>",
   "id": "657be3194263df3a"
  },
  {
   "metadata": {
    "ExecuteTime": {
     "end_time": "2025-05-28T03:11:47.273424Z",
     "start_time": "2025-05-28T03:11:47.266951Z"
    }
   },
   "cell_type": "code",
   "source": [
    "tuple2 = tuple1 + (\"hard rock\", 10)\n",
    "tuple2"
   ],
   "id": "b2d39c7f0ef14e69",
   "outputs": [
    {
     "data": {
      "text/plain": [
       "('disco', 5, 1.9, 'hard rock', 10)"
      ]
     },
     "execution_count": 7,
     "metadata": {},
     "output_type": "execute_result"
    }
   ],
   "execution_count": 7
  },
  {
   "metadata": {},
   "cell_type": "markdown",
   "source": "### Slicing",
   "id": "a9072a6dc0fe75c8"
  },
  {
   "metadata": {},
   "cell_type": "markdown",
   "source": "<p>We can slice tuples, obtaining new tuples with the corresponding elements:</p>",
   "id": "20dc1c00eaa0bfdf"
  },
  {
   "metadata": {
    "ExecuteTime": {
     "end_time": "2025-05-28T03:11:47.320547Z",
     "start_time": "2025-05-28T03:11:47.314909Z"
    }
   },
   "cell_type": "code",
   "source": "tuple2[0:3]",
   "id": "106ec772ee4d5ca2",
   "outputs": [
    {
     "data": {
      "text/plain": [
       "('disco', 5, 1.9)"
      ]
     },
     "execution_count": 8,
     "metadata": {},
     "output_type": "execute_result"
    }
   ],
   "execution_count": 8
  },
  {
   "metadata": {},
   "cell_type": "markdown",
   "source": "<p>We can obtain the last two elements of the tuple:</p>",
   "id": "b8e3e8a09b69e6a6"
  },
  {
   "metadata": {
    "ExecuteTime": {
     "end_time": "2025-05-28T03:11:47.367592Z",
     "start_time": "2025-05-28T03:11:47.361895Z"
    }
   },
   "cell_type": "code",
   "source": "tuple2[3:5]",
   "id": "934e8bc351223aed",
   "outputs": [
    {
     "data": {
      "text/plain": [
       "('hard rock', 10)"
      ]
     },
     "execution_count": 9,
     "metadata": {},
     "output_type": "execute_result"
    }
   ],
   "execution_count": 9
  },
  {
   "metadata": {},
   "cell_type": "markdown",
   "source": "<p>We can obtain the length of a tuple using the length command:</p>",
   "id": "e1ed70aed4b1260e"
  },
  {
   "metadata": {
    "ExecuteTime": {
     "end_time": "2025-05-28T03:11:47.412307Z",
     "start_time": "2025-05-28T03:11:47.406172Z"
    }
   },
   "cell_type": "code",
   "source": "len(tuple2)",
   "id": "a829c18a500c524f",
   "outputs": [
    {
     "data": {
      "text/plain": [
       "5"
      ]
     },
     "execution_count": 10,
     "metadata": {},
     "output_type": "execute_result"
    }
   ],
   "execution_count": 10
  },
  {
   "metadata": {},
   "cell_type": "markdown",
   "source": "### Sorting",
   "id": "8d453375650f8a0b"
  },
  {
   "metadata": {},
   "cell_type": "markdown",
   "source": "<p>Consider the following tuple:</p>",
   "id": "1ac8f8b9ddb86851"
  },
  {
   "metadata": {
    "ExecuteTime": {
     "end_time": "2025-05-28T03:11:47.476454Z",
     "start_time": "2025-05-28T03:11:47.467577Z"
    }
   },
   "cell_type": "code",
   "source": [
    "Ratings = (0, 8, 5, 3, 4, 9, 7, 2, 9)\n",
    "Ratings"
   ],
   "id": "ebbc1d605fdb366",
   "outputs": [
    {
     "data": {
      "text/plain": [
       "(0, 8, 5, 3, 4, 9, 7, 2, 9)"
      ]
     },
     "execution_count": 11,
     "metadata": {},
     "output_type": "execute_result"
    }
   ],
   "execution_count": 11
  },
  {
   "metadata": {},
   "cell_type": "markdown",
   "source": "<p>We can sort the values in a tuple and save it to a new tuple:</p>",
   "id": "f1af8c370f1dc95d"
  },
  {
   "metadata": {
    "ExecuteTime": {
     "end_time": "2025-05-28T03:11:47.554853Z",
     "start_time": "2025-05-28T03:11:47.542917Z"
    }
   },
   "cell_type": "code",
   "source": [
    "RatingsSorted = sorted(Ratings)\n",
    "RatingsSorted"
   ],
   "id": "227be2cd19242b7b",
   "outputs": [
    {
     "data": {
      "text/plain": [
       "[0, 2, 3, 4, 5, 7, 8, 9, 9]"
      ]
     },
     "execution_count": 12,
     "metadata": {},
     "output_type": "execute_result"
    }
   ],
   "execution_count": 12
  },
  {
   "metadata": {},
   "cell_type": "markdown",
   "source": "### Nested Tuple",
   "id": "28ee165596ed70eb"
  },
  {
   "metadata": {},
   "cell_type": "markdown",
   "source": "<p>A tuple can contain another tuple as well as other more complex data types. This process is called \"nesting\". Consider the following tuple with several elements:</p>",
   "id": "29a9fefe9f6917e0"
  },
  {
   "metadata": {
    "ExecuteTime": {
     "end_time": "2025-05-28T03:11:47.641722Z",
     "start_time": "2025-05-28T03:11:47.629008Z"
    }
   },
   "cell_type": "code",
   "source": [
    "NestedTuple = (1, 2, (\"Rock\", \"Pop\"), (5, 6), (\"Disco\", (8, 9)))\n",
    "NestedTuple"
   ],
   "id": "88f576254e0176a4",
   "outputs": [
    {
     "data": {
      "text/plain": [
       "(1, 2, ('Rock', 'Pop'), (5, 6), ('Disco', (8, 9)))"
      ]
     },
     "execution_count": 13,
     "metadata": {},
     "output_type": "execute_result"
    }
   ],
   "execution_count": 13
  },
  {
   "metadata": {},
   "cell_type": "markdown",
   "source": "<p>Each element in the tuple, including other tuples, can be obtained via an index as shown in the figure:</p>",
   "id": "715de67e4aeba50c"
  },
  {
   "metadata": {},
   "cell_type": "markdown",
   "source": [
    "<table style=\"border: 1px solid\">\n",
    "<thead>\n",
    "<tr>\n",
    "    <th style=\"border: 1px solid; text-align: center\">Positive Index</th>\n",
    "    <th style=\"border: 1px solid; text-align: center\">Element</th>\n",
    "</tr>\n",
    "</thead>\n",
    "<tbody>\n",
    "<tr>\n",
    "    <td style=\"border: 1px solid; text-align: center\">0</td>\n",
    "    <td style=\"border: 1px solid; text-align: center\">1</td>\n",
    "</tr>\n",
    "<tr>\n",
    "    <td style=\"border: 1px solid; text-align: center\">1</td>\n",
    "    <td style=\"border: 1px solid; text-align: center\">2</td>\n",
    "</tr>\n",
    "<tr>\n",
    "    <td style=\"border: 1px solid; text-align: center\">2</td>\n",
    "    <td style=\"border: 1px solid; text-align: center\">(\"Rock\", \"Pop\")</td>\n",
    "</tr>\n",
    "<tr>\n",
    "    <td style=\"border: 1px solid; text-align: center\">3</td>\n",
    "    <td style=\"border: 1px solid; text-align: center\">(5, 6)</td>\n",
    "</tr>\n",
    "<tr>\n",
    "    <td style=\"border: 1px solid; text-align: center\">4</td>\n",
    "    <td style=\"border: 1px solid; text-align: center\">(\"Disco\", (8, 9))</td>\n",
    "</tr>\n",
    "</tbody>\n",
    "</table>"
   ],
   "id": "c9c07b7db2e90b99"
  },
  {
   "metadata": {
    "ExecuteTime": {
     "end_time": "2025-05-28T03:11:47.817110Z",
     "start_time": "2025-05-28T03:11:47.808830Z"
    }
   },
   "cell_type": "code",
   "source": [
    "print(\"Element 0 of Tuple: \", NestedTuple[0])\n",
    "print(\"Element 1 of Tuple: \", NestedTuple[1])\n",
    "print(\"Element 2 of Tuple: \", NestedTuple[2])\n",
    "print(\"Element 3 of Tuple: \", NestedTuple[3])\n",
    "print(\"Element 4 of Tuple: \", NestedTuple[4])"
   ],
   "id": "ba18a04f23930711",
   "outputs": [
    {
     "name": "stdout",
     "output_type": "stream",
     "text": [
      "Element 0 of Tuple:  1\n",
      "Element 1 of Tuple:  2\n",
      "Element 2 of Tuple:  ('Rock', 'Pop')\n",
      "Element 3 of Tuple:  (5, 6)\n",
      "Element 4 of Tuple:  ('Disco', (8, 9))\n"
     ]
    }
   ],
   "execution_count": 14
  },
  {
   "metadata": {},
   "cell_type": "markdown",
   "source": "<p>We can use the second index to access other tuples. For example:</p>",
   "id": "9f789709c2e94cf5"
  },
  {
   "metadata": {
    "ExecuteTime": {
     "end_time": "2025-05-28T03:11:47.905840Z",
     "start_time": "2025-05-28T03:11:47.892846Z"
    }
   },
   "cell_type": "code",
   "source": [
    "print(\"Element 2, 0 of Tuple: \", NestedTuple[2][0])\n",
    "print(\"Element 2, 1 of Tuple: \", NestedTuple[2][1])\n",
    "print(\"Element 3, 0 of Tuple: \", NestedTuple[3][0])\n",
    "print(\"Element 3, 1 of Tuple: \", NestedTuple[3][1])\n",
    "print(\"Element 4, 0 of Tuple: \", NestedTuple[4][0])\n",
    "print(\"Element 4, 1 of Tuple: \", NestedTuple[4][1])"
   ],
   "id": "14e81dff4726c250",
   "outputs": [
    {
     "name": "stdout",
     "output_type": "stream",
     "text": [
      "Element 2, 0 of Tuple:  Rock\n",
      "Element 2, 1 of Tuple:  Pop\n",
      "Element 3, 0 of Tuple:  5\n",
      "Element 3, 1 of Tuple:  6\n",
      "Element 4, 0 of Tuple:  Disco\n",
      "Element 4, 1 of Tuple:  (8, 9)\n"
     ]
    }
   ],
   "execution_count": 15
  },
  {
   "metadata": {},
   "cell_type": "markdown",
   "source": "<p>We can access strings in the second nested tuples using a third index:</p>",
   "id": "1c5ad5333481123"
  },
  {
   "metadata": {
    "ExecuteTime": {
     "end_time": "2025-05-28T03:11:47.976555Z",
     "start_time": "2025-05-28T03:11:47.971020Z"
    }
   },
   "cell_type": "code",
   "source": [
    "print(NestedTuple[2][1][0])\n",
    "print(NestedTuple[2][1][1])"
   ],
   "id": "39ab3b9f62e078ae",
   "outputs": [
    {
     "name": "stdout",
     "output_type": "stream",
     "text": [
      "P\n",
      "o\n"
     ]
    }
   ],
   "execution_count": 16
  },
  {
   "metadata": {},
   "cell_type": "markdown",
   "source": "<p>Similarly, we can access elements nested deeper in the tree with a third index:</p>",
   "id": "cfcbfa97674a1eb6"
  },
  {
   "metadata": {
    "ExecuteTime": {
     "end_time": "2025-05-28T03:11:48.026729Z",
     "start_time": "2025-05-28T03:11:48.020241Z"
    }
   },
   "cell_type": "code",
   "source": [
    "print(NestedTuple[4][1][0])\n",
    "print(NestedTuple[4][1][1])"
   ],
   "id": "7ec67d01643ea95d",
   "outputs": [
    {
     "name": "stdout",
     "output_type": "stream",
     "text": [
      "8\n",
      "9\n"
     ]
    }
   ],
   "execution_count": 17
  },
  {
   "metadata": {},
   "cell_type": "markdown",
   "source": "### Quiz on Tuples",
   "id": "cc0a2f371262214d"
  },
  {
   "metadata": {},
   "cell_type": "markdown",
   "source": "<p>Consider the following tuple:</p>",
   "id": "e6ad1e1142c1da42"
  },
  {
   "metadata": {
    "ExecuteTime": {
     "end_time": "2025-05-28T03:11:48.067884Z",
     "start_time": "2025-05-28T03:11:48.060208Z"
    }
   },
   "cell_type": "code",
   "source": [
    "genres_tuple = (\"pop\", \"rock\", \"soul\", \"hard rock\", \"soft rock\", \"R&B\", \"progressive rock\", \"disco\")\n",
    "genres_tuple"
   ],
   "id": "247ae496c1e9fc80",
   "outputs": [
    {
     "data": {
      "text/plain": [
       "('pop',\n",
       " 'rock',\n",
       " 'soul',\n",
       " 'hard rock',\n",
       " 'soft rock',\n",
       " 'R&B',\n",
       " 'progressive rock',\n",
       " 'disco')"
      ]
     },
     "execution_count": 18,
     "metadata": {},
     "output_type": "execute_result"
    }
   ],
   "execution_count": 18
  },
  {
   "metadata": {},
   "cell_type": "markdown",
   "source": "<p>Find the length of the tuple, <code>genres_tuple</code>:</p>",
   "id": "9aaf58a31d8fabb4"
  },
  {
   "metadata": {
    "ExecuteTime": {
     "end_time": "2025-05-28T03:11:48.154318Z",
     "start_time": "2025-05-28T03:11:48.147158Z"
    }
   },
   "cell_type": "code",
   "source": "len(genres_tuple)",
   "id": "3ada2907e29178ca",
   "outputs": [
    {
     "data": {
      "text/plain": [
       "8"
      ]
     },
     "execution_count": 19,
     "metadata": {},
     "output_type": "execute_result"
    }
   ],
   "execution_count": 19
  },
  {
   "metadata": {},
   "cell_type": "markdown",
   "source": "<p>Access the element, with respect to index 3:</p>",
   "id": "5bde8d8881c3c5db"
  },
  {
   "metadata": {
    "ExecuteTime": {
     "end_time": "2025-05-28T03:11:48.227833Z",
     "start_time": "2025-05-28T03:11:48.218421Z"
    }
   },
   "cell_type": "code",
   "source": "genres_tuple[3]",
   "id": "f9b9681e48c58df9",
   "outputs": [
    {
     "data": {
      "text/plain": [
       "'hard rock'"
      ]
     },
     "execution_count": 20,
     "metadata": {},
     "output_type": "execute_result"
    }
   ],
   "execution_count": 20
  },
  {
   "metadata": {},
   "cell_type": "markdown",
   "source": "<p>Use slicing to obtain indexes 3, 4 and 5:</p>",
   "id": "46aaa234c26ea433"
  },
  {
   "metadata": {
    "ExecuteTime": {
     "end_time": "2025-05-28T03:11:48.276215Z",
     "start_time": "2025-05-28T03:11:48.269007Z"
    }
   },
   "cell_type": "code",
   "source": "genres_tuple[3: 6]",
   "id": "5f1cc20a8865c13e",
   "outputs": [
    {
     "data": {
      "text/plain": [
       "('hard rock', 'soft rock', 'R&B')"
      ]
     },
     "execution_count": 21,
     "metadata": {},
     "output_type": "execute_result"
    }
   ],
   "execution_count": 21
  },
  {
   "metadata": {},
   "cell_type": "markdown",
   "source": "<p>Find the first two elements of the tuple <code>genres_tuple</code>:</p>",
   "id": "27c653ff10b5f628"
  },
  {
   "metadata": {
    "ExecuteTime": {
     "end_time": "2025-05-28T03:11:48.318834Z",
     "start_time": "2025-05-28T03:11:48.313267Z"
    }
   },
   "cell_type": "code",
   "source": "genres_tuple[0: 2]",
   "id": "86c67542f498953c",
   "outputs": [
    {
     "data": {
      "text/plain": [
       "('pop', 'rock')"
      ]
     },
     "execution_count": 22,
     "metadata": {},
     "output_type": "execute_result"
    }
   ],
   "execution_count": 22
  },
  {
   "metadata": {},
   "cell_type": "markdown",
   "source": "<p>Find the index of \"s\" in <code>\"disco\"</code>:</p>",
   "id": "8d352e363655bcf2"
  },
  {
   "metadata": {
    "ExecuteTime": {
     "end_time": "2025-05-28T03:11:48.369392Z",
     "start_time": "2025-05-28T03:11:48.354760Z"
    }
   },
   "cell_type": "code",
   "source": "genres_tuple[-1].find(\"s\")",
   "id": "e00f2d06c28fdd44",
   "outputs": [
    {
     "data": {
      "text/plain": [
       "2"
      ]
     },
     "execution_count": 23,
     "metadata": {},
     "output_type": "execute_result"
    }
   ],
   "execution_count": 23
  },
  {
   "metadata": {},
   "cell_type": "markdown",
   "source": "<p>Generate a sorted List from the Tuple <code>C_tuple = (-5, 1, -3)</code>:</p>",
   "id": "9277dcd7660d6340"
  },
  {
   "metadata": {
    "ExecuteTime": {
     "end_time": "2025-05-28T03:11:48.411793Z",
     "start_time": "2025-05-28T03:11:48.405332Z"
    }
   },
   "cell_type": "code",
   "source": [
    "C_tuple = (-5, 1, -3)\n",
    "print(C_tuple)\n",
    "Sorted_C_tuple = sorted(C_tuple)\n",
    "print(Sorted_C_tuple)"
   ],
   "id": "a8f2e12c309aacec",
   "outputs": [
    {
     "name": "stdout",
     "output_type": "stream",
     "text": [
      "(-5, 1, -3)\n",
      "[-5, -3, 1]\n"
     ]
    }
   ],
   "execution_count": 24
  },
  {
   "metadata": {},
   "cell_type": "markdown",
   "source": [
    "****\n",
    "This is the end of the file.\n",
    "****"
   ],
   "id": "feb483f3f1ff1c04"
  }
 ],
 "metadata": {
  "kernelspec": {
   "display_name": "Python 3",
   "language": "python",
   "name": "python3"
  },
  "language_info": {
   "codemirror_mode": {
    "name": "ipython",
    "version": 2
   },
   "file_extension": ".py",
   "mimetype": "text/x-python",
   "name": "python",
   "nbconvert_exporter": "python",
   "pygments_lexer": "ipython2",
   "version": "2.7.6"
  }
 },
 "nbformat": 4,
 "nbformat_minor": 5
}
