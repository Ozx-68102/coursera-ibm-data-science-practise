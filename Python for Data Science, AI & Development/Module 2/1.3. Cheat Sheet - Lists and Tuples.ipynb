{
 "cells": [
  {
   "metadata": {},
   "cell_type": "markdown",
   "source": "# Cheat Sheet: Lists and Tuples",
   "id": "5087e7b2fc79e9c7"
  },
  {
   "metadata": {},
   "cell_type": "markdown",
   "source": "## Lists",
   "id": "f05377e82fe2df3"
  },
  {
   "metadata": {},
   "cell_type": "markdown",
   "source": "### 1. append()",
   "id": "7817f42e5732b149"
  },
  {
   "metadata": {},
   "cell_type": "markdown",
   "source": "<p>The <code>append()</code> method is used to add an element to the end of a list.</p>",
   "id": "6699d6ab76bbb490"
  },
  {
   "metadata": {},
   "cell_type": "markdown",
   "source": [
    "**Syntax**:\n",
    "\n",
    "```Python\n",
    "list_name.append(element)\n",
    "```"
   ],
   "id": "cfc81e80e4f49814"
  },
  {
   "metadata": {
    "ExecuteTime": {
     "end_time": "2025-05-28T05:22:26.598112Z",
     "start_time": "2025-05-28T05:22:26.593822Z"
    }
   },
   "cell_type": "code",
   "source": [
    "from os import remove\n",
    "\n",
    "system_type = [\"Android\",\"iOS\", \"Linux\", \"Windows\"]\n",
    "print(system_type)\n",
    "system_type.append(\"HarmonyOS\")\n",
    "print(system_type)"
   ],
   "id": "125ec90ecc8822c0",
   "outputs": [
    {
     "name": "stdout",
     "output_type": "stream",
     "text": [
      "['Android', 'iOS', 'Linux', 'Windows']\n",
      "['Android', 'iOS', 'Linux', 'Windows', 'HarmonyOS']\n"
     ]
    }
   ],
   "execution_count": 1
  },
  {
   "metadata": {},
   "cell_type": "markdown",
   "source": "### 2. copy()",
   "id": "a6443bd085213eaa"
  },
  {
   "metadata": {},
   "cell_type": "markdown",
   "source": "<p>The <code>copy()</code> method is used to create a shallow copy of a list.</p>",
   "id": "9ff925c164c34dbb"
  },
  {
   "metadata": {
    "ExecuteTime": {
     "end_time": "2025-05-28T05:22:26.609914Z",
     "start_time": "2025-05-28T05:22:26.606868Z"
    }
   },
   "cell_type": "code",
   "source": [
    "my_list = [1, 2, 3, 4, 5]\n",
    "print(my_list)\n",
    "new_list = my_list.copy()\n",
    "print(new_list)"
   ],
   "id": "bbcef2f13bf2ae87",
   "outputs": [
    {
     "name": "stdout",
     "output_type": "stream",
     "text": [
      "[1, 2, 3, 4, 5]\n",
      "[1, 2, 3, 4, 5]\n"
     ]
    }
   ],
   "execution_count": 2
  },
  {
   "metadata": {},
   "cell_type": "markdown",
   "source": "### 3. count()",
   "id": "16d0e81459599229"
  },
  {
   "metadata": {},
   "cell_type": "markdown",
   "source": "<p>The <code>count()</code> method is used to count the number of occurrences of a specific element in a list in Python.</p>",
   "id": "62b93c00c5bb522d"
  },
  {
   "metadata": {
    "ExecuteTime": {
     "end_time": "2025-05-28T05:22:26.711341Z",
     "start_time": "2025-05-28T05:22:26.708928Z"
    }
   },
   "cell_type": "code",
   "source": [
    "count = my_list.count(2)\n",
    "print(count)"
   ],
   "id": "6aa599e82d637051",
   "outputs": [
    {
     "name": "stdout",
     "output_type": "stream",
     "text": [
      "1\n"
     ]
    }
   ],
   "execution_count": 3
  },
  {
   "metadata": {},
   "cell_type": "markdown",
   "source": "### 4. Creating a list",
   "id": "a9cffef46289e920"
  },
  {
   "metadata": {},
   "cell_type": "markdown",
   "source": "<p>A list is a built-in data type that represents an ordered and mutable collection of elements. Lists are enclosed in square brackets <code>[]</code> and elements are separated by commas.</p>",
   "id": "1597e618036fef5f"
  },
  {
   "metadata": {
    "ExecuteTime": {
     "end_time": "2025-05-28T05:22:26.729402Z",
     "start_time": "2025-05-28T05:22:26.726322Z"
    }
   },
   "cell_type": "code",
   "source": [
    "fruits = [\"apple\", \"banana\", \"cherry\"]\n",
    "print(fruits)"
   ],
   "id": "7bee903bf0a2cc50",
   "outputs": [
    {
     "name": "stdout",
     "output_type": "stream",
     "text": [
      "['apple', 'banana', 'cherry']\n"
     ]
    }
   ],
   "execution_count": 4
  },
  {
   "metadata": {},
   "cell_type": "markdown",
   "source": "### 5. del",
   "id": "d611af2d5013b865"
  },
  {
   "metadata": {},
   "cell_type": "markdown",
   "source": "<p>The <code>del</code> statement is used to remove an element from list. <code>del</code> statement removes the element at the specified index.</p>",
   "id": "78e42556eec8b2bf"
  },
  {
   "metadata": {
    "ExecuteTime": {
     "end_time": "2025-05-28T05:22:26.749217Z",
     "start_time": "2025-05-28T05:22:26.745999Z"
    }
   },
   "cell_type": "code",
   "source": [
    "print(my_list)\n",
    "del my_list[2]\n",
    "print(my_list)"
   ],
   "id": "c9e01949b9879afa",
   "outputs": [
    {
     "name": "stdout",
     "output_type": "stream",
     "text": [
      "[1, 2, 3, 4, 5]\n",
      "[1, 2, 4, 5]\n"
     ]
    }
   ],
   "execution_count": 5
  },
  {
   "metadata": {},
   "cell_type": "markdown",
   "source": "### 6. extend()",
   "id": "eb8d0005a5e6762f"
  },
  {
   "metadata": {},
   "cell_type": "markdown",
   "source": "<p>The <code>extend()</code> method is used to add multiple elements to a list. It takes an iterable (such as another list, tuple, or string) and appends each element of the iterable to the original list.</p>",
   "id": "e53a230d5622828a"
  },
  {
   "metadata": {},
   "cell_type": "markdown",
   "source": [
    "**Syntax**:\n",
    "\n",
    "```Python\n",
    "list_name.extend(iterable)\n",
    "```"
   ],
   "id": "faa560d8de39c059"
  },
  {
   "metadata": {
    "ExecuteTime": {
     "end_time": "2025-05-28T05:22:26.770905Z",
     "start_time": "2025-05-28T05:22:26.767791Z"
    }
   },
   "cell_type": "code",
   "source": [
    "print(fruits)\n",
    "more_fruits = [\"mango\", \"grape\"]\n",
    "fruits.extend(more_fruits)\n",
    "print(fruits)"
   ],
   "id": "c77b0607a2f0f751",
   "outputs": [
    {
     "name": "stdout",
     "output_type": "stream",
     "text": [
      "['apple', 'banana', 'cherry']\n",
      "['apple', 'banana', 'cherry', 'mango', 'grape']\n"
     ]
    }
   ],
   "execution_count": 6
  },
  {
   "metadata": {},
   "cell_type": "markdown",
   "source": "### 7. Indexing",
   "id": "cbf2d3338a46fd1d"
  },
  {
   "metadata": {},
   "cell_type": "markdown",
   "source": "<p>Indexing in a list allows you to access individual elements by their position. In Python, indexing starts from 0 for the first element and goes up to <code>length_of_list - 1</code>.</p>",
   "id": "75e544584caaf2bd"
  },
  {
   "metadata": {
    "ExecuteTime": {
     "end_time": "2025-05-28T05:22:26.791403Z",
     "start_time": "2025-05-28T05:22:26.787836Z"
    }
   },
   "cell_type": "code",
   "source": [
    "print(my_list)\n",
    "print(my_list[0])   # Accessing the first element\n",
    "print(my_list[-1])  # Accessing the last element using negative indexing"
   ],
   "id": "25d698bf37c01dd0",
   "outputs": [
    {
     "name": "stdout",
     "output_type": "stream",
     "text": [
      "[1, 2, 4, 5]\n",
      "1\n",
      "5\n"
     ]
    }
   ],
   "execution_count": 7
  },
  {
   "metadata": {},
   "cell_type": "markdown",
   "source": "### 8. insert()",
   "id": "5a566de28f78237e"
  },
  {
   "metadata": {},
   "cell_type": "markdown",
   "source": "<p>The <code>insert()</code> method is used to insert an element.</p>",
   "id": "a630b3558057953f"
  },
  {
   "metadata": {},
   "cell_type": "markdown",
   "source": [
    "**Syntax**:\n",
    "\n",
    "```Python\n",
    "list_name.insert(index, element)\n",
    "```"
   ],
   "id": "cf67d9a5d2192d97"
  },
  {
   "metadata": {
    "ExecuteTime": {
     "end_time": "2025-05-28T05:22:26.818967Z",
     "start_time": "2025-05-28T05:22:26.816096Z"
    }
   },
   "cell_type": "code",
   "source": [
    "print(my_list)\n",
    "my_list.insert(2, 6)\n",
    "print(my_list)"
   ],
   "id": "ef520f8db63b6a02",
   "outputs": [
    {
     "name": "stdout",
     "output_type": "stream",
     "text": [
      "[1, 2, 4, 5]\n",
      "[1, 2, 6, 4, 5]\n"
     ]
    }
   ],
   "execution_count": 8
  },
  {
   "metadata": {},
   "cell_type": "markdown",
   "source": "### 9. Modifying a list",
   "id": "33335abdad972a85"
  },
  {
   "metadata": {},
   "cell_type": "markdown",
   "source": "<p>You can use indexing to modify or assign new values to specific elements in the list.</p>",
   "id": "efd35ec052c5dd2f"
  },
  {
   "metadata": {
    "ExecuteTime": {
     "end_time": "2025-05-28T05:22:26.837679Z",
     "start_time": "2025-05-28T05:22:26.834402Z"
    }
   },
   "cell_type": "code",
   "source": [
    "print(my_list)\n",
    "my_list[1] = 9\n",
    "print(my_list)"
   ],
   "id": "89e186ff198f220a",
   "outputs": [
    {
     "name": "stdout",
     "output_type": "stream",
     "text": [
      "[1, 2, 6, 4, 5]\n",
      "[1, 9, 6, 4, 5]\n"
     ]
    }
   ],
   "execution_count": 9
  },
  {
   "metadata": {},
   "cell_type": "markdown",
   "source": "### 10. pop()",
   "id": "cc7a6c8e93035cc0"
  },
  {
   "metadata": {},
   "cell_type": "markdown",
   "source": "<p><code>pop()</code> method is another way to remove an element from a list in Python. It removes and returns the element at the specified index. If you don't provide an index to the <code>pop()</code> method, it will remove and return the last element of the list by default.</p>",
   "id": "5c8c19679a823584"
  },
  {
   "metadata": {
    "ExecuteTime": {
     "end_time": "2025-05-28T05:22:26.856614Z",
     "start_time": "2025-05-28T05:22:26.853196Z"
    }
   },
   "cell_type": "code",
   "source": [
    "# Example 1: specified index\n",
    "my_list = [10, 20, 30, 40, 50]\n",
    "removed_element = my_list.pop(2)\n",
    "print(\"Removed element:\", removed_element)\n",
    "print(\"List: \", my_list)"
   ],
   "id": "ada521a213594174",
   "outputs": [
    {
     "name": "stdout",
     "output_type": "stream",
     "text": [
      "Removed element: 30\n",
      "List:  [10, 20, 40, 50]\n"
     ]
    }
   ],
   "execution_count": 10
  },
  {
   "metadata": {
    "ExecuteTime": {
     "end_time": "2025-05-28T05:22:26.875975Z",
     "start_time": "2025-05-28T05:22:26.872426Z"
    }
   },
   "cell_type": "code",
   "source": [
    "# Example 2: default situation\n",
    "my_list = [10, 20, 30, 40, 50]\n",
    "removed_element = my_list.pop()\n",
    "print(\"Removed element:\", removed_element)\n",
    "print(\"List: \", my_list)"
   ],
   "id": "4579be9e17c47c42",
   "outputs": [
    {
     "name": "stdout",
     "output_type": "stream",
     "text": [
      "Removed element: 50\n",
      "List:  [10, 20, 30, 40]\n"
     ]
    }
   ],
   "execution_count": 11
  },
  {
   "metadata": {},
   "cell_type": "markdown",
   "source": "### 11. remove()",
   "id": "c3a9128821f44655"
  },
  {
   "metadata": {},
   "cell_type": "markdown",
   "source": "<p>To remove an element from a list. The <code>remove()</code> method removes the first occurrence of the specified value.</p>",
   "id": "dccbee029de3d5f2"
  },
  {
   "metadata": {
    "ExecuteTime": {
     "end_time": "2025-05-28T05:22:26.892872Z",
     "start_time": "2025-05-28T05:22:26.889601Z"
    }
   },
   "cell_type": "code",
   "source": [
    "my_list = [10, 20, 30, 40, 50]\n",
    "print(my_list)\n",
    "my_list.remove(30)  # Removes the element 30\n",
    "print(my_list)"
   ],
   "id": "ab606ff66951e8d0",
   "outputs": [
    {
     "name": "stdout",
     "output_type": "stream",
     "text": [
      "[10, 20, 30, 40, 50]\n",
      "[10, 20, 40, 50]\n"
     ]
    }
   ],
   "execution_count": 12
  },
  {
   "metadata": {},
   "cell_type": "markdown",
   "source": "### 12. reverse()",
   "id": "c34c56bd6e72fe1c"
  },
  {
   "metadata": {},
   "cell_type": "markdown",
   "source": "<p>The <code>reverse()</code> method is used to reverse the order of elements in a list.</p>",
   "id": "909bec7a53132dff"
  },
  {
   "metadata": {
    "ExecuteTime": {
     "end_time": "2025-05-28T05:22:26.927945Z",
     "start_time": "2025-05-28T05:22:26.924746Z"
    }
   },
   "cell_type": "code",
   "source": [
    "my_list = [10, 20, 30, 40, 50]\n",
    "print(my_list)\n",
    "my_list.reverse()\n",
    "print(my_list)"
   ],
   "id": "d39c89c3d0613f08",
   "outputs": [
    {
     "name": "stdout",
     "output_type": "stream",
     "text": [
      "[10, 20, 30, 40, 50]\n",
      "[50, 40, 30, 20, 10]\n"
     ]
    }
   ],
   "execution_count": 13
  },
  {
   "metadata": {},
   "cell_type": "markdown",
   "source": "### 13. Slicing",
   "id": "64ac0192f91f5a5a"
  },
  {
   "metadata": {},
   "cell_type": "markdown",
   "source": "<p>You can use slicing to access a range of elements from a list.</p>",
   "id": "dd5f09f5dbb86e43"
  },
  {
   "metadata": {
    "ExecuteTime": {
     "end_time": "2025-05-28T05:22:26.943190Z",
     "start_time": "2025-05-28T05:22:26.937974Z"
    }
   },
   "cell_type": "code",
   "source": [
    "# elements from index 1 to 3\n",
    "my_list = [10, 20, 30, 40, 50]\n",
    "print(my_list)\n",
    "my_list[1:4]"
   ],
   "id": "3be6799d84f7c8c",
   "outputs": [
    {
     "name": "stdout",
     "output_type": "stream",
     "text": [
      "[10, 20, 30, 40, 50]\n"
     ]
    },
    {
     "data": {
      "text/plain": [
       "[20, 30, 40]"
      ]
     },
     "execution_count": 14,
     "metadata": {},
     "output_type": "execute_result"
    }
   ],
   "execution_count": 14
  },
  {
   "metadata": {
    "ExecuteTime": {
     "end_time": "2025-05-28T05:22:26.968090Z",
     "start_time": "2025-05-28T05:22:26.964235Z"
    }
   },
   "cell_type": "code",
   "source": [
    "# elements from the beginning up to index 2\n",
    "my_list[:3]"
   ],
   "id": "b630e0febe3d07d",
   "outputs": [
    {
     "data": {
      "text/plain": [
       "[10, 20, 30]"
      ]
     },
     "execution_count": 15,
     "metadata": {},
     "output_type": "execute_result"
    }
   ],
   "execution_count": 15
  },
  {
   "metadata": {
    "ExecuteTime": {
     "end_time": "2025-05-28T05:22:26.992055Z",
     "start_time": "2025-05-28T05:22:26.988504Z"
    }
   },
   "cell_type": "code",
   "source": [
    "# elements from index 2 to the end\n",
    "my_list[2:]"
   ],
   "id": "93a13565f117da9f",
   "outputs": [
    {
     "data": {
      "text/plain": [
       "[30, 40, 50]"
      ]
     },
     "execution_count": 16,
     "metadata": {},
     "output_type": "execute_result"
    }
   ],
   "execution_count": 16
  },
  {
   "metadata": {
    "ExecuteTime": {
     "end_time": "2025-05-28T05:22:27.027501Z",
     "start_time": "2025-05-28T05:22:27.023926Z"
    }
   },
   "cell_type": "code",
   "source": [
    "# every second element\n",
    "my_list[::2]"
   ],
   "id": "7315fec79c557b2c",
   "outputs": [
    {
     "data": {
      "text/plain": [
       "[10, 30, 50]"
      ]
     },
     "execution_count": 17,
     "metadata": {},
     "output_type": "execute_result"
    }
   ],
   "execution_count": 17
  },
  {
   "metadata": {},
   "cell_type": "markdown",
   "source": "### 14. sort()",
   "id": "49d3c6d2c74c1559"
  },
  {
   "metadata": {},
   "cell_type": "markdown",
   "source": "<p>The <code>sort()</code> method is used to sort the elements of a list in ascending order. If you want to sort the list in descending order, you can pass the <code>reverse=True</code> argument to the <code>sort()</code> method.</p>",
   "id": "f4d4bcbdc8732049"
  },
  {
   "metadata": {
    "ExecuteTime": {
     "end_time": "2025-05-28T05:22:27.053288Z",
     "start_time": "2025-05-28T05:22:27.050717Z"
    }
   },
   "cell_type": "code",
   "source": [
    "# Example 1 - default situation\n",
    "my_list = [5, 2, 1, 3, 4]\n",
    "print(my_list)\n",
    "my_list.sort()\n",
    "print(my_list)"
   ],
   "id": "58053250252fc5b",
   "outputs": [
    {
     "name": "stdout",
     "output_type": "stream",
     "text": [
      "[5, 2, 1, 3, 4]\n",
      "[1, 2, 3, 4, 5]\n"
     ]
    }
   ],
   "execution_count": 18
  },
  {
   "metadata": {
    "ExecuteTime": {
     "end_time": "2025-05-28T05:22:27.071661Z",
     "start_time": "2025-05-28T05:22:27.069126Z"
    }
   },
   "cell_type": "code",
   "source": [
    "# Example 2 - reverse in descending order\n",
    "my_list = [6, 8, 9, 7, 10]\n",
    "print(my_list)\n",
    "my_list.sort(reverse=True)\n",
    "print(my_list)"
   ],
   "id": "517925e173193f94",
   "outputs": [
    {
     "name": "stdout",
     "output_type": "stream",
     "text": [
      "[6, 8, 9, 7, 10]\n",
      "[10, 9, 8, 7, 6]\n"
     ]
    }
   ],
   "execution_count": 19
  },
  {
   "metadata": {},
   "cell_type": "markdown",
   "source": "## Tuples",
   "id": "2139df5a597d28f"
  },
  {
   "metadata": {},
   "cell_type": "markdown",
   "source": "### 1. count()",
   "id": "e88cc0f1ad0f4e6b"
  },
  {
   "metadata": {},
   "cell_type": "markdown",
   "source": "The <code>count()</code> method for a tuple is used to count how many times a specified element appears in the tuple.",
   "id": "b6458d4a5344bc5c"
  },
  {
   "metadata": {},
   "cell_type": "markdown",
   "source": [
    "**Syntax**:\n",
    "\n",
    "```Python\n",
    "tuple.count(value)\n",
    "```"
   ],
   "id": "fe8ffda90c5705fd"
  },
  {
   "metadata": {
    "ExecuteTime": {
     "end_time": "2025-05-28T05:22:27.090350Z",
     "start_time": "2025-05-28T05:22:27.086803Z"
    }
   },
   "cell_type": "code",
   "source": [
    "fruits = (\"apple\", \"banana\", \"cherry\", \"apple\")\n",
    "fruits.count(\"apple\") # Counts the number of times apple is found in tuple."
   ],
   "id": "eafd24e872a7438f",
   "outputs": [
    {
     "data": {
      "text/plain": [
       "2"
      ]
     },
     "execution_count": 20,
     "metadata": {},
     "output_type": "execute_result"
    }
   ],
   "execution_count": 20
  },
  {
   "metadata": {},
   "cell_type": "markdown",
   "source": "### 2. index()",
   "id": "dc3e8e4f12c7fe02"
  },
  {
   "metadata": {},
   "cell_type": "markdown",
   "source": "<p>The <code>index()</code> method in a tuple is used to find the first occurrence of a specified value and returns its position (index). If the value is not found, it raises a ValueError.</p>",
   "id": "e7d0b9519ce44dc8"
  },
  {
   "metadata": {},
   "cell_type": "markdown",
   "source": [
    "**Syntax**:\n",
    "\n",
    "```Python\n",
    "tuple.index(value)\n",
    "```"
   ],
   "id": "95637b4bd0910685"
  },
  {
   "metadata": {
    "ExecuteTime": {
     "end_time": "2025-05-28T05:22:27.101034Z",
     "start_time": "2025-05-28T05:22:27.097006Z"
    }
   },
   "cell_type": "code",
   "source": "fruits.index(\"banana\")",
   "id": "bfe1a21de7bf9be3",
   "outputs": [
    {
     "data": {
      "text/plain": [
       "1"
      ]
     },
     "execution_count": 21,
     "metadata": {},
     "output_type": "execute_result"
    }
   ],
   "execution_count": 21
  },
  {
   "metadata": {},
   "cell_type": "markdown",
   "source": "### 3. sum()",
   "id": "ee4dc0c2c874ff7a"
  },
  {
   "metadata": {},
   "cell_type": "markdown",
   "source": "<p>The <code>sum()</code> function in Python can be used to calculate the sum of all elements in a tuple, provided that the elements are numeric (integers or floats).</p>",
   "id": "6c7bd7c80ed99ef"
  },
  {
   "metadata": {},
   "cell_type": "markdown",
   "source": [
    "**Syntax**:\n",
    "\n",
    "```Python\n",
    "sum(iterable)\n",
    "```"
   ],
   "id": "619f4aa47c3aa2b6"
  },
  {
   "metadata": {
    "ExecuteTime": {
     "end_time": "2025-05-28T05:22:27.124324Z",
     "start_time": "2025-05-28T05:22:27.120485Z"
    }
   },
   "cell_type": "code",
   "source": [
    "numbers = (1, 2, 3, 0, 6)\n",
    "sum(numbers)"
   ],
   "id": "6826845c2dc989bd",
   "outputs": [
    {
     "data": {
      "text/plain": [
       "12"
      ]
     },
     "execution_count": 22,
     "metadata": {},
     "output_type": "execute_result"
    }
   ],
   "execution_count": 22
  },
  {
   "metadata": {},
   "cell_type": "markdown",
   "source": "### 4. min() and max()",
   "id": "6f31e564648b1cbd"
  },
  {
   "metadata": {},
   "cell_type": "markdown",
   "source": "<p>Find the smallest (<code>min()</code>) or largest (<code>max()</code>) element in a tuple.</p>",
   "id": "93968a0f4bda9e6b"
  },
  {
   "metadata": {
    "ExecuteTime": {
     "end_time": "2025-05-28T05:22:27.140382Z",
     "start_time": "2025-05-28T05:22:27.137698Z"
    }
   },
   "cell_type": "code",
   "source": [
    "print(min(numbers))\n",
    "print(max(numbers))"
   ],
   "id": "8d31b259c2267beb",
   "outputs": [
    {
     "name": "stdout",
     "output_type": "stream",
     "text": [
      "0\n",
      "6\n"
     ]
    }
   ],
   "execution_count": 23
  },
  {
   "metadata": {},
   "cell_type": "markdown",
   "source": "### 5. len()",
   "id": "b465443a20071823"
  },
  {
   "metadata": {},
   "cell_type": "markdown",
   "source": "<p>Get the number of elements in the tuple using <code>len()</code>.</p>",
   "id": "b81c2938af28a851"
  },
  {
   "metadata": {},
   "cell_type": "markdown",
   "source": [
    "**Syntax**:\n",
    "\n",
    "```Python\n",
    "len(iterable)\n",
    "```"
   ],
   "id": "782a60ff105ad8ff"
  },
  {
   "metadata": {
    "ExecuteTime": {
     "end_time": "2025-05-28T05:22:27.158365Z",
     "start_time": "2025-05-28T05:22:27.154620Z"
    }
   },
   "cell_type": "code",
   "source": "len(numbers)",
   "id": "b5c66db84ca5f938",
   "outputs": [
    {
     "data": {
      "text/plain": [
       "5"
      ]
     },
     "execution_count": 24,
     "metadata": {},
     "output_type": "execute_result"
    }
   ],
   "execution_count": 24
  },
  {
   "metadata": {},
   "cell_type": "markdown",
   "source": [
    "****\n",
    "This is the end of the file.\n",
    "****"
   ],
   "id": "5474c35b2ce2340b"
  }
 ],
 "metadata": {
  "kernelspec": {
   "display_name": "Python 3",
   "language": "python",
   "name": "python3"
  },
  "language_info": {
   "codemirror_mode": {
    "name": "ipython",
    "version": 2
   },
   "file_extension": ".py",
   "mimetype": "text/x-python",
   "name": "python",
   "nbconvert_exporter": "python",
   "pygments_lexer": "ipython2",
   "version": "2.7.6"
  }
 },
 "nbformat": 4,
 "nbformat_minor": 5
}
