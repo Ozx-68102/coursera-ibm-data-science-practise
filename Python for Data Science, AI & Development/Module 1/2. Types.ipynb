{
 "cells": [
  {
   "metadata": {},
   "cell_type": "markdown",
   "source": "## Types of objects in Python",
   "id": "df93fb4c3f169dea"
  },
  {
   "metadata": {},
   "cell_type": "markdown",
   "source": "<p>Python is an object-oriented language. There are many different types of objects in Python. Let's start with the most common object types: <i>strings</i>, <i>integers</i> and <i>floats</i>. Anytime you write words (text) in Python, you're using <i>character strings</i> (strings for short). The most common numbers, on the other hand, are <i>integers</i> (e.g. -1, 0, 100) and <i>floats</i>, which represent real numbers (e.g. 3.14, -42.0).</p>",
   "id": "ade11c6d1913220c"
  },
  {
   "metadata": {},
   "cell_type": "markdown",
   "source": "Here are some examples:",
   "id": "a2942676c0bbdfd4"
  },
  {
   "metadata": {
    "ExecuteTime": {
     "end_time": "2025-05-27T03:22:31.091058Z",
     "start_time": "2025-05-27T03:22:31.079811Z"
    }
   },
   "cell_type": "code",
   "source": [
    "# integer\n",
    "1"
   ],
   "id": "83884e411d16084f",
   "outputs": [
    {
     "data": {
      "text/plain": [
       "1"
      ]
     },
     "execution_count": 2,
     "metadata": {},
     "output_type": "execute_result"
    }
   ],
   "execution_count": 2
  },
  {
   "metadata": {
    "ExecuteTime": {
     "end_time": "2025-05-27T03:22:46.203724Z",
     "start_time": "2025-05-27T03:22:46.194099Z"
    }
   },
   "cell_type": "code",
   "source": [
    "# float\n",
    "1.1"
   ],
   "id": "815f51d9553f04aa",
   "outputs": [
    {
     "data": {
      "text/plain": [
       "1.1"
      ]
     },
     "execution_count": 4,
     "metadata": {},
     "output_type": "execute_result"
    }
   ],
   "execution_count": 4
  },
  {
   "metadata": {
    "ExecuteTime": {
     "end_time": "2025-05-27T03:23:10.230128Z",
     "start_time": "2025-05-27T03:23:10.223560Z"
    }
   },
   "cell_type": "code",
   "source": [
    "# str\n",
    "\"A\""
   ],
   "id": "58e1b771b7dea91",
   "outputs": [
    {
     "data": {
      "text/plain": [
       "'A'"
      ]
     },
     "execution_count": 6,
     "metadata": {},
     "output_type": "execute_result"
    }
   ],
   "execution_count": 6
  },
  {
   "metadata": {},
   "cell_type": "markdown",
   "source": "<p>You can get Python to tell you the type of an expression by using the built-in <code>type()</code> function. You'll notice that Python refers to integers as <code>int</code>, floats as <code>float</code>, and character strings as <code>str</code>.</p>",
   "id": "f3ae5fe79e2f5bf0"
  },
  {
   "metadata": {
    "ExecuteTime": {
     "end_time": "2025-05-27T03:23:50.512815Z",
     "start_time": "2025-05-27T03:23:50.506156Z"
    }
   },
   "cell_type": "code",
   "source": [
    "# type of 1\n",
    "type(1)"
   ],
   "id": "b2c9eccdb9ed6f6",
   "outputs": [
    {
     "data": {
      "text/plain": [
       "int"
      ]
     },
     "execution_count": 8,
     "metadata": {},
     "output_type": "execute_result"
    }
   ],
   "execution_count": 8
  },
  {
   "metadata": {
    "ExecuteTime": {
     "end_time": "2025-05-27T03:23:58.545982Z",
     "start_time": "2025-05-27T03:23:58.540388Z"
    }
   },
   "cell_type": "code",
   "source": [
    "# type of 1.1\n",
    "type(1.1)"
   ],
   "id": "81aabd54712891cc",
   "outputs": [
    {
     "data": {
      "text/plain": [
       "float"
      ]
     },
     "execution_count": 10,
     "metadata": {},
     "output_type": "execute_result"
    }
   ],
   "execution_count": 10
  },
  {
   "metadata": {
    "ExecuteTime": {
     "end_time": "2025-05-27T03:24:14.174994Z",
     "start_time": "2025-05-27T03:24:14.165330Z"
    }
   },
   "cell_type": "code",
   "source": [
    "# type of \"A\"\n",
    "type(\"A\")"
   ],
   "id": "7e3f522ab081125c",
   "outputs": [
    {
     "data": {
      "text/plain": [
       "str"
      ]
     },
     "execution_count": 12,
     "metadata": {},
     "output_type": "execute_result"
    }
   ],
   "execution_count": 12
  },
  {
   "metadata": {},
   "cell_type": "markdown",
   "source": "### Integers",
   "id": "7836af1ff0816ac1"
  },
  {
   "metadata": {},
   "cell_type": "markdown",
   "source": [
    "<p>Here are some examples of integers. Integers can be negative or positive numbers:</p>\n",
    "-4, -3, -2, -1, 0, 1, 2, 3, 4"
   ],
   "id": "f6bc7699d35d1cc6"
  },
  {
   "metadata": {},
   "cell_type": "markdown",
   "source": "<p>We can verify this is the case by using, you guessed it, the <code>type()</code> function:\n",
   "id": "5031efb574225c1"
  },
  {
   "metadata": {
    "ExecuteTime": {
     "end_time": "2025-05-27T03:27:48.202576Z",
     "start_time": "2025-05-27T03:27:48.193119Z"
    }
   },
   "cell_type": "code",
   "source": "type(-1)",
   "id": "cba8d40688d5d50b",
   "outputs": [
    {
     "data": {
      "text/plain": [
       "int"
      ]
     },
     "execution_count": 13,
     "metadata": {},
     "output_type": "execute_result"
    }
   ],
   "execution_count": 13
  },
  {
   "metadata": {
    "ExecuteTime": {
     "end_time": "2025-05-27T03:27:55.702950Z",
     "start_time": "2025-05-27T03:27:55.695330Z"
    }
   },
   "cell_type": "code",
   "source": "type(0)",
   "id": "de7dda43ba671f83",
   "outputs": [
    {
     "data": {
      "text/plain": [
       "int"
      ]
     },
     "execution_count": 14,
     "metadata": {},
     "output_type": "execute_result"
    }
   ],
   "execution_count": 14
  },
  {
   "metadata": {
    "ExecuteTime": {
     "end_time": "2025-05-27T03:28:01.610095Z",
     "start_time": "2025-05-27T03:28:01.604508Z"
    }
   },
   "cell_type": "code",
   "source": "type(2)",
   "id": "9d4971c014dc8001",
   "outputs": [
    {
     "data": {
      "text/plain": [
       "int"
      ]
     },
     "execution_count": 15,
     "metadata": {},
     "output_type": "execute_result"
    }
   ],
   "execution_count": 15
  },
  {
   "metadata": {},
   "cell_type": "markdown",
   "source": "### Floats",
   "id": "ca80f92cad7fe25c"
  },
  {
   "metadata": {},
   "cell_type": "markdown",
   "source": [
    "<p>Floats represent real numbers; they are a superset of integer numbers but also include \"numbers with decimals\". There are some limitations when it comes to machines representing real numbers, but floating point numbers are a good representation in most cases. You can learn more about the specifics of floats for your runtime environment, by checking the value of <code>sys.float_info</code>. This will also tell you what's the largest and smallest number that can be represented with them.</p>\n",
    "\n",
    "<p>Once again, can test some examples with the <code>type()</code> function:"
   ],
   "id": "91ea8c64c63345f"
  },
  {
   "metadata": {
    "ExecuteTime": {
     "end_time": "2025-05-27T03:29:01.956662Z",
     "start_time": "2025-05-27T03:29:01.946068Z"
    }
   },
   "cell_type": "code",
   "source": "type(1.00)",
   "id": "faf41e52f1f15d58",
   "outputs": [
    {
     "data": {
      "text/plain": [
       "float"
      ]
     },
     "execution_count": 16,
     "metadata": {},
     "output_type": "execute_result"
    }
   ],
   "execution_count": 16
  },
  {
   "metadata": {
    "ExecuteTime": {
     "end_time": "2025-05-27T03:29:09.071623Z",
     "start_time": "2025-05-27T03:29:09.060205Z"
    }
   },
   "cell_type": "code",
   "source": "type(1.555)",
   "id": "2ad58aa89c821422",
   "outputs": [
    {
     "data": {
      "text/plain": [
       "float"
      ]
     },
     "execution_count": 17,
     "metadata": {},
     "output_type": "execute_result"
    }
   ],
   "execution_count": 17
  },
  {
   "metadata": {
    "ExecuteTime": {
     "end_time": "2025-05-27T03:29:29.948593Z",
     "start_time": "2025-05-27T03:29:29.944340Z"
    }
   },
   "cell_type": "code",
   "source": [
    "import sys\n",
    "print(sys.float_info)"
   ],
   "id": "7db4feba86edb7cb",
   "outputs": [
    {
     "name": "stdout",
     "output_type": "stream",
     "text": [
      "sys.float_info(max=1.7976931348623157e+308, max_exp=1024, max_10_exp=308, min=2.2250738585072014e-308, min_exp=-1021, min_10_exp=-307, dig=15, mant_dig=53, epsilon=2.220446049250313e-16, radix=2, rounds=1)\n"
     ]
    }
   ],
   "execution_count": 18
  },
  {
   "metadata": {},
   "cell_type": "markdown",
   "source": "### Converting from one object type to a different object type",
   "id": "b700e1ddf539ffd0"
  },
  {
   "metadata": {},
   "cell_type": "markdown",
   "source": [
    "<p>You can change the type of the object in Python; this is called typecasting. For example, you can convert an <i>integer</i> into a <i>float</i> (e.g. 2 to 2.0).</p>\n",
    "<p>Let's try it:</p>"
   ],
   "id": "68607a9cd2465cfd"
  },
  {
   "metadata": {
    "ExecuteTime": {
     "end_time": "2025-05-27T03:30:35.746872Z",
     "start_time": "2025-05-27T03:30:35.740583Z"
    }
   },
   "cell_type": "code",
   "source": "type(2)",
   "id": "5b8f8b64c5168a26",
   "outputs": [
    {
     "data": {
      "text/plain": [
       "int"
      ]
     },
     "execution_count": 19,
     "metadata": {},
     "output_type": "execute_result"
    }
   ],
   "execution_count": 19
  },
  {
   "metadata": {
    "ExecuteTime": {
     "end_time": "2025-05-27T03:30:40.311505Z",
     "start_time": "2025-05-27T03:30:40.306387Z"
    }
   },
   "cell_type": "code",
   "source": "float(2)",
   "id": "5c3c053db3097ce6",
   "outputs": [
    {
     "data": {
      "text/plain": [
       "2.0"
      ]
     },
     "execution_count": 20,
     "metadata": {},
     "output_type": "execute_result"
    }
   ],
   "execution_count": 20
  },
  {
   "metadata": {
    "ExecuteTime": {
     "end_time": "2025-05-27T03:30:46.372617Z",
     "start_time": "2025-05-27T03:30:46.364784Z"
    }
   },
   "cell_type": "code",
   "source": "type(float(2))",
   "id": "d89e0ab4402e1312",
   "outputs": [
    {
     "data": {
      "text/plain": [
       "float"
      ]
     },
     "execution_count": 21,
     "metadata": {},
     "output_type": "execute_result"
    }
   ],
   "execution_count": 21
  },
  {
   "metadata": {},
   "cell_type": "markdown",
   "source": "<p>When we convert an integer into a float, we don't really change the value (i.e., the significand) of the number. However, if we cast a float into an integer, we could potentially lose some information. For example, if we cast the float 1.1 to integer we will get 1 and lose the decimal information (i.e., 0.1):</p>",
   "id": "6aaf1683bb7c80dc"
  },
  {
   "metadata": {
    "ExecuteTime": {
     "end_time": "2025-05-27T03:31:26.504886Z",
     "start_time": "2025-05-27T03:31:26.496018Z"
    }
   },
   "cell_type": "code",
   "source": "int(1.1)",
   "id": "9cfb05afdd8982f5",
   "outputs": [
    {
     "data": {
      "text/plain": [
       "1"
      ]
     },
     "execution_count": 22,
     "metadata": {},
     "output_type": "execute_result"
    }
   ],
   "execution_count": 22
  },
  {
   "metadata": {},
   "cell_type": "markdown",
   "source": "<h4>Converting from strings to integers or floats</h4>",
   "id": "28e1c7d113d5cad6"
  },
  {
   "metadata": {},
   "cell_type": "markdown",
   "source": "<p>Sometimes, we can have a string that contains a number within it. If this is the case, we can cast that string that represents a number into an integer using <code>int()</code>:</p>",
   "id": "2dfa2f10862e3822"
  },
  {
   "metadata": {
    "ExecuteTime": {
     "end_time": "2025-05-27T03:32:19.112270Z",
     "start_time": "2025-05-27T03:32:19.099324Z"
    }
   },
   "cell_type": "code",
   "source": "int(\"1\")",
   "id": "419ecb0965a30eb0",
   "outputs": [
    {
     "data": {
      "text/plain": [
       "1"
      ]
     },
     "execution_count": 23,
     "metadata": {},
     "output_type": "execute_result"
    }
   ],
   "execution_count": 23
  },
  {
   "metadata": {},
   "cell_type": "markdown",
   "source": "<p>But if you try to do so with a string that is not a perfect match for a number, you'll get an error. For example:</p>",
   "id": "2ffeca02c025fb0f"
  },
  {
   "metadata": {
    "ExecuteTime": {
     "end_time": "2025-05-27T03:33:14.212303Z",
     "start_time": "2025-05-27T03:33:13.742790Z"
    }
   },
   "cell_type": "code",
   "source": "int(\"There is 1 apple on the desk.\")",
   "id": "b0e7a2645dc3b67d",
   "outputs": [
    {
     "ename": "ValueError",
     "evalue": "invalid literal for int() with base 10: 'There is 1 apple on the desk.'",
     "output_type": "error",
     "traceback": [
      "\u001B[31m---------------------------------------------------------------------------\u001B[39m",
      "\u001B[31mValueError\u001B[39m                                Traceback (most recent call last)",
      "\u001B[36mCell\u001B[39m\u001B[36m \u001B[39m\u001B[32mIn[24]\u001B[39m\u001B[32m, line 1\u001B[39m\n\u001B[32m----> \u001B[39m\u001B[32m1\u001B[39m \u001B[38;5;28;43mint\u001B[39;49m\u001B[43m(\u001B[49m\u001B[33;43m\"\u001B[39;49m\u001B[33;43mThere is 1 apple on the desk.\u001B[39;49m\u001B[33;43m\"\u001B[39;49m\u001B[43m)\u001B[49m\n",
      "\u001B[31mValueError\u001B[39m: invalid literal for int() with base 10: 'There is 1 apple on the desk.'"
     ]
    }
   ],
   "execution_count": 24
  },
  {
   "metadata": {},
   "cell_type": "markdown",
   "source": "<p>You can also convert strings containing floating point numbers into <i>float</i> objects:</p>",
   "id": "8aa690cc5ed084b3"
  },
  {
   "metadata": {
    "ExecuteTime": {
     "end_time": "2025-05-27T03:33:53.136020Z",
     "start_time": "2025-05-27T03:33:53.128105Z"
    }
   },
   "cell_type": "code",
   "source": "float(\"1.1\")",
   "id": "1e53cdbe329d8d86",
   "outputs": [
    {
     "data": {
      "text/plain": [
       "1.1"
      ]
     },
     "execution_count": 25,
     "metadata": {},
     "output_type": "execute_result"
    }
   ],
   "execution_count": 25
  },
  {
   "metadata": {},
   "cell_type": "markdown",
   "source": [
    "<div class=\"alert alert-success alertsuccess\" style=\"margin-top: 20px\">\n",
    "    [Tip:] Note that strings can be represented with single quotes (<code>'1.2'</code>) or double quotes (<code>\"1.2\"</code>), but you can't mix both (e.g., <code>\"1.2'</code>).\n",
    "</div>"
   ],
   "id": "fa7184a2b3ef81bf"
  },
  {
   "metadata": {},
   "cell_type": "markdown",
   "source": "### Convert numbers to strings",
   "id": "f481cdb69e42e16a"
  },
  {
   "metadata": {},
   "cell_type": "markdown",
   "source": "<p>If we can convert strings to numbers, it is only natural to assume that we can convert numbers to strings, right?</p>",
   "id": "f94b075dd47f799c"
  },
  {
   "metadata": {
    "ExecuteTime": {
     "end_time": "2025-05-27T03:35:19.807764Z",
     "start_time": "2025-05-27T03:35:19.799027Z"
    }
   },
   "cell_type": "code",
   "source": [
    "# convert an integer to a string\n",
    "str(1)"
   ],
   "id": "e8fe293253064c36",
   "outputs": [
    {
     "data": {
      "text/plain": [
       "'1'"
      ]
     },
     "execution_count": 26,
     "metadata": {},
     "output_type": "execute_result"
    }
   ],
   "execution_count": 26
  },
  {
   "metadata": {
    "ExecuteTime": {
     "end_time": "2025-05-27T03:35:53.400959Z",
     "start_time": "2025-05-27T03:35:53.395414Z"
    }
   },
   "cell_type": "code",
   "source": [
    "# convert a float to a string\n",
    "str(1.1)"
   ],
   "id": "bb63ca5929c02ce",
   "outputs": [
    {
     "data": {
      "text/plain": [
       "'1.1'"
      ]
     },
     "execution_count": 27,
     "metadata": {},
     "output_type": "execute_result"
    }
   ],
   "execution_count": 27
  },
  {
   "metadata": {},
   "cell_type": "markdown",
   "source": "### Boolean data type",
   "id": "e8ceca537448f7d3"
  },
  {
   "metadata": {},
   "cell_type": "markdown",
   "source": "<p><i>Boolean</i> is another important type in Python. An object of type <i>Boolean</i> can take on one of two values: <code>True</code> or <code>False</code>:</p>",
   "id": "7978c7e4f82f51bf"
  },
  {
   "metadata": {
    "ExecuteTime": {
     "end_time": "2025-05-27T03:36:40.406414Z",
     "start_time": "2025-05-27T03:36:40.400634Z"
    }
   },
   "cell_type": "code",
   "source": "True",
   "id": "7fc746d3aedd0eb4",
   "outputs": [
    {
     "data": {
      "text/plain": [
       "True"
      ]
     },
     "execution_count": 28,
     "metadata": {},
     "output_type": "execute_result"
    }
   ],
   "execution_count": 28
  },
  {
   "metadata": {},
   "cell_type": "markdown",
   "source": "<p>Notice that the value <code>True</code> has an uppercase \"T\". The same is true for <code>False</code> (i.e. you must use the uppercase \"F\").</p>",
   "id": "201ad0dd02b8265f"
  },
  {
   "metadata": {
    "ExecuteTime": {
     "end_time": "2025-05-27T03:37:10.384598Z",
     "start_time": "2025-05-27T03:37:10.378566Z"
    }
   },
   "cell_type": "code",
   "source": "False",
   "id": "6aabea4ba895b33",
   "outputs": [
    {
     "data": {
      "text/plain": [
       "False"
      ]
     },
     "execution_count": 30,
     "metadata": {},
     "output_type": "execute_result"
    }
   ],
   "execution_count": 30
  },
  {
   "metadata": {},
   "cell_type": "markdown",
   "source": "<p>When you ask Python to display the type of a boolean object it will show <code>bool</code> which stands for <i>boolean</i>:</p>",
   "id": "1e38afb2d86685c4"
  },
  {
   "metadata": {
    "ExecuteTime": {
     "end_time": "2025-05-27T03:37:29.734342Z",
     "start_time": "2025-05-27T03:37:29.727950Z"
    }
   },
   "cell_type": "code",
   "source": "type(True)",
   "id": "5e26dfaa4a186b13",
   "outputs": [
    {
     "data": {
      "text/plain": [
       "bool"
      ]
     },
     "execution_count": 31,
     "metadata": {},
     "output_type": "execute_result"
    }
   ],
   "execution_count": 31
  },
  {
   "metadata": {
    "ExecuteTime": {
     "end_time": "2025-05-27T03:37:39.148959Z",
     "start_time": "2025-05-27T03:37:39.141137Z"
    }
   },
   "cell_type": "code",
   "source": "type(False)",
   "id": "3324ddf3f9dfe7dd",
   "outputs": [
    {
     "data": {
      "text/plain": [
       "bool"
      ]
     },
     "execution_count": 32,
     "metadata": {},
     "output_type": "execute_result"
    }
   ],
   "execution_count": 32
  },
  {
   "metadata": {},
   "cell_type": "markdown",
   "source": "<p>We can cast boolean objects to other data types. If we cast a boolean with a value of <code>True</code> to an integer or float we will get a one. If we cast a boolean with a value of <code>False</code> to an integer or float we will get a zero. Similarly, if we cast a 1 to a Boolean, you get a <code>True</code>. And if we cast a 0 to a Boolean we will get a <code>False</code>. Let's give it a try:</p>",
   "id": "2a617c0160c39200"
  },
  {
   "metadata": {
    "ExecuteTime": {
     "end_time": "2025-05-27T03:38:04.934534Z",
     "start_time": "2025-05-27T03:38:04.927991Z"
    }
   },
   "cell_type": "code",
   "source": [
    "# convert true to int\n",
    "int(True)"
   ],
   "id": "d7247701ef51f43f",
   "outputs": [
    {
     "data": {
      "text/plain": [
       "1"
      ]
     },
     "execution_count": 33,
     "metadata": {},
     "output_type": "execute_result"
    }
   ],
   "execution_count": 33
  },
  {
   "metadata": {
    "ExecuteTime": {
     "end_time": "2025-05-27T03:38:08.649228Z",
     "start_time": "2025-05-27T03:38:08.639282Z"
    }
   },
   "cell_type": "code",
   "source": [
    "# convert true to float\n",
    "float(True)"
   ],
   "id": "9be876be3dec3004",
   "outputs": [
    {
     "data": {
      "text/plain": [
       "1.0"
      ]
     },
     "execution_count": 34,
     "metadata": {},
     "output_type": "execute_result"
    }
   ],
   "execution_count": 34
  },
  {
   "metadata": {
    "ExecuteTime": {
     "end_time": "2025-05-27T03:38:17.092303Z",
     "start_time": "2025-05-27T03:38:17.086575Z"
    }
   },
   "cell_type": "code",
   "source": [
    "# convert integer 1 to boolean\n",
    "bool(1)"
   ],
   "id": "7c01f6423fe8a4a8",
   "outputs": [
    {
     "data": {
      "text/plain": [
       "True"
      ]
     },
     "execution_count": 35,
     "metadata": {},
     "output_type": "execute_result"
    }
   ],
   "execution_count": 35
  },
  {
   "metadata": {
    "ExecuteTime": {
     "end_time": "2025-05-27T03:42:26.425100Z",
     "start_time": "2025-05-27T03:42:26.417729Z"
    }
   },
   "cell_type": "code",
   "source": [
    "# convert integer 0 to boolean\n",
    "bool(0)"
   ],
   "id": "7b2f566d152b10da",
   "outputs": [
    {
     "data": {
      "text/plain": [
       "False"
      ]
     },
     "execution_count": 39,
     "metadata": {},
     "output_type": "execute_result"
    }
   ],
   "execution_count": 39
  },
  {
   "metadata": {},
   "cell_type": "markdown",
   "source": "For numeric-to-boolean casting: Only 0 (and 0.0 for floats) is converted to <code>False</code>—all other numeric values (e.g., 1, -3, 2.71) will become <code>True</code>.",
   "id": "9080c276b8f3ebcf"
  },
  {
   "metadata": {
    "ExecuteTime": {
     "end_time": "2025-05-27T03:41:04.570871Z",
     "start_time": "2025-05-27T03:41:04.564878Z"
    }
   },
   "cell_type": "code",
   "source": "bool(-1.1)",
   "id": "87ff9f92f337937e",
   "outputs": [
    {
     "data": {
      "text/plain": [
       "True"
      ]
     },
     "execution_count": 38,
     "metadata": {},
     "output_type": "execute_result"
    }
   ],
   "execution_count": 38
  },
  {
   "metadata": {
    "ExecuteTime": {
     "end_time": "2025-05-27T03:42:48.388781Z",
     "start_time": "2025-05-27T03:42:48.379263Z"
    }
   },
   "cell_type": "code",
   "source": "bool(1.2)",
   "id": "68b0c42624a838df",
   "outputs": [
    {
     "data": {
      "text/plain": [
       "True"
      ]
     },
     "execution_count": 40,
     "metadata": {},
     "output_type": "execute_result"
    }
   ],
   "execution_count": 40
  },
  {
   "metadata": {},
   "cell_type": "markdown",
   "source": "### Some exercise: Types",
   "id": "e1ab6c04f6200042"
  },
  {
   "metadata": {},
   "cell_type": "markdown",
   "source": "<p>What is the data type of the result of: <code>6 / 2</code>?</p>",
   "id": "29be737d8351fd23"
  },
  {
   "metadata": {
    "ExecuteTime": {
     "end_time": "2025-05-27T03:46:46.749116Z",
     "start_time": "2025-05-27T03:46:46.738769Z"
    }
   },
   "cell_type": "code",
   "source": [
    "a = 6/2\n",
    "print(a)\n",
    "type(a)"
   ],
   "id": "3aa3f423ef5cf0c3",
   "outputs": [
    {
     "name": "stdout",
     "output_type": "stream",
     "text": [
      "3.0\n"
     ]
    },
    {
     "data": {
      "text/plain": [
       "float"
      ]
     },
     "execution_count": 43,
     "metadata": {},
     "output_type": "execute_result"
    }
   ],
   "execution_count": 43
  },
  {
   "metadata": {},
   "cell_type": "markdown",
   "source": "<p>What is the type of the result of: <code>6 // 2</code>? (Note the double slash <code>//</code>.)</p>",
   "id": "46ca769946a99363"
  },
  {
   "metadata": {
    "ExecuteTime": {
     "end_time": "2025-05-27T03:46:50.195523Z",
     "start_time": "2025-05-27T03:46:50.188882Z"
    }
   },
   "cell_type": "code",
   "source": [
    "b = 6//2\n",
    "print(b)\n",
    "type(b)"
   ],
   "id": "b5d6d3bc5c17fd2",
   "outputs": [
    {
     "name": "stdout",
     "output_type": "stream",
     "text": [
      "3\n"
     ]
    },
    {
     "data": {
      "text/plain": [
       "int"
      ]
     },
     "execution_count": 44,
     "metadata": {},
     "output_type": "execute_result"
    }
   ],
   "execution_count": 44
  },
  {
   "metadata": {},
   "cell_type": "markdown",
   "source": "What is the type of the result of: <code>\"Hello, World!\"</code>",
   "id": "90b1cc75564ed74e"
  },
  {
   "metadata": {
    "ExecuteTime": {
     "end_time": "2025-05-27T03:47:26.116427Z",
     "start_time": "2025-05-27T03:47:26.107866Z"
    }
   },
   "cell_type": "code",
   "source": "type(\"Hello, World!\")",
   "id": "a9f3b42bbe21287",
   "outputs": [
    {
     "data": {
      "text/plain": [
       "str"
      ]
     },
     "execution_count": 45,
     "metadata": {},
     "output_type": "execute_result"
    }
   ],
   "execution_count": 45
  },
  {
   "metadata": {},
   "cell_type": "markdown",
   "source": "What is the type of the result of: <code>\"hello\" == \"world\"</code>",
   "id": "7863587345dddefd"
  },
  {
   "metadata": {
    "ExecuteTime": {
     "end_time": "2025-05-27T03:48:12.130106Z",
     "start_time": "2025-05-27T03:48:12.119081Z"
    }
   },
   "cell_type": "code",
   "source": [
    "c = \"hello\" == \"world\"\n",
    "print(c)\n",
    "type(c)"
   ],
   "id": "43c8a08cdb8c21ac",
   "outputs": [
    {
     "name": "stdout",
     "output_type": "stream",
     "text": [
      "False\n"
     ]
    },
    {
     "data": {
      "text/plain": [
       "bool"
      ]
     },
     "execution_count": 47,
     "metadata": {},
     "output_type": "execute_result"
    }
   ],
   "execution_count": 47
  },
  {
   "metadata": {},
   "cell_type": "markdown",
   "source": "Write the code to convert the following number representing employeeid **\"1001\"** to an integer",
   "id": "5ea48da8c580f958"
  },
  {
   "metadata": {
    "ExecuteTime": {
     "end_time": "2025-05-27T03:49:02.256700Z",
     "start_time": "2025-05-27T03:49:02.250198Z"
    }
   },
   "cell_type": "code",
   "source": "int(\"1001\")",
   "id": "adb0c5ce2ba12d02",
   "outputs": [
    {
     "data": {
      "text/plain": [
       "1001"
      ]
     },
     "execution_count": 48,
     "metadata": {},
     "output_type": "execute_result"
    }
   ],
   "execution_count": 48
  },
  {
   "metadata": {},
   "cell_type": "markdown",
   "source": "Write the code to convert this number representing financial value **\"1234.56\"** to a floating point number",
   "id": "3025cbb685896ba0"
  },
  {
   "metadata": {},
   "cell_type": "code",
   "outputs": [],
   "execution_count": null,
   "source": "float(\"1234.56\")",
   "id": "b8a651b351846ca2"
  },
  {
   "metadata": {},
   "cell_type": "markdown",
   "source": "Write the code to convert this phone number **123-456-7890** to a string",
   "id": "b95c96694519b49e"
  },
  {
   "metadata": {
    "ExecuteTime": {
     "end_time": "2025-05-27T04:27:38.484143Z",
     "start_time": "2025-05-27T04:27:38.477530Z"
    }
   },
   "cell_type": "code",
   "source": "str(\"123-456-7890\")",
   "id": "47606199a1d648c9",
   "outputs": [
    {
     "data": {
      "text/plain": [
       "'123-456-7890'"
      ]
     },
     "execution_count": 1,
     "metadata": {},
     "output_type": "execute_result"
    }
   ],
   "execution_count": 1
  },
  {
   "metadata": {},
   "cell_type": "markdown",
   "source": [
    "****\n",
    "Okay, this is the end of this file.\n",
    "****"
   ],
   "id": "4fe8bcd26209184d"
  }
 ],
 "metadata": {
  "kernelspec": {
   "display_name": "Python 3",
   "language": "python",
   "name": "python3"
  },
  "language_info": {
   "codemirror_mode": {
    "name": "ipython",
    "version": 2
   },
   "file_extension": ".py",
   "mimetype": "text/x-python",
   "name": "python",
   "nbconvert_exporter": "python",
   "pygments_lexer": "ipython2",
   "version": "2.7.6"
  }
 },
 "nbformat": 4,
 "nbformat_minor": 5
}
