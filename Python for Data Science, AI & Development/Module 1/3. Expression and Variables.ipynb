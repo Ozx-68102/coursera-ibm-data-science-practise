{
 "cells": [
  {
   "metadata": {},
   "cell_type": "markdown",
   "source": "### Expressions",
   "id": "ca8ba9f22fb057"
  },
  {
   "metadata": {},
   "cell_type": "markdown",
   "source": "<p>Expressions in Python can include operations among compatible types (e.g., integers and floats). For example, basic arithmetic operations like adding multiple numbers:</p>",
   "id": "421157e8504ec413"
  },
  {
   "metadata": {
    "ExecuteTime": {
     "end_time": "2025-05-27T07:35:04.551868Z",
     "start_time": "2025-05-27T07:35:04.545808Z"
    }
   },
   "cell_type": "code",
   "source": [
    "# Addition operation expression\n",
    "40 + 66 + 5 + 90"
   ],
   "id": "8430b8a4c9ff7529",
   "outputs": [
    {
     "data": {
      "text/plain": [
       "201"
      ]
     },
     "execution_count": 1,
     "metadata": {},
     "output_type": "execute_result"
    }
   ],
   "execution_count": 1
  },
  {
   "metadata": {},
   "cell_type": "markdown",
   "source": "<p>We can perform subtraction operations using the minus operator. In this case the result is a negative number:</p>",
   "id": "fec642f27f87233e"
  },
  {
   "metadata": {
    "ExecuteTime": {
     "end_time": "2025-05-27T07:35:49.382676Z",
     "start_time": "2025-05-27T07:35:49.379029Z"
    }
   },
   "cell_type": "code",
   "source": [
    "# Subtraction operation expression\n",
    "80 - 100"
   ],
   "id": "36401cff960a8939",
   "outputs": [
    {
     "data": {
      "text/plain": [
       "-20"
      ]
     },
     "execution_count": 2,
     "metadata": {},
     "output_type": "execute_result"
    }
   ],
   "execution_count": 2
  },
  {
   "metadata": {},
   "cell_type": "markdown",
   "source": "<p>We can do multiplication using an asterisk:</p>",
   "id": "27b230457209f49f"
  },
  {
   "metadata": {
    "ExecuteTime": {
     "end_time": "2025-05-27T07:36:31.999758Z",
     "start_time": "2025-05-27T07:36:31.996599Z"
    }
   },
   "cell_type": "code",
   "source": [
    "# Multiplication operation expression\n",
    "10 * 3"
   ],
   "id": "59c6beab3b25287a",
   "outputs": [
    {
     "data": {
      "text/plain": [
       "30"
      ]
     },
     "execution_count": 3,
     "metadata": {},
     "output_type": "execute_result"
    }
   ],
   "execution_count": 3
  },
  {
   "metadata": {},
   "cell_type": "markdown",
   "source": "<p>We can also perform division with the forward slash:",
   "id": "9858483fa1e36150"
  },
  {
   "metadata": {
    "ExecuteTime": {
     "end_time": "2025-05-27T07:37:30.758098Z",
     "start_time": "2025-05-27T07:37:30.754433Z"
    }
   },
   "cell_type": "code",
   "source": [
    "# Division operation expression\n",
    "a = 36 / 6\n",
    "print(a)\n",
    "type(a)"
   ],
   "id": "ee80d4e0046ac136",
   "outputs": [
    {
     "name": "stdout",
     "output_type": "stream",
     "text": [
      "6.0\n"
     ]
    },
    {
     "data": {
      "text/plain": [
       "float"
      ]
     },
     "execution_count": 5,
     "metadata": {},
     "output_type": "execute_result"
    }
   ],
   "execution_count": 5
  },
  {
   "metadata": {
    "ExecuteTime": {
     "end_time": "2025-05-27T07:37:56.218307Z",
     "start_time": "2025-05-27T07:37:56.213877Z"
    }
   },
   "cell_type": "code",
   "source": [
    "b = 36 / 5\n",
    "print(b)\n",
    "type(b)"
   ],
   "id": "bc8d3fe51d82f382",
   "outputs": [
    {
     "name": "stdout",
     "output_type": "stream",
     "text": [
      "7.2\n"
     ]
    },
    {
     "data": {
      "text/plain": [
       "float"
      ]
     },
     "execution_count": 6,
     "metadata": {},
     "output_type": "execute_result"
    }
   ],
   "execution_count": 6
  },
  {
   "metadata": {},
   "cell_type": "markdown",
   "source": "<p>As seen in the quiz above, we can use the double slash for integer division, where the result is rounded down to the nearest integer:</p>",
   "id": "7fe13e0cf2b093f6"
  },
  {
   "metadata": {
    "ExecuteTime": {
     "end_time": "2025-05-27T07:38:36.789659Z",
     "start_time": "2025-05-27T07:38:36.786175Z"
    }
   },
   "cell_type": "code",
   "source": [
    "# Integer division operation expression\n",
    "49 // 7"
   ],
   "id": "bfec5e95ac924dc9",
   "outputs": [
    {
     "data": {
      "text/plain": [
       "7"
      ]
     },
     "execution_count": 7,
     "metadata": {},
     "output_type": "execute_result"
    }
   ],
   "execution_count": 7
  },
  {
   "metadata": {
    "ExecuteTime": {
     "end_time": "2025-05-27T07:38:47.176808Z",
     "start_time": "2025-05-27T07:38:47.174094Z"
    }
   },
   "cell_type": "code",
   "source": "49 // 8",
   "id": "88ba249ec7a42821",
   "outputs": [
    {
     "data": {
      "text/plain": [
       "6"
      ]
     },
     "execution_count": 8,
     "metadata": {},
     "output_type": "execute_result"
    }
   ],
   "execution_count": 8
  },
  {
   "metadata": {},
   "cell_type": "markdown",
   "source": "<p>Let's write an expression that calculates how many hours there are in 160 minutes:</p>",
   "id": "fee5e508b63775e4"
  },
  {
   "metadata": {
    "ExecuteTime": {
     "end_time": "2025-05-27T07:39:13.911214Z",
     "start_time": "2025-05-27T07:39:13.907686Z"
    }
   },
   "cell_type": "code",
   "source": "160//60",
   "id": "b4a01656cf520c1c",
   "outputs": [
    {
     "data": {
      "text/plain": [
       "2"
      ]
     },
     "execution_count": 9,
     "metadata": {},
     "output_type": "execute_result"
    }
   ],
   "execution_count": 9
  },
  {
   "metadata": {},
   "cell_type": "markdown",
   "source": "<p>Python follows well accepted mathematical conventions when evaluating mathematical expressions. In the following example, Python adds 30 to the result of the multiplication (i.e., 120).</p>",
   "id": "f309d4d78463a1bb"
  },
  {
   "metadata": {
    "ExecuteTime": {
     "end_time": "2025-05-27T07:40:45.535333Z",
     "start_time": "2025-05-27T07:40:45.532003Z"
    }
   },
   "cell_type": "code",
   "source": [
    "# Mathematical expression\n",
    "80 + 3 * 29"
   ],
   "id": "38100286fa6d93e",
   "outputs": [
    {
     "data": {
      "text/plain": [
       "167"
      ]
     },
     "execution_count": 10,
     "metadata": {},
     "output_type": "execute_result"
    }
   ],
   "execution_count": 10
  },
  {
   "metadata": {},
   "cell_type": "markdown",
   "source": "<p>And just like mathematics, expressions enclosed in parentheses have priority. So the following multiplies 32 by 60.</p>",
   "id": "96e2c13bee397618"
  },
  {
   "metadata": {
    "ExecuteTime": {
     "end_time": "2025-05-27T07:41:17.862253Z",
     "start_time": "2025-05-27T07:41:17.858950Z"
    }
   },
   "cell_type": "code",
   "source": "60 * (30 + 2)",
   "id": "5a3733f48ff4dfc5",
   "outputs": [
    {
     "data": {
      "text/plain": [
       "1920"
      ]
     },
     "execution_count": 11,
     "metadata": {},
     "output_type": "execute_result"
    }
   ],
   "execution_count": 11
  },
  {
   "metadata": {},
   "cell_type": "markdown",
   "source": "### Variables",
   "id": "eaa4006c9bcd2b1a"
  },
  {
   "metadata": {},
   "cell_type": "markdown",
   "source": "<p>Just like with most programming languages, we can store values in <i>variables</i>, so we can use them later on. For example:</p>",
   "id": "4ec5f8900df369c"
  },
  {
   "metadata": {
    "ExecuteTime": {
     "end_time": "2025-05-27T07:42:01.367648Z",
     "start_time": "2025-05-27T07:42:01.364716Z"
    }
   },
   "cell_type": "code",
   "source": "x = 90 + 88 + 56 + 90",
   "id": "e81c97c5207e5aae",
   "outputs": [],
   "execution_count": 12
  },
  {
   "metadata": {},
   "cell_type": "markdown",
   "source": "<p>To see the value of <code>x</code> in a Notebook, we can simply place it on the last line of a cell:</p>",
   "id": "275d2772b1217708"
  },
  {
   "metadata": {
    "ExecuteTime": {
     "end_time": "2025-05-27T07:42:43.272187Z",
     "start_time": "2025-05-27T07:42:43.268534Z"
    }
   },
   "cell_type": "code",
   "source": [
    "# Print out the value of a variable in Jupyter Notebook Environment\n",
    "x"
   ],
   "id": "f451db9b7d06f93a",
   "outputs": [
    {
     "data": {
      "text/plain": [
       "324"
      ]
     },
     "execution_count": 13,
     "metadata": {},
     "output_type": "execute_result"
    }
   ],
   "execution_count": 13
  },
  {
   "metadata": {},
   "cell_type": "markdown",
   "source": "<p>We can also perform operations on <code>x</code> and save the result to a new variable:</p>",
   "id": "7076ad3bb2706b27"
  },
  {
   "metadata": {
    "ExecuteTime": {
     "end_time": "2025-05-27T07:45:09.305772Z",
     "start_time": "2025-05-27T07:45:09.302895Z"
    }
   },
   "cell_type": "code",
   "source": [
    "# use another variable to store the result of the operation between variable and value\n",
    "y = x / 8\n",
    "y"
   ],
   "id": "cffaf8d36a617779",
   "outputs": [
    {
     "data": {
      "text/plain": [
       "40.5"
      ]
     },
     "execution_count": 14,
     "metadata": {},
     "output_type": "execute_result"
    }
   ],
   "execution_count": 14
  },
  {
   "metadata": {},
   "cell_type": "markdown",
   "source": "<p>If we save a value to an existing variable, the new value will overwrite the previous value:</p>",
   "id": "d9e1603e1cb363b8"
  },
  {
   "metadata": {
    "ExecuteTime": {
     "end_time": "2025-05-27T07:45:58.691877Z",
     "start_time": "2025-05-27T07:45:58.688187Z"
    }
   },
   "cell_type": "code",
   "source": [
    "# Overwrite variable with new value\n",
    "\n",
    "x = x / 60\n",
    "x"
   ],
   "id": "78fcaa30506204ed",
   "outputs": [
    {
     "data": {
      "text/plain": [
       "5.4"
      ]
     },
     "execution_count": 15,
     "metadata": {},
     "output_type": "execute_result"
    }
   ],
   "execution_count": 15
  },
  {
   "metadata": {},
   "cell_type": "markdown",
   "source": "<p>It's a good practice to use meaningful variable names, so you and others can read the code and understand it more easily:</p>",
   "id": "1b3f43c14173e0fd"
  },
  {
   "metadata": {
    "ExecuteTime": {
     "end_time": "2025-05-27T07:47:22.518660Z",
     "start_time": "2025-05-27T07:47:22.515730Z"
    }
   },
   "cell_type": "code",
   "source": [
    "# Name the variables meaningfully\n",
    "total_min = 39 + 33 + 55\n",
    "total_min"
   ],
   "id": "71aa481f407eeeaa",
   "outputs": [
    {
     "data": {
      "text/plain": [
       "127"
      ]
     },
     "execution_count": 18,
     "metadata": {},
     "output_type": "execute_result"
    }
   ],
   "execution_count": 18
  },
  {
   "metadata": {
    "ExecuteTime": {
     "end_time": "2025-05-27T07:47:23.344158Z",
     "start_time": "2025-05-27T07:47:23.341074Z"
    }
   },
   "cell_type": "code",
   "source": [
    "total_hours = total_min / 60\n",
    "total_hours"
   ],
   "id": "a38f08f46c5b57e3",
   "outputs": [
    {
     "data": {
      "text/plain": [
       "2.1166666666666667"
      ]
     },
     "execution_count": 19,
     "metadata": {},
     "output_type": "execute_result"
    }
   ],
   "execution_count": 19
  },
  {
   "metadata": {},
   "cell_type": "markdown",
   "source": "<p>In the cells above we added the length of three albums in minutes and stored it in <code>total_min</code>. We then divided it by 60 to calculate total length <code>total_hours</code> in hours. You can also do it all at once in a single expression, as long as you use parenthesis to add the albums length before you divide, as shown below.</p>",
   "id": "167ecce27d27f4e"
  },
  {
   "metadata": {
    "ExecuteTime": {
     "end_time": "2025-05-27T07:48:11.959072Z",
     "start_time": "2025-05-27T07:48:11.956218Z"
    }
   },
   "cell_type": "code",
   "source": [
    "# ComplicateD expression\n",
    "\n",
    "total_hours = (43 + 42 + 57) / 60  # Total hours in a single expression\n",
    "total_hours"
   ],
   "id": "16ce53ab5ae4092c",
   "outputs": [
    {
     "data": {
      "text/plain": [
       "2.3666666666666667"
      ]
     },
     "execution_count": 20,
     "metadata": {},
     "output_type": "execute_result"
    }
   ],
   "execution_count": 20
  },
  {
   "metadata": {},
   "cell_type": "markdown",
   "source": "<p>If you'd rather have total hours as an integer, you can of course replace the floating point division with integer division (i.e., <code>//</code>).</p>",
   "id": "bb81e5640fb63175"
  },
  {
   "metadata": {},
   "cell_type": "markdown",
   "source": "### Exercise: Expressions in Python",
   "id": "88bbedd67b03513b"
  },
  {
   "metadata": {},
   "cell_type": "markdown",
   "source": "Write an expression to add 30 and 20 and subtract 40:",
   "id": "8b4c9ddf868dcc8c"
  },
  {
   "metadata": {
    "ExecuteTime": {
     "end_time": "2025-05-27T07:52:36.665025Z",
     "start_time": "2025-05-27T07:52:36.661684Z"
    }
   },
   "cell_type": "code",
   "source": "30 + 20 - 40",
   "id": "2ca9172c73b980b2",
   "outputs": [
    {
     "data": {
      "text/plain": [
       "10"
      ]
     },
     "execution_count": 26,
     "metadata": {},
     "output_type": "execute_result"
    }
   ],
   "execution_count": 26
  },
  {
   "metadata": {},
   "cell_type": "markdown",
   "source": "Write an expression to subtract 5 from 55 and divide the result by 10:",
   "id": "84a120683cad8c84"
  },
  {
   "metadata": {
    "ExecuteTime": {
     "end_time": "2025-05-27T07:52:37.624445Z",
     "start_time": "2025-05-27T07:52:37.621762Z"
    }
   },
   "cell_type": "code",
   "source": "(55 - 5) / 10",
   "id": "e7534ff495be6a20",
   "outputs": [
    {
     "data": {
      "text/plain": [
       "5.0"
      ]
     },
     "execution_count": 27,
     "metadata": {},
     "output_type": "execute_result"
    }
   ],
   "execution_count": 27
  },
  {
   "metadata": {},
   "cell_type": "markdown",
   "source": "Write an expression to multiply 6 with 10 and divide the result by 12:",
   "id": "83cd6480c80a5954"
  },
  {
   "metadata": {
    "ExecuteTime": {
     "end_time": "2025-05-27T07:52:38.538255Z",
     "start_time": "2025-05-27T07:52:38.534584Z"
    }
   },
   "cell_type": "code",
   "source": "(6 * 10) / 12",
   "id": "23eb23a02dd038e9",
   "outputs": [
    {
     "data": {
      "text/plain": [
       "5.0"
      ]
     },
     "execution_count": 28,
     "metadata": {},
     "output_type": "execute_result"
    }
   ],
   "execution_count": 28
  },
  {
   "metadata": {},
   "cell_type": "markdown",
   "source": "### Exercise: Variables in Python",
   "id": "f042f698a9826274"
  },
  {
   "metadata": {},
   "cell_type": "markdown",
   "source": "<p>What is the value of <code>x</code> where <code>x = 3 + 2 * 2</code></p>",
   "id": "89d258662400136c"
  },
  {
   "metadata": {
    "ExecuteTime": {
     "end_time": "2025-05-27T07:52:48.985265Z",
     "start_time": "2025-05-27T07:52:48.982118Z"
    }
   },
   "cell_type": "code",
   "source": [
    "x = 3 + 2 * 2\n",
    "x"
   ],
   "id": "30abc01f215c421a",
   "outputs": [
    {
     "data": {
      "text/plain": [
       "7"
      ]
     },
     "execution_count": 29,
     "metadata": {},
     "output_type": "execute_result"
    }
   ],
   "execution_count": 29
  },
  {
   "metadata": {},
   "cell_type": "markdown",
   "source": "<p>What is the value of <code>y</code> where <code>y = (3 + 2) * 2</code>?</p>",
   "id": "6707d4c187c7efb0"
  },
  {
   "metadata": {
    "ExecuteTime": {
     "end_time": "2025-05-27T07:53:27.071284Z",
     "start_time": "2025-05-27T07:53:27.067015Z"
    }
   },
   "cell_type": "code",
   "source": [
    "y = (3 + 2) * 2\n",
    "y"
   ],
   "id": "4a6985218d0ef47e",
   "outputs": [
    {
     "data": {
      "text/plain": [
       "10"
      ]
     },
     "execution_count": 30,
     "metadata": {},
     "output_type": "execute_result"
    }
   ],
   "execution_count": 30
  },
  {
   "metadata": {},
   "cell_type": "markdown",
   "source": "<p>What is the value of <code>z</code> where <code>z = x + y</code>?</p>",
   "id": "fd3ceea19b9514c9"
  },
  {
   "metadata": {
    "ExecuteTime": {
     "end_time": "2025-05-27T07:53:59.817673Z",
     "start_time": "2025-05-27T07:53:59.814493Z"
    }
   },
   "cell_type": "code",
   "source": [
    "z = x + y\n",
    "z"
   ],
   "id": "be1cdbe40ded08ee",
   "outputs": [
    {
     "data": {
      "text/plain": [
       "17"
      ]
     },
     "execution_count": 31,
     "metadata": {},
     "output_type": "execute_result"
    }
   ],
   "execution_count": 31
  },
  {
   "metadata": {},
   "cell_type": "markdown",
   "source": [
    "****\n",
    "This is the end of this file.\n",
    "****"
   ],
   "id": "5590d9c47d02b895"
  }
 ],
 "metadata": {
  "kernelspec": {
   "display_name": "Python 3",
   "language": "python",
   "name": "python3"
  },
  "language_info": {
   "codemirror_mode": {
    "name": "ipython",
    "version": 2
   },
   "file_extension": ".py",
   "mimetype": "text/x-python",
   "name": "python",
   "nbconvert_exporter": "python",
   "pygments_lexer": "ipython2",
   "version": "2.7.6"
  }
 },
 "nbformat": 4,
 "nbformat_minor": 5
}
