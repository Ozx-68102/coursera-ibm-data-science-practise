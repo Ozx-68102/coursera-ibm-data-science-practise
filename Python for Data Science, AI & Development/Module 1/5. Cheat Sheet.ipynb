{
 "cells": [
  {
   "metadata": {},
   "cell_type": "markdown",
   "source": "## Cheat Sheet: Python Basics",
   "id": "a057f190fee32b6a"
  },
  {
   "metadata": {},
   "cell_type": "markdown",
   "source": "### 1. Comments",
   "id": "8e8bc5f3097a71bf"
  },
  {
   "metadata": {},
   "cell_type": "markdown",
   "source": "<p>Comments are lines of text that are ignored by the Python interpreter when executing the code.</p>",
   "id": "f133151fbceea708"
  },
  {
   "metadata": {
    "ExecuteTime": {
     "end_time": "2025-05-27T14:56:59.466729Z",
     "start_time": "2025-05-27T14:56:59.463187Z"
    }
   },
   "cell_type": "code",
   "source": "# This is a comment.",
   "id": "9896b61df9dc50ef",
   "outputs": [],
   "execution_count": 1
  },
  {
   "metadata": {},
   "cell_type": "markdown",
   "source": "### 2. Concatenation",
   "id": "79cb5621e854c509"
  },
  {
   "metadata": {},
   "cell_type": "markdown",
   "source": "<p>Combines (concatenates) strings.</p>",
   "id": "4f74e6932b69a11b"
  },
  {
   "metadata": {},
   "cell_type": "markdown",
   "source": [
    "**Syntax:**\n",
    "```Python\n",
    "concatenated_string = string1 + string2\n",
    "```"
   ],
   "id": "2c01b8eadb179233"
  },
  {
   "metadata": {
    "ExecuteTime": {
     "end_time": "2025-05-27T14:56:59.480822Z",
     "start_time": "2025-05-27T14:56:59.475690Z"
    }
   },
   "cell_type": "code",
   "source": [
    "result = \"Hello\" + \" John.\"\n",
    "result"
   ],
   "id": "4ce140312d1f2446",
   "outputs": [
    {
     "data": {
      "text/plain": [
       "'Hello John.'"
      ]
     },
     "execution_count": 2,
     "metadata": {},
     "output_type": "execute_result"
    }
   ],
   "execution_count": 2
  },
  {
   "metadata": {},
   "cell_type": "markdown",
   "source": "### 3. Data Types",
   "id": "d1d3cb2263bf92a5"
  },
  {
   "metadata": {},
   "cell_type": "markdown",
   "source": "<p>Integer, Float, Boolean and String.</p>",
   "id": "240dac0080b2a2ec"
  },
  {
   "metadata": {
    "ExecuteTime": {
     "end_time": "2025-05-27T14:56:59.580579Z",
     "start_time": "2025-05-27T14:56:59.575500Z"
    }
   },
   "cell_type": "code",
   "source": [
    "# Integer\n",
    "x = 7\n",
    "print(x)\n",
    "type(x)\n",
    "\n",
    "# Float\n",
    "y = 7.1\n",
    "print(y)\n",
    "type(y)\n",
    "\n",
    "# Boolean - True\n",
    "p = True\n",
    "print(p)\n",
    "type(p)\n",
    "\n",
    "# Boolean - False\n",
    "q = False\n",
    "print(q)\n",
    "type(q)\n",
    "\n",
    "# String\n",
    "name = \"Tommy\"\n",
    "print(name)\n",
    "type(name)"
   ],
   "id": "62bcce0e2246b3e9",
   "outputs": [
    {
     "name": "stdout",
     "output_type": "stream",
     "text": [
      "7\n",
      "7.1\n",
      "True\n",
      "False\n",
      "Tommy\n"
     ]
    },
    {
     "data": {
      "text/plain": [
       "str"
      ]
     },
     "execution_count": 3,
     "metadata": {},
     "output_type": "execute_result"
    }
   ],
   "execution_count": 3
  },
  {
   "metadata": {},
   "cell_type": "markdown",
   "source": "### 4. Indexing",
   "id": "c852a1ede2a339"
  },
  {
   "metadata": {},
   "cell_type": "markdown",
   "source": "<p>Accesses character at a specific index.</p>",
   "id": "b1f245a590ca3032"
  },
  {
   "metadata": {
    "ExecuteTime": {
     "end_time": "2025-05-27T14:56:59.611937Z",
     "start_time": "2025-05-27T14:56:59.608106Z"
    }
   },
   "cell_type": "code",
   "source": [
    "string = \"Hello, my friend!\"\n",
    "char = string[0]\n",
    "print(char)"
   ],
   "id": "f5fbbfe5783ae502",
   "outputs": [
    {
     "name": "stdout",
     "output_type": "stream",
     "text": [
      "H\n"
     ]
    }
   ],
   "execution_count": 4
  },
  {
   "metadata": {},
   "cell_type": "markdown",
   "source": "### 5. len()",
   "id": "71f908971c3fc0"
  },
  {
   "metadata": {},
   "cell_type": "markdown",
   "source": "<p>Returns the length of a string.</p>",
   "id": "1089f6b011076cec"
  },
  {
   "metadata": {},
   "cell_type": "markdown",
   "source": [
    "**Syntax:**\n",
    "```Python\n",
    "len(string_name)\n",
    "```"
   ],
   "id": "44be57c80bcdd4e6"
  },
  {
   "metadata": {
    "ExecuteTime": {
     "end_time": "2025-05-27T14:56:59.640033Z",
     "start_time": "2025-05-27T14:56:59.636315Z"
    }
   },
   "cell_type": "code",
   "source": "len(string)",
   "id": "438c4ee113f37751",
   "outputs": [
    {
     "data": {
      "text/plain": [
       "17"
      ]
     },
     "execution_count": 5,
     "metadata": {},
     "output_type": "execute_result"
    }
   ],
   "execution_count": 5
  },
  {
   "metadata": {},
   "cell_type": "markdown",
   "source": "### 6. lower()",
   "id": "1fc064721e511b9e"
  },
  {
   "metadata": {},
   "cell_type": "markdown",
   "source": "<p>Converts string to lowercase.</p>",
   "id": "22363a6435b50be6"
  },
  {
   "metadata": {
    "ExecuteTime": {
     "end_time": "2025-05-27T14:56:59.668524Z",
     "start_time": "2025-05-27T14:56:59.664508Z"
    }
   },
   "cell_type": "code",
   "source": [
    "lower_string = string.lower()\n",
    "lower_string"
   ],
   "id": "c97b600bed620a7d",
   "outputs": [
    {
     "data": {
      "text/plain": [
       "'hello, my friend!'"
      ]
     },
     "execution_count": 6,
     "metadata": {},
     "output_type": "execute_result"
    }
   ],
   "execution_count": 6
  },
  {
   "metadata": {},
   "cell_type": "markdown",
   "source": "### 7. print()",
   "id": "aeba0d8f064a18cb"
  },
  {
   "metadata": {},
   "cell_type": "markdown",
   "source": "<p>Prints the message or variable inside <code>()</code>.</p>",
   "id": "8228f6368aa1d678"
  },
  {
   "metadata": {
    "ExecuteTime": {
     "end_time": "2025-05-27T14:56:59.706353Z",
     "start_time": "2025-05-27T14:56:59.702623Z"
    }
   },
   "cell_type": "code",
   "source": [
    "print(\"Hello, world!\")\n",
    "# or\n",
    "print(1 + 2)\n",
    "# or\n",
    "a = \"My name is\"\n",
    "b = \" SuperHero\"\n",
    "print(a + b)"
   ],
   "id": "7b347817bb88e7cd",
   "outputs": [
    {
     "name": "stdout",
     "output_type": "stream",
     "text": [
      "Hello, world!\n",
      "3\n",
      "My name is SuperHero\n"
     ]
    }
   ],
   "execution_count": 7
  },
  {
   "metadata": {},
   "cell_type": "markdown",
   "source": "### 8. Python Operators",
   "id": "506827f422d9fbe5"
  },
  {
   "metadata": {},
   "cell_type": "markdown",
   "source": [
    "- Addition `+`: Adds two values together.\n",
    "- Subtraction `-`: Subtracts one value from another.\n",
    "- Multiplication `*`: Multiplies two values.\n",
    "- Division `/`: Divides one value by another, returns a float.\n",
    "- Floor Division `//`: Divides one value by another, returns the quotient as an integer.\n",
    "- Modulo `%`: Returns the remainder after division."
   ],
   "id": "9e1acbb5371e1cc5"
  },
  {
   "metadata": {
    "ExecuteTime": {
     "end_time": "2025-05-27T14:56:59.742223Z",
     "start_time": "2025-05-27T14:56:59.737707Z"
    }
   },
   "cell_type": "code",
   "source": [
    "x = 25\n",
    "y = 5\n",
    "\n",
    "result_addition = x + y\n",
    "result_subtraction = x - y\n",
    "result_multiplication = x * y\n",
    "result_division = x / y\n",
    "result_floor_division = x // y\n",
    "result_modulo = x % y\n",
    "\n",
    "print(result_addition)\n",
    "print(result_subtraction)\n",
    "print(result_multiplication)\n",
    "print(result_division)\n",
    "print(result_floor_division)\n",
    "print(result_modulo)"
   ],
   "id": "ed8ecf5b326cf026",
   "outputs": [
    {
     "name": "stdout",
     "output_type": "stream",
     "text": [
      "30\n",
      "20\n",
      "125\n",
      "5.0\n",
      "5\n",
      "0\n"
     ]
    }
   ],
   "execution_count": 8
  },
  {
   "metadata": {},
   "cell_type": "markdown",
   "source": "### 9. replace()",
   "id": "48660c1d7df00fde"
  },
  {
   "metadata": {},
   "cell_type": "markdown",
   "source": "<p>Replaces substrings.</p>",
   "id": "f17d430881723b4d"
  },
  {
   "metadata": {
    "ExecuteTime": {
     "end_time": "2025-05-27T14:56:59.773021Z",
     "start_time": "2025-05-27T14:56:59.769260Z"
    }
   },
   "cell_type": "code",
   "source": [
    "new_text = string.replace(\"Hello\", \"Hi\")\n",
    "new_text"
   ],
   "id": "32656d723bf04fb",
   "outputs": [
    {
     "data": {
      "text/plain": [
       "'Hi, my friend!'"
      ]
     },
     "execution_count": 9,
     "metadata": {},
     "output_type": "execute_result"
    }
   ],
   "execution_count": 9
  },
  {
   "metadata": {},
   "cell_type": "markdown",
   "source": "### 10. Slicing",
   "id": "56a516627770511b"
  },
  {
   "metadata": {},
   "cell_type": "markdown",
   "source": "<p>Extracts a portion of the string.</p>",
   "id": "d972d4d252d8202b"
  },
  {
   "metadata": {},
   "cell_type": "markdown",
   "source": [
    "**Syntax:**\n",
    "```Python\n",
    "substring = string_name[start_num: end_num]"
   ],
   "id": "d144faf85b970d2e"
  },
  {
   "metadata": {
    "ExecuteTime": {
     "end_time": "2025-05-27T14:56:59.805426Z",
     "start_time": "2025-05-27T14:56:59.802018Z"
    }
   },
   "cell_type": "code",
   "source": [
    "substring = string[0:5]\n",
    "substring"
   ],
   "id": "a2dab01be35d1db5",
   "outputs": [
    {
     "data": {
      "text/plain": [
       "'Hello'"
      ]
     },
     "execution_count": 10,
     "metadata": {},
     "output_type": "execute_result"
    }
   ],
   "execution_count": 10
  },
  {
   "metadata": {},
   "cell_type": "markdown",
   "source": "### 11. split()",
   "id": "e702edb61ae4d79c"
  },
  {
   "metadata": {},
   "cell_type": "markdown",
   "source": "<p>Splits string into a list based on a delimiter.</p>",
   "id": "71b1ab6bf5ff4b5"
  },
  {
   "metadata": {
    "ExecuteTime": {
     "end_time": "2025-05-27T14:56:59.847116Z",
     "start_time": "2025-05-27T14:56:59.842586Z"
    }
   },
   "cell_type": "code",
   "source": [
    "split_text = string.split(\",\")\n",
    "split_text"
   ],
   "id": "72da7e54d08988c4",
   "outputs": [
    {
     "data": {
      "text/plain": [
       "['Hello', ' my friend!']"
      ]
     },
     "execution_count": 11,
     "metadata": {},
     "output_type": "execute_result"
    }
   ],
   "execution_count": 11
  },
  {
   "metadata": {},
   "cell_type": "markdown",
   "source": "### 12. strip()",
   "id": "e38f13773178c4de"
  },
  {
   "metadata": {},
   "cell_type": "markdown",
   "source": "<p>Removes leading/trailing whitespace.</p>",
   "id": "5f9fa26d4996f823"
  },
  {
   "metadata": {
    "ExecuteTime": {
     "end_time": "2025-05-27T14:56:59.883104Z",
     "start_time": "2025-05-27T14:56:59.878625Z"
    }
   },
   "cell_type": "code",
   "source": [
    "trimmed_text = string.strip()\n",
    "trimmed_text"
   ],
   "id": "25c6bea9612b41f5",
   "outputs": [
    {
     "data": {
      "text/plain": [
       "'Hello, my friend!'"
      ]
     },
     "execution_count": 12,
     "metadata": {},
     "output_type": "execute_result"
    }
   ],
   "execution_count": 12
  },
  {
   "metadata": {},
   "cell_type": "markdown",
   "source": "### 13. upper()",
   "id": "310b63c35436aace"
  },
  {
   "metadata": {},
   "cell_type": "markdown",
   "source": "<p>Converts string to uppercase.</p>",
   "id": "28418ca52ca58d63"
  },
  {
   "metadata": {
    "ExecuteTime": {
     "end_time": "2025-05-27T14:56:59.912400Z",
     "start_time": "2025-05-27T14:56:59.908874Z"
    }
   },
   "cell_type": "code",
   "source": [
    "uppercase_text = string.upper()\n",
    "uppercase_text"
   ],
   "id": "1fde6c4a5c49db62",
   "outputs": [
    {
     "data": {
      "text/plain": [
       "'HELLO, MY FRIEND!'"
      ]
     },
     "execution_count": 13,
     "metadata": {},
     "output_type": "execute_result"
    }
   ],
   "execution_count": 13
  },
  {
   "metadata": {},
   "cell_type": "markdown",
   "source": "### 14. Variable Assignment",
   "id": "45f11bfcd653ae28"
  },
  {
   "metadata": {},
   "cell_type": "markdown",
   "source": "<p>Assigns a value to a variable.</p>",
   "id": "b3821b619b85eb71"
  },
  {
   "metadata": {
    "ExecuteTime": {
     "end_time": "2025-05-27T14:56:59.954524Z",
     "start_time": "2025-05-27T14:56:59.951772Z"
    }
   },
   "cell_type": "code",
   "source": [
    "name = \"John\" # assigning John to variable name\n",
    "x = 9 # assigning 9 to variable x"
   ],
   "id": "c8580518f84d67c3",
   "outputs": [],
   "execution_count": 14
  },
  {
   "metadata": {},
   "cell_type": "markdown",
   "source": [
    "****\n",
    "This is the end of the file.\n",
    "****"
   ],
   "id": "7af5d7a4752d37d"
  }
 ],
 "metadata": {
  "kernelspec": {
   "display_name": "Python 3",
   "language": "python",
   "name": "python3"
  },
  "language_info": {
   "codemirror_mode": {
    "name": "ipython",
    "version": 2
   },
   "file_extension": ".py",
   "mimetype": "text/x-python",
   "name": "python",
   "nbconvert_exporter": "python",
   "pygments_lexer": "ipython2",
   "version": "2.7.6"
  }
 },
 "nbformat": 4,
 "nbformat_minor": 5
}
