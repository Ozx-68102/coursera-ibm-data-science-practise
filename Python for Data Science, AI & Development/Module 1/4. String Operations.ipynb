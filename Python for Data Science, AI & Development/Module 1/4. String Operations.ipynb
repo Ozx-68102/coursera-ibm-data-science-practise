{
 "cells": [
  {
   "metadata": {},
   "cell_type": "markdown",
   "source": "### What are Strings?",
   "id": "84131c053d106230"
  },
  {
   "metadata": {},
   "cell_type": "markdown",
   "source": "<p>The following example shows a string contained within 2 quotation marks:</p>",
   "id": "b4694109b71fe4ea"
  },
  {
   "metadata": {
    "ExecuteTime": {
     "end_time": "2025-05-27T13:45:23.340141Z",
     "start_time": "2025-05-27T13:45:23.335252Z"
    }
   },
   "cell_type": "code",
   "source": "\"This is a string.\"",
   "id": "a5a0968cb1f9e504",
   "outputs": [
    {
     "data": {
      "text/plain": [
       "'This is a string.'"
      ]
     },
     "execution_count": 1,
     "metadata": {},
     "output_type": "execute_result"
    }
   ],
   "execution_count": 1
  },
  {
   "metadata": {},
   "cell_type": "markdown",
   "source": "<p>We can also use single quotation marks:</p>",
   "id": "79068b72dfa5e918"
  },
  {
   "metadata": {
    "ExecuteTime": {
     "end_time": "2025-05-27T13:45:23.351230Z",
     "start_time": "2025-05-27T13:45:23.347940Z"
    }
   },
   "cell_type": "code",
   "source": "'This is a string.'",
   "id": "41fa0f886eea0fb6",
   "outputs": [
    {
     "data": {
      "text/plain": [
       "'This is a string.'"
      ]
     },
     "execution_count": 2,
     "metadata": {},
     "output_type": "execute_result"
    }
   ],
   "execution_count": 2
  },
  {
   "metadata": {},
   "cell_type": "markdown",
   "source": "<p>A string can be a combination of spaces and digits:</p>",
   "id": "be7c641248d58e22"
  },
  {
   "metadata": {
    "ExecuteTime": {
     "end_time": "2025-05-27T13:45:23.430127Z",
     "start_time": "2025-05-27T13:45:23.427600Z"
    }
   },
   "cell_type": "code",
   "source": "\"1 2 3 4 5 6 7 8 9\"",
   "id": "47dbf63178942278",
   "outputs": [
    {
     "data": {
      "text/plain": [
       "'1 2 3 4 5 6 7 8 9'"
      ]
     },
     "execution_count": 3,
     "metadata": {},
     "output_type": "execute_result"
    }
   ],
   "execution_count": 3
  },
  {
   "metadata": {},
   "cell_type": "markdown",
   "source": "<p>A string can also be a combination of special characters:</p>",
   "id": "eaac5e993d830d0c"
  },
  {
   "metadata": {
    "ExecuteTime": {
     "end_time": "2025-05-27T13:45:23.440251Z",
     "start_time": "2025-05-27T13:45:23.436770Z"
    }
   },
   "cell_type": "code",
   "source": "\"@#2_#]&*^%$\"",
   "id": "1c512f778a4115b4",
   "outputs": [
    {
     "data": {
      "text/plain": [
       "'@#2_#]&*^%$'"
      ]
     },
     "execution_count": 4,
     "metadata": {},
     "output_type": "execute_result"
    }
   ],
   "execution_count": 4
  },
  {
   "metadata": {},
   "cell_type": "markdown",
   "source": "<p>We can print our string using the print statement:</p>",
   "id": "754ba6daa37310ba"
  },
  {
   "metadata": {
    "ExecuteTime": {
     "end_time": "2025-05-27T13:45:23.453646Z",
     "start_time": "2025-05-27T13:45:23.451214Z"
    }
   },
   "cell_type": "code",
   "source": "print(\"Hello!\")",
   "id": "87f0eb142936dab7",
   "outputs": [
    {
     "name": "stdout",
     "output_type": "stream",
     "text": [
      "Hello!\n"
     ]
    }
   ],
   "execution_count": 5
  },
  {
   "metadata": {},
   "cell_type": "markdown",
   "source": "<p>We can bind or assign a string to another variable:</p>",
   "id": "8dcf37007b8867f6"
  },
  {
   "metadata": {
    "ExecuteTime": {
     "end_time": "2025-05-27T13:45:23.475433Z",
     "start_time": "2025-05-27T13:45:23.472203Z"
    }
   },
   "cell_type": "code",
   "source": [
    "name = \"SuperHero\"\n",
    "name"
   ],
   "id": "c5414a560407de41",
   "outputs": [
    {
     "data": {
      "text/plain": [
       "'SuperHero'"
      ]
     },
     "execution_count": 6,
     "metadata": {},
     "output_type": "execute_result"
    }
   ],
   "execution_count": 6
  },
  {
   "metadata": {},
   "cell_type": "markdown",
   "source": "### Indexing",
   "id": "6b15dd4fc963d51c"
  },
  {
   "metadata": {},
   "cell_type": "markdown",
   "source": "<p>It is helpful to think of a string as an ordered sequence. Each element in the sequence can be accessed using an index represented by the array of numbers:</p>",
   "id": "98cdbb26c659978e"
  },
  {
   "metadata": {},
   "cell_type": "markdown",
   "source": [
    "| S | u | p | e | r | H | e | r | o |\n",
    "|---|---|---|---|---|---|---|---|---|\n",
    "| 0 | 1 | 2 | 3 | 4 | 5 | 6 | 7 | 8 |"
   ],
   "id": "ba85b6c65b2cab73"
  },
  {
   "metadata": {},
   "cell_type": "markdown",
   "source": [
    "<div class=\"alert alert-success alertsuccess\" style=\"margin-top: 20px\">\n",
    "[Tip]: Because indexing starts at 0, it means the first index is on the index 0.\n",
    "</div>"
   ],
   "id": "aa7aaef4ac875690"
  },
  {
   "metadata": {
    "ExecuteTime": {
     "end_time": "2025-05-27T13:45:23.508597Z",
     "start_time": "2025-05-27T13:45:23.505988Z"
    }
   },
   "cell_type": "code",
   "source": "print(name[0])",
   "id": "ee73e2d685c7103a",
   "outputs": [
    {
     "name": "stdout",
     "output_type": "stream",
     "text": [
      "S\n"
     ]
    }
   ],
   "execution_count": 7
  },
  {
   "metadata": {},
   "cell_type": "markdown",
   "source": "<p>We can access index 6:</p>",
   "id": "e9545630b7f384ce"
  },
  {
   "metadata": {
    "ExecuteTime": {
     "end_time": "2025-05-27T13:45:23.533616Z",
     "start_time": "2025-05-27T13:45:23.531216Z"
    }
   },
   "cell_type": "code",
   "source": "print(name[6])",
   "id": "7ff0f9019e094e07",
   "outputs": [
    {
     "name": "stdout",
     "output_type": "stream",
     "text": [
      "e\n"
     ]
    }
   ],
   "execution_count": 8
  },
  {
   "metadata": {},
   "cell_type": "markdown",
   "source": "<p>Moreover, we can access the 8th index:</p>",
   "id": "c1e8aa87cbd913cf"
  },
  {
   "metadata": {
    "ExecuteTime": {
     "end_time": "2025-05-27T13:45:23.565026Z",
     "start_time": "2025-05-27T13:45:23.562917Z"
    }
   },
   "cell_type": "code",
   "source": "print(name[8])",
   "id": "8e7fbaeccf442440",
   "outputs": [
    {
     "name": "stdout",
     "output_type": "stream",
     "text": [
      "o\n"
     ]
    }
   ],
   "execution_count": 9
  },
  {
   "metadata": {},
   "cell_type": "markdown",
   "source": "### Negative Indexing",
   "id": "98fbdbb60a2ef8b9"
  },
  {
   "metadata": {},
   "cell_type": "markdown",
   "source": "<p>We can also use negative indexing with strings:</p>",
   "id": "6e14f8ef99e111d3"
  },
  {
   "metadata": {},
   "cell_type": "markdown",
   "source": [
    "| S  | u  | p  | e  | r  | H  | e  | r  | o  |\n",
    "|----|----|----|----|----|----|----|----|----|\n",
    "| -9 | -8 | -7 | -6 | -5 | -4 | -3 | -2 | -1 |"
   ],
   "id": "de18a727650cdf23"
  },
  {
   "metadata": {},
   "cell_type": "markdown",
   "source": "<p>Negative index can help us to count the element from the end of the string.</p>",
   "id": "ec14db979729ded3"
  },
  {
   "metadata": {},
   "cell_type": "markdown",
   "source": "<p>The last element is given by the index -1:</p>",
   "id": "13fedba36c07acaa"
  },
  {
   "metadata": {
    "ExecuteTime": {
     "end_time": "2025-05-27T13:45:23.591513Z",
     "start_time": "2025-05-27T13:45:23.588429Z"
    }
   },
   "cell_type": "code",
   "source": "print(name[-1])",
   "id": "18d5177bb893dfca",
   "outputs": [
    {
     "name": "stdout",
     "output_type": "stream",
     "text": [
      "o\n"
     ]
    }
   ],
   "execution_count": 10
  },
  {
   "metadata": {},
   "cell_type": "markdown",
   "source": "<p>The first element can be obtained by index -9:</p>",
   "id": "cfc0b2a444cfaef2"
  },
  {
   "metadata": {
    "ExecuteTime": {
     "end_time": "2025-05-27T13:45:23.627348Z",
     "start_time": "2025-05-27T13:45:23.625030Z"
    }
   },
   "cell_type": "code",
   "source": "print(name[-9])",
   "id": "caab526508d4f689",
   "outputs": [
    {
     "name": "stdout",
     "output_type": "stream",
     "text": [
      "S\n"
     ]
    }
   ],
   "execution_count": 11
  },
  {
   "metadata": {},
   "cell_type": "markdown",
   "source": "<p>We can find the number of characters in a string by using <code>len</code>, short for length:</p>",
   "id": "c1fb349568ab2929"
  },
  {
   "metadata": {
    "ExecuteTime": {
     "end_time": "2025-05-27T13:45:23.646429Z",
     "start_time": "2025-05-27T13:45:23.643358Z"
    }
   },
   "cell_type": "code",
   "source": [
    "# Find the length of string\n",
    "len(name)"
   ],
   "id": "5fdfd10c9c9d5ed2",
   "outputs": [
    {
     "data": {
      "text/plain": [
       "9"
      ]
     },
     "execution_count": 12,
     "metadata": {},
     "output_type": "execute_result"
    }
   ],
   "execution_count": 12
  },
  {
   "metadata": {},
   "cell_type": "markdown",
   "source": "### Slicing",
   "id": "c90c52e06d2de62"
  },
  {
   "metadata": {},
   "cell_type": "markdown",
   "source": "<p>We can obtain multiple characters from a string using slicing, we can obtain the 0 to 5th and 6th to the 8th element:</p>",
   "id": "e723fd25c3056bbe"
  },
  {
   "metadata": {},
   "cell_type": "markdown",
   "source": [
    "<table style=\"border: 1px solid\">\n",
    "<tr>\n",
    "    <td style=\"border: 1px solid; text-align: center\">S</td>\n",
    "    <td style=\"border: 1px solid; text-align: center\">u</td>\n",
    "    <td style=\"border: 1px solid; text-align: center\">p</td>\n",
    "    <td style=\"border: 1px solid; text-align: center\">e</td>\n",
    "    <td style=\"border: 1px solid; text-align: center\">r</td>\n",
    "    <td style=\"border: 1px solid; text-align: center\">H</td>\n",
    "    <td style=\"border: 1px solid; text-align: center\">e</td>\n",
    "    <td style=\"border: 1px solid; text-align: center\">r</td>\n",
    "    <td style=\"border: 1px solid; text-align: center\">o</td>\n",
    "</tr>\n",
    "<tr>\n",
    "    <td style=\"border: 1px solid; text-align: center\">0</td>\n",
    "    <td style=\"border: 1px solid; text-align: center\">1</td>\n",
    "    <td style=\"border: 1px solid; text-align: center\">2</td>\n",
    "    <td style=\"border: 1px solid; text-align: center\">3</td>\n",
    "    <td style=\"border: 1px solid; text-align: center\">4</td>\n",
    "    <td style=\"border: 1px solid; text-align: center\">5</td>\n",
    "    <td style=\"border: 1px solid; text-align: center\">6</td>\n",
    "    <td style=\"border: 1px solid; text-align: center\">7</td>\n",
    "    <td style=\"border: 1px solid; text-align: center\">8</td>\n",
    "</tr>\n",
    "<tr>\n",
    "    <td style=\"border: 1px solid; text-align: center\" colspan=\"5\">name[0:5]</td>\n",
    "    <td style=\"border: 1px solid; text-align: center\" colspan=\"1\"></td>\n",
    "    <td style=\"border: 1px solid; text-align: center\" colspan=\"3\">name[6:9]</td>\n",
    "</tr>\n",
    "</table>"
   ],
   "id": "a7c29306bc860fa5"
  },
  {
   "metadata": {},
   "cell_type": "markdown",
   "source": [
    "<div class=\"alert alert-success alertsuccess\" style=\"margin-top: 20px\">\n",
    "[Tip]: When taking the slice, the first number means the index (start at 0), and the second number means the length from the index to the last element you want (start at 1)\n",
    "</div>"
   ],
   "id": "14e04f951d428ad0"
  },
  {
   "metadata": {
    "ExecuteTime": {
     "end_time": "2025-05-27T13:45:23.671814Z",
     "start_time": "2025-05-27T13:45:23.668456Z"
    }
   },
   "cell_type": "code",
   "source": "name[0:5]",
   "id": "e545356e5ee301f",
   "outputs": [
    {
     "data": {
      "text/plain": [
       "'Super'"
      ]
     },
     "execution_count": 13,
     "metadata": {},
     "output_type": "execute_result"
    }
   ],
   "execution_count": 13
  },
  {
   "metadata": {
    "ExecuteTime": {
     "end_time": "2025-05-27T13:45:23.699030Z",
     "start_time": "2025-05-27T13:45:23.695497Z"
    }
   },
   "cell_type": "code",
   "source": "name[6:9]",
   "id": "7693545b08ad38f3",
   "outputs": [
    {
     "data": {
      "text/plain": [
       "'ero'"
      ]
     },
     "execution_count": 14,
     "metadata": {},
     "output_type": "execute_result"
    }
   ],
   "execution_count": 14
  },
  {
   "metadata": {},
   "cell_type": "markdown",
   "source": "### Stride",
   "id": "327fd9ce184f42f9"
  },
  {
   "metadata": {},
   "cell_type": "markdown",
   "source": "<p>We can also input a stride value as follows, with the '2' indicating that we are selecting every second variable:</p>",
   "id": "8256adb81c0ee43d"
  },
  {
   "metadata": {},
   "cell_type": "markdown",
   "source": [
    "| S | u | p | e | r | H | e | r | o |\n",
    "|---|---|---|---|---|---|---|---|---|\n",
    "| 0 | 1 | 2 | 3 | 4 | 5 | 6 | 7 | 8 |\n",
    "\n",
    "name[::2] = \"Spreo\""
   ],
   "id": "5b4906d37e9b5cd8"
  },
  {
   "metadata": {
    "ExecuteTime": {
     "end_time": "2025-05-27T13:45:23.720537Z",
     "start_time": "2025-05-27T13:45:23.717578Z"
    }
   },
   "cell_type": "code",
   "source": [
    "# Get every second element. The elements on index 1, 3, 5 ...\n",
    "name[::2]"
   ],
   "id": "79f093c0f6b11236",
   "outputs": [
    {
     "data": {
      "text/plain": [
       "'Spreo'"
      ]
     },
     "execution_count": 15,
     "metadata": {},
     "output_type": "execute_result"
    }
   ],
   "execution_count": 15
  },
  {
   "metadata": {},
   "cell_type": "markdown",
   "source": "<p>We can also incorporate slicing  with the stride. In this case, we select the first five elements and then use the stride:</p>",
   "id": "ec07c4995c2aaaaa"
  },
  {
   "metadata": {
    "ExecuteTime": {
     "end_time": "2025-05-27T13:45:23.743676Z",
     "start_time": "2025-05-27T13:45:23.740369Z"
    }
   },
   "cell_type": "code",
   "source": [
    "# Get every second element in the range from index 0 to index 4\n",
    "name[0:5:2]"
   ],
   "id": "bd52632ad830540c",
   "outputs": [
    {
     "data": {
      "text/plain": [
       "'Spr'"
      ]
     },
     "execution_count": 16,
     "metadata": {},
     "output_type": "execute_result"
    }
   ],
   "execution_count": 16
  },
  {
   "metadata": {},
   "cell_type": "markdown",
   "source": "### Concatenate Strings",
   "id": "d8bf3e70e1ef6b0b"
  },
  {
   "metadata": {},
   "cell_type": "markdown",
   "source": "<p>We can concatenate or combine strings by using the addition symbols, and the result is a new string that is a combination of both:</p>",
   "id": "c94966d9fd31391d"
  },
  {
   "metadata": {
    "ExecuteTime": {
     "end_time": "2025-05-27T13:45:23.769977Z",
     "start_time": "2025-05-27T13:45:23.767057Z"
    }
   },
   "cell_type": "code",
   "source": [
    "statement = \"I want to be a \" + name + \".\"\n",
    "statement"
   ],
   "id": "23e8424833fa5981",
   "outputs": [
    {
     "data": {
      "text/plain": [
       "'I want to be a SuperHero.'"
      ]
     },
     "execution_count": 17,
     "metadata": {},
     "output_type": "execute_result"
    }
   ],
   "execution_count": 17
  },
  {
   "metadata": {},
   "cell_type": "markdown",
   "source": "<p>To replicate values of a string we simply multiply the string by the number of times we would like to replicate it. In this case, the number is three. The result is a new string, and this new string consists of three copies of the original string:</p>",
   "id": "92a14d7c767150a9"
  },
  {
   "metadata": {
    "ExecuteTime": {
     "end_time": "2025-05-27T13:45:23.798421Z",
     "start_time": "2025-05-27T13:45:23.795044Z"
    }
   },
   "cell_type": "code",
   "source": "3 * name",
   "id": "d5d1663ab8324f78",
   "outputs": [
    {
     "data": {
      "text/plain": [
       "'SuperHeroSuperHeroSuperHero'"
      ]
     },
     "execution_count": 18,
     "metadata": {},
     "output_type": "execute_result"
    }
   ],
   "execution_count": 18
  },
  {
   "metadata": {},
   "cell_type": "markdown",
   "source": "You can create a new string by setting it to the original variable. Concatenated with a new string, the result is a new string that changes from \"SuperHero\" to \"SuperHero is a special nickname of mine\".",
   "id": "dcc1b37af800d0b6"
  },
  {
   "metadata": {
    "ExecuteTime": {
     "end_time": "2025-05-27T13:45:23.819277Z",
     "start_time": "2025-05-27T13:45:23.816023Z"
    }
   },
   "cell_type": "code",
   "source": [
    "name = \"SuperHero\"\n",
    "name = name + \" is a special nickname of mine.\"\n",
    "name"
   ],
   "id": "8958f1f6f587df3f",
   "outputs": [
    {
     "data": {
      "text/plain": [
       "'SuperHero is a special nickname of mine.'"
      ]
     },
     "execution_count": 19,
     "metadata": {},
     "output_type": "execute_result"
    }
   ],
   "execution_count": 19
  },
  {
   "metadata": {},
   "cell_type": "markdown",
   "source": "### Escape Sequences",
   "id": "ff98bd9deb7d1f9a"
  },
  {
   "metadata": {},
   "cell_type": "markdown",
   "source": "<p>Back slashes represent the beginning  of escape sequences. Escape sequences represent strings that may be difficult to input. For example, back slash \"n\" represents a new line. The output is given by a new line after the back slash \"n\" is encountered:</p>",
   "id": "20b9ef7d7211567b"
  },
  {
   "metadata": {
    "ExecuteTime": {
     "end_time": "2025-05-27T13:45:23.844882Z",
     "start_time": "2025-05-27T13:45:23.842345Z"
    }
   },
   "cell_type": "code",
   "source": "print(\"SuperHero\\n is one of the special symbols in my childhood.\")",
   "id": "cb30553b8b4b1087",
   "outputs": [
    {
     "name": "stdout",
     "output_type": "stream",
     "text": [
      "SuperHero\n",
      " is one of the special symbols in my childhood.\n"
     ]
    }
   ],
   "execution_count": 20
  },
  {
   "metadata": {},
   "cell_type": "markdown",
   "source": "<p>Similarly, back slash \"t\" represents a tab:</p>",
   "id": "f8658d84429effa1"
  },
  {
   "metadata": {
    "ExecuteTime": {
     "end_time": "2025-05-27T13:45:23.868233Z",
     "start_time": "2025-05-27T13:45:23.865358Z"
    }
   },
   "cell_type": "code",
   "source": "print(\"SuperHero \\t is one of the special symbols in my childhood.\")",
   "id": "7086dab7dbf12dad",
   "outputs": [
    {
     "name": "stdout",
     "output_type": "stream",
     "text": [
      "SuperHero \t is one of the special symbols in my childhood.\n"
     ]
    }
   ],
   "execution_count": 21
  },
  {
   "metadata": {},
   "cell_type": "markdown",
   "source": "<p>If you want to place a back slash in your string, use a double back slash:</p>",
   "id": "39a33b89d1e502f9"
  },
  {
   "metadata": {
    "ExecuteTime": {
     "end_time": "2025-05-27T13:45:23.897081Z",
     "start_time": "2025-05-27T13:45:23.894169Z"
    }
   },
   "cell_type": "code",
   "source": "print(\"SuperHero \\\\ is one of the special symbols in my childhood.\")",
   "id": "7d64736a0c8129b1",
   "outputs": [
    {
     "name": "stdout",
     "output_type": "stream",
     "text": [
      "SuperHero \\ is one of the special symbols in my childhood.\n"
     ]
    }
   ],
   "execution_count": 22
  },
  {
   "metadata": {},
   "cell_type": "markdown",
   "source": "<p>We can also place an \"r\" before the string to display the backslash:</p>",
   "id": "21f0a919c12a3345"
  },
  {
   "metadata": {
    "ExecuteTime": {
     "end_time": "2025-05-27T13:45:23.923297Z",
     "start_time": "2025-05-27T13:45:23.920189Z"
    }
   },
   "cell_type": "code",
   "source": "print(r\"SuperHero \\ is one of the special symbols in my childhood.\")",
   "id": "eb7fceae688a3d4f",
   "outputs": [
    {
     "name": "stdout",
     "output_type": "stream",
     "text": [
      "SuperHero \\ is one of the special symbols in my childhood.\n"
     ]
    }
   ],
   "execution_count": 23
  },
  {
   "metadata": {},
   "cell_type": "markdown",
   "source": "### String Manipulation Operations",
   "id": "fb4b0ca74ce4042e"
  },
  {
   "metadata": {},
   "cell_type": "markdown",
   "source": "<p>There are many string operation methods in Python that can be used to manipulate the data. We are going to use some basic string operations on the data.</p>",
   "id": "508abc8b7cfa493e"
  },
  {
   "metadata": {},
   "cell_type": "markdown",
   "source": "<p>Let's try with the method <code>upper</code>; this method converts lower case characters to upper case characters:</p>",
   "id": "fbf3d8645a441271"
  },
  {
   "metadata": {
    "ExecuteTime": {
     "end_time": "2025-05-27T13:45:23.949616Z",
     "start_time": "2025-05-27T13:45:23.946689Z"
    }
   },
   "cell_type": "code",
   "source": [
    "a = \"I love Python very very much!\"\n",
    "print(\"Before upper: \", a)\n",
    "b = a.upper()\n",
    "print(\"After upper: \", b)"
   ],
   "id": "1d01b6b44637d63",
   "outputs": [
    {
     "name": "stdout",
     "output_type": "stream",
     "text": [
      "Before upper:  I love Python very very much!\n",
      "After upper:  I LOVE PYTHON VERY VERY MUCH!\n"
     ]
    }
   ],
   "execution_count": 24
  },
  {
   "metadata": {},
   "cell_type": "markdown",
   "source": "<p>The method <code>replace</code> replaces a segment of the string, i.e. a substring  with a new string. We input the part of the string we would like to change. The second argument is what we would like to exchange the segment with, and the result is a new string with the segment changed:</p>",
   "id": "587ebe77c209f763"
  },
  {
   "metadata": {
    "ExecuteTime": {
     "end_time": "2025-05-27T13:45:23.976246Z",
     "start_time": "2025-05-27T13:45:23.972957Z"
    }
   },
   "cell_type": "code",
   "source": [
    "a = \"My favourite singer is Jay Chow.\"\n",
    "b = a.replace(\"Jay Chow\", \"Eason Chan\")\n",
    "b"
   ],
   "id": "257ee9341586f45a",
   "outputs": [
    {
     "data": {
      "text/plain": [
       "'My favourite singer is Eason Chan.'"
      ]
     },
     "execution_count": 25,
     "metadata": {},
     "output_type": "execute_result"
    }
   ],
   "execution_count": 25
  },
  {
   "metadata": {},
   "cell_type": "markdown",
   "source": "<p>The method <code>find</code> finds a sub-string. The argument is the substring you would like to find, and the output is the first index of the sequence. We can find the sub-string <code>he</code> or <code>Guard<code>.</p>",
   "id": "eacb3453a3b30887"
  },
  {
   "metadata": {},
   "cell_type": "markdown",
   "source": [
    "<table style=\"border: 1px solid\">\n",
    "<tr>\n",
    "    <td style=\"border: 1px solid; text-align: center\">S</td>\n",
    "    <td style=\"border: 1px solid; text-align: center\">u</td>\n",
    "    <td style=\"border: 1px solid; text-align: center\">p</td>\n",
    "    <td style=\"border: 1px solid; text-align: center\">e</td>\n",
    "    <td style=\"border: 1px solid; text-align: center\">r</td>\n",
    "    <td style=\"border: 1px solid; text-align: center\">H</td>\n",
    "    <td style=\"border: 1px solid; text-align: center\">e</td>\n",
    "    <td style=\"border: 1px solid; text-align: center\">r</td>\n",
    "    <td style=\"border: 1px solid; text-align: center\">o</td>\n",
    "</tr>\n",
    "<tr>\n",
    "    <td style=\"border: 1px solid; text-align: center\">0</td>\n",
    "    <td style=\"border: 1px solid; text-align: center\">1</td>\n",
    "    <td style=\"border: 1px solid; text-align: center\">2</td>\n",
    "    <td style=\"border: 1px solid; text-align: center\">3</td>\n",
    "    <td style=\"border: 1px solid; text-align: center\">4</td>\n",
    "    <td style=\"border: 1px solid; text-align: center\">5</td>\n",
    "    <td style=\"border: 1px solid; text-align: center\">6</td>\n",
    "    <td style=\"border: 1px solid; text-align: center\">7</td>\n",
    "    <td style=\"border: 1px solid; text-align: center\">8</td>\n",
    "</tr>\n",
    "<tr>\n",
    "    <td style=\"border: 1px solid; text-align: center\" colspan=\"5\">name.find(\"Super\"): 0</td>\n",
    "    <td style=\"border: 1px solid; text-align: center\" colspan=\"4\">name.find(\"Hero\"): 5</td>\n",
    "</tr>\n",
    "</table>"
   ],
   "id": "1d47e18a518d0e4b"
  },
  {
   "metadata": {
    "ExecuteTime": {
     "end_time": "2025-05-27T13:45:24.002102Z",
     "start_time": "2025-05-27T13:45:23.999001Z"
    }
   },
   "cell_type": "code",
   "source": [
    "name = \"SuperHero\"\n",
    "name.find(\"Super\")"
   ],
   "id": "d320f3cd0b5bf9ed",
   "outputs": [
    {
     "data": {
      "text/plain": [
       "0"
      ]
     },
     "execution_count": 26,
     "metadata": {},
     "output_type": "execute_result"
    }
   ],
   "execution_count": 26
  },
  {
   "metadata": {
    "ExecuteTime": {
     "end_time": "2025-05-27T13:45:24.034926Z",
     "start_time": "2025-05-27T13:45:24.031569Z"
    }
   },
   "cell_type": "code",
   "source": "name.find(\"Hero\")",
   "id": "1db72e0fca7050e7",
   "outputs": [
    {
     "data": {
      "text/plain": [
       "5"
      ]
     },
     "execution_count": 27,
     "metadata": {},
     "output_type": "execute_result"
    }
   ],
   "execution_count": 27
  },
  {
   "metadata": {},
   "cell_type": "markdown",
   "source": "<p>If the  sub-string is not in the string then the output is a negative one. For example, the string 'Niko' is not a substring:</p>",
   "id": "ca96527bbe6129b5"
  },
  {
   "metadata": {
    "ExecuteTime": {
     "end_time": "2025-05-27T13:45:24.043536Z",
     "start_time": "2025-05-27T13:45:24.040341Z"
    }
   },
   "cell_type": "code",
   "source": "name.find(\"Niko\")",
   "id": "4f1af0f9154d7103",
   "outputs": [
    {
     "data": {
      "text/plain": [
       "-1"
      ]
     },
     "execution_count": 28,
     "metadata": {},
     "output_type": "execute_result"
    }
   ],
   "execution_count": 28
  },
  {
   "metadata": {},
   "cell_type": "markdown",
   "source": [
    "The method <code>Split</code> splits the string at the specified separator, and returns a list.\n",
    "\n",
    "**Syntax**\n",
    "\n",
    "<code>string.split(separator, maxsplit)</code>\n",
    "\n",
    "**Parameters**\n",
    "- separator (optional): This is the delimiter at which the string will be split. If not provided, the default separator is any whitespace.\n",
    "- maxsplit (optional): This specifies the maximum number of splits to perform. If not provided, there is no limit on the number of splits.\n",
    "\n",
    "**Return Value**:\n",
    "\n",
    "The method returns a list of substrings."
   ],
   "id": "13abf19908d808c3"
  },
  {
   "metadata": {
    "ExecuteTime": {
     "end_time": "2025-05-27T13:45:24.065566Z",
     "start_time": "2025-05-27T13:45:24.061700Z"
    }
   },
   "cell_type": "code",
   "source": [
    "split_string = (name.split())\n",
    "split_string"
   ],
   "id": "77f8bc904082aa1c",
   "outputs": [
    {
     "data": {
      "text/plain": [
       "['SuperHero']"
      ]
     },
     "execution_count": 29,
     "metadata": {},
     "output_type": "execute_result"
    }
   ],
   "execution_count": 29
  },
  {
   "metadata": {},
   "cell_type": "markdown",
   "source": "### RegEx",
   "id": "86811880b9927fdf"
  },
  {
   "metadata": {},
   "cell_type": "markdown",
   "source": "<p>In Python, RegEx (short for Regular Expression) is a tool for matching and handling strings.</p>",
   "id": "8343711ae6c0b520"
  },
  {
   "metadata": {},
   "cell_type": "markdown",
   "source": "<p>This RegEx module provides several functions for working with regular expressions, including <code>search, split, findall,</code> and <code>sub</code>.</p>",
   "id": "c5eb8db923199977"
  },
  {
   "metadata": {},
   "cell_type": "markdown",
   "source": [
    "<p>Python provides a built-in module called <code>re</code>, which allows you to work with regular expressions.\n",
    "First, import the <code>re</code> module.</p>"
   ],
   "id": "52aa7b7638844d4e"
  },
  {
   "metadata": {
    "ExecuteTime": {
     "end_time": "2025-05-27T13:45:24.088113Z",
     "start_time": "2025-05-27T13:45:24.085918Z"
    }
   },
   "cell_type": "code",
   "source": "import re",
   "id": "87c3569f0e03426b",
   "outputs": [],
   "execution_count": 30
  },
  {
   "metadata": {},
   "cell_type": "markdown",
   "source": "<p>The search() function searches for specified patterns within a string. Here is an example that explains how to use the search() function to search for the word \"Body\" in the string \"The BodyGuard is the best\".</p>",
   "id": "aa21ad3281e2bf0d"
  },
  {
   "metadata": {
    "ExecuteTime": {
     "end_time": "2025-05-27T13:45:24.103629Z",
     "start_time": "2025-05-27T13:45:24.100146Z"
    }
   },
   "cell_type": "code",
   "source": [
    "s1 = \"The BodyGuard is the best album.\"\n",
    "\n",
    "# Define the pattern to search for\n",
    "pattern = r\"Body\"\n",
    "\n",
    "# Use the search() function to search for the pattern in the string\n",
    "result = re.search(pattern=pattern, string=s1)\n",
    "\n",
    "# Check if a match was found\n",
    "matched = \"Match found!\" if result else \"No match!\"\n",
    "matched"
   ],
   "id": "5ecade1f1d0f8ffa",
   "outputs": [
    {
     "data": {
      "text/plain": [
       "'Match found!'"
      ]
     },
     "execution_count": 31,
     "metadata": {},
     "output_type": "execute_result"
    }
   ],
   "execution_count": 31
  },
  {
   "metadata": {},
   "cell_type": "markdown",
   "source": [
    "Regular expressions (RegEx) are patterns used to match and manipulate strings of text. There are several special sequences in RegEx that can be used to match specific characters or patterns.\n",
    "\n",
    "| Special Sequence | Meaning                 | \tExample             |\n",
    "| -----------  | ----------------------- | ----------------------|\n",
    "| \\d|Matches any digit character (0-9)|\"123\" matches \"\\d\\d\\d\"|\n",
    "|\\D|Matches any non-digit character|\"hello\" matches \"\\D\\D\\D\\D\\D\"|\n",
    "|\\w|Matches any word character (a-z, A-Z, 0-9, and _)|\"hello_world\" matches \"\\w\\w\\w\\w\\w\\w\\w\\w\\w\\w\\w\"|\n",
    "|\\W|Matches any non-word character|\t\"@#$%\" matches \"\\W\\W\\W\\W\"|\n",
    "|\\s|Matches any whitespace character (space, tab, newline, etc.)|\"hello world\" matches \"\\w\\w\\w\\w\\w\\s\\w\\w\\w\\w\\w\"|\n",
    "|\\S|Matches any non-whitespace character|\"hello_world\" matches \"\\S\\S\\S\\S\\S\\S\\S\\S\\S\\S\\S\"|\n",
    "|\\b|Matches the boundary between a word character and a non-word character|\"cat\" matches \"\\bcat\\b\" in \"The cat sat on the mat\"|\n",
    "|\\B|Matches any position that is not a word boundary|\"cat\" matches \"\\Bcat\\B\" in \"category\" but not in \"The cat sat on the mat\"|"
   ],
   "id": "885a00e77d18e464"
  },
  {
   "metadata": {},
   "cell_type": "markdown",
   "source": [
    "<p>Special Sequence Examples:</p>\n",
    "\n",
    "<p>A simple example of using the <code>\\d</code> special sequence in a regular expression pattern with Python code:\n",
    "</p>"
   ],
   "id": "35f9a2d064c77ab4"
  },
  {
   "metadata": {
    "ExecuteTime": {
     "end_time": "2025-05-27T13:45:24.129805Z",
     "start_time": "2025-05-27T13:45:24.125666Z"
    }
   },
   "cell_type": "code",
   "source": [
    "pattern = r\"\\d\\d\\d\\d\\d\\d\\d\\d\"\n",
    "text = \"My phone number is 88888888.\"\n",
    "result = re.search(pattern=pattern, string=text)\n",
    "matched = f\"Match found: {result.group()}\" if result else \"No match!\"\n",
    "matched"
   ],
   "id": "bcae88ea804f7475",
   "outputs": [
    {
     "data": {
      "text/plain": [
       "'Match found: 88888888'"
      ]
     },
     "execution_count": 32,
     "metadata": {},
     "output_type": "execute_result"
    }
   ],
   "execution_count": 32
  },
  {
   "metadata": {},
   "cell_type": "markdown",
   "source": [
    "The match.group() method is used in Python's re module to retrieve the part of the string where the regular expression pattern matched. Here's a detailed explanation:\n",
    "\n",
    "**Purpose**\n",
    "- Extract Matched Text: match.group() returns the exact substring that matched the pattern.\n",
    "\n",
    "**Usage**\n",
    "- When you use functions like re.search() or re.match(), they return a match object if the pattern is found. You can then use match.group() to get the matched text.\n",
    "\n",
    "Here `match.group()` retrieves the substring 88888888 from the text, which is the part that matched the pattern."
   ],
   "id": "b3792c09fc6c2a3e"
  },
  {
   "metadata": {},
   "cell_type": "markdown",
   "source": "<p>A simple example of using the <code>\\W</code> special sequence in a regular expression pattern with Python code:</p>",
   "id": "e8be282657d3e457"
  },
  {
   "metadata": {
    "ExecuteTime": {
     "end_time": "2025-05-27T13:45:24.184980Z",
     "start_time": "2025-05-27T13:45:24.179876Z"
    }
   },
   "cell_type": "code",
   "source": [
    "pattern = r\"\\W\"\n",
    "text = \"Hello, my friend!\"\n",
    "result = re.findall(pattern=pattern, string=text)\n",
    "matched = f\"Match found: '{result}'\" if result else \"No match!\"\n",
    "matched"
   ],
   "id": "27e6d2bb5fb30792",
   "outputs": [
    {
     "data": {
      "text/plain": [
       "\"Match found: '[',', ' ', ' ', '!']'\""
      ]
     },
     "execution_count": 33,
     "metadata": {},
     "output_type": "execute_result"
    }
   ],
   "execution_count": 33
  },
  {
   "metadata": {},
   "cell_type": "markdown",
   "source": "<p>The regular expression pattern is defined as r\"\\W\", which uses the \\W special sequence to match any character that is not a word character (a-z, A-Z, 0-9, or _). The string we're searching for matches in is \"Hello, world!\".</p>",
   "id": "d1cef3aed879d52a"
  },
  {
   "metadata": {},
   "cell_type": "markdown",
   "source": "<p>The <code>findall()</code> function finds all occurrences of a specified pattern within a string.</p>",
   "id": "69371032d1277dd7"
  },
  {
   "metadata": {
    "ExecuteTime": {
     "end_time": "2025-05-27T13:45:24.217459Z",
     "start_time": "2025-05-27T13:45:24.211771Z"
    }
   },
   "cell_type": "code",
   "source": [
    "s2 = \"The BodyGuard is the best album of 'Whitney Houston'.\"\n",
    "\n",
    "\n",
    "# Use the findall() function to find all occurrences of the \"st\" in the string\n",
    "result = re.findall(\"st\", s2)\n",
    "\n",
    "# Print out the list of matched words\n",
    "result"
   ],
   "id": "3002dd0ccc94f179",
   "outputs": [
    {
     "data": {
      "text/plain": [
       "['st', 'st']"
      ]
     },
     "execution_count": 34,
     "metadata": {},
     "output_type": "execute_result"
    }
   ],
   "execution_count": 34
  },
  {
   "metadata": {},
   "cell_type": "markdown",
   "source": "<p>A regular expression's <code>split()</code> function splits a string into an array of substrings based on a specified pattern.</p>",
   "id": "7bc19a5f141a2ffe"
  },
  {
   "metadata": {
    "ExecuteTime": {
     "end_time": "2025-05-27T13:45:24.244711Z",
     "start_time": "2025-05-27T13:45:24.239674Z"
    }
   },
   "cell_type": "code",
   "source": [
    "split_array = re.split(r\"\\s\", s2)\n",
    "split_array"
   ],
   "id": "e35614cd7211d19d",
   "outputs": [
    {
     "data": {
      "text/plain": [
       "['The',\n",
       " 'BodyGuard',\n",
       " 'is',\n",
       " 'the',\n",
       " 'best',\n",
       " 'album',\n",
       " 'of',\n",
       " \"'Whitney\",\n",
       " \"Houston'.\"]"
      ]
     },
     "execution_count": 35,
     "metadata": {},
     "output_type": "execute_result"
    }
   ],
   "execution_count": 35
  },
  {
   "metadata": {},
   "cell_type": "markdown",
   "source": [
    "Here's a detailed explanation:\n",
    "\n",
    "<code>re.split(\"\\s\", s2)</code>:\n",
    "\n",
    "**re.split**: This function splits a string by the occurrences of a pattern.\n",
    "- **r\"\\s\"**: This is a regular expression pattern that matches any whitespace character (spaces, tabs, newlines, etc.).\n",
    "- **s2**: This is the string that you want to split."
   ],
   "id": "f2db5d918e5ebb55"
  },
  {
   "metadata": {},
   "cell_type": "markdown",
   "source": "<p>The <code>sub</code> function of a regular expression in Python is used to replace all occurrences of a pattern in a string with a specified replacement.</p>",
   "id": "56440eb56b9d1d07"
  },
  {
   "metadata": {
    "ExecuteTime": {
     "end_time": "2025-05-27T13:45:24.284356Z",
     "start_time": "2025-05-27T13:45:24.278799Z"
    }
   },
   "cell_type": "code",
   "source": [
    "# Define the regular expression pattern to search for\n",
    "pattern = r\"Whitney Houston\"\n",
    "\n",
    "# Define the replacement string\n",
    "replacement = \"legend\"\n",
    "\n",
    "# Use the sub function to replace the pattern with the replacement string\n",
    "new_string = re.sub(pattern=pattern, repl=replacement, string=s2, flags=re.IGNORECASE)\n",
    "\n",
    "# The new_string contains the original string with the pattern replaced by the replacement string\n",
    "new_string"
   ],
   "id": "53193fe442c78c47",
   "outputs": [
    {
     "data": {
      "text/plain": [
       "\"The BodyGuard is the best album of 'legend'.\""
      ]
     },
     "execution_count": 36,
     "metadata": {},
     "output_type": "execute_result"
    }
   ],
   "execution_count": 36
  },
  {
   "metadata": {},
   "cell_type": "markdown",
   "source": "### Quiz on Strings",
   "id": "56154f58982bb486"
  },
  {
   "metadata": {},
   "cell_type": "markdown",
   "source": "<p>What is the value of the variable <code>a</code> after the following code is executed?</p>",
   "id": "e3a519b95c04f87"
  },
  {
   "metadata": {
    "ExecuteTime": {
     "end_time": "2025-05-27T13:45:24.311970Z",
     "start_time": "2025-05-27T13:45:24.307313Z"
    }
   },
   "cell_type": "code",
   "source": [
    "a = \"1\"\n",
    "a"
   ],
   "id": "7fbf7d79a2b77273",
   "outputs": [
    {
     "data": {
      "text/plain": [
       "'1'"
      ]
     },
     "execution_count": 37,
     "metadata": {},
     "output_type": "execute_result"
    }
   ],
   "execution_count": 37
  },
  {
   "metadata": {},
   "cell_type": "markdown",
   "source": "<p>What is the value of the variable <code>b</code> after the following code is executed?</p>",
   "id": "c4683fbde92eca3f"
  },
  {
   "metadata": {
    "ExecuteTime": {
     "end_time": "2025-05-27T13:45:24.372273Z",
     "start_time": "2025-05-27T13:45:24.368344Z"
    }
   },
   "cell_type": "code",
   "source": [
    "b = \"2\"\n",
    "b"
   ],
   "id": "ddf2a02b23580318",
   "outputs": [
    {
     "data": {
      "text/plain": [
       "'2'"
      ]
     },
     "execution_count": 38,
     "metadata": {},
     "output_type": "execute_result"
    }
   ],
   "execution_count": 38
  },
  {
   "metadata": {},
   "cell_type": "markdown",
   "source": "<p>What is the value of the variable <code>c</code> after the following code is executed?</p>",
   "id": "ab9138ad865cfea0"
  },
  {
   "metadata": {
    "ExecuteTime": {
     "end_time": "2025-05-27T13:45:24.388158Z",
     "start_time": "2025-05-27T13:45:24.383167Z"
    }
   },
   "cell_type": "code",
   "source": [
    "c = a + b\n",
    "c"
   ],
   "id": "7f6ce3a67037533a",
   "outputs": [
    {
     "data": {
      "text/plain": [
       "'12'"
      ]
     },
     "execution_count": 39,
     "metadata": {},
     "output_type": "execute_result"
    }
   ],
   "execution_count": 39
  },
  {
   "metadata": {},
   "cell_type": "markdown",
   "source": "<p>Consider the variable <code>d</code> use slicing to print out the first three elements:</p>",
   "id": "da1c7da4a1af74"
  },
  {
   "metadata": {
    "ExecuteTime": {
     "end_time": "2025-05-27T13:45:24.415053Z",
     "start_time": "2025-05-27T13:45:24.410905Z"
    }
   },
   "cell_type": "code",
   "source": [
    "d = \"ABCDEFG\"\n",
    "d[:3]"
   ],
   "id": "199d4cc335cc0c98",
   "outputs": [
    {
     "data": {
      "text/plain": [
       "'ABC'"
      ]
     },
     "execution_count": 40,
     "metadata": {},
     "output_type": "execute_result"
    }
   ],
   "execution_count": 40
  },
  {
   "metadata": {},
   "cell_type": "markdown",
   "source": "<p>Use a stride value of 2 to print out every second character of the string <code>e</code>:</p>",
   "id": "4188629318c73903"
  },
  {
   "metadata": {
    "ExecuteTime": {
     "end_time": "2025-05-27T13:45:24.439010Z",
     "start_time": "2025-05-27T13:45:24.435747Z"
    }
   },
   "cell_type": "code",
   "source": [
    "e = \"clocrkr1e1c1t\"\n",
    "e[::2]"
   ],
   "id": "8038b86c10a233aa",
   "outputs": [
    {
     "data": {
      "text/plain": [
       "'correct'"
      ]
     },
     "execution_count": 41,
     "metadata": {},
     "output_type": "execute_result"
    }
   ],
   "execution_count": 41
  },
  {
   "metadata": {},
   "cell_type": "markdown",
   "source": "<p>Print out a backslash:</p>",
   "id": "e96a0025e6999d4a"
  },
  {
   "metadata": {
    "ExecuteTime": {
     "end_time": "2025-05-27T13:45:24.460909Z",
     "start_time": "2025-05-27T13:45:24.458460Z"
    }
   },
   "cell_type": "code",
   "source": "print(\"\\\\\")",
   "id": "a832a24e0157c089",
   "outputs": [
    {
     "name": "stdout",
     "output_type": "stream",
     "text": [
      "\\\n"
     ]
    }
   ],
   "execution_count": 42
  },
  {
   "metadata": {},
   "cell_type": "markdown",
   "source": "<p>Convert the variable <code>f</code> to uppercase:</p>",
   "id": "633513312cb7d7f4"
  },
  {
   "metadata": {
    "ExecuteTime": {
     "end_time": "2025-05-27T13:45:24.483747Z",
     "start_time": "2025-05-27T13:45:24.480698Z"
    }
   },
   "cell_type": "code",
   "source": [
    "f = \"You are wrong!\"\n",
    "f.upper()"
   ],
   "id": "a64af9bad54250ef",
   "outputs": [
    {
     "data": {
      "text/plain": [
       "'YOU ARE WRONG!'"
      ]
     },
     "execution_count": 43,
     "metadata": {},
     "output_type": "execute_result"
    }
   ],
   "execution_count": 43
  },
  {
   "metadata": {},
   "cell_type": "markdown",
   "source": "<p>Convert the variable <code>f2</code> to lowercase:</p>",
   "id": "bf404389ece1e483"
  },
  {
   "metadata": {
    "ExecuteTime": {
     "end_time": "2025-05-27T13:45:24.507227Z",
     "start_time": "2025-05-27T13:45:24.503317Z"
    }
   },
   "cell_type": "code",
   "source": [
    "f2 = \"OK, YOU ARE RIGHT.\"\n",
    "f2.lower()"
   ],
   "id": "83c3028f273a675",
   "outputs": [
    {
     "data": {
      "text/plain": [
       "'ok, you are right.'"
      ]
     },
     "execution_count": 44,
     "metadata": {},
     "output_type": "execute_result"
    }
   ],
   "execution_count": 44
  },
  {
   "metadata": {},
   "cell_type": "markdown",
   "source": "<p>Consider the variable <code>g</code>, and find the first index of the sub-string <code>snow</code>:</p>",
   "id": "d309d64d3e1804f3"
  },
  {
   "metadata": {
    "ExecuteTime": {
     "end_time": "2025-05-27T13:45:24.532679Z",
     "start_time": "2025-05-27T13:45:24.528912Z"
    }
   },
   "cell_type": "code",
   "source": [
    "g = \"Mary had a little lamb Little lamb, little lamb Mary had a little lamb \\\n",
    "Its fleece was white as snow And everywhere that Mary went Mary went, Mary went \\\n",
    "Everywhere that Mary went The lamb was sure to go\"\n",
    "\n",
    "g.find(\"snow\")"
   ],
   "id": "d2c75fe80d1fdbf5",
   "outputs": [
    {
     "data": {
      "text/plain": [
       "95"
      ]
     },
     "execution_count": 45,
     "metadata": {},
     "output_type": "execute_result"
    }
   ],
   "execution_count": 45
  },
  {
   "metadata": {},
   "cell_type": "markdown",
   "source": "<p>In the variable <code>g</code>, replace the sub-string <code>Mary</code> with <code>Bob</code>:</p>",
   "id": "597a6034e79fc3fe"
  },
  {
   "metadata": {
    "ExecuteTime": {
     "end_time": "2025-05-27T13:45:24.555410Z",
     "start_time": "2025-05-27T13:45:24.552323Z"
    }
   },
   "cell_type": "code",
   "source": "g.replace(\"Mary\", \"Bob\")",
   "id": "949a29c3cf101691",
   "outputs": [
    {
     "data": {
      "text/plain": [
       "'Bob had a little lamb Little lamb, little lamb Bob had a little lamb Its fleece was white as snow And everywhere that Bob went Bob went, Bob went Everywhere that Bob went The lamb was sure to go'"
      ]
     },
     "execution_count": 46,
     "metadata": {},
     "output_type": "execute_result"
    }
   ],
   "execution_count": 46
  },
  {
   "metadata": {},
   "cell_type": "markdown",
   "source": "<p>In the variable <code>g</code>, replace the sub-string <code>,</code> with <code>.</code>:</p>",
   "id": "754a81893686bde4"
  },
  {
   "metadata": {
    "ExecuteTime": {
     "end_time": "2025-05-27T13:45:24.577464Z",
     "start_time": "2025-05-27T13:45:24.574657Z"
    }
   },
   "cell_type": "code",
   "source": "g.replace(\",\", \".\")",
   "id": "d4b3620280be3119",
   "outputs": [
    {
     "data": {
      "text/plain": [
       "'Mary had a little lamb Little lamb. little lamb Mary had a little lamb Its fleece was white as snow And everywhere that Mary went Mary went. Mary went Everywhere that Mary went The lamb was sure to go'"
      ]
     },
     "execution_count": 47,
     "metadata": {},
     "output_type": "execute_result"
    }
   ],
   "execution_count": 47
  },
  {
   "metadata": {},
   "cell_type": "markdown",
   "source": "<p>In the variable <code>g</code>, split the substring to list:</p>",
   "id": "688e6f76645f855"
  },
  {
   "metadata": {
    "ExecuteTime": {
     "end_time": "2025-05-27T13:45:24.599776Z",
     "start_time": "2025-05-27T13:45:24.596444Z"
    }
   },
   "cell_type": "code",
   "source": "g.split()",
   "id": "1866cb224531d758",
   "outputs": [
    {
     "data": {
      "text/plain": [
       "['Mary',\n",
       " 'had',\n",
       " 'a',\n",
       " 'little',\n",
       " 'lamb',\n",
       " 'Little',\n",
       " 'lamb,',\n",
       " 'little',\n",
       " 'lamb',\n",
       " 'Mary',\n",
       " 'had',\n",
       " 'a',\n",
       " 'little',\n",
       " 'lamb',\n",
       " 'Its',\n",
       " 'fleece',\n",
       " 'was',\n",
       " 'white',\n",
       " 'as',\n",
       " 'snow',\n",
       " 'And',\n",
       " 'everywhere',\n",
       " 'that',\n",
       " 'Mary',\n",
       " 'went',\n",
       " 'Mary',\n",
       " 'went,',\n",
       " 'Mary',\n",
       " 'went',\n",
       " 'Everywhere',\n",
       " 'that',\n",
       " 'Mary',\n",
       " 'went',\n",
       " 'The',\n",
       " 'lamb',\n",
       " 'was',\n",
       " 'sure',\n",
       " 'to',\n",
       " 'go']"
      ]
     },
     "execution_count": 48,
     "metadata": {},
     "output_type": "execute_result"
    }
   ],
   "execution_count": 48
  },
  {
   "metadata": {},
   "cell_type": "markdown",
   "source": "<p>In the string <code>s3</code>, find whether the digit is present or not using the <code>\\d</code> and <code>search() </code>function:</p>",
   "id": "b3b526f13508ff15"
  },
  {
   "metadata": {
    "ExecuteTime": {
     "end_time": "2025-05-27T13:45:24.622076Z",
     "start_time": "2025-05-27T13:45:24.618791Z"
    }
   },
   "cell_type": "code",
   "source": [
    "pattern = r\"\\d\\d\\d\\d\"\n",
    "s3 = \"House number - 3601\"\n",
    "\n",
    "result = re.search(pattern=pattern, string=s3)\n",
    "result.group()"
   ],
   "id": "27db030c2e776a53",
   "outputs": [
    {
     "data": {
      "text/plain": [
       "'3601'"
      ]
     },
     "execution_count": 49,
     "metadata": {},
     "output_type": "execute_result"
    }
   ],
   "execution_count": 49
  },
  {
   "metadata": {},
   "cell_type": "markdown",
   "source": "<p>In the string <code>str1</code>, replace the sub-string <code>fox</code> with <code>bear</code> using <code>sub() </code>function:</p>",
   "id": "881bbcf570918ee6"
  },
  {
   "metadata": {
    "ExecuteTime": {
     "end_time": "2025-05-27T13:45:24.647265Z",
     "start_time": "2025-05-27T13:45:24.644001Z"
    }
   },
   "cell_type": "code",
   "source": [
    "pattern = \"fox\"\n",
    "replacement = \"bear\"\n",
    "str1 = \"The quick brown fox jumps over the lazy dog.\"\n",
    "\n",
    "result = re.sub(pattern=pattern, repl=replacement, string=str1, flags=re.IGNORECASE)\n",
    "result"
   ],
   "id": "b62c34c69d850398",
   "outputs": [
    {
     "data": {
      "text/plain": [
       "'The quick brown bear jumps over the lazy dog.'"
      ]
     },
     "execution_count": 50,
     "metadata": {},
     "output_type": "execute_result"
    }
   ],
   "execution_count": 50
  },
  {
   "metadata": {},
   "cell_type": "markdown",
   "source": "<p>In the string <code>str2</code> find all the occurrences of <code>woo</code> using <code>findall()</code> function:</p>",
   "id": "a3f6b0dc2bc42ed0"
  },
  {
   "metadata": {
    "ExecuteTime": {
     "end_time": "2025-05-27T13:45:24.670739Z",
     "start_time": "2025-05-27T13:45:24.667775Z"
    }
   },
   "cell_type": "code",
   "source": [
    "str2 = \"How much wood would a woodchuck chuck, if a woodchuck could chuck wood?\"\n",
    "pattern = r\"woo\"\n",
    "\n",
    "result = re.findall(pattern=pattern, string=str2)\n",
    "result"
   ],
   "id": "c612170797861007",
   "outputs": [
    {
     "data": {
      "text/plain": [
       "['woo', 'woo', 'woo', 'woo']"
      ]
     },
     "execution_count": 51,
     "metadata": {},
     "output_type": "execute_result"
    }
   ],
   "execution_count": 51
  },
  {
   "metadata": {},
   "cell_type": "markdown",
   "source": [
    "****\n",
    "### Congratulations!\n",
    "This is the end of this file.\n",
    "All assignments in this notebook are completed.\n",
    "Thanks for reviewing my work!\n",
    "****"
   ],
   "id": "4d9d307f7cef01d6"
  }
 ],
 "metadata": {
  "kernelspec": {
   "display_name": "Python 3",
   "language": "python",
   "name": "python3"
  },
  "language_info": {
   "codemirror_mode": {
    "name": "ipython",
    "version": 2
   },
   "file_extension": ".py",
   "mimetype": "text/x-python",
   "name": "python",
   "nbconvert_exporter": "python",
   "pygments_lexer": "ipython2",
   "version": "2.7.6"
  }
 },
 "nbformat": 4,
 "nbformat_minor": 5
}
