{
 "cells": [
  {
   "metadata": {},
   "cell_type": "markdown",
   "source": "## Format Strings",
   "id": "4622364fb77fe545"
  },
  {
   "metadata": {},
   "cell_type": "markdown",
   "source": "Format strings are a way to inject variables into a string in Python. They are used to format strings and produce more human-readable outputs. There are several ways to format strings in Python:",
   "id": "3f6a4b5960a00ed4"
  },
  {
   "metadata": {},
   "cell_type": "markdown",
   "source": "### String interpolation (f-strings)",
   "id": "c7b36fd690bebf1c"
  },
  {
   "metadata": {},
   "cell_type": "markdown",
   "source": "Introduced in Python 3.6, f-strings are a new way to format strings in Python. They are prefixed with 'f' and use curly braces {} to enclose the variables that will be formatted. For example:",
   "id": "963e49cb83750771"
  },
  {
   "metadata": {
    "ExecuteTime": {
     "end_time": "2025-05-27T13:44:55.691257Z",
     "start_time": "2025-05-27T13:44:55.687542Z"
    }
   },
   "cell_type": "code",
   "source": [
    "name = \"John\"\n",
    "age = 18\n",
    "print(f\"My name is {name}, I am {age} years old.\")"
   ],
   "id": "d8eda7cd5b2f1df6",
   "outputs": [
    {
     "name": "stdout",
     "output_type": "stream",
     "text": [
      "My name is John, I am 18 years old.\n"
     ]
    }
   ],
   "execution_count": 1
  },
  {
   "metadata": {},
   "cell_type": "markdown",
   "source": "### str.format()",
   "id": "d9c057166f8062dc"
  },
  {
   "metadata": {},
   "cell_type": "markdown",
   "source": "This is another way to format strings in Python. It uses curly braces {} as placeholders for variables which are passed as arguments in the format() method. For example:",
   "id": "95f721e16360bc0e"
  },
  {
   "metadata": {
    "ExecuteTime": {
     "end_time": "2025-05-27T13:44:55.700269Z",
     "start_time": "2025-05-27T13:44:55.697820Z"
    }
   },
   "cell_type": "code",
   "source": [
    "name = \"Jackson\"\n",
    "age = 50\n",
    "print(\"My name is {}, I am {} years old.\".format(name, age))"
   ],
   "id": "12196772e47d18af",
   "outputs": [
    {
     "name": "stdout",
     "output_type": "stream",
     "text": [
      "My name is Jackson, I am 50 years old.\n"
     ]
    }
   ],
   "execution_count": 2
  },
  {
   "metadata": {},
   "cell_type": "markdown",
   "source": "### % Operator",
   "id": "6ea43d4ed1a1fc70"
  },
  {
   "metadata": {},
   "cell_type": "markdown",
   "source": "This is one of the oldest ways to format strings in Python. It uses the % operator to replace variables in the string. For example:",
   "id": "fd78f72bebeb7c88"
  },
  {
   "metadata": {
    "ExecuteTime": {
     "end_time": "2025-05-27T13:44:55.785434Z",
     "start_time": "2025-05-27T13:44:55.783092Z"
    }
   },
   "cell_type": "code",
   "source": [
    "name = \"Johnathan\"\n",
    "age = 35\n",
    "print(\"My name is %s, I am %d years old.\" % (name, age))"
   ],
   "id": "d34dfd8c360e9f90",
   "outputs": [
    {
     "name": "stdout",
     "output_type": "stream",
     "text": [
      "My name is Johnathan, I am 35 years old.\n"
     ]
    }
   ],
   "execution_count": 3
  },
  {
   "metadata": {},
   "cell_type": "markdown",
   "source": [
    "“My name is %s and I am %d years old.“: This is a string that includes format specifiers:\n",
    "- **%s**: This is a placeholder for a string.\n",
    "- **%d**: This is a placeholder for an integer.\n",
    "\n",
    "**% (name, age)**: This is a tuple containing the variables name and age. The values of these variables will replace the placeholders in the string."
   ],
   "id": "71797c96042843b"
  },
  {
   "metadata": {},
   "cell_type": "markdown",
   "source": "Each of these methods has its own advantages and use cases. However, f-strings are generally considered the most modern and preferred way to format strings in Python due to their readability and performance.",
   "id": "94d84fa4e58fb71c"
  },
  {
   "metadata": {},
   "cell_type": "markdown",
   "source": "### Additional capabilities",
   "id": "799e8c8c95da3679"
  },
  {
   "metadata": {},
   "cell_type": "markdown",
   "source": "F-strings are also able to evaluate expressions inside the curly braces, which can be very handy. For example:",
   "id": "2735a04821538e25"
  },
  {
   "metadata": {
    "ExecuteTime": {
     "end_time": "2025-05-27T13:44:55.795673Z",
     "start_time": "2025-05-27T13:44:55.791434Z"
    }
   },
   "cell_type": "code",
   "source": [
    "x = 20\n",
    "y = 25\n",
    "print(f\"The sum of x and y is {x + y}.\")"
   ],
   "id": "84f394bd5cb9bb3c",
   "outputs": [
    {
     "name": "stdout",
     "output_type": "stream",
     "text": [
      "The sum of x and y is 45.\n"
     ]
    }
   ],
   "execution_count": 4
  },
  {
   "metadata": {},
   "cell_type": "markdown",
   "source": "### Raw String(r' ')",
   "id": "758be4ef804d9601"
  },
  {
   "metadata": {},
   "cell_type": "markdown",
   "source": "In Python, raw strings are a powerful tool for handling textual data, especially when dealing with escape characters. By prefixing a string literal with the letter ‘r’, Python treats the string as raw, meaning it interprets backslashes as literal characters rather than escape sequences.",
   "id": "5677ec0aab0d475a"
  },
  {
   "metadata": {},
   "cell_type": "markdown",
   "source": "Consider the following examples of regular string and raw string:",
   "id": "da2a987d1aee9dab"
  },
  {
   "metadata": {},
   "cell_type": "markdown",
   "source": "Regular string:",
   "id": "9d5cc3910e3dcd69"
  },
  {
   "metadata": {
    "ExecuteTime": {
     "end_time": "2025-05-27T13:44:55.813505Z",
     "start_time": "2025-05-27T13:44:55.811203Z"
    }
   },
   "cell_type": "code",
   "source": [
    "regular_string = \"C:\\new_folder\\file.txt\"\n",
    "print(\"Regular String: \", regular_string)"
   ],
   "id": "d68e62aa95135863",
   "outputs": [
    {
     "name": "stdout",
     "output_type": "stream",
     "text": [
      "Regular String:  C:\n",
      "ew_folder\file.txt\n"
     ]
    }
   ],
   "execution_count": 5
  },
  {
   "metadata": {},
   "cell_type": "markdown",
   "source": "In the regular string regular_string variable, the backslashes (\\n) are interpreted as escape sequences. Therefore, \\n represents a newline character, which would lead to an incorrect file path representation.",
   "id": "7b2a13cbb515dd9a"
  },
  {
   "metadata": {},
   "cell_type": "markdown",
   "source": "Raw String:",
   "id": "2827ba051931646f"
  },
  {
   "metadata": {
    "ExecuteTime": {
     "end_time": "2025-05-27T13:44:55.836347Z",
     "start_time": "2025-05-27T13:44:55.833097Z"
    }
   },
   "cell_type": "code",
   "source": [
    "raw_string = r\"C:\\new_folder\\file.txt\"\n",
    "print(\"Raw String: \", raw_string)"
   ],
   "id": "f9f840f926a19eed",
   "outputs": [
    {
     "name": "stdout",
     "output_type": "stream",
     "text": [
      "Raw String:  C:\\new_folder\\file.txt\n"
     ]
    }
   ],
   "execution_count": 6
  },
  {
   "metadata": {},
   "cell_type": "markdown",
   "source": "However, in the raw string raw_string, the backslashes are treated as literal characters. This means that \\n is not interpreted as a newline character, but rather as two separate characters, \\ and n. Consequently, the file path is represented exactly as it appears.",
   "id": "8eff5f1eaafbc117"
  },
  {
   "metadata": {},
   "cell_type": "markdown",
   "source": [
    "****\n",
    "This is the end of the file.\n",
    "****"
   ],
   "id": "905967b6e2573de1"
  }
 ],
 "metadata": {
  "kernelspec": {
   "display_name": "Python 3",
   "language": "python",
   "name": "python3"
  },
  "language_info": {
   "codemirror_mode": {
    "name": "ipython",
    "version": 2
   },
   "file_extension": ".py",
   "mimetype": "text/x-python",
   "name": "python",
   "nbconvert_exporter": "python",
   "pygments_lexer": "ipython2",
   "version": "2.7.6"
  }
 },
 "nbformat": 4,
 "nbformat_minor": 5
}
