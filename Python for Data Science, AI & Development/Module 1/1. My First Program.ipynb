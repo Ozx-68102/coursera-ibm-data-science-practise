{
 "cells": [
  {
   "metadata": {},
   "cell_type": "markdown",
   "source": "## Say \"Hello\" to the world in Python",
   "id": "3306497a9ee7aad5"
  },
  {
   "metadata": {},
   "cell_type": "markdown",
   "source": [
    "<div class=\"alert alert-success alertsuccess\" style=\"margin-top: 20px\">\n",
    "[Tip]: To run Python code in the cell below:\n",
    "\n",
    "Press <kbd>Shift</kbd> + <kbd>Enter</kbd> to execute the selected cell and move focus to the next cell.<br />\n",
    "Press <kbd>Ctrl</kbd> + <kbd>Enter</kbd> to execute the selected cell and stay focused on it.\n",
    "</div>"
   ],
   "id": "f02dc33bc1cd708b"
  },
  {
   "metadata": {
    "ExecuteTime": {
     "end_time": "2025-05-27T13:43:11.700181Z",
     "start_time": "2025-05-27T13:43:11.695537Z"
    }
   },
   "cell_type": "code",
   "source": [
    "# I'm going to try my first Python Output in Jupyter Notebook\n",
    "print(\"hello world! Hello, Python! Hello, Jupyter Notebook!\")"
   ],
   "id": "11d4fb9a05a8a2",
   "outputs": [
    {
     "name": "stdout",
     "output_type": "stream",
     "text": [
      "hello world! Hello, Python! Hello, Jupyter Notebook!\n"
     ]
    }
   ],
   "execution_count": 1
  },
  {
   "metadata": {},
   "cell_type": "markdown",
   "source": [
    "<div class=\"alert alert-success alertsuccess\" style=\"margin-top: 20px\">\n",
    "    [Tip:] <code>print()</code> is a function. You passed the string <code>\"hello world! Hello, Python! Hello, Jupyter Notebook!\"</code> as an argument to instruct Python on what to print.\n",
    "</div>"
   ],
   "id": "9dd210324dff5e44"
  },
  {
   "metadata": {
    "ExecuteTime": {
     "end_time": "2025-05-27T13:43:11.805882Z",
     "start_time": "2025-05-27T13:43:11.803811Z"
    }
   },
   "cell_type": "code",
   "source": [
    "# Check the python version\n",
    "import sys\n",
    "print(sys.version)"
   ],
   "id": "de68128b58e2c357",
   "outputs": [
    {
     "name": "stdout",
     "output_type": "stream",
     "text": [
      "3.13.0 (tags/v3.13.0:60403a5, Oct  7 2024, 09:38:07) [MSC v.1941 64 bit (AMD64)]\n"
     ]
    }
   ],
   "execution_count": 2
  },
  {
   "metadata": {},
   "cell_type": "markdown",
   "source": "### Errors in Python",
   "id": "741c6cb1745cb612"
  },
  {
   "metadata": {
    "ExecuteTime": {
     "end_time": "2025-05-27T13:43:11.954412Z",
     "start_time": "2025-05-27T13:43:11.811945Z"
    }
   },
   "cell_type": "code",
   "source": [
    "# Making some mistakes in Python\n",
    "printf(\"Hi!\")"
   ],
   "id": "b7a5b8fc8d8fb7bd",
   "outputs": [
    {
     "ename": "NameError",
     "evalue": "name 'printf' is not defined",
     "output_type": "error",
     "traceback": [
      "\u001B[31m---------------------------------------------------------------------------\u001B[39m",
      "\u001B[31mNameError\u001B[39m                                 Traceback (most recent call last)",
      "\u001B[36mCell\u001B[39m\u001B[36m \u001B[39m\u001B[32mIn[3]\u001B[39m\u001B[32m, line 2\u001B[39m\n\u001B[32m      1\u001B[39m \u001B[38;5;66;03m# Making some mistakes in Python\u001B[39;00m\n\u001B[32m----> \u001B[39m\u001B[32m2\u001B[39m \u001B[43mprintf\u001B[49m(\u001B[33m\"\u001B[39m\u001B[33mHi!\u001B[39m\u001B[33m\"\u001B[39m)\n",
      "\u001B[31mNameError\u001B[39m: name 'printf' is not defined"
     ]
    }
   ],
   "execution_count": 3
  },
  {
   "metadata": {},
   "cell_type": "markdown",
   "source": [
    "<p>The error message tells you:\n",
    "<ol>\n",
    "    <li>where the error occurred (more useful in large notebook cells or scripts), and</li>\n",
    "    <li>what kind of error it was (NameError)</li>\n",
    "</ol>\n",
    "<p>Here, Python attempted to run the function <code>printf</code>, but could not determine what <code>printf</code> is since it's not a built-in function and it has not been previously defined by us either.</p>\n",
    "\n",
    "> <small>Actually, <code>printf</code> is a standard library output function in C.</small>"
   ],
   "id": "70c69bcbfdd38456"
  },
  {
   "metadata": {},
   "cell_type": "markdown",
   "source": [
    "<p>\n",
    "    You'll notice that if we make a different type of mistake, by forgetting to close the string, we'll obtain a different error (i.e., a <code>SyntaxError</code>). For example:\n",
    "</p>"
   ],
   "id": "c82908bf0899b5"
  },
  {
   "metadata": {
    "ExecuteTime": {
     "end_time": "2025-05-27T13:43:21.334257Z",
     "start_time": "2025-05-27T13:43:21.329159Z"
    }
   },
   "cell_type": "code",
   "source": "print(Hi!\")",
   "id": "6ec89e9e1f53f1a9",
   "outputs": [
    {
     "ename": "SyntaxError",
     "evalue": "unterminated string literal (detected at line 1) (1382801578.py, line 1)",
     "output_type": "error",
     "traceback": [
      "  \u001B[36mCell\u001B[39m\u001B[36m \u001B[39m\u001B[32mIn[4]\u001B[39m\u001B[32m, line 1\u001B[39m\n\u001B[31m    \u001B[39m\u001B[31mprint(Hi!\")\u001B[39m\n             ^\n\u001B[31mSyntaxError\u001B[39m\u001B[31m:\u001B[39m unterminated string literal (detected at line 1)\n"
     ]
    }
   ],
   "execution_count": 4
  },
  {
   "metadata": {},
   "cell_type": "markdown",
   "source": "### So, does Python know about your error before it runs your code?",
   "id": "aeaee6dbf7f5548"
  },
  {
   "metadata": {},
   "cell_type": "markdown",
   "source": "Python is what is called an <em>interpreted language</em>. Compiled languages examine your entire program at compile time, and are able to warn you about a whole class of errors prior to execution. In contrast, Python interprets your script line by line as it executes it. Python will stop executing the entire program when it encounters an error (unless the error is expected and handled by the programmer, a more advanced subject that we'll cover later on in this course).",
   "id": "c091681aed5fedc7"
  },
  {
   "metadata": {},
   "cell_type": "markdown",
   "source": "Try to run the code in the cell below and see what happens:",
   "id": "62bd8928736bad9e"
  },
  {
   "metadata": {
    "ExecuteTime": {
     "end_time": "2025-05-27T13:43:24.791128Z",
     "start_time": "2025-05-27T13:43:24.777114Z"
    }
   },
   "cell_type": "code",
   "source": [
    "print(\"This will be printed\")\n",
    "printf(\"This will cause an error\")\n",
    "print(\"This will not be printed\")"
   ],
   "id": "7b9bd8f154f20b95",
   "outputs": [
    {
     "name": "stdout",
     "output_type": "stream",
     "text": [
      "This will be printed\n"
     ]
    },
    {
     "ename": "NameError",
     "evalue": "name 'printf' is not defined",
     "output_type": "error",
     "traceback": [
      "\u001B[31m---------------------------------------------------------------------------\u001B[39m",
      "\u001B[31mNameError\u001B[39m                                 Traceback (most recent call last)",
      "\u001B[36mCell\u001B[39m\u001B[36m \u001B[39m\u001B[32mIn[5]\u001B[39m\u001B[32m, line 2\u001B[39m\n\u001B[32m      1\u001B[39m \u001B[38;5;28mprint\u001B[39m(\u001B[33m\"\u001B[39m\u001B[33mThis will be printed\u001B[39m\u001B[33m\"\u001B[39m)\n\u001B[32m----> \u001B[39m\u001B[32m2\u001B[39m \u001B[43mprintf\u001B[49m(\u001B[33m\"\u001B[39m\u001B[33mThis will cause an error\u001B[39m\u001B[33m\"\u001B[39m)\n\u001B[32m      3\u001B[39m \u001B[38;5;28mprint\u001B[39m(\u001B[33m\"\u001B[39m\u001B[33mThis will not be printed\u001B[39m\u001B[33m\"\u001B[39m)\n",
      "\u001B[31mNameError\u001B[39m: name 'printf' is not defined"
     ]
    }
   ],
   "execution_count": 5
  },
  {
   "metadata": {},
   "cell_type": "markdown",
   "source": "### Exercise: First Program",
   "id": "83408e910e902eff"
  },
  {
   "metadata": {},
   "cell_type": "markdown",
   "source": [
    "<p>Generations of programmers have started their coding careers by simply printing \"Hello, world!\". You will be following in their footsteps.</p>\n",
    "<p>In the code cell below, use the <code>print()</code> function to print out the phrase: <code>Hello, world!</code></p>"
   ],
   "id": "d7d948820ba31708"
  },
  {
   "metadata": {
    "ExecuteTime": {
     "end_time": "2025-05-27T13:43:27.015671Z",
     "start_time": "2025-05-27T13:43:27.012903Z"
    }
   },
   "cell_type": "code",
   "source": "print(\"hello world!\")",
   "id": "d031912c642d714d",
   "outputs": [
    {
     "name": "stdout",
     "output_type": "stream",
     "text": [
      "hello world!\n"
     ]
    }
   ],
   "execution_count": 6
  },
  {
   "metadata": {},
   "cell_type": "markdown",
   "source": "<p>Now, let's enhance your code with a comment. In the code cell below, print out the phrase: <code>Hello, world!</code> and comment it with the phrase <code>Print the traditional hello world</code> all in one line of code.</p>",
   "id": "a7355681b4e544ba"
  },
  {
   "metadata": {
    "ExecuteTime": {
     "end_time": "2025-05-27T13:43:29.231083Z",
     "start_time": "2025-05-27T13:43:29.228788Z"
    }
   },
   "cell_type": "code",
   "source": "print(\"hello, world!\")  # Print the traditional hello world",
   "id": "53a3e140b07891c7",
   "outputs": [
    {
     "name": "stdout",
     "output_type": "stream",
     "text": [
      "hello, world!\n"
     ]
    }
   ],
   "execution_count": 7
  },
  {
   "metadata": {},
   "cell_type": "markdown",
   "source": "<p>What is the value of <code>z</code> where <code>z = 2 + 15</code>?</p>",
   "id": "ff30af4d25a73522"
  },
  {
   "metadata": {
    "ExecuteTime": {
     "end_time": "2025-05-27T13:43:31.019274Z",
     "start_time": "2025-05-27T13:43:31.016180Z"
    }
   },
   "cell_type": "code",
   "source": [
    "z = 2 + 15\n",
    "print(z)"
   ],
   "id": "912fdbdb6d4355c5",
   "outputs": [
    {
     "name": "stdout",
     "output_type": "stream",
     "text": [
      "17\n"
     ]
    }
   ],
   "execution_count": 8
  },
  {
   "metadata": {},
   "cell_type": "markdown",
   "source": [
    "****\n",
    "This is the end of this file.\n",
    "****"
   ],
   "id": "ff5ccedf23debf3a"
  }
 ],
 "metadata": {
  "kernelspec": {
   "display_name": "Python 3",
   "language": "python",
   "name": "python3"
  },
  "language_info": {
   "codemirror_mode": {
    "name": "ipython",
    "version": 2
   },
   "file_extension": ".py",
   "mimetype": "text/x-python",
   "name": "python",
   "nbconvert_exporter": "python",
   "pygments_lexer": "ipython2",
   "version": "2.7.6"
  }
 },
 "nbformat": 4,
 "nbformat_minor": 5
}
