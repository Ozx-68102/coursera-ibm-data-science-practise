{
 "cells": [
  {
   "metadata": {},
   "cell_type": "markdown",
   "source": "# What is Text Analysis?",
   "id": "8e8fd71c601e689b"
  },
  {
   "metadata": {},
   "cell_type": "markdown",
   "source": "<p>Text analysis, also known as text mining or text analytics, refers to the process of extracting meaningful information and insights from textual data.</p>",
   "id": "a21b03d3aaf48bdf"
  },
  {
   "metadata": {},
   "cell_type": "markdown",
   "source": "## Setup",
   "id": "5384ef6952bde795"
  },
  {
   "metadata": {},
   "cell_type": "markdown",
   "source": [
    "<p>You will be using the following data types:</p>\n",
    "\n",
    "- List\n",
    "- Strings\n",
    "- Classes and objects"
   ],
   "id": "54488d3f58c41a58"
  },
  {
   "metadata": {},
   "cell_type": "markdown",
   "source": "<p><b>Let's consider a real-life scenario where you are analyzing customer feedback for a product. You have a large data set of customer reviews in the form of strings, and you want to extract useful information from them using the three identified tasks:</b></p>",
   "id": "256e3e1897500fe5"
  },
  {
   "metadata": {},
   "cell_type": "markdown",
   "source": [
    "**Task 1. String in lowercase:**\n",
    "<p>You want to pre-process the customer feedback by converting all the text to lowercase. This step helps standardize the text. Lower casing the text allows you to focus on the content rather than the specific letter casing.</p>"
   ],
   "id": "7bbbf298eb53d597"
  },
  {
   "metadata": {},
   "cell_type": "markdown",
   "source": [
    "**Task 2. Frequency of all words in a given string:**\n",
    "<p>After converting the text to lowercase, you want to determine the frequency of each word in the customer feedback. This information will help you identify which words are used more frequently, indicating the key aspects or topics that customers are mentioning in their reviews. By analyzing the word frequencies, you can gain insights into the most common issues raised by customers.</p>"
   ],
   "id": "20ad9b651eb2c5a5"
  },
  {
   "metadata": {},
   "cell_type": "markdown",
   "source": [
    "**Task 3. Frequency of a specific word:**\n",
    "<p>In addition to analyzing the overall word frequencies, you want to specifically track the frequency of a particular word that is relevant to your analysis. For example, you might be interested in monitoring how often the word \"reliable\" appears in customer reviews to gauge customer sentiment about the product's reliability. By focusing on the frequency of a specific word, you can gain a deeper understanding of customer opinions or preferences related to that particular aspect.</p>"
   ],
   "id": "8d22ee8ce546616c"
  },
  {
   "metadata": {},
   "cell_type": "markdown",
   "source": "<p>By performing these tasks on the customer feedback dataset, you can gain valuable insights into customer sentiment.</p>",
   "id": "872a40c560f78ab7"
  },
  {
   "metadata": {},
   "cell_type": "markdown",
   "source": "## Part A",
   "id": "a57844204df149c6"
  },
  {
   "metadata": {},
   "cell_type": "markdown",
   "source": "<p><b>Note: In Part-A, you would not be getting any output as you are just storing the string and creating a class.</b></p>",
   "id": "c1458cf8faee3dbf"
  },
  {
   "metadata": {},
   "cell_type": "markdown",
   "source": "### Step 1 - Define a string",
   "id": "45b2ec2c6b452b72"
  },
  {
   "metadata": {
    "ExecuteTime": {
     "end_time": "2025-06-04T12:22:37.151016Z",
     "start_time": "2025-06-04T12:22:37.147805Z"
    }
   },
   "cell_type": "code",
   "source": "given_string = \"I am A. I am 18 years old. I love Python very much.\"",
   "id": "c64d70a9f3ff5c5c",
   "outputs": [],
   "execution_count": 1
  },
  {
   "metadata": {},
   "cell_type": "markdown",
   "source": "<p><b>To achieve the tasks mentioned in the scenario, you need to create a class with three different methods.</b></p>",
   "id": "acc43aa037be7730"
  },
  {
   "metadata": {},
   "cell_type": "markdown",
   "source": "### Step 2 - Define the class and its attributes",
   "id": "56f2dee821750cc2"
  },
  {
   "metadata": {},
   "cell_type": "markdown",
   "source": [
    "1. Create a class named TextAnalyzer.\n",
    "2. Define the constructor `__init__` method that takes a text argument."
   ],
   "id": "daef01c420b693b3"
  },
  {
   "metadata": {
    "ExecuteTime": {
     "end_time": "2025-06-04T12:22:37.244898Z",
     "start_time": "2025-06-04T12:22:37.242792Z"
    }
   },
   "cell_type": "code",
   "source": [
    "class TextAnalyzer(object):\n",
    "    def __init__(self, text: str):\n",
    "        # The __init__ method initializes the class with a \"text\" parameter.\n",
    "        # You will store the provided \"text\" as an instance variable.\n",
    "        pass"
   ],
   "id": "6eb06b2f97b6c7b0",
   "outputs": [],
   "execution_count": 2
  },
  {
   "metadata": {},
   "cell_type": "markdown",
   "source": "### Step 3 - Implement a code to format the text in lowercase",
   "id": "274b1ded068d702d"
  },
  {
   "metadata": {},
   "cell_type": "markdown",
   "source": [
    "1. Inside the constructor, convert the text argument to lowercase using the `lower()` method.\n",
    "2. Then, remove punctuation marks (periods, exclamation marks, commas, and question marks) from the text using the `replace()` method.\n",
    "3. Finally, assign the formatted text to a new attribute called fmtText."
   ],
   "id": "c79d0733b984e8b1"
  },
  {
   "metadata": {
    "ExecuteTime": {
     "end_time": "2025-06-04T12:22:37.259424Z",
     "start_time": "2025-06-04T12:22:37.256239Z"
    }
   },
   "cell_type": "code",
   "source": [
    "class TextAnalyzer(TextAnalyzer):\n",
    "    def __init__(self, text: str) -> None:\n",
    "        # periods, exclamation marks, commas and question marks\n",
    "        formatted_text = text.replace(\".\", \"\").replace(\"!\", \"\").replace(\"?\", \"\").replace(\",\", \"\")\n",
    "        self.fmtText = formatted_text.lower()"
   ],
   "id": "b77d36d58ad752e0",
   "outputs": [],
   "execution_count": 3
  },
  {
   "metadata": {},
   "cell_type": "markdown",
   "source": "### Step 4 - Implement a code to count the frequency of all unique words",
   "id": "9e2b3da110d1dc90"
  },
  {
   "metadata": {},
   "cell_type": "markdown",
   "source": [
    "<p>In this step, you will implement the <code>freq_all()</code> method with the below parameters:</p>\n",
    "\n",
    "1. Split the fmtText attribute into individual words using the `split()` method.\n",
    "2. Create an empty dictionary to store the word frequency.\n",
    "3. Iterate over the list of words and update the frequency dictionary accordingly.\n",
    "4. Use `count` method for counting the occurence.\n",
    "5. Return the frequency dictionary."
   ],
   "id": "c6ca43eb7a666e45"
  },
  {
   "metadata": {
    "ExecuteTime": {
     "end_time": "2025-06-04T12:22:37.272173Z",
     "start_time": "2025-06-04T12:22:37.269218Z"
    }
   },
   "cell_type": "code",
   "source": [
    "class TextAnalyzer(TextAnalyzer):\n",
    "    def freq_all(self) -> dict[str, int]:\n",
    "        individual_words = self.fmtText.split()\n",
    "        return {key: individual_words.count(key) for key in set(individual_words)}"
   ],
   "id": "34befbfaf58e4f9f",
   "outputs": [],
   "execution_count": 4
  },
  {
   "metadata": {},
   "cell_type": "markdown",
   "source": "### Step 5 - Implement a code to count the frequency of a specific word",
   "id": "1a80205e7c3ad17f"
  },
  {
   "metadata": {},
   "cell_type": "markdown",
   "source": [
    "<p>In step-5, you have to implement the <code>freq_of(word)</code> method that takes a word argument:</p>\n",
    "\n",
    "1. Create a method and pass the word that needs to be found.\n",
    "2. Get the `freq_all` method to look for count and check if that word is in the list.\n",
    "3. Return the count. If the word is not found, the count returned is 0."
   ],
   "id": "7888fdbb0e5a8e5b"
  },
  {
   "metadata": {
    "ExecuteTime": {
     "end_time": "2025-06-04T12:22:37.293168Z",
     "start_time": "2025-06-04T12:22:37.290776Z"
    }
   },
   "cell_type": "code",
   "source": [
    "class TextAnalyzer(TextAnalyzer):\n",
    "    def freq_of(self, word: str) -> int:\n",
    "        freq_dic = self.freq_all()\n",
    "        return freq_dic[word] if word in freq_dic else 0"
   ],
   "id": "7575e92a2d132f24",
   "outputs": [],
   "execution_count": 5
  },
  {
   "metadata": {},
   "cell_type": "markdown",
   "source": "<p><b>Now, you have successfully created a class with three methods.</b></p>",
   "id": "1a186ccfed63bdfa"
  },
  {
   "metadata": {},
   "cell_type": "markdown",
   "source": "## Part B",
   "id": "27c4c91155ccd136"
  },
  {
   "metadata": {},
   "cell_type": "markdown",
   "source": "<p><b>In Part B, you will call the functions created in Part A, allowing the functions to execute and generate output.</b></p>",
   "id": "6ab6fe57332f1b5a"
  },
  {
   "metadata": {},
   "cell_type": "markdown",
   "source": "### Step 1 - Create an instance of `TextAnalyzer` class",
   "id": "17b468a05a95ffee"
  },
  {
   "metadata": {},
   "cell_type": "markdown",
   "source": "<p>Instantiate the TextAnalyzer class by passing the given string as an argument.</p>",
   "id": "5b8ada432870b3f9"
  },
  {
   "metadata": {
    "ExecuteTime": {
     "end_time": "2025-06-04T12:22:37.305790Z",
     "start_time": "2025-06-04T12:22:37.303609Z"
    }
   },
   "cell_type": "code",
   "source": "ta_object = TextAnalyzer(given_string)",
   "id": "8adb925e08188af2",
   "outputs": [],
   "execution_count": 6
  },
  {
   "metadata": {},
   "cell_type": "markdown",
   "source": "### Step 2 - Call the function that converts the data into lowercase",
   "id": "9b3851255d509126"
  },
  {
   "metadata": {
    "ExecuteTime": {
     "end_time": "2025-06-04T12:22:37.324190Z",
     "start_time": "2025-06-04T12:22:37.320295Z"
    }
   },
   "cell_type": "code",
   "source": "ta_object.fmtText",
   "id": "6b832745773d7531",
   "outputs": [
    {
     "data": {
      "text/plain": [
       "'i am a i am 18 years old i love python very much'"
      ]
     },
     "execution_count": 7,
     "metadata": {},
     "output_type": "execute_result"
    }
   ],
   "execution_count": 7
  },
  {
   "metadata": {},
   "cell_type": "markdown",
   "source": "### Step 3 - Call the function that counts the frequency of all unique words from the data",
   "id": "cca27031fb0ae0d4"
  },
  {
   "metadata": {
    "ExecuteTime": {
     "end_time": "2025-06-04T12:22:37.357032Z",
     "start_time": "2025-06-04T12:22:37.353838Z"
    }
   },
   "cell_type": "code",
   "source": "ta_object.freq_all()",
   "id": "acef88a6690596f",
   "outputs": [
    {
     "data": {
      "text/plain": [
       "{'love': 1,\n",
       " 'a': 1,\n",
       " 'am': 2,\n",
       " 'years': 1,\n",
       " 'much': 1,\n",
       " 'very': 1,\n",
       " 'i': 3,\n",
       " 'python': 1,\n",
       " '18': 1,\n",
       " 'old': 1}"
      ]
     },
     "execution_count": 8,
     "metadata": {},
     "output_type": "execute_result"
    }
   ],
   "execution_count": 8
  },
  {
   "metadata": {},
   "cell_type": "markdown",
   "source": "### Step 4 - Call the function that counts the frequency of a specific word",
   "id": "d78f505eea2e4e2b"
  },
  {
   "metadata": {
    "ExecuteTime": {
     "end_time": "2025-06-04T12:22:37.397837Z",
     "start_time": "2025-06-04T12:22:37.394437Z"
    }
   },
   "cell_type": "code",
   "source": "ta_object.freq_of(\"i\")",
   "id": "1f59b0ac7cad7403",
   "outputs": [
    {
     "data": {
      "text/plain": [
       "3"
      ]
     },
     "execution_count": 9,
     "metadata": {},
     "output_type": "execute_result"
    }
   ],
   "execution_count": 9
  },
  {
   "metadata": {},
   "cell_type": "markdown",
   "source": [
    "****\n",
    "This is the end of the file.\n",
    "****"
   ],
   "id": "fae1fddbd78fc5f4"
  }
 ],
 "metadata": {
  "kernelspec": {
   "display_name": "Python 3",
   "language": "python",
   "name": "python3"
  },
  "language_info": {
   "codemirror_mode": {
    "name": "ipython",
    "version": 2
   },
   "file_extension": ".py",
   "mimetype": "text/x-python",
   "name": "python",
   "nbconvert_exporter": "python",
   "pygments_lexer": "ipython2",
   "version": "2.7.6"
  }
 },
 "nbformat": 4,
 "nbformat_minor": 5
}
