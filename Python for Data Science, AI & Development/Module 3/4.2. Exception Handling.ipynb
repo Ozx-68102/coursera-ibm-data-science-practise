{
 "cells": [
  {
   "metadata": {},
   "cell_type": "markdown",
   "source": "# What is an Exception?",
   "id": "f947bbb506f5af21"
  },
  {
   "metadata": {},
   "cell_type": "markdown",
   "source": "## Definition",
   "id": "d1107b81c1799116"
  },
  {
   "metadata": {},
   "cell_type": "markdown",
   "source": "<p>An exception is an error that occurs during the execution of code. This error causes the code to raise an exception and if not prepared to handle it will halt the execution of the code.</p>",
   "id": "5691de4ad3fdb812"
  },
  {
   "metadata": {},
   "cell_type": "markdown",
   "source": "## Examples",
   "id": "88e0b4f553f92428"
  },
  {
   "metadata": {},
   "cell_type": "markdown",
   "source": "<p>Run each piece of code and observe the exception raised.</p>",
   "id": "81b94c90d8622ab"
  },
  {
   "metadata": {
    "ExecuteTime": {
     "end_time": "2025-06-03T13:19:59.481617Z",
     "start_time": "2025-06-03T13:19:59.152460Z"
    }
   },
   "cell_type": "code",
   "source": "1/0",
   "id": "e53d69f1ceff1635",
   "outputs": [
    {
     "ename": "ZeroDivisionError",
     "evalue": "division by zero",
     "output_type": "error",
     "traceback": [
      "\u001B[31m---------------------------------------------------------------------------\u001B[39m",
      "\u001B[31mZeroDivisionError\u001B[39m                         Traceback (most recent call last)",
      "\u001B[36mCell\u001B[39m\u001B[36m \u001B[39m\u001B[32mIn[1]\u001B[39m\u001B[32m, line 1\u001B[39m\n\u001B[32m----> \u001B[39m\u001B[32m1\u001B[39m \u001B[32;43m1\u001B[39;49m\u001B[43m/\u001B[49m\u001B[32;43m0\u001B[39;49m\n",
      "\u001B[31mZeroDivisionError\u001B[39m: division by zero"
     ]
    }
   ],
   "execution_count": 1
  },
  {
   "metadata": {},
   "cell_type": "markdown",
   "source": "<p><code>ZeroDivisionError</code> occurs when you try to divide by zero.</p>",
   "id": "fdfb3b0f511a9739"
  },
  {
   "metadata": {
    "ExecuteTime": {
     "end_time": "2025-06-03T13:20:03.767217Z",
     "start_time": "2025-06-03T13:20:03.713655Z"
    }
   },
   "cell_type": "code",
   "source": "y = a + 4",
   "id": "1711bcba8ae49ed6",
   "outputs": [
    {
     "ename": "NameError",
     "evalue": "name 'a' is not defined",
     "output_type": "error",
     "traceback": [
      "\u001B[31m---------------------------------------------------------------------------\u001B[39m",
      "\u001B[31mNameError\u001B[39m                                 Traceback (most recent call last)",
      "\u001B[36mCell\u001B[39m\u001B[36m \u001B[39m\u001B[32mIn[2]\u001B[39m\u001B[32m, line 1\u001B[39m\n\u001B[32m----> \u001B[39m\u001B[32m1\u001B[39m y = \u001B[43ma\u001B[49m + \u001B[32m4\u001B[39m\n",
      "\u001B[31mNameError\u001B[39m: name 'a' is not defined"
     ]
    }
   ],
   "execution_count": 2
  },
  {
   "metadata": {},
   "cell_type": "markdown",
   "source": "<p><code>NameError</code> - in this case, it means that you tried to use the variable a when it was not defined.</p>",
   "id": "8d504ad482cb2843"
  },
  {
   "metadata": {
    "ExecuteTime": {
     "end_time": "2025-06-03T13:20:06.576278Z",
     "start_time": "2025-06-03T13:20:06.548073Z"
    }
   },
   "cell_type": "code",
   "source": [
    "a = [1, 2, 3, 4]\n",
    "a[5]"
   ],
   "id": "b265fe7584e2b30f",
   "outputs": [
    {
     "ename": "IndexError",
     "evalue": "list index out of range",
     "output_type": "error",
     "traceback": [
      "\u001B[31m---------------------------------------------------------------------------\u001B[39m",
      "\u001B[31mIndexError\u001B[39m                                Traceback (most recent call last)",
      "\u001B[36mCell\u001B[39m\u001B[36m \u001B[39m\u001B[32mIn[3]\u001B[39m\u001B[32m, line 2\u001B[39m\n\u001B[32m      1\u001B[39m a = [\u001B[32m1\u001B[39m, \u001B[32m2\u001B[39m, \u001B[32m3\u001B[39m, \u001B[32m4\u001B[39m]\n\u001B[32m----> \u001B[39m\u001B[32m2\u001B[39m \u001B[43ma\u001B[49m\u001B[43m[\u001B[49m\u001B[32;43m5\u001B[39;49m\u001B[43m]\u001B[49m\n",
      "\u001B[31mIndexError\u001B[39m: list index out of range"
     ]
    }
   ],
   "execution_count": 3
  },
  {
   "metadata": {},
   "cell_type": "markdown",
   "source": "<p><code>IndexError</code> - in this case, it occurred because you tried to access data from a list using an index that does not exist for this list.</p>",
   "id": "2a4da61e45ef4f17"
  },
  {
   "metadata": {},
   "cell_type": "markdown",
   "source": "## Exception Handling",
   "id": "dac05ce793551977"
  },
  {
   "metadata": {},
   "cell_type": "markdown",
   "source": "### `Try` Except",
   "id": "c7ff9d4d80e5456e"
  },
  {
   "metadata": {},
   "cell_type": "markdown",
   "source": "<p>A <code>try except</code> will allow you to execute code that might raise an exception and in the case of any exception or a specific one we can handle or catch the exception and execute specific code. This will allow us to continue the execution of our program even if there is an exception.</p>",
   "id": "29fcf7a44aae8a72"
  },
  {
   "metadata": {},
   "cell_type": "markdown",
   "source": "<p>Python tries to execute the code in the <code>try</code> block. In this case if there is any exception raised by the code in the <code>try</code> block, it will be caught and the code block in the <code>except</code> block will be executed. After that, the code that comes <em>after</em> the try except will be executed.</p>",
   "id": "a7c9ab60374b3e85"
  },
  {
   "metadata": {},
   "cell_type": "markdown",
   "source": [
    "**Syntax**:\n",
    "\n",
    "```Python\n",
    "try:\n",
    "    pass    # code to try to execute\n",
    "except:\n",
    "    pass    # code to execute if there is an exception\n",
    "\n",
    "# code that will still execute if there is an exception\n",
    "```"
   ],
   "id": "124e5125c17c5972"
  },
  {
   "metadata": {},
   "cell_type": "markdown",
   "source": "### `Try - Except` Example",
   "id": "905c99e2b36d292c"
  },
  {
   "metadata": {},
   "cell_type": "markdown",
   "source": "<p>In this example we are trying to divide a number given by the user, save the outcome in the variable <code>a</code>, and then we would like to print the result of the operation. When taking user input and dividing a number by it there are a couple of exceptions that can be raised. For example if we divide by zero. Try running the following block of code with <code>b</code> as a number. An exception will only be raised if <code>b</code> is zero.</p>",
   "id": "ff591019d5648b8a"
  },
  {
   "metadata": {
    "ExecuteTime": {
     "end_time": "2025-06-03T13:20:17.368477Z",
     "start_time": "2025-06-03T13:20:17.357791Z"
    }
   },
   "cell_type": "code",
   "source": [
    "a = 1\n",
    "try:\n",
    "    b = 0\n",
    "    a = a / b\n",
    "    print(f\"Success for a/b={a}\")\n",
    "except:\n",
    "    print(\"There was an error occurred.\")"
   ],
   "id": "e51d80c83b47368a",
   "outputs": [
    {
     "name": "stdout",
     "output_type": "stream",
     "text": [
      "There was an error occurred.\n"
     ]
    }
   ],
   "execution_count": 4
  },
  {
   "metadata": {},
   "cell_type": "markdown",
   "source": "### `Try - Except` Specific",
   "id": "cf413d21bd9a854a"
  },
  {
   "metadata": {},
   "cell_type": "markdown",
   "source": "<p>A specific <code>try except</code> allows you to catch certain exceptions and also execute certain code depending on the exception. This is useful if you do not want to deal with some exceptions and the execution should halt. It can also help you find errors in your code that you might not be aware of. Furthermore, it can help you differentiate responses to different exceptions. In this case, the code after the try except might not run depending on the error.</p>",
   "id": "6b96a7d8b1bf88dd"
  },
  {
   "metadata": {},
   "cell_type": "markdown",
   "source": [
    "**Syntax1**:\n",
    "\n",
    "```Python\n",
    "# protential code before try...catch...\n",
    "\n",
    "try:\n",
    "    pass    # code to try to execute\n",
    "except (ZeroDivisionError, NameError):\n",
    "    pass    # code to execute if there is an exception of the given types\n",
    "\n",
    "# code that will execute if there is no exception or a one that we are handling\n",
    "```"
   ],
   "id": "31677fe97d9245ce"
  },
  {
   "metadata": {},
   "cell_type": "markdown",
   "source": [
    "**Syntax2**:\n",
    "\n",
    "```Python\n",
    "# protential code before try...catch...\n",
    "\n",
    "try:\n",
    "    pass    # code to try to execute\n",
    "except ZeroDivisionError:\n",
    "    pass    # code to execute if there is a ZeroDivisionError\n",
    "except NameError:\n",
    "    pass    # code to execute if there is a NameError\n",
    "\n",
    "# code that will execute if there is no exception or a one that we are handling\n",
    "```"
   ],
   "id": "1980c092adc9572a"
  },
  {
   "metadata": {},
   "cell_type": "markdown",
   "source": "<p>You can also have an empty <code>except</code> at the end to catch an unexpected exception:</p>",
   "id": "c97472fae14708e4"
  },
  {
   "metadata": {},
   "cell_type": "markdown",
   "source": [
    "**Syntax3**:\n",
    "\n",
    "```Python\n",
    "# potential code before try catch\n",
    "\n",
    "try:\n",
    "    pass    # code to try to execute\n",
    "except ZeroDivisionError:\n",
    "    pass    # code to execute if there is a ZeroDivisionError\n",
    "except NameError:\n",
    "    pass    # code to execute if there is a NameError\n",
    "except:\n",
    "    pass    # code to execute if there is any exception\n",
    "\n",
    "# code that will execute if there is no exception or a one that we are handling\n",
    "```"
   ],
   "id": "2d7e487c7b748a83"
  },
  {
   "metadata": {},
   "cell_type": "markdown",
   "source": "### `Try - Except` Specific Example",
   "id": "a6ce195d0ac054d5"
  },
  {
   "metadata": {},
   "cell_type": "markdown",
   "source": "<p>This is the same example as above, but now we will add differentiated messages depending on the exception, letting the user know what is wrong with the input.</p>",
   "id": "e9bd8af1b8aa0406"
  },
  {
   "metadata": {
    "ExecuteTime": {
     "end_time": "2025-06-03T13:20:33.150954Z",
     "start_time": "2025-06-03T13:20:26.282384Z"
    }
   },
   "cell_type": "code",
   "source": [
    "a = 1\n",
    "\n",
    "try:\n",
    "    b = int(input(\"Please enter a number to divide a:\"))\n",
    "    a = a / b\n",
    "    print(f\"Success for a/b={a}\")\n",
    "except ZeroDivisionError:\n",
    "    print(\"The number you provided can't divide 1 because it is 0\")\n",
    "except ValueError:\n",
    "    print(\"You didn't provide a number\")\n",
    "except:\n",
    "    print(\"Something went wrong\")"
   ],
   "id": "72a62759dc1663c4",
   "outputs": [
    {
     "name": "stdout",
     "output_type": "stream",
     "text": [
      "The number you provided can't divide 1 because it is 0\n"
     ]
    }
   ],
   "execution_count": 5
  },
  {
   "metadata": {},
   "cell_type": "markdown",
   "source": "### `Try - Except - Else` and `Finally`",
   "id": "a0364b03fd85355c"
  },
  {
   "metadata": {},
   "cell_type": "markdown",
   "source": "<p><code>else</code> allows one to check if there was no exception when executing the try block. This is useful when we want to execute something only if there were no errors.</p>",
   "id": "d7193cd1eb345929"
  },
  {
   "metadata": {},
   "cell_type": "markdown",
   "source": [
    "**Syntax4**:\n",
    "\n",
    "```Python\n",
    "# potential code before try catch\n",
    "\n",
    "try:\n",
    "    pass    # code to try to execute\n",
    "except ZeroDivisionError:\n",
    "    pass    # code to execute if there is a ZeroDivisionError\n",
    "except NameError:\n",
    "    pass    # code to execute if there is a NameError\n",
    "except:\n",
    "    pass    # code to execute if ther is any exception\n",
    "else:\n",
    "    pass    # code to execute if there is no exception\n",
    "\n",
    "# code that will execute if there is no exception or a one that we are handling\n",
    "```"
   ],
   "id": "240e9662ad18e023"
  },
  {
   "metadata": {},
   "cell_type": "markdown",
   "source": "<p><code>finally</code> allows us to always execute something even if there is an exception or not. This is usually used to signify the end of the try except.</p>",
   "id": "f0571c9f27980e5a"
  },
  {
   "metadata": {},
   "cell_type": "markdown",
   "source": [
    "**Syntax5**:\n",
    "\n",
    "```Python\n",
    "# potential code before try catch\n",
    "\n",
    "try:\n",
    "    pass    # code to try to execute\n",
    "except ZeroDivisionError:\n",
    "    pass    # code to execute if there is a ZeroDivisionError\n",
    "except NameError:\n",
    "    pass    # code to execute if there is a NameError\n",
    "except:\n",
    "    pass    # code to execute if ther is any exception\n",
    "else:\n",
    "    pass    # code to execute if there is no exception\n",
    "finally:\n",
    "    pass    # code to execute at the end of the try except no matter what\n",
    "\n",
    "# code that will execute if there is no exception or a one that we are handling\n",
    "```"
   ],
   "id": "83b74f930c52f59b"
  },
  {
   "metadata": {},
   "cell_type": "markdown",
   "source": "### `Try - Except - Else` and `Finally` Example",
   "id": "7645f00c0e23b446"
  },
  {
   "metadata": {},
   "cell_type": "markdown",
   "source": "<p>You might have noticed that even if there is an error the value of <code>a</code> is always printed. Let's use the <code>else</code> and print the value of <code>a</code> only if there is no error.</p>",
   "id": "306f32eb6a83c1ef"
  },
  {
   "metadata": {
    "ExecuteTime": {
     "end_time": "2025-06-03T13:20:44.225938Z",
     "start_time": "2025-06-03T13:20:42.097060Z"
    }
   },
   "cell_type": "code",
   "source": [
    "a = 2\n",
    "\n",
    "try:\n",
    "    b = int(input(\"Please enter a number to divide a:\"))\n",
    "    a = a / b\n",
    "except ZeroDivisionError:\n",
    "    print(\"The number you provided can't divide 1 because it is 0\")\n",
    "except ValueError:\n",
    "    print(\"You didn't provide a number\")\n",
    "except:\n",
    "    print(\"Something went wrong\")\n",
    "else:\n",
    "    print(f\"Success for a/b={a}\")"
   ],
   "id": "5cfc04ae76297f5f",
   "outputs": [
    {
     "name": "stdout",
     "output_type": "stream",
     "text": [
      "You didn't provide a number\n"
     ]
    }
   ],
   "execution_count": 6
  },
  {
   "metadata": {},
   "cell_type": "markdown",
   "source": "<p>Now let's let the user know that we are done processing their answer. Using the <code>finally</code>, let's add a print.</p>",
   "id": "53bc130dac003d9a"
  },
  {
   "metadata": {
    "ExecuteTime": {
     "end_time": "2025-06-03T13:20:52.327991Z",
     "start_time": "2025-06-03T13:20:48.630430Z"
    }
   },
   "cell_type": "code",
   "source": [
    "a = 4\n",
    "\n",
    "try:\n",
    "    b = int(input(\"Please enter a number to divide a:\"))\n",
    "    a = a / b\n",
    "except ZeroDivisionError:\n",
    "    print(\"The number you provided can't divide 1 because it is 0\")\n",
    "except ValueError:\n",
    "    print(\"You didn't provide a number\")\n",
    "except:\n",
    "    print(\"Something went wrong\")\n",
    "else:\n",
    "    print(f\"Success for a/b={a}\")\n",
    "finally:\n",
    "    print(\"Processing completed.\")"
   ],
   "id": "4313fb46d9df51ee",
   "outputs": [
    {
     "name": "stdout",
     "output_type": "stream",
     "text": [
      "Success for a/b=2.0\n",
      "Processing completed.\n"
     ]
    }
   ],
   "execution_count": 7
  },
  {
   "metadata": {},
   "cell_type": "markdown",
   "source": "## Practice Exercises",
   "id": "e2ae93a05b47a7b1"
  },
  {
   "metadata": {},
   "cell_type": "markdown",
   "source": "### Exercise 1: Handling `ZeroDivisionError`",
   "id": "d59ce745686a4793"
  },
  {
   "metadata": {},
   "cell_type": "markdown",
   "source": "<p>Imagine you have two numbers and want to determine what happens when you divide one number by the other. To do this, you need to create a Python function called `safe_divide`. You give this function two numbers, a <code>numerator</code> and a <code>denominator</code>. The <code>numerator</code> is the number you want to divide, and the <code>denominator</code> is the number you want to divide by. Use the user input method of Python to take the values.</p>",
   "id": "2b5c1ad4ff5cbd90"
  },
  {
   "metadata": {},
   "cell_type": "markdown",
   "source": "<p>The function should be able to do the division for you and give you the result. But here's the catch: if you try to divide by zero (which is not allowed in math), the function should be smart enough to catch that and tell you that it's not possible to divide by zero. Instead of showing an error, it should return None, which means \"nothing\" or \"no value\", and print <code>Error: Cannot divide by Zero</code>.</p>",
   "id": "ea5a03974d1a401b"
  },
  {
   "metadata": {
    "ExecuteTime": {
     "end_time": "2025-06-03T13:21:02.488268Z",
     "start_time": "2025-06-03T13:20:57.458969Z"
    }
   },
   "cell_type": "code",
   "source": [
    "def division(aa: int | float, bb: int | float):\n",
    "    try:\n",
    "        cc = aa / bb\n",
    "        return cc\n",
    "    except ZeroDivisionError as e:\n",
    "        print(\"An error occurred: \", e)\n",
    "        return None\n",
    "\n",
    "numerator = int(input(\"Enter the numerator value: \"))\n",
    "denominator = int(input(\"Enter the denominator value: \"))\n",
    "print(division(numerator, denominator))"
   ],
   "id": "f796f3ed40fe8749",
   "outputs": [
    {
     "name": "stdout",
     "output_type": "stream",
     "text": [
      "1.3333333333333333\n"
     ]
    }
   ],
   "execution_count": 8
  },
  {
   "metadata": {},
   "cell_type": "markdown",
   "source": "### Exercise 2: Handling ValueError",
   "id": "59e197069281c7ca"
  },
  {
   "metadata": {},
   "cell_type": "markdown",
   "source": "<p>Imagine you have a number and want to calculate its square root. To do this, you need to create a Python function. You give this function one number <code>number1</code>.</p>",
   "id": "b980b7968e5ae9af"
  },
  {
   "metadata": {},
   "cell_type": "markdown",
   "source": "<p>The function should generate the square root value if you provide a positive integer or float value as input. However, the function should be clever enough to detect the mistake if you enter a negative value. It should kindly inform you with a message saying <code>Invalid input! Please enter a positive integer or a float value.</code></p>",
   "id": "558ef76ebda093ce"
  },
  {
   "metadata": {
    "ExecuteTime": {
     "end_time": "2025-06-03T13:21:12.135755Z",
     "start_time": "2025-06-03T13:21:08.979139Z"
    }
   },
   "cell_type": "code",
   "source": [
    "import math\n",
    "def square_root_calculate(num: int | float) -> None:\n",
    "    try:\n",
    "        results = math.sqrt(num)\n",
    "        print(f\"Results: {results}\")\n",
    "    except ValueError as e:\n",
    "        print(\"An value error occurred: \", e)\n",
    "\n",
    "\n",
    "number1 = float(input(\"Enter the number: \"))\n",
    "square_root_calculate(number1)"
   ],
   "id": "e34daf969957a344",
   "outputs": [
    {
     "name": "stdout",
     "output_type": "stream",
     "text": [
      "Results: 3.0\n"
     ]
    }
   ],
   "execution_count": 9
  },
  {
   "metadata": {},
   "cell_type": "markdown",
   "source": "<p><b>Note: Practice handling exceptions by trying different input types like using integers, strings, zero, negative values, or other data types.</b></p>",
   "id": "20f62ac457c18d56"
  },
  {
   "metadata": {},
   "cell_type": "markdown",
   "source": "### Exercise 3: Handling Generic Exceptions",
   "id": "f0652cd5dc02f6d1"
  },
  {
   "metadata": {},
   "cell_type": "markdown",
   "source": "<p>Imagine you have a number and want to perform a complex mathematical task. The calculation requires dividing the value of the input argument <code>num</code> by the difference between <code>num</code> and 5, and the result has to be stored in a variable called <code>result</code>.</p>",
   "id": "83c28a397c7466aa"
  },
  {
   "metadata": {},
   "cell_type": "markdown",
   "source": "<p>You have to define a function so that it can perform that complex mathematical task. The function should handle any potential errors that occur during the calculation. To do this, you can use a <code>try-except</code> block. If any exception arises during the calculation, it should catch the error using the generic exception class <code>Exception as e</code>. When an exception occurs, the function should display <code>An error occurred during calculation</code>.</p>",
   "id": "7e5783056ff4e536"
  },
  {
   "metadata": {
    "ExecuteTime": {
     "end_time": "2025-06-03T13:21:20.997613Z",
     "start_time": "2025-06-03T13:21:17.477331Z"
    }
   },
   "cell_type": "code",
   "source": [
    "def complex_calculate(num: int | float) -> None:\n",
    "    try:\n",
    "        results = num ** 2 / (num - 10)\n",
    "        print(f\"Results: {results}\")\n",
    "    except Exception as e:\n",
    "        print(f\"An error occurred during calculation: {e}.\")\n",
    "\n",
    "user_input = float(input(\"Enter the number: \"))\n",
    "complex_calculate(user_input)"
   ],
   "id": "76955e72f28517bd",
   "outputs": [
    {
     "name": "stdout",
     "output_type": "stream",
     "text": [
      "Results: -16.333333333333332\n"
     ]
    }
   ],
   "execution_count": 10
  },
  {
   "metadata": {},
   "cell_type": "markdown",
   "source": [
    "****\n",
    "This is the end of the file.\n",
    "****"
   ],
   "id": "e1e5ecb418d8275f"
  }
 ],
 "metadata": {
  "kernelspec": {
   "display_name": "Python 3",
   "language": "python",
   "name": "python3"
  },
  "language_info": {
   "codemirror_mode": {
    "name": "ipython",
    "version": 2
   },
   "file_extension": ".py",
   "mimetype": "text/x-python",
   "name": "python",
   "nbconvert_exporter": "python",
   "pygments_lexer": "ipython2",
   "version": "2.7.6"
  }
 },
 "nbformat": 4,
 "nbformat_minor": 5
}
