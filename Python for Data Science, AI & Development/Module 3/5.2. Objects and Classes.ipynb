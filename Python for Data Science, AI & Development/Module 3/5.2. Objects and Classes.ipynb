{
 "cells": [
  {
   "metadata": {},
   "cell_type": "markdown",
   "source": "## Introduction to Classes and Objects",
   "id": "f5265ba5e72e3575"
  },
  {
   "metadata": {},
   "cell_type": "markdown",
   "source": "### Creating a Class",
   "id": "f5eed7f942472d03"
  },
  {
   "metadata": {},
   "cell_type": "markdown",
   "source": "<p>The first step in creating a class is giving it a name. In this notebook, we will create two classes: Circle and Rectangle. We need to determine all the data that make up that class, which we call <em>attributes</em>. Think about this step as creating a blue print that we will use to create objects. In figure 1 we see two classes, Circle and Rectangle. Each has their attributes, which are variables. The class Circle has the attribute radius and color, while the Rectangle class has the attribute height and width.</p>",
   "id": "fde5f83d1866b398"
  },
  {
   "metadata": {},
   "cell_type": "markdown",
   "source": "<p><i>Figure 1: Classes circle and rectangle, and each has their own attributes. The class Circle has the attribute radius and colour, the class Rectangle has the attributes height and width.</i></p>",
   "id": "922d9182e9724151"
  },
  {
   "metadata": {},
   "cell_type": "markdown",
   "source": "### Instance of a Class: Objects and Attributes",
   "id": "f881ddc19455ef24"
  },
  {
   "metadata": {},
   "cell_type": "markdown",
   "source": "<p>An instance of an object is the realisation of a class, and in Figure 2 we see three instances of the class circle. We give each object a name: red circle, yellow circle, and green circle. Each object has different attributes, so let's focus on the color attribute for each object.</p>",
   "id": "7eff88818c2ef66b"
  },
  {
   "metadata": {},
   "cell_type": "markdown",
   "source": [
    "<svg width=\"350\" height=\"120\">\n",
    "    <circle cx=\"80\" cy=\"60\" r=\"25\" fill=\"red\" />\n",
    "    <circle cx=\"180\" cy=\"60\" r=\"15\" fill=\"green\" />\n",
    "    <circle cx=\"280\" cy=\"60\" r=\"35\" fill=\"yellow\" />\n",
    "</svg>"
   ],
   "id": "b25db1713d2b06e1"
  },
  {
   "metadata": {},
   "cell_type": "markdown",
   "source": "<p><i>Figure 2: Three instances of the class Circle, or three objects of type Circle.</i></p>",
   "id": "863b35dde3ac2486"
  },
  {
   "metadata": {},
   "cell_type": "markdown",
   "source": "<p>The colour attribute for the red Circle is the colour red, for the green Circle object the colour attribute is green, and for the yellow Circle the colour attribute is yellow.</p>",
   "id": "d48acca03bbbd9b6"
  },
  {
   "metadata": {},
   "cell_type": "markdown",
   "source": "### Methods",
   "id": "f0ddbfa41697b38d"
  },
  {
   "metadata": {},
   "cell_type": "markdown",
   "source": "<p>Methods give you a way to change or interact with the object; they are functions that interact with objects. For example, let’s say we would like to increase the radius of a circle by a specified amount. We can create a method called <b>add_radius(r)</b> that increases the radius by <b>r</b>. This is shown in figure 3, where after applying the method to the \"orange circle object\", the radius of the object increases accordingly. The “dot” notation means to apply the method to the object, which is essentially applying a function to the information in the object.</p>",
   "id": "3c19bcb7552c70dc"
  },
  {
   "metadata": {},
   "cell_type": "markdown",
   "source": [
    "<svg width=\"300\" height=\"120\">\n",
    "    <!-- Left circle with radius 2 units -->\n",
    "    <circle cx=\"60\" cy=\"60\" r=\"20\" fill=\"#FF6B6B\" stroke=\"#000\" stroke-width=\"1\" />\n",
    "    <!-- Left circle with radius 4 units -->\n",
    "    <circle cx=\"240\" cy=\"60\" r=\"40\" fill=\"#4ECDC4\" stroke=\"#000\" stroke-width=\"1\" />\n",
    "    <!-- Arrow connecting the two circles -->\n",
    "    <line x1=\"80\" y1=\"60\" x2=\"200\" y2=\"60\" stroke=\"#333\" stroke-width=\"2\" />\n",
    "    <!-- Arrowhead (triangle at end of shaft) -->\n",
    "    <polygon points=\"200,60 190,55 190,65\" fill=\"#333\" />\n",
    "    <!-- Annotation text above the arrow -->\n",
    "    <text x=\"140\" y=\"45\" font-size=\"14\" text-anchor=\"middle\" />add_radius(2)</text>\n",
    "</svg>"
   ],
   "id": "1726d854cf4a0172"
  },
  {
   "metadata": {},
   "cell_type": "markdown",
   "source": "<p><i>Figure 3: Applying the method “add_radius” to the object orange circle object.</i></p>",
   "id": "18313407b3e96f30"
  },
  {
   "metadata": {},
   "cell_type": "markdown",
   "source": "## Creating a Class",
   "id": "fde1811809700dac"
  },
  {
   "metadata": {},
   "cell_type": "markdown",
   "source": "<p>Now we are going to create a class Circle, but first, we are going to import a library to draw the objects:</p>",
   "id": "8d566e13d3371745"
  },
  {
   "metadata": {
    "ExecuteTime": {
     "end_time": "2025-06-04T06:03:12.942293Z",
     "start_time": "2025-06-04T06:03:12.601912Z"
    }
   },
   "cell_type": "code",
   "source": [
    "import matplotlib.pyplot as plt\n",
    "%matplotlib inline"
   ],
   "id": "eeb76c85a15c04e6",
   "outputs": [],
   "execution_count": 1
  },
  {
   "metadata": {},
   "cell_type": "markdown",
   "source": "<p>The first step in creating your own class is to use the <code>class</code> keyword, then the name of the class as shown in Figure 4. In this course the class parent will always be an object:</p>",
   "id": "2a8663d87d1794c3"
  },
  {
   "metadata": {},
   "cell_type": "markdown",
   "source": [
    "```Python\n",
    "class Circle(object):\n",
    "```\n",
    "\n",
    "- **class**: Class Definition\n",
    "- **Circle**: Name of Class\n",
    "- **object**: Class Parent, will just be object for this coerce"
   ],
   "id": "a1657047e826a105"
  },
  {
   "metadata": {},
   "cell_type": "markdown",
   "source": "<p><i>Figure 4: Creating a class Circle.</i></p>",
   "id": "8c3db10213e5364c"
  },
  {
   "metadata": {},
   "cell_type": "markdown",
   "source": "<p>The next step is a special method called a constructor <code>__init__</code>, which is used to initialize the object. The inputs are data attributes. The term <code>self</code> contains all the attributes in the set. For example the <code>self.color</code> gives the value of the attribute color and <code>self.radius</code> will give you the radius of the object. We also have the method <code>add_radius()</code> with the parameter <code>r</code>, the method adds the value of <code>r</code> to the attribute radius. To access the radius we use the syntax <code>self.radius</code>. The labeled syntax is summarized in Figure 5:</p>",
   "id": "2f2f007ab905eecf"
  },
  {
   "metadata": {},
   "cell_type": "markdown",
   "source": [
    "```Python\n",
    "class Circle(object):   # Define your class\n",
    "    # Data attributes used to initialize object\n",
    "    def __init__(self, radius, color):\n",
    "        self.radius = radius\n",
    "        self.color\n",
    "\n",
    "    # Method used to add `r` to radius\n",
    "    def add_radius(self, r):\n",
    "        self.radius += r\n",
    "        return self.radius\n",
    "```"
   ],
   "id": "ea52a0144b9cb357"
  },
  {
   "metadata": {},
   "cell_type": "markdown",
   "source": "<p><i>Figure 5: Labeled syntax of the object circle.</i></p>",
   "id": "fa2d9b4de12f9c78"
  },
  {
   "metadata": {},
   "cell_type": "markdown",
   "source": "<p>The actual object is shown below. We include the method <code>drawCircle</code> to display the image of a circle. We set the default radius to 3 and the default colour to blue:</p>",
   "id": "d92607b3e1dbd508"
  },
  {
   "metadata": {
    "ExecuteTime": {
     "end_time": "2025-06-04T06:03:13.046383Z",
     "start_time": "2025-06-04T06:03:13.043207Z"
    }
   },
   "cell_type": "code",
   "source": [
    "class Circle(object):\n",
    "    def __init__(self, radius: int = 3, color: str = \"blue\"):\n",
    "        self.radius = radius\n",
    "        self.color = color.lower()\n",
    "\n",
    "    def add_radius(self, radius: int):\n",
    "        self.radius += radius\n",
    "        return self.radius\n",
    "\n",
    "    def draw_circle(self):\n",
    "        plt.gca().add_patch(plt.Circle((0, 0), radius=self.radius, fc=self.color))\n",
    "        plt.axis(\"scaled\")\n",
    "        plt.show()"
   ],
   "id": "4f5e88227a24d5f8",
   "outputs": [],
   "execution_count": 2
  },
  {
   "metadata": {},
   "cell_type": "markdown",
   "source": "## Creating an instance of a class Circle",
   "id": "6ecdb2368694d52b"
  },
  {
   "metadata": {},
   "cell_type": "markdown",
   "source": "<p>Let’s create the object <code>RedCircle</code> of type Circle to do the following:</p>",
   "id": "6dea2220308eb854"
  },
  {
   "metadata": {
    "ExecuteTime": {
     "end_time": "2025-06-04T06:03:13.061046Z",
     "start_time": "2025-06-04T06:03:13.058452Z"
    }
   },
   "cell_type": "code",
   "source": "RedCircle = Circle(5, \"red\")",
   "id": "3bd1532d2786ee71",
   "outputs": [],
   "execution_count": 3
  },
  {
   "metadata": {},
   "cell_type": "markdown",
   "source": "<p>We can use the <code>dir</code> command to get a list of the object's methods. Many of them are default Python methods.</p>",
   "id": "1ac1e03758db53e9"
  },
  {
   "metadata": {
    "ExecuteTime": {
     "end_time": "2025-06-04T06:03:13.080539Z",
     "start_time": "2025-06-04T06:03:13.075920Z"
    }
   },
   "cell_type": "code",
   "source": "dir(RedCircle)",
   "id": "d7a80bcee5274bd3",
   "outputs": [
    {
     "data": {
      "text/plain": [
       "['__class__',\n",
       " '__delattr__',\n",
       " '__dict__',\n",
       " '__dir__',\n",
       " '__doc__',\n",
       " '__eq__',\n",
       " '__firstlineno__',\n",
       " '__format__',\n",
       " '__ge__',\n",
       " '__getattribute__',\n",
       " '__getstate__',\n",
       " '__gt__',\n",
       " '__hash__',\n",
       " '__init__',\n",
       " '__init_subclass__',\n",
       " '__le__',\n",
       " '__lt__',\n",
       " '__module__',\n",
       " '__ne__',\n",
       " '__new__',\n",
       " '__reduce__',\n",
       " '__reduce_ex__',\n",
       " '__repr__',\n",
       " '__setattr__',\n",
       " '__sizeof__',\n",
       " '__static_attributes__',\n",
       " '__str__',\n",
       " '__subclasshook__',\n",
       " '__weakref__',\n",
       " 'add_radius',\n",
       " 'color',\n",
       " 'draw_circle',\n",
       " 'radius']"
      ]
     },
     "execution_count": 4,
     "metadata": {},
     "output_type": "execute_result"
    }
   ],
   "execution_count": 4
  },
  {
   "metadata": {},
   "cell_type": "markdown",
   "source": "<p>We can look at the data attributes of the object:</p>",
   "id": "560698c6c90d11ca"
  },
  {
   "metadata": {
    "ExecuteTime": {
     "end_time": "2025-06-04T06:03:13.206732Z",
     "start_time": "2025-06-04T06:03:13.203531Z"
    }
   },
   "cell_type": "code",
   "source": [
    "# Print the object attribute radius\n",
    "RedCircle.radius"
   ],
   "id": "bc8dd7d6fa35ee5d",
   "outputs": [
    {
     "data": {
      "text/plain": [
       "5"
      ]
     },
     "execution_count": 5,
     "metadata": {},
     "output_type": "execute_result"
    }
   ],
   "execution_count": 5
  },
  {
   "metadata": {
    "ExecuteTime": {
     "end_time": "2025-06-04T06:03:13.270600Z",
     "start_time": "2025-06-04T06:03:13.266901Z"
    }
   },
   "cell_type": "code",
   "source": [
    "# Print the object attribute color\n",
    "RedCircle.color"
   ],
   "id": "e4445a9b91d571fd",
   "outputs": [
    {
     "data": {
      "text/plain": [
       "'red'"
      ]
     },
     "execution_count": 6,
     "metadata": {},
     "output_type": "execute_result"
    }
   ],
   "execution_count": 6
  },
  {
   "metadata": {},
   "cell_type": "markdown",
   "source": "<p>We can change the object's data attributes:</p>",
   "id": "e3cce3fc7b136b00"
  },
  {
   "metadata": {
    "ExecuteTime": {
     "end_time": "2025-06-04T06:03:13.309437Z",
     "start_time": "2025-06-04T06:03:13.306034Z"
    }
   },
   "cell_type": "code",
   "source": [
    "RedCircle.radius = 3\n",
    "RedCircle.radius"
   ],
   "id": "fa64ea6f76b124eb",
   "outputs": [
    {
     "data": {
      "text/plain": [
       "3"
      ]
     },
     "execution_count": 7,
     "metadata": {},
     "output_type": "execute_result"
    }
   ],
   "execution_count": 7
  },
  {
   "metadata": {},
   "cell_type": "markdown",
   "source": "We can draw the object by using the method <code>draw_circle()</code>:",
   "id": "721ee00fcb77e250"
  },
  {
   "metadata": {
    "ExecuteTime": {
     "end_time": "2025-06-04T06:03:13.414394Z",
     "start_time": "2025-06-04T06:03:13.347427Z"
    }
   },
   "cell_type": "code",
   "source": "RedCircle.draw_circle()",
   "id": "8ae36f3f0acce920",
   "outputs": [
    {
     "data": {
      "text/plain": [
       "<Figure size 640x480 with 1 Axes>"
      ],
      "image/png": "[encoded data removed]"
     },
     "metadata": {},
     "output_type": "display_data"
    }
   ],
   "execution_count": 8
  },
  {
   "metadata": {},
   "cell_type": "markdown",
   "source": "<p>We can increase the radius of the circle by applying the method <code>add_radius()</code>. Let's increases the radius by 2 and then by 5:</p>",
   "id": "f67f3d569b331f1f"
  },
  {
   "metadata": {
    "ExecuteTime": {
     "end_time": "2025-06-04T06:03:13.434001Z",
     "start_time": "2025-06-04T06:03:13.430384Z"
    }
   },
   "cell_type": "code",
   "source": [
    "print(f\"Radius of object: {RedCircle.radius}\")\n",
    "RedCircle.add_radius(3)\n",
    "print(f\"Radius of object of after applying the method `add_radius(3)`: {RedCircle.radius}\")\n",
    "RedCircle.add_radius(8)\n",
    "print(f\"Radius of object of after applying the method `add_radius(8)`: {RedCircle.radius}\")"
   ],
   "id": "d22f792b3ddb1942",
   "outputs": [
    {
     "name": "stdout",
     "output_type": "stream",
     "text": [
      "Radius of object: 3\n",
      "Radius of object of after applying the method `add_radius(3)`: 6\n",
      "Radius of object of after applying the method `add_radius(8)`: 14\n"
     ]
    }
   ],
   "execution_count": 9
  },
  {
   "metadata": {},
   "cell_type": "markdown",
   "source": "<p>Let’s create a blue circle. As the default colour is blue, all we have to do is specify what the radius is:</p>",
   "id": "1fd4a26910699dd9"
  },
  {
   "metadata": {
    "ExecuteTime": {
     "end_time": "2025-06-04T06:03:13.473644Z",
     "start_time": "2025-06-04T06:03:13.470929Z"
    }
   },
   "cell_type": "code",
   "source": "BlueCircle = Circle(30)",
   "id": "d50ae269a0d2680d",
   "outputs": [],
   "execution_count": 10
  },
  {
   "metadata": {},
   "cell_type": "markdown",
   "source": "<p>As before, we can access the attributes of the instance of the class by using the dot notation:</p>",
   "id": "8889ed97c1f07c75"
  },
  {
   "metadata": {
    "ExecuteTime": {
     "end_time": "2025-06-04T06:03:13.513243Z",
     "start_time": "2025-06-04T06:03:13.508887Z"
    }
   },
   "cell_type": "code",
   "source": "BlueCircle.radius",
   "id": "f60668dffca66bde",
   "outputs": [
    {
     "data": {
      "text/plain": [
       "30"
      ]
     },
     "execution_count": 11,
     "metadata": {},
     "output_type": "execute_result"
    }
   ],
   "execution_count": 11
  },
  {
   "metadata": {
    "ExecuteTime": {
     "end_time": "2025-06-04T06:03:13.543629Z",
     "start_time": "2025-06-04T06:03:13.540001Z"
    }
   },
   "cell_type": "code",
   "source": "BlueCircle.color",
   "id": "de59607ac09d4abb",
   "outputs": [
    {
     "data": {
      "text/plain": [
       "'blue'"
      ]
     },
     "execution_count": 12,
     "metadata": {},
     "output_type": "execute_result"
    }
   ],
   "execution_count": 12
  },
  {
   "metadata": {},
   "cell_type": "markdown",
   "source": "<p>We can draw the object by using the method <code>draw_circle()</code>:</p>",
   "id": "b90ed268d7035168"
  },
  {
   "metadata": {
    "ExecuteTime": {
     "end_time": "2025-06-04T06:03:13.647029Z",
     "start_time": "2025-06-04T06:03:13.596050Z"
    }
   },
   "cell_type": "code",
   "source": "BlueCircle.draw_circle()",
   "id": "c369eca83871f62",
   "outputs": [
    {
     "data": {
      "text/plain": [
       "<Figure size 640x480 with 1 Axes>"
      ],
      "image/png": "[encoded data removed]"
     },
     "metadata": {},
     "output_type": "display_data"
    }
   ],
   "execution_count": 13
  },
  {
   "metadata": {},
   "cell_type": "markdown",
   "source": "<p>Compare the x and y axis of the figure to the figure for <code>RedCircle</code>. They are different.",
   "id": "e181e82233318b62"
  },
  {
   "metadata": {},
   "cell_type": "markdown",
   "source": "## The Rectangle Class",
   "id": "b1a056747e3d1c8a"
  },
  {
   "metadata": {},
   "cell_type": "markdown",
   "source": "<p>Let's create a class rectangle with the attributes of height, width, and color. We will only add the method to draw the rectangle object:</p>",
   "id": "7b9b7da6b6ac9c1"
  },
  {
   "metadata": {
    "ExecuteTime": {
     "end_time": "2025-06-04T06:03:13.665554Z",
     "start_time": "2025-06-04T06:03:13.660888Z"
    }
   },
   "cell_type": "code",
   "source": [
    "class Rectangle(object):\n",
    "    def __init__(self, width: int = 2, height: int = 3, color: str = \"red\"):\n",
    "        self.width = width\n",
    "        self.height = height\n",
    "        self.color = color.lower()\n",
    "\n",
    "    def draw_rectangle(self):\n",
    "        plt.gca().add_patch(plt.Rectangle((0, 0), width=self.width, height=self.height, fc=self.color))\n",
    "        plt.axis(\"scaled\")\n",
    "        plt.show()"
   ],
   "id": "3f022c9d900df52a",
   "outputs": [],
   "execution_count": 14
  },
  {
   "metadata": {},
   "cell_type": "markdown",
   "source": "<p>Let’s create the object <code>SkinnyBlueRectangle</code> of type Rectangle. Its width will be 2 and height will be 3, and the color will be blue:</p>",
   "id": "250d7615bca541d6"
  },
  {
   "metadata": {
    "ExecuteTime": {
     "end_time": "2025-06-04T06:03:13.688447Z",
     "start_time": "2025-06-04T06:03:13.685019Z"
    }
   },
   "cell_type": "code",
   "source": "SkinnyBlueRectangle = Rectangle(width=10, height=10, color=\"blue\")",
   "id": "a87eb7e1bb234e88",
   "outputs": [],
   "execution_count": 15
  },
  {
   "metadata": {},
   "cell_type": "markdown",
   "source": "<p>As before we can access the attributes of the instance of the class by using the dot notation:</p>",
   "id": "1bec48f43ba8303a"
  },
  {
   "metadata": {
    "ExecuteTime": {
     "end_time": "2025-06-04T06:03:13.709930Z",
     "start_time": "2025-06-04T06:03:13.705733Z"
    }
   },
   "cell_type": "code",
   "source": "SkinnyBlueRectangle.height",
   "id": "9d8bb5de59d1e635",
   "outputs": [
    {
     "data": {
      "text/plain": [
       "10"
      ]
     },
     "execution_count": 16,
     "metadata": {},
     "output_type": "execute_result"
    }
   ],
   "execution_count": 16
  },
  {
   "metadata": {
    "ExecuteTime": {
     "end_time": "2025-06-04T06:03:13.739496Z",
     "start_time": "2025-06-04T06:03:13.735768Z"
    }
   },
   "cell_type": "code",
   "source": "SkinnyBlueRectangle.width",
   "id": "d41940c534ae065a",
   "outputs": [
    {
     "data": {
      "text/plain": [
       "10"
      ]
     },
     "execution_count": 17,
     "metadata": {},
     "output_type": "execute_result"
    }
   ],
   "execution_count": 17
  },
  {
   "metadata": {
    "ExecuteTime": {
     "end_time": "2025-06-04T06:03:13.770661Z",
     "start_time": "2025-06-04T06:03:13.766273Z"
    }
   },
   "cell_type": "code",
   "source": "SkinnyBlueRectangle.color",
   "id": "e5a67af091b79e18",
   "outputs": [
    {
     "data": {
      "text/plain": [
       "'blue'"
      ]
     },
     "execution_count": 18,
     "metadata": {},
     "output_type": "execute_result"
    }
   ],
   "execution_count": 18
  },
  {
   "metadata": {},
   "cell_type": "markdown",
   "source": "<p>We can draw the object:</p>",
   "id": "7dec0790517b361e"
  },
  {
   "metadata": {
    "ExecuteTime": {
     "end_time": "2025-06-04T06:03:13.843324Z",
     "start_time": "2025-06-04T06:03:13.797239Z"
    }
   },
   "cell_type": "code",
   "source": "SkinnyBlueRectangle.draw_rectangle()",
   "id": "7689d3fb7c654e48",
   "outputs": [
    {
     "data": {
      "text/plain": [
       "<Figure size 640x480 with 1 Axes>"
      ],
      "image/png": "[encoded data removed]"
     },
     "metadata": {},
     "output_type": "display_data"
    }
   ],
   "execution_count": 19
  },
  {
   "metadata": {},
   "cell_type": "markdown",
   "source": "<p>Let’s create the object <code>FatYellowRectangle</code> of type Rectangle:</p>",
   "id": "750087b9d7f36e22"
  },
  {
   "metadata": {
    "ExecuteTime": {
     "end_time": "2025-06-04T06:03:13.876278Z",
     "start_time": "2025-06-04T06:03:13.873840Z"
    }
   },
   "cell_type": "code",
   "source": "FatYellowRectangle = Rectangle(20, 5, \"yellow\")",
   "id": "8e015a2ce8bd983b",
   "outputs": [],
   "execution_count": 20
  },
  {
   "metadata": {},
   "cell_type": "markdown",
   "source": "<p>We can access the attributes of the instance of the class by using the dot notation:</p>",
   "id": "2588e50d51ccf264"
  },
  {
   "metadata": {
    "ExecuteTime": {
     "end_time": "2025-06-04T06:03:13.898891Z",
     "start_time": "2025-06-04T06:03:13.895415Z"
    }
   },
   "cell_type": "code",
   "source": "FatYellowRectangle.height",
   "id": "1fbd1fa16b175403",
   "outputs": [
    {
     "data": {
      "text/plain": [
       "5"
      ]
     },
     "execution_count": 21,
     "metadata": {},
     "output_type": "execute_result"
    }
   ],
   "execution_count": 21
  },
  {
   "metadata": {
    "ExecuteTime": {
     "end_time": "2025-06-04T06:03:13.939920Z",
     "start_time": "2025-06-04T06:03:13.936280Z"
    }
   },
   "cell_type": "code",
   "source": "FatYellowRectangle.width",
   "id": "ce13e26e8e4217eb",
   "outputs": [
    {
     "data": {
      "text/plain": [
       "20"
      ]
     },
     "execution_count": 22,
     "metadata": {},
     "output_type": "execute_result"
    }
   ],
   "execution_count": 22
  },
  {
   "metadata": {
    "ExecuteTime": {
     "end_time": "2025-06-04T06:03:13.987472Z",
     "start_time": "2025-06-04T06:03:13.983868Z"
    }
   },
   "cell_type": "code",
   "source": "FatYellowRectangle.color",
   "id": "e70ec11787d38906",
   "outputs": [
    {
     "data": {
      "text/plain": [
       "'yellow'"
      ]
     },
     "execution_count": 23,
     "metadata": {},
     "output_type": "execute_result"
    }
   ],
   "execution_count": 23
  },
  {
   "metadata": {},
   "cell_type": "markdown",
   "source": "<p>We can draw the object:</p>",
   "id": "ef9a45b0e24fd4ae"
  },
  {
   "metadata": {
    "ExecuteTime": {
     "end_time": "2025-06-04T06:03:14.075005Z",
     "start_time": "2025-06-04T06:03:14.031704Z"
    }
   },
   "cell_type": "code",
   "source": "FatYellowRectangle.draw_rectangle()",
   "id": "c030ebce81f998ac",
   "outputs": [
    {
     "data": {
      "text/plain": [
       "<Figure size 640x480 with 1 Axes>"
      ],
      "image/png": "[encoded data removed]"
     },
     "metadata": {},
     "output_type": "display_data"
    }
   ],
   "execution_count": 24
  },
  {
   "metadata": {},
   "cell_type": "markdown",
   "source": "## Scenario: Car dealership's inventory management system",
   "id": "eb1664b3fe3eb17d"
  },
  {
   "metadata": {},
   "cell_type": "markdown",
   "source": "<p>You are working on a Python program to simulate a car dealership's inventory management system. The system aims to model cars and their attributes accurately.</p>",
   "id": "7adf2b187f0ee4a0"
  },
  {
   "metadata": {},
   "cell_type": "markdown",
   "source": "### Task 1",
   "id": "2a73332f2873966e"
  },
  {
   "metadata": {},
   "cell_type": "markdown",
   "source": "<p>You are tasked with creating a Python program to represent vehicles using a class. Each car should have attributes for maximum speed and mileage.</p>",
   "id": "10b22878d20e1189"
  },
  {
   "metadata": {
    "ExecuteTime": {
     "end_time": "2025-06-04T06:03:14.084104Z",
     "start_time": "2025-06-04T06:03:14.081509Z"
    }
   },
   "cell_type": "code",
   "source": [
    "class Vehicle(object):\n",
    "    def __init__(self, max_speed: int, mileage: int | float):\n",
    "        self.max_speed = max_speed\n",
    "        self.mileage = mileage"
   ],
   "id": "b7cde3465c6f54dd",
   "outputs": [],
   "execution_count": 25
  },
  {
   "metadata": {},
   "cell_type": "markdown",
   "source": "### Task 2",
   "id": "11504cbc199e6f4d"
  },
  {
   "metadata": {},
   "cell_type": "markdown",
   "source": "<p>Update the class with the default color for all vehicles <code>white</code>.</p>",
   "id": "4b5f2c413812d8f1"
  },
  {
   "metadata": {
    "ExecuteTime": {
     "end_time": "2025-06-04T06:03:14.095146Z",
     "start_time": "2025-06-04T06:03:14.092833Z"
    }
   },
   "cell_type": "code",
   "source": [
    "class Vehicle(Vehicle):\n",
    "    color = \"white\""
   ],
   "id": "fa9b5d6d5b618905",
   "outputs": [],
   "execution_count": 26
  },
  {
   "metadata": {},
   "cell_type": "markdown",
   "source": "### Task 3",
   "id": "f5ec698024af9d91"
  },
  {
   "metadata": {},
   "cell_type": "markdown",
   "source": "<p>Additionally, you need to create methods in the Vehicle class to assign seating capacity to a vehicle.</p>",
   "id": "32f47fd14cf99f74"
  },
  {
   "metadata": {
    "ExecuteTime": {
     "end_time": "2025-06-04T06:03:14.118184Z",
     "start_time": "2025-06-04T06:03:14.115028Z"
    }
   },
   "cell_type": "code",
   "source": [
    "class Vehicle(Vehicle):\n",
    "    def __init__(self, max_speed: int, mileage: int | float):\n",
    "        super().__init__(max_speed, mileage)\n",
    "        self.seat = None\n",
    "\n",
    "    def assign_seating_capacity(self, seat: int):\n",
    "        self.seat = seat"
   ],
   "id": "27273fd6b3307008",
   "outputs": [],
   "execution_count": 27
  },
  {
   "metadata": {},
   "cell_type": "markdown",
   "source": "### Task 4",
   "id": "9de56756c2d956c"
  },
  {
   "metadata": {},
   "cell_type": "markdown",
   "source": "<p>Create a method to display all the properties of an object of the class.</p>",
   "id": "145c7f10e4839ab7"
  },
  {
   "metadata": {
    "ExecuteTime": {
     "end_time": "2025-06-04T06:03:14.146021Z",
     "start_time": "2025-06-04T06:03:14.142380Z"
    }
   },
   "cell_type": "code",
   "source": [
    "class Vehicle(Vehicle):\n",
    "    def display_all(self):\n",
    "        print(\"Properties of the vehicle:\")\n",
    "        print(\"Max Speed:\", self.max_speed)\n",
    "        print(\"Mileage:\", self.mileage)\n",
    "        print(\"Color:\", self.color)\n",
    "        print(\"Seat:\", self.seat)"
   ],
   "id": "3faa21a8f45877f2",
   "outputs": [],
   "execution_count": 28
  },
  {
   "metadata": {},
   "cell_type": "markdown",
   "source": "### Task 5",
   "id": "3b4b08d155701edc"
  },
  {
   "metadata": {},
   "cell_type": "markdown",
   "source": "<p>Additionally, you need to create two objects of the Vehicle class object that should have a max speed of 200kph and mileage of 50000 KMPL with five seating capacities, and another car object should have a max speed of 180kph and 75000KMPL with four seating capacities.</p>",
   "id": "54d5a0db1f17504f"
  },
  {
   "metadata": {
    "ExecuteTime": {
     "end_time": "2025-06-04T06:03:14.176576Z",
     "start_time": "2025-06-04T06:03:14.172967Z"
    }
   },
   "cell_type": "code",
   "source": [
    "vehicle1 = Vehicle(200, 50000)\n",
    "vehicle1.assign_seating_capacity(5)\n",
    "vehicle1.display_all()"
   ],
   "id": "c01a76c00f9d92cc",
   "outputs": [
    {
     "name": "stdout",
     "output_type": "stream",
     "text": [
      "Properties of the vehicle:\n",
      "Max Speed: 200\n",
      "Mileage: 50000\n",
      "Color: white\n",
      "Seat: 5\n"
     ]
    }
   ],
   "execution_count": 29
  },
  {
   "metadata": {
    "ExecuteTime": {
     "end_time": "2025-06-04T06:03:14.222547Z",
     "start_time": "2025-06-04T06:03:14.219122Z"
    }
   },
   "cell_type": "code",
   "source": [
    "vehicle2 = Vehicle(180, 75000)\n",
    "vehicle2.assign_seating_capacity(4)\n",
    "vehicle2.display_all()"
   ],
   "id": "871ed43286d349e0",
   "outputs": [
    {
     "name": "stdout",
     "output_type": "stream",
     "text": [
      "Properties of the vehicle:\n",
      "Max Speed: 180\n",
      "Mileage: 75000\n",
      "Color: white\n",
      "Seat: 4\n"
     ]
    }
   ],
   "execution_count": 30
  },
  {
   "metadata": {},
   "cell_type": "markdown",
   "source": [
    "****\n",
    "This is the end of the file.\n",
    "****"
   ],
   "id": "cb4816747adb304b"
  }
 ],
 "metadata": {
  "kernelspec": {
   "display_name": "Python 3",
   "language": "python",
   "name": "python3"
  },
  "language_info": {
   "codemirror_mode": {
    "name": "ipython",
    "version": 2
   },
   "file_extension": ".py",
   "mimetype": "text/x-python",
   "name": "python",
   "nbconvert_exporter": "python",
   "pygments_lexer": "ipython2",
   "version": "2.7.6"
  }
 },
 "nbformat": 4,
 "nbformat_minor": 5
}
