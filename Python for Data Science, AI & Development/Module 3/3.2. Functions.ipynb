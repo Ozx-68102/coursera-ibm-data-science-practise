{
 "cells": [
  {
   "metadata": {},
   "cell_type": "markdown",
   "source": "### Functions",
   "id": "45e609271d723e75"
  },
  {
   "metadata": {},
   "cell_type": "markdown",
   "source": "<p>A function is a reusable block of code which performs operations specified in the function. They let you break down tasks and allow you to reuse your code in different programs.</p>",
   "id": "dea366299fd707f0"
  },
  {
   "metadata": {},
   "cell_type": "markdown",
   "source": [
    "<p>There are two types of functions:</p>\n",
    "\n",
    "- **Pre-defined functions**\n",
    "- **User defined functions**"
   ],
   "id": "4c3cbc8ac9a29d82"
  },
  {
   "metadata": {},
   "cell_type": "markdown",
   "source": "### What is a Function?",
   "id": "22115014157cd4c8"
  },
  {
   "metadata": {},
   "cell_type": "markdown",
   "source": [
    "<p>You can define functions to provide the required functionality. Here are simple rules to define a function in Python:</p>\n",
    "\n",
    "<ul>\n",
    "    <li>Functions blocks begin <code>def</code> followed by the function <code>name</code> and parentheses <code>()</code>.</li>\n",
    "    <li>There are input parameters or arguments that should be placed within these parentheses.</li>\n",
    "    <li>You can also define parameters inside these parentheses.</li>\n",
    "    <li>There is a body within every function that starts with a colon (<code>:</code>) and is indented.</li>\n",
    "    <li>You can also place documentation before the body.</li>\n",
    "    <li>The statement <code>return</code> exits a function, optionally passing back a value.</li>\n",
    "</ul>"
   ],
   "id": "aece02627b547e9e"
  },
  {
   "metadata": {},
   "cell_type": "markdown",
   "source": "<p>An example of a function that adds on to the parameter <code>a</code> prints and returns the output as <code>b</code>:</p>",
   "id": "7c634a489bb5e121"
  },
  {
   "metadata": {
    "ExecuteTime": {
     "end_time": "2025-06-03T06:54:31.984620Z",
     "start_time": "2025-06-03T06:54:31.973855Z"
    }
   },
   "cell_type": "code",
   "source": [
    "def add(a: int):\n",
    "    \"\"\"\n",
    "    add 1 to a\n",
    "    \"\"\"\n",
    "    b = a + 1\n",
    "    print(f\"added 1 to {a} is {b}\")\n",
    "    return b"
   ],
   "id": "8a3be77e708621e8",
   "outputs": [],
   "execution_count": 1
  },
  {
   "metadata": {},
   "cell_type": "markdown",
   "source": "<p>We can obtain help about a function:</p>",
   "id": "ff062fa447977a13"
  },
  {
   "metadata": {
    "ExecuteTime": {
     "end_time": "2025-06-03T06:54:32.193411Z",
     "start_time": "2025-06-03T06:54:32.187593Z"
    }
   },
   "cell_type": "code",
   "source": "help(add)",
   "id": "434627745b298b95",
   "outputs": [
    {
     "name": "stdout",
     "output_type": "stream",
     "text": [
      "Help on function add in module __main__:\n",
      "\n",
      "add(a: int)\n",
      "    add 1 to a\n",
      "\n"
     ]
    }
   ],
   "execution_count": 2
  },
  {
   "metadata": {},
   "cell_type": "markdown",
   "source": "<p>We can call the function:</p>",
   "id": "730d3632683a68d6"
  },
  {
   "metadata": {
    "ExecuteTime": {
     "end_time": "2025-06-03T06:54:32.306253Z",
     "start_time": "2025-06-03T06:54:32.293645Z"
    }
   },
   "cell_type": "code",
   "source": "add(1)",
   "id": "1764ae94f00414c9",
   "outputs": [
    {
     "name": "stdout",
     "output_type": "stream",
     "text": [
      "added 1 to 1 is 2\n"
     ]
    },
    {
     "data": {
      "text/plain": [
       "2"
      ]
     },
     "execution_count": 3,
     "metadata": {},
     "output_type": "execute_result"
    }
   ],
   "execution_count": 3
  },
  {
   "metadata": {},
   "cell_type": "markdown",
   "source": "<p>If we call the function with a new input we get a new result:</p>",
   "id": "b40959c8c4253865"
  },
  {
   "metadata": {
    "ExecuteTime": {
     "end_time": "2025-06-03T06:54:32.436926Z",
     "start_time": "2025-06-03T06:54:32.428330Z"
    }
   },
   "cell_type": "code",
   "source": "add(3)",
   "id": "44daa523349c03a7",
   "outputs": [
    {
     "name": "stdout",
     "output_type": "stream",
     "text": [
      "added 1 to 3 is 4\n"
     ]
    },
    {
     "data": {
      "text/plain": [
       "4"
      ]
     },
     "execution_count": 4,
     "metadata": {},
     "output_type": "execute_result"
    }
   ],
   "execution_count": 4
  },
  {
   "metadata": {},
   "cell_type": "markdown",
   "source": "<p>We can create different functions. For example, we can create a function that multiplies two numbers. The numbers will be represented by the variables <code>a</code> and <code>b</code>:</p>",
   "id": "81210f92b8f88a4b"
  },
  {
   "metadata": {
    "ExecuteTime": {
     "end_time": "2025-06-03T06:54:32.557241Z",
     "start_time": "2025-06-03T06:54:32.550487Z"
    }
   },
   "cell_type": "code",
   "source": [
    "def mult(a: int | float | str, b: int | float | str) -> int | float | str:\n",
    "    c = a * b\n",
    "    return c\n",
    "\n",
    "result = mult(3, 9)\n",
    "result"
   ],
   "id": "43c538bb7c241387",
   "outputs": [
    {
     "data": {
      "text/plain": [
       "27"
      ]
     },
     "execution_count": 5,
     "metadata": {},
     "output_type": "execute_result"
    }
   ],
   "execution_count": 5
  },
  {
   "metadata": {},
   "cell_type": "markdown",
   "source": "<p>The same function can be used for different data types. For example, we can multiply two integers:</p>",
   "id": "8efb81935c1e1d76"
  },
  {
   "metadata": {
    "ExecuteTime": {
     "end_time": "2025-06-03T06:54:32.758299Z",
     "start_time": "2025-06-03T06:54:32.752332Z"
    }
   },
   "cell_type": "code",
   "source": "mult(4, 10)",
   "id": "9d6b2c3bf300197a",
   "outputs": [
    {
     "data": {
      "text/plain": [
       "40"
      ]
     },
     "execution_count": 6,
     "metadata": {},
     "output_type": "execute_result"
    }
   ],
   "execution_count": 6
  },
  {
   "metadata": {},
   "cell_type": "markdown",
   "source": "<p>Note how the function terminates at the <code>return</code> statement, while passing back a value. This value can be further assigned to a different variable as desired.</p>",
   "id": "93145f3e58fa8e21"
  },
  {
   "metadata": {},
   "cell_type": "markdown",
   "source": "<p>The same function can be used for different data types. For example, we can multiply two floats:</p>",
   "id": "ac1e7c1dabb439f3"
  },
  {
   "metadata": {
    "ExecuteTime": {
     "end_time": "2025-06-03T06:54:32.856300Z",
     "start_time": "2025-06-03T06:54:32.851577Z"
    }
   },
   "cell_type": "code",
   "source": "mult(3.14159, 2.71828)",
   "id": "b9c391452a36e37d",
   "outputs": [
    {
     "data": {
      "text/plain": [
       "8.539721265199999"
      ]
     },
     "execution_count": 7,
     "metadata": {},
     "output_type": "execute_result"
    }
   ],
   "execution_count": 7
  },
  {
   "metadata": {},
   "cell_type": "markdown",
   "source": "<p>We can even replicate a string by multiplying with an integer:</p>",
   "id": "c3dc350bc7853bef"
  },
  {
   "metadata": {
    "ExecuteTime": {
     "end_time": "2025-06-03T06:54:32.953218Z",
     "start_time": "2025-06-03T06:54:32.946747Z"
    }
   },
   "cell_type": "code",
   "source": "mult(2, \"I love Python \")",
   "id": "ada4c4c6f5421ca9",
   "outputs": [
    {
     "data": {
      "text/plain": [
       "'I love Python I love Python '"
      ]
     },
     "execution_count": 8,
     "metadata": {},
     "output_type": "execute_result"
    }
   ],
   "execution_count": 8
  },
  {
   "metadata": {},
   "cell_type": "markdown",
   "source": "### Variables",
   "id": "35f20e2e8fedd52b"
  },
  {
   "metadata": {},
   "cell_type": "markdown",
   "source": "<p>The input to a function is called a formal parameter.</p>",
   "id": "7b01c2affdc41270"
  },
  {
   "metadata": {},
   "cell_type": "markdown",
   "source": "<p>A variable that is declared inside a function is called a  local variable. The parameter only exists within the function (i.e. the point where the function starts and stops).</p>",
   "id": "d8ffbe37fdc11d28"
  },
  {
   "metadata": {},
   "cell_type": "markdown",
   "source": "<p>A variable that is declared outside a function definition is a global variable, and its value is accessible and modifiable throughout the program. We will discuss more about global variables at the end of the lab.</p>",
   "id": "c705efe639351d59"
  },
  {
   "metadata": {
    "ExecuteTime": {
     "end_time": "2025-06-03T06:54:33.113089Z",
     "start_time": "2025-06-03T06:54:33.093176Z"
    }
   },
   "cell_type": "code",
   "source": [
    "def square(a: int | float):\n",
    "    b = a ** 2\n",
    "    return b"
   ],
   "id": "113e38f762d20296",
   "outputs": [],
   "execution_count": 9
  },
  {
   "metadata": {},
   "cell_type": "markdown",
   "source": "<p>We can call the function  with an input of <b>3</b>:</p>",
   "id": "8b187ae7d427ca1a"
  },
  {
   "metadata": {
    "ExecuteTime": {
     "end_time": "2025-06-03T06:54:33.156889Z",
     "start_time": "2025-06-03T06:54:33.146557Z"
    }
   },
   "cell_type": "code",
   "source": [
    "x = 3\n",
    "square(x)"
   ],
   "id": "deaceb766ddd2984",
   "outputs": [
    {
     "data": {
      "text/plain": [
       "9"
      ]
     },
     "execution_count": 10,
     "metadata": {},
     "output_type": "execute_result"
    }
   ],
   "execution_count": 10
  },
  {
   "metadata": {},
   "cell_type": "markdown",
   "source": "<p>We can call the function  with an input of <b>5</b> in a different manner:</p>",
   "id": "d0cfbf4fc30bb3ce"
  },
  {
   "metadata": {
    "ExecuteTime": {
     "end_time": "2025-06-03T06:54:33.257758Z",
     "start_time": "2025-06-03T06:54:33.250168Z"
    }
   },
   "cell_type": "code",
   "source": [
    "result = square(5)\n",
    "result"
   ],
   "id": "9f4d61e37a841c4e",
   "outputs": [
    {
     "data": {
      "text/plain": [
       "25"
      ]
     },
     "execution_count": 11,
     "metadata": {},
     "output_type": "execute_result"
    }
   ],
   "execution_count": 11
  },
  {
   "metadata": {},
   "cell_type": "markdown",
   "source": "<p>If there is no <code>return</code> statement, the function returns <code>None</code>. The following two functions are equivalent:</p>",
   "id": "fb0a6975676ecf89"
  },
  {
   "metadata": {
    "ExecuteTime": {
     "end_time": "2025-06-03T06:54:33.426702Z",
     "start_time": "2025-06-03T06:54:33.418012Z"
    }
   },
   "cell_type": "code",
   "source": [
    "def f1() -> None:\n",
    "    print(\"This is a function 'f1'.\")\n",
    "\n",
    "def f2() -> None:\n",
    "    print(\"This is a function 'f2'.\")\n",
    "    return None\n",
    "\n",
    "f1()\n",
    "f2()"
   ],
   "id": "1627b7713a2e5663",
   "outputs": [
    {
     "name": "stdout",
     "output_type": "stream",
     "text": [
      "This is a function 'f1'.\n",
      "This is a function 'f2'.\n"
     ]
    }
   ],
   "execution_count": 12
  },
  {
   "metadata": {},
   "cell_type": "markdown",
   "source": "<p>Printing the function after a call reveals a <b>None</b> is the default return statement:</p>",
   "id": "ec831a118941c65f"
  },
  {
   "metadata": {
    "ExecuteTime": {
     "end_time": "2025-06-03T06:54:33.595205Z",
     "start_time": "2025-06-03T06:54:33.583688Z"
    }
   },
   "cell_type": "code",
   "source": [
    "# Through this method that you know what functions return\n",
    "print(f1())\n",
    "print(f2())"
   ],
   "id": "6e6780868e4c937a",
   "outputs": [
    {
     "name": "stdout",
     "output_type": "stream",
     "text": [
      "This is a function 'f1'.\n",
      "None\n",
      "This is a function 'f2'.\n",
      "None\n"
     ]
    }
   ],
   "execution_count": 13
  },
  {
   "metadata": {},
   "cell_type": "markdown",
   "source": "<p>Create a function <code>con</code> that concatenates two strings using the addition operation:</p>",
   "id": "164031c030854a8a"
  },
  {
   "metadata": {
    "ExecuteTime": {
     "end_time": "2025-06-03T06:54:33.679074Z",
     "start_time": "2025-06-03T06:54:33.673172Z"
    }
   },
   "cell_type": "code",
   "source": [
    "def con(a: int | float | str, b: int | float | str) -> int | float | str:\n",
    "    return a + b\n",
    "\n",
    "con(\"Hello, \", \"world!\")"
   ],
   "id": "31d7acdf20150605",
   "outputs": [
    {
     "data": {
      "text/plain": [
       "'Hello, world!'"
      ]
     },
     "execution_count": 14,
     "metadata": {},
     "output_type": "execute_result"
    }
   ],
   "execution_count": 14
  },
  {
   "metadata": {},
   "cell_type": "markdown",
   "source": "### Functions Make Things Simple",
   "id": "2d44ca087d299f6e"
  },
  {
   "metadata": {},
   "cell_type": "markdown",
   "source": "<p>Consider the two lines of code in <b>Block 1</b> and <b>Block 2</b>: the procedure for each block is identical. The only thing that is different is the variable names and values.</p>",
   "id": "839191ab4ef3b25c"
  },
  {
   "metadata": {},
   "cell_type": "markdown",
   "source": "#### Block 1:",
   "id": "c77dd9a634b2e2b"
  },
  {
   "metadata": {
    "ExecuteTime": {
     "end_time": "2025-06-03T06:54:33.868767Z",
     "start_time": "2025-06-03T06:54:33.859038Z"
    }
   },
   "cell_type": "code",
   "source": [
    "a1 = 5\n",
    "b1 = 8\n",
    "c1 = a1 + b1 + 2 * a1 * b1 - 1\n",
    "c1 = 0 if c1 < 0 else 5\n",
    "c1"
   ],
   "id": "c7e5d012ce3a7ac0",
   "outputs": [
    {
     "data": {
      "text/plain": [
       "5"
      ]
     },
     "execution_count": 15,
     "metadata": {},
     "output_type": "execute_result"
    }
   ],
   "execution_count": 15
  },
  {
   "metadata": {},
   "cell_type": "markdown",
   "source": "#### Block 2:",
   "id": "389e5bcdd33e7562"
  },
  {
   "metadata": {
    "ExecuteTime": {
     "end_time": "2025-06-03T06:54:33.999526Z",
     "start_time": "2025-06-03T06:54:33.990056Z"
    }
   },
   "cell_type": "code",
   "source": [
    "a2 = 0\n",
    "b2 = 0\n",
    "c2 = a2 + b2 + 2 * a2 * b2 - 1\n",
    "c2 = 0 if c2 < 0 else 5\n",
    "c2"
   ],
   "id": "f8a1838ee07ddb64",
   "outputs": [
    {
     "data": {
      "text/plain": [
       "0"
      ]
     },
     "execution_count": 16,
     "metadata": {},
     "output_type": "execute_result"
    }
   ],
   "execution_count": 16
  },
  {
   "metadata": {},
   "cell_type": "markdown",
   "source": "<p>We can replace the lines of code with a function. A function combines many instructions into a single line of code. Once a function is defined, it can be used repeatedly. You can invoke the same function many times in your program. You can save your function and use it in another program or use someone else’s function. The lines of code in code <b>Block 1</b> and code <b>Block 2</b> can be replaced by the following function:</p>",
   "id": "8a5bd8a555c3d7bf"
  },
  {
   "metadata": {
    "ExecuteTime": {
     "end_time": "2025-06-03T06:54:34.096873Z",
     "start_time": "2025-06-03T06:54:34.090847Z"
    }
   },
   "cell_type": "code",
   "source": [
    "# Make a function for the calculation\n",
    "def equation(a: int, b: int) -> int:\n",
    "    c = a + b + 2 * a * b - 1\n",
    "    c = 0 if c < 0 else 5\n",
    "    return c"
   ],
   "id": "ba1e8a25d7de7037",
   "outputs": [],
   "execution_count": 17
  },
  {
   "metadata": {},
   "cell_type": "markdown",
   "source": [
    "<p>This function takes two inputs, a and b, then applies several operations to return c.\n",
    "We simply define the function, replace the instructions with the function, and input the new values of <code>a1</code>, <code>b1</code> and <code>a2</code>, <code>b2</code> as inputs.</p>"
   ],
   "id": "254e95a7670598bb"
  },
  {
   "metadata": {},
   "cell_type": "markdown",
   "source": "<p>Code <b>Blocks 1</b> and <b>Block 2</b> can now be replaced with code <b>Block 3</b> and code <b>Block 4</b>.</p>",
   "id": "79271ce113d638"
  },
  {
   "metadata": {},
   "cell_type": "markdown",
   "source": "#### Block 3:",
   "id": "97e24935397459d4"
  },
  {
   "metadata": {
    "ExecuteTime": {
     "end_time": "2025-06-03T06:54:34.145540Z",
     "start_time": "2025-06-03T06:54:34.139747Z"
    }
   },
   "cell_type": "code",
   "source": "equation(5, 8)",
   "id": "4377cb969d7db222",
   "outputs": [
    {
     "data": {
      "text/plain": [
       "5"
      ]
     },
     "execution_count": 18,
     "metadata": {},
     "output_type": "execute_result"
    }
   ],
   "execution_count": 18
  },
  {
   "metadata": {},
   "cell_type": "markdown",
   "source": "#### Block 4:",
   "id": "e38c1df1eb024005"
  },
  {
   "metadata": {
    "ExecuteTime": {
     "end_time": "2025-06-03T06:54:34.251596Z",
     "start_time": "2025-06-03T06:54:34.242977Z"
    }
   },
   "cell_type": "code",
   "source": "equation(0, 0)",
   "id": "4f95e404ee3b1231",
   "outputs": [
    {
     "data": {
      "text/plain": [
       "0"
      ]
     },
     "execution_count": 19,
     "metadata": {},
     "output_type": "execute_result"
    }
   ],
   "execution_count": 19
  },
  {
   "metadata": {},
   "cell_type": "markdown",
   "source": "### Pre-defined functions",
   "id": "a70e0837a64715b7"
  },
  {
   "metadata": {},
   "cell_type": "markdown",
   "source": "<p>There are many pre-defined functions in Python, so let's start with the simple ones.</p>",
   "id": "dbaceaea24353013"
  },
  {
   "metadata": {},
   "cell_type": "markdown",
   "source": "<p>The <code>print()</code> function:</p>",
   "id": "c15c3c9e9891e6c8"
  },
  {
   "metadata": {
    "ExecuteTime": {
     "end_time": "2025-06-03T06:54:34.356389Z",
     "start_time": "2025-06-03T06:54:34.349725Z"
    }
   },
   "cell_type": "code",
   "source": "print(\"Hi!\")",
   "id": "8f20e1a60c3faf39",
   "outputs": [
    {
     "name": "stdout",
     "output_type": "stream",
     "text": [
      "Hi!\n"
     ]
    }
   ],
   "execution_count": 20
  },
  {
   "metadata": {},
   "cell_type": "markdown",
   "source": "<p>The <code>sum()</code> function adds all the elements in a list or tuple:</p>",
   "id": "f083dc982eabbf36"
  },
  {
   "metadata": {
    "ExecuteTime": {
     "end_time": "2025-06-03T06:54:34.479673Z",
     "start_time": "2025-06-03T06:54:34.472007Z"
    }
   },
   "cell_type": "code",
   "source": [
    "rating = [9, 8, 5.5, 9, 7, 6, 3, 1]\n",
    "sum(rating)"
   ],
   "id": "f393e4d7c12d8707",
   "outputs": [
    {
     "data": {
      "text/plain": [
       "48.5"
      ]
     },
     "execution_count": 21,
     "metadata": {},
     "output_type": "execute_result"
    }
   ],
   "execution_count": 21
  },
  {
   "metadata": {},
   "cell_type": "markdown",
   "source": "<p>The <code>len()</code> function returns the length of a list or tuple:</p>",
   "id": "78560db805356f80"
  },
  {
   "metadata": {
    "ExecuteTime": {
     "end_time": "2025-06-03T06:54:34.620541Z",
     "start_time": "2025-06-03T06:54:34.612475Z"
    }
   },
   "cell_type": "code",
   "source": "len(rating)",
   "id": "6b8362f633c7a4b0",
   "outputs": [
    {
     "data": {
      "text/plain": [
       "8"
      ]
     },
     "execution_count": 22,
     "metadata": {},
     "output_type": "execute_result"
    }
   ],
   "execution_count": 22
  },
  {
   "metadata": {},
   "cell_type": "markdown",
   "source": "### In-Built functions",
   "id": "aafe60a92e08dfaa"
  },
  {
   "metadata": {},
   "cell_type": "markdown",
   "source": "<p>In Python, an in-built function is a pre-defined function that is always available for use, providing common functionality without requiring any imports.</p>",
   "id": "5b6a458b14b304f2"
  },
  {
   "metadata": {
    "ExecuteTime": {
     "end_time": "2025-06-03T06:54:34.747048Z",
     "start_time": "2025-06-03T06:54:34.737686Z"
    }
   },
   "cell_type": "code",
   "source": "sum((1, 2))",
   "id": "b16ebb44b53223a1",
   "outputs": [
    {
     "data": {
      "text/plain": [
       "3"
      ]
     },
     "execution_count": 23,
     "metadata": {},
     "output_type": "execute_result"
    }
   ],
   "execution_count": 23
  },
  {
   "metadata": {
    "ExecuteTime": {
     "end_time": "2025-06-03T06:54:34.856258Z",
     "start_time": "2025-06-03T06:54:34.850950Z"
    }
   },
   "cell_type": "code",
   "source": "sum([1, 2])",
   "id": "1948b680776bb29e",
   "outputs": [
    {
     "data": {
      "text/plain": [
       "3"
      ]
     },
     "execution_count": 24,
     "metadata": {},
     "output_type": "execute_result"
    }
   ],
   "execution_count": 24
  },
  {
   "metadata": {},
   "cell_type": "markdown",
   "source": "### Using `if` / `else` Statements and Loops in Functions",
   "id": "1697eaf19d305217"
  },
  {
   "metadata": {},
   "cell_type": "markdown",
   "source": "<p>The <code>return</code> function is particularly useful if you have any <code>if</code> statements in the function, when you want your output to be dependent on some condition:</p>",
   "id": "629250bbd509da1c"
  },
  {
   "metadata": {
    "ExecuteTime": {
     "end_time": "2025-06-03T06:54:34.983763Z",
     "start_time": "2025-06-03T06:54:34.975309Z"
    }
   },
   "cell_type": "code",
   "source": [
    "def type_of_album(album: str, release_year: int) -> str:\n",
    "    print(f\"This is an album named {album} released in {release_year}.\")\n",
    "    return \"Modern\" if release_year > 1980 else \"Oldie\"\n",
    "\n",
    "print(type_of_album(\"The BodyGuard\", 1980))"
   ],
   "id": "ae963e344c76bd94",
   "outputs": [
    {
     "name": "stdout",
     "output_type": "stream",
     "text": [
      "This is an album named The BodyGuard released in 1980.\n",
      "Oldie\n"
     ]
    }
   ],
   "execution_count": 25
  },
  {
   "metadata": {},
   "cell_type": "markdown",
   "source": "<p>We can use a loop in a function. For example, we can <code>print</code> out each element in a list:</p>",
   "id": "250991c0c01945c7"
  },
  {
   "metadata": {
    "ExecuteTime": {
     "end_time": "2025-06-03T06:54:35.127045Z",
     "start_time": "2025-06-03T06:54:35.116147Z"
    }
   },
   "cell_type": "code",
   "source": [
    "def print_list(lists: list[int | float | str]) -> None:\n",
    "    for element in lists:\n",
    "        print(element)\n",
    "\n",
    "print_list([\"a\", 10, \"e\", 1.6, \"2\"])"
   ],
   "id": "3a01d79692ca2d06",
   "outputs": [
    {
     "name": "stdout",
     "output_type": "stream",
     "text": [
      "a\n",
      "10\n",
      "e\n",
      "1.6\n",
      "2\n"
     ]
    }
   ],
   "execution_count": 26
  },
  {
   "metadata": {},
   "cell_type": "markdown",
   "source": "### String comparison in Functions",
   "id": "732cdcb149a7975b"
  },
  {
   "metadata": {},
   "cell_type": "markdown",
   "source": "<p>The relational operators compare the Unicode values of the characters of the strings from the zeroth index till the end of the string. It then returns a boolean value according to the operator used.</p>",
   "id": "566ed2358d51454f"
  },
  {
   "metadata": {
    "ExecuteTime": {
     "end_time": "2025-06-03T06:54:35.235577Z",
     "start_time": "2025-06-03T06:54:35.223346Z"
    }
   },
   "cell_type": "code",
   "source": [
    "def check_string(text: str) -> bool:\n",
    "    string = \"I love you\"\n",
    "    return True if text in string else False\n",
    "\n",
    "check_string(\"love\")"
   ],
   "id": "885238d38215b5e3",
   "outputs": [
    {
     "data": {
      "text/plain": [
       "True"
      ]
     },
     "execution_count": 27,
     "metadata": {},
     "output_type": "execute_result"
    }
   ],
   "execution_count": 27
  },
  {
   "metadata": {},
   "cell_type": "markdown",
   "source": "<p>This program uses a user-defined function named <code>compare_strings()</code> to compare two strings.</p>",
   "id": "8b41e4d105364a23"
  },
  {
   "metadata": {},
   "cell_type": "markdown",
   "source": "<p>This function receives both strings as its argument and returns 1 if both strings are equal using == operator</p>",
   "id": "232b705b2408df7d"
  },
  {
   "metadata": {
    "ExecuteTime": {
     "end_time": "2025-06-03T06:54:35.339001Z",
     "start_time": "2025-06-03T06:54:35.332735Z"
    }
   },
   "cell_type": "code",
   "source": [
    "def compare_string(p: str, q: str) -> bool:\n",
    "    # Use if else statement to compare p and q\n",
    "    return True if p == q else False\n",
    "\n",
    "string1 = \"The BodyGuard is the best album\"\n",
    "string2 = \"The bodyguard is the best album\"\n",
    "\n",
    "print(\"String Matched\") if compare_string(string1, string2) else print(\"String Not Matched\")"
   ],
   "id": "21311913406cf42f",
   "outputs": [
    {
     "name": "stdout",
     "output_type": "stream",
     "text": [
      "String Not Matched\n"
     ]
    }
   ],
   "execution_count": 28
  },
  {
   "metadata": {},
   "cell_type": "markdown",
   "source": [
    "<p><b>Count the Frequency of Words Appearing in a String Using a Dictionary.</b></p>\n",
    "\n",
    "<p>Find the count of occurence of any word in our string using python. This is what we are going to do in this section, count the number of word in a given string and print it.</p>\n",
    "\n",
    "<p>Lets suppose we have a \"string\" and the \"word\" and we need to find the count of occurence of this word in our string using python. This is what we are going to do in this section, count the number of word in a given string and print it.</p>\n",
    "\n",
    "<p>The first thing, we will do is define a function.</p>\n",
    "\n",
    "<p>Next, we will add a code to convert the string to a list. Python string has a <code>split()</code> method. It takes a string and some separator to return a list.</p>\n",
    "\n",
    "<p>Now we will declare an empty dictionary.</p>\n",
    "\n",
    "<p>Next we will add code using for loop to iterate the words and value will will count the frequency of each words in the string and store them to the dictionary.</p>\n",
    "\n",
    "<p>Finally we will print the dictionary.</p>"
   ],
   "id": "d0ec9ba735e905d2"
  },
  {
   "metadata": {
    "ExecuteTime": {
     "end_time": "2025-06-03T06:54:35.413933Z",
     "start_time": "2025-06-03T06:54:35.408470Z"
    }
   },
   "cell_type": "code",
   "source": [
    "def freq(s: str):\n",
    "\n",
    "    word = s.split()\n",
    "    dic = {}\n",
    "\n",
    "    for key in word:\n",
    "        dic[key] = word.count(key)\n",
    "\n",
    "    print(f\"The frequency of word is: {dic}\")\n",
    "\n",
    "freq(\"Mary had a little lamb Little lamb, little lamb Mary had a little lamb.Its fleece was white as snow And everywhere that Mary went Mary went, Mary went everywhere that Mary went The lamb was sure to go\")"
   ],
   "id": "500863ba855aef91",
   "outputs": [
    {
     "name": "stdout",
     "output_type": "stream",
     "text": [
      "The frequency of word is: {'Mary': 6, 'had': 2, 'a': 2, 'little': 3, 'lamb': 3, 'Little': 1, 'lamb,': 1, 'lamb.Its': 1, 'fleece': 1, 'was': 2, 'white': 1, 'as': 1, 'snow': 1, 'And': 1, 'everywhere': 2, 'that': 2, 'went': 3, 'went,': 1, 'The': 1, 'sure': 1, 'to': 1, 'go': 1}\n"
     ]
    }
   ],
   "execution_count": 29
  },
  {
   "metadata": {},
   "cell_type": "markdown",
   "source": "### Setting default argument values in your custom functions",
   "id": "15b1768cd939bf91"
  },
  {
   "metadata": {},
   "cell_type": "markdown",
   "source": "<p>You can set a default value for arguments in your function. For example, in the <code>is_good_rating()</code> function, what if we wanted to create a threshold for what we consider to be a good rating? Perhaps by default, we should have a default rating of 4:</p>",
   "id": "a6c8b2d6a333c85a"
  },
  {
   "metadata": {
    "ExecuteTime": {
     "end_time": "2025-06-03T06:54:35.490028Z",
     "start_time": "2025-06-03T06:54:35.485586Z"
    }
   },
   "cell_type": "code",
   "source": [
    "def is_good_rating(r: int = 4) -> bool:\n",
    "    return False if r < 7 else True"
   ],
   "id": "cc31c7288a3adf5a",
   "outputs": [],
   "execution_count": 30
  },
  {
   "metadata": {
    "ExecuteTime": {
     "end_time": "2025-06-03T06:54:35.519305Z",
     "start_time": "2025-06-03T06:54:35.514115Z"
    }
   },
   "cell_type": "code",
   "source": [
    "print(is_good_rating())\n",
    "print(is_good_rating(10))"
   ],
   "id": "bd7b9d702f14c9b3",
   "outputs": [
    {
     "name": "stdout",
     "output_type": "stream",
     "text": [
      "False\n",
      "True\n"
     ]
    }
   ],
   "execution_count": 31
  },
  {
   "metadata": {},
   "cell_type": "markdown",
   "source": "### Global Variables",
   "id": "1ad9eecebaa2fc58"
  },
  {
   "metadata": {},
   "cell_type": "markdown",
   "source": "<p>So far, we've been creating variables within functions, but we have not discussed variables outside the function. These are called global variables. </p>",
   "id": "ddb79f588616a4a5"
  },
  {
   "metadata": {},
   "cell_type": "markdown",
   "source": "<p>Let's try to see what <code>transfer</code> returns:</p>",
   "id": "5e2d9c97479f47e5"
  },
  {
   "metadata": {
    "ExecuteTime": {
     "end_time": "2025-06-03T06:54:35.946952Z",
     "start_time": "2025-06-03T06:54:35.581265Z"
    }
   },
   "cell_type": "code",
   "source": [
    "balance = 100\n",
    "\n",
    "def transfer():\n",
    "    balance -= 50\n",
    "    print(f\"Balance after transfer: {balance}.\")\n",
    "\n",
    "transfer()"
   ],
   "id": "a3047275edccbf16",
   "outputs": [
    {
     "ename": "UnboundLocalError",
     "evalue": "cannot access local variable 'balance' where it is not associated with a value",
     "output_type": "error",
     "traceback": [
      "\u001B[31m---------------------------------------------------------------------------\u001B[39m",
      "\u001B[31mUnboundLocalError\u001B[39m                         Traceback (most recent call last)",
      "\u001B[36mCell\u001B[39m\u001B[36m \u001B[39m\u001B[32mIn[32]\u001B[39m\u001B[32m, line 7\u001B[39m\n\u001B[32m      4\u001B[39m     balance -= \u001B[32m50\u001B[39m\n\u001B[32m      5\u001B[39m     \u001B[38;5;28mprint\u001B[39m(\u001B[33mf\u001B[39m\u001B[33m\"\u001B[39m\u001B[33mBalance after transfer: \u001B[39m\u001B[38;5;132;01m{\u001B[39;00mbalance\u001B[38;5;132;01m}\u001B[39;00m\u001B[33m.\u001B[39m\u001B[33m\"\u001B[39m)\n\u001B[32m----> \u001B[39m\u001B[32m7\u001B[39m \u001B[43mtransfer\u001B[49m\u001B[43m(\u001B[49m\u001B[43m)\u001B[49m\n",
      "\u001B[36mCell\u001B[39m\u001B[36m \u001B[39m\u001B[32mIn[32]\u001B[39m\u001B[32m, line 4\u001B[39m, in \u001B[36mtransfer\u001B[39m\u001B[34m()\u001B[39m\n\u001B[32m      3\u001B[39m \u001B[38;5;28;01mdef\u001B[39;00m\u001B[38;5;250m \u001B[39m\u001B[34mtransfer\u001B[39m():\n\u001B[32m----> \u001B[39m\u001B[32m4\u001B[39m     \u001B[43mbalance\u001B[49m -= \u001B[32m50\u001B[39m\n\u001B[32m      5\u001B[39m     \u001B[38;5;28mprint\u001B[39m(\u001B[33mf\u001B[39m\u001B[33m\"\u001B[39m\u001B[33mBalance after transfer: \u001B[39m\u001B[38;5;132;01m{\u001B[39;00mbalance\u001B[38;5;132;01m}\u001B[39;00m\u001B[33m.\u001B[39m\u001B[33m\"\u001B[39m)\n",
      "\u001B[31mUnboundLocalError\u001B[39m: cannot access local variable 'balance' where it is not associated with a value"
     ]
    }
   ],
   "execution_count": 32
  },
  {
   "metadata": {},
   "cell_type": "markdown",
   "source": [
    "<p><b>We got an UnboundLocalError:  <code>cannot access local variable 'balance' where it is not associated with a value</code>. Why?</b></p>\n",
    "\n",
    "<p>It's because all the variables we create in the function is a <b>local variable</b>, meaning that the variable assignment does not persist outside the function.</p>\n",
    "\n",
    "<p>But there is a way to create <b>global variables</b> from within a function as follows:</p>"
   ],
   "id": "ffac7b59f07367e0"
  },
  {
   "metadata": {
    "ExecuteTime": {
     "end_time": "2025-06-03T06:54:41.447397Z",
     "start_time": "2025-06-03T06:54:41.442300Z"
    }
   },
   "cell_type": "code",
   "source": [
    "balance = 100\n",
    "\n",
    "def transfer():\n",
    "    global balance\n",
    "    print(f\"Balance before transfer: {balance}.\")\n",
    "    balance -= 50\n",
    "    print(f\"Balance after transfer: {balance}.\")\n",
    "\n",
    "transfer()"
   ],
   "id": "eddb67961e0fbced",
   "outputs": [
    {
     "name": "stdout",
     "output_type": "stream",
     "text": [
      "Balance before transfer: 100.\n",
      "Balance after transfer: 50.\n"
     ]
    }
   ],
   "execution_count": 33
  },
  {
   "metadata": {},
   "cell_type": "markdown",
   "source": "### Scope of a variable",
   "id": "908bec64e1a5aa8b"
  },
  {
   "metadata": {},
   "cell_type": "markdown",
   "source": "<p>The scope of a variable refers to the specific portion of a program where that variable can be accessed. Variables declared outside all function definitions—called global variables—have global scope, meaning they are accessible throughout the entire program (e.g., inside functions or directly in the main script). In contrast, variables created inside a function (local variables) have local scope, accessible only within that function. For instance, in the following code, <code>default_grade</code> is a global variable: it can be read by the <code>read_global_grade</code> function, remains unchanged when a local variable with the same name is defined in <code>local_override</code>, and can be modified by the <code>modify_global_grade</code> function using the global keyword. The example below demonstrates these scope rules through distinct functions, showing how global variables behave when read, overridden locally, or explicitly modified.</p>",
   "id": "db43e794923831a5"
  },
  {
   "metadata": {
    "ExecuteTime": {
     "end_time": "2025-06-03T06:54:43.905104Z",
     "start_time": "2025-06-03T06:54:43.893252Z"
    }
   },
   "cell_type": "code",
   "source": [
    "default_grade = \"B\"\n",
    "\n",
    "def read_global_grade():\n",
    "    print(f\"Read global grade: {default_grade}.\")\n",
    "\n",
    "def local_override():\n",
    "    default_grade = \"C\"\n",
    "    print(f\"Local override grade: {default_grade}.\")\n",
    "\n",
    "def modify_global_grade():\n",
    "    global default_grade\n",
    "    default_grade = \"A+\"\n",
    "    print(f\"Modify global grade: {default_grade}.\")\n",
    "\n",
    "print(f\"Initial global grade: {default_grade}\")\n",
    "read_global_grade()\n",
    "local_override()\n",
    "print(f\"Global grade after local override: {default_grade}.\")\n",
    "modify_global_grade()\n",
    "print(f\"Global grade after modification: {default_grade}.\")"
   ],
   "id": "43bcddc74b85bfcd",
   "outputs": [
    {
     "name": "stdout",
     "output_type": "stream",
     "text": [
      "Initial global grade: B\n",
      "Read global grade: B.\n",
      "Local override grade: C.\n",
      "Global grade after local override: B.\n",
      "Modify global grade: A+.\n",
      "Global grade after modification: A+.\n"
     ]
    }
   ],
   "execution_count": 34
  },
  {
   "metadata": {},
   "cell_type": "markdown",
   "source": "### Collections and Functions",
   "id": "43f530b0e4bf5f01"
  },
  {
   "metadata": {},
   "cell_type": "markdown",
   "source": "<p>When the number of arguments  are unknown for a function, They can all be packed into a tuple as shown:</p>",
   "id": "af27cc4f077b5441"
  },
  {
   "metadata": {
    "ExecuteTime": {
     "end_time": "2025-06-03T06:54:47.308414Z",
     "start_time": "2025-06-03T06:54:47.303513Z"
    }
   },
   "cell_type": "code",
   "source": [
    "def print_all(*args) -> None:\n",
    "    for arg in args:\n",
    "        print(arg)\n",
    "\n",
    "print_all(\"AAA\", \"BBB\", \"CCC\")"
   ],
   "id": "8ed6c595f9b107a6",
   "outputs": [
    {
     "name": "stdout",
     "output_type": "stream",
     "text": [
      "AAA\n",
      "BBB\n",
      "CCC\n"
     ]
    }
   ],
   "execution_count": 35
  },
  {
   "metadata": {},
   "cell_type": "markdown",
   "source": "<p>Similarly, The arguments can also be packed into a dictionary as shown:</p>",
   "id": "1c48d7caa714793"
  },
  {
   "metadata": {
    "ExecuteTime": {
     "end_time": "2025-06-03T06:54:49.423689Z",
     "start_time": "2025-06-03T06:54:49.415868Z"
    }
   },
   "cell_type": "code",
   "source": [
    "def print_dictionaries(**kwargs) -> None:\n",
    "    for key in kwargs:\n",
    "        print(f\"{key}: {kwargs[key]}\")\n",
    "\n",
    "print_dictionaries(Country=\"Canada\", Province=\"Ontario\", City=\"Toronto\")"
   ],
   "id": "e0d686a9b1604d01",
   "outputs": [
    {
     "name": "stdout",
     "output_type": "stream",
     "text": [
      "Country: Canada\n",
      "Province: Ontario\n",
      "City: Toronto\n"
     ]
    }
   ],
   "execution_count": 36
  },
  {
   "metadata": {},
   "cell_type": "markdown",
   "source": "<p>Functions can be incredibly powerful and versatile. They can accept (and return) data types, objects and even other functions as arguements. Consider the example below:</p>",
   "id": "8c52e239bcb3152b"
  },
  {
   "metadata": {
    "ExecuteTime": {
     "end_time": "2025-06-03T06:54:51.202982Z",
     "start_time": "2025-06-03T06:54:51.196818Z"
    }
   },
   "cell_type": "code",
   "source": [
    "def add_items(l: list) -> None:\n",
    "    l.append(\"Three\")\n",
    "    l.append(\"Four\")\n",
    "\n",
    "list1 = [\"One\", \"Two\"]\n",
    "add_items(list1)\n",
    "list1"
   ],
   "id": "7d1b0afb75007386",
   "outputs": [
    {
     "data": {
      "text/plain": [
       "['One', 'Two', 'Three', 'Four']"
      ]
     },
     "execution_count": 37,
     "metadata": {},
     "output_type": "execute_result"
    }
   ],
   "execution_count": 37
  },
  {
   "metadata": {},
   "cell_type": "markdown",
   "source": "<p>Note how the changes made to the list are not limited to the functions scope. This occurs as it is the lists <b>reference</b> that is passed to the function - Any changes made are on the orignal instance of the list. Therefore, one should be cautious when passing mutable objects into functions.</p>",
   "id": "18f51632af8aebcd"
  },
  {
   "metadata": {},
   "cell_type": "markdown",
   "source": "### Quiz on Functions",
   "id": "1f32f57b4add54af"
  },
  {
   "metadata": {},
   "cell_type": "markdown",
   "source": "<p>Come up with a function that divides the first input by the second input:</p>",
   "id": "9e54922049900bf9"
  },
  {
   "metadata": {
    "ExecuteTime": {
     "end_time": "2025-06-03T06:54:54.773615Z",
     "start_time": "2025-06-03T06:54:54.763481Z"
    }
   },
   "cell_type": "code",
   "source": [
    "def divide(a: int | float, b: int | float) -> float:\n",
    "    return a / b\n",
    "\n",
    "divide(3, 2)"
   ],
   "id": "349fc813ef47b09e",
   "outputs": [
    {
     "data": {
      "text/plain": [
       "1.5"
      ]
     },
     "execution_count": 38,
     "metadata": {},
     "output_type": "execute_result"
    }
   ],
   "execution_count": 38
  },
  {
   "metadata": {},
   "cell_type": "markdown",
   "source": "<p>Use the function <code>con</code> for the following question.</p>",
   "id": "55a83c3193039188"
  },
  {
   "metadata": {
    "ExecuteTime": {
     "end_time": "2025-06-03T06:54:56.651248Z",
     "start_time": "2025-06-03T06:54:56.644439Z"
    }
   },
   "cell_type": "code",
   "source": [
    "def con(a, b):\n",
    "    return a + b"
   ],
   "id": "7fcc8dfd1252cd64",
   "outputs": [],
   "execution_count": 39
  },
  {
   "metadata": {},
   "cell_type": "markdown",
   "source": "<p>Can the <code>con</code> function we defined before be used to add two integers or strings?</p>",
   "id": "9fce1d4dd4683d2"
  },
  {
   "metadata": {
    "ExecuteTime": {
     "end_time": "2025-06-03T06:54:59.892093Z",
     "start_time": "2025-06-03T06:54:59.886817Z"
    }
   },
   "cell_type": "code",
   "source": [
    "# add 2 int\n",
    "con(2, 5)"
   ],
   "id": "987a51db5e1b6eda",
   "outputs": [
    {
     "data": {
      "text/plain": [
       "7"
      ]
     },
     "execution_count": 40,
     "metadata": {},
     "output_type": "execute_result"
    }
   ],
   "execution_count": 40
  },
  {
   "metadata": {
    "ExecuteTime": {
     "end_time": "2025-06-03T06:55:16.021932Z",
     "start_time": "2025-06-03T06:55:16.016196Z"
    }
   },
   "cell_type": "code",
   "source": [
    "# add 2 string\n",
    "con(\"Super\", \"Hero\")"
   ],
   "id": "e1e5a3240700a273",
   "outputs": [
    {
     "data": {
      "text/plain": [
       "'SuperHero'"
      ]
     },
     "execution_count": 41,
     "metadata": {},
     "output_type": "execute_result"
    }
   ],
   "execution_count": 41
  },
  {
   "metadata": {},
   "cell_type": "markdown",
   "source": "<p>Can the <code>con</code> function we defined before be used to concatenate lists or tuples?</p>",
   "id": "8db9e1765c689999"
  },
  {
   "metadata": {
    "ExecuteTime": {
     "end_time": "2025-06-03T06:55:17.959715Z",
     "start_time": "2025-06-03T06:55:17.950085Z"
    }
   },
   "cell_type": "code",
   "source": [
    "# concatenate lists\n",
    "con([5, \"a\"], [3, \"b\"])"
   ],
   "id": "11eae58c2f2ad591",
   "outputs": [
    {
     "data": {
      "text/plain": [
       "[5, 'a', 3, 'b']"
      ]
     },
     "execution_count": 42,
     "metadata": {},
     "output_type": "execute_result"
    }
   ],
   "execution_count": 42
  },
  {
   "metadata": {},
   "cell_type": "markdown",
   "source": "<p>Write a function code to find total count of word `little` in the given string: <code>\"Mary had a little lamb Little lamb, little lamb Mary had a little lamb.Its fleece was white as snow And everywhere that Mary went Mary went, Mary went Everywhere that Mary went The lamb was sure to go\"</code></p>",
   "id": "3aa7f11608a8e530"
  },
  {
   "metadata": {
    "ExecuteTime": {
     "end_time": "2025-06-03T06:55:20.050072Z",
     "start_time": "2025-06-03T06:55:20.041655Z"
    }
   },
   "cell_type": "code",
   "source": [
    "# official solution\n",
    "def freq(string: str, passed_key: str):\n",
    "\n",
    "    # step1: Break the string into list of words\n",
    "    word = string.split()\n",
    "\n",
    "    # step2: Declare a dictionary\n",
    "    dic = {}\n",
    "\n",
    "    # step3: Use for loop to iterate words and values to the dictionary\n",
    "    for key in word:\n",
    "        if key == passed_key:\n",
    "            dic[key] = word.count(key)\n",
    "\n",
    "    # step4: Print the dictionary\n",
    "    print(\"Total Count: \", dic)\n",
    "\n",
    "# step5: Call function and pass string in it\n",
    "freq(\"Mary had a little lamb Little lamb, little lamb Mary had a little lamb.Its fleece was white as snow And everywhere that Mary went Mary went, Mary went Everywhere that Mary went The lamb was sure to go\", \"little\")"
   ],
   "id": "d490a93c10b9f924",
   "outputs": [
    {
     "name": "stdout",
     "output_type": "stream",
     "text": [
      "Total Count:  {'little': 3}\n"
     ]
    }
   ],
   "execution_count": 43
  },
  {
   "metadata": {
    "ExecuteTime": {
     "end_time": "2025-06-03T06:55:23.924817Z",
     "start_time": "2025-06-03T06:55:23.919132Z"
    }
   },
   "cell_type": "code",
   "source": [
    "# my solution\n",
    "def freq(s: str, k: str):\n",
    "    word = s.split()\n",
    "    dic = {key: word.count(key) for key in word if key == k}\n",
    "    print(f\"Total Count: {dic}\")\n",
    "\n",
    "freq(\"Mary had a little lamb Little lamb, little lamb Mary had a little lamb.Its fleece was white as snow And everywhere that Mary went Mary went, Mary went Everywhere that Mary went The lamb was sure to go\", \"little\")"
   ],
   "id": "5e2747e4dacdcd11",
   "outputs": [
    {
     "name": "stdout",
     "output_type": "stream",
     "text": [
      "Total Count: {'little': 3}\n"
     ]
    }
   ],
   "execution_count": 44
  },
  {
   "metadata": {},
   "cell_type": "markdown",
   "source": [
    "****\n",
    "This is the end of the file.\n",
    "****"
   ],
   "id": "d0dd438e871189cd"
  }
 ],
 "metadata": {
  "kernelspec": {
   "display_name": "Python 3",
   "language": "python",
   "name": "python3"
  },
  "language_info": {
   "codemirror_mode": {
    "name": "ipython",
    "version": 2
   },
   "file_extension": ".py",
   "mimetype": "text/x-python",
   "name": "python",
   "nbconvert_exporter": "python",
   "pygments_lexer": "ipython2",
   "version": "2.7.6"
  }
 },
 "nbformat": 4,
 "nbformat_minor": 5
}
