{
 "cells": [
  {
   "metadata": {},
   "cell_type": "markdown",
   "source": "## What is a Loop?",
   "id": "96233c917954d4d5"
  },
  {
   "metadata": {},
   "cell_type": "markdown",
   "source": "<p>In programming, a loop is like a magic trick that allows a computer to do something over and over again. Imagine you are a magician's assistant, and your magician friend asks you to pull a rabbit out of a hat, but not just once - they want you to keep doing it until they tell you to stop. That is what loops do for computers - they repeat a set of instructions as many times as needed.</p>",
   "id": "47200bdf6aaee945"
  },
  {
   "metadata": {},
   "cell_type": "markdown",
   "source": "## How Loop works?",
   "id": "51029ca761a827d"
  },
  {
   "metadata": {},
   "cell_type": "markdown",
   "source": "<p>Here's how it works in Python:</p>",
   "id": "d9f8e92419dfa2c6"
  },
  {
   "metadata": {},
   "cell_type": "markdown",
   "source": "![In case you have issues viewing this photo, please manually browse the file \"HowForLoopWorks.png\" in the same directory.](.\\HowForLoopWorks.png)",
   "id": "21fa6e8da360e858"
  },
  {
   "metadata": {},
   "cell_type": "markdown",
   "source": [
    "- **Start:** The for loop begins with the keyword for, followed by a variable that will take on each value in a sequence.\n",
    "- **Condition:** After the variable, you specify the keyword in and a sequence, such as a list or a range, that the loop will iterate through.\n",
    "- if `Condition=True`:\n",
    "    1. The loop takes the first value from the sequence and assigns it to the variable.\n",
    "    2. The indented block of code following the loop header is executed using this value.\n",
    "    3. The loop then moves to the next value in the sequence and repeats the process until all values have been used.\n",
    "\n",
    "- if `Condition=False`:\n",
    "    1. Once all values in the sequence have been processed, the loop terminates automatically.\n",
    "    2. The loop completes its execution, and the program continues to the next statement after the loop.\n",
    "\n",
    "- **Statement:** Inside the indented block of the loop, you write the statements that you want to repeat for each value in the sequence.\n",
    "- **Repeat:** The loop continues to repeat the block of code for each value in the sequence until there are no more values left."
   ],
   "id": "8defd7b845664b66"
  },
  {
   "metadata": {},
   "cell_type": "markdown",
   "source": "### The Need for Loops",
   "id": "6620ad66bbf8c3d9"
  },
  {
   "metadata": {},
   "cell_type": "markdown",
   "source": "<p>Think about when you need to count from 1 to 10. Doing it manually is easy, but what if you had to count to a <b>million</b>? Typing all those numbers one by one would be a nightmare! This is where loops come in handy. They help computers repeat tasks quickly and accurately without getting tired.</p>",
   "id": "1ae4ae7bc7fd0d9d"
  },
  {
   "metadata": {},
   "cell_type": "markdown",
   "source": "## Main Types of Loops",
   "id": "bf6df966329b030c"
  },
  {
   "metadata": {},
   "cell_type": "markdown",
   "source": "### `For` Loops",
   "id": "d6e6a6861492cbb8"
  },
  {
   "metadata": {},
   "cell_type": "markdown",
   "source": "<p>For loops are like a superhero's checklist. A for loop in programming is a control structure that allows the repeated execution of a set of statements for each item in a sequence, such as elements in a list or numbers in a range, enabling efficient iteration and automation of tasks.</p>",
   "id": "b2e490442054a95a"
  },
  {
   "metadata": {},
   "cell_type": "markdown",
   "source": [
    "**Syntax**:\n",
    "\n",
    "```Python\n",
    "for value in sequence:\n",
    "    pass # statement(s) to be executed in sequence as a part of the loop."
   ],
   "id": "5b9844790a2f52b2"
  },
  {
   "metadata": {},
   "cell_type": "markdown",
   "source": "<p>Imagine you're a painter, and you want to paint a beautiful rainbow with seven colors. Instead of picking up each color one by one and painting the rainbow, you could tell a magical painter's assistant to do it for you. This is what a basic for loop does in programming.</p>",
   "id": "5013c195bbfe1fee"
  },
  {
   "metadata": {},
   "cell_type": "markdown",
   "source": "<p><b>We have a list of colours.</b></p>",
   "id": "158a59e7c9bdae83"
  },
  {
   "metadata": {
    "ExecuteTime": {
     "end_time": "2025-05-30T03:28:02.181426Z",
     "start_time": "2025-05-30T03:28:02.174206Z"
    }
   },
   "cell_type": "code",
   "source": "colors = [\"red\", \"orange\", \"yellow\", \"green\", \"blue\", \"indigo\", \"violet\"]",
   "id": "d53780297c8e9aff",
   "outputs": [],
   "execution_count": 1
  },
  {
   "metadata": {},
   "cell_type": "markdown",
   "source": "<p><b>Let's print the colour name in the new line using for loop.</b></p>",
   "id": "1f72e5b379533a24"
  },
  {
   "metadata": {
    "ExecuteTime": {
     "end_time": "2025-05-30T03:28:02.356672Z",
     "start_time": "2025-05-30T03:28:02.349042Z"
    }
   },
   "cell_type": "code",
   "source": [
    "for color in colors:\n",
    "    print(color)"
   ],
   "id": "b08d7023dfcd4fae",
   "outputs": [
    {
     "name": "stdout",
     "output_type": "stream",
     "text": [
      "red\n",
      "orange\n",
      "yellow\n",
      "green\n",
      "blue\n",
      "indigo\n",
      "violet\n"
     ]
    }
   ],
   "execution_count": 2
  },
  {
   "metadata": {},
   "cell_type": "markdown",
   "source": "<p>In this example, the for loop picks each color from the colors list and prints it on the screen. You don't have to write the same code for each color - the loop does it automatically!</p>",
   "id": "dc138d0d185f769f"
  },
  {
   "metadata": {},
   "cell_type": "markdown",
   "source": "<p>Sometimes you do not want to paint a rainbow, but you want to count <i>the number of steps to reach your goal</i>. A range-based for loop is like having a friendly step counter that helps you reach your target.</p>",
   "id": "6ba8cda444237050"
  },
  {
   "metadata": {},
   "cell_type": "markdown",
   "source": "<p>Here is how you might use a for loop to count from 1 to 10:</p>",
   "id": "bcabda996f874f89"
  },
  {
   "metadata": {
    "ExecuteTime": {
     "end_time": "2025-05-30T03:28:02.419488Z",
     "start_time": "2025-05-30T03:28:02.413520Z"
    }
   },
   "cell_type": "code",
   "source": [
    "for number in range(1, 11):\n",
    "    print(number)"
   ],
   "id": "638fd8dca7bb406a",
   "outputs": [
    {
     "name": "stdout",
     "output_type": "stream",
     "text": [
      "1\n",
      "2\n",
      "3\n",
      "4\n",
      "5\n",
      "6\n",
      "7\n",
      "8\n",
      "9\n",
      "10\n"
     ]
    }
   ],
   "execution_count": 3
  },
  {
   "metadata": {},
   "cell_type": "markdown",
   "source": "<p>Here, the <code>range(1, 11)</code> generates a sequence from 1 to 10, and the for loop goes through each number in that sequence, printing it out. It's like taking 10 steps, and you're guided by the loop!</p>",
   "id": "41eb5b6bc852fb34"
  },
  {
   "metadata": {},
   "cell_type": "markdown",
   "source": "#### Range Function",
   "id": "6f9ef6ae3f7b5b4c"
  },
  {
   "metadata": {},
   "cell_type": "markdown",
   "source": "<p>The range function in Python generates an ordered sequence that can be used in loops. It takes one or two arguments:</p>",
   "id": "f99bbff919f0a727"
  },
  {
   "metadata": {},
   "cell_type": "markdown",
   "source": "- If given one argument (e.g., range(11)), it generates a sequence starting from 0 up to (but not including) the given number.",
   "id": "97a3d5a4628fe233"
  },
  {
   "metadata": {
    "ExecuteTime": {
     "end_time": "2025-05-30T03:28:02.479200Z",
     "start_time": "2025-05-30T03:28:02.471941Z"
    }
   },
   "cell_type": "code",
   "source": [
    "for number in range(8):\n",
    "    print(number)"
   ],
   "id": "aef86a87e370ddf2",
   "outputs": [
    {
     "name": "stdout",
     "output_type": "stream",
     "text": [
      "0\n",
      "1\n",
      "2\n",
      "3\n",
      "4\n",
      "5\n",
      "6\n",
      "7\n"
     ]
    }
   ],
   "execution_count": 4
  },
  {
   "metadata": {},
   "cell_type": "markdown",
   "source": "- If given two arguments (e.g., range(1, 11)), it generates a sequence starting from the first argument up to (but not including) the second argument.",
   "id": "77b4f776085a7dec"
  },
  {
   "metadata": {
    "ExecuteTime": {
     "end_time": "2025-05-30T03:28:02.533355Z",
     "start_time": "2025-05-30T03:28:02.528457Z"
    }
   },
   "cell_type": "code",
   "source": [
    "for number in range(2, 13):\n",
    "    print(number)"
   ],
   "id": "740d85844aaefe08",
   "outputs": [
    {
     "name": "stdout",
     "output_type": "stream",
     "text": [
      "2\n",
      "3\n",
      "4\n",
      "5\n",
      "6\n",
      "7\n",
      "8\n",
      "9\n",
      "10\n",
      "11\n",
      "12\n"
     ]
    }
   ],
   "execution_count": 5
  },
  {
   "metadata": {},
   "cell_type": "markdown",
   "source": "#### The Enumerated For Loop",
   "id": "b33870d098f1ed4e"
  },
  {
   "metadata": {},
   "cell_type": "markdown",
   "source": "<p>Have you ever needed to keep track of both the item and its position in a list? An enumerated for loop comes to your rescue. It's like having a personal assistant who not only hands you the item but also tells you where to find it.</p>",
   "id": "887828b7c6811af7"
  },
  {
   "metadata": {},
   "cell_type": "markdown",
   "source": "<p>Consider this example:</p>",
   "id": "32a993c6d1c49dfa"
  },
  {
   "metadata": {
    "ExecuteTime": {
     "end_time": "2025-05-30T03:28:02.590298Z",
     "start_time": "2025-05-30T03:28:02.584906Z"
    }
   },
   "cell_type": "code",
   "source": [
    "fruits = [\"apple\", \"banana\", \"cherry\"]\n",
    "for index, value in enumerate(fruits):\n",
    "    print(\"Position: \", index, \", Value: \", value)"
   ],
   "id": "bfbc51f3f4d09a4b",
   "outputs": [
    {
     "name": "stdout",
     "output_type": "stream",
     "text": [
      "Position:  0 , Value:  apple\n",
      "Position:  1 , Value:  banana\n",
      "Position:  2 , Value:  cherry\n"
     ]
    }
   ],
   "execution_count": 6
  },
  {
   "metadata": {},
   "cell_type": "markdown",
   "source": "<p>With this loop, you not only get the fruit but also its position in the list. It's as if you have a magical guide pointing out each fruit's location!</p>",
   "id": "428430efa7c69853"
  },
  {
   "metadata": {},
   "cell_type": "markdown",
   "source": "### `while` Loops",
   "id": "b82b555cf7c90e05"
  },
  {
   "metadata": {},
   "cell_type": "markdown",
   "source": "<p>While loops are like a sleepless night at a friend's sleepover. Imagine you and your friends keep telling ghost stories until someone decides it's time to sleep. As long as no one says, \"Let's sleep\" you keep telling stories.</p>",
   "id": "5243778b9f3bd4aa"
  },
  {
   "metadata": {},
   "cell_type": "markdown",
   "source": "<p>A while loop works similarly - it repeats a task as long as a certain condition is true. It's like saying, \"Hey computer, keep doing this until I say stop!\"</p>",
   "id": "9bb975f1a424f504"
  },
  {
   "metadata": {},
   "cell_type": "markdown",
   "source": [
    "**Syntax**:\n",
    "\n",
    "```Python\n",
    "while condition:\n",
    "    pass    # Code to be executed while the condition is true, indentation is crucial to indicate the scope of the loop"
   ],
   "id": "4c2e3ec64a90eeee"
  },
  {
   "metadata": {},
   "cell_type": "markdown",
   "source": "<p>For example, here's how you might use a while loop to count from 1 to 10:</p>",
   "id": "6e7a231dba90f567"
  },
  {
   "metadata": {
    "ExecuteTime": {
     "end_time": "2025-05-30T03:28:02.640588Z",
     "start_time": "2025-05-30T03:28:02.635259Z"
    }
   },
   "cell_type": "code",
   "source": [
    "counts = 1\n",
    "while counts <= 10:\n",
    "    print(counts)\n",
    "    counts += 1"
   ],
   "id": "387c9da6c66e3eb7",
   "outputs": [
    {
     "name": "stdout",
     "output_type": "stream",
     "text": [
      "1\n",
      "2\n",
      "3\n",
      "4\n",
      "5\n",
      "6\n",
      "7\n",
      "8\n",
      "9\n",
      "10\n"
     ]
    }
   ],
   "execution_count": 7
  },
  {
   "metadata": {},
   "cell_type": "markdown",
   "source": "<p>here's a breakdown of the above code.</p>",
   "id": "50169f09b958e2b5"
  },
  {
   "metadata": {},
   "cell_type": "markdown",
   "source": [
    "1. There is a variable named **count*?* initialized with the value 1.\n",
    "2. The while loop is used to repeatedly execute a block of code as long as a given condition is True. In this case, the condition is **count <= 10**, meaning the loop will continue as long as count is less than or equal to 10.\n",
    "3. Inside the loop:\n",
    "    - The **print(count)** statement outputs the current value of the count variable.\n",
    "    - The **count += 1** statement increments the value of count by 1. This step ensures that the loop will eventually terminate when count becomes greater than 10.\n",
    "4. The loop will continue executing as long as the condition count <= 10 is satisfied.\n",
    "5. The loop will print the numbers 1 to 10 in consecutive order since the print statement is inside the loop block and executed during each iteration.\n",
    "6. Once count reaches 11, the condition count <= 10 will evaluate to False, and the loop will terminate.\n",
    "7. The output of the code will be the numbers 1 to 10, each printed on a separate line."
   ],
   "id": "303705d1ab4f755f"
  },
  {
   "metadata": {},
   "cell_type": "markdown",
   "source": "### The Loop Flow",
   "id": "66e7e4458d97901c"
  },
  {
   "metadata": {},
   "cell_type": "markdown",
   "source": "<p>Both for and while loops have their special moves, but they follow a pattern:</p>",
   "id": "9faf97cf9d4c63a0"
  },
  {
   "metadata": {},
   "cell_type": "markdown",
   "source": [
    "- **Initialization:** You set up things like a starting point or conditions.\n",
    "- **Condition:** You decide when the loop should keep going and when it should stop.\n",
    "- **Execution:** You do the task inside the loop.\n",
    "- **Update:** You make changes to your starting point or conditions to move forward.\n",
    "- **Repeat:** The loop goes back to step 2 until the condition is no longer true."
   ],
   "id": "a7f42430185c5484"
  },
  {
   "metadata": {},
   "cell_type": "markdown",
   "source": "### When to Use Each",
   "id": "cedf6d25a6a7c444"
  },
  {
   "metadata": {},
   "cell_type": "markdown",
   "source": "<p><b>For Loops:</b> Use for loops when you know the number of iterations in advance and want to process each element in a sequence. They are best suited for iterating over collections and sequences where the length is known.</p>",
   "id": "65b21907c3c45ce5"
  },
  {
   "metadata": {},
   "cell_type": "markdown",
   "source": "<p><b>While Loops:</b> Use while loops when you need to perform a task repeatedly as long as a certain condition holds true. While loops are particularly useful for situations where the number of iterations is uncertain or where you're waiting for a specific condition to be met.</p>",
   "id": "b38d960bcd06096"
  },
  {
   "metadata": {},
   "cell_type": "markdown",
   "source": [
    "****\n",
    "This is the end of the file.\n",
    "****"
   ],
   "id": "8cb63884e7e694b2"
  }
 ],
 "metadata": {
  "kernelspec": {
   "display_name": "Python 3",
   "language": "python",
   "name": "python3"
  },
  "language_info": {
   "codemirror_mode": {
    "name": "ipython",
    "version": 2
   },
   "file_extension": ".py",
   "mimetype": "text/x-python",
   "name": "python",
   "nbconvert_exporter": "python",
   "pygments_lexer": "ipython2",
   "version": "2.7.6"
  }
 },
 "nbformat": 4,
 "nbformat_minor": 5
}
