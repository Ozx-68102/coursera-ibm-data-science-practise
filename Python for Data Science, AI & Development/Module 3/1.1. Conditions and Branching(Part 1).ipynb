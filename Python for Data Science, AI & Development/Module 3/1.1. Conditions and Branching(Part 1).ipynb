{
 "cells": [
  {
   "metadata": {},
   "cell_type": "markdown",
   "source": "## Condition Statements",
   "id": "a699755d225b5098"
  },
  {
   "metadata": {},
   "cell_type": "markdown",
   "source": "### Comparison Operators",
   "id": "dc0cf00ea739c726"
  },
  {
   "metadata": {},
   "cell_type": "markdown",
   "source": "<p>Comparison operations compare some value or operand and based on a condition, produce a Boolean. When comparing two values you can use these operators:</p>\n",
   "id": "b53cd265f9faea5"
  },
  {
   "metadata": {},
   "cell_type": "markdown",
   "source": [
    "<ul>\n",
    "    <li>equal: <b>==</b></li>\n",
    "    <li>not equal: <b>!=</b></li>\n",
    "    <li>greater than: <b>></b></li>\n",
    "    <li>less than: <b>&lt;</b></li>\n",
    "    <li>greater than or equal to: <b>>=</b></li>\n",
    "    <li>less than or equal to: <b>&lt;=</b></li>\n",
    "</ul>"
   ],
   "id": "594c493d9841b818"
  },
  {
   "metadata": {},
   "cell_type": "markdown",
   "source": "<p>Let's assign <code>a</code> a value of 5. Use the equality operator denoted with two equal <b>==</b> signs to determine if two values are equal. The case below compares the variable <code>a</code> with 6.</p>",
   "id": "278870625ab864ab"
  },
  {
   "metadata": {
    "ExecuteTime": {
     "end_time": "2025-05-29T06:08:14.095115Z",
     "start_time": "2025-05-29T06:08:14.090548Z"
    }
   },
   "cell_type": "code",
   "source": [
    "a = 5\n",
    "a == 6"
   ],
   "id": "3b949f6ac8f91814",
   "outputs": [
    {
     "data": {
      "text/plain": [
       "False"
      ]
     },
     "execution_count": 1,
     "metadata": {},
     "output_type": "execute_result"
    }
   ],
   "execution_count": 1
  },
  {
   "metadata": {},
   "cell_type": "markdown",
   "source": "<p>The result is <b>False</b>, as 5 does not equal to 6.</p>",
   "id": "8789d9989725a9b7"
  },
  {
   "metadata": {},
   "cell_type": "markdown",
   "source": "<p>Consider the following equality comparison operator: <code>i > 5</code>. If the value of the left operand, in this case the variable <b>i</b>, is greater than the value of the right operand, in this case 5, then the statement is <b>True</b>. Otherwise, the statement is <b>False</b>.  If <b>i</b> is equal to 6, because 6 is larger than 5, the output is <b>True</b>.</p>",
   "id": "c907dcdd54e529fd"
  },
  {
   "metadata": {
    "ExecuteTime": {
     "end_time": "2025-05-29T06:08:14.104257Z",
     "start_time": "2025-05-29T06:08:14.101334Z"
    }
   },
   "cell_type": "code",
   "source": [
    "i = 6\n",
    "i > 5"
   ],
   "id": "6d019b109cf73876",
   "outputs": [
    {
     "data": {
      "text/plain": [
       "True"
      ]
     },
     "execution_count": 2,
     "metadata": {},
     "output_type": "execute_result"
    }
   ],
   "execution_count": 2
  },
  {
   "metadata": {},
   "cell_type": "markdown",
   "source": "<p>Set <code>i = 2</code>. The statement is False as 2 is not greater than 5:</p>",
   "id": "8971c75f6933bcfa"
  },
  {
   "metadata": {
    "ExecuteTime": {
     "end_time": "2025-05-29T06:08:14.182859Z",
     "start_time": "2025-05-29T06:08:14.179731Z"
    }
   },
   "cell_type": "code",
   "source": [
    "i = 2\n",
    "i > 5"
   ],
   "id": "54ba8f660f8e63d0",
   "outputs": [
    {
     "data": {
      "text/plain": [
       "False"
      ]
     },
     "execution_count": 3,
     "metadata": {},
     "output_type": "execute_result"
    }
   ],
   "execution_count": 3
  },
  {
   "metadata": {},
   "cell_type": "markdown",
   "source": "<p>The inequality test uses an exclamation mark preceding the equal sign, if two operands are not equal then the condition becomes <b>True</b>.  For example, the following condition will produce <b>True</b> as long as the value of <code>i</code> is not equal to 6:</p>",
   "id": "9455d5be5ec220f4"
  },
  {
   "metadata": {
    "ExecuteTime": {
     "end_time": "2025-05-29T06:08:14.194223Z",
     "start_time": "2025-05-29T06:08:14.189424Z"
    }
   },
   "cell_type": "code",
   "source": [
    "i = 2\n",
    "i != 6"
   ],
   "id": "f107f1db333fc9c3",
   "outputs": [
    {
     "data": {
      "text/plain": [
       "True"
      ]
     },
     "execution_count": 4,
     "metadata": {},
     "output_type": "execute_result"
    }
   ],
   "execution_count": 4
  },
  {
   "metadata": {},
   "cell_type": "markdown",
   "source": "<p>When <code>i</code> equals 6 the inequality expression produces <b>False</b>.</p>",
   "id": "4825aec2d37a8e74"
  },
  {
   "metadata": {
    "ExecuteTime": {
     "end_time": "2025-05-29T06:08:14.210659Z",
     "start_time": "2025-05-29T06:08:14.207347Z"
    }
   },
   "cell_type": "code",
   "source": [
    "i = 6\n",
    "i != 6"
   ],
   "id": "b7ca88484a1981f3",
   "outputs": [
    {
     "data": {
      "text/plain": [
       "False"
      ]
     },
     "execution_count": 5,
     "metadata": {},
     "output_type": "execute_result"
    }
   ],
   "execution_count": 5
  },
  {
   "metadata": {},
   "cell_type": "markdown",
   "source": "<p>We can apply the same methods on strings. For example, we can use an equality operator on two different strings. As the strings are not equal, we get a <b>False</b>.</p>",
   "id": "c1b10287708a787f"
  },
  {
   "metadata": {
    "ExecuteTime": {
     "end_time": "2025-05-29T06:08:14.248125Z",
     "start_time": "2025-05-29T06:08:14.245212Z"
    }
   },
   "cell_type": "code",
   "source": "\"ABCD\" == \"KksK\"",
   "id": "7e98a11f96de2206",
   "outputs": [
    {
     "data": {
      "text/plain": [
       "False"
      ]
     },
     "execution_count": 6,
     "metadata": {},
     "output_type": "execute_result"
    }
   ],
   "execution_count": 6
  },
  {
   "metadata": {},
   "cell_type": "markdown",
   "source": "<p>If we use the inequality operator, the output is going to be <b>True</b> as the strings are not equal.</p>",
   "id": "96541a569a829227"
  },
  {
   "metadata": {
    "ExecuteTime": {
     "end_time": "2025-05-29T06:08:14.259952Z",
     "start_time": "2025-05-29T06:08:14.256603Z"
    }
   },
   "cell_type": "code",
   "source": "\"ABCD\" != \"KksK\"",
   "id": "29909281f12eedc8",
   "outputs": [
    {
     "data": {
      "text/plain": [
       "True"
      ]
     },
     "execution_count": 7,
     "metadata": {},
     "output_type": "execute_result"
    }
   ],
   "execution_count": 7
  },
  {
   "metadata": {},
   "cell_type": "markdown",
   "source": "<p>The inequality operation is also used to compare the letters/words/symbols according to the ASCII value of letters. The decimal value shown in the following table represents the order of the character:</p>",
   "id": "4ac64fd9df221971"
  },
  {
   "metadata": {},
   "cell_type": "markdown",
   "source": [
    "<div style=\"display: flex; gap: 30px; padding: 20px; overflow-x: auto;\">\n",
    "\n",
    "  <!-- Group 1: Digits (0-9) -->\n",
    "  <table style=\"border-collapse: collapse; border: 1px solid; text-align: center;\">\n",
    "    <thead>\n",
    "      <tr>\n",
    "        <th style=\"border: 1px solid; padding: 8px; text-align: center;\">Character</th>\n",
    "        <th style=\"border: 1px solid; padding: 8px; text-align: center;\">ASCII</th>\n",
    "      </tr>\n",
    "    </thead>\n",
    "    <tbody>\n",
    "      <tr><td style=\"border: 1px solid; padding: 8px; text-align: center;\">0</td><td style=\"border: 1px solid; padding: 8px; text-align: center;\">48</td></tr>\n",
    "      <tr><td style=\"border: 1px solid; padding: 8px; text-align: center;\">1</td><td style=\"border: 1px solid; padding: 8px; text-align: center;\">49</td></tr>\n",
    "      <tr><td style=\"border: 1px solid; padding: 8px; text-align: center;\">2</td><td style=\"border: 1px solid; padding: 8px; text-align: center;\">50</td></tr>\n",
    "      <tr><td style=\"border: 1px solid; padding: 8px; text-align: center;\">3</td><td style=\"border: 1px solid; padding: 8px; text-align: center;\">51</td></tr>\n",
    "      <tr><td style=\"border: 1px solid; padding: 8px; text-align: center;\">4</td><td style=\"border: 1px solid; padding: 8px; text-align: center;\">52</td></tr>\n",
    "      <tr><td style=\"border: 1px solid; padding: 8px; text-align: center;\">5</td><td style=\"border: 1px solid; padding: 8px; text-align: center;\">53</td></tr>\n",
    "      <tr><td style=\"border: 1px solid; padding: 8px; text-align: center;\">6</td><td style=\"border: 1px solid; padding: 8px; text-align: center;\">54</td></tr>\n",
    "      <tr><td style=\"border: 1px solid; padding: 8px; text-align: center;\">7</td><td style=\"border: 1px solid; padding: 8px; text-align: center;\">55</td></tr>\n",
    "      <tr><td style=\"border: 1px solid; padding: 8px; text-align: center;\">8</td><td style=\"border: 1px solid; padding: 8px; text-align: center;\">56</td></tr>\n",
    "      <tr><td style=\"border: 1px solid; padding: 8px; text-align: center;\">9</td><td style=\"border: 1px solid; padding: 8px; text-align: center;\">57</td></tr>\n",
    "    </tbody>\n",
    "  </table>\n",
    "\n",
    "  <!-- Group 2: Basic Symbols (Space, Punctuation) -->\n",
    "  <table style=\"border-collapse: collapse; border: 1px solid; text-align: center;\">\n",
    "    <thead>\n",
    "      <tr>\n",
    "        <th style=\"border: 1px solid; padding: 8px; text-align: center;\">Character</th>\n",
    "        <th style=\"border: 1px solid; padding: 8px; text-align: center;\">ASCII</th>\n",
    "      </tr>\n",
    "    </thead>\n",
    "    <tbody>\n",
    "      <tr><td style=\"border: 1px solid; padding: 8px; text-align: center;\">&nbsp;(space)</td><td style=\"border: 1px solid; padding: 8px; text-align: center;\">32</td></tr>\n",
    "      <tr><td style=\"border: 1px solid; padding: 8px; text-align: center;\">!</td><td style=\"border: 1px solid; padding: 8px; text-align: center;\">33</td></tr>\n",
    "      <tr><td style=\"border: 1px solid; padding: 8px; text-align: center;\">&quot;</td><td style=\"border: 1px solid; padding: 8px; text-align: center;\">34</td></tr>\n",
    "      <tr><td style=\"border: 1px solid; padding: 8px; text-align: center;\">#</td><td style=\"border: 1px solid; padding: 8px; text-align: center;\">35</td></tr>\n",
    "      <tr><td style=\"border: 1px solid; padding: 8px; text-align: center;\">$</td><td style=\"border: 1px solid; padding: 8px; text-align: center;\">36</td></tr>\n",
    "      <tr><td style=\"border: 1px solid; padding: 8px; text-align: center;\">%</td><td style=\"border: 1px solid; padding: 8px; text-align: center;\">37</td></tr>\n",
    "      <tr><td style=\"border: 1px solid; padding: 8px; text-align: center;\">&amp;</td><td style=\"border: 1px solid; padding: 8px; text-align: center;\">38</td></tr>\n",
    "      <tr><td style=\"border: 1px solid; padding: 8px; text-align: center;\">&apos;</td><td style=\"border: 1px solid; padding: 8px; text-align: center;\">39</td></tr>\n",
    "      <tr><td style=\"border: 1px solid; padding: 8px; text-align: center;\">(</td><td style=\"border: 1px solid; padding: 8px; text-align: center;\">40</td></tr>\n",
    "      <tr><td style=\"border: 1px solid; padding: 8px; text-align: center;\">)</td><td style=\"border: 1px solid; padding: 8px; text-align: center;\">41</td></tr>\n",
    "      <tr><td style=\"border: 1px solid; padding: 8px; text-align: center;\">*</td><td style=\"border: 1px solid; padding: 8px; text-align: center;\">42</td></tr>\n",
    "      <tr><td style=\"border: 1px solid; padding: 8px; text-align: center;\">+</td><td style=\"border: 1px solid; padding: 8px; text-align: center;\">43</td></tr>\n",
    "      <tr><td style=\"border: 1px solid; padding: 8px; text-align: center;\">,</td><td style=\"border: 1px solid; padding: 8px; text-align: center;\">44</td></tr>\n",
    "      <tr><td style=\"border: 1px solid; padding: 8px; text-align: center;\">-</td><td style=\"border: 1px solid; padding: 8px; text-align: center;\">45</td></tr>\n",
    "      <tr><td style=\"border: 1px solid; padding: 8px; text-align: center;\">.</td><td style=\"border: 1px solid; padding: 8px; text-align: center;\">46</td></tr>\n",
    "      <tr><td style=\"border: 1px solid; padding: 8px; text-align: center;\">/</td><td style=\"border: 1px solid; padding: 8px; text-align: center;\">47</td></tr>\n",
    "    </tbody>\n",
    "  </table>\n",
    "\n",
    "  <!-- Group 3: Uppercase Letters (A-M) -->\n",
    "  <table style=\"border-collapse: collapse; border: 1px solid; text-align: center;\">\n",
    "    <thead>\n",
    "      <tr>\n",
    "        <th style=\"border: 1px solid; padding: 8px; text-align: center;\">Character</th>\n",
    "        <th style=\"border: 1px solid; padding: 8px; text-align: center;\">ASCII</th>\n",
    "      </tr>\n",
    "    </thead>\n",
    "    <tbody>\n",
    "      <tr><td style=\"border: 1px solid; padding: 8px; text-align: center;\">A</td><td style=\"border: 1px solid; padding: 8px; text-align: center;\">65</td></tr>\n",
    "      <tr><td style=\"border: 1px solid; padding: 8px; text-align: center;\">B</td><td style=\"border: 1px solid; padding: 8px; text-align: center;\">66</td></tr>\n",
    "      <tr><td style=\"border: 1px solid; padding: 8px; text-align: center;\">C</td><td style=\"border: 1px solid; padding: 8px; text-align: center;\">67</td></tr>\n",
    "      <tr><td style=\"border: 1px solid; padding: 8px; text-align: center;\">D</td><td style=\"border: 1px solid; padding: 8px; text-align: center;\">68</td></tr>\n",
    "      <tr><td style=\"border: 1px solid; padding: 8px; text-align: center;\">E</td><td style=\"border: 1px solid; padding: 8px; text-align: center;\">69</td></tr>\n",
    "      <tr><td style=\"border: 1px solid; padding: 8px; text-align: center;\">F</td><td style=\"border: 1px solid; padding: 8px; text-align: center;\">70</td></tr>\n",
    "      <tr><td style=\"border: 1px solid; padding: 8px; text-align: center;\">G</td><td style=\"border: 1px solid; padding: 8px; text-align: center;\">71</td></tr>\n",
    "      <tr><td style=\"border: 1px solid; padding: 8px; text-align: center;\">H</td><td style=\"border: 1px solid; padding: 8px; text-align: center;\">72</td></tr>\n",
    "      <tr><td style=\"border: 1px solid; padding: 8px; text-align: center;\">I</td><td style=\"border: 1px solid; padding: 8px; text-align: center;\">73</td></tr>\n",
    "      <tr><td style=\"border: 1px solid; padding: 8px; text-align: center;\">J</td><td style=\"border: 1px solid; padding: 8px; text-align: center;\">74</td></tr>\n",
    "      <tr><td style=\"border: 1px solid; padding: 8px; text-align: center;\">K</td><td style=\"border: 1px solid; padding: 8px; text-align: center;\">75</td></tr>\n",
    "      <tr><td style=\"border: 1px solid; padding: 8px; text-align: center;\">L</td><td style=\"border: 1px solid; padding: 8px; text-align: center;\">76</td></tr>\n",
    "      <tr><td style=\"border: 1px solid; padding: 8px; text-align: center;\">M</td><td style=\"border: 1px solid; padding: 8px; text-align: center;\">77</td></tr>\n",
    "    </tbody>\n",
    "  </table>\n",
    "\n",
    "  <!-- Group 4: Uppercase Letters (N-Z) -->\n",
    "  <table style=\"border-collapse: collapse; border: 1px solid; text-align: center;\">\n",
    "    <thead>\n",
    "      <tr>\n",
    "        <th style=\"border: 1px solid; padding: 8px; text-align: center;\">Character</th>\n",
    "        <th style=\"border: 1px solid; padding: 8px; text-align: center;\">ASCII</th>\n",
    "      </tr>\n",
    "    </thead>\n",
    "    <tbody>\n",
    "      <tr><td style=\"border: 1px solid; padding: 8px; text-align: center;\">N</td><td style=\"border: 1px solid; padding: 8px; text-align: center;\">78</td></tr>\n",
    "      <tr><td style=\"border: 1px solid; padding: 8px; text-align: center;\">O</td><td style=\"border: 1px solid; padding: 8px; text-align: center;\">79</td></tr>\n",
    "      <tr><td style=\"border: 1px solid; padding: 8px; text-align: center;\">P</td><td style=\"border: 1px solid; padding: 8px; text-align: center;\">80</td></tr>\n",
    "      <tr><td style=\"border: 1px solid; padding: 8px; text-align: center;\">Q</td><td style=\"border: 1px solid; padding: 8px; text-align: center;\">81</td></tr>\n",
    "      <tr><td style=\"border: 1px solid; padding: 8px; text-align: center;\">R</td><td style=\"border: 1px solid; padding: 8px; text-align: center;\">82</td></tr>\n",
    "      <tr><td style=\"border: 1px solid; padding: 8px; text-align: center;\">S</td><td style=\"border: 1px solid; padding: 8px; text-align: center;\">83</td></tr>\n",
    "      <tr><td style=\"border: 1px solid; padding: 8px; text-align: center;\">T</td><td style=\"border: 1px solid; padding: 8px; text-align: center;\">84</td></tr>\n",
    "      <tr><td style=\"border: 1px solid; padding: 8px; text-align: center;\">U</td><td style=\"border: 1px solid; padding: 8px; text-align: center;\">85</td></tr>\n",
    "      <tr><td style=\"border: 1px solid; padding: 8px; text-align: center;\">V</td><td style=\"border: 1px solid; padding: 8px; text-align: center;\">86</td></tr>\n",
    "      <tr><td style=\"border: 1px solid; padding: 8px; text-align: center;\">W</td><td style=\"border: 1px solid; padding: 8px; text-align: center;\">87</td></tr>\n",
    "      <tr><td style=\"border: 1px solid; padding: 8px; text-align: center;\">X</td><td style=\"border: 1px solid; padding: 8px; text-align: center;\">88</td></tr>\n",
    "      <tr><td style=\"border: 1px solid; padding: 8px; text-align: center;\">Y</td><td style=\"border: 1px solid; padding: 8px; text-align: center;\">89</td></tr>\n",
    "      <tr><td style=\"border: 1px solid; padding: 8px; text-align: center;\">Z</td><td style=\"border: 1px solid; padding: 8px; text-align: center;\">90</td></tr>\n",
    "    </tbody>\n",
    "  </table>\n",
    "\n",
    "  <!-- Group 5: Lowercase Letters (a-m) -->\n",
    "  <table style=\"border-collapse: collapse; border: 1px solid; text-align: center;\">\n",
    "    <thead>\n",
    "      <tr>\n",
    "        <th style=\"border: 1px solid; padding: 8px; text-align: center;\">Character</th>\n",
    "        <th style=\"border: 1px solid; padding: 8px; text-align: center;\">ASCII</th>\n",
    "      </tr>\n",
    "    </thead>\n",
    "    <tbody>\n",
    "      <tr><td style=\"border: 1px solid; padding: 8px; text-align: center;\">a</td><td style=\"border: 1px solid; padding: 8px; text-align: center;\">97</td></tr>\n",
    "      <tr><td style=\"border: 1px solid; padding: 8px; text-align: center;\">b</td><td style=\"border: 1px solid; padding: 8px; text-align: center;\">98</td></tr>\n",
    "      <tr><td style=\"border: 1px solid; padding: 8px; text-align: center;\">c</td><td style=\"border: 1px solid; padding: 8px; text-align: center;\">99</td></tr>\n",
    "      <tr><td style=\"border: 1px solid; padding: 8px; text-align: center;\">d</td><td style=\"border: 1px solid; padding: 8px; text-align: center;\">100</td></tr>\n",
    "      <tr><td style=\"border: 1px solid; padding: 8px; text-align: center;\">e</td><td style=\"border: 1px solid; padding: 8px; text-align: center;\">101</td></tr>\n",
    "      <tr><td style=\"border: 1px solid; padding: 8px; text-align: center;\">f</td><td style=\"border: 1px solid; padding: 8px; text-align: center;\">102</td></tr>\n",
    "      <tr><td style=\"border: 1px solid; padding: 8px; text-align: center;\">g</td><td style=\"border: 1px solid; padding: 8px; text-align: center;\">103</td></tr>\n",
    "      <tr><td style=\"border: 1px solid; padding: 8px; text-align: center;\">h</td><td style=\"border: 1px solid; padding: 8px; text-align: center;\">104</td></tr>\n",
    "      <tr><td style=\"border: 1px solid; padding: 8px; text-align: center;\">i</td><td style=\"border: 1px solid; padding: 8px; text-align: center;\">105</td></tr>\n",
    "      <tr><td style=\"border: 1px solid; padding: 8px; text-align: center;\">j</td><td style=\"border: 1px solid; padding: 8px; text-align: center;\">106</td></tr>\n",
    "      <tr><td style=\"border: 1px solid; padding: 8px; text-align: center;\">k</td><td style=\"border: 1px solid; padding: 8px; text-align: center;\">107</td></tr>\n",
    "      <tr><td style=\"border: 1px solid; padding: 8px; text-align: center;\">l</td><td style=\"border: 1px solid; padding: 8px; text-align: center;\">108</td></tr>\n",
    "      <tr><td style=\"border: 1px solid; padding: 8px; text-align: center;\">m</td><td style=\"border: 1px solid; padding: 8px; text-align: center;\">109</td></tr>\n",
    "    </tbody>\n",
    "  </table>\n",
    "\n",
    "  <!-- Group 6: Lowercase Letters (n-z) -->\n",
    "  <table style=\"border-collapse: collapse; border: 1px solid; text-align: center;\">\n",
    "    <thead>\n",
    "      <tr>\n",
    "        <th style=\"border: 1px solid; padding: 8px; text-align: center;\">Character</th>\n",
    "        <th style=\"border: 1px solid; padding: 8px; text-align: center;\">ASCII</th>\n",
    "      </tr>\n",
    "    </thead>\n",
    "    <tbody>\n",
    "      <tr><td style=\"border: 1px solid; padding: 8px; text-align: center;\">n</td><td style=\"border: 1px solid; padding: 8px; text-align: center;\">110</td></tr>\n",
    "      <tr><td style=\"border: 1px solid; padding: 8px; text-align: center;\">o</td><td style=\"border: 1px solid; padding: 8px; text-align: center;\">111</td></tr>\n",
    "      <tr><td style=\"border: 1px solid; padding: 8px; text-align: center;\">p</td><td style=\"border: 1px solid; padding: 8px; text-align: center;\">112</td></tr>\n",
    "      <tr><td style=\"border: 1px solid; padding: 8px; text-align: center;\">q</td><td style=\"border: 1px solid; padding: 8px; text-align: center;\">113</td></tr>\n",
    "      <tr><td style=\"border: 1px solid; padding: 8px; text-align: center;\">r</td><td style=\"border: 1px solid; padding: 8px; text-align: center;\">114</td></tr>\n",
    "      <tr><td style=\"border: 1px solid; padding: 8px; text-align: center;\">s</td><td style=\"border: 1px solid; padding: 8px; text-align: center;\">115</td></tr>\n",
    "      <tr><td style=\"border: 1px solid; padding: 8px; text-align: center;\">t</td><td style=\"border: 1px solid; padding: 8px; text-align: center;\">116</td></tr>\n",
    "      <tr><td style=\"border: 1px solid; padding: 8px; text-align: center;\">u</td><td style=\"border: 1px solid; padding: 8px; text-align: center;\">117</td></tr>\n",
    "      <tr><td style=\"border: 1px solid; padding: 8px; text-align: center;\">v</td><td style=\"border: 1px solid; padding: 8px; text-align: center;\">118</td></tr>\n",
    "      <tr><td style=\"border: 1px solid; padding: 8px; text-align: center;\">w</td><td style=\"border: 1px solid; padding: 8px; text-align: center;\">119</td></tr>\n",
    "      <tr><td style=\"border: 1px solid; padding: 8px; text-align: center;\">x</td><td style=\"border: 1px solid; padding: 8px; text-align: center;\">120</td></tr>\n",
    "      <tr><td style=\"border: 1px solid; padding: 8px; text-align: center;\">y</td><td style=\"border: 1px solid; padding: 8px; text-align: center;\">121</td></tr>\n",
    "      <tr><td style=\"border: 1px solid; padding: 8px; text-align: center;\">z</td><td style=\"border: 1px solid; padding: 8px; text-align: center;\">122</td></tr>\n",
    "    </tbody>\n",
    "  </table>\n",
    "\n",
    "  <!-- Group 7: Extended Symbols ([, \\, ], ^, _, etc.) -->\n",
    "  <table style=\"border-collapse: collapse; border: 1px solid; text-align: center;\">\n",
    "    <thead>\n",
    "      <tr>\n",
    "        <th style=\"border: 1px solid; padding: 8px; text-align: center;\">Character</th>\n",
    "        <th style=\"border: 1px solid; padding: 8px; text-align: center;\">ASCII</th>\n",
    "      </tr>\n",
    "    </thead>\n",
    "    <tbody>\n",
    "      <tr><td style=\"border: 1px solid; padding: 8px; text-align: center;\">[</td><td style=\"border: 1px solid; padding: 8px; text-align: center;\">91</td></tr>\n",
    "      <tr><td style=\"border: 1px solid; padding: 8px; text-align: center;\">\\</td><td style=\"border: 1px solid; padding: 8px; text-align: center;\">92</td></tr>\n",
    "      <tr><td style=\"border: 1px solid; padding: 8px; text-align: center;\">]</td><td style=\"border: 1px solid; padding: 8px; text-align: center;\">93</td></tr>\n",
    "      <tr><td style=\"border: 1px solid; padding: 8px; text-align: center;\">^</td><td style=\"border: 1px solid; padding: 8px; text-align: center;\">94</td></tr>\n",
    "      <tr><td style=\"border: 1px solid; padding: 8px; text-align: center;\">_</td><td style=\"border: 1px solid; padding: 8px; text-align: center;\">95</td></tr>\n",
    "      <tr><td style=\"border: 1px solid; padding: 8px; text-align: center;\">`</td><td style=\"border: 1px solid; padding: 8px; text-align: center;\">96</td></tr>\n",
    "      <tr><td style=\"border: 1px solid; padding: 8px; text-align: center;\">{</td><td style=\"border: 1px solid; padding: 8px; text-align: center;\">123</td></tr>\n",
    "      <tr><td style=\"border: 1px solid; padding: 8px; text-align: center;\">|</td><td style=\"border: 1px solid; padding: 8px; text-align: center;\">124</td></tr>\n",
    "      <tr><td style=\"border: 1px solid; padding: 8px; text-align: center;\">}</td><td style=\"border: 1px solid; padding: 8px; text-align: center;\">125</td></tr>\n",
    "      <tr><td style=\"border: 1px solid; padding: 8px; text-align: center;\">~</td><td style=\"border: 1px solid; padding: 8px; text-align: center;\">126</td></tr>\n",
    "    </tbody>\n",
    "  </table>\n",
    "\n",
    "</div>"
   ],
   "id": "b3a4637a080e1b92"
  },
  {
   "metadata": {},
   "cell_type": "markdown",
   "source": "<p>For example, the ASCII code for <b>!</b> is 33, while the ASCII code for <b>+</b> is 43. Therefore <b>+</b> is larger than <b>!</b> as 43 is greater than 33.</p>",
   "id": "55eb2433103ca75d"
  },
  {
   "metadata": {},
   "cell_type": "markdown",
   "source": "<p>Similarly, from the table above we see that the value for <b>A</b> is 65, and the value for <b>B</b> is 66, therefore:</p>",
   "id": "a1fe69438e4b928e"
  },
  {
   "metadata": {
    "ExecuteTime": {
     "end_time": "2025-05-29T06:08:14.273260Z",
     "start_time": "2025-05-29T06:08:14.269571Z"
    }
   },
   "cell_type": "code",
   "source": "\"B\" > \"A\"",
   "id": "72bbe7911753855d",
   "outputs": [
    {
     "data": {
      "text/plain": [
       "True"
      ]
     },
     "execution_count": 8,
     "metadata": {},
     "output_type": "execute_result"
    }
   ],
   "execution_count": 8
  },
  {
   "metadata": {},
   "cell_type": "markdown",
   "source": "<p>When there are multiple letters, the first letter takes precedence in ordering:</p>",
   "id": "1847632fb1cad342"
  },
  {
   "metadata": {
    "ExecuteTime": {
     "end_time": "2025-05-29T06:08:14.298749Z",
     "start_time": "2025-05-29T06:08:14.295376Z"
    }
   },
   "cell_type": "code",
   "source": "\"BA\" > \"AB\"",
   "id": "ca0dc35f4f6a6d94",
   "outputs": [
    {
     "data": {
      "text/plain": [
       "True"
      ]
     },
     "execution_count": 9,
     "metadata": {},
     "output_type": "execute_result"
    }
   ],
   "execution_count": 9
  },
  {
   "metadata": {},
   "cell_type": "markdown",
   "source": "<p><b>Note</b>: Upper Case Letters have different ASCII code than Lower Case Letters, which means the comparison between the letters in Python is case-sensitive.</p>",
   "id": "4d5584904f46323e"
  },
  {
   "metadata": {},
   "cell_type": "markdown",
   "source": "### Branching",
   "id": "b8c17a5ca5448cd9"
  },
  {
   "metadata": {},
   "cell_type": "markdown",
   "source": "<p>Branching allows us to run different statements for different inputs. It is helpful to think of an <code>if statement</code> as a locked room, if the statement is <code>True</code> we can enter the room and your program will run some predefined tasks, but if the statement is <code>False</code> the program will ignore the task.</p>",
   "id": "e956e32ad769ba37"
  },
  {
   "metadata": {},
   "cell_type": "markdown",
   "source": "<p>For example, consider the blue rectangle representing an ACDC concert. If the individual is older than 18, they can enter the ACDC concert. If they are 18 or younger, they cannot enter the concert.</p>",
   "id": "fada37a5e6c386eb"
  },
  {
   "metadata": {},
   "cell_type": "markdown",
   "source": "<p>We can use the condition statements learned before as the conditions that need to be checked in the <code>if statement</code>. The syntax is as simple as <code>if <i>condition statement</i>:</code>, which contains a word <code>if</code>, any condition statement, and a colon at the end. Start your tasks which need to be executed under this condition in a new line with an indent. The lines of code after the colon and with an indent will only be executed when the <code>if statement</code> is <code>True</code>. The tasks will end when the line of code does not contain the indent.",
   "id": "6601063bbb3da1d5"
  },
  {
   "metadata": {},
   "cell_type": "markdown",
   "source": "<p>In the case below, the code <code>print(\"you can enter\")</code> is executed only if the variable <code>age</code> is greater than 18 is a True case because this line of code has the indent. However, the execution of <code>print(\"move on\")</code> will not be influenced by the if statement.</p>",
   "id": "30147acc882cf363"
  },
  {
   "metadata": {
    "ExecuteTime": {
     "end_time": "2025-05-29T06:08:14.336518Z",
     "start_time": "2025-05-29T06:08:14.333749Z"
    }
   },
   "cell_type": "code",
   "source": [
    "age = 19\n",
    "\n",
    "if age >= 18:\n",
    "    print(\"You are allowed to enter.\")\n",
    "\n",
    "print(\"Let's move on.\")"
   ],
   "id": "e9f54b0cff26243b",
   "outputs": [
    {
     "name": "stdout",
     "output_type": "stream",
     "text": [
      "You are allowed to enter.\n",
      "Let's move on.\n"
     ]
    }
   ],
   "execution_count": 10
  },
  {
   "metadata": {},
   "cell_type": "markdown",
   "source": "<p><i>Try uncommenting the age variable</i></p>",
   "id": "5e59e07c0602e96c"
  },
  {
   "metadata": {},
   "cell_type": "markdown",
   "source": [
    "<p>The <code>else</code> statement runs a block of code if none of the conditions are <code>True</code> before this <code>else</code> statement.</p>\n",
    "\n",
    "<p>The syntax of the <code>else</code> statement is similar as the syntax of the <code>if</code> statement, as <code>else :</code>. Notice that, there is no condition statement for <code>else</code>.\n",
    "Try changing the values of <code>age</code> to see what happens:</p>"
   ],
   "id": "8c27cef1e39d9109"
  },
  {
   "metadata": {
    "ExecuteTime": {
     "end_time": "2025-05-29T06:08:14.367517Z",
     "start_time": "2025-05-29T06:08:14.364828Z"
    }
   },
   "cell_type": "code",
   "source": [
    "age = 18\n",
    "\n",
    "if age > 18:\n",
    "    print(\"Adult\")\n",
    "else:\n",
    "    print(\"Child\")\n",
    "\n",
    "print(\"Let's move on.\")"
   ],
   "id": "c91364eae242b151",
   "outputs": [
    {
     "name": "stdout",
     "output_type": "stream",
     "text": [
      "Child\n",
      "Let's move on.\n"
     ]
    }
   ],
   "execution_count": 11
  },
  {
   "metadata": {},
   "cell_type": "markdown",
   "source": "<p>The <code>elif</code> statement, short for else if, allows us to check additional conditions if the condition statements before it are <b>False</b>. If the condition for the <code>elif</code> statement is <b>True</b>, the alternate expressions will be run. The syntax of the <code>elif</code> statement is similar in that we merely change the <code>if</code> in the <code>if</code> statement to <code>elif</code>.</p>",
   "id": "9acb611b78c8a77e"
  },
  {
   "metadata": {
    "ExecuteTime": {
     "end_time": "2025-05-29T06:08:14.384861Z",
     "start_time": "2025-05-29T06:08:14.381926Z"
    }
   },
   "cell_type": "code",
   "source": [
    "age = 18\n",
    "\n",
    "if age > 18:\n",
    "    print(\"Mature Adult\")\n",
    "elif age == 18:\n",
    "    print(\"Adult\")\n",
    "else:\n",
    "    print(\"Child\")\n",
    "\n",
    "print(\"Let's move on.\")"
   ],
   "id": "bb376c56bec0876f",
   "outputs": [
    {
     "name": "stdout",
     "output_type": "stream",
     "text": [
      "Adult\n",
      "Let's move on.\n"
     ]
    }
   ],
   "execution_count": 12
  },
  {
   "metadata": {},
   "cell_type": "markdown",
   "source": "<p>Notice that the code in the above <b>indented</b> block will only be executed if the results are <b>True</b>.</p>",
   "id": "8b0eafd11a22ebcc"
  },
  {
   "metadata": {},
   "cell_type": "markdown",
   "source": "<p>As before, we can add an <code>else</code> block to the <code>if</code> block. The code in the <code>else</code> block will only be executed if the result is <b>False</b>.</p>",
   "id": "f4c6af023d728fc2"
  },
  {
   "metadata": {},
   "cell_type": "markdown",
   "source": [
    "**Syntax**:\n",
    "\n",
    "```Python\n",
    "if condition:\n",
    "    pass    # do something here\n",
    "else:\n",
    "    pass    # do something else here\n",
    "```"
   ],
   "id": "6bc3fc42895bb1d2"
  },
  {
   "metadata": {},
   "cell_type": "markdown",
   "source": "<p>If the condition in the <code>if</code> statement is <b>False</b>, the statement after the <code>else</code> block will execute.</p>",
   "id": "b6d032f22c77ce71"
  },
  {
   "metadata": {
    "ExecuteTime": {
     "end_time": "2025-05-29T06:08:14.415364Z",
     "start_time": "2025-05-29T06:08:14.411992Z"
    }
   },
   "cell_type": "code",
   "source": [
    "album_year = 1983\n",
    "\n",
    "if album_year >= 1980:\n",
    "    print(\"Album year is greater than 1980\")\n",
    "else:\n",
    "    print(\"less than 1980\")\n",
    "\n",
    "print(\"Do something here\")"
   ],
   "id": "456126f38c84582b",
   "outputs": [
    {
     "name": "stdout",
     "output_type": "stream",
     "text": [
      "Album year is greater than 1980\n",
      "Do something here\n"
     ]
    }
   ],
   "execution_count": 13
  },
  {
   "metadata": {},
   "cell_type": "markdown",
   "source": "<p>Feel free to change the <code>album_year</code> value to other values -- you'll see that the result changes based on it!</p>",
   "id": "29c8caf9a99a813a"
  },
  {
   "metadata": {},
   "cell_type": "markdown",
   "source": "### Logical operators",
   "id": "5f5b91e2211011f7"
  },
  {
   "metadata": {},
   "cell_type": "markdown",
   "source": [
    "<p>Sometimes you want to check more than one condition at once. For example, you might want to check if one condition and another condition are both <code>True</code>. Logical operators allow you to combine or modify conditions.</p>\n",
    "\n",
    "<ul>\n",
    "    <li><code>and</code></li>\n",
    "    <li><code>or</code></li>\n",
    "    <li><code>not</code></li>\n",
    "</ul>"
   ],
   "id": "3169a0ad891946e9"
  },
  {
   "metadata": {},
   "cell_type": "markdown",
   "source": "These operators are summarized for two variables using the following truth tables:",
   "id": "5fae32041b03054a"
  },
  {
   "metadata": {},
   "cell_type": "markdown",
   "source": [
    "<div style=\"display: flex; gap: 20px; padding: 20px; overflow-x: auto;\">\n",
    "  <table style=\"border-collapse: collapse;\">\n",
    "    <thead>\n",
    "      <tr>\n",
    "        <th style=\"border: 1px solid; text-align: center; padding: 8px;\">A</th>\n",
    "        <th style=\"border: 1px solid; text-align: center; padding: 8px;\">B</th>\n",
    "        <th style=\"border: 1px solid; text-align: center; padding: 8px;\">A&nbsp;&amp;&nbsp;B</th>\n",
    "      </tr>\n",
    "    </thead>\n",
    "    <tbody>\n",
    "      <tr>\n",
    "        <td style=\"background-color: #f8d7da; border: 1px solid; text-align: center; padding: 8px; color: black;\">False</td>\n",
    "        <td style=\"background-color: #f8d7da; border: 1px solid; text-align: center; padding: 8px; color: black;\">False</td>\n",
    "        <td style=\"background-color: #f8d7da; border: 1px solid; text-align: center; padding: 8px; color: black;\">False</td>\n",
    "      </tr>\n",
    "      <tr>\n",
    "        <td style=\"background-color: #f8d7da; border: 1px solid; text-align: center; padding: 8px; color: black;\">False</td>\n",
    "        <td style=\"background-color: #d4edda; border: 1px solid; text-align: center; padding: 8px; color: black;\">True</td>\n",
    "        <td style=\"background-color: #f8d7da; border: 1px solid; text-align: center; padding: 8px; color: black;\">False</td>\n",
    "      </tr>\n",
    "      <tr>\n",
    "        <td style=\"background-color: #d4edda; border: 1px solid; text-align: center; padding: 8px; color: black;\">True</td>\n",
    "        <td style=\"background-color: #f8d7da; border: 1px solid; text-align: center; padding: 8px; color: black;\">False</td>\n",
    "        <td style=\"background-color: #f8d7da; border: 1px solid; text-align: center; padding: 8px; color: black;\">False</td>\n",
    "      </tr>\n",
    "      <tr>\n",
    "        <td style=\"background-color: #d4edda; border: 1px solid; text-align: center; padding: 8px; color: black;\">True</td>\n",
    "        <td style=\"background-color: #d4edda; border: 1px solid; text-align: center; padding: 8px; color: black;\">True</td>\n",
    "        <td style=\"background-color: #d4edda; border: 1px solid; text-align: center; padding: 8px; color: black;\">True</td>\n",
    "      </tr>\n",
    "    </tbody>\n",
    "  </table>\n",
    "\n",
    "  <table style=\"border-collapse: collapse;\">\n",
    "    <thead>\n",
    "      <tr>\n",
    "        <th style=\"border: 1px solid; text-align: center; padding: 8px;\">A</th>\n",
    "        <th style=\"border: 1px solid; text-align: center; padding: 8px;\">B</th>\n",
    "        <th style=\"border: 1px solid; text-align: center; padding: 8px;\">A&nbsp;||&nbsp;B</th>\n",
    "      </tr>\n",
    "    </thead>\n",
    "    <tbody>\n",
    "      <tr>\n",
    "        <td style=\"background-color: #f8d7da; border: 1px solid; text-align: center; padding: 8px; color: black;\">False</td>\n",
    "        <td style=\"background-color: #f8d7da; border: 1px solid; text-align: center; padding: 8px; color: black;\">False</td>\n",
    "        <td style=\"background-color: #f8d7da; border: 1px solid; text-align: center; padding: 8px; color: black;\">False</td>\n",
    "      </tr>\n",
    "      <tr>\n",
    "        <td style=\"background-color: #f8d7da; border: 1px solid; text-align: center; padding: 8px; color: black;\">False</td>\n",
    "        <td style=\"background-color: #d4edda; border: 1px solid; text-align: center; padding: 8px; color: black;\">True</td>\n",
    "        <td style=\"background-color: #d4edda; border: 1px solid; text-align: center; padding: 8px; color: black;\">True</td>\n",
    "      </tr>\n",
    "      <tr>\n",
    "        <td style=\"background-color: #d4edda; border: 1px solid; text-align: center; padding: 8px; color: black;\">True</td>\n",
    "        <td style=\"background-color: #f8d7da; border: 1px solid; text-align: center; padding: 8px; color: black;\">False</td>\n",
    "        <td style=\"background-color: #d4edda; border: 1px solid; text-align: center; padding: 8px; color: black;\">True</td>\n",
    "      </tr>\n",
    "      <tr>\n",
    "        <td style=\"background-color: #d4edda; border: 1px solid; text-align: center; padding: 8px; color: black;\">True</td>\n",
    "        <td style=\"background-color: #d4edda; border: 1px solid; text-align: center; padding: 8px; color: black;\">True</td>\n",
    "        <td style=\"background-color: #d4edda; border: 1px solid; text-align: center; padding: 8px; color: black;\">True</td>\n",
    "      </tr>\n",
    "    </tbody>\n",
    "  </table>\n",
    "\n",
    "  <table style=\"border-collapse: collapse;\">\n",
    "    <thead>\n",
    "      <tr>\n",
    "        <th style=\"border: 1px solid; text-align: center; padding: 8px;\">A</th>\n",
    "        <th style=\"border: 1px solid; text-align: center; padding: 8px;\">A!</th>\n",
    "      </tr>\n",
    "    </thead>\n",
    "    <tbody>\n",
    "      <tr>\n",
    "        <td style=\"background-color: #f8d7da; border: 1px solid; text-align: center; padding: 8px; color: black;\">False</td>\n",
    "        <td style=\"background-color: #d4edda; border: 1px solid; text-align: center; padding: 8px; color: black;\">True</td>\n",
    "      </tr>\n",
    "      <tr>\n",
    "        <td style=\"background-color: #d4edda; border: 1px solid; text-align: center; padding: 8px; color: black;\">True</td>\n",
    "        <td style=\"background-color: #f8d7da; border: 1px solid; text-align: center; padding: 8px; color: black;\">False</td>\n",
    "      </tr>\n",
    "    </tbody>\n",
    "  </table>\n",
    "\n",
    "</div>"
   ],
   "id": "a004420241d261d1"
  },
  {
   "metadata": {},
   "cell_type": "markdown",
   "source": "The <code>and</code> statement is only **True** when both conditions are true. The <code>or</code> statement is True if one condition, or both are **True**. The <code>not</code> statement outputs the opposite truth value.",
   "id": "71673ae8a8cd6d8d"
  },
  {
   "metadata": {},
   "cell_type": "markdown",
   "source": "<p>The <code>and</code> statement is only <code>True</code> when both conditions are true. The <code>or</code> statement is True if one condition, or both are <code>True</code>. The <code>not</code> statement outputs the opposite truth value.</p>",
   "id": "43a57980ba8b90d"
  },
  {
   "metadata": {},
   "cell_type": "markdown",
   "source": "<p>Let's see how to determine if an album was released after 1979 (1979 is not included) and before 1990 (1990 is not included). The time periods between 1980 and 1989 satisfy this condition.The block of code to perform this check is given by:</p>",
   "id": "14d58f1fbe1dd4d5"
  },
  {
   "metadata": {
    "ExecuteTime": {
     "end_time": "2025-05-29T06:08:14.425389Z",
     "start_time": "2025-05-29T06:08:14.422209Z"
    }
   },
   "cell_type": "code",
   "source": [
    "album_year = 1980\n",
    "\n",
    "if (album_year > 1979) and (album_year < 1990):\n",
    "    print(\"Album year was in between 1980 and 1989.\")\n",
    "\n",
    "print(\"Do stuff...\")"
   ],
   "id": "6fc770483812217e",
   "outputs": [
    {
     "name": "stdout",
     "output_type": "stream",
     "text": [
      "Album year was in between 1980 and 1989.\n",
      "Do stuff...\n"
     ]
    }
   ],
   "execution_count": 14
  },
  {
   "metadata": {},
   "cell_type": "markdown",
   "source": "<p>To determine if an album was released before 1980 (1979 and earlier) or after 1989 (1990 and onward), an or statement can be used. Periods before 1980 (1979 and earlier) or after 1989 (1990 and onward) satisfy this condition. The block of code to perform this check is given by:</p>",
   "id": "132c976f2c0591cc"
  },
  {
   "metadata": {
    "ExecuteTime": {
     "end_time": "2025-05-29T06:08:14.445840Z",
     "start_time": "2025-05-29T06:08:14.443105Z"
    }
   },
   "cell_type": "code",
   "source": [
    "album_year = 1990\n",
    "\n",
    "if (album_year < 1980) or (album_year > 1989):\n",
    "    print (\"Album was not made in the 1980's.\")\n",
    "else:\n",
    "    print(\"The Album was made in the 1980's.\")"
   ],
   "id": "994c9a710aea681",
   "outputs": [
    {
     "name": "stdout",
     "output_type": "stream",
     "text": [
      "Album was not made in the 1980's.\n"
     ]
    }
   ],
   "execution_count": 15
  },
  {
   "metadata": {},
   "cell_type": "markdown",
   "source": "<p>The <code>not</code> statement checks if the statement is false:</p>",
   "id": "13c78ebee7a8517b"
  },
  {
   "metadata": {
    "ExecuteTime": {
     "end_time": "2025-05-29T06:08:14.472426Z",
     "start_time": "2025-05-29T06:08:14.469771Z"
    }
   },
   "cell_type": "code",
   "source": [
    "album_year = 1983\n",
    "\n",
    "if not (album_year == 1984):\n",
    "    print(\"Album year is not 1984.\")"
   ],
   "id": "5f4983726bbfa072",
   "outputs": [
    {
     "name": "stdout",
     "output_type": "stream",
     "text": [
      "Album year is not 1984.\n"
     ]
    }
   ],
   "execution_count": 16
  },
  {
   "metadata": {},
   "cell_type": "markdown",
   "source": "### Quiz on Conditions",
   "id": "657ae25b1b5f8c97"
  },
  {
   "metadata": {},
   "cell_type": "markdown",
   "source": "<p>Analyze a dataset containing information about renowned athletes, including their names, sports, and notable achievements, to apply conditional logic and filtering techniques.</p>",
   "id": "f35b57d867d299d"
  },
  {
   "metadata": {},
   "cell_type": "markdown",
   "source": [
    "<table style=\"border: 1px solid; border-collapse: collapse\">\n",
    "<thead>\n",
    "<tr>\n",
    "    <th style=\"border: 1px solid; text-align: center\">Player Name</th>\n",
    "    <th style=\"border: 1px solid; text-align: center\">Sport</th>\n",
    "    <th style=\"border: 1px solid; text-align: center\">Achievements</th>\n",
    "</tr>\n",
    "</thead>\n",
    "<tbody>\n",
    "<tr>\n",
    "    <td style=\"border: 1px solid; text-align: center\">Serena Williams</td>\n",
    "    <td style=\"border: 1px solid; text-align: center\">Tennis</td>\n",
    "    <td style=\"border: 1px solid; text-align: center\">23 Grand Slams</td>\n",
    "</tr>\n",
    "<tr>\n",
    "    <td style=\"border: 1px solid; text-align: center\">Lionel Messi</td>\n",
    "    <td style=\"border: 1px solid; text-align: center\">Soccer</td>\n",
    "    <td style=\"border: 1px solid; text-align: center\">7 Ballon d'Ors</td>\n",
    "</tr>\n",
    "<tr>\n",
    "    <td style=\"border: 1px solid; text-align: center\">Michael Phelps</td>\n",
    "    <td style=\"border: 1px solid; text-align: center\">Swimming</td>\n",
    "    <td style=\"border: 1px solid; text-align: center\">23 Gold Medals</td>\n",
    "</tr>\n",
    "<tr>\n",
    "    <td style=\"border: 1px solid; text-align: center\">Usain Bolt</td>\n",
    "    <td style=\"border: 1px solid; text-align: center\">Athletics</td>\n",
    "    <td style=\"border: 1px solid; text-align: center\">8 Gold Medals</td>\n",
    "</tr>\n",
    "<tr>\n",
    "    <td style=\"border: 1px solid; text-align: center\">Roger Federer</td>\n",
    "    <td style=\"border: 1px solid; text-align: center\">Tennis</td>\n",
    "    <td style=\"border: 1px solid; text-align: center\">20 Grand Slams</td>\n",
    "</tr>\n",
    "<tr>\n",
    "    <td style=\"border: 1px solid; text-align: center\">Cristiano Ronaldo</td>\n",
    "    <td style=\"border: 1px solid; text-align: center\">Soccer</td>\n",
    "    <td style=\"border: 1px solid; text-align: center\">5 Ballon d'Ors</td>\n",
    "</tr>\n",
    "</tbody>\n",
    "</table>"
   ],
   "id": "67a9fed1aa331e1b"
  },
  {
   "metadata": {
    "ExecuteTime": {
     "end_time": "2025-05-29T06:08:14.494177Z",
     "start_time": "2025-05-29T06:08:14.491220Z"
    }
   },
   "cell_type": "code",
   "source": [
    "# one part of my simplified solution\n",
    "# convert the information in table into a list in Python\n",
    "# build a dataset to include all information about athletes\n",
    "RenownedAthletes = [\n",
    "    {\n",
    "        \"PlayerName\": \"Serena Williams\",\n",
    "        \"Sport\": \"Tennis\",\n",
    "        \"Achievements\": 23\n",
    "    },\n",
    "    {\n",
    "        \"PlayerName\": \"Lionel Messi\",\n",
    "        \"Sport\": \"Soccer\",\n",
    "        \"Achievements\": 7\n",
    "    },\n",
    "    {\n",
    "        \"PlayerName\": \"Michael Phelps\",\n",
    "        \"Sport\": \"Swimming\",\n",
    "        \"Achievements\": 23\n",
    "    },\n",
    "    {\n",
    "        \"PlayerName\": \"Usain Bolt\",\n",
    "        \"Sport\": \"Athletics\",\n",
    "        \"Achievements\": 8\n",
    "    },\n",
    "    {\n",
    "        \"PlayerName\": \"Roger Federer\",\n",
    "        \"Sport\": \"Tennis\",\n",
    "        \"Achievements\": 20\n",
    "    },\n",
    "    {\n",
    "        \"PlayerName\": \"Cristiano Ronaldo\",\n",
    "        \"Sport\": \"Soccer\",\n",
    "        \"Achievements\": 5\n",
    "    }\n",
    "]"
   ],
   "id": "3b796b0afa8db3a2",
   "outputs": [],
   "execution_count": 17
  },
  {
   "metadata": {},
   "cell_type": "markdown",
   "source": "<p>Write a Python program to check if a player <b>Lionel Messi</b> has more than 10 achievements. If the condition is true, print the player's name, sport, and achievements else print does not have more than 10 achievements.</p>",
   "id": "22310399e1cdc2a2"
  },
  {
   "metadata": {
    "ExecuteTime": {
     "end_time": "2025-05-29T06:08:14.507552Z",
     "start_time": "2025-05-29T06:08:14.504855Z"
    }
   },
   "cell_type": "code",
   "source": [
    "messi_info = RenownedAthletes[1]\n",
    "achievements = messi_info[\"Achievements\"]\n",
    "\n",
    "if achievements > 10:\n",
    "    print(\"Player's name: \", messi_info[\"PlayerName\"])\n",
    "    print(\"Sport: \", messi_info[\"Sport\"])\n",
    "    print(\"Achievements: \", achievements)\n",
    "else:\n",
    "    print(f\"Player {messi_info[\"PlayerName\"]} does not have more than 10 achievements.\")"
   ],
   "id": "c21a4523b1612e1b",
   "outputs": [
    {
     "name": "stdout",
     "output_type": "stream",
     "text": [
      "Player Lionel Messi does not have more than 10 achievements.\n"
     ]
    }
   ],
   "execution_count": 18
  },
  {
   "metadata": {},
   "cell_type": "markdown",
   "source": "<p>Write a Python program to check if a player belongs to the sport Tennis or has exactly 20 achievements. If the condition is true, print a success message.</p>",
   "id": "afb76de2efdd90d2"
  },
  {
   "metadata": {
    "ExecuteTime": {
     "end_time": "2025-05-29T06:08:14.525947Z",
     "start_time": "2025-05-29T06:08:14.523085Z"
    }
   },
   "cell_type": "code",
   "source": [
    "# My Simplified Solution - Loop and Comprehension is not mentioned by official currently\n",
    "SportBelongsToTennis = [playerInfo[\"PlayerName\"] for playerInfo in RenownedAthletes if (playerInfo[\"Sport\"] == \"Tennis\") or (playerInfo[\"Achievements\"] == 20)]\n",
    "\n",
    "if SportBelongsToTennis is None:\n",
    "    print(\"Did not find any player that meet the conditions.\")\n",
    "else:\n",
    "    PlayersName = \" and \".join(SportBelongsToTennis)\n",
    "    print(f\"{PlayersName} met the conditions.\")"
   ],
   "id": "8c52753d9005cab2",
   "outputs": [
    {
     "name": "stdout",
     "output_type": "stream",
     "text": [
      "Serena Williams and Roger Federer met the conditions.\n"
     ]
    }
   ],
   "execution_count": 19
  },
  {
   "metadata": {
    "ExecuteTime": {
     "end_time": "2025-05-29T06:08:14.544158Z",
     "start_time": "2025-05-29T06:08:14.541611Z"
    }
   },
   "cell_type": "code",
   "source": [
    "# official solution\n",
    "player_name = \"Roger Federer\"\n",
    "sport = \"Tennis\"\n",
    "achievements = 20\n",
    "\n",
    "if sport == \"Tennis\" or achievements == 20:\n",
    "    print(f\"{player_name} meets the criteria! They play {sport} and have {achievements} achievements.\")\n",
    "else:\n",
    "    print(f\"{player_name} does not meet the criteria.\")"
   ],
   "id": "5a8a08a51149f383",
   "outputs": [
    {
     "name": "stdout",
     "output_type": "stream",
     "text": [
      "Roger Federer meets the criteria! They play Tennis and have 20 achievements.\n"
     ]
    }
   ],
   "execution_count": 20
  },
  {
   "metadata": {},
   "cell_type": "markdown",
   "source": "<p>Write a Python program to check if a player has less than 10 achievements and does not play Soccer. Print their details if they meet the criteria.</p>",
   "id": "23987da796ca0d72"
  },
  {
   "metadata": {
    "ExecuteTime": {
     "end_time": "2025-05-29T06:08:14.563149Z",
     "start_time": "2025-05-29T06:08:14.559457Z"
    }
   },
   "cell_type": "code",
   "source": [
    "# my solution\n",
    "MeetTheCriteria = [playerInfo for playerInfo in RenownedAthletes if (playerInfo[\"Achievements\"] < 10) and (playerInfo[\"Sport\"] != \"Soccer\")]\n",
    "\n",
    "if MeetTheCriteria is None:\n",
    "    print(\"Did not find any player that meet the criteria.\")\n",
    "else:\n",
    "    counts = 0\n",
    "    print(\"The details of player that meet the criteria:\")\n",
    "    for playerInfo in MeetTheCriteria:\n",
    "        counts += 1\n",
    "        print(f\"Player{counts}:\")\n",
    "        print(\"Name: \", playerInfo[\"PlayerName\"])\n",
    "        print(\"Sport: \", playerInfo[\"Sport\"])\n",
    "        print(\"Achievements: \", playerInfo[\"Achievements\"])"
   ],
   "id": "fd6c2d8984455b32",
   "outputs": [
    {
     "name": "stdout",
     "output_type": "stream",
     "text": [
      "The details of player that meet the criteria:\n",
      "Player1:\n",
      "Name:  Usain Bolt\n",
      "Sport:  Athletics\n",
      "Achievements:  8\n"
     ]
    }
   ],
   "execution_count": 21
  },
  {
   "metadata": {
    "ExecuteTime": {
     "end_time": "2025-05-29T06:08:14.580070Z",
     "start_time": "2025-05-29T06:08:14.577529Z"
    }
   },
   "cell_type": "code",
   "source": [
    "# official solution\n",
    "player_name = \"Usain Bolt\"\n",
    "sport = \"Athletics\"\n",
    "achievements = 8\n",
    "\n",
    "if achievements < 10 and sport != \"Soccer\":\n",
    "    print(f\"{player_name} plays {sport} and has only {achievements} achievements.\")\n",
    "else:\n",
    "    print(f\"{player_name} does not meet the criteria.\")"
   ],
   "id": "17f5784b4593c757",
   "outputs": [
    {
     "name": "stdout",
     "output_type": "stream",
     "text": [
      "Usain Bolt plays Athletics and has only 8 achievements.\n"
     ]
    }
   ],
   "execution_count": 22
  },
  {
   "metadata": {},
   "cell_type": "markdown",
   "source": [
    "****\n",
    "This is the end of the file.\n",
    "****"
   ],
   "id": "da5b54489f6ea6d"
  }
 ],
 "metadata": {
  "kernelspec": {
   "display_name": "Python 3",
   "language": "python",
   "name": "python3"
  },
  "language_info": {
   "codemirror_mode": {
    "name": "ipython",
    "version": 2
   },
   "file_extension": ".py",
   "mimetype": "text/x-python",
   "name": "python",
   "nbconvert_exporter": "python",
   "pygments_lexer": "ipython2",
   "version": "2.7.6"
  }
 },
 "nbformat": 4,
 "nbformat_minor": 5
}
