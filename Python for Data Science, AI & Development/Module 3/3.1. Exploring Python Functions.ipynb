{
 "cells": [
  {
   "metadata": {},
   "cell_type": "markdown",
   "source": "## Introduction",
   "id": "f143d53a49fd97ef"
  },
  {
   "metadata": {},
   "cell_type": "markdown",
   "source": "<p>Reading text files involves extracting and processing the data stored within them. Text files can have various structures, and how you read them depends on their format. Here's a general guide on reading text files with different structures.</p>",
   "id": "38f59128d9fe6f87"
  },
  {
   "metadata": {},
   "cell_type": "markdown",
   "source": [
    "**Plain text files:**\n",
    "- Plain text files contain unformatted text without any specific structure.\n",
    "- You can read plain text files line by line or load all the content into your memory."
   ],
   "id": "86488ae5c244154a"
  },
  {
   "metadata": {},
   "cell_type": "markdown",
   "source": "## Opening the file",
   "id": "cf3e8044bf307310"
  },
  {
   "metadata": {},
   "cell_type": "markdown",
   "source": "<p>There are two methods for opening the file using the file handling concept.</p>",
   "id": "1b645e2d13186c3b"
  },
  {
   "metadata": {},
   "cell_type": "markdown",
   "source": "### 1. Using Python's open function",
   "id": "a53ab51a9c2e9b37"
  },
  {
   "metadata": {},
   "cell_type": "markdown",
   "source": [
    "<p>Suppose we have a file named \"file.txt\".</p>\n",
    "<p>Python's <code>open</code> function creates a file object and accesses the data within a text file. It takes two primary parameters:</p>\n",
    "\n",
    "<ol>\n",
    "    <li><b>File path:</b> The file path parameter consists of the filename and directory where the file is located.</li>\n",
    "    <li><b>Mode:</b> The mode parameter specifies the purpose of opening the file, such as 'r' for reading, 'w' for writing, or 'a' for appending.</li>\n",
    "</ol>"
   ],
   "id": "818f25d1326a5f7a"
  },
  {
   "metadata": {},
   "cell_type": "markdown",
   "source": [
    "**Syntax**:\n",
    "\n",
    "```Python\n",
    "file = open(\"file.txt\", \"r\")\n",
    "```"
   ],
   "id": "47598e3d6cdc3c0f"
  },
  {
   "metadata": {},
   "cell_type": "markdown",
   "source": "<p>This line opens a file named \"file.txt\" in read mode (\"r\"). It returns a file object, which is stored in the variable file. The \"r\" mode indicates that the file will be opened for reading.</p>",
   "id": "ab282d8ed22fc077"
  },
  {
   "metadata": {},
   "cell_type": "markdown",
   "source": "### 2. Using `with` statement",
   "id": "d218ab64d90c6aba"
  },
  {
   "metadata": {},
   "cell_type": "markdown",
   "source": "<p>To simplify file handling and ensure proper closure of files, Python provides the \"with\" statement. It automatically closes the file when operations within the indented block are completed. This is considered best practice when working with files.</p>",
   "id": "728ef4ee816975d6"
  },
  {
   "metadata": {},
   "cell_type": "markdown",
   "source": [
    "**Syntax**:\n",
    "\n",
    "```Python\n",
    "with open(\"file.txt\", \"r\") as file:\n",
    "    pass # further code here\n",
    "```"
   ],
   "id": "bc6a77cfcae2b66e"
  },
  {
   "metadata": {},
   "cell_type": "markdown",
   "source": "<p>This line opens a file named \"file.txt\" in read mode (\"r\") using the <code>with</code> statement, which is a context manager. The file is automatically closed when the code block inside the with statement exits.</p>",
   "id": "7f37f411b604f5f0"
  },
  {
   "metadata": {},
   "cell_type": "markdown",
   "source": "#### Advantages of using the `with` statement",
   "id": "77541c994ae285bf"
  },
  {
   "metadata": {},
   "cell_type": "markdown",
   "source": [
    "<p>The key advantages of using the <code>with</code> statement are:</p>\n",
    "\n",
    "<ul>\n",
    "    <li><b>Automatic resource management:</b> The file is guaranteed to be closed when you exit the with block, even if an exception occurs during processing.</li>\n",
    "    <li><b>Cleaner and more concise code:</b> You don't need to explicitly call <b>close()</b>, making your code more readable and less error-prone.</li>\n",
    "</ul>\n",
    "\n",
    "> <i>Note: For most file reading and writing operations in Python, the <code>with</code> statement is recommended.</i>"
   ],
   "id": "8b993d7281789546"
  },
  {
   "metadata": {},
   "cell_type": "markdown",
   "source": "## Let's perform a read operation on a file",
   "id": "6e379fe75aa1e9d6"
  },
  {
   "metadata": {},
   "cell_type": "markdown",
   "source": "### 1. Reading the entire content",
   "id": "a3c942beb8f7d8d4"
  },
  {
   "metadata": {},
   "cell_type": "markdown",
   "source": "<p>You can read the entire content of a file using the read method, which stores the data as a string in a variable. This content can be printed or further manipulated as needed.</p>",
   "id": "514ac2dc3381b91a"
  },
  {
   "metadata": {},
   "cell_type": "markdown",
   "source": [
    "```Python\n",
    "# Reading and Storing the Entire Content of a File\n",
    "\n",
    "# Using the read method, you can retrieve the complete content of a file\n",
    "# and store it as a string in a variable for further processing or display.\n",
    "\n",
    "# Step 1: Open the file you want to read\n",
    "with open(\"file.txt\", \"r\") as file:\n",
    "\n",
    "    # Step 2: Use the read method to read the entire content of the file\n",
    "    file_stuff = file.read()\n",
    "\n",
    "    # Step 3: Now that the file content is stored in the variable 'file_stuff',\n",
    "    # you can manipulate or display it as needed.\n",
    "    # For example, let's print the content to the console:\n",
    "    print(file_stuff)\n",
    "\n",
    "# Step 4: The 'with' statement automatically closes the file when it's done,\n",
    "# ensuring proper resource management and preventing resource leaks.\n",
    "```"
   ],
   "id": "dd911604a130683c"
  },
  {
   "metadata": {},
   "cell_type": "markdown",
   "source": [
    "- **Step 1**: Involves opening the file, specifying \"file.txt\" as the file to be opened for reading (\"r\") mode using the with context manager.\n",
    "- **Step 2**: Utilizes the `read()` statement on the file object (file) to read the entire file. This content is then stored in the file_stuff variable.\n",
    "- **Step 3**: Explain that with the content now stored in file_stuff, you can perform various operations on it. In the example provided, the code prints the content to the console, but you can manipulate, analyze, search, or process the text data in file_stuff based on your specific needs.\n",
    "- **Step 4**: Emphasizes that the with block automatically closes the file when done, ensuring proper resource management and preventing resource leaks. This is a crucial aspect of using the with statement when working with files."
   ],
   "id": "8b001e53e9478e5b"
  },
  {
   "metadata": {},
   "cell_type": "markdown",
   "source": "### 2. Reading the content line by line",
   "id": "1dc7694ce9f6ecd8"
  },
  {
   "metadata": {},
   "cell_type": "markdown",
   "source": [
    "<p>Python provides methods to read files line by line:</p>\n",
    "\n",
    "<ol>\n",
    "    <li>The <code>readlines</code> method reads the file line by line and stores each line as an element in a list. The order of lines in the list corresponds to their order in the file.</li>\n",
    "    <li>The <code>readlines</code> method reads individual lines from the file. It can be called multiple times to read subsequent lines.</li>\n",
    "</ol>\n",
    "\n",
    "<p>In Python, the <code>readline()</code> method is like reading a book one line at a time. Imagine you have a big book and want to read it page by page. <code>readline()</code> helps you do just that with lines of text instead of pages.</p>"
   ],
   "id": "fa0ca762c8e9294d"
  },
  {
   "metadata": {},
   "cell_type": "markdown",
   "source": "<p>Here's how it works:</p>",
   "id": "b5c875f067eb30cd"
  },
  {
   "metadata": {},
   "cell_type": "markdown",
   "source": "<p><b>Opening a file:</b> First, you need to open the file you want to read using the <code>open()</code> function.</p>",
   "id": "6c36db6f9192474c"
  },
  {
   "metadata": {},
   "cell_type": "markdown",
   "source": [
    "```Python\n",
    "file = open(\"file.txt\", \"r\")\n",
    "```"
   ],
   "id": "88764f7626f1a117"
  },
  {
   "metadata": {},
   "cell_type": "markdown",
   "source": "<p><b>Reading line by line:</b> Now, you can use readline() to read one line from the file at a time. It's like turning the pages of the book, but here, you're getting one sentence (or line) at each turn.</p>",
   "id": "6a94195e9a89357a"
  },
  {
   "metadata": {},
   "cell_type": "markdown",
   "source": [
    "```Python\n",
    "line1 = file.readline() # Reads the 1st line\n",
    "line2 = file.readline() # Reads the 2nd line\n",
    "```"
   ],
   "id": "b58b7c2cf9ca348"
  },
  {
   "metadata": {},
   "cell_type": "markdown",
   "source": "<p><b>Using the lines:</b> You can do things with each line you read. For example, you can print it, check if it contains specific words, or save it somewhere else.</p>",
   "id": "4a1c8327660ed0b"
  },
  {
   "metadata": {},
   "cell_type": "markdown",
   "source": [
    "```Python\n",
    "print(line1)\n",
    "if \"important\" in line2:\n",
    "    print(\"This line is important!\")\n",
    "```"
   ],
   "id": "a32af9c01e6374a2"
  },
  {
   "metadata": {},
   "cell_type": "markdown",
   "source": "<p><b>Looping through lines:</b> Typically, you use a loop to read lines until no more lines are left. t's like reading the entire book, line by line.</p>",
   "id": "3df155aa93e06736"
  },
  {
   "metadata": {},
   "cell_type": "markdown",
   "source": [
    "```Python\n",
    "while True:\n",
    "    line = file.readline()\n",
    "    if not line:\n",
    "        break;  # Stop when there are no more lines to read\n",
    "    print(line)\n",
    "```"
   ],
   "id": "caf5d514a5e4f774"
  },
  {
   "metadata": {},
   "cell_type": "markdown",
   "source": "<p><b>Closing the book:</b> When you're done reading, it's essential to close the file using <code>file.close()</code> to make sure you're not wasting resources.</p>",
   "id": "85e78eeffec509ff"
  },
  {
   "metadata": {},
   "cell_type": "markdown",
   "source": [
    "```Python\n",
    "file.close()\n",
    "```"
   ],
   "id": "aa59c607c349f2a7"
  },
  {
   "metadata": {},
   "cell_type": "markdown",
   "source": "<p>So, In simple terms, <code>readline()</code> helps you read a text file line by line, allowing you to work with each line of text as you go. It's like taking one sentence at a time from a book and doing something with it before moving on to the next sentence. Don't forget to close the book when you're done!</p>",
   "id": "f5b859774e4a2d40"
  },
  {
   "metadata": {},
   "cell_type": "markdown",
   "source": "### 3. Reading specific characters",
   "id": "96f69fd460a0998"
  },
  {
   "metadata": {},
   "cell_type": "markdown",
   "source": [
    "<p>You can specify the number of characters to read using the <code>readlines</code> method. For example, reading the first four characters, the next five, and so on.</p>\n",
    "\n",
    "<p>Reading specific characters from a text file in Python involves opening the file, navigating to the desired position, and then reading the characters you need. Here's a detailed explanation of how to read specific characters from a file:</p>"
   ],
   "id": "287b7913287be574"
  },
  {
   "metadata": {},
   "cell_type": "markdown",
   "source": "<p>First, you need to open the file you want to read. Use the <code>open()</code> function with the appropriate file path and mode. For reading, use \"r\" mode.</p>",
   "id": "1b1d096fbda014f3"
  },
  {
   "metadata": {},
   "cell_type": "markdown",
   "source": [
    "```Python\n",
    "file = open(\"file.txt\", \"r\")\n",
    "```"
   ],
   "id": "2de0f53069531f59"
  },
  {
   "metadata": {},
   "cell_type": "markdown",
   "source": "<p>If you want to read characters from a specific position in the file, you can use the <code>seek()</code> method. This method moves the file pointer (like a cursor) to a particular position. The position is specified in bytes, so you'll need to know the byte offset of the characters you want to read.</p>",
   "id": "b29545326228981b"
  },
  {
   "metadata": {},
   "cell_type": "markdown",
   "source": [
    "```Python\n",
    "file.seek(10)   # Move to the 11th byte (0-based index)\n",
    "```"
   ],
   "id": "fac06fd281b55a9d"
  },
  {
   "metadata": {},
   "cell_type": "markdown",
   "source": "<p>To read specific characters, you can use the <code>read()</code> method with an argument that specifies the number of characters to read. It reads characters starting from the current position of the file pointer.</p>",
   "id": "29c7cc995da050e"
  },
  {
   "metadata": {},
   "cell_type": "markdown",
   "source": [
    "```Python\n",
    "characters = file.read(5)   # Read the next 5 characters\n",
    "```"
   ],
   "id": "320acc1779f5a587"
  },
  {
   "metadata": {},
   "cell_type": "markdown",
   "source": "<p>In this example, it reads the next 5 characters from the current position of the file pointer.</p>",
   "id": "86f66ca5fc999427"
  },
  {
   "metadata": {},
   "cell_type": "markdown",
   "source": "<p>You can now use the characters variable to work with the specific characters you've read. You can print them, save them, manipulate them, or perform any other actions.<p>",
   "id": "f7667e68805a6192"
  },
  {
   "metadata": {},
   "cell_type": "markdown",
   "source": [
    "```Python\n",
    "print(characters)\n",
    "```"
   ],
   "id": "89113b3c806faa9f"
  },
  {
   "metadata": {},
   "cell_type": "markdown",
   "source": "<p>It's essential to close the file when you're done to free up system resources and ensure proper file handling.</p>",
   "id": "59ad4058d220d927"
  },
  {
   "metadata": {},
   "cell_type": "markdown",
   "source": [
    "```Python\n",
    "file.close()\n",
    "```"
   ],
   "id": "a70b409060e8bf3c"
  },
  {
   "metadata": {},
   "cell_type": "markdown",
   "source": "# Conclusion",
   "id": "fbc894ffd01e6e48"
  },
  {
   "metadata": {},
   "cell_type": "markdown",
   "source": "<p>In conclusion, this reading has provided a comprehensive overview of file handling in Python, with a focus on reading text files. File handling is a fundamental aspect of programming, and Python offers powerful built-in functions and methods to interact with files seamlessly.</p>",
   "id": "b5afc6fa5cf409ce"
  },
  {
   "metadata": {},
   "cell_type": "markdown",
   "source": [
    "****\n",
    "This is the end of the file.\n",
    "****"
   ],
   "id": "ecbeceb1efd57be1"
  }
 ],
 "metadata": {
  "kernelspec": {
   "display_name": "Python 3",
   "language": "python",
   "name": "python3"
  },
  "language_info": {
   "codemirror_mode": {
    "name": "ipython",
    "version": 2
   },
   "file_extension": ".py",
   "mimetype": "text/x-python",
   "name": "python",
   "nbconvert_exporter": "python",
   "pygments_lexer": "ipython2",
   "version": "2.7.6"
  }
 },
 "nbformat": 4,
 "nbformat_minor": 5
}
