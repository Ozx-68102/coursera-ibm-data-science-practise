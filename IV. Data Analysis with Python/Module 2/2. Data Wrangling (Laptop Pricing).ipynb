{
 "cells": [
  {
   "metadata": {},
   "cell_type": "markdown",
   "source": "# Data Wrangling II",
   "id": "8cb6b1bd88ca0d2b"
  },
  {
   "metadata": {},
   "cell_type": "markdown",
   "source": "## Setup",
   "id": "edc00b0b7d509b09"
  },
  {
   "metadata": {},
   "cell_type": "markdown",
   "source": [
    "<p>For this lab, we will be using the following libraries:</p>\n",
    "<ul>\n",
    "    <li><code>skillsnetwork</code> to download the dataset.</li>\n",
    "    <li><code>pandas</code> for managing the data.</li>\n",
    "    <li><code>numpy</code> for mathematical operations.</li>\n",
    "    <li><code>matplotlib</code> for additional plotting tools.</li>\n",
    "</ul>"
   ],
   "id": "9d32bc9f3d8538b9"
  },
  {
   "metadata": {},
   "cell_type": "markdown",
   "source": "### Importing Required Libraries",
   "id": "85afd0ba9026b08e"
  },
  {
   "metadata": {
    "ExecuteTime": {
     "end_time": "2025-08-13T23:21:46.056005Z",
     "start_time": "2025-08-13T23:21:45.136563Z"
    }
   },
   "cell_type": "code",
   "source": [
    "import matplotlib.pyplot as plt\n",
    "import pandas as pd\n",
    "import numpy as np\n",
    "import requests\n",
    "import os\n",
    "\n",
    "%matplotlib inline"
   ],
   "id": "8e9e3fd9e424b6cc",
   "outputs": [],
   "execution_count": 1
  },
  {
   "metadata": {},
   "cell_type": "markdown",
   "source": [
    "<p>Download the updated dataset by running the cell below.</p>\n",
    "<p>The functions below will download the dataset onto your computer.</p>"
   ],
   "id": "d6aa793bea8c47d7"
  },
  {
   "metadata": {
    "ExecuteTime": {
     "end_time": "2025-08-13T23:21:46.065941Z",
     "start_time": "2025-08-13T23:21:46.062326Z"
    }
   },
   "cell_type": "code",
   "source": [
    "dir_path = os.path.join(\".\", \"data\")\n",
    "os.makedirs(dir_path, exist_ok=True)\n",
    "\n",
    "def download_file(url: str) -> str:\n",
    "    with requests.get(url=url, stream=True) as response:\n",
    "        response.raise_for_status()\n",
    "\n",
    "        filepath = os.path.join(dir_path, url.rsplit(\"/\", 1)[-1])\n",
    "        total_size = int(response.headers.get(\"Content-Length\", 0))\n",
    "        chunk_size = 1024 ** 2\n",
    "        download_size = 0\n",
    "\n",
    "        with open(filepath, \"wb\") as file:\n",
    "            for chunk in response.iter_content(chunk_size=chunk_size):\n",
    "                if not chunk:\n",
    "                    continue\n",
    "\n",
    "                file.write(chunk)\n",
    "                download_size += len(chunk)\n",
    "\n",
    "                if total_size > 0:\n",
    "                    progress = (download_size / total_size) * 100\n",
    "                    print(f\"Downloading: {progress:.2f}% ({download_size} / {total_size} bytes)\")\n",
    "\n",
    "    print(\"Download Complete.\")\n",
    "    return filepath"
   ],
   "id": "b88d1c4743db8c5c",
   "outputs": [],
   "execution_count": 2
  },
  {
   "metadata": {
    "ExecuteTime": {
     "end_time": "2025-08-13T23:21:46.075589Z",
     "start_time": "2025-08-13T23:21:46.071087Z"
    }
   },
   "cell_type": "code",
   "source": "data_url = \"https://cf-courses-data.s3.us.cloud-object-storage.appdomain.cloud/IBMDeveloperSkillsNetwork-DA0101EN-Coursera/laptop_pricing_dataset_mod1.csv\"",
   "id": "5bd349ccd671477c",
   "outputs": [],
   "execution_count": 3
  },
  {
   "metadata": {},
   "cell_type": "markdown",
   "source": "<p>To obtain the dataset, utilize the <code>download_file()</code> function as defined above:</p>",
   "id": "ebc106de6bdfa13c"
  },
  {
   "metadata": {
    "ExecuteTime": {
     "end_time": "2025-08-13T23:21:47.463425Z",
     "start_time": "2025-08-13T23:21:46.082512Z"
    }
   },
   "cell_type": "code",
   "source": "filename = download_file(data_url)",
   "id": "7090720942a29e22",
   "outputs": [
    {
     "name": "stdout",
     "output_type": "stream",
     "text": [
      "Downloading: 100.00% (12477 / 12477 bytes)\n",
      "Download Complete.\n"
     ]
    }
   ],
   "execution_count": 4
  },
  {
   "metadata": {},
   "cell_type": "markdown",
   "source": "<p>First we load data into a <code>pandas.DataFrame</code>.</p>",
   "id": "2038ae4ff577c610"
  },
  {
   "metadata": {
    "ExecuteTime": {
     "end_time": "2025-08-13T23:21:47.550349Z",
     "start_time": "2025-08-13T23:21:47.545308Z"
    }
   },
   "cell_type": "code",
   "source": "df = pd.read_csv(filename, header=0)",
   "id": "11c2938bbe056615",
   "outputs": [],
   "execution_count": 5
  },
  {
   "metadata": {},
   "cell_type": "markdown",
   "source": "<p>Verify loading by displaying the dataframe summary using <code>dataframe.info</code>.</p>",
   "id": "a15abb2b3bf5e6e9"
  },
  {
   "metadata": {
    "ExecuteTime": {
     "end_time": "2025-08-13T23:21:47.560950Z",
     "start_time": "2025-08-13T23:21:47.555393Z"
    }
   },
   "cell_type": "code",
   "source": "df.info()",
   "id": "56878afc9c456c0a",
   "outputs": [
    {
     "name": "stdout",
     "output_type": "stream",
     "text": [
      "<class 'pandas.core.frame.DataFrame'>\n",
      "RangeIndex: 238 entries, 0 to 237\n",
      "Data columns (total 13 columns):\n",
      " #   Column          Non-Null Count  Dtype  \n",
      "---  ------          --------------  -----  \n",
      " 0   Unnamed: 0      238 non-null    int64  \n",
      " 1   Manufacturer    238 non-null    object \n",
      " 2   Category        238 non-null    int64  \n",
      " 3   Screen          238 non-null    object \n",
      " 4   GPU             238 non-null    int64  \n",
      " 5   OS              238 non-null    int64  \n",
      " 6   CPU_core        238 non-null    int64  \n",
      " 7   Screen_Size_cm  234 non-null    float64\n",
      " 8   CPU_frequency   238 non-null    float64\n",
      " 9   RAM_GB          238 non-null    int64  \n",
      " 10  Storage_GB_SSD  238 non-null    int64  \n",
      " 11  Weight_kg       233 non-null    float64\n",
      " 12  Price           238 non-null    int64  \n",
      "dtypes: float64(3), int64(8), object(2)\n",
      "memory usage: 24.3+ KB\n"
     ]
    }
   ],
   "execution_count": 6
  },
  {
   "metadata": {},
   "cell_type": "markdown",
   "source": "<p>View the first 5 values of the updated dataframe using <code>dataframe.head()</code>.</p>",
   "id": "8f3490f681d25721"
  },
  {
   "metadata": {
    "ExecuteTime": {
     "end_time": "2025-08-13T23:21:47.580485Z",
     "start_time": "2025-08-13T23:21:47.571947Z"
    }
   },
   "cell_type": "code",
   "source": "df.head()",
   "id": "1d0f9736310d033e",
   "outputs": [
    {
     "data": {
      "text/plain": [
       "   Unnamed: 0 Manufacturer  Category     Screen  GPU  OS  CPU_core  \\\n",
       "0           0         Acer         4  IPS Panel    2   1         5   \n",
       "1           1         Dell         3    Full HD    1   1         3   \n",
       "2           2         Dell         3    Full HD    1   1         7   \n",
       "3           3         Dell         4  IPS Panel    2   1         5   \n",
       "4           4           HP         4    Full HD    2   1         7   \n",
       "\n",
       "   Screen_Size_cm  CPU_frequency  RAM_GB  Storage_GB_SSD  Weight_kg  Price  \n",
       "0          35.560            1.6       8             256       1.60    978  \n",
       "1          39.624            2.0       4             256       2.20    634  \n",
       "2          39.624            2.7       8             256       2.20    946  \n",
       "3          33.782            1.6       8             128       1.22   1244  \n",
       "4          39.624            1.8       8             256       1.91    837  "
      ],
      "text/html": [
       "<div>\n",
       "<style scoped>\n",
       "    .dataframe tbody tr th:only-of-type {\n",
       "        vertical-align: middle;\n",
       "    }\n",
       "\n",
       "    .dataframe tbody tr th {\n",
       "        vertical-align: top;\n",
       "    }\n",
       "\n",
       "    .dataframe thead th {\n",
       "        text-align: right;\n",
       "    }\n",
       "</style>\n",
       "<table border=\"1\" class=\"dataframe\">\n",
       "  <thead>\n",
       "    <tr style=\"text-align: right;\">\n",
       "      <th></th>\n",
       "      <th>Unnamed: 0</th>\n",
       "      <th>Manufacturer</th>\n",
       "      <th>Category</th>\n",
       "      <th>Screen</th>\n",
       "      <th>GPU</th>\n",
       "      <th>OS</th>\n",
       "      <th>CPU_core</th>\n",
       "      <th>Screen_Size_cm</th>\n",
       "      <th>CPU_frequency</th>\n",
       "      <th>RAM_GB</th>\n",
       "      <th>Storage_GB_SSD</th>\n",
       "      <th>Weight_kg</th>\n",
       "      <th>Price</th>\n",
       "    </tr>\n",
       "  </thead>\n",
       "  <tbody>\n",
       "    <tr>\n",
       "      <th>0</th>\n",
       "      <td>0</td>\n",
       "      <td>Acer</td>\n",
       "      <td>4</td>\n",
       "      <td>IPS Panel</td>\n",
       "      <td>2</td>\n",
       "      <td>1</td>\n",
       "      <td>5</td>\n",
       "      <td>35.560</td>\n",
       "      <td>1.6</td>\n",
       "      <td>8</td>\n",
       "      <td>256</td>\n",
       "      <td>1.60</td>\n",
       "      <td>978</td>\n",
       "    </tr>\n",
       "    <tr>\n",
       "      <th>1</th>\n",
       "      <td>1</td>\n",
       "      <td>Dell</td>\n",
       "      <td>3</td>\n",
       "      <td>Full HD</td>\n",
       "      <td>1</td>\n",
       "      <td>1</td>\n",
       "      <td>3</td>\n",
       "      <td>39.624</td>\n",
       "      <td>2.0</td>\n",
       "      <td>4</td>\n",
       "      <td>256</td>\n",
       "      <td>2.20</td>\n",
       "      <td>634</td>\n",
       "    </tr>\n",
       "    <tr>\n",
       "      <th>2</th>\n",
       "      <td>2</td>\n",
       "      <td>Dell</td>\n",
       "      <td>3</td>\n",
       "      <td>Full HD</td>\n",
       "      <td>1</td>\n",
       "      <td>1</td>\n",
       "      <td>7</td>\n",
       "      <td>39.624</td>\n",
       "      <td>2.7</td>\n",
       "      <td>8</td>\n",
       "      <td>256</td>\n",
       "      <td>2.20</td>\n",
       "      <td>946</td>\n",
       "    </tr>\n",
       "    <tr>\n",
       "      <th>3</th>\n",
       "      <td>3</td>\n",
       "      <td>Dell</td>\n",
       "      <td>4</td>\n",
       "      <td>IPS Panel</td>\n",
       "      <td>2</td>\n",
       "      <td>1</td>\n",
       "      <td>5</td>\n",
       "      <td>33.782</td>\n",
       "      <td>1.6</td>\n",
       "      <td>8</td>\n",
       "      <td>128</td>\n",
       "      <td>1.22</td>\n",
       "      <td>1244</td>\n",
       "    </tr>\n",
       "    <tr>\n",
       "      <th>4</th>\n",
       "      <td>4</td>\n",
       "      <td>HP</td>\n",
       "      <td>4</td>\n",
       "      <td>Full HD</td>\n",
       "      <td>2</td>\n",
       "      <td>1</td>\n",
       "      <td>7</td>\n",
       "      <td>39.624</td>\n",
       "      <td>1.8</td>\n",
       "      <td>8</td>\n",
       "      <td>256</td>\n",
       "      <td>1.91</td>\n",
       "      <td>837</td>\n",
       "    </tr>\n",
       "  </tbody>\n",
       "</table>\n",
       "</div>"
      ]
     },
     "execution_count": 7,
     "metadata": {},
     "output_type": "execute_result"
    }
   ],
   "execution_count": 7
  },
  {
   "metadata": {},
   "cell_type": "markdown",
   "source": "<p>Note that we can update the <code>Screen_Size_cm</code> column such that all values are rounded to nearest 2 decimal places by using <code>numpy.round()</code>.</p>",
   "id": "8fa1b9ca60cd334d"
  },
  {
   "metadata": {
    "ExecuteTime": {
     "end_time": "2025-08-13T23:21:47.619957Z",
     "start_time": "2025-08-13T23:21:47.612825Z"
    }
   },
   "cell_type": "code",
   "source": [
    "df[[\"Screen_Size_cm\"]] = np.round(df[[\"Screen_Size_cm\"]], 2)\n",
    "df.head()"
   ],
   "id": "f11b133d78cb6824",
   "outputs": [
    {
     "data": {
      "text/plain": [
       "   Unnamed: 0 Manufacturer  Category     Screen  GPU  OS  CPU_core  \\\n",
       "0           0         Acer         4  IPS Panel    2   1         5   \n",
       "1           1         Dell         3    Full HD    1   1         3   \n",
       "2           2         Dell         3    Full HD    1   1         7   \n",
       "3           3         Dell         4  IPS Panel    2   1         5   \n",
       "4           4           HP         4    Full HD    2   1         7   \n",
       "\n",
       "   Screen_Size_cm  CPU_frequency  RAM_GB  Storage_GB_SSD  Weight_kg  Price  \n",
       "0           35.56            1.6       8             256       1.60    978  \n",
       "1           39.62            2.0       4             256       2.20    634  \n",
       "2           39.62            2.7       8             256       2.20    946  \n",
       "3           33.78            1.6       8             128       1.22   1244  \n",
       "4           39.62            1.8       8             256       1.91    837  "
      ],
      "text/html": [
       "<div>\n",
       "<style scoped>\n",
       "    .dataframe tbody tr th:only-of-type {\n",
       "        vertical-align: middle;\n",
       "    }\n",
       "\n",
       "    .dataframe tbody tr th {\n",
       "        vertical-align: top;\n",
       "    }\n",
       "\n",
       "    .dataframe thead th {\n",
       "        text-align: right;\n",
       "    }\n",
       "</style>\n",
       "<table border=\"1\" class=\"dataframe\">\n",
       "  <thead>\n",
       "    <tr style=\"text-align: right;\">\n",
       "      <th></th>\n",
       "      <th>Unnamed: 0</th>\n",
       "      <th>Manufacturer</th>\n",
       "      <th>Category</th>\n",
       "      <th>Screen</th>\n",
       "      <th>GPU</th>\n",
       "      <th>OS</th>\n",
       "      <th>CPU_core</th>\n",
       "      <th>Screen_Size_cm</th>\n",
       "      <th>CPU_frequency</th>\n",
       "      <th>RAM_GB</th>\n",
       "      <th>Storage_GB_SSD</th>\n",
       "      <th>Weight_kg</th>\n",
       "      <th>Price</th>\n",
       "    </tr>\n",
       "  </thead>\n",
       "  <tbody>\n",
       "    <tr>\n",
       "      <th>0</th>\n",
       "      <td>0</td>\n",
       "      <td>Acer</td>\n",
       "      <td>4</td>\n",
       "      <td>IPS Panel</td>\n",
       "      <td>2</td>\n",
       "      <td>1</td>\n",
       "      <td>5</td>\n",
       "      <td>35.56</td>\n",
       "      <td>1.6</td>\n",
       "      <td>8</td>\n",
       "      <td>256</td>\n",
       "      <td>1.60</td>\n",
       "      <td>978</td>\n",
       "    </tr>\n",
       "    <tr>\n",
       "      <th>1</th>\n",
       "      <td>1</td>\n",
       "      <td>Dell</td>\n",
       "      <td>3</td>\n",
       "      <td>Full HD</td>\n",
       "      <td>1</td>\n",
       "      <td>1</td>\n",
       "      <td>3</td>\n",
       "      <td>39.62</td>\n",
       "      <td>2.0</td>\n",
       "      <td>4</td>\n",
       "      <td>256</td>\n",
       "      <td>2.20</td>\n",
       "      <td>634</td>\n",
       "    </tr>\n",
       "    <tr>\n",
       "      <th>2</th>\n",
       "      <td>2</td>\n",
       "      <td>Dell</td>\n",
       "      <td>3</td>\n",
       "      <td>Full HD</td>\n",
       "      <td>1</td>\n",
       "      <td>1</td>\n",
       "      <td>7</td>\n",
       "      <td>39.62</td>\n",
       "      <td>2.7</td>\n",
       "      <td>8</td>\n",
       "      <td>256</td>\n",
       "      <td>2.20</td>\n",
       "      <td>946</td>\n",
       "    </tr>\n",
       "    <tr>\n",
       "      <th>3</th>\n",
       "      <td>3</td>\n",
       "      <td>Dell</td>\n",
       "      <td>4</td>\n",
       "      <td>IPS Panel</td>\n",
       "      <td>2</td>\n",
       "      <td>1</td>\n",
       "      <td>5</td>\n",
       "      <td>33.78</td>\n",
       "      <td>1.6</td>\n",
       "      <td>8</td>\n",
       "      <td>128</td>\n",
       "      <td>1.22</td>\n",
       "      <td>1244</td>\n",
       "    </tr>\n",
       "    <tr>\n",
       "      <th>4</th>\n",
       "      <td>4</td>\n",
       "      <td>HP</td>\n",
       "      <td>4</td>\n",
       "      <td>Full HD</td>\n",
       "      <td>2</td>\n",
       "      <td>1</td>\n",
       "      <td>7</td>\n",
       "      <td>39.62</td>\n",
       "      <td>1.8</td>\n",
       "      <td>8</td>\n",
       "      <td>256</td>\n",
       "      <td>1.91</td>\n",
       "      <td>837</td>\n",
       "    </tr>\n",
       "  </tbody>\n",
       "</table>\n",
       "</div>"
      ]
     },
     "execution_count": 8,
     "metadata": {},
     "output_type": "execute_result"
    }
   ],
   "execution_count": 8
  },
  {
   "metadata": {},
   "cell_type": "markdown",
   "source": "## Task 1 - Evaluate the dataset for missing data",
   "id": "61b34f322a57d597"
  },
  {
   "metadata": {},
   "cell_type": "markdown",
   "source": "<p>Missing data was last converted from <code>?</code> to <code>numpy.nan</code>. Pandas uses <b>NaN</b> and <b>Null</b> values interchangeably. This means, you can just identify the entries having <b>Null</b> values. Write a code that identifies which columns have missing data.</p>",
   "id": "d9c42f2d4d42225a"
  },
  {
   "metadata": {
    "ExecuteTime": {
     "end_time": "2025-08-13T23:21:47.769960Z",
     "start_time": "2025-08-13T23:21:47.763959Z"
    }
   },
   "cell_type": "code",
   "source": [
    "missing_data = df.isnull()\n",
    "missing_data.head()"
   ],
   "id": "d56af8e936b23a41",
   "outputs": [
    {
     "data": {
      "text/plain": [
       "   Unnamed: 0  Manufacturer  Category  Screen    GPU     OS  CPU_core  \\\n",
       "0       False         False     False   False  False  False     False   \n",
       "1       False         False     False   False  False  False     False   \n",
       "2       False         False     False   False  False  False     False   \n",
       "3       False         False     False   False  False  False     False   \n",
       "4       False         False     False   False  False  False     False   \n",
       "\n",
       "   Screen_Size_cm  CPU_frequency  RAM_GB  Storage_GB_SSD  Weight_kg  Price  \n",
       "0           False          False   False           False      False  False  \n",
       "1           False          False   False           False      False  False  \n",
       "2           False          False   False           False      False  False  \n",
       "3           False          False   False           False      False  False  \n",
       "4           False          False   False           False      False  False  "
      ],
      "text/html": [
       "<div>\n",
       "<style scoped>\n",
       "    .dataframe tbody tr th:only-of-type {\n",
       "        vertical-align: middle;\n",
       "    }\n",
       "\n",
       "    .dataframe tbody tr th {\n",
       "        vertical-align: top;\n",
       "    }\n",
       "\n",
       "    .dataframe thead th {\n",
       "        text-align: right;\n",
       "    }\n",
       "</style>\n",
       "<table border=\"1\" class=\"dataframe\">\n",
       "  <thead>\n",
       "    <tr style=\"text-align: right;\">\n",
       "      <th></th>\n",
       "      <th>Unnamed: 0</th>\n",
       "      <th>Manufacturer</th>\n",
       "      <th>Category</th>\n",
       "      <th>Screen</th>\n",
       "      <th>GPU</th>\n",
       "      <th>OS</th>\n",
       "      <th>CPU_core</th>\n",
       "      <th>Screen_Size_cm</th>\n",
       "      <th>CPU_frequency</th>\n",
       "      <th>RAM_GB</th>\n",
       "      <th>Storage_GB_SSD</th>\n",
       "      <th>Weight_kg</th>\n",
       "      <th>Price</th>\n",
       "    </tr>\n",
       "  </thead>\n",
       "  <tbody>\n",
       "    <tr>\n",
       "      <th>0</th>\n",
       "      <td>False</td>\n",
       "      <td>False</td>\n",
       "      <td>False</td>\n",
       "      <td>False</td>\n",
       "      <td>False</td>\n",
       "      <td>False</td>\n",
       "      <td>False</td>\n",
       "      <td>False</td>\n",
       "      <td>False</td>\n",
       "      <td>False</td>\n",
       "      <td>False</td>\n",
       "      <td>False</td>\n",
       "      <td>False</td>\n",
       "    </tr>\n",
       "    <tr>\n",
       "      <th>1</th>\n",
       "      <td>False</td>\n",
       "      <td>False</td>\n",
       "      <td>False</td>\n",
       "      <td>False</td>\n",
       "      <td>False</td>\n",
       "      <td>False</td>\n",
       "      <td>False</td>\n",
       "      <td>False</td>\n",
       "      <td>False</td>\n",
       "      <td>False</td>\n",
       "      <td>False</td>\n",
       "      <td>False</td>\n",
       "      <td>False</td>\n",
       "    </tr>\n",
       "    <tr>\n",
       "      <th>2</th>\n",
       "      <td>False</td>\n",
       "      <td>False</td>\n",
       "      <td>False</td>\n",
       "      <td>False</td>\n",
       "      <td>False</td>\n",
       "      <td>False</td>\n",
       "      <td>False</td>\n",
       "      <td>False</td>\n",
       "      <td>False</td>\n",
       "      <td>False</td>\n",
       "      <td>False</td>\n",
       "      <td>False</td>\n",
       "      <td>False</td>\n",
       "    </tr>\n",
       "    <tr>\n",
       "      <th>3</th>\n",
       "      <td>False</td>\n",
       "      <td>False</td>\n",
       "      <td>False</td>\n",
       "      <td>False</td>\n",
       "      <td>False</td>\n",
       "      <td>False</td>\n",
       "      <td>False</td>\n",
       "      <td>False</td>\n",
       "      <td>False</td>\n",
       "      <td>False</td>\n",
       "      <td>False</td>\n",
       "      <td>False</td>\n",
       "      <td>False</td>\n",
       "    </tr>\n",
       "    <tr>\n",
       "      <th>4</th>\n",
       "      <td>False</td>\n",
       "      <td>False</td>\n",
       "      <td>False</td>\n",
       "      <td>False</td>\n",
       "      <td>False</td>\n",
       "      <td>False</td>\n",
       "      <td>False</td>\n",
       "      <td>False</td>\n",
       "      <td>False</td>\n",
       "      <td>False</td>\n",
       "      <td>False</td>\n",
       "      <td>False</td>\n",
       "      <td>False</td>\n",
       "    </tr>\n",
       "  </tbody>\n",
       "</table>\n",
       "</div>"
      ]
     },
     "execution_count": 9,
     "metadata": {},
     "output_type": "execute_result"
    }
   ],
   "execution_count": 9
  },
  {
   "metadata": {
    "ExecuteTime": {
     "end_time": "2025-08-13T23:21:47.850419Z",
     "start_time": "2025-08-13T23:21:47.842055Z"
    }
   },
   "cell_type": "code",
   "source": [
    "count = 1\n",
    "for column in missing_data.columns.values.tolist():\n",
    "    print(f\"{count}. {missing_data[column].value_counts()}\", end=\"\\n\\n\")\n",
    "    count += 1"
   ],
   "id": "d5573595d5a119a0",
   "outputs": [
    {
     "name": "stdout",
     "output_type": "stream",
     "text": [
      "1. Unnamed: 0\n",
      "False    238\n",
      "Name: count, dtype: int64\n",
      "\n",
      "2. Manufacturer\n",
      "False    238\n",
      "Name: count, dtype: int64\n",
      "\n",
      "3. Category\n",
      "False    238\n",
      "Name: count, dtype: int64\n",
      "\n",
      "4. Screen\n",
      "False    238\n",
      "Name: count, dtype: int64\n",
      "\n",
      "5. GPU\n",
      "False    238\n",
      "Name: count, dtype: int64\n",
      "\n",
      "6. OS\n",
      "False    238\n",
      "Name: count, dtype: int64\n",
      "\n",
      "7. CPU_core\n",
      "False    238\n",
      "Name: count, dtype: int64\n",
      "\n",
      "8. Screen_Size_cm\n",
      "False    234\n",
      "True       4\n",
      "Name: count, dtype: int64\n",
      "\n",
      "9. CPU_frequency\n",
      "False    238\n",
      "Name: count, dtype: int64\n",
      "\n",
      "10. RAM_GB\n",
      "False    238\n",
      "Name: count, dtype: int64\n",
      "\n",
      "11. Storage_GB_SSD\n",
      "False    238\n",
      "Name: count, dtype: int64\n",
      "\n",
      "12. Weight_kg\n",
      "False    233\n",
      "True       5\n",
      "Name: count, dtype: int64\n",
      "\n",
      "13. Price\n",
      "False    238\n",
      "Name: count, dtype: int64\n",
      "\n"
     ]
    }
   ],
   "execution_count": 10
  },
  {
   "metadata": {},
   "cell_type": "markdown",
   "source": "## Task 2",
   "id": "cae5efc3569d4b8"
  },
  {
   "metadata": {},
   "cell_type": "markdown",
   "source": "### Replace with mean",
   "id": "5238955dd963745d"
  },
  {
   "metadata": {},
   "cell_type": "markdown",
   "source": "<p>Missing values in attributes that have continuous data are best replaced using Mean value. We note that values in <code>Weight_kg</code> attribute are continuous in nature, and some values are missing. Therefore, write a code to replace the missing values of weight with the average value of the attribute.</p>",
   "id": "de783990609f0c76"
  },
  {
   "metadata": {
    "ExecuteTime": {
     "end_time": "2025-08-13T23:21:47.911669Z",
     "start_time": "2025-08-13T23:21:47.908537Z"
    }
   },
   "cell_type": "code",
   "source": [
    "avg_weight = df[\"Weight_kg\"].astype(\"float\").mean(axis=0)\n",
    "df[\"Weight_kg\"] = df[\"Weight_kg\"].replace(np.nan, avg_weight)"
   ],
   "id": "528734071593940b",
   "outputs": [],
   "execution_count": 11
  },
  {
   "metadata": {},
   "cell_type": "markdown",
   "source": "### Replace with the most frequent value",
   "id": "100299766c8dc2f1"
  },
  {
   "metadata": {},
   "cell_type": "markdown",
   "source": "<p>Missing values in attributes that have categorical data are best replaced using the most frequent value. We note that values in <code>Screen_Size_cm</code> attribute are categorical in nature, and some values are missing. Therefore, write a code to replace the missing values of Screen Size with the most frequent value of the attribute.</p>",
   "id": "19ec71102731e927"
  },
  {
   "metadata": {
    "ExecuteTime": {
     "end_time": "2025-08-13T23:21:47.954479Z",
     "start_time": "2025-08-13T23:21:47.951531Z"
    }
   },
   "cell_type": "code",
   "source": [
    "common_screen_size = df[\"Screen_Size_cm\"].value_counts().idxmax()\n",
    "df[\"Screen_Size_cm\"] = df[\"Screen_Size_cm\"].replace(np.nan, common_screen_size)"
   ],
   "id": "e8cbe7c6a1b04866",
   "outputs": [],
   "execution_count": 12
  },
  {
   "metadata": {},
   "cell_type": "markdown",
   "source": "## Task 3 - Fixing the data types",
   "id": "8e3aab3bf4ebe786"
  },
  {
   "metadata": {},
   "cell_type": "markdown",
   "source": "<p>Both <code>Weight_kg</code> and <code>Screen_Size_cm</code> are seen to have the data type <code>Object</code>, while both of them should be having a data type <code>float</code>.</p>",
   "id": "c7b1cc113db9f475"
  },
  {
   "metadata": {
    "ExecuteTime": {
     "end_time": "2025-08-13T23:21:47.968573Z",
     "start_time": "2025-08-13T23:21:47.965117Z"
    }
   },
   "cell_type": "code",
   "source": "df[[\"Weight_kg\", \"Screen_Size_cm\"]] = df[[\"Weight_kg\", \"Screen_Size_cm\"]].astype(\"float\")",
   "id": "203fca975c10c7fc",
   "outputs": [],
   "execution_count": 13
  },
  {
   "metadata": {},
   "cell_type": "markdown",
   "source": "## Task 4",
   "id": "7fe7cfa5a7772ad9"
  },
  {
   "metadata": {},
   "cell_type": "markdown",
   "source": "### Data Standardization",
   "id": "fccf0aefe58d5870"
  },
  {
   "metadata": {},
   "cell_type": "markdown",
   "source": [
    "<p>The value of Screen_size usually has a standard unit of inches. Similarly, weight of the laptop is needed to be in pounds. Use the below-mentioned units of conversion and write a code to modify the columns of the dataframe accordingly. Update their names as well.</p>\n",
    "<pre>1 inch = 2.54 cm<br />1 kg = 2.205 pounds</pre>"
   ],
   "id": "8991a71b3fc98f2"
  },
  {
   "metadata": {
    "ExecuteTime": {
     "end_time": "2025-08-13T23:21:47.980586Z",
     "start_time": "2025-08-13T23:21:47.975130Z"
    }
   },
   "cell_type": "code",
   "source": [
    "df[\"Weight_kg\"] = df[\"Weight_kg\"] * 2.205\n",
    "df = df.rename(columns={\"Weight_kg\": \"Weight_pounds\"})\n",
    "\n",
    "df[\"Screen_Size_cm\"] = df[\"Screen_Size_cm\"] / 2.54\n",
    "df = df.rename(columns={\"Screen_Size_cm\": \"Screen_Size_inch\"})"
   ],
   "id": "c3880547cc1c8136",
   "outputs": [],
   "execution_count": 14
  },
  {
   "metadata": {},
   "cell_type": "markdown",
   "source": "### Data Normalization",
   "id": "2b87b07a91d98350"
  },
  {
   "metadata": {},
   "cell_type": "markdown",
   "source": "<p>Often it is required to normalize a continuous data attribute. Write a code to normalize the <code>CPU_frequency</code> attribute with respect to the maximum value available in the dataset.</p>",
   "id": "fddba3dff395149e"
  },
  {
   "metadata": {
    "ExecuteTime": {
     "end_time": "2025-08-13T23:21:47.990021Z",
     "start_time": "2025-08-13T23:21:47.984984Z"
    }
   },
   "cell_type": "code",
   "source": "df[\"CPU_frequency\"] = df[\"CPU_frequency\"] / df[\"CPU_frequency\"].max()",
   "id": "4d17041a900a7d79",
   "outputs": [],
   "execution_count": 15
  },
  {
   "metadata": {},
   "cell_type": "markdown",
   "source": "## Task 5 - Binning",
   "id": "fbaff1fb8bd436e4"
  },
  {
   "metadata": {},
   "cell_type": "markdown",
   "source": "<p>Binning is a process of creating a categorical attribute which splits the values of a continuous data into a specified number of groups. In this case, write a code to create 3 bins for the attribute <code>Price</code>. These bins would be named <code>Low</code>, <code>Medium</code> and <code>High</code>. The new attribute will be named <code>Price-binned</code>.</p>",
   "id": "70563e9bb9dbd086"
  },
  {
   "metadata": {
    "ExecuteTime": {
     "end_time": "2025-08-13T23:21:47.999381Z",
     "start_time": "2025-08-13T23:21:47.994805Z"
    }
   },
   "cell_type": "code",
   "source": [
    "bins = np.linspace(min(df[\"Price\"]), max(df[\"Price\"]), 4)\n",
    "group_name = [\"Low\", \"Medium\", \"High\"]\n",
    "df[\"Price-binned\"] = pd.cut(df[\"Price\"], bins=bins, labels=group_name, include_lowest=True)"
   ],
   "id": "4768eb0fc89834db",
   "outputs": [],
   "execution_count": 16
  },
  {
   "metadata": {},
   "cell_type": "markdown",
   "source": "<p>Also, plot the bar graph of these bins.</p>",
   "id": "73a3dc30b3a06f8"
  },
  {
   "metadata": {
    "ExecuteTime": {
     "end_time": "2025-08-13T23:21:48.075079Z",
     "start_time": "2025-08-13T23:21:48.004695Z"
    }
   },
   "cell_type": "code",
   "source": [
    "plt.bar(group_name, df[\"Price-binned\"].value_counts())\n",
    "plt.xlabel(\"Price\")\n",
    "plt.ylabel(\"Count\")\n",
    "plt.title(\"Price Bins\")"
   ],
   "id": "3b657db23fe4e6f8",
   "outputs": [
    {
     "data": {
      "text/plain": [
       "Text(0.5, 1.0, 'Price Bins')"
      ]
     },
     "execution_count": 17,
     "metadata": {},
     "output_type": "execute_result"
    },
    {
     "data": {
      "text/plain": [
       "<Figure size 640x480 with 1 Axes>"
      ],
      "image/png": "[encoded data removed]"
     },
     "metadata": {},
     "output_type": "display_data"
    }
   ],
   "execution_count": 17
  },
  {
   "metadata": {},
   "cell_type": "markdown",
   "source": "## Task 6 - Indicator Variables",
   "id": "7417c5ad479e0a38"
  },
  {
   "metadata": {},
   "cell_type": "markdown",
   "source": "<p>Convert the <code>Screen</code> attribute of the dataset into 2 indicator variables, <code>Screen-IPS_panel</code> and <code>Screen-Full_HD</code>. Then drop the <code>Screen</code> attribute from the dataset.</p>",
   "id": "5890ff7e81b6fc80"
  },
  {
   "metadata": {
    "ExecuteTime": {
     "end_time": "2025-08-13T23:21:48.091382Z",
     "start_time": "2025-08-13T23:21:48.087370Z"
    }
   },
   "cell_type": "code",
   "source": [
    "dummy_variable = pd.get_dummies(df[\"Screen\"])\n",
    "dummy_variable = dummy_variable.rename(columns={\"IPS Panel\": \"Screen-IPS_panel\", \"Full HD\": \"Screen-Full_HD\"})\n",
    "df = pd.concat([df, dummy_variable], axis=1)\n",
    "\n",
    "df = df.drop(\"Screen\", axis=1)"
   ],
   "id": "68f7c3445c962e0f",
   "outputs": [],
   "execution_count": 18
  },
  {
   "metadata": {},
   "cell_type": "markdown",
   "source": "<p>This version of the dataset, now finalized, is the one you'll be using in all subsequent modules. Print the content of <code>dataframe.head()</code> to verify the changes that were made to the dataset.</p>",
   "id": "53e79da937d628f7"
  },
  {
   "metadata": {
    "ExecuteTime": {
     "end_time": "2025-08-13T23:21:48.104612Z",
     "start_time": "2025-08-13T23:21:48.098329Z"
    }
   },
   "cell_type": "code",
   "source": "df.head()",
   "id": "2bab2196854a661",
   "outputs": [
    {
     "data": {
      "text/plain": [
       "   Unnamed: 0 Manufacturer  Category  GPU  OS  CPU_core  Screen_Size_inch  \\\n",
       "0           0         Acer         4    2   1         5         14.000000   \n",
       "1           1         Dell         3    1   1         3         15.598425   \n",
       "2           2         Dell         3    1   1         7         15.598425   \n",
       "3           3         Dell         4    2   1         5         13.299213   \n",
       "4           4           HP         4    2   1         7         15.598425   \n",
       "\n",
       "   CPU_frequency  RAM_GB  Storage_GB_SSD  Weight_pounds  Price Price-binned  \\\n",
       "0       0.551724       8             256        3.52800    978          Low   \n",
       "1       0.689655       4             256        4.85100    634          Low   \n",
       "2       0.931034       8             256        4.85100    946          Low   \n",
       "3       0.551724       8             128        2.69010   1244          Low   \n",
       "4       0.620690       8             256        4.21155    837          Low   \n",
       "\n",
       "   Screen-Full_HD  Screen-IPS_panel  \n",
       "0           False              True  \n",
       "1            True             False  \n",
       "2            True             False  \n",
       "3           False              True  \n",
       "4            True             False  "
      ],
      "text/html": [
       "<div>\n",
       "<style scoped>\n",
       "    .dataframe tbody tr th:only-of-type {\n",
       "        vertical-align: middle;\n",
       "    }\n",
       "\n",
       "    .dataframe tbody tr th {\n",
       "        vertical-align: top;\n",
       "    }\n",
       "\n",
       "    .dataframe thead th {\n",
       "        text-align: right;\n",
       "    }\n",
       "</style>\n",
       "<table border=\"1\" class=\"dataframe\">\n",
       "  <thead>\n",
       "    <tr style=\"text-align: right;\">\n",
       "      <th></th>\n",
       "      <th>Unnamed: 0</th>\n",
       "      <th>Manufacturer</th>\n",
       "      <th>Category</th>\n",
       "      <th>GPU</th>\n",
       "      <th>OS</th>\n",
       "      <th>CPU_core</th>\n",
       "      <th>Screen_Size_inch</th>\n",
       "      <th>CPU_frequency</th>\n",
       "      <th>RAM_GB</th>\n",
       "      <th>Storage_GB_SSD</th>\n",
       "      <th>Weight_pounds</th>\n",
       "      <th>Price</th>\n",
       "      <th>Price-binned</th>\n",
       "      <th>Screen-Full_HD</th>\n",
       "      <th>Screen-IPS_panel</th>\n",
       "    </tr>\n",
       "  </thead>\n",
       "  <tbody>\n",
       "    <tr>\n",
       "      <th>0</th>\n",
       "      <td>0</td>\n",
       "      <td>Acer</td>\n",
       "      <td>4</td>\n",
       "      <td>2</td>\n",
       "      <td>1</td>\n",
       "      <td>5</td>\n",
       "      <td>14.000000</td>\n",
       "      <td>0.551724</td>\n",
       "      <td>8</td>\n",
       "      <td>256</td>\n",
       "      <td>3.52800</td>\n",
       "      <td>978</td>\n",
       "      <td>Low</td>\n",
       "      <td>False</td>\n",
       "      <td>True</td>\n",
       "    </tr>\n",
       "    <tr>\n",
       "      <th>1</th>\n",
       "      <td>1</td>\n",
       "      <td>Dell</td>\n",
       "      <td>3</td>\n",
       "      <td>1</td>\n",
       "      <td>1</td>\n",
       "      <td>3</td>\n",
       "      <td>15.598425</td>\n",
       "      <td>0.689655</td>\n",
       "      <td>4</td>\n",
       "      <td>256</td>\n",
       "      <td>4.85100</td>\n",
       "      <td>634</td>\n",
       "      <td>Low</td>\n",
       "      <td>True</td>\n",
       "      <td>False</td>\n",
       "    </tr>\n",
       "    <tr>\n",
       "      <th>2</th>\n",
       "      <td>2</td>\n",
       "      <td>Dell</td>\n",
       "      <td>3</td>\n",
       "      <td>1</td>\n",
       "      <td>1</td>\n",
       "      <td>7</td>\n",
       "      <td>15.598425</td>\n",
       "      <td>0.931034</td>\n",
       "      <td>8</td>\n",
       "      <td>256</td>\n",
       "      <td>4.85100</td>\n",
       "      <td>946</td>\n",
       "      <td>Low</td>\n",
       "      <td>True</td>\n",
       "      <td>False</td>\n",
       "    </tr>\n",
       "    <tr>\n",
       "      <th>3</th>\n",
       "      <td>3</td>\n",
       "      <td>Dell</td>\n",
       "      <td>4</td>\n",
       "      <td>2</td>\n",
       "      <td>1</td>\n",
       "      <td>5</td>\n",
       "      <td>13.299213</td>\n",
       "      <td>0.551724</td>\n",
       "      <td>8</td>\n",
       "      <td>128</td>\n",
       "      <td>2.69010</td>\n",
       "      <td>1244</td>\n",
       "      <td>Low</td>\n",
       "      <td>False</td>\n",
       "      <td>True</td>\n",
       "    </tr>\n",
       "    <tr>\n",
       "      <th>4</th>\n",
       "      <td>4</td>\n",
       "      <td>HP</td>\n",
       "      <td>4</td>\n",
       "      <td>2</td>\n",
       "      <td>1</td>\n",
       "      <td>7</td>\n",
       "      <td>15.598425</td>\n",
       "      <td>0.620690</td>\n",
       "      <td>8</td>\n",
       "      <td>256</td>\n",
       "      <td>4.21155</td>\n",
       "      <td>837</td>\n",
       "      <td>Low</td>\n",
       "      <td>True</td>\n",
       "      <td>False</td>\n",
       "    </tr>\n",
       "  </tbody>\n",
       "</table>\n",
       "</div>"
      ]
     },
     "execution_count": 19,
     "metadata": {},
     "output_type": "execute_result"
    }
   ],
   "execution_count": 19
  },
  {
   "metadata": {},
   "cell_type": "markdown",
   "source": [
    "****\n",
    "This is the end of the file.\n",
    "****"
   ],
   "id": "402a48d4bf811ac2"
  }
 ],
 "metadata": {
  "kernelspec": {
   "display_name": "Python 3",
   "language": "python",
   "name": "python3"
  },
  "language_info": {
   "codemirror_mode": {
    "name": "ipython",
    "version": 2
   },
   "file_extension": ".py",
   "mimetype": "text/x-python",
   "name": "python",
   "nbconvert_exporter": "python",
   "pygments_lexer": "ipython2",
   "version": "2.7.6"
  }
 },
 "nbformat": 4,
 "nbformat_minor": 5
}
