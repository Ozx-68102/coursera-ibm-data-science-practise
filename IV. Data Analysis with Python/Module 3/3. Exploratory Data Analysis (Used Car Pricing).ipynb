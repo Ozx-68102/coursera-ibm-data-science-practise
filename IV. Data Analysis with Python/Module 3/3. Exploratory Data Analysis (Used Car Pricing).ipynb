{
 "cells": [
  {
   "metadata": {},
   "cell_type": "markdown",
   "source": "# Exploratory Data Analysis",
   "id": "37fc5dba28e06557"
  },
  {
   "metadata": {},
   "cell_type": "markdown",
   "source": "## What are the main characteristics that have the most impact on car price?",
   "id": "bd64e23d387c541b"
  },
  {
   "metadata": {},
   "cell_type": "markdown",
   "source": "## 1. Import Data",
   "id": "a9acc0ee236ea3d5"
  },
  {
   "metadata": {},
   "cell_type": "markdown",
   "source": "### Import libraries",
   "id": "1c701917199aba53"
  },
  {
   "metadata": {
    "ExecuteTime": {
     "end_time": "2025-08-15T09:44:06.900852Z",
     "start_time": "2025-08-15T09:44:06.898379Z"
    }
   },
   "cell_type": "code",
   "source": "# %pip install scipy",
   "id": "327a1b49fce62bb6",
   "outputs": [],
   "execution_count": 1
  },
  {
   "metadata": {
    "ExecuteTime": {
     "end_time": "2025-08-15T09:44:07.276965Z",
     "start_time": "2025-08-15T09:44:06.907056Z"
    }
   },
   "cell_type": "code",
   "source": [
    "from scipy import stats\n",
    "\n",
    "import matplotlib.pyplot as plt\n",
    "import seaborn as sns\n",
    "import pandas as pd\n",
    "import numpy as np\n",
    "import requests\n",
    "import os\n",
    "\n",
    "%matplotlib inline"
   ],
   "id": "da6d723e843f6b50",
   "outputs": [],
   "execution_count": 2
  },
  {
   "metadata": {},
   "cell_type": "markdown",
   "source": "### Reading the dataset from the URL",
   "id": "4d08e0f0a4fcff86"
  },
  {
   "metadata": {},
   "cell_type": "markdown",
   "source": "<p>The functions below will download the dataset onto your computer.</p>",
   "id": "d8fdb0b7b0c4d4b8"
  },
  {
   "metadata": {
    "ExecuteTime": {
     "end_time": "2025-08-15T09:44:07.287667Z",
     "start_time": "2025-08-15T09:44:07.283736Z"
    }
   },
   "cell_type": "code",
   "source": [
    "dir_path = os.path.join(\".\", \"data\")\n",
    "os.makedirs(dir_path, exist_ok=True)\n",
    "\n",
    "def download_file(url: str) -> str:\n",
    "    with requests.get(url=url, stream=True) as response:\n",
    "        response.raise_for_status()\n",
    "\n",
    "        filepath = os.path.join(dir_path, url.rsplit(\"/\", 1)[-1])\n",
    "        total_size = int(response.headers.get(\"Content-Length\", 0))\n",
    "        chunk_size = 1024 ** 2\n",
    "        download_size = 0\n",
    "\n",
    "        with open(filepath, \"wb\") as file:\n",
    "            for chunk in response.iter_content(chunk_size=chunk_size):\n",
    "                if not chunk:\n",
    "                    continue\n",
    "\n",
    "                file.write(chunk)\n",
    "                download_size += len(chunk)\n",
    "\n",
    "                if total_size > 0:\n",
    "                    progress = (download_size / total_size) * 100\n",
    "                    print(f\"Downloading: {progress:.2f}% ({download_size} / {total_size} bytes)\")\n",
    "\n",
    "    print(\"Download Complete.\")\n",
    "    return filepath"
   ],
   "id": "fa6f2598cf7651ff",
   "outputs": [],
   "execution_count": 3
  },
  {
   "metadata": {},
   "cell_type": "markdown",
   "source": "<p>To obtain the dataset, utilize the <code>download_file()</code> function as defined above:</p>",
   "id": "24f358c4edbe0749"
  },
  {
   "metadata": {
    "ExecuteTime": {
     "end_time": "2025-08-15T09:44:07.303615Z",
     "start_time": "2025-08-15T09:44:07.293202Z"
    }
   },
   "cell_type": "code",
   "source": "data_url = \"https://cf-courses-data.s3.us.cloud-object-storage.appdomain.cloud/IBMDeveloperSkillsNetwork-DA0101EN-SkillsNetwork/labs/Data%20files/automobileEDA.csv\"",
   "id": "eb179bef6f54b628",
   "outputs": [],
   "execution_count": 4
  },
  {
   "metadata": {
    "ExecuteTime": {
     "end_time": "2025-08-15T09:44:08.835301Z",
     "start_time": "2025-08-15T09:44:07.310985Z"
    }
   },
   "cell_type": "code",
   "source": "filename = download_file(data_url)",
   "id": "66dbd000607ed527",
   "outputs": [
    {
     "name": "stdout",
     "output_type": "stream",
     "text": [
      "Downloading: 100.00% (35648 / 35648 bytes)\n",
      "Download Complete.\n"
     ]
    }
   ],
   "execution_count": 5
  },
  {
   "metadata": {},
   "cell_type": "markdown",
   "source": "<p>Load the data and store it in dataframe <code>df</code>:</p>",
   "id": "e009ed593bf17dd3"
  },
  {
   "metadata": {
    "ExecuteTime": {
     "end_time": "2025-08-15T09:44:08.921521Z",
     "start_time": "2025-08-15T09:44:08.906659Z"
    }
   },
   "cell_type": "code",
   "source": [
    "df = pd.read_csv(filename)\n",
    "df.head()"
   ],
   "id": "c0665c66119b64ee",
   "outputs": [
    {
     "data": {
      "text/plain": [
       "   symboling  normalized-losses         make aspiration num-of-doors  \\\n",
       "0          3                122  alfa-romero        std          two   \n",
       "1          3                122  alfa-romero        std          two   \n",
       "2          1                122  alfa-romero        std          two   \n",
       "3          2                164         audi        std         four   \n",
       "4          2                164         audi        std         four   \n",
       "\n",
       "    body-style drive-wheels engine-location  wheel-base    length  ...  \\\n",
       "0  convertible          rwd           front        88.6  0.811148  ...   \n",
       "1  convertible          rwd           front        88.6  0.811148  ...   \n",
       "2    hatchback          rwd           front        94.5  0.822681  ...   \n",
       "3        sedan          fwd           front        99.8  0.848630  ...   \n",
       "4        sedan          4wd           front        99.4  0.848630  ...   \n",
       "\n",
       "   compression-ratio  horsepower  peak-rpm city-mpg highway-mpg    price  \\\n",
       "0                9.0       111.0    5000.0       21          27  13495.0   \n",
       "1                9.0       111.0    5000.0       21          27  16500.0   \n",
       "2                9.0       154.0    5000.0       19          26  16500.0   \n",
       "3               10.0       102.0    5500.0       24          30  13950.0   \n",
       "4                8.0       115.0    5500.0       18          22  17450.0   \n",
       "\n",
       "  city-L/100km  horsepower-binned  diesel  gas  \n",
       "0    11.190476             Medium       0    1  \n",
       "1    11.190476             Medium       0    1  \n",
       "2    12.368421             Medium       0    1  \n",
       "3     9.791667             Medium       0    1  \n",
       "4    13.055556             Medium       0    1  \n",
       "\n",
       "[5 rows x 29 columns]"
      ],
      "text/html": [
       "<div>\n",
       "<style scoped>\n",
       "    .dataframe tbody tr th:only-of-type {\n",
       "        vertical-align: middle;\n",
       "    }\n",
       "\n",
       "    .dataframe tbody tr th {\n",
       "        vertical-align: top;\n",
       "    }\n",
       "\n",
       "    .dataframe thead th {\n",
       "        text-align: right;\n",
       "    }\n",
       "</style>\n",
       "<table border=\"1\" class=\"dataframe\">\n",
       "  <thead>\n",
       "    <tr style=\"text-align: right;\">\n",
       "      <th></th>\n",
       "      <th>symboling</th>\n",
       "      <th>normalized-losses</th>\n",
       "      <th>make</th>\n",
       "      <th>aspiration</th>\n",
       "      <th>num-of-doors</th>\n",
       "      <th>body-style</th>\n",
       "      <th>drive-wheels</th>\n",
       "      <th>engine-location</th>\n",
       "      <th>wheel-base</th>\n",
       "      <th>length</th>\n",
       "      <th>...</th>\n",
       "      <th>compression-ratio</th>\n",
       "      <th>horsepower</th>\n",
       "      <th>peak-rpm</th>\n",
       "      <th>city-mpg</th>\n",
       "      <th>highway-mpg</th>\n",
       "      <th>price</th>\n",
       "      <th>city-L/100km</th>\n",
       "      <th>horsepower-binned</th>\n",
       "      <th>diesel</th>\n",
       "      <th>gas</th>\n",
       "    </tr>\n",
       "  </thead>\n",
       "  <tbody>\n",
       "    <tr>\n",
       "      <th>0</th>\n",
       "      <td>3</td>\n",
       "      <td>122</td>\n",
       "      <td>alfa-romero</td>\n",
       "      <td>std</td>\n",
       "      <td>two</td>\n",
       "      <td>convertible</td>\n",
       "      <td>rwd</td>\n",
       "      <td>front</td>\n",
       "      <td>88.6</td>\n",
       "      <td>0.811148</td>\n",
       "      <td>...</td>\n",
       "      <td>9.0</td>\n",
       "      <td>111.0</td>\n",
       "      <td>5000.0</td>\n",
       "      <td>21</td>\n",
       "      <td>27</td>\n",
       "      <td>13495.0</td>\n",
       "      <td>11.190476</td>\n",
       "      <td>Medium</td>\n",
       "      <td>0</td>\n",
       "      <td>1</td>\n",
       "    </tr>\n",
       "    <tr>\n",
       "      <th>1</th>\n",
       "      <td>3</td>\n",
       "      <td>122</td>\n",
       "      <td>alfa-romero</td>\n",
       "      <td>std</td>\n",
       "      <td>two</td>\n",
       "      <td>convertible</td>\n",
       "      <td>rwd</td>\n",
       "      <td>front</td>\n",
       "      <td>88.6</td>\n",
       "      <td>0.811148</td>\n",
       "      <td>...</td>\n",
       "      <td>9.0</td>\n",
       "      <td>111.0</td>\n",
       "      <td>5000.0</td>\n",
       "      <td>21</td>\n",
       "      <td>27</td>\n",
       "      <td>16500.0</td>\n",
       "      <td>11.190476</td>\n",
       "      <td>Medium</td>\n",
       "      <td>0</td>\n",
       "      <td>1</td>\n",
       "    </tr>\n",
       "    <tr>\n",
       "      <th>2</th>\n",
       "      <td>1</td>\n",
       "      <td>122</td>\n",
       "      <td>alfa-romero</td>\n",
       "      <td>std</td>\n",
       "      <td>two</td>\n",
       "      <td>hatchback</td>\n",
       "      <td>rwd</td>\n",
       "      <td>front</td>\n",
       "      <td>94.5</td>\n",
       "      <td>0.822681</td>\n",
       "      <td>...</td>\n",
       "      <td>9.0</td>\n",
       "      <td>154.0</td>\n",
       "      <td>5000.0</td>\n",
       "      <td>19</td>\n",
       "      <td>26</td>\n",
       "      <td>16500.0</td>\n",
       "      <td>12.368421</td>\n",
       "      <td>Medium</td>\n",
       "      <td>0</td>\n",
       "      <td>1</td>\n",
       "    </tr>\n",
       "    <tr>\n",
       "      <th>3</th>\n",
       "      <td>2</td>\n",
       "      <td>164</td>\n",
       "      <td>audi</td>\n",
       "      <td>std</td>\n",
       "      <td>four</td>\n",
       "      <td>sedan</td>\n",
       "      <td>fwd</td>\n",
       "      <td>front</td>\n",
       "      <td>99.8</td>\n",
       "      <td>0.848630</td>\n",
       "      <td>...</td>\n",
       "      <td>10.0</td>\n",
       "      <td>102.0</td>\n",
       "      <td>5500.0</td>\n",
       "      <td>24</td>\n",
       "      <td>30</td>\n",
       "      <td>13950.0</td>\n",
       "      <td>9.791667</td>\n",
       "      <td>Medium</td>\n",
       "      <td>0</td>\n",
       "      <td>1</td>\n",
       "    </tr>\n",
       "    <tr>\n",
       "      <th>4</th>\n",
       "      <td>2</td>\n",
       "      <td>164</td>\n",
       "      <td>audi</td>\n",
       "      <td>std</td>\n",
       "      <td>four</td>\n",
       "      <td>sedan</td>\n",
       "      <td>4wd</td>\n",
       "      <td>front</td>\n",
       "      <td>99.4</td>\n",
       "      <td>0.848630</td>\n",
       "      <td>...</td>\n",
       "      <td>8.0</td>\n",
       "      <td>115.0</td>\n",
       "      <td>5500.0</td>\n",
       "      <td>18</td>\n",
       "      <td>22</td>\n",
       "      <td>17450.0</td>\n",
       "      <td>13.055556</td>\n",
       "      <td>Medium</td>\n",
       "      <td>0</td>\n",
       "      <td>1</td>\n",
       "    </tr>\n",
       "  </tbody>\n",
       "</table>\n",
       "<p>5 rows × 29 columns</p>\n",
       "</div>"
      ]
     },
     "execution_count": 6,
     "metadata": {},
     "output_type": "execute_result"
    }
   ],
   "execution_count": 6
  },
  {
   "metadata": {},
   "cell_type": "markdown",
   "source": "## 2. Analyzing Individual Feature Patterns Using Visualization",
   "id": "2255bf0f34c64b71"
  },
  {
   "metadata": {},
   "cell_type": "markdown",
   "source": [
    "<p><b>How to choose the right visualization method?</b></p>\n",
    "<p>When visualizing individual variables, it is important to first understand what type of variable you are dealing with. This will help us find the right visualization method for that variable.</p>"
   ],
   "id": "b6eeb1cd26238f6c"
  },
  {
   "metadata": {
    "ExecuteTime": {
     "end_time": "2025-08-15T09:44:08.959475Z",
     "start_time": "2025-08-15T09:44:08.953848Z"
    }
   },
   "cell_type": "code",
   "source": "df.dtypes",
   "id": "bc542d7746c4018a",
   "outputs": [
    {
     "data": {
      "text/plain": [
       "symboling              int64\n",
       "normalized-losses      int64\n",
       "make                  object\n",
       "aspiration            object\n",
       "num-of-doors          object\n",
       "body-style            object\n",
       "drive-wheels          object\n",
       "engine-location       object\n",
       "wheel-base           float64\n",
       "length               float64\n",
       "width                float64\n",
       "height               float64\n",
       "curb-weight            int64\n",
       "engine-type           object\n",
       "num-of-cylinders      object\n",
       "engine-size            int64\n",
       "fuel-system           object\n",
       "bore                 float64\n",
       "stroke               float64\n",
       "compression-ratio    float64\n",
       "horsepower           float64\n",
       "peak-rpm             float64\n",
       "city-mpg               int64\n",
       "highway-mpg            int64\n",
       "price                float64\n",
       "city-L/100km         float64\n",
       "horsepower-binned     object\n",
       "diesel                 int64\n",
       "gas                    int64\n",
       "dtype: object"
      ]
     },
     "execution_count": 7,
     "metadata": {},
     "output_type": "execute_result"
    }
   ],
   "execution_count": 7
  },
  {
   "metadata": {},
   "cell_type": "markdown",
   "source": "### Question 1",
   "id": "3be44ba27a992898"
  },
  {
   "metadata": {},
   "cell_type": "markdown",
   "source": "<p><b>Question 1.1</b> What is the data type of the column <code>peak-rpm</code>?</p>",
   "id": "bbec45a0eea19da"
  },
  {
   "metadata": {
    "ExecuteTime": {
     "end_time": "2025-08-15T09:44:09.115723Z",
     "start_time": "2025-08-15T09:44:09.112422Z"
    }
   },
   "cell_type": "code",
   "source": "df.dtypes[\"peak-rpm\"]",
   "id": "878c8dfcdd52a537",
   "outputs": [
    {
     "data": {
      "text/plain": [
       "dtype('float64')"
      ]
     },
     "execution_count": 8,
     "metadata": {},
     "output_type": "execute_result"
    }
   ],
   "execution_count": 8
  },
  {
   "metadata": {},
   "cell_type": "markdown",
   "source": [
    "<p>For example, we can calculate the correlation between variables  of type <code>int64</code> or <code>float64</code> using the method <code>corr()</code>:</p>\n",
    "<pre>dataframe.corr()</pre>"
   ],
   "id": "841f844082d34d8f"
  },
  {
   "metadata": {},
   "cell_type": "markdown",
   "source": "<p>The diagonal elements are always one. We will study correlation more precisely Pearson correlation in-depth at the end of the notebook.</p>",
   "id": "ebb6a084b2ec7b87"
  },
  {
   "metadata": {},
   "cell_type": "markdown",
   "source": "### Question 1",
   "id": "be61f5af98b953ac"
  },
  {
   "metadata": {},
   "cell_type": "markdown",
   "source": [
    "<p><b>Question 1.2</b> Find the correlation between the following columns: <code>bore</code>, <code>stroke</code>, <code>compression-ratio</code>, and <code>horsepower</code>.</p>\n",
    "<p>Hint: if you would like to select those columns, use the following syntax:</p>\n",
    "<pre>df[[\"bore\", \"stroke\", \"compression-ratio\", \"horsepower\"]]</pre>"
   ],
   "id": "8804f66a15b8661d"
  },
  {
   "metadata": {
    "ExecuteTime": {
     "end_time": "2025-08-15T09:44:09.188941Z",
     "start_time": "2025-08-15T09:44:09.184040Z"
    }
   },
   "cell_type": "code",
   "source": "df[[\"bore\", \"stroke\", \"compression-ratio\", \"horsepower\"]].corr()",
   "id": "61a14e561717409e",
   "outputs": [
    {
     "data": {
      "text/plain": [
       "                       bore    stroke  compression-ratio  horsepower\n",
       "bore               1.000000 -0.055390           0.001263    0.566936\n",
       "stroke            -0.055390  1.000000           0.187923    0.098462\n",
       "compression-ratio  0.001263  0.187923           1.000000   -0.214514\n",
       "horsepower         0.566936  0.098462          -0.214514    1.000000"
      ],
      "text/html": [
       "<div>\n",
       "<style scoped>\n",
       "    .dataframe tbody tr th:only-of-type {\n",
       "        vertical-align: middle;\n",
       "    }\n",
       "\n",
       "    .dataframe tbody tr th {\n",
       "        vertical-align: top;\n",
       "    }\n",
       "\n",
       "    .dataframe thead th {\n",
       "        text-align: right;\n",
       "    }\n",
       "</style>\n",
       "<table border=\"1\" class=\"dataframe\">\n",
       "  <thead>\n",
       "    <tr style=\"text-align: right;\">\n",
       "      <th></th>\n",
       "      <th>bore</th>\n",
       "      <th>stroke</th>\n",
       "      <th>compression-ratio</th>\n",
       "      <th>horsepower</th>\n",
       "    </tr>\n",
       "  </thead>\n",
       "  <tbody>\n",
       "    <tr>\n",
       "      <th>bore</th>\n",
       "      <td>1.000000</td>\n",
       "      <td>-0.055390</td>\n",
       "      <td>0.001263</td>\n",
       "      <td>0.566936</td>\n",
       "    </tr>\n",
       "    <tr>\n",
       "      <th>stroke</th>\n",
       "      <td>-0.055390</td>\n",
       "      <td>1.000000</td>\n",
       "      <td>0.187923</td>\n",
       "      <td>0.098462</td>\n",
       "    </tr>\n",
       "    <tr>\n",
       "      <th>compression-ratio</th>\n",
       "      <td>0.001263</td>\n",
       "      <td>0.187923</td>\n",
       "      <td>1.000000</td>\n",
       "      <td>-0.214514</td>\n",
       "    </tr>\n",
       "    <tr>\n",
       "      <th>horsepower</th>\n",
       "      <td>0.566936</td>\n",
       "      <td>0.098462</td>\n",
       "      <td>-0.214514</td>\n",
       "      <td>1.000000</td>\n",
       "    </tr>\n",
       "  </tbody>\n",
       "</table>\n",
       "</div>"
      ]
     },
     "execution_count": 9,
     "metadata": {},
     "output_type": "execute_result"
    }
   ],
   "execution_count": 9
  },
  {
   "metadata": {},
   "cell_type": "markdown",
   "source": "### Continuous Numerical Variables",
   "id": "b13a506639b94623"
  },
  {
   "metadata": {},
   "cell_type": "markdown",
   "source": [
    "<p>Continuous numerical variables are variables that may contain any value within some range. They can be of type <code>int64</code> or <code>float64</code>. A great way to visualize these variables is by using scatterplots with fitted lines.</p>\n",
    "<p>In order to start understanding the (linear) relationship between an individual variable and the price, we can use <code>regplot()</code> which plots the scatterplot plus the fitted regression line for the data. This will be useful later on for visualizing the fit of the simple linear regression model as well. </p>"
   ],
   "id": "569186d98053c409"
  },
  {
   "metadata": {},
   "cell_type": "markdown",
   "source": "<p>Let's see several examples of different linear relationships:</p>",
   "id": "c0129058c3511ad5"
  },
  {
   "metadata": {},
   "cell_type": "markdown",
   "source": "#### Positive Linear Relationship",
   "id": "65a7c8cb560192bd"
  },
  {
   "metadata": {},
   "cell_type": "markdown",
   "source": "<p>Let's find the scatterplot of <code>engine-size</code> and <code>price</code>.</p>",
   "id": "25048c529492cbc9"
  },
  {
   "metadata": {
    "ExecuteTime": {
     "end_time": "2025-08-15T09:44:09.324746Z",
     "start_time": "2025-08-15T09:44:09.229476Z"
    }
   },
   "cell_type": "code",
   "source": [
    "sns.regplot(x=\"engine-size\", y=\"price\", data=df)\n",
    "plt.ylim(bottom=0)"
   ],
   "id": "bf79fa1de3aa7afe",
   "outputs": [
    {
     "data": {
      "text/plain": [
       "(0.0, 53144.444780956495)"
      ]
     },
     "execution_count": 10,
     "metadata": {},
     "output_type": "execute_result"
    },
    {
     "data": {
      "text/plain": [
       "<Figure size 640x480 with 1 Axes>"
      ],
      "image/png": "[encoded data removed]"
     },
     "metadata": {},
     "output_type": "display_data"
    }
   ],
   "execution_count": 10
  },
  {
   "metadata": {},
   "cell_type": "markdown",
   "source": "<p>As the <code>engine-size</code> goes up, the <code>price</code> goes up: this indicates a positive direct correlation between these two variables. Engine size seems like a pretty good predictor of price since the regression line is almost a perfect diagonal line.</p>",
   "id": "3d227598c4e6ea4d"
  },
  {
   "metadata": {},
   "cell_type": "markdown",
   "source": "<p>We can examine the correlation between <code>engine-size</code> and <code>price</code> and see that it's approximately 0.87.</p>",
   "id": "685b68aa5d4a69fa"
  },
  {
   "metadata": {
    "ExecuteTime": {
     "end_time": "2025-08-15T09:44:09.360108Z",
     "start_time": "2025-08-15T09:44:09.355264Z"
    }
   },
   "cell_type": "code",
   "source": "df[[\"engine-size\", \"price\"]].corr()",
   "id": "145ed1c9a0388e1f",
   "outputs": [
    {
     "data": {
      "text/plain": [
       "             engine-size     price\n",
       "engine-size     1.000000  0.872335\n",
       "price           0.872335  1.000000"
      ],
      "text/html": [
       "<div>\n",
       "<style scoped>\n",
       "    .dataframe tbody tr th:only-of-type {\n",
       "        vertical-align: middle;\n",
       "    }\n",
       "\n",
       "    .dataframe tbody tr th {\n",
       "        vertical-align: top;\n",
       "    }\n",
       "\n",
       "    .dataframe thead th {\n",
       "        text-align: right;\n",
       "    }\n",
       "</style>\n",
       "<table border=\"1\" class=\"dataframe\">\n",
       "  <thead>\n",
       "    <tr style=\"text-align: right;\">\n",
       "      <th></th>\n",
       "      <th>engine-size</th>\n",
       "      <th>price</th>\n",
       "    </tr>\n",
       "  </thead>\n",
       "  <tbody>\n",
       "    <tr>\n",
       "      <th>engine-size</th>\n",
       "      <td>1.000000</td>\n",
       "      <td>0.872335</td>\n",
       "    </tr>\n",
       "    <tr>\n",
       "      <th>price</th>\n",
       "      <td>0.872335</td>\n",
       "      <td>1.000000</td>\n",
       "    </tr>\n",
       "  </tbody>\n",
       "</table>\n",
       "</div>"
      ]
     },
     "execution_count": 11,
     "metadata": {},
     "output_type": "execute_result"
    }
   ],
   "execution_count": 11
  },
  {
   "metadata": {},
   "cell_type": "markdown",
   "source": "<p>Highway mpg is a potential predictor variable of price. Let's find the scatterplot of <code>highway-mpg</code> and <code>price</code>.</p>",
   "id": "e698e356b6cdd379"
  },
  {
   "metadata": {
    "ExecuteTime": {
     "end_time": "2025-08-15T09:44:09.518119Z",
     "start_time": "2025-08-15T09:44:09.427032Z"
    }
   },
   "cell_type": "code",
   "source": "sns.regplot(x=\"highway-mpg\", y=\"price\", data=df)",
   "id": "b22a02b3b1170672",
   "outputs": [
    {
     "data": {
      "text/plain": [
       "<Axes: xlabel='highway-mpg', ylabel='price'>"
      ]
     },
     "execution_count": 12,
     "metadata": {},
     "output_type": "execute_result"
    },
    {
     "data": {
      "text/plain": [
       "<Figure size 640x480 with 1 Axes>"
      ],
      "image/png": "[encoded data removed]"
     },
     "metadata": {},
     "output_type": "display_data"
    }
   ],
   "execution_count": 12
  },
  {
   "metadata": {},
   "cell_type": "markdown",
   "source": "<p>As <code>highway-mpg</code> goes up, the <code>price</code> goes down: this indicates an inverse/negative relationship between these two variables. Highway mpg could potentially be a predictor of price.</p>",
   "id": "2319b87ae7d11fe"
  },
  {
   "metadata": {},
   "cell_type": "markdown",
   "source": "We can examine the correlation between <code>highway-mpg</code> and <code>price</code> and see it's approximately -0.704.",
   "id": "a85886353faf3b22"
  },
  {
   "metadata": {
    "ExecuteTime": {
     "end_time": "2025-08-15T09:44:09.552201Z",
     "start_time": "2025-08-15T09:44:09.546573Z"
    }
   },
   "cell_type": "code",
   "source": "df[[\"highway-mpg\", \"price\"]].corr()",
   "id": "7e2d40a37b2a8392",
   "outputs": [
    {
     "data": {
      "text/plain": [
       "             highway-mpg     price\n",
       "highway-mpg     1.000000 -0.704692\n",
       "price          -0.704692  1.000000"
      ],
      "text/html": [
       "<div>\n",
       "<style scoped>\n",
       "    .dataframe tbody tr th:only-of-type {\n",
       "        vertical-align: middle;\n",
       "    }\n",
       "\n",
       "    .dataframe tbody tr th {\n",
       "        vertical-align: top;\n",
       "    }\n",
       "\n",
       "    .dataframe thead th {\n",
       "        text-align: right;\n",
       "    }\n",
       "</style>\n",
       "<table border=\"1\" class=\"dataframe\">\n",
       "  <thead>\n",
       "    <tr style=\"text-align: right;\">\n",
       "      <th></th>\n",
       "      <th>highway-mpg</th>\n",
       "      <th>price</th>\n",
       "    </tr>\n",
       "  </thead>\n",
       "  <tbody>\n",
       "    <tr>\n",
       "      <th>highway-mpg</th>\n",
       "      <td>1.000000</td>\n",
       "      <td>-0.704692</td>\n",
       "    </tr>\n",
       "    <tr>\n",
       "      <th>price</th>\n",
       "      <td>-0.704692</td>\n",
       "      <td>1.000000</td>\n",
       "    </tr>\n",
       "  </tbody>\n",
       "</table>\n",
       "</div>"
      ]
     },
     "execution_count": 13,
     "metadata": {},
     "output_type": "execute_result"
    }
   ],
   "execution_count": 13
  },
  {
   "metadata": {},
   "cell_type": "markdown",
   "source": "#### Weak Linear Relationship",
   "id": "92173e1c37f75b91"
  },
  {
   "metadata": {},
   "cell_type": "markdown",
   "source": "<p>Let's see if <code>peak-rpm</code> is a predictor variable of <code>price</code>.</p>",
   "id": "9b1aac4b2624d96a"
  },
  {
   "metadata": {
    "ExecuteTime": {
     "end_time": "2025-08-15T09:44:09.688103Z",
     "start_time": "2025-08-15T09:44:09.600381Z"
    }
   },
   "cell_type": "code",
   "source": "sns.regplot(x=\"peak-rpm\", y=\"price\", data=df)",
   "id": "3a9e622171f98230",
   "outputs": [
    {
     "data": {
      "text/plain": [
       "<Axes: xlabel='peak-rpm', ylabel='price'>"
      ]
     },
     "execution_count": 14,
     "metadata": {},
     "output_type": "execute_result"
    },
    {
     "data": {
      "text/plain": [
       "<Figure size 640x480 with 1 Axes>"
      ],
      "image/png": "[encoded data removed]"
     },
     "metadata": {},
     "output_type": "display_data"
    }
   ],
   "execution_count": 14
  },
  {
   "metadata": {},
   "cell_type": "markdown",
   "source": "<p>Peak rpm does not seem like a good predictor of the price at all since the regression line is close to horizontal. Also, the data points are very scattered and far from the fitted line, showing lots of variability. Therefore, it's not a reliable variable.</p>",
   "id": "adbe01df2e0ac286"
  },
  {
   "metadata": {},
   "cell_type": "markdown",
   "source": "<p>We can examine the correlation between <code>peak-rpm</code> and <code>price</code> and see it's approximately -0.101616.</p>",
   "id": "6a2bdd6e807fef3e"
  },
  {
   "metadata": {
    "ExecuteTime": {
     "end_time": "2025-08-15T09:44:09.722431Z",
     "start_time": "2025-08-15T09:44:09.717697Z"
    }
   },
   "cell_type": "code",
   "source": "df[[\"peak-rpm\", \"price\"]].corr()",
   "id": "e2882cfbc0117386",
   "outputs": [
    {
     "data": {
      "text/plain": [
       "          peak-rpm     price\n",
       "peak-rpm  1.000000 -0.101616\n",
       "price    -0.101616  1.000000"
      ],
      "text/html": [
       "<div>\n",
       "<style scoped>\n",
       "    .dataframe tbody tr th:only-of-type {\n",
       "        vertical-align: middle;\n",
       "    }\n",
       "\n",
       "    .dataframe tbody tr th {\n",
       "        vertical-align: top;\n",
       "    }\n",
       "\n",
       "    .dataframe thead th {\n",
       "        text-align: right;\n",
       "    }\n",
       "</style>\n",
       "<table border=\"1\" class=\"dataframe\">\n",
       "  <thead>\n",
       "    <tr style=\"text-align: right;\">\n",
       "      <th></th>\n",
       "      <th>peak-rpm</th>\n",
       "      <th>price</th>\n",
       "    </tr>\n",
       "  </thead>\n",
       "  <tbody>\n",
       "    <tr>\n",
       "      <th>peak-rpm</th>\n",
       "      <td>1.000000</td>\n",
       "      <td>-0.101616</td>\n",
       "    </tr>\n",
       "    <tr>\n",
       "      <th>price</th>\n",
       "      <td>-0.101616</td>\n",
       "      <td>1.000000</td>\n",
       "    </tr>\n",
       "  </tbody>\n",
       "</table>\n",
       "</div>"
      ]
     },
     "execution_count": 15,
     "metadata": {},
     "output_type": "execute_result"
    }
   ],
   "execution_count": 15
  },
  {
   "metadata": {},
   "cell_type": "markdown",
   "source": "### Question 2",
   "id": "381071b314e47f3d"
  },
  {
   "metadata": {},
   "cell_type": "markdown",
   "source": [
    "<p><b>Question 2.1</b> Find the correlation between <code>x=\"stroke\"</code> and <code>y=\"price\"</code>.</p>\n",
    "<p>Hint: if you would like to select those columns, use the following syntax:</p>\n",
    " <pre>df[[\"stroke\", \"price\"]]</pre>"
   ],
   "id": "67af83a7924bf226"
  },
  {
   "metadata": {
    "ExecuteTime": {
     "end_time": "2025-08-15T09:44:09.784464Z",
     "start_time": "2025-08-15T09:44:09.779430Z"
    }
   },
   "cell_type": "code",
   "source": "df[[\"stroke\", \"price\"]].corr()",
   "id": "7ec16699927391a5",
   "outputs": [
    {
     "data": {
      "text/plain": [
       "         stroke    price\n",
       "stroke  1.00000  0.08231\n",
       "price   0.08231  1.00000"
      ],
      "text/html": [
       "<div>\n",
       "<style scoped>\n",
       "    .dataframe tbody tr th:only-of-type {\n",
       "        vertical-align: middle;\n",
       "    }\n",
       "\n",
       "    .dataframe tbody tr th {\n",
       "        vertical-align: top;\n",
       "    }\n",
       "\n",
       "    .dataframe thead th {\n",
       "        text-align: right;\n",
       "    }\n",
       "</style>\n",
       "<table border=\"1\" class=\"dataframe\">\n",
       "  <thead>\n",
       "    <tr style=\"text-align: right;\">\n",
       "      <th></th>\n",
       "      <th>stroke</th>\n",
       "      <th>price</th>\n",
       "    </tr>\n",
       "  </thead>\n",
       "  <tbody>\n",
       "    <tr>\n",
       "      <th>stroke</th>\n",
       "      <td>1.00000</td>\n",
       "      <td>0.08231</td>\n",
       "    </tr>\n",
       "    <tr>\n",
       "      <th>price</th>\n",
       "      <td>0.08231</td>\n",
       "      <td>1.00000</td>\n",
       "    </tr>\n",
       "  </tbody>\n",
       "</table>\n",
       "</div>"
      ]
     },
     "execution_count": 16,
     "metadata": {},
     "output_type": "execute_result"
    }
   ],
   "execution_count": 16
  },
  {
   "metadata": {},
   "cell_type": "markdown",
   "source": [
    "<p><b>Question 2.2</b> Given the correlation results between <code>price</code> and <code>stroke</code>, do you expect a linear relationship?</p>\n",
    "<p>Verify your results using the function <code>regplot()</code>.</p>"
   ],
   "id": "4ce8994b6031dfcb"
  },
  {
   "metadata": {
    "ExecuteTime": {
     "end_time": "2025-08-15T09:44:09.968144Z",
     "start_time": "2025-08-15T09:44:09.880843Z"
    }
   },
   "cell_type": "code",
   "source": "sns.regplot(x=\"stroke\", y=\"price\", data=df)",
   "id": "c63d9b30a70e1aa3",
   "outputs": [
    {
     "data": {
      "text/plain": [
       "<Axes: xlabel='stroke', ylabel='price'>"
      ]
     },
     "execution_count": 17,
     "metadata": {},
     "output_type": "execute_result"
    },
    {
     "data": {
      "text/plain": [
       "<Figure size 640x480 with 1 Axes>"
      ],
      "image/png": "[encoded data removed]"
     },
     "metadata": {},
     "output_type": "display_data"
    }
   ],
   "execution_count": 17
  },
  {
   "metadata": {},
   "cell_type": "markdown",
   "source": "### Categorical Variables",
   "id": "4438ea9fb952b625"
  },
  {
   "metadata": {},
   "cell_type": "markdown",
   "source": "<p>These are variables that describe a 'characteristic' of a data unit, and are selected from a small group of categories. The categorical variables can have the type <code>object</code> or <code>int64</code>. A good way to visualize categorical variables is by using boxplots.</p>",
   "id": "e13ee1086f8a1234"
  },
  {
   "metadata": {},
   "cell_type": "markdown",
   "source": "<p>Let's look at the relationship between <code>body-style</code> and <code>price</code>.</p>",
   "id": "83878b9222bd36ed"
  },
  {
   "metadata": {
    "ExecuteTime": {
     "end_time": "2025-08-15T09:44:10.143572Z",
     "start_time": "2025-08-15T09:44:10.024550Z"
    }
   },
   "cell_type": "code",
   "source": "sns.boxplot(x=\"body-style\", y=\"price\", data=df)",
   "id": "8e3ed9bf3f05b552",
   "outputs": [
    {
     "data": {
      "text/plain": [
       "<Axes: xlabel='body-style', ylabel='price'>"
      ]
     },
     "execution_count": 18,
     "metadata": {},
     "output_type": "execute_result"
    },
    {
     "data": {
      "text/plain": [
       "<Figure size 640x480 with 1 Axes>"
      ],
      "image/png": "[encoded data removed]"
     },
     "metadata": {},
     "output_type": "display_data"
    }
   ],
   "execution_count": 18
  },
  {
   "metadata": {},
   "cell_type": "markdown",
   "source": "<p>We see that the distributions of price between the different body-style categories have a significant overlap, so body-style would not be a good predictor of price. Let's examine engine <code>engine-location</code> and <code>price</code>:</p>",
   "id": "b8ff9711951f417b"
  },
  {
   "metadata": {
    "ExecuteTime": {
     "end_time": "2025-08-15T09:44:10.213600Z",
     "start_time": "2025-08-15T09:44:10.152547Z"
    }
   },
   "cell_type": "code",
   "source": "sns.boxplot(x=\"engine-location\", y=\"price\", data=df)",
   "id": "ddecccad8356e5f9",
   "outputs": [
    {
     "data": {
      "text/plain": [
       "<Axes: xlabel='engine-location', ylabel='price'>"
      ]
     },
     "execution_count": 19,
     "metadata": {},
     "output_type": "execute_result"
    },
    {
     "data": {
      "text/plain": [
       "<Figure size 640x480 with 1 Axes>"
      ],
      "image/png": "[encoded data removed]"
     },
     "metadata": {},
     "output_type": "display_data"
    }
   ],
   "execution_count": 19
  },
  {
   "metadata": {},
   "cell_type": "markdown",
   "source": "<p>Here we see that the distribution of price between these two <code>engine-location</code> categories, front and rear, are distinct enough to take <code>engine-location</code> as a potential good predictor of price.</p>",
   "id": "eaef5e434eab245a"
  },
  {
   "metadata": {},
   "cell_type": "markdown",
   "source": "<p>Let's examine <code>drive-wheels</code> and <code>price</code>.</p>",
   "id": "7fd21fdd1679caf3"
  },
  {
   "metadata": {
    "ExecuteTime": {
     "end_time": "2025-08-15T09:44:10.278923Z",
     "start_time": "2025-08-15T09:44:10.220366Z"
    }
   },
   "cell_type": "code",
   "source": "sns.boxplot(x=\"drive-wheels\", y=\"price\", data=df)",
   "id": "649967b3ff1b268e",
   "outputs": [
    {
     "data": {
      "text/plain": [
       "<Axes: xlabel='drive-wheels', ylabel='price'>"
      ]
     },
     "execution_count": 20,
     "metadata": {},
     "output_type": "execute_result"
    },
    {
     "data": {
      "text/plain": [
       "<Figure size 640x480 with 1 Axes>"
      ],
      "image/png": "[encoded data removed]"
     },
     "metadata": {},
     "output_type": "display_data"
    }
   ],
   "execution_count": 20
  },
  {
   "metadata": {},
   "cell_type": "markdown",
   "source": "<p>Here we see that the distribution of price between the different <code>drive-wheels</code> categories differs. As such, <code>drive-wheels</code> could potentially be a predictor of price.</p>",
   "id": "ba7588a1035de1ee"
  },
  {
   "metadata": {},
   "cell_type": "markdown",
   "source": "## 3. Descriptive Statistical Analysis",
   "id": "4b1043933175284d"
  },
  {
   "metadata": {},
   "cell_type": "markdown",
   "source": [
    "<p>Let's first take a look at the variables by utilizing a description method.</p>\n",
    "<p>The <code>describe()</code> function automatically computes basic statistics for all continuous variables. Any <b>NaN</b> values are automatically skipped in these statistics.</p>\n",
    "<p>This will show:</p>\n",
    "<ul>\n",
    "    <li>the count of that variable</li>\n",
    "    <li>the mean</li>\n",
    "    <li>the standard deviation (std)</li>\n",
    "    <li>the minimum value</li>\n",
    "    <li>the IQR (Interquartile Range: 25%, 50% and 75%)</li>\n",
    "    <li>the maximum value</li>\n",
    "<ul>"
   ],
   "id": "7221eccb9f60edd9"
  },
  {
   "metadata": {},
   "cell_type": "markdown",
   "source": "<p>We can apply the method <code>describe()</code> as follows:</p>",
   "id": "674b27a4932a4ef9"
  },
  {
   "metadata": {
    "ExecuteTime": {
     "end_time": "2025-08-15T09:44:10.307328Z",
     "start_time": "2025-08-15T09:44:10.288604Z"
    }
   },
   "cell_type": "code",
   "source": "df.describe()",
   "id": "23846f1d394cd7aa",
   "outputs": [
    {
     "data": {
      "text/plain": [
       "        symboling  normalized-losses  wheel-base      length       width  \\\n",
       "count  201.000000          201.00000  201.000000  201.000000  201.000000   \n",
       "mean     0.840796          122.00000   98.797015    0.837102    0.915126   \n",
       "std      1.254802           31.99625    6.066366    0.059213    0.029187   \n",
       "min     -2.000000           65.00000   86.600000    0.678039    0.837500   \n",
       "25%      0.000000          101.00000   94.500000    0.801538    0.890278   \n",
       "50%      1.000000          122.00000   97.000000    0.832292    0.909722   \n",
       "75%      2.000000          137.00000  102.400000    0.881788    0.925000   \n",
       "max      3.000000          256.00000  120.900000    1.000000    1.000000   \n",
       "\n",
       "           height  curb-weight  engine-size        bore      stroke  \\\n",
       "count  201.000000   201.000000   201.000000  201.000000  197.000000   \n",
       "mean    53.766667  2555.666667   126.875622    3.330692    3.256904   \n",
       "std      2.447822   517.296727    41.546834    0.268072    0.319256   \n",
       "min     47.800000  1488.000000    61.000000    2.540000    2.070000   \n",
       "25%     52.000000  2169.000000    98.000000    3.150000    3.110000   \n",
       "50%     54.100000  2414.000000   120.000000    3.310000    3.290000   \n",
       "75%     55.500000  2926.000000   141.000000    3.580000    3.410000   \n",
       "max     59.800000  4066.000000   326.000000    3.940000    4.170000   \n",
       "\n",
       "       compression-ratio  horsepower     peak-rpm    city-mpg  highway-mpg  \\\n",
       "count         201.000000  201.000000   201.000000  201.000000   201.000000   \n",
       "mean           10.164279  103.405534  5117.665368   25.179104    30.686567   \n",
       "std             4.004965   37.365700   478.113805    6.423220     6.815150   \n",
       "min             7.000000   48.000000  4150.000000   13.000000    16.000000   \n",
       "25%             8.600000   70.000000  4800.000000   19.000000    25.000000   \n",
       "50%             9.000000   95.000000  5125.369458   24.000000    30.000000   \n",
       "75%             9.400000  116.000000  5500.000000   30.000000    34.000000   \n",
       "max            23.000000  262.000000  6600.000000   49.000000    54.000000   \n",
       "\n",
       "              price  city-L/100km      diesel         gas  \n",
       "count    201.000000    201.000000  201.000000  201.000000  \n",
       "mean   13207.129353      9.944145    0.099502    0.900498  \n",
       "std     7947.066342      2.534599    0.300083    0.300083  \n",
       "min     5118.000000      4.795918    0.000000    0.000000  \n",
       "25%     7775.000000      7.833333    0.000000    1.000000  \n",
       "50%    10295.000000      9.791667    0.000000    1.000000  \n",
       "75%    16500.000000     12.368421    0.000000    1.000000  \n",
       "max    45400.000000     18.076923    1.000000    1.000000  "
      ],
      "text/html": [
       "<div>\n",
       "<style scoped>\n",
       "    .dataframe tbody tr th:only-of-type {\n",
       "        vertical-align: middle;\n",
       "    }\n",
       "\n",
       "    .dataframe tbody tr th {\n",
       "        vertical-align: top;\n",
       "    }\n",
       "\n",
       "    .dataframe thead th {\n",
       "        text-align: right;\n",
       "    }\n",
       "</style>\n",
       "<table border=\"1\" class=\"dataframe\">\n",
       "  <thead>\n",
       "    <tr style=\"text-align: right;\">\n",
       "      <th></th>\n",
       "      <th>symboling</th>\n",
       "      <th>normalized-losses</th>\n",
       "      <th>wheel-base</th>\n",
       "      <th>length</th>\n",
       "      <th>width</th>\n",
       "      <th>height</th>\n",
       "      <th>curb-weight</th>\n",
       "      <th>engine-size</th>\n",
       "      <th>bore</th>\n",
       "      <th>stroke</th>\n",
       "      <th>compression-ratio</th>\n",
       "      <th>horsepower</th>\n",
       "      <th>peak-rpm</th>\n",
       "      <th>city-mpg</th>\n",
       "      <th>highway-mpg</th>\n",
       "      <th>price</th>\n",
       "      <th>city-L/100km</th>\n",
       "      <th>diesel</th>\n",
       "      <th>gas</th>\n",
       "    </tr>\n",
       "  </thead>\n",
       "  <tbody>\n",
       "    <tr>\n",
       "      <th>count</th>\n",
       "      <td>201.000000</td>\n",
       "      <td>201.00000</td>\n",
       "      <td>201.000000</td>\n",
       "      <td>201.000000</td>\n",
       "      <td>201.000000</td>\n",
       "      <td>201.000000</td>\n",
       "      <td>201.000000</td>\n",
       "      <td>201.000000</td>\n",
       "      <td>201.000000</td>\n",
       "      <td>197.000000</td>\n",
       "      <td>201.000000</td>\n",
       "      <td>201.000000</td>\n",
       "      <td>201.000000</td>\n",
       "      <td>201.000000</td>\n",
       "      <td>201.000000</td>\n",
       "      <td>201.000000</td>\n",
       "      <td>201.000000</td>\n",
       "      <td>201.000000</td>\n",
       "      <td>201.000000</td>\n",
       "    </tr>\n",
       "    <tr>\n",
       "      <th>mean</th>\n",
       "      <td>0.840796</td>\n",
       "      <td>122.00000</td>\n",
       "      <td>98.797015</td>\n",
       "      <td>0.837102</td>\n",
       "      <td>0.915126</td>\n",
       "      <td>53.766667</td>\n",
       "      <td>2555.666667</td>\n",
       "      <td>126.875622</td>\n",
       "      <td>3.330692</td>\n",
       "      <td>3.256904</td>\n",
       "      <td>10.164279</td>\n",
       "      <td>103.405534</td>\n",
       "      <td>5117.665368</td>\n",
       "      <td>25.179104</td>\n",
       "      <td>30.686567</td>\n",
       "      <td>13207.129353</td>\n",
       "      <td>9.944145</td>\n",
       "      <td>0.099502</td>\n",
       "      <td>0.900498</td>\n",
       "    </tr>\n",
       "    <tr>\n",
       "      <th>std</th>\n",
       "      <td>1.254802</td>\n",
       "      <td>31.99625</td>\n",
       "      <td>6.066366</td>\n",
       "      <td>0.059213</td>\n",
       "      <td>0.029187</td>\n",
       "      <td>2.447822</td>\n",
       "      <td>517.296727</td>\n",
       "      <td>41.546834</td>\n",
       "      <td>0.268072</td>\n",
       "      <td>0.319256</td>\n",
       "      <td>4.004965</td>\n",
       "      <td>37.365700</td>\n",
       "      <td>478.113805</td>\n",
       "      <td>6.423220</td>\n",
       "      <td>6.815150</td>\n",
       "      <td>7947.066342</td>\n",
       "      <td>2.534599</td>\n",
       "      <td>0.300083</td>\n",
       "      <td>0.300083</td>\n",
       "    </tr>\n",
       "    <tr>\n",
       "      <th>min</th>\n",
       "      <td>-2.000000</td>\n",
       "      <td>65.00000</td>\n",
       "      <td>86.600000</td>\n",
       "      <td>0.678039</td>\n",
       "      <td>0.837500</td>\n",
       "      <td>47.800000</td>\n",
       "      <td>1488.000000</td>\n",
       "      <td>61.000000</td>\n",
       "      <td>2.540000</td>\n",
       "      <td>2.070000</td>\n",
       "      <td>7.000000</td>\n",
       "      <td>48.000000</td>\n",
       "      <td>4150.000000</td>\n",
       "      <td>13.000000</td>\n",
       "      <td>16.000000</td>\n",
       "      <td>5118.000000</td>\n",
       "      <td>4.795918</td>\n",
       "      <td>0.000000</td>\n",
       "      <td>0.000000</td>\n",
       "    </tr>\n",
       "    <tr>\n",
       "      <th>25%</th>\n",
       "      <td>0.000000</td>\n",
       "      <td>101.00000</td>\n",
       "      <td>94.500000</td>\n",
       "      <td>0.801538</td>\n",
       "      <td>0.890278</td>\n",
       "      <td>52.000000</td>\n",
       "      <td>2169.000000</td>\n",
       "      <td>98.000000</td>\n",
       "      <td>3.150000</td>\n",
       "      <td>3.110000</td>\n",
       "      <td>8.600000</td>\n",
       "      <td>70.000000</td>\n",
       "      <td>4800.000000</td>\n",
       "      <td>19.000000</td>\n",
       "      <td>25.000000</td>\n",
       "      <td>7775.000000</td>\n",
       "      <td>7.833333</td>\n",
       "      <td>0.000000</td>\n",
       "      <td>1.000000</td>\n",
       "    </tr>\n",
       "    <tr>\n",
       "      <th>50%</th>\n",
       "      <td>1.000000</td>\n",
       "      <td>122.00000</td>\n",
       "      <td>97.000000</td>\n",
       "      <td>0.832292</td>\n",
       "      <td>0.909722</td>\n",
       "      <td>54.100000</td>\n",
       "      <td>2414.000000</td>\n",
       "      <td>120.000000</td>\n",
       "      <td>3.310000</td>\n",
       "      <td>3.290000</td>\n",
       "      <td>9.000000</td>\n",
       "      <td>95.000000</td>\n",
       "      <td>5125.369458</td>\n",
       "      <td>24.000000</td>\n",
       "      <td>30.000000</td>\n",
       "      <td>10295.000000</td>\n",
       "      <td>9.791667</td>\n",
       "      <td>0.000000</td>\n",
       "      <td>1.000000</td>\n",
       "    </tr>\n",
       "    <tr>\n",
       "      <th>75%</th>\n",
       "      <td>2.000000</td>\n",
       "      <td>137.00000</td>\n",
       "      <td>102.400000</td>\n",
       "      <td>0.881788</td>\n",
       "      <td>0.925000</td>\n",
       "      <td>55.500000</td>\n",
       "      <td>2926.000000</td>\n",
       "      <td>141.000000</td>\n",
       "      <td>3.580000</td>\n",
       "      <td>3.410000</td>\n",
       "      <td>9.400000</td>\n",
       "      <td>116.000000</td>\n",
       "      <td>5500.000000</td>\n",
       "      <td>30.000000</td>\n",
       "      <td>34.000000</td>\n",
       "      <td>16500.000000</td>\n",
       "      <td>12.368421</td>\n",
       "      <td>0.000000</td>\n",
       "      <td>1.000000</td>\n",
       "    </tr>\n",
       "    <tr>\n",
       "      <th>max</th>\n",
       "      <td>3.000000</td>\n",
       "      <td>256.00000</td>\n",
       "      <td>120.900000</td>\n",
       "      <td>1.000000</td>\n",
       "      <td>1.000000</td>\n",
       "      <td>59.800000</td>\n",
       "      <td>4066.000000</td>\n",
       "      <td>326.000000</td>\n",
       "      <td>3.940000</td>\n",
       "      <td>4.170000</td>\n",
       "      <td>23.000000</td>\n",
       "      <td>262.000000</td>\n",
       "      <td>6600.000000</td>\n",
       "      <td>49.000000</td>\n",
       "      <td>54.000000</td>\n",
       "      <td>45400.000000</td>\n",
       "      <td>18.076923</td>\n",
       "      <td>1.000000</td>\n",
       "      <td>1.000000</td>\n",
       "    </tr>\n",
       "  </tbody>\n",
       "</table>\n",
       "</div>"
      ]
     },
     "execution_count": 21,
     "metadata": {},
     "output_type": "execute_result"
    }
   ],
   "execution_count": 21
  },
  {
   "metadata": {},
   "cell_type": "markdown",
   "source": "<p>The default setting of <code>describe</code> skips variables of type object. We can apply the method <code>describe()</code> on the variables of type <code>object</code> as follows:",
   "id": "147baf8bd798d902"
  },
  {
   "metadata": {
    "ExecuteTime": {
     "end_time": "2025-08-15T09:44:10.349883Z",
     "start_time": "2025-08-15T09:44:10.340631Z"
    }
   },
   "cell_type": "code",
   "source": "df.describe(include=[\"object\"])",
   "id": "c1e6d479b2517190",
   "outputs": [
    {
     "data": {
      "text/plain": [
       "          make aspiration num-of-doors body-style drive-wheels  \\\n",
       "count      201        201          201        201          201   \n",
       "unique      22          2            2          5            3   \n",
       "top     toyota        std         four      sedan          fwd   \n",
       "freq        32        165          115         94          118   \n",
       "\n",
       "       engine-location engine-type num-of-cylinders fuel-system  \\\n",
       "count              201         201              201         201   \n",
       "unique               2           6                7           8   \n",
       "top              front         ohc             four        mpfi   \n",
       "freq               198         145              157          92   \n",
       "\n",
       "       horsepower-binned  \n",
       "count                200  \n",
       "unique                 3  \n",
       "top                  Low  \n",
       "freq                 115  "
      ],
      "text/html": [
       "<div>\n",
       "<style scoped>\n",
       "    .dataframe tbody tr th:only-of-type {\n",
       "        vertical-align: middle;\n",
       "    }\n",
       "\n",
       "    .dataframe tbody tr th {\n",
       "        vertical-align: top;\n",
       "    }\n",
       "\n",
       "    .dataframe thead th {\n",
       "        text-align: right;\n",
       "    }\n",
       "</style>\n",
       "<table border=\"1\" class=\"dataframe\">\n",
       "  <thead>\n",
       "    <tr style=\"text-align: right;\">\n",
       "      <th></th>\n",
       "      <th>make</th>\n",
       "      <th>aspiration</th>\n",
       "      <th>num-of-doors</th>\n",
       "      <th>body-style</th>\n",
       "      <th>drive-wheels</th>\n",
       "      <th>engine-location</th>\n",
       "      <th>engine-type</th>\n",
       "      <th>num-of-cylinders</th>\n",
       "      <th>fuel-system</th>\n",
       "      <th>horsepower-binned</th>\n",
       "    </tr>\n",
       "  </thead>\n",
       "  <tbody>\n",
       "    <tr>\n",
       "      <th>count</th>\n",
       "      <td>201</td>\n",
       "      <td>201</td>\n",
       "      <td>201</td>\n",
       "      <td>201</td>\n",
       "      <td>201</td>\n",
       "      <td>201</td>\n",
       "      <td>201</td>\n",
       "      <td>201</td>\n",
       "      <td>201</td>\n",
       "      <td>200</td>\n",
       "    </tr>\n",
       "    <tr>\n",
       "      <th>unique</th>\n",
       "      <td>22</td>\n",
       "      <td>2</td>\n",
       "      <td>2</td>\n",
       "      <td>5</td>\n",
       "      <td>3</td>\n",
       "      <td>2</td>\n",
       "      <td>6</td>\n",
       "      <td>7</td>\n",
       "      <td>8</td>\n",
       "      <td>3</td>\n",
       "    </tr>\n",
       "    <tr>\n",
       "      <th>top</th>\n",
       "      <td>toyota</td>\n",
       "      <td>std</td>\n",
       "      <td>four</td>\n",
       "      <td>sedan</td>\n",
       "      <td>fwd</td>\n",
       "      <td>front</td>\n",
       "      <td>ohc</td>\n",
       "      <td>four</td>\n",
       "      <td>mpfi</td>\n",
       "      <td>Low</td>\n",
       "    </tr>\n",
       "    <tr>\n",
       "      <th>freq</th>\n",
       "      <td>32</td>\n",
       "      <td>165</td>\n",
       "      <td>115</td>\n",
       "      <td>94</td>\n",
       "      <td>118</td>\n",
       "      <td>198</td>\n",
       "      <td>145</td>\n",
       "      <td>157</td>\n",
       "      <td>92</td>\n",
       "      <td>115</td>\n",
       "    </tr>\n",
       "  </tbody>\n",
       "</table>\n",
       "</div>"
      ]
     },
     "execution_count": 22,
     "metadata": {},
     "output_type": "execute_result"
    }
   ],
   "execution_count": 22
  },
  {
   "metadata": {},
   "cell_type": "markdown",
   "source": "### Value Counts",
   "id": "2f181cc5303bb336"
  },
  {
   "metadata": {},
   "cell_type": "markdown",
   "source": "<p>Value counts is a good way of understanding how many units of each characteristic/variable we have. We can apply the <code>value_counts()</code> method on the column <code>drive-wheels</code>. Don't forget the method <code>value_counts()</code> only works on pandas series, not pandas dataframes. As a result, we only include one bracket <code>df[\"drive-wheels\"]</code>, not two brackets <code>df[[\"drive-wheels\"]]</code>.</p>",
   "id": "812c3e7c95be87c9"
  },
  {
   "metadata": {
    "ExecuteTime": {
     "end_time": "2025-08-15T09:44:10.585459Z",
     "start_time": "2025-08-15T09:44:10.581802Z"
    }
   },
   "cell_type": "code",
   "source": "df[\"drive-wheels\"].value_counts()",
   "id": "8258806f1e35903f",
   "outputs": [
    {
     "data": {
      "text/plain": [
       "drive-wheels\n",
       "fwd    118\n",
       "rwd     75\n",
       "4wd      8\n",
       "Name: count, dtype: int64"
      ]
     },
     "execution_count": 23,
     "metadata": {},
     "output_type": "execute_result"
    }
   ],
   "execution_count": 23
  },
  {
   "metadata": {},
   "cell_type": "markdown",
   "source": "<p>We can convert the series to a dataframe as follows:</p>",
   "id": "cf0f600c15b439d2"
  },
  {
   "metadata": {
    "ExecuteTime": {
     "end_time": "2025-08-15T09:44:10.691757Z",
     "start_time": "2025-08-15T09:44:10.686920Z"
    }
   },
   "cell_type": "code",
   "source": "df[\"drive-wheels\"].value_counts().to_frame()",
   "id": "e39e04ea9f4e3739",
   "outputs": [
    {
     "data": {
      "text/plain": [
       "              count\n",
       "drive-wheels       \n",
       "fwd             118\n",
       "rwd              75\n",
       "4wd               8"
      ],
      "text/html": [
       "<div>\n",
       "<style scoped>\n",
       "    .dataframe tbody tr th:only-of-type {\n",
       "        vertical-align: middle;\n",
       "    }\n",
       "\n",
       "    .dataframe tbody tr th {\n",
       "        vertical-align: top;\n",
       "    }\n",
       "\n",
       "    .dataframe thead th {\n",
       "        text-align: right;\n",
       "    }\n",
       "</style>\n",
       "<table border=\"1\" class=\"dataframe\">\n",
       "  <thead>\n",
       "    <tr style=\"text-align: right;\">\n",
       "      <th></th>\n",
       "      <th>count</th>\n",
       "    </tr>\n",
       "    <tr>\n",
       "      <th>drive-wheels</th>\n",
       "      <th></th>\n",
       "    </tr>\n",
       "  </thead>\n",
       "  <tbody>\n",
       "    <tr>\n",
       "      <th>fwd</th>\n",
       "      <td>118</td>\n",
       "    </tr>\n",
       "    <tr>\n",
       "      <th>rwd</th>\n",
       "      <td>75</td>\n",
       "    </tr>\n",
       "    <tr>\n",
       "      <th>4wd</th>\n",
       "      <td>8</td>\n",
       "    </tr>\n",
       "  </tbody>\n",
       "</table>\n",
       "</div>"
      ]
     },
     "execution_count": 24,
     "metadata": {},
     "output_type": "execute_result"
    }
   ],
   "execution_count": 24
  },
  {
   "metadata": {},
   "cell_type": "markdown",
   "source": "<p>Let's repeat the above steps but save the results to the dataframe <code>drive_wheels_counts</code> and rename the column <code>drive-wheels</code> to <code>value_counts</code>.</p>",
   "id": "590cb0ae41ccf5dd"
  },
  {
   "metadata": {
    "ExecuteTime": {
     "end_time": "2025-08-15T09:44:10.801034Z",
     "start_time": "2025-08-15T09:44:10.796418Z"
    }
   },
   "cell_type": "code",
   "source": [
    "drive_wheels_counts = df[\"drive-wheels\"].value_counts().to_frame()\n",
    "drive_wheels_counts = drive_wheels_counts.rename(columns={\"drive-wheels\": \"value_counts\"})\n",
    "drive_wheels_counts"
   ],
   "id": "ecb9cbae0d5efb4a",
   "outputs": [
    {
     "data": {
      "text/plain": [
       "              count\n",
       "drive-wheels       \n",
       "fwd             118\n",
       "rwd              75\n",
       "4wd               8"
      ],
      "text/html": [
       "<div>\n",
       "<style scoped>\n",
       "    .dataframe tbody tr th:only-of-type {\n",
       "        vertical-align: middle;\n",
       "    }\n",
       "\n",
       "    .dataframe tbody tr th {\n",
       "        vertical-align: top;\n",
       "    }\n",
       "\n",
       "    .dataframe thead th {\n",
       "        text-align: right;\n",
       "    }\n",
       "</style>\n",
       "<table border=\"1\" class=\"dataframe\">\n",
       "  <thead>\n",
       "    <tr style=\"text-align: right;\">\n",
       "      <th></th>\n",
       "      <th>count</th>\n",
       "    </tr>\n",
       "    <tr>\n",
       "      <th>drive-wheels</th>\n",
       "      <th></th>\n",
       "    </tr>\n",
       "  </thead>\n",
       "  <tbody>\n",
       "    <tr>\n",
       "      <th>fwd</th>\n",
       "      <td>118</td>\n",
       "    </tr>\n",
       "    <tr>\n",
       "      <th>rwd</th>\n",
       "      <td>75</td>\n",
       "    </tr>\n",
       "    <tr>\n",
       "      <th>4wd</th>\n",
       "      <td>8</td>\n",
       "    </tr>\n",
       "  </tbody>\n",
       "</table>\n",
       "</div>"
      ]
     },
     "execution_count": 25,
     "metadata": {},
     "output_type": "execute_result"
    }
   ],
   "execution_count": 25
  },
  {
   "metadata": {},
   "cell_type": "markdown",
   "source": "<p>Now let's rename the index to <code>drive-wheels</code>:</p>",
   "id": "e7d8fb1fb82e2a3"
  },
  {
   "metadata": {
    "ExecuteTime": {
     "end_time": "2025-08-15T09:44:10.919285Z",
     "start_time": "2025-08-15T09:44:10.915235Z"
    }
   },
   "cell_type": "code",
   "source": [
    "drive_wheels_counts.index.name = \"drive-wheels\"\n",
    "drive_wheels_counts"
   ],
   "id": "fa03588f46ec4adb",
   "outputs": [
    {
     "data": {
      "text/plain": [
       "              count\n",
       "drive-wheels       \n",
       "fwd             118\n",
       "rwd              75\n",
       "4wd               8"
      ],
      "text/html": [
       "<div>\n",
       "<style scoped>\n",
       "    .dataframe tbody tr th:only-of-type {\n",
       "        vertical-align: middle;\n",
       "    }\n",
       "\n",
       "    .dataframe tbody tr th {\n",
       "        vertical-align: top;\n",
       "    }\n",
       "\n",
       "    .dataframe thead th {\n",
       "        text-align: right;\n",
       "    }\n",
       "</style>\n",
       "<table border=\"1\" class=\"dataframe\">\n",
       "  <thead>\n",
       "    <tr style=\"text-align: right;\">\n",
       "      <th></th>\n",
       "      <th>count</th>\n",
       "    </tr>\n",
       "    <tr>\n",
       "      <th>drive-wheels</th>\n",
       "      <th></th>\n",
       "    </tr>\n",
       "  </thead>\n",
       "  <tbody>\n",
       "    <tr>\n",
       "      <th>fwd</th>\n",
       "      <td>118</td>\n",
       "    </tr>\n",
       "    <tr>\n",
       "      <th>rwd</th>\n",
       "      <td>75</td>\n",
       "    </tr>\n",
       "    <tr>\n",
       "      <th>4wd</th>\n",
       "      <td>8</td>\n",
       "    </tr>\n",
       "  </tbody>\n",
       "</table>\n",
       "</div>"
      ]
     },
     "execution_count": 26,
     "metadata": {},
     "output_type": "execute_result"
    }
   ],
   "execution_count": 26
  },
  {
   "metadata": {},
   "cell_type": "markdown",
   "source": "<p>We can repeat the above process for the variable <code>engine-location</code>.</p>",
   "id": "c3b8fe515159a1f8"
  },
  {
   "metadata": {
    "ExecuteTime": {
     "end_time": "2025-08-15T09:44:11.050054Z",
     "start_time": "2025-08-15T09:44:11.045346Z"
    }
   },
   "cell_type": "code",
   "source": [
    "engine_loc_counts = df[\"engine-location\"].value_counts().to_frame()\n",
    "engine_loc_counts = engine_loc_counts.rename(columns={\"engine-location\": \"value_counts\"})\n",
    "engine_loc_counts.index.name = \"engine-location\"\n",
    "engine_loc_counts.head(10)"
   ],
   "id": "ed0a0c83c6ccf78",
   "outputs": [
    {
     "data": {
      "text/plain": [
       "                 count\n",
       "engine-location       \n",
       "front              198\n",
       "rear                 3"
      ],
      "text/html": [
       "<div>\n",
       "<style scoped>\n",
       "    .dataframe tbody tr th:only-of-type {\n",
       "        vertical-align: middle;\n",
       "    }\n",
       "\n",
       "    .dataframe tbody tr th {\n",
       "        vertical-align: top;\n",
       "    }\n",
       "\n",
       "    .dataframe thead th {\n",
       "        text-align: right;\n",
       "    }\n",
       "</style>\n",
       "<table border=\"1\" class=\"dataframe\">\n",
       "  <thead>\n",
       "    <tr style=\"text-align: right;\">\n",
       "      <th></th>\n",
       "      <th>count</th>\n",
       "    </tr>\n",
       "    <tr>\n",
       "      <th>engine-location</th>\n",
       "      <th></th>\n",
       "    </tr>\n",
       "  </thead>\n",
       "  <tbody>\n",
       "    <tr>\n",
       "      <th>front</th>\n",
       "      <td>198</td>\n",
       "    </tr>\n",
       "    <tr>\n",
       "      <th>rear</th>\n",
       "      <td>3</td>\n",
       "    </tr>\n",
       "  </tbody>\n",
       "</table>\n",
       "</div>"
      ]
     },
     "execution_count": 27,
     "metadata": {},
     "output_type": "execute_result"
    }
   ],
   "execution_count": 27
  },
  {
   "metadata": {},
   "cell_type": "markdown",
   "source": "<p>After examining the value counts of the engine location, we see that engine location would not be a good predictor variable for the price. This is because we only have three cars with a rear engine and 198 with an engine in the front, so this result is skewed. Thus, we are not able to draw any conclusions about the engine location.</p>",
   "id": "10b995a1cb58dc79"
  },
  {
   "metadata": {},
   "cell_type": "markdown",
   "source": "## 4. Basics of Grouping",
   "id": "f0f832ac20b9dced"
  },
  {
   "metadata": {},
   "cell_type": "markdown",
   "source": "<p>The <code>groupby()</code> method groups data by different categories. The data is grouped based on one or several variables, and analysis is performed on the individual groups. For example, let's group by the variable <code>drive-wheels</code>. We see that there are 3 different categories of drive wheels.</p>",
   "id": "4545080c350ac639"
  },
  {
   "metadata": {
    "ExecuteTime": {
     "end_time": "2025-08-15T09:44:11.171887Z",
     "start_time": "2025-08-15T09:44:11.168210Z"
    }
   },
   "cell_type": "code",
   "source": "df[\"drive-wheels\"].unique()",
   "id": "4d7b90ef77eccd21",
   "outputs": [
    {
     "data": {
      "text/plain": [
       "array(['rwd', 'fwd', '4wd'], dtype=object)"
      ]
     },
     "execution_count": 28,
     "metadata": {},
     "output_type": "execute_result"
    }
   ],
   "execution_count": 28
  },
  {
   "metadata": {},
   "cell_type": "markdown",
   "source": "<p>If we want to know, on average, which type of drive wheel is most valuable, we can group <code>drive-wheels</code> and then average them. We can select the column <code>drive-wheels</code>, <code>body-style</code>, <code>price</code>, then assign it to the variable <code>df_group_1</code>.</p>",
   "id": "6608b9838f39f274"
  },
  {
   "metadata": {
    "ExecuteTime": {
     "end_time": "2025-08-15T09:44:11.233365Z",
     "start_time": "2025-08-15T09:44:11.230054Z"
    }
   },
   "cell_type": "code",
   "source": "df_group_1 = df[[\"drive-wheels\", \"body-style\", \"price\"]]",
   "id": "62258c6d152422d9",
   "outputs": [],
   "execution_count": 29
  },
  {
   "metadata": {},
   "cell_type": "markdown",
   "source": "<p>We can then calculate the average price for each of the different categories of data.</p>",
   "id": "c72106b01c9f24a"
  },
  {
   "metadata": {
    "ExecuteTime": {
     "end_time": "2025-08-15T09:44:11.262730Z",
     "start_time": "2025-08-15T09:44:11.257833Z"
    }
   },
   "cell_type": "code",
   "source": [
    "df_group_1 = df_group_1.groupby([\"drive-wheels\"], as_index=False)[\"price\"].mean()\n",
    "df_group_1"
   ],
   "id": "f29324d5c39577b9",
   "outputs": [
    {
     "data": {
      "text/plain": [
       "  drive-wheels         price\n",
       "0          4wd  10241.000000\n",
       "1          fwd   9244.779661\n",
       "2          rwd  19757.613333"
      ],
      "text/html": [
       "<div>\n",
       "<style scoped>\n",
       "    .dataframe tbody tr th:only-of-type {\n",
       "        vertical-align: middle;\n",
       "    }\n",
       "\n",
       "    .dataframe tbody tr th {\n",
       "        vertical-align: top;\n",
       "    }\n",
       "\n",
       "    .dataframe thead th {\n",
       "        text-align: right;\n",
       "    }\n",
       "</style>\n",
       "<table border=\"1\" class=\"dataframe\">\n",
       "  <thead>\n",
       "    <tr style=\"text-align: right;\">\n",
       "      <th></th>\n",
       "      <th>drive-wheels</th>\n",
       "      <th>price</th>\n",
       "    </tr>\n",
       "  </thead>\n",
       "  <tbody>\n",
       "    <tr>\n",
       "      <th>0</th>\n",
       "      <td>4wd</td>\n",
       "      <td>10241.000000</td>\n",
       "    </tr>\n",
       "    <tr>\n",
       "      <th>1</th>\n",
       "      <td>fwd</td>\n",
       "      <td>9244.779661</td>\n",
       "    </tr>\n",
       "    <tr>\n",
       "      <th>2</th>\n",
       "      <td>rwd</td>\n",
       "      <td>19757.613333</td>\n",
       "    </tr>\n",
       "  </tbody>\n",
       "</table>\n",
       "</div>"
      ]
     },
     "execution_count": 30,
     "metadata": {},
     "output_type": "execute_result"
    }
   ],
   "execution_count": 30
  },
  {
   "metadata": {},
   "cell_type": "markdown",
   "source": [
    "<p>From our data, it seems rear-wheel drive vehicles are, on average, the most expensive, while 4-wheel and front-wheel are approximately the same in price.</p>\n",
    "<p>You can also group by multiple variables. For example, let's group by both <code>drive-wheels</code> and <code>body-style</code>. This groups the dataframe by the unique combination of <code>drive-wheels</code> and <code>body-style</code>. We can store the results in the variable <code>grouped_test_1</code>.</p>"
   ],
   "id": "b7c23552a66fe402"
  },
  {
   "metadata": {
    "ExecuteTime": {
     "end_time": "2025-08-15T09:44:11.305519Z",
     "start_time": "2025-08-15T09:44:11.299081Z"
    }
   },
   "cell_type": "code",
   "source": [
    "df_group_test_1 = df[[\"drive-wheels\", \"body-style\", \"price\"]]\n",
    "grouped_text_1 = df_group_test_1.groupby([\"drive-wheels\", \"body-style\"], as_index=False).mean()\n",
    "grouped_text_1"
   ],
   "id": "ed876150b8fef6b7",
   "outputs": [
    {
     "data": {
      "text/plain": [
       "   drive-wheels   body-style         price\n",
       "0           4wd    hatchback   7603.000000\n",
       "1           4wd        sedan  12647.333333\n",
       "2           4wd        wagon   9095.750000\n",
       "3           fwd  convertible  11595.000000\n",
       "4           fwd      hardtop   8249.000000\n",
       "5           fwd    hatchback   8396.387755\n",
       "6           fwd        sedan   9811.800000\n",
       "7           fwd        wagon   9997.333333\n",
       "8           rwd  convertible  23949.600000\n",
       "9           rwd      hardtop  24202.714286\n",
       "10          rwd    hatchback  14337.777778\n",
       "11          rwd        sedan  21711.833333\n",
       "12          rwd        wagon  16994.222222"
      ],
      "text/html": [
       "<div>\n",
       "<style scoped>\n",
       "    .dataframe tbody tr th:only-of-type {\n",
       "        vertical-align: middle;\n",
       "    }\n",
       "\n",
       "    .dataframe tbody tr th {\n",
       "        vertical-align: top;\n",
       "    }\n",
       "\n",
       "    .dataframe thead th {\n",
       "        text-align: right;\n",
       "    }\n",
       "</style>\n",
       "<table border=\"1\" class=\"dataframe\">\n",
       "  <thead>\n",
       "    <tr style=\"text-align: right;\">\n",
       "      <th></th>\n",
       "      <th>drive-wheels</th>\n",
       "      <th>body-style</th>\n",
       "      <th>price</th>\n",
       "    </tr>\n",
       "  </thead>\n",
       "  <tbody>\n",
       "    <tr>\n",
       "      <th>0</th>\n",
       "      <td>4wd</td>\n",
       "      <td>hatchback</td>\n",
       "      <td>7603.000000</td>\n",
       "    </tr>\n",
       "    <tr>\n",
       "      <th>1</th>\n",
       "      <td>4wd</td>\n",
       "      <td>sedan</td>\n",
       "      <td>12647.333333</td>\n",
       "    </tr>\n",
       "    <tr>\n",
       "      <th>2</th>\n",
       "      <td>4wd</td>\n",
       "      <td>wagon</td>\n",
       "      <td>9095.750000</td>\n",
       "    </tr>\n",
       "    <tr>\n",
       "      <th>3</th>\n",
       "      <td>fwd</td>\n",
       "      <td>convertible</td>\n",
       "      <td>11595.000000</td>\n",
       "    </tr>\n",
       "    <tr>\n",
       "      <th>4</th>\n",
       "      <td>fwd</td>\n",
       "      <td>hardtop</td>\n",
       "      <td>8249.000000</td>\n",
       "    </tr>\n",
       "    <tr>\n",
       "      <th>5</th>\n",
       "      <td>fwd</td>\n",
       "      <td>hatchback</td>\n",
       "      <td>8396.387755</td>\n",
       "    </tr>\n",
       "    <tr>\n",
       "      <th>6</th>\n",
       "      <td>fwd</td>\n",
       "      <td>sedan</td>\n",
       "      <td>9811.800000</td>\n",
       "    </tr>\n",
       "    <tr>\n",
       "      <th>7</th>\n",
       "      <td>fwd</td>\n",
       "      <td>wagon</td>\n",
       "      <td>9997.333333</td>\n",
       "    </tr>\n",
       "    <tr>\n",
       "      <th>8</th>\n",
       "      <td>rwd</td>\n",
       "      <td>convertible</td>\n",
       "      <td>23949.600000</td>\n",
       "    </tr>\n",
       "    <tr>\n",
       "      <th>9</th>\n",
       "      <td>rwd</td>\n",
       "      <td>hardtop</td>\n",
       "      <td>24202.714286</td>\n",
       "    </tr>\n",
       "    <tr>\n",
       "      <th>10</th>\n",
       "      <td>rwd</td>\n",
       "      <td>hatchback</td>\n",
       "      <td>14337.777778</td>\n",
       "    </tr>\n",
       "    <tr>\n",
       "      <th>11</th>\n",
       "      <td>rwd</td>\n",
       "      <td>sedan</td>\n",
       "      <td>21711.833333</td>\n",
       "    </tr>\n",
       "    <tr>\n",
       "      <th>12</th>\n",
       "      <td>rwd</td>\n",
       "      <td>wagon</td>\n",
       "      <td>16994.222222</td>\n",
       "    </tr>\n",
       "  </tbody>\n",
       "</table>\n",
       "</div>"
      ]
     },
     "execution_count": 31,
     "metadata": {},
     "output_type": "execute_result"
    }
   ],
   "execution_count": 31
  },
  {
   "metadata": {},
   "cell_type": "markdown",
   "source": [
    "<p>This grouped data is much easier to visualize when it is made into a pivot table. A pivot table is like an Excel spreadsheet, with one variable along the column and another along the row. We can convert the dataframe to a pivot table using the method <code>pivot()</code> to create a pivot table from the groups.</p>\n",
    "<p>In this case, we will leave the <code>drive-wheels</code> variable as the rows of the table, and pivot <code>body-style</code> to become the columns of the table:</p>"
   ],
   "id": "a6d01c6925e7a204"
  },
  {
   "metadata": {
    "ExecuteTime": {
     "end_time": "2025-08-15T09:44:11.408030Z",
     "start_time": "2025-08-15T09:44:11.400159Z"
    }
   },
   "cell_type": "code",
   "source": [
    "grouped_pivot = grouped_text_1.pivot(index=\"drive-wheels\", columns=\"body-style\")\n",
    "grouped_pivot"
   ],
   "id": "aa445a260b2246d8",
   "outputs": [
    {
     "data": {
      "text/plain": [
       "                   price                                            \\\n",
       "body-style   convertible       hardtop     hatchback         sedan   \n",
       "drive-wheels                                                         \n",
       "4wd                  NaN           NaN   7603.000000  12647.333333   \n",
       "fwd              11595.0   8249.000000   8396.387755   9811.800000   \n",
       "rwd              23949.6  24202.714286  14337.777778  21711.833333   \n",
       "\n",
       "                            \n",
       "body-style           wagon  \n",
       "drive-wheels                \n",
       "4wd            9095.750000  \n",
       "fwd            9997.333333  \n",
       "rwd           16994.222222  "
      ],
      "text/html": [
       "<div>\n",
       "<style scoped>\n",
       "    .dataframe tbody tr th:only-of-type {\n",
       "        vertical-align: middle;\n",
       "    }\n",
       "\n",
       "    .dataframe tbody tr th {\n",
       "        vertical-align: top;\n",
       "    }\n",
       "\n",
       "    .dataframe thead tr th {\n",
       "        text-align: left;\n",
       "    }\n",
       "\n",
       "    .dataframe thead tr:last-of-type th {\n",
       "        text-align: right;\n",
       "    }\n",
       "</style>\n",
       "<table border=\"1\" class=\"dataframe\">\n",
       "  <thead>\n",
       "    <tr>\n",
       "      <th></th>\n",
       "      <th colspan=\"5\" halign=\"left\">price</th>\n",
       "    </tr>\n",
       "    <tr>\n",
       "      <th>body-style</th>\n",
       "      <th>convertible</th>\n",
       "      <th>hardtop</th>\n",
       "      <th>hatchback</th>\n",
       "      <th>sedan</th>\n",
       "      <th>wagon</th>\n",
       "    </tr>\n",
       "    <tr>\n",
       "      <th>drive-wheels</th>\n",
       "      <th></th>\n",
       "      <th></th>\n",
       "      <th></th>\n",
       "      <th></th>\n",
       "      <th></th>\n",
       "    </tr>\n",
       "  </thead>\n",
       "  <tbody>\n",
       "    <tr>\n",
       "      <th>4wd</th>\n",
       "      <td>NaN</td>\n",
       "      <td>NaN</td>\n",
       "      <td>7603.000000</td>\n",
       "      <td>12647.333333</td>\n",
       "      <td>9095.750000</td>\n",
       "    </tr>\n",
       "    <tr>\n",
       "      <th>fwd</th>\n",
       "      <td>11595.0</td>\n",
       "      <td>8249.000000</td>\n",
       "      <td>8396.387755</td>\n",
       "      <td>9811.800000</td>\n",
       "      <td>9997.333333</td>\n",
       "    </tr>\n",
       "    <tr>\n",
       "      <th>rwd</th>\n",
       "      <td>23949.6</td>\n",
       "      <td>24202.714286</td>\n",
       "      <td>14337.777778</td>\n",
       "      <td>21711.833333</td>\n",
       "      <td>16994.222222</td>\n",
       "    </tr>\n",
       "  </tbody>\n",
       "</table>\n",
       "</div>"
      ]
     },
     "execution_count": 32,
     "metadata": {},
     "output_type": "execute_result"
    }
   ],
   "execution_count": 32
  },
  {
   "metadata": {},
   "cell_type": "markdown",
   "source": "<p>Often, we won't have data for some of the pivot cells. We can fill these missing cells with the value 0, but any other value could potentially be used as well. It should be mentioned that missing data is quite a complex subject and is an entire course on its own.</p>",
   "id": "fed9fa78ffadac42"
  },
  {
   "metadata": {
    "ExecuteTime": {
     "end_time": "2025-08-15T09:44:11.535Z",
     "start_time": "2025-08-15T09:44:11.529264Z"
    }
   },
   "cell_type": "code",
   "source": [
    "grouped_pivot = grouped_pivot.fillna(0)\n",
    "grouped_pivot"
   ],
   "id": "33a15d00975a3b51",
   "outputs": [
    {
     "data": {
      "text/plain": [
       "                   price                                            \\\n",
       "body-style   convertible       hardtop     hatchback         sedan   \n",
       "drive-wheels                                                         \n",
       "4wd                  0.0      0.000000   7603.000000  12647.333333   \n",
       "fwd              11595.0   8249.000000   8396.387755   9811.800000   \n",
       "rwd              23949.6  24202.714286  14337.777778  21711.833333   \n",
       "\n",
       "                            \n",
       "body-style           wagon  \n",
       "drive-wheels                \n",
       "4wd            9095.750000  \n",
       "fwd            9997.333333  \n",
       "rwd           16994.222222  "
      ],
      "text/html": [
       "<div>\n",
       "<style scoped>\n",
       "    .dataframe tbody tr th:only-of-type {\n",
       "        vertical-align: middle;\n",
       "    }\n",
       "\n",
       "    .dataframe tbody tr th {\n",
       "        vertical-align: top;\n",
       "    }\n",
       "\n",
       "    .dataframe thead tr th {\n",
       "        text-align: left;\n",
       "    }\n",
       "\n",
       "    .dataframe thead tr:last-of-type th {\n",
       "        text-align: right;\n",
       "    }\n",
       "</style>\n",
       "<table border=\"1\" class=\"dataframe\">\n",
       "  <thead>\n",
       "    <tr>\n",
       "      <th></th>\n",
       "      <th colspan=\"5\" halign=\"left\">price</th>\n",
       "    </tr>\n",
       "    <tr>\n",
       "      <th>body-style</th>\n",
       "      <th>convertible</th>\n",
       "      <th>hardtop</th>\n",
       "      <th>hatchback</th>\n",
       "      <th>sedan</th>\n",
       "      <th>wagon</th>\n",
       "    </tr>\n",
       "    <tr>\n",
       "      <th>drive-wheels</th>\n",
       "      <th></th>\n",
       "      <th></th>\n",
       "      <th></th>\n",
       "      <th></th>\n",
       "      <th></th>\n",
       "    </tr>\n",
       "  </thead>\n",
       "  <tbody>\n",
       "    <tr>\n",
       "      <th>4wd</th>\n",
       "      <td>0.0</td>\n",
       "      <td>0.000000</td>\n",
       "      <td>7603.000000</td>\n",
       "      <td>12647.333333</td>\n",
       "      <td>9095.750000</td>\n",
       "    </tr>\n",
       "    <tr>\n",
       "      <th>fwd</th>\n",
       "      <td>11595.0</td>\n",
       "      <td>8249.000000</td>\n",
       "      <td>8396.387755</td>\n",
       "      <td>9811.800000</td>\n",
       "      <td>9997.333333</td>\n",
       "    </tr>\n",
       "    <tr>\n",
       "      <th>rwd</th>\n",
       "      <td>23949.6</td>\n",
       "      <td>24202.714286</td>\n",
       "      <td>14337.777778</td>\n",
       "      <td>21711.833333</td>\n",
       "      <td>16994.222222</td>\n",
       "    </tr>\n",
       "  </tbody>\n",
       "</table>\n",
       "</div>"
      ]
     },
     "execution_count": 33,
     "metadata": {},
     "output_type": "execute_result"
    }
   ],
   "execution_count": 33
  },
  {
   "metadata": {},
   "cell_type": "markdown",
   "source": "### Question 3",
   "id": "1cc2fb4f090d72ac"
  },
  {
   "metadata": {},
   "cell_type": "markdown",
   "source": "<p>Use the <code>groupby()</code> function to find the average <code>price</code> of each car based on <code>body-style</code>.</p>",
   "id": "b6d06a9f4d8ee4e6"
  },
  {
   "metadata": {
    "ExecuteTime": {
     "end_time": "2025-08-15T09:44:11.681574Z",
     "start_time": "2025-08-15T09:44:11.676078Z"
    }
   },
   "cell_type": "code",
   "source": [
    "df_group_test_2 = df[[\"body-style\", \"price\"]]\n",
    "grouped_text_2 = df_group_test_2.groupby([\"body-style\"], as_index=False).mean()\n",
    "grouped_text_2"
   ],
   "id": "6387d979f057d44f",
   "outputs": [
    {
     "data": {
      "text/plain": [
       "    body-style         price\n",
       "0  convertible  21890.500000\n",
       "1      hardtop  22208.500000\n",
       "2    hatchback   9957.441176\n",
       "3        sedan  14459.755319\n",
       "4        wagon  12371.960000"
      ],
      "text/html": [
       "<div>\n",
       "<style scoped>\n",
       "    .dataframe tbody tr th:only-of-type {\n",
       "        vertical-align: middle;\n",
       "    }\n",
       "\n",
       "    .dataframe tbody tr th {\n",
       "        vertical-align: top;\n",
       "    }\n",
       "\n",
       "    .dataframe thead th {\n",
       "        text-align: right;\n",
       "    }\n",
       "</style>\n",
       "<table border=\"1\" class=\"dataframe\">\n",
       "  <thead>\n",
       "    <tr style=\"text-align: right;\">\n",
       "      <th></th>\n",
       "      <th>body-style</th>\n",
       "      <th>price</th>\n",
       "    </tr>\n",
       "  </thead>\n",
       "  <tbody>\n",
       "    <tr>\n",
       "      <th>0</th>\n",
       "      <td>convertible</td>\n",
       "      <td>21890.500000</td>\n",
       "    </tr>\n",
       "    <tr>\n",
       "      <th>1</th>\n",
       "      <td>hardtop</td>\n",
       "      <td>22208.500000</td>\n",
       "    </tr>\n",
       "    <tr>\n",
       "      <th>2</th>\n",
       "      <td>hatchback</td>\n",
       "      <td>9957.441176</td>\n",
       "    </tr>\n",
       "    <tr>\n",
       "      <th>3</th>\n",
       "      <td>sedan</td>\n",
       "      <td>14459.755319</td>\n",
       "    </tr>\n",
       "    <tr>\n",
       "      <th>4</th>\n",
       "      <td>wagon</td>\n",
       "      <td>12371.960000</td>\n",
       "    </tr>\n",
       "  </tbody>\n",
       "</table>\n",
       "</div>"
      ]
     },
     "execution_count": 34,
     "metadata": {},
     "output_type": "execute_result"
    }
   ],
   "execution_count": 34
  },
  {
   "metadata": {},
   "cell_type": "markdown",
   "source": "### Variables: Drive Wheels and Body Style vs. Price",
   "id": "9a09104155b9e43e"
  },
  {
   "metadata": {},
   "cell_type": "markdown",
   "source": "<p>Let's use a heat map to visualize the relationship between Body Style vs Price.</p>",
   "id": "b537be401ea8c47d"
  },
  {
   "metadata": {
    "ExecuteTime": {
     "end_time": "2025-08-15T09:44:11.912398Z",
     "start_time": "2025-08-15T09:44:11.847409Z"
    }
   },
   "cell_type": "code",
   "source": [
    "plt.pcolor(grouped_pivot, cmap=\"RdBu\")\n",
    "plt.colorbar()"
   ],
   "id": "91599a5dbfc54ab9",
   "outputs": [
    {
     "data": {
      "text/plain": [
       "<matplotlib.colorbar.Colorbar at 0x18015befcb0>"
      ]
     },
     "execution_count": 35,
     "metadata": {},
     "output_type": "execute_result"
    },
    {
     "data": {
      "text/plain": [
       "<Figure size 640x480 with 2 Axes>"
      ],
      "image/png": "[encoded data removed]"
     },
     "metadata": {},
     "output_type": "display_data"
    }
   ],
   "execution_count": 35
  },
  {
   "metadata": {},
   "cell_type": "markdown",
   "source": [
    "<p>The heatmap plots the target variable (price) proportional to colour with respect to the variables <code>drive-wheel</code> and <code>body-style</code> on the vertical and horizontal axis, respectively. This allows us to visualize how the price is related to <code>drive-wheel</code> and <code>body-style</code>.</p>\n",
    "<p>The default labels convey no useful information to us. Let's change that:</p>"
   ],
   "id": "d9dff1714dd8cdad"
  },
  {
   "metadata": {
    "ExecuteTime": {
     "end_time": "2025-08-15T09:44:12.048415Z",
     "start_time": "2025-08-15T09:44:11.984517Z"
    }
   },
   "cell_type": "code",
   "source": [
    "fig, ax = plt.subplots()\n",
    "im = ax.pcolor(grouped_pivot, cmap=\"RdBu\")\n",
    "\n",
    "# label names\n",
    "row_labels = grouped_pivot.columns.levels[1]\n",
    "col_labels = grouped_pivot.index\n",
    "\n",
    "# move ticks and labels to the center\n",
    "ax.set_xticks(np.arange(grouped_pivot.shape[1]) + 0.5, minor=False)\n",
    "ax.set_yticks(np.arange(grouped_pivot.shape[0]) + 0.5, minor=False)\n",
    "\n",
    "# insert labels\n",
    "ax.set_xticklabels(row_labels, minor=False)\n",
    "ax.set_yticklabels(col_labels, minor=False)\n",
    "\n",
    "# rotate labels if too long\n",
    "plt.xticks(rotation=90)\n",
    "fig.colorbar(im)"
   ],
   "id": "9db0300280160c8e",
   "outputs": [
    {
     "data": {
      "text/plain": [
       "<matplotlib.colorbar.Colorbar at 0x1801920e350>"
      ]
     },
     "execution_count": 36,
     "metadata": {},
     "output_type": "execute_result"
    },
    {
     "data": {
      "text/plain": [
       "<Figure size 640x480 with 2 Axes>"
      ],
      "image/png": "[encoded data removed]"
     },
     "metadata": {},
     "output_type": "display_data"
    }
   ],
   "execution_count": 36
  },
  {
   "metadata": {},
   "cell_type": "markdown",
   "source": [
    "<p>Visualization is very important in data science, and Python visualization packages provide great freedom. We will go more in-depth in a separate Python visualizations course.</p>\n",
    "<p>The main question we want to answer in this module is, \"What are the main characteristics which have the most impact on the car price?\".</p>\n",
    "<p>To get a better measure of the important characteristics, we look at the correlation of these variables with the car price. In other words: how is the car price dependent on this variable?</p>"
   ],
   "id": "2f716f81232e2d25"
  },
  {
   "metadata": {},
   "cell_type": "markdown",
   "source": "## 5. Correlation and Causation",
   "id": "dea65657f565b69d"
  },
  {
   "metadata": {},
   "cell_type": "markdown",
   "source": [
    "<p><b>Correlation</b>: a measure of the extent of interdependence between variables.</p>\n",
    "<p><b>Causation</b>: the relationship between cause and effect between two variables.</p>\n",
    "<p>It is important to know the difference between these two. Correlation does not imply causation. Determining correlation is much simpler  the determining causation as causation may require independent experimentation.</p>"
   ],
   "id": "a08e6fcb8d6b28eb"
  },
  {
   "metadata": {},
   "cell_type": "markdown",
   "source": "### Pearson Correlation",
   "id": "12d7edf3b30d6be4"
  },
  {
   "metadata": {},
   "cell_type": "markdown",
   "source": [
    "<p>The Pearson Correlation measures the linear dependence between two variables X and Y.</p>\n",
    "<p>The resulting coefficient is a value between -1 and 1 inclusive, where:</p>\n",
    "<ul>\n",
    "    <li><b>1</b>: Perfect positive linear correlation.</li>\n",
    "    <li><b>0</b>: No linear correlation, the two variables most likely do not affect each other.</li>\n",
    "    <li><b>-1</b>: Perfect negative linear correlation.</li>\n",
    "</ul>\n",
    "<p>Pearson Correlation is the default method of the function <code>corr()</code>. Like before, we can calculate the Pearson Correlation of the of the <code>int64</code> or <code>float64</code> variables.</p>"
   ],
   "id": "ada541cecb0271ce"
  },
  {
   "metadata": {},
   "cell_type": "markdown",
   "source": "<p>Sometimes we would like to know the significance of the correlation estimate.</p>",
   "id": "a07807e4a9b0cce6"
  },
  {
   "metadata": {},
   "cell_type": "markdown",
   "source": "### P-value",
   "id": "76acc83a93b6d92c"
  },
  {
   "metadata": {},
   "cell_type": "markdown",
   "source": [
    "<p>What is this P-value? The P-value is the probability value that the correlation between these two variables is statistically significant. Normally, we choose a significance level of 0.05, which means that we are 95% confident that the correlation between the variables is significant.</p>\n",
    "<p>By convention, when the p-value is:</p>\n",
    "<ul>\n",
    "    <li><b>&lt;0.001:</b> We say there is strong evidence that the correlation is significant.</li>\n",
    "    <li><b>&lt;0.05:</b> There is moderate evidence that the correlation is significant.</li>\n",
    "    <li><b>&lt;0.1:</b> There is weak evidence that the correlation is significant.</li>\n",
    "    <li><b>&gt;0.1:</b> There is no evidence that the correlation is significant.</li>\n",
    "</ul>"
   ],
   "id": "7f38dcecf9f39d1"
  },
  {
   "metadata": {},
   "cell_type": "markdown",
   "source": "### Wheel-Base vs. Price",
   "id": "44bf65706893898b"
  },
  {
   "metadata": {},
   "cell_type": "markdown",
   "source": "<p>Let's calculate the Pearson Correlation Coefficient and P-value of <code>wheel-base</code> and <code>price</code>.</p>",
   "id": "74415b9447ff71f2"
  },
  {
   "metadata": {
    "ExecuteTime": {
     "end_time": "2025-08-15T09:44:12.088479Z",
     "start_time": "2025-08-15T09:44:12.085272Z"
    }
   },
   "cell_type": "code",
   "source": [
    "pearson_coef, p_value = stats.pearsonr(df[\"wheel-base\"], df[\"price\"])\n",
    "print(f\"The Pearson Correlation Coefficient is {pearson_coef} with a P-value of {p_value}.\")"
   ],
   "id": "bdaef96e7c7c4c7e",
   "outputs": [
    {
     "name": "stdout",
     "output_type": "stream",
     "text": [
      "The Pearson Correlation Coefficient is 0.584641822265508 with a P-value of 8.076488270732847e-20.\n"
     ]
    }
   ],
   "execution_count": 37
  },
  {
   "metadata": {},
   "cell_type": "markdown",
   "source": "#### Conclusion",
   "id": "a56f9917e05c3d68"
  },
  {
   "metadata": {},
   "cell_type": "markdown",
   "source": "<p>Since the p-value is &lt; 0.001, the correlation between <code>wheel-base</code> and <code>price</code> is statistically significant, although the linear relationship isn't extremely strong (~0.585).</p>",
   "id": "ed07071a93c17e12"
  },
  {
   "metadata": {},
   "cell_type": "markdown",
   "source": "### Horsepower vs. Price",
   "id": "df0cbb79c4b254b6"
  },
  {
   "metadata": {},
   "cell_type": "markdown",
   "source": "<p>Let's calculate the Pearson Correlation Coefficient and P-value of <code>horsepower</code> and <code>price</code>.</p>",
   "id": "e18698931bc1affa"
  },
  {
   "metadata": {
    "ExecuteTime": {
     "end_time": "2025-08-15T09:44:12.137789Z",
     "start_time": "2025-08-15T09:44:12.134199Z"
    }
   },
   "cell_type": "code",
   "source": [
    "pearson_coef, p_value = stats.pearsonr(df[\"horsepower\"], df[\"price\"])\n",
    "print(f\"The Pearson Correlation Coefficient is {pearson_coef} with a P-value of {p_value}.\")"
   ],
   "id": "880dc82121044d5d",
   "outputs": [
    {
     "name": "stdout",
     "output_type": "stream",
     "text": [
      "The Pearson Correlation Coefficient is 0.8095745670036562 with a P-value of 6.369057428259638e-48.\n"
     ]
    }
   ],
   "execution_count": 38
  },
  {
   "metadata": {},
   "cell_type": "markdown",
   "source": "#### Conclusion",
   "id": "88cbba09d16c4b45"
  },
  {
   "metadata": {},
   "cell_type": "markdown",
   "source": "<p>Since the p-value is &lt; 0.001, the correlation between <code>horsepower</code> and <code>price</code> is statistically significant, and the linear relationship is quite strong (~0.809, close to 1).</p>",
   "id": "1898192e8e751a94"
  },
  {
   "metadata": {},
   "cell_type": "markdown",
   "source": "### Length vs. Price",
   "id": "ab869b73d4b39b3b"
  },
  {
   "metadata": {},
   "cell_type": "markdown",
   "source": "<p>Let's calculate the Pearson Correlation Coefficient and P-value of <code>length</code> and <code>price</code>.</p>",
   "id": "d0232642719250d2"
  },
  {
   "metadata": {
    "ExecuteTime": {
     "end_time": "2025-08-15T09:44:12.165539Z",
     "start_time": "2025-08-15T09:44:12.162361Z"
    }
   },
   "cell_type": "code",
   "source": [
    "pearson_coef, p_value = stats.pearsonr(df[\"length\"], df[\"price\"])\n",
    "print(f\"The Pearson Correlation Coefficient is {pearson_coef} with a P-value of {p_value}.\")"
   ],
   "id": "92f9538ad420e9f3",
   "outputs": [
    {
     "name": "stdout",
     "output_type": "stream",
     "text": [
      "The Pearson Correlation Coefficient is 0.6906283804483639 with a P-value of 8.016477466159293e-30.\n"
     ]
    }
   ],
   "execution_count": 39
  },
  {
   "metadata": {},
   "cell_type": "markdown",
   "source": "#### Conclusion",
   "id": "9f3ad842b2da1182"
  },
  {
   "metadata": {},
   "cell_type": "markdown",
   "source": "<p>Since the p-value is &lt; 0.001, the correlation between <code>length</code> and <code>price</code> is statistically significant, and the linear relationship is moderately strong (~0.691).</p>",
   "id": "760ee485eb8c3d45"
  },
  {
   "metadata": {},
   "cell_type": "markdown",
   "source": "### Width vs. Price",
   "id": "bfca7249135bb56b"
  },
  {
   "metadata": {},
   "cell_type": "markdown",
   "source": "<p>Let's calculate the Pearson Correlation Coefficient and P-value of <code>width</code> and <code>price</code>.</p>",
   "id": "5144f3d832eaa1b2"
  },
  {
   "metadata": {
    "ExecuteTime": {
     "end_time": "2025-08-15T09:44:12.187242Z",
     "start_time": "2025-08-15T09:44:12.183713Z"
    }
   },
   "cell_type": "code",
   "source": [
    "pearson_coef, p_value = stats.pearsonr(df[\"width\"], df[\"price\"])\n",
    "print(f\"The Pearson Correlation Coefficient is {pearson_coef} with a P-value of {p_value}.\")"
   ],
   "id": "9a93f6dee92bad24",
   "outputs": [
    {
     "name": "stdout",
     "output_type": "stream",
     "text": [
      "The Pearson Correlation Coefficient is 0.7512653440522675 with a P-value of 9.200335510480586e-38.\n"
     ]
    }
   ],
   "execution_count": 40
  },
  {
   "metadata": {},
   "cell_type": "markdown",
   "source": "<p>Since the p-value is &lt; 0.001, the correlation between <code>width</code> and <code>price</code> is statistically significant, and the linear relationship is quite strong (~0.751).</p>",
   "id": "e326cbfe78941c68"
  },
  {
   "metadata": {},
   "cell_type": "markdown",
   "source": "### Curb-Weight vs. Price",
   "id": "9c4c8853024372c7"
  },
  {
   "metadata": {},
   "cell_type": "markdown",
   "source": "<p>Let's calculate the Pearson Correlation Coefficient and P-value of <code>curb-weight</code> and <code>price</code>.</p>",
   "id": "5e07a5a77fe5f08b"
  },
  {
   "metadata": {
    "ExecuteTime": {
     "end_time": "2025-08-15T09:44:12.209299Z",
     "start_time": "2025-08-15T09:44:12.206011Z"
    }
   },
   "cell_type": "code",
   "source": [
    "pearson_coef, p_value = stats.pearsonr(df[\"curb-weight\"], df[\"price\"])\n",
    "print(f\"The Pearson Correlation Coefficient is {pearson_coef} with a P-value of {p_value}.\")"
   ],
   "id": "e34959373268d9a3",
   "outputs": [
    {
     "name": "stdout",
     "output_type": "stream",
     "text": [
      "The Pearson Correlation Coefficient is 0.8344145257702844 with a P-value of 2.189577238893924e-53.\n"
     ]
    }
   ],
   "execution_count": 41
  },
  {
   "metadata": {},
   "cell_type": "markdown",
   "source": "#### Conclusion",
   "id": "ca9c4ca39d6b0fca"
  },
  {
   "metadata": {},
   "cell_type": "markdown",
   "source": "<p>Since the p-value is &lt; 0.001, the correlation between <code>curb-weight</code> and <code>price</code> is statistically significant, and the linear relationship is quite strong (~0.834).</p>",
   "id": "89b79094120c76b7"
  },
  {
   "metadata": {},
   "cell_type": "markdown",
   "source": "### Engine-Size vs. Price",
   "id": "b2ad76d077c4b993"
  },
  {
   "metadata": {},
   "cell_type": "markdown",
   "source": "<p>Let's calculate the Pearson Correlation Coefficient and P-value of <code>engine-size</code> and <code>price</code>.</p>",
   "id": "75427a5486a1e70e"
  },
  {
   "metadata": {
    "ExecuteTime": {
     "end_time": "2025-08-15T09:44:12.228596Z",
     "start_time": "2025-08-15T09:44:12.225494Z"
    }
   },
   "cell_type": "code",
   "source": [
    "pearson_coef, p_value = stats.pearsonr(df[\"engine-size\"], df[\"price\"])\n",
    "print(f\"The Pearson Correlation Coefficient is {pearson_coef} with a P-value of {p_value}.\")"
   ],
   "id": "e40e8478eeadd499",
   "outputs": [
    {
     "name": "stdout",
     "output_type": "stream",
     "text": [
      "The Pearson Correlation Coefficient is 0.8723351674455184 with a P-value of 9.26549162219869e-64.\n"
     ]
    }
   ],
   "execution_count": 42
  },
  {
   "metadata": {},
   "cell_type": "markdown",
   "source": "#### Conclusion",
   "id": "9ad52ed67dce5a94"
  },
  {
   "metadata": {},
   "cell_type": "markdown",
   "source": "<p>Since the p-value is &lt; 0.001, the correlation between <code>engine-size</code> and <code>price</code> is statistically significant, and the linear relationship is very strong (~0.872).</p>",
   "id": "3866cf45a46f5ff1"
  },
  {
   "metadata": {},
   "cell_type": "markdown",
   "source": "### Bore vs. Price",
   "id": "d8e32bd9f702a29f"
  },
  {
   "metadata": {},
   "cell_type": "markdown",
   "source": "<p>Let's calculate the Pearson Correlation Coefficient and P-value of <code>bore</code> and <code>price</code>.</p>",
   "id": "41a4807873e9d265"
  },
  {
   "metadata": {
    "ExecuteTime": {
     "end_time": "2025-08-15T09:44:12.247679Z",
     "start_time": "2025-08-15T09:44:12.244456Z"
    }
   },
   "cell_type": "code",
   "source": [
    "pearson_coef, p_value = stats.pearsonr(df[\"bore\"], df[\"price\"])\n",
    "print(f\"The Pearson Correlation Coefficient is {pearson_coef} with a P-value of {p_value}.\")"
   ],
   "id": "e61413293ff4c8b9",
   "outputs": [
    {
     "name": "stdout",
     "output_type": "stream",
     "text": [
      "The Pearson Correlation Coefficient is 0.5431553832626603 with a P-value of 8.049189483935274e-17.\n"
     ]
    }
   ],
   "execution_count": 43
  },
  {
   "metadata": {},
   "cell_type": "markdown",
   "source": "#### Conclusion",
   "id": "c861301510f4d1fc"
  },
  {
   "metadata": {},
   "cell_type": "markdown",
   "source": "<p>Since the p-value is &lt; 0.001, the correlation between <code>bore</code> and <code>price</code> is statistically significant, but the linear relationship is only moderate (~0.521).</p>",
   "id": "2373783720010f9"
  },
  {
   "metadata": {},
   "cell_type": "markdown",
   "source": "<p>We can relate the process for each <code>city-mpg</code> and <code>highway-mpg</code>.</p>",
   "id": "606d3eb48ef542d3"
  },
  {
   "metadata": {},
   "cell_type": "markdown",
   "source": "### City-mpg vs. Price",
   "id": "287afe682c7038c0"
  },
  {
   "metadata": {
    "ExecuteTime": {
     "end_time": "2025-08-15T09:44:12.264924Z",
     "start_time": "2025-08-15T09:44:12.261748Z"
    }
   },
   "cell_type": "code",
   "source": [
    "pearson_coef, p_value = stats.pearsonr(df[\"city-mpg\"], df[\"price\"])\n",
    "print(f\"The Pearson Correlation Coefficient is {pearson_coef} with a P-value of {p_value}.\")"
   ],
   "id": "beccf119816dd7ef",
   "outputs": [
    {
     "name": "stdout",
     "output_type": "stream",
     "text": [
      "The Pearson Correlation Coefficient is -0.686571006784468 with a P-value of 2.3211320655675065e-29.\n"
     ]
    }
   ],
   "execution_count": 44
  },
  {
   "metadata": {},
   "cell_type": "markdown",
   "source": "#### Conclusion",
   "id": "a1093ac5fb234142"
  },
  {
   "metadata": {},
   "cell_type": "markdown",
   "source": "<p>Since the p-value is &lt; 0.001, the correlation between <code>city-mpg</code> and <code>price</code> is statistically significant, and the coefficient of about -0.687 shows that the relationship is negative and moderately strong.</p>",
   "id": "a5648396ac32f11"
  },
  {
   "metadata": {},
   "cell_type": "markdown",
   "source": "### Highway-mpg vs. Price",
   "id": "466b583a24478553"
  },
  {
   "metadata": {
    "ExecuteTime": {
     "end_time": "2025-08-15T09:44:12.282874Z",
     "start_time": "2025-08-15T09:44:12.279678Z"
    }
   },
   "cell_type": "code",
   "source": [
    "pearson_coef, p_value = stats.pearsonr(df[\"highway-mpg\"], df[\"price\"])\n",
    "print(f\"The Pearson Correlation Coefficient is {pearson_coef} with a P-value of {p_value}.\")"
   ],
   "id": "5bd288f23e0ca3f3",
   "outputs": [
    {
     "name": "stdout",
     "output_type": "stream",
     "text": [
      "The Pearson Correlation Coefficient is -0.7046922650589531 with a P-value of 1.749547114447559e-31.\n"
     ]
    }
   ],
   "execution_count": 45
  },
  {
   "metadata": {},
   "cell_type": "markdown",
   "source": "#### Conclusion",
   "id": "33a452fdbc062204"
  },
  {
   "metadata": {},
   "cell_type": "markdown",
   "source": "<p>Since the p-value is &lt; 0.001, the correlation between <code>highway-mpg</code> and <code>price</code> is statistically significant, and the coefficient of about -0.705 shows that the relationship is negative and moderately strong.</p>",
   "id": "e0284d4a8c894393"
  },
  {
   "metadata": {},
   "cell_type": "markdown",
   "source": "### Conclusion: Important Variables",
   "id": "e3754b5e0804afd7"
  },
  {
   "metadata": {},
   "cell_type": "markdown",
   "source": [
    "<p>We now have a better idea of what our data looks like and which variables are important to take into account when predicting the car price. We have narrowed it down to the following variables:</p>\n",
    "<p>Continuous numerical variables:</p>\n",
    "<ul>\n",
    "    <li>Length</li>\n",
    "    <li>Width</li>\n",
    "    <li>Curb-weight</li>\n",
    "    <li>Engine-size</li>\n",
    "    <li>Horsepower</li>\n",
    "    <li>City-mpg</li>\n",
    "    <li>Highway-mpg</li>\n",
    "    <li>Wheel-base</li>\n",
    "    <li>Bore</li>\n",
    "</ul>\n",
    "<p>Categorical variables:</p>\n",
    "<ul>\n",
    "    <li>Drive-wheels</li>\n",
    "</ul>\n",
    "<p>As we now move into building machine learning models to automate our analysis, feeding the model with variables that meaningfully affect our target variable will improve our model's prediction performance.</p>"
   ],
   "id": "592c42bc4df7ce94"
  },
  {
   "metadata": {},
   "cell_type": "markdown",
   "source": [
    "****\n",
    "This is the end of the file.\n",
    "****"
   ],
   "id": "4c8a771c3066d785"
  }
 ],
 "metadata": {
  "kernelspec": {
   "display_name": "Python 3",
   "language": "python",
   "name": "python3"
  },
  "language_info": {
   "codemirror_mode": {
    "name": "ipython",
    "version": 2
   },
   "file_extension": ".py",
   "mimetype": "text/x-python",
   "name": "python",
   "nbconvert_exporter": "python",
   "pygments_lexer": "ipython2",
   "version": "2.7.6"
  }
 },
 "nbformat": 4,
 "nbformat_minor": 5
}
