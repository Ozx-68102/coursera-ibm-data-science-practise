{
 "cells": [
  {
   "metadata": {},
   "cell_type": "markdown",
   "source": "# Practice Project - Insurance Cost Analysis",
   "id": "67f8f83b97065431"
  },
  {
   "metadata": {},
   "cell_type": "markdown",
   "source": [
    "<p>In this project, you have to perform analytics operations on an insurance database that uses the below-mentioned parameters.</p>\n",
    "<table style=\"border-collapse: collapse; border: 1px solid; text-align: center;\">\n",
    "    <thead>\n",
    "    <tr>\n",
    "        <th style=\"border: 1px solid; text-align: left;\">Parameter</th>\n",
    "        <th style=\"border: 1px solid; text-align: left;\">Description</th>\n",
    "        <th style=\"border: 1px solid; text-align: left;\">Content Type</th>\n",
    "    </tr>\n",
    "    </thead>\n",
    "    <tbody>\n",
    "    <tr>\n",
    "        <td style=\"border: 1px solid; text-align: left;\">age</td>\n",
    "        <td style=\"border: 1px solid; text-align: left;\">Age in years</td>\n",
    "        <td style=\"border: 1px solid; text-align: left;\">integer</td>\n",
    "    </tr>\n",
    "    <tr>\n",
    "        <td style=\"border: 1px solid; text-align: left;\">gender</td>\n",
    "        <td style=\"border: 1px solid; text-align: left;\">Male or Female</td>\n",
    "        <td style=\"border: 1px solid; text-align: left;\">integer (1 or 2)</td>\n",
    "    </tr>\n",
    "    <tr>\n",
    "        <td style=\"border: 1px solid; text-align: left;\">bmi</td>\n",
    "        <td style=\"border: 1px solid; text-align: left;\">Body mass index</td>\n",
    "        <td style=\"border: 1px solid; text-align: left;\">float</td>\n",
    "    </tr>\n",
    "    <tr>\n",
    "        <td style=\"border: 1px solid; text-align: left;\">no_of_children</td>\n",
    "        <td style=\"border: 1px solid; text-align: left;\">Number of children</td>\n",
    "        <td style=\"border: 1px solid; text-align: left;\">integer</td>\n",
    "    </tr>\n",
    "    <tr>\n",
    "        <td style=\"border: 1px solid; text-align: left;\">smoker</td>\n",
    "        <td style=\"border: 1px solid; text-align: left;\">Whether smoker or not</td>\n",
    "        <td style=\"border: 1px solid; text-align: left;\">integer (0 or 1)</td>\n",
    "    </tr>\n",
    "    <tr>\n",
    "        <td style=\"border: 1px solid; text-align: left;\">region</td>\n",
    "        <td style=\"border: 1px solid; text-align: left;\">Which US region - NW, NE, SW, SE</td>\n",
    "        <td style=\"border: 1px solid; text-align: left;\">integer (1, 2, 3 or 4 respectively)</td>\n",
    "    </tr>\n",
    "    <tr>\n",
    "        <td style=\"border: 1px solid; text-align: left;\">charges</td>\n",
    "        <td style=\"border: 1px solid; text-align: left;\">Annual Insurance charges in USD</td>\n",
    "        <td style=\"border: 1px solid; text-align: left;\">float</td>\n",
    "    </tr>\n",
    "    </tbody>\n",
    "</table>"
   ],
   "id": "f59180352a8e99da"
  },
  {
   "metadata": {},
   "cell_type": "markdown",
   "source": "## Setup",
   "id": "3391a66f26750e54"
  },
  {
   "metadata": {},
   "cell_type": "markdown",
   "source": "### Importing Required Libraries",
   "id": "bd63d2a27edbd797"
  },
  {
   "metadata": {
    "ExecuteTime": {
     "end_time": "2025-08-22T03:46:30.237222Z",
     "start_time": "2025-08-22T03:46:30.117538Z"
    }
   },
   "cell_type": "code",
   "source": [
    "from sklearn.preprocessing import StandardScaler, PolynomialFeatures\n",
    "from sklearn.linear_model import LinearRegression, Ridge\n",
    "from sklearn.model_selection import train_test_split\n",
    "from sklearn.pipeline import Pipeline\n",
    "from sklearn.metrics import r2_score\n",
    "\n",
    "import matplotlib.pyplot as plt\n",
    "import seaborn as sns\n",
    "import pandas as pd\n",
    "import numpy as np\n",
    "import requests\n",
    "import os\n",
    "\n",
    "%matplotlib inline"
   ],
   "id": "ebb376d3c3348f34",
   "outputs": [],
   "execution_count": 1
  },
  {
   "metadata": {},
   "cell_type": "markdown",
   "source": "### Download the dataset",
   "id": "73bf61f33890c19d"
  },
  {
   "metadata": {
    "ExecuteTime": {
     "end_time": "2025-08-22T03:46:30.248712Z",
     "start_time": "2025-08-22T03:46:30.243945Z"
    }
   },
   "cell_type": "code",
   "source": [
    "dir_path = os.path.join(\".\", \"data\")\n",
    "os.makedirs(dir_path, exist_ok=True)\n",
    "\n",
    "def download_file(url: str) -> str:\n",
    "    with requests.get(url=url, stream=True) as response:\n",
    "        response.raise_for_status()\n",
    "\n",
    "        filepath = os.path.join(dir_path, url.rsplit(\"/\", 1)[-1])\n",
    "        total_size = int(response.headers.get(\"Content-Length\", 0))\n",
    "        chunk_size = 1024 ** 2\n",
    "        download_size = 0\n",
    "\n",
    "        with open(filepath, \"wb\") as file:\n",
    "            for chunk in response.iter_content(chunk_size=chunk_size):\n",
    "                if not chunk:\n",
    "                    continue\n",
    "\n",
    "                file.write(chunk)\n",
    "                download_size += len(chunk)\n",
    "\n",
    "                if total_size > 0:\n",
    "                    progress = (download_size / total_size) * 100\n",
    "                    print(f\"Downloading: {progress:.2f}% ({download_size} / {total_size} bytes)\")\n",
    "\n",
    "    print(\"Download Complete.\")\n",
    "    return filepath"
   ],
   "id": "7cb9e4100739c9ce",
   "outputs": [],
   "execution_count": 2
  },
  {
   "metadata": {
    "ExecuteTime": {
     "end_time": "2025-08-22T03:46:30.258858Z",
     "start_time": "2025-08-22T03:46:30.253012Z"
    }
   },
   "cell_type": "code",
   "source": "data_url = \"https://cf-courses-data.s3.us.cloud-object-storage.appdomain.cloud/IBMDeveloperSkillsNetwork-DA0101EN-Coursera/medical_insurance_dataset.csv\"",
   "id": "43ebeedc2173866b",
   "outputs": [],
   "execution_count": 3
  },
  {
   "metadata": {},
   "cell_type": "markdown",
   "source": "## Task 1 - Import the dataset",
   "id": "b3010348df8a8d28"
  },
  {
   "metadata": {},
   "cell_type": "markdown",
   "source": "<p>Import the dataset into a <code>pandas.DataFrame</code>. Note that there are currently no headers in the CSV file. And print the first 10 rows of the dataframe to confirm successful loading.</p>",
   "id": "d06aa615d50fee2d"
  },
  {
   "metadata": {
    "ExecuteTime": {
     "end_time": "2025-08-22T03:46:33.544033Z",
     "start_time": "2025-08-22T03:46:30.264512Z"
    }
   },
   "cell_type": "code",
   "source": "filename = download_file(data_url)",
   "id": "d9e122290cfaa6b",
   "outputs": [
    {
     "name": "stdout",
     "output_type": "stream",
     "text": [
      "Downloading: 100.00% (78536 / 78536 bytes)\n",
      "Download Complete.\n"
     ]
    }
   ],
   "execution_count": 4
  },
  {
   "metadata": {
    "ExecuteTime": {
     "end_time": "2025-08-22T03:46:33.603561Z",
     "start_time": "2025-08-22T03:46:33.593806Z"
    }
   },
   "cell_type": "code",
   "source": [
    "df = pd.read_csv(filename, header=None)\n",
    "df.head(10)"
   ],
   "id": "d19a5a642100ceb0",
   "outputs": [
    {
     "data": {
      "text/plain": [
       "    0  1       2  3  4  5            6\n",
       "0  19  1  27.900  0  1  3  16884.92400\n",
       "1  18  2  33.770  1  0  4   1725.55230\n",
       "2  28  2  33.000  3  0  4   4449.46200\n",
       "3  33  2  22.705  0  0  1  21984.47061\n",
       "4  32  2  28.880  0  0  1   3866.85520\n",
       "5  31  1  25.740  0  ?  4   3756.62160\n",
       "6  46  1  33.440  1  0  4   8240.58960\n",
       "7  37  1  27.740  3  0  1   7281.50560\n",
       "8  37  2  29.830  2  0  2   6406.41070\n",
       "9  60  1  25.840  0  0  1  28923.13692"
      ],
      "text/html": [
       "<div>\n",
       "<style scoped>\n",
       "    .dataframe tbody tr th:only-of-type {\n",
       "        vertical-align: middle;\n",
       "    }\n",
       "\n",
       "    .dataframe tbody tr th {\n",
       "        vertical-align: top;\n",
       "    }\n",
       "\n",
       "    .dataframe thead th {\n",
       "        text-align: right;\n",
       "    }\n",
       "</style>\n",
       "<table border=\"1\" class=\"dataframe\">\n",
       "  <thead>\n",
       "    <tr style=\"text-align: right;\">\n",
       "      <th></th>\n",
       "      <th>0</th>\n",
       "      <th>1</th>\n",
       "      <th>2</th>\n",
       "      <th>3</th>\n",
       "      <th>4</th>\n",
       "      <th>5</th>\n",
       "      <th>6</th>\n",
       "    </tr>\n",
       "  </thead>\n",
       "  <tbody>\n",
       "    <tr>\n",
       "      <th>0</th>\n",
       "      <td>19</td>\n",
       "      <td>1</td>\n",
       "      <td>27.900</td>\n",
       "      <td>0</td>\n",
       "      <td>1</td>\n",
       "      <td>3</td>\n",
       "      <td>16884.92400</td>\n",
       "    </tr>\n",
       "    <tr>\n",
       "      <th>1</th>\n",
       "      <td>18</td>\n",
       "      <td>2</td>\n",
       "      <td>33.770</td>\n",
       "      <td>1</td>\n",
       "      <td>0</td>\n",
       "      <td>4</td>\n",
       "      <td>1725.55230</td>\n",
       "    </tr>\n",
       "    <tr>\n",
       "      <th>2</th>\n",
       "      <td>28</td>\n",
       "      <td>2</td>\n",
       "      <td>33.000</td>\n",
       "      <td>3</td>\n",
       "      <td>0</td>\n",
       "      <td>4</td>\n",
       "      <td>4449.46200</td>\n",
       "    </tr>\n",
       "    <tr>\n",
       "      <th>3</th>\n",
       "      <td>33</td>\n",
       "      <td>2</td>\n",
       "      <td>22.705</td>\n",
       "      <td>0</td>\n",
       "      <td>0</td>\n",
       "      <td>1</td>\n",
       "      <td>21984.47061</td>\n",
       "    </tr>\n",
       "    <tr>\n",
       "      <th>4</th>\n",
       "      <td>32</td>\n",
       "      <td>2</td>\n",
       "      <td>28.880</td>\n",
       "      <td>0</td>\n",
       "      <td>0</td>\n",
       "      <td>1</td>\n",
       "      <td>3866.85520</td>\n",
       "    </tr>\n",
       "    <tr>\n",
       "      <th>5</th>\n",
       "      <td>31</td>\n",
       "      <td>1</td>\n",
       "      <td>25.740</td>\n",
       "      <td>0</td>\n",
       "      <td>?</td>\n",
       "      <td>4</td>\n",
       "      <td>3756.62160</td>\n",
       "    </tr>\n",
       "    <tr>\n",
       "      <th>6</th>\n",
       "      <td>46</td>\n",
       "      <td>1</td>\n",
       "      <td>33.440</td>\n",
       "      <td>1</td>\n",
       "      <td>0</td>\n",
       "      <td>4</td>\n",
       "      <td>8240.58960</td>\n",
       "    </tr>\n",
       "    <tr>\n",
       "      <th>7</th>\n",
       "      <td>37</td>\n",
       "      <td>1</td>\n",
       "      <td>27.740</td>\n",
       "      <td>3</td>\n",
       "      <td>0</td>\n",
       "      <td>1</td>\n",
       "      <td>7281.50560</td>\n",
       "    </tr>\n",
       "    <tr>\n",
       "      <th>8</th>\n",
       "      <td>37</td>\n",
       "      <td>2</td>\n",
       "      <td>29.830</td>\n",
       "      <td>2</td>\n",
       "      <td>0</td>\n",
       "      <td>2</td>\n",
       "      <td>6406.41070</td>\n",
       "    </tr>\n",
       "    <tr>\n",
       "      <th>9</th>\n",
       "      <td>60</td>\n",
       "      <td>1</td>\n",
       "      <td>25.840</td>\n",
       "      <td>0</td>\n",
       "      <td>0</td>\n",
       "      <td>1</td>\n",
       "      <td>28923.13692</td>\n",
       "    </tr>\n",
       "  </tbody>\n",
       "</table>\n",
       "</div>"
      ]
     },
     "execution_count": 5,
     "metadata": {},
     "output_type": "execute_result"
    }
   ],
   "execution_count": 5
  },
  {
   "metadata": {},
   "cell_type": "markdown",
   "source": "<p>Add the headers to the dataframe, as above-mentioned in the project scenario.</p>",
   "id": "d5cd0532863fbdbd"
  },
  {
   "metadata": {
    "ExecuteTime": {
     "end_time": "2025-08-22T03:46:33.637443Z",
     "start_time": "2025-08-22T03:46:33.632195Z"
    }
   },
   "cell_type": "code",
   "source": [
    "headers = [\"age\", \"gender\", \"bmi\", \"no_of_children\", \"smoker\", \"region\", \"charges\"]\n",
    "df.columns = headers\n",
    "df.head()"
   ],
   "id": "b61cb90063296699",
   "outputs": [
    {
     "data": {
      "text/plain": [
       "  age  gender     bmi  no_of_children smoker  region      charges\n",
       "0  19       1  27.900               0      1       3  16884.92400\n",
       "1  18       2  33.770               1      0       4   1725.55230\n",
       "2  28       2  33.000               3      0       4   4449.46200\n",
       "3  33       2  22.705               0      0       1  21984.47061\n",
       "4  32       2  28.880               0      0       1   3866.85520"
      ],
      "text/html": [
       "<div>\n",
       "<style scoped>\n",
       "    .dataframe tbody tr th:only-of-type {\n",
       "        vertical-align: middle;\n",
       "    }\n",
       "\n",
       "    .dataframe tbody tr th {\n",
       "        vertical-align: top;\n",
       "    }\n",
       "\n",
       "    .dataframe thead th {\n",
       "        text-align: right;\n",
       "    }\n",
       "</style>\n",
       "<table border=\"1\" class=\"dataframe\">\n",
       "  <thead>\n",
       "    <tr style=\"text-align: right;\">\n",
       "      <th></th>\n",
       "      <th>age</th>\n",
       "      <th>gender</th>\n",
       "      <th>bmi</th>\n",
       "      <th>no_of_children</th>\n",
       "      <th>smoker</th>\n",
       "      <th>region</th>\n",
       "      <th>charges</th>\n",
       "    </tr>\n",
       "  </thead>\n",
       "  <tbody>\n",
       "    <tr>\n",
       "      <th>0</th>\n",
       "      <td>19</td>\n",
       "      <td>1</td>\n",
       "      <td>27.900</td>\n",
       "      <td>0</td>\n",
       "      <td>1</td>\n",
       "      <td>3</td>\n",
       "      <td>16884.92400</td>\n",
       "    </tr>\n",
       "    <tr>\n",
       "      <th>1</th>\n",
       "      <td>18</td>\n",
       "      <td>2</td>\n",
       "      <td>33.770</td>\n",
       "      <td>1</td>\n",
       "      <td>0</td>\n",
       "      <td>4</td>\n",
       "      <td>1725.55230</td>\n",
       "    </tr>\n",
       "    <tr>\n",
       "      <th>2</th>\n",
       "      <td>28</td>\n",
       "      <td>2</td>\n",
       "      <td>33.000</td>\n",
       "      <td>3</td>\n",
       "      <td>0</td>\n",
       "      <td>4</td>\n",
       "      <td>4449.46200</td>\n",
       "    </tr>\n",
       "    <tr>\n",
       "      <th>3</th>\n",
       "      <td>33</td>\n",
       "      <td>2</td>\n",
       "      <td>22.705</td>\n",
       "      <td>0</td>\n",
       "      <td>0</td>\n",
       "      <td>1</td>\n",
       "      <td>21984.47061</td>\n",
       "    </tr>\n",
       "    <tr>\n",
       "      <th>4</th>\n",
       "      <td>32</td>\n",
       "      <td>2</td>\n",
       "      <td>28.880</td>\n",
       "      <td>0</td>\n",
       "      <td>0</td>\n",
       "      <td>1</td>\n",
       "      <td>3866.85520</td>\n",
       "    </tr>\n",
       "  </tbody>\n",
       "</table>\n",
       "</div>"
      ]
     },
     "execution_count": 6,
     "metadata": {},
     "output_type": "execute_result"
    }
   ],
   "execution_count": 6
  },
  {
   "metadata": {},
   "cell_type": "markdown",
   "source": "<p>Now, replace the <code>?</code> entries with <code>NaN</code> values.</p>",
   "id": "f1e319ac2960b68f"
  },
  {
   "metadata": {
    "ExecuteTime": {
     "end_time": "2025-08-22T03:46:33.745781Z",
     "start_time": "2025-08-22T03:46:33.742708Z"
    }
   },
   "cell_type": "code",
   "source": "df = df.replace(\"?\", np.nan)",
   "id": "391ae3babb572ef",
   "outputs": [],
   "execution_count": 7
  },
  {
   "metadata": {},
   "cell_type": "markdown",
   "source": "## Task 2 - Data Wrangling",
   "id": "aa6795e05af5c383"
  },
  {
   "metadata": {},
   "cell_type": "markdown",
   "source": "<p>Use <code>dataframe.info()</code> method to identify the columns that have some <code>Null</code> (or <code>NaN</code>) information.</p>",
   "id": "b73968263a818dc5"
  },
  {
   "metadata": {
    "ExecuteTime": {
     "end_time": "2025-08-22T03:46:33.823450Z",
     "start_time": "2025-08-22T03:46:33.817286Z"
    }
   },
   "cell_type": "code",
   "source": "df.info()",
   "id": "5cb28b290d3ef145",
   "outputs": [
    {
     "name": "stdout",
     "output_type": "stream",
     "text": [
      "<class 'pandas.core.frame.DataFrame'>\n",
      "RangeIndex: 2772 entries, 0 to 2771\n",
      "Data columns (total 7 columns):\n",
      " #   Column          Non-Null Count  Dtype  \n",
      "---  ------          --------------  -----  \n",
      " 0   age             2768 non-null   object \n",
      " 1   gender          2772 non-null   int64  \n",
      " 2   bmi             2772 non-null   float64\n",
      " 3   no_of_children  2772 non-null   int64  \n",
      " 4   smoker          2765 non-null   object \n",
      " 5   region          2772 non-null   int64  \n",
      " 6   charges         2772 non-null   float64\n",
      "dtypes: float64(2), int64(3), object(2)\n",
      "memory usage: 151.7+ KB\n"
     ]
    }
   ],
   "execution_count": 8
  },
  {
   "metadata": {},
   "cell_type": "markdown",
   "source": [
    "<p>Handle missing data:</p>\n",
    "<ul>\n",
    "    <li>For continuous attributes such as <code>age</code>, replace missing values with the mean.</li>\n",
    "    <li>For categorical attributes such as <code>smoker</code>, replace missing values with the most frequent value.</li>\n",
    "    <li>Update the data types of the respective columns.</li>\n",
    "    <li>Verify the update using <code>dataframe.info()</code>.</li>\n",
    "</ul>"
   ],
   "id": "cdbb0ded2e401e0e"
  },
  {
   "metadata": {
    "ExecuteTime": {
     "end_time": "2025-08-22T03:46:33.853847Z",
     "start_time": "2025-08-22T03:46:33.847122Z"
    }
   },
   "cell_type": "code",
   "source": [
    "is_smoker = df[\"smoker\"].value_counts().idxmax()\n",
    "df[\"smoker\"] = df[\"smoker\"].replace(np.nan, is_smoker)\n",
    "\n",
    "mean_age = df[\"age\"].astype(\"float\").mean(axis=0)\n",
    "df[\"age\"] = df[\"age\"].replace(np.nan, mean_age)\n",
    "\n",
    "df[[\"age\", \"smoker\"]] = df[[\"age\", \"smoker\"]].astype(\"int\")\n",
    "\n",
    "df.info()"
   ],
   "id": "33f37dbe47cf567",
   "outputs": [
    {
     "name": "stdout",
     "output_type": "stream",
     "text": [
      "<class 'pandas.core.frame.DataFrame'>\n",
      "RangeIndex: 2772 entries, 0 to 2771\n",
      "Data columns (total 7 columns):\n",
      " #   Column          Non-Null Count  Dtype  \n",
      "---  ------          --------------  -----  \n",
      " 0   age             2772 non-null   int64  \n",
      " 1   gender          2772 non-null   int64  \n",
      " 2   bmi             2772 non-null   float64\n",
      " 3   no_of_children  2772 non-null   int64  \n",
      " 4   smoker          2772 non-null   int64  \n",
      " 5   region          2772 non-null   int64  \n",
      " 6   charges         2772 non-null   float64\n",
      "dtypes: float64(2), int64(5)\n",
      "memory usage: 151.7 KB\n"
     ]
    }
   ],
   "execution_count": 9
  },
  {
   "metadata": {},
   "cell_type": "markdown",
   "source": "<p>Also, please note that the <code>charges</code> column has values which are more than 2 decimal places long. Update this column such that all values are rounded to nearest 2 decimal places. Verify conversion by printing the first 5 values of the updated dataframe.</p>",
   "id": "6e80287fd8162248"
  },
  {
   "metadata": {
    "ExecuteTime": {
     "end_time": "2025-08-22T03:46:33.874907Z",
     "start_time": "2025-08-22T03:46:33.869265Z"
    }
   },
   "cell_type": "code",
   "source": [
    "df[[\"charges\"]] = np.round(df[[\"charges\"]], 2)\n",
    "df.head()"
   ],
   "id": "1deaae1d3bebd59f",
   "outputs": [
    {
     "data": {
      "text/plain": [
       "   age  gender     bmi  no_of_children  smoker  region   charges\n",
       "0   19       1  27.900               0       1       3  16884.92\n",
       "1   18       2  33.770               1       0       4   1725.55\n",
       "2   28       2  33.000               3       0       4   4449.46\n",
       "3   33       2  22.705               0       0       1  21984.47\n",
       "4   32       2  28.880               0       0       1   3866.86"
      ],
      "text/html": [
       "<div>\n",
       "<style scoped>\n",
       "    .dataframe tbody tr th:only-of-type {\n",
       "        vertical-align: middle;\n",
       "    }\n",
       "\n",
       "    .dataframe tbody tr th {\n",
       "        vertical-align: top;\n",
       "    }\n",
       "\n",
       "    .dataframe thead th {\n",
       "        text-align: right;\n",
       "    }\n",
       "</style>\n",
       "<table border=\"1\" class=\"dataframe\">\n",
       "  <thead>\n",
       "    <tr style=\"text-align: right;\">\n",
       "      <th></th>\n",
       "      <th>age</th>\n",
       "      <th>gender</th>\n",
       "      <th>bmi</th>\n",
       "      <th>no_of_children</th>\n",
       "      <th>smoker</th>\n",
       "      <th>region</th>\n",
       "      <th>charges</th>\n",
       "    </tr>\n",
       "  </thead>\n",
       "  <tbody>\n",
       "    <tr>\n",
       "      <th>0</th>\n",
       "      <td>19</td>\n",
       "      <td>1</td>\n",
       "      <td>27.900</td>\n",
       "      <td>0</td>\n",
       "      <td>1</td>\n",
       "      <td>3</td>\n",
       "      <td>16884.92</td>\n",
       "    </tr>\n",
       "    <tr>\n",
       "      <th>1</th>\n",
       "      <td>18</td>\n",
       "      <td>2</td>\n",
       "      <td>33.770</td>\n",
       "      <td>1</td>\n",
       "      <td>0</td>\n",
       "      <td>4</td>\n",
       "      <td>1725.55</td>\n",
       "    </tr>\n",
       "    <tr>\n",
       "      <th>2</th>\n",
       "      <td>28</td>\n",
       "      <td>2</td>\n",
       "      <td>33.000</td>\n",
       "      <td>3</td>\n",
       "      <td>0</td>\n",
       "      <td>4</td>\n",
       "      <td>4449.46</td>\n",
       "    </tr>\n",
       "    <tr>\n",
       "      <th>3</th>\n",
       "      <td>33</td>\n",
       "      <td>2</td>\n",
       "      <td>22.705</td>\n",
       "      <td>0</td>\n",
       "      <td>0</td>\n",
       "      <td>1</td>\n",
       "      <td>21984.47</td>\n",
       "    </tr>\n",
       "    <tr>\n",
       "      <th>4</th>\n",
       "      <td>32</td>\n",
       "      <td>2</td>\n",
       "      <td>28.880</td>\n",
       "      <td>0</td>\n",
       "      <td>0</td>\n",
       "      <td>1</td>\n",
       "      <td>3866.86</td>\n",
       "    </tr>\n",
       "  </tbody>\n",
       "</table>\n",
       "</div>"
      ]
     },
     "execution_count": 10,
     "metadata": {},
     "output_type": "execute_result"
    }
   ],
   "execution_count": 10
  },
  {
   "metadata": {},
   "cell_type": "markdown",
   "source": "## Task 3 - Exploratory Data Analysis (EDA)",
   "id": "899e3c579180e50e"
  },
  {
   "metadata": {},
   "cell_type": "markdown",
   "source": "<p>Implement the Regression Plot for <code>charges</code> with respect to <code>bmi</code>.</p>",
   "id": "b245977a9d4f270c"
  },
  {
   "metadata": {
    "ExecuteTime": {
     "end_time": "2025-08-22T03:46:34.069217Z",
     "start_time": "2025-08-22T03:46:33.905469Z"
    }
   },
   "cell_type": "code",
   "source": [
    "sns.regplot(x=\"bmi\", y=\"charges\", data=df, line_kws={\"color\": \"red\"})\n",
    "plt.ylim(bottom=0)"
   ],
   "id": "45a7e0b7016f772d",
   "outputs": [
    {
     "data": {
      "text/plain": [
       "(0.0, 66902.85800000001)"
      ]
     },
     "execution_count": 11,
     "metadata": {},
     "output_type": "execute_result"
    },
    {
     "data": {
      "text/plain": [
       "<Figure size 640x480 with 1 Axes>"
      ],
      "image/png": "[encoded data removed]"
     },
     "metadata": {},
     "output_type": "display_data"
    }
   ],
   "execution_count": 11
  },
  {
   "metadata": {},
   "cell_type": "markdown",
   "source": "<p>Implement the box plot for <code>charges</code> with respect to <code>smoker</code>.</p>",
   "id": "56361db04f7e7c2d"
  },
  {
   "metadata": {
    "ExecuteTime": {
     "end_time": "2025-08-22T03:46:34.151200Z",
     "start_time": "2025-08-22T03:46:34.094142Z"
    }
   },
   "cell_type": "code",
   "source": "sns.boxplot(x=\"smoker\", y=\"charges\", data=df)",
   "id": "867c40c508f664b8",
   "outputs": [
    {
     "data": {
      "text/plain": [
       "<Axes: xlabel='smoker', ylabel='charges'>"
      ]
     },
     "execution_count": 12,
     "metadata": {},
     "output_type": "execute_result"
    },
    {
     "data": {
      "text/plain": [
       "<Figure size 640x480 with 1 Axes>"
      ],
      "image/png": "[encoded data removed]"
     },
     "metadata": {},
     "output_type": "display_data"
    }
   ],
   "execution_count": 12
  },
  {
   "metadata": {},
   "cell_type": "markdown",
   "source": "<p>Print the correlation matrix for the dataset.</p>",
   "id": "b7a7d36ca89eb9d7"
  },
  {
   "metadata": {
    "ExecuteTime": {
     "end_time": "2025-08-22T03:46:34.167159Z",
     "start_time": "2025-08-22T03:46:34.161032Z"
    }
   },
   "cell_type": "code",
   "source": "df.corr()",
   "id": "822c330cca32d03a",
   "outputs": [
    {
     "data": {
      "text/plain": [
       "                     age    gender       bmi  no_of_children    smoker  \\\n",
       "age             1.000000 -0.026046  0.113048        0.037574 -0.023286   \n",
       "gender         -0.026046  1.000000  0.042924        0.016020  0.082326   \n",
       "bmi             0.113048  0.042924  1.000000       -0.001492  0.011489   \n",
       "no_of_children  0.037574  0.016020 -0.001492        1.000000  0.006362   \n",
       "smoker         -0.023286  0.082326  0.011489        0.006362  1.000000   \n",
       "region         -0.007167  0.022213  0.271119       -0.025717  0.054077   \n",
       "charges         0.298624  0.062837  0.199846        0.066442  0.788783   \n",
       "\n",
       "                  region   charges  \n",
       "age            -0.007167  0.298624  \n",
       "gender          0.022213  0.062837  \n",
       "bmi             0.271119  0.199846  \n",
       "no_of_children -0.025717  0.066442  \n",
       "smoker          0.054077  0.788783  \n",
       "region          1.000000  0.054058  \n",
       "charges         0.054058  1.000000  "
      ],
      "text/html": [
       "<div>\n",
       "<style scoped>\n",
       "    .dataframe tbody tr th:only-of-type {\n",
       "        vertical-align: middle;\n",
       "    }\n",
       "\n",
       "    .dataframe tbody tr th {\n",
       "        vertical-align: top;\n",
       "    }\n",
       "\n",
       "    .dataframe thead th {\n",
       "        text-align: right;\n",
       "    }\n",
       "</style>\n",
       "<table border=\"1\" class=\"dataframe\">\n",
       "  <thead>\n",
       "    <tr style=\"text-align: right;\">\n",
       "      <th></th>\n",
       "      <th>age</th>\n",
       "      <th>gender</th>\n",
       "      <th>bmi</th>\n",
       "      <th>no_of_children</th>\n",
       "      <th>smoker</th>\n",
       "      <th>region</th>\n",
       "      <th>charges</th>\n",
       "    </tr>\n",
       "  </thead>\n",
       "  <tbody>\n",
       "    <tr>\n",
       "      <th>age</th>\n",
       "      <td>1.000000</td>\n",
       "      <td>-0.026046</td>\n",
       "      <td>0.113048</td>\n",
       "      <td>0.037574</td>\n",
       "      <td>-0.023286</td>\n",
       "      <td>-0.007167</td>\n",
       "      <td>0.298624</td>\n",
       "    </tr>\n",
       "    <tr>\n",
       "      <th>gender</th>\n",
       "      <td>-0.026046</td>\n",
       "      <td>1.000000</td>\n",
       "      <td>0.042924</td>\n",
       "      <td>0.016020</td>\n",
       "      <td>0.082326</td>\n",
       "      <td>0.022213</td>\n",
       "      <td>0.062837</td>\n",
       "    </tr>\n",
       "    <tr>\n",
       "      <th>bmi</th>\n",
       "      <td>0.113048</td>\n",
       "      <td>0.042924</td>\n",
       "      <td>1.000000</td>\n",
       "      <td>-0.001492</td>\n",
       "      <td>0.011489</td>\n",
       "      <td>0.271119</td>\n",
       "      <td>0.199846</td>\n",
       "    </tr>\n",
       "    <tr>\n",
       "      <th>no_of_children</th>\n",
       "      <td>0.037574</td>\n",
       "      <td>0.016020</td>\n",
       "      <td>-0.001492</td>\n",
       "      <td>1.000000</td>\n",
       "      <td>0.006362</td>\n",
       "      <td>-0.025717</td>\n",
       "      <td>0.066442</td>\n",
       "    </tr>\n",
       "    <tr>\n",
       "      <th>smoker</th>\n",
       "      <td>-0.023286</td>\n",
       "      <td>0.082326</td>\n",
       "      <td>0.011489</td>\n",
       "      <td>0.006362</td>\n",
       "      <td>1.000000</td>\n",
       "      <td>0.054077</td>\n",
       "      <td>0.788783</td>\n",
       "    </tr>\n",
       "    <tr>\n",
       "      <th>region</th>\n",
       "      <td>-0.007167</td>\n",
       "      <td>0.022213</td>\n",
       "      <td>0.271119</td>\n",
       "      <td>-0.025717</td>\n",
       "      <td>0.054077</td>\n",
       "      <td>1.000000</td>\n",
       "      <td>0.054058</td>\n",
       "    </tr>\n",
       "    <tr>\n",
       "      <th>charges</th>\n",
       "      <td>0.298624</td>\n",
       "      <td>0.062837</td>\n",
       "      <td>0.199846</td>\n",
       "      <td>0.066442</td>\n",
       "      <td>0.788783</td>\n",
       "      <td>0.054058</td>\n",
       "      <td>1.000000</td>\n",
       "    </tr>\n",
       "  </tbody>\n",
       "</table>\n",
       "</div>"
      ]
     },
     "execution_count": 13,
     "metadata": {},
     "output_type": "execute_result"
    }
   ],
   "execution_count": 13
  },
  {
   "metadata": {},
   "cell_type": "markdown",
   "source": "## Task 4 - Model Development",
   "id": "1c3c7013dbc33834"
  },
  {
   "metadata": {},
   "cell_type": "markdown",
   "source": "<p>Fit a Linear Regression model that may be used to predict the <code>charges</code> value, just by using the <code>smoker</code> attribute of the dataset. Print the $R^2$ score of this model.</p>",
   "id": "370e1a7601b3b7d6"
  },
  {
   "metadata": {
    "ExecuteTime": {
     "end_time": "2025-08-22T03:46:34.205131Z",
     "start_time": "2025-08-22T03:46:34.199159Z"
    }
   },
   "cell_type": "code",
   "source": [
    "x = df[[\"smoker\"]]\n",
    "y = df[\"charges\"]\n",
    "\n",
    "lm = LinearRegression()\n",
    "lm.fit(x, y)\n",
    "lm.score(x, y)"
   ],
   "id": "5dd0f8ce666ce6e8",
   "outputs": [
    {
     "data": {
      "text/plain": [
       "0.6221791733924185"
      ]
     },
     "execution_count": 14,
     "metadata": {},
     "output_type": "execute_result"
    }
   ],
   "execution_count": 14
  },
  {
   "metadata": {},
   "cell_type": "markdown",
   "source": "<p>Fit a Linear Regression model that may be used to predict the <code>charges</code> value, just by using all other attributes of the dataset. Print the $R^2$ score of this model. You should see an improvement in the performance.</p>",
   "id": "be1735b3fbc9ca98"
  },
  {
   "metadata": {
    "ExecuteTime": {
     "end_time": "2025-08-22T03:46:34.269576Z",
     "start_time": "2025-08-22T03:46:34.264232Z"
    }
   },
   "cell_type": "code",
   "source": [
    "z = df[[\"age\", \"gender\", \"bmi\", \"no_of_children\", \"smoker\", \"region\"]]\n",
    "lm.fit(z, y)\n",
    "lm.score(z, y)"
   ],
   "id": "c81b445ecefb0cbf",
   "outputs": [
    {
     "data": {
      "text/plain": [
       "0.7504083820289634"
      ]
     },
     "execution_count": 15,
     "metadata": {},
     "output_type": "execute_result"
    }
   ],
   "execution_count": 15
  },
  {
   "metadata": {},
   "cell_type": "markdown",
   "source": "<p>Create a training pipeline that uses <code>StandardScaler()</code>, <code>PolynomialFeatures()</code> and <code>LinearRegression()</code> to create a model that can predict the <code>charges</code> value using all the other attributes of the dataset. There should be even further improvement in the performance.</p>",
   "id": "233aa0889159bb62"
  },
  {
   "metadata": {
    "ExecuteTime": {
     "end_time": "2025-08-22T03:46:34.319250Z",
     "start_time": "2025-08-22T03:46:34.306335Z"
    }
   },
   "cell_type": "code",
   "source": [
    "input_ = [(\"scale\", StandardScaler()), (\"polynomial\", PolynomialFeatures(include_bias=False)), (\"model\", LinearRegression())]\n",
    "pipe = Pipeline(input_)\n",
    "z = z.astype(\"float\")\n",
    "pipe.fit(z, y)\n",
    "y_pipe = pipe.predict(z)\n",
    "r2_score(y, y_pipe)"
   ],
   "id": "bc1df1398cdf2e8c",
   "outputs": [
    {
     "data": {
      "text/plain": [
       "0.8452576213500093"
      ]
     },
     "execution_count": 16,
     "metadata": {},
     "output_type": "execute_result"
    }
   ],
   "execution_count": 16
  },
  {
   "metadata": {},
   "cell_type": "markdown",
   "source": "## Task 5 - Model Refinement",
   "id": "8859562d7a90034e"
  },
  {
   "metadata": {},
   "cell_type": "markdown",
   "source": "<p>Split the data into training and testing subsets, assuming that 20% of the data will be reserved for testing.</p>",
   "id": "c0791860ff1c2cf6"
  },
  {
   "metadata": {
    "ExecuteTime": {
     "end_time": "2025-08-22T03:46:34.338177Z",
     "start_time": "2025-08-22T03:46:34.335258Z"
    }
   },
   "cell_type": "code",
   "source": "x_train, x_test, y_train, y_test = train_test_split(z, y, test_size=0.2, random_state=0)",
   "id": "f3359e2e25d292c4",
   "outputs": [],
   "execution_count": 17
  },
  {
   "metadata": {},
   "cell_type": "markdown",
   "source": "<p>Initalize a Ridge Regressor that used hyperparameter $\\alpha=0.1$. Fit the model using training data subset. Print the $R^2$ score for the testing data.</p>",
   "id": "96edaa2849fad328"
  },
  {
   "metadata": {
    "ExecuteTime": {
     "end_time": "2025-08-22T03:46:34.359242Z",
     "start_time": "2025-08-22T03:46:34.354171Z"
    }
   },
   "cell_type": "code",
   "source": [
    "ridge_model = Ridge(alpha=0.1)\n",
    "ridge_model.fit(x_train, y_train)\n",
    "y_hat = ridge_model.predict(x_test)\n",
    "r2_score(y_test, y_hat)"
   ],
   "id": "3bb173ce6c88d9b3",
   "outputs": [
    {
     "data": {
      "text/plain": [
       "0.7469894680059708"
      ]
     },
     "execution_count": 18,
     "metadata": {},
     "output_type": "execute_result"
    }
   ],
   "execution_count": 18
  },
  {
   "metadata": {},
   "cell_type": "markdown",
   "source": "<p>Apply polynomial transformation to the training parameters with <code>degree=2</code>. Use this transformed feature set to fit the same regression model, as above, using the training subset. Print the $R^2$ score for the testing subset.</p>",
   "id": "2a51bbc75a909f97"
  },
  {
   "metadata": {
    "ExecuteTime": {
     "end_time": "2025-08-22T03:46:34.378429Z",
     "start_time": "2025-08-22T03:46:34.371873Z"
    }
   },
   "cell_type": "code",
   "source": [
    "pr = PolynomialFeatures(degree=2)\n",
    "x_train_pr = pr.fit_transform(x_train)\n",
    "x_test_pr = pr.fit_transform(x_test)\n",
    "\n",
    "ridge_model.fit(x_train_pr, y_train)\n",
    "y_hat = ridge_model.predict(x_test_pr)\n",
    "\n",
    "r2_score(y_test, y_hat)"
   ],
   "id": "ce4f792c41fccf60",
   "outputs": [
    {
     "data": {
      "text/plain": [
       "0.8410037679926489"
      ]
     },
     "execution_count": 19,
     "metadata": {},
     "output_type": "execute_result"
    }
   ],
   "execution_count": 19
  },
  {
   "metadata": {},
   "cell_type": "markdown",
   "source": [
    "****\n",
    "This is the end of the file.\n",
    "****"
   ],
   "id": "12fff79608c5a170"
  }
 ],
 "metadata": {
  "kernelspec": {
   "display_name": "Python 3",
   "language": "python",
   "name": "python3"
  },
  "language_info": {
   "codemirror_mode": {
    "name": "ipython",
    "version": 2
   },
   "file_extension": ".py",
   "mimetype": "text/x-python",
   "name": "python",
   "nbconvert_exporter": "python",
   "pygments_lexer": "ipython2",
   "version": "2.7.6"
  }
 },
 "nbformat": 4,
 "nbformat_minor": 5
}
