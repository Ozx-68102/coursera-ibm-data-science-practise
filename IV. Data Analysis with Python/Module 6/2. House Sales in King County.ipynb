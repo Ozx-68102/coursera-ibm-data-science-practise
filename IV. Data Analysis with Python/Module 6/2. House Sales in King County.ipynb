{
 "cells": [
  {
   "metadata": {},
   "cell_type": "markdown",
   "source": "# Final Project - House Sales in King County, USA",
   "id": "67fb2b268fceb80a"
  },
  {
   "metadata": {},
   "cell_type": "markdown",
   "source": "## Instructions",
   "id": "d6ec5a0902bd96aa"
  },
  {
   "metadata": {},
   "cell_type": "markdown",
   "source": [
    "<p>In this assignment, you are a Data Analyst working at a Real Estate Investment Trust. The Trust would like to start investing in Residential real estate. You are tasked with determining the market price of a house given a set of features. You will analyze and predict housing prices using attributes or features such as square footage, number of bedrooms, number of floors, and so on. Your job is to complete the ten questions. Some hints to the questions are given.</p>\n",
    "<p>As you are completing this notebook, take and save the screenshots of the final outputs of your solutions such as final charts, tables, calculation results and so on. They will need to be shared in the following Peer Review section of the Final Project module.</p>"
   ],
   "id": "50949627f9d6dcc7"
  },
  {
   "metadata": {},
   "cell_type": "markdown",
   "source": "## About the Dataset",
   "id": "ff4dbee7175ab3f0"
  },
  {
   "metadata": {},
   "cell_type": "markdown",
   "source": "<p>This dataset contains house sale prices for King County, which includes Seattle. It includes homes sold between May 2014 and May 2015. It was taken from <a href=\"https://www.kaggle.com/datasets/harlfoxem/housesalesprediction\">here</a>. It was also slightly modified for the purposes of this course.</p>",
   "id": "63b41fefd87dcd8"
  },
  {
   "metadata": {},
   "cell_type": "markdown",
   "source": [
    "<table style=\"border-collapse: collapse; border: 1px solid; text-align: center;\">\n",
    "    <thead>\n",
    "    <tr>\n",
    "        <th style=\"border: 1px solid; text-align: left;\">Variable</th>\n",
    "        <th style=\"border: 1px solid; text-align: left;\">Description</th>\n",
    "    </tr>\n",
    "    </thead>\n",
    "    <tbody>\n",
    "    <tr>\n",
    "        <td style=\"border: 1px solid; text-align: left;\">id</td>\n",
    "        <td style=\"border: 1px solid; text-align: left;\">A notation for a house</td>\n",
    "    </tr>\n",
    "    <tr>\n",
    "        <td style=\"border: 1px solid; text-align: left;\">date</td>\n",
    "        <td style=\"border: 1px solid; text-align: left;\">Date house was sold</td>\n",
    "    </tr>\n",
    "    <tr>\n",
    "        <td style=\"border: 1px solid; text-align: left;\">price</td>\n",
    "        <td style=\"border: 1px solid; text-align: left;\">Price is prediction target</td>\n",
    "    </tr>\n",
    "    <tr>\n",
    "        <td style=\"border: 1px solid; text-align: left;\">bedrooms</td>\n",
    "        <td style=\"border: 1px solid; text-align: left;\">Number of bedrooms</td>\n",
    "    </tr>\n",
    "    <tr>\n",
    "        <td style=\"border: 1px solid; text-align: left;\">bathrooms</td>\n",
    "        <td style=\"border: 1px solid; text-align: left;\">Number of bathrooms</td>\n",
    "    </tr>\n",
    "    <tr>\n",
    "        <td style=\"border: 1px solid; text-align: left;\">sqft_living</td>\n",
    "        <td style=\"border: 1px solid; text-align: left;\">Square footage of the home</td>\n",
    "    </tr>\n",
    "    <tr>\n",
    "        <td style=\"border: 1px solid; text-align: left;\">sqft_lot</td>\n",
    "        <td style=\"border: 1px solid; text-align: left;\">Square footage of the lot</td>\n",
    "    </tr>\n",
    "    <tr>\n",
    "        <td style=\"border: 1px solid; text-align: left;\">floors</td>\n",
    "        <td style=\"border: 1px solid; text-align: left;\">Total floors (levels) in house</td>\n",
    "    </tr>\n",
    "    <tr>\n",
    "        <td style=\"border: 1px solid; text-align: left;\">waterfront</td>\n",
    "        <td style=\"border: 1px solid; text-align: left;\">House which has a view to a waterfront</td>\n",
    "    </tr>\n",
    "    <tr>\n",
    "        <td style=\"border: 1px solid; text-align: left;\">view</td>\n",
    "        <td style=\"border: 1px solid; text-align: left;\">Has been viewed</td>\n",
    "    </tr>\n",
    "    <tr>\n",
    "        <td style=\"border: 1px solid; text-align: left;\">condition</td>\n",
    "        <td style=\"border: 1px solid; text-align: left;\">How good the condition is overall</td>\n",
    "    </tr>\n",
    "    <tr>\n",
    "        <td style=\"border: 1px solid; text-align: left;\">grade</td>\n",
    "        <td style=\"border: 1px solid; text-align: left;\">Overall grade given to the housing unit, based on King County grading system</td>\n",
    "    </tr>\n",
    "    <tr>\n",
    "        <td style=\"border: 1px solid; text-align: left;\">sqft_above</td>\n",
    "        <td style=\"border: 1px solid; text-align: left;\">Square footage of house apart from basement</td>\n",
    "    </tr>\n",
    "    <tr>\n",
    "        <td style=\"border: 1px solid; text-align: left;\">sqft_basement</td>\n",
    "        <td style=\"border: 1px solid; text-align: left;\">Square footage of the basement</td>\n",
    "    </tr>\n",
    "    <tr>\n",
    "        <td style=\"border: 1px solid; text-align: left;\">yr_built</td>\n",
    "        <td style=\"border: 1px solid; text-align: left;\">Built Year</td>\n",
    "    </tr>\n",
    "    <tr>\n",
    "        <td style=\"border: 1px solid; text-align: left;\">yr_renovated</td>\n",
    "        <td style=\"border: 1px solid; text-align: left;\">Year when house was renovated</td>\n",
    "    </tr>\n",
    "    <tr>\n",
    "        <td style=\"border: 1px solid; text-align: left;\">zipcode</td>\n",
    "        <td style=\"border: 1px solid; text-align: left;\">Zip code</td>\n",
    "    </tr>\n",
    "    <tr>\n",
    "        <td style=\"border: 1px solid; text-align: left;\">lat</td>\n",
    "        <td style=\"border: 1px solid; text-align: left;\">Latitude coordinate</td>\n",
    "    </tr>\n",
    "    <tr>\n",
    "        <td style=\"border: 1px solid; text-align: left;\">long</td>\n",
    "        <td style=\"border: 1px solid; text-align: left;\">Longitude coordinate</td>\n",
    "    </tr>\n",
    "    <tr>\n",
    "        <td style=\"border: 1px solid; text-align: left;\">sqft_living15</td>\n",
    "        <td style=\"border: 1px solid; text-align: left;\">Living room area in 2015 (implies - some renovations) This might or might not have affected the lotsize area</td>\n",
    "    </tr>\n",
    "    <tr>\n",
    "        <td style=\"border: 1px solid; text-align: left;\">sqft_lot15</td>\n",
    "        <td style=\"border: 1px solid; text-align: left;\">Lotsize area in 2015 (implies - some renovations)</td>\n",
    "    </tr>\n",
    "    </tbody>\n",
    "</table>"
   ],
   "id": "de614b6083c07f85"
  },
  {
   "metadata": {},
   "cell_type": "markdown",
   "source": "### Import the required libraries",
   "id": "bc68cd200eea9362"
  },
  {
   "metadata": {
    "ExecuteTime": {
     "end_time": "2025-08-22T07:46:29.697735Z",
     "start_time": "2025-08-22T07:46:29.560815Z"
    }
   },
   "cell_type": "code",
   "source": [
    "from sklearn.preprocessing import StandardScaler, PolynomialFeatures\n",
    "from sklearn.linear_model import LinearRegression, Ridge\n",
    "from sklearn.model_selection import train_test_split\n",
    "from sklearn.pipeline import Pipeline\n",
    "\n",
    "import seaborn as sns\n",
    "import pandas as pd\n",
    "import numpy as np\n",
    "import requests\n",
    "import os\n",
    "\n",
    "%matplotlib inline"
   ],
   "id": "cb03d16ed059517",
   "outputs": [],
   "execution_count": 1
  },
  {
   "metadata": {},
   "cell_type": "markdown",
   "source": "## Module 1 - Importing Datasets",
   "id": "da6bfbed074297ed"
  },
  {
   "metadata": {},
   "cell_type": "markdown",
   "source": "<p>Download the dataset by running the cell below.</p>",
   "id": "1e5d2c3bd2aa21f6"
  },
  {
   "metadata": {
    "ExecuteTime": {
     "end_time": "2025-08-22T07:46:29.710020Z",
     "start_time": "2025-08-22T07:46:29.706247Z"
    }
   },
   "cell_type": "code",
   "source": [
    "dir_path = os.path.join(\".\", \"data\")\n",
    "os.makedirs(dir_path, exist_ok=True)\n",
    "\n",
    "def download_file(url: str) -> str:\n",
    "    with requests.get(url=url, stream=True) as response:\n",
    "        response.raise_for_status()\n",
    "\n",
    "        filepath = os.path.join(dir_path, url.rsplit(\"/\", 1)[-1])\n",
    "        total_size = int(response.headers.get(\"Content-Length\", 0))\n",
    "        chunk_size = 1024 ** 2\n",
    "        download_size = 0\n",
    "\n",
    "        with open(filepath, \"wb\") as file:\n",
    "            for chunk in response.iter_content(chunk_size=chunk_size):\n",
    "                if not chunk:\n",
    "                    continue\n",
    "\n",
    "                file.write(chunk)\n",
    "                download_size += len(chunk)\n",
    "\n",
    "                if total_size > 0:\n",
    "                    progress = (download_size / total_size) * 100\n",
    "                    print(f\"Downloading: {progress:.2f}% ({download_size} / {total_size} bytes)\")\n",
    "\n",
    "    print(\"Download Complete.\")\n",
    "    return filepath"
   ],
   "id": "194222ccf60a4b65",
   "outputs": [],
   "execution_count": 2
  },
  {
   "metadata": {
    "ExecuteTime": {
     "end_time": "2025-08-22T07:46:32.738808Z",
     "start_time": "2025-08-22T07:46:29.716221Z"
    }
   },
   "cell_type": "code",
   "source": [
    "data_url = \"https://cf-courses-data.s3.us.cloud-object-storage.appdomain.cloud/IBMDeveloperSkillsNetwork-DA0101EN-SkillsNetwork/labs/FinalModule_Coursera/data/kc_house_data_NaN.csv\"\n",
    "filename = download_file(data_url)"
   ],
   "id": "fe180b0369651fe1",
   "outputs": [
    {
     "name": "stdout",
     "output_type": "stream",
     "text": [
      "Downloading: 39.22% (1048576 / 2673776 bytes)\n",
      "Downloading: 78.43% (2097152 / 2673776 bytes)\n",
      "Downloading: 100.00% (2673776 / 2673776 bytes)\n",
      "Download Complete.\n"
     ]
    }
   ],
   "execution_count": 3
  },
  {
   "metadata": {},
   "cell_type": "markdown",
   "source": "<p>Load the csv.</p>",
   "id": "11788f9c1e3827cd"
  },
  {
   "metadata": {
    "ExecuteTime": {
     "end_time": "2025-08-22T07:46:32.816388Z",
     "start_time": "2025-08-22T07:46:32.786975Z"
    }
   },
   "cell_type": "code",
   "source": "df = pd.read_csv(filename)",
   "id": "42a3411f1b0e2646",
   "outputs": [],
   "execution_count": 4
  },
  {
   "metadata": {},
   "cell_type": "markdown",
   "source": "<p>We use the method <code>dataframe.head()</code> to display the first 5 columns of the dataframe.</p>",
   "id": "5e2a4856d41e4448"
  },
  {
   "metadata": {
    "ExecuteTime": {
     "end_time": "2025-08-22T07:46:32.834200Z",
     "start_time": "2025-08-22T07:46:32.824208Z"
    }
   },
   "cell_type": "code",
   "source": "df.head()",
   "id": "81610c5d0ab3ab63",
   "outputs": [
    {
     "data": {
      "text/plain": [
       "   Unnamed: 0          id             date     price  bedrooms  bathrooms  \\\n",
       "0           0  7129300520  20141013T000000  221900.0       3.0       1.00   \n",
       "1           1  6414100192  20141209T000000  538000.0       3.0       2.25   \n",
       "2           2  5631500400  20150225T000000  180000.0       2.0       1.00   \n",
       "3           3  2487200875  20141209T000000  604000.0       4.0       3.00   \n",
       "4           4  1954400510  20150218T000000  510000.0       3.0       2.00   \n",
       "\n",
       "   sqft_living  sqft_lot  floors  waterfront  ...  grade  sqft_above  \\\n",
       "0         1180      5650     1.0           0  ...      7        1180   \n",
       "1         2570      7242     2.0           0  ...      7        2170   \n",
       "2          770     10000     1.0           0  ...      6         770   \n",
       "3         1960      5000     1.0           0  ...      7        1050   \n",
       "4         1680      8080     1.0           0  ...      8        1680   \n",
       "\n",
       "   sqft_basement  yr_built  yr_renovated  zipcode      lat     long  \\\n",
       "0              0      1955             0    98178  47.5112 -122.257   \n",
       "1            400      1951          1991    98125  47.7210 -122.319   \n",
       "2              0      1933             0    98028  47.7379 -122.233   \n",
       "3            910      1965             0    98136  47.5208 -122.393   \n",
       "4              0      1987             0    98074  47.6168 -122.045   \n",
       "\n",
       "   sqft_living15  sqft_lot15  \n",
       "0           1340        5650  \n",
       "1           1690        7639  \n",
       "2           2720        8062  \n",
       "3           1360        5000  \n",
       "4           1800        7503  \n",
       "\n",
       "[5 rows x 22 columns]"
      ],
      "text/html": [
       "<div>\n",
       "<style scoped>\n",
       "    .dataframe tbody tr th:only-of-type {\n",
       "        vertical-align: middle;\n",
       "    }\n",
       "\n",
       "    .dataframe tbody tr th {\n",
       "        vertical-align: top;\n",
       "    }\n",
       "\n",
       "    .dataframe thead th {\n",
       "        text-align: right;\n",
       "    }\n",
       "</style>\n",
       "<table border=\"1\" class=\"dataframe\">\n",
       "  <thead>\n",
       "    <tr style=\"text-align: right;\">\n",
       "      <th></th>\n",
       "      <th>Unnamed: 0</th>\n",
       "      <th>id</th>\n",
       "      <th>date</th>\n",
       "      <th>price</th>\n",
       "      <th>bedrooms</th>\n",
       "      <th>bathrooms</th>\n",
       "      <th>sqft_living</th>\n",
       "      <th>sqft_lot</th>\n",
       "      <th>floors</th>\n",
       "      <th>waterfront</th>\n",
       "      <th>...</th>\n",
       "      <th>grade</th>\n",
       "      <th>sqft_above</th>\n",
       "      <th>sqft_basement</th>\n",
       "      <th>yr_built</th>\n",
       "      <th>yr_renovated</th>\n",
       "      <th>zipcode</th>\n",
       "      <th>lat</th>\n",
       "      <th>long</th>\n",
       "      <th>sqft_living15</th>\n",
       "      <th>sqft_lot15</th>\n",
       "    </tr>\n",
       "  </thead>\n",
       "  <tbody>\n",
       "    <tr>\n",
       "      <th>0</th>\n",
       "      <td>0</td>\n",
       "      <td>7129300520</td>\n",
       "      <td>20141013T000000</td>\n",
       "      <td>221900.0</td>\n",
       "      <td>3.0</td>\n",
       "      <td>1.00</td>\n",
       "      <td>1180</td>\n",
       "      <td>5650</td>\n",
       "      <td>1.0</td>\n",
       "      <td>0</td>\n",
       "      <td>...</td>\n",
       "      <td>7</td>\n",
       "      <td>1180</td>\n",
       "      <td>0</td>\n",
       "      <td>1955</td>\n",
       "      <td>0</td>\n",
       "      <td>98178</td>\n",
       "      <td>47.5112</td>\n",
       "      <td>-122.257</td>\n",
       "      <td>1340</td>\n",
       "      <td>5650</td>\n",
       "    </tr>\n",
       "    <tr>\n",
       "      <th>1</th>\n",
       "      <td>1</td>\n",
       "      <td>6414100192</td>\n",
       "      <td>20141209T000000</td>\n",
       "      <td>538000.0</td>\n",
       "      <td>3.0</td>\n",
       "      <td>2.25</td>\n",
       "      <td>2570</td>\n",
       "      <td>7242</td>\n",
       "      <td>2.0</td>\n",
       "      <td>0</td>\n",
       "      <td>...</td>\n",
       "      <td>7</td>\n",
       "      <td>2170</td>\n",
       "      <td>400</td>\n",
       "      <td>1951</td>\n",
       "      <td>1991</td>\n",
       "      <td>98125</td>\n",
       "      <td>47.7210</td>\n",
       "      <td>-122.319</td>\n",
       "      <td>1690</td>\n",
       "      <td>7639</td>\n",
       "    </tr>\n",
       "    <tr>\n",
       "      <th>2</th>\n",
       "      <td>2</td>\n",
       "      <td>5631500400</td>\n",
       "      <td>20150225T000000</td>\n",
       "      <td>180000.0</td>\n",
       "      <td>2.0</td>\n",
       "      <td>1.00</td>\n",
       "      <td>770</td>\n",
       "      <td>10000</td>\n",
       "      <td>1.0</td>\n",
       "      <td>0</td>\n",
       "      <td>...</td>\n",
       "      <td>6</td>\n",
       "      <td>770</td>\n",
       "      <td>0</td>\n",
       "      <td>1933</td>\n",
       "      <td>0</td>\n",
       "      <td>98028</td>\n",
       "      <td>47.7379</td>\n",
       "      <td>-122.233</td>\n",
       "      <td>2720</td>\n",
       "      <td>8062</td>\n",
       "    </tr>\n",
       "    <tr>\n",
       "      <th>3</th>\n",
       "      <td>3</td>\n",
       "      <td>2487200875</td>\n",
       "      <td>20141209T000000</td>\n",
       "      <td>604000.0</td>\n",
       "      <td>4.0</td>\n",
       "      <td>3.00</td>\n",
       "      <td>1960</td>\n",
       "      <td>5000</td>\n",
       "      <td>1.0</td>\n",
       "      <td>0</td>\n",
       "      <td>...</td>\n",
       "      <td>7</td>\n",
       "      <td>1050</td>\n",
       "      <td>910</td>\n",
       "      <td>1965</td>\n",
       "      <td>0</td>\n",
       "      <td>98136</td>\n",
       "      <td>47.5208</td>\n",
       "      <td>-122.393</td>\n",
       "      <td>1360</td>\n",
       "      <td>5000</td>\n",
       "    </tr>\n",
       "    <tr>\n",
       "      <th>4</th>\n",
       "      <td>4</td>\n",
       "      <td>1954400510</td>\n",
       "      <td>20150218T000000</td>\n",
       "      <td>510000.0</td>\n",
       "      <td>3.0</td>\n",
       "      <td>2.00</td>\n",
       "      <td>1680</td>\n",
       "      <td>8080</td>\n",
       "      <td>1.0</td>\n",
       "      <td>0</td>\n",
       "      <td>...</td>\n",
       "      <td>8</td>\n",
       "      <td>1680</td>\n",
       "      <td>0</td>\n",
       "      <td>1987</td>\n",
       "      <td>0</td>\n",
       "      <td>98074</td>\n",
       "      <td>47.6168</td>\n",
       "      <td>-122.045</td>\n",
       "      <td>1800</td>\n",
       "      <td>7503</td>\n",
       "    </tr>\n",
       "  </tbody>\n",
       "</table>\n",
       "<p>5 rows × 22 columns</p>\n",
       "</div>"
      ]
     },
     "execution_count": 5,
     "metadata": {},
     "output_type": "execute_result"
    }
   ],
   "execution_count": 5
  },
  {
   "metadata": {},
   "cell_type": "markdown",
   "source": "### Question 1",
   "id": "f79cc788ea662d62"
  },
  {
   "metadata": {},
   "cell_type": "markdown",
   "source": "<p>Display the data types of each column using the function <code>dtypes</code>. Take a screenshot of your code and output. You will need to submit the screenshot for the final project.</p>",
   "id": "d614342e20b5a4d5"
  },
  {
   "metadata": {
    "ExecuteTime": {
     "end_time": "2025-08-22T07:46:32.872210Z",
     "start_time": "2025-08-22T07:46:32.867863Z"
    }
   },
   "cell_type": "code",
   "source": "df.dtypes",
   "id": "50cb71d56ab99c80",
   "outputs": [
    {
     "data": {
      "text/plain": [
       "Unnamed: 0         int64\n",
       "id                 int64\n",
       "date              object\n",
       "price            float64\n",
       "bedrooms         float64\n",
       "bathrooms        float64\n",
       "sqft_living        int64\n",
       "sqft_lot           int64\n",
       "floors           float64\n",
       "waterfront         int64\n",
       "view               int64\n",
       "condition          int64\n",
       "grade              int64\n",
       "sqft_above         int64\n",
       "sqft_basement      int64\n",
       "yr_built           int64\n",
       "yr_renovated       int64\n",
       "zipcode            int64\n",
       "lat              float64\n",
       "long             float64\n",
       "sqft_living15      int64\n",
       "sqft_lot15         int64\n",
       "dtype: object"
      ]
     },
     "execution_count": 6,
     "metadata": {},
     "output_type": "execute_result"
    }
   ],
   "execution_count": 6
  },
  {
   "metadata": {},
   "cell_type": "markdown",
   "source": "<p>We use the method <code>discribe()</code> to obtain a statistical summary of the dataframe.</p>",
   "id": "c0490419198893b3"
  },
  {
   "metadata": {
    "ExecuteTime": {
     "end_time": "2025-08-22T07:46:33.026388Z",
     "start_time": "2025-08-22T07:46:32.999460Z"
    }
   },
   "cell_type": "code",
   "source": "df.describe()",
   "id": "e0a5359ddc25b245",
   "outputs": [
    {
     "data": {
      "text/plain": [
       "        Unnamed: 0            id         price      bedrooms     bathrooms  \\\n",
       "count  21613.00000  2.161300e+04  2.161300e+04  21600.000000  21603.000000   \n",
       "mean   10806.00000  4.580302e+09  5.400881e+05      3.372870      2.115736   \n",
       "std     6239.28002  2.876566e+09  3.671272e+05      0.926657      0.768996   \n",
       "min        0.00000  1.000102e+06  7.500000e+04      1.000000      0.500000   \n",
       "25%     5403.00000  2.123049e+09  3.219500e+05      3.000000      1.750000   \n",
       "50%    10806.00000  3.904930e+09  4.500000e+05      3.000000      2.250000   \n",
       "75%    16209.00000  7.308900e+09  6.450000e+05      4.000000      2.500000   \n",
       "max    21612.00000  9.900000e+09  7.700000e+06     33.000000      8.000000   \n",
       "\n",
       "        sqft_living      sqft_lot        floors    waterfront          view  \\\n",
       "count  21613.000000  2.161300e+04  21613.000000  21613.000000  21613.000000   \n",
       "mean    2079.899736  1.510697e+04      1.494309      0.007542      0.234303   \n",
       "std      918.440897  4.142051e+04      0.539989      0.086517      0.766318   \n",
       "min      290.000000  5.200000e+02      1.000000      0.000000      0.000000   \n",
       "25%     1427.000000  5.040000e+03      1.000000      0.000000      0.000000   \n",
       "50%     1910.000000  7.618000e+03      1.500000      0.000000      0.000000   \n",
       "75%     2550.000000  1.068800e+04      2.000000      0.000000      0.000000   \n",
       "max    13540.000000  1.651359e+06      3.500000      1.000000      4.000000   \n",
       "\n",
       "       ...         grade    sqft_above  sqft_basement      yr_built  \\\n",
       "count  ...  21613.000000  21613.000000   21613.000000  21613.000000   \n",
       "mean   ...      7.656873   1788.390691     291.509045   1971.005136   \n",
       "std    ...      1.175459    828.090978     442.575043     29.373411   \n",
       "min    ...      1.000000    290.000000       0.000000   1900.000000   \n",
       "25%    ...      7.000000   1190.000000       0.000000   1951.000000   \n",
       "50%    ...      7.000000   1560.000000       0.000000   1975.000000   \n",
       "75%    ...      8.000000   2210.000000     560.000000   1997.000000   \n",
       "max    ...     13.000000   9410.000000    4820.000000   2015.000000   \n",
       "\n",
       "       yr_renovated       zipcode           lat          long  sqft_living15  \\\n",
       "count  21613.000000  21613.000000  21613.000000  21613.000000   21613.000000   \n",
       "mean      84.402258  98077.939805     47.560053   -122.213896    1986.552492   \n",
       "std      401.679240     53.505026      0.138564      0.140828     685.391304   \n",
       "min        0.000000  98001.000000     47.155900   -122.519000     399.000000   \n",
       "25%        0.000000  98033.000000     47.471000   -122.328000    1490.000000   \n",
       "50%        0.000000  98065.000000     47.571800   -122.230000    1840.000000   \n",
       "75%        0.000000  98118.000000     47.678000   -122.125000    2360.000000   \n",
       "max     2015.000000  98199.000000     47.777600   -121.315000    6210.000000   \n",
       "\n",
       "          sqft_lot15  \n",
       "count   21613.000000  \n",
       "mean    12768.455652  \n",
       "std     27304.179631  \n",
       "min       651.000000  \n",
       "25%      5100.000000  \n",
       "50%      7620.000000  \n",
       "75%     10083.000000  \n",
       "max    871200.000000  \n",
       "\n",
       "[8 rows x 21 columns]"
      ],
      "text/html": [
       "<div>\n",
       "<style scoped>\n",
       "    .dataframe tbody tr th:only-of-type {\n",
       "        vertical-align: middle;\n",
       "    }\n",
       "\n",
       "    .dataframe tbody tr th {\n",
       "        vertical-align: top;\n",
       "    }\n",
       "\n",
       "    .dataframe thead th {\n",
       "        text-align: right;\n",
       "    }\n",
       "</style>\n",
       "<table border=\"1\" class=\"dataframe\">\n",
       "  <thead>\n",
       "    <tr style=\"text-align: right;\">\n",
       "      <th></th>\n",
       "      <th>Unnamed: 0</th>\n",
       "      <th>id</th>\n",
       "      <th>price</th>\n",
       "      <th>bedrooms</th>\n",
       "      <th>bathrooms</th>\n",
       "      <th>sqft_living</th>\n",
       "      <th>sqft_lot</th>\n",
       "      <th>floors</th>\n",
       "      <th>waterfront</th>\n",
       "      <th>view</th>\n",
       "      <th>...</th>\n",
       "      <th>grade</th>\n",
       "      <th>sqft_above</th>\n",
       "      <th>sqft_basement</th>\n",
       "      <th>yr_built</th>\n",
       "      <th>yr_renovated</th>\n",
       "      <th>zipcode</th>\n",
       "      <th>lat</th>\n",
       "      <th>long</th>\n",
       "      <th>sqft_living15</th>\n",
       "      <th>sqft_lot15</th>\n",
       "    </tr>\n",
       "  </thead>\n",
       "  <tbody>\n",
       "    <tr>\n",
       "      <th>count</th>\n",
       "      <td>21613.00000</td>\n",
       "      <td>2.161300e+04</td>\n",
       "      <td>2.161300e+04</td>\n",
       "      <td>21600.000000</td>\n",
       "      <td>21603.000000</td>\n",
       "      <td>21613.000000</td>\n",
       "      <td>2.161300e+04</td>\n",
       "      <td>21613.000000</td>\n",
       "      <td>21613.000000</td>\n",
       "      <td>21613.000000</td>\n",
       "      <td>...</td>\n",
       "      <td>21613.000000</td>\n",
       "      <td>21613.000000</td>\n",
       "      <td>21613.000000</td>\n",
       "      <td>21613.000000</td>\n",
       "      <td>21613.000000</td>\n",
       "      <td>21613.000000</td>\n",
       "      <td>21613.000000</td>\n",
       "      <td>21613.000000</td>\n",
       "      <td>21613.000000</td>\n",
       "      <td>21613.000000</td>\n",
       "    </tr>\n",
       "    <tr>\n",
       "      <th>mean</th>\n",
       "      <td>10806.00000</td>\n",
       "      <td>4.580302e+09</td>\n",
       "      <td>5.400881e+05</td>\n",
       "      <td>3.372870</td>\n",
       "      <td>2.115736</td>\n",
       "      <td>2079.899736</td>\n",
       "      <td>1.510697e+04</td>\n",
       "      <td>1.494309</td>\n",
       "      <td>0.007542</td>\n",
       "      <td>0.234303</td>\n",
       "      <td>...</td>\n",
       "      <td>7.656873</td>\n",
       "      <td>1788.390691</td>\n",
       "      <td>291.509045</td>\n",
       "      <td>1971.005136</td>\n",
       "      <td>84.402258</td>\n",
       "      <td>98077.939805</td>\n",
       "      <td>47.560053</td>\n",
       "      <td>-122.213896</td>\n",
       "      <td>1986.552492</td>\n",
       "      <td>12768.455652</td>\n",
       "    </tr>\n",
       "    <tr>\n",
       "      <th>std</th>\n",
       "      <td>6239.28002</td>\n",
       "      <td>2.876566e+09</td>\n",
       "      <td>3.671272e+05</td>\n",
       "      <td>0.926657</td>\n",
       "      <td>0.768996</td>\n",
       "      <td>918.440897</td>\n",
       "      <td>4.142051e+04</td>\n",
       "      <td>0.539989</td>\n",
       "      <td>0.086517</td>\n",
       "      <td>0.766318</td>\n",
       "      <td>...</td>\n",
       "      <td>1.175459</td>\n",
       "      <td>828.090978</td>\n",
       "      <td>442.575043</td>\n",
       "      <td>29.373411</td>\n",
       "      <td>401.679240</td>\n",
       "      <td>53.505026</td>\n",
       "      <td>0.138564</td>\n",
       "      <td>0.140828</td>\n",
       "      <td>685.391304</td>\n",
       "      <td>27304.179631</td>\n",
       "    </tr>\n",
       "    <tr>\n",
       "      <th>min</th>\n",
       "      <td>0.00000</td>\n",
       "      <td>1.000102e+06</td>\n",
       "      <td>7.500000e+04</td>\n",
       "      <td>1.000000</td>\n",
       "      <td>0.500000</td>\n",
       "      <td>290.000000</td>\n",
       "      <td>5.200000e+02</td>\n",
       "      <td>1.000000</td>\n",
       "      <td>0.000000</td>\n",
       "      <td>0.000000</td>\n",
       "      <td>...</td>\n",
       "      <td>1.000000</td>\n",
       "      <td>290.000000</td>\n",
       "      <td>0.000000</td>\n",
       "      <td>1900.000000</td>\n",
       "      <td>0.000000</td>\n",
       "      <td>98001.000000</td>\n",
       "      <td>47.155900</td>\n",
       "      <td>-122.519000</td>\n",
       "      <td>399.000000</td>\n",
       "      <td>651.000000</td>\n",
       "    </tr>\n",
       "    <tr>\n",
       "      <th>25%</th>\n",
       "      <td>5403.00000</td>\n",
       "      <td>2.123049e+09</td>\n",
       "      <td>3.219500e+05</td>\n",
       "      <td>3.000000</td>\n",
       "      <td>1.750000</td>\n",
       "      <td>1427.000000</td>\n",
       "      <td>5.040000e+03</td>\n",
       "      <td>1.000000</td>\n",
       "      <td>0.000000</td>\n",
       "      <td>0.000000</td>\n",
       "      <td>...</td>\n",
       "      <td>7.000000</td>\n",
       "      <td>1190.000000</td>\n",
       "      <td>0.000000</td>\n",
       "      <td>1951.000000</td>\n",
       "      <td>0.000000</td>\n",
       "      <td>98033.000000</td>\n",
       "      <td>47.471000</td>\n",
       "      <td>-122.328000</td>\n",
       "      <td>1490.000000</td>\n",
       "      <td>5100.000000</td>\n",
       "    </tr>\n",
       "    <tr>\n",
       "      <th>50%</th>\n",
       "      <td>10806.00000</td>\n",
       "      <td>3.904930e+09</td>\n",
       "      <td>4.500000e+05</td>\n",
       "      <td>3.000000</td>\n",
       "      <td>2.250000</td>\n",
       "      <td>1910.000000</td>\n",
       "      <td>7.618000e+03</td>\n",
       "      <td>1.500000</td>\n",
       "      <td>0.000000</td>\n",
       "      <td>0.000000</td>\n",
       "      <td>...</td>\n",
       "      <td>7.000000</td>\n",
       "      <td>1560.000000</td>\n",
       "      <td>0.000000</td>\n",
       "      <td>1975.000000</td>\n",
       "      <td>0.000000</td>\n",
       "      <td>98065.000000</td>\n",
       "      <td>47.571800</td>\n",
       "      <td>-122.230000</td>\n",
       "      <td>1840.000000</td>\n",
       "      <td>7620.000000</td>\n",
       "    </tr>\n",
       "    <tr>\n",
       "      <th>75%</th>\n",
       "      <td>16209.00000</td>\n",
       "      <td>7.308900e+09</td>\n",
       "      <td>6.450000e+05</td>\n",
       "      <td>4.000000</td>\n",
       "      <td>2.500000</td>\n",
       "      <td>2550.000000</td>\n",
       "      <td>1.068800e+04</td>\n",
       "      <td>2.000000</td>\n",
       "      <td>0.000000</td>\n",
       "      <td>0.000000</td>\n",
       "      <td>...</td>\n",
       "      <td>8.000000</td>\n",
       "      <td>2210.000000</td>\n",
       "      <td>560.000000</td>\n",
       "      <td>1997.000000</td>\n",
       "      <td>0.000000</td>\n",
       "      <td>98118.000000</td>\n",
       "      <td>47.678000</td>\n",
       "      <td>-122.125000</td>\n",
       "      <td>2360.000000</td>\n",
       "      <td>10083.000000</td>\n",
       "    </tr>\n",
       "    <tr>\n",
       "      <th>max</th>\n",
       "      <td>21612.00000</td>\n",
       "      <td>9.900000e+09</td>\n",
       "      <td>7.700000e+06</td>\n",
       "      <td>33.000000</td>\n",
       "      <td>8.000000</td>\n",
       "      <td>13540.000000</td>\n",
       "      <td>1.651359e+06</td>\n",
       "      <td>3.500000</td>\n",
       "      <td>1.000000</td>\n",
       "      <td>4.000000</td>\n",
       "      <td>...</td>\n",
       "      <td>13.000000</td>\n",
       "      <td>9410.000000</td>\n",
       "      <td>4820.000000</td>\n",
       "      <td>2015.000000</td>\n",
       "      <td>2015.000000</td>\n",
       "      <td>98199.000000</td>\n",
       "      <td>47.777600</td>\n",
       "      <td>-121.315000</td>\n",
       "      <td>6210.000000</td>\n",
       "      <td>871200.000000</td>\n",
       "    </tr>\n",
       "  </tbody>\n",
       "</table>\n",
       "<p>8 rows × 21 columns</p>\n",
       "</div>"
      ]
     },
     "execution_count": 7,
     "metadata": {},
     "output_type": "execute_result"
    }
   ],
   "execution_count": 7
  },
  {
   "metadata": {},
   "cell_type": "markdown",
   "source": "## Module 2 - Data Wrangling",
   "id": "ff048651016ede6a"
  },
  {
   "metadata": {},
   "cell_type": "markdown",
   "source": "### Question 2",
   "id": "145e08ec6785255e"
  },
  {
   "metadata": {},
   "cell_type": "markdown",
   "source": "<p>Drop the columns <code>id</code> and <code>Unnamed: 0</code> from axis 1 using the method <code>drop()</code>, then use the method <code>describe()</code> to obtain a statistical summary of the data. Take a screenshot of your code and output. You will need to submit the screenshot for the final project.</p>",
   "id": "10d18bde5b5763"
  },
  {
   "metadata": {
    "ExecuteTime": {
     "end_time": "2025-08-22T07:46:33.093450Z",
     "start_time": "2025-08-22T07:46:33.066855Z"
    }
   },
   "cell_type": "code",
   "source": [
    "df = df.drop([\"id\", \"Unnamed: 0\"], axis=1)\n",
    "df.describe()"
   ],
   "id": "c77c139286300c87",
   "outputs": [
    {
     "data": {
      "text/plain": [
       "              price      bedrooms     bathrooms   sqft_living      sqft_lot  \\\n",
       "count  2.161300e+04  21600.000000  21603.000000  21613.000000  2.161300e+04   \n",
       "mean   5.400881e+05      3.372870      2.115736   2079.899736  1.510697e+04   \n",
       "std    3.671272e+05      0.926657      0.768996    918.440897  4.142051e+04   \n",
       "min    7.500000e+04      1.000000      0.500000    290.000000  5.200000e+02   \n",
       "25%    3.219500e+05      3.000000      1.750000   1427.000000  5.040000e+03   \n",
       "50%    4.500000e+05      3.000000      2.250000   1910.000000  7.618000e+03   \n",
       "75%    6.450000e+05      4.000000      2.500000   2550.000000  1.068800e+04   \n",
       "max    7.700000e+06     33.000000      8.000000  13540.000000  1.651359e+06   \n",
       "\n",
       "             floors    waterfront          view     condition         grade  \\\n",
       "count  21613.000000  21613.000000  21613.000000  21613.000000  21613.000000   \n",
       "mean       1.494309      0.007542      0.234303      3.409430      7.656873   \n",
       "std        0.539989      0.086517      0.766318      0.650743      1.175459   \n",
       "min        1.000000      0.000000      0.000000      1.000000      1.000000   \n",
       "25%        1.000000      0.000000      0.000000      3.000000      7.000000   \n",
       "50%        1.500000      0.000000      0.000000      3.000000      7.000000   \n",
       "75%        2.000000      0.000000      0.000000      4.000000      8.000000   \n",
       "max        3.500000      1.000000      4.000000      5.000000     13.000000   \n",
       "\n",
       "         sqft_above  sqft_basement      yr_built  yr_renovated       zipcode  \\\n",
       "count  21613.000000   21613.000000  21613.000000  21613.000000  21613.000000   \n",
       "mean    1788.390691     291.509045   1971.005136     84.402258  98077.939805   \n",
       "std      828.090978     442.575043     29.373411    401.679240     53.505026   \n",
       "min      290.000000       0.000000   1900.000000      0.000000  98001.000000   \n",
       "25%     1190.000000       0.000000   1951.000000      0.000000  98033.000000   \n",
       "50%     1560.000000       0.000000   1975.000000      0.000000  98065.000000   \n",
       "75%     2210.000000     560.000000   1997.000000      0.000000  98118.000000   \n",
       "max     9410.000000    4820.000000   2015.000000   2015.000000  98199.000000   \n",
       "\n",
       "                lat          long  sqft_living15     sqft_lot15  \n",
       "count  21613.000000  21613.000000   21613.000000   21613.000000  \n",
       "mean      47.560053   -122.213896    1986.552492   12768.455652  \n",
       "std        0.138564      0.140828     685.391304   27304.179631  \n",
       "min       47.155900   -122.519000     399.000000     651.000000  \n",
       "25%       47.471000   -122.328000    1490.000000    5100.000000  \n",
       "50%       47.571800   -122.230000    1840.000000    7620.000000  \n",
       "75%       47.678000   -122.125000    2360.000000   10083.000000  \n",
       "max       47.777600   -121.315000    6210.000000  871200.000000  "
      ],
      "text/html": [
       "<div>\n",
       "<style scoped>\n",
       "    .dataframe tbody tr th:only-of-type {\n",
       "        vertical-align: middle;\n",
       "    }\n",
       "\n",
       "    .dataframe tbody tr th {\n",
       "        vertical-align: top;\n",
       "    }\n",
       "\n",
       "    .dataframe thead th {\n",
       "        text-align: right;\n",
       "    }\n",
       "</style>\n",
       "<table border=\"1\" class=\"dataframe\">\n",
       "  <thead>\n",
       "    <tr style=\"text-align: right;\">\n",
       "      <th></th>\n",
       "      <th>price</th>\n",
       "      <th>bedrooms</th>\n",
       "      <th>bathrooms</th>\n",
       "      <th>sqft_living</th>\n",
       "      <th>sqft_lot</th>\n",
       "      <th>floors</th>\n",
       "      <th>waterfront</th>\n",
       "      <th>view</th>\n",
       "      <th>condition</th>\n",
       "      <th>grade</th>\n",
       "      <th>sqft_above</th>\n",
       "      <th>sqft_basement</th>\n",
       "      <th>yr_built</th>\n",
       "      <th>yr_renovated</th>\n",
       "      <th>zipcode</th>\n",
       "      <th>lat</th>\n",
       "      <th>long</th>\n",
       "      <th>sqft_living15</th>\n",
       "      <th>sqft_lot15</th>\n",
       "    </tr>\n",
       "  </thead>\n",
       "  <tbody>\n",
       "    <tr>\n",
       "      <th>count</th>\n",
       "      <td>2.161300e+04</td>\n",
       "      <td>21600.000000</td>\n",
       "      <td>21603.000000</td>\n",
       "      <td>21613.000000</td>\n",
       "      <td>2.161300e+04</td>\n",
       "      <td>21613.000000</td>\n",
       "      <td>21613.000000</td>\n",
       "      <td>21613.000000</td>\n",
       "      <td>21613.000000</td>\n",
       "      <td>21613.000000</td>\n",
       "      <td>21613.000000</td>\n",
       "      <td>21613.000000</td>\n",
       "      <td>21613.000000</td>\n",
       "      <td>21613.000000</td>\n",
       "      <td>21613.000000</td>\n",
       "      <td>21613.000000</td>\n",
       "      <td>21613.000000</td>\n",
       "      <td>21613.000000</td>\n",
       "      <td>21613.000000</td>\n",
       "    </tr>\n",
       "    <tr>\n",
       "      <th>mean</th>\n",
       "      <td>5.400881e+05</td>\n",
       "      <td>3.372870</td>\n",
       "      <td>2.115736</td>\n",
       "      <td>2079.899736</td>\n",
       "      <td>1.510697e+04</td>\n",
       "      <td>1.494309</td>\n",
       "      <td>0.007542</td>\n",
       "      <td>0.234303</td>\n",
       "      <td>3.409430</td>\n",
       "      <td>7.656873</td>\n",
       "      <td>1788.390691</td>\n",
       "      <td>291.509045</td>\n",
       "      <td>1971.005136</td>\n",
       "      <td>84.402258</td>\n",
       "      <td>98077.939805</td>\n",
       "      <td>47.560053</td>\n",
       "      <td>-122.213896</td>\n",
       "      <td>1986.552492</td>\n",
       "      <td>12768.455652</td>\n",
       "    </tr>\n",
       "    <tr>\n",
       "      <th>std</th>\n",
       "      <td>3.671272e+05</td>\n",
       "      <td>0.926657</td>\n",
       "      <td>0.768996</td>\n",
       "      <td>918.440897</td>\n",
       "      <td>4.142051e+04</td>\n",
       "      <td>0.539989</td>\n",
       "      <td>0.086517</td>\n",
       "      <td>0.766318</td>\n",
       "      <td>0.650743</td>\n",
       "      <td>1.175459</td>\n",
       "      <td>828.090978</td>\n",
       "      <td>442.575043</td>\n",
       "      <td>29.373411</td>\n",
       "      <td>401.679240</td>\n",
       "      <td>53.505026</td>\n",
       "      <td>0.138564</td>\n",
       "      <td>0.140828</td>\n",
       "      <td>685.391304</td>\n",
       "      <td>27304.179631</td>\n",
       "    </tr>\n",
       "    <tr>\n",
       "      <th>min</th>\n",
       "      <td>7.500000e+04</td>\n",
       "      <td>1.000000</td>\n",
       "      <td>0.500000</td>\n",
       "      <td>290.000000</td>\n",
       "      <td>5.200000e+02</td>\n",
       "      <td>1.000000</td>\n",
       "      <td>0.000000</td>\n",
       "      <td>0.000000</td>\n",
       "      <td>1.000000</td>\n",
       "      <td>1.000000</td>\n",
       "      <td>290.000000</td>\n",
       "      <td>0.000000</td>\n",
       "      <td>1900.000000</td>\n",
       "      <td>0.000000</td>\n",
       "      <td>98001.000000</td>\n",
       "      <td>47.155900</td>\n",
       "      <td>-122.519000</td>\n",
       "      <td>399.000000</td>\n",
       "      <td>651.000000</td>\n",
       "    </tr>\n",
       "    <tr>\n",
       "      <th>25%</th>\n",
       "      <td>3.219500e+05</td>\n",
       "      <td>3.000000</td>\n",
       "      <td>1.750000</td>\n",
       "      <td>1427.000000</td>\n",
       "      <td>5.040000e+03</td>\n",
       "      <td>1.000000</td>\n",
       "      <td>0.000000</td>\n",
       "      <td>0.000000</td>\n",
       "      <td>3.000000</td>\n",
       "      <td>7.000000</td>\n",
       "      <td>1190.000000</td>\n",
       "      <td>0.000000</td>\n",
       "      <td>1951.000000</td>\n",
       "      <td>0.000000</td>\n",
       "      <td>98033.000000</td>\n",
       "      <td>47.471000</td>\n",
       "      <td>-122.328000</td>\n",
       "      <td>1490.000000</td>\n",
       "      <td>5100.000000</td>\n",
       "    </tr>\n",
       "    <tr>\n",
       "      <th>50%</th>\n",
       "      <td>4.500000e+05</td>\n",
       "      <td>3.000000</td>\n",
       "      <td>2.250000</td>\n",
       "      <td>1910.000000</td>\n",
       "      <td>7.618000e+03</td>\n",
       "      <td>1.500000</td>\n",
       "      <td>0.000000</td>\n",
       "      <td>0.000000</td>\n",
       "      <td>3.000000</td>\n",
       "      <td>7.000000</td>\n",
       "      <td>1560.000000</td>\n",
       "      <td>0.000000</td>\n",
       "      <td>1975.000000</td>\n",
       "      <td>0.000000</td>\n",
       "      <td>98065.000000</td>\n",
       "      <td>47.571800</td>\n",
       "      <td>-122.230000</td>\n",
       "      <td>1840.000000</td>\n",
       "      <td>7620.000000</td>\n",
       "    </tr>\n",
       "    <tr>\n",
       "      <th>75%</th>\n",
       "      <td>6.450000e+05</td>\n",
       "      <td>4.000000</td>\n",
       "      <td>2.500000</td>\n",
       "      <td>2550.000000</td>\n",
       "      <td>1.068800e+04</td>\n",
       "      <td>2.000000</td>\n",
       "      <td>0.000000</td>\n",
       "      <td>0.000000</td>\n",
       "      <td>4.000000</td>\n",
       "      <td>8.000000</td>\n",
       "      <td>2210.000000</td>\n",
       "      <td>560.000000</td>\n",
       "      <td>1997.000000</td>\n",
       "      <td>0.000000</td>\n",
       "      <td>98118.000000</td>\n",
       "      <td>47.678000</td>\n",
       "      <td>-122.125000</td>\n",
       "      <td>2360.000000</td>\n",
       "      <td>10083.000000</td>\n",
       "    </tr>\n",
       "    <tr>\n",
       "      <th>max</th>\n",
       "      <td>7.700000e+06</td>\n",
       "      <td>33.000000</td>\n",
       "      <td>8.000000</td>\n",
       "      <td>13540.000000</td>\n",
       "      <td>1.651359e+06</td>\n",
       "      <td>3.500000</td>\n",
       "      <td>1.000000</td>\n",
       "      <td>4.000000</td>\n",
       "      <td>5.000000</td>\n",
       "      <td>13.000000</td>\n",
       "      <td>9410.000000</td>\n",
       "      <td>4820.000000</td>\n",
       "      <td>2015.000000</td>\n",
       "      <td>2015.000000</td>\n",
       "      <td>98199.000000</td>\n",
       "      <td>47.777600</td>\n",
       "      <td>-121.315000</td>\n",
       "      <td>6210.000000</td>\n",
       "      <td>871200.000000</td>\n",
       "    </tr>\n",
       "  </tbody>\n",
       "</table>\n",
       "</div>"
      ]
     },
     "execution_count": 8,
     "metadata": {},
     "output_type": "execute_result"
    }
   ],
   "execution_count": 8
  },
  {
   "metadata": {},
   "cell_type": "markdown",
   "source": "<p>We can see we have missing values for the columns <code>bedrooms</code> and <code>bathrooms</code>.</p>",
   "id": "99fd5a0f4bbbc638"
  },
  {
   "metadata": {
    "ExecuteTime": {
     "end_time": "2025-08-22T07:46:33.239753Z",
     "start_time": "2025-08-22T07:46:33.236517Z"
    }
   },
   "cell_type": "code",
   "source": [
    "print(f\"The number of NaN values for the column bedrooms: {df[\"bedrooms\"].isnull().sum()}\")\n",
    "print(f\"The number of NaN values for the column bathrooms: {df[\"bathrooms\"].isnull().sum()}\")"
   ],
   "id": "9939ddf8d87a323",
   "outputs": [
    {
     "name": "stdout",
     "output_type": "stream",
     "text": [
      "The number of NaN values for the column bedrooms: 13\n",
      "The number of NaN values for the column bathrooms: 10\n"
     ]
    }
   ],
   "execution_count": 9
  },
  {
   "metadata": {},
   "cell_type": "markdown",
   "source": "<p>We can replace the missing values of the column <code>bedrooms</code> with the mean of the column <code>bedrooms</code> using the method <code>replace()</code>.</p>",
   "id": "a73c96c35bb69d7a"
  },
  {
   "metadata": {
    "ExecuteTime": {
     "end_time": "2025-08-22T07:46:33.320885Z",
     "start_time": "2025-08-22T07:46:33.317741Z"
    }
   },
   "cell_type": "code",
   "source": [
    "mean_bedrooms = df[\"bedrooms\"].mean()\n",
    "df[\"bedrooms\"] = df[\"bedrooms\"].replace(np.nan, mean_bedrooms)"
   ],
   "id": "636d78c6b5e5f8f9",
   "outputs": [],
   "execution_count": 10
  },
  {
   "metadata": {},
   "cell_type": "markdown",
   "source": "<p>We also replace the missing values of the column <code>bathrooms</code> with the mean of the column <code>bathrooms</code> using the method <code>replace()</code>.</p>",
   "id": "4d0d72d28c875c8e"
  },
  {
   "metadata": {
    "ExecuteTime": {
     "end_time": "2025-08-22T07:46:33.339025Z",
     "start_time": "2025-08-22T07:46:33.335800Z"
    }
   },
   "cell_type": "code",
   "source": [
    "mean_bathrooms = df[\"bathrooms\"].mean()\n",
    "df[\"bathrooms\"] = df[\"bathrooms\"].replace(np.nan, mean_bathrooms)"
   ],
   "id": "24a5eba896b92ea8",
   "outputs": [],
   "execution_count": 11
  },
  {
   "metadata": {
    "ExecuteTime": {
     "end_time": "2025-08-22T07:46:33.352505Z",
     "start_time": "2025-08-22T07:46:33.348830Z"
    }
   },
   "cell_type": "code",
   "source": [
    "print(f\"The number of NaN values for the column bedrooms: {df[\"bedrooms\"].isnull().sum()}\")\n",
    "print(f\"The number of NaN values for the column bathrooms: {df[\"bathrooms\"].isnull().sum()}\")"
   ],
   "id": "52a4ee3b63fdb642",
   "outputs": [
    {
     "name": "stdout",
     "output_type": "stream",
     "text": [
      "The number of NaN values for the column bedrooms: 0\n",
      "The number of NaN values for the column bathrooms: 0\n"
     ]
    }
   ],
   "execution_count": 12
  },
  {
   "metadata": {},
   "cell_type": "markdown",
   "source": "## Module 3 - Exploratory Data Analysis (EDA)",
   "id": "6b9fb25d42e82c45"
  },
  {
   "metadata": {},
   "cell_type": "markdown",
   "source": "### Question 3",
   "id": "6f05c9d03df992d4"
  },
  {
   "metadata": {},
   "cell_type": "markdown",
   "source": "<p>Use the method <code>value_counts()</code> to count the number of houses with unique floor values, use the method <code>.to_frame()</code> to convert it to a <code>pandas.DataFrame</code>. Take a screenshot of your code and output. You will need to submit the screenshot for the final project.</p>",
   "id": "312330a058ae126f"
  },
  {
   "metadata": {
    "ExecuteTime": {
     "end_time": "2025-08-22T07:46:33.372912Z",
     "start_time": "2025-08-22T07:46:33.368150Z"
    }
   },
   "cell_type": "code",
   "source": "df[\"floors\"].value_counts().to_frame()",
   "id": "36e3ef0483b31b06",
   "outputs": [
    {
     "data": {
      "text/plain": [
       "        count\n",
       "floors       \n",
       "1.0     10680\n",
       "2.0      8241\n",
       "1.5      1910\n",
       "3.0       613\n",
       "2.5       161\n",
       "3.5         8"
      ],
      "text/html": [
       "<div>\n",
       "<style scoped>\n",
       "    .dataframe tbody tr th:only-of-type {\n",
       "        vertical-align: middle;\n",
       "    }\n",
       "\n",
       "    .dataframe tbody tr th {\n",
       "        vertical-align: top;\n",
       "    }\n",
       "\n",
       "    .dataframe thead th {\n",
       "        text-align: right;\n",
       "    }\n",
       "</style>\n",
       "<table border=\"1\" class=\"dataframe\">\n",
       "  <thead>\n",
       "    <tr style=\"text-align: right;\">\n",
       "      <th></th>\n",
       "      <th>count</th>\n",
       "    </tr>\n",
       "    <tr>\n",
       "      <th>floors</th>\n",
       "      <th></th>\n",
       "    </tr>\n",
       "  </thead>\n",
       "  <tbody>\n",
       "    <tr>\n",
       "      <th>1.0</th>\n",
       "      <td>10680</td>\n",
       "    </tr>\n",
       "    <tr>\n",
       "      <th>2.0</th>\n",
       "      <td>8241</td>\n",
       "    </tr>\n",
       "    <tr>\n",
       "      <th>1.5</th>\n",
       "      <td>1910</td>\n",
       "    </tr>\n",
       "    <tr>\n",
       "      <th>3.0</th>\n",
       "      <td>613</td>\n",
       "    </tr>\n",
       "    <tr>\n",
       "      <th>2.5</th>\n",
       "      <td>161</td>\n",
       "    </tr>\n",
       "    <tr>\n",
       "      <th>3.5</th>\n",
       "      <td>8</td>\n",
       "    </tr>\n",
       "  </tbody>\n",
       "</table>\n",
       "</div>"
      ]
     },
     "execution_count": 13,
     "metadata": {},
     "output_type": "execute_result"
    }
   ],
   "execution_count": 13
  },
  {
   "metadata": {},
   "cell_type": "markdown",
   "source": "### Question 4",
   "id": "5e23472a8ff98699"
  },
  {
   "metadata": {},
   "cell_type": "markdown",
   "source": "<p>Use the function <code>boxplot()</code> in the seaborn library to determine whether houses with a waterfront view or without a waterfront view have more <code>price</code> outliers. Take a screenshot of your code and boxplot. You will need to submit the screenshot for the final project.</p>",
   "id": "4ae460a07c933a3"
  },
  {
   "metadata": {
    "ExecuteTime": {
     "end_time": "2025-08-22T07:46:33.483292Z",
     "start_time": "2025-08-22T07:46:33.404927Z"
    }
   },
   "cell_type": "code",
   "source": "sns.boxplot(x=\"waterfront\", y=\"price\", data=df)",
   "id": "4051c547a053d0f9",
   "outputs": [
    {
     "data": {
      "text/plain": [
       "<Axes: xlabel='waterfront', ylabel='price'>"
      ]
     },
     "execution_count": 14,
     "metadata": {},
     "output_type": "execute_result"
    },
    {
     "data": {
      "text/plain": [
       "<Figure size 640x480 with 1 Axes>"
      ],
      "image/png": "[encoded data removed]"
     },
     "metadata": {},
     "output_type": "display_data"
    }
   ],
   "execution_count": 14
  },
  {
   "metadata": {},
   "cell_type": "markdown",
   "source": "### Question 5",
   "id": "96d1649cdfe3187d"
  },
  {
   "metadata": {},
   "cell_type": "markdown",
   "source": "<p>Use the function <code>regplot()</code> in the seaborn library to determine if the feature <code>sqft_above</code> is negatively or positively correlated with <code>price</code>. Take a screenshot of your code and scatterplot. You will need to submit the screenshot for the final project.</p>",
   "id": "938d11083629ec47"
  },
  {
   "metadata": {
    "ExecuteTime": {
     "end_time": "2025-08-22T07:46:33.988325Z",
     "start_time": "2025-08-22T07:46:33.505422Z"
    }
   },
   "cell_type": "code",
   "source": "sns.regplot(x=\"sqft_above\", y=\"price\", data=df, line_kws={\"color\": \"red\"})",
   "id": "fc399e50cb4b0a71",
   "outputs": [
    {
     "data": {
      "text/plain": [
       "<Axes: xlabel='sqft_above', ylabel='price'>"
      ]
     },
     "execution_count": 15,
     "metadata": {},
     "output_type": "execute_result"
    },
    {
     "data": {
      "text/plain": [
       "<Figure size 640x480 with 1 Axes>"
      ],
      "image/png": "[encoded data removed]"
     },
     "metadata": {},
     "output_type": "display_data"
    }
   ],
   "execution_count": 15
  },
  {
   "metadata": {},
   "cell_type": "markdown",
   "source": "<p>We can use the <code>pandas</code> method <code>corr()</code> to find the feature other than <code>price</code> that is most correlated with <code>price</code>.</p>",
   "id": "2d62bac80773983c"
  },
  {
   "metadata": {
    "ExecuteTime": {
     "end_time": "2025-08-22T07:46:34.020258Z",
     "start_time": "2025-08-22T07:46:34.003842Z"
    }
   },
   "cell_type": "code",
   "source": [
    "df_numeric = df.select_dtypes(include=[np.number])\n",
    "df_numeric.corr()[\"price\"].sort_values()"
   ],
   "id": "f7e1e2769c04b444",
   "outputs": [
    {
     "data": {
      "text/plain": [
       "zipcode         -0.053203\n",
       "long             0.021626\n",
       "condition        0.036362\n",
       "yr_built         0.054012\n",
       "sqft_lot15       0.082447\n",
       "sqft_lot         0.089661\n",
       "yr_renovated     0.126434\n",
       "floors           0.256794\n",
       "waterfront       0.266369\n",
       "lat              0.307003\n",
       "bedrooms         0.308797\n",
       "sqft_basement    0.323816\n",
       "view             0.397293\n",
       "bathrooms        0.525738\n",
       "sqft_living15    0.585379\n",
       "sqft_above       0.605567\n",
       "grade            0.667434\n",
       "sqft_living      0.702035\n",
       "price            1.000000\n",
       "Name: price, dtype: float64"
      ]
     },
     "execution_count": 16,
     "metadata": {},
     "output_type": "execute_result"
    }
   ],
   "execution_count": 16
  },
  {
   "metadata": {},
   "cell_type": "markdown",
   "source": "## Module 4 - Model Development",
   "id": "4a2d91dfb5a7bc63"
  },
  {
   "metadata": {},
   "cell_type": "markdown",
   "source": "<p>We can Fit a Linear Regression model using the longitute feature <code>long</code> and calculate the $R^2$.</p>",
   "id": "4b7090afe4429482"
  },
  {
   "metadata": {
    "ExecuteTime": {
     "end_time": "2025-08-22T07:46:34.050530Z",
     "start_time": "2025-08-22T07:46:34.044806Z"
    }
   },
   "cell_type": "code",
   "source": [
    "x = df[[\"long\"]]\n",
    "y = df[\"price\"]\n",
    "\n",
    "lm = LinearRegression()\n",
    "lm.fit(x, y)\n",
    "lm.score(x, y)"
   ],
   "id": "8deb008646361272",
   "outputs": [
    {
     "data": {
      "text/plain": [
       "0.0004676943014898516"
      ]
     },
     "execution_count": 17,
     "metadata": {},
     "output_type": "execute_result"
    }
   ],
   "execution_count": 17
  },
  {
   "metadata": {},
   "cell_type": "markdown",
   "source": "### Question 6",
   "id": "6d17e9fcc9066888"
  },
  {
   "metadata": {},
   "cell_type": "markdown",
   "source": "<p>Fit a Linear Regression model to predict the <code>price</code> using the feature <code>sqft_living</code> then calculate the $R^2$. Take a screenshot of your code and the value of the $R^2$. You will need to submit it for the final project.</p>",
   "id": "5cbbf606c068c0cd"
  },
  {
   "metadata": {
    "ExecuteTime": {
     "end_time": "2025-08-22T07:46:34.119867Z",
     "start_time": "2025-08-22T07:46:34.114075Z"
    }
   },
   "cell_type": "code",
   "source": [
    "x = df[[\"sqft_living\"]]\n",
    "y = df[\"price\"]\n",
    "\n",
    "lr = LinearRegression()\n",
    "lr.fit(x, y)\n",
    "lr.score(x, y)"
   ],
   "id": "611381a8fa1c0807",
   "outputs": [
    {
     "data": {
      "text/plain": [
       "0.4928532179037931"
      ]
     },
     "execution_count": 18,
     "metadata": {},
     "output_type": "execute_result"
    }
   ],
   "execution_count": 18
  },
  {
   "metadata": {},
   "cell_type": "markdown",
   "source": "### Question 7",
   "id": "e1865a51ef78e69f"
  },
  {
   "metadata": {},
   "cell_type": "markdown",
   "source": "<p>Fit a Linear Regression model to predict the <code>price</code> using the list of features:</p>",
   "id": "c72570aba52ff963"
  },
  {
   "metadata": {
    "ExecuteTime": {
     "end_time": "2025-08-22T07:46:34.164020Z",
     "start_time": "2025-08-22T07:46:34.161611Z"
    }
   },
   "cell_type": "code",
   "source": [
    "features = [\n",
    "    \"floors\", \"waterfront\", \"lat\", \"bedrooms\", \"sqft_basement\", \"view\", \"bathrooms\", \"sqft_living15\", \"sqft_above\", \"grade\", \"sqft_living\"\n",
    "]"
   ],
   "id": "2a2b550290c632b",
   "outputs": [],
   "execution_count": 19
  },
  {
   "metadata": {},
   "cell_type": "markdown",
   "source": "<p>Then calculate the $R^2$. Take a screenshot of your code and the value of the $R^2$. You will need to submit it for the final project.</p>",
   "id": "e877f79ee05c9597"
  },
  {
   "metadata": {
    "ExecuteTime": {
     "end_time": "2025-08-22T07:46:34.184315Z",
     "start_time": "2025-08-22T07:46:34.170039Z"
    }
   },
   "cell_type": "code",
   "source": [
    "z = df[features]\n",
    "lr_1 = LinearRegression()\n",
    "lr_1.fit(z, y)\n",
    "lr_1.score(z, y)"
   ],
   "id": "2075acccd3c86c0",
   "outputs": [
    {
     "data": {
      "text/plain": [
       "0.6576951666037499"
      ]
     },
     "execution_count": 20,
     "metadata": {},
     "output_type": "execute_result"
    }
   ],
   "execution_count": 20
  },
  {
   "metadata": {},
   "cell_type": "markdown",
   "source": "### This will help with Question8",
   "id": "c0fe314943a00760"
  },
  {
   "metadata": {},
   "cell_type": "markdown",
   "source": "<p>Create a list of tuples, the first element in the tuple contains the name of the estimator: <code>scale</code>, <code>polynomial</code> and <code>model</code>. The second element in the tuple contains the model constructor: <code>StandardScaler()</code>, <code>PolynomialFeatures(include_bias=False)</code> and <code>LinearRegression()</code>.</p>",
   "id": "b8a060523fc0bfb0"
  },
  {
   "metadata": {
    "ExecuteTime": {
     "end_time": "2025-08-22T07:46:34.200339Z",
     "start_time": "2025-08-22T07:46:34.197958Z"
    }
   },
   "cell_type": "code",
   "source": "input_ = [(\"scale\", StandardScaler()), (\"polynomial\", PolynomialFeatures(include_bias=False)), (\"model\", LinearRegression())]",
   "id": "8acc04056cc21a1b",
   "outputs": [],
   "execution_count": 21
  },
  {
   "metadata": {},
   "cell_type": "markdown",
   "source": "### Question 8",
   "id": "e4eb8c99c35fe47c"
  },
  {
   "metadata": {},
   "cell_type": "markdown",
   "source": "<p>Use the list to create a pipeline object to predict the <code>price</code>, fit the object using the features in the list <code>features</code>, and calculate the $R^2$. Take a screenshot of your code and the value of the $R^2$. You will need to submit it for the final project.</p>",
   "id": "f93991cee4e2a9c1"
  },
  {
   "metadata": {
    "ExecuteTime": {
     "end_time": "2025-08-22T07:46:34.284977Z",
     "start_time": "2025-08-22T07:46:34.205444Z"
    }
   },
   "cell_type": "code",
   "source": [
    "pipe = Pipeline(input_)\n",
    "pipe.fit(z, y)\n",
    "pipe.score(z, y)"
   ],
   "id": "2fdaefe1adfc029d",
   "outputs": [
    {
     "data": {
      "text/plain": [
       "0.7513408515988734"
      ]
     },
     "execution_count": 22,
     "metadata": {},
     "output_type": "execute_result"
    }
   ],
   "execution_count": 22
  },
  {
   "metadata": {},
   "cell_type": "markdown",
   "source": "## Module 5 - Model Evaluation and Refinement",
   "id": "a99786605710def"
  },
  {
   "metadata": {},
   "cell_type": "markdown",
   "source": "<p>We will split the data into training and testing sets.</p>",
   "id": "73c55ef78a419ffe"
  },
  {
   "metadata": {
    "ExecuteTime": {
     "end_time": "2025-08-22T07:46:34.302878Z",
     "start_time": "2025-08-22T07:46:34.297635Z"
    }
   },
   "cell_type": "code",
   "source": [
    "x_train, x_test, y_train, y_test = train_test_split(z, y, test_size=0.15, random_state=0)\n",
    "\n",
    "print(f\"The number of test samples: {x_test.shape[0]}\")\n",
    "print(f\"The number of training samples: {x_train.shape[0]}\")"
   ],
   "id": "979437ea56b4ead2",
   "outputs": [
    {
     "name": "stdout",
     "output_type": "stream",
     "text": [
      "The number of test samples: 3242\n",
      "The number of training samples: 18371\n"
     ]
    }
   ],
   "execution_count": 23
  },
  {
   "metadata": {},
   "cell_type": "markdown",
   "source": "### Question 9",
   "id": "102cff7dcbe2667a"
  },
  {
   "metadata": {},
   "cell_type": "markdown",
   "source": "<p>Create and fit a Ridge Regression object using the training data, set the regularization parameter to 0.1, and calculate the $R^2$ using the test data. Take a screenshot of your code and the value of the $R^2$. You will need to submit it for the final project.</p>",
   "id": "9021bfe2ef1fffba"
  },
  {
   "metadata": {
    "ExecuteTime": {
     "end_time": "2025-08-22T07:46:34.322915Z",
     "start_time": "2025-08-22T07:46:34.314639Z"
    }
   },
   "cell_type": "code",
   "source": [
    "ridge_model = Ridge(alpha=0.1)\n",
    "ridge_model.fit(x_train, y_train)\n",
    "ridge_model.score(x_test, y_test)"
   ],
   "id": "f202ff4da42104a7",
   "outputs": [
    {
     "data": {
      "text/plain": [
       "0.6484640309561597"
      ]
     },
     "execution_count": 24,
     "metadata": {},
     "output_type": "execute_result"
    }
   ],
   "execution_count": 24
  },
  {
   "metadata": {},
   "cell_type": "markdown",
   "source": "### Question 10",
   "id": "f54928f489ce0774"
  },
  {
   "metadata": {},
   "cell_type": "markdown",
   "source": "<p>Perform a second order polynomial transform on both the training data and testing data. Create and fit a Ridge Regression object using the training data, set the regularisation parameter to 0.1, and calculate the $R^2$ utilising the test data provided. Take a screenshot of your code and the $R^2$. You will need to submit it for the final project.</p>",
   "id": "33f6078a2a8cee50"
  },
  {
   "metadata": {
    "ExecuteTime": {
     "end_time": "2025-08-22T07:46:34.430127Z",
     "start_time": "2025-08-22T07:46:34.329504Z"
    }
   },
   "cell_type": "code",
   "source": [
    "pr = PolynomialFeatures(degree=2)\n",
    "x_train_pr = pr.fit_transform(x_train)\n",
    "x_test_pr = pr.transform(x_test)\n",
    "\n",
    "ridge_model_1 = Ridge(alpha=0.1)\n",
    "ridge_model_1.fit(x_train_pr, y_train)\n",
    "ridge_model_1.score(x_test_pr, y_test)"
   ],
   "id": "e1493859c43f5112",
   "outputs": [
    {
     "data": {
      "text/plain": [
       "0.7164618254488316"
      ]
     },
     "execution_count": 25,
     "metadata": {},
     "output_type": "execute_result"
    }
   ],
   "execution_count": 25
  },
  {
   "metadata": {},
   "cell_type": "markdown",
   "source": [
    "****\n",
    "This is the end of the file.\n",
    "****"
   ],
   "id": "5c5c89b32b1bebfc"
  }
 ],
 "metadata": {
  "kernelspec": {
   "display_name": "Python 3",
   "language": "python",
   "name": "python3"
  },
  "language_info": {
   "codemirror_mode": {
    "name": "ipython",
    "version": 2
   },
   "file_extension": ".py",
   "mimetype": "text/x-python",
   "name": "python",
   "nbconvert_exporter": "python",
   "pygments_lexer": "ipython2",
   "version": "2.7.6"
  }
 },
 "nbformat": 4,
 "nbformat_minor": 5
}
