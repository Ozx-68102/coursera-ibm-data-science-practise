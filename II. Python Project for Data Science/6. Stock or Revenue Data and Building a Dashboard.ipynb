{
 "cells": [
  {
   "metadata": {},
   "cell_type": "markdown",
   "source": "# Extracting and Visualizing Stock Data",
   "id": "43a5ca190b156f1d"
  },
  {
   "metadata": {
    "ExecuteTime": {
     "end_time": "2025-08-04T13:26:58.277715Z",
     "start_time": "2025-08-04T13:26:57.344463Z"
    }
   },
   "cell_type": "code",
   "source": [
    "from plotly.subplots import make_subplots\n",
    "from bs4 import BeautifulSoup\n",
    "\n",
    "import yfinance as yf\n",
    "import pandas as pd\n",
    "import plotly.graph_objects as go\n",
    "import plotly.io as pio\n",
    "import requests\n",
    "import re"
   ],
   "id": "685da30a28798dab",
   "outputs": [],
   "execution_count": 1
  },
  {
   "metadata": {
    "ExecuteTime": {
     "end_time": "2025-08-04T13:26:58.521628Z",
     "start_time": "2025-08-04T13:26:58.418003Z"
    }
   },
   "cell_type": "code",
   "source": [
    "pio.renderers.default = \"iframe\"\n",
    "yf.set_config(\"http://127.0.0.1:10808\") # if you're located in mainland China, please set a proxy, or it'll raise `YFRateLimitError: Too Many Requests`. Replace here to your proxy."
   ],
   "id": "db4b1fdb04691d7",
   "outputs": [],
   "execution_count": 2
  },
  {
   "metadata": {},
   "cell_type": "markdown",
   "source": "## Define Graphing Function",
   "id": "568419edb9cdfd5c"
  },
  {
   "metadata": {},
   "cell_type": "markdown",
   "source": "<p>In this section, we define the function <code>make_graph</code>. <b>You don't have to know how the function works, you should only care about the inputs. It takes a dataframe with stock data (dataframe must contain Date and Close columns), a dataframe with revenue data (dataframe must contain Date and Revenue columns), and the name of the stock.</b></p>",
   "id": "d8124de675f7da89"
  },
  {
   "metadata": {
    "ExecuteTime": {
     "end_time": "2025-08-04T13:26:58.537054Z",
     "start_time": "2025-08-04T13:26:58.532932Z"
    }
   },
   "cell_type": "code",
   "source": [
    "def make_graph(stock_data: pd.DataFrame, revenue_data: pd.DataFrame, stock: str) -> None:\n",
    "    fig = make_subplots(rows=2, cols=1, shared_xaxes=True, subplot_titles=(\"Historical Share Price\", \"Historical Revenue\"), vertical_spacing=0.3)\n",
    "\n",
    "    stock_data_specific = stock_data[stock_data.Date <= \"2021-06-14\"]\n",
    "    revenue_data_specific = revenue_data[revenue_data.Date <= \"2021-04-30\"]\n",
    "\n",
    "    fig.add_trace(go.Scatter(x=pd.to_datetime(stock_data_specific.Date, format=\"%Y-%m-%d\"), y=stock_data_specific.Close.astype(float), name=\"Stock Price\"), row=1, col=1)\n",
    "    fig.add_trace(go.Scatter(x=pd.to_datetime(revenue_data_specific.Date, format=\"%Y-%m-%d\"), y=revenue_data_specific.Revenue.astype(float), name=\"Revenue\"), row=2, col=1)\n",
    "    fig.update_xaxes(title_text=\"Date\", row=1, col=1, showticklabels=True)\n",
    "    fig.update_xaxes(title_text=\"Date\", row=2, col=1, showticklabels=True)\n",
    "    fig.update_yaxes(title_text=\"Price ($US)\", row=1, col=1)\n",
    "    fig.update_yaxes(title_text=\"Revenue ($US Millions)\", row=2, col=1)\n",
    "    fig.update_layout(showlegend=False, height=900, title=stock, xaxis_rangeslider_visible=True)\n",
    "    fig.show()"
   ],
   "id": "91fe911af4c9610f",
   "outputs": [],
   "execution_count": 3
  },
  {
   "metadata": {},
   "cell_type": "markdown",
   "source": [
    "<p>Use the make_graph function that we’ve already defined. You’ll need to invoke it in questions 5 and 6 to display the graphs and create the dashboard.</p>\n",
    "\n",
    "> <p><b>Note: You don’t need to redefine the function for plotting graphs anywhere else in this notebook; just use the existing function.</b></p>"
   ],
   "id": "5c576c89d63d8b2c"
  },
  {
   "metadata": {},
   "cell_type": "markdown",
   "source": "## Question 1: Use yfinance to Extract Stock Data",
   "id": "4dfdddc77bc92d32"
  },
  {
   "metadata": {},
   "cell_type": "markdown",
   "source": "<p>Using the <code>Ticker</code> function enter the ticker symbol of the stock we want to extract data on to create a ticker object. The stock is Tesla and its ticker symbol is <code>TSLA</code>.</p>",
   "id": "4b1f25b8c3a620aa"
  },
  {
   "metadata": {
    "ExecuteTime": {
     "end_time": "2025-08-04T13:26:58.548267Z",
     "start_time": "2025-08-04T13:26:58.545203Z"
    }
   },
   "cell_type": "code",
   "source": "tesla = yf.Ticker(\"TSLA\")",
   "id": "281659c9717589ea",
   "outputs": [],
   "execution_count": 4
  },
  {
   "metadata": {},
   "cell_type": "markdown",
   "source": "<p>Using the ticker object and the function <code>history</code> extract stock information and save it in a dataframe named <code>tesla_data</code>. Set the <code>period</code> parameter to <code>\"max\"</code> so we get information for the maximum amount of time.</p>",
   "id": "fb25cf997a9a2c1b"
  },
  {
   "metadata": {
    "ExecuteTime": {
     "end_time": "2025-08-04T13:26:59.256825Z",
     "start_time": "2025-08-04T13:26:58.562829Z"
    }
   },
   "cell_type": "code",
   "source": [
    "tesla_data = tesla.history(period=\"max\")\n",
    "tesla_data.tail()"
   ],
   "id": "a7f1e7d02615d718",
   "outputs": [
    {
     "data": {
      "text/plain": [
       "                                 Open        High         Low       Close  \\\n",
       "Date                                                                        \n",
       "2025-07-28 00:00:00-04:00  318.450012  330.489990  315.690002  325.589996   \n",
       "2025-07-29 00:00:00-04:00  325.549988  326.250000  318.250000  321.200012   \n",
       "2025-07-30 00:00:00-04:00  322.179993  324.450012  311.619995  319.040009   \n",
       "2025-07-31 00:00:00-04:00  319.609985  321.369995  306.100006  308.269989   \n",
       "2025-08-01 00:00:00-04:00  306.209991  309.309998  297.820007  302.630005   \n",
       "\n",
       "                              Volume  Dividends  Stock Splits  \n",
       "Date                                                           \n",
       "2025-07-28 00:00:00-04:00  112673800        0.0           0.0  \n",
       "2025-07-29 00:00:00-04:00   87358900        0.0           0.0  \n",
       "2025-07-30 00:00:00-04:00   83931900        0.0           0.0  \n",
       "2025-07-31 00:00:00-04:00   85270900        0.0           0.0  \n",
       "2025-08-01 00:00:00-04:00   88838600        0.0           0.0  "
      ],
      "text/html": [
       "<div>\n",
       "<style scoped>\n",
       "    .dataframe tbody tr th:only-of-type {\n",
       "        vertical-align: middle;\n",
       "    }\n",
       "\n",
       "    .dataframe tbody tr th {\n",
       "        vertical-align: top;\n",
       "    }\n",
       "\n",
       "    .dataframe thead th {\n",
       "        text-align: right;\n",
       "    }\n",
       "</style>\n",
       "<table border=\"1\" class=\"dataframe\">\n",
       "  <thead>\n",
       "    <tr style=\"text-align: right;\">\n",
       "      <th></th>\n",
       "      <th>Open</th>\n",
       "      <th>High</th>\n",
       "      <th>Low</th>\n",
       "      <th>Close</th>\n",
       "      <th>Volume</th>\n",
       "      <th>Dividends</th>\n",
       "      <th>Stock Splits</th>\n",
       "    </tr>\n",
       "    <tr>\n",
       "      <th>Date</th>\n",
       "      <th></th>\n",
       "      <th></th>\n",
       "      <th></th>\n",
       "      <th></th>\n",
       "      <th></th>\n",
       "      <th></th>\n",
       "      <th></th>\n",
       "    </tr>\n",
       "  </thead>\n",
       "  <tbody>\n",
       "    <tr>\n",
       "      <th>2025-07-28 00:00:00-04:00</th>\n",
       "      <td>318.450012</td>\n",
       "      <td>330.489990</td>\n",
       "      <td>315.690002</td>\n",
       "      <td>325.589996</td>\n",
       "      <td>112673800</td>\n",
       "      <td>0.0</td>\n",
       "      <td>0.0</td>\n",
       "    </tr>\n",
       "    <tr>\n",
       "      <th>2025-07-29 00:00:00-04:00</th>\n",
       "      <td>325.549988</td>\n",
       "      <td>326.250000</td>\n",
       "      <td>318.250000</td>\n",
       "      <td>321.200012</td>\n",
       "      <td>87358900</td>\n",
       "      <td>0.0</td>\n",
       "      <td>0.0</td>\n",
       "    </tr>\n",
       "    <tr>\n",
       "      <th>2025-07-30 00:00:00-04:00</th>\n",
       "      <td>322.179993</td>\n",
       "      <td>324.450012</td>\n",
       "      <td>311.619995</td>\n",
       "      <td>319.040009</td>\n",
       "      <td>83931900</td>\n",
       "      <td>0.0</td>\n",
       "      <td>0.0</td>\n",
       "    </tr>\n",
       "    <tr>\n",
       "      <th>2025-07-31 00:00:00-04:00</th>\n",
       "      <td>319.609985</td>\n",
       "      <td>321.369995</td>\n",
       "      <td>306.100006</td>\n",
       "      <td>308.269989</td>\n",
       "      <td>85270900</td>\n",
       "      <td>0.0</td>\n",
       "      <td>0.0</td>\n",
       "    </tr>\n",
       "    <tr>\n",
       "      <th>2025-08-01 00:00:00-04:00</th>\n",
       "      <td>306.209991</td>\n",
       "      <td>309.309998</td>\n",
       "      <td>297.820007</td>\n",
       "      <td>302.630005</td>\n",
       "      <td>88838600</td>\n",
       "      <td>0.0</td>\n",
       "      <td>0.0</td>\n",
       "    </tr>\n",
       "  </tbody>\n",
       "</table>\n",
       "</div>"
      ]
     },
     "execution_count": 5,
     "metadata": {},
     "output_type": "execute_result"
    }
   ],
   "execution_count": 5
  },
  {
   "metadata": {},
   "cell_type": "markdown",
   "source": "<p><b>Reset the index</b> using the <code>reset_index(inplace=True)</code> function on the <code>tesla_data</code> DataFrame and display the first five rows of the <code>tesla_data</code> dataframe using the <code>head()</code> function. Take a screenshot of the results and code from the beginning of Question 1 to the results below.</p>",
   "id": "1d672bf1dee9da9a"
  },
  {
   "metadata": {
    "ExecuteTime": {
     "end_time": "2025-08-04T13:26:59.296444Z",
     "start_time": "2025-08-04T13:26:59.288976Z"
    }
   },
   "cell_type": "code",
   "source": [
    "tesla_data.reset_index(inplace=True)\n",
    "tesla_data.head()"
   ],
   "id": "fc1c2d1e4bacee60",
   "outputs": [
    {
     "data": {
      "text/plain": [
       "                       Date      Open      High       Low     Close  \\\n",
       "0 2010-06-29 00:00:00-04:00  1.266667  1.666667  1.169333  1.592667   \n",
       "1 2010-06-30 00:00:00-04:00  1.719333  2.028000  1.553333  1.588667   \n",
       "2 2010-07-01 00:00:00-04:00  1.666667  1.728000  1.351333  1.464000   \n",
       "3 2010-07-02 00:00:00-04:00  1.533333  1.540000  1.247333  1.280000   \n",
       "4 2010-07-06 00:00:00-04:00  1.333333  1.333333  1.055333  1.074000   \n",
       "\n",
       "      Volume  Dividends  Stock Splits  \n",
       "0  281494500        0.0           0.0  \n",
       "1  257806500        0.0           0.0  \n",
       "2  123282000        0.0           0.0  \n",
       "3   77097000        0.0           0.0  \n",
       "4  103003500        0.0           0.0  "
      ],
      "text/html": [
       "<div>\n",
       "<style scoped>\n",
       "    .dataframe tbody tr th:only-of-type {\n",
       "        vertical-align: middle;\n",
       "    }\n",
       "\n",
       "    .dataframe tbody tr th {\n",
       "        vertical-align: top;\n",
       "    }\n",
       "\n",
       "    .dataframe thead th {\n",
       "        text-align: right;\n",
       "    }\n",
       "</style>\n",
       "<table border=\"1\" class=\"dataframe\">\n",
       "  <thead>\n",
       "    <tr style=\"text-align: right;\">\n",
       "      <th></th>\n",
       "      <th>Date</th>\n",
       "      <th>Open</th>\n",
       "      <th>High</th>\n",
       "      <th>Low</th>\n",
       "      <th>Close</th>\n",
       "      <th>Volume</th>\n",
       "      <th>Dividends</th>\n",
       "      <th>Stock Splits</th>\n",
       "    </tr>\n",
       "  </thead>\n",
       "  <tbody>\n",
       "    <tr>\n",
       "      <th>0</th>\n",
       "      <td>2010-06-29 00:00:00-04:00</td>\n",
       "      <td>1.266667</td>\n",
       "      <td>1.666667</td>\n",
       "      <td>1.169333</td>\n",
       "      <td>1.592667</td>\n",
       "      <td>281494500</td>\n",
       "      <td>0.0</td>\n",
       "      <td>0.0</td>\n",
       "    </tr>\n",
       "    <tr>\n",
       "      <th>1</th>\n",
       "      <td>2010-06-30 00:00:00-04:00</td>\n",
       "      <td>1.719333</td>\n",
       "      <td>2.028000</td>\n",
       "      <td>1.553333</td>\n",
       "      <td>1.588667</td>\n",
       "      <td>257806500</td>\n",
       "      <td>0.0</td>\n",
       "      <td>0.0</td>\n",
       "    </tr>\n",
       "    <tr>\n",
       "      <th>2</th>\n",
       "      <td>2010-07-01 00:00:00-04:00</td>\n",
       "      <td>1.666667</td>\n",
       "      <td>1.728000</td>\n",
       "      <td>1.351333</td>\n",
       "      <td>1.464000</td>\n",
       "      <td>123282000</td>\n",
       "      <td>0.0</td>\n",
       "      <td>0.0</td>\n",
       "    </tr>\n",
       "    <tr>\n",
       "      <th>3</th>\n",
       "      <td>2010-07-02 00:00:00-04:00</td>\n",
       "      <td>1.533333</td>\n",
       "      <td>1.540000</td>\n",
       "      <td>1.247333</td>\n",
       "      <td>1.280000</td>\n",
       "      <td>77097000</td>\n",
       "      <td>0.0</td>\n",
       "      <td>0.0</td>\n",
       "    </tr>\n",
       "    <tr>\n",
       "      <th>4</th>\n",
       "      <td>2010-07-06 00:00:00-04:00</td>\n",
       "      <td>1.333333</td>\n",
       "      <td>1.333333</td>\n",
       "      <td>1.055333</td>\n",
       "      <td>1.074000</td>\n",
       "      <td>103003500</td>\n",
       "      <td>0.0</td>\n",
       "      <td>0.0</td>\n",
       "    </tr>\n",
       "  </tbody>\n",
       "</table>\n",
       "</div>"
      ]
     },
     "execution_count": 6,
     "metadata": {},
     "output_type": "execute_result"
    }
   ],
   "execution_count": 6
  },
  {
   "metadata": {},
   "cell_type": "markdown",
   "source": "## Question 2: Use Web Scraping to Extract Tesla Revenue Data",
   "id": "59902cf388b257fd"
  },
  {
   "metadata": {},
   "cell_type": "markdown",
   "source": "<p>Use the <code>requests</code> library to download the <a href=\"https://cf-courses-data.s3.us.cloud-object-storage.appdomain.cloud/IBMDeveloperSkillsNetwork-PY0220EN-SkillsNetwork/labs/project/revenue.htm\">webpage</a>. Save the text of the response as a variable named <code>html_data</code>.</p>",
   "id": "3b83be8851cfff5e"
  },
  {
   "metadata": {
    "ExecuteTime": {
     "end_time": "2025-08-04T13:27:00.944275Z",
     "start_time": "2025-08-04T13:26:59.369068Z"
    }
   },
   "cell_type": "code",
   "source": "html_data = requests.get(url=\"https://cf-courses-data.s3.us.cloud-object-storage.appdomain.cloud/IBMDeveloperSkillsNetwork-PY0220EN-SkillsNetwork/labs/project/revenue.htm\").text",
   "id": "d7175f7c9046b0ff",
   "outputs": [],
   "execution_count": 7
  },
  {
   "metadata": {},
   "cell_type": "markdown",
   "source": "<p>Parse the html data using <code>BeautifulSoup</code> using parser such as <code>html5lib</code> or <code>html.parser</code>.</p>",
   "id": "177b76c314d827d9"
  },
  {
   "metadata": {
    "ExecuteTime": {
     "end_time": "2025-08-04T13:27:00.982271Z",
     "start_time": "2025-08-04T13:27:00.970585Z"
    }
   },
   "cell_type": "code",
   "source": "soup = BeautifulSoup(html_data, \"html.parser\")",
   "id": "15dd3e7bb38c25f5",
   "outputs": [],
   "execution_count": 8
  },
  {
   "metadata": {},
   "cell_type": "markdown",
   "source": "<p>Using <code>BeautifulSoup</code> or the <code>read_html()</code> function extract the table with <code>Tesla Revenue</code> and store it into a dataframe named <code>tesla_revenue</code>. The dataframe should have columns <code>Date</code> and <code>Revenue</code>.</p>",
   "id": "60bf96e48d322121"
  },
  {
   "metadata": {
    "ExecuteTime": {
     "end_time": "2025-08-04T13:27:01.035811Z",
     "start_time": "2025-08-04T13:27:01.020713Z"
    }
   },
   "cell_type": "code",
   "source": [
    "tesla_revenue = pd.DataFrame(columns=[\"Date\", \"Revenue\"])\n",
    "\n",
    "tesla_table = soup.find_all(\"table\")\n",
    "tesla_revenue_table_index = next((index for index, row in enumerate(tesla_table) if \"Tesla Quarterly Revenue\" in str(row)), None)\n",
    "if not tesla_revenue_table_index:\n",
    "    raise ValueError(\"No revenue table found.\")\n",
    "\n",
    "for row in tesla_table[tesla_revenue_table_index].tbody.find_all(\"tr\"):\n",
    "    col = row.find_all(\"td\")\n",
    "    if not col:\n",
    "        continue\n",
    "\n",
    "    date = col[0].text\n",
    "    revenue = col[1].text\n",
    "\n",
    "    new_row = pd.DataFrame([{\"Date\": date, \"Revenue\": revenue}])\n",
    "\n",
    "    tesla_revenue = pd.concat([tesla_revenue, new_row], ignore_index=True)"
   ],
   "id": "e80dd760e4096886",
   "outputs": [],
   "execution_count": 9
  },
  {
   "metadata": {},
   "cell_type": "markdown",
   "source": "<p>Execute the following line to remove the comma and dollar sign from the <code>Revenue</code> column.</p>",
   "id": "febe0d1a1ca863b"
  },
  {
   "metadata": {
    "ExecuteTime": {
     "end_time": "2025-08-04T13:27:01.062826Z",
     "start_time": "2025-08-04T13:27:01.059676Z"
    }
   },
   "cell_type": "code",
   "source": "tesla_revenue[\"Revenue\"] = tesla_revenue[\"Revenue\"].apply(lambda x: re.sub(r\",|\\$\", \"\", x))",
   "id": "e77094f78a18f8f7",
   "outputs": [],
   "execution_count": 10
  },
  {
   "metadata": {},
   "cell_type": "markdown",
   "source": "<p>Execute the following lines to remove an null or empty strings in the Revenue column.</p>",
   "id": "e72b57123ec6cff9"
  },
  {
   "metadata": {
    "ExecuteTime": {
     "end_time": "2025-08-04T13:27:01.082889Z",
     "start_time": "2025-08-04T13:27:01.079208Z"
    }
   },
   "cell_type": "code",
   "source": [
    "tesla_revenue.dropna(inplace=True)\n",
    "tesla_revenue = tesla_revenue[tesla_revenue[\"Revenue\"] != \"\"]"
   ],
   "id": "10085dc66d340a9",
   "outputs": [],
   "execution_count": 11
  },
  {
   "metadata": {},
   "cell_type": "markdown",
   "source": "<p>Display the last 5 row of the <code>tesla_revenue</code> dataframe using the <code>tail</code> function. Take a screenshot of the results.</p>",
   "id": "b8a054aab9b8a64e"
  },
  {
   "metadata": {
    "ExecuteTime": {
     "end_time": "2025-08-04T13:27:01.105990Z",
     "start_time": "2025-08-04T13:27:01.100907Z"
    }
   },
   "cell_type": "code",
   "source": "tesla_revenue.tail()",
   "id": "c1e867cdfc1a0279",
   "outputs": [
    {
     "data": {
      "text/plain": [
       "          Date Revenue\n",
       "48  2010-09-30      31\n",
       "49  2010-06-30      28\n",
       "50  2010-03-31      21\n",
       "52  2009-09-30      46\n",
       "53  2009-06-30      27"
      ],
      "text/html": [
       "<div>\n",
       "<style scoped>\n",
       "    .dataframe tbody tr th:only-of-type {\n",
       "        vertical-align: middle;\n",
       "    }\n",
       "\n",
       "    .dataframe tbody tr th {\n",
       "        vertical-align: top;\n",
       "    }\n",
       "\n",
       "    .dataframe thead th {\n",
       "        text-align: right;\n",
       "    }\n",
       "</style>\n",
       "<table border=\"1\" class=\"dataframe\">\n",
       "  <thead>\n",
       "    <tr style=\"text-align: right;\">\n",
       "      <th></th>\n",
       "      <th>Date</th>\n",
       "      <th>Revenue</th>\n",
       "    </tr>\n",
       "  </thead>\n",
       "  <tbody>\n",
       "    <tr>\n",
       "      <th>48</th>\n",
       "      <td>2010-09-30</td>\n",
       "      <td>31</td>\n",
       "    </tr>\n",
       "    <tr>\n",
       "      <th>49</th>\n",
       "      <td>2010-06-30</td>\n",
       "      <td>28</td>\n",
       "    </tr>\n",
       "    <tr>\n",
       "      <th>50</th>\n",
       "      <td>2010-03-31</td>\n",
       "      <td>21</td>\n",
       "    </tr>\n",
       "    <tr>\n",
       "      <th>52</th>\n",
       "      <td>2009-09-30</td>\n",
       "      <td>46</td>\n",
       "    </tr>\n",
       "    <tr>\n",
       "      <th>53</th>\n",
       "      <td>2009-06-30</td>\n",
       "      <td>27</td>\n",
       "    </tr>\n",
       "  </tbody>\n",
       "</table>\n",
       "</div>"
      ]
     },
     "execution_count": 12,
     "metadata": {},
     "output_type": "execute_result"
    }
   ],
   "execution_count": 12
  },
  {
   "metadata": {},
   "cell_type": "markdown",
   "source": "## Question 3: Use yfinance to Extract Stock Data",
   "id": "79f6cfae699ccf6f"
  },
  {
   "metadata": {},
   "cell_type": "markdown",
   "source": "<p>Using the <code>Ticker</code> function enter the ticker symbol of the stock we want to extract data on to create a ticker object. The stock is GameStop and its ticker symbol is <code>GME</code>.</p>",
   "id": "35089c6707d0e9b8"
  },
  {
   "metadata": {
    "ExecuteTime": {
     "end_time": "2025-08-04T13:27:01.145070Z",
     "start_time": "2025-08-04T13:27:01.142847Z"
    }
   },
   "cell_type": "code",
   "source": "gme = yf.Ticker(\"GME\")",
   "id": "9b1fe77b9484c1cf",
   "outputs": [],
   "execution_count": 13
  },
  {
   "metadata": {},
   "cell_type": "markdown",
   "source": "<p>Using the ticker object and the function <code>history</code> extract stock information and save it in a dataframe named <code>gme_data</code>. Set the <code>period</code> parameter to <code>\"max\"</code> so we get information for the maximum amount of time.</p>",
   "id": "ee03287964aa6f5a"
  },
  {
   "metadata": {
    "ExecuteTime": {
     "end_time": "2025-08-04T13:27:01.480013Z",
     "start_time": "2025-08-04T13:27:01.200030Z"
    }
   },
   "cell_type": "code",
   "source": "gme_data = gme.history(period=\"max\")",
   "id": "a6a66deb8de400f3",
   "outputs": [],
   "execution_count": 14
  },
  {
   "metadata": {},
   "cell_type": "markdown",
   "source": "<p><b>Reset the index</b> using the <code>reset_index(inplace=True)</code> function on the <code>gme_data</code> dataframe using the <code>head()</code> function. Take a screenshot of the results and code from the beginning of Question 3 to the results below.</p>",
   "id": "23e29d02b5bf26af"
  },
  {
   "metadata": {
    "ExecuteTime": {
     "end_time": "2025-08-04T13:27:01.510435Z",
     "start_time": "2025-08-04T13:27:01.504367Z"
    }
   },
   "cell_type": "code",
   "source": [
    "gme_data.reset_index(inplace=True)\n",
    "gme_data.head()"
   ],
   "id": "a8e2a44a8c5d8f16",
   "outputs": [
    {
     "data": {
      "text/plain": [
       "                       Date      Open      High       Low     Close    Volume  \\\n",
       "0 2002-02-13 00:00:00-05:00  1.620129  1.693350  1.603296  1.691667  76216000   \n",
       "1 2002-02-14 00:00:00-05:00  1.712707  1.716074  1.670626  1.683251  11021600   \n",
       "2 2002-02-15 00:00:00-05:00  1.683250  1.687458  1.658001  1.674834   8389600   \n",
       "3 2002-02-19 00:00:00-05:00  1.666418  1.666418  1.578047  1.607504   7410400   \n",
       "4 2002-02-20 00:00:00-05:00  1.615920  1.662210  1.603296  1.662210   6892800   \n",
       "\n",
       "   Dividends  Stock Splits  \n",
       "0        0.0           0.0  \n",
       "1        0.0           0.0  \n",
       "2        0.0           0.0  \n",
       "3        0.0           0.0  \n",
       "4        0.0           0.0  "
      ],
      "text/html": [
       "<div>\n",
       "<style scoped>\n",
       "    .dataframe tbody tr th:only-of-type {\n",
       "        vertical-align: middle;\n",
       "    }\n",
       "\n",
       "    .dataframe tbody tr th {\n",
       "        vertical-align: top;\n",
       "    }\n",
       "\n",
       "    .dataframe thead th {\n",
       "        text-align: right;\n",
       "    }\n",
       "</style>\n",
       "<table border=\"1\" class=\"dataframe\">\n",
       "  <thead>\n",
       "    <tr style=\"text-align: right;\">\n",
       "      <th></th>\n",
       "      <th>Date</th>\n",
       "      <th>Open</th>\n",
       "      <th>High</th>\n",
       "      <th>Low</th>\n",
       "      <th>Close</th>\n",
       "      <th>Volume</th>\n",
       "      <th>Dividends</th>\n",
       "      <th>Stock Splits</th>\n",
       "    </tr>\n",
       "  </thead>\n",
       "  <tbody>\n",
       "    <tr>\n",
       "      <th>0</th>\n",
       "      <td>2002-02-13 00:00:00-05:00</td>\n",
       "      <td>1.620129</td>\n",
       "      <td>1.693350</td>\n",
       "      <td>1.603296</td>\n",
       "      <td>1.691667</td>\n",
       "      <td>76216000</td>\n",
       "      <td>0.0</td>\n",
       "      <td>0.0</td>\n",
       "    </tr>\n",
       "    <tr>\n",
       "      <th>1</th>\n",
       "      <td>2002-02-14 00:00:00-05:00</td>\n",
       "      <td>1.712707</td>\n",
       "      <td>1.716074</td>\n",
       "      <td>1.670626</td>\n",
       "      <td>1.683251</td>\n",
       "      <td>11021600</td>\n",
       "      <td>0.0</td>\n",
       "      <td>0.0</td>\n",
       "    </tr>\n",
       "    <tr>\n",
       "      <th>2</th>\n",
       "      <td>2002-02-15 00:00:00-05:00</td>\n",
       "      <td>1.683250</td>\n",
       "      <td>1.687458</td>\n",
       "      <td>1.658001</td>\n",
       "      <td>1.674834</td>\n",
       "      <td>8389600</td>\n",
       "      <td>0.0</td>\n",
       "      <td>0.0</td>\n",
       "    </tr>\n",
       "    <tr>\n",
       "      <th>3</th>\n",
       "      <td>2002-02-19 00:00:00-05:00</td>\n",
       "      <td>1.666418</td>\n",
       "      <td>1.666418</td>\n",
       "      <td>1.578047</td>\n",
       "      <td>1.607504</td>\n",
       "      <td>7410400</td>\n",
       "      <td>0.0</td>\n",
       "      <td>0.0</td>\n",
       "    </tr>\n",
       "    <tr>\n",
       "      <th>4</th>\n",
       "      <td>2002-02-20 00:00:00-05:00</td>\n",
       "      <td>1.615920</td>\n",
       "      <td>1.662210</td>\n",
       "      <td>1.603296</td>\n",
       "      <td>1.662210</td>\n",
       "      <td>6892800</td>\n",
       "      <td>0.0</td>\n",
       "      <td>0.0</td>\n",
       "    </tr>\n",
       "  </tbody>\n",
       "</table>\n",
       "</div>"
      ]
     },
     "execution_count": 15,
     "metadata": {},
     "output_type": "execute_result"
    }
   ],
   "execution_count": 15
  },
  {
   "metadata": {},
   "cell_type": "markdown",
   "source": "## Question 4: Use Webscraping to Extract GME Revenue Data",
   "id": "a60ca496f614f988"
  },
  {
   "metadata": {},
   "cell_type": "markdown",
   "source": "<p>Use the <code>requests</code> library to download the <a href=\"https://cf-courses-data.s3.us.cloud-object-storage.appdomain.cloud/IBMDeveloperSkillsNetwork-PY0220EN-SkillsNetwork/labs/project/stock.html\">webpage</a>. Save the text of the response as a variable named <code>html_data_2</code>.</p>",
   "id": "a9cf1a90c98215fd"
  },
  {
   "metadata": {
    "ExecuteTime": {
     "end_time": "2025-08-04T13:27:03.268167Z",
     "start_time": "2025-08-04T13:27:01.550819Z"
    }
   },
   "cell_type": "code",
   "source": "html_data_2 = requests.get(url=\"https://cf-courses-data.s3.us.cloud-object-storage.appdomain.cloud/IBMDeveloperSkillsNetwork-PY0220EN-SkillsNetwork/labs/project/stock.html\").text",
   "id": "37a2dffc8570a61a",
   "outputs": [],
   "execution_count": 16
  },
  {
   "metadata": {},
   "cell_type": "markdown",
   "source": "<p>Parse the html data using <code>BeautifulSoup</code> using parser such as <code>html5lib</code> or <code>html.parser</code>.</p>",
   "id": "668cb9b8a85ac125"
  },
  {
   "metadata": {
    "ExecuteTime": {
     "end_time": "2025-08-04T13:27:03.317442Z",
     "start_time": "2025-08-04T13:27:03.304768Z"
    }
   },
   "cell_type": "code",
   "source": "soup = BeautifulSoup(html_data_2, \"html.parser\")",
   "id": "74000a65e6afd737",
   "outputs": [],
   "execution_count": 17
  },
  {
   "metadata": {},
   "cell_type": "markdown",
   "source": "<p>Using <code>BeautifulSoup</code> or the <code>read_html()</code> function extract the table with <code>GameStop Revenue</code> and store it into a dataframe named <code>gme_revenue</code>. The dataframe should have columns <code>Date</code> and <code>Revenue</code>. Make sure the comma and dollar sign is removed from the <code>Revenue</code> column.</p>",
   "id": "dce85aff40e5276d"
  },
  {
   "metadata": {
    "ExecuteTime": {
     "end_time": "2025-08-04T13:27:03.368178Z",
     "start_time": "2025-08-04T13:27:03.351041Z"
    }
   },
   "cell_type": "code",
   "source": [
    "gme_revenue = pd.DataFrame(columns=[\"Date\", \"Revenue\"])\n",
    "\n",
    "gme_table = soup.find_all(\"table\")\n",
    "gme_revenue_table_index = next((index for index, row in enumerate(gme_table) if \"GameStop Quarterly Revenue\" in str(row)), None)\n",
    "if not gme_revenue_table_index:\n",
    "    raise ValueError(\"No revenue table found.\")\n",
    "\n",
    "for row in gme_table[gme_revenue_table_index].tbody.find_all(\"tr\"):\n",
    "    col = row.find_all(\"td\")\n",
    "    if not col:\n",
    "        continue\n",
    "\n",
    "    date = col[0].text\n",
    "    revenue = re.sub(r\",|\\$\", \"\", col[1].text)\n",
    "    new_row = pd.DataFrame([{\"Date\": date, \"Revenue\": revenue}])\n",
    "\n",
    "    gme_revenue = pd.concat([gme_revenue, new_row], ignore_index=True)\n",
    "\n",
    "gme_revenue.dropna(inplace=True)\n",
    "gme_revenue = gme_revenue[gme_revenue[\"Revenue\"] != \"\"]"
   ],
   "id": "e5b1befa19d0e8ea",
   "outputs": [],
   "execution_count": 18
  },
  {
   "metadata": {},
   "cell_type": "markdown",
   "source": "<p>Display the last five rows of the <code>gme_revenue</code> dataframe using the <code>tail</code> function. Take a screenshot of the results.</p>",
   "id": "b2a94a909a11c0c3"
  },
  {
   "metadata": {
    "ExecuteTime": {
     "end_time": "2025-08-04T13:27:03.396674Z",
     "start_time": "2025-08-04T13:27:03.391618Z"
    }
   },
   "cell_type": "code",
   "source": "gme_revenue.tail()",
   "id": "de04d05d0a7fa691",
   "outputs": [
    {
     "data": {
      "text/plain": [
       "          Date Revenue\n",
       "57  2006-01-31    1667\n",
       "58  2005-10-31     534\n",
       "59  2005-07-31     416\n",
       "60  2005-04-30     475\n",
       "61  2005-01-31     709"
      ],
      "text/html": [
       "<div>\n",
       "<style scoped>\n",
       "    .dataframe tbody tr th:only-of-type {\n",
       "        vertical-align: middle;\n",
       "    }\n",
       "\n",
       "    .dataframe tbody tr th {\n",
       "        vertical-align: top;\n",
       "    }\n",
       "\n",
       "    .dataframe thead th {\n",
       "        text-align: right;\n",
       "    }\n",
       "</style>\n",
       "<table border=\"1\" class=\"dataframe\">\n",
       "  <thead>\n",
       "    <tr style=\"text-align: right;\">\n",
       "      <th></th>\n",
       "      <th>Date</th>\n",
       "      <th>Revenue</th>\n",
       "    </tr>\n",
       "  </thead>\n",
       "  <tbody>\n",
       "    <tr>\n",
       "      <th>57</th>\n",
       "      <td>2006-01-31</td>\n",
       "      <td>1667</td>\n",
       "    </tr>\n",
       "    <tr>\n",
       "      <th>58</th>\n",
       "      <td>2005-10-31</td>\n",
       "      <td>534</td>\n",
       "    </tr>\n",
       "    <tr>\n",
       "      <th>59</th>\n",
       "      <td>2005-07-31</td>\n",
       "      <td>416</td>\n",
       "    </tr>\n",
       "    <tr>\n",
       "      <th>60</th>\n",
       "      <td>2005-04-30</td>\n",
       "      <td>475</td>\n",
       "    </tr>\n",
       "    <tr>\n",
       "      <th>61</th>\n",
       "      <td>2005-01-31</td>\n",
       "      <td>709</td>\n",
       "    </tr>\n",
       "  </tbody>\n",
       "</table>\n",
       "</div>"
      ]
     },
     "execution_count": 19,
     "metadata": {},
     "output_type": "execute_result"
    }
   ],
   "execution_count": 19
  },
  {
   "metadata": {},
   "cell_type": "markdown",
   "source": "## Question 5: Plot Tesla Stock Graph",
   "id": "f2d20abd81adc554"
  },
  {
   "metadata": {},
   "cell_type": "markdown",
   "source": "<p>Use the <code>make_graph()</code> function to graph the Tesla Stock Data, also provide a title for the graph. Note the graph will only show data upto June 2021.</p>",
   "id": "cdf792407fadeaa9"
  },
  {
   "metadata": {
    "ExecuteTime": {
     "end_time": "2025-08-04T13:27:03.535636Z",
     "start_time": "2025-08-04T13:27:03.419964Z"
    }
   },
   "cell_type": "code",
   "source": "make_graph(tesla_data, tesla_revenue, \"Tesla\")",
   "id": "be3946b6d5d250f1",
   "outputs": [
    {
     "data": {
      "text/html": [
       "<iframe\n",
       "    scrolling=\"no\"\n",
       "    width=\"100%\"\n",
       "    height=\"920\"\n",
       "    src=\"iframe_figures/figure_20.html\"\n",
       "    frameborder=\"0\"\n",
       "    allowfullscreen\n",
       "></iframe>\n"
      ]
     },
     "metadata": {},
     "output_type": "display_data"
    }
   ],
   "execution_count": 20
  },
  {
   "metadata": {},
   "cell_type": "markdown",
   "source": "## Question 6: Plot GameStop Stock Graph",
   "id": "be7aa2712e61c4ff"
  },
  {
   "metadata": {},
   "cell_type": "markdown",
   "source": "<p>Use the <code>make_graph()</code> function to graph the GameStop Stock Data, also provide a title for the graph. The structure to call the <code>make_graph()</code> function is <code>make_graph(gme_data, gme_revenue, \"GameStop\")</code>. Note the graph will only show data upto June 2021.</p>",
   "id": "d8f14a0d1aae2fc6"
  },
  {
   "metadata": {
    "ExecuteTime": {
     "end_time": "2025-08-04T13:27:03.698683Z",
     "start_time": "2025-08-04T13:27:03.595752Z"
    }
   },
   "cell_type": "code",
   "source": "make_graph(gme_data, gme_revenue, \"GameStop\")",
   "id": "97b39a7b4e8a5394",
   "outputs": [
    {
     "data": {
      "text/html": [
       "<iframe\n",
       "    scrolling=\"no\"\n",
       "    width=\"100%\"\n",
       "    height=\"920\"\n",
       "    src=\"iframe_figures/figure_21.html\"\n",
       "    frameborder=\"0\"\n",
       "    allowfullscreen\n",
       "></iframe>\n"
      ]
     },
     "metadata": {},
     "output_type": "display_data"
    }
   ],
   "execution_count": 21
  },
  {
   "metadata": {},
   "cell_type": "markdown",
   "source": [
    "****\n",
    "This is the end of the file.\n",
    "****"
   ],
   "id": "20e6b346b16d583"
  }
 ],
 "metadata": {
  "kernelspec": {
   "display_name": "Python 3",
   "language": "python",
   "name": "python3"
  },
  "language_info": {
   "codemirror_mode": {
    "name": "ipython",
    "version": 2
   },
   "file_extension": ".py",
   "mimetype": "text/x-python",
   "name": "python",
   "nbconvert_exporter": "python",
   "pygments_lexer": "ipython2",
   "version": "2.7.6"
  }
 },
 "nbformat": 4,
 "nbformat_minor": 5
}
