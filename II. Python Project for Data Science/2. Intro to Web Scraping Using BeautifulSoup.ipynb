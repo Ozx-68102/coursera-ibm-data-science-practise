{
 "cells": [
  {
   "metadata": {},
   "cell_type": "markdown",
   "source": "# Web Scraping",
   "id": "14db997792be0ff2"
  },
  {
   "metadata": {},
   "cell_type": "markdown",
   "source": "<p>Suppress all warnings and import needed libraries.</p>",
   "id": "fa2dcffc0c50181c"
  },
  {
   "metadata": {
    "ExecuteTime": {
     "end_time": "2025-08-05T16:10:35.687553Z",
     "start_time": "2025-08-05T16:10:35.684084Z"
    }
   },
   "cell_type": "code",
   "source": [
    "import warnings\n",
    "warnings.simplefilter(\"ignore\")"
   ],
   "id": "a33aa22beee0bccb",
   "outputs": [],
   "execution_count": 1
  },
  {
   "metadata": {
    "ExecuteTime": {
     "end_time": "2025-08-05T16:10:36.297919Z",
     "start_time": "2025-08-05T16:10:35.816155Z"
    }
   },
   "cell_type": "code",
   "source": [
    "from bs4 import BeautifulSoup\n",
    "import requests"
   ],
   "id": "3739c624fe3e49dc",
   "outputs": [],
   "execution_count": 2
  },
  {
   "metadata": {},
   "cell_type": "markdown",
   "source": "## Beautiful Soup Objects",
   "id": "8e2cfff5011d9654"
  },
  {
   "metadata": {},
   "cell_type": "markdown",
   "source": [
    "<p>Beautiful Soup is a Python library for pulling data out of HTML and XML files, we will focus on HTML files. This is accomplished by representing the HTML as a set of objects with methods used to parse the HTML. We can navigate the HTML as a tree and/or filter out what we are looking for.</p>\n",
    "<p>Consider the following HTML:</p>"
   ],
   "id": "dc2a2f2a5c7fec25"
  },
  {
   "metadata": {
    "ExecuteTime": {
     "end_time": "2025-08-05T16:10:36.312390Z",
     "start_time": "2025-08-05T16:10:36.307638Z"
    }
   },
   "cell_type": "code",
   "source": [
    "%%html\n",
    "<!DOCTYPE html>\n",
    "<html>\n",
    "<head>\n",
    "<title>Page Title</title>\n",
    "</head>\n",
    "<body>\n",
    "<h3><b id=\"boldest\">Lebron James</b></h3>\n",
    "<p> Salary: $ 92,000,000 </p>\n",
    "<h3> Stephen Curry</h3>\n",
    "<p> Salary: $85,000, 000 </p>\n",
    "<h3> Kevin Durant </h3>\n",
    "<p> Salary: $73,200, 000</p>\n",
    "</body>\n",
    "</html>"
   ],
   "id": "99dd52de7aee5256",
   "outputs": [
    {
     "data": {
      "text/plain": [
       "<IPython.core.display.HTML object>"
      ],
      "text/html": [
       "<!DOCTYPE html>\n",
       "<html>\n",
       "<head>\n",
       "<title>Page Title</title>\n",
       "</head>\n",
       "<body>\n",
       "<h3><b id=\"boldest\">Lebron James</b></h3>\n",
       "<p> Salary: $ 92,000,000 </p>\n",
       "<h3> Stephen Curry</h3>\n",
       "<p> Salary: $85,000, 000 </p>\n",
       "<h3> Kevin Durant </h3>\n",
       "<p> Salary: $73,200, 000</p>\n",
       "</body>\n",
       "</html>\n"
      ]
     },
     "metadata": {},
     "output_type": "display_data"
    }
   ],
   "execution_count": 3
  },
  {
   "metadata": {},
   "cell_type": "markdown",
   "source": "<p>We can store it as a string in the variable HTML.</p>",
   "id": "1234f31548304bda"
  },
  {
   "metadata": {
    "ExecuteTime": {
     "end_time": "2025-08-05T16:10:36.367675Z",
     "start_time": "2025-08-05T16:10:36.365093Z"
    }
   },
   "cell_type": "code",
   "source": "html = \"<!DOCTYPE html><html><head><title>Page Title</title></head><body><h3><b id=\\\"boldest\\\">Lebron James</b></h3><p> Salary: $ 92,000,000 </p><h3> Stephen Curry</h3><p> Salary: $85,000, 000 </p><h3> Kevin Durant </h3><p> Salary: $73,200, 000</p></body></html>\"",
   "id": "a5067d87856c11b7",
   "outputs": [],
   "execution_count": 4
  },
  {
   "metadata": {},
   "cell_type": "markdown",
   "source": "<p>To parse a document, pass it into the <code>BeautifulSoup</code> constructor, the <code>BeautifulSoup</code> object, which represents the document as a nested data structure:</p>",
   "id": "4af46483291f2768"
  },
  {
   "metadata": {
    "ExecuteTime": {
     "end_time": "2025-08-05T16:10:36.391977Z",
     "start_time": "2025-08-05T16:10:36.388766Z"
    }
   },
   "cell_type": "code",
   "source": "soup = BeautifulSoup(html, \"html.parser\")",
   "id": "ac6bb531b0e91196",
   "outputs": [],
   "execution_count": 5
  },
  {
   "metadata": {},
   "cell_type": "markdown",
   "source": [
    "<p>First, the document is converted to Unicode, (similar to ASCII), and HTML entities are converted to Unicode characters. Beautiful Soup transforms a complex HTML document into a complex tree of Python objects. The <code>BeautifulSoup</code> object can create other types of objects. In this lab, we will cover <code>BeautifulSoup</code> and <code>Tag</code> objects that for the purposes of this lab are identical, and <code>NavigableString</code> objects.</p>\n",
    "<p>We can use the method <code>prettify()</code> to display the HTML in the nested structure:</p>"
   ],
   "id": "5db1d61b6c28287c"
  },
  {
   "metadata": {
    "ExecuteTime": {
     "end_time": "2025-08-05T16:10:36.406910Z",
     "start_time": "2025-08-05T16:10:36.403681Z"
    }
   },
   "cell_type": "code",
   "source": "soup.prettify()",
   "id": "c4167275f0db9a02",
   "outputs": [
    {
     "data": {
      "text/plain": [
       "'<!DOCTYPE html>\\n<html>\\n <head>\\n  <title>\\n   Page Title\\n  </title>\\n </head>\\n <body>\\n  <h3>\\n   <b id=\"boldest\">\\n    Lebron James\\n   </b>\\n  </h3>\\n  <p>\\n   Salary: $ 92,000,000\\n  </p>\\n  <h3>\\n   Stephen Curry\\n  </h3>\\n  <p>\\n   Salary: $85,000, 000\\n  </p>\\n  <h3>\\n   Kevin Durant\\n  </h3>\\n  <p>\\n   Salary: $73,200, 000\\n  </p>\\n </body>\\n</html>\\n'"
      ]
     },
     "execution_count": 6,
     "metadata": {},
     "output_type": "execute_result"
    }
   ],
   "execution_count": 6
  },
  {
   "metadata": {},
   "cell_type": "markdown",
   "source": "## Tags",
   "id": "afd4891132fd6239"
  },
  {
   "metadata": {},
   "cell_type": "markdown",
   "source": "<p>Let's say we want the title of the page and the name of the top paid player we can use the <code>Tag</code>. The <code>Tag</code> object corresponds to an HTML tag in the original document, for example, the tag title.</p>",
   "id": "8db041a0d799ab0f"
  },
  {
   "metadata": {
    "ExecuteTime": {
     "end_time": "2025-08-05T16:10:36.462470Z",
     "start_time": "2025-08-05T16:10:36.459553Z"
    }
   },
   "cell_type": "code",
   "source": [
    "tag_object = soup.title\n",
    "tag_object"
   ],
   "id": "10f34986b08d4419",
   "outputs": [
    {
     "data": {
      "text/plain": [
       "<title>Page Title</title>"
      ]
     },
     "execution_count": 7,
     "metadata": {},
     "output_type": "execute_result"
    }
   ],
   "execution_count": 7
  },
  {
   "metadata": {},
   "cell_type": "markdown",
   "source": "<p>we can see the tag type <code>bs4.element.Tag</code>.</p>",
   "id": "cc9bafa7ff209bcc"
  },
  {
   "metadata": {
    "ExecuteTime": {
     "end_time": "2025-08-05T16:10:36.509930Z",
     "start_time": "2025-08-05T16:10:36.506745Z"
    }
   },
   "cell_type": "code",
   "source": "type(tag_object)",
   "id": "f33e1d9493d3596c",
   "outputs": [
    {
     "data": {
      "text/plain": [
       "bs4.element.Tag"
      ]
     },
     "execution_count": 8,
     "metadata": {},
     "output_type": "execute_result"
    }
   ],
   "execution_count": 8
  },
  {
   "metadata": {},
   "cell_type": "markdown",
   "source": "<p>If there is more than one <code>Tag</code>  with the same name, the first element with that <code>Tag</code> name is called, this corresponds to the most paid player:</p>",
   "id": "f2f8da726f9b4ed7"
  },
  {
   "metadata": {
    "ExecuteTime": {
     "end_time": "2025-08-05T16:10:36.562182Z",
     "start_time": "2025-08-05T16:10:36.558803Z"
    }
   },
   "cell_type": "code",
   "source": [
    "tag_object = soup.h3\n",
    "tag_object"
   ],
   "id": "5fef3e53dd239d4d",
   "outputs": [
    {
     "data": {
      "text/plain": [
       "<h3><b id=\"boldest\">Lebron James</b></h3>"
      ]
     },
     "execution_count": 9,
     "metadata": {},
     "output_type": "execute_result"
    }
   ],
   "execution_count": 9
  },
  {
   "metadata": {},
   "cell_type": "markdown",
   "source": "<p>Enclosed in the bold attribute <code>b</code>, it helps to use the tree representation. We can navigate down the tree using the child attribute to get the name.</p>",
   "id": "d578ec79f795a7d5"
  },
  {
   "metadata": {},
   "cell_type": "markdown",
   "source": "### Children, parents and siblings",
   "id": "83c13910eec622b0"
  },
  {
   "metadata": {},
   "cell_type": "markdown",
   "source": "<p>As stated above the <code>Tag</code> object is a tree of objects we can access the child of the tag or navigate down the branch as follows:</p>",
   "id": "99bf18fb9e02edbd"
  },
  {
   "metadata": {
    "ExecuteTime": {
     "end_time": "2025-08-05T16:10:36.610717Z",
     "start_time": "2025-08-05T16:10:36.607613Z"
    }
   },
   "cell_type": "code",
   "source": [
    "tag_child = tag_object.b\n",
    "tag_child"
   ],
   "id": "44353cc56b297fca",
   "outputs": [
    {
     "data": {
      "text/plain": [
       "<b id=\"boldest\">Lebron James</b>"
      ]
     },
     "execution_count": 10,
     "metadata": {},
     "output_type": "execute_result"
    }
   ],
   "execution_count": 10
  },
  {
   "metadata": {},
   "cell_type": "markdown",
   "source": "<p>You can access the parent with the <code> parent</code>.</p>",
   "id": "ce4181f2c002a710"
  },
  {
   "metadata": {
    "ExecuteTime": {
     "end_time": "2025-08-05T16:10:36.665466Z",
     "start_time": "2025-08-05T16:10:36.662007Z"
    }
   },
   "cell_type": "code",
   "source": [
    "tag_parent = tag_child.parent\n",
    "tag_parent"
   ],
   "id": "366f4edb9d772cfb",
   "outputs": [
    {
     "data": {
      "text/plain": [
       "<h3><b id=\"boldest\">Lebron James</b></h3>"
      ]
     },
     "execution_count": 11,
     "metadata": {},
     "output_type": "execute_result"
    }
   ],
   "execution_count": 11
  },
  {
   "metadata": {},
   "cell_type": "markdown",
   "source": "<p>This is identical to:</p>",
   "id": "1ea858e28fe3a962"
  },
  {
   "metadata": {
    "ExecuteTime": {
     "end_time": "2025-08-05T16:10:36.711113Z",
     "start_time": "2025-08-05T16:10:36.708214Z"
    }
   },
   "cell_type": "code",
   "source": "tag_object",
   "id": "10676c6b4deb590a",
   "outputs": [
    {
     "data": {
      "text/plain": [
       "<h3><b id=\"boldest\">Lebron James</b></h3>"
      ]
     },
     "execution_count": 12,
     "metadata": {},
     "output_type": "execute_result"
    }
   ],
   "execution_count": 12
  },
  {
   "metadata": {},
   "cell_type": "markdown",
   "source": "<p>The parent of <code>tag_object</code> is the <code>body</code> element.</p>",
   "id": "5856662dd56756f7"
  },
  {
   "metadata": {
    "ExecuteTime": {
     "end_time": "2025-08-05T16:10:36.758132Z",
     "start_time": "2025-08-05T16:10:36.754471Z"
    }
   },
   "cell_type": "code",
   "source": "tag_object.parent",
   "id": "5531b94fc86e39de",
   "outputs": [
    {
     "data": {
      "text/plain": [
       "<body><h3><b id=\"boldest\">Lebron James</b></h3><p> Salary: $ 92,000,000 </p><h3> Stephen Curry</h3><p> Salary: $85,000, 000 </p><h3> Kevin Durant </h3><p> Salary: $73,200, 000</p></body>"
      ]
     },
     "execution_count": 13,
     "metadata": {},
     "output_type": "execute_result"
    }
   ],
   "execution_count": 13
  },
  {
   "metadata": {},
   "cell_type": "markdown",
   "source": "<p>The sibling of <code>tag_object</code> is the <code>paragraph</code> element.</p>",
   "id": "d500211e2d068804"
  },
  {
   "metadata": {
    "ExecuteTime": {
     "end_time": "2025-08-05T16:10:36.805159Z",
     "start_time": "2025-08-05T16:10:36.801980Z"
    }
   },
   "cell_type": "code",
   "source": [
    "sibling1 = tag_object.next_sibling\n",
    "sibling1"
   ],
   "id": "f808a86e9f40b81b",
   "outputs": [
    {
     "data": {
      "text/plain": [
       "<p> Salary: $ 92,000,000 </p>"
      ]
     },
     "execution_count": 14,
     "metadata": {},
     "output_type": "execute_result"
    }
   ],
   "execution_count": 14
  },
  {
   "metadata": {},
   "cell_type": "markdown",
   "source": "<p><code>sibling2</code> is the <code>header</code> element which is also a sibling of both <code>sibling_1</code> and <code>tag_object</code>.</p>",
   "id": "b0e12d93b04ed274"
  },
  {
   "metadata": {
    "ExecuteTime": {
     "end_time": "2025-08-05T16:10:36.848165Z",
     "start_time": "2025-08-05T16:10:36.845022Z"
    }
   },
   "cell_type": "code",
   "source": [
    "sibling2 = sibling1.next_sibling\n",
    "sibling2"
   ],
   "id": "4ea11037f8d40535",
   "outputs": [
    {
     "data": {
      "text/plain": [
       "<h3> Stephen Curry</h3>"
      ]
     },
     "execution_count": 15,
     "metadata": {},
     "output_type": "execute_result"
    }
   ],
   "execution_count": 15
  },
  {
   "metadata": {},
   "cell_type": "markdown",
   "source": "### Exercise 1",
   "id": "ac24701334e9d463"
  },
  {
   "metadata": {},
   "cell_type": "markdown",
   "source": "<p>Using the object <code>sibling_2</code> and the property <code>next_sibling</code> to find the salary of Stephen Curry:</p>",
   "id": "6698468d354e7c69"
  },
  {
   "metadata": {
    "ExecuteTime": {
     "end_time": "2025-08-05T16:10:36.894673Z",
     "start_time": "2025-08-05T16:10:36.891722Z"
    }
   },
   "cell_type": "code",
   "source": "sibling2.next_sibling",
   "id": "7117645ea97317a9",
   "outputs": [
    {
     "data": {
      "text/plain": [
       "<p> Salary: $85,000, 000 </p>"
      ]
     },
     "execution_count": 16,
     "metadata": {},
     "output_type": "execute_result"
    }
   ],
   "execution_count": 16
  },
  {
   "metadata": {},
   "cell_type": "markdown",
   "source": "### HTML Attributes",
   "id": "816f2fd4b10508a4"
  },
  {
   "metadata": {},
   "cell_type": "markdown",
   "source": "<p>If the tag has attributes, the tag <code>id=\"boldest\"</code> has an attribute <code>id</code> whose value is <code>boldest</code>. You can access a tag’s attributes by treating the tag like a dictionary:</p>",
   "id": "a8ee01df3e758da8"
  },
  {
   "metadata": {
    "ExecuteTime": {
     "end_time": "2025-08-05T16:10:36.942167Z",
     "start_time": "2025-08-05T16:10:36.938890Z"
    }
   },
   "cell_type": "code",
   "source": "tag_child[\"id\"]",
   "id": "e2373ca906a257fa",
   "outputs": [
    {
     "data": {
      "text/plain": [
       "'boldest'"
      ]
     },
     "execution_count": 17,
     "metadata": {},
     "output_type": "execute_result"
    }
   ],
   "execution_count": 17
  },
  {
   "metadata": {},
   "cell_type": "markdown",
   "source": "<p>You can access that dictionary directly as <code>attrs</code>:</p>",
   "id": "94f182d84e1a8ba6"
  },
  {
   "metadata": {
    "ExecuteTime": {
     "end_time": "2025-08-05T16:10:36.987717Z",
     "start_time": "2025-08-05T16:10:36.984418Z"
    }
   },
   "cell_type": "code",
   "source": "tag_child.attrs",
   "id": "570221866f9471cf",
   "outputs": [
    {
     "data": {
      "text/plain": [
       "{'id': 'boldest'}"
      ]
     },
     "execution_count": 18,
     "metadata": {},
     "output_type": "execute_result"
    }
   ],
   "execution_count": 18
  },
  {
   "metadata": {},
   "cell_type": "markdown",
   "source": "<p>You can also work with Multi-valued attribute check out <a href=\"https://www.crummy.com/software/BeautifulSoup/bs4/doc/\">here</a> for more.</p>",
   "id": "56f7f12ad4dbb730"
  },
  {
   "metadata": {},
   "cell_type": "markdown",
   "source": "<p>We can also obtain the content if the attribute of the <code>tag</code> using the Python <code>get()</code> method.</p>",
   "id": "d915ca613e7370b"
  },
  {
   "metadata": {
    "ExecuteTime": {
     "end_time": "2025-08-05T16:10:37.032568Z",
     "start_time": "2025-08-05T16:10:37.029461Z"
    }
   },
   "cell_type": "code",
   "source": "tag_child.get(\"id\")",
   "id": "d855653c6913473c",
   "outputs": [
    {
     "data": {
      "text/plain": [
       "'boldest'"
      ]
     },
     "execution_count": 19,
     "metadata": {},
     "output_type": "execute_result"
    }
   ],
   "execution_count": 19
  },
  {
   "metadata": {},
   "cell_type": "markdown",
   "source": "### Navigable String",
   "id": "d27b210a27dfb3ec"
  },
  {
   "metadata": {},
   "cell_type": "markdown",
   "source": "<p>A string corresponds to a bit of text or content within a tag. Beautiful Soup uses the <code>NavigableString</code> class to contain this text. In our HTML we can obtain the name of the first player by extracting the sting of the <code>Tag</code> object <code>tag_child</code> as follows:</p>",
   "id": "e1e5cc606e51a841"
  },
  {
   "metadata": {
    "ExecuteTime": {
     "end_time": "2025-08-05T16:10:37.070391Z",
     "start_time": "2025-08-05T16:10:37.067428Z"
    }
   },
   "cell_type": "code",
   "source": [
    "tag_string = tag_child.string\n",
    "tag_string"
   ],
   "id": "e3aa424fe231548e",
   "outputs": [
    {
     "data": {
      "text/plain": [
       "'Lebron James'"
      ]
     },
     "execution_count": 20,
     "metadata": {},
     "output_type": "execute_result"
    }
   ],
   "execution_count": 20
  },
  {
   "metadata": {},
   "cell_type": "markdown",
   "source": "<p>We can verify the type is <code>NavigableString</code>.</p>",
   "id": "f9fbee309f8ce5a9"
  },
  {
   "metadata": {
    "ExecuteTime": {
     "end_time": "2025-08-05T16:10:37.098753Z",
     "start_time": "2025-08-05T16:10:37.095569Z"
    }
   },
   "cell_type": "code",
   "source": "type(tag_string)",
   "id": "a2255a00c8a68182",
   "outputs": [
    {
     "data": {
      "text/plain": [
       "bs4.element.NavigableString"
      ]
     },
     "execution_count": 21,
     "metadata": {},
     "output_type": "execute_result"
    }
   ],
   "execution_count": 21
  },
  {
   "metadata": {},
   "cell_type": "markdown",
   "source": "<p>A <code>NavigableString</code> is just like a Python string or Unicode string, to be more precise. The main difference is that it also supports some  <code>BeautifulSoup</code> features. We can covert it to sting object in Python:</p>",
   "id": "b1e4316da93717b4"
  },
  {
   "metadata": {
    "ExecuteTime": {
     "end_time": "2025-08-05T16:10:37.127723Z",
     "start_time": "2025-08-05T16:10:37.123421Z"
    }
   },
   "cell_type": "code",
   "source": "str(tag_string)",
   "id": "363a4907147ce13a",
   "outputs": [
    {
     "data": {
      "text/plain": [
       "'Lebron James'"
      ]
     },
     "execution_count": 22,
     "metadata": {},
     "output_type": "execute_result"
    }
   ],
   "execution_count": 22
  },
  {
   "metadata": {},
   "cell_type": "markdown",
   "source": "## Filter",
   "id": "75266553c702872f"
  },
  {
   "metadata": {},
   "cell_type": "markdown",
   "source": "<p>Filters allow you to find complex patterns, the simplest filter is a string. In this section we will pass a string to a different filter method and Beautiful Soup will perform a match against that exact string.  Consider the following HTML of rocket launches:</p>",
   "id": "bbfcd44a8f6af2a5"
  },
  {
   "metadata": {
    "ExecuteTime": {
     "end_time": "2025-08-05T16:10:37.176071Z",
     "start_time": "2025-08-05T16:10:37.172675Z"
    }
   },
   "cell_type": "code",
   "source": [
    "%%html\n",
    "<table>\n",
    "  <tr>\n",
    "    <td id=\"flight\">Flight No</td>\n",
    "    <td>Launch site</td>\n",
    "    <td>Payload mass</td>\n",
    "   </tr>\n",
    "  <tr>\n",
    "    <td>1</td>\n",
    "    <td><a href=\"https://en.wikipedia.org/wiki/Florida\">Florida</a></td>\n",
    "    <td>300 kg</td>\n",
    "  </tr>\n",
    "  <tr>\n",
    "    <td>2</td>\n",
    "    <td><a href=\"https://en.wikipedia.org/wiki/Texas\">Texas</a></td>\n",
    "    <td>94 kg</td>\n",
    "  </tr>\n",
    "  <tr>\n",
    "    <td>3</td>\n",
    "    <td><a href=\"https://en.wikipedia.org/wiki/Florida\">Florida</a> </td>\n",
    "    <td>80 kg</td>\n",
    "  </tr>\n",
    "</table>"
   ],
   "id": "da34676fbc0cee5a",
   "outputs": [
    {
     "data": {
      "text/plain": [
       "<IPython.core.display.HTML object>"
      ],
      "text/html": [
       "<table>\n",
       "  <tr>\n",
       "    <td id=\"flight\">Flight No</td>\n",
       "    <td>Launch site</td>\n",
       "    <td>Payload mass</td>\n",
       "   </tr>\n",
       "  <tr>\n",
       "    <td>1</td>\n",
       "    <td><a href=\"https://en.wikipedia.org/wiki/Florida\">Florida</a></td>\n",
       "    <td>300 kg</td>\n",
       "  </tr>\n",
       "  <tr>\n",
       "    <td>2</td>\n",
       "    <td><a href=\"https://en.wikipedia.org/wiki/Texas\">Texas</a></td>\n",
       "    <td>94 kg</td>\n",
       "  </tr>\n",
       "  <tr>\n",
       "    <td>3</td>\n",
       "    <td><a href=\"https://en.wikipedia.org/wiki/Florida\">Florida</a> </td>\n",
       "    <td>80 kg</td>\n",
       "  </tr>\n",
       "</table>\n"
      ]
     },
     "metadata": {},
     "output_type": "display_data"
    }
   ],
   "execution_count": 23
  },
  {
   "metadata": {},
   "cell_type": "markdown",
   "source": "<p>We can store it as a string in the variable <code>table</code>:</p>",
   "id": "32d3071170d57ff4"
  },
  {
   "metadata": {
    "ExecuteTime": {
     "end_time": "2025-08-05T16:10:37.218199Z",
     "start_time": "2025-08-05T16:10:37.214835Z"
    }
   },
   "cell_type": "code",
   "source": "table = \"<table><tr><td id=\\\"flight\\\">Flight No</td><td>Launch site</td> <td>Payload mass</td></tr><tr><td>1</td><td><a href=\\\"https://en.wikipedia.org/wiki/Florida\\\">Florida</a></td><td>300 kg</td></tr><tr><td>2</td><td><a href=\\\"https://en.wikipedia.org/wiki/Texas\\\">Texas</a></td><td>94 kg</td></tr><tr><td>3</td><td><a href=\\\"https://en.wikipedia.org/wiki/Florida\\\">Florida</a> </td><td>80 kg</td></tr></table>\"",
   "id": "e32d2f3887edb87",
   "outputs": [],
   "execution_count": 24
  },
  {
   "metadata": {
    "ExecuteTime": {
     "end_time": "2025-08-05T16:10:37.237483Z",
     "start_time": "2025-08-05T16:10:37.234495Z"
    }
   },
   "cell_type": "code",
   "source": "table_bs = BeautifulSoup(table, \"html.parser\")",
   "id": "2b820c09f55d7c72",
   "outputs": [],
   "execution_count": 25
  },
  {
   "metadata": {},
   "cell_type": "markdown",
   "source": "### find_all",
   "id": "d421d9fe82275276"
  },
  {
   "metadata": {},
   "cell_type": "markdown",
   "source": [
    "<p>The <code>find_all()</code> method looks through a tag's descendants and retrieves all descendants that match your filters.</p>\n",
    "<p>The Method signature for <code>find_all(name, attrs, recursive, string, limit, **kwargs)</code>.</p>"
   ],
   "id": "f4c435f8ce8c973c"
  },
  {
   "metadata": {},
   "cell_type": "markdown",
   "source": "### Name",
   "id": "4fc8bf80ace57656"
  },
  {
   "metadata": {},
   "cell_type": "markdown",
   "source": "<p>When we set the <code>name</code> parameter to a tag name, the method will extract all the tags with that name and its children.</p>",
   "id": "64b653b0082e8d42"
  },
  {
   "metadata": {
    "ExecuteTime": {
     "end_time": "2025-08-05T16:10:37.252617Z",
     "start_time": "2025-08-05T16:10:37.248322Z"
    }
   },
   "cell_type": "code",
   "source": [
    "table_rows = table_bs.find_all(\"tr\")\n",
    "table_rows"
   ],
   "id": "17f340b051df3129",
   "outputs": [
    {
     "data": {
      "text/plain": [
       "[<tr><td id=\"flight\">Flight No</td><td>Launch site</td> <td>Payload mass</td></tr>,\n",
       " <tr><td>1</td><td><a href=\"https://en.wikipedia.org/wiki/Florida\">Florida</a></td><td>300 kg</td></tr>,\n",
       " <tr><td>2</td><td><a href=\"https://en.wikipedia.org/wiki/Texas\">Texas</a></td><td>94 kg</td></tr>,\n",
       " <tr><td>3</td><td><a href=\"https://en.wikipedia.org/wiki/Florida\">Florida</a> </td><td>80 kg</td></tr>]"
      ]
     },
     "execution_count": 26,
     "metadata": {},
     "output_type": "execute_result"
    }
   ],
   "execution_count": 26
  },
  {
   "metadata": {},
   "cell_type": "markdown",
   "source": "<p>The result is a Python Iterable just like a list, each element is a <code>tag</code> object:</p>",
   "id": "f169ea56c3d016f9"
  },
  {
   "metadata": {
    "ExecuteTime": {
     "end_time": "2025-08-05T16:10:37.294695Z",
     "start_time": "2025-08-05T16:10:37.292123Z"
    }
   },
   "cell_type": "code",
   "source": "tr0 = table_rows[0]",
   "id": "f78f15ba25804cb3",
   "outputs": [],
   "execution_count": 27
  },
  {
   "metadata": {},
   "cell_type": "markdown",
   "source": "<p>The type is <code>tag</code>.</p>",
   "id": "391d707bfa93d169"
  },
  {
   "metadata": {
    "ExecuteTime": {
     "end_time": "2025-08-05T16:10:37.316057Z",
     "start_time": "2025-08-05T16:10:37.312807Z"
    }
   },
   "cell_type": "code",
   "source": "type(tr0)",
   "id": "d3a9b5847cf98d91",
   "outputs": [
    {
     "data": {
      "text/plain": [
       "bs4.element.Tag"
      ]
     },
     "execution_count": 28,
     "metadata": {},
     "output_type": "execute_result"
    }
   ],
   "execution_count": 28
  },
  {
   "metadata": {},
   "cell_type": "markdown",
   "source": "<p>We can obtain the child.</p>",
   "id": "e263bf0adac2ebda"
  },
  {
   "metadata": {
    "ExecuteTime": {
     "end_time": "2025-08-05T16:10:37.359357Z",
     "start_time": "2025-08-05T16:10:37.356250Z"
    }
   },
   "cell_type": "code",
   "source": "tr0.td",
   "id": "be40c70cf0e3642a",
   "outputs": [
    {
     "data": {
      "text/plain": [
       "<td id=\"flight\">Flight No</td>"
      ]
     },
     "execution_count": 29,
     "metadata": {},
     "output_type": "execute_result"
    }
   ],
   "execution_count": 29
  },
  {
   "metadata": {},
   "cell_type": "markdown",
   "source": "<p>If we iterate through the list, each element corresponds to a row in the table:</p>",
   "id": "6a759294f8c3a0c1"
  },
  {
   "metadata": {
    "ExecuteTime": {
     "end_time": "2025-08-05T16:10:37.392687Z",
     "start_time": "2025-08-05T16:10:37.389372Z"
    }
   },
   "cell_type": "code",
   "source": [
    "for i, row in enumerate(table_rows):\n",
    "    print(f\"row {i} is {row}\")"
   ],
   "id": "eb6c8a09d5fdbdc9",
   "outputs": [
    {
     "name": "stdout",
     "output_type": "stream",
     "text": [
      "row 0 is <tr><td id=\"flight\">Flight No</td><td>Launch site</td> <td>Payload mass</td></tr>\n",
      "row 1 is <tr><td>1</td><td><a href=\"https://en.wikipedia.org/wiki/Florida\">Florida</a></td><td>300 kg</td></tr>\n",
      "row 2 is <tr><td>2</td><td><a href=\"https://en.wikipedia.org/wiki/Texas\">Texas</a></td><td>94 kg</td></tr>\n",
      "row 3 is <tr><td>3</td><td><a href=\"https://en.wikipedia.org/wiki/Florida\">Florida</a> </td><td>80 kg</td></tr>\n"
     ]
    }
   ],
   "execution_count": 30
  },
  {
   "metadata": {},
   "cell_type": "markdown",
   "source": "<p>As <code>row</code> is a <code>cell</code> object, we can apply the method <code>find_all</code> to it and extract table cells in the object <code>cells</code> using the tag <code>td</code>, this is all the children with the name <code>td</code>. The result is a list, each element corresponds to a cell and is a <code>Tag</code> object, we can iterate through this list as well. We can extract the content using the <code>string</code> attribute.</p>",
   "id": "4e08fccb0df1e92c"
  },
  {
   "metadata": {
    "ExecuteTime": {
     "end_time": "2025-08-05T16:10:37.422645Z",
     "start_time": "2025-08-05T16:10:37.419515Z"
    }
   },
   "cell_type": "code",
   "source": [
    "for i, row in enumerate(table_rows):\n",
    "    print(f\"row is {i}\")\n",
    "    cells = row.find_all(\"td\")\n",
    "    for j, cell in enumerate(cells):\n",
    "        print(f\"The cell of column {j} is {cell}\")"
   ],
   "id": "506ee1e575dbdb1e",
   "outputs": [
    {
     "name": "stdout",
     "output_type": "stream",
     "text": [
      "row is 0\n",
      "The cell of column 0 is <td id=\"flight\">Flight No</td>\n",
      "The cell of column 1 is <td>Launch site</td>\n",
      "The cell of column 2 is <td>Payload mass</td>\n",
      "row is 1\n",
      "The cell of column 0 is <td>1</td>\n",
      "The cell of column 1 is <td><a href=\"https://en.wikipedia.org/wiki/Florida\">Florida</a></td>\n",
      "The cell of column 2 is <td>300 kg</td>\n",
      "row is 2\n",
      "The cell of column 0 is <td>2</td>\n",
      "The cell of column 1 is <td><a href=\"https://en.wikipedia.org/wiki/Texas\">Texas</a></td>\n",
      "The cell of column 2 is <td>94 kg</td>\n",
      "row is 3\n",
      "The cell of column 0 is <td>3</td>\n",
      "The cell of column 1 is <td><a href=\"https://en.wikipedia.org/wiki/Florida\">Florida</a> </td>\n",
      "The cell of column 2 is <td>80 kg</td>\n"
     ]
    }
   ],
   "execution_count": 31
  },
  {
   "metadata": {},
   "cell_type": "markdown",
   "source": "<p>If we use a list we can match against any item in that list.</p>",
   "id": "6fb5447e1569fd14"
  },
  {
   "metadata": {
    "ExecuteTime": {
     "end_time": "2025-08-05T16:10:37.470563Z",
     "start_time": "2025-08-05T16:10:37.467288Z"
    }
   },
   "cell_type": "code",
   "source": "table_bs.find_all(name=[\"tr\", \"td\"])",
   "id": "3b50df8feeba4333",
   "outputs": [
    {
     "data": {
      "text/plain": [
       "[<tr><td id=\"flight\">Flight No</td><td>Launch site</td> <td>Payload mass</td></tr>,\n",
       " <td id=\"flight\">Flight No</td>,\n",
       " <td>Launch site</td>,\n",
       " <td>Payload mass</td>,\n",
       " <tr><td>1</td><td><a href=\"https://en.wikipedia.org/wiki/Florida\">Florida</a></td><td>300 kg</td></tr>,\n",
       " <td>1</td>,\n",
       " <td><a href=\"https://en.wikipedia.org/wiki/Florida\">Florida</a></td>,\n",
       " <td>300 kg</td>,\n",
       " <tr><td>2</td><td><a href=\"https://en.wikipedia.org/wiki/Texas\">Texas</a></td><td>94 kg</td></tr>,\n",
       " <td>2</td>,\n",
       " <td><a href=\"https://en.wikipedia.org/wiki/Texas\">Texas</a></td>,\n",
       " <td>94 kg</td>,\n",
       " <tr><td>3</td><td><a href=\"https://en.wikipedia.org/wiki/Florida\">Florida</a> </td><td>80 kg</td></tr>,\n",
       " <td>3</td>,\n",
       " <td><a href=\"https://en.wikipedia.org/wiki/Florida\">Florida</a> </td>,\n",
       " <td>80 kg</td>]"
      ]
     },
     "execution_count": 32,
     "metadata": {},
     "output_type": "execute_result"
    }
   ],
   "execution_count": 32
  },
  {
   "metadata": {},
   "cell_type": "markdown",
   "source": "## Attributes",
   "id": "9dc8764f6b41098a"
  },
  {
   "metadata": {},
   "cell_type": "markdown",
   "source": "<p>If the argument is not recognized it will be turned into a filter on the tag's attributes. For example the <code>id</code> argument, Beautiful Soup will filter against each tag's <code>id</code> attribute. For example, the first <code>td</code> elements have a value of <code>id</code> of <code>flight</code>, therefore we can filter based on that <code>id</code> value.</p>",
   "id": "5cc286233dfeee74"
  },
  {
   "metadata": {
    "ExecuteTime": {
     "end_time": "2025-08-05T16:10:37.511968Z",
     "start_time": "2025-08-05T16:10:37.508787Z"
    }
   },
   "cell_type": "code",
   "source": "table_bs.find_all(id=\"flight\")",
   "id": "adf0e22d18e46278",
   "outputs": [
    {
     "data": {
      "text/plain": [
       "[<td id=\"flight\">Flight No</td>]"
      ]
     },
     "execution_count": 33,
     "metadata": {},
     "output_type": "execute_result"
    }
   ],
   "execution_count": 33
  },
  {
   "metadata": {},
   "cell_type": "markdown",
   "source": "<p>We can find all the elements that have links to the Florida Wikipedia page:</p>",
   "id": "9d97aeebd7454648"
  },
  {
   "metadata": {
    "ExecuteTime": {
     "end_time": "2025-08-05T16:10:37.561531Z",
     "start_time": "2025-08-05T16:10:37.558441Z"
    }
   },
   "cell_type": "code",
   "source": "table_bs.find_all(href=\"https://en.wikipedia.org/wiki/Florida\")",
   "id": "3000e2a8a2a7fb63",
   "outputs": [
    {
     "data": {
      "text/plain": [
       "[<a href=\"https://en.wikipedia.org/wiki/Florida\">Florida</a>,\n",
       " <a href=\"https://en.wikipedia.org/wiki/Florida\">Florida</a>]"
      ]
     },
     "execution_count": 34,
     "metadata": {},
     "output_type": "execute_result"
    }
   ],
   "execution_count": 34
  },
  {
   "metadata": {},
   "cell_type": "markdown",
   "source": "<p>If we set the <code>href</code> attribute to True, regardless of what the value is, the code finds all tags with <code>href</code> value:</p>",
   "id": "59cb828def38bb8a"
  },
  {
   "metadata": {
    "ExecuteTime": {
     "end_time": "2025-08-05T16:10:37.610956Z",
     "start_time": "2025-08-05T16:10:37.607664Z"
    }
   },
   "cell_type": "code",
   "source": "table_bs.find_all(href=True)",
   "id": "b553e8a1004ba9bd",
   "outputs": [
    {
     "data": {
      "text/plain": [
       "[<a href=\"https://en.wikipedia.org/wiki/Florida\">Florida</a>,\n",
       " <a href=\"https://en.wikipedia.org/wiki/Texas\">Texas</a>,\n",
       " <a href=\"https://en.wikipedia.org/wiki/Florida\">Florida</a>]"
      ]
     },
     "execution_count": 35,
     "metadata": {},
     "output_type": "execute_result"
    }
   ],
   "execution_count": 35
  },
  {
   "metadata": {},
   "cell_type": "markdown",
   "source": "<p>There are other methods for dealing with attributes and other related methods; Check out the following <a href=\"https://www.crummy.com/software/BeautifulSoup/bs4/doc/#css-selectors\">link</a>.</p>",
   "id": "abb2d6fe163374ea"
  },
  {
   "metadata": {},
   "cell_type": "markdown",
   "source": "### Exercise 2",
   "id": "a20ae767418d2efa"
  },
  {
   "metadata": {},
   "cell_type": "markdown",
   "source": "<p>Using the logic above, find all the elements without <code>href</code> value.</p>",
   "id": "61c12c75dffdc7ca"
  },
  {
   "metadata": {
    "ExecuteTime": {
     "end_time": "2025-08-05T16:10:37.669155Z",
     "start_time": "2025-08-05T16:10:37.665871Z"
    }
   },
   "cell_type": "code",
   "source": "table_bs.find_all(\"a\", href=False)",
   "id": "e236777264df712b",
   "outputs": [
    {
     "data": {
      "text/plain": [
       "[]"
      ]
     },
     "execution_count": 36,
     "metadata": {},
     "output_type": "execute_result"
    }
   ],
   "execution_count": 36
  },
  {
   "metadata": {},
   "cell_type": "markdown",
   "source": "<p>Using the soup object <code>soup</code>, find the element with the <code>id</code> attribute content set to <code>\"boldest\"</code>.</p>",
   "id": "b9b941442128e92e"
  },
  {
   "metadata": {
    "ExecuteTime": {
     "end_time": "2025-08-05T16:10:37.716858Z",
     "start_time": "2025-08-05T16:10:37.713323Z"
    }
   },
   "cell_type": "code",
   "source": "soup.find_all(id=\"boldest\")",
   "id": "3af095f129d230f0",
   "outputs": [
    {
     "data": {
      "text/plain": [
       "[<b id=\"boldest\">Lebron James</b>]"
      ]
     },
     "execution_count": 37,
     "metadata": {},
     "output_type": "execute_result"
    }
   ],
   "execution_count": 37
  },
  {
   "metadata": {},
   "cell_type": "markdown",
   "source": "### string",
   "id": "71a9f7e246b3d340"
  },
  {
   "metadata": {},
   "cell_type": "markdown",
   "source": "<p>With string, you can search for strings instead of tags, where we find all the elements with <code>Florida</code>:</p>",
   "id": "9e0ce3616c36338a"
  },
  {
   "metadata": {
    "ExecuteTime": {
     "end_time": "2025-08-05T16:10:37.743392Z",
     "start_time": "2025-08-05T16:10:37.740169Z"
    }
   },
   "cell_type": "code",
   "source": "table_bs.find_all(string=\"Florida\")",
   "id": "2c502695d6a0c639",
   "outputs": [
    {
     "data": {
      "text/plain": [
       "['Florida', 'Florida']"
      ]
     },
     "execution_count": 38,
     "metadata": {},
     "output_type": "execute_result"
    }
   ],
   "execution_count": 38
  },
  {
   "metadata": {},
   "cell_type": "markdown",
   "source": "### find",
   "id": "ba332914a7a0f82"
  },
  {
   "metadata": {},
   "cell_type": "markdown",
   "source": "<p>The <code>find_all()</code> method scans the entire document looking for results, it's if you are looking for one element you can use the <code>find()</code> method to find the first element in the document. Consider the following two table:</p>",
   "id": "46fdd129b097b14e"
  },
  {
   "metadata": {
    "ExecuteTime": {
     "end_time": "2025-08-05T16:10:37.769734Z",
     "start_time": "2025-08-05T16:10:37.766544Z"
    }
   },
   "cell_type": "code",
   "source": [
    "%%html\n",
    "<h3>Rocket Launch </h3>\n",
    "\n",
    "<table class=\"rocket\">\n",
    "  <tr>\n",
    "    <td>Flight No</td>\n",
    "    <td>Launch site</td>\n",
    "    <td>Payload mass</td>\n",
    "  </tr>\n",
    "  <tr>\n",
    "    <td>1</td>\n",
    "    <td>Florida</td>\n",
    "    <td>300 kg</td>\n",
    "  </tr>\n",
    "  <tr>\n",
    "    <td>2</td>\n",
    "    <td>Texas</td>\n",
    "    <td>94 kg</td>\n",
    "  </tr>\n",
    "  <tr>\n",
    "    <td>3</td>\n",
    "    <td>Florida</td>\n",
    "    <td>80 kg</td>\n",
    "  </tr>\n",
    "</table>\n",
    "\n",
    "<h3>Pizza Party</h3>\n",
    "\n",
    "<table class=\"pizza\">\n",
    "  <tr>\n",
    "    <td>Pizza Place</td>\n",
    "    <td>Orders</td>\n",
    "    <td>Slices </td>\n",
    "   </tr>\n",
    "  <tr>\n",
    "    <td>Domino's Pizza</td>\n",
    "    <td>10</td>\n",
    "    <td>100</td>\n",
    "  </tr>\n",
    "  <tr>\n",
    "    <td>Little Caesars</td>\n",
    "    <td>12</td>\n",
    "    <td >144 </td>\n",
    "  </tr>\n",
    "  <tr>\n",
    "    <td>Papa John's</td>\n",
    "    <td>15 </td>\n",
    "    <td>165</td>\n",
    "  </tr>\n",
    "</table>"
   ],
   "id": "cef2597968f67004",
   "outputs": [
    {
     "data": {
      "text/plain": [
       "<IPython.core.display.HTML object>"
      ],
      "text/html": [
       "<h3>Rocket Launch </h3>\n",
       "\n",
       "<table class=\"rocket\">\n",
       "  <tr>\n",
       "    <td>Flight No</td>\n",
       "    <td>Launch site</td>\n",
       "    <td>Payload mass</td>\n",
       "  </tr>\n",
       "  <tr>\n",
       "    <td>1</td>\n",
       "    <td>Florida</td>\n",
       "    <td>300 kg</td>\n",
       "  </tr>\n",
       "  <tr>\n",
       "    <td>2</td>\n",
       "    <td>Texas</td>\n",
       "    <td>94 kg</td>\n",
       "  </tr>\n",
       "  <tr>\n",
       "    <td>3</td>\n",
       "    <td>Florida</td>\n",
       "    <td>80 kg</td>\n",
       "  </tr>\n",
       "</table>\n",
       "\n",
       "<h3>Pizza Party</h3>\n",
       "\n",
       "<table class=\"pizza\">\n",
       "  <tr>\n",
       "    <td>Pizza Place</td>\n",
       "    <td>Orders</td>\n",
       "    <td>Slices </td>\n",
       "   </tr>\n",
       "  <tr>\n",
       "    <td>Domino's Pizza</td>\n",
       "    <td>10</td>\n",
       "    <td>100</td>\n",
       "  </tr>\n",
       "  <tr>\n",
       "    <td>Little Caesars</td>\n",
       "    <td>12</td>\n",
       "    <td >144 </td>\n",
       "  </tr>\n",
       "  <tr>\n",
       "    <td>Papa John's</td>\n",
       "    <td>15 </td>\n",
       "    <td>165</td>\n",
       "  </tr>\n",
       "</table>\n"
      ]
     },
     "metadata": {},
     "output_type": "display_data"
    }
   ],
   "execution_count": 39
  },
  {
   "metadata": {},
   "cell_type": "markdown",
   "source": "<p>We store the HTML as a Python string and assign <code>two_tables</code>:</p>",
   "id": "caf6ce14da88c9fb"
  },
  {
   "metadata": {
    "ExecuteTime": {
     "end_time": "2025-08-05T16:10:37.807504Z",
     "start_time": "2025-08-05T16:10:37.804668Z"
    }
   },
   "cell_type": "code",
   "source": "two_tables = \"<h3>Rocket Launch </h3><table class=\\\"rocket\\\"><tr><td>Flight No</td><td>Launch site</td><td>Payload mass</td></tr><tr><td>1</td><td>Florida</td><td>300 kg</td></tr><tr><td>2</td><td>Texas</td><td>94 kg</td></tr><tr><td>3</td><td>Florida</td><td>80 kg</td></tr></table><h3>Pizza Party</h3><table class=\\\"pizza\\\"><tr><td>Pizza Place</td><td>Orders</td> <td>Slices </td></tr><tr><td>Domino's Pizza</td><td>10</td><td>100</td></tr><tr><td>Little Caesars</td><td>12</td><td >144</td></tr><tr><td>Papa John's</td><td>15</td><td>165</td></tr></table>\"",
   "id": "1af9964815e6d0e4",
   "outputs": [],
   "execution_count": 40
  },
  {
   "metadata": {},
   "cell_type": "markdown",
   "source": "<p>We create a <code>BeautifulSoup</code> object <code>two_tables_bs</code>:</p>",
   "id": "c243c63ef070efba"
  },
  {
   "metadata": {
    "ExecuteTime": {
     "end_time": "2025-08-05T16:10:37.832775Z",
     "start_time": "2025-08-05T16:10:37.830495Z"
    }
   },
   "cell_type": "code",
   "source": "two_tables_bs = BeautifulSoup(two_tables, \"html.parser\")",
   "id": "e624dc2ce08bc8ab",
   "outputs": [],
   "execution_count": 41
  },
  {
   "metadata": {},
   "cell_type": "markdown",
   "source": "<p>We can find the first table using the tag name table:</p>",
   "id": "d1b881efced85b10"
  },
  {
   "metadata": {
    "ExecuteTime": {
     "end_time": "2025-08-05T16:10:37.846270Z",
     "start_time": "2025-08-05T16:10:37.842867Z"
    }
   },
   "cell_type": "code",
   "source": "two_tables_bs.find(\"table\")",
   "id": "1a9399cc8188c990",
   "outputs": [
    {
     "data": {
      "text/plain": [
       "<table class=\"rocket\"><tr><td>Flight No</td><td>Launch site</td><td>Payload mass</td></tr><tr><td>1</td><td>Florida</td><td>300 kg</td></tr><tr><td>2</td><td>Texas</td><td>94 kg</td></tr><tr><td>3</td><td>Florida</td><td>80 kg</td></tr></table>"
      ]
     },
     "execution_count": 42,
     "metadata": {},
     "output_type": "execute_result"
    }
   ],
   "execution_count": 42
  },
  {
   "metadata": {},
   "cell_type": "markdown",
   "source": "<p>We can filter on the class attribute to find the second table, but because class is a keyword in Python, we add an underscore.</p>",
   "id": "a5a379566d5be17e"
  },
  {
   "metadata": {
    "ExecuteTime": {
     "end_time": "2025-08-05T16:10:37.873679Z",
     "start_time": "2025-08-05T16:10:37.870507Z"
    }
   },
   "cell_type": "code",
   "source": "two_tables_bs.find(\"table\", class_=\"pizza\")",
   "id": "2dab2e8d0b109330",
   "outputs": [
    {
     "data": {
      "text/plain": [
       "<table class=\"pizza\"><tr><td>Pizza Place</td><td>Orders</td> <td>Slices </td></tr><tr><td>Domino's Pizza</td><td>10</td><td>100</td></tr><tr><td>Little Caesars</td><td>12</td><td>144</td></tr><tr><td>Papa John's</td><td>15</td><td>165</td></tr></table>"
      ]
     },
     "execution_count": 43,
     "metadata": {},
     "output_type": "execute_result"
    }
   ],
   "execution_count": 43
  },
  {
   "metadata": {},
   "cell_type": "markdown",
   "source": "## Downloading And Scraping The Contents Of A Web Page",
   "id": "beaf81af1dd80392"
  },
  {
   "metadata": {},
   "cell_type": "markdown",
   "source": "<p>We Download the contents of the web page:</p>",
   "id": "162c65724b035f58"
  },
  {
   "metadata": {
    "ExecuteTime": {
     "end_time": "2025-08-05T16:10:37.898714Z",
     "start_time": "2025-08-05T16:10:37.896364Z"
    }
   },
   "cell_type": "code",
   "source": "url = \"https://web.archive.org/web/20230224123642/https://www.ibm.com/us-en/\"",
   "id": "7aa29b9ac330b08a",
   "outputs": [],
   "execution_count": 44
  },
  {
   "metadata": {},
   "cell_type": "markdown",
   "source": "<p>We use <code>get</code> to download the contents of the webpage in text format and store in a variable called <code>data</code>:</p>",
   "id": "136305660c926fa2"
  },
  {
   "metadata": {
    "ExecuteTime": {
     "end_time": "2025-08-05T16:10:47.571667Z",
     "start_time": "2025-08-05T16:10:37.935790Z"
    }
   },
   "cell_type": "code",
   "source": [
    "data = requests.get(url=url).text\n",
    "data"
   ],
   "id": "8f21097be51cbe14",
   "outputs": [
    {
     "data": {
      "text/plain": [
       "'<!DOCTYPE html><html lang=\"en-US\"><head><script type=\"text/javascript\" src=\"https://web-static.archive.org/_static/js/bundle-playback.js?v=1B2M2Y8A\" charset=\"utf-8\"></script>\\n<script type=\"text/javascript\" src=\"https://web-static.archive.org/_static/js/wombat.js?v=1B2M2Y8A\" charset=\"utf-8\"></script>\\n<script>window.RufflePlayer=window.RufflePlayer||{};window.RufflePlayer.config={\"autoplay\":\"on\",\"unmuteOverlay\":\"hidden\",\"showSwfDownload\":true};</script>\\n<script type=\"text/javascript\" src=\"https://web-static.archive.org/_static/js/ruffle/ruffle.js\"></script>\\n<script type=\"text/javascript\">\\n    __wm.init(\"https://web.archive.org/web\");\\n  __wm.wombat(\"https://www.ibm.com/us-en/\",\"20230224123642\",\"https://web.archive.org/\",\"web\",\"https://web-static.archive.org/_static/\",\\n\\t      \"1677242202\");\\n</script>\\n<link rel=\"stylesheet\" type=\"text/css\" href=\"https://web-static.archive.org/_static/css/banner-styles.css?v=1B2M2Y8A\" />\\n<link rel=\"stylesheet\" type=\"text/css\" href=\"https://web-static.archive.org/_static/css/iconochive.css?v=1B2M2Y8A\" />\\n<!-- End Wayback Rewrite JS Include -->\\n<meta name=\"viewport\" content=\"width=device-width\"/><meta charset=\"utf-8\"/><title>IBM - United States</title><link rel=\"canonical\" href=\"https://web.archive.org/web/20230224123642/https://www.ibm.com/us-en\"/><meta name=\"robots\" content=\"index,follow\"/><meta name=\"description\" content=\"For more than a century IBM has been dedicated to every client\\'s success and to creating innovations that matter for the world\"/><meta name=\"keywords\" content=\"IBM\"/><meta http-equiv=\"X-UA-Compatible\" content=\"IE=Edge\"/><meta http-equiv=\"Cache-Control\" content=\"no-cache, no-store, must-revalidate\"/><meta http-equiv=\"Pragma\" content=\"no-cache\"/><meta http-equiv=\"Expires\" content=\"0\"/><link rel=\"icon\" href=\"//web.archive.org/web/20230224123642im_/https://www.ibm.com/favicon.ico\"/><meta name=\"ibmdotcom.version.react\" content=\"^1.38.0\"/><meta name=\"ibmdotcom.version.styles\" content=\"^1.38.0\"/><meta name=\"ibmdotcom.build.time\" content=\"2023-02-22T18:05:00.504Z\"/><meta name=\"dcterms.date\" content=\"2015-10-01\"/><meta name=\"dcterms.rights\" content=\"Â© Copyright IBM Corp. 2020\"/><meta name=\"geo.country\" content=\"US\"/><script>digitalData={\"page\":{\"category\":{\"primaryCategory\":\"SB03\"},\"pageInfo\":{\"effectiveDate\":\"2022-12-15\",\"expiryDate\":\"2027-12-15\",\"language\":\"en-us\",\"publishDate\":\"2022-12-15\",\"publisher\":\"IBM Corporation\",\"version\":\"Carbon:IBM.com Library v1.32.0\",\"ibm\":{\"contentDelivery\":\"Hand coded\",\"contentProducer\":\"Lance Tappana\",\"country\":\"us\",\"industry\":\"ZZ\",\"owner\":\"Corporate Webmaster/New York/IBM\",\"siteID\":\"GLOBAL\",\"subject\":\"IBM000\",\"type\":\"CT052\",\"messaging\":{\"routing\":{\"focusArea\":\"Miscellaneous - Cross IBM\",\"languageCode\":\"en\",\"regionCode\":\"US\"},\"translation\":{\"languageCode\":\"en\",\"regionCode\":\"US\"}}},\"hotjar\":{\"enabled\":0}}}};</script><script>\\n            window.hj=window.hj||function(){(hj.q=hj.q||[]).push(arguments)};\\n            window.hj(\\'tagRecording\\', [\\'hjLoaded\\']);\\n            document.addEventListener(\\'onMegaMenuToggle\\', e => {\\n              if(e.target.getAttribute(\"data-title\") == \\'products-solutions\\') {\\n                window.hj(\\'trigger\\', \\'MM_products-solutions\\');\\n              }\\n              if(e.target.getAttribute(\"data-title\") == \\'services-consulting\\') {\\n                window.hj(\\'trigger\\', \\'MM_services-consulting\\');\\n              }\\n              if(e.target.getAttribute(\"data-title\") == \\'learn-support\\') {\\n                window.hj(\\'trigger\\', \\'MM_learn-support\\');\\n              }\\n              if(e.target.getAttribute(\"data-title\") == \\'explore-more\\') {\\n                window.hj(\\'trigger\\', \\'MM_explore-more\\');\\n              }\\n            });\\n\\n            </script><script type=\"module\" src=\"https://web.archive.org/web/20230224123642jm_/https://1.www.s81c.com/common/carbon-for-ibm-dotcom/tag/v2/alpha/masthead.min.js\"></script><link rel=\"alternate\" hreflang=\"en-us\" href=\"https://web.archive.org/web/20230224123642/https://www.ibm.com/us-en\"/><link rel=\"alternate\" hreflang=\"x-default\" href=\"https://web.archive.org/web/20230224123642/https://www.ibm.com/\"/><link rel=\"alternate\" hreflang=\"en-af\" href=\"https://web.archive.org/web/20230224123642/https://www.ibm.com/af-en\"/><link rel=\"alternate\" hreflang=\"fr-dz\" href=\"https://web.archive.org/web/20230224123642/https://www.ibm.com/dz-fr\"/><link rel=\"alternate\" hreflang=\"pt-ao\" href=\"https://web.archive.org/web/20230224123642/https://www.ibm.com/ao-pt\"/><link rel=\"alternate\" hreflang=\"en-ai\" href=\"https://web.archive.org/web/20230224123642/https://www.ibm.com/ai-en\"/><link rel=\"alternate\" hreflang=\"en-ag\" href=\"https://web.archive.org/web/20230224123642/https://www.ibm.com/ag-en\"/><link rel=\"alternate\" hreflang=\"es-ar\" href=\"https://web.archive.org/web/20230224123642/https://www.ibm.com/ar-es\"/><link rel=\"alternate\" hreflang=\"en-aw\" href=\"https://web.archive.org/web/20230224123642/https://www.ibm.com/aw-en\"/><link rel=\"alternate\" hreflang=\"en-au\" href=\"https://web.archive.org/web/20230224123642/https://www.ibm.com/au-en\"/><link rel=\"alternate\" hreflang=\"de-at\" href=\"https://web.archive.org/web/20230224123642/https://www.ibm.com/at-de\"/><link rel=\"alternate\" hreflang=\"en-bs\" href=\"https://web.archive.org/web/20230224123642/https://www.ibm.com/bs-en\"/><link rel=\"alternate\" hreflang=\"en-bh\" href=\"https://web.archive.org/web/20230224123642/https://www.ibm.com/bh-en\"/><link rel=\"alternate\" hreflang=\"en-bd\" href=\"https://web.archive.org/web/20230224123642/https://www.ibm.com/bd-en\"/><link rel=\"alternate\" hreflang=\"en-bb\" href=\"https://web.archive.org/web/20230224123642/https://www.ibm.com/bb-en\"/><link rel=\"alternate\" hreflang=\"en-be\" href=\"https://web.archive.org/web/20230224123642/https://www.ibm.com/be-en\"/><link rel=\"alternate\" hreflang=\"en-bm\" href=\"https://web.archive.org/web/20230224123642/https://www.ibm.com/bm-en\"/><link rel=\"alternate\" hreflang=\"es-bo\" href=\"https://web.archive.org/web/20230224123642/https://www.ibm.com/bo-es\"/><link rel=\"alternate\" hreflang=\"en-bw\" href=\"https://web.archive.org/web/20230224123642/https://www.ibm.com/bw-en\"/><link rel=\"alternate\" hreflang=\"pt-br\" href=\"https://web.archive.org/web/20230224123642/https://www.ibm.com/br-pt\"/><link rel=\"alternate\" hreflang=\"en-vg\" href=\"https://web.archive.org/web/20230224123642/https://www.ibm.com/vg-en\"/><link rel=\"alternate\" hreflang=\"en-bn\" href=\"https://web.archive.org/web/20230224123642/https://www.ibm.com/bn-en\"/><link rel=\"alternate\" hreflang=\"en-bg\" href=\"https://web.archive.org/web/20230224123642/https://www.ibm.com/bg-en\"/><link rel=\"alternate\" hreflang=\"fr-bf\" href=\"https://web.archive.org/web/20230224123642/https://www.ibm.com/bf-fr\"/><link rel=\"alternate\" hreflang=\"en-kh\" href=\"https://web.archive.org/web/20230224123642/https://www.ibm.com/kh-en\"/><link rel=\"alternate\" hreflang=\"fr-cm\" href=\"https://web.archive.org/web/20230224123642/https://www.ibm.com/cm-fr\"/><link rel=\"alternate\" hreflang=\"en-ca\" href=\"https://web.archive.org/web/20230224123642/https://www.ibm.com/ca-en\"/><link rel=\"alternate\" hreflang=\"fr-ca\" href=\"https://web.archive.org/web/20230224123642/https://www.ibm.com/ca-fr\"/><link rel=\"alternate\" hreflang=\"en-ky\" href=\"https://web.archive.org/web/20230224123642/https://www.ibm.com/ky-en\"/><link rel=\"alternate\" hreflang=\"fr-td\" href=\"https://web.archive.org/web/20230224123642/https://www.ibm.com/td-fr\"/><link rel=\"alternate\" hreflang=\"es-cl\" href=\"https://web.archive.org/web/20230224123642/https://www.ibm.com/cl-es\"/><link rel=\"alternate\" hreflang=\"zh-cn\" href=\"https://web.archive.org/web/20230224123642/https://www.ibm.com/cn-zh\"/><link rel=\"alternate\" hreflang=\"es-co\" href=\"https://web.archive.org/web/20230224123642/https://www.ibm.com/co-es\"/><link rel=\"alternate\" hreflang=\"fr-cd\" href=\"https://web.archive.org/web/20230224123642/https://www.ibm.com/cd-fr\"/><link rel=\"alternate\" hreflang=\"fr-cg\" href=\"https://web.archive.org/web/20230224123642/https://www.ibm.com/cg-fr\"/><link rel=\"alternate\" hreflang=\"es-cr\" href=\"https://web.archive.org/web/20230224123642/https://www.ibm.com/cr-es\"/><link rel=\"alternate\" hreflang=\"en-hr\" href=\"https://web.archive.org/web/20230224123642/https://www.ibm.com/hr-en\"/><link rel=\"alternate\" hreflang=\"en-cw\" href=\"https://web.archive.org/web/20230224123642/https://www.ibm.com/cw-en\"/><link rel=\"alternate\" hreflang=\"en-cy\" href=\"https://web.archive.org/web/20230224123642/https://www.ibm.com/cy-en\"/><link rel=\"alternate\" hreflang=\"en-cz\" href=\"https://web.archive.org/web/20230224123642/https://www.ibm.com/cz-en\"/><link rel=\"alternate\" hreflang=\"en-dm\" href=\"https://web.archive.org/web/20230224123642/https://www.ibm.com/dm-en\"/><link rel=\"alternate\" hreflang=\"en-dk\" href=\"https://web.archive.org/web/20230224123642/https://www.ibm.com/dk-en\"/><link rel=\"alternate\" hreflang=\"es-ec\" href=\"https://web.archive.org/web/20230224123642/https://www.ibm.com/ec-es\"/><link rel=\"alternate\" hreflang=\"en-eg\" href=\"https://web.archive.org/web/20230224123642/https://www.ibm.com/eg-en\"/><link rel=\"alternate\" hreflang=\"en-ee\" href=\"https://web.archive.org/web/20230224123642/https://www.ibm.com/ee-en\"/><link rel=\"alternate\" hreflang=\"en-et\" href=\"https://web.archive.org/web/20230224123642/https://www.ibm.com/et-en\"/><link rel=\"alternate\" hreflang=\"en-fi\" href=\"https://web.archive.org/web/20230224123642/https://www.ibm.com/fi-en\"/><link rel=\"alternate\" hreflang=\"fr-fr\" href=\"https://web.archive.org/web/20230224123642/https://www.ibm.com/fr-fr\"/><link rel=\"alternate\" hreflang=\"fr-ga\" href=\"https://web.archive.org/web/20230224123642/https://www.ibm.com/ga-fr\"/><link rel=\"alternate\" hreflang=\"de-de\" href=\"https://web.archive.org/web/20230224123642/https://www.ibm.com/de-de\"/><link rel=\"alternate\" hreflang=\"en-gh\" href=\"https://web.archive.org/web/20230224123642/https://www.ibm.com/gh-en\"/><link rel=\"alternate\" hreflang=\"en-gr\" href=\"https://web.archive.org/web/20230224123642/https://www.ibm.com/gr-en\"/><link rel=\"alternate\" hreflang=\"en-gd\" href=\"https://web.archive.org/web/20230224123642/https://www.ibm.com/gd-en\"/><link rel=\"alternate\" hreflang=\"en-gy\" href=\"https://web.archive.org/web/20230224123642/https://www.ibm.com/gy-en\"/><link rel=\"alternate\" hreflang=\"en-hk\" href=\"https://web.archive.org/web/20230224123642/https://www.ibm.com/hk-en\"/><link rel=\"alternate\" hreflang=\"en-hu\" href=\"https://web.archive.org/web/20230224123642/https://www.ibm.com/hu-en\"/><link rel=\"alternate\" hreflang=\"en-in\" href=\"https://web.archive.org/web/20230224123642/https://www.ibm.com/in-en\"/><link rel=\"alternate\" hreflang=\"en-id\" href=\"https://web.archive.org/web/20230224123642/https://www.ibm.com/id-en\"/><link rel=\"alternate\" hreflang=\"en-iq\" href=\"https://web.archive.org/web/20230224123642/https://www.ibm.com/iq-en\"/><link rel=\"alternate\" hreflang=\"en-ie\" href=\"https://web.archive.org/web/20230224123642/https://www.ibm.com/ie-en\"/><link rel=\"alternate\" hreflang=\"en-il\" href=\"https://web.archive.org/web/20230224123642/https://www.ibm.com/il-en\"/><link rel=\"alternate\" hreflang=\"it-it\" href=\"https://web.archive.org/web/20230224123642/https://www.ibm.com/it-it\"/><link rel=\"alternate\" hreflang=\"fr-ci\" href=\"https://web.archive.org/web/20230224123642/https://www.ibm.com/ci-fr\"/><link rel=\"alternate\" hreflang=\"en-jm\" href=\"https://web.archive.org/web/20230224123642/https://www.ibm.com/jm-en\"/><link rel=\"alternate\" hreflang=\"ja-jp\" href=\"https://web.archive.org/web/20230224123642/https://www.ibm.com/jp-ja\"/><link rel=\"alternate\" hreflang=\"en-jo\" href=\"https://web.archive.org/web/20230224123642/https://www.ibm.com/jo-en\"/><link rel=\"alternate\" hreflang=\"en-kz\" href=\"https://web.archive.org/web/20230224123642/https://www.ibm.com/kz-en\"/><link rel=\"alternate\" hreflang=\"en-ke\" href=\"https://web.archive.org/web/20230224123642/https://www.ibm.com/ke-en\"/><link rel=\"alternate\" hreflang=\"ko-kr\" href=\"https://web.archive.org/web/20230224123642/https://www.ibm.com/kr-ko\"/><link rel=\"alternate\" hreflang=\"en-kw\" href=\"https://web.archive.org/web/20230224123642/https://www.ibm.com/kw-en\"/><link rel=\"alternate\" hreflang=\"en-lv\" href=\"https://web.archive.org/web/20230224123642/https://www.ibm.com/lv-en\"/><link rel=\"alternate\" hreflang=\"en-lb\" href=\"https://web.archive.org/web/20230224123642/https://www.ibm.com/lb-en\"/><link rel=\"alternate\" hreflang=\"en-ly\" href=\"https://web.archive.org/web/20230224123642/https://www.ibm.com/ly-en\"/><link rel=\"alternate\" hreflang=\"en-lt\" href=\"https://web.archive.org/web/20230224123642/https://www.ibm.com/lt-en\"/><link rel=\"alternate\" hreflang=\"en-mw\" href=\"https://web.archive.org/web/20230224123642/https://www.ibm.com/mw-en\"/><link rel=\"alternate\" hreflang=\"en-my\" href=\"https://web.archive.org/web/20230224123642/https://www.ibm.com/my-en\"/><link rel=\"alternate\" hreflang=\"fr-mu\" href=\"https://web.archive.org/web/20230224123642/https://www.ibm.com/mu-fr\"/><link rel=\"alternate\" hreflang=\"es-mx\" href=\"https://web.archive.org/web/20230224123642/https://www.ibm.com/mx-es\"/><link rel=\"alternate\" hreflang=\"en-ms\" href=\"https://web.archive.org/web/20230224123642/https://www.ibm.com/ms-en\"/><link rel=\"alternate\" hreflang=\"fr-ma\" href=\"https://web.archive.org/web/20230224123642/https://www.ibm.com/ma-fr\"/><link rel=\"alternate\" hreflang=\"pt-mz\" href=\"https://web.archive.org/web/20230224123642/https://www.ibm.com/mz-pt\"/><link rel=\"alternate\" hreflang=\"en-na\" href=\"https://web.archive.org/web/20230224123642/https://www.ibm.com/na-en\"/><link rel=\"alternate\" hreflang=\"en-np\" href=\"https://web.archive.org/web/20230224123642/https://www.ibm.com/np-en\"/><link rel=\"alternate\" hreflang=\"en-nl\" href=\"https://web.archive.org/web/20230224123642/https://www.ibm.com/nl-en\"/><link rel=\"alternate\" hreflang=\"en-nz\" href=\"https://web.archive.org/web/20230224123642/https://www.ibm.com/nz-en\"/><link rel=\"alternate\" hreflang=\"fr-ne\" href=\"https://web.archive.org/web/20230224123642/https://www.ibm.com/ne-fr\"/><link rel=\"alternate\" hreflang=\"en-ng\" href=\"https://web.archive.org/web/20230224123642/https://www.ibm.com/ng-en\"/><link rel=\"alternate\" hreflang=\"en-no\" href=\"https://web.archive.org/web/20230224123642/https://www.ibm.com/no-en\"/><link rel=\"alternate\" hreflang=\"en-om\" href=\"https://web.archive.org/web/20230224123642/https://www.ibm.com/om-en\"/><link rel=\"alternate\" hreflang=\"en-pk\" href=\"https://web.archive.org/web/20230224123642/https://www.ibm.com/pk-en\"/><link rel=\"alternate\" hreflang=\"es-py\" href=\"https://web.archive.org/web/20230224123642/https://www.ibm.com/py-es\"/><link rel=\"alternate\" hreflang=\"es-pe\" href=\"https://web.archive.org/web/20230224123642/https://www.ibm.com/pe-es\"/><link rel=\"alternate\" hreflang=\"en-ph\" href=\"https://web.archive.org/web/20230224123642/https://www.ibm.com/ph-en\"/><link rel=\"alternate\" hreflang=\"pl-pl\" href=\"https://web.archive.org/web/20230224123642/https://www.ibm.com/pl-pl\"/><link rel=\"alternate\" hreflang=\"en-pt\" href=\"https://web.archive.org/web/20230224123642/https://www.ibm.com/pt-en\"/><link rel=\"alternate\" hreflang=\"en-qa\" href=\"https://web.archive.org/web/20230224123642/https://www.ibm.com/qa-en\"/><link rel=\"alternate\" hreflang=\"en-ro\" href=\"https://web.archive.org/web/20230224123642/https://www.ibm.com/ro-en\"/><link rel=\"alternate\" hreflang=\"ru-ru\" href=\"https://web.archive.org/web/20230224123642/https://www.ibm.com/ru-ru\"/><link rel=\"alternate\" hreflang=\"en-kn\" href=\"https://web.archive.org/web/20230224123642/https://www.ibm.com/kn-en\"/><link rel=\"alternate\" hreflang=\"en-lc\" href=\"https://web.archive.org/web/20230224123642/https://www.ibm.com/lc-en\"/><link rel=\"alternate\" hreflang=\"en-vc\" href=\"https://web.archive.org/web/20230224123642/https://www.ibm.com/vc-en\"/><link rel=\"alternate\" hreflang=\"en-sa\" href=\"https://web.archive.org/web/20230224123642/https://www.ibm.com/sa-en\"/><link rel=\"alternate\" hreflang=\"fr-sn\" href=\"https://web.archive.org/web/20230224123642/https://www.ibm.com/sn-fr\"/><link rel=\"alternate\" hreflang=\"en-rs\" href=\"https://web.archive.org/web/20230224123642/https://www.ibm.com/rs-en\"/><link rel=\"alternate\" hreflang=\"fr-sc\" href=\"https://web.archive.org/web/20230224123642/https://www.ibm.com/sc-fr\"/><link rel=\"alternate\" hreflang=\"en-sl\" href=\"https://web.archive.org/web/20230224123642/https://www.ibm.com/sl-en\"/><link rel=\"alternate\" hreflang=\"en-sg\" href=\"https://web.archive.org/web/20230224123642/https://www.ibm.com/sg-en\"/><link rel=\"alternate\" hreflang=\"en-sk\" href=\"https://web.archive.org/web/20230224123642/https://www.ibm.com/sk-en\"/><link rel=\"alternate\" hreflang=\"en-si\" href=\"https://web.archive.org/web/20230224123642/https://www.ibm.com/si-en\"/><link rel=\"alternate\" hreflang=\"en-za\" href=\"https://web.archive.org/web/20230224123642/https://www.ibm.com/za-en\"/><link rel=\"alternate\" hreflang=\"es-es\" href=\"https://web.archive.org/web/20230224123642/https://www.ibm.com/es-es\"/><link rel=\"alternate\" hreflang=\"en-lk\" href=\"https://web.archive.org/web/20230224123642/https://www.ibm.com/lk-en\"/><link rel=\"alternate\" hreflang=\"en-sr\" href=\"https://web.archive.org/web/20230224123642/https://www.ibm.com/sr-en\"/><link rel=\"alternate\" hreflang=\"en-se\" href=\"https://web.archive.org/web/20230224123642/https://www.ibm.com/se-en\"/><link rel=\"alternate\" hreflang=\"fr-ch\" href=\"https://web.archive.org/web/20230224123642/https://www.ibm.com/ch-fr\"/><link rel=\"alternate\" hreflang=\"de-ch\" href=\"https://web.archive.org/web/20230224123642/https://www.ibm.com/ch-de\"/><link rel=\"alternate\" hreflang=\"zh-tw\" href=\"https://web.archive.org/web/20230224123642/https://www.ibm.com/tw-zh\"/><link rel=\"alternate\" hreflang=\"en-tz\" href=\"https://web.archive.org/web/20230224123642/https://www.ibm.com/tz-en\"/><link rel=\"alternate\" hreflang=\"en-th\" href=\"https://web.archive.org/web/20230224123642/https://www.ibm.com/th-en\"/><link rel=\"alternate\" hreflang=\"en-tt\" href=\"https://web.archive.org/web/20230224123642/https://www.ibm.com/tt-en\"/><link rel=\"alternate\" hreflang=\"fr-tn\" href=\"https://web.archive.org/web/20230224123642/https://www.ibm.com/tn-fr\"/><link rel=\"alternate\" hreflang=\"tr-tr\" href=\"https://web.archive.org/web/20230224123642/https://www.ibm.com/tr-tr\"/><link rel=\"alternate\" hreflang=\"en-ye\" href=\"https://web.archive.org/web/20230224123642/https://www.ibm.com/ye-en\"/><link rel=\"alternate\" hreflang=\"en-tc\" href=\"https://web.archive.org/web/20230224123642/https://www.ibm.com/tc-en\"/><link rel=\"alternate\" hreflang=\"en-ua\" href=\"https://web.archive.org/web/20230224123642/https://www.ibm.com/ua-en\"/><link rel=\"alternate\" hreflang=\"en-ug\" href=\"https://web.archive.org/web/20230224123642/https://www.ibm.com/ug-en\"/><link rel=\"alternate\" hreflang=\"en-ae\" href=\"https://web.archive.org/web/20230224123642/https://www.ibm.com/ae-en\"/><link rel=\"alternate\" hreflang=\"en-gb\" href=\"https://web.archive.org/web/20230224123642/https://www.ibm.com/uk-en\"/><link rel=\"alternate\" hreflang=\"es-uy\" href=\"https://web.archive.org/web/20230224123642/https://www.ibm.com/uy-es\"/><link rel=\"alternate\" hreflang=\"en-uz\" href=\"https://web.archive.org/web/20230224123642/https://www.ibm.com/uz-en\"/><link rel=\"alternate\" hreflang=\"es-ve\" href=\"https://web.archive.org/web/20230224123642/https://www.ibm.com/ve-es\"/><link rel=\"alternate\" hreflang=\"en-vn\" href=\"https://web.archive.org/web/20230224123642/https://www.ibm.com/vn-en\"/><link rel=\"alternate\" hreflang=\"en-zm\" href=\"https://web.archive.org/web/20230224123642/https://www.ibm.com/zm-en\"/><link rel=\"alternate\" hreflang=\"en-zw\" href=\"https://web.archive.org/web/20230224123642/https://www.ibm.com/zw-en\"/><meta name=\"next-head-count\" content=\"155\"/><link rel=\"preload\" href=\"./_next/static/css/styles.00ad75a6.chunk.css\" as=\"style\"/><link rel=\"stylesheet\" href=\"/web/20230224123642cs_/https://www.ibm.com/us-en/_next/static/css/styles.00ad75a6.chunk.css\" data-n-g=\"\"/><noscript data-n-css=\"\"></noscript><link rel=\"preload\" href=\"./_next/static/chunks/webpack-9a6e2dd34947de61505d.js\" as=\"script\"/><link rel=\"preload\" href=\"./_next/static/chunks/framework.602aaa49e9cf44108ea4.js\" as=\"script\"/><link rel=\"preload\" href=\"./_next/static/chunks/commons.56cd7ef778495da405ee.js\" as=\"script\"/><link rel=\"preload\" href=\"./_next/static/chunks/3ef630e34cd10ba68f9d468ac363ff81c534e1e9.d2f601340e1658353edc.js\" as=\"script\"/><link rel=\"preload\" href=\"./_next/static/chunks/main-51700067fcf16cbe3818.js\" as=\"script\"/><link rel=\"preload\" href=\"./_next/static/chunks/styles.3461e1160e1b06bf3496.js\" as=\"script\"/><link rel=\"preload\" href=\"./_next/static/chunks/pages/_app-692f4737856e6f61cf41.js\" as=\"script\"/><link rel=\"preload\" href=\"./_next/static/chunks/1c920f04.f4270e422fa8c16ba0f4.js\" as=\"script\"/><link rel=\"preload\" href=\"./_next/static/chunks/5f6bb6fb.63224c0f3a7ce047c8e2.js\" as=\"script\"/><link rel=\"preload\" href=\"./_next/static/chunks/8f19d780.9518ac89ebf3ed164ec7.js\" as=\"script\"/><link rel=\"preload\" href=\"./_next/static/chunks/8edc3fe5.f57e384a441d6dc22242.js\" as=\"script\"/><link rel=\"preload\" href=\"./_next/static/chunks/fc20e1c4.d98d23767340a1237305.js\" as=\"script\"/><link rel=\"preload\" href=\"./_next/static/chunks/a37fbe3b.f465653335f45cc0fa1b.js\" as=\"script\"/><link rel=\"preload\" href=\"./_next/static/chunks/bc80632e.7250d666a9b091e0e0e4.js\" as=\"script\"/><link rel=\"preload\" href=\"./_next/static/chunks/1dd0fb51.f16e33f7e2db3449d18e.js\" as=\"script\"/><link rel=\"preload\" href=\"./_next/static/chunks/56b0df7b.a548554a4a80dea8f00a.js\" as=\"script\"/><link rel=\"preload\" href=\"./_next/static/chunks/b222b98b.ebaff15e961fd9a66fec.js\" as=\"script\"/><link rel=\"preload\" href=\"./_next/static/chunks/500f7593.4b01426721d5ac82f9ba.js\" as=\"script\"/><link rel=\"preload\" href=\"./_next/static/chunks/5d8d49e442f4e00190cb1a13966c1f91ed87c0f4.c5cea6b9909ecf9bea26.js\" as=\"script\"/><link rel=\"preload\" href=\"./_next/static/chunks/11.f003844d8f71e73157c2.js\" as=\"script\"/><link rel=\"preload\" href=\"./_next/static/chunks/pages/index-6fa402b7cf0ac5e5bee1.js\" as=\"script\"/></head><body><div id=\"__next\"><div><div class=\"bx--dotcom-shell\"><main class=\"dds-ce-demo--ui-shell-content\"><div><dds-masthead-container data-endpoint=\"/common/carbon-for-ibm-dotcom/translations/masthead-footer/v2\" auth-method=\"profile-api\" has-contact=\"false\">\\n                  </dds-masthead-container></div><div class=\"newsflash-placeholder\"></div><div id=\"typing-leadspace\" class=\"bx--grid\"><div class=\"bx--row\"><div class=\"bx--col-lg-14\"><div class=\"bx--typewriter-effect bx--typewriter-effect-large\"><h1 class=\"bx--leadspace-title\"><span class=\"bx--text-black\"></span><span class=\"bx--text-blue\">|</span><span class=\"bx--text-white\">X-Force Threat Intelligence Index</span></h1><p class=\"bx--leadspace-copy\">Backdoor deployments spiked in 2022, but 67% failed due to defender disruption of ransomware attempts</p><ol class=\"bx--buttongroup\" data-autoid=\"dds--button-group\" style=\"--dds--button-group--item-count:1\"><li class=\"bx--buttongroup-item\"><a data-autoid=\"dds--button-group-0\" copy=\"Get the new report\" tabindex=\"0\" class=\"bx--btn bx--btn--primary bx--btn--expressive\" href=\"https://web.archive.org/web/20230224123642/https://www.ibm.com/reports/threat-intelligence/\">Get the new report<svg focusable=\"false\" preserveaspectratio=\"xMidYMid meet\" xmlns=\"http://www.w3.org/2000/svg\" fill=\"currentColor\" width=\"20\" height=\"20\" viewbox=\"0 0 20 20\" aria-hidden=\"true\" class=\"bx--btn__icon\"><path d=\"M11.8 2.8L10.8 3.8 16.2 9.3 1 9.3 1 10.7 16.2 10.7 10.8 16.2 11.8 17.2 19 10z\"></path></svg></a></li></ol></div></div></div></div><hr data-autoid=\"dds--hr\" class=\"bx--hr bx--hr--medium-contrast\"/><div id=\"main-content\" style=\"background-color:#FFF\"><div><div class=\"ibm-br--toc-section\"><section data-autoid=\"dds--tableofcontents\" class=\"bx--tableofcontents bx--tableofcontents--white\"><div class=\"dds-ce--table-of-contents__container\"><div class=\"bx--tableofcontents__sidebar\"><div class=\"bx--tableofcontents__mobile-top\"></div><div style=\"position:sticky;top:64px\"><div class=\"bx--tableofcontents__desktop\" data-autoid=\"dds--tableofcontents__desktop\"><ul></ul></div><div class=\"bx--tableofcontents__mobile\" data-autoid=\"dds--tableofcontents__mobile\"><div class=\"bx--tableofcontents__mobile__select__wrapper\"><select aria-label=\"Jump to\" class=\"bx--tableofcontents__mobile__select\"><option selected=\"\" class=\"bx--tableofcontents__mobile__select__option\" data-autoid=\"dds--tableofcontents__mobile__select__option-menuLabel\" value=\"menuLabel\" disabled=\"\" hidden=\"\">Jump to ...</option></select><svg focusable=\"false\" preserveaspectratio=\"xMidYMid meet\" xmlns=\"http://www.w3.org/2000/svg\" fill=\"currentColor\" aria-label=\"menu icon\" width=\"20\" height=\"20\" viewbox=\"0 0 32 32\" role=\"img\" class=\"bx--tableofcontents__mobile__select__icon\"><path d=\"M4 6H22V8H4zM4 12H22V14H4zM4 18H22V20H4zM4 24H22V26H4zM26 6H28V8H26zM26 12H28V14H26zM26 18H28V20H26zM26 24H28V26H26z\"></path><title>menu icon</title></svg></div></div></div></div><div class=\"bx--tableofcontents__content\"><div class=\"bx--tableofcontents__content-wrapper\"><a name=\"welcome\" data-title=\"About IBM\"></a><div class=\"ibm--br-intro-section ibm--fade\"><h2 class=\"bx--type-expressive-heading-05 ibm-br--heading-05\">We enable people, ideas and technologies to make the world work better through hybrid cloud and AI</h2><p><div class=\"bx--link-list\" data-autoid=\"dds--link-list\"><ul class=\"bx--link-list__list bx--link-list__list--vertical\"><li class=\"bx--link-list__list__CTA bx--link-list__list--local\"><div><div class=\"bx--link-with-icon__container\" data-autoid=\"dds--link-with-icon\"><a class=\"bx--link bx--link-with-icon bx--link-with-icon--inline-icon bx--link--lg\" href=\"https://web.archive.org/web/20230224123642/https://www.ibm.com/about\"><span>About IBM</span><svg focusable=\"false\" preserveaspectratio=\"xMidYMid meet\" xmlns=\"http://www.w3.org/2000/svg\" fill=\"currentColor\" width=\"20\" height=\"20\" viewbox=\"0 0 20 20\" aria-hidden=\"true\"><path d=\"M11.8 2.8L10.8 3.8 16.2 9.3 1 9.3 1 10.7 16.2 10.7 10.8 16.2 11.8 17.2 19 10z\"></path></svg></a></div></div></li></ul></div></p></div><a name=\"consulting\" data-title=\"Consulting\"></a><div class=\"ibm--spacer\"></div><div class=\"ibm--fade bx--custom-band-consulting\"><h2 class=\"bx--type-productive-heading-07\">Consulting</h2><dds-tabs-extended><dds-tab label=\"Overview\"><div class=\"bx--custom-content-item bx--grid bx--no-gutter\"><div class=\"bx--row\"><div class=\"bx--custom-content-item-col-image\"><div class=\"bx--image\" data-autoid=\"dds--image__longdescription\"><picture><img class=\"bx--image__img\" src=\"https://web.archive.org/web/20230224123642im_/https://1.dam.s81c.com/p/0a23e414312bcb6f/08196d0e04260ae5_cropped.jpg.global.sr_16x9.jpg\" alt=\"Person standing with arms crossed\" aria-describedby=\"bx--image-1\"/></picture><div id=\"bx--image-1\" class=\"bx--image__longdescription\">Person standing with arms crossed</div></div></div><div class=\"bx--custom-content-item-col-content\"><h3>Accelerate together</h3><p>Work with experts to speed business transformation through technology and an open ecosystem approach</p><div class=\"bx--link-list\" data-autoid=\"dds--link-list\"><ul class=\"bx--link-list__list bx--link-list__list--vertical\"><li class=\"bx--link-list__list__CTA bx--link-list__list--local\"><div><div class=\"bx--link-with-icon__container\" data-autoid=\"dds--link-with-icon\"><a class=\"bx--link bx--link-with-icon bx--link-with-icon--inline-icon bx--link--lg\" href=\"https://web.archive.org/web/20230224123642/https://www.ibm.com/consulting/?lnk=flathl\"><span>Explore IBM Consulting services</span><svg focusable=\"false\" preserveaspectratio=\"xMidYMid meet\" xmlns=\"http://www.w3.org/2000/svg\" fill=\"currentColor\" width=\"20\" height=\"20\" viewbox=\"0 0 20 20\" aria-hidden=\"true\"><path d=\"M11.8 2.8L10.8 3.8 16.2 9.3 1 9.3 1 10.7 16.2 10.7 10.8 16.2 11.8 17.2 19 10z\"></path></svg></a></div></div></li></ul></div></div></div></div></dds-tab><dds-tab label=\"Strategy\"><div class=\"bx--custom-content-item bx--grid bx--no-gutter\"><div class=\"bx--row\"><div class=\"bx--custom-content-item-col-image\"><div class=\"bx--image\" data-autoid=\"dds--image__longdescription\"><picture><img class=\"bx--image__img\" src=\"https://web.archive.org/web/20230224123642im_/https://1.dam.s81c.com/p/06655c075aa3aa29/CaitOppermann_2019_12_06_IBMGarage_DSC3304.jpg.global.m_16x9.jpg\" alt=\"Team members at work in a conference room\" aria-describedby=\"bx--image-2\"/></picture><div id=\"bx--image-2\" class=\"bx--image__longdescription\">Team members at work in a conference room</div></div></div><div class=\"bx--custom-content-item-col-content\"><h3>Reimagine everything</h3><p>Your business has the potential to thrive in a digital world. Letâ\\x80\\x99s make it happen.</p><div class=\"bx--link-list\" data-autoid=\"dds--link-list\"><ul class=\"bx--link-list__list bx--link-list__list--vertical\"><li class=\"bx--link-list__list__CTA bx--link-list__list--local\"><div><div class=\"bx--link-with-icon__container\" data-autoid=\"dds--link-with-icon\"><a class=\"bx--link bx--link-with-icon bx--link-with-icon--inline-icon bx--link--lg\" href=\"https://web.archive.org/web/20230224123642/https://www.ibm.com/consulting/strategy/?lnk=flathl\"><span>Create your new strategy</span><svg focusable=\"false\" preserveaspectratio=\"xMidYMid meet\" xmlns=\"http://www.w3.org/2000/svg\" fill=\"currentColor\" width=\"20\" height=\"20\" viewbox=\"0 0 20 20\" aria-hidden=\"true\"><path d=\"M11.8 2.8L10.8 3.8 16.2 9.3 1 9.3 1 10.7 16.2 10.7 10.8 16.2 11.8 17.2 19 10z\"></path></svg></a></div></div></li></ul></div></div></div></div></dds-tab><dds-tab label=\"Experience\"><div class=\"bx--custom-content-item bx--grid bx--no-gutter\"><div class=\"bx--row\"><div class=\"bx--custom-content-item-col-image\"><div class=\"bx--image\" data-autoid=\"dds--image__longdescription\"><picture><img class=\"bx--image__img\" src=\"https://web.archive.org/web/20230224123642im_/https://1.dam.s81c.com/p/08f951353c2707b8/052022_CaitOppermann_InsideIBM_London_2945_03.jpg.global.sr_16x9.jpg\" alt=\"Coworkers looking at laptops\" aria-describedby=\"bx--image-3\"/></picture><div id=\"bx--image-3\" class=\"bx--image__longdescription\">Coworkers looking at laptops</div></div></div><div class=\"bx--custom-content-item-col-content\"><h3>Transformation is a journey</h3><p>A human-centered approach helps IBM Consulting clients transform user experiences</p><div class=\"bx--link-list\" data-autoid=\"dds--link-list\"><ul class=\"bx--link-list__list bx--link-list__list--vertical\"><li class=\"bx--link-list__list__CTA bx--link-list__list--local\"><div><div class=\"bx--link-with-icon__container\" data-autoid=\"dds--link-with-icon\"><a class=\"bx--link bx--link-with-icon bx--link-with-icon--inline-icon bx--link--lg\" href=\"https://web.archive.org/web/20230224123642/https://www.ibm.com/consulting/ibmix?lnk=flathl\"><span>Take the first step</span><svg focusable=\"false\" preserveaspectratio=\"xMidYMid meet\" xmlns=\"http://www.w3.org/2000/svg\" fill=\"currentColor\" width=\"20\" height=\"20\" viewbox=\"0 0 20 20\" aria-hidden=\"true\"><path d=\"M11.8 2.8L10.8 3.8 16.2 9.3 1 9.3 1 10.7 16.2 10.7 10.8 16.2 11.8 17.2 19 10z\"></path></svg></a></div></div></li></ul></div></div></div></div></dds-tab><dds-tab label=\"Technology\"><div class=\"bx--custom-content-item bx--grid bx--no-gutter\"><div class=\"bx--row\"><div class=\"bx--custom-content-item-col-image\"><div class=\"bx--image\" data-autoid=\"dds--image__longdescription\"><picture><img class=\"bx--image__img\" src=\"https://web.archive.org/web/20230224123642im_/https://1.dam.s81c.com/p/064e0139f5a3aa5e/0500002_Lowell_LI_100119.jpg.global.sr_16x9.jpg\" alt=\"Cloud developer with red sweater coding at desk\" aria-describedby=\"bx--image-4\"/></picture><div id=\"bx--image-4\" class=\"bx--image__longdescription\">Cloud developer with red sweater coding at desk</div></div></div><div class=\"bx--custom-content-item-col-content\"><h3>An open future for technology</h3><p>Unite and align your strategy and process to meaningful automation, AI insights and outcomes</p><div class=\"bx--link-list\" data-autoid=\"dds--link-list\"><ul class=\"bx--link-list__list bx--link-list__list--vertical\"><li class=\"bx--link-list__list__CTA bx--link-list__list--local\"><div><div class=\"bx--link-with-icon__container\" data-autoid=\"dds--link-with-icon\"><a class=\"bx--link bx--link-with-icon bx--link-with-icon--inline-icon bx--link--lg\" href=\"https://web.archive.org/web/20230224123642/https://www.ibm.com/consulting/technology/\"><span>Modernize with impact</span><svg focusable=\"false\" preserveaspectratio=\"xMidYMid meet\" xmlns=\"http://www.w3.org/2000/svg\" fill=\"currentColor\" width=\"20\" height=\"20\" viewbox=\"0 0 20 20\" aria-hidden=\"true\"><path d=\"M11.8 2.8L10.8 3.8 16.2 9.3 1 9.3 1 10.7 16.2 10.7 10.8 16.2 11.8 17.2 19 10z\"></path></svg></a></div></div></li></ul></div></div></div></div></dds-tab><dds-tab label=\"Operations\"><div class=\"bx--custom-content-item bx--grid bx--no-gutter\"><div class=\"bx--row\"><div class=\"bx--custom-content-item-col-image\"><div class=\"bx--image\" data-autoid=\"dds--image__longdescription\"><picture><img class=\"bx--image__img\" src=\"https://web.archive.org/web/20230224123642im_/https://1.dam.s81c.com/p/0795cae91a25156f/conveyorrobottopview.jpg.global.sr_16x9.jpg\" alt=\"Aerial view of automated conveyer belt and machinery at work\" aria-describedby=\"bx--image-5\"/></picture><div id=\"bx--image-5\" class=\"bx--image__longdescription\">Aerial view of automated conveyer belt and machinery at work</div></div></div><div class=\"bx--custom-content-item-col-content\"><h3>Operate with experience</h3><p>Flexibly orchestrate your people, process, data and technology to deliver outcomes efficiently</p><div class=\"bx--link-list\" data-autoid=\"dds--link-list\"><ul class=\"bx--link-list__list bx--link-list__list--vertical\"><li class=\"bx--link-list__list__CTA bx--link-list__list--local\"><div><div class=\"bx--link-with-icon__container\" data-autoid=\"dds--link-with-icon\"><a class=\"bx--link bx--link-with-icon bx--link-with-icon--inline-icon bx--link--lg\" href=\"https://web.archive.org/web/20230224123642/https://www.ibm.com/consulting/operations/?lnk=flathl\"><span>Turn ideas into action</span><svg focusable=\"false\" preserveaspectratio=\"xMidYMid meet\" xmlns=\"http://www.w3.org/2000/svg\" fill=\"currentColor\" width=\"20\" height=\"20\" viewbox=\"0 0 20 20\" aria-hidden=\"true\"><path d=\"M11.8 2.8L10.8 3.8 16.2 9.3 1 9.3 1 10.7 16.2 10.7 10.8 16.2 11.8 17.2 19 10z\"></path></svg></a></div></div></li></ul></div></div></div></div></dds-tab><dds-tab label=\"Partners\"><div class=\"bx--custom-content-item bx--grid bx--no-gutter\"><div class=\"bx--row\"><div class=\"bx--custom-content-item-col-image\"><div class=\"bx--image\" data-autoid=\"dds--image__longdescription\"><picture><img class=\"bx--image__img\" src=\"https://web.archive.org/web/20230224123642im_/https://1.dam.s81c.com/p/06dfa9ccdba4ec79/1f417900-9042-44d1-9c219a854bbb62ea.jpg.global.sr_16x9.jpg\" alt=\"Overhead view of partners collaborating on design with laptops and coffee\" aria-describedby=\"bx--image-6\"/></picture><div id=\"bx--image-6\" class=\"bx--image__longdescription\">Overhead view of partners collaborating on design with laptops and coffee</div></div></div><div class=\"bx--custom-content-item-col-content\"><h3>Business relationships that count</h3><p>Partner with platform and infrastructure leaders to build cost-effective, open ecosystems</p><div class=\"bx--link-list\" data-autoid=\"dds--link-list\"><ul class=\"bx--link-list__list bx--link-list__list--vertical\"><li class=\"bx--link-list__list__CTA bx--link-list__list--local\"><div><div class=\"bx--link-with-icon__container\" data-autoid=\"dds--link-with-icon\"><a class=\"bx--link bx--link-with-icon bx--link-with-icon--inline-icon bx--link--lg\" href=\"https://web.archive.org/web/20230224123642/https://www.ibm.com/strategic-partnerships\"><span>Unlock new opportunities</span><svg focusable=\"false\" preserveaspectratio=\"xMidYMid meet\" xmlns=\"http://www.w3.org/2000/svg\" fill=\"currentColor\" width=\"20\" height=\"20\" viewbox=\"0 0 20 20\" aria-hidden=\"true\"><path d=\"M11.8 2.8L10.8 3.8 16.2 9.3 1 9.3 1 10.7 16.2 10.7 10.8 16.2 11.8 17.2 19 10z\"></path></svg></a></div></div></li></ul></div></div></div></div></dds-tab></dds-tabs-extended></div><div class=\"bx--custom-featured-story ibm--fade\"><div class=\"bx--custom-featured-story-heading\"><h2 class=\"bx--type-productive-heading-07\">Whatâ\\x80\\x99s new</h2></div><dds-feature-section class=\"bx--custom-featured-story-section\" media-alignment=\"right\"><dds-image slot=\"image\" default-src=\"https://1.dam.s81c.com/p/0a9d035b4eaa2eea/MVH_official_portrait.jpg.global.l_1x1.jpg\" alt=\"Astronaut in a space suit posing with his helmet off\"><dds-image-item media=\"(min-width: 1312px)\" srcset=\"https://1.dam.s81c.com/p/0a9d035b4eaa2eea/MVH_official_portrait.jpg.global.l_1x1.jpg\"></dds-image-item><dds-image-item media=\"(min-width: 672px)\" srcset=\"https://1.dam.s81c.com/p/0a9d035b4eaa2eea/MVH_official_portrait.jpg.global.sr_4x3.jpg\"></dds-image-item><dds-image-item media=\"(min-width: 320px)\" srcset=\"https://1.dam.s81c.com/p/0a9d035b4eaa2eea/MVH_official_portrait.jpg.global.m_1x1.jpg\"></dds-image-item><dds-image-item media=\"(min-width: 320px)\" srcset=\"https://1.dam.s81c.com/p/0a9d035b4eaa2eea/MVH_official_portrait.jpg.global.s_1x1.jpg\"></dds-image-item></dds-image><dds-content-block-heading>A year in space</dds-content-block-heading><dds-content-item-paragraph slot=\"copy\">Astronaut Mark Vande Hei joins host Malcolm Gladwell to discuss his 355-day mission and what he learned about science and self-discovery</dds-content-item-paragraph><dds-feature-section-card-link class=\"bx--custom-featured-story-section-card-link\" slot=\"footer\" href=\"https://www.ibm.com/thought-leadership/smart/talks/\" cta-type=\"local\" color-scheme=\"inverse\"><dds-card-link-heading>Listen to the Smart Talks podcast</dds-card-link-heading><dds-card-cta-footer color-scheme=\"inverse\"> </dds-card-cta-footer></dds-feature-section-card-link></dds-feature-section></div><a name=\"Technology\" id=\"ibm-hp--tech-section\" data-title=\"Technology\"></a><div class=\"ibm--fade\"><div class=\"bx--custom-widget-band-header\"><h2 class=\"bx--type-productive-heading-07\">Explore our technology</h2></div><div class=\"bx--widget-container\" id=\"product-explorer-main-offering\" data-widget=\"product-explorer-main-offering\" data-localecode=\"en-us\" data-full-width=\"true\"></div></div><a name=\"inside-ibm\" data-title=\"Inside IBM\"></a><div class=\"bx--custom-cards-carousel-wrapper ibm--fade\"><div class=\"bx--custom-cards-carousel-heading\"><h2 class=\"bx--type-productive-heading-07\">Inside IBM</h2></div><div class=\"bx--grid bx--grid--narrow bx--no-gutter\"><div class=\"bx--row\"><div class=\"bx--col bx--no-gutter\"><div class=\"bx--custom-cards-carousel\"><div data-autoid=\"dds--card-group\" class=\"bx--card-group__cards__row bx--row--condensed\" style=\"--dds--card-group--cards-in-row:3\"><div class=\"bx--card-group__cards__col\"><div class=\"bx--card-group__card\"><div class=\"bx--tile bx--card bx--card-link bx--card__CTA bx--card__CardCTA\" data-autoid=\"dds--card\" href=\"https://www.ibm.com/employment/?lnk=flatitem\"><div class=\"bx--card__wrapper\"><div class=\"bx--card__content\"><h3 class=\"bx--card__heading\">Careers at IBM</h3><div class=\"bx--card__copy\"><p>From a safer food supply to ethical AI, your skills can help tackle the worldâ\\x80\\x99s toughest problems</p> </div><a class=\"bx--link bx--card__footer\" href=\"https://web.archive.org/web/20230224123642/https://www.ibm.com/employment/?lnk=flatitem\" aria-label=\"Careers at IBM\"><svg focusable=\"false\" preserveaspectratio=\"xMidYMid meet\" xmlns=\"http://www.w3.org/2000/svg\" fill=\"currentColor\" src=\"[object Object]\" width=\"20\" height=\"20\" viewbox=\"0 0 20 20\" aria-hidden=\"true\" class=\"bx--card__cta\"><path d=\"M11.8 2.8L10.8 3.8 16.2 9.3 1 9.3 1 10.7 16.2 10.7 10.8 16.2 11.8 17.2 19 10z\"></path></svg></a></div></div></div></div></div><div class=\"bx--card-group__cards__col\"><div class=\"bx--card-group__card\"><div class=\"bx--tile bx--card bx--card-link bx--card__CTA bx--card__CardCTA\" data-autoid=\"dds--card\" href=\"https://www.ibm.com/impact\"><div class=\"bx--card__wrapper\"><div class=\"bx--card__content\"><h3 class=\"bx--card__heading\">Corporate social responsibility</h3><div class=\"bx--card__copy\"><p>IBM aspires to make a positive impact on the world, and the places where we work and live</p> </div><a class=\"bx--link bx--card__footer\" href=\"https://web.archive.org/web/20230224123642/https://www.ibm.com/impact\" aria-label=\"Corporate social responsibility\"><svg focusable=\"false\" preserveaspectratio=\"xMidYMid meet\" xmlns=\"http://www.w3.org/2000/svg\" fill=\"currentColor\" src=\"[object Object]\" width=\"20\" height=\"20\" viewbox=\"0 0 20 20\" aria-hidden=\"true\" class=\"bx--card__cta\"><path d=\"M11.8 2.8L10.8 3.8 16.2 9.3 1 9.3 1 10.7 16.2 10.7 10.8 16.2 11.8 17.2 19 10z\"></path></svg></a></div></div></div></div></div><div class=\"bx--card-group__cards__col\"><div class=\"bx--card-group__card\"><div class=\"bx--tile bx--card bx--card-link bx--card__CTA bx--card__CardCTA\" data-autoid=\"dds--card\" href=\"https://research.ibm.com/\"><div class=\"bx--card__wrapper\"><div class=\"bx--card__content\"><h3 class=\"bx--card__heading\">IBM Research</h3><div class=\"bx--card__copy\"><p>Around the globe, 3,000 IBM scientists and design thinkers are inventing whatâ\\x80\\x99s next in computing</p> </div><a class=\"bx--link bx--card__footer\" href=\"https://web.archive.org/web/20230224123642/https://research.ibm.com/\" aria-label=\"IBM Research\"><svg focusable=\"false\" preserveaspectratio=\"xMidYMid meet\" xmlns=\"http://www.w3.org/2000/svg\" fill=\"currentColor\" src=\"[object Object]\" width=\"20\" height=\"20\" viewbox=\"0 0 20 20\" aria-hidden=\"true\" class=\"bx--card__cta\"><path d=\"M11.8 2.8L10.8 3.8 16.2 9.3 1 9.3 1 10.7 16.2 10.7 10.8 16.2 11.8 17.2 19 10z\"></path></svg></a></div></div></div></div></div></div></div></div></div></div></div><div class=\"bx--custom-featured-story ibm--fade\"><div class=\"bx--custom-featured-story-heading\"><h2 class=\"bx--type-productive-heading-07\">Powering the future</h2></div><dds-feature-section class=\"bx--custom-featured-story-section\" media-alignment=\"right\"><dds-image slot=\"image\" default-src=\"https://1.dam.s81c.com/p/0a23e414312bcb7e/2019_ConnieZhou_BigBets_15.jpg.global.xl_1x1.jpg\" alt=\"IBM quantum computer\"><dds-image-item media=\"(min-width: 1312px)\" srcset=\"https://1.dam.s81c.com/p/0a23e414312bcb7e/2019_ConnieZhou_BigBets_15.jpg.global.xl_1x1.jpg\"></dds-image-item><dds-image-item media=\"(min-width: 672px)\" srcset=\"https://1.dam.s81c.com/p/0a23e414312bcb7e/2019_ConnieZhou_BigBets_15.jpg.global.l_4x3.jpg\"></dds-image-item><dds-image-item media=\"(min-width: 320px)\" srcset=\"https://1.dam.s81c.com/p/0a23e414312bcb7e/2019_ConnieZhou_BigBets_15.jpg.global.m_1x1.jpg\"></dds-image-item><dds-image-item media=\"(min-width: 320px)\" srcset=\"https://1.dam.s81c.com/p/0a23e414312bcb7e/2019_ConnieZhou_BigBets_15.jpg.global.s_1x1.jpg\"></dds-image-item></dds-image><dds-content-block-heading>Security in the era of quantum</dds-content-block-heading><dds-content-item-paragraph slot=\"copy\">Through encryption, quantum computing will profoundly alter how we secure our digital economy</dds-content-item-paragraph><dds-feature-section-card-link class=\"bx--custom-featured-story-section-card-link\" slot=\"footer\" href=\"https://www.ibm.com/thought-leadership/institute-business-value/en-us/report/quantum-safe-encryption\" cta-type=\"local\" color-scheme=\"inverse\"><dds-card-link-heading>Read the Expert Insights report</dds-card-link-heading><dds-card-cta-footer color-scheme=\"inverse\"> </dds-card-cta-footer></dds-feature-section-card-link></dds-feature-section></div></div></div></div></section></div></div></div><footer data-autoid=\"dds--footer\" class=\"bx--footer\"><section class=\"bx--footer__main\"><div class=\"bx--footer__main-container\"><div class=\"bx--footer__logo-container\"><div class=\"bx--footer__logo-row\"><div data-autoid=\"dds--footer-logo\" class=\"bx--footer-logo\"><a data-autoid=\"dds--footer-logo__link\" class=\"bx--footer-logo__link\" href=\"https://web.archive.org/web/20230224123642/https://www.ibm.com/\"><svg width=\"157\" height=\"65\" class=\"bx--footer-logo__logo\" viewbox=\"0 0 157 65\" xmlns=\"http://www.w3.org/2000/svg\"><title>IBM Logo</title><path d=\"M30.444 60.208v4.03H0v-4.03h30.444zm78.291-.001v4.03H86.983v-4.03h21.752zm47.858 0v4.03H134.84v-4.03h21.753zm-33.416 0l-1.398 4.03-1.38-4.03h2.778zm-88.384 0h42.775c-2.797 2.426-6.39 3.925-10.327 4.025l-.423.006H34.793v-4.03h42.775zm-4.35-8.46v4.03H0v-4.03h30.444zm52.402 0c-.332 1.248-.8 2.44-1.389 3.555l-.259.474H34.793v-4.029h48.052zm73.748-.005v4.031H134.84v-4.03h21.753zm-47.858 0v4.031H86.983v-4.03h21.752zm17.375 0l-1.398 4.031h-5.85l-1.395-4.03h8.643zM21.745 43.285v4.03H8.698v-4.03h13.047zm61.195 0a17.32 17.32 0 0 1 .476 3.51l.008.52H68.796v-4.03H82.94zm-26.401 0v4.03H43.491v-4.03H56.54zm72.502-.007l-1.396 4.03H115.93l-1.397-4.03h14.507zm18.85 0v4.03h-13.05v-4.03h13.05zm-39.156 0v4.03H95.684v-4.03h13.051zm-86.99-8.454v4.03H8.698v-4.03h13.047zm56.117 0a16.945 16.945 0 0 1 2.926 3.582l.264.447h-37.56v-4.03h34.37zm30.873-.01v4.03H95.684v-4.03h13.051zm39.157 0v4.03H134.84v-4.03h13.052zm-15.919 0l-1.396 4.03h-17.579l-1.396-4.03h20.371zm-50.778-8.452a16.963 16.963 0 0 1-2.82 3.674l-.37.355H43.49v-4.029h37.704zm-59.45 0v4.03H8.698v-4.03h13.047zm126.147-.013v4.031H134.84v-3.839l-1.33 3.839h-11.456l1.373-4.03h24.465zm-27.743 0l1.372 4.031h-11.456l-1.33-3.839v3.84H95.684v-4.032h24.465zm-98.404-8.448v4.03H8.698V17.9h13.047zm61.68 0c0 1.215-.134 2.399-.375 3.542l-.11.487H68.796V17.9h14.628zM56.538 17.9v4.03H43.491V17.9H56.54zm91.352-.015v4.03h-22.954l1.37-4.03h21.584zm-30.624 0l1.372 4.03H95.684v-4.03h21.583zM30.444 9.437v4.03H0v-4.03h30.444zm50.753 0a17.048 17.048 0 0 1 1.498 3.499l.15.531H34.794v-4.03h46.403zm75.396-.018v4.03h-28.776l1.373-4.03h27.403zm-42.207 0l1.372 4.031H86.982V9.42h27.404zM30.444.978v4.03H0V.977h30.444zm36.374 0c3.96 0 7.594 1.415 10.448 3.772l.303.257H34.794V.977h32.024zm89.775-.022v4.031h-25.894l1.372-4.03h24.522zm-45.098 0l1.372 4.03H86.982V.955h24.513z\"></path></svg></a></div><div class=\"bx--locale-btn__container\"><button data-autoid=\"dds--locale-btn\" aria-label=\"\" tabindex=\"0\" class=\"bx--locale-btn bx--btn bx--btn--tertiary\" type=\"button\"><svg focusable=\"false\" preserveaspectratio=\"xMidYMid meet\" xmlns=\"http://www.w3.org/2000/svg\" fill=\"currentColor\" aria-label=\"Earth Filled Icon\" aria-hidden=\"true\" width=\"20\" height=\"20\" viewbox=\"0 0 32 32\" role=\"img\" class=\"bx--btn__icon\"><path d=\"M16,2A14,14,0,1,0,30,16,14.0158,14.0158,0,0,0,16,2ZM4.02,16.394l1.3384.4458L7,19.3027v1.2831a1,1,0,0,0,.2929.7071L10,24v2.3765A11.9941,11.9941,0,0,1,4.02,16.394ZM16,28a11.9682,11.9682,0,0,1-2.5718-.2847L14,26l1.8046-4.5116a1,1,0,0,0-.0964-.9261l-1.4113-2.117A1,1,0,0,0,13.4648,18h-4.93L7.2866,16.1274,9.4141,14H11v2h2V13.2656l3.8682-6.7695-1.7364-.9922L14.2769,7H11.5352l-1.086-1.6289A11.861,11.861,0,0,1,20,4.7V8a1,1,0,0,0,1,1h1.4648a1,1,0,0,0,.8321-.4453l.8769-1.3154A12.0331,12.0331,0,0,1,26.8945,11H22.82a1,1,0,0,0-.9806.8039l-.7221,4.4708a1,1,0,0,0,.54,1.0539L25,19l.6851,4.0557A11.9793,11.9793,0,0,1,16,28Z\"></path></svg></button><div data-autoid=\"dds--locale-modal\" role=\"presentation\" aria-hidden=\"true\" class=\"bx--modal bx--locale-modal-container\"><div class=\"bx--modal-container\" role=\"dialog\" aria-modal=\"true\" aria-label=\",[object Object]\"><button type=\"button\" class=\"bx--visually-hidden\">Focus sentinel</button><div class=\"bx--modal-container-body\"><div class=\"bx--modal-header\"><h2 class=\"bx--modal-header__label bx--type-delta\"><svg focusable=\"false\" preserveaspectratio=\"xMidYMid meet\" xmlns=\"http://www.w3.org/2000/svg\" fill=\"currentColor\" width=\"16\" height=\"16\" viewbox=\"0 0 32 32\" aria-hidden=\"true\" class=\"bx--locale-modal__label-globe\"><path d=\"M16,2A14,14,0,1,0,30,16,14.0158,14.0158,0,0,0,16,2ZM4.02,16.394l1.3384.4458L7,19.3027v1.2831a1,1,0,0,0,.2929.7071L10,24v2.3765A11.9941,11.9941,0,0,1,4.02,16.394ZM16,28a11.9682,11.9682,0,0,1-2.5718-.2847L14,26l1.8046-4.5116a1,1,0,0,0-.0964-.9261l-1.4113-2.117A1,1,0,0,0,13.4648,18h-4.93L7.2866,16.1274,9.4141,14H11v2h2V13.2656l3.8682-6.7695-1.7364-.9922L14.2769,7H11.5352l-1.086-1.6289A11.861,11.861,0,0,1,20,4.7V8a1,1,0,0,0,1,1h1.4648a1,1,0,0,0,.8321-.4453l.8769-1.3154A12.0331,12.0331,0,0,1,26.8945,11H22.82a1,1,0,0,0-.9806.8039l-.7221,4.4708a1,1,0,0,0,.54,1.0539L25,19l.6851,4.0557A11.9793,11.9793,0,0,1,16,28Z\"></path></svg></h2><button class=\"bx--modal-close\" title=\"Close\" aria-label=\"Close\" type=\"button\"><svg focusable=\"false\" preserveaspectratio=\"xMidYMid meet\" xmlns=\"http://www.w3.org/2000/svg\" fill=\"currentColor\" width=\"20\" height=\"20\" viewbox=\"0 0 32 32\" aria-hidden=\"true\" class=\"bx--modal-close__icon\"><path d=\"M24 9.4L22.6 8 16 14.6 9.4 8 8 9.4 14.6 16 8 22.6 9.4 24 16 17.4 22.6 24 24 22.6 17.4 16 24 9.4z\"></path></svg></button></div><div class=\"bx--modal-content bx--locale-modal \"><div class=\"bx--grid bx--no-gutter bx--locale-modal__regions\"><div class=\"bx--row\"></div></div><div class=\"bx--locale-modal__filter\"><div class=\"bx--locale-modal__search\"><div role=\"search\" aria-labelledby=\"bx--locale-modal__filter-search\" class=\"bx--search bx--search--xl\"><div class=\"bx--search-magnifier\"><svg focusable=\"false\" preserveaspectratio=\"xMidYMid meet\" xmlns=\"http://www.w3.org/2000/svg\" fill=\"currentColor\" width=\"16\" height=\"16\" viewbox=\"0 0 16 16\" aria-hidden=\"true\" class=\"bx--search-magnifier-icon\"><path d=\"M15,14.3L10.7,10c1.9-2.3,1.6-5.8-0.7-7.7S4.2,0.7,2.3,3S0.7,8.8,3,10.7c2,1.7,5,1.7,7,0l4.3,4.3L15,14.3z M2,6.5\\tC2,4,4,2,6.5,2S11,4,11,6.5S9,11,6.5,11S2,9,2,6.5z\"></path></svg></div><label id=\"bx--locale-modal__filter-search\" for=\"bx--locale-modal__filter\" class=\"bx--label\">Search by location or language</label><input type=\"text\" role=\"searchbox\" autocomplete=\"off\" data-autoid=\"dds--locale-modal__filter\" tabindex=\"0\" class=\"bx--search-input\" id=\"bx--locale-modal__filter\" placeholder=\"\"/><button class=\"bx--search-close bx--search-close--hidden\" type=\"button\" aria-label=\"Clear search input\"><svg focusable=\"false\" preserveaspectratio=\"xMidYMid meet\" xmlns=\"http://www.w3.org/2000/svg\" fill=\"currentColor\" width=\"16\" height=\"16\" viewbox=\"0 0 32 32\" aria-hidden=\"true\"><path d=\"M24 9.4L22.6 8 16 14.6 9.4 8 8 9.4 14.6 16 8 22.6 9.4 24 16 17.4 22.6 24 24 22.6 17.4 16 24 9.4z\"></path></svg></button></div><p class=\"bx--locale-modal__search-text\"></p></div><ul class=\"bx--locale-modal__list\"><p class=\"bx--assistive-text\" role=\"status\" aria-live=\"assertive\"></p></ul></div></div></div><button type=\"button\" class=\"bx--visually-hidden\">Focus sentinel</button></div></div></div></div></div></div></section></footer></main><script src=\"https://web.archive.org/web/20230224123642js_/https://cdn.jsdelivr.net/npm/react@17/umd/react.production.min.js\"></script><script src=\"https://web.archive.org/web/20230224123642js_/https://cdn.jsdelivr.net/npm/react-dom@17/umd/react-dom.production.min.js\"></script><script src=\"https://web.archive.org/web/20230224123642js_/https://cdn.jsdelivr.net/npm/react-intl@5/dist/react-intl.min.js\"></script></div></div><script src=\"//web.archive.org/web/20230224123642js_/https://1.www.s81c.com/common/stats/ibm-common.js\" defer=\"\"></script><link href=\"//web.archive.org/web/20230224123642cs_/https://1.www.s81c.com/common/v18/css/forms.css\" rel=\"stylesheet\"/></div><script id=\"__NEXT_DATA__\" type=\"application/json\">{\"props\":{\"pageProps\":{\"data\":{\"_id\":\"7ec18a83cb1c595406965cba92f231c4\",\"_rev\":\"12390-664dacec7a75f48b5aaa3ac2b7c86663\",\"type\":\"production\",\"sections\":{\"leadspace\":{\"data\":{\"content\":[{\"blocklink\":true,\"largeCol\":\"bx--col-lg-6\",\"imagePos\":\"top right\",\"bgColor\":\"#000000\",\"ctaType\":\"links\",\"ctaColor\":\"gray-90\",\"webm\":\"\",\"gif\":\"\",\"videoImage\":\"\",\"ibmEvLinkTitle\":\"\",\"ibmEvGroup\":\"\",\"ibmEvName\":\"\",\"ibmEvSection\":\"L1\",\"ibmEvTarget\":\"\",\"lsPaddingTop\":\"ibm-pt-5\",\"lsPaddingBottom\":\"ibm-pb-5\",\"ctaOneVideoID\":\"\",\"ctaOneIcon\":\"forward\",\"videoID\":\"\",\"mp4\":\"\",\"type\":\"carbon\",\"ctaTwoVideoID\":\"\",\"ctaTwoIcon\":\"forward\",\"videoType\":\"kaltura\",\"alternate\":true,\"titleType\":\"bx--type-expressive-heading-05\",\"title\":\"The best of IBM 2022\\\\n\",\"copy\":\"From quantum breakthroughs to drug discovery, these 11 stories point to a brighter, more sustainable future\\\\n\",\"timestamp\":1671460488507,\"ctaOne\":\"See the year in review\",\"ctaOneLink\":\"https://web.archive.org/web/20230224123642/https://www.ibm.com/thought-leadership/best-of/2022/?lnk=ushpv18l1\",\"airtableID\":\"27195\",\"imageMobile\":\"https://web.archive.org/web/20230224123642/https://1.dam.s81c.com/p/0a23e3c651299e47/20221216-best-of-2022-mobile-720x360.jpg\",\"image\":\"https://web.archive.org/web/20230224123642/https://1.dam.s81c.com/p/0a23e3c651299e48/20221216-best-of-2022-2304x983.jpg\",\"videoPosition\":\"video-center\",\"imageAlt\":\"Collage of semiconductor, 6 new creators, mayflower ship, man in a cleanroom, woman writing on a whiteboard, 2 men moving a mainframe \"}]}},\"newsflash\":{\"data\":{\"content\":[{\"active\":false,\"videoID\":\"\",\"bgColor\":\"#001d6c\",\"videoType\":\"kaltura\",\"ibmEvSection\":\"NF1\",\"airtableID\":\"\",\"sandbox\":false,\"title\":\"\\\\u003cstrong\\\\u003eSurvey\\\\u003c/strong\\\\u003e: Many perceive technical training and certification as out of reach. IBM SkillsBuild can you help you learn for free, worldwide\\\\u0026nbsp;\\\\u0026#8594;\",\"stage\":false,\"timestamp\":1676563315130,\"videoTitle\":\"\",\"videoDesc\":\"\",\"link\":\"https://web.archive.org/web/20230224123642/https://newsroom.ibm.com/2023-02-14-New-IBM-Survey-Reveals-the-Greatest-Perceived-Barrier-to-Professional-or-Technical-Skill-Development-is-that-the-Programs-are-Too-Expensive?lnk=ushpv18nf1\"},{\"active\":false,\"videoID\":\"\",\"bgColor\":\"#001d6c\",\"videoType\":\"kaltura\",\"ibmEvSection\":\"NF2\",\"airtableID\":\"\",\"sandbox\":false,\"title\":\"\\\\u003cstrong\\\\u003eNew\\\\u003c/strong\\\\u003e: \\\\u0026nbsp;\\\\u0026#8594;\",\"stage\":false,\"timestamp\":1676316899591},{\"active\":false,\"videoID\":\"\",\"bgColor\":\"#001d6c\",\"videoType\":\"kaltura\",\"ibmEvSection\":\"NF3\",\"airtableID\":\"\",\"sandbox\":false,\"title\":\"\\\\u003cstrong\\\\u003eNew\\\\u003c/strong\\\\u003e: \\\\u0026nbsp;\\\\u0026#8594;\",\"stage\":false,\"timestamp\":1670900212031,\"videoTitle\":\"\",\"videoDesc\":\"\",\"link\":\"\"},{\"active\":false,\"videoID\":\"\",\"bgColor\":\"#001d6c\",\"videoType\":\"kaltura\",\"ibmEvSection\":\"NF4\",\"airtableID\":\"\",\"sandbox\":false,\"title\":\"\\\\u003cstrong\\\\u003eNew\\\\u003c/strong\\\\u003e: \\\\u0026nbsp;\\\\u0026#8594;\",\"stage\":false,\"timestamp\":1676046144350,\"link\":\"\"},{\"active\":false,\"videoID\":\"\",\"bgColor\":\"#001d6c\",\"videoType\":\"kaltura\",\"ibmEvSection\":\"NF5\",\"airtableID\":\"\",\"sandbox\":false,\"title\":\"\\\\u003cstrong\\\\u003eNew\\\\u003c/strong\\\\u003e:  IBM and NASA collaborate on new tech using AI to extract climate change insights from existing data\\\\u0026nbsp;\\\\u0026#8594;\",\"stage\":false,\"timestamp\":1675694677989,\"link\":\"https://web.archive.org/web/20230224123642/https://research.ibm.com/blog/ibm-nasa-foundation-models?lnk=ushpv18nf5\"},{\"active\":false,\"videoID\":\"\",\"bgColor\":\"#001d6c\",\"videoType\":\"kaltura\",\"ibmEvSection\":\"NF6\",\"airtableID\":\"\",\"sandbox\":false,\"title\":\"\\\\u003cstrong\\\\u003eNew\\\\u003c/strong\\\\u003e: \\\\u0026nbsp;\\\\u0026#8594;\",\"stage\":false,\"timestamp\":1668702082528,\"videoTitle\":\"\",\"videoDesc\":\"\",\"link\":\"\"},{\"active\":false,\"videoID\":\"\",\"bgColor\":\"#001d6c\",\"videoType\":\"kaltura\",\"ibmEvSection\":\"NF7\",\"airtableID\":\"\",\"sandbox\":false,\"title\":\"\\\\u003cstrong\\\\u003eNews\\\\u003c/strong\\\\u003e: IBM acquires StepZen to help enterprises get more business value from their data and APIs\\\\u0026nbsp;\\\\u0026#8594;\",\"stage\":false,\"timestamp\":1675970682146,\"link\":\"https://web.archive.org/web/20230224123642/https://newsroom.ibm.com/IBM-Acquires-StepZen-to-Help-Enterprises-Get-More-Business-Value-from-Their-Data-and-APIs?lnk=ushpv18nf7\"},{\"active\":false,\"videoID\":\"\",\"bgColor\":\"#001d6c\",\"videoType\":\"kaltura\",\"ibmEvSection\":\"NF8\",\"airtableID\":\"\",\"sandbox\":false,\"title\":\"\\\\u003cstrong\\\\u003eNew\\\\u003c/strong\\\\u003e: \\\\u0026nbsp;\\\\u0026#8594;\",\"stage\":false,\"timestamp\":1667576613575}]}},\"mastheadbtn\":{\"data\":{\"content\":[{\"stage\":false,\"tool\":false,\"title\":\"Stay safe, y\\\\u0026#8217;all.\",\"link\":\"https://web.archive.org/web/20230224123642/https://www.ibm.com/impact/covid-19/?lnk=ushpv18mb\",\"active\":false,\"timestamp\":1591040701251}]}},\"featured\":{\"data\":{\"content\":[{\"videoImage\":\"\",\"videoType\":\"kaltura\",\"ibmEvLinkTitle\":\"\",\"ibmEvGroup\":\"\",\"ibmEvName\":\"\",\"ibmEvSection\":\"F1\",\"ibmEvTarget\":\"\",\"damVideoMP4\":\"\",\"damVideoWebM\":\"\",\"icon\":\"forward\",\"videoID\":\"\",\"title\":\"27164 IBM iX\",\"timestamp\":1670602077463,\"airtableID\":\"27164\",\"eyebrow\":\"IBM iX: design-led, data-driven\",\"copy\":\"A human-centered approach helps IBM Consulting clients transform customer and employee experiences\",\"image\":\"https://web.archive.org/web/20230224123642/https://1.dam.s81c.com/p/0868c64e393cf933/2017_12_Slowell_Inside_IBM_Cloud_developers_242.jpg.global.s_4x3.jpg\",\"imageAlt\":\"Two co-workers talking at a desk\",\"button\":\"\",\"link\":\"https://web.archive.org/web/20230224123642/https://www.ibm.com/consulting/ibmix?lnk=ushpv18f1\"},{\"videoImage\":\"\",\"videoType\":\"youtube\",\"ibmEvLinkTitle\":\"\",\"ibmEvGroup\":\"\",\"ibmEvName\":\"\",\"ibmEvSection\":\"F2\",\"ibmEvTarget\":\"\",\"damVideoMP4\":\"\",\"damVideoWebM\":\"\",\"icon\":\"forward\",\"videoID\":\"\",\"title\":\"27173 Is your business cybersafe?\",\"copy\":\"Work with senior security consultants to understand where you are and where you need to go in this free 3\\\\u0026#8209;hour workshop\",\"eyebrow\":\"Is your business cybersafe?\\\\n\",\"timestamp\":1670602025015,\"airtableID\":\"27173\",\"image\":\"https://web.archive.org/web/20230224123642/https://1.dam.s81c.com/p/08a56f9ac246227c/20220801_26754_Countdown-to-Ransomware-guide-security-intelligence-444x333.jpg\",\"link\":\"https://web.archive.org/web/20230224123642/https://www.ibm.com/security/resources/workshop?lnk=ushpv18f2\",\"imageAlt\":\"Three IBM Security employees at a conference table interacting with a man at a whiteboard\"},{\"videoImage\":\"\",\"videoType\":\"youtube\",\"ibmEvLinkTitle\":\"\",\"ibmEvGroup\":\"\",\"ibmEvName\":\"\",\"ibmEvSection\":\"F3\",\"ibmEvTarget\":\"\",\"damVideoMP4\":\"\",\"damVideoWebM\":\"\",\"icon\":\"forward\",\"videoID\":\"\",\"title\":\"27158 Food trust/FSMA\",\"timestamp\":1670605658975,\"airtableID\":\"27158\",\"copy\":\"IBM Food Trust ensures a safer food supply and simplifies compliance with the latest US FDA traceability rules\",\"image\":\"https://web.archive.org/web/20230224123642/https://1.dam.s81c.com/p/04d38222a5bc17ff/84962edd-c289-4d32-ad92a178655984d5.jpg.global.s_4x3.jpg\",\"mobileImg\":\"https://web.archive.org/web/20230224123642/https://1.dam.s81c.com/public/content/dam/worldwide-content/homepage/ul/g/9e/7c/20210823-f-swiss-re-case-study-26069.jpg\",\"eyebrow\":\"A higher standard, farm to fork\",\"link\":\"https://web.archive.org/web/20230224123642/https://www.ibm.com/products/supply-chain-intelligence-suite/food-trust?lnk=ushpv18f3\",\"imageAlt\":\"Oranges on a factory assembly line\"},{\"videoImage\":\"\",\"videoType\":\"youtube\",\"ibmEvLinkTitle\":\"\",\"ibmEvGroup\":\"\",\"ibmEvName\":\"\",\"ibmEvSection\":\"F4\",\"ibmEvTarget\":\"\",\"damVideoMP4\":\"\",\"damVideoWebM\":\"\",\"icon\":\"forward\",\"videoID\":\"\",\"title\":\"27177 Year in review newsletters\",\"image\":\"https://web.archive.org/web/20230224123642/https://1.dam.s81c.com/p/08243aa34ebb7a36/2022_05_10_SpencerLowell_WorkingWorld_IBM_Brand_Library_285.jpg.global.s_4x3.jpg\",\"copy\":\"Three year-in-review newsletters will highlight the impact of todayâ\\x80\\x99s technology on the future of business. Subscribe now.\",\"eyebrow\":\"2022â\\x80\\x99s top thought leadership\",\"timestamp\":1670853303889,\"airtableID\":\"27177\",\"link\":\"https://web.archive.org/web/20230224123642/https://www.ibm.com/subscribe/?lnk=ushpv18f4\",\"imageAlt\":\"Orion Crew Module solar panel mockup deployment test at NASA Glen Research Center in Sandusky, Ohio\"},{\"subcopy\":\"\",\"ibmEvLinkTitle\":\"\",\"ibmEvGroup\":\"\",\"ibmEvName\":\"\",\"ibmEvSection\":\"F5\",\"ibmEvTarget\":\"\",\"button_mobile\":\"t1\",\"videoID\":\"\",\"icon\":\"forward\",\"image\":\"\",\"title\":\"\",\"eyebrow\":\"\",\"copy\":\"\",\"button\":\"\",\"timestamp\":1644590702649,\"airtableID\":\"\",\"link\":\"\"},{\"subcopy\":\"\",\"ibmEvLinkTitle\":\"\",\"ibmEvGroup\":\"\",\"ibmEvName\":\"\",\"ibmEvSection\":\"F6\",\"ibmEvTarget\":\"\",\"button_mobile\":\"t1\",\"videoID\":\"\",\"icon\":\"forward\",\"image\":\"https://web.archive.org/web/20230224123642/https://1.dam.s81c.com/public/content/dam/worldwide-content/homepage/ul/g/7b/7b/20220117-cloud-simplicity-26358-2304x983.png\",\"title\":\"\",\"eyebrow\":\"A unified cloud experience\",\"copy\":\"Build, deploy and scale faster across any environment with consistency and security\",\"button\":\"Simplify your multicloud\",\"timestamp\":1643665707293,\"airtableID\":\"\",\"link\":\"https://web.archive.org/web/20230224123642/https://www.ibm.com/cloud/campaign/cloud-simplicity?lnk=ushpv18f6\"},{\"videoImage\":\"\",\"videoType\":\"youtube\",\"ibmEvLinkTitle\":\"\",\"ibmEvGroup\":\"\",\"ibmEvName\":\"\",\"ibmEvSection\":\"F7\",\"ibmEvTarget\":\"\",\"damVideoMP4\":\"\",\"damVideoWebM\":\"\",\"icon\":\"forward\",\"videoID\":\"\",\"title\":\"\",\"link\":\"https://web.archive.org/web/20230224123642/https://www.ibm.com/consulting/?lnk=ushpv18f7\",\"image\":\"https://web.archive.org/web/20230224123642/https://1.dam.s81c.com/public/content/dam/worldwide-content/homepage/ul/g/ae/b2/20211103-f-ibm-consulting-26242.gif\",\"eyebrow\":\"Move fast and far with IBM Consulting\",\"copy\":\"Together, we can turn ideas into action better than we ever could alone\",\"button\":\"Navigate the new rules of modern business with a partner you\\\\u0026nbsp;trust\",\"timestamp\":1643665749045,\"airtableID\":\"\"},{\"videoID\":\"\",\"videoImage\":\"\",\"videoType\":\"youtube\",\"ibmEvLinkTitle\":\"\",\"ibmEvGroup\":\"\",\"ibmEvName\":\"\",\"ibmEvSection\":\"F8\",\"ibmEvTarget\":\"\",\"damVideoMP4\":\"\",\"damVideoWebM\":\"\",\"icon\":\"forward\",\"timestamp\":1643665604671,\"title\":\"\",\"eyebrow\":\"\",\"button\":\"\",\"copy\":\"\",\"image\":\"\",\"link\":\"\",\"airtableID\":\"\"},{\"videoImage\":\"\",\"videoType\":\"kaltura\",\"ibmEvLinkTitle\":\"\",\"ibmEvGroup\":\"\",\"ibmEvName\":\"\",\"ibmEvSection\":\"F9\",\"ibmEvTarget\":\"\",\"damVideoMP4\":\"\",\"damVideoWebM\":\"\",\"icon\":\"forward\",\"videoID\":\"\",\"title\":\"\",\"image\":\"\",\"link\":\"\",\"button\":\"\",\"eyebrow\":\"\",\"copy\":\"\",\"timestamp\":1643665619583,\"airtableID\":\"\"},{\"subcopy\":\"\",\"ibmEvLinkTitle\":\"\",\"ibmEvGroup\":\"\",\"ibmEvName\":\"\",\"ibmEvSection\":\"F10\",\"ibmEvTarget\":\"\",\"button_mobile\":\"t1\",\"videoID\":\"\",\"icon\":\"forward\",\"image\":\"\",\"title\":\"\",\"eyebrow\":\"\",\"copy\":\"\",\"button\":\"\",\"link\":\"\",\"timestamp\":1643665630573,\"airtableID\":\"\"},{\"subcopy\":\"\",\"ibmEvLinkTitle\":\"\",\"ibmEvGroup\":\"\",\"ibmEvName\":\"\",\"ibmEvSection\":\"F11\",\"ibmEvTarget\":\"\",\"button_mobile\":\"t1\",\"videoID\":\"\",\"icon\":\"forward\",\"image\":\"\",\"title\":\"\",\"eyebrow\":\"\",\"copy\":\"\",\"button\":\"\",\"link\":\"\",\"timestamp\":1643665641479,\"airtableID\":\"\"},{\"videoImage\":\"\",\"videoType\":\"kaltura\",\"ibmEvLinkTitle\":\"\",\"ibmEvGroup\":\"\",\"ibmEvName\":\"\",\"ibmEvSection\":\"F12\",\"ibmEvTarget\":\"\",\"damVideoMP4\":\"\",\"damVideoWebM\":\"\",\"icon\":\"forward\",\"videoID\":\"\",\"title\":\"\",\"eyebrow\":\"\",\"copy\":\"\",\"button\":\"\",\"image\":\"\",\"link\":\"\",\"timestamp\":1643665651571,\"airtableID\":\"\"}]},\"config\":{\"type\":\"quatro\",\"totalCards\":\"12\"}},\"research\":{\"data\":{\"content\":[{\"videoImage\":\"\",\"videoType\":\"youtube\",\"ibmEvLinkTitle\":\"\",\"ibmEvGroup\":\"\",\"ibmEvName\":\"\",\"ibmEvSection\":\"R1\",\"ibmEvTarget\":\"\",\"damVideoMP4\":\"\",\"damVideoWebM\":\"\",\"icon\":\"forward\",\"videoID\":\"\",\"title\":\"27189 Spot the dog safety monitor\",\"timestamp\":1670853838373,\"airtableID\":\"27189\",\"image\":\"https://web.archive.org/web/20230224123642/https://1.dam.s81c.com/p/0a23e41430abcb17/20221208-r1-spot-the-dog-robotics-offerings-27188-1600x900.jpg\",\"mobileImg\":\"https://web.archive.org/web/20230224123642/https://1.dam.s81c.com/public/content/dam/worldwide-content/homepage/ul/g/9e/7c/20210823-f-swiss-re-case-study-26069.jpg\",\"headline\":\"Pin-Yu Chen challenges AI every day to build the most trustworthy systems possible\",\"eyebrow\":\"Will Spot the danger-detecting robot be your safety inspectorâ\\x80\\x99s best friend?\",\"imageAlt\":\"composite image featuring Spot, the dog-like robot\",\"copy\":\"\\\\n\",\"link\":\"https://web.archive.org/web/20230224123642/https://research.ibm.com/blog/ibm-ai-edge-national-grid-monitoring?lnk=ushpv18r1\"},{\"videoImage\":\"\",\"videoType\":\"youtube\",\"ibmEvLinkTitle\":\"\",\"ibmEvGroup\":\"\",\"ibmEvName\":\"\",\"ibmEvSection\":\"R2\",\"ibmEvTarget\":\"\",\"damVideoMP4\":\"\",\"damVideoWebM\":\"\",\"icon\":\"forward\",\"videoID\":\"\",\"title\":\"27190 Quantum Open Science Prize\",\"timestamp\":1670593706262,\"airtableID\":\"27190\",\"copy\":\"\\\\n\",\"image\":\"https://web.archive.org/web/20230224123642/https://1.dam.s81c.com/p/09f257ea96c87909/20221205-r1-quantum-open-science-prize-1600x900.png\",\"mobileImg\":\"https://web.archive.org/web/20230224123642/https://1.dam.s81c.com/public/content/dam/worldwide-content/homepage/ul/g/9e/7c/20210823-f-swiss-re-case-study-26069.jpg\",\"headline\":\"AI processes can have a massive carbon footprint. They donâ\\x80\\x99t have to, thanks to analog AI.\",\"eyebrow\":\"IBM Quantumâ\\x80\\x99s Open Science Prize seeks the best open source solutions to pressing problems\",\"imageAlt\":\"Schematic illustration of the honeycomb-pattered Kagome lattice\",\"link\":\"https://web.archive.org/web/20230224123642/https://research.ibm.com/blog/ibm-quantum-open-science-prize-2022?lnk=ushpv18r2\"},{\"videoImage\":\"\",\"videoType\":\"youtube\",\"ibmEvLinkTitle\":\"\",\"ibmEvGroup\":\"\",\"ibmEvName\":\"\",\"ibmEvSection\":\"R3\",\"ibmEvTarget\":\"\",\"damVideoMP4\":\"\",\"damVideoWebM\":\"\",\"icon\":\"forward\",\"videoID\":\"\",\"title\":\"27191 Ruthenium 1nm chip\",\"timestamp\":1670593873723,\"airtableID\":\"27191\",\"copy\":\"\\\\n\",\"image\":\"https://web.archive.org/web/20230224123642/https://1.dam.s81c.com/p/09e9905470286c48/20221205-r1-1nm-chips-ruthenium-27178-1600x900.jpg\",\"mobileImg\":\"https://web.archive.org/web/20230224123642/https://1.dam.s81c.com/public/content/dam/worldwide-content/homepage/ul/g/9e/7c/20210823-f-swiss-re-case-study-26069.jpg\",\"headline\":\"AI processes can have a massive carbon footprint. They donâ\\x80\\x99t have to, thanks to analog AI.\",\"eyebrow\":\"The 1-nanometer future: a metal called ruthenium will shrink the worldâ\\x80\\x99s smallest chip below 2nm\",\"imageAlt\":\"Fingers holding a chip wafer with a computer chip closeup in an inset\",\"link\":\"https://web.archive.org/web/20230224123642/https://research.ibm.com/blog/1nm-chips-vtfet-ruthenium?lnk=ushpv18r3\"},{\"videoImage\":\"\",\"videoType\":\"youtube\",\"ibmEvLinkTitle\":\"\",\"ibmEvGroup\":\"\",\"ibmEvName\":\"\",\"ibmEvSection\":\"R4\",\"ibmEvTarget\":\"\",\"damVideoMP4\":\"\",\"damVideoWebM\":\"\",\"icon\":\"forward\",\"videoID\":\"https://web.archive.org/web/20230224123642/https://www.ibm.com/thought-leadership/institute-business-value/report/space-cloud-computing\",\"title\":\"27192 PyTorch AI foundation models\",\"timestamp\":1670593999804,\"airtableID\":\"27192\",\"image\":\"https://web.archive.org/web/20230224123642/https://1.dam.s81c.com/p/09e98ff48ebdd003/20221128-r-pytorch-foundational-models-27155-800x450.png\",\"mobileImg\":\"https://web.archive.org/web/20230224123642/https://1.dam.s81c.com/public/content/dam/worldwide-content/homepage/ul/g/9e/7c/20210823-f-swiss-re-case-study-26069.jpg\",\"headline\":\"Pin-Yu Chen challenges AI every day to build the most trustworthy systems possible\",\"eyebrow\":\"Train large AI models using standard Ethernet networking on Red Hat OpenShift, on any cloud\\\\n\",\"imageAlt\":\"intersecting groups of lines representing networking\",\"copy\":\"\\\\n\",\"link\":\"https://web.archive.org/web/20230224123642/https://research.ibm.com/blog/ibm-pytorch-cloud-ai-ethernet?lnk=ushpv18r4\"}]},\"config\":{\"enabled\":\"true\",\"type\":\"carousel\",\"totalCards\":\"12\"}},\"makers\":{\"data\":{\"content\":[{\"alternate\":true,\"ctaColor\":\"red-50\",\"ibmEvLinkTitle\":\"\",\"ibmEvGroup\":\"\",\"ibmEvName\":\"case study\",\"ibmEvSection\":\"M1\",\"ibmEvTarget\":\"\",\"imageMobile\":\"\",\"damVideoMP4\":\"\",\"damVideoWebM\":\"\",\"ctaCopyThree\":\"\",\"ctaLinkTwoThree\":\"\",\"imagePos\":\"center center\",\"copyTwo\":\"\",\"videoType\":\"kaltura\",\"eyebrow\":\"Sustainability insights make facilities work more efficiently\",\"airtableID\":\"27171\",\"videoID\":\"\",\"mobileColumnHalf\":true,\"timestamp\":1671118406356,\"ctaLinkOne\":\"https://web.archive.org/web/20230224123642/https://www.ibm.com/case-studies/audi-uk/?lnk=ushpv18cs1\",\"copyOne\":\"A commitment to enhanced user experience enabled Audi UK to deepen its connection to customers\",\"title\":\"27171 GRE-Envizi\",\"ctaCopyOne\":\"See how IBM Consulting helped boost lead generation by 59%\",\"button\":\"See how data provided by the Envizi ESG Suite helped IBM reduce carbon emissions by 62%\",\"copy\":\"IBM Global Real Estate needed a greener way to manage more than 50 million square feet of space worldwide\",\"link\":\"https://web.archive.org/web/20230224123642/https://www.ibm.com/case-studies/ibm-gre?lnk=ushpv18m1\",\"image\":\"https://web.archive.org/web/20230224123642/https://1.dam.s81c.com/p/09e9905470a86c9a/20221212-m-gre-envizi-27171-1600x900.jpg\",\"imageAlt\":\"A Black professional in an office building overlooking green landscape\"},{\"alternate\":true,\"ctaColor\":\"red-50\",\"ibmEvLinkTitle\":\"\",\"ibmEvGroup\":\"\",\"ibmEvName\":\"case study\",\"ibmEvSection\":\"M2\",\"ibmEvTarget\":\"\",\"imageMobile\":\"\",\"damVideoMP4\":\"\",\"damVideoWebM\":\"\",\"ctaCopyThree\":\"\",\"ctaLinkTwoThree\":\"\",\"imagePos\":\"center center\",\"copyTwo\":\"\",\"videoType\":\"kaltura\",\"eyebrow\":\"For predictable trains, we need predictive maintenance\",\"airtableID\":\"27193\",\"videoID\":\"\",\"mobileColumnHalf\":true,\"timestamp\":1670599073776,\"ctaLinkOne\":\"https://web.archive.org/web/20230224123642/https://www.ibm.com/case-studies/audi-uk/?lnk=ushpv18cs1\",\"copyOne\":\"A commitment to enhanced user experience enabled Audi UK to deepen its connection to customers\",\"title\":\"27193 Downer Group\",\"ctaCopyOne\":\"See how IBM Consulting helped boost lead generation by 59%\",\"button\":\"Working with IBM Consulting, they created TrainDNA and increased reliability by 51%\",\"copy\":\"When Australia moved to outsource operation of its railroad system, the Downer Group needed a way to handle a huge new workload\",\"link\":\"https://web.archive.org/web/20230224123642/https://www.ibm.com/case-studies/downer?lnk=ushpv18m2\",\"image\":\"https://web.archive.org/web/20230224123642/https://1.dam.s81c.com/p/09f257ea96c8790a/20221205-m-downer-group-27163-1600x900.jpg\",\"imageAlt\":\"Young woman looking out a train window at the landscape passing by\"},{\"alternate\":true,\"ctaColor\":\"red-50\",\"ibmEvLinkTitle\":\"\",\"ibmEvGroup\":\"\",\"ibmEvName\":\"case study\",\"ibmEvSection\":\"M3\",\"ibmEvTarget\":\"\",\"imageMobile\":\"\",\"damVideoMP4\":\"\",\"damVideoWebM\":\"\",\"ctaCopyThree\":\"\",\"ctaLinkTwoThree\":\"\",\"imagePos\":\"center center\",\"copyTwo\":\"\",\"videoType\":\"kaltura\",\"eyebrow\":\"New Jersey keeps the heat and lights on for those in need\",\"airtableID\":\"27194\",\"videoID\":\"\",\"mobileColumnHalf\":true,\"timestamp\":1670599058497,\"ctaLinkOne\":\"https://web.archive.org/web/20230224123642/https://www.ibm.com/case-studies/audi-uk/?lnk=ushpv18cs1\",\"copyOne\":\"A commitment to enhanced user experience enabled Audi UK to deepen its connection to customers\",\"title\":\"27194 State of New Jersey\",\"ctaCopyOne\":\"See how IBM Consulting helped boost lead generation by 59%\",\"button\":\"IBM Consulting designed a portal that handles 6,200 calls a month, fast-tracking $127M in relief\",\"copy\":\"The pandemic caused many low-income residents to fall behind on their utility bills, putting their home heating at risk\",\"link\":\"https://web.archive.org/web/20230224123642/https://www.ibm.com/case-studies/new-jersey-department-of-community-affairs/?lnk=ushpv18m3\",\"image\":\"https://web.archive.org/web/20230224123642/https://1.dam.s81c.com/p/09e98ff48ebdd004/20221128-m-new-jersey-department-of-community-affairs-27154-1600x900.jpg\",\"imageAlt\":\"Winter view of suburban houses through frost on a window\"}]},\"config\":{\"enabled\":\"true\",\"type\":\"carousel\",\"totalCards\":\"12\"}},\"tech\":{\"data\":{\"content\":[{\"imageMobile\":\"10312017-n-episode6-starwars-600x260.jpg\",\"videoType\":\"kaltura\",\"ibmEvLinkTitle\":\"Dear Tech Sonoma\",\"ibmEvGroup\":\"Advertising\",\"ibmEvName\":\"Ad support\",\"ibmEvSection\":\"DT\",\"ibmEvTarget\":\"\",\"damVideoMP4\":\"\",\"damVideoWebM\":\"\",\"videoID\":\"\",\"icon\":\"forward\",\"copy\":\"\",\"link\":\"\",\"airtableID\":\"\",\"title\":\"\",\"eyebrow\":\"\",\"button\":\"\",\"image\":\"\",\"timestamp\":1598626304757},{\"icon\":\"forward\",\"videoID\":\"\",\"videoType\":\"kaltura\",\"ibmEvLinkTitle\":\"Network Consulting Services\",\"ibmEvGroup\":\"GTS\",\"ibmEvName\":\"service\",\"ibmEvSection\":\"BT\",\"ibmEvTarget\":\"\",\"damVideoMP4\":\"\",\"damVideoWebM\":\"\",\"title\":\"\",\"eyebrow\":\"\",\"image\":\"\",\"copy\":\"\",\"button\":\"\",\"link\":\"\",\"timestamp\":1598626317181,\"airtableID\":\"\"},{\"videoType\":\"kaltura\",\"ibmEvLinkTitle\":\"Systems TechU Las Vegas\",\"ibmEvGroup\":\"STG\",\"ibmEvName\":\"event\",\"ibmEvSection\":\"ST\",\"ibmEvTarget\":\"\",\"damVideoMP4\":\"\",\"damVideoWebM\":\"\",\"videoID\":\"\",\"icon\":\"play\",\"airtableID\":\"\",\"title\":\"\",\"copy\":\"\",\"eyebrow\":\"\",\"link\":\"\",\"image\":\"\",\"button\":\"\",\"timestamp\":1598626329298}]}},\"trials\":{\"data\":{\"content\":[{\"icon\":\"forward\",\"videoID\":\"\",\"videoImage\":\"\",\"videoType\":\"youtube\",\"ibmEvLinkTitle\":\"\",\"ibmEvGroup\":\"\",\"ibmEvName\":\"\",\"ibmEvSection\":\"T1\",\"ibmEvTarget\":\"\",\"damVideoMP4\":\"\",\"damVideoWebM\":\"\",\"timestamp\":1670594621355,\"title\":\"1303 IBM Watson Assistant\",\"airtableID\":\"1303\",\"copy\":\"Help customers get stuff done quickly, easily, on any channel. Ask for a demo.\",\"eyebrow\":\"IBM Watson Assistant\",\"link\":\"https://web.archive.org/web/20230224123642/https://www.ibm.com/products/watson-assistant?lnk=ushpv18t1\\\\u0026lnk2=trial_WatAssist\\\\u0026psrc=none\\\\u0026pexp=def\",\"image\":\"https://web.archive.org/web/20230224123642/https://1.dam.s81c.com/public/content/dam/worldwide-content/homepage/ul/g/ee/15/20220216-t-ibm-watson-assistant.png\",\"imageAlt\":\"The Watson Assistant interface with text boxes and a simulated chatbot\"},{\"subcopy\":\"\",\"ibmEvLinkTitle\":\"\",\"ibmEvGroup\":\"\",\"ibmEvName\":\"\",\"ibmEvSection\":\"T2\",\"ibmEvTarget\":\"\",\"button_mobile\":\"T2\",\"icon\":\"forward\",\"timestamp\":1670594649943,\"title\":\"1304 Cloud Pak for Business Automation\",\"airtableID\":\"1304\",\"copy\":\"Build and scale automation applications on any cloud. Test drive it at no\\\\u0026nbsp;cost.\",\"eyebrow\":\"Cloud Pak for Business Automation\",\"image\":\"https://web.archive.org/web/20230224123642/https://1.dam.s81c.com/public/content/dam/worldwide-content/homepage/ul/g/67/6a/20220216-t-ibm-cloud-pak-for-automation.png\",\"link\":\"https://web.archive.org/web/20230224123642/https://www.ibm.com/cloud/cloud-pak-for-automation?lnk=ushpv18t2\\\\u0026lnk2=trial_CloudPakAtm\\\\u0026psrc=none\\\\u0026pexp=def\",\"imageAlt\":\"spreadsheet-type charts\"},{\"subcopy\":\"\",\"ibmEvLinkTitle\":\"\",\"ibmEvGroup\":\"\",\"ibmEvName\":\"\",\"ibmEvSection\":\"T3\",\"ibmEvTarget\":\"\",\"button_mobile\":\"T4\",\"timestamp\":1670594670414,\"airtableID\":\"1305\",\"title\":\"1305 IBM Instana Observability\",\"image\":\"https://web.archive.org/web/20230224123642/https://1.dam.s81c.com/p/08f951362f270092/Instana-trial-800x450.jpg\",\"eyebrow\":\"IBM Instana Observability\",\"copy\":\"Easily manage the performance of your microservice applications. Get a free trial.\",\"link\":\"https://web.archive.org/web/20230224123642/https://www.ibm.com/cloud/instana?lnk=ushpv18t3\\\\u0026lnk2=trial_Instana\\\\u0026psrc=none\\\\u0026pexp=def\",\"imageAlt\":\"Instana dashboard with status tables and charts\"},{\"subcopy\":\"\",\"ibmEvLinkTitle\":\"\",\"ibmEvGroup\":\"\",\"ibmEvName\":\"\",\"ibmEvSection\":\"T4\",\"ibmEvTarget\":\"\",\"button_mobile\":\"T4\",\"timestamp\":1645198930856,\"airtableID\":\"\",\"title\":\"\",\"image\":\"\",\"eyebrow\":\"\",\"copy\":\"\",\"button\":\"\",\"link\":\"\"}]}},\"contentspotlight\":{\"data\":{\"content\":[{\"alternate\":true,\"ctaColor\":\"red-50\",\"ibmEvLinkTitle\":\"\",\"ibmEvGroup\":\"\",\"ibmEvName\":\"case study\",\"ibmEvSection\":\"CS1\",\"ibmEvTarget\":\"\",\"imageMobile\":\"\",\"damVideoMP4\":\"\",\"damVideoWebM\":\"\",\"ctaCopyThree\":\"\",\"ctaLinkTwoThree\":\"\",\"imagePos\":\"center left\",\"copyTwo\":\"\",\"videoType\":\"kaltura\",\"eyebrow\":\"\",\"airtableID\":\"\",\"videoID\":\"\",\"mobileColumnHalf\":true,\"timestamp\":1645199476505,\"ctaLinkOne\":\"\",\"copyOne\":\"\",\"title\":\"\",\"ctaCopyOne\":\"\",\"image\":\"\"},{\"alternate\":true,\"image\":\"https://web.archive.org/web/20230224123642/https://1.dam.s81c.com/public/content/dam/worldwide-content/homepage/ul/g/ea/ca/cs-hub-logos-k-1042x1130.png\",\"ctaColor\":\"red-50\",\"videoID\":\"\",\"videoType\":\"youtube\",\"ibmEvLinkTitle\":\"\",\"ibmEvGroup\":\"\",\"ibmEvName\":\"case study\",\"ibmEvSection\":\"CS2\",\"ibmEvTarget\":\"\",\"imageMobile\":\"\",\"damVideoMP4\":\"\",\"damVideoWebM\":\"\",\"ctaCopyThree\":\"\",\"ctaLinkTwoThree\":\"\",\"imagePos\":\"center center\",\"eyebrow\":\"25339\",\"title\":\"Client success stories\",\"ctaCopyTwo\":\"\",\"ctaCopyOne\":\"Read how industry leaders put smart to work\",\"ctaLinkTwo\":\"\",\"ctaLinkOne\":\"https://web.archive.org/web/20230224123642/https://www.ibm.com/case-studies/search?search\\\\u0026lnk=ushpv18cs2\",\"copyOne\":\"\",\"copyTwo\":\"\",\"timestamp\":1638195426535,\"airtableID\":\"25339\",\"mobileColumnHalf\":true}]},\"config\":{\"type\":\"dos\"}},\"thinknews\":{\"data\":{\"content\":[{\"videoImage\":\"\",\"videoType\":\"youtube\",\"ibmEvLinkTitle\":\"\",\"ibmEvGroup\":\"\",\"ibmEvName\":\"\",\"ibmEvSection\":\"Th1\",\"ibmEvTarget\":\"\",\"damVideoMP4\":\"\",\"damVideoWebM\":\"\",\"icon\":\"forward\",\"videoID\":\"\",\"label\":\"\",\"title\":\"\",\"image\":\"https://web.archive.org/web/20230224123642/https://1.dam.s81c.com/p/0797bc3546c3dcc9/20220405-ibm-z-multiframe-annc-444x320-26343.jpg\",\"copy\":\"Breeze through 25 billion secure transactions daily, across any hybrid cloud structure\",\"eyebrow\":\"\",\"timestamp\":1655481021045,\"airtableID\":\"\",\"link\":\"\",\"active\":false,\"sandbox\":false,\"stage\":false},{\"videoImage\":\"\",\"videoType\":\"youtube\",\"ibmEvLinkTitle\":\"\",\"ibmEvGroup\":\"\",\"ibmEvName\":\"\",\"ibmEvSection\":\"Th2\",\"ibmEvTarget\":\"\",\"damVideoMP4\":\"\",\"damVideoWebM\":\"\",\"icon\":\"forward\",\"videoID\":\"\",\"label\":\"\",\"title\":\"\",\"timestamp\":1655481064068,\"airtableID\":\"\",\"eyebrow\":\"\",\"copy\":\"Four out of five companies surveyed use or plan to adopt AI. Find out why.\\\\n\",\"link\":\"\",\"active\":false,\"sandbox\":false,\"stage\":false},{\"videoImage\":\"\",\"videoType\":\"youtube\",\"ibmEvLinkTitle\":\"\",\"ibmEvGroup\":\"\",\"ibmEvName\":\"\",\"ibmEvSection\":\"Th3\",\"ibmEvTarget\":\"\",\"damVideoMP4\":\"\",\"damVideoWebM\":\"\",\"icon\":\"forward\",\"videoID\":\"\",\"label\":\"\",\"title\":\"\",\"timestamp\":1655481115853,\"airtableID\":\"\",\"eyebrow\":\"\",\"copy\":\"Boost your growth with up to $120K in cloud credits and expert mentoring when you join the Startup with IBM program\\\\n\",\"image\":\"https://web.archive.org/web/20230224123642/https://1.dam.s81c.com/public/content/dam/worldwide-content/homepage/ul/g/0e/e0/20220131-startup-26374-444x320.jpg\",\"link\":\"\",\"active\":false,\"sandbox\":false,\"stage\":false},{\"videoImage\":\"\",\"videoType\":\"youtube\",\"ibmEvLinkTitle\":\"\",\"ibmEvGroup\":\"\",\"ibmEvName\":\"\",\"ibmEvSection\":\"Th4\",\"ibmEvTarget\":\"\",\"damVideoMP4\":\"\",\"damVideoWebM\":\"\",\"icon\":\"forward\",\"videoID\":\"\",\"label\":\"\",\"title\":\"\",\"image\":\"https://web.archive.org/web/20230224123642/https://1.dam.s81c.com/p/0797bc3546c3dcc9/20220405-ibm-z-multiframe-annc-444x320-26343.jpg\",\"copy\":\"Breeze through 25 billion secure transactions daily, across any hybrid cloud structure\\\\n\",\"eyebrow\":\"\",\"timestamp\":1655481135287,\"airtableID\":\"\",\"link\":\"\",\"active\":false,\"sandbox\":false,\"stage\":false},{\"videoImage\":\"\",\"videoType\":\"youtube\",\"ibmEvLinkTitle\":\"\",\"ibmEvGroup\":\"\",\"ibmEvName\":\"\",\"ibmEvSection\":\"Th5\",\"ibmEvTarget\":\"\",\"damVideoMP4\":\"\",\"damVideoWebM\":\"\",\"icon\":\"forward\",\"videoID\":\"\",\"label\":\"Creativity at work\",\"title\":\"\",\"timestamp\":1652111841522,\"airtableID\":\"\",\"eyebrow\":\"Meet the New Creators, 10 visionaries creatively applying technology in business to drive change\",\"copy\":\"Boost your growth with up to $120K in cloud credits and expert mentoring when you join the Startup with IBM program\\\\n\",\"image\":\"https://web.archive.org/web/20230224123642/https://1.dam.s81c.com/public/content/dam/worldwide-content/homepage/ul/g/0e/e0/20220131-startup-26374-444x320.jpg\",\"link\":\"https://web.archive.org/web/20230224123642/https://www.ibm.com/thought-leadership/new-creators?lnk=ushpv18Th3\",\"active\":false,\"sandbox\":false,\"stage\":false},{\"videoImage\":\"\",\"videoType\":\"youtube\",\"ibmEvLinkTitle\":\"\",\"ibmEvGroup\":\"\",\"ibmEvName\":\"\",\"ibmEvSection\":\"Th6\",\"ibmEvTarget\":\"\",\"damVideoMP4\":\"\",\"damVideoWebM\":\"\",\"icon\":\"forward\",\"videoID\":\"\",\"label\":\"Creativity at work\",\"title\":\"\",\"timestamp\":1652111851031,\"airtableID\":\"\",\"eyebrow\":\"Meet the New Creators, 10 visionaries creatively applying technology in business to drive change\",\"copy\":\"Boost your growth with up to $120K in cloud credits and expert mentoring when you join the Startup with IBM program\\\\n\",\"image\":\"https://web.archive.org/web/20230224123642/https://1.dam.s81c.com/public/content/dam/worldwide-content/homepage/ul/g/0e/e0/20220131-startup-26374-444x320.jpg\",\"link\":\"https://web.archive.org/web/20230224123642/https://www.ibm.com/thought-leadership/new-creators?lnk=ushpv18Th3\",\"active\":false,\"sandbox\":false,\"stage\":false}]}},\"big6LeadspaceCards\":{\"data\":{\"content\":[{\"title\":\"Work safe. Work smart.\",\"copy\":\"\",\"link\":\"https://web.archive.org/web/20230224123642/https://www.ibm.com/smarter-business/work-safe?lnk=ushpv18cv1\",\"timestamp\":1591797887933},{\"title\":\"Engage customers anywhere with Watson\",\"copy\":\"\",\"link\":\"https://web.archive.org/web/20230224123642/https://www.ibm.com/smarter-business/customer-experience?lnk=ushpv18cv2\",\"timestamp\":1591797833198},{\"title\":\"Enhance your IT resiliency and business continuity\",\"copy\":\"\",\"link\":\"https://web.archive.org/web/20230224123642/https://www.ibm.com/services/business-continuity?lnk=ushpv18cv3\",\"timestamp\":1591797923124},{\"title\":\"Accelerate agility and efficiency with IBM Cloud\",\"copy\":\"\",\"link\":\"https://web.archive.org/web/20230224123642/https://www.ibm.com/cloud/yourcloud?lnk=ushpv18cv4\",\"timestamp\":1591798189360},{\"title\":\"Protect against new cyber risks\",\"copy\":\"\",\"link\":\"https://web.archive.org/web/20230224123642/https://www.ibm.com/security?lnk=ushpv18cv5\",\"timestamp\":1591990121847},{\"title\":\"Build resilient supply chains and operations\",\"copy\":\"\",\"link\":\"https://web.archive.org/web/20230224123642/https://www.ibm.com/supply-chain?lnk=ushpv18cv6\",\"timestamp\":1591990130317}]}},\"certifications\":{\"data\":{\"content\":[{\"ibmEvSection\":\"tc1\",\"image\":\" https://1.dam.s81c.com/public/content/dam/worldwide-content/homepage/ul/g/bb/fd/20211018-cert-tech-u-virtual-edition.png\",\"eyebrow\":\"IBM TechU virtual edition: October 25â\\x80\\x9328\",\"title\":\"IBM TechU 2021, the virtual edition\",\"button\":\"Register to choose from 250+ sessions and labs, and engage live with experts and peers\",\"timestamp\":1634607850644,\"airtableID\":\"26189\",\"link\":\"https://web.archive.org/web/20230224123642/https://www.ibm.com/training/events/vtechu2021?lnk=ushpv18tc1\",\"mobileImg\":\"https://web.archive.org/web/20230224123642/https://1.dam.s81c.com/public/content/dam/worldwide-content/homepage/ul/g/bb/fd/20211018-cert-tech-u-virtual-edition.png\",\"copy\":\"\\\\n\"},{\"ibmEvSection\":\"tc2\",\"eyebrow\":\"Design thinking is for everyone\",\"title\":\"26192 Design thinking practitioner \",\"button\":\"Learn how to drive business results by focusing on your usersâ\\x80\\x99 needs in this free course\",\"timestamp\":1634315831253,\"airtableID\":\"26192\",\"mobileImg\":\"https://web.archive.org/web/20230224123642/https://1.dam.s81c.com/public/content/dam/worldwide-content/homepage/ul/g/e1/3b/20211018-cert-design-thinking.jpg\",\"copy\":\"\\\\n\",\"link\":\"https://web.archive.org/web/20230224123642/https://www.ibm.com/design/thinking/?lnk=ushpv18tc2\",\"image\":\"https://web.archive.org/web/20230224123642/https://1.dam.s81c.com/public/content/dam/worldwide-content/homepage/ul/g/e1/3b/20211018-cert-design-thinking.jpg\"}]},\"config\":{\"enabled\":\"true\"}},\"videonews\":{\"data\":{\"content\":[{\"ibmEvSection\":\"vn1\",\"alternateColor\":true,\"eyebrow\":\"AI can take you to places youâ\\x80\\x99ve only dreamed of\\\\n\",\"title\":\"26324 Data Science: Watson Studio\",\"button\":\"Build and scale trusted AI across any cloud\",\"link\":\"https://web.archive.org/web/20230224123642/https://www.ibm.com/cloud/watson-studio?lnk=ushpv18vn1\",\"timestamp\":1639779183583,\"airtableID\":\"26324\",\"copy\":\"Get there with Watson Studio, a simpler way to turn predictions into decisions collaboratively, on any cloud, on one data and AI platform\",\"videoLength\":\"1:13\",\"videoId\":\"1_iej13uex\",\"image\":\"https://web.archive.org/web/20230224123642/https://1.dam.s81c.com/public/content/dam/worldwide-content/homepage/ul/g/82/93/20211025-vn-data-science-watson-studio-1200x900.jpg\"},{\"ibmEvSection\":\"vn2\",\"eyebrow\":\"A â\\x80\\x98never trust, always verifyâ\\x80\\x99 security model\\\\n\",\"title\":\"26325 Zero Trust Security\",\"button\":\"Read about zero trust architecture and the future of security\",\"timestamp\":1639779210749,\"airtableID\":\"26325\",\"copy\":\"On average, it can take 77 days to contain an insider data breach. Companies with a zero trust framework in place can do so in near-real time.\",\"videoLength\":\"3:06\",\"videoId\":\"1_yr2j7p5f\",\"image\":\"https://web.archive.org/web/20230224123642/https://1.dam.s81c.com/public/content/dam/worldwide-content/homepage/ul/g/2e/5a/20211115-vn-zero-trust-security-26254-1200x900.jpg\",\"alternateColor\":true,\"link\":\"https://web.archive.org/web/20230224123642/https://www.ibm.com/security/zero-trust?lnk=ushpv18vn2\"},{\"ibmEvSection\":\"vn3\",\"eyebrow\":\"Home Trust and IBM Cloud: prepared for the unforeseeable\\\\n\",\"title\":\"26326 Home Trust CS\",\"button\":\"Learn how the right platform supported the workforce during COVID\\\\u0026#8209;19 lockdowns\",\"timestamp\":1639779304922,\"airtableID\":\"26326\",\"copy\":\"Because of an early transition to IBM Cloud, one of Canadaâ\\x80\\x99s leading financial institutions was able to change to remote work and thrive in 2020\",\"videoLength\":\"2:37\",\"videoId\":\"1_fz1liaxf\",\"image\":\"https://web.archive.org/web/20230224123642/https://1.dam.s81c.com/public/content/dam/worldwide-content/homepage/ul/g/37/78/20211122-vn-home-trust-26271-1200x900.jpg\",\"alternateColor\":true,\"link\":\"https://web.archive.org/web/20230224123642/https://www.ibm.com/case-studies/home-trust/?lnk=ushpv18vn3\"}]},\"config\":{\"enabled\":\"true\"}}}}},\"__N_SSG\":true},\"page\":\"/\",\"query\":{},\"buildId\":\"0BehGL8Iczuyl_okDuIJa\",\"assetPrefix\":\".\",\"isFallback\":false,\"gsp\":true}</script><script nomodule=\"\" src=\"/web/20230224123642js_/https://www.ibm.com/us-en/_next/static/chunks/polyfills-e4c38ea28892f36667af.js\"></script><script src=\"/web/20230224123642js_/https://www.ibm.com/us-en/_next/static/chunks/webpack-9a6e2dd34947de61505d.js\" async=\"\"></script><script src=\"/web/20230224123642js_/https://www.ibm.com/us-en/_next/static/chunks/framework.602aaa49e9cf44108ea4.js\" async=\"\"></script><script src=\"/web/20230224123642js_/https://www.ibm.com/us-en/_next/static/chunks/commons.56cd7ef778495da405ee.js\" async=\"\"></script><script src=\"/web/20230224123642js_/https://www.ibm.com/us-en/_next/static/chunks/3ef630e34cd10ba68f9d468ac363ff81c534e1e9.d2f601340e1658353edc.js\" async=\"\"></script><script src=\"/web/20230224123642js_/https://www.ibm.com/us-en/_next/static/chunks/main-51700067fcf16cbe3818.js\" async=\"\"></script><script src=\"/web/20230224123642js_/https://www.ibm.com/us-en/_next/static/chunks/styles.3461e1160e1b06bf3496.js\" async=\"\"></script><script src=\"/web/20230224123642js_/https://www.ibm.com/us-en/_next/static/chunks/pages/_app-692f4737856e6f61cf41.js\" async=\"\"></script><script src=\"/web/20230224123642js_/https://www.ibm.com/us-en/_next/static/chunks/1c920f04.f4270e422fa8c16ba0f4.js\" async=\"\"></script><script src=\"/web/20230224123642js_/https://www.ibm.com/us-en/_next/static/chunks/5f6bb6fb.63224c0f3a7ce047c8e2.js\" async=\"\"></script><script src=\"/web/20230224123642js_/https://www.ibm.com/us-en/_next/static/chunks/8f19d780.9518ac89ebf3ed164ec7.js\" async=\"\"></script><script src=\"/web/20230224123642js_/https://www.ibm.com/us-en/_next/static/chunks/8edc3fe5.f57e384a441d6dc22242.js\" async=\"\"></script><script src=\"/web/20230224123642js_/https://www.ibm.com/us-en/_next/static/chunks/fc20e1c4.d98d23767340a1237305.js\" async=\"\"></script><script src=\"/web/20230224123642js_/https://www.ibm.com/us-en/_next/static/chunks/a37fbe3b.f465653335f45cc0fa1b.js\" async=\"\"></script><script src=\"/web/20230224123642js_/https://www.ibm.com/us-en/_next/static/chunks/bc80632e.7250d666a9b091e0e0e4.js\" async=\"\"></script><script src=\"/web/20230224123642js_/https://www.ibm.com/us-en/_next/static/chunks/1dd0fb51.f16e33f7e2db3449d18e.js\" async=\"\"></script><script src=\"/web/20230224123642js_/https://www.ibm.com/us-en/_next/static/chunks/56b0df7b.a548554a4a80dea8f00a.js\" async=\"\"></script><script src=\"/web/20230224123642js_/https://www.ibm.com/us-en/_next/static/chunks/b222b98b.ebaff15e961fd9a66fec.js\" async=\"\"></script><script src=\"/web/20230224123642js_/https://www.ibm.com/us-en/_next/static/chunks/500f7593.4b01426721d5ac82f9ba.js\" async=\"\"></script><script src=\"/web/20230224123642js_/https://www.ibm.com/us-en/_next/static/chunks/5d8d49e442f4e00190cb1a13966c1f91ed87c0f4.c5cea6b9909ecf9bea26.js\" async=\"\"></script><script src=\"/web/20230224123642js_/https://www.ibm.com/us-en/_next/static/chunks/11.f003844d8f71e73157c2.js\" async=\"\"></script><script src=\"/web/20230224123642js_/https://www.ibm.com/us-en/_next/static/chunks/pages/index-6fa402b7cf0ac5e5bee1.js\" async=\"\"></script><script src=\"/web/20230224123642js_/https://www.ibm.com/us-en/_next/static/0BehGL8Iczuyl_okDuIJa/_buildManifest.js\" async=\"\"></script><script src=\"/web/20230224123642js_/https://www.ibm.com/us-en/_next/static/0BehGL8Iczuyl_okDuIJa/_ssgManifest.js\" async=\"\"></script><script type=\"text/javascript\" src=\"/web/20230224123642js_/https://www.ibm.com/BBMvT9cBN/ZTfRs/BaKA/uk9tNGtLY7uG9G/FwcsSHIcHw0/ZCp3NG/hJJgw\"></script><link rel=\"stylesheet\" type=\"text/css\" href=\"/web/20230224123642cs_/https://www.ibm.com/_sec/cp_challenge/sec-3-9.css\">\\n          <script src=\"/web/20230224123642js_/https://www.ibm.com/_sec/cp_challenge/sec-cpt-3-9.js\" async defer></script>\\n          <div id=\"sec-overlay\" style=\"display:none;\">\\n          <div id=\"sec-container\">\\n          </div>\\n        </div></body></html><!--\\n     FILE ARCHIVED ON 12:36:42 Feb 24, 2023 AND RETRIEVED FROM THE\\n     INTERNET ARCHIVE ON 16:09:43 Aug 05, 2025.\\n     JAVASCRIPT APPENDED BY WAYBACK MACHINE, COPYRIGHT INTERNET ARCHIVE.\\n\\n     ALL OTHER CONTENT MAY ALSO BE PROTECTED BY COPYRIGHT (17 U.S.C.\\n     SECTION 108(a)(3)).\\n-->\\n<!--\\nplayback timings (ms):\\n  captures_list: 0.747\\n  exclusion.robots: 0.039\\n  exclusion.robots.policy: 0.025\\n  esindex: 0.012\\n  cdx.remote: 34.852\\n  LoadShardBlock: 1326.979 (6)\\n  PetaboxLoader3.datanode: 198.134 (7)\\n  PetaboxLoader3.resolve: 216.953 (2)\\n  load_resource: 125.084\\n-->'"
      ]
     },
     "execution_count": 45,
     "metadata": {},
     "output_type": "execute_result"
    }
   ],
   "execution_count": 45
  },
  {
   "metadata": {},
   "cell_type": "markdown",
   "source": "<p>We create a <code>BeautifulSoup</code> object using the <code>BeautifulSoup</code> constructor.</p>",
   "id": "c093fb751a03cfe8"
  },
  {
   "metadata": {
    "ExecuteTime": {
     "end_time": "2025-08-05T16:10:47.616403Z",
     "start_time": "2025-08-05T16:10:47.607496Z"
    }
   },
   "cell_type": "code",
   "source": "soup = BeautifulSoup(data, \"html.parser\")",
   "id": "e49124cacb2ce21d",
   "outputs": [],
   "execution_count": 46
  },
  {
   "metadata": {},
   "cell_type": "markdown",
   "source": "<p>Scrape all links:</p>",
   "id": "2d630e4d51213da0"
  },
  {
   "metadata": {
    "ExecuteTime": {
     "end_time": "2025-08-05T16:10:47.678465Z",
     "start_time": "2025-08-05T16:10:47.675567Z"
    }
   },
   "cell_type": "code",
   "source": [
    "for link in soup.find_all(\"a\", href=True):\n",
    "    print(link.get(\"href\"))"
   ],
   "id": "12c837e18a28018a",
   "outputs": [
    {
     "name": "stdout",
     "output_type": "stream",
     "text": [
      "https://web.archive.org/web/20230224123642/https://www.ibm.com/reports/threat-intelligence/\n",
      "https://web.archive.org/web/20230224123642/https://www.ibm.com/about\n",
      "https://web.archive.org/web/20230224123642/https://www.ibm.com/consulting/?lnk=flathl\n",
      "https://web.archive.org/web/20230224123642/https://www.ibm.com/consulting/strategy/?lnk=flathl\n",
      "https://web.archive.org/web/20230224123642/https://www.ibm.com/consulting/ibmix?lnk=flathl\n",
      "https://web.archive.org/web/20230224123642/https://www.ibm.com/consulting/technology/\n",
      "https://web.archive.org/web/20230224123642/https://www.ibm.com/consulting/operations/?lnk=flathl\n",
      "https://web.archive.org/web/20230224123642/https://www.ibm.com/strategic-partnerships\n",
      "https://web.archive.org/web/20230224123642/https://www.ibm.com/employment/?lnk=flatitem\n",
      "https://web.archive.org/web/20230224123642/https://www.ibm.com/impact\n",
      "https://web.archive.org/web/20230224123642/https://research.ibm.com/\n",
      "https://web.archive.org/web/20230224123642/https://www.ibm.com/\n"
     ]
    }
   ],
   "execution_count": 47
  },
  {
   "metadata": {},
   "cell_type": "markdown",
   "source": "### Scrape all images Tags",
   "id": "70ef6a2037d91b20"
  },
  {
   "metadata": {
    "ExecuteTime": {
     "end_time": "2025-08-05T16:10:47.705692Z",
     "start_time": "2025-08-05T16:10:47.702748Z"
    }
   },
   "cell_type": "code",
   "source": [
    "for link in soup.find_all(\"img\"):\n",
    "    print(\"=\"*10)\n",
    "    print(link)\n",
    "    print(link.get(\"src\"))"
   ],
   "id": "dc22740e8fae1633",
   "outputs": [
    {
     "name": "stdout",
     "output_type": "stream",
     "text": [
      "==========\n",
      "<img alt=\"Person standing with arms crossed\" aria-describedby=\"bx--image-1\" class=\"bx--image__img\" src=\"https://web.archive.org/web/20230224123642im_/https://1.dam.s81c.com/p/0a23e414312bcb6f/08196d0e04260ae5_cropped.jpg.global.sr_16x9.jpg\"/>\n",
      "https://web.archive.org/web/20230224123642im_/https://1.dam.s81c.com/p/0a23e414312bcb6f/08196d0e04260ae5_cropped.jpg.global.sr_16x9.jpg\n",
      "==========\n",
      "<img alt=\"Team members at work in a conference room\" aria-describedby=\"bx--image-2\" class=\"bx--image__img\" src=\"https://web.archive.org/web/20230224123642im_/https://1.dam.s81c.com/p/06655c075aa3aa29/CaitOppermann_2019_12_06_IBMGarage_DSC3304.jpg.global.m_16x9.jpg\"/>\n",
      "https://web.archive.org/web/20230224123642im_/https://1.dam.s81c.com/p/06655c075aa3aa29/CaitOppermann_2019_12_06_IBMGarage_DSC3304.jpg.global.m_16x9.jpg\n",
      "==========\n",
      "<img alt=\"Coworkers looking at laptops\" aria-describedby=\"bx--image-3\" class=\"bx--image__img\" src=\"https://web.archive.org/web/20230224123642im_/https://1.dam.s81c.com/p/08f951353c2707b8/052022_CaitOppermann_InsideIBM_London_2945_03.jpg.global.sr_16x9.jpg\"/>\n",
      "https://web.archive.org/web/20230224123642im_/https://1.dam.s81c.com/p/08f951353c2707b8/052022_CaitOppermann_InsideIBM_London_2945_03.jpg.global.sr_16x9.jpg\n",
      "==========\n",
      "<img alt=\"Cloud developer with red sweater coding at desk\" aria-describedby=\"bx--image-4\" class=\"bx--image__img\" src=\"https://web.archive.org/web/20230224123642im_/https://1.dam.s81c.com/p/064e0139f5a3aa5e/0500002_Lowell_LI_100119.jpg.global.sr_16x9.jpg\"/>\n",
      "https://web.archive.org/web/20230224123642im_/https://1.dam.s81c.com/p/064e0139f5a3aa5e/0500002_Lowell_LI_100119.jpg.global.sr_16x9.jpg\n",
      "==========\n",
      "<img alt=\"Aerial view of automated conveyer belt and machinery at work\" aria-describedby=\"bx--image-5\" class=\"bx--image__img\" src=\"https://web.archive.org/web/20230224123642im_/https://1.dam.s81c.com/p/0795cae91a25156f/conveyorrobottopview.jpg.global.sr_16x9.jpg\"/>\n",
      "https://web.archive.org/web/20230224123642im_/https://1.dam.s81c.com/p/0795cae91a25156f/conveyorrobottopview.jpg.global.sr_16x9.jpg\n",
      "==========\n",
      "<img alt=\"Overhead view of partners collaborating on design with laptops and coffee\" aria-describedby=\"bx--image-6\" class=\"bx--image__img\" src=\"https://web.archive.org/web/20230224123642im_/https://1.dam.s81c.com/p/06dfa9ccdba4ec79/1f417900-9042-44d1-9c219a854bbb62ea.jpg.global.sr_16x9.jpg\"/>\n",
      "https://web.archive.org/web/20230224123642im_/https://1.dam.s81c.com/p/06dfa9ccdba4ec79/1f417900-9042-44d1-9c219a854bbb62ea.jpg.global.sr_16x9.jpg\n"
     ]
    }
   ],
   "execution_count": 48
  },
  {
   "metadata": {},
   "cell_type": "markdown",
   "source": "### Scrape data from HTML tables",
   "id": "dc04e851e57f2995"
  },
  {
   "metadata": {
    "ExecuteTime": {
     "end_time": "2025-08-05T16:10:47.745043Z",
     "start_time": "2025-08-05T16:10:47.742825Z"
    }
   },
   "cell_type": "code",
   "source": "url = \"https://cf-courses-data.s3.us.cloud-object-storage.appdomain.cloud/IBM-DA0321EN-SkillsNetwork/labs/datasets/HTMLColorCodes.html\"",
   "id": "f8a5517f6ac0cf29",
   "outputs": [],
   "execution_count": 49
  },
  {
   "metadata": {},
   "cell_type": "markdown",
   "source": "<p>Before proceeding to scrape a web site, you need to examine the contents, and the way data is organized on the website. Open the above url in your browser and check how many rows and columns are there in the color table.</p>",
   "id": "2b1796e115bcdc29"
  },
  {
   "metadata": {
    "ExecuteTime": {
     "end_time": "2025-08-05T16:10:50.450073Z",
     "start_time": "2025-08-05T16:10:47.767185Z"
    }
   },
   "cell_type": "code",
   "source": [
    "data = requests.get(url=url).text\n",
    "data"
   ],
   "id": "aeaf9bb0996fbc80",
   "outputs": [
    {
     "data": {
      "text/plain": [
       "'<html>\\n   <body>\\n      <h1>Partital List  of HTML5 Supported Colors</h1>\\n<table border =\"1\" class=\"main-table\">\\n   <tr>\\n      <td>Number </td>\\n      <td>Color</td>\\n      <td>Color Name</td>\\n      <td>Hex Code<br>#RRGGBB</td>\\n      <td>Decimal Code<br>(R,G,B)</td>\\n   </tr>\\n   <tr>\\n      <td>1</td>\\n      <td style=\"background:lightsalmon;\">&nbsp;</td>\\n      <td>lightsalmon</td>\\n      <td>#FFA07A</td>\\n      <td>rgb(255,160,122)</td>\\n   </tr>\\n   <tr>\\n      <td>2</td>\\n      <td style=\"background:salmon;\">&nbsp;</td>\\n      <td>salmon</td>\\n      <td>#FA8072</td>\\n      <td>rgb(250,128,114)</td>\\n   </tr>\\n   <tr>\\n      <td>3</td>\\n      <td style=\"background:darksalmon;\">&nbsp;</td>\\n      <td>darksalmon</td>\\n      <td>#E9967A</td>\\n      <td>rgb(233,150,122)</td>\\n   </tr>\\n   <tr>\\n      <td>4</td>\\n      <td style=\"background:lightcoral;\">&nbsp;</td>\\n      <td>lightcoral</td>\\n      <td>#F08080</td>\\n      <td>rgb(240,128,128)</td>\\n   </tr>\\n   <tr>\\n      <td>5</td>\\n      <td style=\"background:coral;\">&nbsp;</td>\\n      <td>coral</td>\\n      <td>#FF7F50</td>\\n      <td>rgb(255,127,80)</td>\\n   </tr>\\n   <tr>\\n      <td>6</td>\\n      <td style=\"background:tomato;\">&nbsp;</td>\\n      <td>tomato</td>\\n      <td>#FF6347</td>\\n      <td>rgb(255,99,71)</td>\\n   </tr>\\n   <tr>\\n      <td>7</td>\\n      <td style=\"background:orangered;\">&nbsp;</td>\\n      <td>orangered</td>\\n      <td>#FF4500</td>\\n      <td>rgb(255,69,0)</td>\\n   </tr>\\n   <tr>\\n      <td>8</td>\\n      <td style=\"background:gold;\">&nbsp;</td>\\n      <td>gold</td>\\n      <td>#FFD700</td>\\n      <td>rgb(255,215,0)</td>\\n   </tr>\\n   <tr>\\n      <td>9</td>\\n      <td style=\"background:orange;\">&nbsp;</td>\\n      <td>orange</td>\\n      <td>#FFA500</td>\\n      <td>rgb(255,165,0)</td>\\n   </tr>\\n   <tr>\\n      <td>10</td>\\n      <td style=\"background:darkorange;\">&nbsp;</td>\\n      <td>darkorange</td>\\n      <td>#FF8C00</td>\\n      <td>rgb(255,140,0)</td>\\n   </tr>\\n   <tr>\\n      <td>11</td>\\n      <td style=\"background:lightyellow;\">&nbsp;</td>\\n      <td>lightyellow</td>\\n      <td>#FFFFE0</td>\\n      <td>rgb(255,255,224)</td>\\n   </tr>\\n   <tr>\\n      <td>12</td>\\n      <td style=\"background:lemonchiffon;\">&nbsp;</td>\\n      <td>lemonchiffon</td>\\n      <td>#FFFACD</td>\\n      <td>rgb(255,250,205)</td>\\n   </tr>\\n   <tr>\\n      <td>13</td>\\n      <td style=\"background:papayawhip;\">&nbsp;</td>\\n      <td>papayawhip</td>\\n      <td>#FFEFD5</td>\\n      <td>rgb(255,239,213)</td>\\n   </tr>\\n   <tr>\\n      <td>14</td>\\n      <td style=\"background:moccasin;\">&nbsp;</td>\\n      <td>moccasin</td>\\n      <td>#FFE4B5</td>\\n      <td>rgb(255,228,181)</td>\\n   </tr>\\n   <tr>\\n      <td>15</td>\\n      <td style=\"background:peachpuff;\">&nbsp;</td>\\n      <td>peachpuff</td>\\n      <td>#FFDAB9</td>\\n      <td>rgb(255,218,185)</td>\\n   </tr>\\n   <tr>\\n      <td>16</td>\\n      <td style=\"background:palegoldenrod;\">&nbsp;</td>\\n      <td>palegoldenrod</td>\\n      <td>#EEE8AA</td>\\n      <td>rgb(238,232,170)</td>\\n   </tr>\\n   <tr>\\n      <td>17</td>\\n      <td style=\"background:khaki;\">&nbsp;</td>\\n      <td>khaki</td>\\n      <td>#F0E68C</td>\\n      <td>rgb(240,230,140)</td>\\n   </tr>\\n   <tr>\\n      <td>18</td>\\n      <td style=\"background:darkkhaki;\">&nbsp;</td>\\n      <td>darkkhaki</td>\\n      <td>#BDB76B</td>\\n      <td>rgb(189,183,107)</td>\\n   </tr>\\n   <tr>\\n      <td>19</td>\\n      <td style=\"background:yellow;\">&nbsp;</td>\\n      <td>yellow</td>\\n      <td>#FFFF00</td>\\n      <td>rgb(255,255,0)</td>\\n   </tr>\\n   <tr>\\n      <td>20</td>\\n      <td style=\"background:lawngreen;\">&nbsp;</td>\\n      <td>lawngreen</td>\\n      <td>#7CFC00</td>\\n      <td>rgb(124,252,0)</td>\\n   </tr>\\n   <tr>\\n      <td>21</td>\\n      <td style=\"background:chartreuse;\">&nbsp;</td>\\n      <td>chartreuse</td>\\n      <td>#7FFF00</td>\\n      <td>rgb(127,255,0)</td>\\n   </tr>\\n   <tr>\\n      <td>22</td>\\n      <td style=\"background:limegreen;\">&nbsp;</td>\\n      <td>limegreen</td>\\n      <td>#32CD32</td>\\n      <td>rgb(50,205,50)</td>\\n   </tr>\\n   <tr>\\n      <td>23</td>\\n      <td style=\"background:lime;\">&nbsp;</td>\\n      <td>lime</td>\\n      <td>#00FF00</td>\\n      <td>rgb(0.255.0)</td>\\n   </tr>\\n   <tr>\\n      <td>24</td>\\n      <td style=\"background:forestgreen;\">&nbsp;</td>\\n      <td>forestgreen</td>\\n      <td>#228B22</td>\\n      <td>rgb(34,139,34)</td>\\n   </tr>\\n   <tr>\\n      <td>25</td>\\n      <td style=\"background:green;\">&nbsp;</td>\\n      <td>green</td>\\n      <td>#008000</td>\\n      <td>rgb(0,128,0)</td>\\n   </tr>\\n   <tr>\\n      <td>26</td>\\n      <td style=\"background:powderblue;\">&nbsp;</td>\\n      <td>powderblue</td>\\n      <td>#B0E0E6</td>\\n      <td>rgb(176,224,230)</td>\\n   </tr>\\n   <tr>\\n      <td>27</td>\\n      <td style=\"background:lightblue;\">&nbsp;</td>\\n      <td>lightblue</td>\\n      <td>#ADD8E6</td>\\n      <td>rgb(173,216,230)</td>\\n   </tr>\\n   <tr>\\n      <td>28</td>\\n      <td style=\"background:lightskyblue;\">&nbsp;</td>\\n      <td>lightskyblue</td>\\n      <td>#87CEFA</td>\\n      <td>rgb(135,206,250)</td>\\n   </tr>\\n   <tr>\\n      <td>29</td>\\n      <td style=\"background:skyblue;\">&nbsp;</td>\\n      <td>skyblue</td>\\n      <td>#87CEEB</td>\\n      <td>rgb(135,206,235)</td>\\n   </tr>\\n   <tr>\\n      <td>30</td>\\n      <td style=\"background:deepskyblue;\">&nbsp;</td>\\n      <td>deepskyblue</td>\\n      <td>#00BFFF</td>\\n      <td>rgb(0,191,255)</td>\\n   </tr>\\n   <tr>\\n      <td>31</td>\\n      <td style=\"background:lightsteelblue;\">&nbsp;</td>\\n      <td>lightsteelblue</td>\\n      <td>#B0C4DE</td>\\n      <td>rgb(176,196,222)</td>\\n   </tr>\\n   <tr>\\n      <td>32</td>\\n      <td style=\"background:dodgerblue;\">&nbsp;</td>\\n      <td>dodgerblue</td>\\n      <td>#1E90FF</td>\\n      <td>rgb(30,144,255)</td>\\n   </tr>\\n</table>\\n   </body>\\n</html>'"
      ]
     },
     "execution_count": 50,
     "metadata": {},
     "output_type": "execute_result"
    }
   ],
   "execution_count": 50
  },
  {
   "metadata": {
    "ExecuteTime": {
     "end_time": "2025-08-05T16:10:50.471997Z",
     "start_time": "2025-08-05T16:10:50.466444Z"
    }
   },
   "cell_type": "code",
   "source": [
    "soup = BeautifulSoup(data, \"html.parser\")\n",
    "table = soup.find(\"table\")"
   ],
   "id": "19c9edd066f03356",
   "outputs": [],
   "execution_count": 51
  },
  {
   "metadata": {
    "ExecuteTime": {
     "end_time": "2025-08-05T16:10:50.492023Z",
     "start_time": "2025-08-05T16:10:50.488665Z"
    }
   },
   "cell_type": "code",
   "source": [
    "for row in table.find_all(\"tr\"):\n",
    "    col = row.find_all(\"td\")\n",
    "\n",
    "    color_name = col[2].string\n",
    "    color_code = col[3].string\n",
    "\n",
    "    print(f\"{color_name}: {color_code}\")"
   ],
   "id": "48bafd0e6068366f",
   "outputs": [
    {
     "name": "stdout",
     "output_type": "stream",
     "text": [
      "Color Name: None\n",
      "lightsalmon: #FFA07A\n",
      "salmon: #FA8072\n",
      "darksalmon: #E9967A\n",
      "lightcoral: #F08080\n",
      "coral: #FF7F50\n",
      "tomato: #FF6347\n",
      "orangered: #FF4500\n",
      "gold: #FFD700\n",
      "orange: #FFA500\n",
      "darkorange: #FF8C00\n",
      "lightyellow: #FFFFE0\n",
      "lemonchiffon: #FFFACD\n",
      "papayawhip: #FFEFD5\n",
      "moccasin: #FFE4B5\n",
      "peachpuff: #FFDAB9\n",
      "palegoldenrod: #EEE8AA\n",
      "khaki: #F0E68C\n",
      "darkkhaki: #BDB76B\n",
      "yellow: #FFFF00\n",
      "lawngreen: #7CFC00\n",
      "chartreuse: #7FFF00\n",
      "limegreen: #32CD32\n",
      "lime: #00FF00\n",
      "forestgreen: #228B22\n",
      "green: #008000\n",
      "powderblue: #B0E0E6\n",
      "lightblue: #ADD8E6\n",
      "lightskyblue: #87CEFA\n",
      "skyblue: #87CEEB\n",
      "deepskyblue: #00BFFF\n",
      "lightsteelblue: #B0C4DE\n",
      "dodgerblue: #1E90FF\n"
     ]
    }
   ],
   "execution_count": 52
  },
  {
   "metadata": {},
   "cell_type": "markdown",
   "source": "## Scrape data from HTML tables into a DataFrame using BeautifulSoup and Pandas",
   "id": "460fbc69b036bdf7"
  },
  {
   "metadata": {
    "ExecuteTime": {
     "end_time": "2025-08-05T16:10:52.075653Z",
     "start_time": "2025-08-05T16:10:50.515189Z"
    }
   },
   "cell_type": "code",
   "source": [
    "import pandas as pd\n",
    "import re"
   ],
   "id": "79168d8f08c3d4d3",
   "outputs": [],
   "execution_count": 53
  },
  {
   "metadata": {
    "ExecuteTime": {
     "end_time": "2025-08-05T16:10:52.092482Z",
     "start_time": "2025-08-05T16:10:52.090333Z"
    }
   },
   "cell_type": "code",
   "source": "url = \"https://en.wikipedia.org/wiki/World_population\"",
   "id": "1ae59d0677c855dc",
   "outputs": [],
   "execution_count": 54
  },
  {
   "metadata": {},
   "cell_type": "markdown",
   "source": "<p>Before proceeding to scrape a website, you need to examine the contents, and the way data is organized on the website. Open the above url in your browser and check the tables on the webpage.</p>",
   "id": "5fcb2d57ba155163"
  },
  {
   "metadata": {
    "ExecuteTime": {
     "end_time": "2025-08-05T16:10:53.413923Z",
     "start_time": "2025-08-05T16:10:52.109046Z"
    }
   },
   "cell_type": "code",
   "source": "data = requests.get(url=url).text",
   "id": "94f52200be9d8d57",
   "outputs": [],
   "execution_count": 55
  },
  {
   "metadata": {
    "ExecuteTime": {
     "end_time": "2025-08-05T16:10:53.594141Z",
     "start_time": "2025-08-05T16:10:53.427938Z"
    }
   },
   "cell_type": "code",
   "source": [
    "soup = BeautifulSoup(data, \"html.parser\")\n",
    "table = soup.find_all(\"table\")"
   ],
   "id": "f9e267a98b1fead",
   "outputs": [],
   "execution_count": 56
  },
  {
   "metadata": {
    "ExecuteTime": {
     "end_time": "2025-08-05T16:10:53.695032Z",
     "start_time": "2025-08-05T16:10:53.689816Z"
    }
   },
   "cell_type": "code",
   "source": "len(table)",
   "id": "838ea550df0d9f9f",
   "outputs": [
    {
     "data": {
      "text/plain": [
       "26"
      ]
     },
     "execution_count": 57,
     "metadata": {},
     "output_type": "execute_result"
    }
   ],
   "execution_count": 57
  },
  {
   "metadata": {},
   "cell_type": "markdown",
   "source": "<p>Assume that we are looking for the <code>10 most densly populated countries</code> table, we can look through the tables list and find the right one we are look for based on the data in each table, or we can search for the table name if it is in the table but this option might not always work.</p>",
   "id": "31061e27b457ffce"
  },
  {
   "metadata": {
    "ExecuteTime": {
     "end_time": "2025-08-05T16:10:53.830520Z",
     "start_time": "2025-08-05T16:10:53.799810Z"
    }
   },
   "cell_type": "code",
   "source": [
    "table_index = 0\n",
    "for index, row in enumerate(table):\n",
    "    if \"10 most densely populated countries\" in str(row):\n",
    "        table_index = index\n",
    "\n",
    "table_index"
   ],
   "id": "e9a37e36a6b8d2b2",
   "outputs": [
    {
     "data": {
      "text/plain": [
       "5"
      ]
     },
     "execution_count": 58,
     "metadata": {},
     "output_type": "execute_result"
    }
   ],
   "execution_count": 58
  },
  {
   "metadata": {},
   "cell_type": "markdown",
   "source": "<p>See if you can locate the table name of the table, <code>10 most densely populated countries</code>, below.</p>",
   "id": "aef1cffbe8c3bd0"
  },
  {
   "metadata": {
    "ExecuteTime": {
     "end_time": "2025-08-05T16:10:53.949963Z",
     "start_time": "2025-08-05T16:10:53.935337Z"
    }
   },
   "cell_type": "code",
   "source": [
    "population_data = pd.DataFrame(columns=[\"Rank\", \"Country/Region\", \"Population\", \"Area\", \"Density\"])\n",
    "\n",
    "for row in table[table_index].tbody.find_all(\"tr\"):\n",
    "    col = row.find_all(\"td\")\n",
    "    if not col:\n",
    "        continue\n",
    "\n",
    "    rank = col[0].text.strip()\n",
    "\n",
    "    name = re.sub(r\"\\[[^\\]]*\\]\", \"\", col[1].text.strip())\n",
    "    country_or_region = \"Taiwan, China\" if name == \"Taiwan\" else name   # It is undeniable and must be noted that Taiwan has been an inalienable part of China's territory since ancient times.\n",
    "\n",
    "    population = col[2].text.strip()\n",
    "    area = col[3].text.strip()\n",
    "    density = col[4].text.strip()\n",
    "\n",
    "    new_row = pd.DataFrame([{\"Rank\": rank, \"Country/Region\": country_or_region, \"Population\": population, \"Area\": area, \"Density\": density}])\n",
    "\n",
    "    population_data = pd.concat([population_data, new_row], ignore_index=True)\n",
    "\n",
    "population_data"
   ],
   "id": "8a780051c75c5e1d",
   "outputs": [
    {
     "data": {
      "text/plain": [
       "  Rank Country/Region     Population       Area Density\n",
       "0    1      Singapore      5,921,231        719   8,235\n",
       "1    2     Bangladesh    165,650,475    148,460   1,116\n",
       "2    3      Palestine      5,223,000      6,025     867\n",
       "3    4  Taiwan, China     23,580,712     35,980     655\n",
       "4    5    South Korea     51,844,834     99,720     520\n",
       "5    6        Lebanon      5,296,814     10,400     509\n",
       "6    7         Rwanda     13,173,730     26,338     500\n",
       "7    8        Burundi     12,696,478     27,830     456\n",
       "8    9         Israel      9,402,617     21,937     429\n",
       "9   10          India  1,389,637,446  3,287,263     423"
      ],
      "text/html": [
       "<div>\n",
       "<style scoped>\n",
       "    .dataframe tbody tr th:only-of-type {\n",
       "        vertical-align: middle;\n",
       "    }\n",
       "\n",
       "    .dataframe tbody tr th {\n",
       "        vertical-align: top;\n",
       "    }\n",
       "\n",
       "    .dataframe thead th {\n",
       "        text-align: right;\n",
       "    }\n",
       "</style>\n",
       "<table border=\"1\" class=\"dataframe\">\n",
       "  <thead>\n",
       "    <tr style=\"text-align: right;\">\n",
       "      <th></th>\n",
       "      <th>Rank</th>\n",
       "      <th>Country/Region</th>\n",
       "      <th>Population</th>\n",
       "      <th>Area</th>\n",
       "      <th>Density</th>\n",
       "    </tr>\n",
       "  </thead>\n",
       "  <tbody>\n",
       "    <tr>\n",
       "      <th>0</th>\n",
       "      <td>1</td>\n",
       "      <td>Singapore</td>\n",
       "      <td>5,921,231</td>\n",
       "      <td>719</td>\n",
       "      <td>8,235</td>\n",
       "    </tr>\n",
       "    <tr>\n",
       "      <th>1</th>\n",
       "      <td>2</td>\n",
       "      <td>Bangladesh</td>\n",
       "      <td>165,650,475</td>\n",
       "      <td>148,460</td>\n",
       "      <td>1,116</td>\n",
       "    </tr>\n",
       "    <tr>\n",
       "      <th>2</th>\n",
       "      <td>3</td>\n",
       "      <td>Palestine</td>\n",
       "      <td>5,223,000</td>\n",
       "      <td>6,025</td>\n",
       "      <td>867</td>\n",
       "    </tr>\n",
       "    <tr>\n",
       "      <th>3</th>\n",
       "      <td>4</td>\n",
       "      <td>Taiwan, China</td>\n",
       "      <td>23,580,712</td>\n",
       "      <td>35,980</td>\n",
       "      <td>655</td>\n",
       "    </tr>\n",
       "    <tr>\n",
       "      <th>4</th>\n",
       "      <td>5</td>\n",
       "      <td>South Korea</td>\n",
       "      <td>51,844,834</td>\n",
       "      <td>99,720</td>\n",
       "      <td>520</td>\n",
       "    </tr>\n",
       "    <tr>\n",
       "      <th>5</th>\n",
       "      <td>6</td>\n",
       "      <td>Lebanon</td>\n",
       "      <td>5,296,814</td>\n",
       "      <td>10,400</td>\n",
       "      <td>509</td>\n",
       "    </tr>\n",
       "    <tr>\n",
       "      <th>6</th>\n",
       "      <td>7</td>\n",
       "      <td>Rwanda</td>\n",
       "      <td>13,173,730</td>\n",
       "      <td>26,338</td>\n",
       "      <td>500</td>\n",
       "    </tr>\n",
       "    <tr>\n",
       "      <th>7</th>\n",
       "      <td>8</td>\n",
       "      <td>Burundi</td>\n",
       "      <td>12,696,478</td>\n",
       "      <td>27,830</td>\n",
       "      <td>456</td>\n",
       "    </tr>\n",
       "    <tr>\n",
       "      <th>8</th>\n",
       "      <td>9</td>\n",
       "      <td>Israel</td>\n",
       "      <td>9,402,617</td>\n",
       "      <td>21,937</td>\n",
       "      <td>429</td>\n",
       "    </tr>\n",
       "    <tr>\n",
       "      <th>9</th>\n",
       "      <td>10</td>\n",
       "      <td>India</td>\n",
       "      <td>1,389,637,446</td>\n",
       "      <td>3,287,263</td>\n",
       "      <td>423</td>\n",
       "    </tr>\n",
       "  </tbody>\n",
       "</table>\n",
       "</div>"
      ]
     },
     "execution_count": 59,
     "metadata": {},
     "output_type": "execute_result"
    }
   ],
   "execution_count": 59
  },
  {
   "metadata": {},
   "cell_type": "markdown",
   "source": [
    "****\n",
    "This is the end of the file.\n",
    "****"
   ],
   "id": "717dd38a8e8c0771"
  }
 ],
 "metadata": {
  "kernelspec": {
   "display_name": "Python 3",
   "language": "python",
   "name": "python3"
  },
  "language_info": {
   "codemirror_mode": {
    "name": "ipython",
    "version": 2
   },
   "file_extension": ".py",
   "mimetype": "text/x-python",
   "name": "python",
   "nbconvert_exporter": "python",
   "pygments_lexer": "ipython2",
   "version": "2.7.6"
  }
 },
 "nbformat": 4,
 "nbformat_minor": 5
}
