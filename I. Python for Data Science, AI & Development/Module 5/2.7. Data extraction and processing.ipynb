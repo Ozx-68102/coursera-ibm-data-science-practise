{
 "cells": [
  {
   "metadata": {},
   "cell_type": "markdown",
   "source": "### Importing Required Libraries",
   "id": "15b20c65302d5c05"
  },
  {
   "metadata": {
    "ExecuteTime": {
     "end_time": "2025-06-27T12:41:52.148963Z",
     "start_time": "2025-06-27T12:41:51.935570Z"
    }
   },
   "cell_type": "code",
   "source": [
    "import os\n",
    "import numpy as np\n",
    "import pandas as pd"
   ],
   "id": "a281d20345c217fc",
   "outputs": [],
   "execution_count": 1
  },
  {
   "metadata": {},
   "cell_type": "markdown",
   "source": "### Exercise 1",
   "id": "bf82c77e2d4aa86a"
  },
  {
   "metadata": {},
   "cell_type": "markdown",
   "source": "<p>Extract the required GDP data from the given URL using Web Scraping.</p>",
   "id": "2a43ccdf3633db2f"
  },
  {
   "metadata": {
    "ExecuteTime": {
     "end_time": "2025-06-27T12:41:52.233605Z",
     "start_time": "2025-06-27T12:41:52.230093Z"
    }
   },
   "cell_type": "code",
   "source": "url = \"https://web.archive.org/web/20230902185326/https://en.wikipedia.org/wiki/List_of_countries_by_GDP_%28nominal%29\"",
   "id": "72b645cdabb251a6",
   "outputs": [],
   "execution_count": 2
  },
  {
   "metadata": {},
   "cell_type": "markdown",
   "source": "<p>You can use Pandas library to extract the required table directly as a DataFrame. Note that the required table is the third one on the website, as shown in the image below.</p>",
   "id": "379ffef48c026677"
  },
  {
   "metadata": {},
   "cell_type": "markdown",
   "source": "<img src=\"./data/pic_mainly_for_md/pandas_wbs_3.png\" />",
   "id": "910b31210ed07224"
  },
  {
   "metadata": {
    "ExecuteTime": {
     "end_time": "2025-06-27T12:41:53.645326Z",
     "start_time": "2025-06-27T12:41:52.246110Z"
    }
   },
   "cell_type": "code",
   "source": [
    "tables = pd.read_html(url)\n",
    "df = tables[3]\n",
    "df.columns = range(df.shape[1])\n",
    "df = df [[0, 2]]\n",
    "df = df.iloc[1: 11, :]\n",
    "df.columns = [\"Country\", \"GDP (Million USD)\"]\n",
    "df"
   ],
   "id": "f82343e2437322dc",
   "outputs": [
    {
     "data": {
      "text/plain": [
       "           Country GDP (Million USD)\n",
       "1    United States          26854599\n",
       "2            China          19373586\n",
       "3            Japan           4409738\n",
       "4          Germany           4308854\n",
       "5            India           3736882\n",
       "6   United Kingdom           3158938\n",
       "7           France           2923489\n",
       "8            Italy           2169745\n",
       "9           Canada           2089672\n",
       "10          Brazil           2081235"
      ],
      "text/html": [
       "<div>\n",
       "<style scoped>\n",
       "    .dataframe tbody tr th:only-of-type {\n",
       "        vertical-align: middle;\n",
       "    }\n",
       "\n",
       "    .dataframe tbody tr th {\n",
       "        vertical-align: top;\n",
       "    }\n",
       "\n",
       "    .dataframe thead th {\n",
       "        text-align: right;\n",
       "    }\n",
       "</style>\n",
       "<table border=\"1\" class=\"dataframe\">\n",
       "  <thead>\n",
       "    <tr style=\"text-align: right;\">\n",
       "      <th></th>\n",
       "      <th>Country</th>\n",
       "      <th>GDP (Million USD)</th>\n",
       "    </tr>\n",
       "  </thead>\n",
       "  <tbody>\n",
       "    <tr>\n",
       "      <th>1</th>\n",
       "      <td>United States</td>\n",
       "      <td>26854599</td>\n",
       "    </tr>\n",
       "    <tr>\n",
       "      <th>2</th>\n",
       "      <td>China</td>\n",
       "      <td>19373586</td>\n",
       "    </tr>\n",
       "    <tr>\n",
       "      <th>3</th>\n",
       "      <td>Japan</td>\n",
       "      <td>4409738</td>\n",
       "    </tr>\n",
       "    <tr>\n",
       "      <th>4</th>\n",
       "      <td>Germany</td>\n",
       "      <td>4308854</td>\n",
       "    </tr>\n",
       "    <tr>\n",
       "      <th>5</th>\n",
       "      <td>India</td>\n",
       "      <td>3736882</td>\n",
       "    </tr>\n",
       "    <tr>\n",
       "      <th>6</th>\n",
       "      <td>United Kingdom</td>\n",
       "      <td>3158938</td>\n",
       "    </tr>\n",
       "    <tr>\n",
       "      <th>7</th>\n",
       "      <td>France</td>\n",
       "      <td>2923489</td>\n",
       "    </tr>\n",
       "    <tr>\n",
       "      <th>8</th>\n",
       "      <td>Italy</td>\n",
       "      <td>2169745</td>\n",
       "    </tr>\n",
       "    <tr>\n",
       "      <th>9</th>\n",
       "      <td>Canada</td>\n",
       "      <td>2089672</td>\n",
       "    </tr>\n",
       "    <tr>\n",
       "      <th>10</th>\n",
       "      <td>Brazil</td>\n",
       "      <td>2081235</td>\n",
       "    </tr>\n",
       "  </tbody>\n",
       "</table>\n",
       "</div>"
      ]
     },
     "execution_count": 3,
     "metadata": {},
     "output_type": "execute_result"
    }
   ],
   "execution_count": 3
  },
  {
   "metadata": {},
   "cell_type": "markdown",
   "source": "### Exercise 2",
   "id": "f484eeb73e1ccbee"
  },
  {
   "metadata": {},
   "cell_type": "markdown",
   "source": "<p>Modify the GDP column of the DataFrame, converting the value available in \"Million USD\" to \"Billion USD\". Use the <code>round()</code> method of Numpy library to round the value to 2 decimal places. Modify the header of the DataFrame to <code>GDP (Billion USD)</code>.</p>",
   "id": "bc05a47a4557e0"
  },
  {
   "metadata": {
    "ExecuteTime": {
     "end_time": "2025-06-27T12:41:53.687385Z",
     "start_time": "2025-06-27T12:41:53.678464Z"
    }
   },
   "cell_type": "code",
   "source": [
    "df[\"GDP (Million USD)\"] = df[\"GDP (Million USD)\"].astype(int)\n",
    "df[[\"GDP (Million USD)\"]] = np.round(df[[\"GDP (Million USD)\"]] / 1000, 2)\n",
    "df.rename(columns={\"GDP (Million USD)\": \"GDP (Billion USD)\"}, inplace=True)\n",
    "df"
   ],
   "id": "b374ce34e53d81c9",
   "outputs": [
    {
     "data": {
      "text/plain": [
       "           Country  GDP (Billion USD)\n",
       "1    United States           26854.60\n",
       "2            China           19373.59\n",
       "3            Japan            4409.74\n",
       "4          Germany            4308.85\n",
       "5            India            3736.88\n",
       "6   United Kingdom            3158.94\n",
       "7           France            2923.49\n",
       "8            Italy            2169.74\n",
       "9           Canada            2089.67\n",
       "10          Brazil            2081.24"
      ],
      "text/html": [
       "<div>\n",
       "<style scoped>\n",
       "    .dataframe tbody tr th:only-of-type {\n",
       "        vertical-align: middle;\n",
       "    }\n",
       "\n",
       "    .dataframe tbody tr th {\n",
       "        vertical-align: top;\n",
       "    }\n",
       "\n",
       "    .dataframe thead th {\n",
       "        text-align: right;\n",
       "    }\n",
       "</style>\n",
       "<table border=\"1\" class=\"dataframe\">\n",
       "  <thead>\n",
       "    <tr style=\"text-align: right;\">\n",
       "      <th></th>\n",
       "      <th>Country</th>\n",
       "      <th>GDP (Billion USD)</th>\n",
       "    </tr>\n",
       "  </thead>\n",
       "  <tbody>\n",
       "    <tr>\n",
       "      <th>1</th>\n",
       "      <td>United States</td>\n",
       "      <td>26854.60</td>\n",
       "    </tr>\n",
       "    <tr>\n",
       "      <th>2</th>\n",
       "      <td>China</td>\n",
       "      <td>19373.59</td>\n",
       "    </tr>\n",
       "    <tr>\n",
       "      <th>3</th>\n",
       "      <td>Japan</td>\n",
       "      <td>4409.74</td>\n",
       "    </tr>\n",
       "    <tr>\n",
       "      <th>4</th>\n",
       "      <td>Germany</td>\n",
       "      <td>4308.85</td>\n",
       "    </tr>\n",
       "    <tr>\n",
       "      <th>5</th>\n",
       "      <td>India</td>\n",
       "      <td>3736.88</td>\n",
       "    </tr>\n",
       "    <tr>\n",
       "      <th>6</th>\n",
       "      <td>United Kingdom</td>\n",
       "      <td>3158.94</td>\n",
       "    </tr>\n",
       "    <tr>\n",
       "      <th>7</th>\n",
       "      <td>France</td>\n",
       "      <td>2923.49</td>\n",
       "    </tr>\n",
       "    <tr>\n",
       "      <th>8</th>\n",
       "      <td>Italy</td>\n",
       "      <td>2169.74</td>\n",
       "    </tr>\n",
       "    <tr>\n",
       "      <th>9</th>\n",
       "      <td>Canada</td>\n",
       "      <td>2089.67</td>\n",
       "    </tr>\n",
       "    <tr>\n",
       "      <th>10</th>\n",
       "      <td>Brazil</td>\n",
       "      <td>2081.24</td>\n",
       "    </tr>\n",
       "  </tbody>\n",
       "</table>\n",
       "</div>"
      ]
     },
     "execution_count": 4,
     "metadata": {},
     "output_type": "execute_result"
    }
   ],
   "execution_count": 4
  },
  {
   "metadata": {},
   "cell_type": "markdown",
   "source": "### Exercise 3",
   "id": "19d9c41d8eef0659"
  },
  {
   "metadata": {},
   "cell_type": "markdown",
   "source": "<p>Load the DataFrame to the CSV file named \"Largest_economies.csv\".</p>",
   "id": "a0ddec9e4783bd2e"
  },
  {
   "metadata": {
    "ExecuteTime": {
     "end_time": "2025-06-27T12:41:53.783705Z",
     "start_time": "2025-06-27T12:41:53.778417Z"
    }
   },
   "cell_type": "code",
   "source": [
    "dir_path = os.path.join(\".\", \"data\")\n",
    "csv_name = os.path.join(dir_path, \"Largest_economies.csv\")\n",
    "df.to_csv(csv_name)"
   ],
   "id": "a893aee19911e531",
   "outputs": [],
   "execution_count": 5
  },
  {
   "metadata": {},
   "cell_type": "markdown",
   "source": [
    "****\n",
    "This is the end of the file.\n",
    "****"
   ],
   "id": "c0eee72245d939c"
  }
 ],
 "metadata": {
  "kernelspec": {
   "display_name": "Python 3",
   "language": "python",
   "name": "python3"
  },
  "language_info": {
   "codemirror_mode": {
    "name": "ipython",
    "version": 2
   },
   "file_extension": ".py",
   "mimetype": "text/x-python",
   "name": "python",
   "nbconvert_exporter": "python",
   "pygments_lexer": "ipython2",
   "version": "2.7.6"
  }
 },
 "nbformat": 4,
 "nbformat_minor": 5
}
