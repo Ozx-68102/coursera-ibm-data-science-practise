{
 "cells": [
  {
   "metadata": {},
   "cell_type": "markdown",
   "source": "from bs4 import BeautifulSoup# Cheat Sheet: APIs and Data Collection",
   "id": "cbfbc0be251280ec"
  },
  {
   "metadata": {
    "ExecuteTime": {
     "end_time": "2025-07-06T05:36:37.786133Z",
     "start_time": "2025-07-06T05:36:37.464235Z"
    }
   },
   "cell_type": "code",
   "source": [
    "from bs4 import BeautifulSoup\n",
    "import requests\n",
    "import warnings"
   ],
   "id": "7418a1d741cbb5be",
   "outputs": [],
   "execution_count": 1
  },
  {
   "metadata": {},
   "cell_type": "markdown",
   "source": "## 1. `BeautifulSoup()`",
   "id": "c0f869d08f43429e"
  },
  {
   "metadata": {},
   "cell_type": "markdown",
   "source": "<p>Parse the HTML content of a web page using BeautifulSoup. The parser type can vary based on the project.</p>",
   "id": "98e784cbce00c933"
  },
  {
   "metadata": {},
   "cell_type": "markdown",
   "source": [
    "**Syntax**:\n",
    "```python\n",
    "soup = BeautifulSoup(html, (html.parser))\n",
    "```"
   ],
   "id": "d15ef167854eaae2"
  },
  {
   "metadata": {
    "ExecuteTime": {
     "end_time": "2025-07-06T05:36:37.876596Z",
     "start_time": "2025-07-06T05:36:37.873510Z"
    }
   },
   "cell_type": "code",
   "source": [
    "example1 = \"<a href=\\\"https://example.com\\\" class=\\\"external-link\\\" target=\\\"_blank\\\">Visit Example</a>\"\n",
    "bs = BeautifulSoup(example1, \"html.parser\")"
   ],
   "id": "9025d212316a8079",
   "outputs": [],
   "execution_count": 2
  },
  {
   "metadata": {},
   "cell_type": "markdown",
   "source": "## 2. `find()`",
   "id": "10a5d263373d58b4"
  },
  {
   "metadata": {},
   "cell_type": "markdown",
   "source": "<p>Find the first HTML element that matches the specified tag and attributes.</p>",
   "id": "567262faf1f29410"
  },
  {
   "metadata": {},
   "cell_type": "markdown",
   "source": [
    "**Syntax**:\n",
    "```python\n",
    "element = soup.find(tag, attrs)\n",
    "```"
   ],
   "id": "6a480376ecac63f7"
  },
  {
   "metadata": {
    "ExecuteTime": {
     "end_time": "2025-07-06T05:36:37.894076Z",
     "start_time": "2025-07-06T05:36:37.891615Z"
    }
   },
   "cell_type": "code",
   "source": "element1 = bs.find(\"a\")",
   "id": "ba2a560dd3f07f65",
   "outputs": [],
   "execution_count": 3
  },
  {
   "metadata": {
    "ExecuteTime": {
     "end_time": "2025-07-06T05:36:37.910187Z",
     "start_time": "2025-07-06T05:36:37.904643Z"
    }
   },
   "cell_type": "code",
   "source": "element1",
   "id": "baffee9005b2be1c",
   "outputs": [
    {
     "data": {
      "text/plain": [
       "<a class=\"external-link\" href=\"https://example.com\" target=\"_blank\">Visit Example</a>"
      ]
     },
     "execution_count": 4,
     "metadata": {},
     "output_type": "execute_result"
    }
   ],
   "execution_count": 4
  },
  {
   "metadata": {},
   "cell_type": "markdown",
   "source": "## 3. Accessing element attribute",
   "id": "8178c005bf27a464"
  },
  {
   "metadata": {},
   "cell_type": "markdown",
   "source": "<p>Access the value of a specific attribute of an HTML element.</p>",
   "id": "efd5be3fca41aea1"
  },
  {
   "metadata": {},
   "cell_type": "markdown",
   "source": [
    "**Syntax**:\n",
    "```python\n",
    "attribute = element[(attribute)]\n",
    "```"
   ],
   "id": "d2bdddb5103f5501"
  },
  {
   "metadata": {
    "ExecuteTime": {
     "end_time": "2025-07-06T05:36:37.948707Z",
     "start_time": "2025-07-06T05:36:37.945999Z"
    }
   },
   "cell_type": "code",
   "source": "href = element1[\"href\"]",
   "id": "617e8e09e380340c",
   "outputs": [],
   "execution_count": 5
  },
  {
   "metadata": {
    "ExecuteTime": {
     "end_time": "2025-07-06T05:36:37.968303Z",
     "start_time": "2025-07-06T05:36:37.965040Z"
    }
   },
   "cell_type": "code",
   "source": "href",
   "id": "1027a3cc0e10b824",
   "outputs": [
    {
     "data": {
      "text/plain": [
       "'https://example.com'"
      ]
     },
     "execution_count": 6,
     "metadata": {},
     "output_type": "execute_result"
    }
   ],
   "execution_count": 6
  },
  {
   "metadata": {},
   "cell_type": "markdown",
   "source": "## 4. `find_all()`",
   "id": "482b776a5a7b5ad7"
  },
  {
   "metadata": {},
   "cell_type": "markdown",
   "source": "<p>Find all HTML elements that match the specified tag and attributes.</p>",
   "id": "d04a9b3a29b001b1"
  },
  {
   "metadata": {},
   "cell_type": "markdown",
   "source": [
    "**Syntax**:\n",
    "```python\n",
    "elements = soup.find_all(tag, attrs)\n",
    "```"
   ],
   "id": "a7f3c429b3506eb9"
  },
  {
   "metadata": {
    "ExecuteTime": {
     "end_time": "2025-07-06T05:36:38.172968Z",
     "start_time": "2025-07-06T05:36:38.007002Z"
    }
   },
   "cell_type": "code",
   "source": [
    "response = requests.get(\"https://www.google.com\")\n",
    "bs = BeautifulSoup(response.text, \"html.parser\")\n",
    "element2 = bs.find_all(\"div\")"
   ],
   "id": "f00c4d47e28b0686",
   "outputs": [],
   "execution_count": 7
  },
  {
   "metadata": {
    "ExecuteTime": {
     "end_time": "2025-07-06T05:36:38.189314Z",
     "start_time": "2025-07-06T05:36:38.185380Z"
    }
   },
   "cell_type": "code",
   "source": "element2",
   "id": "f7924bc1de6f2382",
   "outputs": [
    {
     "data": {
      "text/plain": [
       "[<div id=\"mngb\"><div id=\"gbar\"><nobr><b class=\"gb1\">搜尋</b> <a class=\"gb1\" href=\"https://www.google.com/imghp?hl=zh-TW&amp;tab=wi\">圖片</a> <a class=\"gb1\" href=\"https://maps.google.com.hk/maps?hl=zh-TW&amp;tab=wl\">地圖</a> <a class=\"gb1\" href=\"https://play.google.com/?hl=zh-TW&amp;tab=w8\">Play</a> <a class=\"gb1\" href=\"https://www.youtube.com/?tab=w1\">YouTube</a> <a class=\"gb1\" href=\"https://news.google.com/?tab=wn\">新聞</a> <a class=\"gb1\" href=\"https://mail.google.com/mail/?tab=wm\">Gmail</a> <a class=\"gb1\" href=\"https://drive.google.com/?tab=wo\">雲端硬碟</a> <a class=\"gb1\" href=\"https://www.google.com.hk/intl/zh-TW/about/products?tab=wh\" style=\"text-decoration:none\"><u>更多</u> »</a></nobr></div><div id=\"guser\" width=\"100%\"><nobr><span class=\"gbi\" id=\"gbn\"></span><span class=\"gbf\" id=\"gbf\"></span><span id=\"gbe\"></span><a class=\"gb4\" href=\"http://www.google.com.hk/history/optout?hl=zh-TW\">網頁記錄</a> | <a class=\"gb4\" href=\"/preferences?hl=zh-TW\">設定</a> | <a class=\"gb4\" href=\"https://accounts.google.com/ServiceLogin?hl=zh-TW&amp;passive=true&amp;continue=https://www.google.com/&amp;ec=GAZAAQ\" id=\"gb_70\" target=\"_top\">登入</a></nobr></div><div class=\"gbh\" style=\"left:0\"></div><div class=\"gbh\" style=\"right:0\"></div></div>,\n",
       " <div id=\"gbar\"><nobr><b class=\"gb1\">搜尋</b> <a class=\"gb1\" href=\"https://www.google.com/imghp?hl=zh-TW&amp;tab=wi\">圖片</a> <a class=\"gb1\" href=\"https://maps.google.com.hk/maps?hl=zh-TW&amp;tab=wl\">地圖</a> <a class=\"gb1\" href=\"https://play.google.com/?hl=zh-TW&amp;tab=w8\">Play</a> <a class=\"gb1\" href=\"https://www.youtube.com/?tab=w1\">YouTube</a> <a class=\"gb1\" href=\"https://news.google.com/?tab=wn\">新聞</a> <a class=\"gb1\" href=\"https://mail.google.com/mail/?tab=wm\">Gmail</a> <a class=\"gb1\" href=\"https://drive.google.com/?tab=wo\">雲端硬碟</a> <a class=\"gb1\" href=\"https://www.google.com.hk/intl/zh-TW/about/products?tab=wh\" style=\"text-decoration:none\"><u>更多</u> »</a></nobr></div>,\n",
       " <div id=\"guser\" width=\"100%\"><nobr><span class=\"gbi\" id=\"gbn\"></span><span class=\"gbf\" id=\"gbf\"></span><span id=\"gbe\"></span><a class=\"gb4\" href=\"http://www.google.com.hk/history/optout?hl=zh-TW\">網頁記錄</a> | <a class=\"gb4\" href=\"/preferences?hl=zh-TW\">設定</a> | <a class=\"gb4\" href=\"https://accounts.google.com/ServiceLogin?hl=zh-TW&amp;passive=true&amp;continue=https://www.google.com/&amp;ec=GAZAAQ\" id=\"gb_70\" target=\"_top\">登入</a></nobr></div>,\n",
       " <div class=\"gbh\" style=\"left:0\"></div>,\n",
       " <div class=\"gbh\" style=\"right:0\"></div>,\n",
       " <div id=\"XjhHGf\"><img alt=\"Google\" height=\"92\" id=\"hplogo\" src=\"/images/branding/googlelogo/1x/googlelogo_white_background_color_272x92dp.png\" style=\"padding:28px 0 14px\" width=\"272\"/><br/><br/></div>,\n",
       " <div class=\"ds\" style=\"height:32px;margin:4px 0\"><input autocomplete=\"off\" class=\"lst\" maxlength=\"2048\" name=\"q\" size=\"57\" style=\"margin:0;padding:5px 8px 0 6px;vertical-align:top;color:#000\" title=\"Google 搜尋\" value=\"\"/></div>,\n",
       " <div style=\"font-size:83%;min-height:3.5em\"><br/><div id=\"gws-output-pages-elements-homepage_additional_languages__als\"><style>#gws-output-pages-elements-homepage_additional_languages__als{font-size:small;margin-bottom:24px}#SIvCob{color:#545454;display:inline-block;line-height:28px;}#SIvCob a{}.H6sW5{display:inline-block;margin:0 2px;white-space:nowrap}.z4hgWe{display:inline-block;margin:0 2px}</style><div id=\"SIvCob\">Google 透過以下語言提供：  <a href=\"https://www.google.com/setprefs?sig=0_kj-Ty1QNJAI5zOwptDCmm0DQJxw%3D&amp;hl=zh-CN&amp;source=homepage&amp;sa=X&amp;ved=0ahUKEwjk9LnjwaeOAxUOdPUHHXe7BdMQ2ZgBCAY\">简体中文</a> <a href=\"https://www.google.com/setprefs?sig=0_kj-Ty1QNJAI5zOwptDCmm0DQJxw%3D&amp;hl=en&amp;source=homepage&amp;sa=X&amp;ved=0ahUKEwjk9LnjwaeOAxUOdPUHHXe7BdMQ2ZgBCAc\">English</a> </div></div></div>,\n",
       " <div id=\"gws-output-pages-elements-homepage_additional_languages__als\"><style>#gws-output-pages-elements-homepage_additional_languages__als{font-size:small;margin-bottom:24px}#SIvCob{color:#545454;display:inline-block;line-height:28px;}#SIvCob a{}.H6sW5{display:inline-block;margin:0 2px;white-space:nowrap}.z4hgWe{display:inline-block;margin:0 2px}</style><div id=\"SIvCob\">Google 透過以下語言提供：  <a href=\"https://www.google.com/setprefs?sig=0_kj-Ty1QNJAI5zOwptDCmm0DQJxw%3D&amp;hl=zh-CN&amp;source=homepage&amp;sa=X&amp;ved=0ahUKEwjk9LnjwaeOAxUOdPUHHXe7BdMQ2ZgBCAY\">简体中文</a> <a href=\"https://www.google.com/setprefs?sig=0_kj-Ty1QNJAI5zOwptDCmm0DQJxw%3D&amp;hl=en&amp;source=homepage&amp;sa=X&amp;ved=0ahUKEwjk9LnjwaeOAxUOdPUHHXe7BdMQ2ZgBCAc\">English</a> </div></div>,\n",
       " <div id=\"SIvCob\">Google 透過以下語言提供：  <a href=\"https://www.google.com/setprefs?sig=0_kj-Ty1QNJAI5zOwptDCmm0DQJxw%3D&amp;hl=zh-CN&amp;source=homepage&amp;sa=X&amp;ved=0ahUKEwjk9LnjwaeOAxUOdPUHHXe7BdMQ2ZgBCAY\">简体中文</a> <a href=\"https://www.google.com/setprefs?sig=0_kj-Ty1QNJAI5zOwptDCmm0DQJxw%3D&amp;hl=en&amp;source=homepage&amp;sa=X&amp;ved=0ahUKEwjk9LnjwaeOAxUOdPUHHXe7BdMQ2ZgBCAc\">English</a> </div>,\n",
       " <div style=\"font-size:10pt\"><div id=\"WqQANb\" style=\"margin:19px auto;text-align:center\"><a href=\"/intl/zh-TW/ads/\">廣告</a><a href=\"/intl/zh-TW/about.html\">關於 Google</a><a href=\"https://www.google.com/setprefdomain?prefdom=HK&amp;prev=https://www.google.com.hk/&amp;sig=K_kwj4mnNbK9XfW7PsbOYch1Qv-9s%3D\">Google.com.hk</a></div></div>,\n",
       " <div id=\"WqQANb\" style=\"margin:19px auto;text-align:center\"><a href=\"/intl/zh-TW/ads/\">廣告</a><a href=\"/intl/zh-TW/about.html\">關於 Google</a><a href=\"https://www.google.com/setprefdomain?prefdom=HK&amp;prev=https://www.google.com.hk/&amp;sig=K_kwj4mnNbK9XfW7PsbOYch1Qv-9s%3D\">Google.com.hk</a></div>]"
      ]
     },
     "execution_count": 8,
     "metadata": {},
     "output_type": "execute_result"
    }
   ],
   "execution_count": 8
  },
  {
   "metadata": {},
   "cell_type": "markdown",
   "source": "## 5. [Deprecated since v3.0.0] `findChildren()`",
   "id": "ad49a715f7496175"
  },
  {
   "metadata": {},
   "cell_type": "markdown",
   "source": "<p>Find all child elements of an HTML element.</p>",
   "id": "be7d00090e422206"
  },
  {
   "metadata": {},
   "cell_type": "markdown",
   "source": [
    "**Syntax**:\n",
    "```python\n",
    "children = element.findChildren()\n",
    "```"
   ],
   "id": "c53c082ed2a59016"
  },
  {
   "metadata": {
    "ExecuteTime": {
     "end_time": "2025-07-06T05:36:38.218033Z",
     "start_time": "2025-07-06T05:36:38.214702Z"
    }
   },
   "cell_type": "code",
   "source": [
    "element3 = bs.find(\"div\")\n",
    "with warnings.catch_warnings(): # ignore warnings\n",
    "    warnings.simplefilter(\"ignore\", category=DeprecationWarning)\n",
    "    element3_children = element3.findChildren()"
   ],
   "id": "e7e3f68e235d3632",
   "outputs": [],
   "execution_count": 9
  },
  {
   "metadata": {
    "ExecuteTime": {
     "end_time": "2025-07-06T05:36:38.232598Z",
     "start_time": "2025-07-06T05:36:38.228410Z"
    }
   },
   "cell_type": "code",
   "source": "element3_children",
   "id": "cdc5a24d8fd629e7",
   "outputs": [
    {
     "data": {
      "text/plain": [
       "[<div id=\"gbar\"><nobr><b class=\"gb1\">搜尋</b> <a class=\"gb1\" href=\"https://www.google.com/imghp?hl=zh-TW&amp;tab=wi\">圖片</a> <a class=\"gb1\" href=\"https://maps.google.com.hk/maps?hl=zh-TW&amp;tab=wl\">地圖</a> <a class=\"gb1\" href=\"https://play.google.com/?hl=zh-TW&amp;tab=w8\">Play</a> <a class=\"gb1\" href=\"https://www.youtube.com/?tab=w1\">YouTube</a> <a class=\"gb1\" href=\"https://news.google.com/?tab=wn\">新聞</a> <a class=\"gb1\" href=\"https://mail.google.com/mail/?tab=wm\">Gmail</a> <a class=\"gb1\" href=\"https://drive.google.com/?tab=wo\">雲端硬碟</a> <a class=\"gb1\" href=\"https://www.google.com.hk/intl/zh-TW/about/products?tab=wh\" style=\"text-decoration:none\"><u>更多</u> »</a></nobr></div>,\n",
       " <nobr><b class=\"gb1\">搜尋</b> <a class=\"gb1\" href=\"https://www.google.com/imghp?hl=zh-TW&amp;tab=wi\">圖片</a> <a class=\"gb1\" href=\"https://maps.google.com.hk/maps?hl=zh-TW&amp;tab=wl\">地圖</a> <a class=\"gb1\" href=\"https://play.google.com/?hl=zh-TW&amp;tab=w8\">Play</a> <a class=\"gb1\" href=\"https://www.youtube.com/?tab=w1\">YouTube</a> <a class=\"gb1\" href=\"https://news.google.com/?tab=wn\">新聞</a> <a class=\"gb1\" href=\"https://mail.google.com/mail/?tab=wm\">Gmail</a> <a class=\"gb1\" href=\"https://drive.google.com/?tab=wo\">雲端硬碟</a> <a class=\"gb1\" href=\"https://www.google.com.hk/intl/zh-TW/about/products?tab=wh\" style=\"text-decoration:none\"><u>更多</u> »</a></nobr>,\n",
       " <b class=\"gb1\">搜尋</b>,\n",
       " <a class=\"gb1\" href=\"https://www.google.com/imghp?hl=zh-TW&amp;tab=wi\">圖片</a>,\n",
       " <a class=\"gb1\" href=\"https://maps.google.com.hk/maps?hl=zh-TW&amp;tab=wl\">地圖</a>,\n",
       " <a class=\"gb1\" href=\"https://play.google.com/?hl=zh-TW&amp;tab=w8\">Play</a>,\n",
       " <a class=\"gb1\" href=\"https://www.youtube.com/?tab=w1\">YouTube</a>,\n",
       " <a class=\"gb1\" href=\"https://news.google.com/?tab=wn\">新聞</a>,\n",
       " <a class=\"gb1\" href=\"https://mail.google.com/mail/?tab=wm\">Gmail</a>,\n",
       " <a class=\"gb1\" href=\"https://drive.google.com/?tab=wo\">雲端硬碟</a>,\n",
       " <a class=\"gb1\" href=\"https://www.google.com.hk/intl/zh-TW/about/products?tab=wh\" style=\"text-decoration:none\"><u>更多</u> »</a>,\n",
       " <u>更多</u>,\n",
       " <div id=\"guser\" width=\"100%\"><nobr><span class=\"gbi\" id=\"gbn\"></span><span class=\"gbf\" id=\"gbf\"></span><span id=\"gbe\"></span><a class=\"gb4\" href=\"http://www.google.com.hk/history/optout?hl=zh-TW\">網頁記錄</a> | <a class=\"gb4\" href=\"/preferences?hl=zh-TW\">設定</a> | <a class=\"gb4\" href=\"https://accounts.google.com/ServiceLogin?hl=zh-TW&amp;passive=true&amp;continue=https://www.google.com/&amp;ec=GAZAAQ\" id=\"gb_70\" target=\"_top\">登入</a></nobr></div>,\n",
       " <nobr><span class=\"gbi\" id=\"gbn\"></span><span class=\"gbf\" id=\"gbf\"></span><span id=\"gbe\"></span><a class=\"gb4\" href=\"http://www.google.com.hk/history/optout?hl=zh-TW\">網頁記錄</a> | <a class=\"gb4\" href=\"/preferences?hl=zh-TW\">設定</a> | <a class=\"gb4\" href=\"https://accounts.google.com/ServiceLogin?hl=zh-TW&amp;passive=true&amp;continue=https://www.google.com/&amp;ec=GAZAAQ\" id=\"gb_70\" target=\"_top\">登入</a></nobr>,\n",
       " <span class=\"gbi\" id=\"gbn\"></span>,\n",
       " <span class=\"gbf\" id=\"gbf\"></span>,\n",
       " <span id=\"gbe\"></span>,\n",
       " <a class=\"gb4\" href=\"http://www.google.com.hk/history/optout?hl=zh-TW\">網頁記錄</a>,\n",
       " <a class=\"gb4\" href=\"/preferences?hl=zh-TW\">設定</a>,\n",
       " <a class=\"gb4\" href=\"https://accounts.google.com/ServiceLogin?hl=zh-TW&amp;passive=true&amp;continue=https://www.google.com/&amp;ec=GAZAAQ\" id=\"gb_70\" target=\"_top\">登入</a>,\n",
       " <div class=\"gbh\" style=\"left:0\"></div>,\n",
       " <div class=\"gbh\" style=\"right:0\"></div>]"
      ]
     },
     "execution_count": 10,
     "metadata": {},
     "output_type": "execute_result"
    }
   ],
   "execution_count": 10
  },
  {
   "metadata": {},
   "cell_type": "markdown",
   "source": "## 6. `find_next_sibling()`",
   "id": "b6b2f5ccf0a820bc"
  },
  {
   "metadata": {},
   "cell_type": "markdown",
   "source": "<p>Find the next sibling element in the DOM.</p>",
   "id": "156ba8c019dce348"
  },
  {
   "metadata": {},
   "cell_type": "markdown",
   "source": [
    "**Syntax**:\n",
    "```python\n",
    "sibling = element.find_next_sibling()\n",
    "```"
   ],
   "id": "8f867fd35e7d82"
  },
  {
   "metadata": {
    "ExecuteTime": {
     "end_time": "2025-07-06T05:36:38.258735Z",
     "start_time": "2025-07-06T05:36:38.254157Z"
    }
   },
   "cell_type": "code",
   "source": "element3.find_next_sibling()",
   "id": "f9b6c4544868a11a",
   "outputs": [
    {
     "data": {
      "text/plain": [
       "<center><br clear=\"all\" id=\"lgpd\"/><div id=\"XjhHGf\"><img alt=\"Google\" height=\"92\" id=\"hplogo\" src=\"/images/branding/googlelogo/1x/googlelogo_white_background_color_272x92dp.png\" style=\"padding:28px 0 14px\" width=\"272\"/><br/><br/></div><form action=\"/search\" name=\"f\"><table cellpadding=\"0\" cellspacing=\"0\"><tr valign=\"top\"><td width=\"25%\"> </td><td align=\"center\" nowrap=\"\"><input name=\"ie\" type=\"hidden\" value=\"ISO-8859-1\"/><input name=\"hl\" type=\"hidden\" value=\"zh-HK\"/><input name=\"source\" type=\"hidden\" value=\"hp\"/><input name=\"biw\" type=\"hidden\"/><input name=\"bih\" type=\"hidden\"/><div class=\"ds\" style=\"height:32px;margin:4px 0\"><input autocomplete=\"off\" class=\"lst\" maxlength=\"2048\" name=\"q\" size=\"57\" style=\"margin:0;padding:5px 8px 0 6px;vertical-align:top;color:#000\" title=\"Google 搜尋\" value=\"\"/></div><br style=\"line-height:0\"/><span class=\"ds\"><span class=\"lsbb\"><input class=\"lsb\" name=\"btnG\" type=\"submit\" value=\"Google 搜尋\"/></span></span><span class=\"ds\"><span class=\"lsbb\"><input class=\"lsb\" id=\"tsuid_ZgtqaOSpBY7o1e8P9_aWmA0_1\" name=\"btnI\" type=\"submit\" value=\"好手氣\"/><script nonce=\"TXkFwUOHk0ET3dQZGxeH2Q\">(function(){var id='tsuid_ZgtqaOSpBY7o1e8P9_aWmA0_1';document.getElementById(id).onclick = function(){if (this.form.q.value){this.checked = 1;if (this.form.iflsig)this.form.iflsig.disabled = false;}\n",
       "else top.location='/doodles/';};})();</script><input name=\"iflsig\" type=\"hidden\" value=\"AOw8s4IAAAAAaGoZdkTWvYpbcF-MlMTHjTC8JlugILlj\"/></span></span></td><td align=\"left\" class=\"fl sblc\" nowrap=\"\" width=\"25%\"><a href=\"/advanced_search?hl=zh-HK&amp;authuser=0\">進階搜尋</a></td></tr></table><input id=\"gbv\" name=\"gbv\" type=\"hidden\" value=\"1\"/><script nonce=\"TXkFwUOHk0ET3dQZGxeH2Q\">(function(){var a,b=\"1\";if(document&&document.getElementById)if(typeof XMLHttpRequest!=\"undefined\")b=\"2\";else if(typeof ActiveXObject!=\"undefined\"){var c,d,e=[\"MSXML2.XMLHTTP.6.0\",\"MSXML2.XMLHTTP.3.0\",\"MSXML2.XMLHTTP\",\"Microsoft.XMLHTTP\"];for(c=0;d=e[c++];)try{new ActiveXObject(d),b=\"2\"}catch(h){}}a=b;if(a==\"2\"&&location.search.indexOf(\"&gbv=2\")==-1){var f=google.gbvu,g=document.getElementById(\"gbv\");g&&(g.value=a);f&&window.setTimeout(function(){location.href=f},0)};}).call(this);</script></form><div style=\"font-size:83%;min-height:3.5em\"><br/><div id=\"gws-output-pages-elements-homepage_additional_languages__als\"><style>#gws-output-pages-elements-homepage_additional_languages__als{font-size:small;margin-bottom:24px}#SIvCob{color:#545454;display:inline-block;line-height:28px;}#SIvCob a{}.H6sW5{display:inline-block;margin:0 2px;white-space:nowrap}.z4hgWe{display:inline-block;margin:0 2px}</style><div id=\"SIvCob\">Google 透過以下語言提供：  <a href=\"https://www.google.com/setprefs?sig=0_kj-Ty1QNJAI5zOwptDCmm0DQJxw%3D&amp;hl=zh-CN&amp;source=homepage&amp;sa=X&amp;ved=0ahUKEwjk9LnjwaeOAxUOdPUHHXe7BdMQ2ZgBCAY\">简体中文</a> <a href=\"https://www.google.com/setprefs?sig=0_kj-Ty1QNJAI5zOwptDCmm0DQJxw%3D&amp;hl=en&amp;source=homepage&amp;sa=X&amp;ved=0ahUKEwjk9LnjwaeOAxUOdPUHHXe7BdMQ2ZgBCAc\">English</a> </div></div></div><span id=\"footer\"><div style=\"font-size:10pt\"><div id=\"WqQANb\" style=\"margin:19px auto;text-align:center\"><a href=\"/intl/zh-TW/ads/\">廣告</a><a href=\"/intl/zh-TW/about.html\">關於 Google</a><a href=\"https://www.google.com/setprefdomain?prefdom=HK&amp;prev=https://www.google.com.hk/&amp;sig=K_kwj4mnNbK9XfW7PsbOYch1Qv-9s%3D\">Google.com.hk</a></div></div><p style=\"font-size:8pt;color:#636363\">© 2025 - <a href=\"/intl/zh-TW/policies/privacy/\">私隱權政策</a> - <a href=\"/intl/zh-TW/policies/terms/\">條款</a></p></span></center>"
      ]
     },
     "execution_count": 11,
     "metadata": {},
     "output_type": "execute_result"
    }
   ],
   "execution_count": 11
  },
  {
   "metadata": {},
   "cell_type": "markdown",
   "source": "## 7. parent",
   "id": "46619979a4f66675"
  },
  {
   "metadata": {},
   "cell_type": "markdown",
   "source": "<p>Access the parent element in the Document Object Model (DOM).</p>",
   "id": "d348d5e699c6ad16"
  },
  {
   "metadata": {},
   "cell_type": "markdown",
   "source": [
    "**Syntax**:\n",
    "```python\n",
    "parent = element.parent\n",
    "```"
   ],
   "id": "b5cf59d45bf16854"
  },
  {
   "metadata": {
    "ExecuteTime": {
     "end_time": "2025-07-06T05:36:38.287479Z",
     "start_time": "2025-07-06T05:36:38.284565Z"
    }
   },
   "cell_type": "code",
   "source": "parent = element3.parent",
   "id": "67ff71f7d9d68af0",
   "outputs": [],
   "execution_count": 12
  },
  {
   "metadata": {
    "ExecuteTime": {
     "end_time": "2025-07-06T05:36:38.315782Z",
     "start_time": "2025-07-06T05:36:38.310658Z"
    }
   },
   "cell_type": "code",
   "source": "parent",
   "id": "ee3e44087a72bf17",
   "outputs": [
    {
     "data": {
      "text/plain": [
       "<body bgcolor=\"#fff\"><script nonce=\"TXkFwUOHk0ET3dQZGxeH2Q\">(function(){var src='/images/nav_logo229.png';var iesg=false;document.body.onload = function(){window.n && window.n();if (document.images){new Image().src=src;}\n",
       "if (!iesg){document.f&&document.f.q.focus();document.gbqf&&document.gbqf.q.focus();}\n",
       "}\n",
       "})();</script><div id=\"mngb\"><div id=\"gbar\"><nobr><b class=\"gb1\">搜尋</b> <a class=\"gb1\" href=\"https://www.google.com/imghp?hl=zh-TW&amp;tab=wi\">圖片</a> <a class=\"gb1\" href=\"https://maps.google.com.hk/maps?hl=zh-TW&amp;tab=wl\">地圖</a> <a class=\"gb1\" href=\"https://play.google.com/?hl=zh-TW&amp;tab=w8\">Play</a> <a class=\"gb1\" href=\"https://www.youtube.com/?tab=w1\">YouTube</a> <a class=\"gb1\" href=\"https://news.google.com/?tab=wn\">新聞</a> <a class=\"gb1\" href=\"https://mail.google.com/mail/?tab=wm\">Gmail</a> <a class=\"gb1\" href=\"https://drive.google.com/?tab=wo\">雲端硬碟</a> <a class=\"gb1\" href=\"https://www.google.com.hk/intl/zh-TW/about/products?tab=wh\" style=\"text-decoration:none\"><u>更多</u> »</a></nobr></div><div id=\"guser\" width=\"100%\"><nobr><span class=\"gbi\" id=\"gbn\"></span><span class=\"gbf\" id=\"gbf\"></span><span id=\"gbe\"></span><a class=\"gb4\" href=\"http://www.google.com.hk/history/optout?hl=zh-TW\">網頁記錄</a> | <a class=\"gb4\" href=\"/preferences?hl=zh-TW\">設定</a> | <a class=\"gb4\" href=\"https://accounts.google.com/ServiceLogin?hl=zh-TW&amp;passive=true&amp;continue=https://www.google.com/&amp;ec=GAZAAQ\" id=\"gb_70\" target=\"_top\">登入</a></nobr></div><div class=\"gbh\" style=\"left:0\"></div><div class=\"gbh\" style=\"right:0\"></div></div><center><br clear=\"all\" id=\"lgpd\"/><div id=\"XjhHGf\"><img alt=\"Google\" height=\"92\" id=\"hplogo\" src=\"/images/branding/googlelogo/1x/googlelogo_white_background_color_272x92dp.png\" style=\"padding:28px 0 14px\" width=\"272\"/><br/><br/></div><form action=\"/search\" name=\"f\"><table cellpadding=\"0\" cellspacing=\"0\"><tr valign=\"top\"><td width=\"25%\"> </td><td align=\"center\" nowrap=\"\"><input name=\"ie\" type=\"hidden\" value=\"ISO-8859-1\"/><input name=\"hl\" type=\"hidden\" value=\"zh-HK\"/><input name=\"source\" type=\"hidden\" value=\"hp\"/><input name=\"biw\" type=\"hidden\"/><input name=\"bih\" type=\"hidden\"/><div class=\"ds\" style=\"height:32px;margin:4px 0\"><input autocomplete=\"off\" class=\"lst\" maxlength=\"2048\" name=\"q\" size=\"57\" style=\"margin:0;padding:5px 8px 0 6px;vertical-align:top;color:#000\" title=\"Google 搜尋\" value=\"\"/></div><br style=\"line-height:0\"/><span class=\"ds\"><span class=\"lsbb\"><input class=\"lsb\" name=\"btnG\" type=\"submit\" value=\"Google 搜尋\"/></span></span><span class=\"ds\"><span class=\"lsbb\"><input class=\"lsb\" id=\"tsuid_ZgtqaOSpBY7o1e8P9_aWmA0_1\" name=\"btnI\" type=\"submit\" value=\"好手氣\"/><script nonce=\"TXkFwUOHk0ET3dQZGxeH2Q\">(function(){var id='tsuid_ZgtqaOSpBY7o1e8P9_aWmA0_1';document.getElementById(id).onclick = function(){if (this.form.q.value){this.checked = 1;if (this.form.iflsig)this.form.iflsig.disabled = false;}\n",
       "else top.location='/doodles/';};})();</script><input name=\"iflsig\" type=\"hidden\" value=\"AOw8s4IAAAAAaGoZdkTWvYpbcF-MlMTHjTC8JlugILlj\"/></span></span></td><td align=\"left\" class=\"fl sblc\" nowrap=\"\" width=\"25%\"><a href=\"/advanced_search?hl=zh-HK&amp;authuser=0\">進階搜尋</a></td></tr></table><input id=\"gbv\" name=\"gbv\" type=\"hidden\" value=\"1\"/><script nonce=\"TXkFwUOHk0ET3dQZGxeH2Q\">(function(){var a,b=\"1\";if(document&&document.getElementById)if(typeof XMLHttpRequest!=\"undefined\")b=\"2\";else if(typeof ActiveXObject!=\"undefined\"){var c,d,e=[\"MSXML2.XMLHTTP.6.0\",\"MSXML2.XMLHTTP.3.0\",\"MSXML2.XMLHTTP\",\"Microsoft.XMLHTTP\"];for(c=0;d=e[c++];)try{new ActiveXObject(d),b=\"2\"}catch(h){}}a=b;if(a==\"2\"&&location.search.indexOf(\"&gbv=2\")==-1){var f=google.gbvu,g=document.getElementById(\"gbv\");g&&(g.value=a);f&&window.setTimeout(function(){location.href=f},0)};}).call(this);</script></form><div style=\"font-size:83%;min-height:3.5em\"><br/><div id=\"gws-output-pages-elements-homepage_additional_languages__als\"><style>#gws-output-pages-elements-homepage_additional_languages__als{font-size:small;margin-bottom:24px}#SIvCob{color:#545454;display:inline-block;line-height:28px;}#SIvCob a{}.H6sW5{display:inline-block;margin:0 2px;white-space:nowrap}.z4hgWe{display:inline-block;margin:0 2px}</style><div id=\"SIvCob\">Google 透過以下語言提供：  <a href=\"https://www.google.com/setprefs?sig=0_kj-Ty1QNJAI5zOwptDCmm0DQJxw%3D&amp;hl=zh-CN&amp;source=homepage&amp;sa=X&amp;ved=0ahUKEwjk9LnjwaeOAxUOdPUHHXe7BdMQ2ZgBCAY\">简体中文</a> <a href=\"https://www.google.com/setprefs?sig=0_kj-Ty1QNJAI5zOwptDCmm0DQJxw%3D&amp;hl=en&amp;source=homepage&amp;sa=X&amp;ved=0ahUKEwjk9LnjwaeOAxUOdPUHHXe7BdMQ2ZgBCAc\">English</a> </div></div></div><span id=\"footer\"><div style=\"font-size:10pt\"><div id=\"WqQANb\" style=\"margin:19px auto;text-align:center\"><a href=\"/intl/zh-TW/ads/\">廣告</a><a href=\"/intl/zh-TW/about.html\">關於 Google</a><a href=\"https://www.google.com/setprefdomain?prefdom=HK&amp;prev=https://www.google.com.hk/&amp;sig=K_kwj4mnNbK9XfW7PsbOYch1Qv-9s%3D\">Google.com.hk</a></div></div><p style=\"font-size:8pt;color:#636363\">© 2025 - <a href=\"/intl/zh-TW/policies/privacy/\">私隱權政策</a> - <a href=\"/intl/zh-TW/policies/terms/\">條款</a></p></span></center><script nonce=\"TXkFwUOHk0ET3dQZGxeH2Q\">(function(){window.google.cdo={height:757,width:1440};(function(){var a=window.innerWidth,b=window.innerHeight;if(!a||!b){var c=window.document,d=c.compatMode==\"CSS1Compat\"?c.documentElement:c.body;a=d.clientWidth;b=d.clientHeight}if(a&&b&&(a!=google.cdo.width||b!=google.cdo.height)){var e=google,f=e.log,g=\"/client_204?&atyp=i&biw=\"+a+\"&bih=\"+b+\"&ei=\"+google.kEI,h=\"\",k=window.google&&window.google.kOPI||null;k&&(h+=\"&opi=\"+k);f.call(e,\"\",\"\",g+h)};}).call(this);})();(function(){google.xjs={basecomb:'/xjs/_/js/k\\x3dxjs.hp.en.Q7_PF2bJR9M.es5.O/ck\\x3dxjs.hp.daYH4QeMbUw.L.X.O/am\\x3dAAAAAAAgAAAAAAAAAAAAAAAAAAAAAAAAAAAAAFAiEAAAAIAIAgAAAAAgAAAAAAAAAAAAAGAEAAABAASCBAAAShLAOBAAYAEAJRAAOUDpAQAAAoAAAAAIAAgAAACIAAAIAAAg4AQAAAAYAOFxQAAAACAgFgAEAAAAEI8/d\\x3d1/ed\\x3d1/dg\\x3d0/ujg\\x3d1/rs\\x3dACT90oErCZ_CwB5ipTeUKm-n4FPGeFpaCg',basecss:'/xjs/_/ss/k\\x3dxjs.hp.daYH4QeMbUw.L.X.O/am\\x3dAAAAAAAgAAAAAAAAAAAAAAAAAAAAAAAAAAAAAFAiEAAAAIAAAgAAAAAAAAAAAAAAAAAAAEAEAAABAASCBAAASgLAAAAAYAEAJRAAOUDpAQAAAoAAAAAIAAgAAACIAAAIAAAgYAQAAAAAAAAQAAAAACAgAg/rs\\x3dACT90oF23pF8Hr4H33ex8gVh6EVTmAacsw',basejs:'/xjs/_/js/k\\x3dxjs.hp.en.Q7_PF2bJR9M.es5.O/am\\x3dAAAAAAAAAAAAAAAAAAAAAAAAAAAAAAAAAAAAAAAAAAAAAAAIAAAAAAAgAAAAAAAAAAAAACAEAAABAAAAAAAAABAAOBAAQAEAAAAAOAAAAAAAAIAAAAAAAAAAAAAAAAAAAAAA4AAAAAAYAOFxQAAAACAgFgAEAAAAEI8/dg\\x3d0/rs\\x3dACT90oFyqhdaXEBabdE9zq7ioms4ePA-sg',excm:[]};})();(function(){var u='/xjs/_/js/k\\x3dxjs.hp.en.Q7_PF2bJR9M.es5.O/am\\x3dAAAAAAAAAAAAAAAAAAAAAAAAAAAAAAAAAAAAAAAAAAAAAAAIAAAAAAAgAAAAAAAAAAAAACAEAAABAAAAAAAAABAAOBAAQAEAAAAAOAAAAAAAAIAAAAAAAAAAAAAAAAAAAAAA4AAAAAAYAOFxQAAAACAgFgAEAAAAEI8/d\\x3d1/ed\\x3d1/dg\\x3d3/rs\\x3dACT90oFyqhdaXEBabdE9zq7ioms4ePA-sg/m\\x3dsb_he,d';var st=1;var amd=1000;var mmd=0;var pod=true;var pop=true;var povp=false;var fp='';\n",
       "var e=this||self;function f(){var b,a,d;if(a=b=(a=window.google)==null?void 0:(d=a.ia)==null?void 0:d.r.B2Jtyd)a=b.m,a=a===1||a===5;return a&&b.cbfd!=null&&b.cbvi!=null?b:void 0};function g(){var b=[u];if(!google.dp){for(var a=0;a<b.length;a++){var d=b[a],c=document.createElement(\"link\");c.as=\"script\";c.href=d;c.rel=\"preload\";document.body.appendChild(c)}google.dp=!0}};google.ps===void 0&&(google.ps=[]);function h(){var b=u,a=function(){};google.lx=google.stvsc?a:function(){k(b);google.lx=a};google.bx||google.lx()}function l(b,a){a&&(b.src=a);fp&&google.caft&&google.caft(function(){b.fetchPriority=fp});var d=b.onload;b.onload=function(c){d&&d(c);google.ps=google.ps.filter(function(G){return b!==G})};google.ps.push(b);document.body.appendChild(b)}google.as=l;function k(b){google.timers&&google.timers.load&&google.tick&&google.tick(\"load\",\"xjsls\");var a=document.createElement(\"script\");a.onerror=function(){google.ple=1};a.onload=function(){google.ple=0};google.xjsus=void 0;l(a,b);google.aple=-1;google.dp=!0};function m(b){var a=b.getAttribute(\"jscontroller\");return(a===\"UBXHI\"||a===\"R3fhkb\"||a===\"TSZEqd\")&&b.hasAttribute(\"data-src\")}function n(){for(var b=document.getElementsByTagName(\"img\"),a=0,d=b.length;a<d;a++){var c=b[a];if(c.hasAttribute(\"data-lzy_\")&&Number(c.getAttribute(\"data-atf\"))&1&&!m(c))return!0}return!1}for(var p=document.getElementsByTagName(\"img\"),q=0,r=p.length;q<r;++q){var t=p[q];Number(t.getAttribute(\"data-atf\"))&1&&m(t)&&(t.src=t.getAttribute(\"data-src\"))};var w,x,y,z,A,B,C,D,E,F;function H(){google.xjsu=u;e._F_jsUrl=u;A=function(){h()};w=!1;x=(st===1||st===3)&&!!google.caft&&!n();y=f();z=(st===2||st===3)&&!!y&&!n();B=pod;C=pop;D=povp;E=pop&&document.prerendering||povp&&document.hidden;F=D?\"visibilitychange\":\"prerenderingchange\"}function I(){w||x||z||E||(A(),w=!0)}\n",
       "setTimeout(function(){google&&google.tick&&google.timers&&google.timers.load&&google.tick(\"load\",\"xjspls\");H();if(x||z||E){if(x){var b=function(){x=!1;I()};google.caft(b);window.setTimeout(b,amd)}z&&(b=function(){z=!1;I()},y.cbvi.push(b),window.setTimeout(b,mmd));if(E){var a=function(){(D?document.hidden:document.prerendering)||(E=!1,I(),document.removeEventListener(F,a))};document.addEventListener(F,a,{passive:!0})}if(B||C||D)w||g()}else A()},0);})();window._ = window._ || {};window._DumpException = _._DumpException = function(e){throw e;};window._s = window._s || {};_s._DumpException = _._DumpException;window._qs = window._qs || {};_qs._DumpException = _._DumpException;(function(){var t=[0,32768,0,0,0,0,0,143917056,20,532992,32,268435464,0,0,285212750,569704448,167772271,14876749,1507403,264512,32325689,277348352,8,131074,8912896,8192,5114432,100663296,7463168,1,90882,1,36624];window._F_toggles = window._xjs_toggles = t;})();window._F_installCss = window._F_installCss || function(css){};(function(){google.jl={bfl:0,dw:false,eli:false,ine:false,ubm:false,uwp:true,vs:false};})();(function(){var pmc='{\\x22d\\x22:{},\\x22sb_he\\x22:{\\x22client\\x22:\\x22heirloom-hp\\x22,\\x22dh\\x22:true,\\x22ds\\x22:\\x22\\x22,\\x22host\\x22:\\x22google.com\\x22,\\x22msgs\\x22:{\\x22cibl\\x22:\\x22\\\\u6e05\\\\u9664\\\\u641c\\\\u5c0b\\x22,\\x22dym\\x22:\\x22\\\\u4f60\\\\u662f\\\\u4e0d\\\\u662f\\\\u8981\\\\u67e5\\\\uff1a\\x22,\\x22lcky\\x22:\\x22\\\\u597d\\\\u624b\\\\u6c23\\x22,\\x22lml\\x22:\\x22\\\\u77ad\\\\u89e3\\\\u8a73\\\\u60c5\\x22,\\x22psrc\\x22:\\x22\\\\u5df2\\\\u5f9e\\\\u60a8\\\\u7684\\\\u300c\\\\u003Ca href\\x3d\\\\\\x22/history\\\\\\x22\\\\u003E\\\\u7db2\\\\u9801\\\\u8a18\\\\u9304\\\\u003C/a\\\\u003E\\\\u300d\\\\u4e2d\\\\u79fb\\\\u9664\\\\u9019\\\\u7b46\\\\u641c\\\\u5c0b\\\\u8a18\\\\u9304\\x22,\\x22psrl\\x22:\\x22\\\\u79fb\\\\u9664\\x22,\\x22sbit\\x22:\\x22\\\\u4ee5\\\\u5716\\\\u641c\\\\u5c0b\\x22,\\x22srch\\x22:\\x22Google \\\\u641c\\\\u5c0b\\x22},\\x22ovr\\x22:{},\\x22pq\\x22:\\x22\\x22,\\x22rfs\\x22:[],\\x22stok\\x22:\\x22X6ObfGUVNP6DwcosrkdCwAr9yvM\\x22}}';google.pmc=JSON.parse(pmc);})();</script></body>"
      ]
     },
     "execution_count": 13,
     "metadata": {},
     "output_type": "execute_result"
    }
   ],
   "execution_count": 13
  },
  {
   "metadata": {},
   "cell_type": "markdown",
   "source": "## 8. `select()`",
   "id": "7ec62abba0536ea4"
  },
  {
   "metadata": {},
   "cell_type": "markdown",
   "source": "<p>Select HTML elements from the parsed HTML using a CSS selector.</p>",
   "id": "c9950282e4d4b04d"
  },
  {
   "metadata": {},
   "cell_type": "markdown",
   "source": [
    "**Syntax**:\n",
    "```python\n",
    "element = soup.select(selector)\n",
    "```"
   ],
   "id": "4a1860d262249bd"
  },
  {
   "metadata": {
    "ExecuteTime": {
     "end_time": "2025-07-06T05:36:38.342844Z",
     "start_time": "2025-07-06T05:36:38.339218Z"
    }
   },
   "cell_type": "code",
   "source": "bs.select(\"br\")",
   "id": "724e29a95c68357a",
   "outputs": [
    {
     "data": {
      "text/plain": [
       "[<br clear=\"all\" id=\"lgpd\"/>, <br/>, <br/>, <br style=\"line-height:0\"/>, <br/>]"
      ]
     },
     "execution_count": 14,
     "metadata": {},
     "output_type": "execute_result"
    }
   ],
   "execution_count": 14
  },
  {
   "metadata": {},
   "cell_type": "markdown",
   "source": "## 9. tags for `find()` and `find_all()`",
   "id": "71341c5955cc4af"
  },
  {
   "metadata": {},
   "cell_type": "markdown",
   "source": "<p>Specify any valid HTML tag as the tag parameter to search for elements of that type. Here are some common HTML tags that you can use with the tag parameter.</p>",
   "id": "6cdc4c66da34a02b"
  },
  {
   "metadata": {},
   "cell_type": "markdown",
   "source": [
    "<p>Tag Examples:</p>\n",
    "<ul>\n",
    "    <li><b>a:</b> Find anchor (\"a\") tags.</li>\n",
    "    <li><b>p:</b> Find paragraph (\"p\") tags.</li>\n",
    "    <li><b>h1-h6:</b> Find heading tags from level 1 to 6 (\"h1\", \"h2\", \"h3\", \"h4\", \"h5\", \"h6\").</li>\n",
    "    <li><b>table:</b> Find table (\"table\") tags.</li>\n",
    "    <li><b>tr:</b> Find table row (\"tr\") tags.</li>\n",
    "    <li><b>td:</b> Find table cell (\"td\") tags.</li>\n",
    "    <li><b>th:</b> Find table header cell (\"th\") tags.</li>\n",
    "    <li><b>img:</b> Find image (\"img\") tags.</li>\n",
    "    <li><b>form:</b> Find form (\"form\") tags.</li>\n",
    "    <li><b>button:</b> Find button (\"button\") tags.</li>\n",
    "</ul>"
   ],
   "id": "52c7146da72c8add"
  },
  {
   "metadata": {},
   "cell_type": "markdown",
   "source": "## 10. text",
   "id": "7ad07c1345fab2c4"
  },
  {
   "metadata": {},
   "cell_type": "markdown",
   "source": "<p>Retrieve the text content of an HTML element.</p>",
   "id": "10afa90803c785c"
  },
  {
   "metadata": {},
   "cell_type": "markdown",
   "source": [
    "**Syntax:**\n",
    "```python\n",
    "text = element.text\n",
    "```"
   ],
   "id": "7f41fa301fb3a749"
  },
  {
   "metadata": {
    "ExecuteTime": {
     "end_time": "2025-07-06T05:36:38.365984Z",
     "start_time": "2025-07-06T05:36:38.362663Z"
    }
   },
   "cell_type": "code",
   "source": "element3.text",
   "id": "d68eaf75a7b5abd4",
   "outputs": [
    {
     "data": {
      "text/plain": [
       "'搜尋 圖片 地圖 Play YouTube 新聞 Gmail 雲端硬碟 更多 »網頁記錄 | 設定 | 登入'"
      ]
     },
     "execution_count": 15,
     "metadata": {},
     "output_type": "execute_result"
    }
   ],
   "execution_count": 15
  },
  {
   "metadata": {},
   "cell_type": "markdown",
   "source": "## 11. `delete()`",
   "id": "773b6ba13b6e9ecc"
  },
  {
   "metadata": {},
   "cell_type": "markdown",
   "source": "<p>Send a DELETE request to remove data or a resource from the server. DELETE requests delete a specified resource on the server.</p>",
   "id": "291dc89292efc4a5"
  },
  {
   "metadata": {},
   "cell_type": "markdown",
   "source": [
    "**Syntax**:\n",
    "```python\n",
    "response = requests.delete(url)\n",
    "```"
   ],
   "id": "42ddc6e052c3b0d4"
  },
  {
   "metadata": {
    "ExecuteTime": {
     "end_time": "2025-07-06T05:36:39.448375Z",
     "start_time": "2025-07-06T05:36:38.397187Z"
    }
   },
   "cell_type": "code",
   "source": [
    "response = requests.delete(\"https://httpbin.org/delete\", headers={\"X-Custom-Header\": \"test\"})\n",
    "response.text"
   ],
   "id": "511d793b388e0933",
   "outputs": [
    {
     "data": {
      "text/plain": [
       "'{\\n  \"args\": {}, \\n  \"data\": \"\", \\n  \"files\": {}, \\n  \"form\": {}, \\n  \"headers\": {\\n    \"Accept\": \"*/*\", \\n    \"Accept-Encoding\": \"gzip, deflate\", \\n    \"Content-Length\": \"0\", \\n    \"Host\": \"httpbin.org\", \\n    \"User-Agent\": \"python-requests/2.32.4\", \\n    \"X-Amzn-Trace-Id\": \"Root=1-686a0b67-11fd7d37793136e06f2ebcc2\", \\n    \"X-Custom-Header\": \"test\"\\n  }, \\n  \"json\": null, \\n  \"origin\": \"103.151.172.32\", \\n  \"url\": \"https://httpbin.org/delete\"\\n}\\n'"
      ]
     },
     "execution_count": 16,
     "metadata": {},
     "output_type": "execute_result"
    }
   ],
   "execution_count": 16
  },
  {
   "metadata": {},
   "cell_type": "markdown",
   "source": "## 12.`get()`",
   "id": "bf886502da15fb41"
  },
  {
   "metadata": {},
   "cell_type": "markdown",
   "source": "<p>Perform a GET request to retrieve data from a specified URL. GET requests are typically used for reading data from an API. The response variable will contain the server's response, which you can process further.</p>",
   "id": "e14afd6d0c32a4bf"
  },
  {
   "metadata": {},
   "cell_type": "markdown",
   "source": [
    "**Syntax**:\n",
    "```python\n",
    "response = requests.get()\n",
    "```"
   ],
   "id": "fd9b1ba94d6c0ddc"
  },
  {
   "metadata": {
    "ExecuteTime": {
     "end_time": "2025-07-06T05:36:39.652392Z",
     "start_time": "2025-07-06T05:36:39.463611Z"
    }
   },
   "cell_type": "code",
   "source": [
    "response = requests.get(\"https://www.bing.com\")\n",
    "response.text"
   ],
   "id": "9810876941089db8",
   "outputs": [
    {
     "data": {
      "text/plain": [
       "'<!doctype html><html lang=\"zh\" dir=\"ltr\"><head><meta name=\"theme-color\" content=\"#4F4F4F\" /><meta name=\"description\" content=\"使用 Microsoft Bing 搜尋，並使用 AI 的功能來尋找資訊、探索網頁、影像、影片、地圖等等。適合永遠感到好奇的人員的智慧型搜尋引擎。\" /><meta http-equiv=\"X-UA-Compatible\" content=\"IE=edge\" /><meta name=\"viewport\" content=\"width=device-width, initial-scale=1.0\" /><meta property=\"fb:app_id\" content=\"3732605936979161\" /><meta property=\"og:type\" content=\"website\" /><meta property=\"og:title\" content=\"Info\" /><meta property=\"og:image\" content=\"https://www.bing.com/th?id=OHR.BolozonViaduct_ROW4997285549_tmb.jpg&amp;rf=\" /><meta property=\"og:image:width\" content=\"1366\" /><meta property=\"og:image:height\" content=\"768\" /><meta property=\"og:url\" content=\"https://www.bing.com/?form=HPFBBK&amp;ssd=20250705_0700&amp;mkt=zh-HK\" /><meta property=\"og:site_name\" content=\"搜尋 - Microsoft Bing\" /><meta property=\"og:description\" content=\"Imagine a bridge that connects more than just two \" /><title>搜尋 - Microsoft Bing</title><link rel=\"icon\" href=\"/sa/simg/favicon-trans-bg-blue-mg-png.png\" /><link href=\"https://www.bing.com/\" rel=\"canonical\" /><link rel=\"preconnect\" href=\"https://r.bing.com\" /><link rel=\"preconnect\" href=\"https://r.bing.com\" crossorigin/><link rel=\"dns-prefetch\" href=\"https://r.bing.com\" /><link rel=\"dns-prefetch\" href=\"https://r.bing.com\" crossorigin/><link rel=\"stylesheet\" href=\"/rp/kb0OYlyDwOKxf5v502l3jtVAOXQ.gz.css\" type=\"text/css\"/><link rel=\"stylesheet\" href=\"/rp/80c1o0sjIPn-ugqp2xWEiovvSdk.gz.css\" type=\"text/css\"/><link rel=\"stylesheet\" href=\"/rp/MBvDOctjHweKnvlbGt7L3XriDtg.gz.css\" type=\"text/css\"/><link rel=\"stylesheet\" href=\"/rp/uT4mLa756zUiOsX03-zk7duKYxY.gz.css\" type=\"text/css\"/><link rel=\"stylesheet\" href=\"/rp/sbZHkrqo0NDpxP8y-fIbQ7lPJL0.gz.css\" type=\"text/css\"/><script type=\"text/javascript\" nonce=\"zIILOtYq9iaGYGQgVWSLmFWjdkKDEAQJmch25TvLhKE=\">//<![CDATA[\\nvar sj_log=function(n,t,i){var r=window.directLog;r&&r(JSON.stringify([{T:n,FID:\"CI\",Name:t,Text:encodeURIComponent(i.replace(/\"/g,\"\")),SDK:\"SJ\"}]),0)};\\n//]]></script></head><body><link rel=\"stylesheet\" href=\"/rp/4eS_2S3OWNcQic7KdDMaC5rRFgQ.gz.css\" type=\"text/css\"/><script type=\"text/javascript\" nonce=\"zIILOtYq9iaGYGQgVWSLmFWjdkKDEAQJmch25TvLhKE=\">//<![CDATA[\\nvar __assign=this&&this.__assign||function(){return __assign=Object.assign||function(n){for(var t,r,i=1,u=arguments.length;i<u;i++){t=arguments[i];for(r in t)Object.prototype.hasOwnProperty.call(t,r)&&(n[r]=t[r])}return n},__assign.apply(this,arguments)},logE=function(n,t,i){t===void 0&&(t=null);i===void 0&&(i=\"ClientInst\");var r=[__assign({T:\"CI.\".concat(i),FID:\"CI\",Name:n},t&&{Text:t})];typeof _G!=\"undefined\"&&_w.directLog(encodeURIComponent(JSON.stringify(r)),2)},CSPIF;window.CSPEL=[];CSPIF=function(n){var t=\"clarity\",i=\"CSPViolation\",r,u;return(window[t]&&(window[t](\"set\",i,n.sample),window[t](\"event\",i)),r=[\"chrome-extension\"],u=[\"javascript:void(0)\",\"javascript: void(0)\"],r.some(function(t){return n.sourceFile.includes(t)})||u.some(function(t){return n.sample.includes(t)}))?!0:window.CSPEL.includes(n.sample)?!0:(window.CSPEL.push(n.sample),!1)};try{var ignErr=[\"ResizeObserver loop\",\"Script error\"],ignCSPErr=[\"unsafe-eval\"],maxErr=3,ignoreCurrentError=function(n,t){return(ignErr.some(function(t){return n.includes(t)})||ignCSPErr.some(function(t){return n.includes(t)}))?ignCSPErr.some(function(t){return n.includes(t)})&&t.filename&&!t.filename.includes(\"chrome-extension://\")?!1:(t!=null&&(typeof sj_sp!=\"undefined\"&&sj_sp(t),typeof sj_pd!=\"undefined\"&&sj_pd(t)),!0):!1},regexEsc=function(n){return n.replace(/([.?*+^$&[\\\\]\\\\\\\\(){}|<>-])/g,\"\\\\\\\\$1\")},ignoreCSPLog=function(n){return[\"javascript:void(0)\",\"javascript: void(0)\",\"javascript:void()\"].some(function(t){return n.sample.includes(t)})};window.jsErrorHandler=function(n){var f,p,h,rt,ut,u,e,ft,o,a,v,s;try{if(f=\\'\"noMessage\"\\',p=(n.error||n).message||f,ignoreCurrentError(p,n))return;if(h=(window.ERC?window.ERC:0)+1,window.ERC=h,h>maxErr){logE(\"max errors reached\");return}var c=n.error||n,w=n.filename,b=n.lineno,k=n.colno,d=n.extra,l=c.severity||\"Error\",g=c.message||f,i=c.stack,t=\\'\"\\'+escape(g.replace(/\"/g,\"\"))+\\'\"\\',nt=new RegExp(regexEsc(location.href),\"g\"),tt=window.lirab,it=window.liraa,r=tt?\" hint == [\"+tt:\"\";if(r=r+(it?\", \"+it+\")\":r?\"]\":\"\"),i){for(rt=/\\\\(([^\\\\)]+):[0-9]+:[0-9]+\\\\)/g,u={};(ut=rt.exec(i))!==null;)e=ut[1],u[e]?u[e]++:u[e]=1;o=0;for(a in u)u[a]>1&&(v=regexEsc(a),ft=new RegExp(v,\"g\"),i=i.replace(ft,o),i+=\"#\"+o+\"=\"+v,o++);i=i.replace(nt,\"self\").replace(/\"/g,\"\");t+=\\',\"Stack\":\"\\'+(escape(i)+\\'\"\\')}if(w?t+=\\',\"Meta\":\"\\'+escape(w.replace(nt,\"self\"))+r+\\'\"\\':r&&(t+=\\',\"Meta\":\"\\'+r+\\'\"\\'),b&&(t+=\\',\"Line\":\"\\'+b+\\'\"\\'),k&&(t+=\\',\"Char\":\"\\'+k+\\'\"\\'),d&&(t+=\\',\"ExtraInfo\":\"\\'+d+\\'\"\\'),g===f)if(l=\"Warning\",t+=\\',\"ObjectToString\":\"\\'+n.toString()+\\'\"\\',JSON&&JSON.stringify)t+=\\',\"JSON\":\"\\'+escape(JSON.stringify(n))+\\'\"\\';else for(s in n)n.hasOwnProperty(s)&&(t+=\\',\"\\'+s+\\'\":\"\\'+n[s]+\\'\"\\');var et=(new Date).getTime(),ot=\\'\"T\":\"CI.\\'+l+\\'\",\"FID\":\"CI\",\"Name\":\"JS\\'+l+\\'\",\"Text\":\\'+t+\"\",st=\"<E><T>Event.ClientInst<\\\\/T><IG>\"+_G.IG+\"<\\\\/IG><TS>\"+et+\"<\\\\/TS><D><![CDATA[[{\"+ot+\"}]]\\\\]><\\\\/D><\\\\/E>\",ht=\"<ClientInstRequest><Events>\"+st+\"<\\\\/Events><STS>\"+et+\"<\\\\/STS><\\\\/ClientInstRequest>\",y=new XMLHttpRequest;y.open(\"POST\",\"/fd/ls/lsp.aspx?\",!0);y.setRequestHeader(\"Content-Type\",\"text/xml\");y.send(ht);typeof sj_evt!=\"undefined\"&&sj_evt.fire(\"ErrorInstrumentation\",t)}catch(ct){logE(\"MetaJSError\",\"Failed to execute error handler. \"+ct.message)}};window.CSPEH=function(n){CSPIF(n)||logE(\"CSPViolation\",n.sample,\"Error\")};window.addEventListener&&(window.addEventListener(\"error\",window.jsErrorHandler,!1),window.addEventListener(\"unhandledrejection\",window.jsErrorHandler,!1),window.addEventListener(\"securitypolicyviolation\",window.CSPEH))}catch(e){logE(\"MetaJSError\",\"Failed to bind error handler \"+e.message)};var _d,sb_de;typeof _d==\"undefined\"&&(_d=document);sb_de=_d.documentElement;\\n//]]></script><script type=\"text/javascript\" crossorigin=\"anonymous\" nonce=\"zIILOtYq9iaGYGQgVWSLmFWjdkKDEAQJmch25TvLhKE=\" src=\"/rp/lc9CWk15rv2hVyhWcYKkIsI09o8.gz.js\"></script><link id=\"as-css-link\" rel=\"prefetch\" crossorigin=\"anonymous\" fetchpriority=\"low\" href=\"/rp/g_m-0ZAhVkRWgNQWTbBw0BPQO3I.gz.css\" type=\"text/css\" as=\"style\" /><div class=\"hpapp\" id=\"hp_app\"></div><div class=\"hide\" id=\"hpapp_id\" data-priority=\"2\"><div id=\"id_h\" class=\"\"\\r\\n                role=\"complementary\"\\r\\n                aria-label=\"帳戶獎勵和喜好設定\" data-priority=\"2\"><a id=\"id_l\" class=\"id_button  linkBtn\" aria-haspopup=\"true\" aria-controls=\"id_d\" data-clarity-mask=\"true\" href=\"javascript:void(0)\" h=\"ID=SERP,5012.1\"><span id=\"id_s\" aria-hidden=\"false\">登入</span><span class=\"sw_spd id_avatar\" id=\"id_a\" aria-hidden=\"false\"></span><span id=\"id_n\" style=\"display:none\" aria-hidden=\"true\"></span><img id=\"id_p\" class=\"id_avatar sw_spd\" style=\"display:none\" alt=\"設定檔圖片\" data-alt=\"\" src=\"data:image/png;base64,iVBORw0KGgoAAAANSUhEUgAAAAEAAAABCAQAAAC1HAwCAAAAC0lEQVR42mNgYAAAAAMAASsJTYQAAAAASUVORK5CYII=\"/><div id=\"id_linkicon\"\\r\\n style=\"position:relative;vertical-align:top;margin-right:-16px;right:16px;display:none\"><svg class=\"id_linkicon_svg\" style=\"width:16px;height:16px;vertical-align:top;margin-top:23px;\" xmlns=\"http://www.w3.org/2000/svg\" width=\"16\" height=\"16\" fill=\"none\" viewBox=\"0 0 20 20\"><g filter=\"url(#a)\"><circle cx=\"10\" cy=\"9\" r=\"8\" fill=\"#fff\" /></g><path fill=\"#767676\" d=\"M8.2 6a.6.6 0 0 1 .07 1.196L8.2 7.2H7a1.8 1.8 0 0 0-.106 3.597L7 10.8h1.2a.6.6 0 0 1 .07 1.196L8.2 12H7a3 3 0 0 1-.13-5.997L7 6h1.2ZM13 6a3 3 0 0 1 .13 5.997L13 12h-1.2a.6.6 0 0 1-.07-1.196l.07-.004H13a1.8 1.8 0 0 0 .106-3.597L13 7.2h-1.2a.6.6 0 0 1-.07-1.196L11.8 6H13ZM7 8.4h6a.6.6 0 0 1 .07 1.196L13 9.6H7a.6.6 0 0 1-.07-1.196L7 8.4h6-6Z\" /><defs><filter id=\"a\" width=\"20\" height=\"20\" x=\"0\" y=\"0\" color-interpolation-filters=\"sRGB\" filterUnits=\"userSpaceOnUse\"><feFlood flood-opacity=\"0\" result=\"BackgroundImageFix\" /><feColorMatrix in=\"SourceAlpha\" result=\"hardAlpha\" values=\"0 0 0 0 0 0 0 0 0 0 0 0 0 0 0 0 0 0 127 0\" /><feOffset dy=\"1\" /><feGaussianBlur stdDeviation=\"1\" /><feComposite in2=\"hardAlpha\" operator=\"out\" /><feColorMatrix values=\"0 0 0 0 0 0 0 0 0 0 0 0 0 0 0 0 0 0 0.14 0\" /><feBlend in2=\"BackgroundImageFix\" result=\"effect1_dropShadow_1352_97902\" /><feBlend in=\"SourceGraphic\" in2=\"effect1_dropShadow_1352_97902\" result=\"shape\" /></filter></defs></svg></div></a><span id=\"id_d\" _iid=\"SERP.5032\"></span><a class=\"id_button tooltip  linkBtn\" data-priority=\"\" id=\"id_rh_w\" dir=\"ltr\" aria-label=\"Microsoft Rewards\" aria-expanded=\"false\" aria-controls=\"rewid-f\" aria-haspopup=\"true\" role=\"button\" tabindex=\"0\" href=\"javascript:void(0)\" h=\"ID=SERP,5020.1\"><div id=\"rh_rwm\"\\r\\n                 class=\"hp    \" data-rewards-widget=\"medallion\" data-content=\"eyJiYWxhbmNlIjowLCJnb2FsVHJhY2tFbmFibGVkIjp0cnVlLCJnb2FsVHJhY2tCYWxhbmNlIjoyMDAsInNsaW0iOmZhbHNlLCJhdXRvT3BlbkZseW91dElkU2VsZWN0b3IiOiJpZF9oIiwiaXNIb3ZlckVuYWJsZWQiOmZhbHNlLCJpc1N3ZWVwc3Rha2VzRW5hYmxlZCI6ZmFsc2UsIm5hdlVybCI6IiIsImlzRnJvemVuTWVkYWxsaW9uRW5hYmxlZCI6ZmFsc2UsImlzTmV3TGV2ZWxNZWRhbGxpb25FbmFibGVkIjpmYWxzZSwib2NlYW5Db21tb3Rpb24iOnsiaXNFbmFibGVkIjpmYWxzZX0sInRvb2x0aXAiOnsiYnlGZWF0dXJlIjp7fX0sImlzS3Vtb0hlYWRlckVuYWJsZWQiOmZhbHNlLCJpc01lZGFsbGlvbk9uQ29waWxvdFNlYXJjaEVuYWJsZWQiOmZhbHNlLCJpc0JhbGFuY2VBbmltYXRpb25EaXNhYmxlZCI6ZmFsc2UsImdhaW5pbmdQb2ludHNBbmltYXRpb25UeXBlIjoiIiwiZmx5b3V0Ijp7ImlzT3BlbkJ5RGVmYXVsdEVuYWJsZWQiOmZhbHNlLCJvcGVuQnlEZWZhdWx0TW9kZSI6ImRpc2FibGVkIn19\"></div></a><span id=\"nc_iid\" _IG=\"EC2C4BE8B798405EA803329D0463F384\" _iid=\"SERP.5018\"></span><a id=\"id_sc\" class=\"idp_ham hphbtop linkBtn\" aria-label=\"設定與快速連結\" aria-expanded=\"false\" aria-controls=\"id_hbfo\" aria-haspopup=\"true\" role=\"button\" tabindex=\"0\" href=\"javascript:void(0)\" h=\"ID=SERP,5030.1\"></a><span id=\"id_hbfo\" _iid=\"SERP.5031\" class=\"slide_up hpfo hb_hpqexp\" tabindex=\\'-1\\' aria-hidden=\"true\" aria-labelledby=\"id_sc\" role=\"menu\"></span></div></div><script type=\"text/javascript\" nonce=\"zIILOtYq9iaGYGQgVWSLmFWjdkKDEAQJmch25TvLhKE=\">//<![CDATA[\\nvar img_p = document.getElementById(\\'id_p\\'); img_p && img_p.addEventListener(\\'error\\', function() {FallBackToDefaultProfilePic(img_p) });;\\n//]]></script><script type=\"text/javascript\" crossorigin=\"anonymous\" nonce=\"zIILOtYq9iaGYGQgVWSLmFWjdkKDEAQJmch25TvLhKE=\" src=\"https://r.bing.com/rs/6p/fK/jnc,nj/tlifxqsNyCzxIJnRwtQKuZToQQw.js?or=w\"></script><script type=\"text/javascript\" nonce=\"zIILOtYq9iaGYGQgVWSLmFWjdkKDEAQJmch25TvLhKE=\">//<![CDATA[\\n_G={Region:\"HK\",Lang:\"zh-HK\",ST:(typeof si_ST!==\\'undefined\\'?si_ST:new Date),Mkt:\"zh-HK\",RevIpCC:\"hk\",RTL:false,Ver:\"27\",IG:\"EC2C4BE8B798405EA803329D0463F384\",EventID:\"686a0b67a7f744b0969953f4a3fcdfc8\",V:\"homepage\",P:\"SERP\",DA:\"PUSE01\",CID:\"173FEE3345AB6A2C2D6BF81244A36BE0\",SUIH:\"2QFOsCSOP1oSAkK7fMDf3g\",adc:\"b_ad\",EF:{bmasynctrigger:1,getslctspt:1,newtabsloppyclick:1,chevroncheckmousemove:1,sharepreview:1,shareoutimage:1,sharefixreadnum:1,clickbackRSonTopW:1,sharepreviewthumbnailid:1,shareencodefix:1,chatskip2content:1,fablogfix:1,uaclickbackas:1,uaasnodisappear:1,clearuspreo:1},gpUrl:\"\\\\/fd\\\\/ls\\\\/GLinkPing.aspx?\",Salt:\"CfDJ8Inh5QCoSQBNls38F2rbEpSnWcXPBK7MUQHwOuMPhtM2IVMLNNfSlZlm2xHLIRRBx-e8xDa26xyl1D6Vj-Q0t63Q3t2WT5lWgTZZ0NK8OmoHWixM9--Zwe8IJjgnSQEqxrBw6Bub877nvHm9LvSCTBA_84RSIfDJ8CZ095dRl8o493hAFzsi3pKK3V6v4Rd4rA\" }; _G.lsUrl=\"/fd/ls/l?IG=\"+_G.IG+\"&CID=\"+_G.CID ;curUrl=\"https:\\\\/\\\\/www.bing.com\\\\/\";_G.EnableCompression=true;_G.XLSC=\"\\\\/web\\\\/xlsc.aspx\"; _G.XLS=\"\\\\/web\\\\/xls.aspx\"; _G.XLSM=\"\\\\/threshold\\\\/xls.aspx\";_G.XLSOvr=8;_G.XLSThrottle=1000; _G.DirectLogFlight=3; function directLog(d,g,f){if(typeof Log!==\"undefined\"&&Log&&Log.DirectLog){Log.DirectLog(d,g,f);}else{(new Image()).src=_G.lsUrl+\"&Type=Event.ClientInst&DATA=\"+d+\"&dl=4\";}}; _G.LSP = \"/fd/ls/lsp.aspx?dl=3\";function si_T(a){var ig=\\'\\';if(!(a.length>2&&a.substring(0,3)===\"IG=\")){ig=\\'IG=\\'+_G.IG;}if(document.images){_G.GPImg=new Image;_G.GPImg.src=_G.gpUrl+ig+\\'&CID=\\'+_G.CID+\\'&\\'+a;}return true;}_G.BAT=\"0\";_G.NTT=\"600000\";_G.CTT=\"3000\";_G.BNFN=\"Default\";_G.LG=\"160\";_G.FilterFlareInterval=5;;var _model ={\"ClientSettings\":{\"Pn\":{\"Cn\":1,\"St\":0,\"Qs\":0,\"Prod\":\"P\"},\"Sc\":{\"Cn\":1,\"St\":0,\"Qs\":0,\"Prod\":\"H\"},\"Qz\":{\"Cn\":1,\"St\":0,\"Qs\":0,\"Prod\":\"T\"},\"Ap\":true,\"Mute\":true,\"Lad\":\"2025-07-06T00:00:00Z\",\"Iotd\":0,\"Gwb\":0,\"Tns\":0,\"Dft\":null,\"Mvs\":0,\"Flt\":0,\"Imp\":1,\"Tobn\":0},\"MediaContents\":[{\"ImageContent\":{\"Description\":\"Imagine a bridge that connects more than just two sides of a river. Nestled in the Ain department, the Cize-Bolozon Viaduct—featured in today\\\\u0027s image—has accomplished this feat for over 70 years. Built in 1950 to replace a structure destroyed during World War II, it has watched over the valley with understated elegance ever since.\",\"Image\":{\"Url\":\"/th?id=OHR.BolozonViaduct_ROW4997285549_1920x1080.webp\",\"Wallpaper\":\"/th?id=OHR.BolozonViaduct_ROW4997285549_1920x1200.jpg\\\\u0026rf=LaDigue_1920x1200.jpg\",\"Downloadable\":true},\"Headline\":\"Info\",\"Title\":\"Cize-Bolozon viaduct crossing the Ain gorge, France\",\"Copyright\":\"© Leonid Andronov/Getty Images\",\"SocialGood\":null,\"MapLink\":{\"Url\":\"\",\"Link\":\"\"},\"QuickFact\":{\"MainText\":\"\",\"LinkUrl\":\"\",\"LinkText\":\"\"},\"TriviaUrl\":\"/search?q=Bing+homepage+quiz\\\\u0026filters=WQOskey:\\\\u0022HPQuiz_20250705_BolozonViaduct\\\\u0022\\\\u0026FORM=HPQUIZ\",\"BackstageUrl\":\"/search?q=Cize+Bolozon+viaduct\\\\u0026form=hpcapt\\\\u0026filters=HpDate:\\\\u002220250705_0700\\\\u0022\",\"TriviaId\":\"HPQuiz_20250705_BolozonViaduct\"},\"AudioContent\":null,\"VideoContent\":null,\"Ssd\":\"20250705_0700\",\"FullDateString\":\"2025 年 7月 月 5 日\"}],\"preloadMediaContents\":[],\"LocStrings\":{\"LOC_HOMEPAGE_VERTICAL_SCROLL_IOTD\":\"今日圖片\",\"LOC_HOMEPAGE_VERTICAL_SCROLL_IOTD_LEARN_MORE\":\"深入了解\",\"LOC_HOMEPAGE_VERTICAL_SCROLL_DONATE_NOW\":\"立即捐贈\",\"LOC_HOMEPAGE_VERTICAL_SCROLL_FACT\":\"快速事實:\",\"LOC_HOMEPAGE_GALLERY_CARD_TITLE\":\"最近的首頁圖片\",\"LOC_HOMEPAGE_VERTICAL_SCROLL_GALLERY_IMAGE_ARIALABEL\":\"{0}的首頁圖片\",\"LOC_HOMEPAGE_ON_THIS_DAY_TITLE\":\"在歷史上的這一天\",\"LOC_HOMEPAGE_ON_THIS_DAY_IMAGE_ARIALABEL\":\"在這一天的 {0}，{1}\",\"LOC_HOMEPAGE_HOLIDAY_BTN_DONATE\":\"捐贈\",\"LOC_HOMEPAGE_SHARE_TOOLTIP\":\"分享今日 Bing 首頁\",\"LOC_HOMEPAGE_WALLPAPERDOWNLOAD_TOOLTIP\":\"下載此影像。禁止將此影像用於桌布以外的用途。\",\"LOC_MUSCARD_DOWNLOAD_LINK\":\"下載這張圖片\",\"LOC_HOMEPAGE_WALLPAPERNOTAVAILABLE\":\"此圖片無法下載作為桌布。\",\"LOC_HOMEPAGE_INFO_TEXT\":\"資訊\",\"LOC_BING_WP_APP_LINK\":\"https://go.microsoft.com/fwlink/?linkid=2127455\",\"LOC_BING_WP_APP_LINK_TEXT\":\"取得新的 Bing Wallpaper 應用程式\",\"LOC_BING_APP_TEXT\":\"在裝置上取得 Bing 背景圖片\",\"LOC_BING_APP_LINK_PC\":\"https://bing.microsoftapp.net/bing/?adjust=nk9xri2_dzfz5n2\",\"LOC_BING_APP_LINK_MOBILE\":\"https://app.adjust.com/d93ddtl_a75k0gg?deeplink=sapphire%3A%2F%2Fwallpaper\",\"LOC_BING_APP_DOWNLOAD_TEXT\":\"行動裝置應用程式\",\"LOC_BING_WP_APP_DOWNLOAD_TEXT\":\"桌面應用程式\",\"LOC_BING_APP_TEXT_MOBILE\":\"使用 Bing 應用程式取得每日相片\",\"LOC_BING_APP_DOWNLOAD_TEXT_MOBILE\":\"取得\",\"LOC_HOMEPAGE_VERTICAL_SCROLL_TOB\":\"Bing 上的熱門項目\",\"LOC_HOMEPAGE_BELOW_SEARCHBOX_TOB\":\"Bing 上的熱門項目\",\"LOC_HOMEPAGE_BELOW_SEARCHBOX_TOB_NEXT\":\"下一個\",\"LOC_HOMEPAGE_BELOW_SEARCHBOX_TOB_Close\":\"隱藏 Bing 上的熱門項目\",\"LOC_HOMEPAGE_TOB_TAG_NEW\":\"新增\",\"LOC_HOMEPAGE_TOB_TAG_HOT\":\"熱門\",\"LOC_HOMEPAGE_ANSWER_FINANCE_TITLE\":\"我的關注清單\",\"LOC_HOMEPAGE_ANSWER_FINANCE_INCREASE_ARIALABEL\":\"增加\",\"LOC_HOMEPAGE_ANSWER_FINANCE_DECREASE_ARIALABEL\":\"減少\",\"LOC_HOMEPAGE_FEED_HEADER\":\"推薦項目\",\"LOC_HOMEPAGE_FEED_HEADER_NEW\":\"探索\",\"LOC_HOMEPAGE_FEED_DISCOVER\":\"探索\",\"LOC_HOMEPAGE_FEED_LAYOUT\":\"動態佈局\",\"LOC_HOMEPAGE_FEED_LAYOUT_FULL\":\"整頁\",\"LOC_HOMEPAGE_FEED_LAYOUT_PARTIAL\":\"部分檢視\",\"LOC_HOMEPAGE_FEED_LAYOUT_TRENDING\":\"熱門\",\"LOC_HOMEPAGE_FEED_LAYOUT_ZEN\":\"禪\",\"LOC_HOMEPAGE_FEED_LAYOUT_HEADING\":\"標題\",\"LOC_MODULES_PRISMPLUS_TITLE\":\"探索\",\"LOC_HOMEPAGE_QUICK_SCROLL\":\"探索故事及更多內容\",\"LOC_MODULES_MYBING_TITLE\":\"我的 Bing\",\"LOC_HOMEPAGE_TRENDING_NOW\":\"Bing 上的目前熱門趨勢\",\"LOC_SEARCH_USING_AN_IMAGE\":\"使用圖片搜尋\",\"LOC_SEARCH_THE_WEB\":\"搜尋網路\",\"LOC_KEYBOARD_ICON_TOOLTIP\":\"使用螢幕小鍵盤搜尋\",\"LOC_HOMEPAGE_SETDEFAULTHPLINK\":\"將 Bing 設定為您的首頁\",\"LOC_HOMEPAGE_SETDEFAULTHPLINK_DESC_TITLE\":\"每天都感受生命的美好\",\"LOC_HOMEPAGE_SETDEFAULTHPLINK_DESC_TEXT\":\"持續搜尋，找到讓生命每分每秒更美好的契機。只要簡單幾個步驟，就能將 Bing 設為瀏覽器首頁!\",\"LOC_HOMEPAGE_FEEDBACK_LINK\":\"意見反應\",\"LOC_HOMEPAGE_QS_TITLE\":\"自訂您的首頁\",\"LOC_HOMEPAGE_PYF_TITLE\":\"個人化您的摘要\",\"LOC_HOMEPAGE_QS_TOGGLENAV\":\"顯示功能表列\",\"LOC_HOMEPAGE_QS_TOGGLECAROUSEL\":\"顯示新聞和興趣\",\"LOC_HOMEPAGE_QS_TOGGLEIOTD\":\"顯示首頁影像\",\"LOC_HOMEPAGE_QS_TOGGLEGWB\":\"顯示 [使用 Bing 贈送]\",\"LOC_HOMEPAGE_QS_TOGGLETNS\":\"顯示建議\",\"LOC_HOMEPAGE_QS_TOGGLEMVS\":\"顯示最多瀏覽人次的網站\",\"LOC_HOMEPAGE_QS_TOGGLETOBBELOWSEARCHBOX\":\"顯示 Bing 上的熱門項目\",\"LOC_HOMEPAGE_TRIVIA_ANSWER_ARIALABEL\":\"回答: {0}, {1}\",\"LOC_HOMEPAGE_TRIVIA_TITLE\":\"Bing 首頁測驗\",\"LOC_HOMEPAGE_LANGUAGESWITCH_TITLETEXT\":\"語言:\",\"InPrivate\":\"InPrivate\",\"LOC_HOMEPAGE_VERTICAL_SCROLL_GET_INVOLVED\":\"參與其中:\",\"LOC_MODULES_AD_NEWS_TITLE\":\"廣告\",\"LOC_MODULES_BREAKING_NEWS_TITLE\":\"最新消息\",\"LOC_MODULES_PROACTIVE_EDIT_TOOLTIP\":\"管理興趣\",\"LOC_MSB_OPTIN_TITLE\":\"{0} 的 Bing 首頁\",\"LOC_MSB_OPTIN_MESSAGE\":\"現在增強了您需要的 {0} 資訊 — 包括檔案、會議等等\",\"LOC_MSB_OPTIN_ACCEPT\":\"立即試用\",\"LOC_MSB_OPTIN_REJECT\":\"跳過\",\"LOC_HOMEPAGE_WEATHER_TITLE\":\"天氣\",\"LOC_HOMEPAGE_ARCHIVE_NEXT\":\"下一個影像\",\"LOC_HOMEPAGE_ARCHIVE_PREV\":\"上一個影像\",\"LOC_HOMEPAGE_IMAGE_CHANGE\":\"背景影像已變更為 {0}\",\"LOC_HOMEPAGE_ARCHIVE_TOP_REACHED\":\"下一個影像按鈕無法使用，因為已達最後一個影像\",\"LOC_HOMEPAGE_ARCHIVE_BOTTOM_REACHED\":\"上一個影像按鈕無法使用，因為已達第一個影像\",\"LOC_HOMEPAGE_CAROUSEL_SWITCHER_INTERESTS\":\"我的興趣\",\"LOC_HOMEPAGE_CAROUSEL_PREV\":\"過往新聞\",\"LOC_HOMEPAGE_CAROUSEL_MORE\":\"更多新聞\",\"LOC_ZINC_SCOPES_TITLE\":\"搜尋\",\"LOC_HOMEPAGE_OPALUPSELL_INSTALLCARD_TIP\":\"更快、更出色的搜尋\",\"LOC_HOMEPAGE_VERTICAL_SCROLL_OPAL_UPSELL_TITLE\":\"Bing 應用程式: 快速、美觀、好用\",\"LOC_HOMEPAGE_FOLLOW_US\":\"關注我們\",\"LOC_MSB_OPTIN_TOGGLE_TITLE\":\"顯示來自 {0} 的資訊\",\"LOC_HOMEPAGE_COPYRIGHT_FORMAT\":\"© {0} Microsoft\",\"LOC_SEARCH_SWITCHTAB_DESKTOP_CN\":\"国内版\",\"LOC_SEARCH_SWITCHTAB_DESKTOP_EN\":\"国际版\",\"LOC_SEARCH_SWITCHTAB_MOBILE_EN\":\"切换至国内版\",\"LOC_SEARCH_SWITCHTAB_MOBILE_CN\":\"切换至国际版\",\"LOC_SEARCH_SWITCHTAB_MOBILE_CN_TIP\":\"直搜全球英文信息\",\"LOC_MODULES_BINGATWORK_SCHOOL_TITLE\":\"學校\",\"LOC_MODULES_BINGATWORK_TITLE\":\"工作\",\"LOC_OVERFLOWMENU_MORE_ARIALABEL\":\"更多\",\"Speech_LearnMore_Tooltip\":\"使用語音搜尋。\",\"Speech_LearnMore_Tooltip_Link\":\"學習如何\",\"Speech_LearnMore_Title\":\"使用您的語音搜尋!\",\"Speech_LearnMore_ExpQuery\":\"「hello 的中文怎麼說」\",\"Speech_LearnMore_Instruction2\":\"請試著說，\",\"LOC_HOMEPAGE_TRAVEL_GUIDE_TITLE\":\"查看 Bing 旅遊指南 {0}\",\"LOC_MICROPHONE_TOOLTIP\":\"使用語音搜尋\",\"LOC_HOMEPAGE_VERTICAL_SCROLL_MAP\":\"在地圖上檢視\",\"LOC_SEARCHBOX_TITLE\":\"輸入您的搜尋字詞\",\"LOC_HOMEPAGE_SEARCH_FOR_TYPE\":\"搜尋 {0}\",\"LOC_HOMEPAGE_VERTICAL_SCROLL_IOTD_ARIA\":\"今日圖片: {0}\",\"LOC_SEARCHBOX_CLEAR\":\"清除\",\"LOC_SEARCHBOX_INSTRUCTION\":\"Enter 直接搜索\",\"LOC_SEARCHBOX_TOOLTIP\":\"點擊 Enter 鍵直接搜索\",\"LOC_CODEX_NUDGE_SB_PLACEHOLDER\":\"問我任何問題...\",\"LOC_CODEX_NUDGE_CTA_TEXT\":\"試試看\",\"LOC_CODEX_NUDGE_CTA_TEXT_NEW\":\"詢問 Bing Chat\",\"LOC_CODEX_NUDGE_CTA_COPILOT_TEXT\":\"詢問 Copilot\",\"LOC_CODEX_LEARN_MORE_TEXT\":\"深入了解\",\"LOC_HOMEPAGE_SITE_NAME_META_TAG\":\"Bing\",\"LOC_HOMEPAGE_SITE_NAME_4\":\"Bing 搜尋\",\"LOC_SEARCHBUTTON_TITLE\":\"搜尋\",\"LOC_CODEX_NUDGE_PREVIOUS\":\"上一個建議\",\"LOC_CODEX_NUDGE_NEXT\":\"下一個建議\",\"LOC_CODEX_NUDGE_TAB_INDEX\":\"{0}/{1}\",\"LOC_CODEX_NUDGE_AUTOPLAY_START\":\"播放\",\"LOC_CODEX_NUDGE_AUTOPLAY_END\":\"暫停\",\"CODEX_OPTOUT_TEXT\":\"是否要查看 Bing 每日影像?\",\"LOC_CODEX_NUDGE_INTRO_HEADER\":\"Copilot 簡介\",\"LOC_CODEX_NUDGE_INTRO_TEXT\":\"詢問實際問題。取得完整的解答。\",\"LOC_CODEX_NUDGE_CLOSE\":\"關閉\",\"LOC_CODEX_SBOX_SG_AVAILABLE\":\"有可用的建議\",\"LOC_CODEX_HEADER_BUTTON_JOIN_TEXT\":\"嘗試全新的 Bing\",\"LOC_CODEX_HEADER_BUTTON_WAITLIST_TEXT\":\"您已在等候清單上\",\"LOC_CODEX_INPUT_CHAR_LIMIT\":\"{1} 個字元，共 {0} 個字元\",\"LOC_CODEX_GHOSTING_SUGGESTION\":\"按 Tab 鍵以接受建議\",\"LOC_HOMEPAGE_LOGOHELPTEXT\":\"Microsoft 標誌影像\",\"LOC_TOB_MSNICON\":\"在 MSN.com 上閱讀文章\",\"LOC_TOB_READARTICLE\":\"閱讀文章\",\"LOC_CN_TOP_NAV_SITE_TITLE\":\"猜你想搜\",\"LOC_CN_TOP_NAV_SITE_PANE_CLOSE\":\"關閉\",\"LOC_HOMEPAGE_AD\":\"廣告\",\"LOC_COPILOT\":\"開啟 Copilot\",\"LOC_HOMEPAGE_FAVORITES_LOGINUPSELL_LINK\":\"登入\",\"LOC_CHROME_NEWTAB_UNDO_REMOVE\":\"復原\",\"LOC_CHROME_NEWTAB_REMOVE\":\"移除\",\"LOC_CHROME_NEWTAB_REMOVED\":\"已移除\",\"LOC_CHROME_NEWTAB_TILE\":\"磁貼\",\"LOC_CHROME_NEWTAB_TILE_REMOVED\":\"已移除圖格。\",\"LOC_COPILOTSEARCH_BUTTON\":\"開啟 Copilot 搜尋\"},\"HasCarousel\":true,\"MSN_OCID\":\"\",\"CarouselTooltipEnabled\":true,\"TOBHasMsnIcon\":true,\"MsnIconHasLocTooltip\":false,\"OpenTrendingTileNewTab\":true,\"SerpTrendingOnBingLink\":\"\",\"EnableSearchboxTrendingOnBing\":false,\"CarouselApiUrl\":\"/hp/api/v1/msnpopularnow?\",\"MaxTilesInFirstRequest\":20,\"DisableSecondCarouselRequest\":false,\"HasVerticalScroll\":false,\"IsWidgetCompatible\":false,\"EnableCodexSB\":false,\"EnableCodexMic\":true,\"EnableCodexSBTall\":false,\"EnableSearchBoxExpansionForAS\":true,\"EnableTabPrompt\":false,\"EnableSapphireSearchTrigger\":false,\"EnableAsContainerTab\":false,\"BoldGhostTextType\":\"\",\"LogSearchBoxPerfMarkers\":true,\"EnableCodexIntro\":false,\"EnableNTPLikeSearchBox\":true,\"EnableSTWString\":false,\"EnableHPSBHover2\":false,\"EnableNTPLikeBorder\":false,\"EnableNTPLikeShadow\":false,\"EnableASSearchButton\":false,\"DisableDynamicNudgeQuery\":false,\"EnableXOutBehavior\":false,\"IsEUCookieConsentEnabled\":false,\"EuCookieName\":\"MSCC\",\"EnableManagedCookiePreference\":false,\"CurrentIndex\":0,\"IsMobile\":false,\"BgQuality\":50,\"MbBgASAP\":false,\"MbBgOnLoad\":false,\"SearchTypeFix\":true,\"InvalidateTHCache\":false,\"ImageCropSize\":\"1920x1080\",\"IsChromeNewTab\":false,\"ForceWidescreen\":false,\"IsChromeExtensionUser\":false,\"FormCode\":\"QBLH\",\"IsBingWpAppEnabled\":true,\"IsBingAppEnabled\":false,\"HasTriviaQuiz\":false,\"MobileSBTop\":true,\"RewardsMobileHeaderEnabled\":false,\"EnableWebp\":true,\"EnableTOBAds\":false,\"Enablecarperf\":false,\"UserEmail\":\"\",\"EnableMsalAuth\":true,\"EnableHeaderContrast\":true,\"SearchboxTextMax\":1000,\"Scripts\":[{\"Path\":\"/rp/ICf9X-WMafiZOnS_3M9RpM8994E.gz.js\",\"Postloaded\":true},{\"Path\":\"/rp/w76VomrYDGEuzk-jXmZInAdzsWY.gz.js\",\"Postloaded\":true},{\"Path\":\"/rp/ICf9X-WMafiZOnS_3M9RpM8994E.gz.js\",\"Postloaded\":true}],\"Styles\":[{\"Path\":\"/rp/sbZHkrqo0NDpxP8y-fIbQ7lPJL0.gz.css\",\"Postloaded\":false},{\"Path\":\"/rp/beamUfk5C9vIKbcUIOH-IP6oX0g.gz.css\",\"Postloaded\":true},{\"Path\":\"/rp/jJEiSMrrtDDpv9ikvYme_4bO75o.gz.css\",\"Postloaded\":true},{\"Path\":\"/rp/vYhrUWJwQuxFDxb-DJDTggEaBl4.gz.css\",\"Postloaded\":true}],\"CustomFields\":null,\"Scopes\":[{\"Text\":\"圖片\",\"SubScopes\":[],\"BaseUrl\":\"/images?FORM=Z9LH\",\"Id\":\"images\",\"Overflow\":false,\"ExposeIfPossible\":false,\"IsDivider\":false,\"EnableIcon\":false,\"ImageSourceUrl\":\"\"},{\"Text\":\"影片\",\"SubScopes\":[],\"BaseUrl\":\"/videos?FORM=Z9LH1\",\"Id\":\"video\",\"Overflow\":true,\"ExposeIfPossible\":true,\"IsDivider\":false,\"EnableIcon\":false,\"ImageSourceUrl\":\"\"},{\"Text\":\"翻譯\",\"SubScopes\":[],\"BaseUrl\":\"/search?q=Bing+translate\\\\u0026FORM=TTAHP1\",\"Id\":\"translate\",\"Overflow\":true,\"ExposeIfPossible\":false,\"IsDivider\":false,\"EnableIcon\":false,\"ImageSourceUrl\":\"\"},{\"Text\":\"地圖\",\"SubScopes\":[],\"BaseUrl\":\"/maps?FORM=Z9LH2\",\"Id\":\"local\",\"Overflow\":true,\"ExposeIfPossible\":true,\"IsDivider\":false,\"EnableIcon\":false,\"ImageSourceUrl\":\"\"},{\"Text\":\"新聞\",\"SubScopes\":[],\"BaseUrl\":\"/news/search?q=%e7%86%b1%e9%96%80%e5%a0%b1%e5%b0%8e\\\\u0026nvaug=%5bNewsVertical+Category%3d%22rt_MaxClass%22%5d\\\\u0026FORM=Z9LH3\",\"Id\":\"news\",\"Overflow\":true,\"ExposeIfPossible\":true,\"IsDivider\":false,\"EnableIcon\":false,\"ImageSourceUrl\":\"\"},{\"Text\":\"MSN\",\"SubScopes\":[],\"BaseUrl\":\"//www.msn.com/?ocid=BHEA000\",\"Id\":\"msn\",\"Overflow\":true,\"ExposeIfPossible\":false,\"IsDivider\":true,\"EnableIcon\":false,\"ImageSourceUrl\":\"\"},{\"Text\":\"線上遊戲\",\"SubScopes\":[],\"BaseUrl\":\"https://www.msn.com/play?ocid=cgbinghp\",\"Id\":\"games\",\"Overflow\":true,\"ExposeIfPossible\":false,\"IsDivider\":false,\"EnableIcon\":false,\"ImageSourceUrl\":\"\"},{\"Text\":\"Microsoft 365\",\"SubScopes\":[{\"Text\":\"Outlook\",\"SubScopes\":[],\"BaseUrl\":\"//outlook.com/?WT.mc_id=O16_BingHP\",\"Id\":\"outlook\",\"Overflow\":false,\"ExposeIfPossible\":false,\"IsDivider\":false,\"EnableIcon\":false,\"ImageSourceUrl\":\"\"},{\"Text\":\"Word\",\"SubScopes\":[],\"BaseUrl\":\"//microsoft365.com/start/Word.aspx?WT.mc_id=O16_BingHP\",\"Id\":\"word\",\"Overflow\":false,\"ExposeIfPossible\":false,\"IsDivider\":false,\"EnableIcon\":false,\"ImageSourceUrl\":\"\"},{\"Text\":\"Excel\",\"SubScopes\":[],\"BaseUrl\":\"//microsoft365.com/start/Excel.aspx?WT.mc_id=O16_BingHP\",\"Id\":\"excel\",\"Overflow\":false,\"ExposeIfPossible\":false,\"IsDivider\":false,\"EnableIcon\":false,\"ImageSourceUrl\":\"\"},{\"Text\":\"PowerPoint\",\"SubScopes\":[],\"BaseUrl\":\"//microsoft365.com/start/PowerPoint.aspx?WT.mc_id=O16_BingHP\",\"Id\":\"powerpoint\",\"Overflow\":false,\"ExposeIfPossible\":false,\"IsDivider\":false,\"EnableIcon\":false,\"ImageSourceUrl\":\"\"},{\"Text\":\"OneNote\",\"SubScopes\":[],\"BaseUrl\":\"//www.onenote.com/notebooks?WT.mc_id=O16_BingHP\",\"Id\":\"onenote\",\"Overflow\":false,\"ExposeIfPossible\":false,\"IsDivider\":false,\"EnableIcon\":false,\"ImageSourceUrl\":\"\"},{\"Text\":\"Sway\",\"SubScopes\":[],\"BaseUrl\":\"//sway.office.com?WT.mc_id=O16_BingHP\\\\u0026utm_source=O16Bing\\\\u0026utm_medium=Nav\\\\u0026utm_campaign=HP\",\"Id\":\"sway\",\"Overflow\":false,\"ExposeIfPossible\":false,\"IsDivider\":false,\"EnableIcon\":false,\"ImageSourceUrl\":\"\"},{\"Text\":\"OneDrive\",\"SubScopes\":[],\"BaseUrl\":\"//onedrive.live.com/?gologin=1\\\\u0026WT.mc_id=O16_BingHP\",\"Id\":\"onedrive\",\"Overflow\":false,\"ExposeIfPossible\":false,\"IsDivider\":false,\"EnableIcon\":false,\"ImageSourceUrl\":\"\"},{\"Text\":\"行事曆\",\"SubScopes\":[],\"BaseUrl\":\"//calendar.live.com/?WT.mc_id=O16_BingHP\",\"Id\":\"calendar\",\"Overflow\":false,\"ExposeIfPossible\":false,\"IsDivider\":false,\"EnableIcon\":false,\"ImageSourceUrl\":\"\"},{\"Text\":\"連絡人\",\"SubScopes\":[],\"BaseUrl\":\"//outlook.live.com/owa/?path=/people\\\\u0026WT.mc_id=O16_BingHP\",\"Id\":\"people\",\"Overflow\":false,\"ExposeIfPossible\":false,\"IsDivider\":false,\"EnableIcon\":false,\"ImageSourceUrl\":\"\"}],\"BaseUrl\":\"\",\"Id\":\"office\",\"Overflow\":true,\"ExposeIfPossible\":false,\"IsDivider\":false,\"EnableIcon\":false,\"ImageSourceUrl\":\"\"},{\"Text\":\"認識 Bing\",\"SubScopes\":[],\"BaseUrl\":\"https://www.microsoft.com/bing?form=MA13SW\",\"Id\":\"cle\",\"Overflow\":true,\"ExposeIfPossible\":false,\"IsDivider\":false,\"EnableIcon\":false,\"ImageSourceUrl\":\"\"}],\"Footer\":[{\"Text\":\"隱私權與 Cookie\",\"BaseUrl\":\"//go.microsoft.com/fwlink/?LinkId=521839\",\"Id\":\"privacy\",\"Overflow\":false,\"ExposeIfPossible\":false,\"EnableIcon\":false,\"ImageSourceUrl\":\"\",\"Icon\":\"\"},{\"Text\":\"法律聲明\",\"BaseUrl\":\"//go.microsoft.com/fwlink/?LinkID=246338\",\"Id\":\"legal\",\"Overflow\":false,\"ExposeIfPossible\":false,\"EnableIcon\":false,\"ImageSourceUrl\":\"\",\"Icon\":\"\"},{\"Text\":\"廣告\",\"BaseUrl\":\"//go.microsoft.com/fwlink/?linkid=868923\",\"Id\":\"\",\"Overflow\":false,\"ExposeIfPossible\":false,\"EnableIcon\":false,\"ImageSourceUrl\":\"\",\"Icon\":\"\"},{\"Text\":\"關於我們的廣告\",\"BaseUrl\":\"//go.microsoft.com/fwlink/?LinkID=286759\",\"Id\":\"\",\"Overflow\":false,\"ExposeIfPossible\":false,\"EnableIcon\":false,\"ImageSourceUrl\":\"\",\"Icon\":\"\"},{\"Text\":\"說明\",\"BaseUrl\":\"//support.microsoft.com/topic/82d20721-2d6f-4012-a13d-d1910ccf203f\",\"Id\":\"help\",\"Overflow\":false,\"ExposeIfPossible\":false,\"EnableIcon\":false,\"ImageSourceUrl\":\"\",\"Icon\":\"\"},{\"Text\":\"意見反應\",\"BaseUrl\":\"#\",\"Id\":\"sb_feedback\",\"Overflow\":false,\"ExposeIfPossible\":false,\"EnableIcon\":false,\"ImageSourceUrl\":\"\",\"Icon\":\"\"}],\"RtlLang\":false,\"Market\":\"zh-HK\",\"TrueMarket\":\"zh-HK\",\"Region\":\"HK\",\"Language\":\"zh-Hant\",\"SupportedLanguages\":[{\"Name\":\"English\",\"Url\":\"/?setlang=en\\\\u0026cc=hk\",\"EnglishName\":\"English\"}],\"SymbolOfSolidarity\":null,\"UserType\":\"\",\"MultiLangKeyboardEnabled\":false,\"Features\":{\"MicEnabled\":\"false\",\"IdentityHeaderVNext\":\"false\"},\"InPrivate\":false,\"IsSuperApp\":false,\"SearchBoxPlaceHolder\":null,\"LargeTargNoTT\":false,\"IconsMaxTarg\":false,\"SearchBoxIconColor\":\"#007DAA\",\"SearchBoxLeftIconStatus\":\"\",\"IsCntShareEnabled\":false,\"IsTravelEnabled\":false,\"HasShareWidget\":false,\"IsCnMarket\":false,\"DsbClickThru\":false,\"EnablePreloadMic\":true,\"EnableShowMicOnSBClick\":false,\"EnableSkipVoiceReco\":false,\"EnableCodexNudge\":false,\"EnableTrendingOnBingInCNWW\":false,\"HPSearchButtonNewStr\":false,\"HPSBSearchStr\":false,\"EnableInlineSB\":false,\"GLikeSB\":false,\"GLikeSquare\":false,\"EnableExpandedSB\":true,\"EnablePriLargeSB\":false,\"EnableNTPISB\":false,\"EnableEntireClick\":true,\"EnableInPrivateInlineSB\":false,\"EnableSwitchTabClick\":false,\"ChangeSearchIconColor\":false,\"EnableLargerSB\":true,\"HPBlueSB\":false,\"EnableSBAds\":false,\"EnableUMFNewCarousel\":false,\"EnableUMFTOB\":false,\"EnableTrendingOnBingSettingsWW\":true,\"MoveTrendingOnBingSettingsAbove\":true,\"EnableCodexIotd\":false,\"EnableCodexConversation\":false,\"EnableCodexOptOut\":false,\"CodexWaitlistStatus\":\"notjoined\",\"EnableCodexHeaderButton\":false,\"NudgesAutoplayDuration\":5000,\"EnableNudgesAnimation\":true,\"EnableBingChatStandalonePage\":true,\"EnableMobileHorizTob\":false,\"SearchByImageEnabled\":false,\"EnableNewPageLayout\":false,\"EnableHeadingLayout\":false,\"EnableDesktopDarkTheme\":false,\"IOTDPreload\":7,\"IOTDAvif\":true,\"IOTDImg\":false,\"IOTDAlwaysCache\":true,\"EnableDevLog\":false,\"SwitchIOTD\":true,\"CacheIOTDForDev\":0,\"RowupClass\":\"show_all_onerowup\",\"SharedPreact\":false,\"EnableRespHeader\":true,\"EnableFullHeader\":true,\"EnableHPMobileSignin\":false,\"PeregrineWidgetsURL\":\"https://assets.msn.com/bundles/v1/bingHomepage/latest/widget-initializer.js\",\"EnableSuperNav\":false,\"FeedColumnStyle\":\"five_col\",\"EnableScopeIcons\":false,\"EnablePersonalizedFeedMenu\":true,\"OpalUpsellEnabled\":true,\"EnabledFlights\":\"\",\"EnableUMF\":false,\"OpenInNewTab\":\"_blank\",\"EnableNewTabInSearchBox\":false,\"EnableScByDefault\":false,\"EnablePnByDefault\":false,\"DisableScByDefault\":false,\"DisablePnByDefault\":false,\"ShowCarouselTitleOnlyByDefault\":false,\"HideCarouselByDefault\":false,\"EnforceChildContentFiltering\":false,\"EnableNewMuseumCard\":true,\"EnableHalfTob\":true,\"EnableTwoRowTOB\":false,\"EnableHTOBT1\":false,\"EnableHTOBT2\":false,\"EnableHTOBT3\":false,\"EnableTOBT1\":false,\"EnableTOBT2\":false,\"HolTrayLeft\":false,\"EnableWelcomeGreeting\":false,\"EnableTopNavSites\":false,\"TopNavSites2\":false,\"EnableTopNavSites2\":false,\"TopNavSitesBigIcon\":false,\"TopNavSitesDarkBackground\":false,\"TopNavSitesOpenInCurrentTab\":false,\"ShowTopNavSitesImage\":true,\"TopNavSitesCDNImage\":false,\"TopNavSitesImgTag\":false,\"EnableSkeletonSNR\":true,\"EnableSkeletonSNRTransparentBG\":true,\"EnableSkeletonSNRDebug\":false,\"EnablePWFlightsFromBingHP\":false,\"FlightsFromBingHP\":\"\",\"Enable1SFlightsFromBingHP\":false,\"OneSFlightsFromBingHP\":\"\",\"EnableCopilotIcon\":true,\"EnableScopesOverflow\":true,\"DisableCopilotIconInScopes\":false,\"DisplayCopilotItemInScopesDotsMenu\":false,\"DisableCopilotIconInSearchBox\":false,\"EnableCopilotSearchIconInSearchBox\":false,\"HideCopilotIconWhileSearchingHP\":false,\"EnableSearchBoxSVG\":false,\"EnableSearchBoxASPlaceholder\":false,\"EnableSearchBoxEmptyPlaceholder\":true,\"EnableSearchBoxInstruction\":false,\"EnableSearchBoxTooltipSpecific\":false,\"HasBotDetection\":false,\"MobileQSEnabled\":false,\"EnableMsalMuid\":true,\"EnableSLSBoxLongAlways\":true,\"EnableFeedEarlyCRSCall\":true,\"EnableTrendingOnBingBelowSearchbox\":false,\"TrendingOnBingItemCount\":24,\"TrendingOnBingPageSize\":6,\"EnableMiddleSearchBox\":false,\"EnableMiddleSearchBoxFeedLow\":false,\"EnableMiddleSearchBoxFeedLower\":false,\"EnableFeedsAboveWithTob\":false,\"HasTrendingOnBingClose\":false,\"EnableTrendingOnBingQueryText\":false,\"EnableTrendingOnBingImage\":false,\"EnableServiceWorker\":false,\"EnableFullScreenAS\":false,\"EnableTrendingOnBingTitleClickable\":false,\"IsFireFoxBrowser\":false,\"EnableSearchFabHP\":false,\"EnableOldAppId\":false,\"EnforceNotSignedIn\":false,\"DisableDimmer\":false,\"EnableNewNTP\":true};;var _vs = { sboxtgt: \"\", anon: false, locstr:{ wait:\"等候中...\", listen: false ?\"開始使用語音搜尋...\":\"正在聆聽...\", block: false ?\"無法存取您的麥克風。請檢查您的瀏覽器或裝置設定。\":\"麥克風權限遭拒，請檢查瀏覽器設定。\", mictt:\"使用語音搜尋\", error: false ?\"聽不到您的聲音。請檢查您的麥克風或音訊設定。\":\"偵測音訊時發生問題。\", notext: false ?\"我們並未收到該訊息。您可以再試一次嗎？\":\"未偵測到任何語音。\", blockedtitle:\"麥克風已封鎖\", blockeddesc:\"此頁面已封鎖存取您的麥克風。\", blockedfix:\"若要允許 Bing 存取您的麥克風，請按一下已封鎖的麥克風圖示。\", blockeddismiss:\"關閉\", nomic:\"找不到麥克風裝置。\", nomicLinkText:\"設定麥克風\", nomicQuery:\"設定麥克風\", overlayText:\"按一下 [允許] 以啟用語音搜尋\", micAllowTitle:\"想要用語音搜尋嗎?\", micAllowDesc:\"選取允許讓 Bing 使用您的麥克風\", micReTitle:\"語音搜尋已關閉\", micReDesc:\"將其開啟\", micReList1:\"按一下瀏覽器網址列中的麥克風按鈕\", micReList2:\"選取 [一律允許] 讓 Bing 使用您的麥克風\", upsellHeader:\"嘗試使用您的聲音搜尋\", upsellSubheader:\"按一下麥克風，然後說...\", upsellsuggestion0:\"明天的天氣\", upsellsuggestion1:\"今天太陽何時下山？\", upsellsuggestion2:\"如何拼寫 parallelogram\", upsellsuggestion3:\"難以置信的這個詞是什麼意思？\", upsellsuggestion4:\"北京現在幾點?\", upsellsuggestion5:\"莫三比克使用哪些口說語言？\", upsellsuggestion6:\"一年使用多少個塑膠瓶？\", upsellsuggestion7:\"如何用日語說你好？\", upsellsuggestion8:\"2000 美元是多少歐元？\", upsellsuggestion9:\"3 英尺是多少公尺？\", speechSuggestionAria:\"搜尋建議\", helloQuery:\"您好\", personalVoiceTooltipTitle:\"已啟用個人語音\", personalVoiceTooltipDescription:\"此合成語音是由 {0} 所建立\", personalVoiceTooltipClose:\"關閉\", personalVoiceTooltipEnabledText:\"語音結果會使用由 {0} 建立的合成語音來為您讀取\", personalVoiceTooltipExampleQuery:\"「一加侖有幾盎司?」\", personalVoiceTooltipSettingsText:\"在 [設定] 中管理您的朗讀語音\", }, mobile: false, reopenmic: true, ttsFromSsmlEnabled: false, userSpeechLanguageSettingEnabled: true, permRequestOverlayEnabled: true, allowForceQuery: true, enablePersonalVoice: false, enableSecondTooltip: false, enablePersonalVoiceUrlParse: true, mockPersonalVoice: 0, forceHelloQuery: false, testOverlay:\"\", enableVoiceSRDomain:true, micFabAlwaysVisible: false, spokenResponseTypeLogEnabled: true, noSpeechDetectedReopenMic: true, showSuggestion: false, mockSuggestion: false, enablePreloadMic: true, enableSydConv: false, voiceFilesPath:\"/vs/ec/\", setEarconsOnClick: true, enableStopSpeechRecogIfInvisible: true, bingSpeechSearchUpsellMode:\"\", bingSpeechSearchUpsellTracker:\"\", bingSpeechSearchUpsellCooldownDays: 3, bingSpeechSearchUpsellCooldownDisplayTimes: 2, }; var si_ST = new Date(); _G.AppVer =\"58118639\"; _G.Mkt = \"zh-HK\"; var _H = { mkt: \"zh-HK\", hpqs: 1, hpvn: 1, feature: \"hp\" };;\\n//]]></script><script type=\"text/javascript\" crossorigin=\"anonymous\" nonce=\"zIILOtYq9iaGYGQgVWSLmFWjdkKDEAQJmch25TvLhKE=\" src=\"/rp/pMSzmfKzAMajmagqZdp_nH4SwWs.gz.js\"></script><script type=\"text/javascript\" crossorigin=\"anonymous\" nonce=\"zIILOtYq9iaGYGQgVWSLmFWjdkKDEAQJmch25TvLhKE=\" src=\"/rp/sTqO8BLDL3SMwm5-DmlL0eodCJk.gz.js\"></script><script type=\"text/javascript\" crossorigin=\"anonymous\" nonce=\"zIILOtYq9iaGYGQgVWSLmFWjdkKDEAQJmch25TvLhKE=\" src=\"/rp/PVEp6LmF7FGQF4_wW3Ri1trRPv4.gz.js\"></script><script type=\"text/javascript\" crossorigin=\"anonymous\" nonce=\"zIILOtYq9iaGYGQgVWSLmFWjdkKDEAQJmch25TvLhKE=\" src=\"/rp/lby8b_CRinhTjMOPZNeSAkjPvNQ.gz.js\"></script><script type=\"text/javascript\" crossorigin=\"anonymous\" nonce=\"zIILOtYq9iaGYGQgVWSLmFWjdkKDEAQJmch25TvLhKE=\" src=\"/rp/PrUVzF4hlCEHR6XAp8AR6euT5OM.gz.js\"></script><script type=\"text/javascript\" crossorigin=\"anonymous\" nonce=\"zIILOtYq9iaGYGQgVWSLmFWjdkKDEAQJmch25TvLhKE=\" src=\"/rp/qN3rmGYj9Qsn6JmjzmYclpmfCHI.gz.js\"></script><script type=\"text/javascript\" crossorigin=\"anonymous\" nonce=\"zIILOtYq9iaGYGQgVWSLmFWjdkKDEAQJmch25TvLhKE=\" src=\"/rp/omjewb8RA_1ed-86jqIwN_f_ON8.gz.js\"></script><script type=\"text/javascript\" crossorigin=\"anonymous\" nonce=\"zIILOtYq9iaGYGQgVWSLmFWjdkKDEAQJmch25TvLhKE=\" src=\"/rp/9RU9Mo45ZvCytDGnLCWS0LulULU.gz.js\"></script><script type=\"text/javascript\" crossorigin=\"anonymous\" nonce=\"zIILOtYq9iaGYGQgVWSLmFWjdkKDEAQJmch25TvLhKE=\" src=\"/rp/KabkK9U1lEUFvLFDjnCkWVJGYRo.gz.js\"></script><script type=\"text/javascript\" crossorigin=\"anonymous\" nonce=\"zIILOtYq9iaGYGQgVWSLmFWjdkKDEAQJmch25TvLhKE=\" src=\"https://r.bing.com/rb/5U/jnc,nj/na346vReh2A0iTRkTLxYLYGGsAA.js?bu=B8QEyATKBIUEsgTRBNgE&or=w\"></script><script type=\"text/javascript\" crossorigin=\"anonymous\" nonce=\"zIILOtYq9iaGYGQgVWSLmFWjdkKDEAQJmch25TvLhKE=\" src=\"/rp/ICf9X-WMafiZOnS_3M9RpM8994E.gz.js\"></script><script type=\"text/javascript\" crossorigin=\"anonymous\" nonce=\"zIILOtYq9iaGYGQgVWSLmFWjdkKDEAQJmch25TvLhKE=\" src=\"/rp/IBiKnL9muDjMtRP07iARgbAx7Sw.gz.js\"></script><script type=\"text/javascript\" crossorigin=\"anonymous\" nonce=\"zIILOtYq9iaGYGQgVWSLmFWjdkKDEAQJmch25TvLhKE=\" src=\"/rp/fyC3qV4jeTQCExkMqctD7zvp5nI.gz.js\"></script><script type=\"text/javascript\" crossorigin=\"anonymous\" nonce=\"zIILOtYq9iaGYGQgVWSLmFWjdkKDEAQJmch25TvLhKE=\" src=\"https://r.bing.com/rs/6p/fK/jnc,nj/tlifxqsNyCzxIJnRwtQKuZToQQw.js?or=w\"></script><script type=\"text/javascript\" crossorigin=\"anonymous\" nonce=\"zIILOtYq9iaGYGQgVWSLmFWjdkKDEAQJmch25TvLhKE=\" src=\"/rp/ICf9X-WMafiZOnS_3M9RpM8994E.gz.js\"></script><script type=\"text/javascript\" nonce=\"zIILOtYq9iaGYGQgVWSLmFWjdkKDEAQJmch25TvLhKE=\">//<![CDATA[\\nsa_config={\"f\":\"sb_form\",\"i\":\"sb_form_q\",\"c\":\"sw_as\",\"zisParent\":\"sa_zis_parent\",\"u\":\"%2fAS%2fSuggestions%3fpt%3dpage.home%26qry%3d\",\"enableLeftIconForEntityTypes\":\"\\\\\"\\\\\"\",\"removeSuggUrl\":\"/historyHandler?oma=delete_matching_queries\\\\u0026qt=%7b0%7d\\\\u0026sig=06E016DC6D7B63CB202300FD6C7362D3\\\\u0026response=json\\\\u0026FORM=ASRMHS\",\"searchHistoryUrl\":\"/profile/history?FORM=ASRMHP\",\"partner\":\"page.home\",\"ghostingWithGreyText\":\"\",\"enableTabPrompt\":\"\",\"cssResourceUrl\":\"/rp/g_m-0ZAhVkRWgNQWTbBw0BPQO3I.gz.css\",\"jsResourceUrl\":\"/rp/F8JkALxpddM7ws2IPSk3KLnf6MU.gz.js\",\"enabledSearchTypes\":[\"RS\",\"PASF\"],\"enabledDataSources\":[\"Web\"],\"eHC\":1,\"brlg\":1,\"fetchOnEmpty\":1,\"fetchOnDownArrowKey\":1,\"t\":1,\"enableSbUpdate\":1,\"ol\":1,\"isPathSearch\":1,\"asmobbacks\":1,\"longquery\":1,\"dsarialv\":1,\"aslogtel\":1,\"asszrdc\":1,\"eNw\":1,\"nwLim\":1,\"ezis\":1,\"imeghmb\":1,\"leftIconOnSuggestions\":1,\"EnableHistoryIcon\":1,\"waitForCompositionEnd\":1,\"enableClientPerfLatencyCalc\":1,\"asLowNetworkScneario\":1,\"noNextWordTermination\":1,\"nextWordNFullSuggsOne\":1,\"enableAsPanelExpansion\":1,\"backfillRichRequery\":1,\"prioritizePAAInterrogative\":1,\"enableEASE\":1,\"msspltredirc\":1,\"enblmsspltred\":1,\"FastEntMulti\":1,\"logClickOnSuggestion\":1,\"CommonFooter\":1,\"ascsr\":1,\"csr_precompbootstrap\":1,\"rmHS\":1,\"asprefjs\":1,\"asdsg\":1,\"asprefre\":1,\"asprefrev3\":1,\"asdbc\":1,\"asmltbox\":1,\"askbfocus\":1,\"asOnSBRound\":1,\"asbugfix\":1,\"easpm\":1,\"asResUrlLog\":1,\"handleDuplicateFetch\":1,\"maxRSSuggLenLimitRichRequery\":48,\"maxPAASuggLenLimitRichRequery\":48,\"prioritizePAAMinWords\":3,\"easePI\":400,\"login\":4,\"d\":0,\"removeTextLength\":28,\"asdbcdly\":10,\"ascqsl\":100,\"zisr1\":5,\"maxSuggestionsForEmptyQuery\":10,\"maxSuggestions\":12,\"maxSuggestionsToShow\":[3,5]};sa_loc= {\"Suggestions\":\"建議\",\"MoreAbout\":\"深入了解\",\"RemoveHistorySuggestion\":\"移除\",\"H_PN\":\"現正熱門\",\"H_SSE\":\"與最近的搜尋相關\",\"ASSearchBtnText1\":\"Bing\",\"ASSearchBtnText2\":\"Bing 搜尋\",\"ASSearchBtnText3\":\"搜尋\",\"H_TNOB\":\"Bing 上的目前熱門趨勢\",\"SearchRemoved\":\"已從您的%e搜尋歷程記錄%E移除此搜尋\",\"ManageHistory\":\"%e管理您的搜尋歷程記錄%E\",\"RelatedSearches\":\"相關的搜尋\",\"PeopleAlsoAsk\":\"其他人也問了以下問題\",\"PeopleAlsoSearchFor\":\"其他人還搜尋\",\"SeeMore\":\"查看更多內容\",\"SearchHistoryHeading\":\"搜尋歷史\"};;sa_loader=function(){_w.rms.js({\\'rms:answers:AutoSuggest:AutoSug\\':\\'\\\\/rp\\\\/F8JkALxpddM7ws2IPSk3KLnf6MU.gz.js\\',d:1});};;function sa_preactloader(){_w.rms.js({\\'rms:answers:SharedStaticAssets:preact_libary\\':\\'\\\\/rp\\\\/1BYu2NSXqzZr6N-6YI5zouE_wKM.gz.js\\',d:1});} function sa_preactcompsloader(){_w.rms.js({\\'rms:answers:AutoSuggest:AutoSuggestCsrComponents\\':\\'\\\\/rp\\\\/B_HUpzAxOJ3F2P7bu-LsUuPIN2A.gz.js\\',d:1});};;\\n//]]></script><script type=\"text/javascript\" crossorigin=\"anonymous\" nonce=\"zIILOtYq9iaGYGQgVWSLmFWjdkKDEAQJmch25TvLhKE=\" src=\"/rp/rk28yPL0RlO1FRz224Nhh5fgB20.gz.js\"></script><script type=\"text/javascript\" nonce=\"zIILOtYq9iaGYGQgVWSLmFWjdkKDEAQJmch25TvLhKE=\">//<![CDATA[\\n(function() { sj_evt.bind(\"OnBnpLoaded\",Req,1); function Req(){ if(Bnp===void(0)) return; if(Bnp.Global){ Bnp.Global.RawRequestURL=\"/\"; Bnp.Global.Referer=null; } var r = new Bnp.Partner.Request(\"HomePage\"); r.IID=\"Bnp\"; r.Submit(); } })();;var ipd = { ipt: \"6\", secall: true, pd: true };sj_evt.bind(\\'onP1\\', function () {_w.rms.js({\\'rms:answers:VisualSystem:IPv6TestOnDemand\\':\\'\\\\/rp\\\\/W8bLYGpay8IFp3H_SrUDKaBAn30.gz.js\\',d:1});}, 1);;\\n//]]></script><script type=\"text/javascript\" crossorigin=\"anonymous\" nonce=\"zIILOtYq9iaGYGQgVWSLmFWjdkKDEAQJmch25TvLhKE=\" src=\"/rp/omvcvTFgRHj4j-XW9cNHZEq30YI.gz.js\"></script><script type=\"text/javascript\" nonce=\"zIILOtYq9iaGYGQgVWSLmFWjdkKDEAQJmch25TvLhKE=\">//<![CDATA[\\nvar Identity; (function(Identity) { Identity.sglid =false; Identity.orgIdPhotoUrl =\"https://business.bing.com/api/v3/search/person/photo?caller=IP\\\\u0026id={0}\"; Identity.setLoginPreference =false; Identity.isExplicitMsaSignIn =false; })(Identity || (Identity = {}));;var Identity = Identity || {}; (function(i) { i.wlImgSm =\"https://storage.live.com/users/0x{0}/myprofile/expressionprofile/profilephoto:UserTileStatic/p?ck=1\\\\u0026ex=720\\\\u0026sid=06E016DC6D7B63CB202300FD6C7362D3\\\\u0026fofoff=1\"; i.wlImgLg =\"https://storage.live.com/users/0x{0}/myprofile/expressionprofile/profilephoto:UserTileMedium/p?ck=1\\\\u0026ex=720\\\\u0026sid=06E016DC6D7B63CB202300FD6C7362D3\\\\u0026fofoff=1\";i.popupLoginUrls = {\"WindowsLiveId\":\"https://login.live.com/login.srf?wa=wsignin1.0\\\\u0026rpsnv=11\\\\u0026ct=1751780200\\\\u0026rver=6.0.5286.0\\\\u0026wp=MBI_SSL\\\\u0026wreply=https:%2F%2fwww.bing.com%2Fsecure%2FPassport.aspx%3Fpopup%3D1%26ssl%3D1\\\\u0026lc=3076\\\\u0026id=264960\"}; })(Identity);;FallBackToDefaultProfilePic = function (e) { var new_element = document.createElement(\\'span\\'); new_element.setAttribute(\\'id\\', \\'id_p\\'); new_element.setAttribute(\\'class\\', \\'sw_spd id_avatar\\'); new_element.setAttribute(\\'aria-label\\', \"預設設定檔圖片\"); new_element.setAttribute(\\'role\\', \\'link\\'); var p = e.parentNode; p && p.replaceChild(new_element, e); };(function() { function loadScript() { var rewardsWidgetScript = document.createElement(\\'script\\'); rewardsWidgetScript.src = \"https://www.bing.com/rewardsapp/widgetassets/legacy/prod/medallion/1.4.11/js/widget.js?t=250705\"; rewardsWidgetScript.id = \"rewards-widget\"; rewardsWidgetScript.setAttribute(\"data-report-activity\", \"false\"); rewardsWidgetScript.setAttribute(\"data-dark-mode\", \"false\"); rewardsWidgetScript.setAttribute(\"data-settings\", \"eyJ2ZXJ0aWNhbCI6ImhvbWVwYWdlIn0=\"); rewardsWidgetScript.async = true; document.head.appendChild(rewardsWidgetScript); } if (!true) { loadScript(); return; } if (document.readyState === \"complete\") { loadScript(); } else if (window.addEventListener) { window.addEventListener(\"load\", loadScript); } else if (window.attachEvent) { window.attachEvent(\"onload\", loadScript); } else { loadScript(); } })();;window.data_iid = \"SERP.5028\";;var bepcfg = bepcfg || {};;bepcfg.wb =true? \\'1\\' : \\'0\\';;\\n//]]></script><script type=\"text/javascript\" crossorigin=\"anonymous\" nonce=\"zIILOtYq9iaGYGQgVWSLmFWjdkKDEAQJmch25TvLhKE=\" src=\"/rp/dLXNK3o3tyXzkXA3Jj8ciHATOYc.gz.js\"></script><script type=\"text/javascript\" crossorigin=\"anonymous\" nonce=\"zIILOtYq9iaGYGQgVWSLmFWjdkKDEAQJmch25TvLhKE=\" src=\"https://r.bing.com/rs/6p/fK/jnc,nj/tlifxqsNyCzxIJnRwtQKuZToQQw.js?or=w\"></script><script type=\"text/javascript\" crossorigin=\"anonymous\" nonce=\"zIILOtYq9iaGYGQgVWSLmFWjdkKDEAQJmch25TvLhKE=\" src=\"/rp/bjrsBgLMT2dt5Ai4Vmi31ydUjAA.gz.js\"></script><script type=\"text/javascript\" crossorigin=\"anonymous\" nonce=\"zIILOtYq9iaGYGQgVWSLmFWjdkKDEAQJmch25TvLhKE=\" src=\"/rp/D2h49Yt54MK5yexhnpgtYV9iFcw.gz.js\"></script><script type=\"text/javascript\" nonce=\"zIILOtYq9iaGYGQgVWSLmFWjdkKDEAQJmch25TvLhKE=\">//<![CDATA[\\n_w.rms.js({\\'A:rms:answers:VisualSystem:LogAccessibilityEventsCommon\\':\\'\\\\/rp\\\\/0b3Qsln6Su4gLdwIMpINermce-o.gz.js\\'},{\\'A:rms:answers:VisualSystem:LogAccessibilityEvents\\':\\'\\\\/rp\\\\/Br9c9o_Qjy29JG9rDhNIUOfUKF4.gz.js\\'},{\\'A:rms:answers:VisualSystem:AccessibilityZoomDesktop\\':\\'\\\\/rp\\\\/Z2y_gFqh6Ewco2TNjNmojIbKito.gz.js\\'},{\\'A:rms:answers:VisualSystem:ShowMCP\\':\\'\\\\/rp\\\\/38IytkyyqfebMB5Vaub6CKZcfeA.gz.js\\'},{\\'A:rms:answers:Shared:BingCore.Bundle\\':\\'\\\\/rp\\\\/pJp8XrSS9eN_7YsLQwCR5xI067Y.gz.js\\'},{\\'A:rms:answers:HomepageVNext:OnLoadPreact\\':\\'\\\\/rp\\\\/w76VomrYDGEuzk-jXmZInAdzsWY.gz.js\\'},{\\'A:rms:answers:HomepageVNext:PreactLibrary\\':\\'\\\\/rp\\\\/mMZqH_wVM2LVD_aDzoLL8FVRY0Y.gz.js\\'},{\\'A:rms:answers:HomepageVNext:PreactBundle\\':\\'\\\\/rp\\\\/FcKB8cQTFubmkEOHr7K4F5b00zg.gz.js\\'},{\\'A:rms:answers:HomepageVNext:OutlinePolyfill\\':\\'\\\\/rp\\\\/u7YJKAAtuh0wKEb3fFHJMq04qUs.gz.js\\'},{\\'A:rms:answers:SharedStaticAssets:speech-sdk\\':\\'\\\\/rp\\\\/vmMejd4hqYlY3v3JLTeBdY9HzYY.gz.js\\'},{\\'A:rms:answers:Notifications:BnpPartner\\':\\'\\\\/rp\\\\/kQGVX5OV5XrmgZ6TibrPWzVHlMY.gz.js\\'},{\\'A:rms:answers:OpalUpsell:SAUpsellTrigger\\':\\'\\\\/rp\\\\/xjSd12CoIcBZfQgr--kM55LPr1Y.gz.js\\'},{\\'A:rms:answers:HomepageVNext:PostloadedBundlePreact\\':\\'\\\\/rp\\\\/ICf9X-WMafiZOnS_3M9RpM8994E.gz.js\\'},{\\'A:0\\':0},{\\'A:rms:answers:ServiceWorker:WorkerMessageHomeVNext\\':\\'\\\\/rp\\\\/WLT5rJK9cSZwPuFoJeqaNkXNqKU.gz.js\\'},{\\'A:1\\':1},{\\'A:rms:answers:Feedback:FeedbackAccessibility\\':\\'\\\\/rp\\\\/peNl4yUB4P3PwDM4J7NWGzi8hKM.gz.js\\'},{\\'A:AppendHTML\\':\\'https:\\\\/\\\\/r.bing.com\\\\/rs\\\\/6p\\\\/kZ\\\\/nj\\\\/pxzfjFIjWTDQikh0A5aT_cguYyc.js?or=w\\'},{\\'A:AjaxLoad\\':\\'https:\\\\/\\\\/r.bing.com\\\\/rs\\\\/6p\\\\/ld\\\\/nj\\\\/EmG-XMIMCcq8zmcVBBO7jkFERAE.js?or=w\\'},{\\'A:rms:answers:Feedback:FeedbackBootstrapBundle\\':\\'\\\\/rp\\\\/FfXzXdr8vxge7bE3bEZV_NYyNIE.gz.js\\'},{\\'A:2\\':2},{\\'A:rms:answers:BoxModel:Rules\\':\\'\\\\/rp\\\\/N0NZj2UoTgAcpHMO-3FYmE5C7G4.gz.js\\'},{\\'A:rms:answers:BoxModel:TriggerFirstChunk\\':\\'\\\\/rp\\\\/iuYNUHE3kZrz6Jrb0_Mf0yBFZN0.gz.js\\'},{\\'A:rms:answers:BoxModel:ViewportQueue\\':\\'\\\\/rp\\\\/8srl0LOx92Ew0yyAq2m2e33cq7I.gz.js\\'},{\\'A:rms:answers:BoxModel:LayoutQueue\\':\\'\\\\/rp\\\\/Mt62GUgrdySmO3Hz6WvsY51OVCM.gz.js\\'},{\\'A:rms:answers:BoxModel:EventQueue\\':\\'\\\\/rp\\\\/HirSxIiukcEtlt3KLYJg6Z6QI6k.gz.js\\'},{\\'A:3\\':3},{\\'A:rms:answers:Shared:ShareDialogBootstrapBundle\\':\\'\\\\/rp\\\\/jhk_5I4f9VeUBzSlHc_enKyc3Ko.gz.js\\'},{\\'A:rms:answers:Identity:BlueIdentityDropdownBootStrap\\':\\'\\\\/rp\\\\/yjXVFOxf6UdoTA2BOwEH6n4ClfI.gz.js\\'},{\\'A:rms:answers:Identity:BlueIdentityHeader\\':\\'\\\\/rp\\\\/ihC7RhTVhw2ULO_1rMUWydIu_rA.gz.js\\'},{\\'A:rms:answers:Identity:MsaAuthV2SilentSSOScript\\':\\'\\\\/rp\\\\/0_me3yk7tfm-iZUdiX7ltcL7ELA.gz.js\\'},{\\'A:4\\':4},{\\'A:rms:answers:Identity:ProfilePicturePostLoader\\':\\'\\\\/rp\\\\/fDgf7Oh5R8mPygWLQcaNRoJGj5Q.gz.js\\'},{\\'A:rms:answers:Identity:AccountLinkLoadProfileIcon\\':\\'\\\\/rp\\\\/pXVzgohStRjQefcwyp3z6bhIArA.gz.js\\'},{\\'A:rms:answers:OrgId:AccountLink\\':\\'\\\\/rp\\\\/kzHfYwAwahpHm-ZU7kDOHkFbADU.gz.js\\'},{\\'A:5\\':5},{\\'A:rms:answers:Rewards:RewardsNcHeaderBootstrap\\':\\'\\\\/rp\\\\/5g-N9K-X1ykUl3QHEadPjpOM0Tc.gz.js\\'},{\\'A:RewardsReportActivity\\':\\'https:\\\\/\\\\/r.bing.com\\\\/rs\\\\/6p\\\\/wu\\\\/nj\\\\/nt6a1ZR520utsLoZmSYgwxdOPgI.js?or=w\\'},{\\'A:rms:answers:Rewards:RewardsCreditRefresh\\':\\'\\\\/rp\\\\/byLmVJQA1UzOFcrs9Jrvys4jXhM.gz.js\\'},{\\'A:rms:answers:Rewards:ModernReportActivity\\':\\'\\\\/rp\\\\/G-BGKSh95bDhorQ3SIbuRlPtjCE.gz.js\\'},{\\'A:rms:answers:Rewards:ReportActivityBootstrap\\':\\'\\\\/rp\\\\/SO02eTikN8ZV7bCSXFKur4CKSoQ.gz.js\\'},{\\'A:6\\':6});;\\n//]]></script><div id=\"aRmsDefer\"><script type=\"text/rms\" nonce=\"zIILOtYq9iaGYGQgVWSLmFWjdkKDEAQJmch25TvLhKE=\">//<![CDATA[\\n(function loadAutoSuggestCss(){ if (document.getElementById(\"as-css-link\")) { document.getElementById(\"as-css-link\").rel = \"stylesheet\"; } }());;\\n//]]></script><script type=\"text/rms\" nonce=\"zIILOtYq9iaGYGQgVWSLmFWjdkKDEAQJmch25TvLhKE=\">//<![CDATA[\\nsj_evt.fire(\"hpSWUnregister\");;\\n//]]></script><script type=\"text/rms\" nonce=\"zIILOtYq9iaGYGQgVWSLmFWjdkKDEAQJmch25TvLhKE=\">//<![CDATA[\\nFeedback.Bootstrap.InitializeFeedback({page:true},\"sb_feedback\",1,0,0);;\\n//]]></script><script type=\"text/rms\" nonce=\"zIILOtYq9iaGYGQgVWSLmFWjdkKDEAQJmch25TvLhKE=\">//<![CDATA[\\nvar ShareDialogConfig ={\"shareDialogUrl\":\"/shared/sd/?IID=SERP.5059\"};;\\n//]]></script><script type=\"text/rms\" nonce=\"zIILOtYq9iaGYGQgVWSLmFWjdkKDEAQJmch25TvLhKE=\">//<![CDATA[\\n(function(){ if (typeof MsaAuthV2SilentSSO !== \\'undefined\\' && typeof MsaAuthV2SilentSSO.init === \\'function\\' && MsaAuthV2SilentSSO && MsaAuthV2SilentSSO.init){ MsaAuthV2SilentSSO.init({ ssoEndpoint: \"/fd/auth/signin/v2?action=interactive&amp;isSilent=true\" }); } })();;(function () { var identityBtn = document.getElementById(\"id_l\"); if (identityBtn) { identityBtn.addEventListener(\"click\", function () { typeof sj_log != \"undefined\" && sj_log(\"CI.ICPopup\", \"popup\", \"1\"); Log.LogFilterFlare([\"rewardsmsaclick\"]); }); } })();;\\n//]]></script><script type=\"text/rms\" nonce=\"zIILOtYq9iaGYGQgVWSLmFWjdkKDEAQJmch25TvLhKE=\">//<![CDATA[\\n(function() { var accLinkParams ={\"accLinkRefreshEndPointUrl\":\"/orgid/acclink/refresh\",\"isAadAuthenticated\":false,\"refreshAccountLinkInfoTimeInSeconds\":3600,\"refreshAccountLinkInfoRetryTimeInSeconds\":600,\"correlationId\":\"686a0b67a7f744b0969953f4a3fcdfc8\",\"hasActiveLinkedAccount\":false}; AccountLink.init(accLinkParams); })();;\\n//]]></script><script type=\"text/rms\" nonce=\"zIILOtYq9iaGYGQgVWSLmFWjdkKDEAQJmch25TvLhKE=\">//<![CDATA[\\n(function () { var identityBtn = document.getElementById(\"id_l\"); if (identityBtn) { identityBtn.addEventListener(\"click\", function () { Log.LogFilterFlare([\"rewardsmsasignin\"]); }); } })();;\\n//]]></script></div></body></html>'"
      ]
     },
     "execution_count": 17,
     "metadata": {},
     "output_type": "execute_result"
    }
   ],
   "execution_count": 17
  },
  {
   "metadata": {},
   "cell_type": "markdown",
   "source": "## 13. `post()`",
   "id": "bcd2bd39eca02824"
  },
  {
   "metadata": {},
   "cell_type": "markdown",
   "source": "<p>Send a POST request to a specified URL with data. Create or update POST requests using resources on the server. The data parameter contains the data to send to the server, often in JSON format.</p>",
   "id": "5a2660b14edaed9"
  },
  {
   "metadata": {},
   "cell_type": "markdown",
   "source": [
    "**Syntax**:\n",
    "```python\n",
    "response = requests.post(url, data)\n",
    "```"
   ],
   "id": "3c5d44a0c661dd22"
  },
  {
   "metadata": {
    "ExecuteTime": {
     "end_time": "2025-07-06T05:36:40.705887Z",
     "start_time": "2025-07-06T05:36:39.665938Z"
    }
   },
   "cell_type": "code",
   "source": [
    "response = requests.post(\"https://httpbin.org/post\", {\"Name\": \"John\", \"Age\": 25})\n",
    "response.text"
   ],
   "id": "8d14a2ed398f52fb",
   "outputs": [
    {
     "data": {
      "text/plain": [
       "'{\\n  \"args\": {}, \\n  \"data\": \"\", \\n  \"files\": {}, \\n  \"form\": {\\n    \"Age\": \"25\", \\n    \"Name\": \"John\"\\n  }, \\n  \"headers\": {\\n    \"Accept\": \"*/*\", \\n    \"Accept-Encoding\": \"gzip, deflate\", \\n    \"Content-Length\": \"16\", \\n    \"Content-Type\": \"application/x-www-form-urlencoded\", \\n    \"Host\": \"httpbin.org\", \\n    \"User-Agent\": \"python-requests/2.32.4\", \\n    \"X-Amzn-Trace-Id\": \"Root=1-686a0b68-1f98488c3d782d103563b282\"\\n  }, \\n  \"json\": null, \\n  \"origin\": \"103.151.172.32\", \\n  \"url\": \"https://httpbin.org/post\"\\n}\\n'"
      ]
     },
     "execution_count": 18,
     "metadata": {},
     "output_type": "execute_result"
    }
   ],
   "execution_count": 18
  },
  {
   "metadata": {},
   "cell_type": "markdown",
   "source": "## 14. `put()`",
   "id": "47af8fb32393914d"
  },
  {
   "metadata": {},
   "cell_type": "markdown",
   "source": "<p>Send a PUT request to update data on the server. PUT requests are used to update an existing resource on the server with the data provided in the data parameter, typically in JSON format.</p>",
   "id": "461e675ed79b1a3"
  },
  {
   "metadata": {},
   "cell_type": "markdown",
   "source": [
    "**Syntax**:\n",
    "```python\n",
    "response = requests.put(url, data)\n",
    "```"
   ],
   "id": "95eccaa27490a03"
  },
  {
   "metadata": {
    "ExecuteTime": {
     "end_time": "2025-07-06T05:36:41.906299Z",
     "start_time": "2025-07-06T05:36:40.725300Z"
    }
   },
   "cell_type": "code",
   "source": [
    "response = requests.put(\"https://httpbin.org/put\", {\"Name\": \"Jennifer\", \"Age\": 20})\n",
    "response.text"
   ],
   "id": "11ff7bd3b438a0ca",
   "outputs": [
    {
     "data": {
      "text/plain": [
       "'{\\n  \"args\": {}, \\n  \"data\": \"\", \\n  \"files\": {}, \\n  \"form\": {\\n    \"Age\": \"20\", \\n    \"Name\": \"Jennifer\"\\n  }, \\n  \"headers\": {\\n    \"Accept\": \"*/*\", \\n    \"Accept-Encoding\": \"gzip, deflate\", \\n    \"Content-Length\": \"20\", \\n    \"Content-Type\": \"application/x-www-form-urlencoded\", \\n    \"Host\": \"httpbin.org\", \\n    \"User-Agent\": \"python-requests/2.32.4\", \\n    \"X-Amzn-Trace-Id\": \"Root=1-686a0b69-5a1170e526cbea0a030cc1b5\"\\n  }, \\n  \"json\": null, \\n  \"origin\": \"103.151.172.32\", \\n  \"url\": \"https://httpbin.org/put\"\\n}\\n'"
      ]
     },
     "execution_count": 19,
     "metadata": {},
     "output_type": "execute_result"
    }
   ],
   "execution_count": 19
  },
  {
   "metadata": {},
   "cell_type": "markdown",
   "source": "## 15. Headers",
   "id": "d1c23c86ce5b638"
  },
  {
   "metadata": {},
   "cell_type": "markdown",
   "source": "<p>Include custom headers in the request. Headers can provide additional information to the server, such as authentication tokens or content types.</p>",
   "id": "e22501e12e6ddebe"
  },
  {
   "metadata": {},
   "cell_type": "markdown",
   "source": [
    "**Syntax**:\n",
    "```python\n",
    "headers = {(HeaderName): (Value)}\n",
    "```"
   ],
   "id": "39b514336d9cb640"
  },
  {
   "metadata": {
    "ExecuteTime": {
     "end_time": "2025-07-06T05:36:43.134265Z",
     "start_time": "2025-07-06T05:36:41.933515Z"
    }
   },
   "cell_type": "code",
   "source": [
    "headers = {\n",
    "    \"User-Agent\": \"Mozilla/5.0 (Windows NT 10.0; Win64; x64) AppleWebKit/537.36 (KHTML, like Gecko) Chrome/91.0.4472.124 Safari/537.36\"\n",
    "}\n",
    "response = requests.get(\"https://httpbin.org/get\", headers=headers)\n",
    "response.text"
   ],
   "id": "3d38266b9cac44ee",
   "outputs": [
    {
     "data": {
      "text/plain": [
       "'{\\n  \"args\": {}, \\n  \"headers\": {\\n    \"Accept\": \"*/*\", \\n    \"Accept-Encoding\": \"gzip, deflate\", \\n    \"Host\": \"httpbin.org\", \\n    \"User-Agent\": \"Mozilla/5.0 (Windows NT 10.0; Win64; x64) AppleWebKit/537.36 (KHTML, like Gecko) Chrome/91.0.4472.124 Safari/537.36\", \\n    \"X-Amzn-Trace-Id\": \"Root=1-686a0b6a-29d4ba345a95b75867828a1f\"\\n  }, \\n  \"origin\": \"103.151.172.32\", \\n  \"url\": \"https://httpbin.org/get\"\\n}\\n'"
      ]
     },
     "execution_count": 20,
     "metadata": {},
     "output_type": "execute_result"
    }
   ],
   "execution_count": 20
  },
  {
   "metadata": {},
   "cell_type": "markdown",
   "source": "## 16. Query parameters",
   "id": "97595db537567729"
  },
  {
   "metadata": {},
   "cell_type": "markdown",
   "source": "<p>Pass query parameters in the URL to filter or customize the request. Query parameters specify conditions or limits for the requested data.</p>",
   "id": "5e63d3f70462dd97"
  },
  {
   "metadata": {},
   "cell_type": "markdown",
   "source": [
    "**Syntax**:\n",
    "```python\n",
    "params = {(param_name): (value)}\n",
    "```"
   ],
   "id": "9d3eb07602e9626f"
  },
  {
   "metadata": {
    "ExecuteTime": {
     "end_time": "2025-07-06T05:36:44.466312Z",
     "start_time": "2025-07-06T05:36:43.159020Z"
    }
   },
   "cell_type": "code",
   "source": [
    "params = {\"page\": 1, \"per_page\": 10}\n",
    "response = requests.get(\"https://httpbin.org/get\", params=params)\n",
    "response.text"
   ],
   "id": "6b7619f216b92b7f",
   "outputs": [
    {
     "data": {
      "text/plain": [
       "'{\\n  \"args\": {\\n    \"page\": \"1\", \\n    \"per_page\": \"10\"\\n  }, \\n  \"headers\": {\\n    \"Accept\": \"*/*\", \\n    \"Accept-Encoding\": \"gzip, deflate\", \\n    \"Host\": \"httpbin.org\", \\n    \"User-Agent\": \"python-requests/2.32.4\", \\n    \"X-Amzn-Trace-Id\": \"Root=1-686a0b6c-742516745b9f8a6c327a740a\"\\n  }, \\n  \"origin\": \"103.151.172.32\", \\n  \"url\": \"https://httpbin.org/get?page=1&per_page=10\"\\n}\\n'"
      ]
     },
     "execution_count": 21,
     "metadata": {},
     "output_type": "execute_result"
    }
   ],
   "execution_count": 21
  },
  {
   "metadata": {},
   "cell_type": "markdown",
   "source": "## 17. `json()`",
   "id": "bf57b863b0c87938"
  },
  {
   "metadata": {},
   "cell_type": "markdown",
   "source": "<p>Parse JSON data from the response. This extracts and works with the data returned by the API. The response.json() method converts the JSON response into a Python data structure (usually a dictionary or list).</p>",
   "id": "93da55fbcc3d0787"
  },
  {
   "metadata": {},
   "cell_type": "markdown",
   "source": [
    "**Syntax**:\n",
    "```python\n",
    "data = response.json()\n",
    "```"
   ],
   "id": "7d541f7d759884eb"
  },
  {
   "metadata": {
    "ExecuteTime": {
     "end_time": "2025-07-06T05:36:44.500381Z",
     "start_time": "2025-07-06T05:36:44.496804Z"
    }
   },
   "cell_type": "code",
   "source": "response.json()",
   "id": "6589a525964019fc",
   "outputs": [
    {
     "data": {
      "text/plain": [
       "{'args': {'page': '1', 'per_page': '10'},\n",
       " 'headers': {'Accept': '*/*',\n",
       "  'Accept-Encoding': 'gzip, deflate',\n",
       "  'Host': 'httpbin.org',\n",
       "  'User-Agent': 'python-requests/2.32.4',\n",
       "  'X-Amzn-Trace-Id': 'Root=1-686a0b6c-742516745b9f8a6c327a740a'},\n",
       " 'origin': '103.151.172.32',\n",
       " 'url': 'https://httpbin.org/get?page=1&per_page=10'}"
      ]
     },
     "execution_count": 22,
     "metadata": {},
     "output_type": "execute_result"
    }
   ],
   "execution_count": 22
  },
  {
   "metadata": {},
   "cell_type": "markdown",
   "source": "## 18. status_code",
   "id": "ce4e2e7fd493188e"
  },
  {
   "metadata": {},
   "cell_type": "markdown",
   "source": "<p>Check the HTTP status code of the response. The HTTP status code indicates the result of the request (success, error, redirection). Use the HTTP status codeIt can be used for error handling and decision-making in your code.</p>",
   "id": "cbf47c9ac1cacc9f"
  },
  {
   "metadata": {},
   "cell_type": "markdown",
   "source": [
    "**Syntax**:\n",
    "```python\n",
    "response.status_code\n",
    "```"
   ],
   "id": "860b0e09105d48ac"
  },
  {
   "metadata": {
    "ExecuteTime": {
     "end_time": "2025-07-06T05:36:44.541508Z",
     "start_time": "2025-07-06T05:36:44.537344Z"
    }
   },
   "cell_type": "code",
   "source": "response.status_code",
   "id": "e72ce9e1e65650f5",
   "outputs": [
    {
     "data": {
      "text/plain": [
       "200"
      ]
     },
     "execution_count": 23,
     "metadata": {},
     "output_type": "execute_result"
    }
   ],
   "execution_count": 23
  }
 ],
 "metadata": {
  "kernelspec": {
   "display_name": "Python 3",
   "language": "python",
   "name": "python3"
  },
  "language_info": {
   "codemirror_mode": {
    "name": "ipython",
    "version": 2
   },
   "file_extension": ".py",
   "mimetype": "text/x-python",
   "name": "python",
   "nbconvert_exporter": "python",
   "pygments_lexer": "ipython2",
   "version": "2.7.6"
  }
 },
 "nbformat": 4,
 "nbformat_minor": 5
}
