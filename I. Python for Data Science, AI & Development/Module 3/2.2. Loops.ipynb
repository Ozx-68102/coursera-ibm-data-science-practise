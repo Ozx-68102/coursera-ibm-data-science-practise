{
 "cells": [
  {
   "metadata": {},
   "cell_type": "markdown",
   "source": "## Loops",
   "id": "f26dc6f32581f94"
  },
  {
   "metadata": {},
   "cell_type": "markdown",
   "source": "### Range",
   "id": "dc565443739e47b8"
  },
  {
   "metadata": {},
   "cell_type": "markdown",
   "source": "<p>Sometimes, you might want to repeat a given operation many times. Repeated executions like this are performed by <b>loops</b>. We will look at two types of loops, <code>for</code> loops and <code>while</code> loops.</p>",
   "id": "34e9b03fdc896a8c"
  },
  {
   "metadata": {},
   "cell_type": "markdown",
   "source": "<p>Before we discuss loops lets discuss the <code>range</code> object. It is helpful to think of the range object as an ordered list. For now, let's look at the simplest case. If we would like to generate an object that contains elements ordered from 0 to 2 we simply use the following command:</p>",
   "id": "c5c3203362ada024"
  },
  {
   "metadata": {
    "ExecuteTime": {
     "end_time": "2025-06-02T09:29:37.923989Z",
     "start_time": "2025-06-02T09:29:37.918760Z"
    }
   },
   "cell_type": "code",
   "source": "range(3)",
   "id": "61db43867c26e0eb",
   "outputs": [
    {
     "data": {
      "text/plain": [
       "range(0, 3)"
      ]
     },
     "execution_count": 1,
     "metadata": {},
     "output_type": "execute_result"
    }
   ],
   "execution_count": 1
  },
  {
   "metadata": {},
   "cell_type": "markdown",
   "source": "<p><b><i>NOTE: While in Python 2.x it returned a list as seen in video lessons, in 3.x it returns a range object.</i></b><p>",
   "id": "b2fb93963d9b7dd1"
  },
  {
   "metadata": {},
   "cell_type": "markdown",
   "source": "### What is `for` loop?",
   "id": "baa9c3ecfff317c0"
  },
  {
   "metadata": {},
   "cell_type": "markdown",
   "source": "<p>The <code>for</code> loop enables you to execute a code block multiple times. For example, you would use this if you would like to print out every element in a list.</p>",
   "id": "af772f3351c28c7a"
  },
  {
   "metadata": {},
   "cell_type": "markdown",
   "source": "<p>Let's try to use a <code>for</code> loop to print all the years presented in the list <code>dates</code>:</p>",
   "id": "c9981c1b87814650"
  },
  {
   "metadata": {},
   "cell_type": "markdown",
   "source": "<p>This can be done as follows:</p>",
   "id": "80388eef0dd50537"
  },
  {
   "metadata": {
    "ExecuteTime": {
     "end_time": "2025-06-02T09:29:38.008792Z",
     "start_time": "2025-06-02T09:29:38.005891Z"
    }
   },
   "cell_type": "code",
   "source": [
    "dates = [2016, 2018, 2020, 2022, 2024]\n",
    "for i in range(len(dates)):\n",
    "    print(dates[i])"
   ],
   "id": "e85f367f0ae46a34",
   "outputs": [
    {
     "name": "stdout",
     "output_type": "stream",
     "text": [
      "2016\n",
      "2018\n",
      "2020\n",
      "2022\n",
      "2024\n"
     ]
    }
   ],
   "execution_count": 2
  },
  {
   "metadata": {},
   "cell_type": "markdown",
   "source": "<p>The code in the indent is executed <code>N</code> times, each time the value of <code>i</code> is increased by 1 for every execution.</p>",
   "id": "88d530f5356b017b"
  },
  {
   "metadata": {},
   "cell_type": "markdown",
   "source": "<p>In this example we can print out a sequence of numbers from 0 to 7:</p>",
   "id": "b10f86b08175c9e0"
  },
  {
   "metadata": {
    "ExecuteTime": {
     "end_time": "2025-06-02T09:29:38.028812Z",
     "start_time": "2025-06-02T09:29:38.025189Z"
    }
   },
   "cell_type": "code",
   "source": [
    "for i in range(0, 8):\n",
    "    print(i)"
   ],
   "id": "cc81475140649acc",
   "outputs": [
    {
     "name": "stdout",
     "output_type": "stream",
     "text": [
      "0\n",
      "1\n",
      "2\n",
      "3\n",
      "4\n",
      "5\n",
      "6\n",
      "7\n"
     ]
    }
   ],
   "execution_count": 3
  },
  {
   "metadata": {},
   "cell_type": "markdown",
   "source": "<p>In Python we can directly access the elements in the list as follows:</p>",
   "id": "fae81580570823ef"
  },
  {
   "metadata": {
    "ExecuteTime": {
     "end_time": "2025-06-02T09:29:38.053071Z",
     "start_time": "2025-06-02T09:29:38.048974Z"
    }
   },
   "cell_type": "code",
   "source": [
    "for year in dates:\n",
    "    print(year)"
   ],
   "id": "43fa8eb738df9c80",
   "outputs": [
    {
     "name": "stdout",
     "output_type": "stream",
     "text": [
      "2016\n",
      "2018\n",
      "2020\n",
      "2022\n",
      "2024\n"
     ]
    }
   ],
   "execution_count": 4
  },
  {
   "metadata": {},
   "cell_type": "markdown",
   "source": "<p>We can change the elements in a list:</p>",
   "id": "118dd452b8c4dd5"
  },
  {
   "metadata": {
    "ExecuteTime": {
     "end_time": "2025-06-02T09:29:38.084118Z",
     "start_time": "2025-06-02T09:29:38.080662Z"
    }
   },
   "cell_type": "code",
   "source": [
    "squares = [\"red\", \"yellow\", \"green\", \"purple\", \"blue\"]\n",
    "\n",
    "for i in range(0, 5):\n",
    "    print(f\"Before square {i} is {squares[i]}.\")\n",
    "    squares[i] = \"white\"\n",
    "    print(f\"After square {i} is {squares[i]}.\")"
   ],
   "id": "c669e463fb8f0c05",
   "outputs": [
    {
     "name": "stdout",
     "output_type": "stream",
     "text": [
      "Before square 0 is red.\n",
      "After square 0 is white.\n",
      "Before square 1 is yellow.\n",
      "After square 1 is white.\n",
      "Before square 2 is green.\n",
      "After square 2 is white.\n",
      "Before square 3 is purple.\n",
      "After square 3 is white.\n",
      "Before square 4 is blue.\n",
      "After square 4 is white.\n"
     ]
    }
   ],
   "execution_count": 5
  },
  {
   "metadata": {},
   "cell_type": "markdown",
   "source": "### What is `while` loop?",
   "id": "5792d47f47df89ea"
  },
  {
   "metadata": {},
   "cell_type": "markdown",
   "source": "<p>As you can see, the <code>for</code> loop is used for a controlled flow of repetition. However, what if we don't know when we want to stop the loop? What if we want to keep executing a code block until a certain condition is met? The <code>while</code> loop exists as a tool for repeated execution based on a condition. The code block will keep being executed until the given logical condition returns a <code>False</code> boolean value.</p>",
   "id": "19f478323249a169"
  },
  {
   "metadata": {},
   "cell_type": "markdown",
   "source": "<p>Let’s say we would like to iterate through list <code>dates</code> and stop at the year 1973, then print out the number of iterations. This can be done with the following block of code:</p>",
   "id": "f4f861b7430911cc"
  },
  {
   "metadata": {
    "ExecuteTime": {
     "end_time": "2025-06-02T09:29:38.121366Z",
     "start_time": "2025-06-02T09:29:38.118388Z"
    }
   },
   "cell_type": "code",
   "source": [
    "i = 0\n",
    "year = dates[0]\n",
    "\n",
    "while year != 2020:\n",
    "    print(year)\n",
    "    i = i + 1\n",
    "    year = dates[i]\n",
    "\n",
    "print(f\"It took {i} repetitions to get out of loop.\")"
   ],
   "id": "1d6a49dea70cee5a",
   "outputs": [
    {
     "name": "stdout",
     "output_type": "stream",
     "text": [
      "2016\n",
      "2018\n",
      "It took 2 repetitions to get out of loop.\n"
     ]
    }
   ],
   "execution_count": 6
  },
  {
   "metadata": {},
   "cell_type": "markdown",
   "source": "### Quiz on Loops",
   "id": "e9f5a4be0dd0b34e"
  },
  {
   "metadata": {},
   "cell_type": "markdown",
   "source": "<p>Write a <code>for</code> loop that prints out all the elements between <b>-5</b> and <b>5</b> using the range function.</p>",
   "id": "66f1aa49657ce167"
  },
  {
   "metadata": {
    "ExecuteTime": {
     "end_time": "2025-06-02T09:29:38.147138Z",
     "start_time": "2025-06-02T09:29:38.144308Z"
    }
   },
   "cell_type": "code",
   "source": [
    "for i in range(-5, 6):\n",
    "    print(i)"
   ],
   "id": "cec6462d18899d6f",
   "outputs": [
    {
     "name": "stdout",
     "output_type": "stream",
     "text": [
      "-5\n",
      "-4\n",
      "-3\n",
      "-2\n",
      "-1\n",
      "0\n",
      "1\n",
      "2\n",
      "3\n",
      "4\n",
      "5\n"
     ]
    }
   ],
   "execution_count": 7
  },
  {
   "metadata": {},
   "cell_type": "markdown",
   "source": [
    "<p>Print the elements of the following list: <code>Genres=[ \"rock\", \"R&B\", \"Soundtrack\", \"R&B\", \"soul\", \"pop\"]</code>.\n",
    "Make sure you follow Python conventions.</p>"
   ],
   "id": "960c54a76f5b3601"
  },
  {
   "metadata": {
    "ExecuteTime": {
     "end_time": "2025-06-02T09:29:38.178158Z",
     "start_time": "2025-06-02T09:29:38.174967Z"
    }
   },
   "cell_type": "code",
   "source": [
    "Genres = [\"rock\", \"R&B\", \"Soundtrack\", \"R&B\", \"soul\", \"pop\"]\n",
    "for genre in Genres:\n",
    "    print(genre)"
   ],
   "id": "ccb4ebe2059afd3c",
   "outputs": [
    {
     "name": "stdout",
     "output_type": "stream",
     "text": [
      "rock\n",
      "R&B\n",
      "Soundtrack\n",
      "R&B\n",
      "soul\n",
      "pop\n"
     ]
    }
   ],
   "execution_count": 8
  },
  {
   "metadata": {},
   "cell_type": "markdown",
   "source": "<p>Write a for loop that prints out the following list: <code>squares = [\"red\", \"yellow\", \"green\", \"purple\", \"blue\"]</code></p>",
   "id": "328ac40c2f1168e4"
  },
  {
   "metadata": {
    "ExecuteTime": {
     "end_time": "2025-06-02T09:29:38.203624Z",
     "start_time": "2025-06-02T09:29:38.200134Z"
    }
   },
   "cell_type": "code",
   "source": [
    "squares = [\"red\", \"yellow\", \"green\", \"purple\", \"blue\"]\n",
    "for square in squares:\n",
    "    print(square)"
   ],
   "id": "b40fa291b6e7e365",
   "outputs": [
    {
     "name": "stdout",
     "output_type": "stream",
     "text": [
      "red\n",
      "yellow\n",
      "green\n",
      "purple\n",
      "blue\n"
     ]
    }
   ],
   "execution_count": 9
  },
  {
   "metadata": {},
   "cell_type": "markdown",
   "source": "<p>Write a while loop to display the values of the Rating of an album playlist stored in the <code>PlayListRatings</code> list. If the score is less than 6, exit the loop. The list <code>PlayListRatings</code> is given by: <code>PlayListRatings = [10, 9.5, 10, 8, 7.5, 5, 10, 10]</code></p>",
   "id": "2c93761ef7bbc139"
  },
  {
   "metadata": {
    "ExecuteTime": {
     "end_time": "2025-06-02T09:29:38.227789Z",
     "start_time": "2025-06-02T09:29:38.223611Z"
    }
   },
   "cell_type": "code",
   "source": [
    "PlayListRatings = [10, 9.5, 10, 8, 7.5, 5, 10, 10]\n",
    "i = 0\n",
    "score = PlayListRatings[i]\n",
    "\n",
    "while score >= 6 and i < len(PlayListRatings):\n",
    "    print(score)\n",
    "    i = i + 1\n",
    "    score = PlayListRatings[i]"
   ],
   "id": "7ead9b9e0fda4b95",
   "outputs": [
    {
     "name": "stdout",
     "output_type": "stream",
     "text": [
      "10\n",
      "9.5\n",
      "10\n",
      "8\n",
      "7.5\n"
     ]
    }
   ],
   "execution_count": 10
  },
  {
   "metadata": {},
   "cell_type": "markdown",
   "source": "<p>Write a while loop to copy the strings <code>\"orange\"</code> of the list <code>squares</code> to the list <code>new_squares</code>. Stop and exit the loop if the value on the list is not <code>\"orange\"</code>:</p>",
   "id": "a41bf25066f249fa"
  },
  {
   "metadata": {
    "ExecuteTime": {
     "end_time": "2025-06-02T09:29:38.271079Z",
     "start_time": "2025-06-02T09:29:38.268313Z"
    }
   },
   "cell_type": "code",
   "source": [
    "squares = [\"orange\", \"orange\", \"purple\", \"blue\", \"orange\"]\n",
    "new_squares = []\n",
    "\n",
    "i = 0\n",
    "\n",
    "while squares[i] == \"orange\" and i < len(squares):\n",
    "    print(f\"Now squares value is {squares[i]}.\")\n",
    "    new_squares.append(squares[i])\n",
    "    i = i + 1\n",
    "\n",
    "print(new_squares)"
   ],
   "id": "253107034424d39a",
   "outputs": [
    {
     "name": "stdout",
     "output_type": "stream",
     "text": [
      "Now squares value is orange.\n",
      "Now squares value is orange.\n",
      "['orange', 'orange']\n"
     ]
    }
   ],
   "execution_count": 11
  },
  {
   "metadata": {},
   "cell_type": "markdown",
   "source": [
    "****\n",
    "This is the end of the file.\n",
    "****"
   ],
   "id": "735edc1477ce2469"
  }
 ],
 "metadata": {
  "kernelspec": {
   "display_name": "Python 3",
   "language": "python",
   "name": "python3"
  },
  "language_info": {
   "codemirror_mode": {
    "name": "ipython",
    "version": 2
   },
   "file_extension": ".py",
   "mimetype": "text/x-python",
   "name": "python",
   "nbconvert_exporter": "python",
   "pygments_lexer": "ipython2",
   "version": "2.7.6"
  }
 },
 "nbformat": 4,
 "nbformat_minor": 5
}
