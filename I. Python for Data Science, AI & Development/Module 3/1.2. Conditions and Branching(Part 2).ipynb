{
 "cells": [
  {
   "metadata": {},
   "cell_type": "markdown",
   "source": "## 1. Comparison operations",
   "id": "e7d8dcac239dfe7f"
  },
  {
   "metadata": {},
   "cell_type": "markdown",
   "source": "<p>Comparison operations are essential in programming. They help compare values and make decisions based on the results.</p>",
   "id": "55dd8ce643e5dad4"
  },
  {
   "metadata": {},
   "cell_type": "markdown",
   "source": "### Equality operator",
   "id": "753be6e0995ae58c"
  },
  {
   "metadata": {},
   "cell_type": "markdown",
   "source": "<p>The equality operator <code>==</code> checks if two values are equal. For example:",
   "id": "6992db7423c5ad2d"
  },
  {
   "cell_type": "code",
   "id": "initial_id",
   "metadata": {
    "collapsed": true,
    "ExecuteTime": {
     "end_time": "2025-05-29T12:23:49.242017Z",
     "start_time": "2025-05-29T12:23:49.237547Z"
    }
   },
   "source": [
    "age = 25\n",
    "if age == 25:\n",
    "    print(\"You are 25 years old.\")"
   ],
   "outputs": [
    {
     "name": "stdout",
     "output_type": "stream",
     "text": [
      "You are 25 years old.\n"
     ]
    }
   ],
   "execution_count": 1
  },
  {
   "metadata": {},
   "cell_type": "markdown",
   "source": "<p>Here, the code checks if the variable age is equal to 25 and prints a message accordingly.</p>",
   "id": "c451d19aae0d7391"
  },
  {
   "metadata": {},
   "cell_type": "markdown",
   "source": "### Inequality operator",
   "id": "17cb2b008a0ae0c9"
  },
  {
   "metadata": {},
   "cell_type": "markdown",
   "source": "<p>The inequality operator <code>!=</code> checks if two values are not equal:</p>",
   "id": "113478291abf6dca"
  },
  {
   "metadata": {
    "ExecuteTime": {
     "end_time": "2025-05-29T12:23:49.372919Z",
     "start_time": "2025-05-29T12:23:49.369946Z"
    }
   },
   "cell_type": "code",
   "source": [
    "if age != 30:\n",
    "    print(\"You are not 30 years old.\")"
   ],
   "id": "9212477962a0c15",
   "outputs": [
    {
     "name": "stdout",
     "output_type": "stream",
     "text": [
      "You are not 30 years old.\n"
     ]
    }
   ],
   "execution_count": 2
  },
  {
   "metadata": {},
   "cell_type": "markdown",
   "source": "<p>Here, the code checks if the variable age is not equal to 30 and prints a message accordingly.</p>",
   "id": "f5c67bb5497d268a"
  },
  {
   "metadata": {},
   "cell_type": "markdown",
   "source": "### Greater than and less than",
   "id": "7e215379b98c0189"
  },
  {
   "metadata": {},
   "cell_type": "markdown",
   "source": "<p>You can also compare if one value is greater than another.</p>",
   "id": "e74eda46b9d589f4"
  },
  {
   "metadata": {
    "ExecuteTime": {
     "end_time": "2025-05-29T12:23:49.400195Z",
     "start_time": "2025-05-29T12:23:49.397222Z"
    }
   },
   "cell_type": "code",
   "source": [
    "if age >= 20:\n",
    "    print(\"Yes, the age is greater than or equal to 20.\")"
   ],
   "id": "1b57e1a0f5659ed1",
   "outputs": [
    {
     "name": "stdout",
     "output_type": "stream",
     "text": [
      "Yes, the age is greater than or equal to 20.\n"
     ]
    }
   ],
   "execution_count": 3
  },
  {
   "metadata": {},
   "cell_type": "markdown",
   "source": "<p>Here, the code checks if the variable age is greater than or equal to 20 and prints a message accordingly.</p>",
   "id": "e3351d2812181904"
  },
  {
   "metadata": {},
   "cell_type": "markdown",
   "source": "## 2. Branching",
   "id": "c0b2fe76ba388b45"
  },
  {
   "metadata": {},
   "cell_type": "markdown",
   "source": "<p>Branching is like making decisions in your program based on conditions. Think of it as real-life choices.</p>",
   "id": "584a0ceae87954d5"
  },
  {
   "metadata": {},
   "cell_type": "markdown",
   "source": "### The IF statement",
   "id": "c82787f781de6766"
  },
  {
   "metadata": {},
   "cell_type": "markdown",
   "source": "<p>Consider a real-life scenario of entering a bar. If you're above a certain age, you can enter; otherwise, you cannot.</p>",
   "id": "1ef84b534b1b44e2"
  },
  {
   "metadata": {
    "ExecuteTime": {
     "end_time": "2025-05-29T12:23:49.563319Z",
     "start_time": "2025-05-29T12:23:49.560396Z"
    }
   },
   "cell_type": "code",
   "source": [
    "age = 20\n",
    "if age >= 21:\n",
    "    print(\"You can enter the bar.\")\n",
    "else:\n",
    "    print(\"Sorry, you are not allowed to enter the bar.\")"
   ],
   "id": "ec2d27e381a72744",
   "outputs": [
    {
     "name": "stdout",
     "output_type": "stream",
     "text": [
      "Sorry, you are not allowed to enter the bar.\n"
     ]
    }
   ],
   "execution_count": 4
  },
  {
   "metadata": {},
   "cell_type": "markdown",
   "source": "<p>Here, you are using the <code>if</code> statement to make a decision based on the age variable.</p>",
   "id": "7773cda56717c07e"
  },
  {
   "metadata": {},
   "cell_type": "markdown",
   "source": "### The ELIF statement",
   "id": "9666b513319b99c6"
  },
  {
   "metadata": {},
   "cell_type": "markdown",
   "source": "<p>Sometimes, there are multiple conditions to check. For example, if you're not old enough for the bar, you can go to a movie instead.</p>",
   "id": "b96076573582359a"
  },
  {
   "metadata": {
    "ExecuteTime": {
     "end_time": "2025-05-29T12:23:49.609080Z",
     "start_time": "2025-05-29T12:23:49.605682Z"
    }
   },
   "cell_type": "code",
   "source": [
    "if age >= 21:\n",
    "    print(\"You can enter the bar from today on.\")\n",
    "elif age >= 18:\n",
    "    print(\"You can watch a movie by yourself.\")\n",
    "else:\n",
    "    print(\"Sorry, you cannot do either.\")"
   ],
   "id": "b81aab088dadd0cf",
   "outputs": [
    {
     "name": "stdout",
     "output_type": "stream",
     "text": [
      "You can watch a movie by yourself.\n"
     ]
    }
   ],
   "execution_count": 5
  },
  {
   "metadata": {},
   "cell_type": "markdown",
   "source": "<p><b>Real-life example: Automated Teller Machine (ATM)</b></p>",
   "id": "3813ddd6ef61b60e"
  },
  {
   "metadata": {},
   "cell_type": "markdown",
   "source": "<p>When a user interacts with an ATM, the software in the ATM can use branching to make decisions based on the user's input. For example, if the user selects \"Withdraw Cash\" the ATM can branch into different denominations of bills to dispense based on the amount requested.</p>",
   "id": "d6768e9dfd29e00"
  },
  {
   "metadata": {
    "ExecuteTime": {
     "end_time": "2025-05-29T12:23:56.324790Z",
     "start_time": "2025-05-29T12:23:49.645294Z"
    }
   },
   "cell_type": "code",
   "source": [
    "user_choice = \"Withdraw Cash\"\n",
    "if user_choice == \"Withdraw Cash\":\n",
    "    amount = int(input(\"How much money do you want to withdraw: \"))\n",
    "    if amount % 10 == 0:\n",
    "        print(\"Amount dispensed: \", amount)\n",
    "    else:\n",
    "        print(\"Please enter a multiple of 10.\")\n",
    "else:\n",
    "    print(\"Thank you for using the ATM.\")"
   ],
   "id": "24768fc0b130ab67",
   "outputs": [
    {
     "name": "stdout",
     "output_type": "stream",
     "text": [
      "Amount dispensed:  30\n"
     ]
    }
   ],
   "execution_count": 6
  },
  {
   "metadata": {},
   "cell_type": "markdown",
   "source": "## 3. Logical operators",
   "id": "5afb4ad7edf984da"
  },
  {
   "metadata": {},
   "cell_type": "markdown",
   "source": "<p>Logical operators help combine and manipulate conditions.</p>",
   "id": "afaea1189b19dd28"
  },
  {
   "metadata": {},
   "cell_type": "markdown",
   "source": "### The NOT operator",
   "id": "f937f8434abfd6b2"
  },
  {
   "metadata": {},
   "cell_type": "markdown",
   "source": "<p><b>Real-life example: Notification settings</b></p>",
   "id": "b913d3f3df9ed362"
  },
  {
   "metadata": {},
   "cell_type": "markdown",
   "source": "<p>In a smartphone's notification settings, you can use the NOT operator to control when to send notifications. For example, you might only want to receive notifications when your phone is not in \"Do Not Disturb\" mode.</p>",
   "id": "2502f3c583230d2"
  },
  {
   "metadata": {},
   "cell_type": "markdown",
   "source": "<p>The not operator negates a condition.</p>",
   "id": "87502c1220810623"
  },
  {
   "metadata": {
    "ExecuteTime": {
     "end_time": "2025-05-29T12:23:56.373074Z",
     "start_time": "2025-05-29T12:23:56.370042Z"
    }
   },
   "cell_type": "code",
   "source": [
    "not_disturb = False\n",
    "if not not_disturb:\n",
    "    print(\"Hello, you have messages someone sent you.\")"
   ],
   "id": "471746d494e3f5e3",
   "outputs": [
    {
     "name": "stdout",
     "output_type": "stream",
     "text": [
      "Hello, you have messages someone sent you.\n"
     ]
    }
   ],
   "execution_count": 7
  },
  {
   "metadata": {},
   "cell_type": "markdown",
   "source": "### The AND operator",
   "id": "271e6eb8bbc240bc"
  },
  {
   "metadata": {},
   "cell_type": "markdown",
   "source": "<p><b>Real-life example: Access control</b></p>",
   "id": "20af4e8713d6cb43"
  },
  {
   "metadata": {},
   "cell_type": "markdown",
   "source": "<p>In a secure facility, you can use the AND operator to check multiple conditions for access. To open a high-security door, a person might need both a valid ID card and a matching fingerprint.</p>",
   "id": "923f8ca9531af62e"
  },
  {
   "metadata": {},
   "cell_type": "markdown",
   "source": "<p>The AND operator checks if all required conditions are true, like needing both keys to open a safe.</p>",
   "id": "619f54eaab88e908"
  },
  {
   "metadata": {
    "ExecuteTime": {
     "end_time": "2025-05-29T12:23:56.419911Z",
     "start_time": "2025-05-29T12:23:56.416551Z"
    }
   },
   "cell_type": "code",
   "source": [
    "def open_the_door():\n",
    "    print(\"Doors are opening.\")\n",
    "\n",
    "has_valid_entry_permission = True\n",
    "has_valid_fingerprint = True\n",
    "if has_valid_entry_permission and has_valid_fingerprint:\n",
    "    open_the_door()"
   ],
   "id": "80826c3fdd88a8ee",
   "outputs": [
    {
     "name": "stdout",
     "output_type": "stream",
     "text": [
      "Doors are opening.\n"
     ]
    }
   ],
   "execution_count": 8
  },
  {
   "metadata": {},
   "cell_type": "markdown",
   "source": "### The OR operator",
   "id": "923c64d943167ac5"
  },
  {
   "metadata": {},
   "cell_type": "markdown",
   "source": "<p><b>Real-life example: Movie night decision</b></p>",
   "id": "b4ad233f1e6e68a4"
  },
  {
   "metadata": {},
   "cell_type": "markdown",
   "source": "<p>When planning a movie night with friends, you can use the OR operator to decide on a movie genre. You'll choose a movie if at least one person is interested.</p>",
   "id": "b1d16bd239ad9827"
  },
  {
   "metadata": {},
   "cell_type": "markdown",
   "source": "<p>The OR operator checks if at least one condition is true. It's like choosing between different movies to watch.</p>",
   "id": "4a9837e8b5a1bbbf"
  },
  {
   "metadata": {
    "ExecuteTime": {
     "end_time": "2025-05-29T12:23:56.464749Z",
     "start_time": "2025-05-29T12:23:56.462243Z"
    }
   },
   "cell_type": "code",
   "source": [
    "def choose_a_movie():\n",
    "    print(\"Hey!\")\n",
    "\n",
    "friend1_wants_to_watch_comedy = True\n",
    "friend2_wants_to_watch_action = False\n",
    "friend3_wants_to_watch_drama = False\n",
    "\n",
    "if friend1_wants_to_watch_comedy or friend2_wants_to_watch_action or friend3_wants_to_watch_drama:\n",
    "    choose_a_movie()"
   ],
   "id": "32b4269d16ebde53",
   "outputs": [
    {
     "name": "stdout",
     "output_type": "stream",
     "text": [
      "Hey!\n"
     ]
    }
   ],
   "execution_count": 9
  },
  {
   "metadata": {},
   "cell_type": "markdown",
   "source": [
    "****\n",
    "This is the end of the file.\n",
    "****"
   ],
   "id": "b0121063b807c18e"
  }
 ],
 "metadata": {
  "kernelspec": {
   "display_name": "Python 3",
   "language": "python",
   "name": "python3"
  },
  "language_info": {
   "codemirror_mode": {
    "name": "ipython",
    "version": 2
   },
   "file_extension": ".py",
   "mimetype": "text/x-python",
   "name": "python",
   "nbconvert_exporter": "python",
   "pygments_lexer": "ipython2",
   "version": "2.7.6"
  }
 },
 "nbformat": 4,
 "nbformat_minor": 5
}
