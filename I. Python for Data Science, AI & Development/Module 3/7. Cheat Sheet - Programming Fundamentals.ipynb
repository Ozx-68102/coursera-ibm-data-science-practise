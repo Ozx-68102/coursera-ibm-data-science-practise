{
 "cells": [
  {
   "metadata": {},
   "cell_type": "markdown",
   "source": "## Cheat Sheet: Programming Fundamentals",
   "id": "f98aeddc34e4a44f"
  },
  {
   "metadata": {},
   "cell_type": "markdown",
   "source": "### 1. AND",
   "id": "d26582f01ecd16ee"
  },
  {
   "metadata": {},
   "cell_type": "markdown",
   "source": "<p>Returns <code>True</code> if both statement1 and statement2 are <code>True</code>. Otherwise, returns <code>False</code>.</p>",
   "id": "40fef3bfe0ed84eb"
  },
  {
   "metadata": {},
   "cell_type": "markdown",
   "source": [
    "**Syntax**:\n",
    "\n",
    "```Python\n",
    "statement1 and statement2\n",
    "```"
   ],
   "id": "8dcbf06390bb1751"
  },
  {
   "metadata": {
    "ExecuteTime": {
     "end_time": "2025-06-05T04:30:11.657933Z",
     "start_time": "2025-06-05T04:30:11.653177Z"
    }
   },
   "cell_type": "code",
   "source": [
    "marks = 90\n",
    "attendance_percentage = 87\n",
    "\n",
    "if marks >= 80 and attendance_percentage >= 85:\n",
    "    print(\"Yes\")\n",
    "else:\n",
    "    print(\"No\")"
   ],
   "id": "b315a234ac33c3e2",
   "outputs": [
    {
     "name": "stdout",
     "output_type": "stream",
     "text": [
      "Yes\n"
     ]
    }
   ],
   "execution_count": 1
  },
  {
   "metadata": {},
   "cell_type": "markdown",
   "source": "### 2. Class Definition",
   "id": "2f242cf81d328942"
  },
  {
   "metadata": {},
   "cell_type": "markdown",
   "source": "<p>Defines a blueprint for creating objects and defining their attributes and behaviors.</p>",
   "id": "98ed45fa4b21343c"
  },
  {
   "metadata": {},
   "cell_type": "markdown",
   "source": [
    "**Syntax**:\n",
    "\n",
    "```Python\n",
    "class ClassName:\n",
    "    pass\n",
    "```"
   ],
   "id": "392faa07ac3f51a0"
  },
  {
   "metadata": {
    "ExecuteTime": {
     "end_time": "2025-06-05T04:30:11.666695Z",
     "start_time": "2025-06-05T04:30:11.663410Z"
    }
   },
   "cell_type": "code",
   "source": [
    "class Person:\n",
    "    def __init__(self, name: str, age: int | float):\n",
    "        self.name = name\n",
    "        self.age = age"
   ],
   "id": "1d3c77da7ec4ce1a",
   "outputs": [],
   "execution_count": 2
  },
  {
   "metadata": {},
   "cell_type": "markdown",
   "source": "### 3. Define Function",
   "id": "1c5c859e47f0f94f"
  },
  {
   "metadata": {},
   "cell_type": "markdown",
   "source": "<p>A <code>function</code> is a reusable block of code that performs a specific task or set of tasks when called.</p>",
   "id": "e663bc8b8d71000c"
  },
  {
   "metadata": {},
   "cell_type": "markdown",
   "source": [
    "**Syntax**:\n",
    "\n",
    "```Python\n",
    "def function_name(param):\n",
    "    pass\n",
    "```"
   ],
   "id": "29dc46ff1f72d57c"
  },
  {
   "metadata": {
    "ExecuteTime": {
     "end_time": "2025-06-05T04:30:11.747551Z",
     "start_time": "2025-06-05T04:30:11.745184Z"
    }
   },
   "cell_type": "code",
   "source": [
    "def greet(name: str) -> None:\n",
    "    print(f\"Hello, {name}!\")"
   ],
   "id": "d6a651dc5896a3d3",
   "outputs": [],
   "execution_count": 3
  },
  {
   "metadata": {},
   "cell_type": "markdown",
   "source": "### 4. Equal `==`",
   "id": "f9a855b04942f3f4"
  },
  {
   "metadata": {},
   "cell_type": "markdown",
   "source": "<p>Checks if two values are equal.</p>",
   "id": "50f83b5c293cee3d"
  },
  {
   "metadata": {},
   "cell_type": "markdown",
   "source": [
    "**Syntax**:\n",
    "\n",
    "```Python\n",
    "var1 == var2\n",
    "```"
   ],
   "id": "aa20ba54cae2cd9"
  },
  {
   "metadata": {
    "ExecuteTime": {
     "end_time": "2025-06-05T04:30:11.775593Z",
     "start_time": "2025-06-05T04:30:11.756617Z"
    }
   },
   "cell_type": "code",
   "source": "5 == 5",
   "id": "bf15f6073e146987",
   "outputs": [
    {
     "data": {
      "text/plain": [
       "True"
      ]
     },
     "execution_count": 4,
     "metadata": {},
     "output_type": "execute_result"
    }
   ],
   "execution_count": 4
  },
  {
   "metadata": {
    "ExecuteTime": {
     "end_time": "2025-06-05T04:30:11.787990Z",
     "start_time": "2025-06-05T04:30:11.784725Z"
    }
   },
   "cell_type": "code",
   "source": [
    "age1 = 20\n",
    "age1 == 30"
   ],
   "id": "9b62b8af1144a530",
   "outputs": [
    {
     "data": {
      "text/plain": [
       "False"
      ]
     },
     "execution_count": 5,
     "metadata": {},
     "output_type": "execute_result"
    }
   ],
   "execution_count": 5
  },
  {
   "metadata": {},
   "cell_type": "markdown",
   "source": "### 5. `For` Loop",
   "id": "a517c4b73d77603f"
  },
  {
   "metadata": {},
   "cell_type": "markdown",
   "source": "<p>A <code>for</code> loop repeatedly executes a block of code for a specified number of iterations or over a sequence of elements (list, range, string, etc.).</p>",
   "id": "ba3d988a3e4e271b"
  },
  {
   "metadata": {},
   "cell_type": "markdown",
   "source": [
    "**Syntax**:\n",
    "\n",
    "```Python\n",
    "for var in seq:\n",
    "    pass    # Code to repeat\n",
    "```"
   ],
   "id": "8b87ad89710a4bf6"
  },
  {
   "metadata": {
    "ExecuteTime": {
     "end_time": "2025-06-05T04:30:11.808537Z",
     "start_time": "2025-06-05T04:30:11.805341Z"
    }
   },
   "cell_type": "code",
   "source": [
    "for num in range(5, 11):\n",
    "    print(num)"
   ],
   "id": "d872da7da97f4c1c",
   "outputs": [
    {
     "name": "stdout",
     "output_type": "stream",
     "text": [
      "5\n",
      "6\n",
      "7\n",
      "8\n",
      "9\n",
      "10\n"
     ]
    }
   ],
   "execution_count": 6
  },
  {
   "metadata": {
    "ExecuteTime": {
     "end_time": "2025-06-05T04:30:11.830205Z",
     "start_time": "2025-06-05T04:30:11.827127Z"
    }
   },
   "cell_type": "code",
   "source": [
    "fruits = [\"apple\", \"banana\", \"orange\", \"grape\", \"cherry\"]\n",
    "for fruit in fruits:\n",
    "    print(fruit)"
   ],
   "id": "d67d9abff647d61e",
   "outputs": [
    {
     "name": "stdout",
     "output_type": "stream",
     "text": [
      "apple\n",
      "banana\n",
      "orange\n",
      "grape\n",
      "cherry\n"
     ]
    }
   ],
   "execution_count": 7
  },
  {
   "metadata": {},
   "cell_type": "markdown",
   "source": "### 6. Function Call",
   "id": "872dde9ebd51c58b"
  },
  {
   "metadata": {},
   "cell_type": "markdown",
   "source": "<p>A function call is the act of executing the code within the function using the provided arguments.</p>",
   "id": "304ee7e78cfccc45"
  },
  {
   "metadata": {},
   "cell_type": "markdown",
   "source": [
    "**Syntax**:\n",
    "\n",
    "```Python\n",
    "function_name(args)\n",
    "```"
   ],
   "id": "f76ae52562147ad3"
  },
  {
   "metadata": {
    "ExecuteTime": {
     "end_time": "2025-06-05T04:30:11.868746Z",
     "start_time": "2025-06-05T04:30:11.866525Z"
    }
   },
   "cell_type": "code",
   "source": "greet(\"Alice\")",
   "id": "e3347a3decbc807b",
   "outputs": [
    {
     "name": "stdout",
     "output_type": "stream",
     "text": [
      "Hello, Alice!\n"
     ]
    }
   ],
   "execution_count": 8
  },
  {
   "metadata": {},
   "cell_type": "markdown",
   "source": "### 7. Greater Than or Equal To `>=`",
   "id": "975487a05961e2b7"
  },
  {
   "metadata": {},
   "cell_type": "markdown",
   "source": "<p>Checks if the value of variable1 is greater than or equal to variable2.</p>",
   "id": "947cbd5e90ca08ca"
  },
  {
   "metadata": {},
   "cell_type": "markdown",
   "source": [
    "**Syntax**:\n",
    "\n",
    "```Python\n",
    "var1 >= var2\n",
    "```"
   ],
   "id": "a41884f1843ca347"
  },
  {
   "metadata": {
    "ExecuteTime": {
     "end_time": "2025-06-05T04:30:11.906429Z",
     "start_time": "2025-06-05T04:30:11.903125Z"
    }
   },
   "cell_type": "code",
   "source": "5 >= 5",
   "id": "28afd58deff825b8",
   "outputs": [
    {
     "data": {
      "text/plain": [
       "True"
      ]
     },
     "execution_count": 9,
     "metadata": {},
     "output_type": "execute_result"
    }
   ],
   "execution_count": 9
  },
  {
   "metadata": {
    "ExecuteTime": {
     "end_time": "2025-06-05T04:30:11.947517Z",
     "start_time": "2025-06-05T04:30:11.944022Z"
    }
   },
   "cell_type": "code",
   "source": "9 >= 5",
   "id": "c76f486dd3a9accb",
   "outputs": [
    {
     "data": {
      "text/plain": [
       "True"
      ]
     },
     "execution_count": 10,
     "metadata": {},
     "output_type": "execute_result"
    }
   ],
   "execution_count": 10
  },
  {
   "metadata": {
    "ExecuteTime": {
     "end_time": "2025-06-05T04:30:11.974064Z",
     "start_time": "2025-06-05T04:30:11.970674Z"
    }
   },
   "cell_type": "code",
   "source": [
    "quantity = 98\n",
    "minimum = 100\n",
    "quantity >= minimum"
   ],
   "id": "338a049e68dbd1ad",
   "outputs": [
    {
     "data": {
      "text/plain": [
       "False"
      ]
     },
     "execution_count": 11,
     "metadata": {},
     "output_type": "execute_result"
    }
   ],
   "execution_count": 11
  },
  {
   "metadata": {},
   "cell_type": "markdown",
   "source": "### 8. Greater Than `>`",
   "id": "3a78ee6ef88e61b7"
  },
  {
   "metadata": {},
   "cell_type": "markdown",
   "source": "<p>Checks if the value of variable1 is greater than variable2.</p>",
   "id": "d40d4c76fa62a46c"
  },
  {
   "metadata": {},
   "cell_type": "markdown",
   "source": [
    "**Syntax**:\n",
    "\n",
    "```Python\n",
    "var1 > var2\n",
    "```"
   ],
   "id": "629c2a4bff9c70e4"
  },
  {
   "metadata": {
    "ExecuteTime": {
     "end_time": "2025-06-05T04:30:11.994852Z",
     "start_time": "2025-06-05T04:30:11.991815Z"
    }
   },
   "cell_type": "code",
   "source": "9 > 6",
   "id": "807555e2c3223081",
   "outputs": [
    {
     "data": {
      "text/plain": [
       "True"
      ]
     },
     "execution_count": 12,
     "metadata": {},
     "output_type": "execute_result"
    }
   ],
   "execution_count": 12
  },
  {
   "metadata": {
    "ExecuteTime": {
     "end_time": "2025-06-05T04:30:12.023765Z",
     "start_time": "2025-06-05T04:30:12.020823Z"
    }
   },
   "cell_type": "code",
   "source": [
    "age2 = 20\n",
    "max_age2 = 30\n",
    "age2 > max_age2"
   ],
   "id": "d25ae5c0302cd962",
   "outputs": [
    {
     "data": {
      "text/plain": [
       "False"
      ]
     },
     "execution_count": 13,
     "metadata": {},
     "output_type": "execute_result"
    }
   ],
   "execution_count": 13
  },
  {
   "metadata": {},
   "cell_type": "markdown",
   "source": "### 9. `if` Statement",
   "id": "af4acd676e0c74d7"
  },
  {
   "metadata": {},
   "cell_type": "markdown",
   "source": "<p>Executes code block <code>if</code> the condition is <code>True</code>.</p>",
   "id": "b6910dbd2c2c6d31"
  },
  {
   "metadata": {},
   "cell_type": "markdown",
   "source": [
    "**Syntax**:\n",
    "\n",
    "```Python\n",
    "if condition:\n",
    "    pass    # code block for if statement\n",
    "```"
   ],
   "id": "913f3265e5eaa6bb"
  },
  {
   "metadata": {
    "ExecuteTime": {
     "end_time": "2025-06-05T04:30:12.051687Z",
     "start_time": "2025-06-05T04:30:12.048553Z"
    }
   },
   "cell_type": "code",
   "source": [
    "temperature = 31\n",
    "if temperature > 30:\n",
    "    print(\"It's a hot day!\")"
   ],
   "id": "ae72396646023729",
   "outputs": [
    {
     "name": "stdout",
     "output_type": "stream",
     "text": [
      "It's a hot day!\n"
     ]
    }
   ],
   "execution_count": 14
  },
  {
   "metadata": {},
   "cell_type": "markdown",
   "source": "### 10. `if-elif-else`",
   "id": "6129aa6f9bc56d30"
  },
  {
   "metadata": {},
   "cell_type": "markdown",
   "source": "<p>Executes the first code block if condition1 is <code>True</code>, otherwise checks condition2, and so on. If no condition is <code>True</code>, the else block is executed.</p>",
   "id": "515ba986e561ac4d"
  },
  {
   "metadata": {},
   "cell_type": "markdown",
   "source": [
    "**Syntax**:\n",
    "\n",
    "```Python\n",
    "if condition1:\n",
    "    pass    # code if condition1 is True\n",
    "elif condition2:\n",
    "    pass    # code if condition2 is True\n",
    "else:\n",
    "    pass    # code if no condition is True\n",
    "```"
   ],
   "id": "1c02d9a8ce220806"
  },
  {
   "metadata": {
    "ExecuteTime": {
     "end_time": "2025-06-05T04:30:12.072543Z",
     "start_time": "2025-06-05T04:30:12.069884Z"
    }
   },
   "cell_type": "code",
   "source": [
    "score = 85\n",
    "if score >= 90:\n",
    "    print(\"You got an A!\")\n",
    "elif score >= 80:\n",
    "    print(\"You got a B.\")\n",
    "else:\n",
    "    print(\"Sorry, you need to work hard.\")"
   ],
   "id": "6f25167a72f3266",
   "outputs": [
    {
     "name": "stdout",
     "output_type": "stream",
     "text": [
      "You got a B.\n"
     ]
    }
   ],
   "execution_count": 15
  },
  {
   "metadata": {},
   "cell_type": "markdown",
   "source": "### 11. `if-else`",
   "id": "67db48d678b37acb"
  },
  {
   "metadata": {},
   "cell_type": "markdown",
   "source": "<p>Executes the first code block if the condition is <code>True</code>, otherwise the second block.</p>",
   "id": "6c53cdbec0e23564"
  },
  {
   "metadata": {},
   "cell_type": "markdown",
   "source": [
    "**Syntax**:\n",
    "\n",
    "```Python\n",
    "if condition:\n",
    "    pass    # code if condition is True\n",
    "else:\n",
    "    pass    # code if condition is False\n",
    "```"
   ],
   "id": "59b0203a3f85515"
  },
  {
   "metadata": {
    "ExecuteTime": {
     "end_time": "2025-06-05T04:30:12.117020Z",
     "start_time": "2025-06-05T04:30:12.114179Z"
    }
   },
   "cell_type": "code",
   "source": [
    "age3 = 16\n",
    "if age3 > 18:\n",
    "    print(\"You're an adult.\")\n",
    "else:\n",
    "    print(\"You're a teenager.\")"
   ],
   "id": "5362c756448b6cbc",
   "outputs": [
    {
     "name": "stdout",
     "output_type": "stream",
     "text": [
      "You're a teenager.\n"
     ]
    }
   ],
   "execution_count": 16
  },
  {
   "metadata": {},
   "cell_type": "markdown",
   "source": "### 12. Less Than or Equal To `<=`",
   "id": "509ad4a7902091f3"
  },
  {
   "metadata": {},
   "cell_type": "markdown",
   "source": "<p>Checks if the value of variable1 is less than or equal to variable2.</p>",
   "id": "b3e6303b84da1d02"
  },
  {
   "metadata": {},
   "cell_type": "markdown",
   "source": [
    "**Syntax**:\n",
    "\n",
    "```Python\n",
    "var1 <= var2\n",
    "```"
   ],
   "id": "ab31bbc829038bbd"
  },
  {
   "metadata": {
    "ExecuteTime": {
     "end_time": "2025-06-05T04:30:12.162443Z",
     "start_time": "2025-06-05T04:30:12.159739Z"
    }
   },
   "cell_type": "code",
   "source": "5 <= 5",
   "id": "59c87019f3f9ccc8",
   "outputs": [
    {
     "data": {
      "text/plain": [
       "True"
      ]
     },
     "execution_count": 17,
     "metadata": {},
     "output_type": "execute_result"
    }
   ],
   "execution_count": 17
  },
  {
   "metadata": {
    "ExecuteTime": {
     "end_time": "2025-06-05T04:30:12.208093Z",
     "start_time": "2025-06-05T04:30:12.204585Z"
    }
   },
   "cell_type": "code",
   "source": "2 <= 5",
   "id": "11e6c37d9f10bfd4",
   "outputs": [
    {
     "data": {
      "text/plain": [
       "True"
      ]
     },
     "execution_count": 18,
     "metadata": {},
     "output_type": "execute_result"
    }
   ],
   "execution_count": 18
  },
  {
   "metadata": {
    "ExecuteTime": {
     "end_time": "2025-06-05T04:30:12.252935Z",
     "start_time": "2025-06-05T04:30:12.249457Z"
    }
   },
   "cell_type": "code",
   "source": [
    "size = 20\n",
    "max_size = 25\n",
    "size <= max_size"
   ],
   "id": "267d9a51dc3471ce",
   "outputs": [
    {
     "data": {
      "text/plain": [
       "True"
      ]
     },
     "execution_count": 19,
     "metadata": {},
     "output_type": "execute_result"
    }
   ],
   "execution_count": 19
  },
  {
   "metadata": {},
   "cell_type": "markdown",
   "source": "### 13. Less Than `<`",
   "id": "173e9d30ed6808f4"
  },
  {
   "metadata": {},
   "cell_type": "markdown",
   "source": "<p>Checks if the value of variable1 is less than variable2.</p>",
   "id": "acbd0c29342135e4"
  },
  {
   "metadata": {},
   "cell_type": "markdown",
   "source": [
    "**Syntax**:\n",
    "\n",
    "```Python\n",
    "var1 < var2\n",
    "```"
   ],
   "id": "19ecd26cb6640bbd"
  },
  {
   "metadata": {
    "ExecuteTime": {
     "end_time": "2025-06-05T04:30:12.283176Z",
     "start_time": "2025-06-05T04:30:12.279860Z"
    }
   },
   "cell_type": "code",
   "source": "4 < 6",
   "id": "602477604d59fc25",
   "outputs": [
    {
     "data": {
      "text/plain": [
       "True"
      ]
     },
     "execution_count": 20,
     "metadata": {},
     "output_type": "execute_result"
    }
   ],
   "execution_count": 20
  },
  {
   "metadata": {
    "ExecuteTime": {
     "end_time": "2025-06-05T04:30:12.315566Z",
     "start_time": "2025-06-05T04:30:12.312484Z"
    }
   },
   "cell_type": "code",
   "source": "8 < 3",
   "id": "ec965bbee0bd3fee",
   "outputs": [
    {
     "data": {
      "text/plain": [
       "False"
      ]
     },
     "execution_count": 21,
     "metadata": {},
     "output_type": "execute_result"
    }
   ],
   "execution_count": 21
  },
  {
   "metadata": {},
   "cell_type": "markdown",
   "source": "### 14. Loop Controls",
   "id": "7112be8ff4d008e5"
  },
  {
   "metadata": {},
   "cell_type": "markdown",
   "source": "<p><code>break</code> exits the loop prematurely. <code>continue</code> skips the rest of the current iteration and moves to the next iteration.</p>",
   "id": "b26ecf43eec8b7a5"
  },
  {
   "metadata": {},
   "cell_type": "markdown",
   "source": [
    "**Syntax**:\n",
    "\n",
    "```Python\n",
    "for var in seq:\n",
    "    if condition:\n",
    "        break\n",
    "\n",
    "for var in seq:\n",
    "    if condition:\n",
    "        continue\n",
    "```"
   ],
   "id": "38f8fd2bde76bea"
  },
  {
   "metadata": {
    "ExecuteTime": {
     "end_time": "2025-06-05T04:30:12.344881Z",
     "start_time": "2025-06-05T04:30:12.342580Z"
    }
   },
   "cell_type": "code",
   "source": [
    "for num in range(3, 9):\n",
    "    if num % 2 == 0:\n",
    "        break\n",
    "    print(num)"
   ],
   "id": "b1e78abd4c098d01",
   "outputs": [
    {
     "name": "stdout",
     "output_type": "stream",
     "text": [
      "3\n"
     ]
    }
   ],
   "execution_count": 22
  },
  {
   "metadata": {
    "ExecuteTime": {
     "end_time": "2025-06-05T04:30:12.365832Z",
     "start_time": "2025-06-05T04:30:12.363589Z"
    }
   },
   "cell_type": "code",
   "source": [
    "for num in range(3, 9):\n",
    "    if num % 2 == 0:\n",
    "        continue\n",
    "    print(num)"
   ],
   "id": "1f971d6e33acde22",
   "outputs": [
    {
     "name": "stdout",
     "output_type": "stream",
     "text": [
      "3\n",
      "5\n",
      "7\n"
     ]
    }
   ],
   "execution_count": 23
  },
  {
   "metadata": {},
   "cell_type": "markdown",
   "source": "### 15. `not`",
   "id": "a23704658df64129"
  },
  {
   "metadata": {},
   "cell_type": "markdown",
   "source": "<p>Returns <code>True</code> if variable is <code>False</code>, and vice versa.</p>",
   "id": "b5a01c194028f75f"
  },
  {
   "metadata": {},
   "cell_type": "markdown",
   "source": [
    "**Syntax**:\n",
    "\n",
    "```Python\n",
    "not var1\n",
    "```"
   ],
   "id": "a840b88366ecb3b9"
  },
  {
   "metadata": {
    "ExecuteTime": {
     "end_time": "2025-06-05T04:30:12.407932Z",
     "start_time": "2025-06-05T04:30:12.405235Z"
    }
   },
   "cell_type": "code",
   "source": "not True",
   "id": "73daf52767553350",
   "outputs": [
    {
     "data": {
      "text/plain": [
       "False"
      ]
     },
     "execution_count": 24,
     "metadata": {},
     "output_type": "execute_result"
    }
   ],
   "execution_count": 24
  },
  {
   "metadata": {
    "ExecuteTime": {
     "end_time": "2025-06-05T04:30:12.443742Z",
     "start_time": "2025-06-05T04:30:12.440724Z"
    }
   },
   "cell_type": "code",
   "source": "not False",
   "id": "27d334463d2c3594",
   "outputs": [
    {
     "data": {
      "text/plain": [
       "True"
      ]
     },
     "execution_count": 25,
     "metadata": {},
     "output_type": "execute_result"
    }
   ],
   "execution_count": 25
  },
  {
   "metadata": {},
   "cell_type": "markdown",
   "source": "### 16. Not Equal `!=`",
   "id": "3cc9248b67b1e710"
  },
  {
   "metadata": {},
   "cell_type": "markdown",
   "source": "<p>Checks if two values are not equal.</p>",
   "id": "9cab8e4bf1025184"
  },
  {
   "metadata": {},
   "cell_type": "markdown",
   "source": [
    "**Syntax**:\n",
    "\n",
    "```Python\n",
    "var1 != var2\n",
    "```"
   ],
   "id": "bafe97628a8ea895"
  },
  {
   "metadata": {
    "ExecuteTime": {
     "end_time": "2025-06-05T04:30:12.472798Z",
     "start_time": "2025-06-05T04:30:12.469407Z"
    }
   },
   "cell_type": "code",
   "source": "10 != 20",
   "id": "2436edb67eb422e8",
   "outputs": [
    {
     "data": {
      "text/plain": [
       "True"
      ]
     },
     "execution_count": 26,
     "metadata": {},
     "output_type": "execute_result"
    }
   ],
   "execution_count": 26
  },
  {
   "metadata": {
    "ExecuteTime": {
     "end_time": "2025-06-05T04:30:12.500070Z",
     "start_time": "2025-06-05T04:30:12.496084Z"
    }
   },
   "cell_type": "code",
   "source": "30 != 30",
   "id": "c2c9eb76e14cf9f8",
   "outputs": [
    {
     "data": {
      "text/plain": [
       "False"
      ]
     },
     "execution_count": 27,
     "metadata": {},
     "output_type": "execute_result"
    }
   ],
   "execution_count": 27
  },
  {
   "metadata": {},
   "cell_type": "markdown",
   "source": "### 17. Object Creation",
   "id": "7e6e1d86e5d6c06d"
  },
  {
   "metadata": {},
   "cell_type": "markdown",
   "source": "<p>Creates an instance of a class (object) using the class constructor.</p>",
   "id": "6d6141bc9aa3a8bb"
  },
  {
   "metadata": {},
   "cell_type": "markdown",
   "source": [
    "**Syntax**:\n",
    "\n",
    "```Python\n",
    "object_name = ClassName(args)\n",
    "```"
   ],
   "id": "2ed35ed513b031cf"
  },
  {
   "metadata": {
    "ExecuteTime": {
     "end_time": "2025-06-05T04:30:12.528322Z",
     "start_time": "2025-06-05T04:30:12.526301Z"
    }
   },
   "cell_type": "code",
   "source": "person1 = Person(\"John\", 18)",
   "id": "41c56f53f11f813e",
   "outputs": [],
   "execution_count": 28
  },
  {
   "metadata": {},
   "cell_type": "markdown",
   "source": "### 18. `or`",
   "id": "af50175463d554fc"
  },
  {
   "metadata": {},
   "cell_type": "markdown",
   "source": "<p>Returns <code>True</code> if either statement1 or statement2 (or both) are <code>True</code>. Otherwise, returns <code>False</code>.</p>",
   "id": "8a0f6fc4b564f6c9"
  },
  {
   "metadata": {},
   "cell_type": "markdown",
   "source": [
    "**Syntax**:\n",
    "\n",
    "```Python\n",
    "var1 or var2\n",
    "```"
   ],
   "id": "2ebecf806292edbe"
  },
  {
   "metadata": {
    "ExecuteTime": {
     "end_time": "2025-06-05T04:30:12.550279Z",
     "start_time": "2025-06-05T04:30:12.547192Z"
    }
   },
   "cell_type": "code",
   "source": [
    "grade = 12\n",
    "grade == 10 or grade == 12"
   ],
   "id": "fd9f3860bea8b892",
   "outputs": [
    {
     "data": {
      "text/plain": [
       "True"
      ]
     },
     "execution_count": 29,
     "metadata": {},
     "output_type": "execute_result"
    }
   ],
   "execution_count": 29
  },
  {
   "metadata": {},
   "cell_type": "markdown",
   "source": "### 19. `range()`",
   "id": "61ab4ff238302442"
  },
  {
   "metadata": {},
   "cell_type": "markdown",
   "source": "<p>Generates a sequence of numbers within a specified range.</p>",
   "id": "a9dc49e4fb77984e"
  },
  {
   "metadata": {},
   "cell_type": "markdown",
   "source": [
    "**Syntax**:\n",
    "\n",
    "```Python\n",
    "range(stop)                 # method 1\n",
    "range(start, stop)          # method 2\n",
    "range(start, stop, step)    # method 3\n",
    "```"
   ],
   "id": "b1cd88511f22e83e"
  },
  {
   "metadata": {
    "ExecuteTime": {
     "end_time": "2025-06-05T04:30:12.574700Z",
     "start_time": "2025-06-05T04:30:12.571680Z"
    }
   },
   "cell_type": "code",
   "source": "range(3)",
   "id": "488f87aecdc5c0ee",
   "outputs": [
    {
     "data": {
      "text/plain": [
       "range(0, 3)"
      ]
     },
     "execution_count": 30,
     "metadata": {},
     "output_type": "execute_result"
    }
   ],
   "execution_count": 30
  },
  {
   "metadata": {
    "ExecuteTime": {
     "end_time": "2025-06-05T04:30:12.606896Z",
     "start_time": "2025-06-05T04:30:12.604508Z"
    }
   },
   "cell_type": "code",
   "source": "for num in range(3): print(num)",
   "id": "460aafd5ab5a6229",
   "outputs": [
    {
     "name": "stdout",
     "output_type": "stream",
     "text": [
      "0\n",
      "1\n",
      "2\n"
     ]
    }
   ],
   "execution_count": 31
  },
  {
   "metadata": {
    "ExecuteTime": {
     "end_time": "2025-06-05T04:30:12.639310Z",
     "start_time": "2025-06-05T04:30:12.636411Z"
    }
   },
   "cell_type": "code",
   "source": "range(2, 9)",
   "id": "13df28a67e06bdec",
   "outputs": [
    {
     "data": {
      "text/plain": [
       "range(2, 9)"
      ]
     },
     "execution_count": 32,
     "metadata": {},
     "output_type": "execute_result"
    }
   ],
   "execution_count": 32
  },
  {
   "metadata": {
    "ExecuteTime": {
     "end_time": "2025-06-05T04:30:12.684165Z",
     "start_time": "2025-06-05T04:30:12.681788Z"
    }
   },
   "cell_type": "code",
   "source": "for num in range(2, 9): print(num)",
   "id": "923c2dc08bdd0b61",
   "outputs": [
    {
     "name": "stdout",
     "output_type": "stream",
     "text": [
      "2\n",
      "3\n",
      "4\n",
      "5\n",
      "6\n",
      "7\n",
      "8\n"
     ]
    }
   ],
   "execution_count": 33
  },
  {
   "metadata": {
    "ExecuteTime": {
     "end_time": "2025-06-05T04:30:12.711935Z",
     "start_time": "2025-06-05T04:30:12.708412Z"
    }
   },
   "cell_type": "code",
   "source": "range(1, 22, 2)",
   "id": "e33ad5e60b1e3839",
   "outputs": [
    {
     "data": {
      "text/plain": [
       "range(1, 22, 2)"
      ]
     },
     "execution_count": 34,
     "metadata": {},
     "output_type": "execute_result"
    }
   ],
   "execution_count": 34
  },
  {
   "metadata": {
    "ExecuteTime": {
     "end_time": "2025-06-05T04:30:12.739274Z",
     "start_time": "2025-06-05T04:30:12.736957Z"
    }
   },
   "cell_type": "code",
   "source": "for num in range(1, 22, 2): print(num)",
   "id": "e09ab1c8974bf420",
   "outputs": [
    {
     "name": "stdout",
     "output_type": "stream",
     "text": [
      "1\n",
      "3\n",
      "5\n",
      "7\n",
      "9\n",
      "11\n",
      "13\n",
      "15\n",
      "17\n",
      "19\n",
      "21\n"
     ]
    }
   ],
   "execution_count": 35
  },
  {
   "metadata": {},
   "cell_type": "markdown",
   "source": "### 20. `return` Statement",
   "id": "b6bca01f6d70de3e"
  },
  {
   "metadata": {},
   "cell_type": "markdown",
   "source": "<p><code>return</code> is a keyword used to send a value back from a function to its caller.</p>",
   "id": "f8157eac3cc3087a"
  },
  {
   "metadata": {},
   "cell_type": "markdown",
   "source": [
    "**Syntax**:\n",
    "\n",
    "```Python\n",
    "def fn1(value):\n",
    "    return value\n",
    "```"
   ],
   "id": "288b59790ff65820"
  },
  {
   "metadata": {
    "ExecuteTime": {
     "end_time": "2025-06-05T04:30:12.765548Z",
     "start_time": "2025-06-05T04:30:12.762460Z"
    }
   },
   "cell_type": "code",
   "source": [
    "def add(a: int, b: int) -> int:\n",
    "    return a + b\n",
    "add(20, 32)"
   ],
   "id": "b8887632b4334ff0",
   "outputs": [
    {
     "data": {
      "text/plain": [
       "52"
      ]
     },
     "execution_count": 36,
     "metadata": {},
     "output_type": "execute_result"
    }
   ],
   "execution_count": 36
  },
  {
   "metadata": {},
   "cell_type": "markdown",
   "source": "### 21. `try-except` Block",
   "id": "3f22c4191efe56d3"
  },
  {
   "metadata": {},
   "cell_type": "markdown",
   "source": "<p>Tries to execute the code in the try block. If an exception of the specified type occurs, the code in the except block is executed.</p>",
   "id": "8252476923ea29f3"
  },
  {
   "metadata": {},
   "cell_type": "markdown",
   "source": [
    "**Syntax**:\n",
    "\n",
    "```Python\n",
    "try:\n",
    "    pass    # code that might raise an exception except\n",
    "except Exception:   # use a type of exception\n",
    "    pass    # code to handle the exception\n",
    "```"
   ],
   "id": "e7d0bf155fc25578"
  },
  {
   "metadata": {
    "ExecuteTime": {
     "end_time": "2025-06-05T04:30:12.790831Z",
     "start_time": "2025-06-05T04:30:12.788455Z"
    }
   },
   "cell_type": "code",
   "source": [
    "try:\n",
    "    a = 10 / 0\n",
    "except ZeroDivisionError:\n",
    "    print(\"Can't divide by zero\")"
   ],
   "id": "874a53b711449320",
   "outputs": [
    {
     "name": "stdout",
     "output_type": "stream",
     "text": [
      "Can't divide by zero\n"
     ]
    }
   ],
   "execution_count": 37
  },
  {
   "metadata": {},
   "cell_type": "markdown",
   "source": "### 22. `try-except` with `else` Block",
   "id": "81ecebb0ba35e5a6"
  },
  {
   "metadata": {},
   "cell_type": "markdown",
   "source": "<p>Code in the <code>else</code> block is executed if no exception occurs in the try block.</p>",
   "id": "1d39662a6edeb3e9"
  },
  {
   "metadata": {},
   "cell_type": "markdown",
   "source": [
    "**Syntax**:\n",
    "\n",
    "```Python\n",
    "try:\n",
    "    pass    # code that might raise an exception except\n",
    "except Exception:   # use a type of exception\n",
    "    pass    # code to handle the exception\n",
    "else:\n",
    "    pass    # code to execute if no exception occurrs\n",
    "```"
   ],
   "id": "34755345f3ffd4e6"
  },
  {
   "metadata": {
    "ExecuteTime": {
     "end_time": "2025-06-05T04:30:12.815608Z",
     "start_time": "2025-06-05T04:30:12.812998Z"
    }
   },
   "cell_type": "code",
   "source": [
    "try:\n",
    "    b = 6 // 3\n",
    "except ZeroDivisionError:\n",
    "    print(\"Can't divide by zero\")\n",
    "else:\n",
    "    print(\"6//3 =\", b)"
   ],
   "id": "78528f4e23e16ed7",
   "outputs": [
    {
     "name": "stdout",
     "output_type": "stream",
     "text": [
      "6//3 = 2\n"
     ]
    }
   ],
   "execution_count": 38
  },
  {
   "metadata": {},
   "cell_type": "markdown",
   "source": "### 23. `try-except` with `finally` Block",
   "id": "8b34eb2d3f83b157"
  },
  {
   "metadata": {},
   "cell_type": "markdown",
   "source": "<p>Code in the <code>finally</code> block always executes, regardless of whether an exception occurred.</p>",
   "id": "b9b8a0d144a72387"
  },
  {
   "metadata": {},
   "cell_type": "markdown",
   "source": [
    "**Syntax**:\n",
    "\n",
    "```Python\n",
    "try:\n",
    "    pass    # code that might raise an exception except\n",
    "except Exception:   # use a type of exception\n",
    "    pass    # code to handle the exception\n",
    "finally:\n",
    "    pass    # code that always executes\n",
    "```"
   ],
   "id": "68e47b61b70f1d69"
  },
  {
   "metadata": {
    "ExecuteTime": {
     "end_time": "2025-06-05T04:30:12.840260Z",
     "start_time": "2025-06-05T04:30:12.837279Z"
    }
   },
   "cell_type": "code",
   "source": [
    "file = None\n",
    "try:\n",
    "    file = open(\"data.txt\", \"r\")\n",
    "    data = file.read()\n",
    "except FileNotFoundError:\n",
    "    print(\"File not found.\")\n",
    "finally:\n",
    "    file.close() if file is not None else None"
   ],
   "id": "ac838e3f426c9d1",
   "outputs": [
    {
     "name": "stdout",
     "output_type": "stream",
     "text": [
      "File not found.\n"
     ]
    }
   ],
   "execution_count": 39
  },
  {
   "metadata": {},
   "cell_type": "markdown",
   "source": "### 24. `while` Loop",
   "id": "2f4055242b722c4d"
  },
  {
   "metadata": {},
   "cell_type": "markdown",
   "source": "<p>A <code>while</code> loop repeatedly executes a block of code as long as a specified condition remains <code>True</code>.</p>",
   "id": "886e8191682b42b3"
  },
  {
   "metadata": {},
   "cell_type": "markdown",
   "source": [
    "**Syntax**:\n",
    "\n",
    "```Python\n",
    "while condition:    # code to repeat\n",
    "    pass\n",
    "```"
   ],
   "id": "ff6780c838d11846"
  },
  {
   "metadata": {
    "ExecuteTime": {
     "end_time": "2025-06-05T04:30:12.864060Z",
     "start_time": "2025-06-05T04:30:12.861127Z"
    }
   },
   "cell_type": "code",
   "source": [
    "count = 0\n",
    "while count < 5:\n",
    "    print(count)\n",
    "    count += 1"
   ],
   "id": "44bfba990f70f9d0",
   "outputs": [
    {
     "name": "stdout",
     "output_type": "stream",
     "text": [
      "0\n",
      "1\n",
      "2\n",
      "3\n",
      "4\n"
     ]
    }
   ],
   "execution_count": 40
  },
  {
   "metadata": {},
   "cell_type": "markdown",
   "source": [
    "****\n",
    "This is the end of the file.\n",
    "****"
   ],
   "id": "4d12793ecf324020"
  }
 ],
 "metadata": {
  "kernelspec": {
   "display_name": "Python 3",
   "language": "python",
   "name": "python3"
  },
  "language_info": {
   "codemirror_mode": {
    "name": "ipython",
    "version": 2
   },
   "file_extension": ".py",
   "mimetype": "text/x-python",
   "name": "python",
   "nbconvert_exporter": "python",
   "pygments_lexer": "ipython2",
   "version": "2.7.6"
  }
 },
 "nbformat": 4,
 "nbformat_minor": 5
}
