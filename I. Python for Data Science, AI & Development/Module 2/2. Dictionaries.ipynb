{
 "cells": [
  {
   "metadata": {},
   "cell_type": "markdown",
   "source": "### What are Dictionaries?",
   "id": "4b6398ea1d315459"
  },
  {
   "metadata": {},
   "cell_type": "markdown",
   "source": [
    "<p>A dictionary consists of keys and values. It is helpful to compare a dictionary to a list. Instead of being indexed numerically like a list, dictionaries have keys. These keys are the keys that are used to access values within a dictionary.</p>\n",
    "\n",
    "\n",
    "<p>The best example of a dictionary can be accessing person's detais using the <b>social security number</b>.\n",
    "Here the social security number which is a unique number will be the <b>key</b> and the details of the people will be the <b>values</b> associated with it.\n",
    "</p>"
   ],
   "id": "6b84959e664981a2"
  },
  {
   "metadata": {},
   "cell_type": "markdown",
   "source": [
    "<div style=\"display: flex; gap: 20px; padding: 10px\">\n",
    "    <div style=\"flex: 1; padding: 5px\">\n",
    "        <table style=\"width: 100%; border-collapse: collapse\">\n",
    "        <capital><h6>List</h6></capital>\n",
    "        <thead>\n",
    "        <tr>\n",
    "            <th style=\"border: 1px solid; padding: 8px; text-align: center\">Index</th>\n",
    "            <th style=\"border: 1px solid; padding: 8px; text-align: center\">Element</th>\n",
    "        </tr>\n",
    "        </thead>\n",
    "        <tbody>\n",
    "        <tr>\n",
    "            <td style=\"border: 1px solid; padding: 8px; text-align: center\">0</td>\n",
    "            <td style=\"border: 1px solid; padding: 8px; text-align: center\">Element 1</td>\n",
    "        </tr>\n",
    "        <tr>\n",
    "            <td style=\"border: 1px solid; padding: 8px; text-align: center\">1</td>\n",
    "            <td style=\"border: 1px solid; padding: 8px; text-align: center\">Element 2</td>\n",
    "        </tr>\n",
    "        <tr>\n",
    "            <td style=\"border: 1px solid; padding: 8px; text-align: center\">2</td>\n",
    "            <td style=\"border: 1px solid; padding: 8px; text-align: center\">Element 3</td>\n",
    "        </tr>\n",
    "        </tbody>\n",
    "        </table>\n",
    "    </div>\n",
    "    <div style=\"flex: 1; padding: 5px\">\n",
    "        <table style=\"width: 100%; border-collapse: collapse\">\n",
    "        <capital><h6>Dictionaries</h6></capital>\n",
    "        <thead>\n",
    "        <tr>\n",
    "            <th style=\"border: 1px solid; padding: 8px; text-align: center\">Key</th>\n",
    "            <th style=\"border: 1px solid; padding: 8px; text-align: center\">Value</th>\n",
    "        </tr>\n",
    "        </thead>\n",
    "        <tbody>\n",
    "        <tr>\n",
    "            <td style=\"border: 1px solid; padding: 8px; text-align: center\">Key 0</td>\n",
    "            <td style=\"border: 1px solid; padding: 8px; text-align: center\">Value 1</td>\n",
    "        </tr>\n",
    "        <tr>\n",
    "            <td style=\"border: 1px solid; padding: 8px; text-align: center\">Key 1</td>\n",
    "            <td style=\"border: 1px solid; padding: 8px; text-align: center\">Value 2</td>\n",
    "        </tr>\n",
    "        <tr>\n",
    "            <td style=\"border: 1px solid; padding: 8px; text-align: center\">Key 2</td>\n",
    "            <td style=\"border: 1px solid; padding: 8px; text-align: center\">Value 3</td>\n",
    "        </tr>\n",
    "        </tbody>\n",
    "        </table>\n",
    "    </div>\n",
    "</div>"
   ],
   "id": "684d0fb440d6af6e"
  },
  {
   "metadata": {},
   "cell_type": "markdown",
   "source": "### Create a Dictionary and access the elements",
   "id": "e97c9f0b64f9000e"
  },
  {
   "metadata": {},
   "cell_type": "markdown",
   "source": [
    "An example of a Dictionary <code>dic</code>:\n",
    "Here we are creating a dictionary named **Dict** with he following details\n",
    "\n",
    "* Keys are **key1, key2, key3, key4, key5**.\n",
    "* Values are {1,2,[3,3,3],(4,4,4),5,(0,1):6} corresponding to the keys"
   ],
   "id": "8829a44b4d4536c0"
  },
  {
   "metadata": {
    "ExecuteTime": {
     "end_time": "2025-05-28T08:35:03.793501Z",
     "start_time": "2025-05-28T08:35:03.788140Z"
    }
   },
   "cell_type": "code",
   "source": [
    "dic = {\"key1\": 1, \"key2\": \"2\", \"key3\": [3, 3, 3], \"key4\": (4, 4, 4), (\"key5\"): 5, (0, 1): 6}\n",
    "dic"
   ],
   "id": "473ef93f77ee8a74",
   "outputs": [
    {
     "data": {
      "text/plain": [
       "{'key1': 1,\n",
       " 'key2': '2',\n",
       " 'key3': [3, 3, 3],\n",
       " 'key4': (4, 4, 4),\n",
       " 'key5': 5,\n",
       " (0, 1): 6}"
      ]
     },
     "execution_count": 1,
     "metadata": {},
     "output_type": "execute_result"
    }
   ],
   "execution_count": 1
  },
  {
   "metadata": {},
   "cell_type": "markdown",
   "source": "<p>Keys can also be any immutable object such as a tuple:</p>",
   "id": "7a93f0a1cd48de18"
  },
  {
   "metadata": {
    "ExecuteTime": {
     "end_time": "2025-05-28T08:35:03.802362Z",
     "start_time": "2025-05-28T08:35:03.799727Z"
    }
   },
   "cell_type": "code",
   "source": "dic[(0, 1)]",
   "id": "dbb8bf3bc6e53550",
   "outputs": [
    {
     "data": {
      "text/plain": [
       "6"
      ]
     },
     "execution_count": 2,
     "metadata": {},
     "output_type": "execute_result"
    }
   ],
   "execution_count": 2
  },
  {
   "metadata": {},
   "cell_type": "markdown",
   "source": "<p>Each key is separated from its value by a colon \"<code>:</code>\".  Commas separate the items, and the whole dictionary is enclosed in curly braces. An empty dictionary without any items is written with just two curly braces, like this  \"<code>{}</code>\".</p>",
   "id": "6c0d943f0d8b2b94"
  },
  {
   "metadata": {
    "ExecuteTime": {
     "end_time": "2025-05-28T08:35:03.889162Z",
     "start_time": "2025-05-28T08:35:03.886344Z"
    }
   },
   "cell_type": "code",
   "source": [
    "release_year_dict = {\n",
    "    \"Thriller\": \"1982\", \"Back in Black\": \"1980\", \"The Dark Side of the Moon\": \"1973\", \"The Bodyguard\": \"1992\", \"Bat Out of Hell\": \"1977\", \"Their Greatest Hits (1971-1975)\": \"1976\", \"Saturday Night Fever\": \"1977\", \"Rumours\": \"1977\"\n",
    "}\n",
    "release_year_dict"
   ],
   "id": "59334ca97a65f7a2",
   "outputs": [
    {
     "data": {
      "text/plain": [
       "{'Thriller': '1982',\n",
       " 'Back in Black': '1980',\n",
       " 'The Dark Side of the Moon': '1973',\n",
       " 'The Bodyguard': '1992',\n",
       " 'Bat Out of Hell': '1977',\n",
       " 'Their Greatest Hits (1971-1975)': '1976',\n",
       " 'Saturday Night Fever': '1977',\n",
       " 'Rumours': '1977'}"
      ]
     },
     "execution_count": 3,
     "metadata": {},
     "output_type": "execute_result"
    }
   ],
   "execution_count": 3
  },
  {
   "metadata": {},
   "cell_type": "markdown",
   "source": "<p>In summary, like a list, a dictionary holds a sequence of elements. Each element is represented by a key and its corresponding value. Dictionaries are created with two curly braces containing keys and values separated by a colon. For every key, there can only be one single value, however,  multiple keys can hold the same value. Keys can only be strings, numbers, or tuples, but values can be any data type.</p>",
   "id": "cbbc4e276be15f6"
  },
  {
   "metadata": {},
   "cell_type": "markdown",
   "source": "<p>It is helpful to visualize the dictionary as a table, as in the following table. The first column represents the keys, the second column represents the values.</p>",
   "id": "7a7ae7e84daf947e"
  },
  {
   "metadata": {},
   "cell_type": "markdown",
   "source": [
    "<table style=\"width: 100%; border-collapse: collapse\">\n",
    "<thead>\n",
    "<tr>\n",
    "    <th style=\"border: 1px solid; text-align: center\">Key</th>\n",
    "    <th style=\"border: 1px solid; text-align: center\">Value</th>\n",
    "</tr>\n",
    "</thead>\n",
    "<tbody>\n",
    "<tr>\n",
    "    <td style=\"border: 1px solid; text-align: center\">\"Thriller\"</td>\n",
    "    <td style=\"border: 1px solid; text-align: center\">\"1982\"</td>\n",
    "</tr>\n",
    "<tr>\n",
    "    <td style=\"border: 1px solid; text-align: center\">\"Back in Black\"</td>\n",
    "    <td style=\"border: 1px solid; text-align: center\">\"1980\"</td>\n",
    "</tr>\n",
    "<tr>\n",
    "    <td style=\"border: 1px solid; text-align: center\">\"The Dark Side of the Moon\"</td>\n",
    "    <td style=\"border: 1px solid; text-align: center\">\"1973\"</td>\n",
    "</tr>\n",
    "<tr>\n",
    "    <td style=\"border: 1px solid; text-align: center\">\"The Bodyguard\"</td>\n",
    "    <td style=\"border: 1px solid; text-align: center\">\"1992\"</td>\n",
    "</tr>\n",
    "<tr>\n",
    "    <td style=\"border: 1px solid; text-align: center\">\"Bat Out of Hell\"</td>\n",
    "    <td style=\"border: 1px solid; text-align: center\">\"1977\"</td>\n",
    "</tr>\n",
    "<tr>\n",
    "    <td style=\"border: 1px solid; text-align: center\">\"Their Greatest...\"</td>\n",
    "    <td style=\"border: 1px solid; text-align: center\">\"1976\"</td>\n",
    "</tr>\n",
    "<tr>\n",
    "    <td style=\"border: 1px solid; text-align: center\">\"Saturday Night Fever\"</td>\n",
    "    <td style=\"border: 1px solid; text-align: center\">\"1977\"</td>\n",
    "</tr>\n",
    "<tr>\n",
    "    <td style=\"border: 1px solid; text-align: center\">\"Rumours\"</td>\n",
    "    <td style=\"border: 1px solid; text-align: center\">\"1977\"</td>\n",
    "</tr>\n",
    "</tbody>\n",
    "</table>"
   ],
   "id": "3c44d6263f73108e"
  },
  {
   "metadata": {},
   "cell_type": "markdown",
   "source": "### Keys",
   "id": "450fface298223dc"
  },
  {
   "metadata": {},
   "cell_type": "markdown",
   "source": "<p>You can retrieve the values based on the names:</p>",
   "id": "e0cc862900711509"
  },
  {
   "metadata": {
    "ExecuteTime": {
     "end_time": "2025-05-28T08:35:03.900733Z",
     "start_time": "2025-05-28T08:35:03.897266Z"
    }
   },
   "cell_type": "code",
   "source": "release_year_dict[\"Thriller\"]",
   "id": "dc4aec13886a025a",
   "outputs": [
    {
     "data": {
      "text/plain": [
       "'1982'"
      ]
     },
     "execution_count": 4,
     "metadata": {},
     "output_type": "execute_result"
    }
   ],
   "execution_count": 4
  },
  {
   "metadata": {},
   "cell_type": "markdown",
   "source": "<p>Similarly for <b>The Bodyguard</b>:</p>",
   "id": "8d94e496e53b9ac3"
  },
  {
   "metadata": {
    "ExecuteTime": {
     "end_time": "2025-05-28T08:35:03.923435Z",
     "start_time": "2025-05-28T08:35:03.919475Z"
    }
   },
   "cell_type": "code",
   "source": "release_year_dict[\"The Bodyguard\"]",
   "id": "2a9cb800eb8a4ad4",
   "outputs": [
    {
     "data": {
      "text/plain": [
       "'1992'"
      ]
     },
     "execution_count": 5,
     "metadata": {},
     "output_type": "execute_result"
    }
   ],
   "execution_count": 5
  },
  {
   "metadata": {},
   "cell_type": "markdown",
   "source": "<p>Now let us retrieve the keys of the dictionary using the method <code>keys()</code>:</p>",
   "id": "56552eec129d7d8e"
  },
  {
   "metadata": {
    "ExecuteTime": {
     "end_time": "2025-05-28T08:35:03.957552Z",
     "start_time": "2025-05-28T08:35:03.953862Z"
    }
   },
   "cell_type": "code",
   "source": "release_year_dict.keys()",
   "id": "e31fa1ccecf61416",
   "outputs": [
    {
     "data": {
      "text/plain": [
       "dict_keys(['Thriller', 'Back in Black', 'The Dark Side of the Moon', 'The Bodyguard', 'Bat Out of Hell', 'Their Greatest Hits (1971-1975)', 'Saturday Night Fever', 'Rumours'])"
      ]
     },
     "execution_count": 6,
     "metadata": {},
     "output_type": "execute_result"
    }
   ],
   "execution_count": 6
  },
  {
   "metadata": {},
   "cell_type": "markdown",
   "source": "<p>You can retrieve the values using the method <code>values()</code>:</p>",
   "id": "9609f08747e93ebc"
  },
  {
   "metadata": {
    "ExecuteTime": {
     "end_time": "2025-05-28T08:35:03.975386Z",
     "start_time": "2025-05-28T08:35:03.972499Z"
    }
   },
   "cell_type": "code",
   "source": "release_year_dict.values()",
   "id": "fc17adbc3f26f50d",
   "outputs": [
    {
     "data": {
      "text/plain": [
       "dict_values(['1982', '1980', '1973', '1992', '1977', '1976', '1977', '1977'])"
      ]
     },
     "execution_count": 7,
     "metadata": {},
     "output_type": "execute_result"
    }
   ],
   "execution_count": 7
  },
  {
   "metadata": {},
   "cell_type": "markdown",
   "source": "<p>We can add an entry:</p>",
   "id": "30245eb1148c80ae"
  },
  {
   "metadata": {
    "ExecuteTime": {
     "end_time": "2025-05-28T08:35:04.002146Z",
     "start_time": "2025-05-28T08:35:03.999313Z"
    }
   },
   "cell_type": "code",
   "source": [
    "release_year_dict[\"Graduation\"] = \"2007\"\n",
    "release_year_dict"
   ],
   "id": "ac4bf11c18648fda",
   "outputs": [
    {
     "data": {
      "text/plain": [
       "{'Thriller': '1982',\n",
       " 'Back in Black': '1980',\n",
       " 'The Dark Side of the Moon': '1973',\n",
       " 'The Bodyguard': '1992',\n",
       " 'Bat Out of Hell': '1977',\n",
       " 'Their Greatest Hits (1971-1975)': '1976',\n",
       " 'Saturday Night Fever': '1977',\n",
       " 'Rumours': '1977',\n",
       " 'Graduation': '2007'}"
      ]
     },
     "execution_count": 8,
     "metadata": {},
     "output_type": "execute_result"
    }
   ],
   "execution_count": 8
  },
  {
   "metadata": {},
   "cell_type": "markdown",
   "source": "<p>We can delete an entry:</p>",
   "id": "93cc75e29c8917c9"
  },
  {
   "metadata": {
    "ExecuteTime": {
     "end_time": "2025-05-28T08:35:04.033625Z",
     "start_time": "2025-05-28T08:35:04.030132Z"
    }
   },
   "cell_type": "code",
   "source": [
    "print(release_year_dict)\n",
    "del(release_year_dict[\"Thriller\"])\n",
    "print(release_year_dict)\n",
    "del(release_year_dict[\"Graduation\"])\n",
    "print(release_year_dict)"
   ],
   "id": "2e033738aa382561",
   "outputs": [
    {
     "name": "stdout",
     "output_type": "stream",
     "text": [
      "{'Thriller': '1982', 'Back in Black': '1980', 'The Dark Side of the Moon': '1973', 'The Bodyguard': '1992', 'Bat Out of Hell': '1977', 'Their Greatest Hits (1971-1975)': '1976', 'Saturday Night Fever': '1977', 'Rumours': '1977', 'Graduation': '2007'}\n",
      "{'Back in Black': '1980', 'The Dark Side of the Moon': '1973', 'The Bodyguard': '1992', 'Bat Out of Hell': '1977', 'Their Greatest Hits (1971-1975)': '1976', 'Saturday Night Fever': '1977', 'Rumours': '1977', 'Graduation': '2007'}\n",
      "{'Back in Black': '1980', 'The Dark Side of the Moon': '1973', 'The Bodyguard': '1992', 'Bat Out of Hell': '1977', 'Their Greatest Hits (1971-1975)': '1976', 'Saturday Night Fever': '1977', 'Rumours': '1977'}\n"
     ]
    }
   ],
   "execution_count": 9
  },
  {
   "metadata": {},
   "cell_type": "markdown",
   "source": "<p>We can verify if an element is in the dictionary:</p>",
   "id": "8d0a0197d7f9aa97"
  },
  {
   "metadata": {
    "ExecuteTime": {
     "end_time": "2025-05-28T08:35:04.054162Z",
     "start_time": "2025-05-28T08:35:04.050799Z"
    }
   },
   "cell_type": "code",
   "source": "\"The Bodyguard\" in release_year_dict",
   "id": "8f5bc3c80415236e",
   "outputs": [
    {
     "data": {
      "text/plain": [
       "True"
      ]
     },
     "execution_count": 10,
     "metadata": {},
     "output_type": "execute_result"
    }
   ],
   "execution_count": 10
  },
  {
   "metadata": {},
   "cell_type": "markdown",
   "source": "### Quiz on Dictionaries",
   "id": "e3a619cb7a017709"
  },
  {
   "metadata": {},
   "cell_type": "markdown",
   "source": "<p><b>You will need this dictionary for the next two questions:</b></p>",
   "id": "8f01d3979df20250"
  },
  {
   "metadata": {
    "ExecuteTime": {
     "end_time": "2025-05-28T08:35:04.080173Z",
     "start_time": "2025-05-28T08:35:04.076781Z"
    }
   },
   "cell_type": "code",
   "source": [
    "soundtrack_dic = {\n",
    "    \"The Bodyguard\": \"1992\", \"Saturday Night Fever\": \"1977\"\n",
    "}\n",
    "soundtrack_dic"
   ],
   "id": "b240a9dbad449cc4",
   "outputs": [
    {
     "data": {
      "text/plain": [
       "{'The Bodyguard': '1992', 'Saturday Night Fever': '1977'}"
      ]
     },
     "execution_count": 11,
     "metadata": {},
     "output_type": "execute_result"
    }
   ],
   "execution_count": 11
  },
  {
   "metadata": {},
   "cell_type": "markdown",
   "source": "<p>a) In the dictionary <code>soundtrack_dic</code> what are the keys?</p>",
   "id": "a7bc280c57c7162a"
  },
  {
   "metadata": {
    "ExecuteTime": {
     "end_time": "2025-05-28T08:35:04.097143Z",
     "start_time": "2025-05-28T08:35:04.087540Z"
    }
   },
   "cell_type": "code",
   "source": "soundtrack_dic.keys()",
   "id": "5a13491c59de02fd",
   "outputs": [
    {
     "data": {
      "text/plain": [
       "dict_keys(['The Bodyguard', 'Saturday Night Fever'])"
      ]
     },
     "execution_count": 12,
     "metadata": {},
     "output_type": "execute_result"
    }
   ],
   "execution_count": 12
  },
  {
   "metadata": {},
   "cell_type": "markdown",
   "source": "<p>b) In the dictionary <code>soundtrack_dic</code> what are the values ?</p>",
   "id": "d0e1d5b936158931"
  },
  {
   "metadata": {
    "ExecuteTime": {
     "end_time": "2025-05-28T08:35:04.109251Z",
     "start_time": "2025-05-28T08:35:04.105401Z"
    }
   },
   "cell_type": "code",
   "source": "soundtrack_dic.values()",
   "id": "13e91ebc24fd6dee",
   "outputs": [
    {
     "data": {
      "text/plain": [
       "dict_values(['1992', '1977'])"
      ]
     },
     "execution_count": 13,
     "metadata": {},
     "output_type": "execute_result"
    }
   ],
   "execution_count": 13
  },
  {
   "metadata": {},
   "cell_type": "markdown",
   "source": "<p><b>You will need this dictionary for the following questions:</b></p>",
   "id": "ee7c8734784bfc53"
  },
  {
   "metadata": {},
   "cell_type": "markdown",
   "source": "<p>The Albums <b>Back in Black</b>, <b>The Bodyguard</b> and <b>Thriller</b> have the following music recording sales in millions 50, 50 and 65 respectively:</p>",
   "id": "808c09aef5b4b10d"
  },
  {
   "metadata": {},
   "cell_type": "markdown",
   "source": "<p>a) Create a dictionary <code>album_sales_dict</code> where the keys are the album name and the sales in millions are the values.</p>",
   "id": "b5f4c5d4e32b3f33"
  },
  {
   "metadata": {
    "ExecuteTime": {
     "end_time": "2025-05-28T08:35:04.139650Z",
     "start_time": "2025-05-28T08:35:04.136182Z"
    }
   },
   "cell_type": "code",
   "source": [
    "album_sales_dict = {\n",
    "    \"Back in Black\": 50,\n",
    "    \"The Bodyguard\": 50,\n",
    "    \"Thriller\": 65\n",
    "}\n",
    "album_sales_dict"
   ],
   "id": "e5d4e3d458cc70c0",
   "outputs": [
    {
     "data": {
      "text/plain": [
       "{'Back in Black': 50, 'The Bodyguard': 50, 'Thriller': 65}"
      ]
     },
     "execution_count": 14,
     "metadata": {},
     "output_type": "execute_result"
    }
   ],
   "execution_count": 14
  },
  {
   "metadata": {},
   "cell_type": "markdown",
   "source": "<p>b) Use the dictionary to find the total sales of <b>Thriller</b>:</p>",
   "id": "41503431cc4c6fec"
  },
  {
   "metadata": {
    "ExecuteTime": {
     "end_time": "2025-05-28T08:35:04.167929Z",
     "start_time": "2025-05-28T08:35:04.164656Z"
    }
   },
   "cell_type": "code",
   "source": "album_sales_dict[\"Thriller\"]",
   "id": "f3e491dd6d7547d3",
   "outputs": [
    {
     "data": {
      "text/plain": [
       "65"
      ]
     },
     "execution_count": 15,
     "metadata": {},
     "output_type": "execute_result"
    }
   ],
   "execution_count": 15
  },
  {
   "metadata": {},
   "cell_type": "markdown",
   "source": "<p>c) Find the names of the albums from the dictionary using the method <code>keys()</code>:</p>",
   "id": "be7371029fd21c41"
  },
  {
   "metadata": {
    "ExecuteTime": {
     "end_time": "2025-05-28T08:35:04.195910Z",
     "start_time": "2025-05-28T08:35:04.192046Z"
    }
   },
   "cell_type": "code",
   "source": "album_sales_dict.keys()",
   "id": "a44a40b42cc69bcd",
   "outputs": [
    {
     "data": {
      "text/plain": [
       "dict_keys(['Back in Black', 'The Bodyguard', 'Thriller'])"
      ]
     },
     "execution_count": 16,
     "metadata": {},
     "output_type": "execute_result"
    }
   ],
   "execution_count": 16
  },
  {
   "metadata": {},
   "cell_type": "markdown",
   "source": "<p>d) Find the values of the recording sales from the dictionary using the method <code>values</code>:</p>",
   "id": "c4210a860ffc78ab"
  },
  {
   "metadata": {
    "ExecuteTime": {
     "end_time": "2025-05-28T08:35:04.226705Z",
     "start_time": "2025-05-28T08:35:04.223415Z"
    }
   },
   "cell_type": "code",
   "source": "album_sales_dict.values()",
   "id": "d1ba5fde646b3fa4",
   "outputs": [
    {
     "data": {
      "text/plain": [
       "dict_values([50, 50, 65])"
      ]
     },
     "execution_count": 17,
     "metadata": {},
     "output_type": "execute_result"
    }
   ],
   "execution_count": 17
  },
  {
   "metadata": {},
   "cell_type": "markdown",
   "source": "### Scenario: Inventory Store",
   "id": "fda715eb598d0dd0"
  },
  {
   "metadata": {},
   "cell_type": "markdown",
   "source": "<p>The inventory store scenario project utilizes a dictionary-based approach to develop a robust system for managing and tracking inventory in a retail store.</p>",
   "id": "abb98506e516134c"
  },
  {
   "metadata": {},
   "cell_type": "markdown",
   "source": [
    "**Note:**<br />\n",
    "- **You will be working with two product details.**"
   ],
   "id": "83044d4f9a8a7dd"
  },
  {
   "metadata": {},
   "cell_type": "markdown",
   "source": "### Task 1 - Create an empty dictionary",
   "id": "aad132a2d48c2048"
  },
  {
   "metadata": {},
   "cell_type": "markdown",
   "source": "<p>First you need to create an empty dictionary, where you will be storing the product details.</p>",
   "id": "8baca3de74b1ab7d"
  },
  {
   "metadata": {
    "ExecuteTime": {
     "end_time": "2025-05-28T08:35:04.249805Z",
     "start_time": "2025-05-28T08:35:04.247012Z"
    }
   },
   "cell_type": "code",
   "source": "inventory = {}",
   "id": "7f02c534da80a20f",
   "outputs": [],
   "execution_count": 18
  },
  {
   "metadata": {},
   "cell_type": "markdown",
   "source": "### Task 2 - Store the first product details in variable",
   "id": "b40a2cd91de559bf"
  },
  {
   "metadata": {},
   "cell_type": "markdown",
   "source": [
    "- Product Name= Mobile phone\n",
    "- Product Quantity= 5\n",
    "- Product price= 20000\n",
    "- Product Release Year= 2020"
   ],
   "id": "d6b3a03a630413b9"
  },
  {
   "metadata": {
    "ExecuteTime": {
     "end_time": "2025-05-28T08:35:04.271789Z",
     "start_time": "2025-05-28T08:35:04.269076Z"
    }
   },
   "cell_type": "code",
   "source": [
    "productName = \"Mobile phone\"\n",
    "productQuantity = 5\n",
    "productPrice = 20000\n",
    "productReleaseYear = 2020"
   ],
   "id": "b3efadc2df0d176a",
   "outputs": [],
   "execution_count": 19
  },
  {
   "metadata": {},
   "cell_type": "markdown",
   "source": "### Task 3 - Add the details in inventory",
   "id": "3f0273d8ee00fab8"
  },
  {
   "metadata": {
    "ExecuteTime": {
     "end_time": "2025-05-28T08:35:04.281310Z",
     "start_time": "2025-05-28T08:35:04.278186Z"
    }
   },
   "cell_type": "code",
   "source": [
    "inventory.update({\"ProductName1\": productName, \"ProductQuantity1\": productQuantity, \"ProductPrice1\": productPrice, \"ProductReleaseYear1\": productReleaseYear})\n",
    "inventory"
   ],
   "id": "7f51ebebf14a25c8",
   "outputs": [
    {
     "data": {
      "text/plain": [
       "{'ProductName1': 'Mobile phone',\n",
       " 'ProductQuantity1': 5,\n",
       " 'ProductPrice1': 20000,\n",
       " 'ProductReleaseYear1': 2020}"
      ]
     },
     "execution_count": 20,
     "metadata": {},
     "output_type": "execute_result"
    }
   ],
   "execution_count": 20
  },
  {
   "metadata": {},
   "cell_type": "markdown",
   "source": "### Task 4 - Store the second product details in a variable",
   "id": "bfe028ff9b1ecd5c"
  },
  {
   "metadata": {},
   "cell_type": "markdown",
   "source": [
    "- Product Name = Laptop\n",
    "- Product Quantity = 10\n",
    "- Product Price = 50000\n",
    "- Product Release Year = 2023"
   ],
   "id": "e7060f589e561ffd"
  },
  {
   "metadata": {
    "ExecuteTime": {
     "end_time": "2025-05-28T08:35:04.300205Z",
     "start_time": "2025-05-28T08:35:04.297265Z"
    }
   },
   "cell_type": "code",
   "source": [
    "productName = \"Laptop\"\n",
    "productQuantity = 10\n",
    "productPrice = 50000\n",
    "productReleaseYear = 2023"
   ],
   "id": "5d585b1e1f9f95fd",
   "outputs": [],
   "execution_count": 21
  },
  {
   "metadata": {},
   "cell_type": "markdown",
   "source": "### Task 5 - Add the item detail into the inventory",
   "id": "3fc5897e0eef378b"
  },
  {
   "metadata": {
    "ExecuteTime": {
     "end_time": "2025-05-28T08:35:04.310588Z",
     "start_time": "2025-05-28T08:35:04.307487Z"
    }
   },
   "cell_type": "code",
   "source": [
    "inventory.update({\"ProductName2\": productName, \"ProductQuantity2\": productQuantity, \"ProductPrice2\": productPrice, \"ProductReleaseYear2\": productReleaseYear})\n",
    "inventory"
   ],
   "id": "d8ff0b19ecb6bc56",
   "outputs": [
    {
     "data": {
      "text/plain": [
       "{'ProductName1': 'Mobile phone',\n",
       " 'ProductQuantity1': 5,\n",
       " 'ProductPrice1': 20000,\n",
       " 'ProductReleaseYear1': 2020,\n",
       " 'ProductName2': 'Laptop',\n",
       " 'ProductQuantity2': 10,\n",
       " 'ProductPrice2': 50000,\n",
       " 'ProductReleaseYear2': 2023}"
      ]
     },
     "execution_count": 22,
     "metadata": {},
     "output_type": "execute_result"
    }
   ],
   "execution_count": 22
  },
  {
   "metadata": {},
   "cell_type": "markdown",
   "source": "### Task 6 - Display the Products present in the inventory",
   "id": "1fc6f79c5dc4bb77"
  },
  {
   "metadata": {},
   "cell_type": "markdown",
   "source": "<p>Use print statement for displaying the products.</p>",
   "id": "2570d7c4c59487b7"
  },
  {
   "metadata": {
    "ExecuteTime": {
     "end_time": "2025-05-28T08:35:04.331583Z",
     "start_time": "2025-05-28T08:35:04.328842Z"
    }
   },
   "cell_type": "code",
   "source": "print(inventory)",
   "id": "5dd63bbbf945d387",
   "outputs": [
    {
     "name": "stdout",
     "output_type": "stream",
     "text": [
      "{'ProductName1': 'Mobile phone', 'ProductQuantity1': 5, 'ProductPrice1': 20000, 'ProductReleaseYear1': 2020, 'ProductName2': 'Laptop', 'ProductQuantity2': 10, 'ProductPrice2': 50000, 'ProductReleaseYear2': 2023}\n"
     ]
    }
   ],
   "execution_count": 23
  },
  {
   "metadata": {},
   "cell_type": "markdown",
   "source": "### Task 7 - Check if `ProductReleaseYear1` and `ProductReleaseYear2` is in the inventory",
   "id": "9a460f92d289e8e8"
  },
  {
   "metadata": {
    "ExecuteTime": {
     "end_time": "2025-05-28T08:35:04.368718Z",
     "start_time": "2025-05-28T08:35:04.364900Z"
    }
   },
   "cell_type": "code",
   "source": "\"ProductReleaseYear1\" in inventory",
   "id": "b9b76c169e575cb8",
   "outputs": [
    {
     "data": {
      "text/plain": [
       "True"
      ]
     },
     "execution_count": 24,
     "metadata": {},
     "output_type": "execute_result"
    }
   ],
   "execution_count": 24
  },
  {
   "metadata": {
    "ExecuteTime": {
     "end_time": "2025-05-28T08:35:04.397708Z",
     "start_time": "2025-05-28T08:35:04.394582Z"
    }
   },
   "cell_type": "code",
   "source": "\"ProductReleaseYear2\" in inventory",
   "id": "640141ea1276d7c4",
   "outputs": [
    {
     "data": {
      "text/plain": [
       "True"
      ]
     },
     "execution_count": 25,
     "metadata": {},
     "output_type": "execute_result"
    }
   ],
   "execution_count": 25
  },
  {
   "metadata": {},
   "cell_type": "markdown",
   "source": "**As in inventory `Release year` is not required, let's delete it.**",
   "id": "98bf85f132730791"
  },
  {
   "metadata": {},
   "cell_type": "markdown",
   "source": "### Task 8 - Delete release year of both the products from the inventory",
   "id": "42fe424987ef3d18"
  },
  {
   "metadata": {
    "ExecuteTime": {
     "end_time": "2025-05-28T08:35:04.429151Z",
     "start_time": "2025-05-28T08:35:04.426043Z"
    }
   },
   "cell_type": "code",
   "source": [
    "del(inventory[\"ProductReleaseYear1\"])\n",
    "del(inventory[\"ProductReleaseYear2\"])\n",
    "inventory"
   ],
   "id": "32c54e071a1d1840",
   "outputs": [
    {
     "data": {
      "text/plain": [
       "{'ProductName1': 'Mobile phone',\n",
       " 'ProductQuantity1': 5,\n",
       " 'ProductPrice1': 20000,\n",
       " 'ProductName2': 'Laptop',\n",
       " 'ProductQuantity2': 10,\n",
       " 'ProductPrice2': 50000}"
      ]
     },
     "execution_count": 26,
     "metadata": {},
     "output_type": "execute_result"
    }
   ],
   "execution_count": 26
  },
  {
   "metadata": {},
   "cell_type": "markdown",
   "source": [
    "****\n",
    "This is the end of the file.\n",
    "****"
   ],
   "id": "de3b816a6f2479ac"
  }
 ],
 "metadata": {
  "kernelspec": {
   "display_name": "Python 3",
   "language": "python",
   "name": "python3"
  },
  "language_info": {
   "codemirror_mode": {
    "name": "ipython",
    "version": 2
   },
   "file_extension": ".py",
   "mimetype": "text/x-python",
   "name": "python",
   "nbconvert_exporter": "python",
   "pygments_lexer": "ipython2",
   "version": "2.7.6"
  }
 },
 "nbformat": 4,
 "nbformat_minor": 5
}
