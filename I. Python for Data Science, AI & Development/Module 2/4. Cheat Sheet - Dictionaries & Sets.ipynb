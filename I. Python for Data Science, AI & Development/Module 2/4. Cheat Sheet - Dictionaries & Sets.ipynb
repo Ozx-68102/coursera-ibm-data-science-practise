{
 "cells": [
  {
   "metadata": {},
   "cell_type": "markdown",
   "source": "# Cheat Sheet: Dictionaries & Sets",
   "id": "fc94ef12922a230c"
  },
  {
   "metadata": {},
   "cell_type": "markdown",
   "source": "## Dictionaries",
   "id": "605df6b10d37290e"
  },
  {
   "metadata": {},
   "cell_type": "markdown",
   "source": "### 1. Creating a Dictionary",
   "id": "ccd459c42403ba89"
  },
  {
   "metadata": {},
   "cell_type": "markdown",
   "source": "<p>A dictionary is a built-in data type that represents a collection of key-value pairs. Dictionaries are enclosed in curly braces <code>{}</code>.</p>",
   "id": "f2632aeff90145db"
  },
  {
   "metadata": {
    "ExecuteTime": {
     "end_time": "2025-05-28T11:58:00.548677Z",
     "start_time": "2025-05-28T11:58:00.534123Z"
    }
   },
   "cell_type": "code",
   "source": [
    "dict_name = {} # This will create an empty\n",
    "person = {\"name\": \"John\", \"age\": 20, \"city\": \"New York\"}\n",
    "person"
   ],
   "id": "e93062164d980f7e",
   "outputs": [
    {
     "data": {
      "text/plain": [
       "{'name': 'John', 'age': 20, 'city': 'New York'}"
      ]
     },
     "execution_count": 1,
     "metadata": {},
     "output_type": "execute_result"
    }
   ],
   "execution_count": 1
  },
  {
   "metadata": {},
   "cell_type": "markdown",
   "source": "### 2. Accessing Values",
   "id": "4662dcae85e9827d"
  },
  {
   "metadata": {},
   "cell_type": "markdown",
   "source": "<p>You can access the values in a dictionary using their corresponding <code>keys</code>.</p>",
   "id": "cc23d051fe4f0e11"
  },
  {
   "metadata": {},
   "cell_type": "markdown",
   "source": [
    "**Syntax**:\n",
    "\n",
    "```Python\n",
    "value = dict_name[key]\n",
    "```"
   ],
   "id": "1905cc2d1638f675"
  },
  {
   "metadata": {
    "ExecuteTime": {
     "end_time": "2025-05-28T11:58:00.737263Z",
     "start_time": "2025-05-28T11:58:00.731660Z"
    }
   },
   "cell_type": "code",
   "source": [
    "name = person[\"name\"]\n",
    "age = person[\"age\"]\n",
    "print(name, age)"
   ],
   "id": "6058b82528244d0d",
   "outputs": [
    {
     "name": "stdout",
     "output_type": "stream",
     "text": [
      "John 20\n"
     ]
    }
   ],
   "execution_count": 2
  },
  {
   "metadata": {},
   "cell_type": "markdown",
   "source": "### 3. Add or modify",
   "id": "c637c587a25e0ae4"
  },
  {
   "metadata": {},
   "cell_type": "markdown",
   "source": "<p>Inserts a new key-value pair into the dictionary. If the key already exists, the value will be updated; otherwise, a new entry is created.</p>",
   "id": "e4b7d044d5e9ae3b"
  },
  {
   "metadata": {},
   "cell_type": "markdown",
   "source": [
    "**Syntax**:\n",
    "\n",
    "```Python\n",
    "dict_name[key] = value\n",
    "```"
   ],
   "id": "516fc0c8d7f33b93"
  },
  {
   "metadata": {
    "ExecuteTime": {
     "end_time": "2025-05-28T11:58:00.767953Z",
     "start_time": "2025-05-28T11:58:00.760522Z"
    }
   },
   "cell_type": "code",
   "source": [
    "person[\"Country\"] = \"USA\"   # A new entry will be created.\n",
    "person[\"city\"] = \"Chicago\"  # Update the existing value for the same key\n",
    "person"
   ],
   "id": "503f0496707f9ecb",
   "outputs": [
    {
     "data": {
      "text/plain": [
       "{'name': 'John', 'age': 20, 'city': 'Chicago', 'Country': 'USA'}"
      ]
     },
     "execution_count": 3,
     "metadata": {},
     "output_type": "execute_result"
    }
   ],
   "execution_count": 3
  },
  {
   "metadata": {},
   "cell_type": "markdown",
   "source": "### 4. del",
   "id": "24f07d1831a1c21b"
  },
  {
   "metadata": {},
   "cell_type": "markdown",
   "source": "<p>Removes the specified key-value pair from the dictionary. Raises a <code>KeyError</code> if the key does not exist.</p>",
   "id": "e2887646301baece"
  },
  {
   "metadata": {},
   "cell_type": "markdown",
   "source": [
    "**Syntax**:\n",
    "\n",
    "```Python\n",
    "del dict_name[key]\n",
    "```"
   ],
   "id": "87653f8e944afc"
  },
  {
   "metadata": {
    "ExecuteTime": {
     "end_time": "2025-05-28T11:58:00.839093Z",
     "start_time": "2025-05-28T11:58:00.830651Z"
    }
   },
   "cell_type": "code",
   "source": [
    "del person[\"Country\"]\n",
    "person"
   ],
   "id": "1ef8996a09623ff0",
   "outputs": [
    {
     "data": {
      "text/plain": [
       "{'name': 'John', 'age': 20, 'city': 'Chicago'}"
      ]
     },
     "execution_count": 4,
     "metadata": {},
     "output_type": "execute_result"
    }
   ],
   "execution_count": 4
  },
  {
   "metadata": {},
   "cell_type": "markdown",
   "source": "### 5. update()",
   "id": "b17d536ec5f2972e"
  },
  {
   "metadata": {},
   "cell_type": "markdown",
   "source": "<p>The <code>update()</code> method merges the provided dictionary into the existing dictionary, adding or updating key-value pairs.</p>",
   "id": "9ab46abe14fa701d"
  },
  {
   "metadata": {},
   "cell_type": "markdown",
   "source": [
    "**Syntax:**\n",
    "\n",
    "```Python\n",
    "dict_name.update({key: value})\n",
    "```"
   ],
   "id": "a595891379e79971"
  },
  {
   "metadata": {
    "ExecuteTime": {
     "end_time": "2025-05-28T11:58:00.901633Z",
     "start_time": "2025-05-28T11:58:00.891561Z"
    }
   },
   "cell_type": "code",
   "source": [
    "person.update({\"Occupation\": \"Doctor\"})\n",
    "person"
   ],
   "id": "75632d2d07e1014d",
   "outputs": [
    {
     "data": {
      "text/plain": [
       "{'name': 'John', 'age': 20, 'city': 'Chicago', 'Occupation': 'Doctor'}"
      ]
     },
     "execution_count": 5,
     "metadata": {},
     "output_type": "execute_result"
    }
   ],
   "execution_count": 5
  },
  {
   "metadata": {},
   "cell_type": "markdown",
   "source": "### 6. clear()",
   "id": "380038fa94e0d3ba"
  },
  {
   "metadata": {},
   "cell_type": "markdown",
   "source": "<p>The <code>clear()</code> method empties the dictionary, removing all key-value pairs within it. After this operation, the dictionary is still accessible and can be used further.</p>",
   "id": "39e5aee11c5270e7"
  },
  {
   "metadata": {},
   "cell_type": "markdown",
   "source": [
    "**Syntax**:\n",
    "\n",
    "```Python\n",
    "dict_name.clear()\n",
    "```"
   ],
   "id": "5f1133408f50940a"
  },
  {
   "metadata": {
    "ExecuteTime": {
     "end_time": "2025-05-28T11:58:00.957881Z",
     "start_time": "2025-05-28T11:58:00.952615Z"
    }
   },
   "cell_type": "code",
   "source": [
    "grades = {\"Freshman\": 500, \"Sophomore\": 400, \"Junior\": 350, \"Senior\": 380}\n",
    "grades"
   ],
   "id": "53c045e021915ab",
   "outputs": [
    {
     "data": {
      "text/plain": [
       "{'Freshman': 500, 'Sophomore': 400, 'Junior': 350, 'Senior': 380}"
      ]
     },
     "execution_count": 6,
     "metadata": {},
     "output_type": "execute_result"
    }
   ],
   "execution_count": 6
  },
  {
   "metadata": {
    "ExecuteTime": {
     "end_time": "2025-05-28T11:58:01.036740Z",
     "start_time": "2025-05-28T11:58:01.027860Z"
    }
   },
   "cell_type": "code",
   "source": [
    "grades.clear()\n",
    "grades"
   ],
   "id": "e056479fb8615b60",
   "outputs": [
    {
     "data": {
      "text/plain": [
       "{}"
      ]
     },
     "execution_count": 7,
     "metadata": {},
     "output_type": "execute_result"
    }
   ],
   "execution_count": 7
  },
  {
   "metadata": {},
   "cell_type": "markdown",
   "source": "### 7. key existence",
   "id": "4fb2c8a678a95dd3"
  },
  {
   "metadata": {},
   "cell_type": "markdown",
   "source": "<p>You can check for the existence of a key in a dictionary using the <code>in</code> keyword.</p>",
   "id": "dc8c8b1ed3a2c095"
  },
  {
   "metadata": {
    "ExecuteTime": {
     "end_time": "2025-05-28T11:58:01.105230Z",
     "start_time": "2025-05-28T11:58:01.096967Z"
    }
   },
   "cell_type": "code",
   "source": "\"name\" in person",
   "id": "c556c88b8ae9d435",
   "outputs": [
    {
     "data": {
      "text/plain": [
       "True"
      ]
     },
     "execution_count": 8,
     "metadata": {},
     "output_type": "execute_result"
    }
   ],
   "execution_count": 8
  },
  {
   "metadata": {},
   "cell_type": "markdown",
   "source": "### 8. copy()",
   "id": "4c56b35f6ab2dc50"
  },
  {
   "metadata": {},
   "cell_type": "markdown",
   "source": "<p>Creates a shallow copy of the dictionary. The new dictionary contains the same key-value pairs as the original, but they remain distinct objects in memory.</p>",
   "id": "20526cf0747b9410"
  },
  {
   "metadata": {},
   "cell_type": "markdown",
   "source": [
    "**Syntax**:\n",
    "\n",
    "```Python\n",
    "new_dict = dict_name.copy()\n",
    "```"
   ],
   "id": "b6d42fc51c44f9d"
  },
  {
   "metadata": {
    "ExecuteTime": {
     "end_time": "2025-05-28T11:58:01.150711Z",
     "start_time": "2025-05-28T11:58:01.145360Z"
    }
   },
   "cell_type": "code",
   "source": [
    "new_person = person.copy()\n",
    "print(new_person)\n",
    "# or\n",
    "new_person = dict(person)\n",
    "print(new_person)"
   ],
   "id": "7eb5b84c869f3c7",
   "outputs": [
    {
     "name": "stdout",
     "output_type": "stream",
     "text": [
      "{'name': 'John', 'age': 20, 'city': 'Chicago', 'Occupation': 'Doctor'}\n",
      "{'name': 'John', 'age': 20, 'city': 'Chicago', 'Occupation': 'Doctor'}\n"
     ]
    }
   ],
   "execution_count": 9
  },
  {
   "metadata": {},
   "cell_type": "markdown",
   "source": "### 9. keys()",
   "id": "e0e72b0543ed2484"
  },
  {
   "metadata": {},
   "cell_type": "markdown",
   "source": "<p>Retrieves all keys from the dictionary and converts them into a list. Useful for iterating or processing keys using list methods.</p>",
   "id": "201dcb7ba4c9ba44"
  },
  {
   "metadata": {},
   "cell_type": "markdown",
   "source": [
    "**Syntax**:\n",
    "\n",
    "```Python\n",
    "keys_list = list(dict_name.keys())\n",
    "```"
   ],
   "id": "1baabf85fd194d57"
  },
  {
   "metadata": {
    "ExecuteTime": {
     "end_time": "2025-05-28T11:58:01.212563Z",
     "start_time": "2025-05-28T11:58:01.202149Z"
    }
   },
   "cell_type": "code",
   "source": [
    "keys_list = list(person.keys())\n",
    "keys_list"
   ],
   "id": "a0e7b704240fb0fc",
   "outputs": [
    {
     "data": {
      "text/plain": [
       "['name', 'age', 'city', 'Occupation']"
      ]
     },
     "execution_count": 10,
     "metadata": {},
     "output_type": "execute_result"
    }
   ],
   "execution_count": 10
  },
  {
   "metadata": {},
   "cell_type": "markdown",
   "source": "### 10. values()",
   "id": "ad86ae447dbc6a67"
  },
  {
   "metadata": {},
   "cell_type": "markdown",
   "source": "<p>Extracts all values from the dictionary and converts them into a list. This list can be used for further processing or analysis.</p>",
   "id": "e1eb9c5383daace8"
  },
  {
   "metadata": {},
   "cell_type": "markdown",
   "source": [
    "**Syntax**:\n",
    "\n",
    "```Python\n",
    "values_list = list(dict_name.values())\n",
    "```"
   ],
   "id": "f29a1c83a5103957"
  },
  {
   "metadata": {
    "ExecuteTime": {
     "end_time": "2025-05-28T11:58:01.261897Z",
     "start_time": "2025-05-28T11:58:01.256521Z"
    }
   },
   "cell_type": "code",
   "source": [
    "values_list = list(person.values())\n",
    "values_list"
   ],
   "id": "d845fc13f49b1f7e",
   "outputs": [
    {
     "data": {
      "text/plain": [
       "['John', 20, 'Chicago', 'Doctor']"
      ]
     },
     "execution_count": 11,
     "metadata": {},
     "output_type": "execute_result"
    }
   ],
   "execution_count": 11
  },
  {
   "metadata": {},
   "cell_type": "markdown",
   "source": "### 11. items()",
   "id": "ffc33b960b858cb0"
  },
  {
   "metadata": {},
   "cell_type": "markdown",
   "source": "<p>Retrieves all key-value pairs as tuples and converts them into a list of tuples. Each tuple consists of a key and its corresponding value.</p>",
   "id": "3cd10f513b5a3047"
  },
  {
   "metadata": {},
   "cell_type": "markdown",
   "source": [
    "**Syntax**:\n",
    "\n",
    "```Python\n",
    "items_list = list(dict_name.items())\n",
    "```"
   ],
   "id": "4fe6c58e80a992d7"
  },
  {
   "metadata": {
    "ExecuteTime": {
     "end_time": "2025-05-28T11:58:01.295257Z",
     "start_time": "2025-05-28T11:58:01.288730Z"
    }
   },
   "cell_type": "code",
   "source": [
    "items_list = list(person.items())\n",
    "items_list"
   ],
   "id": "e5875406e0065bde",
   "outputs": [
    {
     "data": {
      "text/plain": [
       "[('name', 'John'), ('age', 20), ('city', 'Chicago'), ('Occupation', 'Doctor')]"
      ]
     },
     "execution_count": 12,
     "metadata": {},
     "output_type": "execute_result"
    }
   ],
   "execution_count": 12
  },
  {
   "metadata": {},
   "cell_type": "markdown",
   "source": "## Sets",
   "id": "93dc40301c98fdbb"
  },
  {
   "metadata": {},
   "cell_type": "markdown",
   "source": "### 1. add()",
   "id": "8997ced4ebdbf624"
  },
  {
   "metadata": {},
   "cell_type": "markdown",
   "source": "<p>Elements can be added to a set using the <code>add()</code> method. Duplicates are automatically removed, as sets only store unique values.</p>",
   "id": "934b544e6a06f1a5"
  },
  {
   "metadata": {},
   "cell_type": "markdown",
   "source": [
    "**Syntax**:\n",
    "\n",
    "```Python\n",
    "set_name.add(element)\n",
    "```"
   ],
   "id": "7e614779f3620d6a"
  },
  {
   "metadata": {
    "ExecuteTime": {
     "end_time": "2025-05-28T11:58:01.364280Z",
     "start_time": "2025-05-28T11:58:01.358007Z"
    }
   },
   "cell_type": "code",
   "source": [
    "fruits = {\"apple\", \"banana\", \"cherry\"}\n",
    "print(fruits)\n",
    "fruits.add(\"orange\")\n",
    "print(fruits)"
   ],
   "id": "44fd8943e5b65a16",
   "outputs": [
    {
     "name": "stdout",
     "output_type": "stream",
     "text": [
      "{'apple', 'banana', 'cherry'}\n",
      "{'apple', 'banana', 'orange', 'cherry'}\n"
     ]
    }
   ],
   "execution_count": 13
  },
  {
   "metadata": {},
   "cell_type": "markdown",
   "source": "### 2. clear()",
   "id": "b35d11c4cb4cc526"
  },
  {
   "metadata": {},
   "cell_type": "markdown",
   "source": "<p>The <code>clear()</code> method removes all elements from the set, resulting in an empty set. It updates the set in-place.</p>",
   "id": "d39c3660094939b3"
  },
  {
   "metadata": {},
   "cell_type": "markdown",
   "source": [
    "**Syntax**:\n",
    "\n",
    "```Python\n",
    "set_name.clear()\n",
    "```"
   ],
   "id": "a672af1e3479802e"
  },
  {
   "metadata": {
    "ExecuteTime": {
     "end_time": "2025-05-28T11:58:01.451859Z",
     "start_time": "2025-05-28T11:58:01.445683Z"
    }
   },
   "cell_type": "code",
   "source": [
    "fruits.clear()\n",
    "fruits"
   ],
   "id": "8d87e3e07576f771",
   "outputs": [
    {
     "data": {
      "text/plain": [
       "set()"
      ]
     },
     "execution_count": 14,
     "metadata": {},
     "output_type": "execute_result"
    }
   ],
   "execution_count": 14
  },
  {
   "metadata": {},
   "cell_type": "markdown",
   "source": "### 3. copy()",
   "id": "910560b72d0a0019"
  },
  {
   "metadata": {},
   "cell_type": "markdown",
   "source": "<p>The <code>copy()</code> method creates a shallow copy of the set. Any modifications to the copy won't affect the original set.</p>",
   "id": "6537b1bd292cea2"
  },
  {
   "metadata": {},
   "cell_type": "markdown",
   "source": [
    "**Syntax**:\n",
    "\n",
    "```Python\n",
    "new_set = set_name.copy()\n",
    "```"
   ],
   "id": "caa8fd847d03a10"
  },
  {
   "metadata": {
    "ExecuteTime": {
     "end_time": "2025-05-28T11:58:01.559025Z",
     "start_time": "2025-05-28T11:58:01.552119Z"
    }
   },
   "cell_type": "code",
   "source": [
    "fruits = {\"apple\", \"banana\", \"cherry\"}\n",
    "new_fruits = fruits.copy()\n",
    "new_fruits"
   ],
   "id": "174344ee46be63e1",
   "outputs": [
    {
     "data": {
      "text/plain": [
       "{'apple', 'banana', 'cherry'}"
      ]
     },
     "execution_count": 15,
     "metadata": {},
     "output_type": "execute_result"
    }
   ],
   "execution_count": 15
  },
  {
   "metadata": {},
   "cell_type": "markdown",
   "source": "### 4. Defining Sets",
   "id": "3bfd45b995cd8ca0"
  },
  {
   "metadata": {},
   "cell_type": "markdown",
   "source": "<p>A set is an unordered collection of unique elements. Sets are enclosed in curly braces <code>{}</code>. They are useful for storing distinct values and performing set operations.</p>",
   "id": "cde428fb98151420"
  },
  {
   "metadata": {
    "ExecuteTime": {
     "end_time": "2025-05-28T11:58:01.640472Z",
     "start_time": "2025-05-28T11:58:01.636803Z"
    }
   },
   "cell_type": "code",
   "source": [
    "empty_set = set()   # The only way to creating an empty set effectively\n",
    "fruits = {\"apple\", \"banana\", \"cherry\", \"orange\"}    # Or you can initial it when defining a set"
   ],
   "id": "701e71e7533f5073",
   "outputs": [],
   "execution_count": 16
  },
  {
   "metadata": {},
   "cell_type": "markdown",
   "source": "### 5. discard()",
   "id": "91938961f1b77ab"
  },
  {
   "metadata": {},
   "cell_type": "markdown",
   "source": "<p>Use the <code>discard()</code> method to remove a specific element from the set. Ignores if the element is not found.</p>",
   "id": "5dae42d3bf951f35"
  },
  {
   "metadata": {},
   "cell_type": "markdown",
   "source": [
    "**Syntax**:\n",
    "\n",
    "```Python\n",
    "set_name.discard(element)\n",
    "```"
   ],
   "id": "86fa7f44c7ea0780"
  },
  {
   "metadata": {
    "ExecuteTime": {
     "end_time": "2025-05-28T11:58:01.773436Z",
     "start_time": "2025-05-28T11:58:01.767923Z"
    }
   },
   "cell_type": "code",
   "source": [
    "fruits.discard(\"apple\")\n",
    "fruits"
   ],
   "id": "5a67287148237394",
   "outputs": [
    {
     "data": {
      "text/plain": [
       "{'banana', 'cherry', 'orange'}"
      ]
     },
     "execution_count": 17,
     "metadata": {},
     "output_type": "execute_result"
    }
   ],
   "execution_count": 17
  },
  {
   "metadata": {},
   "cell_type": "markdown",
   "source": "### 6. issubset()",
   "id": "78f1902fb521b30a"
  },
  {
   "metadata": {},
   "cell_type": "markdown",
   "source": "<p>The <code>issubset()</code> method checks if the current set is a subset of another set. It returns True if all elements of the current set are present in the other set, otherwise False.</p>",
   "id": "a144d056235b019e"
  },
  {
   "metadata": {},
   "cell_type": "markdown",
   "source": [
    "**Syntax**:\n",
    "\n",
    "```Python\n",
    "is_subset = set1.issubset(set2)\n",
    "```"
   ],
   "id": "d654f1fe13b02f64"
  },
  {
   "metadata": {
    "ExecuteTime": {
     "end_time": "2025-05-28T11:58:01.863029Z",
     "start_time": "2025-05-28T11:58:01.853890Z"
    }
   },
   "cell_type": "code",
   "source": [
    "colors = {\"red\", \"green\", \"blue\"}\n",
    "fruits.issubset(colors)"
   ],
   "id": "ac5d84f99de5232a",
   "outputs": [
    {
     "data": {
      "text/plain": [
       "False"
      ]
     },
     "execution_count": 18,
     "metadata": {},
     "output_type": "execute_result"
    }
   ],
   "execution_count": 18
  },
  {
   "metadata": {},
   "cell_type": "markdown",
   "source": "### 7. issuperset()",
   "id": "16dbdaa64801ee0c"
  },
  {
   "metadata": {},
   "cell_type": "markdown",
   "source": "<p>The <code>issuperset()</code> method checks if the current set is a superset of another set. It returns True if all elements of the other set are present in the current set, otherwise False.</p>",
   "id": "fc71bdf20f30a119"
  },
  {
   "metadata": {},
   "cell_type": "markdown",
   "source": [
    "**Syntax**:\n",
    "\n",
    "```Python\n",
    "is_superset = set1.issuperset(set2)\n",
    "```"
   ],
   "id": "13f87c399ab94e5"
  },
  {
   "metadata": {
    "ExecuteTime": {
     "end_time": "2025-05-28T11:58:01.986961Z",
     "start_time": "2025-05-28T11:58:01.976797Z"
    }
   },
   "cell_type": "code",
   "source": "colors.issuperset(fruits)",
   "id": "b8cb87c6618fa89c",
   "outputs": [
    {
     "data": {
      "text/plain": [
       "False"
      ]
     },
     "execution_count": 19,
     "metadata": {},
     "output_type": "execute_result"
    }
   ],
   "execution_count": 19
  },
  {
   "metadata": {},
   "cell_type": "markdown",
   "source": "### 8. pop()",
   "id": "85420de8a53c9251"
  },
  {
   "metadata": {},
   "cell_type": "markdown",
   "source": "<p>The <code>pop()</code> method removes and returns an arbitrary element from the set. It raises a `KeyError` if the set is empty. Use this method to remove elements when the order doesn't matter.</p>",
   "id": "292fa259bbaec53d"
  },
  {
   "metadata": {},
   "cell_type": "markdown",
   "source": [
    "**Syntax**:\n",
    "\n",
    "```Python\n",
    "removed_element = set_name.pop()\n",
    "```"
   ],
   "id": "abc85b5f9f2a314"
  },
  {
   "metadata": {
    "ExecuteTime": {
     "end_time": "2025-05-28T11:58:02.085252Z",
     "start_time": "2025-05-28T11:58:02.078847Z"
    }
   },
   "cell_type": "code",
   "source": [
    "removed_fruit = fruits.pop()\n",
    "removed_fruit"
   ],
   "id": "5ea8d644be4609bd",
   "outputs": [
    {
     "data": {
      "text/plain": [
       "'banana'"
      ]
     },
     "execution_count": 20,
     "metadata": {},
     "output_type": "execute_result"
    }
   ],
   "execution_count": 20
  },
  {
   "metadata": {},
   "cell_type": "markdown",
   "source": "### 9. remove()",
   "id": "7927c441bf4079e"
  },
  {
   "metadata": {},
   "cell_type": "markdown",
   "source": "<p>Use the <code>remove()</code> method to remove a specific element from the set. Raises a <code>KeyError</code> if the element is not found.</p>",
   "id": "194d90c08f98963c"
  },
  {
   "metadata": {},
   "cell_type": "markdown",
   "source": [
    "**Syntax**:\n",
    "\n",
    "```Python\n",
    "set_name.remove(element)\n",
    "```"
   ],
   "id": "ba656e1cf8b42e20"
  },
  {
   "metadata": {
    "ExecuteTime": {
     "end_time": "2025-05-28T11:58:02.155049Z",
     "start_time": "2025-05-28T11:58:02.147630Z"
    }
   },
   "cell_type": "code",
   "source": [
    "fruits = {\"apple\", \"banana\", \"cherry\"}\n",
    "fruits.remove(\"banana\")\n",
    "fruits"
   ],
   "id": "84f04045b3a01e7f",
   "outputs": [
    {
     "data": {
      "text/plain": [
       "{'apple', 'cherry'}"
      ]
     },
     "execution_count": 21,
     "metadata": {},
     "output_type": "execute_result"
    }
   ],
   "execution_count": 21
  },
  {
   "metadata": {},
   "cell_type": "markdown",
   "source": "### 10. Set Operations",
   "id": "1fab4d926579edac"
  },
  {
   "metadata": {},
   "cell_type": "markdown",
   "source": "<p>Perform various operations on sets: <code>union</code>, <code>intersection</code>, <code>difference</code>, <code>symmetric difference</code>.</p>",
   "id": "828d5b82a887ff3f"
  },
  {
   "metadata": {},
   "cell_type": "markdown",
   "source": [
    "**Syntax**:\n",
    "\n",
    "```Python\n",
    "union_set = set1.union(set2)\n",
    "intersection_set = set1.intersection(set2)\n",
    "difference_set = set1.difference(set2)\n",
    "sys_difference_set = set1.symmetric_difference(set2)\n",
    "```"
   ],
   "id": "21b4511b93681742"
  },
  {
   "metadata": {
    "ExecuteTime": {
     "end_time": "2025-05-28T11:58:02.221468Z",
     "start_time": "2025-05-28T11:58:02.214530Z"
    }
   },
   "cell_type": "code",
   "source": [
    "combined = fruits.union(colors)\n",
    "print(combined)\n",
    "\n",
    "common = fruits.intersection(colors)\n",
    "print(common)\n",
    "\n",
    "unique_to_fruits = fruits.difference(colors)\n",
    "print(unique_to_fruits)\n",
    "\n",
    "sys_diff = fruits.symmetric_difference(colors)\n",
    "print(sys_diff)"
   ],
   "id": "dc24730f32e6eab",
   "outputs": [
    {
     "name": "stdout",
     "output_type": "stream",
     "text": [
      "{'apple', 'green', 'blue', 'cherry', 'red'}\n",
      "set()\n",
      "{'apple', 'cherry'}\n",
      "{'green', 'red', 'apple', 'blue', 'cherry'}\n"
     ]
    }
   ],
   "execution_count": 22
  },
  {
   "metadata": {},
   "cell_type": "markdown",
   "source": "### 11. update()",
   "id": "9957a2010343b94f"
  },
  {
   "metadata": {},
   "cell_type": "markdown",
   "source": "<p>The <code>update()</code> method adds elements from another iterable into the set. It maintains the uniqueness of elements.</p>",
   "id": "6bac51597ead4ea3"
  },
  {
   "metadata": {},
   "cell_type": "markdown",
   "source": [
    "**Syntax**:\n",
    "\n",
    "```Python\n",
    "set_name.update(iterable)\n",
    "```"
   ],
   "id": "850ba5d33dd12748"
  },
  {
   "metadata": {
    "ExecuteTime": {
     "end_time": "2025-05-28T11:58:02.304820Z",
     "start_time": "2025-05-28T11:58:02.294391Z"
    }
   },
   "cell_type": "code",
   "source": [
    "fruits.update([\"kiwi\", \"grape\"])\n",
    "fruits"
   ],
   "id": "129e4a1b9b7adc56",
   "outputs": [
    {
     "data": {
      "text/plain": [
       "{'apple', 'cherry', 'grape', 'kiwi'}"
      ]
     },
     "execution_count": 23,
     "metadata": {},
     "output_type": "execute_result"
    }
   ],
   "execution_count": 23
  },
  {
   "metadata": {},
   "cell_type": "markdown",
   "source": [
    "****\n",
    "This is the end of the file.\n",
    "****"
   ],
   "id": "e5c8bc12e434bc20"
  }
 ],
 "metadata": {
  "kernelspec": {
   "display_name": "Python 3",
   "language": "python",
   "name": "python3"
  },
  "language_info": {
   "codemirror_mode": {
    "name": "ipython",
    "version": 2
   },
   "file_extension": ".py",
   "mimetype": "text/x-python",
   "name": "python",
   "nbconvert_exporter": "python",
   "pygments_lexer": "ipython2",
   "version": "2.7.6"
  }
 },
 "nbformat": 4,
 "nbformat_minor": 5
}
