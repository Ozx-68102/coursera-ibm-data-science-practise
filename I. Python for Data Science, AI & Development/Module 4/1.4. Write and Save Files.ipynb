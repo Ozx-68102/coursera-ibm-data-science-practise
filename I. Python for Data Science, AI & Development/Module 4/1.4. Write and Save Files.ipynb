{
 "cells": [
  {
   "metadata": {},
   "cell_type": "markdown",
   "source": "### Writing Files",
   "id": "e2278c0d796f6c22"
  },
  {
   "metadata": {},
   "cell_type": "markdown",
   "source": "<p>We can open a file object using the method <code>write()</code> to save the text file to a list. To write to a file, the mode argument must be set to <b>w</b>. Let’s write a file <b>Example2.txt</b> with the line: <b>\"This is line A\"</b></p>",
   "id": "5be365f7dea9615d"
  },
  {
   "metadata": {
    "ExecuteTime": {
     "end_time": "2025-06-10T08:23:51.855633Z",
     "start_time": "2025-06-10T08:23:51.833901Z"
    }
   },
   "cell_type": "code",
   "source": [
    "import os\n",
    "\n",
    "dir_name = os.path.join(\".\", \"data\")\n",
    "os.makedirs(dir_name, exist_ok=True)"
   ],
   "id": "2572ef3be7efa2e5",
   "outputs": [],
   "execution_count": 1
  },
  {
   "metadata": {
    "ExecuteTime": {
     "end_time": "2025-06-10T08:23:52.090089Z",
     "start_time": "2025-06-10T08:23:52.082096Z"
    }
   },
   "cell_type": "code",
   "source": [
    "example = os.path.join(dir_name, \"example2.txt\")\n",
    "with open(example, \"w\") as file:\n",
    "    file.write(\"This is line A.\")"
   ],
   "id": "67887f8071b116fa",
   "outputs": [],
   "execution_count": 2
  },
  {
   "metadata": {},
   "cell_type": "markdown",
   "source": "<p>We can read the file to see if it worked:</p>",
   "id": "49811c54bb2bf46f"
  },
  {
   "metadata": {
    "ExecuteTime": {
     "end_time": "2025-06-10T08:23:52.176940Z",
     "start_time": "2025-06-10T08:23:52.171871Z"
    }
   },
   "cell_type": "code",
   "source": [
    "with open(example, \"r\") as file:\n",
    "    print(file.read())"
   ],
   "id": "445ba076bed3dc00",
   "outputs": [
    {
     "name": "stdout",
     "output_type": "stream",
     "text": [
      "This is line A.\n"
     ]
    }
   ],
   "execution_count": 3
  },
  {
   "metadata": {},
   "cell_type": "markdown",
   "source": "<p>We can write multiple lines:</p>",
   "id": "261205960ea3fe65"
  },
  {
   "metadata": {
    "ExecuteTime": {
     "end_time": "2025-06-10T08:23:52.330447Z",
     "start_time": "2025-06-10T08:23:52.321842Z"
    }
   },
   "cell_type": "code",
   "source": [
    "with open(example, \"w\") as file:\n",
    "    file.write(\"This is line A. \\n\")\n",
    "    file.write(\"This is line B. \\n\")"
   ],
   "id": "6b108d36fefff61b",
   "outputs": [],
   "execution_count": 4
  },
  {
   "metadata": {},
   "cell_type": "markdown",
   "source": "<p>The method <code>write()</code> works similarly to the method <code>readline()</code>, except instead of reading a new line it writes a new line. You can check the file to see if your results are correct.</p>",
   "id": "6ebf25b0fe415492"
  },
  {
   "metadata": {
    "ExecuteTime": {
     "end_time": "2025-06-10T08:23:52.476945Z",
     "start_time": "2025-06-10T08:23:52.468717Z"
    }
   },
   "cell_type": "code",
   "source": [
    "with open(example, \"r\") as file:\n",
    "    print(file.read())"
   ],
   "id": "85287a611ded2b4a",
   "outputs": [
    {
     "name": "stdout",
     "output_type": "stream",
     "text": [
      "This is line A. \n",
      "This is line B. \n",
      "\n"
     ]
    }
   ],
   "execution_count": 5
  },
  {
   "metadata": {},
   "cell_type": "markdown",
   "source": "<p>We write a list to a <b>txt</b> file as follows:</p>",
   "id": "70c63271bea292a6"
  },
  {
   "metadata": {
    "ExecuteTime": {
     "end_time": "2025-06-10T08:23:52.623204Z",
     "start_time": "2025-06-10T08:23:52.611176Z"
    }
   },
   "cell_type": "code",
   "source": [
    "lines = [\"This is line 1. \\n\", \"This is line 2. \\n\", \"This is line 3. \\n\"]\n",
    "lines"
   ],
   "id": "b450ef1c37fd0fb6",
   "outputs": [
    {
     "data": {
      "text/plain": [
       "['This is line 1. \\n', 'This is line 2. \\n', 'This is line 3. \\n']"
      ]
     },
     "execution_count": 6,
     "metadata": {},
     "output_type": "execute_result"
    }
   ],
   "execution_count": 6
  },
  {
   "metadata": {
    "ExecuteTime": {
     "end_time": "2025-06-10T08:23:52.744321Z",
     "start_time": "2025-06-10T08:23:52.736880Z"
    }
   },
   "cell_type": "code",
   "source": [
    "with open(example, \"w\") as file:\n",
    "    for line in lines:\n",
    "        print(line)\n",
    "        file.write(line)"
   ],
   "id": "dedb0dc5130a6def",
   "outputs": [
    {
     "name": "stdout",
     "output_type": "stream",
     "text": [
      "This is line 1. \n",
      "\n",
      "This is line 2. \n",
      "\n",
      "This is line 3. \n",
      "\n"
     ]
    }
   ],
   "execution_count": 7
  },
  {
   "metadata": {},
   "cell_type": "markdown",
   "source": "<p>We can verify the file is written by reading it and printing out the values:</p>",
   "id": "bab6d80eea87088d"
  },
  {
   "metadata": {
    "ExecuteTime": {
     "end_time": "2025-06-10T08:23:52.794505Z",
     "start_time": "2025-06-10T08:23:52.789394Z"
    }
   },
   "cell_type": "code",
   "source": [
    "with open(example, \"r\") as file:\n",
    "    print(file.read())"
   ],
   "id": "9425cb2a32d8ab6b",
   "outputs": [
    {
     "name": "stdout",
     "output_type": "stream",
     "text": [
      "This is line 1. \n",
      "This is line 2. \n",
      "This is line 3. \n",
      "\n"
     ]
    }
   ],
   "execution_count": 8
  },
  {
   "metadata": {},
   "cell_type": "markdown",
   "source": "<p>However, note that setting the mode to <b>w</b> overwrites all the existing data in the file.</p>",
   "id": "8b4598286e0c6c69"
  },
  {
   "metadata": {
    "ExecuteTime": {
     "end_time": "2025-06-10T08:23:52.988865Z",
     "start_time": "2025-06-10T08:23:52.980260Z"
    }
   },
   "cell_type": "code",
   "source": [
    "with open(example, \"w\") as file:\n",
    "    file.write(\"The contents are overwritten.\")\n",
    "\n",
    "with open(example, \"r\") as file:\n",
    "    print(file.read())"
   ],
   "id": "57c39987345154bd",
   "outputs": [
    {
     "name": "stdout",
     "output_type": "stream",
     "text": [
      "The contents are overwritten.\n"
     ]
    }
   ],
   "execution_count": 9
  },
  {
   "metadata": {},
   "cell_type": "markdown",
   "source": "### Appending Files",
   "id": "cd6c396f92387515"
  },
  {
   "metadata": {},
   "cell_type": "markdown",
   "source": "<p>We can write to files without losing any of the existing data as follows by setting the mode argument to append: <b>a</b>. You can append a new line as follows:</p>",
   "id": "23b513dbd046b655"
  },
  {
   "metadata": {
    "ExecuteTime": {
     "end_time": "2025-06-10T08:23:53.208861Z",
     "start_time": "2025-06-10T08:23:53.201789Z"
    }
   },
   "cell_type": "code",
   "source": [
    "with open(example, \"w\") as file:\n",
    "    file.write(\"This is line A. \\n\")\n",
    "    file.write(\"This is line B. \\n\")\n",
    "    file.write(\"This is line C. \\n\")"
   ],
   "id": "613440c6ecb1be03",
   "outputs": [],
   "execution_count": 10
  },
  {
   "metadata": {
    "ExecuteTime": {
     "end_time": "2025-06-10T08:23:53.296209Z",
     "start_time": "2025-06-10T08:23:53.290747Z"
    }
   },
   "cell_type": "code",
   "source": [
    "with open(example, \"a\") as file:\n",
    "    file.write(\"This is line D. \\n\")\n",
    "    file.write(\"This is line E. \\n\")\n",
    "    file.write(\"This is line F. \\n\")"
   ],
   "id": "99949ca04f035419",
   "outputs": [],
   "execution_count": 11
  },
  {
   "metadata": {},
   "cell_type": "markdown",
   "source": "<p>You can verify the file has changed by running the following cell:</p>",
   "id": "6962031c9864d2fc"
  },
  {
   "metadata": {
    "ExecuteTime": {
     "end_time": "2025-06-10T08:23:53.395852Z",
     "start_time": "2025-06-10T08:23:53.391002Z"
    }
   },
   "cell_type": "code",
   "source": [
    "with open(example, \"r\") as file:\n",
    "    print(file.read())"
   ],
   "id": "f7eafb541d82760f",
   "outputs": [
    {
     "name": "stdout",
     "output_type": "stream",
     "text": [
      "This is line A. \n",
      "This is line B. \n",
      "This is line C. \n",
      "This is line D. \n",
      "This is line E. \n",
      "This is line F. \n",
      "\n"
     ]
    }
   ],
   "execution_count": 12
  },
  {
   "metadata": {},
   "cell_type": "markdown",
   "source": "### Additional modes",
   "id": "4c9c9d7bc3457f2a"
  },
  {
   "metadata": {},
   "cell_type": "markdown",
   "source": [
    "<p>It's fairly inefficient to open the file in <b>a</b> or <b>w</b> and then reopen it in <b>r</b> to read any lines. Luckily we can access the file in the following modes:</p>\n",
    "\n",
    "<ul>\n",
    "    <li><b>r+</b>: Reading and writing. Cannot truncate the file.</li>\n",
    "    <li><b>w+</b>: Writing and reading. Truncates the file.</li>\n",
    "    <li><b>a+</b>: Appending and Reading. Creates a new file, if none exists.</li>\n",
    "</ul>\n",
    "\n",
    "<p>You don't have to dwell on the specifics of each mode for this lab.</p>"
   ],
   "id": "c335d7d19ac05b59"
  },
  {
   "metadata": {},
   "cell_type": "markdown",
   "source": "<p>Let's try out the <b>a+</b> mode:</p>",
   "id": "f565a22d3986ddc2"
  },
  {
   "metadata": {
    "ExecuteTime": {
     "end_time": "2025-06-10T08:23:53.500093Z",
     "start_time": "2025-06-10T08:23:53.494407Z"
    }
   },
   "cell_type": "code",
   "source": [
    "with open(example, \"a+\") as file:\n",
    "    file.write(\"This is line G. \\n\")\n",
    "    print(file.read())"
   ],
   "id": "f1fbe572ac7cd1f2",
   "outputs": [
    {
     "name": "stdout",
     "output_type": "stream",
     "text": [
      "\n"
     ]
    }
   ],
   "execution_count": 13
  },
  {
   "metadata": {},
   "cell_type": "markdown",
   "source": "<p>There were no errors but <code>read()</code> also did not output anything. This is because of our location in the file.</p>",
   "id": "929134fba33aa0fa"
  },
  {
   "metadata": {},
   "cell_type": "markdown",
   "source": "<p>Most of the file methods we've looked at work in a certain location in the file. <code>write()</code> writes at a certain location in the file. <code>read()</code> reads at a certain location in the file and so on. You can think of this as moving your pointer around in the notepad to make changes at a specific location.</p>",
   "id": "192f1369798f0a10"
  },
  {
   "metadata": {},
   "cell_type": "markdown",
   "source": [
    "<p>Opening the file in <b>w</b> is akin to opening the txt file, moving your cursor to the beginning of the text file, writing new text and deleting everything that follows.</p>\n",
    "\n",
    "<p>Whereas opening the file in <b>a</b> is similar to opening the txt file, moving your cursor to the very end and then adding the new pieces of text.</p>"
   ],
   "id": "75c32ae2944a4c43"
  },
  {
   "metadata": {},
   "cell_type": "markdown",
   "source": [
    "<p>It is often very useful to know where the \"cursor\" is in a file and be able to control it. The following methods allow us to do precisely this.</p>\n",
    "\n",
    "<ul>\n",
    "    <li><code>tell()</code> returns the current position in bytes.</li>\n",
    "    <li><code>seek(offset, from)</code> changes the position by \"offset\" bytes with respect to \"from\". <b>from</b> can take the value of 0, 1, 2 corresponding to the beginning, relative to current position and end.</li>\n",
    "</ul>"
   ],
   "id": "1e95287276b238de"
  },
  {
   "metadata": {},
   "cell_type": "markdown",
   "source": "<p>Now let's revisit <b>a+</b>:</p>",
   "id": "ea564864b6017cd2"
  },
  {
   "metadata": {
    "ExecuteTime": {
     "end_time": "2025-06-10T08:23:53.604444Z",
     "start_time": "2025-06-10T08:23:53.598223Z"
    }
   },
   "cell_type": "code",
   "source": [
    "with open(example, \"a+\") as file:\n",
    "    print(f\"Initial location is {file.tell()}.\")\n",
    "\n",
    "    data = file.read()\n",
    "    if not data:\n",
    "        print(\"Read nothing.\")\n",
    "    else:\n",
    "        print(data)\n",
    "\n",
    "    print(f\"Location after reading is {file.tell()}.\")\n",
    "\n",
    "    file.seek(0, 0) # move 0 bytes from beginning.\n",
    "\n",
    "    print(f\"New location is {file.tell()}.\")\n",
    "    data = file.read()\n",
    "    if not data:\n",
    "        print(\"Read nothing.\")\n",
    "    else:\n",
    "        print(data)\n",
    "\n",
    "    print(f\"Location after reading is {file.tell()}.\")"
   ],
   "id": "1d39681ce2401488",
   "outputs": [
    {
     "name": "stdout",
     "output_type": "stream",
     "text": [
      "Initial location is 126.\n",
      "Read nothing.\n",
      "Location after reading is 126.\n",
      "New location is 0.\n",
      "This is line A. \n",
      "This is line B. \n",
      "This is line C. \n",
      "This is line D. \n",
      "This is line E. \n",
      "This is line F. \n",
      "This is line G. \n",
      "\n",
      "Location after reading is 126.\n"
     ]
    }
   ],
   "execution_count": 14
  },
  {
   "metadata": {},
   "cell_type": "markdown",
   "source": "<p>Finally, a note on the difference between <b>w+</b> and <b>r+</b>. Both of these modes allow access to read and write methods. However, opening a file in <b>w+</b> overwrites it and deletes all pre-existing data.</p>",
   "id": "b8f36baa5b383590"
  },
  {
   "metadata": {
    "ExecuteTime": {
     "end_time": "2025-06-10T08:23:53.775100Z",
     "start_time": "2025-06-10T08:23:53.765946Z"
    }
   },
   "cell_type": "code",
   "source": [
    "with open(example, \"r+\") as file:\n",
    "    file.seek(0, 0)\n",
    "    file.write(\"Line 1. \\n\")\n",
    "    file.write(\"Line 2. \\n\")\n",
    "    file.write(\"Line 3. \\n\")\n",
    "    file.write(\"Finished.\\n\")\n",
    "\n",
    "    file.seek(0, 0)\n",
    "    print(file.read())"
   ],
   "id": "4fe3faa370355974",
   "outputs": [
    {
     "name": "stdout",
     "output_type": "stream",
     "text": [
      "Line 1. \n",
      "Line 2. \n",
      "Line 3. \n",
      "Finished.\n",
      "is line C. \n",
      "This is line D. \n",
      "This is line E. \n",
      "This is line F. \n",
      "This is line G. \n",
      "\n"
     ]
    }
   ],
   "execution_count": 15
  },
  {
   "metadata": {},
   "cell_type": "markdown",
   "source": "<p>To work with a file on existing data, use <b>r+</b> and <b>a+</b>. While using <b>r+</b>, it can be useful to add a <code>truncate()</code> method at the end of your data. This will reduce the file to your data and delete everything that follows.</p>",
   "id": "73ec81d4971efa33"
  },
  {
   "metadata": {
    "ExecuteTime": {
     "end_time": "2025-06-10T08:23:54.014687Z",
     "start_time": "2025-06-10T08:23:54.008462Z"
    }
   },
   "cell_type": "code",
   "source": [
    "with open(example, \"r+\") as file:\n",
    "    file.seek(0, 0)\n",
    "    file.write(\"Line 1. \\n\")\n",
    "    file.write(\"Line 2. \\n\")\n",
    "    file.write(\"Line 3. \\n\")\n",
    "    file.write(\"Finished. \\n\")\n",
    "\n",
    "    file.truncate()\n",
    "    file.seek(0, 0)\n",
    "    print(file.read())"
   ],
   "id": "4811b4c9e14089e1",
   "outputs": [
    {
     "name": "stdout",
     "output_type": "stream",
     "text": [
      "Line 1. \n",
      "Line 2. \n",
      "Line 3. \n",
      "Finished. \n",
      "\n"
     ]
    }
   ],
   "execution_count": 16
  },
  {
   "metadata": {},
   "cell_type": "markdown",
   "source": "### Copy a file",
   "id": "567bdd4d6de2ad"
  },
  {
   "metadata": {},
   "cell_type": "markdown",
   "source": "<p>Let's copy the file <b>example2.txt</b> to the file <b>example3.txt</b>:</p>",
   "id": "a0d394af6fc770e4"
  },
  {
   "metadata": {
    "ExecuteTime": {
     "end_time": "2025-06-10T08:23:54.131297Z",
     "start_time": "2025-06-10T08:23:54.124800Z"
    }
   },
   "cell_type": "code",
   "source": [
    "example2 = example\n",
    "example3 = os.path.join(dir_name, \"example3.txt\")\n",
    "with open(example2, \"r\") as file1:\n",
    "    with open(example3, \"w\") as file2:\n",
    "        for line in file1:\n",
    "            file2.write(line)"
   ],
   "id": "595dde6458f68797",
   "outputs": [],
   "execution_count": 17
  },
  {
   "metadata": {},
   "cell_type": "markdown",
   "source": "<p>We can read the file to see if everything works:</p>",
   "id": "aa4d8cb39e574ef0"
  },
  {
   "metadata": {
    "ExecuteTime": {
     "end_time": "2025-06-10T08:23:54.213948Z",
     "start_time": "2025-06-10T08:23:54.207381Z"
    }
   },
   "cell_type": "code",
   "source": [
    "with open(example3, \"r\") as file:\n",
    "    print(file.read())"
   ],
   "id": "598b2531a59d6aa1",
   "outputs": [
    {
     "name": "stdout",
     "output_type": "stream",
     "text": [
      "Line 1. \n",
      "Line 2. \n",
      "Line 3. \n",
      "Finished. \n",
      "\n"
     ]
    }
   ],
   "execution_count": 18
  },
  {
   "metadata": {},
   "cell_type": "markdown",
   "source": "<p>After reading files, we can also write data into files and save them in different file formats like <code>txt</code>, <code>csv</code>, <code>xls</code>(for <code>excel</code> files), etc. You will come across these in further examples.</p>",
   "id": "bc7b445445732fa5"
  },
  {
   "metadata": {},
   "cell_type": "markdown",
   "source": "### Exercise",
   "id": "3739b5134ef7a574"
  },
  {
   "metadata": {},
   "cell_type": "markdown",
   "source": "<p>Your local university's Raptors fan club maintains a register of its active members on a txt document. Every month they update the file by removing the members who are not active. You have been tasked with automating this with your Python skills.</p>",
   "id": "11afd4ff3d890f11"
  },
  {
   "metadata": {},
   "cell_type": "markdown",
   "source": "<p>Given the file <code>current_mem</code>, Remove each member with a \"no\" in their Active column. Keep track of each of the removed members and append them to the <code>ex_mem</code> file. Make sure that the format of the original files in preserved. <i>Hint: Do this by reading/writing whole lines and ensuring the header remains.</i></p>",
   "id": "58b8dc669c7f039b"
  },
  {
   "metadata": {},
   "cell_type": "markdown",
   "source": "<p>Run the code block below prior to starting the exercise. The skeleton code has been provided for you. Edit only the <code>clean_files</code> function.</p>",
   "id": "10c3151685108d66"
  },
  {
   "metadata": {
    "ExecuteTime": {
     "end_time": "2025-06-10T08:23:54.375786Z",
     "start_time": "2025-06-10T08:23:54.361383Z"
    }
   },
   "cell_type": "code",
   "source": [
    "from random import randint as rnd\n",
    "\n",
    "mem_reg = os.path.join(dir_name, \"members.txt\")\n",
    "ex_reg = os.path.join(dir_name, \"inactive.txt\")\n",
    "fee = (\"yes\", \"no\")\n",
    "\n",
    "def gen_files(current: str, old: str) -> None:\n",
    "    with open(current, \"w+\") as written_file:\n",
    "        written_file.write(\"Membership No  Date Joined  Active  \\n\")\n",
    "        written_data = \"{:^13}  {:<11}  {:<6} \\n\"\n",
    "\n",
    "        for row_no in range(20):\n",
    "            date = f\"{rnd(2015, 2020)}-{rnd(1, 12)}-{rnd(1, 25)}\"\n",
    "            written_file.write(written_data.format(rnd(10000, 99999), date, fee[rnd(0, 1)]))\n",
    "\n",
    "    with open(old, \"w+\") as written_file:\n",
    "        written_file.write(\"Membership No  Date Joined  Active  \\n\")\n",
    "        written_data = \"{:^13}  {:<11}  {:<6} \\n\"\n",
    "        for row_no in range(3):\n",
    "            date = str(rnd(2015, 2020)) + \"-\" + str(rnd(1, 12)) + \"-\" + str(rnd(1, 25))\n",
    "            written_file.write(written_data.format(rnd(10000, 99999), date, fee[1]))\n",
    "            \n",
    "\n",
    "gen_files(mem_reg, ex_reg)"
   ],
   "id": "7648c91f6d32f939",
   "outputs": [],
   "execution_count": 19
  },
  {
   "metadata": {},
   "cell_type": "markdown",
   "source": "<p>Now that you've run the prerequisite code cell above, which prepared the files for this exercise, you are ready to move on to the implementation.</p>",
   "id": "57e6a21bca90704f"
  },
  {
   "metadata": {},
   "cell_type": "markdown",
   "source": "#### Exercise: Implement the clean_files function in the code cell below",
   "id": "2533d3ab0e9f4134"
  },
  {
   "metadata": {
    "ExecuteTime": {
     "end_time": "2025-06-10T08:23:54.497360Z",
     "start_time": "2025-06-10T08:23:54.489895Z"
    }
   },
   "cell_type": "code",
   "source": [
    "def clean_files(current: str, ex: str) -> None:\n",
    "    with open(current, \"r+\") as cur_file:\n",
    "        cur_file.seek(0, 0)\n",
    "        header = cur_file.readline() # skip reading header\n",
    "        members_data = cur_file.read().splitlines(keepends=True)\n",
    "\n",
    "        inactive_data = [member for member in members_data if \"no\" in member]\n",
    "\n",
    "        cur_file.seek(0, 0)\n",
    "        cur_file.truncate()\n",
    "        cur_file.write(header)\n",
    "\n",
    "        with open(ex, \"a+\") as ex_file:\n",
    "            for member in members_data:\n",
    "                if member in inactive_data:\n",
    "                    ex_file.write(member)\n",
    "                else:\n",
    "                    cur_file.write(member)"
   ],
   "id": "1253ad806562410d",
   "outputs": [],
   "execution_count": 20
  },
  {
   "metadata": {
    "ExecuteTime": {
     "end_time": "2025-06-10T08:23:54.572263Z",
     "start_time": "2025-06-10T08:23:54.564817Z"
    }
   },
   "cell_type": "code",
   "source": [
    "# The 3 code cells below is to test the code whether is correct\n",
    "clean_files(mem_reg, ex_reg)"
   ],
   "id": "8eb798f73bff090c",
   "outputs": [],
   "execution_count": 21
  },
  {
   "metadata": {
    "ExecuteTime": {
     "end_time": "2025-06-10T08:23:54.789650Z",
     "start_time": "2025-06-10T08:23:54.783558Z"
    }
   },
   "cell_type": "code",
   "source": [
    "print(\"Active Members:\")\n",
    "with open(mem_reg, \"r\") as file:\n",
    "    print(file.read())"
   ],
   "id": "b580fd6ee0ddbc7f",
   "outputs": [
    {
     "name": "stdout",
     "output_type": "stream",
     "text": [
      "Active Members:\n",
      "Membership No  Date Joined  Active  \n",
      "    78829      2015-5-14    yes    \n",
      "    65848      2015-11-24   yes    \n",
      "    45327      2016-5-5     yes    \n",
      "    83040      2020-11-19   yes    \n",
      "    55406      2016-8-21    yes    \n",
      "    18274      2020-8-18    yes    \n",
      "    25600      2019-7-12    yes    \n",
      "    25513      2020-12-19   yes    \n",
      "    96235      2019-3-24    yes    \n",
      "    98097      2016-8-11    yes    \n",
      "\n"
     ]
    }
   ],
   "execution_count": 22
  },
  {
   "metadata": {
    "ExecuteTime": {
     "end_time": "2025-06-10T08:23:54.953748Z",
     "start_time": "2025-06-10T08:23:54.947539Z"
    }
   },
   "cell_type": "code",
   "source": [
    "print(\"Inactive Members:\")\n",
    "with open(ex_reg, \"r\") as file:\n",
    "    print(file.read())"
   ],
   "id": "650a338108851681",
   "outputs": [
    {
     "name": "stdout",
     "output_type": "stream",
     "text": [
      "Inactive Members:\n",
      "Membership No  Date Joined  Active  \n",
      "    62961      2016-3-20    no     \n",
      "    79549      2015-11-23   no     \n",
      "    11621      2015-2-9     no     \n",
      "    47204      2020-1-13    no     \n",
      "    16179      2018-10-1    no     \n",
      "    60454      2016-8-10    no     \n",
      "    83765      2020-10-20   no     \n",
      "    79654      2016-8-16    no     \n",
      "    70623      2020-3-14    no     \n",
      "    20316      2015-7-10    no     \n",
      "    49004      2020-1-3     no     \n",
      "    58432      2018-8-5     no     \n",
      "    58413      2015-1-16    no     \n",
      "\n"
     ]
    }
   ],
   "execution_count": 23
  },
  {
   "metadata": {},
   "cell_type": "markdown",
   "source": "<p>The code cell below is to verify your solution. Please do not modify the code and run it to test your implementation of <code>clean_files</code>.</p>",
   "id": "f2641291f9529542"
  },
  {
   "metadata": {
    "ExecuteTime": {
     "end_time": "2025-06-10T08:23:55.075494Z",
     "start_time": "2025-06-10T08:23:55.061022Z"
    }
   },
   "cell_type": "code",
   "source": [
    "def test(status: bool) -> str:\n",
    "    return \"Test Passed\" if status else \"Test Failed\"\n",
    "\n",
    "test_write = \"test_write.txt\"\n",
    "test_append = \"test_append.txt\"\n",
    "passed = True\n",
    "\n",
    "gen_files(test_write, test_append)\n",
    "\n",
    "with open(test_write, \"r\") as file:\n",
    "    og_write = file.readlines() # original write\n",
    "\n",
    "with open(test_append, \"r\") as file:\n",
    "    og_append = file.readlines() # original append\n",
    "\n",
    "try:\n",
    "    clean_files(test_write, test_append)\n",
    "except Exception as e:\n",
    "    print(f\"Error: {e}\")\n",
    "    exit(1)\n",
    "\n",
    "with open(test_write, \"r\") as file:\n",
    "    clean_write = file.readlines()\n",
    "\n",
    "with open(test_append, \"r\") as file:\n",
    "    clean_append = file.readlines()\n",
    "\n",
    "og_len = len(og_write) + len(og_append)\n",
    "clean_len = len(clean_write) + len(clean_append)\n",
    "\n",
    "if og_len != clean_len:\n",
    "    print(\"The number of rows do not add up. Make sure your final files have the same header and format.\")\n",
    "    passed = False\n",
    "\n",
    "for line in clean_write:\n",
    "    if \"no\" in line:\n",
    "        passed = False\n",
    "        print(\"Inactive members in the file.\")\n",
    "        break\n",
    "    else:\n",
    "        if line not in og_write:\n",
    "            print(\"Data in the file does not match original file.\")\n",
    "            passed = False\n",
    "\n",
    "print(test(passed))\n",
    "\n",
    "os.remove(test_write)\n",
    "os.remove(test_append)"
   ],
   "id": "c78825fb61536f99",
   "outputs": [
    {
     "name": "stdout",
     "output_type": "stream",
     "text": [
      "Test Passed\n"
     ]
    }
   ],
   "execution_count": 24
  },
  {
   "metadata": {},
   "cell_type": "markdown",
   "source": [
    "****\n",
    "This is the end of the file.\n",
    "****"
   ],
   "id": "e2c2d8c2cc889c68"
  }
 ],
 "metadata": {
  "kernelspec": {
   "display_name": "Python 3",
   "language": "python",
   "name": "python3"
  },
  "language_info": {
   "codemirror_mode": {
    "name": "ipython",
    "version": 2
   },
   "file_extension": ".py",
   "mimetype": "text/x-python",
   "name": "python",
   "nbconvert_exporter": "python",
   "pygments_lexer": "ipython2",
   "version": "2.7.6"
  }
 },
 "nbformat": 4,
 "nbformat_minor": 5
}
