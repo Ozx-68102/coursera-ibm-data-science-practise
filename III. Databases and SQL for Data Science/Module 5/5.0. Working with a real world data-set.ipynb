{
 "cells": [
  {
   "metadata": {},
   "cell_type": "markdown",
   "source": "## Chicago Public Schools - Progress Report Cards (2011-2012)",
   "id": "d4b8611a55d0b00a"
  },
  {
   "metadata": {},
   "cell_type": "markdown",
   "source": [
    "<p>The city of Chicago released a dataset showing all school level performance data used to create School Report Cards for the 2011-2012 school year. The dataset is available from <a href=\"https://data.cityofchicago.org/Education/Chicago-Public-Schools-Progress-Report-Cards-2011-/9xs2-f89t/about_data\">the Chicago Data Portal</a>.</p>\n",
    "<p>This dataset includes a large number of metrics. Start by familiarizing yourself with the types of metrics in the database <a href=\"https://data.cityofchicago.org/api/assets/AAD41A13-BE8A-4E67-B1F5-86E711E09D5F\">by here</a>.</p>\n",
    "<p><b>NOTE:</b></p>\n",
    "<p>Do not download the dataset directly from City of Chicago portal. Instead, download a static copy which is a more database friendly version from <a href=\"https://cf-courses-data.s3.us.cloud-object-storage.appdomain.cloud/IBMDeveloperSkillsNetwork-DB0201EN-SkillsNetwork/labs/FinalModule_Coursera_V5/data/ChicagoPublicSchools.csv\">this link</a>.</p>\n",
    "<p>Now review some of its contents.</p>"
   ],
   "id": "d8b85b017d6e75cc"
  },
  {
   "metadata": {},
   "cell_type": "markdown",
   "source": "## Connect to the database",
   "id": "272c0b946f568a8a"
  },
  {
   "metadata": {
    "ExecuteTime": {
     "end_time": "2025-08-08T23:09:03.069788Z",
     "start_time": "2025-08-08T23:09:03.066516Z"
    }
   },
   "cell_type": "code",
   "source": [
    "import sqlite3\n",
    "import os\n",
    "\n",
    "dir_path = os.path.join(\".\", \"data\")\n",
    "db_name = os.path.join(dir_path, \"RealWorldData.db\")"
   ],
   "id": "441e513d529768fe",
   "outputs": [],
   "execution_count": 1
  },
  {
   "metadata": {
    "ExecuteTime": {
     "end_time": "2025-08-08T23:09:03.088687Z",
     "start_time": "2025-08-08T23:09:03.074058Z"
    }
   },
   "cell_type": "code",
   "source": [
    "con = sqlite3.connect(db_name)\n",
    "cur = con.cursor()"
   ],
   "id": "610b3c1f0dce6b1a",
   "outputs": [],
   "execution_count": 2
  },
  {
   "metadata": {},
   "cell_type": "markdown",
   "source": "## Store the dataset in a Table",
   "id": "a22d38d6f89aa467"
  },
  {
   "metadata": {},
   "cell_type": "markdown",
   "source": [
    "<p>In many cases the dataset to be analyzed is available as a .CSV (comma separated values) file, perhaps on the internet. To analyze the data using SQL, it first needs to be stored in the database.</p>\n",
    "<p>We will first read the csv files from the given url into pandas dataframes.</p>\n",
    "<p>Next we will be using the <code>df.to_sql()</code> function to convert each csv file to a table in sqlite with the csv data loaded in it.</p>"
   ],
   "id": "cc49f9e14218ee18"
  },
  {
   "metadata": {
    "ExecuteTime": {
     "end_time": "2025-08-08T23:09:03.343002Z",
     "start_time": "2025-08-08T23:09:03.092876Z"
    }
   },
   "cell_type": "code",
   "source": "import pandas as pd",
   "id": "da8cc3589f6d7faa",
   "outputs": [],
   "execution_count": 3
  },
  {
   "metadata": {
    "ExecuteTime": {
     "end_time": "2025-08-08T23:09:06.129958Z",
     "start_time": "2025-08-08T23:09:03.350313Z"
    }
   },
   "cell_type": "code",
   "source": [
    "url = \"https://cf-courses-data.s3.us.cloud-object-storage.appdomain.cloud/IBMDeveloperSkillsNetwork-DB0201EN-SkillsNetwork/labs/FinalModule_Coursera_V5/data/ChicagoPublicSchools.csv\"\n",
    "df = pd.read_csv(url)\n",
    "df.to_sql(\"chicago_public_schools_data\", con=con, if_exists=\"replace\", index=False, method=\"multi\", chunksize=100)"
   ],
   "id": "a3c8b489ec0f7b9e",
   "outputs": [
    {
     "data": {
      "text/plain": [
       "566"
      ]
     },
     "execution_count": 4,
     "metadata": {},
     "output_type": "execute_result"
    }
   ],
   "execution_count": 4
  },
  {
   "metadata": {},
   "cell_type": "markdown",
   "source": "## Query the database system catalog to retrieve table metadata",
   "id": "2d23f295288defbd"
  },
  {
   "metadata": {},
   "cell_type": "markdown",
   "source": "<p>You can verify that the table creation was successful by retrieving the list of all tables in your schema and checking whether the <code>schools</code> table was created.</p>",
   "id": "d3bb96b764ef4df"
  },
  {
   "metadata": {
    "ExecuteTime": {
     "end_time": "2025-08-08T23:09:06.201723Z",
     "start_time": "2025-08-08T23:09:06.197919Z"
    }
   },
   "cell_type": "code",
   "source": [
    "cur.execute(\"SELECT name FROM sqlite_master WHERE type='table';\")\n",
    "cur.fetchall()[0][0]"
   ],
   "id": "b652f3182d4526a1",
   "outputs": [
    {
     "data": {
      "text/plain": [
       "'chicago_public_schools_data'"
      ]
     },
     "execution_count": 5,
     "metadata": {},
     "output_type": "execute_result"
    }
   ],
   "execution_count": 5
  },
  {
   "metadata": {},
   "cell_type": "markdown",
   "source": "## Query the database system catalog to retrieve column metadata",
   "id": "16c241e11dcd8121"
  },
  {
   "metadata": {},
   "cell_type": "markdown",
   "source": "<p>The <code>schools</code> table contains a large number of columns. How many columns does this table have?</p>",
   "id": "bb281b2a1a1830e9"
  },
  {
   "metadata": {
    "ExecuteTime": {
     "end_time": "2025-08-08T23:09:06.219786Z",
     "start_time": "2025-08-08T23:09:06.216388Z"
    }
   },
   "cell_type": "code",
   "source": [
    "cur.execute(\"SELECT COUNT(name) FROM PRAGMA_TABLE_INFO('chicago_public_schools_data')\")\n",
    "cur.fetchall()[0][0]"
   ],
   "id": "75b3bbcdc9101fc6",
   "outputs": [
    {
     "data": {
      "text/plain": [
       "78"
      ]
     },
     "execution_count": 6,
     "metadata": {},
     "output_type": "execute_result"
    }
   ],
   "execution_count": 6
  },
  {
   "metadata": {},
   "cell_type": "markdown",
   "source": "<p>Now retrieve the list of columns in <code>schools</code> table and their column type (datatype) and length.</p>",
   "id": "27e4e1e2c744905d"
  },
  {
   "metadata": {
    "ExecuteTime": {
     "end_time": "2025-08-08T23:09:06.240337Z",
     "start_time": "2025-08-08T23:09:06.236989Z"
    }
   },
   "cell_type": "code",
   "source": [
    "cur.execute(\"SELECT name, type, LENGTH(type) FROM PRAGMA_TABLE_INFO('chicago_public_schools_data');\")\n",
    "\n",
    "for row in cur.fetchall():\n",
    "    print(row)"
   ],
   "id": "39df737d0590fe3",
   "outputs": [
    {
     "name": "stdout",
     "output_type": "stream",
     "text": [
      "('School_ID', 'INTEGER', 7)\n",
      "('NAME_OF_SCHOOL', 'TEXT', 4)\n",
      "('Elementary, Middle, or High School', 'TEXT', 4)\n",
      "('Street_Address', 'TEXT', 4)\n",
      "('City', 'TEXT', 4)\n",
      "('State', 'TEXT', 4)\n",
      "('ZIP_Code', 'INTEGER', 7)\n",
      "('Phone_Number', 'TEXT', 4)\n",
      "('Link', 'TEXT', 4)\n",
      "('Network_Manager', 'TEXT', 4)\n",
      "('Collaborative_Name', 'TEXT', 4)\n",
      "('Adequate_Yearly_Progress_Made_', 'TEXT', 4)\n",
      "('Track_Schedule', 'TEXT', 4)\n",
      "('CPS_Performance_Policy_Status', 'TEXT', 4)\n",
      "('CPS_Performance_Policy_Level', 'TEXT', 4)\n",
      "('HEALTHY_SCHOOL_CERTIFIED', 'TEXT', 4)\n",
      "('Safety_Icon', 'TEXT', 4)\n",
      "('SAFETY_SCORE', 'REAL', 4)\n",
      "('Family_Involvement_Icon', 'TEXT', 4)\n",
      "('Family_Involvement_Score', 'TEXT', 4)\n",
      "('Environment_Icon', 'TEXT', 4)\n",
      "('Environment_Score', 'REAL', 4)\n",
      "('Instruction_Icon', 'TEXT', 4)\n",
      "('Instruction_Score', 'REAL', 4)\n",
      "('Leaders_Icon', 'TEXT', 4)\n",
      "('Leaders_Score', 'TEXT', 4)\n",
      "('Teachers_Icon', 'TEXT', 4)\n",
      "('Teachers_Score', 'TEXT', 4)\n",
      "('Parent_Engagement_Icon', 'TEXT', 4)\n",
      "('Parent_Engagement_Score', 'TEXT', 4)\n",
      "('Parent_Environment_Icon', 'TEXT', 4)\n",
      "('Parent_Environment_Score', 'TEXT', 4)\n",
      "('AVERAGE_STUDENT_ATTENDANCE', 'TEXT', 4)\n",
      "('Rate_of_Misconducts__per_100_students_', 'REAL', 4)\n",
      "('Average_Teacher_Attendance', 'TEXT', 4)\n",
      "('Individualized_Education_Program_Compliance_Rate', 'TEXT', 4)\n",
      "('Pk_2_Literacy__', 'TEXT', 4)\n",
      "('Pk_2_Math__', 'TEXT', 4)\n",
      "('Gr3_5_Grade_Level_Math__', 'TEXT', 4)\n",
      "('Gr3_5_Grade_Level_Read__', 'TEXT', 4)\n",
      "('Gr3_5_Keep_Pace_Read__', 'TEXT', 4)\n",
      "('Gr3_5_Keep_Pace_Math__', 'TEXT', 4)\n",
      "('Gr6_8_Grade_Level_Math__', 'TEXT', 4)\n",
      "('Gr6_8_Grade_Level_Read__', 'TEXT', 4)\n",
      "('Gr6_8_Keep_Pace_Math_', 'TEXT', 4)\n",
      "('Gr6_8_Keep_Pace_Read__', 'TEXT', 4)\n",
      "('Gr_8_Explore_Math__', 'TEXT', 4)\n",
      "('Gr_8_Explore_Read__', 'TEXT', 4)\n",
      "('ISAT_Exceeding_Math__', 'REAL', 4)\n",
      "('ISAT_Exceeding_Reading__', 'REAL', 4)\n",
      "('ISAT_Value_Add_Math', 'REAL', 4)\n",
      "('ISAT_Value_Add_Read', 'REAL', 4)\n",
      "('ISAT_Value_Add_Color_Math', 'TEXT', 4)\n",
      "('ISAT_Value_Add_Color_Read', 'TEXT', 4)\n",
      "('Students_Taking__Algebra__', 'TEXT', 4)\n",
      "('Students_Passing__Algebra__', 'TEXT', 4)\n",
      "('9th Grade EXPLORE (2009)', 'TEXT', 4)\n",
      "('9th Grade EXPLORE (2010)', 'TEXT', 4)\n",
      "('10th Grade PLAN (2009)', 'TEXT', 4)\n",
      "('10th Grade PLAN (2010)', 'TEXT', 4)\n",
      "('Net_Change_EXPLORE_and_PLAN', 'TEXT', 4)\n",
      "('11th Grade Average ACT (2011)', 'TEXT', 4)\n",
      "('Net_Change_PLAN_and_ACT', 'TEXT', 4)\n",
      "('College_Eligibility__', 'TEXT', 4)\n",
      "('Graduation_Rate__', 'TEXT', 4)\n",
      "('College_Enrollment_Rate__', 'TEXT', 4)\n",
      "('COLLEGE_ENROLLMENT', 'INTEGER', 7)\n",
      "('General_Services_Route', 'INTEGER', 7)\n",
      "('Freshman_on_Track_Rate__', 'TEXT', 4)\n",
      "('X_COORDINATE', 'REAL', 4)\n",
      "('Y_COORDINATE', 'REAL', 4)\n",
      "('Latitude', 'REAL', 4)\n",
      "('Longitude', 'REAL', 4)\n",
      "('COMMUNITY_AREA_NUMBER', 'INTEGER', 7)\n",
      "('COMMUNITY_AREA_NAME', 'TEXT', 4)\n",
      "('Ward', 'INTEGER', 7)\n",
      "('Police_District', 'INTEGER', 7)\n",
      "('Location', 'TEXT', 4)\n"
     ]
    }
   ],
   "execution_count": 7
  },
  {
   "metadata": {},
   "cell_type": "markdown",
   "source": "## Problems",
   "id": "de224b52ef94b9c"
  },
  {
   "metadata": {},
   "cell_type": "markdown",
   "source": "<p><b>Problem 1</b> How many Elementary Schools are in dataset?</p>",
   "id": "2d815955f27df763"
  },
  {
   "metadata": {
    "ExecuteTime": {
     "end_time": "2025-08-08T23:09:06.261089Z",
     "start_time": "2025-08-08T23:09:06.257585Z"
    }
   },
   "cell_type": "code",
   "source": [
    "cur.execute(\"SELECT COUNT(*) FROM chicago_public_schools_data WHERE `Elementary, middle, or High School`='ES';\")\n",
    "cur.fetchall()[0][0]"
   ],
   "id": "8f142140e1ad9ac4",
   "outputs": [
    {
     "data": {
      "text/plain": [
       "462"
      ]
     },
     "execution_count": 8,
     "metadata": {},
     "output_type": "execute_result"
    }
   ],
   "execution_count": 8
  },
  {
   "metadata": {},
   "cell_type": "markdown",
   "source": "<p><b>Problem 2</b> What is the highest Safety Score?</p>",
   "id": "86caeafef8d84c0d"
  },
  {
   "metadata": {
    "ExecuteTime": {
     "end_time": "2025-08-08T23:09:06.279319Z",
     "start_time": "2025-08-08T23:09:06.275471Z"
    }
   },
   "cell_type": "code",
   "source": [
    "cur.execute(\"SELECT MAX(Safety_Score) FROM chicago_public_schools_data;\")\n",
    "cur.fetchall()[0][0]"
   ],
   "id": "dfb536bd5fc997df",
   "outputs": [
    {
     "data": {
      "text/plain": [
       "99.0"
      ]
     },
     "execution_count": 9,
     "metadata": {},
     "output_type": "execute_result"
    }
   ],
   "execution_count": 9
  },
  {
   "metadata": {},
   "cell_type": "markdown",
   "source": "<p><b>Problem 3</b> Which schools have highest Safety Score?</p>",
   "id": "5919d8ad59dfac6d"
  },
  {
   "metadata": {
    "ExecuteTime": {
     "end_time": "2025-08-08T23:09:06.293609Z",
     "start_time": "2025-08-08T23:09:06.290448Z"
    }
   },
   "cell_type": "code",
   "source": [
    "statement = \"\"\"\n",
    "SELECT NAME_OF_SCHOOL\n",
    "FROM chicago_public_schools_data\n",
    "WHERE Safety_Score = (\n",
    "    SELECT MAX(Safety_Score) FROM chicago_public_schools_data\n",
    ");\n",
    "\"\"\"\n",
    "cur.execute(statement)\n",
    "for row in cur.fetchall():\n",
    "    for school in row:\n",
    "        print(school)"
   ],
   "id": "45d3e877430aeba0",
   "outputs": [
    {
     "name": "stdout",
     "output_type": "stream",
     "text": [
      "Abraham Lincoln Elementary School\n",
      "Alexander Graham Bell Elementary School\n",
      "Annie Keller Elementary Gifted Magnet School\n",
      "Augustus H Burley Elementary School\n",
      "Edgar Allan Poe Elementary Classical School\n",
      "Edgebrook Elementary School\n",
      "Ellen Mitchell Elementary School\n",
      "James E McDade Elementary Classical School\n",
      "James G Blaine Elementary School\n",
      "LaSalle Elementary Language Academy\n",
      "Mary E Courtenay Elementary Language Arts Center\n",
      "Northside College Preparatory High School\n",
      "Northside Learning Center High School\n",
      "Norwood Park Elementary School\n",
      "Oriole Park Elementary School\n",
      "Sauganash Elementary School\n",
      "Stephen Decatur Classical Elementary School\n",
      "Talman Elementary School\n",
      "Wildwood Elementary School\n"
     ]
    }
   ],
   "execution_count": 10
  },
  {
   "metadata": {},
   "cell_type": "markdown",
   "source": "<p><b>Problem 4</b> What are the top 10 schools with the highest <code>Average Student Attendance</code>?</p>",
   "id": "30afb278fb08c389"
  },
  {
   "metadata": {
    "ExecuteTime": {
     "end_time": "2025-08-08T23:09:06.311829Z",
     "start_time": "2025-08-08T23:09:06.308085Z"
    }
   },
   "cell_type": "code",
   "source": [
    "statement = \"\"\"\n",
    "SELECT NAME_OF_SCHOOL, AVERAGE_STUDENT_ATTENDANCE\n",
    "FROM chicago_public_schools_data\n",
    "ORDER BY AVERAGE_STUDENT_ATTENDANCE DESC NULLS LAST LIMIT 10;\n",
    "\"\"\"\n",
    "cur.execute(statement)\n",
    "\n",
    "print(\"School Name, \", \"Average Student Attendance\")\n",
    "print(\"=\" * 40)\n",
    "for row in cur.fetchall():\n",
    "    print(f\"{row[0]}, \", row[1])"
   ],
   "id": "8b94322130c43bc7",
   "outputs": [
    {
     "name": "stdout",
     "output_type": "stream",
     "text": [
      "School Name,  Average Student Attendance\n",
      "========================================\n",
      "John Charles Haines Elementary School,  98.40%\n",
      "James Ward Elementary School,  97.80%\n",
      "Edgar Allan Poe Elementary Classical School,  97.60%\n",
      "Orozco Fine Arts & Sciences Elementary School,  97.60%\n",
      "Rachel Carson Elementary School,  97.60%\n",
      "Annie Keller Elementary Gifted Magnet School,  97.50%\n",
      "Andrew Jackson Elementary Language Academy,  97.40%\n",
      "Lenart Elementary Regional Gifted Center,  97.40%\n",
      "Disney II Magnet School,  97.30%\n",
      "John H Vanderpoel Elementary Magnet School,  97.20%\n"
     ]
    }
   ],
   "execution_count": 11
  },
  {
   "metadata": {},
   "cell_type": "markdown",
   "source": "<p><b>Problem 5</b> Retrieve the list of 5 schools with the lowest <code>Average Student Attendance</code> sorted in ascending order based on attendance.</p>",
   "id": "da6e9288afecddd2"
  },
  {
   "metadata": {
    "ExecuteTime": {
     "end_time": "2025-08-08T23:09:06.326822Z",
     "start_time": "2025-08-08T23:09:06.323602Z"
    }
   },
   "cell_type": "code",
   "source": [
    "statement = \"\"\"\n",
    "SELECT NAME_OF_SCHOOL, AVERAGE_STUDENT_ATTENDANCE\n",
    "FROM chicago_public_schools_data\n",
    "ORDER BY AVERAGE_STUDENT_ATTENDANCE ASC LIMIT 5;\n",
    "\"\"\"\n",
    "cur.execute(statement)\n",
    "\n",
    "print(\"School Name, \", \"Average Student Attendance\")\n",
    "print(\"=\" * 40)\n",
    "for row in cur.fetchall():\n",
    "    print(f\"{row[0]}, \", row[1])"
   ],
   "id": "3df8ddd88c9fe488",
   "outputs": [
    {
     "name": "stdout",
     "output_type": "stream",
     "text": [
      "School Name,  Average Student Attendance\n",
      "========================================\n",
      "Velma F Thomas Early Childhood Center,  None\n",
      "Richard T Crane Technical Preparatory High School,  57.90%\n",
      "Barbara Vick Early Childhood & Family Center,  60.90%\n",
      "Dyett High School,  62.50%\n",
      "Wendell Phillips Academy High School,  63.00%\n"
     ]
    }
   ],
   "execution_count": 12
  },
  {
   "metadata": {},
   "cell_type": "markdown",
   "source": "<p><b>Problem 6</b> Now remove the <code>%</code> sign from the above result set for <code>Average Student Attendance</code> column.</p>",
   "id": "52be2a61f6b1d91a"
  },
  {
   "metadata": {
    "ExecuteTime": {
     "end_time": "2025-08-08T23:09:06.342613Z",
     "start_time": "2025-08-08T23:09:06.339196Z"
    }
   },
   "cell_type": "code",
   "source": [
    "statement = \"\"\"\n",
    "SELECT NAME_OF_SCHOOL, REPLACE(AVERAGE_STUDENT_ATTENDANCE, '%', '')\n",
    "FROM chicago_public_schools_data\n",
    "ORDER BY AVERAGE_STUDENT_ATTENDANCE LIMIT 5\n",
    "\"\"\"\n",
    "cur.execute(statement)\n",
    "\n",
    "print(\"School Name, \", \"Average Student Attendance\")\n",
    "print(\"=\" * 40)\n",
    "for row in cur.fetchall():\n",
    "    print(f\"{row[0]}, \", row[1])"
   ],
   "id": "ae54f3fd98d4390e",
   "outputs": [
    {
     "name": "stdout",
     "output_type": "stream",
     "text": [
      "School Name,  Average Student Attendance\n",
      "========================================\n",
      "Velma F Thomas Early Childhood Center,  None\n",
      "Richard T Crane Technical Preparatory High School,  57.90\n",
      "Barbara Vick Early Childhood & Family Center,  60.90\n",
      "Dyett High School,  62.50\n",
      "Wendell Phillips Academy High School,  63.00\n"
     ]
    }
   ],
   "execution_count": 13
  },
  {
   "metadata": {},
   "cell_type": "markdown",
   "source": "<p><b>Problem 7</b> Which schools have <code>Average Student Attendance</code> lower than 70%?</p>",
   "id": "c74e68df080e1c2"
  },
  {
   "metadata": {
    "ExecuteTime": {
     "end_time": "2025-08-08T23:09:06.358069Z",
     "start_time": "2025-08-08T23:09:06.353982Z"
    }
   },
   "cell_type": "code",
   "source": [
    "statement = \"\"\"\n",
    "SELECT NAME_OF_SCHOOL, AVERAGE_STUDENT_ATTENDANCE\n",
    "FROM chicago_public_schools_data\n",
    "WHERE CAST(REPLACE(AVERAGE_STUDENT_ATTENDANCE, '%', '') AS DOUBLE PRECISION) < 70\n",
    "ORDER BY AVERAGE_STUDENT_ATTENDANCE\n",
    "\"\"\"\n",
    "cur.execute(statement)\n",
    "\n",
    "print(\"School Name, \", \"Average Student Attendance\")\n",
    "print(\"=\" * 40)\n",
    "for row in cur.fetchall():\n",
    "    print(f\"{row[0]}, \", row[1])"
   ],
   "id": "4d694ac879a31f61",
   "outputs": [
    {
     "name": "stdout",
     "output_type": "stream",
     "text": [
      "School Name,  Average Student Attendance\n",
      "========================================\n",
      "Richard T Crane Technical Preparatory High School,  57.90%\n",
      "Barbara Vick Early Childhood & Family Center,  60.90%\n",
      "Dyett High School,  62.50%\n",
      "Wendell Phillips Academy High School,  63.00%\n",
      "Orr Academy High School,  66.30%\n",
      "Manley Career Academy High School,  66.80%\n",
      "Chicago Vocational Career Academy High School,  68.80%\n",
      "Roberto Clemente Community Academy High School,  69.60%\n"
     ]
    }
   ],
   "execution_count": 14
  },
  {
   "metadata": {},
   "cell_type": "markdown",
   "source": "<p><b>Problem 8</b> Get the total <code>College Enrollment</code> for each <code>Community Area</code>.</p>",
   "id": "b30c4bf380a61a0a"
  },
  {
   "metadata": {
    "ExecuteTime": {
     "end_time": "2025-08-08T23:09:06.373498Z",
     "start_time": "2025-08-08T23:09:06.369392Z"
    }
   },
   "cell_type": "code",
   "source": [
    "statement = \"\"\"\n",
    "SELECT COMMUNITY_AREA_NAME, SUM(COLLEGE_ENROLLMENT)\n",
    "FROM chicago_public_schools_data\n",
    "GROUP BY COMMUNITY_AREA_NAME\n",
    "\"\"\"\n",
    "cur.execute(statement)\n",
    "\n",
    "print(\"Community Area Name, \", \"Total College Enrollment\")\n",
    "print(\"=\" * 40)\n",
    "for row in cur.fetchall():\n",
    "    print(f\"{row[0]}, \", row[1])"
   ],
   "id": "a54ded8f408fd237",
   "outputs": [
    {
     "name": "stdout",
     "output_type": "stream",
     "text": [
      "Community Area Name,  Total College Enrollment\n",
      "========================================\n",
      "ALBANY PARK,  6864\n",
      "ARCHER HEIGHTS,  4823\n",
      "ARMOUR SQUARE,  1458\n",
      "ASHBURN,  6483\n",
      "AUBURN GRESHAM,  4175\n",
      "AUSTIN,  10933\n",
      "AVALON PARK,  1522\n",
      "AVONDALE,  3640\n",
      "BELMONT CRAGIN,  14386\n",
      "BEVERLY,  1636\n",
      "BRIDGEPORT,  3167\n",
      "BRIGHTON PARK,  9647\n",
      "BURNSIDE,  549\n",
      "CALUMET HEIGHTS,  1568\n",
      "CHATHAM,  5042\n",
      "CHICAGO LAWN,  7086\n",
      "CLEARING,  2085\n",
      "DOUGLAS,  4670\n",
      "DUNNING,  4568\n",
      "EAST GARFIELD PARK,  5337\n",
      "EAST SIDE,  5305\n",
      "EDGEWATER,  4600\n",
      "EDISON PARK,  910\n",
      "ENGLEWOOD,  6832\n",
      "FOREST GLEN,  1431\n",
      "FULLER PARK,  531\n",
      "GAGE PARK,  9915\n",
      "GARFIELD RIDGE,  4552\n",
      "GRAND BOULEVARD,  2809\n",
      "GREATER GRAND CROSSING,  4051\n",
      "HEGEWISCH,  963\n",
      "HERMOSA,  3975\n",
      "HUMBOLDT PARK,  8620\n",
      "HYDE PARK,  1930\n",
      "IRVING PARK,  7764\n",
      "JEFFERSON PARK,  1755\n",
      "KENWOOD,  4287\n",
      "LAKE VIEW,  7055\n",
      "LINCOLN PARK,  5615\n",
      "LINCOLN SQUARE,  4132\n",
      "LOGAN SQUARE,  7351\n",
      "LOOP,  871\n",
      "LOWER WEST SIDE,  7257\n",
      "MCKINLEY PARK,  1552\n",
      "MONTCLARE,  1317\n",
      "MORGAN PARK,  3271\n",
      "MOUNT GREENWOOD,  2091\n",
      "NEAR NORTH SIDE,  3362\n",
      "NEAR SOUTH SIDE,  1378\n",
      "NEAR WEST SIDE,  7975\n",
      "NEW CITY,  7922\n",
      "NORTH CENTER,  7541\n",
      "NORTH LAWNDALE,  5146\n",
      "NORTH PARK,  4210\n",
      "NORWOOD PARK,  6469\n",
      "OAKLAND,  140\n",
      "OHARE,  786\n",
      "PORTAGE PARK,  6954\n",
      "PULLMAN,  1620\n",
      "RIVERDALE,  1547\n",
      "ROGERS PARK,  4068\n",
      "ROSELAND,  7020\n",
      "SOUTH CHICAGO,  4043\n",
      "SOUTH DEERING,  1859\n",
      "SOUTH LAWNDALE,  14793\n",
      "SOUTH SHORE,  4543\n",
      "UPTOWN,  4388\n",
      "WASHINGTON HEIGHTS,  4006\n",
      "WASHINGTON PARK,  2648\n",
      "WEST ELSDON,  3700\n",
      "WEST ENGLEWOOD,  5946\n",
      "WEST GARFIELD PARK,  2622\n",
      "WEST LAWN,  4207\n",
      "WEST PULLMAN,  3240\n",
      "WEST RIDGE,  8197\n",
      "WEST TOWN,  9429\n",
      "WOODLAWN,  4206\n"
     ]
    }
   ],
   "execution_count": 15
  },
  {
   "metadata": {},
   "cell_type": "markdown",
   "source": "<p><b>Problem 9</b> Get the 5 <code>Community Areas</code> with the least total <code>College Enrollment</code> sorted in ascending order.</p>",
   "id": "aba32934ea7662de"
  },
  {
   "metadata": {
    "ExecuteTime": {
     "end_time": "2025-08-08T23:09:06.388543Z",
     "start_time": "2025-08-08T23:09:06.385112Z"
    }
   },
   "cell_type": "code",
   "source": [
    "statement = \"\"\"\n",
    "SELECT COMMUNITY_AREA_NAME, SUM(COLLEGE_ENROLLMENT) AS TOTAL_COLLEGE_ENROLLMENT\n",
    "FROM chicago_public_schools_data\n",
    "GROUP BY COMMUNITY_AREA_NAME\n",
    "ORDER BY TOTAL_COLLEGE_ENROLLMENT ASC LIMIT 5;\n",
    "\"\"\"\n",
    "cur.execute(statement)\n",
    "\n",
    "print(\"Community Area Name, \", \"Total College Enrollment\")\n",
    "print(\"=\" * 40)\n",
    "for row in cur.fetchall():\n",
    "    print(f\"{row[0]}, \", row[1])"
   ],
   "id": "88926c46140c5e66",
   "outputs": [
    {
     "name": "stdout",
     "output_type": "stream",
     "text": [
      "Community Area Name,  Total College Enrollment\n",
      "========================================\n",
      "OAKLAND,  140\n",
      "FULLER PARK,  531\n",
      "BURNSIDE,  549\n",
      "OHARE,  786\n",
      "LOOP,  871\n"
     ]
    }
   ],
   "execution_count": 16
  },
  {
   "metadata": {},
   "cell_type": "markdown",
   "source": "<p><b>Problem 10</b> List 5 schools with lowest <code>Safety Score</code>.</p>",
   "id": "768ca016d0e10edb"
  },
  {
   "metadata": {
    "ExecuteTime": {
     "end_time": "2025-08-08T23:09:06.403476Z",
     "start_time": "2025-08-08T23:09:06.400065Z"
    }
   },
   "cell_type": "code",
   "source": [
    "statement = \"\"\"\n",
    "SELECT NAME_OF_SCHOOL, SAFETY_SCORE\n",
    "FROM chicago_public_schools_data\n",
    "WHERE SAFETY_SCORE <> 'None'\n",
    "ORDER BY SAFETY_SCORE ASC LIMIT 5;\n",
    "\"\"\"\n",
    "cur.execute(statement)\n",
    "\n",
    "print(\"School Name, \", \"Safety Score\")\n",
    "print(\"=\" * 40)\n",
    "for row in cur.fetchall():\n",
    "    print(f\"{row[0]}, \", row[1])"
   ],
   "id": "836c1e0d973ac722",
   "outputs": [
    {
     "name": "stdout",
     "output_type": "stream",
     "text": [
      "School Name,  Safety Score\n",
      "========================================\n",
      "Edmond Burke Elementary School,  1.0\n",
      "Luke O'Toole Elementary School,  5.0\n",
      "George W Tilton Elementary School,  6.0\n",
      "Foster Park Elementary School,  11.0\n",
      "Emil G Hirsch Metropolitan High School,  13.0\n"
     ]
    }
   ],
   "execution_count": 17
  },
  {
   "metadata": {},
   "cell_type": "markdown",
   "source": "<p><b>Problem 11</b> Get the <code>Hardship Index</code> for the <code>Community Area</code> of the school which has <code>College Enrollment</code> of 4368.</p>",
   "id": "137144671e98a381"
  },
  {
   "metadata": {
    "ExecuteTime": {
     "end_time": "2025-08-08T23:09:08.222211Z",
     "start_time": "2025-08-08T23:09:06.414142Z"
    }
   },
   "cell_type": "code",
   "source": [
    "url = \"https://cf-courses-data.s3.us.cloud-object-storage.appdomain.cloud/IBMDeveloperSkillsNetwork-DB0201EN-SkillsNetwork/labs/FinalModule_Coursera_V5/data/ChicagoCensusData.csv\"\n",
    "df = pd.read_csv(url)\n",
    "df.to_sql(\"chicago_census_data\", con=con, if_exists=\"replace\", index=False, method=\"multi\")"
   ],
   "id": "6a7f9bf183d759d0",
   "outputs": [
    {
     "data": {
      "text/plain": [
       "78"
      ]
     },
     "execution_count": 18,
     "metadata": {},
     "output_type": "execute_result"
    }
   ],
   "execution_count": 18
  },
  {
   "metadata": {
    "ExecuteTime": {
     "end_time": "2025-08-08T23:09:08.241499Z",
     "start_time": "2025-08-08T23:09:08.237999Z"
    }
   },
   "cell_type": "code",
   "source": [
    "statement = \"\"\"\n",
    "SELECT HARDSHIP_INDEX\n",
    "FROM chicago_census_data AS ccd, chicago_public_schools_data AS cpsd\n",
    "WHERE ccd.COMMUNITY_AREA_NUMBER = cpsd.COMMUNITY_AREA_NUMBER AND COLLEGE_ENROLLMENT = 4368\n",
    "\"\"\"\n",
    "cur.execute(statement)\n",
    "\n",
    "cur.fetchall()[0][0]"
   ],
   "id": "a344e0b400749228",
   "outputs": [
    {
     "data": {
      "text/plain": [
       "6.0"
      ]
     },
     "execution_count": 19,
     "metadata": {},
     "output_type": "execute_result"
    }
   ],
   "execution_count": 19
  },
  {
   "metadata": {},
   "cell_type": "markdown",
   "source": "<p><b>Problem 12</b> Get the <code>Hardship Index</code> for the <code>Community Area</code> which has the highest value for <code>College Enrollment</code>.</p>",
   "id": "62293687c5884ca3"
  },
  {
   "metadata": {
    "ExecuteTime": {
     "end_time": "2025-08-08T23:09:08.262385Z",
     "start_time": "2025-08-08T23:09:08.258049Z"
    }
   },
   "cell_type": "code",
   "source": [
    "statement = \"\"\"\n",
    "SELECT COMMUNITY_AREA_NUMBER, COMMUNITY_AREA_NAME, HARDSHIP_INDEX\n",
    "FROM chicago_census_data\n",
    "WHERE COMMUNITY_AREA_NUMBER IN (\n",
    "    SELECT COMMUNITY_AREA_NUMBER\n",
    "    FROM chicago_public_schools_data\n",
    "    ORDER BY COLLEGE_ENROLLMENT DESC LIMIT 1\n",
    ");\n",
    "\"\"\"\n",
    "cur.execute(statement)\n",
    "cur.fetchall()[0][2]"
   ],
   "id": "29c7c908eb86fca8",
   "outputs": [
    {
     "data": {
      "text/plain": [
       "6.0"
      ]
     },
     "execution_count": 20,
     "metadata": {},
     "output_type": "execute_result"
    }
   ],
   "execution_count": 20
  },
  {
   "metadata": {
    "ExecuteTime": {
     "end_time": "2025-08-08T23:09:08.275818Z",
     "start_time": "2025-08-08T23:09:08.272529Z"
    }
   },
   "cell_type": "code",
   "source": "con.close()",
   "id": "cd4032de3757bdd2",
   "outputs": [],
   "execution_count": 21
  },
  {
   "metadata": {},
   "cell_type": "markdown",
   "source": [
    "****\n",
    "This is the end of the file.\n",
    "****"
   ],
   "id": "76a568c392f42f8d"
  }
 ],
 "metadata": {
  "kernelspec": {
   "display_name": "Python 3",
   "language": "python",
   "name": "python3"
  },
  "language_info": {
   "codemirror_mode": {
    "name": "ipython",
    "version": 2
   },
   "file_extension": ".py",
   "mimetype": "text/x-python",
   "name": "python",
   "nbconvert_exporter": "python",
   "pygments_lexer": "ipython2",
   "version": "2.7.6"
  }
 },
 "nbformat": 4,
 "nbformat_minor": 5
}
