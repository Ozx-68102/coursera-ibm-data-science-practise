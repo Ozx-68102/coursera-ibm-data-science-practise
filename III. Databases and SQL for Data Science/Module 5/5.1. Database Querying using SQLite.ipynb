{
 "cells": [
  {
   "metadata": {},
   "cell_type": "markdown",
   "source": "# Database Querying using SQLite",
   "id": "abeb3ec0f5dfa008"
  },
  {
   "metadata": {},
   "cell_type": "markdown",
   "source": "## Understand the datasets",
   "id": "2a1fe7c4ec6b1ba1"
  },
  {
   "metadata": {},
   "cell_type": "markdown",
   "source": [
    "<p>You will be using three datasets that are available on the city of Chicago's Data Portal to work out the problems.</p>\n",
    "<ol>\n",
    "    <li><a href=\"https://data.cityofchicago.org/Health-Human-Services/Census-Data-Selected-socioeconomic-indicators-in-C/kn9c-c2s2/about_data\">Socioeconomic Indicators in Chicago</a>: This dataset contains a selection of six socioeconomic indicators of public health significance and a \"hardship index\", for each Chicago community area, for the years 2008 – 2012.</li>\n",
    "    <li><a href=\"https://data.cityofchicago.org/Education/Chicago-Public-Schools-Progress-Report-Cards-2011-/9xs2-f89t/about_data\">Chicago Public Schools</a>: This dataset shows all school level performance data used to create CPS School Report Cards for the 2011-2012 school year. This dataset is provided by the city of Chicago's Data Portal.</li>\n",
    "    <li><a href=\"https://data.cityofchicago.org/Public-Safety/Crimes-2001-to-Present/ijzp-q8t2/about_data\">Chicago Crime Data</a>: This dataset reflects reported incidents of crime (with the exception of murders where data exists for each victim) that occurred in the City of Chicago from 2001 to present, minus the most recent seven days.</li>\n",
    "</ol>"
   ],
   "id": "6cec0d0e39917f92"
  },
  {
   "metadata": {},
   "cell_type": "markdown",
   "source": "## Download the datasets",
   "id": "4b9dacf3a034060e"
  },
  {
   "metadata": {},
   "cell_type": "markdown",
   "source": [
    "<p>In many cases the dataset to be analyzed is available as a .CSV (comma separated values) file, perhaps on the Internet.</p>\n",
    "<p>Use the links below to read the data files using the Pandas library.</p>\n",
    "<ul>\n",
    "    <li>Chicago Census Data - Selected socioeconomic indicators in Chicago: <a href=\"https://cf-courses-data.s3.us.cloud-object-storage.appdomain.cloud/IBMDeveloperSkillsNetwork-DB0201EN-SkillsNetwork/labs/FinalModule_Coursera_V5/data/ChicagoCensusData.csv\">Link 1</a></li>\n",
    "    <li>Chicago Public Schools: <a href=\"https://cf-courses-data.s3.us.cloud-object-storage.appdomain.cloud/IBMDeveloperSkillsNetwork-DB0201EN-SkillsNetwork/labs/FinalModule_Coursera_V5/data/ChicagoPublicSchools.csv\">Link 2</a></li>\n",
    "    <li>Chicago Crime Data: <a href=\"https://cf-courses-data.s3.us.cloud-object-storage.appdomain.cloud/IBMDeveloperSkillsNetwork-DB0201EN-SkillsNetwork/labs/FinalModule_Coursera_V5/data/ChicagoCrimeData.csv\">Link 3</a></li>\n",
    "</ul>\n",
    "<p><b>NOTE:</b> Ensure you use the datasets available on the links above instead of directly from the Chicago Data Portal. The versions linked here are subsets of the original datasets and have some of the column names modified to be more database friendly which will make it easier to work out the problems.</p>"
   ],
   "id": "b8c8c9af8b18cb4e"
  },
  {
   "metadata": {},
   "cell_type": "markdown",
   "source": "## Store the datasets in database tables",
   "id": "928eb215509c21b7"
  },
  {
   "metadata": {},
   "cell_type": "markdown",
   "source": [
    "<p>To analyze the data using SQL, it first needs to be loaded into SQLite DB.\n",
    "We will create three tables in as under:</p>\n",
    "<ol>\n",
    "    <li><b>CENSUS_DATA</b></li>\n",
    "    <li><b>CHICAGO_PUBLIC_SCHOOLS</b></li>\n",
    "    <li><b>CHICAGO_CRIME_DATA</b></li>\n",
    "</ol>"
   ],
   "id": "d8693df66abe9b07"
  },
  {
   "metadata": {},
   "cell_type": "markdown",
   "source": "<p>Load the <code>pandas</code> and <code>sqlite3</code> libraries and establish a connection to <code>FinalDB.db</code>.</p>",
   "id": "8a4325ad4aeb759f"
  },
  {
   "metadata": {
    "ExecuteTime": {
     "end_time": "2025-08-11T02:30:18.849881Z",
     "start_time": "2025-08-11T02:30:18.556553Z"
    }
   },
   "cell_type": "code",
   "source": [
    "import pandas as pd\n",
    "import sqlite3\n",
    "import os"
   ],
   "id": "1079b29b1d41ef25",
   "outputs": [],
   "execution_count": 1
  },
  {
   "metadata": {
    "ExecuteTime": {
     "end_time": "2025-08-11T02:30:18.860938Z",
     "start_time": "2025-08-11T02:30:18.857969Z"
    }
   },
   "cell_type": "code",
   "source": [
    "dir_path = os.path.join(\".\", \"data\")\n",
    "db_path = os.path.join(dir_path, \"FinalDB.db\")\n",
    "os.makedirs(dir_path, exist_ok=True)"
   ],
   "id": "55705327a5f96724",
   "outputs": [],
   "execution_count": 2
  },
  {
   "metadata": {
    "ExecuteTime": {
     "end_time": "2025-08-11T02:30:18.874771Z",
     "start_time": "2025-08-11T02:30:18.871007Z"
    }
   },
   "cell_type": "code",
   "source": [
    "con = sqlite3.connect(db_path)\n",
    "cur = con.cursor()"
   ],
   "id": "97035b79cfed490d",
   "outputs": [],
   "execution_count": 3
  },
  {
   "metadata": {},
   "cell_type": "markdown",
   "source": "<p>Use <code>Pandas</code> to load the data available in the links above to dataframes. Use these dataframes to load data on to the database <code>FinalDB.db</code> as required tables.</p>",
   "id": "fd80294869e21d3b"
  },
  {
   "metadata": {
    "ExecuteTime": {
     "end_time": "2025-08-11T02:30:18.885521Z",
     "start_time": "2025-08-11T02:30:18.879730Z"
    }
   },
   "cell_type": "code",
   "source": [
    "def load_data_to_db(url: str, table: str, connection: sqlite3.Connection, chunk_size: int | None=None) -> int | None:\n",
    "    df = pd.read_csv(url)\n",
    "    return df.to_sql(table, connection, if_exists=\"replace\", index=False, method=\"multi\", chunksize=chunk_size)"
   ],
   "id": "29ea652965fc96d",
   "outputs": [],
   "execution_count": 4
  },
  {
   "metadata": {
    "ExecuteTime": {
     "end_time": "2025-08-11T02:30:20.126619Z",
     "start_time": "2025-08-11T02:30:18.895186Z"
    }
   },
   "cell_type": "code",
   "source": [
    "url_census_data = \"https://cf-courses-data.s3.us.cloud-object-storage.appdomain.cloud/IBMDeveloperSkillsNetwork-DB0201EN-SkillsNetwork/labs/FinalModule_Coursera_V5/data/ChicagoCensusData.csv\"\n",
    "load_data_to_db(url_census_data, \"chicago_census_data\", con)"
   ],
   "id": "1481616fe0e431a3",
   "outputs": [
    {
     "data": {
      "text/plain": [
       "78"
      ]
     },
     "execution_count": 5,
     "metadata": {},
     "output_type": "execute_result"
    }
   ],
   "execution_count": 5
  },
  {
   "metadata": {
    "ExecuteTime": {
     "end_time": "2025-08-11T02:30:22.539864Z",
     "start_time": "2025-08-11T02:30:20.190146Z"
    }
   },
   "cell_type": "code",
   "source": [
    "url_public_schools = \"https://cf-courses-data.s3.us.cloud-object-storage.appdomain.cloud/IBMDeveloperSkillsNetwork-DB0201EN-SkillsNetwork/labs/FinalModule_Coursera_V5/data/ChicagoPublicSchools.csv\"\n",
    "load_data_to_db(url_public_schools, table=\"chicago_public_schools\", connection=con, chunk_size=100)"
   ],
   "id": "aa3646b2ff487a21",
   "outputs": [
    {
     "data": {
      "text/plain": [
       "566"
      ]
     },
     "execution_count": 6,
     "metadata": {},
     "output_type": "execute_result"
    }
   ],
   "execution_count": 6
  },
  {
   "metadata": {
    "ExecuteTime": {
     "end_time": "2025-08-11T02:30:24.293834Z",
     "start_time": "2025-08-11T02:30:22.553566Z"
    }
   },
   "cell_type": "code",
   "source": [
    "url_crime_data = \"https://cf-courses-data.s3.us.cloud-object-storage.appdomain.cloud/IBMDeveloperSkillsNetwork-DB0201EN-SkillsNetwork/labs/FinalModule_Coursera_V5/data/ChicagoCrimeData.csv\"\n",
    "load_data_to_db(url_crime_data, table=\"chicago_crime_data\", connection=con, chunk_size=100)"
   ],
   "id": "248a90fb355a0782",
   "outputs": [
    {
     "data": {
      "text/plain": [
       "533"
      ]
     },
     "execution_count": 7,
     "metadata": {},
     "output_type": "execute_result"
    }
   ],
   "execution_count": 7
  },
  {
   "metadata": {},
   "cell_type": "markdown",
   "source": "<p>You can now proceed to the following problems.</p>",
   "id": "cd0b5af7fe46a84f"
  },
  {
   "metadata": {},
   "cell_type": "markdown",
   "source": "## Problems",
   "id": "6ae71e5e35c9c067"
  },
  {
   "metadata": {
    "ExecuteTime": {
     "end_time": "2025-08-11T02:30:24.320741Z",
     "start_time": "2025-08-11T02:30:24.315510Z"
    }
   },
   "cell_type": "code",
   "source": [
    "def sql_query_and_display(sql:str, cursor: sqlite3.Cursor) -> None:\n",
    "    # get query results\n",
    "    cursor.execute(sql)\n",
    "    results = cursor.fetchall()\n",
    "\n",
    "    # table header\n",
    "    import html\n",
    "    columns = [html.escape(desc[0]) for desc in cursor.description]\n",
    "\n",
    "    # process data\n",
    "    processed_rows = []\n",
    "    for row in results:\n",
    "        processed = []\n",
    "        for val in row:\n",
    "            if val is None:\n",
    "                processed.append(\"None\")\n",
    "                continue\n",
    "\n",
    "            processed.append(html.escape(str(val)))\n",
    "\n",
    "        processed_rows.append(processed)\n",
    "\n",
    "    # use html to display results\n",
    "    html_table = f\"\"\"\n",
    "    <table border=\"1\" cellpadding=\"5\" style=\"border-collapse: collapse; font-family: monospace;\">\n",
    "        <tr>{''.join(f'<th style=\"text-align: left\">{col}</th>' for col in columns)}</tr>\n",
    "        {''.join(f\"<tr>{''.join(f'<td style=\"text-align: left\">{cell}</td>' for cell in row)}</tr>\" for row in processed_rows)}\n",
    "    </table>\n",
    "    \"\"\"\n",
    "\n",
    "    from IPython.display import display, HTML\n",
    "    display(HTML(html_table))"
   ],
   "id": "c3b697dd92e34f33",
   "outputs": [],
   "execution_count": 8
  },
  {
   "metadata": {},
   "cell_type": "markdown",
   "source": "<p><b>Problem 1</b> Find the total number of crimes recorded in the <code>crime</code> table.</p>",
   "id": "1320440a9581aee2"
  },
  {
   "metadata": {
    "ExecuteTime": {
     "end_time": "2025-08-11T02:30:24.341819Z",
     "start_time": "2025-08-11T02:30:24.336341Z"
    }
   },
   "cell_type": "code",
   "source": [
    "statement = \"SELECT COUNT(*) FROM chicago_crime_data;\"\n",
    "sql_query_and_display(statement, cur)"
   ],
   "id": "f26a3f65144f3c68",
   "outputs": [
    {
     "data": {
      "text/plain": [
       "<IPython.core.display.HTML object>"
      ],
      "text/html": [
       "\n",
       "    <table border=\"1\" cellpadding=\"5\" style=\"border-collapse: collapse; font-family: monospace;\">\n",
       "        <tr><th style=\"text-align: left\">COUNT(*)</th></tr>\n",
       "        <tr><td style=\"text-align: left\">533</td></tr>\n",
       "    </table>\n",
       "    "
      ]
     },
     "metadata": {},
     "output_type": "display_data"
    }
   ],
   "execution_count": 9
  },
  {
   "metadata": {},
   "cell_type": "markdown",
   "source": "<p><b>Problem 2</b> List community area names and numbers with per capita income less than 11000.</p>",
   "id": "45ce3ce8712cae54"
  },
  {
   "metadata": {
    "ExecuteTime": {
     "end_time": "2025-08-11T02:30:24.357604Z",
     "start_time": "2025-08-11T02:30:24.352566Z"
    }
   },
   "cell_type": "code",
   "source": [
    "statement = \"\"\"\n",
    "SELECT COMMUNITY_AREA_NUMBER, COMMUNITY_AREA_NAME\n",
    "FROM chicago_census_data\n",
    "WHERE PER_CAPITA_INCOME < 11000;\n",
    "\"\"\"\n",
    "sql_query_and_display(statement, cur)"
   ],
   "id": "4eaab51f10bc0c08",
   "outputs": [
    {
     "data": {
      "text/plain": [
       "<IPython.core.display.HTML object>"
      ],
      "text/html": [
       "\n",
       "    <table border=\"1\" cellpadding=\"5\" style=\"border-collapse: collapse; font-family: monospace;\">\n",
       "        <tr><th style=\"text-align: left\">COMMUNITY_AREA_NUMBER</th><th style=\"text-align: left\">COMMUNITY_AREA_NAME</th></tr>\n",
       "        <tr><td style=\"text-align: left\">26.0</td><td style=\"text-align: left\">West Garfield Park</td></tr><tr><td style=\"text-align: left\">30.0</td><td style=\"text-align: left\">South Lawndale</td></tr><tr><td style=\"text-align: left\">37.0</td><td style=\"text-align: left\">Fuller Park</td></tr><tr><td style=\"text-align: left\">54.0</td><td style=\"text-align: left\">Riverdale</td></tr>\n",
       "    </table>\n",
       "    "
      ]
     },
     "metadata": {},
     "output_type": "display_data"
    }
   ],
   "execution_count": 10
  },
  {
   "metadata": {},
   "cell_type": "markdown",
   "source": "<p><b>Problem 3</b> List all case numbers for crimes involving minors. (Children are not considered minors for the purposes of crime analysis)</p>",
   "id": "66955990f3d1d32c"
  },
  {
   "metadata": {
    "ExecuteTime": {
     "end_time": "2025-08-11T02:30:24.430844Z",
     "start_time": "2025-08-11T02:30:24.425958Z"
    }
   },
   "cell_type": "code",
   "source": [
    "statement = \"\"\"\n",
    "SELECT CASE_NUMBER, PRIMARY_TYPE, DESCRIPTION\n",
    "FROM chicago_crime_data\n",
    "WHERE UPPER(PRIMARY_TYPE) LIKE '%MINOR%' OR UPPER(DESCRIPTION) LIKE '%MINOR%';\n",
    "\"\"\"\n",
    "sql_query_and_display(statement, cur)"
   ],
   "id": "4aec520b87883f74",
   "outputs": [
    {
     "data": {
      "text/plain": [
       "<IPython.core.display.HTML object>"
      ],
      "text/html": [
       "\n",
       "    <table border=\"1\" cellpadding=\"5\" style=\"border-collapse: collapse; font-family: monospace;\">\n",
       "        <tr><th style=\"text-align: left\">CASE_NUMBER</th><th style=\"text-align: left\">PRIMARY_TYPE</th><th style=\"text-align: left\">DESCRIPTION</th></tr>\n",
       "        <tr><td style=\"text-align: left\">HL266884</td><td style=\"text-align: left\">LIQUOR LAW VIOLATION</td><td style=\"text-align: left\">SELL/GIVE/DEL LIQUOR TO MINOR</td></tr><tr><td style=\"text-align: left\">HK238408</td><td style=\"text-align: left\">LIQUOR LAW VIOLATION</td><td style=\"text-align: left\">ILLEGAL CONSUMPTION BY MINOR</td></tr>\n",
       "    </table>\n",
       "    "
      ]
     },
     "metadata": {},
     "output_type": "display_data"
    }
   ],
   "execution_count": 11
  },
  {
   "metadata": {},
   "cell_type": "markdown",
   "source": "<p><b>Problem 4</b> List all kidnapping crimes involving a child.</p>",
   "id": "16cdcdbd8caa8645"
  },
  {
   "metadata": {
    "ExecuteTime": {
     "end_time": "2025-08-11T02:30:24.478140Z",
     "start_time": "2025-08-11T02:30:24.472940Z"
    }
   },
   "cell_type": "code",
   "source": [
    "statement = \"\"\"\n",
    "SELECT *\n",
    "FROM chicago_crime_data\n",
    "WHERE UPPER(PRIMARY_TYPE) = 'KIDNAPPING' AND UPPER(DESCRIPTION) LIKE '%CHILD%';\n",
    "\"\"\"\n",
    "sql_query_and_display(statement, cur)"
   ],
   "id": "625261f809938276",
   "outputs": [
    {
     "data": {
      "text/plain": [
       "<IPython.core.display.HTML object>"
      ],
      "text/html": [
       "\n",
       "    <table border=\"1\" cellpadding=\"5\" style=\"border-collapse: collapse; font-family: monospace;\">\n",
       "        <tr><th style=\"text-align: left\">ID</th><th style=\"text-align: left\">CASE_NUMBER</th><th style=\"text-align: left\">DATE</th><th style=\"text-align: left\">BLOCK</th><th style=\"text-align: left\">IUCR</th><th style=\"text-align: left\">PRIMARY_TYPE</th><th style=\"text-align: left\">DESCRIPTION</th><th style=\"text-align: left\">LOCATION_DESCRIPTION</th><th style=\"text-align: left\">ARREST</th><th style=\"text-align: left\">DOMESTIC</th><th style=\"text-align: left\">BEAT</th><th style=\"text-align: left\">DISTRICT</th><th style=\"text-align: left\">WARD</th><th style=\"text-align: left\">COMMUNITY_AREA_NUMBER</th><th style=\"text-align: left\">FBICODE</th><th style=\"text-align: left\">X_COORDINATE</th><th style=\"text-align: left\">Y_COORDINATE</th><th style=\"text-align: left\">YEAR</th><th style=\"text-align: left\">LATITUDE</th><th style=\"text-align: left\">LONGITUDE</th><th style=\"text-align: left\">LOCATION</th></tr>\n",
       "        <tr><td style=\"text-align: left\">5276766</td><td style=\"text-align: left\">HN144152</td><td style=\"text-align: left\">2007-01-26</td><td style=\"text-align: left\">050XX W VAN BUREN ST</td><td style=\"text-align: left\">1792</td><td style=\"text-align: left\">KIDNAPPING</td><td style=\"text-align: left\">CHILD ABDUCTION/STRANGER</td><td style=\"text-align: left\">STREET</td><td style=\"text-align: left\">0</td><td style=\"text-align: left\">0</td><td style=\"text-align: left\">1533</td><td style=\"text-align: left\">15</td><td style=\"text-align: left\">29.0</td><td style=\"text-align: left\">25.0</td><td style=\"text-align: left\">20</td><td style=\"text-align: left\">1143050.0</td><td style=\"text-align: left\">1897546.0</td><td style=\"text-align: left\">2007</td><td style=\"text-align: left\">41.87490841</td><td style=\"text-align: left\">-87.75024931</td><td style=\"text-align: left\">(41.874908413, -87.750249307)</td></tr>\n",
       "    </table>\n",
       "    "
      ]
     },
     "metadata": {},
     "output_type": "display_data"
    }
   ],
   "execution_count": 12
  },
  {
   "metadata": {},
   "cell_type": "markdown",
   "source": "<p><b>Problem 5</b> List the kind of crimes that were recorded at schools. (No repetitions)</p>",
   "id": "1c9969c9c28e1ff8"
  },
  {
   "metadata": {
    "ExecuteTime": {
     "end_time": "2025-08-11T02:30:24.499364Z",
     "start_time": "2025-08-11T02:30:24.493902Z"
    }
   },
   "cell_type": "code",
   "source": [
    "statement = \"\"\"\n",
    "SELECT DISTINCT PRIMARY_TYPE\n",
    "FROM chicago_crime_data\n",
    "WHERE UPPER(LOCATION_DESCRIPTION) LIKE '%SCHOOL%';\n",
    "\"\"\"\n",
    "sql_query_and_display(statement, cur)"
   ],
   "id": "6697275249ba3607",
   "outputs": [
    {
     "data": {
      "text/plain": [
       "<IPython.core.display.HTML object>"
      ],
      "text/html": [
       "\n",
       "    <table border=\"1\" cellpadding=\"5\" style=\"border-collapse: collapse; font-family: monospace;\">\n",
       "        <tr><th style=\"text-align: left\">PRIMARY_TYPE</th></tr>\n",
       "        <tr><td style=\"text-align: left\">BATTERY</td></tr><tr><td style=\"text-align: left\">CRIMINAL DAMAGE</td></tr><tr><td style=\"text-align: left\">NARCOTICS</td></tr><tr><td style=\"text-align: left\">ASSAULT</td></tr><tr><td style=\"text-align: left\">CRIMINAL TRESPASS</td></tr><tr><td style=\"text-align: left\">PUBLIC PEACE VIOLATION</td></tr>\n",
       "    </table>\n",
       "    "
      ]
     },
     "metadata": {},
     "output_type": "display_data"
    }
   ],
   "execution_count": 13
  },
  {
   "metadata": {},
   "cell_type": "markdown",
   "source": "<p><b>Problem 6</b> List the type of schools along with the average safety score for each type.</p>",
   "id": "5f117f0303c16d4d"
  },
  {
   "metadata": {
    "ExecuteTime": {
     "end_time": "2025-08-11T02:30:24.521326Z",
     "start_time": "2025-08-11T02:30:24.516Z"
    }
   },
   "cell_type": "code",
   "source": [
    "statement = \"\"\"\n",
    "SELECT\n",
    "    `Elementary, Middle, or High School` AS SCHOOL_TYPE,\n",
    "    AVG(`SAFETY_SCORE`) AS AVERAGE_SAFETY_SCORE\n",
    "FROM chicago_public_schools\n",
    "GROUP BY SCHOOL_TYPE;\n",
    "\"\"\"\n",
    "sql_query_and_display(statement, cur)"
   ],
   "id": "9acb5f36f99348f6",
   "outputs": [
    {
     "data": {
      "text/plain": [
       "<IPython.core.display.HTML object>"
      ],
      "text/html": [
       "\n",
       "    <table border=\"1\" cellpadding=\"5\" style=\"border-collapse: collapse; font-family: monospace;\">\n",
       "        <tr><th style=\"text-align: left\">SCHOOL_TYPE</th><th style=\"text-align: left\">AVERAGE_SAFETY_SCORE</th></tr>\n",
       "        <tr><td style=\"text-align: left\">ES</td><td style=\"text-align: left\">49.52038369304557</td></tr><tr><td style=\"text-align: left\">HS</td><td style=\"text-align: left\">49.62352941176471</td></tr><tr><td style=\"text-align: left\">MS</td><td style=\"text-align: left\">48.0</td></tr>\n",
       "    </table>\n",
       "    "
      ]
     },
     "metadata": {},
     "output_type": "display_data"
    }
   ],
   "execution_count": 14
  },
  {
   "metadata": {},
   "cell_type": "markdown",
   "source": "<p><b>Problem 7</b> List 5 community areas with highest percentage of households below proverty line.</p>",
   "id": "70e0e53d3a957c5c"
  },
  {
   "metadata": {
    "ExecuteTime": {
     "end_time": "2025-08-11T02:30:24.540150Z",
     "start_time": "2025-08-11T02:30:24.533699Z"
    }
   },
   "cell_type": "code",
   "source": [
    "statement = \"\"\"\n",
    "SELECT\n",
    "    COMMUNITY_AREA_NUMBER, COMMUNITY_AREA_NAME, PERCENT_HOUSEHOLDS_BELOW_POVERTY\n",
    "FROM chicago_census_data\n",
    "ORDER BY PERCENT_HOUSEHOLDS_BELOW_POVERTY DESC NULLS LAST LIMIT 5;\n",
    "\"\"\"\n",
    "sql_query_and_display(statement, cur)"
   ],
   "id": "ee39252ef31c40ca",
   "outputs": [
    {
     "data": {
      "text/plain": [
       "<IPython.core.display.HTML object>"
      ],
      "text/html": [
       "\n",
       "    <table border=\"1\" cellpadding=\"5\" style=\"border-collapse: collapse; font-family: monospace;\">\n",
       "        <tr><th style=\"text-align: left\">COMMUNITY_AREA_NUMBER</th><th style=\"text-align: left\">COMMUNITY_AREA_NAME</th><th style=\"text-align: left\">PERCENT_HOUSEHOLDS_BELOW_POVERTY</th></tr>\n",
       "        <tr><td style=\"text-align: left\">54.0</td><td style=\"text-align: left\">Riverdale</td><td style=\"text-align: left\">56.5</td></tr><tr><td style=\"text-align: left\">37.0</td><td style=\"text-align: left\">Fuller Park</td><td style=\"text-align: left\">51.2</td></tr><tr><td style=\"text-align: left\">68.0</td><td style=\"text-align: left\">Englewood</td><td style=\"text-align: left\">46.6</td></tr><tr><td style=\"text-align: left\">29.0</td><td style=\"text-align: left\">North Lawndale</td><td style=\"text-align: left\">43.1</td></tr><tr><td style=\"text-align: left\">27.0</td><td style=\"text-align: left\">East Garfield Park</td><td style=\"text-align: left\">42.4</td></tr>\n",
       "    </table>\n",
       "    "
      ]
     },
     "metadata": {},
     "output_type": "display_data"
    }
   ],
   "execution_count": 15
  },
  {
   "metadata": {},
   "cell_type": "markdown",
   "source": "<p><b>Problem 8</b> Which community area is most crime prone? Display the community area number only.</p>",
   "id": "6ab661150214788"
  },
  {
   "metadata": {
    "ExecuteTime": {
     "end_time": "2025-08-11T02:30:24.557675Z",
     "start_time": "2025-08-11T02:30:24.552275Z"
    }
   },
   "cell_type": "code",
   "source": [
    "statement = \"\"\"\n",
    "SELECT COMMUNITY_AREA_NUMBER\n",
    "FROM chicago_crime_data\n",
    "GROUP BY COMMUNITY_AREA_NUMBER\n",
    "ORDER BY COUNT(*) DESC LIMIT 1;\n",
    "\"\"\"\n",
    "sql_query_and_display(statement, cur)"
   ],
   "id": "d9afb12e593d9fa2",
   "outputs": [
    {
     "data": {
      "text/plain": [
       "<IPython.core.display.HTML object>"
      ],
      "text/html": [
       "\n",
       "    <table border=\"1\" cellpadding=\"5\" style=\"border-collapse: collapse; font-family: monospace;\">\n",
       "        <tr><th style=\"text-align: left\">COMMUNITY_AREA_NUMBER</th></tr>\n",
       "        <tr><td style=\"text-align: left\">25.0</td></tr>\n",
       "    </table>\n",
       "    "
      ]
     },
     "metadata": {},
     "output_type": "display_data"
    }
   ],
   "execution_count": 16
  },
  {
   "metadata": {},
   "cell_type": "markdown",
   "source": "<p><b>Problem 9</b> Use a sub-query to find the name of the community area with highest hardship index.</p>",
   "id": "8166beeb049c12"
  },
  {
   "metadata": {
    "ExecuteTime": {
     "end_time": "2025-08-11T02:30:24.574790Z",
     "start_time": "2025-08-11T02:30:24.569472Z"
    }
   },
   "cell_type": "code",
   "source": [
    "statement = \"\"\"\n",
    "SELECT COMMUNITY_AREA_NAME, HARDSHIP_INDEX\n",
    "FROM chicago_census_data\n",
    "WHERE HARDSHIP_INDEX IN (\n",
    "    SELECT MAX(HARDSHIP_INDEX)\n",
    "    FROM chicago_census_data\n",
    ");\n",
    "\"\"\"\n",
    "sql_query_and_display(statement, cur)"
   ],
   "id": "10e989a7cb94d13d",
   "outputs": [
    {
     "data": {
      "text/plain": [
       "<IPython.core.display.HTML object>"
      ],
      "text/html": [
       "\n",
       "    <table border=\"1\" cellpadding=\"5\" style=\"border-collapse: collapse; font-family: monospace;\">\n",
       "        <tr><th style=\"text-align: left\">COMMUNITY_AREA_NAME</th><th style=\"text-align: left\">HARDSHIP_INDEX</th></tr>\n",
       "        <tr><td style=\"text-align: left\">Riverdale</td><td style=\"text-align: left\">98.0</td></tr>\n",
       "    </table>\n",
       "    "
      ]
     },
     "metadata": {},
     "output_type": "display_data"
    }
   ],
   "execution_count": 17
  },
  {
   "metadata": {},
   "cell_type": "markdown",
   "source": "<p><b>Problem 10</b> Use a sub-query to determine the community area name with most number of crimes.</p>",
   "id": "e4d7f9677a7e2a9f"
  },
  {
   "metadata": {
    "ExecuteTime": {
     "end_time": "2025-08-11T02:30:24.593788Z",
     "start_time": "2025-08-11T02:30:24.587674Z"
    }
   },
   "cell_type": "code",
   "source": [
    "statement = \"\"\"\n",
    "SELECT COMMUNITY_AREA_NAME\n",
    "FROM chicago_census_data\n",
    "WHERE COMMUNITY_AREA_NUMBER = (\n",
    "    SELECT COMMUNITY_AREA_NUMBER\n",
    "    FROM chicago_crime_data\n",
    "    GROUP BY COMMUNITY_AREA_NUMBER\n",
    "    ORDER BY COUNT(*) DESC LIMIT 1\n",
    ");\n",
    "\"\"\"\n",
    "sql_query_and_display(statement, cur)"
   ],
   "id": "ac9abff48ffbe76d",
   "outputs": [
    {
     "data": {
      "text/plain": [
       "<IPython.core.display.HTML object>"
      ],
      "text/html": [
       "\n",
       "    <table border=\"1\" cellpadding=\"5\" style=\"border-collapse: collapse; font-family: monospace;\">\n",
       "        <tr><th style=\"text-align: left\">COMMUNITY_AREA_NAME</th></tr>\n",
       "        <tr><td style=\"text-align: left\">Austin</td></tr>\n",
       "    </table>\n",
       "    "
      ]
     },
     "metadata": {},
     "output_type": "display_data"
    }
   ],
   "execution_count": 18
  },
  {
   "metadata": {
    "ExecuteTime": {
     "end_time": "2025-08-11T02:30:24.611238Z",
     "start_time": "2025-08-11T02:30:24.606510Z"
    }
   },
   "cell_type": "code",
   "source": "con.close()",
   "id": "6248fd8fe14b5de7",
   "outputs": [],
   "execution_count": 19
  },
  {
   "metadata": {},
   "cell_type": "markdown",
   "source": [
    "****\n",
    "This is the end of the file.\n",
    "****"
   ],
   "id": "8769289683ec6be4"
  }
 ],
 "metadata": {
  "kernelspec": {
   "display_name": "Python 3",
   "language": "python",
   "name": "python3"
  },
  "language_info": {
   "codemirror_mode": {
    "name": "ipython",
    "version": 2
   },
   "file_extension": ".py",
   "mimetype": "text/x-python",
   "name": "python",
   "nbconvert_exporter": "python",
   "pygments_lexer": "ipython2",
   "version": "2.7.6"
  }
 },
 "nbformat": 4,
 "nbformat_minor": 5
}
