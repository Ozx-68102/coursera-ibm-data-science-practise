{
 "cells": [
  {
   "metadata": {},
   "cell_type": "markdown",
   "source": "## Selected Socioeconomic Indicators in Chicago",
   "id": "aac089072891cd10"
  },
  {
   "metadata": {},
   "cell_type": "markdown",
   "source": [
    "<p>The city of Chicago released a dataset of socioeconomic data to the Chicago City Portal.</p>\n",
    "<p>This dataset contains a selection of six socioeconomic indicators of public health significance and a \"hardship index\", for each Chicago community area, for the years 2008 – 2012.</p>\n",
    "<p>Scores on the hardship index can range from 1 to 100, with a higher index number representing a greater level of hardship.</p>\n",
    "<p>A detailed description of the dataset can be found on <a href=\"https://data.cityofchicago.org/Health-Human-Services/Census-Data-Selected-socioeconomic-indicators-in-C/kn9c-c2s2/about_data\">the city of Chicago's website</a>, but to summarize, the dataset has the following variables:</p>\n",
    "<ul>\n",
    "    <li><b>Community Area Number</b>(<code>ca</code>): Used to uniquely identify each row of the dataset.</li>\n",
    "    <li><b>Community Area Name</b>(<code>community_area_name</code>): The name of the region in the city of Chicago.</li>\n",
    "    <li><b>Percent of Housing Crowded</b>(<code>percent_of_housing_crowded</code>): Percent of occupied housing units with more than one person per room.</li>\n",
    "    <li><b>Percent Households Below Poverty</b>(<code>percent_households_below_poverty</code>): Percent of households living below the federal poverty line.</li>\n",
    "    <li><b>Percent Aged 16+ Unemployed</b>(<code>percent_aged_16_unemployed</code>): Percent of persons over the age of 16 years that are unemployed.</li>\n",
    "    <li><b>Percent Aged 25+ without High School Diploma</b>(<code>percent_aged_25_without_high_school_diploma</code>): Percent of persons over the age of 25 years without a high school education.</li>\n",
    "    <li><b>Percent Aged Under 18 or Over 64</b>(<code>percent_aged_under_18_or_over_64</code>): Percent of population under 18 or over 64 years of age. (i.e. dependents)</li>\n",
    "    <li><b>Per Capita Income</b>(<code>per_capita_income_</code>): Community Area per capita income is estimated as the sum of tract-level aggregate incomes divided by the total population.</li>\n",
    "    <li><b>Hardship Index</b>(<code>hardship_index</code>): Score that incorporates each of the six selected socioeconomic indicators.</li>\n",
    "</ul>\n",
    "<p>In this Lab, we'll take a look at the variables in the socioeconomic indicators dataset and do some basic analysis with Python.</p>"
   ],
   "id": "260720267a051fc8"
  },
  {
   "metadata": {},
   "cell_type": "markdown",
   "source": "## Connect to the database",
   "id": "b9eb183a2be8f3b8"
  },
  {
   "metadata": {
    "ExecuteTime": {
     "end_time": "2025-08-08T16:55:07.360536Z",
     "start_time": "2025-08-08T16:55:07.357465Z"
    }
   },
   "cell_type": "code",
   "source": [
    "import seaborn as sns\n",
    "import sqlite3\n",
    "import os\n",
    "\n",
    "dir_path = os.path.join(\".\", \"data\")\n",
    "db_name = os.path.join(dir_path, \"socioeconomic.db\")"
   ],
   "id": "b00fae287be9bd70",
   "outputs": [],
   "execution_count": 1
  },
  {
   "metadata": {
    "ExecuteTime": {
     "end_time": "2025-08-08T16:55:07.373813Z",
     "start_time": "2025-08-08T16:55:07.364855Z"
    }
   },
   "cell_type": "code",
   "source": [
    "con = sqlite3.connect(db_name)\n",
    "cur = con.cursor()"
   ],
   "id": "e9100eee577e7a4c",
   "outputs": [],
   "execution_count": 2
  },
  {
   "metadata": {},
   "cell_type": "markdown",
   "source": "## Store the dataset in a Table",
   "id": "f0e95bba748a0988"
  },
  {
   "metadata": {},
   "cell_type": "markdown",
   "source": [
    "<p>In many cases the dataset to be analyzed is available as a .CSV (comma separated values) file, perhaps on the internet. To analyze the data using SQL, it first needs to be stored in the database.</p>\n",
    "<p>We will first read the csv files from the given url into pandas dataframes.</p>\n",
    "<p>Next we will be using the <code>df.to_sql()</code> function to convert each csv file to a table in sqlite with the csv data loaded in it.</p>"
   ],
   "id": "286c29eb93235639"
  },
  {
   "metadata": {
    "ExecuteTime": {
     "end_time": "2025-08-08T16:55:07.381350Z",
     "start_time": "2025-08-08T16:55:07.379309Z"
    }
   },
   "cell_type": "code",
   "source": "import pandas as pd",
   "id": "ec2e8337cf913a7f",
   "outputs": [],
   "execution_count": 3
  },
  {
   "metadata": {
    "ExecuteTime": {
     "end_time": "2025-08-08T16:55:09.765314Z",
     "start_time": "2025-08-08T16:55:07.387515Z"
    }
   },
   "cell_type": "code",
   "source": [
    "url = \"https://data.cityofchicago.org/resource/jcxq-k9xf.csv\"\n",
    "df = pd.read_csv(url)\n",
    "df.to_sql(\"chicago_socioeconomic_data\", con=con, if_exists=\"replace\", index=False, method=\"multi\")"
   ],
   "id": "ebbcfb9ea7194c47",
   "outputs": [
    {
     "data": {
      "text/plain": [
       "78"
      ]
     },
     "execution_count": 4,
     "metadata": {},
     "output_type": "execute_result"
    }
   ],
   "execution_count": 4
  },
  {
   "metadata": {},
   "cell_type": "markdown",
   "source": "<p>You can verify that the table creation was successful by making a query like:</p>",
   "id": "224602bc6c3ead9f"
  },
  {
   "metadata": {
    "ExecuteTime": {
     "end_time": "2025-08-08T16:55:09.830283Z",
     "start_time": "2025-08-08T16:55:09.826520Z"
    }
   },
   "cell_type": "code",
   "source": [
    "cur.execute(\"SELECT * FROM chicago_socioeconomic_data LIMIT 5;\")\n",
    "cur.fetchall()"
   ],
   "id": "bdbfcfb0549fb4e3",
   "outputs": [
    {
     "data": {
      "text/plain": [
       "[(1.0, 'Rogers Park', 7.7, 23.6, 8.7, 18.2, 27.5, 23939, 39.0),\n",
       " (2.0, 'West Ridge', 7.8, 17.2, 8.8, 20.8, 38.5, 23040, 46.0),\n",
       " (3.0, 'Uptown', 3.8, 24.0, 8.9, 11.8, 22.2, 35787, 20.0),\n",
       " (4.0, 'Lincoln Square', 3.4, 10.9, 8.2, 13.4, 25.5, 37524, 17.0),\n",
       " (5.0, 'North Center', 0.3, 7.5, 5.2, 4.5, 26.2, 57123, 6.0)]"
      ]
     },
     "execution_count": 5,
     "metadata": {},
     "output_type": "execute_result"
    }
   ],
   "execution_count": 5
  },
  {
   "metadata": {},
   "cell_type": "markdown",
   "source": "## Problems",
   "id": "5622fdb35a56cc5e"
  },
  {
   "metadata": {},
   "cell_type": "markdown",
   "source": "<p><b>Problem 1</b> How many rows are in the dataset?</p>",
   "id": "ed9c3d4a197c51de"
  },
  {
   "metadata": {
    "ExecuteTime": {
     "end_time": "2025-08-08T16:55:09.850243Z",
     "start_time": "2025-08-08T16:55:09.846493Z"
    }
   },
   "cell_type": "code",
   "source": [
    "cur.execute(\"SELECT COUNT(*) FROM chicago_socioeconomic_data;\")\n",
    "cur.fetchall()[0][0]"
   ],
   "id": "b8386914c84d624d",
   "outputs": [
    {
     "data": {
      "text/plain": [
       "78"
      ]
     },
     "execution_count": 6,
     "metadata": {},
     "output_type": "execute_result"
    }
   ],
   "execution_count": 6
  },
  {
   "metadata": {},
   "cell_type": "markdown",
   "source": "<p><b>Problem 2</b> How many community areas in Chicago have a hardship index greater than 50.0?</p>",
   "id": "72d9d637c6c16c5e"
  },
  {
   "metadata": {
    "ExecuteTime": {
     "end_time": "2025-08-08T16:55:09.875666Z",
     "start_time": "2025-08-08T16:55:09.872195Z"
    }
   },
   "cell_type": "code",
   "source": [
    "cur.execute(\"SELECT COUNT(*) FROM chicago_socioeconomic_data WHERE hardship_index > 50.0;\")\n",
    "cur.fetchall()[0][0]"
   ],
   "id": "d68fd534dc9deca2",
   "outputs": [
    {
     "data": {
      "text/plain": [
       "38"
      ]
     },
     "execution_count": 7,
     "metadata": {},
     "output_type": "execute_result"
    }
   ],
   "execution_count": 7
  },
  {
   "metadata": {},
   "cell_type": "markdown",
   "source": "<p><b>Problem 3</b> What is the maximum value of hardship index in this dataset?</p>",
   "id": "b389d13348a926e6"
  },
  {
   "metadata": {
    "ExecuteTime": {
     "end_time": "2025-08-08T16:55:09.894502Z",
     "start_time": "2025-08-08T16:55:09.890641Z"
    }
   },
   "cell_type": "code",
   "source": [
    "cur.execute(\"SELECT MAX(hardship_index) FROM chicago_socioeconomic_data;\")\n",
    "cur.fetchall()[0][0]"
   ],
   "id": "297877f4d34950de",
   "outputs": [
    {
     "data": {
      "text/plain": [
       "98.0"
      ]
     },
     "execution_count": 8,
     "metadata": {},
     "output_type": "execute_result"
    }
   ],
   "execution_count": 8
  },
  {
   "metadata": {},
   "cell_type": "markdown",
   "source": "<p><b>Problem 4</b> Which community area has the highest hardship index?</p>",
   "id": "87df87e5dfc3a079"
  },
  {
   "metadata": {
    "ExecuteTime": {
     "end_time": "2025-08-08T16:55:09.912729Z",
     "start_time": "2025-08-08T16:55:09.909185Z"
    }
   },
   "cell_type": "code",
   "source": [
    "statement = \"\"\"\n",
    "SELECT community_area_name\n",
    "FROM chicago_socioeconomic_data\n",
    "WHERE hardship_index = (\n",
    "    SELECT MAX(hardship_index) FROM chicago_socioeconomic_data\n",
    ");\n",
    "\"\"\"\n",
    "cur.execute(statement)\n",
    "cur.fetchall()[0][0]"
   ],
   "id": "106c5261c012c515",
   "outputs": [
    {
     "data": {
      "text/plain": [
       "'Riverdale'"
      ]
     },
     "execution_count": 9,
     "metadata": {},
     "output_type": "execute_result"
    }
   ],
   "execution_count": 9
  },
  {
   "metadata": {},
   "cell_type": "markdown",
   "source": "<p><b>Problem 5</b> Which Chicago community areas have per-capita incomes greater than $60,000?</p>",
   "id": "f4070b0c670fe8df"
  },
  {
   "metadata": {
    "ExecuteTime": {
     "end_time": "2025-08-08T16:55:09.931866Z",
     "start_time": "2025-08-08T16:55:09.928720Z"
    }
   },
   "cell_type": "code",
   "source": [
    "cur.execute(\"SELECT community_area_name FROM chicago_socioeconomic_data WHERE per_capita_income_ > 60000;\")\n",
    "\n",
    "for row in cur.fetchall():\n",
    "    for name in row:\n",
    "        print(name)"
   ],
   "id": "47db20bb5b89a16e",
   "outputs": [
    {
     "name": "stdout",
     "output_type": "stream",
     "text": [
      "Lake View\n",
      "Lincoln Park\n",
      "Near North Side\n",
      "Loop\n"
     ]
    }
   ],
   "execution_count": 10
  },
  {
   "metadata": {},
   "cell_type": "markdown",
   "source": "<p><b>Problem 6</b> Create a scatter plot using the variables <code>per_capita_income_</code> and <code>hardship_index</code>. Explain the correlation between the two variables.</p>",
   "id": "2cfda1ecf95f658e"
  },
  {
   "metadata": {
    "ExecuteTime": {
     "end_time": "2025-08-08T16:55:10.220292Z",
     "start_time": "2025-08-08T16:55:09.954883Z"
    }
   },
   "cell_type": "code",
   "source": [
    "cur.execute(\"SELECT per_capita_income_, hardship_index FROM chicago_socioeconomic_data;\")\n",
    "\n",
    "columns = [\"per_capita_income\", \"hardship_index\"]\n",
    "\n",
    "income_vs_hardship = pd.DataFrame(cur.fetchall(), columns=columns)\n",
    "plot = sns.barplot(x=columns[0], y=columns[1], data=income_vs_hardship)"
   ],
   "id": "44706075927f4f4c",
   "outputs": [
    {
     "data": {
      "text/plain": [
       "<Figure size 640x480 with 1 Axes>"
      ],
      "image/png": "[encoded data removed]"
     },
     "metadata": {},
     "output_type": "display_data"
    }
   ],
   "execution_count": 11
  },
  {
   "metadata": {
    "ExecuteTime": {
     "end_time": "2025-08-08T16:55:10.228711Z",
     "start_time": "2025-08-08T16:55:10.226281Z"
    }
   },
   "cell_type": "code",
   "source": "con.close()",
   "id": "b68fc4013c5379cf",
   "outputs": [],
   "execution_count": 12
  },
  {
   "metadata": {},
   "cell_type": "markdown",
   "source": [
    "****\n",
    "This is the end of the file.\n",
    "****"
   ],
   "id": "fef56bf06ebdadd0"
  }
 ],
 "metadata": {
  "kernelspec": {
   "display_name": "Python 3",
   "language": "python",
   "name": "python3"
  },
  "language_info": {
   "codemirror_mode": {
    "name": "ipython",
    "version": 2
   },
   "file_extension": ".py",
   "mimetype": "text/x-python",
   "name": "python",
   "nbconvert_exporter": "python",
   "pygments_lexer": "ipython2",
   "version": "2.7.6"
  }
 },
 "nbformat": 4,
 "nbformat_minor": 5
}
