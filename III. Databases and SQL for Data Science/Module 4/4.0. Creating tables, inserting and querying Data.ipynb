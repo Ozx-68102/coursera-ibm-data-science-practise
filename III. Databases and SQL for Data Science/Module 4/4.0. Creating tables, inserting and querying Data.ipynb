{
 "cells": [
  {
   "metadata": {},
   "cell_type": "markdown",
   "source": "# Create and Access SQLite database using Python",
   "id": "ab29172c243feac"
  },
  {
   "metadata": {},
   "cell_type": "markdown",
   "source": "<p>SQLite is a software library that implements a self-contained, serverless, zero-configuration, transactional SQL database engine. SQLite is the most widely deployed SQL database engine in the world.</p>",
   "id": "b5defe9a7d118d2e"
  },
  {
   "metadata": {
    "ExecuteTime": {
     "end_time": "2025-08-07T16:23:25.150927Z",
     "start_time": "2025-08-07T16:23:25.146373Z"
    }
   },
   "cell_type": "code",
   "source": [
    "import sqlite3\n",
    "import os"
   ],
   "id": "7d1b78cadb6da4e9",
   "outputs": [],
   "execution_count": 1
  },
  {
   "metadata": {},
   "cell_type": "markdown",
   "source": "## Task 1: Create database using SQLite",
   "id": "83b25a4011939ba5"
  },
  {
   "metadata": {
    "ExecuteTime": {
     "end_time": "2025-08-07T16:23:25.161040Z",
     "start_time": "2025-08-07T16:23:25.156071Z"
    }
   },
   "cell_type": "code",
   "source": [
    "dir_path = os.path.join(\".\", \"data\")\n",
    "db_name = os.path.join(dir_path, \"example.db\")\n",
    "\n",
    "conn = sqlite3.connect(db_name)"
   ],
   "id": "8df98bf7f46cc45c",
   "outputs": [],
   "execution_count": 2
  },
  {
   "metadata": {},
   "cell_type": "markdown",
   "source": "<p>Cursor class is an instance using which you can invoke methods that execute SQLite statements, fetch data from the result sets of the queries. You can create Cursor object using the cursor() method of the Connection object/class.</p>",
   "id": "526546732cfed62a"
  },
  {
   "metadata": {
    "ExecuteTime": {
     "end_time": "2025-08-07T16:23:25.170767Z",
     "start_time": "2025-08-07T16:23:25.167568Z"
    }
   },
   "cell_type": "code",
   "source": "curser_obj = conn.cursor()",
   "id": "e6f78e7e9d6ce9a",
   "outputs": [],
   "execution_count": 3
  },
  {
   "metadata": {},
   "cell_type": "markdown",
   "source": "## Task 2: Create a table in the database",
   "id": "4ee645a90d14155c"
  },
  {
   "metadata": {},
   "cell_type": "markdown",
   "source": [
    "<p>In this step we will create a table in the database with following details:</p>\n",
    "\n",
    "<table style=\"border-collapse: collapse; border: 1px solid; text-align: center;\">\n",
    "    <thead>\n",
    "    <tr>\n",
    "        <th style=\"border: 1px solid; text-align: center;\">COLUMN NAME</th>\n",
    "        <th style=\"border: 1px solid; text-align: center;\">DATA TYPE</th>\n",
    "        <th style=\"border: 1px solid; text-align: center;\">NULLABLE</th>\n",
    "    </tr>\n",
    "    </thead>\n",
    "    <tbody>\n",
    "    <tr>\n",
    "        <td style=\"border: 1px solid; text-align: center;\">ID</td>\n",
    "        <td style=\"border: 1px solid; text-align: center;\">INTEGER</td>\n",
    "        <td style=\"border: 1px solid; text-align: center;\">N</td>\n",
    "    </tr>\n",
    "    <tr>\n",
    "        <td style=\"border: 1px solid; text-align: center;\">FNAME</td>\n",
    "        <td style=\"border: 1px solid; text-align: center;\">VARCHAR</td>\n",
    "        <td style=\"border: 1px solid; text-align: center;\">Y</td>\n",
    "    </tr>\n",
    "    <tr>\n",
    "        <td style=\"border: 1px solid; text-align: center;\">LNAME</td>\n",
    "        <td style=\"border: 1px solid; text-align: center;\">VARCHAR</td>\n",
    "        <td style=\"border: 1px solid; text-align: center;\">Y</td>\n",
    "    </tr>\n",
    "    <tr>\n",
    "        <td style=\"border: 1px solid; text-align: center;\">CITY</td>\n",
    "        <td style=\"border: 1px solid; text-align: center;\">VARCHAR</td>\n",
    "        <td style=\"border: 1px solid; text-align: center;\">Y</td>\n",
    "    </tr>\n",
    "    <tr>\n",
    "        <td style=\"border: 1px solid; text-align: center;\">CCODE</td>\n",
    "        <td style=\"border: 1px solid; text-align: center;\">CHARACTER</td>\n",
    "        <td style=\"border: 1px solid; text-align: center;\">Y</td>\n",
    "    </tr>\n",
    "    </tbody>\n",
    "</table>"
   ],
   "id": "b65c3e52458e724c"
  },
  {
   "metadata": {},
   "cell_type": "markdown",
   "source": "<p>Before creating a table, let's first check if the table already exists or not. To drop the table from a database, use the <b>DROP</b> query. A cursor is an object that helps execute the query and fetch the records from the database.</p>",
   "id": "b443faa0364cda47"
  },
  {
   "metadata": {
    "ExecuteTime": {
     "end_time": "2025-08-07T16:23:25.181353Z",
     "start_time": "2025-08-07T16:23:25.176691Z"
    }
   },
   "cell_type": "code",
   "source": "curser_obj.execute(\"DROP TABLE IF EXISTS example_table\")",
   "id": "9a8ff5720b1b2d35",
   "outputs": [
    {
     "data": {
      "text/plain": [
       "<sqlite3.Cursor at 0x2093d3727c0>"
      ]
     },
     "execution_count": 4,
     "metadata": {},
     "output_type": "execute_result"
    }
   ],
   "execution_count": 4
  },
  {
   "metadata": {},
   "cell_type": "markdown",
   "source": "### Don't worry if you get this error",
   "id": "2a5794dadf392a64"
  },
  {
   "metadata": {},
   "cell_type": "markdown",
   "source": [
    "<p>If you see an exception/error similar to the following, indicating that <code>example_table</code> is an undefined name, that's okay. It just implies that the <code>example_table</code> table does not exist in the table - which would be the case if you had not created it previously.</p>\n",
    "<p><strong>Exception: SQL0204N \"example.example_table\" is an undefined name.  SQLSTATE=42704 SQLCODE=-204</strong></p>"
   ],
   "id": "9913e8ca38f64e6a"
  },
  {
   "metadata": {
    "ExecuteTime": {
     "end_time": "2025-08-07T16:23:25.214578Z",
     "start_time": "2025-08-07T16:23:25.193132Z"
    }
   },
   "cell_type": "code",
   "source": [
    "table = \"\"\"\n",
    "CREATE TABLE IF NOT EXISTS example_table (\n",
    "    ID INTEGER PRIMARY KEY NOT NULL,\n",
    "    FNAME VARCHAR(20),\n",
    "    LNAME VARCHAR(20),\n",
    "    CITY VARCHAR(20),\n",
    "    CCODE CHAR(2)\n",
    ");\n",
    "\"\"\"\n",
    "\n",
    "curser_obj.execute(table)\n",
    "\n",
    "print(\"Table is ready.\")"
   ],
   "id": "3e3110f9336540f7",
   "outputs": [
    {
     "name": "stdout",
     "output_type": "stream",
     "text": [
      "Table is ready.\n"
     ]
    }
   ],
   "execution_count": 5
  },
  {
   "metadata": {},
   "cell_type": "markdown",
   "source": "## Task 3: Insert data into the table",
   "id": "1136a6d7347f3714"
  },
  {
   "metadata": {},
   "cell_type": "markdown",
   "source": [
    "<p>In this step we will insert some rows of data into the table.</p>\n",
    "<p>The <code>example_table</code> table we created in the previous step contains 3 rows of data:</p>\n",
    "<table style=\"border-collapse: collapse; border: 1px solid; text-align: left;\">\n",
    "    <thead>\n",
    "    <tr>\n",
    "        <th style=\"border: 1px solid; text-align: left;\">ID<br /><small>INTEGER</small></th>\n",
    "        <th style=\"border: 1px solid; text-align: left;\">FNAME<br /><small>VARCHAR(20)</small></th>\n",
    "        <th style=\"border: 1px solid; text-align: left;\">LNAME<br /><small>VARCHAR(20)</small></th>\n",
    "        <th style=\"border: 1px solid; text-align: left;\">CITY<br /><small>VARCHAR(20)</small></th>\n",
    "        <th style=\"border: 1px solid; text-align: left;\">CCODE<br /><small>CHARACTER(2)</small></th>\n",
    "    </tr>\n",
    "    </thead>\n",
    "    <tbody>\n",
    "    <tr>\n",
    "        <td style=\"border: 1px solid; text-align: left;\">1</td>\n",
    "        <td style=\"border: 1px solid; text-align: left;\">Rav</td>\n",
    "        <td style=\"border: 1px solid; text-align: left;\">Ahuja</td>\n",
    "        <td style=\"border: 1px solid; text-align: left;\">TORONTO</td>\n",
    "        <td style=\"border: 1px solid; text-align: left;\">CA</td>\n",
    "    </tr>\n",
    "    <tr>\n",
    "        <td style=\"border: 1px solid; text-align: left;\">2</td>\n",
    "        <td style=\"border: 1px solid; text-align: left;\">Raul</td>\n",
    "        <td style=\"border: 1px solid; text-align: left;\">Chong</td>\n",
    "        <td style=\"border: 1px solid; text-align: left;\">Markham</td>\n",
    "        <td style=\"border: 1px solid; text-align: left;\">CA</td>\n",
    "    </tr>\n",
    "    <tr>\n",
    "        <td style=\"border: 1px solid; text-align: left;\">3</td>\n",
    "        <td style=\"border: 1px solid; text-align: left;\">Hima</td>\n",
    "        <td style=\"border: 1px solid; text-align: left;\">Vasudevan</td>\n",
    "        <td style=\"border: 1px solid; text-align: left;\">Chicago</td>\n",
    "        <td style=\"border: 1px solid; text-align: left;\">US</td>\n",
    "    </tr>\n",
    "    </tbody>\n",
    "</table>\n",
    "<p>We will start by inserting just the first row of data (i.e. for instructor Rav Ahuja)</p>"
   ],
   "id": "a76dcdd81710210"
  },
  {
   "metadata": {
    "ExecuteTime": {
     "end_time": "2025-08-07T16:23:25.223060Z",
     "start_time": "2025-08-07T16:23:25.219036Z"
    }
   },
   "cell_type": "code",
   "source": "curser_obj.execute(\"INSERT INTO example_table VALUES (1, 'Rav', 'Ahuja', 'TORONTO', 'CA');\")",
   "id": "4ca9f8a54501d7cb",
   "outputs": [
    {
     "data": {
      "text/plain": [
       "<sqlite3.Cursor at 0x2093d3727c0>"
      ]
     },
     "execution_count": 6,
     "metadata": {},
     "output_type": "execute_result"
    }
   ],
   "execution_count": 6
  },
  {
   "metadata": {},
   "cell_type": "markdown",
   "source": [
    "<p>The output you will get something like <strong>sqlite3.Cursor at 0x2093d3727c0</strong> which means mySql database has sqlite3.Cursor object at 0x2093d3727c0 as output in table. But you may get the different number.</p>\n",
    "<p>Now use a single query to insert the remaining two rows of data.</p>"
   ],
   "id": "501b0641f1ed26b1"
  },
  {
   "metadata": {
    "ExecuteTime": {
     "end_time": "2025-08-07T16:23:25.237887Z",
     "start_time": "2025-08-07T16:23:25.233090Z"
    }
   },
   "cell_type": "code",
   "source": "curser_obj.execute(\"INSERT INTO example_table VALUES (2, 'Raul', 'Chong', 'Markham', 'CA'), (3, 'Hima', 'Vasudevan', 'Chicago', 'US');\")",
   "id": "6d3f4ec40a3b58ca",
   "outputs": [
    {
     "data": {
      "text/plain": [
       "<sqlite3.Cursor at 0x2093d3727c0>"
      ]
     },
     "execution_count": 7,
     "metadata": {},
     "output_type": "execute_result"
    }
   ],
   "execution_count": 7
  },
  {
   "metadata": {},
   "cell_type": "markdown",
   "source": "## Task 4: Query data in the table",
   "id": "5ce76e00d7b35d61"
  },
  {
   "metadata": {},
   "cell_type": "markdown",
   "source": "<p>In this step we will retrieve data we inserted into the <code>example_table</code> table.</p>",
   "id": "8502a7ffd2c42450"
  },
  {
   "metadata": {
    "ExecuteTime": {
     "end_time": "2025-08-07T16:23:25.250339Z",
     "start_time": "2025-08-07T16:23:25.247203Z"
    }
   },
   "cell_type": "code",
   "source": [
    "# fetch all row\n",
    "statement = \"SELECT * FROM example_table;\"\n",
    "curser_obj.execute(statement)\n",
    "\n",
    "print(\"All the data was shown below.\")\n",
    "output = curser_obj.fetchall()\n",
    "for row in output:\n",
    "    print(row)"
   ],
   "id": "980565123b893f4c",
   "outputs": [
    {
     "name": "stdout",
     "output_type": "stream",
     "text": [
      "All the data was shown below.\n",
      "(1, 'Rav', 'Ahuja', 'TORONTO', 'CA')\n",
      "(2, 'Raul', 'Chong', 'Markham', 'CA')\n",
      "(3, 'Hima', 'Vasudevan', 'Chicago', 'US')\n"
     ]
    }
   ],
   "execution_count": 8
  },
  {
   "metadata": {
    "ExecuteTime": {
     "end_time": "2025-08-07T16:23:25.271121Z",
     "start_time": "2025-08-07T16:23:25.268267Z"
    }
   },
   "cell_type": "code",
   "source": [
    "# fetch a few rows\n",
    "statement = \"SELECT * FROM example_table;\"\n",
    "curser_obj.execute(statement)\n",
    "\n",
    "print(\"The first 2 rows of the data was shown below.\")\n",
    "output = curser_obj.fetchmany(2)\n",
    "for row in output:\n",
    "    print(row)"
   ],
   "id": "4cd54948fb52425b",
   "outputs": [
    {
     "name": "stdout",
     "output_type": "stream",
     "text": [
      "The first 2 rows of the data was shown below.\n",
      "(1, 'Rav', 'Ahuja', 'TORONTO', 'CA')\n",
      "(2, 'Raul', 'Chong', 'Markham', 'CA')\n"
     ]
    }
   ],
   "execution_count": 9
  },
  {
   "metadata": {
    "ExecuteTime": {
     "end_time": "2025-08-07T16:23:25.287399Z",
     "start_time": "2025-08-07T16:23:25.284210Z"
    }
   },
   "cell_type": "code",
   "source": [
    "# fetch only `FNAME` from the table\n",
    "statement = \"SELECT `FNAME` FROM example_table;\"\n",
    "curser_obj.execute(statement)\n",
    "\n",
    "print(\"'FNAME' data was shown below.\")\n",
    "output = curser_obj.fetchall()\n",
    "for row in output:\n",
    "    print(row)"
   ],
   "id": "644a85ab19a79b5a",
   "outputs": [
    {
     "name": "stdout",
     "output_type": "stream",
     "text": [
      "'FNAME' data was shown below.\n",
      "('Rav',)\n",
      "('Raul',)\n",
      "('Hima',)\n"
     ]
    }
   ],
   "execution_count": 10
  },
  {
   "metadata": {},
   "cell_type": "markdown",
   "source": "<p><strong>Bonus: now write and execute an update statement that changes the Rav's CITY to MOOSETOWN.</strong></p>",
   "id": "210c721ffc60ba27"
  },
  {
   "metadata": {
    "ExecuteTime": {
     "end_time": "2025-08-07T16:23:25.305416Z",
     "start_time": "2025-08-07T16:23:25.302270Z"
    }
   },
   "cell_type": "code",
   "source": [
    "update = \"UPDATE example_table SET `CITY`='MOOSETOWN' WHERE `FNAME`='Rav';\"\n",
    "curser_obj.execute(update)\n",
    "\n",
    "statement = \"SELECT * FROM example_table;\"\n",
    "curser_obj.execute(statement)\n",
    "\n",
    "print(\"All the data was shown below.\")\n",
    "output = curser_obj.fetchall()\n",
    "for row in output:\n",
    "    print(row)"
   ],
   "id": "4c0a89e805344062",
   "outputs": [
    {
     "name": "stdout",
     "output_type": "stream",
     "text": [
      "All the data was shown below.\n",
      "(1, 'Rav', 'Ahuja', 'MOOSETOWN', 'CA')\n",
      "(2, 'Raul', 'Chong', 'Markham', 'CA')\n",
      "(3, 'Hima', 'Vasudevan', 'Chicago', 'US')\n"
     ]
    }
   ],
   "execution_count": 11
  },
  {
   "metadata": {},
   "cell_type": "markdown",
   "source": "## Task 5: Retrieve data into Pandas",
   "id": "22162c228acdcf1e"
  },
  {
   "metadata": {},
   "cell_type": "markdown",
   "source": "<p>In this step we will retrieve the contents of the <code>example_table</code> table into a Pandas dataframe.</p>",
   "id": "2c0f20d785902f0a"
  },
  {
   "metadata": {
    "ExecuteTime": {
     "end_time": "2025-08-07T16:23:25.583852Z",
     "start_time": "2025-08-07T16:23:25.315043Z"
    }
   },
   "cell_type": "code",
   "source": "import pandas as pd",
   "id": "721b0fcf227c5377",
   "outputs": [],
   "execution_count": 12
  },
  {
   "metadata": {
    "ExecuteTime": {
     "end_time": "2025-08-07T16:23:25.598698Z",
     "start_time": "2025-08-07T16:23:25.590526Z"
    }
   },
   "cell_type": "code",
   "source": [
    "df = pd.read_sql_query(\"SELECT * FROM example_table;\", conn)\n",
    "df"
   ],
   "id": "8f6fdfe8317fe128",
   "outputs": [
    {
     "data": {
      "text/plain": [
       "   ID FNAME      LNAME       CITY CCODE\n",
       "0   1   Rav      Ahuja  MOOSETOWN    CA\n",
       "1   2  Raul      Chong    Markham    CA\n",
       "2   3  Hima  Vasudevan    Chicago    US"
      ],
      "text/html": [
       "<div>\n",
       "<style scoped>\n",
       "    .dataframe tbody tr th:only-of-type {\n",
       "        vertical-align: middle;\n",
       "    }\n",
       "\n",
       "    .dataframe tbody tr th {\n",
       "        vertical-align: top;\n",
       "    }\n",
       "\n",
       "    .dataframe thead th {\n",
       "        text-align: right;\n",
       "    }\n",
       "</style>\n",
       "<table border=\"1\" class=\"dataframe\">\n",
       "  <thead>\n",
       "    <tr style=\"text-align: right;\">\n",
       "      <th></th>\n",
       "      <th>ID</th>\n",
       "      <th>FNAME</th>\n",
       "      <th>LNAME</th>\n",
       "      <th>CITY</th>\n",
       "      <th>CCODE</th>\n",
       "    </tr>\n",
       "  </thead>\n",
       "  <tbody>\n",
       "    <tr>\n",
       "      <th>0</th>\n",
       "      <td>1</td>\n",
       "      <td>Rav</td>\n",
       "      <td>Ahuja</td>\n",
       "      <td>MOOSETOWN</td>\n",
       "      <td>CA</td>\n",
       "    </tr>\n",
       "    <tr>\n",
       "      <th>1</th>\n",
       "      <td>2</td>\n",
       "      <td>Raul</td>\n",
       "      <td>Chong</td>\n",
       "      <td>Markham</td>\n",
       "      <td>CA</td>\n",
       "    </tr>\n",
       "    <tr>\n",
       "      <th>2</th>\n",
       "      <td>3</td>\n",
       "      <td>Hima</td>\n",
       "      <td>Vasudevan</td>\n",
       "      <td>Chicago</td>\n",
       "      <td>US</td>\n",
       "    </tr>\n",
       "  </tbody>\n",
       "</table>\n",
       "</div>"
      ]
     },
     "execution_count": 13,
     "metadata": {},
     "output_type": "execute_result"
    }
   ],
   "execution_count": 13
  },
  {
   "metadata": {
    "ExecuteTime": {
     "end_time": "2025-08-07T16:23:25.631600Z",
     "start_time": "2025-08-07T16:23:25.628184Z"
    }
   },
   "cell_type": "code",
   "source": [
    "# print just the LNAME for first row in the pandas data frame\n",
    "df.LNAME[0]"
   ],
   "id": "1c33b810f2e76f6c",
   "outputs": [
    {
     "data": {
      "text/plain": [
       "'Ahuja'"
      ]
     },
     "execution_count": 14,
     "metadata": {},
     "output_type": "execute_result"
    }
   ],
   "execution_count": 14
  },
  {
   "metadata": {},
   "cell_type": "markdown",
   "source": [
    "<p>Once the data is in a Pandas dataframe, you can do the typical pandas operations on it.</p>\n",
    "<p>For example, you can use the shape method to see how many rows and columns are in the dataframe.</p>"
   ],
   "id": "c3f4b63c0fedbe19"
  },
  {
   "metadata": {
    "ExecuteTime": {
     "end_time": "2025-08-07T16:23:25.710403Z",
     "start_time": "2025-08-07T16:23:25.707352Z"
    }
   },
   "cell_type": "code",
   "source": "df.shape",
   "id": "ab5becb9f940b7f2",
   "outputs": [
    {
     "data": {
      "text/plain": [
       "(3, 5)"
      ]
     },
     "execution_count": 15,
     "metadata": {},
     "output_type": "execute_result"
    }
   ],
   "execution_count": 15
  },
  {
   "metadata": {},
   "cell_type": "markdown",
   "source": "## Task 6: Close the Connection",
   "id": "81f816279dd9702b"
  },
  {
   "metadata": {},
   "cell_type": "markdown",
   "source": "<p>We free all resources by closing the connection. Remember that it is always important to close connections so that we can avoid unused connections taking up resources.</p>",
   "id": "56306101ba68527b"
  },
  {
   "metadata": {
    "ExecuteTime": {
     "end_time": "2025-08-07T16:23:25.768256Z",
     "start_time": "2025-08-07T16:23:25.760983Z"
    }
   },
   "cell_type": "code",
   "source": "conn.close()",
   "id": "4e7fc9856a005253",
   "outputs": [],
   "execution_count": 16
  },
  {
   "metadata": {},
   "cell_type": "markdown",
   "source": [
    "****\n",
    "This is the end of the file.\n",
    "****"
   ],
   "id": "5bc857c2f364c46e"
  }
 ],
 "metadata": {
  "kernelspec": {
   "display_name": "Python 3",
   "language": "python",
   "name": "python3"
  },
  "language_info": {
   "codemirror_mode": {
    "name": "ipython",
    "version": 2
   },
   "file_extension": ".py",
   "mimetype": "text/x-python",
   "name": "python",
   "nbconvert_exporter": "python",
   "pygments_lexer": "ipython2",
   "version": "2.7.6"
  }
 },
 "nbformat": 4,
 "nbformat_minor": 5
}
